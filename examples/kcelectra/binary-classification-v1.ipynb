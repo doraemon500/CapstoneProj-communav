{
 "cells": [
  {
   "cell_type": "code",
   "execution_count": 1,
   "metadata": {},
   "outputs": [],
   "source": [
    "# 다른 경로에 있는 모듈을 가져오기 위해 절대 경로 추가\n",
    "\n",
    "import os\n",
    "import sys\n",
    "\n",
    "root = os.path.join(os.path.abspath(os.getcwd()), '..', '..')\n",
    "root = os.path.normpath(root)\n",
    "\n",
    "if root not in sys.path:\n",
    "    sys.path.insert(0, root)"
   ]
  },
  {
   "cell_type": "code",
   "execution_count": 2,
   "metadata": {},
   "outputs": [
    {
     "name": "stderr",
     "output_type": "stream",
     "text": [
      "/home/retn0/repositories/nbsp1221/communav/.venv/lib/python3.10/site-packages/tqdm/auto.py:21: TqdmWarning: IProgress not found. Please update jupyter and ipywidgets. See https://ipywidgets.readthedocs.io/en/stable/user_install.html\n",
      "  from .autonotebook import tqdm as notebook_tqdm\n"
     ]
    }
   ],
   "source": [
    "# 필요한 라이브러리 로드\n",
    "\n",
    "import json\n",
    "import matplotlib.pyplot as plt\n",
    "import torch\n",
    "from sklearn.metrics import accuracy_score, f1_score, precision_score, recall_score\n",
    "from sklearn.model_selection import train_test_split\n",
    "from tqdm import tqdm\n",
    "from transformers import AutoModelForSequenceClassification, AutoTokenizer, get_linear_schedule_with_warmup"
   ]
  },
  {
   "cell_type": "code",
   "execution_count": 3,
   "metadata": {},
   "outputs": [
    {
     "name": "stdout",
     "output_type": "stream",
     "text": [
      "Connected to DB successfully.\n"
     ]
    }
   ],
   "source": [
    "# 커뮤니티 게시글 데이터 로드\n",
    "\n",
    "from communav.utils import db\n",
    "\n",
    "connection = db.get_connection()\n",
    "cursor = connection.cursor()\n",
    "\n",
    "cursor.execute('''\n",
    "    SELECT\n",
    "        articles.id,\n",
    "        articles.title,\n",
    "        articles.text,\n",
    "        labels.category_ids\n",
    "    FROM everytime_articles articles\n",
    "    JOIN everytime_article_labels labels ON articles.id = labels.article_id\n",
    "''')\n",
    "articles = cursor.fetchall()\n",
    "\n",
    "cursor.close()\n",
    "db.close_connection()"
   ]
  },
  {
   "cell_type": "code",
   "execution_count": 4,
   "metadata": {},
   "outputs": [
    {
     "name": "stdout",
     "output_type": "stream",
     "text": [
      "{'id': '100245988', 'title': '장학금 관련해서..', 'text': '성적장학금 + 한울장학금 가능한지 궁금합니다..', 'category_ids': '[1, 3]'}\n",
      "{'id': '100634300', 'title': '배고파 집에가서', 'text': '진짬뽕에 밥 말아먹어야지 히힣', 'category_ids': '[]'}\n",
      "{'id': '100656956', 'title': '부산 + 용인까지 의심 환자 발생', 'text': '평택시는 난리남.\\n부산에서도..\\n근데 이상한건 용인인데.\\n그 분은 중국 갔다온사람 아니라던데?\\n뭐냐 진짜..', 'category_ids': '[]'}\n",
      "{'id': '100682214', 'title': '신종 코로나바이러스(2019-nCoV) 감염증 대처 방법', 'text': \"원문은 의과교수 펨붕이가 펨코에 쓴 것. 지금도 질문받는듯.\\n \\n==========================================\\n최근 우한에서 발생한 신종 코로나바이러스(2019-nCoV) 감염증으로 인해서 많은 우려를 가지고 계실 듯합니다. \\n여러 인터넷 커뮤니티에서 많은 정보들이 돌아다니고, 이로 인해 혼란이 가중되는 모습을 연휴 동안 지켜보았습니다. \\n \\n저는 예방의학전문의로 현재 의과대학에서 교수로 일하고 있습니다. 감염내과 전공은 아니지만, 2015년부터 신종 감염병과 관련된 여러 경험이 있고, 메르스, 지카바이러스 감염증 등 신종감염병 유입 사례에서 정부 내에서 역학조사팀장으로도 일했습니다. 이후 여러 감염병과 관련된 학술적인 작업을 하고 있습니다.\\n \\n개인적으로는 다행히도 재작년에 교직으로 옮기면서 현장 대응과는 거리가 멀어졌지만, 여러분들에게 정확한 정보를 알려드리고, 위험 의사소통(Risk communication)을 적극적으로 수행하는 것이 얼마나 중요한지 잘 알고 있어서 현장에서 고생하시는 분들을 대신해서 소통에 나서게 되었습니다. 현재 이러한 업무를 수행하실 수 있는 능력을 가지신 훌륭한 분들께서는 대부분 현장에서 나가 계셔서 저처럼 자리에 앉아 있으실 수 없을듯 합니다. \\n \\n 1. 신종 코로나 바이러스 감염증에 대해서 궁금하신 것이 있으시면 무엇이든 질문해주세요. 적극적으로 정보를 찾아서 제공해드리겠습니다. 어떠한 질문이든 관계없습니다. : 제가 2군데 사이트에서 모은 질문들을 정리해서 아래에 작성했습니다. 자유롭게 퍼가셔도 됩니다. \\n \\n2. 많은 분들이 질문하시는 것들에 대해서는 FAQ 형태로 정리해서 올려드리겠습니다. : 정리해서 올려드렸고, 추가 답변은 어렵습니다. \\n \\n 3. 현재 나무위키에서 정보에 대한 정리가 진행되고 있습니다. 현황은 나무위키를 보시는 것도 도움이 될 듯합니다. 저와 여러명의 전문의들이 모니터링을 하고 있고, 사실에 부합하지 않는 정보에 대해서는 적극적으로 참여하겠습니다.  \\n \\n4. 많은 공무원과 감염병 전문가가 연휴에서 쉬지않고 일하고 있습니다. 그들에게 응원을 보내주세요. \\n \\n================================================================================\\n \\n \\nFAQ (자주 묻는 질문과 답변)\\n \\n최대한 의학용어를 배제하고 평이하게 기술했습니다. 다른 전문가가 계실 경우 수정해주셔도 좋습니다. \\n \\n1. 신종코로나바이러스 감염증의 주된 감염경로가 무엇인가요?\\n \\n이번 바이러스 감염은 비말감염이 주요한 경로로 알려져있습니다. 일반 감기와 감염경로가 비슷합니다. 바이러스에 감염된 사람의 폐에서 바이러스가 증식하고, 이것이 기도로 나와서 가래나 침이되고, 기침이나 재채기, 콧물 등을 통해서 외부로 나옵니다. \\n \\n이것이 다른 사람의 호흡기나, 점막 등에 묻어서 전파가 이루어집니다. 다른 사람에게 묻는 경로는 직접 침이나 가래가 튀거나, 가래나 침이 튄 물건 등을 다른 사람이 손으로 잡고, 그것이 다시 입이나 코로 들어갈 경우가 대부분입니다. \\n \\n따라서 '마스크 착용', '손씻기'가 가장 중요한 예방방법이됩니다. \\n \\n1-1. 결막, 안구, 눈을 통해서 감염이 된다는데 걱정이 됩니다. \\n \\n 눈으로 직접 침이나 가래가 튀어서 감염된 것으로 의심되는 사례가 있었습니다. 대부분의 호흡기 감염병이 눈의 결막을 통해서도 감염이 이루어질 수 있습니다.(수정) (이번 코로나 바이러스에서 조금 더 심할 수 있다고 합니다. ) 이는 마스크의 착용을 더 강조하는 의미가 있는데, 마스크는 자신을 보호하는 의미도 있지만, 타인을 보호하는 의미도 있습니다. 자신의 기침이나 재채기로 다른사람에게 침, 가래가 튀는 것을 막아줘야합니다. \\n \\n또한 자주 손을 씻어서 손에 묻은 바이러스가 눈으로 들어가는 것을 막아야하며, 가급적 눈을 손으로 비비지 않아야합니다. 이는 모든 감염병에서 동일합니다. \\n \\n 하지만 보안경 착용 등은 권장되지 않는데, 잘 관리하기도 어렵고, 오랫동안 착용하기도 힘들고, 감염 가능성도 일반적인 경로보다 떨어지기 때문에, 불편을 감수할 정도가 되지 못하기 때문입니다. \\n \\n2. 무증상인 상태에서 전파시키는 경우가 있다는데 이것은 어떤 것인가요?\\n \\n 이번 감염병 방역의 대전제는 무증상인 감염자는 다른 사람을 감염시키는 능력이 매우 낮거나, 떨어진다는 것입니다. 즉 잠복기가 지나서 증상이 있는 사람만이 다른 사람을 감염시킬 수 있다는 것인데, 무증상인 상태에서 다른 사람을 감염시키는 감염인이 있는 경우 방역이 더 어려워지기 때문에, 많은 우려와 경고가 있습니다. 그러나 현재까지 무증상 상태에서 감염이 이루어진다는 근거는 매우 미약하며, 의학적으로도 설득력이 떨어집니다. 다른 사람을 감염시킬 정도로 체내에서 바이러스가 증식되는 경우는 필연적으로 발열이 있거나, 다른 증상이 생길 것이기 때문입니다. 현재 알려진 사례의 대부분은 증상이 매우 경미하여서 본인이 인지하지 못한 경우일 것으로 판단됩니다. 그럼에도 불구하고 미열 등은 본인이 인지하기 어렵기 떄문에, 체온 측정 등이 중요합니다. \\n \\n3. 우리는 당장 무엇을 할 수 있을까요?\\n \\n마스크 착용과 자주 손씻기, 사람이 많은 곳은 피하기 이것이 전부입니다. 이 이상의 방법도 없고, 마스크착용과 손씻기 만으로도 대부분의 호흡기 감염병은 막을 수 있습니다. \\n \\n3-1. 카페 등에서 접객을 하고 있습니다. 어떻게 해야할 까요?\\n \\n우리나라 풍토에서는 카페 등에서 접객을 하실 경우 마스크 착용이 어렵습니다. 최대한 카운터와 손님사이의 거리를 멀게 하시고, 자주 손을 씻으세요. 손님도 주문하실때 기침예절, 마스크 착용등을 해주시면 정말 감사하겠습니다. \\n \\n4. 손씻기와 마스크 쓰기 얼마나 중요한가요?\\n \\n너무나 중요합니다. 두가지만 잘지키셔도 이번 상황은 거의 걱정하지 않으셔도 됩니다.\\n \\n4.1 마스크는 무엇을 써야하나요?\\n \\n어떠한 종류의 마스크도 도움이 됩니다. N95 등의 의료용 마스크는 올바른 착용도 어렵고, 내구성도 떨어져서 KF94 정도의 마스크면 충분합니다. 또한 마스크는 소모품입니다. 빨아서 사용하시면 안되고, 최소한 3일 사이에는 교체해주세요. 교체 주기는 명확하지 않습니다만 자주 갈아주실 수록 좋습니다. \\n \\n마스크는 코와 입이 완전히 가려지셔야합니다. 천마스크, 황사용마스크 등도 어느정도 효과가 있습니다. 무엇이든지 착용하세요. \\n \\n4.2 손씻기는 어떻게 해야하나요?\\n \\n반드시 손세정제를 사용할 필요는 없습니다. 밖을 다녀오실 경우 손을 씻으시고, 비누를 이용해서 구석구석 씻어주세요. 가급적 건조기를 사용하시고, 1회용 핸드타월을 사용하세요. 손은 자주 씻으실 수록 좋습니다. \\n \\n4.3 손 세정제는 어떤것을 사용하나요?\\n \\n손 세정제는 메이커보다 유효기간이 중요합니다. 새로 구입한 것을 사용하세요.\\n \\n4.4 가정내 소독제로는 무엇을 사용하나요?\\n \\n가정용 락스를 1:10정도로 희석한 것을 사용하셔도 됩니다. 비싼 전문 소독제나, 에탄올등은 쓰셔도 무방하지만 큰 차이가 있지 않습니다. \\n \\n5. 해외여행 다녀와도 되나요?\\n \\n현재까지 상황으로 중국을 제외한 다른 국가에서 지역사회 유행이 발생했다는 근거는 없습니다. 개인 위생에 주의하셔서 다녀오셔도 됩니다만, 몇개월뒤 일까지 예측하기는 어렵습니다. \\n \\n6. 감기에 걸리면 코로나 바이러스에 대한 면역도 생기는 것인가요?\\n \\n 아닙니다. 새로운 종류의 바이러스이기 떄문에 문제가 되는 것이고, 주의하셔야하는 것입니다.\\n \\n7. 인플루엔자 등 백신 접종해도 되나요?\\n \\n 인플루엔자 백신은 인플루엔자로 인한 오인을 줄여주는 효과도 있으며, 현재까지 우리나라는 신종코로나바이러스 감염보다 인플루엔자감염이 더욱 무섭습니다. 모든 백신은 걱정없이 진행하시면 됩니다. \\n \\n8. 전세기로 들어오는 교민들이 걱정됩니다.\\n \\n 교민들은 증상이 없는 분만 탑승하신다고 하며, 도착 후 지정 장소에 격리되셔서 검사를 진행하신다고 합니다. 물론 확진자가 발생할 수 있지만 잘 관리될 경우 위험은 매우 낮을 것으로 생각됩니다. \\n \\n9. 직장, 집에서 일하는 중국인이 걱정됩니다.\\n \\n 1월 20일 이전 중국을 다녀오시지않은 중국분들은 우리나라 국민과 동일한 위험을 가집니다. 전혀 걱정하지 않으셔도됩니다.  \\n \\n10. 우한 폐렴을 우한폐렴이라고 왜 말하지 못하고 신종 코로나바이러스 감염증이라고 하나요?\\n \\n학술적으로 특정 지역명을 칭하는 병명은 지양하는 추세입니다. 바이러스 명도 지금은 신종 코로나라고 부르지만 사태가 종결된 후에는 다른 명칭이 부여될 것입니다. \\n \\n11. 치료가 되어도 폐손상이 일어난다는데 정말인가요?\\n \\n어떠한 종류의 폐렴도 후유증이 생길 수 있습니다. 현재 신종코로나바이러스로 인한 폐렴도 폐손상이 일어난다는 보고가 있지만, 다른 폐렴에 비해서 더 발생률이 높다는 근거는 없습니다. \\n \\n12. 언제쯤 이사태가 진정될까요?\\n \\n예상이 매우 어렵고 중국 정부의 대응에 모든 것이 달려있습니다. 전해오는 정보로는 중국이 매우 강력한 국내 조치를 취하고 있는 것으로 알고 있습니다. 이것이 효과가 있을 경우 3~4달 후에는 사태가 진정될 수 있을 것으로 예상됩니다만, 매우 예상이 어렵습니다. \\n \\n13. 사망률, 치명률, 회복률 등등은 어떻게 되나요?\\n \\n이러한 정보는 이번 유행이 모두 끝나야지만 정확하게 알 수 있습니다. 현재까지 나오는 정보는 부정확합니다. 그러나 제한적인 근거로 치명률은 메르스나 사스보다는 낮을 것으로 예상되며, 기초감염재생산수(감염력)은 메르스나 사스보다 높은 것으로 예상됩니다. \\n \\n14. 현재 영국 등에서 감염자가 수십만에 이를것이라는 말이 나오는데 사실인가요?\\n \\n사실일 수도 있고, 아닐 수도 있습니다. 외국의 학자들이 추산한 수치는 수학적인 방법을 통해서 예측한 수로 최소값과 최대값이 신뢰구간으로 제시되어있습니다. 여기에서 가장 높은 값으로 예상되는 것이 수십만으로 판단됩니다. 하지만 이러한 예상도 벌써 1주일정도 지나간 상황이기 때문에 정확한 감염자를 추산하는 것은 거의 불가능합니다. 또한 확진자는 검사결과가 나와야하는데, 중국의 검사실이 이러한 검사를 수행하기에 힘이 부칠 수 있습니다. \\n \\n15. 백신과 치료제 개발은 언제 가능한가요?\\n \\n코로나 바이러스의 백신과 치료제 개발은 매우 어려운 것으로 알려져있습니다. 수개월 내 백신과 치료제가 생산될 가능성은 낮습니다. \\n \\n16. 우리나라에 대규모 유행을 할 가능성이 있나요?\\n \\n이 또한 예측이 어렵습니다. 우리나라가 중국과의 교류가 매우 활발한 이상 확진자의 유입은 계속될것이며, 지역사회의 감염을 일으키기 전에 찾아내고, 방역하는 도전이 계속 될 것입니다. 다행히 우리나라의 방역수준은 메르스 유행 이후로 매우 수준이 높습니다. 모든 당국자가 최선을 다하고 있습니다. 국민들도 중국여행력이 있는 경우 적극적으로 문진에 임하고, 증상을 보고하고, 해외여행력이 없더라도 마스크착용, 손씻기를 도와주셔야합니다.  앞으로 1달이 큰 고비가 될 것입니다. \\n \\n17. 젊은 사람이 더 위험한가요? 나이든 사람이 더 위험한가요?\\n \\n일반적으로 동반질환이 있으신 어르신이 위험하다고 보고되고 있습니다.\\n \\n18. 왜 강제 조사나 입국 거부 같은 적극적인 조치를 취하는 것이 어렵나요? \\n감염병 대응에 과도한 공포나 혐오 정서가 포함되는 것은 위험합니다. 이는 유증상자가 자신의 증상을 숨기거나, 과거 방문력에 대해 거짓을 말하는 동기로 작용하고, 이것이 정말 위험합니다. 현재 확진자들에 대해서도 많은 비판이 가해지고 있고, 처벌하자는 이야기가 나옵니다. 법적인 것은 둘쨰치고, 실제 처벌하거나 징벌적 손해 배상을 시행할 경우, 누가 나서서 검사를 받으려고 하겠습니까? 감염병 통제는 정보공개와 환자에 대한 보호가 동시에 수행되어야합니다.\\n \\n19. 신생아, 영유아들은 어떻게 해야하나요?\\n \\n저도 두아이를 키우는 사람으로 아이들에 대한 걱정이 많습니다. 신생아나 영유아들은 기본적으로 외부에 노출되는 기회가 적습니다. 그러나 어린이집 같은 보육시설을 가는 경우 더 불안하시리라 생각됩니다. 아직까지 국내에 지역사회 전파사례가 없어서 보육시설은 이번 신종코로나바이러스 감염에 있어 추가적인 위험이 되지 않습니다. 그러나 보육시설은 매우 감염병에 취약합니다. 만약 자신의 아이가 발열 또는 호흡기 증상이 있다면 당연히 보육시설은 보내시면 안됩니다. 그러나 맞벌이 부모인 경우 이것 또한 매우 어려운 일임도 부정할 수 없습니다. 심한 콧물, 기침과 발열이 있는 경우는 일단 소아과 진료롤 보시고, 전문의 진단에 따르시는게 좋습니다. \\n------------------------------------------------------------------------------------------------------------------------------------------\\n \\n확산 최신 정보 업데이트 : 확산 예측에 대한 최신 연구결과를 정리합니다.\\n \\n1. 미국 - 존스홉킨스대 Lauren Gardner\\n중국내 환자 발생이 중국 당국 발표보다 훨씬 높을 수 있다는 모델링 결과를 발표했습니다. 현재 비슷한 연구 결과들이 쏟아지고 있습니다. \\n상당히 높은 확률로 현재 중국의 환자수 발표는 과소추정된듯합니다. \\n \\n우리나라의 인천공항과 제주 공항이 매우 높은 위험을 가지는 것으로 평가되었습니다. 앞으로 수주 ~ 수개월 동안은 집중적인 노력이 필요할듯합니다. \\nhttps://systems.jhu.edu/research/public-health/ncov-model/?fbclid=IwAR0cdoeNuwVEkzzdZ7c8bRqLVTQDQwNv4lIbqKn8KYcQrzDoM9677882JKw\\n======================================\", 'category_ids': '[4, 8]'}\n",
      "{'id': '100685007', 'title': '유캠', 'text': '완전히 리뉴얼된다네 앱도 생기고', 'category_ids': '[2]'}\n",
      "{'id': '100708598', 'title': '선형대수랑 벡터해석학', 'text': '이 수업들 어디갔냐 대체?\\n공학인증해야되서 들늘려하니까 7000으로 개설되어 있는게 하나도 없네 ㅡㅡ', 'category_ids': '[1, 5]'}\n",
      "{'id': '100824849', 'title': '누가 공기업 준비 어렵나길래', 'text': '공기업은 티어별로 차이가 많이나니 참고하시길', 'category_ids': '[11]'}\n",
      "{'id': '100965689', 'title': '육군 복무기간 18개월에', 'text': '후반기교육기간도 포함되나여', 'category_ids': '[1, 8]'}\n",
      "{'id': '101260680', 'title': '연구실 안전교육', 'text': '이거 이수 안하면 불이익 있나요? ㅠㅠ', 'category_ids': '[1, 3, 4]'}\n",
      "{'id': '101765697', 'title': 'ㅈㅇㅈ 교수님 반도체공정2', 'text': '반도체공정2를 듣고 싶은데 꼭 1을 수강하고 들어야하나요?', 'category_ids': '[1, 5]'}\n",
      "{'id': '101770403', 'title': '혹시 양재역 근처 사시는 분 ?', 'text': '중고나라에서 구매하고 싶은 노트북이 있는데 \\n그 사람이랑 좀 껄끄러운 관계라서요... \\n내일 7시 30분에 근처 사시면 양재역에서 물건만 받아주실 분 계실까요? 따뜻한 커피 한 잔 사드릴게요!:)', 'category_ids': '[8]'}\n",
      "{'id': '101777990', 'title': '학자금 대출 받은분 있으신가요?', 'text': '생활비 대출 받으려하는데 계속 심사중이네요.  받은분 있으시면  전화로 문의해보려합니다.', 'category_ids': '[1, 3]'}\n",
      "{'id': '101916140', 'title': '전기공 경력개발', 'text': '잡기힘듬?', 'category_ids': '[1, 2]'}\n",
      "{'id': '101923275', 'title': '구) 한울장학금', 'text': '유캠 개편전에 작성했는데\\n따로 다시 해야 하나요?', 'category_ids': '[1, 3]'}\n",
      "{'id': '102384949', 'title': '광운전자 인식', 'text': '국민대 자동차친구한테 물어보니 국민대생들한테 광운전자 인식이 엄청 좋다더라 취직잘되고 공대파워가 센? 몰랏네', 'category_ids': '[11]'}\n",
      "{'id': '102444535', 'title': '자대 대학원가기쉬움??', 'text': '본인 대학원은 어때??가기쉬울려나 학점 4.0정도면되나', 'category_ids': '[1, 100]'}\n",
      "{'id': '102457977', 'title': '위험물 산업기사 따신분이나 공부중이신분', 'text': '있으신가요?? 질문이 있는뎁...', 'category_ids': '[1, 11]'}\n",
      "{'id': '102550750', 'title': '자퇴하면', 'text': '토익장학금 뱉어야되냐', 'category_ids': '[1, 3]'}\n",
      "{'id': '102838273', 'title': '김상목 교수님 선형대수학', 'text': '타과생이 들어도 괜찮나요?', 'category_ids': '[1, 5]'}\n",
      "{'id': '103219160', 'title': '내일 군대가는 팡팡이', 'text': '있나요', 'category_ids': '[8]'}\n"
     ]
    }
   ],
   "source": [
    "# 가져온 데이터의 일부를 출력\n",
    "\n",
    "for article in articles[:20]:\n",
    "    print(article)"
   ]
  },
  {
   "cell_type": "code",
   "execution_count": 5,
   "metadata": {},
   "outputs": [],
   "source": [
    "# 이진 분류 문제를 위한 데이터 전처리\n",
    "\n",
    "preprocessed_articles = []\n",
    "\n",
    "for article in articles:\n",
    "    title = article['title']\n",
    "    text = article['text']\n",
    "    content = (title + ' ' + text).replace('\\n', ' ').strip()\n",
    "    label = 1 if 5 in json.loads(article['category_ids']) else 0\n",
    "\n",
    "    preprocessed_articles.append({\n",
    "        'content': content,\n",
    "        'label': label\n",
    "    })"
   ]
  },
  {
   "cell_type": "code",
   "execution_count": 6,
   "metadata": {},
   "outputs": [
    {
     "name": "stdout",
     "output_type": "stream",
     "text": [
      "{'content': '장학금 관련해서.. 성적장학금 + 한울장학금 가능한지 궁금합니다..', 'label': 0}\n",
      "{'content': '배고파 집에가서 진짬뽕에 밥 말아먹어야지 히힣', 'label': 0}\n",
      "{'content': '부산 + 용인까지 의심 환자 발생 평택시는 난리남. 부산에서도.. 근데 이상한건 용인인데. 그 분은 중국 갔다온사람 아니라던데? 뭐냐 진짜..', 'label': 0}\n",
      "{'content': \"신종 코로나바이러스(2019-nCoV) 감염증 대처 방법 원문은 의과교수 펨붕이가 펨코에 쓴 것. 지금도 질문받는듯.   ========================================== 최근 우한에서 발생한 신종 코로나바이러스(2019-nCoV) 감염증으로 인해서 많은 우려를 가지고 계실 듯합니다.  여러 인터넷 커뮤니티에서 많은 정보들이 돌아다니고, 이로 인해 혼란이 가중되는 모습을 연휴 동안 지켜보았습니다.    저는 예방의학전문의로 현재 의과대학에서 교수로 일하고 있습니다. 감염내과 전공은 아니지만, 2015년부터 신종 감염병과 관련된 여러 경험이 있고, 메르스, 지카바이러스 감염증 등 신종감염병 유입 사례에서 정부 내에서 역학조사팀장으로도 일했습니다. 이후 여러 감염병과 관련된 학술적인 작업을 하고 있습니다.   개인적으로는 다행히도 재작년에 교직으로 옮기면서 현장 대응과는 거리가 멀어졌지만, 여러분들에게 정확한 정보를 알려드리고, 위험 의사소통(Risk communication)을 적극적으로 수행하는 것이 얼마나 중요한지 잘 알고 있어서 현장에서 고생하시는 분들을 대신해서 소통에 나서게 되었습니다. 현재 이러한 업무를 수행하실 수 있는 능력을 가지신 훌륭한 분들께서는 대부분 현장에서 나가 계셔서 저처럼 자리에 앉아 있으실 수 없을듯 합니다.     1. 신종 코로나 바이러스 감염증에 대해서 궁금하신 것이 있으시면 무엇이든 질문해주세요. 적극적으로 정보를 찾아서 제공해드리겠습니다. 어떠한 질문이든 관계없습니다. : 제가 2군데 사이트에서 모은 질문들을 정리해서 아래에 작성했습니다. 자유롭게 퍼가셔도 됩니다.    2. 많은 분들이 질문하시는 것들에 대해서는 FAQ 형태로 정리해서 올려드리겠습니다. : 정리해서 올려드렸고, 추가 답변은 어렵습니다.     3. 현재 나무위키에서 정보에 대한 정리가 진행되고 있습니다. 현황은 나무위키를 보시는 것도 도움이 될 듯합니다. 저와 여러명의 전문의들이 모니터링을 하고 있고, 사실에 부합하지 않는 정보에 대해서는 적극적으로 참여하겠습니다.     4. 많은 공무원과 감염병 전문가가 연휴에서 쉬지않고 일하고 있습니다. 그들에게 응원을 보내주세요.    ================================================================================     FAQ (자주 묻는 질문과 답변)   최대한 의학용어를 배제하고 평이하게 기술했습니다. 다른 전문가가 계실 경우 수정해주셔도 좋습니다.    1. 신종코로나바이러스 감염증의 주된 감염경로가 무엇인가요?   이번 바이러스 감염은 비말감염이 주요한 경로로 알려져있습니다. 일반 감기와 감염경로가 비슷합니다. 바이러스에 감염된 사람의 폐에서 바이러스가 증식하고, 이것이 기도로 나와서 가래나 침이되고, 기침이나 재채기, 콧물 등을 통해서 외부로 나옵니다.    이것이 다른 사람의 호흡기나, 점막 등에 묻어서 전파가 이루어집니다. 다른 사람에게 묻는 경로는 직접 침이나 가래가 튀거나, 가래나 침이 튄 물건 등을 다른 사람이 손으로 잡고, 그것이 다시 입이나 코로 들어갈 경우가 대부분입니다.    따라서 '마스크 착용', '손씻기'가 가장 중요한 예방방법이됩니다.    1-1. 결막, 안구, 눈을 통해서 감염이 된다는데 걱정이 됩니다.     눈으로 직접 침이나 가래가 튀어서 감염된 것으로 의심되는 사례가 있었습니다. 대부분의 호흡기 감염병이 눈의 결막을 통해서도 감염이 이루어질 수 있습니다.(수정) (이번 코로나 바이러스에서 조금 더 심할 수 있다고 합니다. ) 이는 마스크의 착용을 더 강조하는 의미가 있는데, 마스크는 자신을 보호하는 의미도 있지만, 타인을 보호하는 의미도 있습니다. 자신의 기침이나 재채기로 다른사람에게 침, 가래가 튀는 것을 막아줘야합니다.    또한 자주 손을 씻어서 손에 묻은 바이러스가 눈으로 들어가는 것을 막아야하며, 가급적 눈을 손으로 비비지 않아야합니다. 이는 모든 감염병에서 동일합니다.     하지만 보안경 착용 등은 권장되지 않는데, 잘 관리하기도 어렵고, 오랫동안 착용하기도 힘들고, 감염 가능성도 일반적인 경로보다 떨어지기 때문에, 불편을 감수할 정도가 되지 못하기 때문입니다.    2. 무증상인 상태에서 전파시키는 경우가 있다는데 이것은 어떤 것인가요?    이번 감염병 방역의 대전제는 무증상인 감염자는 다른 사람을 감염시키는 능력이 매우 낮거나, 떨어진다는 것입니다. 즉 잠복기가 지나서 증상이 있는 사람만이 다른 사람을 감염시킬 수 있다는 것인데, 무증상인 상태에서 다른 사람을 감염시키는 감염인이 있는 경우 방역이 더 어려워지기 때문에, 많은 우려와 경고가 있습니다. 그러나 현재까지 무증상 상태에서 감염이 이루어진다는 근거는 매우 미약하며, 의학적으로도 설득력이 떨어집니다. 다른 사람을 감염시킬 정도로 체내에서 바이러스가 증식되는 경우는 필연적으로 발열이 있거나, 다른 증상이 생길 것이기 때문입니다. 현재 알려진 사례의 대부분은 증상이 매우 경미하여서 본인이 인지하지 못한 경우일 것으로 판단됩니다. 그럼에도 불구하고 미열 등은 본인이 인지하기 어렵기 떄문에, 체온 측정 등이 중요합니다.    3. 우리는 당장 무엇을 할 수 있을까요?   마스크 착용과 자주 손씻기, 사람이 많은 곳은 피하기 이것이 전부입니다. 이 이상의 방법도 없고, 마스크착용과 손씻기 만으로도 대부분의 호흡기 감염병은 막을 수 있습니다.    3-1. 카페 등에서 접객을 하고 있습니다. 어떻게 해야할 까요?   우리나라 풍토에서는 카페 등에서 접객을 하실 경우 마스크 착용이 어렵습니다. 최대한 카운터와 손님사이의 거리를 멀게 하시고, 자주 손을 씻으세요. 손님도 주문하실때 기침예절, 마스크 착용등을 해주시면 정말 감사하겠습니다.    4. 손씻기와 마스크 쓰기 얼마나 중요한가요?   너무나 중요합니다. 두가지만 잘지키셔도 이번 상황은 거의 걱정하지 않으셔도 됩니다.   4.1 마스크는 무엇을 써야하나요?   어떠한 종류의 마스크도 도움이 됩니다. N95 등의 의료용 마스크는 올바른 착용도 어렵고, 내구성도 떨어져서 KF94 정도의 마스크면 충분합니다. 또한 마스크는 소모품입니다. 빨아서 사용하시면 안되고, 최소한 3일 사이에는 교체해주세요. 교체 주기는 명확하지 않습니다만 자주 갈아주실 수록 좋습니다.    마스크는 코와 입이 완전히 가려지셔야합니다. 천마스크, 황사용마스크 등도 어느정도 효과가 있습니다. 무엇이든지 착용하세요.    4.2 손씻기는 어떻게 해야하나요?   반드시 손세정제를 사용할 필요는 없습니다. 밖을 다녀오실 경우 손을 씻으시고, 비누를 이용해서 구석구석 씻어주세요. 가급적 건조기를 사용하시고, 1회용 핸드타월을 사용하세요. 손은 자주 씻으실 수록 좋습니다.    4.3 손 세정제는 어떤것을 사용하나요?   손 세정제는 메이커보다 유효기간이 중요합니다. 새로 구입한 것을 사용하세요.   4.4 가정내 소독제로는 무엇을 사용하나요?   가정용 락스를 1:10정도로 희석한 것을 사용하셔도 됩니다. 비싼 전문 소독제나, 에탄올등은 쓰셔도 무방하지만 큰 차이가 있지 않습니다.    5. 해외여행 다녀와도 되나요?   현재까지 상황으로 중국을 제외한 다른 국가에서 지역사회 유행이 발생했다는 근거는 없습니다. 개인 위생에 주의하셔서 다녀오셔도 됩니다만, 몇개월뒤 일까지 예측하기는 어렵습니다.    6. 감기에 걸리면 코로나 바이러스에 대한 면역도 생기는 것인가요?    아닙니다. 새로운 종류의 바이러스이기 떄문에 문제가 되는 것이고, 주의하셔야하는 것입니다.   7. 인플루엔자 등 백신 접종해도 되나요?    인플루엔자 백신은 인플루엔자로 인한 오인을 줄여주는 효과도 있으며, 현재까지 우리나라는 신종코로나바이러스 감염보다 인플루엔자감염이 더욱 무섭습니다. 모든 백신은 걱정없이 진행하시면 됩니다.    8. 전세기로 들어오는 교민들이 걱정됩니다.    교민들은 증상이 없는 분만 탑승하신다고 하며, 도착 후 지정 장소에 격리되셔서 검사를 진행하신다고 합니다. 물론 확진자가 발생할 수 있지만 잘 관리될 경우 위험은 매우 낮을 것으로 생각됩니다.    9. 직장, 집에서 일하는 중국인이 걱정됩니다.    1월 20일 이전 중국을 다녀오시지않은 중국분들은 우리나라 국민과 동일한 위험을 가집니다. 전혀 걱정하지 않으셔도됩니다.     10. 우한 폐렴을 우한폐렴이라고 왜 말하지 못하고 신종 코로나바이러스 감염증이라고 하나요?   학술적으로 특정 지역명을 칭하는 병명은 지양하는 추세입니다. 바이러스 명도 지금은 신종 코로나라고 부르지만 사태가 종결된 후에는 다른 명칭이 부여될 것입니다.    11. 치료가 되어도 폐손상이 일어난다는데 정말인가요?   어떠한 종류의 폐렴도 후유증이 생길 수 있습니다. 현재 신종코로나바이러스로 인한 폐렴도 폐손상이 일어난다는 보고가 있지만, 다른 폐렴에 비해서 더 발생률이 높다는 근거는 없습니다.    12. 언제쯤 이사태가 진정될까요?   예상이 매우 어렵고 중국 정부의 대응에 모든 것이 달려있습니다. 전해오는 정보로는 중국이 매우 강력한 국내 조치를 취하고 있는 것으로 알고 있습니다. 이것이 효과가 있을 경우 3~4달 후에는 사태가 진정될 수 있을 것으로 예상됩니다만, 매우 예상이 어렵습니다.    13. 사망률, 치명률, 회복률 등등은 어떻게 되나요?   이러한 정보는 이번 유행이 모두 끝나야지만 정확하게 알 수 있습니다. 현재까지 나오는 정보는 부정확합니다. 그러나 제한적인 근거로 치명률은 메르스나 사스보다는 낮을 것으로 예상되며, 기초감염재생산수(감염력)은 메르스나 사스보다 높은 것으로 예상됩니다.    14. 현재 영국 등에서 감염자가 수십만에 이를것이라는 말이 나오는데 사실인가요?   사실일 수도 있고, 아닐 수도 있습니다. 외국의 학자들이 추산한 수치는 수학적인 방법을 통해서 예측한 수로 최소값과 최대값이 신뢰구간으로 제시되어있습니다. 여기에서 가장 높은 값으로 예상되는 것이 수십만으로 판단됩니다. 하지만 이러한 예상도 벌써 1주일정도 지나간 상황이기 때문에 정확한 감염자를 추산하는 것은 거의 불가능합니다. 또한 확진자는 검사결과가 나와야하는데, 중국의 검사실이 이러한 검사를 수행하기에 힘이 부칠 수 있습니다.    15. 백신과 치료제 개발은 언제 가능한가요?   코로나 바이러스의 백신과 치료제 개발은 매우 어려운 것으로 알려져있습니다. 수개월 내 백신과 치료제가 생산될 가능성은 낮습니다.    16. 우리나라에 대규모 유행을 할 가능성이 있나요?   이 또한 예측이 어렵습니다. 우리나라가 중국과의 교류가 매우 활발한 이상 확진자의 유입은 계속될것이며, 지역사회의 감염을 일으키기 전에 찾아내고, 방역하는 도전이 계속 될 것입니다. 다행히 우리나라의 방역수준은 메르스 유행 이후로 매우 수준이 높습니다. 모든 당국자가 최선을 다하고 있습니다. 국민들도 중국여행력이 있는 경우 적극적으로 문진에 임하고, 증상을 보고하고, 해외여행력이 없더라도 마스크착용, 손씻기를 도와주셔야합니다.  앞으로 1달이 큰 고비가 될 것입니다.    17. 젊은 사람이 더 위험한가요? 나이든 사람이 더 위험한가요?   일반적으로 동반질환이 있으신 어르신이 위험하다고 보고되고 있습니다.   18. 왜 강제 조사나 입국 거부 같은 적극적인 조치를 취하는 것이 어렵나요?  감염병 대응에 과도한 공포나 혐오 정서가 포함되는 것은 위험합니다. 이는 유증상자가 자신의 증상을 숨기거나, 과거 방문력에 대해 거짓을 말하는 동기로 작용하고, 이것이 정말 위험합니다. 현재 확진자들에 대해서도 많은 비판이 가해지고 있고, 처벌하자는 이야기가 나옵니다. 법적인 것은 둘쨰치고, 실제 처벌하거나 징벌적 손해 배상을 시행할 경우, 누가 나서서 검사를 받으려고 하겠습니까? 감염병 통제는 정보공개와 환자에 대한 보호가 동시에 수행되어야합니다.   19. 신생아, 영유아들은 어떻게 해야하나요?   저도 두아이를 키우는 사람으로 아이들에 대한 걱정이 많습니다. 신생아나 영유아들은 기본적으로 외부에 노출되는 기회가 적습니다. 그러나 어린이집 같은 보육시설을 가는 경우 더 불안하시리라 생각됩니다. 아직까지 국내에 지역사회 전파사례가 없어서 보육시설은 이번 신종코로나바이러스 감염에 있어 추가적인 위험이 되지 않습니다. 그러나 보육시설은 매우 감염병에 취약합니다. 만약 자신의 아이가 발열 또는 호흡기 증상이 있다면 당연히 보육시설은 보내시면 안됩니다. 그러나 맞벌이 부모인 경우 이것 또한 매우 어려운 일임도 부정할 수 없습니다. 심한 콧물, 기침과 발열이 있는 경우는 일단 소아과 진료롤 보시고, 전문의 진단에 따르시는게 좋습니다.  ------------------------------------------------------------------------------------------------------------------------------------------   확산 최신 정보 업데이트 : 확산 예측에 대한 최신 연구결과를 정리합니다.   1. 미국 - 존스홉킨스대 Lauren Gardner 중국내 환자 발생이 중국 당국 발표보다 훨씬 높을 수 있다는 모델링 결과를 발표했습니다. 현재 비슷한 연구 결과들이 쏟아지고 있습니다.  상당히 높은 확률로 현재 중국의 환자수 발표는 과소추정된듯합니다.    우리나라의 인천공항과 제주 공항이 매우 높은 위험을 가지는 것으로 평가되었습니다. 앞으로 수주 ~ 수개월 동안은 집중적인 노력이 필요할듯합니다.  https://systems.jhu.edu/research/public-health/ncov-model/?fbclid=IwAR0cdoeNuwVEkzzdZ7c8bRqLVTQDQwNv4lIbqKn8KYcQrzDoM9677882JKw ======================================\", 'label': 0}\n",
      "{'content': '유캠 완전히 리뉴얼된다네 앱도 생기고', 'label': 0}\n",
      "{'content': '선형대수랑 벡터해석학 이 수업들 어디갔냐 대체? 공학인증해야되서 들늘려하니까 7000으로 개설되어 있는게 하나도 없네 ㅡㅡ', 'label': 1}\n",
      "{'content': '누가 공기업 준비 어렵나길래 공기업은 티어별로 차이가 많이나니 참고하시길', 'label': 0}\n",
      "{'content': '육군 복무기간 18개월에 후반기교육기간도 포함되나여', 'label': 0}\n",
      "{'content': '연구실 안전교육 이거 이수 안하면 불이익 있나요? ㅠㅠ', 'label': 0}\n",
      "{'content': 'ㅈㅇㅈ 교수님 반도체공정2 반도체공정2를 듣고 싶은데 꼭 1을 수강하고 들어야하나요?', 'label': 1}\n",
      "{'content': '혹시 양재역 근처 사시는 분 ? 중고나라에서 구매하고 싶은 노트북이 있는데  그 사람이랑 좀 껄끄러운 관계라서요...  내일 7시 30분에 근처 사시면 양재역에서 물건만 받아주실 분 계실까요? 따뜻한 커피 한 잔 사드릴게요!:)', 'label': 0}\n",
      "{'content': '학자금 대출 받은분 있으신가요? 생활비 대출 받으려하는데 계속 심사중이네요.  받은분 있으시면  전화로 문의해보려합니다.', 'label': 0}\n",
      "{'content': '전기공 경력개발 잡기힘듬?', 'label': 0}\n",
      "{'content': '구) 한울장학금 유캠 개편전에 작성했는데 따로 다시 해야 하나요?', 'label': 0}\n",
      "{'content': '광운전자 인식 국민대 자동차친구한테 물어보니 국민대생들한테 광운전자 인식이 엄청 좋다더라 취직잘되고 공대파워가 센? 몰랏네', 'label': 0}\n",
      "{'content': '자대 대학원가기쉬움?? 본인 대학원은 어때??가기쉬울려나 학점 4.0정도면되나', 'label': 0}\n",
      "{'content': '위험물 산업기사 따신분이나 공부중이신분 있으신가요?? 질문이 있는뎁...', 'label': 0}\n",
      "{'content': '자퇴하면 토익장학금 뱉어야되냐', 'label': 0}\n",
      "{'content': '김상목 교수님 선형대수학 타과생이 들어도 괜찮나요?', 'label': 1}\n",
      "{'content': '내일 군대가는 팡팡이 있나요', 'label': 0}\n"
     ]
    }
   ],
   "source": [
    "# 전처리된 데이터의 일부를 출력\n",
    "\n",
    "for article in preprocessed_articles[:20]:\n",
    "    print(article)"
   ]
  },
  {
   "cell_type": "code",
   "execution_count": 7,
   "metadata": {},
   "outputs": [],
   "source": [
    "# 데이터 분포 확인 함수 정의\n",
    "\n",
    "def plot_distribution(articles):\n",
    "    label_counts = [0, 0]\n",
    "    for article in articles:\n",
    "        label_counts[article['label']] += 1\n",
    "\n",
    "    total_count = sum(label_counts)\n",
    "    percentages = [count / total_count * 100 for count in label_counts]\n",
    "    for i, percentage in enumerate(percentages):\n",
    "        print(f'Label {i}: {percentage:.2f}%')\n",
    "\n",
    "    plt.figure(figsize=(8, 6))\n",
    "    plt.bar(['0', '1'], label_counts)\n",
    "    plt.text(0, label_counts[0] + 0.1, str(label_counts[0]), ha='center')\n",
    "    plt.text(1, label_counts[1] + 0.1, str(label_counts[1]), ha='center')\n",
    "    plt.xlabel('Label')\n",
    "    plt.ylabel('Count')\n",
    "    plt.title('Distribution of Labels')\n",
    "    plt.show()"
   ]
  },
  {
   "cell_type": "code",
   "execution_count": 8,
   "metadata": {},
   "outputs": [
    {
     "name": "stdout",
     "output_type": "stream",
     "text": [
      "Label 0: 79.77%\n",
      "Label 1: 20.23%\n"
     ]
    },
    {
     "data": {
      "image/png": "[encoded data removed]",
      "text/plain": [
       "<Figure size 800x600 with 1 Axes>"
      ]
     },
     "metadata": {},
     "output_type": "display_data"
    }
   ],
   "source": [
    "# 데이터 분포 확인\n",
    "\n",
    "plot_distribution(preprocessed_articles)"
   ]
  },
  {
   "cell_type": "code",
   "execution_count": 9,
   "metadata": {},
   "outputs": [
    {
     "name": "stdout",
     "output_type": "stream",
     "text": [
      "Number of training articles: 1882\n",
      "Number of validation articles: 471\n"
     ]
    }
   ],
   "source": [
    "# 훈련 데이터와 검증 데이터로 분리\n",
    "\n",
    "train_articles, val_articles = train_test_split(\n",
    "    preprocessed_articles,\n",
    "    test_size=0.2,\n",
    "    random_state=42\n",
    ")\n",
    "\n",
    "print(f'Number of training articles: {len(train_articles)}')\n",
    "print(f'Number of validation articles: {len(val_articles)}')"
   ]
  },
  {
   "cell_type": "code",
   "execution_count": 10,
   "metadata": {},
   "outputs": [
    {
     "name": "stdout",
     "output_type": "stream",
     "text": [
      "Label 0: 79.28%\n",
      "Label 1: 20.72%\n"
     ]
    },
    {
     "data": {
      "image/png": "[encoded data removed]",
      "text/plain": [
       "<Figure size 800x600 with 1 Axes>"
      ]
     },
     "metadata": {},
     "output_type": "display_data"
    }
   ],
   "source": [
    "# 훈련 데이터의 데이터 분포 확인\n",
    "\n",
    "plot_distribution(train_articles)"
   ]
  },
  {
   "cell_type": "code",
   "execution_count": 11,
   "metadata": {},
   "outputs": [
    {
     "name": "stdout",
     "output_type": "stream",
     "text": [
      "Label 0: 81.74%\n",
      "Label 1: 18.26%\n"
     ]
    },
    {
     "data": {
      "image/png": "[encoded data removed]",
      "text/plain": [
       "<Figure size 800x600 with 1 Axes>"
      ]
     },
     "metadata": {},
     "output_type": "display_data"
    }
   ],
   "source": [
    "# 검증 데이터의 데이터 분포 확인\n",
    "\n",
    "plot_distribution(val_articles)"
   ]
  },
  {
   "cell_type": "code",
   "execution_count": 12,
   "metadata": {},
   "outputs": [
    {
     "name": "stdout",
     "output_type": "stream",
     "text": [
      "Original: 장학금 관련해서.. 성적장학금 + 한울장학금 가능한지 궁금합니다..\n",
      "Tokenized: ['장학금', '관련해서', '.', '.', '성적', '##장', '##학', '##금', '+', '한울', '##장', '##학', '##금', '가능한', '##지', '궁금합니다', '.', '.']\n"
     ]
    }
   ],
   "source": [
    "# 토크나이저 설정\n",
    "\n",
    "tokenizer = AutoTokenizer.from_pretrained('beomi/KcELECTRA-base-v2022')\n",
    "\n",
    "print('Original:', preprocessed_articles[0]['content'])\n",
    "print('Tokenized:', tokenizer.tokenize(preprocessed_articles[0]['content']))"
   ]
  },
  {
   "cell_type": "code",
   "execution_count": 13,
   "metadata": {},
   "outputs": [],
   "source": [
    "# 하이퍼파라미터 설정\n",
    "\n",
    "MAX_LENGTH = 128\n",
    "BATCH_SIZE = 32\n",
    "EPOCHS = 100\n",
    "LEARNING_RATE = 2e-5"
   ]
  },
  {
   "cell_type": "code",
   "execution_count": 14,
   "metadata": {},
   "outputs": [
    {
     "name": "stderr",
     "output_type": "stream",
     "text": [
      "/tmp/ipykernel_852347/1232183778.py:24: UserWarning: To copy construct from a tensor, it is recommended to use sourceTensor.clone().detach() or sourceTensor.clone().detach().requires_grad_(True), rather than torch.tensor(sourceTensor).\n",
      "  torch.tensor(train_encodings['input_ids']),\n",
      "/tmp/ipykernel_852347/1232183778.py:25: UserWarning: To copy construct from a tensor, it is recommended to use sourceTensor.clone().detach() or sourceTensor.clone().detach().requires_grad_(True), rather than torch.tensor(sourceTensor).\n",
      "  torch.tensor(train_encodings['attention_mask']),\n",
      "/tmp/ipykernel_852347/1232183778.py:29: UserWarning: To copy construct from a tensor, it is recommended to use sourceTensor.clone().detach() or sourceTensor.clone().detach().requires_grad_(True), rather than torch.tensor(sourceTensor).\n",
      "  torch.tensor(val_encodings['input_ids']),\n",
      "/tmp/ipykernel_852347/1232183778.py:30: UserWarning: To copy construct from a tensor, it is recommended to use sourceTensor.clone().detach() or sourceTensor.clone().detach().requires_grad_(True), rather than torch.tensor(sourceTensor).\n",
      "  torch.tensor(val_encodings['attention_mask']),\n"
     ]
    }
   ],
   "source": [
    "# 텍스트 인코딩\n",
    "\n",
    "train_contents = [article['content'] for article in train_articles]\n",
    "train_labels = [article['label'] for article in train_articles]\n",
    "val_contents = [article['content'] for article in val_articles]\n",
    "val_labels = [article['label'] for article in val_articles]\n",
    "\n",
    "train_encodings = tokenizer(\n",
    "    train_contents,\n",
    "    padding=True,\n",
    "    truncation=True,\n",
    "    return_tensors='pt',\n",
    "    max_length=MAX_LENGTH\n",
    ")\n",
    "val_encodings = tokenizer(\n",
    "    val_contents,\n",
    "    padding=True,\n",
    "    truncation=True,\n",
    "    return_tensors='pt',\n",
    "    max_length=MAX_LENGTH\n",
    ")\n",
    "\n",
    "train_dataset = torch.utils.data.TensorDataset(\n",
    "    torch.tensor(train_encodings['input_ids']),\n",
    "    torch.tensor(train_encodings['attention_mask']),\n",
    "    torch.tensor(train_labels)\n",
    ")\n",
    "val_dataset = torch.utils.data.TensorDataset(\n",
    "    torch.tensor(val_encodings['input_ids']),\n",
    "    torch.tensor(val_encodings['attention_mask']),\n",
    "    torch.tensor(val_labels)\n",
    ")"
   ]
  },
  {
   "cell_type": "code",
   "execution_count": 15,
   "metadata": {},
   "outputs": [
    {
     "name": "stdout",
     "output_type": "stream",
     "text": [
      "There are 1 GPU(s) available.\n",
      "We will use the GPU: NVIDIA GeForce RTX 3060 Ti\n"
     ]
    },
    {
     "name": "stderr",
     "output_type": "stream",
     "text": [
      "Some weights of ElectraForSequenceClassification were not initialized from the model checkpoint at beomi/KcELECTRA-base-v2022 and are newly initialized: ['classifier.dense.bias', 'classifier.dense.weight', 'classifier.out_proj.bias', 'classifier.out_proj.weight']\n",
      "You should probably TRAIN this model on a down-stream task to be able to use it for predictions and inference.\n"
     ]
    }
   ],
   "source": [
    "# 학습 전 초기화\n",
    "\n",
    "if torch.cuda.is_available():\n",
    "    device = torch.device(\"cuda\")\n",
    "    print('There are %d GPU(s) available.' % torch.cuda.device_count())\n",
    "    print('We will use the GPU:', torch.cuda.get_device_name(0))\n",
    "else:\n",
    "    device = torch.device(\"cpu\")\n",
    "    print('No GPU available, using the CPU instead.')\n",
    "\n",
    "model = AutoModelForSequenceClassification.from_pretrained('beomi/KcELECTRA-base-v2022', num_labels=2)\n",
    "model.to(device)\n",
    "\n",
    "optimizer = torch.optim.AdamW(model.parameters(), lr=LEARNING_RATE)\n",
    "total_steps = len(train_dataset) * EPOCHS\n",
    "scheduler = get_linear_schedule_with_warmup(optimizer, num_warmup_steps=0, num_training_steps=total_steps)\n",
    "\n",
    "train_dataloader = torch.utils.data.DataLoader(train_dataset, batch_size=BATCH_SIZE, shuffle=True)\n",
    "val_dataloader = torch.utils.data.DataLoader(val_dataset, batch_size=BATCH_SIZE, shuffle=False)\n",
    "\n",
    "train_accs = []\n",
    "train_precs = []\n",
    "train_recs = []\n",
    "train_f1s = []\n",
    "train_losses = []\n",
    "\n",
    "val_accs = []\n",
    "val_precs = []\n",
    "val_recs = []\n",
    "val_f1s = []\n",
    "val_losses = []"
   ]
  },
  {
   "cell_type": "code",
   "execution_count": 16,
   "metadata": {},
   "outputs": [],
   "source": [
    "# 평가 지표 계산 함수 정의\n",
    "\n",
    "def calculate_metrics(true_labels, predicted_labels):\n",
    "    acc = accuracy_score(true_labels, predicted_labels)\n",
    "    prec = precision_score(true_labels, predicted_labels)\n",
    "    rec = recall_score(true_labels, predicted_labels)\n",
    "    f1 = f1_score(true_labels, predicted_labels)\n",
    "\n",
    "    return acc, prec, rec, f1"
   ]
  },
  {
   "cell_type": "code",
   "execution_count": 17,
   "metadata": {},
   "outputs": [
    {
     "name": "stderr",
     "output_type": "stream",
     "text": [
      "Epoch 1 - Training: 100%|██████████| 59/59 [00:19<00:00,  2.96it/s]\n",
      "Epoch 1 - Validation: 100%|██████████| 15/15 [00:01<00:00,  8.94it/s]\n"
     ]
    },
    {
     "name": "stdout",
     "output_type": "stream",
     "text": [
      "Epoch 1:\n",
      "  Train Acc = 0.7991, Train Prec = 0.5857, Train Rec = 0.1051, Train F1 = 0.1783, Train Loss = 0.4632\n",
      "  Val Acc = 0.9002, Val Prec = 0.8679, Val Rec = 0.5349, Val F1 = 0.6619, Val Loss = 0.2596\n",
      "  Best model saved with 0.6619 F1 score.\n"
     ]
    },
    {
     "name": "stderr",
     "output_type": "stream",
     "text": [
      "Epoch 2 - Training: 100%|██████████| 59/59 [00:19<00:00,  3.00it/s]\n",
      "Epoch 2 - Validation: 100%|██████████| 15/15 [00:01<00:00,  8.90it/s]\n"
     ]
    },
    {
     "name": "stdout",
     "output_type": "stream",
     "text": [
      "Epoch 2:\n",
      "  Train Acc = 0.9272, Train Prec = 0.8447, Train Rec = 0.7949, Train F1 = 0.8190, Train Loss = 0.2030\n",
      "  Val Acc = 0.9363, Val Prec = 0.9000, Val Rec = 0.7326, Val F1 = 0.8077, Val Loss = 0.2004\n",
      "  Best model saved with 0.8077 F1 score.\n"
     ]
    },
    {
     "name": "stderr",
     "output_type": "stream",
     "text": [
      "Epoch 3 - Training: 100%|██████████| 59/59 [00:19<00:00,  2.98it/s]\n",
      "Epoch 3 - Validation: 100%|██████████| 15/15 [00:01<00:00,  8.87it/s]\n"
     ]
    },
    {
     "name": "stdout",
     "output_type": "stream",
     "text": [
      "Epoch 3:\n",
      "  Train Acc = 0.9718, Train Prec = 0.9399, Train Rec = 0.9231, Train F1 = 0.9314, Train Loss = 0.1010\n",
      "  Val Acc = 0.9257, Val Prec = 0.7383, Val Rec = 0.9186, Val F1 = 0.8187, Val Loss = 0.2222\n",
      "  Best model saved with 0.8187 F1 score.\n"
     ]
    },
    {
     "name": "stderr",
     "output_type": "stream",
     "text": [
      "Epoch 4 - Training: 100%|██████████| 59/59 [00:19<00:00,  2.98it/s]\n",
      "Epoch 4 - Validation: 100%|██████████| 15/15 [00:01<00:00,  8.87it/s]\n"
     ]
    },
    {
     "name": "stdout",
     "output_type": "stream",
     "text": [
      "Epoch 4:\n",
      "  Train Acc = 0.9846, Train Prec = 0.9616, Train Rec = 0.9641, Train F1 = 0.9629, Train Loss = 0.0564\n",
      "  Val Acc = 0.9406, Val Prec = 0.8222, Val Rec = 0.8605, Val F1 = 0.8409, Val Loss = 0.1977\n",
      "  Best model saved with 0.8409 F1 score.\n"
     ]
    },
    {
     "name": "stderr",
     "output_type": "stream",
     "text": [
      "Epoch 5 - Training: 100%|██████████| 59/59 [00:19<00:00,  2.97it/s]\n",
      "Epoch 5 - Validation: 100%|██████████| 15/15 [00:01<00:00,  8.87it/s]\n"
     ]
    },
    {
     "name": "stdout",
     "output_type": "stream",
     "text": [
      "Epoch 5:\n",
      "  Train Acc = 0.9888, Train Prec = 0.9767, Train Rec = 0.9692, Train F1 = 0.9730, Train Loss = 0.0409\n",
      "  Val Acc = 0.9406, Val Prec = 0.8372, Val Rec = 0.8372, Val F1 = 0.8372, Val Loss = 0.1968\n"
     ]
    },
    {
     "name": "stderr",
     "output_type": "stream",
     "text": [
      "Epoch 6 - Training: 100%|██████████| 59/59 [00:19<00:00,  2.96it/s]\n",
      "Epoch 6 - Validation: 100%|██████████| 15/15 [00:01<00:00,  8.85it/s]\n"
     ]
    },
    {
     "name": "stdout",
     "output_type": "stream",
     "text": [
      "Epoch 6:\n",
      "  Train Acc = 0.9904, Train Prec = 0.9794, Train Rec = 0.9744, Train F1 = 0.9769, Train Loss = 0.0406\n",
      "  Val Acc = 0.9490, Val Prec = 0.8605, Val Rec = 0.8605, Val F1 = 0.8605, Val Loss = 0.2185\n",
      "  Best model saved with 0.8605 F1 score.\n"
     ]
    },
    {
     "name": "stderr",
     "output_type": "stream",
     "text": [
      "Epoch 7 - Training: 100%|██████████| 59/59 [00:19<00:00,  2.96it/s]\n",
      "Epoch 7 - Validation: 100%|██████████| 15/15 [00:01<00:00,  8.83it/s]\n"
     ]
    },
    {
     "name": "stdout",
     "output_type": "stream",
     "text": [
      "Epoch 7:\n",
      "  Train Acc = 0.9936, Train Prec = 0.9871, Train Rec = 0.9821, Train F1 = 0.9846, Train Loss = 0.0249\n",
      "  Val Acc = 0.9172, Val Prec = 0.7196, Val Rec = 0.8953, Val F1 = 0.7979, Val Loss = 0.3282\n"
     ]
    },
    {
     "name": "stderr",
     "output_type": "stream",
     "text": [
      "Epoch 8 - Training: 100%|██████████| 59/59 [00:19<00:00,  2.96it/s]\n",
      "Epoch 8 - Validation: 100%|██████████| 15/15 [00:01<00:00,  8.83it/s]\n"
     ]
    },
    {
     "name": "stdout",
     "output_type": "stream",
     "text": [
      "Epoch 8:\n",
      "  Train Acc = 0.9915, Train Prec = 0.9770, Train Rec = 0.9821, Train F1 = 0.9795, Train Loss = 0.0327\n",
      "  Val Acc = 0.9448, Val Prec = 0.8571, Val Rec = 0.8372, Val F1 = 0.8471, Val Loss = 0.2210\n"
     ]
    },
    {
     "name": "stderr",
     "output_type": "stream",
     "text": [
      "Epoch 9 - Training: 100%|██████████| 59/59 [00:19<00:00,  2.95it/s]\n",
      "Epoch 9 - Validation: 100%|██████████| 15/15 [00:01<00:00,  8.83it/s]\n"
     ]
    },
    {
     "name": "stdout",
     "output_type": "stream",
     "text": [
      "Epoch 9:\n",
      "  Train Acc = 0.9979, Train Prec = 0.9974, Train Rec = 0.9923, Train F1 = 0.9949, Train Loss = 0.0129\n",
      "  Val Acc = 0.9172, Val Prec = 0.7080, Val Rec = 0.9302, Val F1 = 0.8040, Val Loss = 0.3781\n"
     ]
    },
    {
     "name": "stderr",
     "output_type": "stream",
     "text": [
      "Epoch 10 - Training: 100%|██████████| 59/59 [00:19<00:00,  2.95it/s]\n",
      "Epoch 10 - Validation: 100%|██████████| 15/15 [00:01<00:00,  8.82it/s]\n"
     ]
    },
    {
     "name": "stdout",
     "output_type": "stream",
     "text": [
      "Epoch 10:\n",
      "  Train Acc = 0.9963, Train Prec = 0.9898, Train Rec = 0.9923, Train F1 = 0.9910, Train Loss = 0.0093\n",
      "  Val Acc = 0.9512, Val Prec = 0.8706, Val Rec = 0.8605, Val F1 = 0.8655, Val Loss = 0.2671\n",
      "  Best model saved with 0.8655 F1 score.\n"
     ]
    },
    {
     "name": "stderr",
     "output_type": "stream",
     "text": [
      "Epoch 11 - Training: 100%|██████████| 59/59 [00:19<00:00,  2.95it/s]\n",
      "Epoch 11 - Validation: 100%|██████████| 15/15 [00:01<00:00,  8.80it/s]\n"
     ]
    },
    {
     "name": "stdout",
     "output_type": "stream",
     "text": [
      "Epoch 11:\n",
      "  Train Acc = 0.9942, Train Prec = 0.9847, Train Rec = 0.9872, Train F1 = 0.9859, Train Loss = 0.0153\n",
      "  Val Acc = 0.8960, Val Prec = 0.6457, Val Rec = 0.9535, Val F1 = 0.7700, Val Loss = 0.4479\n"
     ]
    },
    {
     "name": "stderr",
     "output_type": "stream",
     "text": [
      "Epoch 12 - Training: 100%|██████████| 59/59 [00:19<00:00,  2.95it/s]\n",
      "Epoch 12 - Validation: 100%|██████████| 15/15 [00:01<00:00,  8.81it/s]\n"
     ]
    },
    {
     "name": "stdout",
     "output_type": "stream",
     "text": [
      "Epoch 12:\n",
      "  Train Acc = 0.9968, Train Prec = 0.9923, Train Rec = 0.9923, Train F1 = 0.9923, Train Loss = 0.0157\n",
      "  Val Acc = 0.9469, Val Prec = 0.8588, Val Rec = 0.8488, Val F1 = 0.8538, Val Loss = 0.2472\n"
     ]
    },
    {
     "name": "stderr",
     "output_type": "stream",
     "text": [
      "Epoch 13 - Training: 100%|██████████| 59/59 [00:20<00:00,  2.95it/s]\n",
      "Epoch 13 - Validation: 100%|██████████| 15/15 [00:01<00:00,  8.79it/s]\n"
     ]
    },
    {
     "name": "stdout",
     "output_type": "stream",
     "text": [
      "Epoch 13:\n",
      "  Train Acc = 0.9957, Train Prec = 0.9923, Train Rec = 0.9872, Train F1 = 0.9897, Train Loss = 0.0181\n",
      "  Val Acc = 0.9406, Val Prec = 0.8295, Val Rec = 0.8488, Val F1 = 0.8391, Val Loss = 0.2663\n"
     ]
    },
    {
     "name": "stderr",
     "output_type": "stream",
     "text": [
      "Epoch 14 - Training: 100%|██████████| 59/59 [00:20<00:00,  2.95it/s]\n",
      "Epoch 14 - Validation: 100%|██████████| 15/15 [00:01<00:00,  8.77it/s]\n"
     ]
    },
    {
     "name": "stdout",
     "output_type": "stream",
     "text": [
      "Epoch 14:\n",
      "  Train Acc = 0.9979, Train Prec = 0.9974, Train Rec = 0.9923, Train F1 = 0.9949, Train Loss = 0.0070\n",
      "  Val Acc = 0.9236, Val Prec = 0.7273, Val Rec = 0.9302, Val F1 = 0.8163, Val Loss = 0.3369\n"
     ]
    },
    {
     "name": "stderr",
     "output_type": "stream",
     "text": [
      "Epoch 15 - Training: 100%|██████████| 59/59 [00:20<00:00,  2.94it/s]\n",
      "Epoch 15 - Validation: 100%|██████████| 15/15 [00:01<00:00,  8.75it/s]\n"
     ]
    },
    {
     "name": "stdout",
     "output_type": "stream",
     "text": [
      "Epoch 15:\n",
      "  Train Acc = 0.9979, Train Prec = 0.9949, Train Rec = 0.9949, Train F1 = 0.9949, Train Loss = 0.0053\n",
      "  Val Acc = 0.9469, Val Prec = 0.8352, Val Rec = 0.8837, Val F1 = 0.8588, Val Loss = 0.2909\n"
     ]
    },
    {
     "name": "stderr",
     "output_type": "stream",
     "text": [
      "Epoch 16 - Training: 100%|██████████| 59/59 [00:20<00:00,  2.94it/s]\n",
      "Epoch 16 - Validation: 100%|██████████| 15/15 [00:01<00:00,  8.76it/s]\n"
     ]
    },
    {
     "name": "stdout",
     "output_type": "stream",
     "text": [
      "Epoch 16:\n",
      "  Train Acc = 1.0000, Train Prec = 1.0000, Train Rec = 1.0000, Train F1 = 1.0000, Train Loss = 0.0011\n",
      "  Val Acc = 0.9448, Val Prec = 0.8409, Val Rec = 0.8605, Val F1 = 0.8506, Val Loss = 0.3083\n"
     ]
    },
    {
     "name": "stderr",
     "output_type": "stream",
     "text": [
      "Epoch 17 - Training: 100%|██████████| 59/59 [00:20<00:00,  2.94it/s]\n",
      "Epoch 17 - Validation: 100%|██████████| 15/15 [00:01<00:00,  8.75it/s]\n"
     ]
    },
    {
     "name": "stdout",
     "output_type": "stream",
     "text": [
      "Epoch 17:\n",
      "  Train Acc = 1.0000, Train Prec = 1.0000, Train Rec = 1.0000, Train F1 = 1.0000, Train Loss = 0.0011\n",
      "  Val Acc = 0.9448, Val Prec = 0.8333, Val Rec = 0.8721, Val F1 = 0.8523, Val Loss = 0.3176\n"
     ]
    },
    {
     "name": "stderr",
     "output_type": "stream",
     "text": [
      "Epoch 18 - Training: 100%|██████████| 59/59 [00:20<00:00,  2.94it/s]\n",
      "Epoch 18 - Validation: 100%|██████████| 15/15 [00:01<00:00,  8.76it/s]\n"
     ]
    },
    {
     "name": "stdout",
     "output_type": "stream",
     "text": [
      "Epoch 18:\n",
      "  Train Acc = 1.0000, Train Prec = 1.0000, Train Rec = 1.0000, Train F1 = 1.0000, Train Loss = 0.0007\n",
      "  Val Acc = 0.9469, Val Prec = 0.8352, Val Rec = 0.8837, Val F1 = 0.8588, Val Loss = 0.3271\n"
     ]
    },
    {
     "name": "stderr",
     "output_type": "stream",
     "text": [
      "Epoch 19 - Training: 100%|██████████| 59/59 [00:20<00:00,  2.94it/s]\n",
      "Epoch 19 - Validation: 100%|██████████| 15/15 [00:01<00:00,  8.76it/s]\n"
     ]
    },
    {
     "name": "stdout",
     "output_type": "stream",
     "text": [
      "Epoch 19:\n",
      "  Train Acc = 1.0000, Train Prec = 1.0000, Train Rec = 1.0000, Train F1 = 1.0000, Train Loss = 0.0006\n",
      "  Val Acc = 0.9469, Val Prec = 0.8352, Val Rec = 0.8837, Val F1 = 0.8588, Val Loss = 0.3352\n"
     ]
    },
    {
     "name": "stderr",
     "output_type": "stream",
     "text": [
      "Epoch 20 - Training: 100%|██████████| 59/59 [00:20<00:00,  2.94it/s]\n",
      "Epoch 20 - Validation: 100%|██████████| 15/15 [00:01<00:00,  8.76it/s]\n"
     ]
    },
    {
     "name": "stdout",
     "output_type": "stream",
     "text": [
      "Epoch 20:\n",
      "  Train Acc = 0.9995, Train Prec = 0.9974, Train Rec = 1.0000, Train F1 = 0.9987, Train Loss = 0.0012\n",
      "  Val Acc = 0.9427, Val Prec = 0.8471, Val Rec = 0.8372, Val F1 = 0.8421, Val Loss = 0.3658\n"
     ]
    },
    {
     "name": "stderr",
     "output_type": "stream",
     "text": [
      "Epoch 21 - Training: 100%|██████████| 59/59 [00:20<00:00,  2.94it/s]\n",
      "Epoch 21 - Validation: 100%|██████████| 15/15 [00:01<00:00,  8.75it/s]\n"
     ]
    },
    {
     "name": "stdout",
     "output_type": "stream",
     "text": [
      "Epoch 21:\n",
      "  Train Acc = 0.9957, Train Prec = 0.9897, Train Rec = 0.9897, Train F1 = 0.9897, Train Loss = 0.0188\n",
      "  Val Acc = 0.9321, Val Prec = 0.8462, Val Rec = 0.7674, Val F1 = 0.8049, Val Loss = 0.3658\n"
     ]
    },
    {
     "name": "stderr",
     "output_type": "stream",
     "text": [
      "Epoch 22 - Training: 100%|██████████| 59/59 [00:20<00:00,  2.93it/s]\n",
      "Epoch 22 - Validation: 100%|██████████| 15/15 [00:01<00:00,  8.74it/s]\n"
     ]
    },
    {
     "name": "stdout",
     "output_type": "stream",
     "text": [
      "Epoch 22:\n",
      "  Train Acc = 0.9947, Train Prec = 0.9897, Train Rec = 0.9846, Train F1 = 0.9871, Train Loss = 0.0132\n",
      "  Val Acc = 0.9214, Val Prec = 0.7426, Val Rec = 0.8721, Val F1 = 0.8021, Val Loss = 0.4044\n"
     ]
    },
    {
     "name": "stderr",
     "output_type": "stream",
     "text": [
      "Epoch 23 - Training: 100%|██████████| 59/59 [00:20<00:00,  2.93it/s]\n",
      "Epoch 23 - Validation: 100%|██████████| 15/15 [00:01<00:00,  8.75it/s]\n"
     ]
    },
    {
     "name": "stdout",
     "output_type": "stream",
     "text": [
      "Epoch 23:\n",
      "  Train Acc = 0.9968, Train Prec = 0.9898, Train Rec = 0.9949, Train F1 = 0.9923, Train Loss = 0.0121\n",
      "  Val Acc = 0.9490, Val Prec = 0.8690, Val Rec = 0.8488, Val F1 = 0.8588, Val Loss = 0.3045\n"
     ]
    },
    {
     "name": "stderr",
     "output_type": "stream",
     "text": [
      "Epoch 24 - Training: 100%|██████████| 59/59 [00:20<00:00,  2.93it/s]\n",
      "Epoch 24 - Validation: 100%|██████████| 15/15 [00:01<00:00,  8.75it/s]\n"
     ]
    },
    {
     "name": "stdout",
     "output_type": "stream",
     "text": [
      "Epoch 24:\n",
      "  Train Acc = 0.9995, Train Prec = 1.0000, Train Rec = 0.9974, Train F1 = 0.9987, Train Loss = 0.0027\n",
      "  Val Acc = 0.9469, Val Prec = 0.8506, Val Rec = 0.8605, Val F1 = 0.8555, Val Loss = 0.3383\n"
     ]
    },
    {
     "name": "stderr",
     "output_type": "stream",
     "text": [
      "Epoch 25 - Training: 100%|██████████| 59/59 [00:20<00:00,  2.93it/s]\n",
      "Epoch 25 - Validation: 100%|██████████| 15/15 [00:01<00:00,  8.72it/s]\n"
     ]
    },
    {
     "name": "stdout",
     "output_type": "stream",
     "text": [
      "Epoch 25:\n",
      "  Train Acc = 0.9942, Train Prec = 0.9897, Train Rec = 0.9821, Train F1 = 0.9858, Train Loss = 0.0209\n",
      "  Val Acc = 0.9363, Val Prec = 0.7917, Val Rec = 0.8837, Val F1 = 0.8352, Val Loss = 0.3033\n"
     ]
    },
    {
     "name": "stderr",
     "output_type": "stream",
     "text": [
      "Epoch 26 - Training: 100%|██████████| 59/59 [00:20<00:00,  2.93it/s]\n",
      "Epoch 26 - Validation: 100%|██████████| 15/15 [00:01<00:00,  8.75it/s]\n"
     ]
    },
    {
     "name": "stdout",
     "output_type": "stream",
     "text": [
      "Epoch 26:\n",
      "  Train Acc = 0.9989, Train Prec = 1.0000, Train Rec = 0.9949, Train F1 = 0.9974, Train Loss = 0.0031\n",
      "  Val Acc = 0.9427, Val Prec = 0.8315, Val Rec = 0.8605, Val F1 = 0.8457, Val Loss = 0.3138\n"
     ]
    },
    {
     "name": "stderr",
     "output_type": "stream",
     "text": [
      "Epoch 27 - Training: 100%|██████████| 59/59 [00:20<00:00,  2.93it/s]\n",
      "Epoch 27 - Validation: 100%|██████████| 15/15 [00:01<00:00,  8.73it/s]\n"
     ]
    },
    {
     "name": "stdout",
     "output_type": "stream",
     "text": [
      "Epoch 27:\n",
      "  Train Acc = 1.0000, Train Prec = 1.0000, Train Rec = 1.0000, Train F1 = 1.0000, Train Loss = 0.0013\n",
      "  Val Acc = 0.9448, Val Prec = 0.8571, Val Rec = 0.8372, Val F1 = 0.8471, Val Loss = 0.3263\n"
     ]
    },
    {
     "name": "stderr",
     "output_type": "stream",
     "text": [
      "Epoch 28 - Training: 100%|██████████| 59/59 [00:20<00:00,  2.93it/s]\n",
      "Epoch 28 - Validation: 100%|██████████| 15/15 [00:01<00:00,  8.75it/s]\n"
     ]
    },
    {
     "name": "stdout",
     "output_type": "stream",
     "text": [
      "Epoch 28:\n",
      "  Train Acc = 1.0000, Train Prec = 1.0000, Train Rec = 1.0000, Train F1 = 1.0000, Train Loss = 0.0010\n",
      "  Val Acc = 0.9363, Val Prec = 0.7745, Val Rec = 0.9186, Val F1 = 0.8404, Val Loss = 0.4045\n"
     ]
    },
    {
     "name": "stderr",
     "output_type": "stream",
     "text": [
      "Epoch 29 - Training: 100%|██████████| 59/59 [00:20<00:00,  2.93it/s]\n",
      "Epoch 29 - Validation: 100%|██████████| 15/15 [00:01<00:00,  8.73it/s]\n"
     ]
    },
    {
     "name": "stdout",
     "output_type": "stream",
     "text": [
      "Epoch 29:\n",
      "  Train Acc = 0.9989, Train Prec = 0.9974, Train Rec = 0.9974, Train F1 = 0.9974, Train Loss = 0.0055\n",
      "  Val Acc = 0.9406, Val Prec = 0.8021, Val Rec = 0.8953, Val F1 = 0.8462, Val Loss = 0.3670\n"
     ]
    },
    {
     "name": "stderr",
     "output_type": "stream",
     "text": [
      "Epoch 30 - Training: 100%|██████████| 59/59 [00:20<00:00,  2.93it/s]\n",
      "Epoch 30 - Validation: 100%|██████████| 15/15 [00:01<00:00,  8.76it/s]\n"
     ]
    },
    {
     "name": "stdout",
     "output_type": "stream",
     "text": [
      "Epoch 30:\n",
      "  Train Acc = 0.9995, Train Prec = 1.0000, Train Rec = 0.9974, Train F1 = 0.9987, Train Loss = 0.0026\n",
      "  Val Acc = 0.9299, Val Prec = 0.7573, Val Rec = 0.9070, Val F1 = 0.8254, Val Loss = 0.4255\n"
     ]
    },
    {
     "name": "stderr",
     "output_type": "stream",
     "text": [
      "Epoch 31 - Training: 100%|██████████| 59/59 [00:20<00:00,  2.93it/s]\n",
      "Epoch 31 - Validation: 100%|██████████| 15/15 [00:01<00:00,  8.72it/s]\n"
     ]
    },
    {
     "name": "stdout",
     "output_type": "stream",
     "text": [
      "Epoch 31:\n",
      "  Train Acc = 0.9979, Train Prec = 0.9974, Train Rec = 0.9923, Train F1 = 0.9949, Train Loss = 0.0110\n",
      "  Val Acc = 0.9257, Val Prec = 0.7297, Val Rec = 0.9419, Val F1 = 0.8223, Val Loss = 0.5137\n"
     ]
    },
    {
     "name": "stderr",
     "output_type": "stream",
     "text": [
      "Epoch 32 - Training: 100%|██████████| 59/59 [00:20<00:00,  2.93it/s]\n",
      "Epoch 32 - Validation: 100%|██████████| 15/15 [00:01<00:00,  8.72it/s]\n"
     ]
    },
    {
     "name": "stdout",
     "output_type": "stream",
     "text": [
      "Epoch 32:\n",
      "  Train Acc = 0.9888, Train Prec = 0.9767, Train Rec = 0.9692, Train F1 = 0.9730, Train Loss = 0.0368\n",
      "  Val Acc = 0.9321, Val Prec = 0.7500, Val Rec = 0.9419, Val F1 = 0.8351, Val Loss = 0.3602\n"
     ]
    },
    {
     "name": "stderr",
     "output_type": "stream",
     "text": [
      "Epoch 33 - Training: 100%|██████████| 59/59 [00:20<00:00,  2.93it/s]\n",
      "Epoch 33 - Validation: 100%|██████████| 15/15 [00:01<00:00,  8.74it/s]\n"
     ]
    },
    {
     "name": "stdout",
     "output_type": "stream",
     "text": [
      "Epoch 33:\n",
      "  Train Acc = 0.9989, Train Prec = 0.9949, Train Rec = 1.0000, Train F1 = 0.9974, Train Loss = 0.0046\n",
      "  Val Acc = 0.9427, Val Prec = 0.8105, Val Rec = 0.8953, Val F1 = 0.8508, Val Loss = 0.3238\n"
     ]
    },
    {
     "name": "stderr",
     "output_type": "stream",
     "text": [
      "Epoch 34 - Training: 100%|██████████| 59/59 [00:20<00:00,  2.93it/s]\n",
      "Epoch 34 - Validation: 100%|██████████| 15/15 [00:01<00:00,  8.72it/s]\n"
     ]
    },
    {
     "name": "stdout",
     "output_type": "stream",
     "text": [
      "Epoch 34:\n",
      "  Train Acc = 0.9989, Train Prec = 0.9949, Train Rec = 1.0000, Train F1 = 0.9974, Train Loss = 0.0021\n",
      "  Val Acc = 0.9469, Val Prec = 0.8765, Val Rec = 0.8256, Val F1 = 0.8503, Val Loss = 0.3501\n"
     ]
    },
    {
     "name": "stderr",
     "output_type": "stream",
     "text": [
      "Epoch 35 - Training: 100%|██████████| 59/59 [00:20<00:00,  2.93it/s]\n",
      "Epoch 35 - Validation: 100%|██████████| 15/15 [00:01<00:00,  8.71it/s]\n"
     ]
    },
    {
     "name": "stdout",
     "output_type": "stream",
     "text": [
      "Epoch 35:\n",
      "  Train Acc = 1.0000, Train Prec = 1.0000, Train Rec = 1.0000, Train F1 = 1.0000, Train Loss = 0.0004\n",
      "  Val Acc = 0.9427, Val Prec = 0.8391, Val Rec = 0.8488, Val F1 = 0.8439, Val Loss = 0.3578\n"
     ]
    },
    {
     "name": "stderr",
     "output_type": "stream",
     "text": [
      "Epoch 36 - Training: 100%|██████████| 59/59 [00:20<00:00,  2.93it/s]\n",
      "Epoch 36 - Validation: 100%|██████████| 15/15 [00:01<00:00,  8.70it/s]\n"
     ]
    },
    {
     "name": "stdout",
     "output_type": "stream",
     "text": [
      "Epoch 36:\n",
      "  Train Acc = 1.0000, Train Prec = 1.0000, Train Rec = 1.0000, Train F1 = 1.0000, Train Loss = 0.0003\n",
      "  Val Acc = 0.9427, Val Prec = 0.8391, Val Rec = 0.8488, Val F1 = 0.8439, Val Loss = 0.3670\n"
     ]
    },
    {
     "name": "stderr",
     "output_type": "stream",
     "text": [
      "Epoch 37 - Training: 100%|██████████| 59/59 [00:20<00:00,  2.92it/s]\n",
      "Epoch 37 - Validation: 100%|██████████| 15/15 [00:01<00:00,  8.71it/s]\n"
     ]
    },
    {
     "name": "stdout",
     "output_type": "stream",
     "text": [
      "Epoch 37:\n",
      "  Train Acc = 1.0000, Train Prec = 1.0000, Train Rec = 1.0000, Train F1 = 1.0000, Train Loss = 0.0002\n",
      "  Val Acc = 0.9427, Val Prec = 0.8391, Val Rec = 0.8488, Val F1 = 0.8439, Val Loss = 0.3746\n"
     ]
    },
    {
     "name": "stderr",
     "output_type": "stream",
     "text": [
      "Epoch 38 - Training: 100%|██████████| 59/59 [00:20<00:00,  2.92it/s]\n",
      "Epoch 38 - Validation: 100%|██████████| 15/15 [00:01<00:00,  8.72it/s]\n"
     ]
    },
    {
     "name": "stdout",
     "output_type": "stream",
     "text": [
      "Epoch 38:\n",
      "  Train Acc = 1.0000, Train Prec = 1.0000, Train Rec = 1.0000, Train F1 = 1.0000, Train Loss = 0.0003\n",
      "  Val Acc = 0.9427, Val Prec = 0.8315, Val Rec = 0.8605, Val F1 = 0.8457, Val Loss = 0.3807\n"
     ]
    },
    {
     "name": "stderr",
     "output_type": "stream",
     "text": [
      "Epoch 39 - Training: 100%|██████████| 59/59 [00:20<00:00,  2.93it/s]\n",
      "Epoch 39 - Validation: 100%|██████████| 15/15 [00:01<00:00,  8.74it/s]\n"
     ]
    },
    {
     "name": "stdout",
     "output_type": "stream",
     "text": [
      "Epoch 39:\n",
      "  Train Acc = 1.0000, Train Prec = 1.0000, Train Rec = 1.0000, Train F1 = 1.0000, Train Loss = 0.0002\n",
      "  Val Acc = 0.9448, Val Prec = 0.8261, Val Rec = 0.8837, Val F1 = 0.8539, Val Loss = 0.3848\n"
     ]
    },
    {
     "name": "stderr",
     "output_type": "stream",
     "text": [
      "Epoch 40 - Training: 100%|██████████| 59/59 [00:20<00:00,  2.92it/s]\n",
      "Epoch 40 - Validation: 100%|██████████| 15/15 [00:01<00:00,  8.72it/s]\n"
     ]
    },
    {
     "name": "stdout",
     "output_type": "stream",
     "text": [
      "Epoch 40:\n",
      "  Train Acc = 1.0000, Train Prec = 1.0000, Train Rec = 1.0000, Train F1 = 1.0000, Train Loss = 0.0002\n",
      "  Val Acc = 0.9448, Val Prec = 0.8261, Val Rec = 0.8837, Val F1 = 0.8539, Val Loss = 0.3894\n"
     ]
    },
    {
     "name": "stderr",
     "output_type": "stream",
     "text": [
      "Epoch 41 - Training: 100%|██████████| 59/59 [00:20<00:00,  2.92it/s]\n",
      "Epoch 41 - Validation: 100%|██████████| 15/15 [00:01<00:00,  8.73it/s]\n"
     ]
    },
    {
     "name": "stdout",
     "output_type": "stream",
     "text": [
      "Epoch 41:\n",
      "  Train Acc = 1.0000, Train Prec = 1.0000, Train Rec = 1.0000, Train F1 = 1.0000, Train Loss = 0.0002\n",
      "  Val Acc = 0.9448, Val Prec = 0.8261, Val Rec = 0.8837, Val F1 = 0.8539, Val Loss = 0.3942\n"
     ]
    },
    {
     "name": "stderr",
     "output_type": "stream",
     "text": [
      "Epoch 42 - Training: 100%|██████████| 59/59 [00:20<00:00,  2.92it/s]\n",
      "Epoch 42 - Validation: 100%|██████████| 15/15 [00:01<00:00,  8.71it/s]\n"
     ]
    },
    {
     "name": "stdout",
     "output_type": "stream",
     "text": [
      "Epoch 42:\n",
      "  Train Acc = 1.0000, Train Prec = 1.0000, Train Rec = 1.0000, Train F1 = 1.0000, Train Loss = 0.0002\n",
      "  Val Acc = 0.9427, Val Prec = 0.8315, Val Rec = 0.8605, Val F1 = 0.8457, Val Loss = 0.4038\n"
     ]
    },
    {
     "name": "stderr",
     "output_type": "stream",
     "text": [
      "Epoch 43 - Training: 100%|██████████| 59/59 [00:20<00:00,  2.92it/s]\n",
      "Epoch 43 - Validation: 100%|██████████| 15/15 [00:01<00:00,  8.73it/s]\n"
     ]
    },
    {
     "name": "stdout",
     "output_type": "stream",
     "text": [
      "Epoch 43:\n",
      "  Train Acc = 1.0000, Train Prec = 1.0000, Train Rec = 1.0000, Train F1 = 1.0000, Train Loss = 0.0001\n",
      "  Val Acc = 0.9448, Val Prec = 0.8409, Val Rec = 0.8605, Val F1 = 0.8506, Val Loss = 0.4109\n"
     ]
    },
    {
     "name": "stderr",
     "output_type": "stream",
     "text": [
      "Epoch 44 - Training: 100%|██████████| 59/59 [00:20<00:00,  2.92it/s]\n",
      "Epoch 44 - Validation: 100%|██████████| 15/15 [00:01<00:00,  8.71it/s]\n"
     ]
    },
    {
     "name": "stdout",
     "output_type": "stream",
     "text": [
      "Epoch 44:\n",
      "  Train Acc = 1.0000, Train Prec = 1.0000, Train Rec = 1.0000, Train F1 = 1.0000, Train Loss = 0.0001\n",
      "  Val Acc = 0.9448, Val Prec = 0.8409, Val Rec = 0.8605, Val F1 = 0.8506, Val Loss = 0.4148\n"
     ]
    },
    {
     "name": "stderr",
     "output_type": "stream",
     "text": [
      "Epoch 45 - Training: 100%|██████████| 59/59 [00:20<00:00,  2.92it/s]\n",
      "Epoch 45 - Validation: 100%|██████████| 15/15 [00:01<00:00,  8.71it/s]\n"
     ]
    },
    {
     "name": "stdout",
     "output_type": "stream",
     "text": [
      "Epoch 45:\n",
      "  Train Acc = 1.0000, Train Prec = 1.0000, Train Rec = 1.0000, Train F1 = 1.0000, Train Loss = 0.0001\n",
      "  Val Acc = 0.9406, Val Prec = 0.8222, Val Rec = 0.8605, Val F1 = 0.8409, Val Loss = 0.4227\n"
     ]
    },
    {
     "name": "stderr",
     "output_type": "stream",
     "text": [
      "Epoch 46 - Training: 100%|██████████| 59/59 [00:20<00:00,  2.92it/s]\n",
      "Epoch 46 - Validation: 100%|██████████| 15/15 [00:01<00:00,  8.70it/s]\n"
     ]
    },
    {
     "name": "stdout",
     "output_type": "stream",
     "text": [
      "Epoch 46:\n",
      "  Train Acc = 1.0000, Train Prec = 1.0000, Train Rec = 1.0000, Train F1 = 1.0000, Train Loss = 0.0001\n",
      "  Val Acc = 0.9427, Val Prec = 0.8172, Val Rec = 0.8837, Val F1 = 0.8492, Val Loss = 0.4282\n"
     ]
    },
    {
     "name": "stderr",
     "output_type": "stream",
     "text": [
      "Epoch 47 - Training: 100%|██████████| 59/59 [00:20<00:00,  2.92it/s]\n",
      "Epoch 47 - Validation: 100%|██████████| 15/15 [00:01<00:00,  8.69it/s]\n"
     ]
    },
    {
     "name": "stdout",
     "output_type": "stream",
     "text": [
      "Epoch 47:\n",
      "  Train Acc = 1.0000, Train Prec = 1.0000, Train Rec = 1.0000, Train F1 = 1.0000, Train Loss = 0.0001\n",
      "  Val Acc = 0.9427, Val Prec = 0.8172, Val Rec = 0.8837, Val F1 = 0.8492, Val Loss = 0.4324\n"
     ]
    },
    {
     "name": "stderr",
     "output_type": "stream",
     "text": [
      "Epoch 48 - Training: 100%|██████████| 59/59 [00:20<00:00,  2.92it/s]\n",
      "Epoch 48 - Validation: 100%|██████████| 15/15 [00:01<00:00,  8.68it/s]\n"
     ]
    },
    {
     "name": "stdout",
     "output_type": "stream",
     "text": [
      "Epoch 48:\n",
      "  Train Acc = 0.9973, Train Prec = 0.9923, Train Rec = 0.9949, Train F1 = 0.9936, Train Loss = 0.0112\n",
      "  Val Acc = 0.9384, Val Prec = 0.7822, Val Rec = 0.9186, Val F1 = 0.8449, Val Loss = 0.3759\n"
     ]
    },
    {
     "name": "stderr",
     "output_type": "stream",
     "text": [
      "Epoch 49 - Training: 100%|██████████| 59/59 [00:20<00:00,  2.92it/s]\n",
      "Epoch 49 - Validation: 100%|██████████| 15/15 [00:01<00:00,  8.70it/s]\n"
     ]
    },
    {
     "name": "stdout",
     "output_type": "stream",
     "text": [
      "Epoch 49:\n",
      "  Train Acc = 0.9984, Train Prec = 0.9974, Train Rec = 0.9949, Train F1 = 0.9961, Train Loss = 0.0074\n",
      "  Val Acc = 0.9384, Val Prec = 0.8000, Val Rec = 0.8837, Val F1 = 0.8398, Val Loss = 0.3537\n"
     ]
    },
    {
     "name": "stderr",
     "output_type": "stream",
     "text": [
      "Epoch 50 - Training: 100%|██████████| 59/59 [00:20<00:00,  2.92it/s]\n",
      "Epoch 50 - Validation: 100%|██████████| 15/15 [00:01<00:00,  8.68it/s]\n"
     ]
    },
    {
     "name": "stdout",
     "output_type": "stream",
     "text": [
      "Epoch 50:\n",
      "  Train Acc = 1.0000, Train Prec = 1.0000, Train Rec = 1.0000, Train F1 = 1.0000, Train Loss = 0.0006\n",
      "  Val Acc = 0.9448, Val Prec = 0.8261, Val Rec = 0.8837, Val F1 = 0.8539, Val Loss = 0.3747\n"
     ]
    },
    {
     "name": "stderr",
     "output_type": "stream",
     "text": [
      "Epoch 51 - Training: 100%|██████████| 59/59 [00:20<00:00,  2.92it/s]\n",
      "Epoch 51 - Validation: 100%|██████████| 15/15 [00:01<00:00,  8.70it/s]\n"
     ]
    },
    {
     "name": "stdout",
     "output_type": "stream",
     "text": [
      "Epoch 51:\n",
      "  Train Acc = 1.0000, Train Prec = 1.0000, Train Rec = 1.0000, Train F1 = 1.0000, Train Loss = 0.0003\n",
      "  Val Acc = 0.9406, Val Prec = 0.8085, Val Rec = 0.8837, Val F1 = 0.8444, Val Loss = 0.4073\n"
     ]
    },
    {
     "name": "stderr",
     "output_type": "stream",
     "text": [
      "Epoch 52 - Training: 100%|██████████| 59/59 [00:20<00:00,  2.92it/s]\n",
      "Epoch 52 - Validation: 100%|██████████| 15/15 [00:01<00:00,  8.70it/s]\n"
     ]
    },
    {
     "name": "stdout",
     "output_type": "stream",
     "text": [
      "Epoch 52:\n",
      "  Train Acc = 1.0000, Train Prec = 1.0000, Train Rec = 1.0000, Train F1 = 1.0000, Train Loss = 0.0001\n",
      "  Val Acc = 0.9427, Val Prec = 0.8172, Val Rec = 0.8837, Val F1 = 0.8492, Val Loss = 0.4150\n"
     ]
    },
    {
     "name": "stderr",
     "output_type": "stream",
     "text": [
      "Epoch 53 - Training: 100%|██████████| 59/59 [00:20<00:00,  2.92it/s]\n",
      "Epoch 53 - Validation: 100%|██████████| 15/15 [00:01<00:00,  8.69it/s]\n"
     ]
    },
    {
     "name": "stdout",
     "output_type": "stream",
     "text": [
      "Epoch 53:\n",
      "  Train Acc = 1.0000, Train Prec = 1.0000, Train Rec = 1.0000, Train F1 = 1.0000, Train Loss = 0.0001\n",
      "  Val Acc = 0.9427, Val Prec = 0.8172, Val Rec = 0.8837, Val F1 = 0.8492, Val Loss = 0.4217\n"
     ]
    },
    {
     "name": "stderr",
     "output_type": "stream",
     "text": [
      "Epoch 54 - Training: 100%|██████████| 59/59 [00:20<00:00,  2.91it/s]\n",
      "Epoch 54 - Validation: 100%|██████████| 15/15 [00:01<00:00,  8.70it/s]\n"
     ]
    },
    {
     "name": "stdout",
     "output_type": "stream",
     "text": [
      "Epoch 54:\n",
      "  Train Acc = 1.0000, Train Prec = 1.0000, Train Rec = 1.0000, Train F1 = 1.0000, Train Loss = 0.0001\n",
      "  Val Acc = 0.9427, Val Prec = 0.8172, Val Rec = 0.8837, Val F1 = 0.8492, Val Loss = 0.4296\n"
     ]
    },
    {
     "name": "stderr",
     "output_type": "stream",
     "text": [
      "Epoch 55 - Training: 100%|██████████| 59/59 [00:20<00:00,  2.92it/s]\n",
      "Epoch 55 - Validation: 100%|██████████| 15/15 [00:01<00:00,  8.71it/s]\n"
     ]
    },
    {
     "name": "stdout",
     "output_type": "stream",
     "text": [
      "Epoch 55:\n",
      "  Train Acc = 1.0000, Train Prec = 1.0000, Train Rec = 1.0000, Train F1 = 1.0000, Train Loss = 0.0003\n",
      "  Val Acc = 0.9427, Val Prec = 0.8041, Val Rec = 0.9070, Val F1 = 0.8525, Val Loss = 0.4456\n"
     ]
    },
    {
     "name": "stderr",
     "output_type": "stream",
     "text": [
      "Epoch 56 - Training: 100%|██████████| 59/59 [00:20<00:00,  2.92it/s]\n",
      "Epoch 56 - Validation: 100%|██████████| 15/15 [00:01<00:00,  8.68it/s]\n"
     ]
    },
    {
     "name": "stdout",
     "output_type": "stream",
     "text": [
      "Epoch 56:\n",
      "  Train Acc = 1.0000, Train Prec = 1.0000, Train Rec = 1.0000, Train F1 = 1.0000, Train Loss = 0.0001\n",
      "  Val Acc = 0.9427, Val Prec = 0.8041, Val Rec = 0.9070, Val F1 = 0.8525, Val Loss = 0.4520\n"
     ]
    },
    {
     "name": "stderr",
     "output_type": "stream",
     "text": [
      "Epoch 57 - Training: 100%|██████████| 59/59 [00:20<00:00,  2.92it/s]\n",
      "Epoch 57 - Validation: 100%|██████████| 15/15 [00:01<00:00,  8.66it/s]\n"
     ]
    },
    {
     "name": "stdout",
     "output_type": "stream",
     "text": [
      "Epoch 57:\n",
      "  Train Acc = 1.0000, Train Prec = 1.0000, Train Rec = 1.0000, Train F1 = 1.0000, Train Loss = 0.0001\n",
      "  Val Acc = 0.9448, Val Prec = 0.8125, Val Rec = 0.9070, Val F1 = 0.8571, Val Loss = 0.4536\n"
     ]
    },
    {
     "name": "stderr",
     "output_type": "stream",
     "text": [
      "Epoch 58 - Training: 100%|██████████| 59/59 [00:20<00:00,  2.92it/s]\n",
      "Epoch 58 - Validation: 100%|██████████| 15/15 [00:01<00:00,  8.69it/s]\n"
     ]
    },
    {
     "name": "stdout",
     "output_type": "stream",
     "text": [
      "Epoch 58:\n",
      "  Train Acc = 1.0000, Train Prec = 1.0000, Train Rec = 1.0000, Train F1 = 1.0000, Train Loss = 0.0001\n",
      "  Val Acc = 0.9427, Val Prec = 0.8105, Val Rec = 0.8953, Val F1 = 0.8508, Val Loss = 0.4559\n"
     ]
    },
    {
     "name": "stderr",
     "output_type": "stream",
     "text": [
      "Epoch 59 - Training: 100%|██████████| 59/59 [00:20<00:00,  2.92it/s]\n",
      "Epoch 59 - Validation: 100%|██████████| 15/15 [00:01<00:00,  8.71it/s]\n"
     ]
    },
    {
     "name": "stdout",
     "output_type": "stream",
     "text": [
      "Epoch 59:\n",
      "  Train Acc = 1.0000, Train Prec = 1.0000, Train Rec = 1.0000, Train F1 = 1.0000, Train Loss = 0.0001\n",
      "  Val Acc = 0.9427, Val Prec = 0.8105, Val Rec = 0.8953, Val F1 = 0.8508, Val Loss = 0.4589\n"
     ]
    },
    {
     "name": "stderr",
     "output_type": "stream",
     "text": [
      "Epoch 60 - Training: 100%|██████████| 59/59 [00:20<00:00,  2.92it/s]\n",
      "Epoch 60 - Validation: 100%|██████████| 15/15 [00:01<00:00,  8.70it/s]\n"
     ]
    },
    {
     "name": "stdout",
     "output_type": "stream",
     "text": [
      "Epoch 60:\n",
      "  Train Acc = 1.0000, Train Prec = 1.0000, Train Rec = 1.0000, Train F1 = 1.0000, Train Loss = 0.0001\n",
      "  Val Acc = 0.9448, Val Prec = 0.8191, Val Rec = 0.8953, Val F1 = 0.8556, Val Loss = 0.4614\n"
     ]
    },
    {
     "name": "stderr",
     "output_type": "stream",
     "text": [
      "Epoch 61 - Training: 100%|██████████| 59/59 [00:20<00:00,  2.92it/s]\n",
      "Epoch 61 - Validation: 100%|██████████| 15/15 [00:01<00:00,  8.68it/s]\n"
     ]
    },
    {
     "name": "stdout",
     "output_type": "stream",
     "text": [
      "Epoch 61:\n",
      "  Train Acc = 1.0000, Train Prec = 1.0000, Train Rec = 1.0000, Train F1 = 1.0000, Train Loss = 0.0001\n",
      "  Val Acc = 0.9448, Val Prec = 0.8191, Val Rec = 0.8953, Val F1 = 0.8556, Val Loss = 0.4649\n"
     ]
    },
    {
     "name": "stderr",
     "output_type": "stream",
     "text": [
      "Epoch 62 - Training: 100%|██████████| 59/59 [00:20<00:00,  2.92it/s]\n",
      "Epoch 62 - Validation: 100%|██████████| 15/15 [00:01<00:00,  8.68it/s]\n"
     ]
    },
    {
     "name": "stdout",
     "output_type": "stream",
     "text": [
      "Epoch 62:\n",
      "  Train Acc = 1.0000, Train Prec = 1.0000, Train Rec = 1.0000, Train F1 = 1.0000, Train Loss = 0.0001\n",
      "  Val Acc = 0.9448, Val Prec = 0.8191, Val Rec = 0.8953, Val F1 = 0.8556, Val Loss = 0.4678\n"
     ]
    },
    {
     "name": "stderr",
     "output_type": "stream",
     "text": [
      "Epoch 63 - Training: 100%|██████████| 59/59 [00:20<00:00,  2.92it/s]\n",
      "Epoch 63 - Validation: 100%|██████████| 15/15 [00:01<00:00,  8.70it/s]\n"
     ]
    },
    {
     "name": "stdout",
     "output_type": "stream",
     "text": [
      "Epoch 63:\n",
      "  Train Acc = 1.0000, Train Prec = 1.0000, Train Rec = 1.0000, Train F1 = 1.0000, Train Loss = 0.0000\n",
      "  Val Acc = 0.9427, Val Prec = 0.8172, Val Rec = 0.8837, Val F1 = 0.8492, Val Loss = 0.4710\n"
     ]
    },
    {
     "name": "stderr",
     "output_type": "stream",
     "text": [
      "Epoch 64 - Training: 100%|██████████| 59/59 [00:20<00:00,  2.92it/s]\n",
      "Epoch 64 - Validation: 100%|██████████| 15/15 [00:01<00:00,  8.71it/s]\n"
     ]
    },
    {
     "name": "stdout",
     "output_type": "stream",
     "text": [
      "Epoch 64:\n",
      "  Train Acc = 1.0000, Train Prec = 1.0000, Train Rec = 1.0000, Train F1 = 1.0000, Train Loss = 0.0001\n",
      "  Val Acc = 0.9427, Val Prec = 0.8041, Val Rec = 0.9070, Val F1 = 0.8525, Val Loss = 0.4864\n"
     ]
    },
    {
     "name": "stderr",
     "output_type": "stream",
     "text": [
      "Epoch 65 - Training: 100%|██████████| 59/59 [00:20<00:00,  2.92it/s]\n",
      "Epoch 65 - Validation: 100%|██████████| 15/15 [00:01<00:00,  8.68it/s]\n"
     ]
    },
    {
     "name": "stdout",
     "output_type": "stream",
     "text": [
      "Epoch 65:\n",
      "  Train Acc = 1.0000, Train Prec = 1.0000, Train Rec = 1.0000, Train F1 = 1.0000, Train Loss = 0.0001\n",
      "  Val Acc = 0.9427, Val Prec = 0.8041, Val Rec = 0.9070, Val F1 = 0.8525, Val Loss = 0.4868\n"
     ]
    },
    {
     "name": "stderr",
     "output_type": "stream",
     "text": [
      "Epoch 66 - Training: 100%|██████████| 59/59 [00:20<00:00,  2.92it/s]\n",
      "Epoch 66 - Validation: 100%|██████████| 15/15 [00:01<00:00,  8.69it/s]\n"
     ]
    },
    {
     "name": "stdout",
     "output_type": "stream",
     "text": [
      "Epoch 66:\n",
      "  Train Acc = 1.0000, Train Prec = 1.0000, Train Rec = 1.0000, Train F1 = 1.0000, Train Loss = 0.0000\n",
      "  Val Acc = 0.9448, Val Prec = 0.8125, Val Rec = 0.9070, Val F1 = 0.8571, Val Loss = 0.4875\n"
     ]
    },
    {
     "name": "stderr",
     "output_type": "stream",
     "text": [
      "Epoch 67 - Training: 100%|██████████| 59/59 [00:20<00:00,  2.92it/s]\n",
      "Epoch 67 - Validation: 100%|██████████| 15/15 [00:01<00:00,  8.70it/s]\n"
     ]
    },
    {
     "name": "stdout",
     "output_type": "stream",
     "text": [
      "Epoch 67:\n",
      "  Train Acc = 1.0000, Train Prec = 1.0000, Train Rec = 1.0000, Train F1 = 1.0000, Train Loss = 0.0000\n",
      "  Val Acc = 0.9448, Val Prec = 0.8125, Val Rec = 0.9070, Val F1 = 0.8571, Val Loss = 0.4898\n"
     ]
    },
    {
     "name": "stderr",
     "output_type": "stream",
     "text": [
      "Epoch 68 - Training: 100%|██████████| 59/59 [00:20<00:00,  2.92it/s]\n",
      "Epoch 68 - Validation: 100%|██████████| 15/15 [00:01<00:00,  8.70it/s]\n"
     ]
    },
    {
     "name": "stdout",
     "output_type": "stream",
     "text": [
      "Epoch 68:\n",
      "  Train Acc = 1.0000, Train Prec = 1.0000, Train Rec = 1.0000, Train F1 = 1.0000, Train Loss = 0.0001\n",
      "  Val Acc = 0.9448, Val Prec = 0.8125, Val Rec = 0.9070, Val F1 = 0.8571, Val Loss = 0.4919\n"
     ]
    },
    {
     "name": "stderr",
     "output_type": "stream",
     "text": [
      "Epoch 69 - Training: 100%|██████████| 59/59 [00:20<00:00,  2.92it/s]\n",
      "Epoch 69 - Validation: 100%|██████████| 15/15 [00:01<00:00,  8.69it/s]\n"
     ]
    },
    {
     "name": "stdout",
     "output_type": "stream",
     "text": [
      "Epoch 69:\n",
      "  Train Acc = 1.0000, Train Prec = 1.0000, Train Rec = 1.0000, Train F1 = 1.0000, Train Loss = 0.0000\n",
      "  Val Acc = 0.9448, Val Prec = 0.8125, Val Rec = 0.9070, Val F1 = 0.8571, Val Loss = 0.4938\n"
     ]
    },
    {
     "name": "stderr",
     "output_type": "stream",
     "text": [
      "Epoch 70 - Training: 100%|██████████| 59/59 [00:20<00:00,  2.91it/s]\n",
      "Epoch 70 - Validation: 100%|██████████| 15/15 [00:01<00:00,  8.70it/s]\n"
     ]
    },
    {
     "name": "stdout",
     "output_type": "stream",
     "text": [
      "Epoch 70:\n",
      "  Train Acc = 1.0000, Train Prec = 1.0000, Train Rec = 1.0000, Train F1 = 1.0000, Train Loss = 0.0000\n",
      "  Val Acc = 0.9427, Val Prec = 0.8172, Val Rec = 0.8837, Val F1 = 0.8492, Val Loss = 0.5032\n"
     ]
    },
    {
     "name": "stderr",
     "output_type": "stream",
     "text": [
      "Epoch 71 - Training: 100%|██████████| 59/59 [00:20<00:00,  2.92it/s]\n",
      "Epoch 71 - Validation: 100%|██████████| 15/15 [00:01<00:00,  8.70it/s]\n"
     ]
    },
    {
     "name": "stdout",
     "output_type": "stream",
     "text": [
      "Epoch 71:\n",
      "  Train Acc = 1.0000, Train Prec = 1.0000, Train Rec = 1.0000, Train F1 = 1.0000, Train Loss = 0.0000\n",
      "  Val Acc = 0.9427, Val Prec = 0.8172, Val Rec = 0.8837, Val F1 = 0.8492, Val Loss = 0.5057\n"
     ]
    },
    {
     "name": "stderr",
     "output_type": "stream",
     "text": [
      "Epoch 72 - Training: 100%|██████████| 59/59 [00:20<00:00,  2.91it/s]\n",
      "Epoch 72 - Validation: 100%|██████████| 15/15 [00:01<00:00,  8.70it/s]\n"
     ]
    },
    {
     "name": "stdout",
     "output_type": "stream",
     "text": [
      "Epoch 72:\n",
      "  Train Acc = 1.0000, Train Prec = 1.0000, Train Rec = 1.0000, Train F1 = 1.0000, Train Loss = 0.0000\n",
      "  Val Acc = 0.9427, Val Prec = 0.8172, Val Rec = 0.8837, Val F1 = 0.8492, Val Loss = 0.5086\n"
     ]
    },
    {
     "name": "stderr",
     "output_type": "stream",
     "text": [
      "Epoch 73 - Training: 100%|██████████| 59/59 [00:20<00:00,  2.92it/s]\n",
      "Epoch 73 - Validation: 100%|██████████| 15/15 [00:01<00:00,  8.68it/s]\n"
     ]
    },
    {
     "name": "stdout",
     "output_type": "stream",
     "text": [
      "Epoch 73:\n",
      "  Train Acc = 1.0000, Train Prec = 1.0000, Train Rec = 1.0000, Train F1 = 1.0000, Train Loss = 0.0000\n",
      "  Val Acc = 0.9427, Val Prec = 0.8172, Val Rec = 0.8837, Val F1 = 0.8492, Val Loss = 0.5110\n"
     ]
    },
    {
     "name": "stderr",
     "output_type": "stream",
     "text": [
      "Epoch 74 - Training: 100%|██████████| 59/59 [00:20<00:00,  2.92it/s]\n",
      "Epoch 74 - Validation: 100%|██████████| 15/15 [00:01<00:00,  8.70it/s]\n"
     ]
    },
    {
     "name": "stdout",
     "output_type": "stream",
     "text": [
      "Epoch 74:\n",
      "  Train Acc = 1.0000, Train Prec = 1.0000, Train Rec = 1.0000, Train F1 = 1.0000, Train Loss = 0.0000\n",
      "  Val Acc = 0.9427, Val Prec = 0.8172, Val Rec = 0.8837, Val F1 = 0.8492, Val Loss = 0.5148\n"
     ]
    },
    {
     "name": "stderr",
     "output_type": "stream",
     "text": [
      "Epoch 75 - Training: 100%|██████████| 59/59 [00:20<00:00,  2.92it/s]\n",
      "Epoch 75 - Validation: 100%|██████████| 15/15 [00:01<00:00,  8.69it/s]\n"
     ]
    },
    {
     "name": "stdout",
     "output_type": "stream",
     "text": [
      "Epoch 75:\n",
      "  Train Acc = 1.0000, Train Prec = 1.0000, Train Rec = 1.0000, Train F1 = 1.0000, Train Loss = 0.0000\n",
      "  Val Acc = 0.9427, Val Prec = 0.8172, Val Rec = 0.8837, Val F1 = 0.8492, Val Loss = 0.5170\n"
     ]
    },
    {
     "name": "stderr",
     "output_type": "stream",
     "text": [
      "Epoch 76 - Training: 100%|██████████| 59/59 [00:20<00:00,  2.92it/s]\n",
      "Epoch 76 - Validation: 100%|██████████| 15/15 [00:01<00:00,  8.68it/s]\n"
     ]
    },
    {
     "name": "stdout",
     "output_type": "stream",
     "text": [
      "Epoch 76:\n",
      "  Train Acc = 1.0000, Train Prec = 1.0000, Train Rec = 1.0000, Train F1 = 1.0000, Train Loss = 0.0000\n",
      "  Val Acc = 0.9427, Val Prec = 0.8172, Val Rec = 0.8837, Val F1 = 0.8492, Val Loss = 0.5194\n"
     ]
    },
    {
     "name": "stderr",
     "output_type": "stream",
     "text": [
      "Epoch 77 - Training: 100%|██████████| 59/59 [00:20<00:00,  2.91it/s]\n",
      "Epoch 77 - Validation: 100%|██████████| 15/15 [00:01<00:00,  8.69it/s]\n"
     ]
    },
    {
     "name": "stdout",
     "output_type": "stream",
     "text": [
      "Epoch 77:\n",
      "  Train Acc = 1.0000, Train Prec = 1.0000, Train Rec = 1.0000, Train F1 = 1.0000, Train Loss = 0.0000\n",
      "  Val Acc = 0.9427, Val Prec = 0.8172, Val Rec = 0.8837, Val F1 = 0.8492, Val Loss = 0.5216\n"
     ]
    },
    {
     "name": "stderr",
     "output_type": "stream",
     "text": [
      "Epoch 78 - Training: 100%|██████████| 59/59 [00:20<00:00,  2.92it/s]\n",
      "Epoch 78 - Validation: 100%|██████████| 15/15 [00:01<00:00,  8.69it/s]\n"
     ]
    },
    {
     "name": "stdout",
     "output_type": "stream",
     "text": [
      "Epoch 78:\n",
      "  Train Acc = 1.0000, Train Prec = 1.0000, Train Rec = 1.0000, Train F1 = 1.0000, Train Loss = 0.0000\n",
      "  Val Acc = 0.9427, Val Prec = 0.8172, Val Rec = 0.8837, Val F1 = 0.8492, Val Loss = 0.5342\n"
     ]
    },
    {
     "name": "stderr",
     "output_type": "stream",
     "text": [
      "Epoch 79 - Training: 100%|██████████| 59/59 [00:20<00:00,  2.92it/s]\n",
      "Epoch 79 - Validation: 100%|██████████| 15/15 [00:01<00:00,  8.69it/s]\n"
     ]
    },
    {
     "name": "stdout",
     "output_type": "stream",
     "text": [
      "Epoch 79:\n",
      "  Train Acc = 1.0000, Train Prec = 1.0000, Train Rec = 1.0000, Train F1 = 1.0000, Train Loss = 0.0003\n",
      "  Val Acc = 0.9427, Val Prec = 0.8172, Val Rec = 0.8837, Val F1 = 0.8492, Val Loss = 0.5303\n"
     ]
    },
    {
     "name": "stderr",
     "output_type": "stream",
     "text": [
      "Epoch 80 - Training: 100%|██████████| 59/59 [00:20<00:00,  2.92it/s]\n",
      "Epoch 80 - Validation: 100%|██████████| 15/15 [00:01<00:00,  8.69it/s]\n"
     ]
    },
    {
     "name": "stdout",
     "output_type": "stream",
     "text": [
      "Epoch 80:\n",
      "  Train Acc = 1.0000, Train Prec = 1.0000, Train Rec = 1.0000, Train F1 = 1.0000, Train Loss = 0.0000\n",
      "  Val Acc = 0.9363, Val Prec = 0.8111, Val Rec = 0.8488, Val F1 = 0.8295, Val Loss = 0.5517\n"
     ]
    },
    {
     "name": "stderr",
     "output_type": "stream",
     "text": [
      "Epoch 81 - Training: 100%|██████████| 59/59 [00:20<00:00,  2.91it/s]\n",
      "Epoch 81 - Validation: 100%|██████████| 15/15 [00:01<00:00,  8.67it/s]\n"
     ]
    },
    {
     "name": "stdout",
     "output_type": "stream",
     "text": [
      "Epoch 81:\n",
      "  Train Acc = 1.0000, Train Prec = 1.0000, Train Rec = 1.0000, Train F1 = 1.0000, Train Loss = 0.0000\n",
      "  Val Acc = 0.9363, Val Prec = 0.8111, Val Rec = 0.8488, Val F1 = 0.8295, Val Loss = 0.5557\n"
     ]
    },
    {
     "name": "stderr",
     "output_type": "stream",
     "text": [
      "Epoch 82 - Training: 100%|██████████| 59/59 [00:20<00:00,  2.91it/s]\n",
      "Epoch 82 - Validation: 100%|██████████| 15/15 [00:01<00:00,  8.68it/s]\n"
     ]
    },
    {
     "name": "stdout",
     "output_type": "stream",
     "text": [
      "Epoch 82:\n",
      "  Train Acc = 1.0000, Train Prec = 1.0000, Train Rec = 1.0000, Train F1 = 1.0000, Train Loss = 0.0000\n",
      "  Val Acc = 0.9363, Val Prec = 0.8111, Val Rec = 0.8488, Val F1 = 0.8295, Val Loss = 0.5582\n"
     ]
    },
    {
     "name": "stderr",
     "output_type": "stream",
     "text": [
      "Epoch 83 - Training: 100%|██████████| 59/59 [00:20<00:00,  2.91it/s]\n",
      "Epoch 83 - Validation: 100%|██████████| 15/15 [00:01<00:00,  8.66it/s]\n"
     ]
    },
    {
     "name": "stdout",
     "output_type": "stream",
     "text": [
      "Epoch 83:\n",
      "  Train Acc = 1.0000, Train Prec = 1.0000, Train Rec = 1.0000, Train F1 = 1.0000, Train Loss = 0.0001\n",
      "  Val Acc = 0.9363, Val Prec = 0.8182, Val Rec = 0.8372, Val F1 = 0.8276, Val Loss = 0.5708\n"
     ]
    },
    {
     "name": "stderr",
     "output_type": "stream",
     "text": [
      "Epoch 84 - Training: 100%|██████████| 59/59 [00:20<00:00,  2.91it/s]\n",
      "Epoch 84 - Validation: 100%|██████████| 15/15 [00:01<00:00,  8.70it/s]\n"
     ]
    },
    {
     "name": "stdout",
     "output_type": "stream",
     "text": [
      "Epoch 84:\n",
      "  Train Acc = 1.0000, Train Prec = 1.0000, Train Rec = 1.0000, Train F1 = 1.0000, Train Loss = 0.0001\n",
      "  Val Acc = 0.9299, Val Prec = 0.7677, Val Rec = 0.8837, Val F1 = 0.8216, Val Loss = 0.6259\n"
     ]
    },
    {
     "name": "stderr",
     "output_type": "stream",
     "text": [
      "Epoch 85 - Training: 100%|██████████| 59/59 [00:20<00:00,  2.91it/s]\n",
      "Epoch 85 - Validation: 100%|██████████| 15/15 [00:01<00:00,  8.65it/s]\n"
     ]
    },
    {
     "name": "stdout",
     "output_type": "stream",
     "text": [
      "Epoch 85:\n",
      "  Train Acc = 1.0000, Train Prec = 1.0000, Train Rec = 1.0000, Train F1 = 1.0000, Train Loss = 0.0000\n",
      "  Val Acc = 0.9299, Val Prec = 0.7677, Val Rec = 0.8837, Val F1 = 0.8216, Val Loss = 0.6283\n"
     ]
    },
    {
     "name": "stderr",
     "output_type": "stream",
     "text": [
      "Epoch 86 - Training: 100%|██████████| 59/59 [00:20<00:00,  2.91it/s]\n",
      "Epoch 86 - Validation: 100%|██████████| 15/15 [00:01<00:00,  8.68it/s]\n"
     ]
    },
    {
     "name": "stdout",
     "output_type": "stream",
     "text": [
      "Epoch 86:\n",
      "  Train Acc = 1.0000, Train Prec = 1.0000, Train Rec = 1.0000, Train F1 = 1.0000, Train Loss = 0.0000\n",
      "  Val Acc = 0.9321, Val Prec = 0.7755, Val Rec = 0.8837, Val F1 = 0.8261, Val Loss = 0.6261\n"
     ]
    },
    {
     "name": "stderr",
     "output_type": "stream",
     "text": [
      "Epoch 87 - Training: 100%|██████████| 59/59 [00:20<00:00,  2.92it/s]\n",
      "Epoch 87 - Validation: 100%|██████████| 15/15 [00:01<00:00,  8.68it/s]\n"
     ]
    },
    {
     "name": "stdout",
     "output_type": "stream",
     "text": [
      "Epoch 87:\n",
      "  Train Acc = 1.0000, Train Prec = 1.0000, Train Rec = 1.0000, Train F1 = 1.0000, Train Loss = 0.0000\n",
      "  Val Acc = 0.9342, Val Prec = 0.7835, Val Rec = 0.8837, Val F1 = 0.8306, Val Loss = 0.6277\n"
     ]
    },
    {
     "name": "stderr",
     "output_type": "stream",
     "text": [
      "Epoch 88 - Training: 100%|██████████| 59/59 [00:20<00:00,  2.91it/s]\n",
      "Epoch 88 - Validation: 100%|██████████| 15/15 [00:01<00:00,  8.70it/s]\n"
     ]
    },
    {
     "name": "stdout",
     "output_type": "stream",
     "text": [
      "Epoch 88:\n",
      "  Train Acc = 0.9878, Train Prec = 0.9669, Train Rec = 0.9744, Train F1 = 0.9706, Train Loss = 0.0492\n",
      "  Val Acc = 0.9406, Val Prec = 0.7900, Val Rec = 0.9186, Val F1 = 0.8495, Val Loss = 0.2928\n"
     ]
    },
    {
     "name": "stderr",
     "output_type": "stream",
     "text": [
      "Epoch 89 - Training: 100%|██████████| 59/59 [00:20<00:00,  2.92it/s]\n",
      "Epoch 89 - Validation: 100%|██████████| 15/15 [00:01<00:00,  8.70it/s]\n"
     ]
    },
    {
     "name": "stdout",
     "output_type": "stream",
     "text": [
      "Epoch 89:\n",
      "  Train Acc = 0.9968, Train Prec = 0.9948, Train Rec = 0.9897, Train F1 = 0.9923, Train Loss = 0.0113\n",
      "  Val Acc = 0.9278, Val Prec = 0.7500, Val Rec = 0.9070, Val F1 = 0.8211, Val Loss = 0.3096\n"
     ]
    },
    {
     "name": "stderr",
     "output_type": "stream",
     "text": [
      "Epoch 90 - Training: 100%|██████████| 59/59 [00:20<00:00,  2.92it/s]\n",
      "Epoch 90 - Validation: 100%|██████████| 15/15 [00:01<00:00,  8.70it/s]\n"
     ]
    },
    {
     "name": "stdout",
     "output_type": "stream",
     "text": [
      "Epoch 90:\n",
      "  Train Acc = 1.0000, Train Prec = 1.0000, Train Rec = 1.0000, Train F1 = 1.0000, Train Loss = 0.0007\n",
      "  Val Acc = 0.9236, Val Prec = 0.7404, Val Rec = 0.8953, Val F1 = 0.8105, Val Loss = 0.4245\n"
     ]
    },
    {
     "name": "stderr",
     "output_type": "stream",
     "text": [
      "Epoch 91 - Training: 100%|██████████| 59/59 [00:20<00:00,  2.92it/s]\n",
      "Epoch 91 - Validation: 100%|██████████| 15/15 [00:01<00:00,  8.70it/s]\n"
     ]
    },
    {
     "name": "stdout",
     "output_type": "stream",
     "text": [
      "Epoch 91:\n",
      "  Train Acc = 0.9995, Train Prec = 0.9974, Train Rec = 1.0000, Train F1 = 0.9987, Train Loss = 0.0031\n",
      "  Val Acc = 0.9427, Val Prec = 0.8105, Val Rec = 0.8953, Val F1 = 0.8508, Val Loss = 0.3842\n"
     ]
    },
    {
     "name": "stderr",
     "output_type": "stream",
     "text": [
      "Epoch 92 - Training: 100%|██████████| 59/59 [00:20<00:00,  2.92it/s]\n",
      "Epoch 92 - Validation: 100%|██████████| 15/15 [00:01<00:00,  8.72it/s]\n"
     ]
    },
    {
     "name": "stdout",
     "output_type": "stream",
     "text": [
      "Epoch 92:\n",
      "  Train Acc = 0.9984, Train Prec = 0.9974, Train Rec = 0.9949, Train F1 = 0.9961, Train Loss = 0.0050\n",
      "  Val Acc = 0.9172, Val Prec = 0.7156, Val Rec = 0.9070, Val F1 = 0.8000, Val Loss = 0.4384\n"
     ]
    },
    {
     "name": "stderr",
     "output_type": "stream",
     "text": [
      "Epoch 93 - Training: 100%|██████████| 59/59 [00:20<00:00,  2.92it/s]\n",
      "Epoch 93 - Validation: 100%|██████████| 15/15 [00:01<00:00,  8.71it/s]\n"
     ]
    },
    {
     "name": "stdout",
     "output_type": "stream",
     "text": [
      "Epoch 93:\n",
      "  Train Acc = 0.9995, Train Prec = 1.0000, Train Rec = 0.9974, Train F1 = 0.9987, Train Loss = 0.0006\n",
      "  Val Acc = 0.9151, Val Prec = 0.7054, Val Rec = 0.9186, Val F1 = 0.7980, Val Loss = 0.5483\n"
     ]
    },
    {
     "name": "stderr",
     "output_type": "stream",
     "text": [
      "Epoch 94 - Training: 100%|██████████| 59/59 [00:20<00:00,  2.92it/s]\n",
      "Epoch 94 - Validation: 100%|██████████| 15/15 [00:01<00:00,  8.71it/s]\n"
     ]
    },
    {
     "name": "stdout",
     "output_type": "stream",
     "text": [
      "Epoch 94:\n",
      "  Train Acc = 1.0000, Train Prec = 1.0000, Train Rec = 1.0000, Train F1 = 1.0000, Train Loss = 0.0002\n",
      "  Val Acc = 0.9321, Val Prec = 0.7755, Val Rec = 0.8837, Val F1 = 0.8261, Val Loss = 0.4854\n"
     ]
    },
    {
     "name": "stderr",
     "output_type": "stream",
     "text": [
      "Epoch 95 - Training: 100%|██████████| 59/59 [00:20<00:00,  2.92it/s]\n",
      "Epoch 95 - Validation: 100%|██████████| 15/15 [00:01<00:00,  8.71it/s]\n"
     ]
    },
    {
     "name": "stdout",
     "output_type": "stream",
     "text": [
      "Epoch 95:\n",
      "  Train Acc = 1.0000, Train Prec = 1.0000, Train Rec = 1.0000, Train F1 = 1.0000, Train Loss = 0.0001\n",
      "  Val Acc = 0.9321, Val Prec = 0.7755, Val Rec = 0.8837, Val F1 = 0.8261, Val Loss = 0.4895\n"
     ]
    },
    {
     "name": "stderr",
     "output_type": "stream",
     "text": [
      "Epoch 96 - Training: 100%|██████████| 59/59 [00:20<00:00,  2.92it/s]\n",
      "Epoch 96 - Validation: 100%|██████████| 15/15 [00:01<00:00,  8.70it/s]\n"
     ]
    },
    {
     "name": "stdout",
     "output_type": "stream",
     "text": [
      "Epoch 96:\n",
      "  Train Acc = 1.0000, Train Prec = 1.0000, Train Rec = 1.0000, Train F1 = 1.0000, Train Loss = 0.0001\n",
      "  Val Acc = 0.9342, Val Prec = 0.7835, Val Rec = 0.8837, Val F1 = 0.8306, Val Loss = 0.4895\n"
     ]
    },
    {
     "name": "stderr",
     "output_type": "stream",
     "text": [
      "Epoch 97 - Training: 100%|██████████| 59/59 [00:20<00:00,  2.92it/s]\n",
      "Epoch 97 - Validation: 100%|██████████| 15/15 [00:01<00:00,  8.70it/s]\n"
     ]
    },
    {
     "name": "stdout",
     "output_type": "stream",
     "text": [
      "Epoch 97:\n",
      "  Train Acc = 1.0000, Train Prec = 1.0000, Train Rec = 1.0000, Train F1 = 1.0000, Train Loss = 0.0004\n",
      "  Val Acc = 0.9384, Val Prec = 0.8000, Val Rec = 0.8837, Val F1 = 0.8398, Val Loss = 0.4755\n"
     ]
    },
    {
     "name": "stderr",
     "output_type": "stream",
     "text": [
      "Epoch 98 - Training: 100%|██████████| 59/59 [00:20<00:00,  2.92it/s]\n",
      "Epoch 98 - Validation: 100%|██████████| 15/15 [00:01<00:00,  8.70it/s]\n"
     ]
    },
    {
     "name": "stdout",
     "output_type": "stream",
     "text": [
      "Epoch 98:\n",
      "  Train Acc = 1.0000, Train Prec = 1.0000, Train Rec = 1.0000, Train F1 = 1.0000, Train Loss = 0.0000\n",
      "  Val Acc = 0.9384, Val Prec = 0.8000, Val Rec = 0.8837, Val F1 = 0.8398, Val Loss = 0.4999\n"
     ]
    },
    {
     "name": "stderr",
     "output_type": "stream",
     "text": [
      "Epoch 99 - Training: 100%|██████████| 59/59 [00:20<00:00,  2.91it/s]\n",
      "Epoch 99 - Validation: 100%|██████████| 15/15 [00:01<00:00,  8.68it/s]\n"
     ]
    },
    {
     "name": "stdout",
     "output_type": "stream",
     "text": [
      "Epoch 99:\n",
      "  Train Acc = 1.0000, Train Prec = 1.0000, Train Rec = 1.0000, Train F1 = 1.0000, Train Loss = 0.0000\n",
      "  Val Acc = 0.9384, Val Prec = 0.8000, Val Rec = 0.8837, Val F1 = 0.8398, Val Loss = 0.5068\n"
     ]
    },
    {
     "name": "stderr",
     "output_type": "stream",
     "text": [
      "Epoch 100 - Training: 100%|██████████| 59/59 [00:20<00:00,  2.92it/s]\n",
      "Epoch 100 - Validation: 100%|██████████| 15/15 [00:01<00:00,  8.67it/s]"
     ]
    },
    {
     "name": "stdout",
     "output_type": "stream",
     "text": [
      "Epoch 100:\n",
      "  Train Acc = 1.0000, Train Prec = 1.0000, Train Rec = 1.0000, Train F1 = 1.0000, Train Loss = 0.0000\n",
      "  Val Acc = 0.9384, Val Prec = 0.8000, Val Rec = 0.8837, Val F1 = 0.8398, Val Loss = 0.5133\n",
      "Training finished.\n"
     ]
    },
    {
     "name": "stderr",
     "output_type": "stream",
     "text": [
      "\n"
     ]
    }
   ],
   "source": [
    "# 학습 시작\n",
    "\n",
    "best_val_f1 = 0.0\n",
    "best_model_path = None\n",
    "\n",
    "for epoch in range(EPOCHS):\n",
    "    model.train()\n",
    "\n",
    "    train_loss = 0.0\n",
    "    train_predictions = []\n",
    "    train_labels_epoch = []\n",
    "\n",
    "    for batch in tqdm(train_dataloader, desc=f'Epoch {epoch + 1} - Training'):\n",
    "        input_ids = batch[0].to(device)\n",
    "        attention_mask = batch[1].to(device)\n",
    "        labels = batch[2].to(device)\n",
    "\n",
    "        optimizer.zero_grad()\n",
    "        outputs = model(input_ids, attention_mask=attention_mask, labels=labels)\n",
    "        loss = outputs.loss\n",
    "        train_loss += loss.item()\n",
    "        loss.backward()\n",
    "        optimizer.step()\n",
    "        scheduler.step()\n",
    "        logits = outputs.logits\n",
    "        predictions = torch.argmax(logits, dim=1)\n",
    "\n",
    "        train_predictions.extend(predictions.tolist())\n",
    "        train_labels_epoch.extend(labels.tolist())\n",
    "\n",
    "    train_acc, train_prec, train_rec, train_f1 = calculate_metrics(train_labels_epoch, train_predictions)\n",
    "    train_accs.append(train_acc)\n",
    "    train_precs.append(train_prec)\n",
    "    train_recs.append(train_rec)\n",
    "    train_f1s.append(train_f1)\n",
    "    train_loss /= len(train_dataloader)\n",
    "    train_losses.append(train_loss)\n",
    "\n",
    "    model.eval()\n",
    "\n",
    "    val_loss = 0.0\n",
    "    val_predictions = []\n",
    "\n",
    "    with torch.no_grad():\n",
    "        for batch in tqdm(val_dataloader, desc=f'Epoch {epoch + 1} - Validation'):\n",
    "            input_ids = batch[0].to(device)\n",
    "            attention_mask = batch[1].to(device)\n",
    "            labels = batch[2].to(device)\n",
    "\n",
    "            outputs = model(input_ids, attention_mask=attention_mask, labels=labels)\n",
    "            loss = outputs.loss\n",
    "            val_loss += loss.item()\n",
    "            logits = outputs.logits\n",
    "            predictions = torch.argmax(logits, dim=1)\n",
    "\n",
    "            val_predictions.extend(predictions.tolist())\n",
    "\n",
    "    val_acc, val_prec, val_rec, val_f1 = calculate_metrics(val_labels, val_predictions)\n",
    "    val_accs.append(val_acc)\n",
    "    val_precs.append(val_prec)\n",
    "    val_recs.append(val_rec)\n",
    "    val_f1s.append(val_f1)\n",
    "    val_loss /= len(val_dataloader)\n",
    "    val_losses.append(val_loss)\n",
    "\n",
    "    print(f'Epoch {epoch + 1}:')\n",
    "    print(f'  Train Acc = {train_acc:.4f}, Train Prec = {train_prec:.4f}, Train Rec = {train_rec:.4f}, Train F1 = {train_f1:.4f}, Train Loss = {train_loss:.4f}')\n",
    "    print(f'  Val Acc = {val_acc:.4f}, Val Prec = {val_prec:.4f}, Val Rec = {val_rec:.4f}, Val F1 = {val_f1:.4f}, Val Loss = {val_loss:.4f}')\n",
    "\n",
    "    if val_f1 > best_val_f1:\n",
    "        best_val_f1 = val_f1\n",
    "        best_model_path = f'model-{epoch + 1}-{best_val_f1:.4f}'\n",
    "        model.save_pretrained(best_model_path)\n",
    "        tokenizer.save_pretrained(best_model_path)\n",
    "        print(f'  Best model saved with {best_val_f1:.4f} F1 score.')\n",
    "\n",
    "print('Training finished.')"
   ]
  },
  {
   "cell_type": "code",
   "execution_count": 18,
   "metadata": {},
   "outputs": [
    {
     "data": {
      "image/png": "[encoded data removed]",
      "text/plain": [
       "<Figure size 1400x1000 with 4 Axes>"
      ]
     },
     "metadata": {},
     "output_type": "display_data"
    },
    {
     "data": {
      "image/png": "[encoded data removed]",
      "text/plain": [
       "<Figure size 800x600 with 1 Axes>"
      ]
     },
     "metadata": {},
     "output_type": "display_data"
    }
   ],
   "source": [
    "# 학습 결과 시각화\n",
    "\n",
    "plt.figure(figsize=(14, 10))\n",
    "\n",
    "plt.subplot(2, 2, 1)\n",
    "plt.plot(train_accs, label='Train Acc')\n",
    "plt.plot(val_accs, label='Val Acc')\n",
    "plt.xlabel('Epoch')\n",
    "plt.xticks(range(len(train_accs)), range(1, len(train_accs) + 1))\n",
    "plt.ylabel('Accuracy')\n",
    "plt.legend()\n",
    "plt.title('Accuracy')\n",
    "\n",
    "plt.subplot(2, 2, 2)\n",
    "plt.plot(train_precs, label='Train Precision')\n",
    "plt.plot(val_precs, label='Val Precision')\n",
    "plt.xlabel('Epoch')\n",
    "plt.xticks(range(len(train_precs)), range(1, len(train_precs) + 1))\n",
    "plt.ylabel('Precision')\n",
    "plt.legend()\n",
    "plt.title('Precision')\n",
    "\n",
    "plt.subplot(2, 2, 3)\n",
    "plt.plot(train_recs, label='Train Recall')\n",
    "plt.plot(val_recs, label='Val Recall')\n",
    "plt.xlabel('Epoch')\n",
    "plt.xticks(range(len(train_recs)), range(1, len(train_recs) + 1))\n",
    "plt.ylabel('Recall')\n",
    "plt.legend()\n",
    "plt.title('Recall')\n",
    "\n",
    "plt.subplot(2, 2, 4)\n",
    "plt.plot(train_f1s, label='Train F1 Score')\n",
    "plt.plot(val_f1s, label='Val F1 Score')\n",
    "plt.xlabel('Epoch')\n",
    "plt.xticks(range(len(train_f1s)), range(1, len(train_f1s) + 1))\n",
    "plt.ylabel('F1 Score')\n",
    "plt.legend()\n",
    "plt.title('F1 Score')\n",
    "\n",
    "plt.tight_layout()\n",
    "plt.show()\n",
    "\n",
    "plt.figure(figsize=(8, 6))\n",
    "plt.plot(train_losses, label='Train Loss')\n",
    "plt.plot(val_losses, label='Val Loss')\n",
    "plt.xlabel('Epoch')\n",
    "plt.xticks(range(len(train_losses)), range(1, len(train_losses) + 1))\n",
    "plt.ylabel('Loss')\n",
    "plt.legend()\n",
    "plt.title('Loss')\n",
    "plt.show()"
   ]
  },
  {
   "cell_type": "code",
   "execution_count": 19,
   "metadata": {},
   "outputs": [
    {
     "name": "stdout",
     "output_type": "stream",
     "text": [
      "텍스트: 이번 학기 선형대수학 수업 너무 어려워요. 교수님 강의 스타일이 적응이 안 됩니다.\n",
      "예측: 수업/이과 [0.0020770500414073467, 0.997922956943512]\n",
      "\n",
      "텍스트: 자바 프로그래밍 과제 제출 기한이 언제까지인가요?\n",
      "예측: 수업/이과 [0.0020984646398574114, 0.9979015588760376]\n",
      "\n",
      "텍스트: 데이터베이스 설계 프로젝트 팀원 구합니다. 같이 하실 분 연락 주세요.\n",
      "예측: 수업/이과 [0.002248830161988735, 0.9977511763572693]\n",
      "\n",
      "텍스트: 기계학습 수업에서 배우는 알고리즘들이 흥미롭네요. 실제 활용 사례도 알고 싶어요.\n",
      "예측: 수업/이과 [0.0021366244181990623, 0.9978633522987366]\n",
      "\n",
      "텍스트: 오퍼레이션스 리서치 수업 듣는 사람 있나요? 같이 공부해요.\n",
      "예측: 수업/이과 [0.0028402789030224085, 0.9971597194671631]\n",
      "\n",
      "텍스트: 축제 때 학교에서 벚꽃 구경하는 것도 좋더라.\n",
      "예측: 그 외 [0.999421238899231, 0.0005788368871435523]\n",
      "\n",
      "텍스트: 맛있는 점심 식사 했어요. 오늘 메뉴가 좋았어요.\n",
      "예측: 그 외 [0.9994117021560669, 0.000588282651733607]\n",
      "\n",
      "텍스트: intramural soccer 동아리 활동이 재미있어요. 다음 경기가 기대됩니다.\n",
      "예측: 수업/이과 [0.13972139358520508, 0.8602786660194397]\n",
      "\n",
      "텍스트: 도서관에서 공부하다가 커피 마시러 갔어요.\n",
      "예측: 그 외 [0.9993516802787781, 0.0006483028410002589]\n",
      "\n",
      "텍스트: 날씨가 좋아서 친구들이랑 한강 공원에서 운동했어요.\n",
      "예측: 그 외 [0.9993460774421692, 0.0006539611495099962]\n",
      "\n",
      "텍스트: 장학금 받았는데 성적장학금인거 증명할 수 있는 증명서? 뽑을 수 있나요?\n",
      "예측: 그 외 [0.9993840456008911, 0.0006159442709758878]\n",
      "\n"
     ]
    }
   ],
   "source": [
    "# 평가\n",
    "\n",
    "model = AutoModelForSequenceClassification.from_pretrained(best_model_path, num_labels=2)\n",
    "model.to(device)\n",
    "\n",
    "predictions = [\n",
    "    '이번 학기 선형대수학 수업 너무 어려워요. 교수님 강의 스타일이 적응이 안 됩니다.',\n",
    "    '자바 프로그래밍 과제 제출 기한이 언제까지인가요?',\n",
    "    '데이터베이스 설계 프로젝트 팀원 구합니다. 같이 하실 분 연락 주세요.',\n",
    "    '기계학습 수업에서 배우는 알고리즘들이 흥미롭네요. 실제 활용 사례도 알고 싶어요.',\n",
    "    '오퍼레이션스 리서치 수업 듣는 사람 있나요? 같이 공부해요.',\n",
    "    '축제 때 학교에서 벚꽃 구경하는 것도 좋더라.',\n",
    "    '맛있는 점심 식사 했어요. 오늘 메뉴가 좋았어요.',\n",
    "    'intramural soccer 동아리 활동이 재미있어요. 다음 경기가 기대됩니다.',\n",
    "    '도서관에서 공부하다가 커피 마시러 갔어요.',\n",
    "    '날씨가 좋아서 친구들이랑 한강 공원에서 운동했어요.',\n",
    "    '장학금 받았는데 성적장학금인거 증명할 수 있는 증명서? 뽑을 수 있나요?'\n",
    "]\n",
    "\n",
    "encodings = tokenizer(\n",
    "    predictions,\n",
    "    padding=True,\n",
    "    truncation=True,\n",
    "    return_tensors='pt',\n",
    "    max_length=MAX_LENGTH\n",
    ")\n",
    "input_ids = encodings['input_ids'].to(device)\n",
    "attention_mask = encodings['attention_mask'].to(device)\n",
    "\n",
    "with torch.no_grad():\n",
    "    outputs = model(input_ids, attention_mask=attention_mask)\n",
    "    logits = outputs.logits\n",
    "    probabilities = torch.softmax(logits, dim=1)\n",
    "    predicted_labels = torch.argmax(logits, dim=1).tolist()\n",
    "\n",
    "for text, label, probs in zip(predictions, predicted_labels, probabilities.tolist()):\n",
    "    sentiment = '수업/이과' if label == 1 else '그 외'\n",
    "    print(f'텍스트: {text}')\n",
    "    print(f'예측: {sentiment} {probs}')\n",
    "    print()"
   ]
  }
 ],
 "metadata": {
  "kernelspec": {
   "display_name": "Python 3",
   "language": "python",
   "name": "python3"
  },
  "language_info": {
   "codemirror_mode": {
    "name": "ipython",
    "version": 3
   },
   "file_extension": ".py",
   "mimetype": "text/x-python",
   "name": "python",
   "nbconvert_exporter": "python",
   "pygments_lexer": "ipython3",
   "version": "3.10.12"
  }
 },
 "nbformat": 4,
 "nbformat_minor": 2
}

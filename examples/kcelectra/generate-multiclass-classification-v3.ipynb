{
 "cells": [
  {
   "cell_type": "code",
   "execution_count": 1,
   "metadata": {},
   "outputs": [],
   "source": [
    "# 다른 경로에 있는 모듈을 가져오기 위해 절대 경로 추가\n",
    "\n",
    "import os\n",
    "import sys\n",
    "\n",
    "root = os.path.join(os.path.abspath(os.getcwd()), '..', '..')\n",
    "root = os.path.normpath(root)\n",
    "\n",
    "if root not in sys.path:\n",
    "    sys.path.insert(0, root)"
   ]
  },
  {
   "cell_type": "code",
   "execution_count": 2,
   "metadata": {},
   "outputs": [
    {
     "name": "stderr",
     "output_type": "stream",
     "text": [
      "/tmp/ipykernel_790634/2000937440.py:8: DeprecationWarning: \n",
      "Pyarrow will become a required dependency of pandas in the next major release of pandas (pandas 3.0),\n",
      "(to allow more performant data types, such as the Arrow string type, and better interoperability with other libraries)\n",
      "but was not found to be installed on your system.\n",
      "If this would cause problems for you,\n",
      "please provide us feedback at https://github.com/pandas-dev/pandas/issues/54466\n",
      "        \n",
      "  import pandas as pd\n"
     ]
    }
   ],
   "source": [
    "# 필요한 라이브러리 로드\n",
    "\n",
    "import emoji\n",
    "import json\n",
    "import matplotlib.pyplot as plt\n",
    "import numpy as np\n",
    "import os\n",
    "import pandas as pd\n",
    "import random\n",
    "import re\n",
    "import torch\n",
    "from communav.utils import db\n",
    "from sklearn.metrics import accuracy_score, f1_score, precision_score, recall_score\n",
    "from sklearn.model_selection import train_test_split\n",
    "from soynlp.normalizer import repeat_normalize\n",
    "from tqdm import tqdm\n",
    "from transformers import AutoModelForSequenceClassification, AutoTokenizer, get_linear_schedule_with_warmup"
   ]
  },
  {
   "cell_type": "code",
   "execution_count": 3,
   "metadata": {},
   "outputs": [],
   "source": [
    "# 카테고리 정의\n",
    "\n",
    "CATEGORIES = {\n",
    "    0: '자유',\n",
    "    1: '학사',\n",
    "    2: '장학 · 행정',\n",
    "    3: '학교생활',\n",
    "    4: '수업',\n",
    "    5: '수업/이과',\n",
    "    6: '수업/문과',\n",
    "    7: '캠퍼스',\n",
    "    8: '취업 · 진로',\n",
    "    9: '일상생활',\n",
    "    10: '음식점 · 카페',\n",
    "    11: '취미 · 여가',\n",
    "    12: '인간관계',\n",
    "    13: '병역'\n",
    "}"
   ]
  },
  {
   "cell_type": "code",
   "execution_count": 4,
   "metadata": {},
   "outputs": [],
   "source": [
    "# 파라미터 설정\n",
    "\n",
    "TABLE_NAME = 'everytime_article_dataset_v1'\n",
    "MODEL_ID = 'beomi/KcELECTRA-base-v2022'\n",
    "TOKENIZER_ID = 'beomi/KcELECTRA-base-v2022'\n",
    "SEED = 42\n",
    "USE_RANDOM_SEED = True\n",
    "NUM_LABELS = len(CATEGORIES)\n",
    "MAX_LENGTH = 128\n",
    "METRIC_AVERAGE = 'weighted'\n",
    "METRIC_ZERO_DIVISION = 0\n",
    "BATCH_SIZE = 32\n",
    "EPOCHS = 20\n",
    "LEARNING_RATE = 2e-5\n",
    "SAVE_PATH = '.'"
   ]
  },
  {
   "cell_type": "code",
   "execution_count": 5,
   "metadata": {},
   "outputs": [
    {
     "name": "stdout",
     "output_type": "stream",
     "text": [
      "There are 1 GPU(s) available.\n",
      "We will use the GPU: NVIDIA GeForce RTX 3060 Ti\n"
     ]
    }
   ],
   "source": [
    "# 랜덤 시드 고정\n",
    "\n",
    "if torch.cuda.is_available():\n",
    "    device = torch.device('cuda')\n",
    "    print('There are %d GPU(s) available.' % torch.cuda.device_count())\n",
    "    print('We will use the GPU:', torch.cuda.get_device_name(0))\n",
    "else:\n",
    "    device = torch.device('cpu')\n",
    "    print('No GPU available, using the CPU instead.')\n",
    "\n",
    "if not USE_RANDOM_SEED:\n",
    "    random.seed(SEED)\n",
    "    np.random.seed(SEED)\n",
    "    torch.manual_seed(SEED)\n",
    "    if device.type == 'cuda':\n",
    "        torch.cuda.manual_seed_all(SEED)\n",
    "    torch.backends.cudnn.deterministic = True\n",
    "    torch.backends.cudnn.benchmark = False"
   ]
  },
  {
   "cell_type": "code",
   "execution_count": 6,
   "metadata": {},
   "outputs": [
    {
     "name": "stdout",
     "output_type": "stream",
     "text": [
      "Connected to DB successfully.\n",
      "Loaded 4712 articles.\n"
     ]
    }
   ],
   "source": [
    "# 커뮤니티 게시글 데이터 로드\n",
    "\n",
    "connection = db.get_connection()\n",
    "cursor = connection.cursor()\n",
    "\n",
    "cursor.execute(f'''\n",
    "    SELECT id, title, text, category_id\n",
    "    FROM {TABLE_NAME}\n",
    "    WHERE category_id IS NOT NULL\n",
    "''')\n",
    "original_articles = cursor.fetchall()\n",
    "print(f'Loaded {len(original_articles)} articles.')\n",
    "\n",
    "cursor.close()\n",
    "db.close_connection()"
   ]
  },
  {
   "cell_type": "code",
   "execution_count": 7,
   "metadata": {},
   "outputs": [
    {
     "name": "stdout",
     "output_type": "stream",
     "text": [
      "{'id': 1, 'title': '어제 비마관 화장실에서 핸드폰 찾아주신분!', 'text': '제가 경황이 없어서 감사하다고도 못 했네요.\\n정말 감사합니다!!!', 'category_id': 9}\n",
      "{'id': 3, 'title': '조은문화사 몇시에 보통 열리나요??', 'text': '1교시 수업 책 찾아야되서', 'category_id': 7}\n",
      "{'id': 4, 'title': '전공수업듣는데', 'text': '복학한거처럼 보이는 형이 열심히는 하시던데 뭔가 군대갔다고오고 모든걸 까먹은 자기를 자책하듯이 수업듣는걸 보고 나도 3년후에 저러겠구나 싶더라... ㅠㅠ', 'category_id': 4}\n",
      "{'id': 5, 'title': '정문에 있는 인쇄집들 몇시까지 하는지 아시나요?', 'text': '9시 넘어야 갈수있을거 같은데\\n열어 있을지..', 'category_id': 7}\n",
      "{'id': 8, 'title': '문화유목시대 교재뭔가요', 'text': '정정기간때 신청해서 잘 모르겠어요. ㅠㅠ 계획서보니까 고른다고하는데 뭐에요?', 'category_id': 6}\n",
      "{'id': 13, 'title': '전자회로실험 파형이 물결처럼 나와야하는데 왜 난 일자로 나오지???;;', 'text': '이번에 복학해서 실험들으려는데 그냥 예비는 똑같이 따라하면 되는거 아닌가?\\n왜 일자로만 나와....', 'category_id': 5}\n",
      "{'id': 14, 'title': '전자회로실험 파형이 물결처럼 나와야하는데 왜 난 일자로 나오지???;;', 'text': '이번에 복학해서 실험들으려는데 그냥 예비는 똑같이 따라하면 되는거 아닌가?\\n왜 일자로만 나와....\\n이건 회로인데 뭐가 잘못된거지요????;;', 'category_id': 5}\n",
      "{'id': 17, 'title': '컴퓨터구조 책삽니다', 'text': '표지에 컴퓨터구조 및 설계 써있고 5판 한글판 중고 2만원에삽니다\\nPatterson , Hennessy 저자 입니다', 'category_id': 5}\n",
      "{'id': 18, 'title': '오늘 영화의 이해 수업', 'text': '영화의 이해 유양근 교수님 수업을 못가서 그런데 혹시 교재같은거나 해오라고 하신거 있나요?! ㅜㅜ', 'category_id': 6}\n",
      "{'id': 19, 'title': '초급일본어', 'text': '전유나 초급일본어 책필요한가요?', 'category_id': 6}\n",
      "{'id': 23, 'title': '졸업학점있잖아', 'text': '교양 30  전공 60  선택50 이면 무조건 저거에 딱맞게 이수해야해?? 만약 교양에서 33이수하고 선택에서 47이수하면 졸업안되나??', 'category_id': 1}\n",
      "{'id': 24, 'title': '현대사상의 이해', 'text': '현대사상의 이해 정정한 학생인데 자기소개서에 특별히 써야할 내용이 있는건가요?', 'category_id': 6}\n",
      "{'id': 25, 'title': '성적확인방법 문의드립니다.', 'text': '졸업생인데 인터넷으로 성적확인 및 출력하는 방법 아시는 분 계신가요?', 'category_id': 1}\n",
      "{'id': 26, 'title': '학생증 꼭 만들어야하나요???', 'text': '안만드니까 계속 문자와서;;;학생증 도서관에서 쓰는 거 말고도 많이 필요한가요??ㅠ\\n그리고 모바일 학생증으로도 책 빌릴 수 있나요??', 'category_id': 2}\n",
      "{'id': 28, 'title': '13인치 15인치', 'text': '2시간 통학/ 코딩/ 레포트 면\\n13인치가 더 낫겠죠?!', 'category_id': 9}\n",
      "{'id': 29, 'title': '도키도키~~~', 'text': '일본어!\\n도키도키~~', 'category_id': 0}\n",
      "{'id': 38, 'title': '정형원교수님 정보와현대사회', 'text': '인강 지금 들을 수 있는분 계신가요?유캠에서 듣는걸로 알고있는데 아직 인강이 안떠있어서요', 'category_id': 6}\n",
      "{'id': 44, 'title': '교비근로', 'text': '해보신분 어떤가요?', 'category_id': 2}\n",
      "{'id': 46, 'title': '물리전자 교재없으면 시험기간대비 힘들까요?', 'text': '교재 필요없다고는 하는데', 'category_id': 5}\n",
      "{'id': 49, 'title': '지적재산법 월요일에 출첵했어요?', 'text': '제곧내', 'category_id': 6}\n"
     ]
    }
   ],
   "source": [
    "# 가져온 데이터의 일부를 출력\n",
    "\n",
    "for article in original_articles[:20]:\n",
    "    print(article)"
   ]
  },
  {
   "cell_type": "code",
   "execution_count": 8,
   "metadata": {},
   "outputs": [],
   "source": [
    "# 데이터 전처리 함수 정의\n",
    "\n",
    "normal_pattern = re.compile(r'[^ .,?!/@$%~％·∼()\\x00-\\x7Fㄱ-ㅣ가-힣]+')\n",
    "url_pattern = re.compile(r'https?:\\/\\/(www\\.)?[-a-zA-Z0-9@:%._\\+~#=]{1,256}\\.[a-zA-Z0-9()]{1,6}\\b([-a-zA-Z0-9()@:%_\\+.~#?&//=]*)')\n",
    "\n",
    "def preprocess(value):\n",
    "    value = normal_pattern.sub(' ', value)\n",
    "    value = emoji.replace_emoji(value, replace='')\n",
    "    value = url_pattern.sub('', value)\n",
    "    value = repeat_normalize(value, num_repeats=2)\n",
    "    value = value.strip()\n",
    "    return value"
   ]
  },
  {
   "cell_type": "code",
   "execution_count": 9,
   "metadata": {},
   "outputs": [
    {
     "name": "stderr",
     "output_type": "stream",
     "text": [
      "100%|██████████| 4712/4712 [00:00<00:00, 21931.34it/s]\n"
     ]
    }
   ],
   "source": [
    "# 데이터 전처리\n",
    "\n",
    "preprocessed_articles = []\n",
    "\n",
    "for article in tqdm(original_articles):\n",
    "    title = article['title']\n",
    "    text = article['text']\n",
    "    content = (title + ' ' + text).replace('\\n', ' ')\n",
    "\n",
    "    preprocessed_articles.append({\n",
    "        'content': preprocess(content),\n",
    "        'label': article['category_id']\n",
    "    })"
   ]
  },
  {
   "cell_type": "code",
   "execution_count": 10,
   "metadata": {},
   "outputs": [
    {
     "name": "stdout",
     "output_type": "stream",
     "text": [
      "{'content': '어제 비마관 화장실에서 핸드폰 찾아주신분! 제가 경황이 없어서 감사하다고도 못 했네요. 정말 감사합니다!!!', 'label': 9}\n",
      "{'content': '조은문화사 몇시에 보통 열리나요?? 1교시 수업 책 찾아야되서', 'label': 7}\n",
      "{'content': '전공수업듣는데 복학한거처럼 보이는 형이 열심히는 하시던데 뭔가 군대갔다고오고 모든걸 까먹은 자기를 자책하듯이 수업듣는걸 보고 나도 3년후에 저러겠구나 싶더라... ㅠㅠ', 'label': 4}\n",
      "{'content': '정문에 있는 인쇄집들 몇시까지 하는지 아시나요? 9시 넘어야 갈수있을거 같은데 열어 있을지..', 'label': 7}\n",
      "{'content': '문화유목시대 교재뭔가요 정정기간때 신청해서 잘 모르겠어요. ㅠㅠ 계획서보니까 고른다고하는데 뭐에요?', 'label': 6}\n",
      "{'content': '전자회로실험 파형이 물결처럼 나와야하는데 왜 난 일자로 나오지???;; 이번에 복학해서 실험들으려는데 그냥 예비는 똑같이 따라하면 되는거 아닌가? 왜 일자로만 나와....', 'label': 5}\n",
      "{'content': '전자회로실험 파형이 물결처럼 나와야하는데 왜 난 일자로 나오지???;; 이번에 복학해서 실험들으려는데 그냥 예비는 똑같이 따라하면 되는거 아닌가? 왜 일자로만 나와.... 이건 회로인데 뭐가 잘못된거지요????;;', 'label': 5}\n",
      "{'content': '컴퓨터구조 책삽니다 표지에 컴퓨터구조 및 설계 써있고 5판 한글판 중고 2만원에삽니다 Patterson , Hennessy 저자 입니다', 'label': 5}\n",
      "{'content': '오늘 영화의 이해 수업 영화의 이해 유양근 교수님 수업을 못가서 그런데 혹시 교재같은거나 해오라고 하신거 있나요?! ㅜㅜ', 'label': 6}\n",
      "{'content': '초급일본어 전유나 초급일본어 책필요한가요?', 'label': 6}\n",
      "{'content': '졸업학점있잖아 교양 30 전공 60 선택50 이면 무조건 저거에 딱맞게 이수해야해?? 만약 교양에서 33이수하고 선택에서 47이수하면 졸업안되나??', 'label': 1}\n",
      "{'content': '현대사상의 이해 현대사상의 이해 정정한 학생인데 자기소개서에 특별히 써야할 내용이 있는건가요?', 'label': 6}\n",
      "{'content': '성적확인방법 문의드립니다. 졸업생인데 인터넷으로 성적확인 및 출력하는 방법 아시는 분 계신가요?', 'label': 1}\n",
      "{'content': '학생증 꼭 만들어야하나요??? 안만드니까 계속 문자와서;;;학생증 도서관에서 쓰는 거 말고도 많이 필요한가요??ㅠ 그리고 모바일 학생증으로도 책 빌릴 수 있나요??', 'label': 2}\n",
      "{'content': '13인치 15인치 2시간 통학/ 코딩/ 레포트 면 13인치가 더 낫겠죠?!', 'label': 9}\n",
      "{'content': '도키도키~~~ 일본어! 도키도키~~', 'label': 0}\n",
      "{'content': '정형원교수님 정보와현대사회 인강 지금 들을 수 있는분 계신가요?유캠에서 듣는걸로 알고있는데 아직 인강이 안떠있어서요', 'label': 6}\n",
      "{'content': '교비근로 해보신분 어떤가요?', 'label': 2}\n",
      "{'content': '물리전자 교재없으면 시험기간대비 힘들까요? 교재 필요없다고는 하는데', 'label': 5}\n",
      "{'content': '지적재산법 월요일에 출첵했어요? 제곧내', 'label': 6}\n"
     ]
    }
   ],
   "source": [
    "# 전처리된 데이터의 일부를 출력\n",
    "\n",
    "for article in preprocessed_articles[:20]:\n",
    "    print(article)"
   ]
  },
  {
   "cell_type": "code",
   "execution_count": 11,
   "metadata": {},
   "outputs": [],
   "source": [
    "# 데이터 분포 확인 함수 정의\n",
    "\n",
    "def plot_distribution(articles):\n",
    "    label_counts = {category_id: 0 for category_id in CATEGORIES}\n",
    "    for article in articles:\n",
    "        label_counts[article['label']] += 1\n",
    "\n",
    "    total_count = sum(label_counts.values())\n",
    "    percentages = {category_id: count / total_count * 100 for category_id, count in label_counts.items()}\n",
    "    for category_id, percentage in percentages.items():\n",
    "        print(f'{CATEGORIES[category_id]} [{category_id}]: {percentage:.2f}%')\n",
    "\n",
    "    plt.figure(figsize=(12, 8))\n",
    "    plt.bar(CATEGORIES.keys(), label_counts.values())\n",
    "    for i, count in enumerate(label_counts.values()):\n",
    "        plt.text(i, count + 0.1, str(count), ha='center')\n",
    "    plt.xlabel('Category')\n",
    "    plt.ylabel('Count')\n",
    "    plt.title('Distribution of Categories')\n",
    "    plt.xticks(range(len(CATEGORIES)), list(CATEGORIES.keys()))\n",
    "    plt.tight_layout()\n",
    "    plt.show()"
   ]
  },
  {
   "cell_type": "code",
   "execution_count": 12,
   "metadata": {},
   "outputs": [
    {
     "name": "stdout",
     "output_type": "stream",
     "text": [
      "자유 [0]: 9.49%\n",
      "학사 [1]: 7.24%\n",
      "장학 · 행정 [2]: 19.35%\n",
      "학교생활 [3]: 6.85%\n",
      "수업 [4]: 4.24%\n",
      "수업/이과 [5]: 10.12%\n",
      "수업/문과 [6]: 8.04%\n",
      "캠퍼스 [7]: 8.32%\n",
      "취업 · 진로 [8]: 3.82%\n",
      "일상생활 [9]: 7.53%\n",
      "음식점 · 카페 [10]: 4.71%\n",
      "취미 · 여가 [11]: 3.78%\n",
      "인간관계 [12]: 3.20%\n",
      "병역 [13]: 3.29%\n"
     ]
    },
    {
     "data": {
      "image/png": "[encoded data removed]",
      "text/plain": [
       "<Figure size 1200x800 with 1 Axes>"
      ]
     },
     "metadata": {},
     "output_type": "display_data"
    }
   ],
   "source": [
    "# 데이터 분포 확인\n",
    "\n",
    "plot_distribution(preprocessed_articles)"
   ]
  },
  {
   "cell_type": "code",
   "execution_count": 13,
   "metadata": {},
   "outputs": [
    {
     "name": "stdout",
     "output_type": "stream",
     "text": [
      "Number of training articles: 3769\n",
      "Number of validation articles: 943\n"
     ]
    }
   ],
   "source": [
    "# 훈련 데이터와 검증 데이터로 분리\n",
    "\n",
    "train_articles, val_articles = train_test_split(\n",
    "    preprocessed_articles,\n",
    "    test_size=0.2,\n",
    "    random_state=SEED\n",
    ")\n",
    "\n",
    "print(f'Number of training articles: {len(train_articles)}')\n",
    "print(f'Number of validation articles: {len(val_articles)}')"
   ]
  },
  {
   "cell_type": "code",
   "execution_count": 14,
   "metadata": {},
   "outputs": [
    {
     "name": "stdout",
     "output_type": "stream",
     "text": [
      "자유 [0]: 9.07%\n",
      "학사 [1]: 7.38%\n",
      "장학 · 행정 [2]: 19.34%\n",
      "학교생활 [3]: 6.90%\n",
      "수업 [4]: 4.62%\n",
      "수업/이과 [5]: 10.00%\n",
      "수업/문과 [6]: 8.36%\n",
      "캠퍼스 [7]: 8.12%\n",
      "취업 · 진로 [8]: 3.79%\n",
      "일상생활 [9]: 7.54%\n",
      "음식점 · 카페 [10]: 4.59%\n",
      "취미 · 여가 [11]: 3.87%\n",
      "인간관계 [12]: 3.18%\n",
      "병역 [13]: 3.24%\n"
     ]
    },
    {
     "data": {
      "image/png": "[encoded data removed]",
      "text/plain": [
       "<Figure size 1200x800 with 1 Axes>"
      ]
     },
     "metadata": {},
     "output_type": "display_data"
    }
   ],
   "source": [
    "# 훈련 데이터의 데이터 분포 확인\n",
    "\n",
    "plot_distribution(train_articles)"
   ]
  },
  {
   "cell_type": "code",
   "execution_count": 15,
   "metadata": {},
   "outputs": [
    {
     "name": "stdout",
     "output_type": "stream",
     "text": [
      "자유 [0]: 11.13%\n",
      "학사 [1]: 6.68%\n",
      "장학 · 행정 [2]: 19.41%\n",
      "학교생활 [3]: 6.68%\n",
      "수업 [4]: 2.76%\n",
      "수업/이과 [5]: 10.60%\n",
      "수업/문과 [6]: 6.79%\n",
      "캠퍼스 [7]: 9.12%\n",
      "취업 · 진로 [8]: 3.92%\n",
      "일상생활 [9]: 7.53%\n",
      "음식점 · 카페 [10]: 5.20%\n",
      "취미 · 여가 [11]: 3.39%\n",
      "인간관계 [12]: 3.29%\n",
      "병역 [13]: 3.50%\n"
     ]
    },
    {
     "data": {
      "image/png": "[encoded data removed]",
      "text/plain": [
       "<Figure size 1200x800 with 1 Axes>"
      ]
     },
     "metadata": {},
     "output_type": "display_data"
    }
   ],
   "source": [
    "# 검증 데이터의 데이터 분포 확인\n",
    "\n",
    "plot_distribution(val_articles)"
   ]
  },
  {
   "cell_type": "code",
   "execution_count": 16,
   "metadata": {},
   "outputs": [
    {
     "name": "stdout",
     "output_type": "stream",
     "text": [
      "Original: 어제 비마관 화장실에서 핸드폰 찾아주신분! 제가 경황이 없어서 감사하다고도 못 했네요. 정말 감사합니다!!!\n",
      "Tokenized: ['어제', '비', '##마', '##관', '화장실', '##에서', '핸드폰', '찾아', '##주신', '##분', '!', '제가', '경', '##황', '##이', '없어서', '감사', '##하다고', '##도', '못', '했네요', '.', '정말', '감사합니다', '!', '!', '!']\n"
     ]
    }
   ],
   "source": [
    "# 토크나이저 로드\n",
    "\n",
    "tokenizer = AutoTokenizer.from_pretrained(TOKENIZER_ID, do_basic_tokenize=False)\n",
    "\n",
    "print('Original:', preprocessed_articles[0]['content'])\n",
    "print('Tokenized:', tokenizer.tokenize(preprocessed_articles[0]['content']))"
   ]
  },
  {
   "cell_type": "code",
   "execution_count": 17,
   "metadata": {},
   "outputs": [
    {
     "name": "stderr",
     "output_type": "stream",
     "text": [
      "/tmp/ipykernel_790634/2848816050.py:24: UserWarning: To copy construct from a tensor, it is recommended to use sourceTensor.clone().detach() or sourceTensor.clone().detach().requires_grad_(True), rather than torch.tensor(sourceTensor).\n",
      "  torch.tensor(train_encodings['input_ids']),\n",
      "/tmp/ipykernel_790634/2848816050.py:25: UserWarning: To copy construct from a tensor, it is recommended to use sourceTensor.clone().detach() or sourceTensor.clone().detach().requires_grad_(True), rather than torch.tensor(sourceTensor).\n",
      "  torch.tensor(train_encodings['attention_mask']),\n",
      "/tmp/ipykernel_790634/2848816050.py:29: UserWarning: To copy construct from a tensor, it is recommended to use sourceTensor.clone().detach() or sourceTensor.clone().detach().requires_grad_(True), rather than torch.tensor(sourceTensor).\n",
      "  torch.tensor(val_encodings['input_ids']),\n",
      "/tmp/ipykernel_790634/2848816050.py:30: UserWarning: To copy construct from a tensor, it is recommended to use sourceTensor.clone().detach() or sourceTensor.clone().detach().requires_grad_(True), rather than torch.tensor(sourceTensor).\n",
      "  torch.tensor(val_encodings['attention_mask']),\n"
     ]
    }
   ],
   "source": [
    "# 텍스트 인코딩 및 데이터셋 생성\n",
    "\n",
    "train_contents = [article['content'] for article in train_articles]\n",
    "train_labels = [article['label'] for article in train_articles]\n",
    "val_contents = [article['content'] for article in val_articles]\n",
    "val_labels = [article['label'] for article in val_articles]\n",
    "\n",
    "train_encodings = tokenizer(\n",
    "    train_contents,\n",
    "    padding=True,\n",
    "    truncation=True,\n",
    "    return_tensors='pt',\n",
    "    max_length=MAX_LENGTH\n",
    ")\n",
    "val_encodings = tokenizer(\n",
    "    val_contents,\n",
    "    padding=True,\n",
    "    truncation=True,\n",
    "    return_tensors='pt',\n",
    "    max_length=MAX_LENGTH\n",
    ")\n",
    "\n",
    "train_dataset = torch.utils.data.TensorDataset(\n",
    "    torch.tensor(train_encodings['input_ids']),\n",
    "    torch.tensor(train_encodings['attention_mask']),\n",
    "    torch.tensor(train_labels)\n",
    ")\n",
    "val_dataset = torch.utils.data.TensorDataset(\n",
    "    torch.tensor(val_encodings['input_ids']),\n",
    "    torch.tensor(val_encodings['attention_mask']),\n",
    "    torch.tensor(val_labels)\n",
    ")\n",
    "\n",
    "train_dataloader = torch.utils.data.DataLoader(train_dataset, batch_size=BATCH_SIZE, shuffle=True)\n",
    "val_dataloader = torch.utils.data.DataLoader(val_dataset, batch_size=BATCH_SIZE, shuffle=False)"
   ]
  },
  {
   "cell_type": "code",
   "execution_count": 18,
   "metadata": {},
   "outputs": [],
   "source": [
    "# 평가 지표 계산 함수 정의\n",
    "\n",
    "def calculate_metrics(true_labels, predicted_labels):\n",
    "    acc = accuracy_score(true_labels, predicted_labels)\n",
    "    prec = precision_score(true_labels, predicted_labels, average=METRIC_AVERAGE, zero_division=METRIC_ZERO_DIVISION)\n",
    "    rec = recall_score(true_labels, predicted_labels, average=METRIC_AVERAGE, zero_division=METRIC_ZERO_DIVISION)\n",
    "    f1 = f1_score(true_labels, predicted_labels, average=METRIC_AVERAGE, zero_division=METRIC_ZERO_DIVISION)\n",
    "\n",
    "    return acc, prec, rec, f1"
   ]
  },
  {
   "cell_type": "code",
   "execution_count": 19,
   "metadata": {},
   "outputs": [],
   "source": [
    "# 테스트 데이터셋 평가 함수 정의\n",
    "\n",
    "with open('../test-dataset.json', 'r', encoding='utf-8') as f:\n",
    "    test_articles = json.load(f)\n",
    "\n",
    "test_contents = [preprocess(article['content']) for article in test_articles]\n",
    "test_labels = [article['label'] for article in test_articles]\n",
    "\n",
    "test_encodings = tokenizer(\n",
    "    test_contents,\n",
    "    padding=True,\n",
    "    truncation=True,\n",
    "    return_tensors='pt',\n",
    "    max_length=MAX_LENGTH\n",
    ")\n",
    "test_input_ids = test_encodings['input_ids'].to(device)\n",
    "test_attention_mask = test_encodings['attention_mask'].to(device)\n",
    "\n",
    "def evaluate_test_dataset(model):\n",
    "    model.eval()\n",
    "\n",
    "    with torch.no_grad():\n",
    "        outputs = model(test_input_ids, attention_mask=test_attention_mask)\n",
    "        logits = outputs.logits\n",
    "        test_predictions = torch.argmax(logits, dim=1).tolist()\n",
    "\n",
    "    return calculate_metrics(test_labels, test_predictions)"
   ]
  },
  {
   "cell_type": "code",
   "execution_count": 20,
   "metadata": {},
   "outputs": [
    {
     "name": "stdout",
     "output_type": "stream",
     "text": [
      "Iteration 0\n"
     ]
    },
    {
     "name": "stderr",
     "output_type": "stream",
     "text": [
      "Some weights of ElectraForSequenceClassification were not initialized from the model checkpoint at beomi/KcELECTRA-base-v2022 and are newly initialized: ['classifier.dense.bias', 'classifier.dense.weight', 'classifier.out_proj.bias', 'classifier.out_proj.weight']\n",
      "You should probably TRAIN this model on a down-stream task to be able to use it for predictions and inference.\n",
      "Epoch 1 - Training: 100%|██████████| 118/118 [00:40<00:00,  2.91it/s]\n",
      "Epoch 1 - Validation: 100%|██████████| 30/30 [00:03<00:00,  8.69it/s]\n"
     ]
    },
    {
     "name": "stdout",
     "output_type": "stream",
     "text": [
      "Epoch 1:\n",
      "  Train Acc = 0.2993, Train Prec = 0.3049, Train Rec = 0.2993, Train F1 = 0.2107, Train Loss = 2.2806\n",
      "  Val Acc = 0.5186, Val Prec = 0.3764, Val Rec = 0.5186, Val F1 = 0.4177, Val Loss = 1.6753\n",
      "  Best model saved with 0.4177 F1 score.\n"
     ]
    },
    {
     "name": "stderr",
     "output_type": "stream",
     "text": [
      "Epoch 2 - Training: 100%|██████████| 118/118 [00:40<00:00,  2.90it/s]\n",
      "Epoch 2 - Validation: 100%|██████████| 30/30 [00:03<00:00,  8.63it/s]\n"
     ]
    },
    {
     "name": "stdout",
     "output_type": "stream",
     "text": [
      "Epoch 2:\n",
      "  Train Acc = 0.6278, Train Prec = 0.6814, Train Rec = 0.6278, Train F1 = 0.5760, Train Loss = 1.3190\n",
      "  Val Acc = 0.7943, Val Prec = 0.8190, Val Rec = 0.7943, Val F1 = 0.7733, Val Loss = 0.8687\n",
      "  Best model saved with 0.7733 F1 score.\n"
     ]
    },
    {
     "name": "stderr",
     "output_type": "stream",
     "text": [
      "Epoch 3 - Training: 100%|██████████| 118/118 [00:40<00:00,  2.90it/s]\n",
      "Epoch 3 - Validation: 100%|██████████| 30/30 [00:03<00:00,  8.64it/s]\n"
     ]
    },
    {
     "name": "stdout",
     "output_type": "stream",
     "text": [
      "Epoch 3:\n",
      "  Train Acc = 0.8554, Train Prec = 0.8627, Train Rec = 0.8554, Train F1 = 0.8488, Train Loss = 0.6756\n",
      "  Val Acc = 0.9067, Val Prec = 0.9111, Val Rec = 0.9067, Val F1 = 0.9073, Val Loss = 0.4412\n",
      "  Best model saved with 0.9073 F1 score.\n"
     ]
    },
    {
     "name": "stderr",
     "output_type": "stream",
     "text": [
      "Epoch 4 - Training: 100%|██████████| 118/118 [00:40<00:00,  2.89it/s]\n",
      "Epoch 4 - Validation: 100%|██████████| 30/30 [00:03<00:00,  8.58it/s]\n"
     ]
    },
    {
     "name": "stdout",
     "output_type": "stream",
     "text": [
      "Epoch 4:\n",
      "  Train Acc = 0.9443, Train Prec = 0.9443, Train Rec = 0.9443, Train F1 = 0.9441, Train Loss = 0.3142\n",
      "  Val Acc = 0.9183, Val Prec = 0.9248, Val Rec = 0.9183, Val F1 = 0.9192, Val Loss = 0.3327\n",
      "  Best model saved with 0.9192 F1 score.\n"
     ]
    },
    {
     "name": "stderr",
     "output_type": "stream",
     "text": [
      "Epoch 5 - Training: 100%|██████████| 118/118 [00:40<00:00,  2.89it/s]\n",
      "Epoch 5 - Validation: 100%|██████████| 30/30 [00:03<00:00,  8.63it/s]\n"
     ]
    },
    {
     "name": "stdout",
     "output_type": "stream",
     "text": [
      "Epoch 5:\n",
      "  Train Acc = 0.9748, Train Prec = 0.9749, Train Rec = 0.9748, Train F1 = 0.9748, Train Loss = 0.1582\n",
      "  Val Acc = 0.9215, Val Prec = 0.9282, Val Rec = 0.9215, Val F1 = 0.9227, Val Loss = 0.3122\n",
      "  Best model saved with 0.9227 F1 score.\n"
     ]
    },
    {
     "name": "stderr",
     "output_type": "stream",
     "text": [
      "Epoch 6 - Training: 100%|██████████| 118/118 [00:40<00:00,  2.90it/s]\n",
      "Epoch 6 - Validation: 100%|██████████| 30/30 [00:03<00:00,  8.65it/s]\n"
     ]
    },
    {
     "name": "stdout",
     "output_type": "stream",
     "text": [
      "Epoch 6:\n",
      "  Train Acc = 0.9838, Train Prec = 0.9838, Train Rec = 0.9838, Train F1 = 0.9838, Train Loss = 0.0949\n",
      "  Val Acc = 0.9374, Val Prec = 0.9418, Val Rec = 0.9374, Val F1 = 0.9378, Val Loss = 0.2804\n",
      "  Best model saved with 0.9378 F1 score.\n"
     ]
    },
    {
     "name": "stderr",
     "output_type": "stream",
     "text": [
      "Epoch 7 - Training: 100%|██████████| 118/118 [00:40<00:00,  2.90it/s]\n",
      "Epoch 7 - Validation: 100%|██████████| 30/30 [00:03<00:00,  8.64it/s]\n"
     ]
    },
    {
     "name": "stdout",
     "output_type": "stream",
     "text": [
      "Epoch 7:\n",
      "  Train Acc = 0.9883, Train Prec = 0.9883, Train Rec = 0.9883, Train F1 = 0.9883, Train Loss = 0.0635\n",
      "  Val Acc = 0.9343, Val Prec = 0.9373, Val Rec = 0.9343, Val F1 = 0.9348, Val Loss = 0.2622\n"
     ]
    },
    {
     "name": "stderr",
     "output_type": "stream",
     "text": [
      "Epoch 8 - Training: 100%|██████████| 118/118 [00:40<00:00,  2.90it/s]\n",
      "Epoch 8 - Validation: 100%|██████████| 30/30 [00:03<00:00,  8.66it/s]\n"
     ]
    },
    {
     "name": "stdout",
     "output_type": "stream",
     "text": [
      "Epoch 8:\n",
      "  Train Acc = 0.9958, Train Prec = 0.9958, Train Rec = 0.9958, Train F1 = 0.9958, Train Loss = 0.0334\n",
      "  Val Acc = 0.9353, Val Prec = 0.9405, Val Rec = 0.9353, Val F1 = 0.9358, Val Loss = 0.3050\n"
     ]
    },
    {
     "name": "stderr",
     "output_type": "stream",
     "text": [
      "Epoch 9 - Training: 100%|██████████| 118/118 [00:40<00:00,  2.90it/s]\n",
      "Epoch 9 - Validation: 100%|██████████| 30/30 [00:03<00:00,  8.61it/s]\n"
     ]
    },
    {
     "name": "stdout",
     "output_type": "stream",
     "text": [
      "Epoch 9:\n",
      "  Train Acc = 0.9971, Train Prec = 0.9971, Train Rec = 0.9971, Train F1 = 0.9971, Train Loss = 0.0255\n",
      "  Val Acc = 0.9290, Val Prec = 0.9351, Val Rec = 0.9290, Val F1 = 0.9301, Val Loss = 0.3030\n"
     ]
    },
    {
     "name": "stderr",
     "output_type": "stream",
     "text": [
      "Epoch 10 - Training: 100%|██████████| 118/118 [00:40<00:00,  2.89it/s]\n",
      "Epoch 10 - Validation: 100%|██████████| 30/30 [00:03<00:00,  8.61it/s]\n"
     ]
    },
    {
     "name": "stdout",
     "output_type": "stream",
     "text": [
      "Epoch 10:\n",
      "  Train Acc = 0.9934, Train Prec = 0.9934, Train Rec = 0.9934, Train F1 = 0.9934, Train Loss = 0.0325\n",
      "  Val Acc = 0.9364, Val Prec = 0.9388, Val Rec = 0.9364, Val F1 = 0.9364, Val Loss = 0.3118\n"
     ]
    },
    {
     "name": "stderr",
     "output_type": "stream",
     "text": [
      "Epoch 11 - Training: 100%|██████████| 118/118 [00:40<00:00,  2.89it/s]\n",
      "Epoch 11 - Validation: 100%|██████████| 30/30 [00:03<00:00,  8.63it/s]\n"
     ]
    },
    {
     "name": "stdout",
     "output_type": "stream",
     "text": [
      "Epoch 11:\n",
      "  Train Acc = 0.9966, Train Prec = 0.9966, Train Rec = 0.9966, Train F1 = 0.9966, Train Loss = 0.0227\n",
      "  Val Acc = 0.9385, Val Prec = 0.9396, Val Rec = 0.9385, Val F1 = 0.9385, Val Loss = 0.2981\n",
      "  Best model saved with 0.9385 F1 score.\n"
     ]
    },
    {
     "name": "stderr",
     "output_type": "stream",
     "text": [
      "Epoch 12 - Training: 100%|██████████| 118/118 [00:40<00:00,  2.90it/s]\n",
      "Epoch 12 - Validation: 100%|██████████| 30/30 [00:03<00:00,  8.62it/s]\n"
     ]
    },
    {
     "name": "stdout",
     "output_type": "stream",
     "text": [
      "Epoch 12:\n",
      "  Train Acc = 0.9992, Train Prec = 0.9992, Train Rec = 0.9992, Train F1 = 0.9992, Train Loss = 0.0100\n",
      "  Val Acc = 0.9374, Val Prec = 0.9394, Val Rec = 0.9374, Val F1 = 0.9376, Val Loss = 0.3245\n"
     ]
    },
    {
     "name": "stderr",
     "output_type": "stream",
     "text": [
      "Epoch 13 - Training: 100%|██████████| 118/118 [00:40<00:00,  2.90it/s]\n",
      "Epoch 13 - Validation: 100%|██████████| 30/30 [00:03<00:00,  8.67it/s]\n"
     ]
    },
    {
     "name": "stdout",
     "output_type": "stream",
     "text": [
      "Epoch 13:\n",
      "  Train Acc = 0.9923, Train Prec = 0.9923, Train Rec = 0.9923, Train F1 = 0.9923, Train Loss = 0.0334\n",
      "  Val Acc = 0.9236, Val Prec = 0.9265, Val Rec = 0.9236, Val F1 = 0.9235, Val Loss = 0.4039\n"
     ]
    },
    {
     "name": "stderr",
     "output_type": "stream",
     "text": [
      "Epoch 14 - Training: 100%|██████████| 118/118 [00:40<00:00,  2.90it/s]\n",
      "Epoch 14 - Validation: 100%|██████████| 30/30 [00:03<00:00,  8.64it/s]\n"
     ]
    },
    {
     "name": "stdout",
     "output_type": "stream",
     "text": [
      "Epoch 14:\n",
      "  Train Acc = 0.9915, Train Prec = 0.9915, Train Rec = 0.9915, Train F1 = 0.9915, Train Loss = 0.0385\n",
      "  Val Acc = 0.9353, Val Prec = 0.9383, Val Rec = 0.9353, Val F1 = 0.9356, Val Loss = 0.3406\n"
     ]
    },
    {
     "name": "stderr",
     "output_type": "stream",
     "text": [
      "Epoch 15 - Training: 100%|██████████| 118/118 [00:40<00:00,  2.90it/s]\n",
      "Epoch 15 - Validation: 100%|██████████| 30/30 [00:03<00:00,  8.61it/s]\n"
     ]
    },
    {
     "name": "stdout",
     "output_type": "stream",
     "text": [
      "Epoch 15:\n",
      "  Train Acc = 0.9952, Train Prec = 0.9952, Train Rec = 0.9952, Train F1 = 0.9952, Train Loss = 0.0202\n",
      "  Val Acc = 0.9321, Val Prec = 0.9329, Val Rec = 0.9321, Val F1 = 0.9320, Val Loss = 0.3726\n"
     ]
    },
    {
     "name": "stderr",
     "output_type": "stream",
     "text": [
      "Epoch 16 - Training: 100%|██████████| 118/118 [00:40<00:00,  2.90it/s]\n",
      "Epoch 16 - Validation: 100%|██████████| 30/30 [00:03<00:00,  8.64it/s]\n"
     ]
    },
    {
     "name": "stdout",
     "output_type": "stream",
     "text": [
      "Epoch 16:\n",
      "  Train Acc = 0.9944, Train Prec = 0.9944, Train Rec = 0.9944, Train F1 = 0.9944, Train Loss = 0.0247\n",
      "  Val Acc = 0.9385, Val Prec = 0.9408, Val Rec = 0.9385, Val F1 = 0.9386, Val Loss = 0.3512\n",
      "  Best model saved with 0.9386 F1 score.\n"
     ]
    },
    {
     "name": "stderr",
     "output_type": "stream",
     "text": [
      "Epoch 17 - Training: 100%|██████████| 118/118 [00:40<00:00,  2.90it/s]\n",
      "Epoch 17 - Validation: 100%|██████████| 30/30 [00:03<00:00,  8.67it/s]\n"
     ]
    },
    {
     "name": "stdout",
     "output_type": "stream",
     "text": [
      "Epoch 17:\n",
      "  Train Acc = 0.9973, Train Prec = 0.9974, Train Rec = 0.9973, Train F1 = 0.9973, Train Loss = 0.0164\n",
      "  Val Acc = 0.9353, Val Prec = 0.9373, Val Rec = 0.9353, Val F1 = 0.9353, Val Loss = 0.3442\n"
     ]
    },
    {
     "name": "stderr",
     "output_type": "stream",
     "text": [
      "Epoch 18 - Training: 100%|██████████| 118/118 [00:40<00:00,  2.90it/s]\n",
      "Epoch 18 - Validation: 100%|██████████| 30/30 [00:03<00:00,  8.65it/s]\n"
     ]
    },
    {
     "name": "stdout",
     "output_type": "stream",
     "text": [
      "Epoch 18:\n",
      "  Train Acc = 0.9939, Train Prec = 0.9939, Train Rec = 0.9939, Train F1 = 0.9939, Train Loss = 0.0231\n",
      "  Val Acc = 0.9343, Val Prec = 0.9345, Val Rec = 0.9343, Val F1 = 0.9340, Val Loss = 0.3406\n"
     ]
    },
    {
     "name": "stderr",
     "output_type": "stream",
     "text": [
      "Epoch 19 - Training: 100%|██████████| 118/118 [00:40<00:00,  2.90it/s]\n",
      "Epoch 19 - Validation: 100%|██████████| 30/30 [00:03<00:00,  8.64it/s]\n"
     ]
    },
    {
     "name": "stdout",
     "output_type": "stream",
     "text": [
      "Epoch 19:\n",
      "  Train Acc = 0.9976, Train Prec = 0.9976, Train Rec = 0.9976, Train F1 = 0.9976, Train Loss = 0.0142\n",
      "  Val Acc = 0.9332, Val Prec = 0.9367, Val Rec = 0.9332, Val F1 = 0.9333, Val Loss = 0.4034\n"
     ]
    },
    {
     "name": "stderr",
     "output_type": "stream",
     "text": [
      "Epoch 20 - Training: 100%|██████████| 118/118 [00:40<00:00,  2.90it/s]\n",
      "Epoch 20 - Validation: 100%|██████████| 30/30 [00:03<00:00,  8.65it/s]\n"
     ]
    },
    {
     "name": "stdout",
     "output_type": "stream",
     "text": [
      "Epoch 20:\n",
      "  Train Acc = 0.9989, Train Prec = 0.9989, Train Rec = 0.9989, Train F1 = 0.9989, Train Loss = 0.0072\n",
      "  Val Acc = 0.9438, Val Prec = 0.9445, Val Rec = 0.9438, Val F1 = 0.9438, Val Loss = 0.3179\n",
      "  Best model saved with 0.9438 F1 score.\n",
      "Iteration 1\n"
     ]
    },
    {
     "name": "stderr",
     "output_type": "stream",
     "text": [
      "Some weights of ElectraForSequenceClassification were not initialized from the model checkpoint at beomi/KcELECTRA-base-v2022 and are newly initialized: ['classifier.dense.bias', 'classifier.dense.weight', 'classifier.out_proj.bias', 'classifier.out_proj.weight']\n",
      "You should probably TRAIN this model on a down-stream task to be able to use it for predictions and inference.\n",
      "Epoch 1 - Training: 100%|██████████| 118/118 [00:40<00:00,  2.90it/s]\n",
      "Epoch 1 - Validation: 100%|██████████| 30/30 [00:03<00:00,  8.64it/s]\n"
     ]
    },
    {
     "name": "stdout",
     "output_type": "stream",
     "text": [
      "Epoch 1:\n",
      "  Train Acc = 0.2361, Train Prec = 0.1124, Train Rec = 0.2361, Train F1 = 0.1252, Train Loss = 2.4061\n",
      "  Val Acc = 0.3807, Val Prec = 0.2385, Val Rec = 0.3807, Val F1 = 0.2477, Val Loss = 2.0546\n"
     ]
    },
    {
     "name": "stderr",
     "output_type": "stream",
     "text": [
      "Epoch 2 - Training: 100%|██████████| 118/118 [00:40<00:00,  2.90it/s]\n",
      "Epoch 2 - Validation: 100%|██████████| 30/30 [00:03<00:00,  8.64it/s]\n"
     ]
    },
    {
     "name": "stdout",
     "output_type": "stream",
     "text": [
      "Epoch 2:\n",
      "  Train Acc = 0.4797, Train Prec = 0.4061, Train Rec = 0.4797, Train F1 = 0.3853, Train Loss = 1.7145\n",
      "  Val Acc = 0.6288, Val Prec = 0.5865, Val Rec = 0.6288, Val F1 = 0.5714, Val Loss = 1.2323\n"
     ]
    },
    {
     "name": "stderr",
     "output_type": "stream",
     "text": [
      "Epoch 3 - Training: 100%|██████████| 118/118 [00:40<00:00,  2.90it/s]\n",
      "Epoch 3 - Validation: 100%|██████████| 30/30 [00:03<00:00,  8.65it/s]\n"
     ]
    },
    {
     "name": "stdout",
     "output_type": "stream",
     "text": [
      "Epoch 3:\n",
      "  Train Acc = 0.7150, Train Prec = 0.7355, Train Rec = 0.7150, Train F1 = 0.6899, Train Loss = 1.0362\n",
      "  Val Acc = 0.8431, Val Prec = 0.8759, Val Rec = 0.8431, Val F1 = 0.8316, Val Loss = 0.6891\n"
     ]
    },
    {
     "name": "stderr",
     "output_type": "stream",
     "text": [
      "Epoch 4 - Training: 100%|██████████| 118/118 [00:40<00:00,  2.91it/s]\n",
      "Epoch 4 - Validation: 100%|██████████| 30/30 [00:03<00:00,  8.68it/s]\n"
     ]
    },
    {
     "name": "stdout",
     "output_type": "stream",
     "text": [
      "Epoch 4:\n",
      "  Train Acc = 0.9000, Train Prec = 0.9002, Train Rec = 0.9000, Train F1 = 0.8980, Train Loss = 0.5216\n",
      "  Val Acc = 0.8971, Val Prec = 0.9069, Val Rec = 0.8971, Val F1 = 0.8962, Val Loss = 0.4331\n"
     ]
    },
    {
     "name": "stderr",
     "output_type": "stream",
     "text": [
      "Epoch 5 - Training: 100%|██████████| 118/118 [00:40<00:00,  2.91it/s]\n",
      "Epoch 5 - Validation: 100%|██████████| 30/30 [00:03<00:00,  8.66it/s]\n"
     ]
    },
    {
     "name": "stdout",
     "output_type": "stream",
     "text": [
      "Epoch 5:\n",
      "  Train Acc = 0.9565, Train Prec = 0.9566, Train Rec = 0.9565, Train F1 = 0.9564, Train Loss = 0.2442\n",
      "  Val Acc = 0.9311, Val Prec = 0.9353, Val Rec = 0.9311, Val F1 = 0.9319, Val Loss = 0.2861\n"
     ]
    },
    {
     "name": "stderr",
     "output_type": "stream",
     "text": [
      "Epoch 6 - Training: 100%|██████████| 118/118 [00:40<00:00,  2.91it/s]\n",
      "Epoch 6 - Validation: 100%|██████████| 30/30 [00:03<00:00,  8.67it/s]\n"
     ]
    },
    {
     "name": "stdout",
     "output_type": "stream",
     "text": [
      "Epoch 6:\n",
      "  Train Acc = 0.9790, Train Prec = 0.9792, Train Rec = 0.9790, Train F1 = 0.9791, Train Loss = 0.1337\n",
      "  Val Acc = 0.9311, Val Prec = 0.9335, Val Rec = 0.9311, Val F1 = 0.9308, Val Loss = 0.2841\n"
     ]
    },
    {
     "name": "stderr",
     "output_type": "stream",
     "text": [
      "Epoch 7 - Training: 100%|██████████| 118/118 [00:40<00:00,  2.91it/s]\n",
      "Epoch 7 - Validation: 100%|██████████| 30/30 [00:03<00:00,  8.68it/s]\n"
     ]
    },
    {
     "name": "stdout",
     "output_type": "stream",
     "text": [
      "Epoch 7:\n",
      "  Train Acc = 0.9928, Train Prec = 0.9929, Train Rec = 0.9928, Train F1 = 0.9928, Train Loss = 0.0676\n",
      "  Val Acc = 0.9364, Val Prec = 0.9392, Val Rec = 0.9364, Val F1 = 0.9364, Val Loss = 0.2685\n"
     ]
    },
    {
     "name": "stderr",
     "output_type": "stream",
     "text": [
      "Epoch 8 - Training: 100%|██████████| 118/118 [00:40<00:00,  2.91it/s]\n",
      "Epoch 8 - Validation: 100%|██████████| 30/30 [00:03<00:00,  8.68it/s]\n"
     ]
    },
    {
     "name": "stdout",
     "output_type": "stream",
     "text": [
      "Epoch 8:\n",
      "  Train Acc = 0.9973, Train Prec = 0.9974, Train Rec = 0.9973, Train F1 = 0.9973, Train Loss = 0.0382\n",
      "  Val Acc = 0.9427, Val Prec = 0.9444, Val Rec = 0.9427, Val F1 = 0.9428, Val Loss = 0.2619\n"
     ]
    },
    {
     "name": "stderr",
     "output_type": "stream",
     "text": [
      "Epoch 9 - Training: 100%|██████████| 118/118 [00:40<00:00,  2.90it/s]\n",
      "Epoch 9 - Validation: 100%|██████████| 30/30 [00:03<00:00,  8.66it/s]\n"
     ]
    },
    {
     "name": "stdout",
     "output_type": "stream",
     "text": [
      "Epoch 9:\n",
      "  Train Acc = 0.9989, Train Prec = 0.9989, Train Rec = 0.9989, Train F1 = 0.9989, Train Loss = 0.0237\n",
      "  Val Acc = 0.9374, Val Prec = 0.9384, Val Rec = 0.9374, Val F1 = 0.9375, Val Loss = 0.2828\n"
     ]
    },
    {
     "name": "stderr",
     "output_type": "stream",
     "text": [
      "Epoch 10 - Training: 100%|██████████| 118/118 [00:40<00:00,  2.90it/s]\n",
      "Epoch 10 - Validation: 100%|██████████| 30/30 [00:03<00:00,  8.67it/s]\n"
     ]
    },
    {
     "name": "stdout",
     "output_type": "stream",
     "text": [
      "Epoch 10:\n",
      "  Train Acc = 0.9881, Train Prec = 0.9881, Train Rec = 0.9881, Train F1 = 0.9881, Train Loss = 0.0561\n",
      "  Val Acc = 0.9247, Val Prec = 0.9292, Val Rec = 0.9247, Val F1 = 0.9256, Val Loss = 0.3171\n"
     ]
    },
    {
     "name": "stderr",
     "output_type": "stream",
     "text": [
      "Epoch 11 - Training: 100%|██████████| 118/118 [00:40<00:00,  2.91it/s]\n",
      "Epoch 11 - Validation: 100%|██████████| 30/30 [00:03<00:00,  8.67it/s]\n"
     ]
    },
    {
     "name": "stdout",
     "output_type": "stream",
     "text": [
      "Epoch 11:\n",
      "  Train Acc = 0.9928, Train Prec = 0.9928, Train Rec = 0.9928, Train F1 = 0.9928, Train Loss = 0.0356\n",
      "  Val Acc = 0.9417, Val Prec = 0.9439, Val Rec = 0.9417, Val F1 = 0.9418, Val Loss = 0.2760\n"
     ]
    },
    {
     "name": "stderr",
     "output_type": "stream",
     "text": [
      "Epoch 12 - Training: 100%|██████████| 118/118 [00:40<00:00,  2.91it/s]\n",
      "Epoch 12 - Validation: 100%|██████████| 30/30 [00:03<00:00,  8.69it/s]\n"
     ]
    },
    {
     "name": "stdout",
     "output_type": "stream",
     "text": [
      "Epoch 12:\n",
      "  Train Acc = 0.9976, Train Prec = 0.9976, Train Rec = 0.9976, Train F1 = 0.9976, Train Loss = 0.0180\n",
      "  Val Acc = 0.9385, Val Prec = 0.9415, Val Rec = 0.9385, Val F1 = 0.9388, Val Loss = 0.2909\n"
     ]
    },
    {
     "name": "stderr",
     "output_type": "stream",
     "text": [
      "Epoch 13 - Training: 100%|██████████| 118/118 [00:40<00:00,  2.91it/s]\n",
      "Epoch 13 - Validation: 100%|██████████| 30/30 [00:03<00:00,  8.67it/s]\n"
     ]
    },
    {
     "name": "stdout",
     "output_type": "stream",
     "text": [
      "Epoch 13:\n",
      "  Train Acc = 0.9939, Train Prec = 0.9939, Train Rec = 0.9939, Train F1 = 0.9939, Train Loss = 0.0339\n",
      "  Val Acc = 0.9385, Val Prec = 0.9411, Val Rec = 0.9385, Val F1 = 0.9383, Val Loss = 0.3207\n"
     ]
    },
    {
     "name": "stderr",
     "output_type": "stream",
     "text": [
      "Epoch 14 - Training: 100%|██████████| 118/118 [00:40<00:00,  2.91it/s]\n",
      "Epoch 14 - Validation: 100%|██████████| 30/30 [00:03<00:00,  8.66it/s]\n"
     ]
    },
    {
     "name": "stdout",
     "output_type": "stream",
     "text": [
      "Epoch 14:\n",
      "  Train Acc = 0.9947, Train Prec = 0.9947, Train Rec = 0.9947, Train F1 = 0.9947, Train Loss = 0.0316\n",
      "  Val Acc = 0.9343, Val Prec = 0.9373, Val Rec = 0.9343, Val F1 = 0.9347, Val Loss = 0.3058\n"
     ]
    },
    {
     "name": "stderr",
     "output_type": "stream",
     "text": [
      "Epoch 15 - Training: 100%|██████████| 118/118 [00:40<00:00,  2.90it/s]\n",
      "Epoch 15 - Validation: 100%|██████████| 30/30 [00:03<00:00,  8.66it/s]\n"
     ]
    },
    {
     "name": "stdout",
     "output_type": "stream",
     "text": [
      "Epoch 15:\n",
      "  Train Acc = 0.9963, Train Prec = 0.9963, Train Rec = 0.9963, Train F1 = 0.9963, Train Loss = 0.0177\n",
      "  Val Acc = 0.9332, Val Prec = 0.9355, Val Rec = 0.9332, Val F1 = 0.9331, Val Loss = 0.3444\n"
     ]
    },
    {
     "name": "stderr",
     "output_type": "stream",
     "text": [
      "Epoch 16 - Training: 100%|██████████| 118/118 [00:40<00:00,  2.91it/s]\n",
      "Epoch 16 - Validation: 100%|██████████| 30/30 [00:03<00:00,  8.68it/s]\n"
     ]
    },
    {
     "name": "stdout",
     "output_type": "stream",
     "text": [
      "Epoch 16:\n",
      "  Train Acc = 0.9963, Train Prec = 0.9963, Train Rec = 0.9963, Train F1 = 0.9963, Train Loss = 0.0211\n",
      "  Val Acc = 0.9417, Val Prec = 0.9434, Val Rec = 0.9417, Val F1 = 0.9416, Val Loss = 0.2971\n"
     ]
    },
    {
     "name": "stderr",
     "output_type": "stream",
     "text": [
      "Epoch 17 - Training: 100%|██████████| 118/118 [00:40<00:00,  2.91it/s]\n",
      "Epoch 17 - Validation: 100%|██████████| 30/30 [00:03<00:00,  8.66it/s]\n"
     ]
    },
    {
     "name": "stdout",
     "output_type": "stream",
     "text": [
      "Epoch 17:\n",
      "  Train Acc = 0.9981, Train Prec = 0.9981, Train Rec = 0.9981, Train F1 = 0.9981, Train Loss = 0.0098\n",
      "  Val Acc = 0.9438, Val Prec = 0.9462, Val Rec = 0.9438, Val F1 = 0.9440, Val Loss = 0.3103\n",
      "  Best model saved with 0.9440 F1 score.\n"
     ]
    },
    {
     "name": "stderr",
     "output_type": "stream",
     "text": [
      "Epoch 18 - Training: 100%|██████████| 118/118 [00:40<00:00,  2.91it/s]\n",
      "Epoch 18 - Validation: 100%|██████████| 30/30 [00:03<00:00,  8.67it/s]\n"
     ]
    },
    {
     "name": "stdout",
     "output_type": "stream",
     "text": [
      "Epoch 18:\n",
      "  Train Acc = 0.9995, Train Prec = 0.9995, Train Rec = 0.9995, Train F1 = 0.9995, Train Loss = 0.0083\n",
      "  Val Acc = 0.9470, Val Prec = 0.9484, Val Rec = 0.9470, Val F1 = 0.9469, Val Loss = 0.2953\n",
      "  Best model saved with 0.9469 F1 score.\n"
     ]
    },
    {
     "name": "stderr",
     "output_type": "stream",
     "text": [
      "Epoch 19 - Training: 100%|██████████| 118/118 [00:40<00:00,  2.91it/s]\n",
      "Epoch 19 - Validation: 100%|██████████| 30/30 [00:03<00:00,  8.69it/s]\n"
     ]
    },
    {
     "name": "stdout",
     "output_type": "stream",
     "text": [
      "Epoch 19:\n",
      "  Train Acc = 0.9981, Train Prec = 0.9981, Train Rec = 0.9981, Train F1 = 0.9981, Train Loss = 0.0081\n",
      "  Val Acc = 0.9364, Val Prec = 0.9385, Val Rec = 0.9364, Val F1 = 0.9364, Val Loss = 0.2988\n"
     ]
    },
    {
     "name": "stderr",
     "output_type": "stream",
     "text": [
      "Epoch 20 - Training: 100%|██████████| 118/118 [00:40<00:00,  2.91it/s]\n",
      "Epoch 20 - Validation: 100%|██████████| 30/30 [00:03<00:00,  8.67it/s]\n"
     ]
    },
    {
     "name": "stdout",
     "output_type": "stream",
     "text": [
      "Epoch 20:\n",
      "  Train Acc = 0.9690, Train Prec = 0.9692, Train Rec = 0.9690, Train F1 = 0.9690, Train Loss = 0.1141\n",
      "  Val Acc = 0.9374, Val Prec = 0.9377, Val Rec = 0.9374, Val F1 = 0.9369, Val Loss = 0.2949\n",
      "Iteration 2\n"
     ]
    },
    {
     "name": "stderr",
     "output_type": "stream",
     "text": [
      "Some weights of ElectraForSequenceClassification were not initialized from the model checkpoint at beomi/KcELECTRA-base-v2022 and are newly initialized: ['classifier.dense.bias', 'classifier.dense.weight', 'classifier.out_proj.bias', 'classifier.out_proj.weight']\n",
      "You should probably TRAIN this model on a down-stream task to be able to use it for predictions and inference.\n",
      "Epoch 1 - Training: 100%|██████████| 118/118 [00:40<00:00,  2.91it/s]\n",
      "Epoch 1 - Validation: 100%|██████████| 30/30 [00:03<00:00,  8.69it/s]\n"
     ]
    },
    {
     "name": "stdout",
     "output_type": "stream",
     "text": [
      "Epoch 1:\n",
      "  Train Acc = 0.2810, Train Prec = 0.2062, Train Rec = 0.2810, Train F1 = 0.1822, Train Loss = 2.3125\n",
      "  Val Acc = 0.4602, Val Prec = 0.4128, Val Rec = 0.4602, Val F1 = 0.3500, Val Loss = 1.7760\n"
     ]
    },
    {
     "name": "stderr",
     "output_type": "stream",
     "text": [
      "Epoch 2 - Training: 100%|██████████| 118/118 [00:40<00:00,  2.91it/s]\n",
      "Epoch 2 - Validation: 100%|██████████| 30/30 [00:03<00:00,  8.70it/s]\n"
     ]
    },
    {
     "name": "stdout",
     "output_type": "stream",
     "text": [
      "Epoch 2:\n",
      "  Train Acc = 0.5837, Train Prec = 0.6220, Train Rec = 0.5837, Train F1 = 0.5172, Train Loss = 1.4351\n",
      "  Val Acc = 0.7359, Val Prec = 0.7407, Val Rec = 0.7359, Val F1 = 0.6932, Val Loss = 0.9876\n"
     ]
    },
    {
     "name": "stderr",
     "output_type": "stream",
     "text": [
      "Epoch 3 - Training: 100%|██████████| 118/118 [00:40<00:00,  2.91it/s]\n",
      "Epoch 3 - Validation: 100%|██████████| 30/30 [00:03<00:00,  8.68it/s]\n"
     ]
    },
    {
     "name": "stdout",
     "output_type": "stream",
     "text": [
      "Epoch 3:\n",
      "  Train Acc = 0.8188, Train Prec = 0.8291, Train Rec = 0.8188, Train F1 = 0.8049, Train Loss = 0.7790\n",
      "  Val Acc = 0.8887, Val Prec = 0.9002, Val Rec = 0.8887, Val F1 = 0.8877, Val Loss = 0.5108\n"
     ]
    },
    {
     "name": "stderr",
     "output_type": "stream",
     "text": [
      "Epoch 4 - Training: 100%|██████████| 118/118 [00:40<00:00,  2.91it/s]\n",
      "Epoch 4 - Validation: 100%|██████████| 30/30 [00:03<00:00,  8.70it/s]\n"
     ]
    },
    {
     "name": "stdout",
     "output_type": "stream",
     "text": [
      "Epoch 4:\n",
      "  Train Acc = 0.9480, Train Prec = 0.9483, Train Rec = 0.9480, Train F1 = 0.9477, Train Loss = 0.3424\n",
      "  Val Acc = 0.9130, Val Prec = 0.9169, Val Rec = 0.9130, Val F1 = 0.9131, Val Loss = 0.3421\n"
     ]
    },
    {
     "name": "stderr",
     "output_type": "stream",
     "text": [
      "Epoch 5 - Training: 100%|██████████| 118/118 [00:40<00:00,  2.91it/s]\n",
      "Epoch 5 - Validation: 100%|██████████| 30/30 [00:03<00:00,  8.67it/s]\n"
     ]
    },
    {
     "name": "stdout",
     "output_type": "stream",
     "text": [
      "Epoch 5:\n",
      "  Train Acc = 0.9767, Train Prec = 0.9767, Train Rec = 0.9767, Train F1 = 0.9767, Train Loss = 0.1643\n",
      "  Val Acc = 0.9236, Val Prec = 0.9253, Val Rec = 0.9236, Val F1 = 0.9231, Val Loss = 0.3205\n"
     ]
    },
    {
     "name": "stderr",
     "output_type": "stream",
     "text": [
      "Epoch 6 - Training: 100%|██████████| 118/118 [00:40<00:00,  2.91it/s]\n",
      "Epoch 6 - Validation: 100%|██████████| 30/30 [00:03<00:00,  8.71it/s]\n"
     ]
    },
    {
     "name": "stdout",
     "output_type": "stream",
     "text": [
      "Epoch 6:\n",
      "  Train Acc = 0.9870, Train Prec = 0.9870, Train Rec = 0.9870, Train F1 = 0.9870, Train Loss = 0.0908\n",
      "  Val Acc = 0.9311, Val Prec = 0.9343, Val Rec = 0.9311, Val F1 = 0.9314, Val Loss = 0.2963\n"
     ]
    },
    {
     "name": "stderr",
     "output_type": "stream",
     "text": [
      "Epoch 7 - Training: 100%|██████████| 118/118 [00:40<00:00,  2.91it/s]\n",
      "Epoch 7 - Validation: 100%|██████████| 30/30 [00:03<00:00,  8.68it/s]\n"
     ]
    },
    {
     "name": "stdout",
     "output_type": "stream",
     "text": [
      "Epoch 7:\n",
      "  Train Acc = 0.9934, Train Prec = 0.9934, Train Rec = 0.9934, Train F1 = 0.9934, Train Loss = 0.0557\n",
      "  Val Acc = 0.9300, Val Prec = 0.9360, Val Rec = 0.9300, Val F1 = 0.9305, Val Loss = 0.3144\n"
     ]
    },
    {
     "name": "stderr",
     "output_type": "stream",
     "text": [
      "Epoch 8 - Training: 100%|██████████| 118/118 [00:40<00:00,  2.91it/s]\n",
      "Epoch 8 - Validation: 100%|██████████| 30/30 [00:03<00:00,  8.69it/s]\n"
     ]
    },
    {
     "name": "stdout",
     "output_type": "stream",
     "text": [
      "Epoch 8:\n",
      "  Train Acc = 0.9939, Train Prec = 0.9939, Train Rec = 0.9939, Train F1 = 0.9939, Train Loss = 0.0413\n",
      "  Val Acc = 0.9332, Val Prec = 0.9360, Val Rec = 0.9332, Val F1 = 0.9337, Val Loss = 0.2826\n"
     ]
    },
    {
     "name": "stderr",
     "output_type": "stream",
     "text": [
      "Epoch 9 - Training: 100%|██████████| 118/118 [00:40<00:00,  2.91it/s]\n",
      "Epoch 9 - Validation: 100%|██████████| 30/30 [00:03<00:00,  8.68it/s]\n"
     ]
    },
    {
     "name": "stdout",
     "output_type": "stream",
     "text": [
      "Epoch 9:\n",
      "  Train Acc = 0.9950, Train Prec = 0.9950, Train Rec = 0.9950, Train F1 = 0.9950, Train Loss = 0.0329\n",
      "  Val Acc = 0.9374, Val Prec = 0.9410, Val Rec = 0.9374, Val F1 = 0.9379, Val Loss = 0.2900\n"
     ]
    },
    {
     "name": "stderr",
     "output_type": "stream",
     "text": [
      "Epoch 10 - Training: 100%|██████████| 118/118 [00:40<00:00,  2.91it/s]\n",
      "Epoch 10 - Validation: 100%|██████████| 30/30 [00:03<00:00,  8.68it/s]\n"
     ]
    },
    {
     "name": "stdout",
     "output_type": "stream",
     "text": [
      "Epoch 10:\n",
      "  Train Acc = 0.9981, Train Prec = 0.9981, Train Rec = 0.9981, Train F1 = 0.9981, Train Loss = 0.0220\n",
      "  Val Acc = 0.9438, Val Prec = 0.9456, Val Rec = 0.9438, Val F1 = 0.9440, Val Loss = 0.2542\n"
     ]
    },
    {
     "name": "stderr",
     "output_type": "stream",
     "text": [
      "Epoch 11 - Training: 100%|██████████| 118/118 [00:40<00:00,  2.91it/s]\n",
      "Epoch 11 - Validation: 100%|██████████| 30/30 [00:03<00:00,  8.66it/s]\n"
     ]
    },
    {
     "name": "stdout",
     "output_type": "stream",
     "text": [
      "Epoch 11:\n",
      "  Train Acc = 0.9952, Train Prec = 0.9952, Train Rec = 0.9952, Train F1 = 0.9952, Train Loss = 0.0233\n",
      "  Val Acc = 0.9300, Val Prec = 0.9366, Val Rec = 0.9300, Val F1 = 0.9309, Val Loss = 0.3265\n"
     ]
    },
    {
     "name": "stderr",
     "output_type": "stream",
     "text": [
      "Epoch 12 - Training: 100%|██████████| 118/118 [00:40<00:00,  2.91it/s]\n",
      "Epoch 12 - Validation: 100%|██████████| 30/30 [00:03<00:00,  8.67it/s]\n"
     ]
    },
    {
     "name": "stdout",
     "output_type": "stream",
     "text": [
      "Epoch 12:\n",
      "  Train Acc = 0.9915, Train Prec = 0.9915, Train Rec = 0.9915, Train F1 = 0.9915, Train Loss = 0.0449\n",
      "  Val Acc = 0.9364, Val Prec = 0.9398, Val Rec = 0.9364, Val F1 = 0.9370, Val Loss = 0.2973\n"
     ]
    },
    {
     "name": "stderr",
     "output_type": "stream",
     "text": [
      "Epoch 13 - Training: 100%|██████████| 118/118 [00:40<00:00,  2.91it/s]\n",
      "Epoch 13 - Validation: 100%|██████████| 30/30 [00:03<00:00,  8.68it/s]\n"
     ]
    },
    {
     "name": "stdout",
     "output_type": "stream",
     "text": [
      "Epoch 13:\n",
      "  Train Acc = 0.9952, Train Prec = 0.9952, Train Rec = 0.9952, Train F1 = 0.9952, Train Loss = 0.0265\n",
      "  Val Acc = 0.9427, Val Prec = 0.9462, Val Rec = 0.9427, Val F1 = 0.9429, Val Loss = 0.2906\n"
     ]
    },
    {
     "name": "stderr",
     "output_type": "stream",
     "text": [
      "Epoch 14 - Training: 100%|██████████| 118/118 [00:40<00:00,  2.91it/s]\n",
      "Epoch 14 - Validation: 100%|██████████| 30/30 [00:03<00:00,  8.68it/s]\n"
     ]
    },
    {
     "name": "stdout",
     "output_type": "stream",
     "text": [
      "Epoch 14:\n",
      "  Train Acc = 0.9966, Train Prec = 0.9966, Train Rec = 0.9966, Train F1 = 0.9966, Train Loss = 0.0191\n",
      "  Val Acc = 0.9438, Val Prec = 0.9465, Val Rec = 0.9438, Val F1 = 0.9440, Val Loss = 0.2698\n"
     ]
    },
    {
     "name": "stderr",
     "output_type": "stream",
     "text": [
      "Epoch 15 - Training: 100%|██████████| 118/118 [00:40<00:00,  2.91it/s]\n",
      "Epoch 15 - Validation: 100%|██████████| 30/30 [00:03<00:00,  8.68it/s]\n"
     ]
    },
    {
     "name": "stdout",
     "output_type": "stream",
     "text": [
      "Epoch 15:\n",
      "  Train Acc = 0.9926, Train Prec = 0.9926, Train Rec = 0.9926, Train F1 = 0.9926, Train Loss = 0.0324\n",
      "  Val Acc = 0.9396, Val Prec = 0.9417, Val Rec = 0.9396, Val F1 = 0.9392, Val Loss = 0.2840\n"
     ]
    },
    {
     "name": "stderr",
     "output_type": "stream",
     "text": [
      "Epoch 16 - Training: 100%|██████████| 118/118 [00:40<00:00,  2.91it/s]\n",
      "Epoch 16 - Validation: 100%|██████████| 30/30 [00:03<00:00,  8.68it/s]\n"
     ]
    },
    {
     "name": "stdout",
     "output_type": "stream",
     "text": [
      "Epoch 16:\n",
      "  Train Acc = 0.9968, Train Prec = 0.9968, Train Rec = 0.9968, Train F1 = 0.9968, Train Loss = 0.0161\n",
      "  Val Acc = 0.9427, Val Prec = 0.9450, Val Rec = 0.9427, Val F1 = 0.9426, Val Loss = 0.3109\n"
     ]
    },
    {
     "name": "stderr",
     "output_type": "stream",
     "text": [
      "Epoch 17 - Training: 100%|██████████| 118/118 [00:40<00:00,  2.91it/s]\n",
      "Epoch 17 - Validation: 100%|██████████| 30/30 [00:03<00:00,  8.68it/s]\n"
     ]
    },
    {
     "name": "stdout",
     "output_type": "stream",
     "text": [
      "Epoch 17:\n",
      "  Train Acc = 0.9995, Train Prec = 0.9995, Train Rec = 0.9995, Train F1 = 0.9995, Train Loss = 0.0056\n",
      "  Val Acc = 0.9438, Val Prec = 0.9448, Val Rec = 0.9438, Val F1 = 0.9435, Val Loss = 0.2894\n"
     ]
    },
    {
     "name": "stderr",
     "output_type": "stream",
     "text": [
      "Epoch 18 - Training: 100%|██████████| 118/118 [00:40<00:00,  2.91it/s]\n",
      "Epoch 18 - Validation: 100%|██████████| 30/30 [00:03<00:00,  8.67it/s]\n"
     ]
    },
    {
     "name": "stdout",
     "output_type": "stream",
     "text": [
      "Epoch 18:\n",
      "  Train Acc = 0.9987, Train Prec = 0.9987, Train Rec = 0.9987, Train F1 = 0.9987, Train Loss = 0.0088\n",
      "  Val Acc = 0.9470, Val Prec = 0.9485, Val Rec = 0.9470, Val F1 = 0.9467, Val Loss = 0.2935\n"
     ]
    },
    {
     "name": "stderr",
     "output_type": "stream",
     "text": [
      "Epoch 19 - Training: 100%|██████████| 118/118 [00:40<00:00,  2.91it/s]\n",
      "Epoch 19 - Validation: 100%|██████████| 30/30 [00:03<00:00,  8.68it/s]\n"
     ]
    },
    {
     "name": "stdout",
     "output_type": "stream",
     "text": [
      "Epoch 19:\n",
      "  Train Acc = 0.9971, Train Prec = 0.9971, Train Rec = 0.9971, Train F1 = 0.9971, Train Loss = 0.0143\n",
      "  Val Acc = 0.9247, Val Prec = 0.9312, Val Rec = 0.9247, Val F1 = 0.9250, Val Loss = 0.4348\n"
     ]
    },
    {
     "name": "stderr",
     "output_type": "stream",
     "text": [
      "Epoch 20 - Training: 100%|██████████| 118/118 [00:40<00:00,  2.91it/s]\n",
      "Epoch 20 - Validation: 100%|██████████| 30/30 [00:03<00:00,  8.69it/s]\n"
     ]
    },
    {
     "name": "stdout",
     "output_type": "stream",
     "text": [
      "Epoch 20:\n",
      "  Train Acc = 0.9955, Train Prec = 0.9955, Train Rec = 0.9955, Train F1 = 0.9955, Train Loss = 0.0175\n",
      "  Val Acc = 0.9374, Val Prec = 0.9399, Val Rec = 0.9374, Val F1 = 0.9373, Val Loss = 0.3828\n",
      "Iteration 3\n"
     ]
    },
    {
     "name": "stderr",
     "output_type": "stream",
     "text": [
      "Some weights of ElectraForSequenceClassification were not initialized from the model checkpoint at beomi/KcELECTRA-base-v2022 and are newly initialized: ['classifier.dense.bias', 'classifier.dense.weight', 'classifier.out_proj.bias', 'classifier.out_proj.weight']\n",
      "You should probably TRAIN this model on a down-stream task to be able to use it for predictions and inference.\n",
      "Epoch 1 - Training: 100%|██████████| 118/118 [00:40<00:00,  2.91it/s]\n",
      "Epoch 1 - Validation: 100%|██████████| 30/30 [00:03<00:00,  8.67it/s]\n"
     ]
    },
    {
     "name": "stdout",
     "output_type": "stream",
     "text": [
      "Epoch 1:\n",
      "  Train Acc = 0.2775, Train Prec = 0.1705, Train Rec = 0.2775, Train F1 = 0.1668, Train Loss = 2.3105\n",
      "  Val Acc = 0.4846, Val Prec = 0.3622, Val Rec = 0.4846, Val F1 = 0.3494, Val Loss = 1.7937\n"
     ]
    },
    {
     "name": "stderr",
     "output_type": "stream",
     "text": [
      "Epoch 2 - Training: 100%|██████████| 118/118 [00:40<00:00,  2.91it/s]\n",
      "Epoch 2 - Validation: 100%|██████████| 30/30 [00:03<00:00,  8.68it/s]\n"
     ]
    },
    {
     "name": "stdout",
     "output_type": "stream",
     "text": [
      "Epoch 2:\n",
      "  Train Acc = 0.5641, Train Prec = 0.6554, Train Rec = 0.5641, Train F1 = 0.4991, Train Loss = 1.4443\n",
      "  Val Acc = 0.7306, Val Prec = 0.7013, Val Rec = 0.7306, Val F1 = 0.6876, Val Loss = 0.9726\n"
     ]
    },
    {
     "name": "stderr",
     "output_type": "stream",
     "text": [
      "Epoch 3 - Training: 100%|██████████| 118/118 [00:40<00:00,  2.91it/s]\n",
      "Epoch 3 - Validation: 100%|██████████| 30/30 [00:03<00:00,  8.68it/s]\n"
     ]
    },
    {
     "name": "stdout",
     "output_type": "stream",
     "text": [
      "Epoch 3:\n",
      "  Train Acc = 0.8413, Train Prec = 0.8543, Train Rec = 0.8413, Train F1 = 0.8277, Train Loss = 0.7432\n",
      "  Val Acc = 0.8547, Val Prec = 0.8741, Val Rec = 0.8547, Val F1 = 0.8423, Val Loss = 0.5608\n"
     ]
    },
    {
     "name": "stderr",
     "output_type": "stream",
     "text": [
      "Epoch 4 - Training: 100%|██████████| 118/118 [00:40<00:00,  2.91it/s]\n",
      "Epoch 4 - Validation: 100%|██████████| 30/30 [00:03<00:00,  8.68it/s]\n"
     ]
    },
    {
     "name": "stdout",
     "output_type": "stream",
     "text": [
      "Epoch 4:\n",
      "  Train Acc = 0.9363, Train Prec = 0.9373, Train Rec = 0.9363, Train F1 = 0.9356, Train Loss = 0.3539\n",
      "  Val Acc = 0.9300, Val Prec = 0.9324, Val Rec = 0.9300, Val F1 = 0.9301, Val Loss = 0.3120\n"
     ]
    },
    {
     "name": "stderr",
     "output_type": "stream",
     "text": [
      "Epoch 5 - Training: 100%|██████████| 118/118 [00:40<00:00,  2.90it/s]\n",
      "Epoch 5 - Validation: 100%|██████████| 30/30 [00:03<00:00,  8.68it/s]\n"
     ]
    },
    {
     "name": "stdout",
     "output_type": "stream",
     "text": [
      "Epoch 5:\n",
      "  Train Acc = 0.9769, Train Prec = 0.9771, Train Rec = 0.9769, Train F1 = 0.9769, Train Loss = 0.1658\n",
      "  Val Acc = 0.9279, Val Prec = 0.9322, Val Rec = 0.9279, Val F1 = 0.9286, Val Loss = 0.2651\n"
     ]
    },
    {
     "name": "stderr",
     "output_type": "stream",
     "text": [
      "Epoch 6 - Training: 100%|██████████| 118/118 [00:40<00:00,  2.91it/s]\n",
      "Epoch 6 - Validation: 100%|██████████| 30/30 [00:03<00:00,  8.67it/s]\n"
     ]
    },
    {
     "name": "stdout",
     "output_type": "stream",
     "text": [
      "Epoch 6:\n",
      "  Train Acc = 0.9851, Train Prec = 0.9851, Train Rec = 0.9851, Train F1 = 0.9851, Train Loss = 0.1021\n",
      "  Val Acc = 0.9279, Val Prec = 0.9316, Val Rec = 0.9279, Val F1 = 0.9279, Val Loss = 0.2982\n"
     ]
    },
    {
     "name": "stderr",
     "output_type": "stream",
     "text": [
      "Epoch 7 - Training: 100%|██████████| 118/118 [00:40<00:00,  2.90it/s]\n",
      "Epoch 7 - Validation: 100%|██████████| 30/30 [00:03<00:00,  8.66it/s]\n"
     ]
    },
    {
     "name": "stdout",
     "output_type": "stream",
     "text": [
      "Epoch 7:\n",
      "  Train Acc = 0.9936, Train Prec = 0.9937, Train Rec = 0.9936, Train F1 = 0.9936, Train Loss = 0.0541\n",
      "  Val Acc = 0.9364, Val Prec = 0.9391, Val Rec = 0.9364, Val F1 = 0.9367, Val Loss = 0.2827\n"
     ]
    },
    {
     "name": "stderr",
     "output_type": "stream",
     "text": [
      "Epoch 8 - Training: 100%|██████████| 118/118 [00:40<00:00,  2.90it/s]\n",
      "Epoch 8 - Validation: 100%|██████████| 30/30 [00:03<00:00,  8.65it/s]\n"
     ]
    },
    {
     "name": "stdout",
     "output_type": "stream",
     "text": [
      "Epoch 8:\n",
      "  Train Acc = 0.9947, Train Prec = 0.9947, Train Rec = 0.9947, Train F1 = 0.9947, Train Loss = 0.0405\n",
      "  Val Acc = 0.9396, Val Prec = 0.9418, Val Rec = 0.9396, Val F1 = 0.9397, Val Loss = 0.2722\n"
     ]
    },
    {
     "name": "stderr",
     "output_type": "stream",
     "text": [
      "Epoch 9 - Training: 100%|██████████| 118/118 [00:40<00:00,  2.90it/s]\n",
      "Epoch 9 - Validation: 100%|██████████| 30/30 [00:03<00:00,  8.62it/s]\n"
     ]
    },
    {
     "name": "stdout",
     "output_type": "stream",
     "text": [
      "Epoch 9:\n",
      "  Train Acc = 0.9958, Train Prec = 0.9958, Train Rec = 0.9958, Train F1 = 0.9958, Train Loss = 0.0347\n",
      "  Val Acc = 0.9279, Val Prec = 0.9324, Val Rec = 0.9279, Val F1 = 0.9290, Val Loss = 0.3272\n"
     ]
    },
    {
     "name": "stderr",
     "output_type": "stream",
     "text": [
      "Epoch 10 - Training: 100%|██████████| 118/118 [00:40<00:00,  2.89it/s]\n",
      "Epoch 10 - Validation: 100%|██████████| 30/30 [00:03<00:00,  8.63it/s]\n"
     ]
    },
    {
     "name": "stdout",
     "output_type": "stream",
     "text": [
      "Epoch 10:\n",
      "  Train Acc = 0.9947, Train Prec = 0.9947, Train Rec = 0.9947, Train F1 = 0.9947, Train Loss = 0.0298\n",
      "  Val Acc = 0.9406, Val Prec = 0.9434, Val Rec = 0.9406, Val F1 = 0.9406, Val Loss = 0.2952\n"
     ]
    },
    {
     "name": "stderr",
     "output_type": "stream",
     "text": [
      "Epoch 11 - Training: 100%|██████████| 118/118 [00:40<00:00,  2.90it/s]\n",
      "Epoch 11 - Validation: 100%|██████████| 30/30 [00:03<00:00,  8.64it/s]\n"
     ]
    },
    {
     "name": "stdout",
     "output_type": "stream",
     "text": [
      "Epoch 11:\n",
      "  Train Acc = 0.9976, Train Prec = 0.9976, Train Rec = 0.9976, Train F1 = 0.9976, Train Loss = 0.0185\n",
      "  Val Acc = 0.9364, Val Prec = 0.9397, Val Rec = 0.9364, Val F1 = 0.9366, Val Loss = 0.3088\n"
     ]
    },
    {
     "name": "stderr",
     "output_type": "stream",
     "text": [
      "Epoch 12 - Training: 100%|██████████| 118/118 [00:40<00:00,  2.90it/s]\n",
      "Epoch 12 - Validation: 100%|██████████| 30/30 [00:03<00:00,  8.65it/s]\n"
     ]
    },
    {
     "name": "stdout",
     "output_type": "stream",
     "text": [
      "Epoch 12:\n",
      "  Train Acc = 0.9963, Train Prec = 0.9963, Train Rec = 0.9963, Train F1 = 0.9963, Train Loss = 0.0180\n",
      "  Val Acc = 0.9396, Val Prec = 0.9408, Val Rec = 0.9396, Val F1 = 0.9394, Val Loss = 0.3093\n"
     ]
    },
    {
     "name": "stderr",
     "output_type": "stream",
     "text": [
      "Epoch 13 - Training: 100%|██████████| 118/118 [00:40<00:00,  2.90it/s]\n",
      "Epoch 13 - Validation: 100%|██████████| 30/30 [00:03<00:00,  8.67it/s]\n"
     ]
    },
    {
     "name": "stdout",
     "output_type": "stream",
     "text": [
      "Epoch 13:\n",
      "  Train Acc = 0.9936, Train Prec = 0.9937, Train Rec = 0.9936, Train F1 = 0.9936, Train Loss = 0.0299\n",
      "  Val Acc = 0.9311, Val Prec = 0.9364, Val Rec = 0.9311, Val F1 = 0.9315, Val Loss = 0.3607\n"
     ]
    },
    {
     "name": "stderr",
     "output_type": "stream",
     "text": [
      "Epoch 14 - Training: 100%|██████████| 118/118 [00:40<00:00,  2.90it/s]\n",
      "Epoch 14 - Validation: 100%|██████████| 30/30 [00:03<00:00,  8.66it/s]\n"
     ]
    },
    {
     "name": "stdout",
     "output_type": "stream",
     "text": [
      "Epoch 14:\n",
      "  Train Acc = 0.9958, Train Prec = 0.9958, Train Rec = 0.9958, Train F1 = 0.9957, Train Loss = 0.0194\n",
      "  Val Acc = 0.9077, Val Prec = 0.9156, Val Rec = 0.9077, Val F1 = 0.9087, Val Loss = 0.4484\n"
     ]
    },
    {
     "name": "stderr",
     "output_type": "stream",
     "text": [
      "Epoch 15 - Training: 100%|██████████| 118/118 [00:40<00:00,  2.90it/s]\n",
      "Epoch 15 - Validation: 100%|██████████| 30/30 [00:03<00:00,  8.65it/s]\n"
     ]
    },
    {
     "name": "stdout",
     "output_type": "stream",
     "text": [
      "Epoch 15:\n",
      "  Train Acc = 0.9936, Train Prec = 0.9936, Train Rec = 0.9936, Train F1 = 0.9936, Train Loss = 0.0239\n",
      "  Val Acc = 0.9353, Val Prec = 0.9385, Val Rec = 0.9353, Val F1 = 0.9354, Val Loss = 0.3669\n"
     ]
    },
    {
     "name": "stderr",
     "output_type": "stream",
     "text": [
      "Epoch 16 - Training: 100%|██████████| 118/118 [00:40<00:00,  2.89it/s]\n",
      "Epoch 16 - Validation: 100%|██████████| 30/30 [00:03<00:00,  8.61it/s]\n"
     ]
    },
    {
     "name": "stdout",
     "output_type": "stream",
     "text": [
      "Epoch 16:\n",
      "  Train Acc = 0.9973, Train Prec = 0.9974, Train Rec = 0.9973, Train F1 = 0.9973, Train Loss = 0.0153\n",
      "  Val Acc = 0.9321, Val Prec = 0.9359, Val Rec = 0.9321, Val F1 = 0.9324, Val Loss = 0.3897\n"
     ]
    },
    {
     "name": "stderr",
     "output_type": "stream",
     "text": [
      "Epoch 17 - Training: 100%|██████████| 118/118 [00:40<00:00,  2.89it/s]\n",
      "Epoch 17 - Validation: 100%|██████████| 30/30 [00:03<00:00,  8.59it/s]\n"
     ]
    },
    {
     "name": "stdout",
     "output_type": "stream",
     "text": [
      "Epoch 17:\n",
      "  Train Acc = 0.9981, Train Prec = 0.9981, Train Rec = 0.9981, Train F1 = 0.9981, Train Loss = 0.0144\n",
      "  Val Acc = 0.9406, Val Prec = 0.9419, Val Rec = 0.9406, Val F1 = 0.9405, Val Loss = 0.3320\n"
     ]
    },
    {
     "name": "stderr",
     "output_type": "stream",
     "text": [
      "Epoch 18 - Training: 100%|██████████| 118/118 [00:40<00:00,  2.89it/s]\n",
      "Epoch 18 - Validation: 100%|██████████| 30/30 [00:03<00:00,  8.64it/s]\n"
     ]
    },
    {
     "name": "stdout",
     "output_type": "stream",
     "text": [
      "Epoch 18:\n",
      "  Train Acc = 0.9963, Train Prec = 0.9963, Train Rec = 0.9963, Train F1 = 0.9963, Train Loss = 0.0182\n",
      "  Val Acc = 0.9353, Val Prec = 0.9381, Val Rec = 0.9353, Val F1 = 0.9352, Val Loss = 0.3728\n"
     ]
    },
    {
     "name": "stderr",
     "output_type": "stream",
     "text": [
      "Epoch 19 - Training: 100%|██████████| 118/118 [00:40<00:00,  2.90it/s]\n",
      "Epoch 19 - Validation: 100%|██████████| 30/30 [00:03<00:00,  8.67it/s]\n"
     ]
    },
    {
     "name": "stdout",
     "output_type": "stream",
     "text": [
      "Epoch 19:\n",
      "  Train Acc = 0.9942, Train Prec = 0.9942, Train Rec = 0.9942, Train F1 = 0.9942, Train Loss = 0.0266\n",
      "  Val Acc = 0.9491, Val Prec = 0.9506, Val Rec = 0.9491, Val F1 = 0.9493, Val Loss = 0.3104\n",
      "  Best model saved with 0.9493 F1 score.\n"
     ]
    },
    {
     "name": "stderr",
     "output_type": "stream",
     "text": [
      "Epoch 20 - Training: 100%|██████████| 118/118 [00:40<00:00,  2.91it/s]\n",
      "Epoch 20 - Validation: 100%|██████████| 30/30 [00:03<00:00,  8.67it/s]\n"
     ]
    },
    {
     "name": "stdout",
     "output_type": "stream",
     "text": [
      "Epoch 20:\n",
      "  Train Acc = 0.9947, Train Prec = 0.9947, Train Rec = 0.9947, Train F1 = 0.9947, Train Loss = 0.0237\n",
      "  Val Acc = 0.9480, Val Prec = 0.9486, Val Rec = 0.9480, Val F1 = 0.9479, Val Loss = 0.2648\n",
      "Iteration 4\n"
     ]
    },
    {
     "name": "stderr",
     "output_type": "stream",
     "text": [
      "Some weights of ElectraForSequenceClassification were not initialized from the model checkpoint at beomi/KcELECTRA-base-v2022 and are newly initialized: ['classifier.dense.bias', 'classifier.dense.weight', 'classifier.out_proj.bias', 'classifier.out_proj.weight']\n",
      "You should probably TRAIN this model on a down-stream task to be able to use it for predictions and inference.\n",
      "Epoch 1 - Training: 100%|██████████| 118/118 [00:40<00:00,  2.91it/s]\n",
      "Epoch 1 - Validation: 100%|██████████| 30/30 [00:03<00:00,  8.66it/s]\n"
     ]
    },
    {
     "name": "stdout",
     "output_type": "stream",
     "text": [
      "Epoch 1:\n",
      "  Train Acc = 0.2903, Train Prec = 0.2696, Train Rec = 0.2903, Train F1 = 0.1813, Train Loss = 2.2643\n",
      "  Val Acc = 0.5037, Val Prec = 0.3366, Val Rec = 0.5037, Val F1 = 0.3880, Val Loss = 1.6825\n"
     ]
    },
    {
     "name": "stderr",
     "output_type": "stream",
     "text": [
      "Epoch 2 - Training: 100%|██████████| 118/118 [00:40<00:00,  2.91it/s]\n",
      "Epoch 2 - Validation: 100%|██████████| 30/30 [00:03<00:00,  8.68it/s]\n"
     ]
    },
    {
     "name": "stdout",
     "output_type": "stream",
     "text": [
      "Epoch 2:\n",
      "  Train Acc = 0.6025, Train Prec = 0.6193, Train Rec = 0.6025, Train F1 = 0.5433, Train Loss = 1.3539\n",
      "  Val Acc = 0.7296, Val Prec = 0.7054, Val Rec = 0.7296, Val F1 = 0.6757, Val Loss = 0.8998\n"
     ]
    },
    {
     "name": "stderr",
     "output_type": "stream",
     "text": [
      "Epoch 3 - Training: 100%|██████████| 118/118 [00:40<00:00,  2.91it/s]\n",
      "Epoch 3 - Validation: 100%|██████████| 30/30 [00:03<00:00,  8.70it/s]\n"
     ]
    },
    {
     "name": "stdout",
     "output_type": "stream",
     "text": [
      "Epoch 3:\n",
      "  Train Acc = 0.8403, Train Prec = 0.8500, Train Rec = 0.8403, Train F1 = 0.8333, Train Loss = 0.7055\n",
      "  Val Acc = 0.8929, Val Prec = 0.9001, Val Rec = 0.8929, Val F1 = 0.8936, Val Loss = 0.4838\n"
     ]
    },
    {
     "name": "stderr",
     "output_type": "stream",
     "text": [
      "Epoch 4 - Training: 100%|██████████| 118/118 [00:40<00:00,  2.91it/s]\n",
      "Epoch 4 - Validation: 100%|██████████| 30/30 [00:03<00:00,  8.69it/s]\n"
     ]
    },
    {
     "name": "stdout",
     "output_type": "stream",
     "text": [
      "Epoch 4:\n",
      "  Train Acc = 0.9522, Train Prec = 0.9525, Train Rec = 0.9522, Train F1 = 0.9522, Train Loss = 0.3063\n",
      "  Val Acc = 0.9268, Val Prec = 0.9314, Val Rec = 0.9268, Val F1 = 0.9266, Val Loss = 0.3129\n"
     ]
    },
    {
     "name": "stderr",
     "output_type": "stream",
     "text": [
      "Epoch 5 - Training: 100%|██████████| 118/118 [00:40<00:00,  2.91it/s]\n",
      "Epoch 5 - Validation: 100%|██████████| 30/30 [00:03<00:00,  8.67it/s]\n"
     ]
    },
    {
     "name": "stdout",
     "output_type": "stream",
     "text": [
      "Epoch 5:\n",
      "  Train Acc = 0.9740, Train Prec = 0.9741, Train Rec = 0.9740, Train F1 = 0.9740, Train Loss = 0.1595\n",
      "  Val Acc = 0.9279, Val Prec = 0.9307, Val Rec = 0.9279, Val F1 = 0.9280, Val Loss = 0.2766\n"
     ]
    },
    {
     "name": "stderr",
     "output_type": "stream",
     "text": [
      "Epoch 6 - Training: 100%|██████████| 118/118 [00:40<00:00,  2.91it/s]\n",
      "Epoch 6 - Validation: 100%|██████████| 30/30 [00:03<00:00,  8.69it/s]\n"
     ]
    },
    {
     "name": "stdout",
     "output_type": "stream",
     "text": [
      "Epoch 6:\n",
      "  Train Acc = 0.9854, Train Prec = 0.9854, Train Rec = 0.9854, Train F1 = 0.9854, Train Loss = 0.0922\n",
      "  Val Acc = 0.9321, Val Prec = 0.9374, Val Rec = 0.9321, Val F1 = 0.9329, Val Loss = 0.2998\n"
     ]
    },
    {
     "name": "stderr",
     "output_type": "stream",
     "text": [
      "Epoch 7 - Training: 100%|██████████| 118/118 [00:40<00:00,  2.91it/s]\n",
      "Epoch 7 - Validation: 100%|██████████| 30/30 [00:03<00:00,  8.70it/s]\n"
     ]
    },
    {
     "name": "stdout",
     "output_type": "stream",
     "text": [
      "Epoch 7:\n",
      "  Train Acc = 0.9926, Train Prec = 0.9926, Train Rec = 0.9926, Train F1 = 0.9926, Train Loss = 0.0543\n",
      "  Val Acc = 0.9343, Val Prec = 0.9380, Val Rec = 0.9343, Val F1 = 0.9346, Val Loss = 0.2946\n"
     ]
    },
    {
     "name": "stderr",
     "output_type": "stream",
     "text": [
      "Epoch 8 - Training: 100%|██████████| 118/118 [00:40<00:00,  2.91it/s]\n",
      "Epoch 8 - Validation: 100%|██████████| 30/30 [00:03<00:00,  8.68it/s]\n"
     ]
    },
    {
     "name": "stdout",
     "output_type": "stream",
     "text": [
      "Epoch 8:\n",
      "  Train Acc = 0.9944, Train Prec = 0.9944, Train Rec = 0.9944, Train F1 = 0.9944, Train Loss = 0.0369\n",
      "  Val Acc = 0.9258, Val Prec = 0.9314, Val Rec = 0.9258, Val F1 = 0.9255, Val Loss = 0.3182\n"
     ]
    },
    {
     "name": "stderr",
     "output_type": "stream",
     "text": [
      "Epoch 9 - Training: 100%|██████████| 118/118 [00:40<00:00,  2.91it/s]\n",
      "Epoch 9 - Validation: 100%|██████████| 30/30 [00:03<00:00,  8.67it/s]\n"
     ]
    },
    {
     "name": "stdout",
     "output_type": "stream",
     "text": [
      "Epoch 9:\n",
      "  Train Acc = 0.9934, Train Prec = 0.9934, Train Rec = 0.9934, Train F1 = 0.9934, Train Loss = 0.0361\n",
      "  Val Acc = 0.9236, Val Prec = 0.9271, Val Rec = 0.9236, Val F1 = 0.9240, Val Loss = 0.3326\n"
     ]
    },
    {
     "name": "stderr",
     "output_type": "stream",
     "text": [
      "Epoch 10 - Training: 100%|██████████| 118/118 [00:40<00:00,  2.90it/s]\n",
      "Epoch 10 - Validation: 100%|██████████| 30/30 [00:03<00:00,  8.65it/s]\n"
     ]
    },
    {
     "name": "stdout",
     "output_type": "stream",
     "text": [
      "Epoch 10:\n",
      "  Train Acc = 0.9928, Train Prec = 0.9929, Train Rec = 0.9928, Train F1 = 0.9928, Train Loss = 0.0346\n",
      "  Val Acc = 0.9385, Val Prec = 0.9405, Val Rec = 0.9385, Val F1 = 0.9384, Val Loss = 0.2822\n"
     ]
    },
    {
     "name": "stderr",
     "output_type": "stream",
     "text": [
      "Epoch 11 - Training: 100%|██████████| 118/118 [00:40<00:00,  2.90it/s]\n",
      "Epoch 11 - Validation: 100%|██████████| 30/30 [00:03<00:00,  8.63it/s]\n"
     ]
    },
    {
     "name": "stdout",
     "output_type": "stream",
     "text": [
      "Epoch 11:\n",
      "  Train Acc = 0.9952, Train Prec = 0.9952, Train Rec = 0.9952, Train F1 = 0.9952, Train Loss = 0.0259\n",
      "  Val Acc = 0.9417, Val Prec = 0.9436, Val Rec = 0.9417, Val F1 = 0.9416, Val Loss = 0.2977\n"
     ]
    },
    {
     "name": "stderr",
     "output_type": "stream",
     "text": [
      "Epoch 12 - Training: 100%|██████████| 118/118 [00:40<00:00,  2.90it/s]\n",
      "Epoch 12 - Validation: 100%|██████████| 30/30 [00:03<00:00,  8.63it/s]\n"
     ]
    },
    {
     "name": "stdout",
     "output_type": "stream",
     "text": [
      "Epoch 12:\n",
      "  Train Acc = 0.9968, Train Prec = 0.9968, Train Rec = 0.9968, Train F1 = 0.9968, Train Loss = 0.0241\n",
      "  Val Acc = 0.9247, Val Prec = 0.9342, Val Rec = 0.9247, Val F1 = 0.9269, Val Loss = 0.3685\n"
     ]
    },
    {
     "name": "stderr",
     "output_type": "stream",
     "text": [
      "Epoch 13 - Training: 100%|██████████| 118/118 [00:40<00:00,  2.90it/s]\n",
      "Epoch 13 - Validation: 100%|██████████| 30/30 [00:03<00:00,  8.62it/s]\n"
     ]
    },
    {
     "name": "stdout",
     "output_type": "stream",
     "text": [
      "Epoch 13:\n",
      "  Train Acc = 0.9926, Train Prec = 0.9926, Train Rec = 0.9926, Train F1 = 0.9926, Train Loss = 0.0294\n",
      "  Val Acc = 0.9332, Val Prec = 0.9369, Val Rec = 0.9332, Val F1 = 0.9338, Val Loss = 0.3445\n"
     ]
    },
    {
     "name": "stderr",
     "output_type": "stream",
     "text": [
      "Epoch 14 - Training: 100%|██████████| 118/118 [00:40<00:00,  2.90it/s]\n",
      "Epoch 14 - Validation: 100%|██████████| 30/30 [00:03<00:00,  8.63it/s]\n"
     ]
    },
    {
     "name": "stdout",
     "output_type": "stream",
     "text": [
      "Epoch 14:\n",
      "  Train Acc = 0.9958, Train Prec = 0.9958, Train Rec = 0.9958, Train F1 = 0.9958, Train Loss = 0.0199\n",
      "  Val Acc = 0.9279, Val Prec = 0.9324, Val Rec = 0.9279, Val F1 = 0.9290, Val Loss = 0.3596\n"
     ]
    },
    {
     "name": "stderr",
     "output_type": "stream",
     "text": [
      "Epoch 15 - Training: 100%|██████████| 118/118 [00:40<00:00,  2.90it/s]\n",
      "Epoch 15 - Validation: 100%|██████████| 30/30 [00:03<00:00,  8.67it/s]\n"
     ]
    },
    {
     "name": "stdout",
     "output_type": "stream",
     "text": [
      "Epoch 15:\n",
      "  Train Acc = 0.9920, Train Prec = 0.9921, Train Rec = 0.9920, Train F1 = 0.9921, Train Loss = 0.0371\n",
      "  Val Acc = 0.9406, Val Prec = 0.9423, Val Rec = 0.9406, Val F1 = 0.9407, Val Loss = 0.3094\n"
     ]
    },
    {
     "name": "stderr",
     "output_type": "stream",
     "text": [
      "Epoch 16 - Training: 100%|██████████| 118/118 [00:40<00:00,  2.90it/s]\n",
      "Epoch 16 - Validation: 100%|██████████| 30/30 [00:03<00:00,  8.66it/s]\n"
     ]
    },
    {
     "name": "stdout",
     "output_type": "stream",
     "text": [
      "Epoch 16:\n",
      "  Train Acc = 0.9955, Train Prec = 0.9955, Train Rec = 0.9955, Train F1 = 0.9955, Train Loss = 0.0184\n",
      "  Val Acc = 0.9417, Val Prec = 0.9430, Val Rec = 0.9417, Val F1 = 0.9418, Val Loss = 0.3203\n"
     ]
    },
    {
     "name": "stderr",
     "output_type": "stream",
     "text": [
      "Epoch 17 - Training: 100%|██████████| 118/118 [00:40<00:00,  2.90it/s]\n",
      "Epoch 17 - Validation: 100%|██████████| 30/30 [00:03<00:00,  8.65it/s]\n"
     ]
    },
    {
     "name": "stdout",
     "output_type": "stream",
     "text": [
      "Epoch 17:\n",
      "  Train Acc = 0.9944, Train Prec = 0.9944, Train Rec = 0.9944, Train F1 = 0.9944, Train Loss = 0.0201\n",
      "  Val Acc = 0.9427, Val Prec = 0.9433, Val Rec = 0.9427, Val F1 = 0.9427, Val Loss = 0.3098\n"
     ]
    },
    {
     "name": "stderr",
     "output_type": "stream",
     "text": [
      "Epoch 18 - Training: 100%|██████████| 118/118 [00:40<00:00,  2.91it/s]\n",
      "Epoch 18 - Validation: 100%|██████████| 30/30 [00:03<00:00,  8.66it/s]\n"
     ]
    },
    {
     "name": "stdout",
     "output_type": "stream",
     "text": [
      "Epoch 18:\n",
      "  Train Acc = 0.9958, Train Prec = 0.9958, Train Rec = 0.9958, Train F1 = 0.9958, Train Loss = 0.0181\n",
      "  Val Acc = 0.9353, Val Prec = 0.9383, Val Rec = 0.9353, Val F1 = 0.9357, Val Loss = 0.3700\n"
     ]
    },
    {
     "name": "stderr",
     "output_type": "stream",
     "text": [
      "Epoch 19 - Training: 100%|██████████| 118/118 [00:40<00:00,  2.90it/s]\n",
      "Epoch 19 - Validation: 100%|██████████| 30/30 [00:03<00:00,  8.64it/s]\n"
     ]
    },
    {
     "name": "stdout",
     "output_type": "stream",
     "text": [
      "Epoch 19:\n",
      "  Train Acc = 0.9958, Train Prec = 0.9958, Train Rec = 0.9958, Train F1 = 0.9958, Train Loss = 0.0156\n",
      "  Val Acc = 0.9438, Val Prec = 0.9447, Val Rec = 0.9438, Val F1 = 0.9438, Val Loss = 0.3434\n"
     ]
    },
    {
     "name": "stderr",
     "output_type": "stream",
     "text": [
      "Epoch 20 - Training: 100%|██████████| 118/118 [00:40<00:00,  2.90it/s]\n",
      "Epoch 20 - Validation: 100%|██████████| 30/30 [00:03<00:00,  8.65it/s]\n"
     ]
    },
    {
     "name": "stdout",
     "output_type": "stream",
     "text": [
      "Epoch 20:\n",
      "  Train Acc = 0.9979, Train Prec = 0.9979, Train Rec = 0.9979, Train F1 = 0.9979, Train Loss = 0.0089\n",
      "  Val Acc = 0.9279, Val Prec = 0.9333, Val Rec = 0.9279, Val F1 = 0.9282, Val Loss = 0.4036\n",
      "Iteration 5\n"
     ]
    },
    {
     "name": "stderr",
     "output_type": "stream",
     "text": [
      "Some weights of ElectraForSequenceClassification were not initialized from the model checkpoint at beomi/KcELECTRA-base-v2022 and are newly initialized: ['classifier.dense.bias', 'classifier.dense.weight', 'classifier.out_proj.bias', 'classifier.out_proj.weight']\n",
      "You should probably TRAIN this model on a down-stream task to be able to use it for predictions and inference.\n",
      "Epoch 1 - Training: 100%|██████████| 118/118 [00:40<00:00,  2.90it/s]\n",
      "Epoch 1 - Validation: 100%|██████████| 30/30 [00:03<00:00,  8.66it/s]\n"
     ]
    },
    {
     "name": "stdout",
     "output_type": "stream",
     "text": [
      "Epoch 1:\n",
      "  Train Acc = 0.2789, Train Prec = 0.2144, Train Rec = 0.2789, Train F1 = 0.1830, Train Loss = 2.2998\n",
      "  Val Acc = 0.4698, Val Prec = 0.3591, Val Rec = 0.4698, Val F1 = 0.3454, Val Loss = 1.7408\n"
     ]
    },
    {
     "name": "stderr",
     "output_type": "stream",
     "text": [
      "Epoch 2 - Training: 100%|██████████| 118/118 [00:40<00:00,  2.90it/s]\n",
      "Epoch 2 - Validation: 100%|██████████| 30/30 [00:03<00:00,  8.62it/s]\n"
     ]
    },
    {
     "name": "stdout",
     "output_type": "stream",
     "text": [
      "Epoch 2:\n",
      "  Train Acc = 0.6025, Train Prec = 0.6353, Train Rec = 0.6025, Train F1 = 0.5407, Train Loss = 1.3386\n",
      "  Val Acc = 0.7964, Val Prec = 0.8022, Val Rec = 0.7964, Val F1 = 0.7646, Val Loss = 0.8555\n"
     ]
    },
    {
     "name": "stderr",
     "output_type": "stream",
     "text": [
      "Epoch 3 - Training: 100%|██████████| 118/118 [00:40<00:00,  2.90it/s]\n",
      "Epoch 3 - Validation: 100%|██████████| 30/30 [00:03<00:00,  8.63it/s]\n"
     ]
    },
    {
     "name": "stdout",
     "output_type": "stream",
     "text": [
      "Epoch 3:\n",
      "  Train Acc = 0.8522, Train Prec = 0.8583, Train Rec = 0.8522, Train F1 = 0.8439, Train Loss = 0.6700\n",
      "  Val Acc = 0.8982, Val Prec = 0.9125, Val Rec = 0.8982, Val F1 = 0.8977, Val Loss = 0.4787\n"
     ]
    },
    {
     "name": "stderr",
     "output_type": "stream",
     "text": [
      "Epoch 4 - Training: 100%|██████████| 118/118 [00:40<00:00,  2.90it/s]\n",
      "Epoch 4 - Validation: 100%|██████████| 30/30 [00:03<00:00,  8.64it/s]\n"
     ]
    },
    {
     "name": "stdout",
     "output_type": "stream",
     "text": [
      "Epoch 4:\n",
      "  Train Acc = 0.9451, Train Prec = 0.9452, Train Rec = 0.9451, Train F1 = 0.9450, Train Loss = 0.3124\n",
      "  Val Acc = 0.9099, Val Prec = 0.9184, Val Rec = 0.9099, Val F1 = 0.9110, Val Loss = 0.3307\n"
     ]
    },
    {
     "name": "stderr",
     "output_type": "stream",
     "text": [
      "Epoch 5 - Training: 100%|██████████| 118/118 [00:40<00:00,  2.90it/s]\n",
      "Epoch 5 - Validation: 100%|██████████| 30/30 [00:03<00:00,  8.64it/s]\n"
     ]
    },
    {
     "name": "stdout",
     "output_type": "stream",
     "text": [
      "Epoch 5:\n",
      "  Train Acc = 0.9719, Train Prec = 0.9719, Train Rec = 0.9719, Train F1 = 0.9719, Train Loss = 0.1678\n",
      "  Val Acc = 0.9353, Val Prec = 0.9373, Val Rec = 0.9353, Val F1 = 0.9356, Val Loss = 0.2792\n"
     ]
    },
    {
     "name": "stderr",
     "output_type": "stream",
     "text": [
      "Epoch 6 - Training: 100%|██████████| 118/118 [00:40<00:00,  2.90it/s]\n",
      "Epoch 6 - Validation: 100%|██████████| 30/30 [00:03<00:00,  8.68it/s]\n"
     ]
    },
    {
     "name": "stdout",
     "output_type": "stream",
     "text": [
      "Epoch 6:\n",
      "  Train Acc = 0.9857, Train Prec = 0.9857, Train Rec = 0.9857, Train F1 = 0.9857, Train Loss = 0.0942\n",
      "  Val Acc = 0.9300, Val Prec = 0.9342, Val Rec = 0.9300, Val F1 = 0.9305, Val Loss = 0.2836\n"
     ]
    },
    {
     "name": "stderr",
     "output_type": "stream",
     "text": [
      "Epoch 7 - Training: 100%|██████████| 118/118 [00:40<00:00,  2.90it/s]\n",
      "Epoch 7 - Validation: 100%|██████████| 30/30 [00:03<00:00,  8.66it/s]\n"
     ]
    },
    {
     "name": "stdout",
     "output_type": "stream",
     "text": [
      "Epoch 7:\n",
      "  Train Acc = 0.9891, Train Prec = 0.9892, Train Rec = 0.9891, Train F1 = 0.9891, Train Loss = 0.0652\n",
      "  Val Acc = 0.9364, Val Prec = 0.9398, Val Rec = 0.9364, Val F1 = 0.9364, Val Loss = 0.2835\n"
     ]
    },
    {
     "name": "stderr",
     "output_type": "stream",
     "text": [
      "Epoch 8 - Training: 100%|██████████| 118/118 [00:40<00:00,  2.90it/s]\n",
      "Epoch 8 - Validation: 100%|██████████| 30/30 [00:03<00:00,  8.65it/s]\n"
     ]
    },
    {
     "name": "stdout",
     "output_type": "stream",
     "text": [
      "Epoch 8:\n",
      "  Train Acc = 0.9950, Train Prec = 0.9950, Train Rec = 0.9950, Train F1 = 0.9950, Train Loss = 0.0371\n",
      "  Val Acc = 0.9396, Val Prec = 0.9417, Val Rec = 0.9396, Val F1 = 0.9398, Val Loss = 0.2822\n"
     ]
    },
    {
     "name": "stderr",
     "output_type": "stream",
     "text": [
      "Epoch 9 - Training: 100%|██████████| 118/118 [00:40<00:00,  2.90it/s]\n",
      "Epoch 9 - Validation: 100%|██████████| 30/30 [00:03<00:00,  8.63it/s]\n"
     ]
    },
    {
     "name": "stdout",
     "output_type": "stream",
     "text": [
      "Epoch 9:\n",
      "  Train Acc = 0.9942, Train Prec = 0.9942, Train Rec = 0.9942, Train F1 = 0.9942, Train Loss = 0.0333\n",
      "  Val Acc = 0.9396, Val Prec = 0.9412, Val Rec = 0.9396, Val F1 = 0.9399, Val Loss = 0.2924\n"
     ]
    },
    {
     "name": "stderr",
     "output_type": "stream",
     "text": [
      "Epoch 10 - Training: 100%|██████████| 118/118 [00:40<00:00,  2.90it/s]\n",
      "Epoch 10 - Validation: 100%|██████████| 30/30 [00:03<00:00,  8.64it/s]\n"
     ]
    },
    {
     "name": "stdout",
     "output_type": "stream",
     "text": [
      "Epoch 10:\n",
      "  Train Acc = 0.9931, Train Prec = 0.9931, Train Rec = 0.9931, Train F1 = 0.9931, Train Loss = 0.0347\n",
      "  Val Acc = 0.9406, Val Prec = 0.9432, Val Rec = 0.9406, Val F1 = 0.9410, Val Loss = 0.2857\n"
     ]
    },
    {
     "name": "stderr",
     "output_type": "stream",
     "text": [
      "Epoch 11 - Training: 100%|██████████| 118/118 [00:40<00:00,  2.90it/s]\n",
      "Epoch 11 - Validation: 100%|██████████| 30/30 [00:03<00:00,  8.62it/s]\n"
     ]
    },
    {
     "name": "stdout",
     "output_type": "stream",
     "text": [
      "Epoch 11:\n",
      "  Train Acc = 0.9923, Train Prec = 0.9923, Train Rec = 0.9923, Train F1 = 0.9923, Train Loss = 0.0363\n",
      "  Val Acc = 0.9417, Val Prec = 0.9431, Val Rec = 0.9417, Val F1 = 0.9416, Val Loss = 0.2800\n"
     ]
    },
    {
     "name": "stderr",
     "output_type": "stream",
     "text": [
      "Epoch 12 - Training: 100%|██████████| 118/118 [00:40<00:00,  2.90it/s]\n",
      "Epoch 12 - Validation: 100%|██████████| 30/30 [00:03<00:00,  8.65it/s]\n"
     ]
    },
    {
     "name": "stdout",
     "output_type": "stream",
     "text": [
      "Epoch 12:\n",
      "  Train Acc = 0.9963, Train Prec = 0.9963, Train Rec = 0.9963, Train F1 = 0.9963, Train Loss = 0.0199\n",
      "  Val Acc = 0.9396, Val Prec = 0.9418, Val Rec = 0.9396, Val F1 = 0.9398, Val Loss = 0.2977\n"
     ]
    },
    {
     "name": "stderr",
     "output_type": "stream",
     "text": [
      "Epoch 13 - Training: 100%|██████████| 118/118 [00:40<00:00,  2.90it/s]\n",
      "Epoch 13 - Validation: 100%|██████████| 30/30 [00:03<00:00,  8.63it/s]\n"
     ]
    },
    {
     "name": "stdout",
     "output_type": "stream",
     "text": [
      "Epoch 13:\n",
      "  Train Acc = 0.9944, Train Prec = 0.9944, Train Rec = 0.9944, Train F1 = 0.9944, Train Loss = 0.0242\n",
      "  Val Acc = 0.9417, Val Prec = 0.9426, Val Rec = 0.9417, Val F1 = 0.9413, Val Loss = 0.3049\n"
     ]
    },
    {
     "name": "stderr",
     "output_type": "stream",
     "text": [
      "Epoch 14 - Training: 100%|██████████| 118/118 [00:40<00:00,  2.90it/s]\n",
      "Epoch 14 - Validation: 100%|██████████| 30/30 [00:03<00:00,  8.64it/s]\n"
     ]
    },
    {
     "name": "stdout",
     "output_type": "stream",
     "text": [
      "Epoch 14:\n",
      "  Train Acc = 0.9963, Train Prec = 0.9963, Train Rec = 0.9963, Train F1 = 0.9963, Train Loss = 0.0193\n",
      "  Val Acc = 0.9406, Val Prec = 0.9423, Val Rec = 0.9406, Val F1 = 0.9405, Val Loss = 0.3074\n"
     ]
    },
    {
     "name": "stderr",
     "output_type": "stream",
     "text": [
      "Epoch 15 - Training: 100%|██████████| 118/118 [00:40<00:00,  2.90it/s]\n",
      "Epoch 15 - Validation: 100%|██████████| 30/30 [00:03<00:00,  8.63it/s]\n"
     ]
    },
    {
     "name": "stdout",
     "output_type": "stream",
     "text": [
      "Epoch 15:\n",
      "  Train Acc = 0.9973, Train Prec = 0.9973, Train Rec = 0.9973, Train F1 = 0.9973, Train Loss = 0.0157\n",
      "  Val Acc = 0.9417, Val Prec = 0.9439, Val Rec = 0.9417, Val F1 = 0.9419, Val Loss = 0.3109\n"
     ]
    },
    {
     "name": "stderr",
     "output_type": "stream",
     "text": [
      "Epoch 16 - Training: 100%|██████████| 118/118 [00:40<00:00,  2.90it/s]\n",
      "Epoch 16 - Validation: 100%|██████████| 30/30 [00:03<00:00,  8.64it/s]\n"
     ]
    },
    {
     "name": "stdout",
     "output_type": "stream",
     "text": [
      "Epoch 16:\n",
      "  Train Acc = 0.9984, Train Prec = 0.9984, Train Rec = 0.9984, Train F1 = 0.9984, Train Loss = 0.0091\n",
      "  Val Acc = 0.9364, Val Prec = 0.9384, Val Rec = 0.9364, Val F1 = 0.9366, Val Loss = 0.3644\n"
     ]
    },
    {
     "name": "stderr",
     "output_type": "stream",
     "text": [
      "Epoch 17 - Training: 100%|██████████| 118/118 [00:40<00:00,  2.90it/s]\n",
      "Epoch 17 - Validation: 100%|██████████| 30/30 [00:03<00:00,  8.64it/s]\n"
     ]
    },
    {
     "name": "stdout",
     "output_type": "stream",
     "text": [
      "Epoch 17:\n",
      "  Train Acc = 1.0000, Train Prec = 1.0000, Train Rec = 1.0000, Train F1 = 1.0000, Train Loss = 0.0040\n",
      "  Val Acc = 0.9374, Val Prec = 0.9393, Val Rec = 0.9374, Val F1 = 0.9376, Val Loss = 0.3451\n"
     ]
    },
    {
     "name": "stderr",
     "output_type": "stream",
     "text": [
      "Epoch 18 - Training: 100%|██████████| 118/118 [00:40<00:00,  2.90it/s]\n",
      "Epoch 18 - Validation: 100%|██████████| 30/30 [00:03<00:00,  8.64it/s]\n"
     ]
    },
    {
     "name": "stdout",
     "output_type": "stream",
     "text": [
      "Epoch 18:\n",
      "  Train Acc = 0.9997, Train Prec = 0.9997, Train Rec = 0.9997, Train F1 = 0.9997, Train Loss = 0.0041\n",
      "  Val Acc = 0.9332, Val Prec = 0.9365, Val Rec = 0.9332, Val F1 = 0.9338, Val Loss = 0.3356\n"
     ]
    },
    {
     "name": "stderr",
     "output_type": "stream",
     "text": [
      "Epoch 19 - Training: 100%|██████████| 118/118 [00:40<00:00,  2.90it/s]\n",
      "Epoch 19 - Validation: 100%|██████████| 30/30 [00:03<00:00,  8.63it/s]\n"
     ]
    },
    {
     "name": "stdout",
     "output_type": "stream",
     "text": [
      "Epoch 19:\n",
      "  Train Acc = 0.9997, Train Prec = 0.9997, Train Rec = 0.9997, Train F1 = 0.9997, Train Loss = 0.0046\n",
      "  Val Acc = 0.9343, Val Prec = 0.9375, Val Rec = 0.9343, Val F1 = 0.9343, Val Loss = 0.3843\n"
     ]
    },
    {
     "name": "stderr",
     "output_type": "stream",
     "text": [
      "Epoch 20 - Training: 100%|██████████| 118/118 [00:40<00:00,  2.90it/s]\n",
      "Epoch 20 - Validation: 100%|██████████| 30/30 [00:03<00:00,  8.68it/s]\n"
     ]
    },
    {
     "name": "stdout",
     "output_type": "stream",
     "text": [
      "Epoch 20:\n",
      "  Train Acc = 1.0000, Train Prec = 1.0000, Train Rec = 1.0000, Train F1 = 1.0000, Train Loss = 0.0028\n",
      "  Val Acc = 0.9406, Val Prec = 0.9419, Val Rec = 0.9406, Val F1 = 0.9406, Val Loss = 0.3528\n",
      "Iteration 6\n"
     ]
    },
    {
     "name": "stderr",
     "output_type": "stream",
     "text": [
      "Some weights of ElectraForSequenceClassification were not initialized from the model checkpoint at beomi/KcELECTRA-base-v2022 and are newly initialized: ['classifier.dense.bias', 'classifier.dense.weight', 'classifier.out_proj.bias', 'classifier.out_proj.weight']\n",
      "You should probably TRAIN this model on a down-stream task to be able to use it for predictions and inference.\n",
      "Epoch 1 - Training: 100%|██████████| 118/118 [00:40<00:00,  2.90it/s]\n",
      "Epoch 1 - Validation: 100%|██████████| 30/30 [00:03<00:00,  8.66it/s]\n"
     ]
    },
    {
     "name": "stdout",
     "output_type": "stream",
     "text": [
      "Epoch 1:\n",
      "  Train Acc = 0.2842, Train Prec = 0.2682, Train Rec = 0.2842, Train F1 = 0.1722, Train Loss = 2.3009\n",
      "  Val Acc = 0.5058, Val Prec = 0.4548, Val Rec = 0.5058, Val F1 = 0.4197, Val Loss = 1.7378\n"
     ]
    },
    {
     "name": "stderr",
     "output_type": "stream",
     "text": [
      "Epoch 2 - Training: 100%|██████████| 118/118 [00:40<00:00,  2.90it/s]\n",
      "Epoch 2 - Validation: 100%|██████████| 30/30 [00:03<00:00,  8.66it/s]\n"
     ]
    },
    {
     "name": "stdout",
     "output_type": "stream",
     "text": [
      "Epoch 2:\n",
      "  Train Acc = 0.6161, Train Prec = 0.6002, Train Rec = 0.6161, Train F1 = 0.5544, Train Loss = 1.3690\n",
      "  Val Acc = 0.7699, Val Prec = 0.7599, Val Rec = 0.7699, Val F1 = 0.7240, Val Loss = 0.8738\n"
     ]
    },
    {
     "name": "stderr",
     "output_type": "stream",
     "text": [
      "Epoch 3 - Training: 100%|██████████| 118/118 [00:40<00:00,  2.90it/s]\n",
      "Epoch 3 - Validation: 100%|██████████| 30/30 [00:03<00:00,  8.66it/s]\n"
     ]
    },
    {
     "name": "stdout",
     "output_type": "stream",
     "text": [
      "Epoch 3:\n",
      "  Train Acc = 0.8456, Train Prec = 0.8564, Train Rec = 0.8456, Train F1 = 0.8307, Train Loss = 0.6856\n",
      "  Val Acc = 0.8834, Val Prec = 0.8945, Val Rec = 0.8834, Val F1 = 0.8752, Val Loss = 0.4677\n"
     ]
    },
    {
     "name": "stderr",
     "output_type": "stream",
     "text": [
      "Epoch 4 - Training: 100%|██████████| 118/118 [00:40<00:00,  2.90it/s]\n",
      "Epoch 4 - Validation: 100%|██████████| 30/30 [00:03<00:00,  8.65it/s]\n"
     ]
    },
    {
     "name": "stdout",
     "output_type": "stream",
     "text": [
      "Epoch 4:\n",
      "  Train Acc = 0.9321, Train Prec = 0.9322, Train Rec = 0.9321, Train F1 = 0.9312, Train Loss = 0.3579\n",
      "  Val Acc = 0.9130, Val Prec = 0.9194, Val Rec = 0.9130, Val F1 = 0.9141, Val Loss = 0.3445\n"
     ]
    },
    {
     "name": "stderr",
     "output_type": "stream",
     "text": [
      "Epoch 5 - Training: 100%|██████████| 118/118 [00:40<00:00,  2.90it/s]\n",
      "Epoch 5 - Validation: 100%|██████████| 30/30 [00:03<00:00,  8.64it/s]\n"
     ]
    },
    {
     "name": "stdout",
     "output_type": "stream",
     "text": [
      "Epoch 5:\n",
      "  Train Acc = 0.9700, Train Prec = 0.9701, Train Rec = 0.9700, Train F1 = 0.9700, Train Loss = 0.1726\n",
      "  Val Acc = 0.9109, Val Prec = 0.9213, Val Rec = 0.9109, Val F1 = 0.9119, Val Loss = 0.3447\n"
     ]
    },
    {
     "name": "stderr",
     "output_type": "stream",
     "text": [
      "Epoch 6 - Training: 100%|██████████| 118/118 [00:40<00:00,  2.90it/s]\n",
      "Epoch 6 - Validation: 100%|██████████| 30/30 [00:03<00:00,  8.65it/s]\n"
     ]
    },
    {
     "name": "stdout",
     "output_type": "stream",
     "text": [
      "Epoch 6:\n",
      "  Train Acc = 0.9849, Train Prec = 0.9850, Train Rec = 0.9849, Train F1 = 0.9849, Train Loss = 0.0936\n",
      "  Val Acc = 0.9279, Val Prec = 0.9345, Val Rec = 0.9279, Val F1 = 0.9290, Val Loss = 0.3054\n"
     ]
    },
    {
     "name": "stderr",
     "output_type": "stream",
     "text": [
      "Epoch 7 - Training: 100%|██████████| 118/118 [00:40<00:00,  2.90it/s]\n",
      "Epoch 7 - Validation: 100%|██████████| 30/30 [00:03<00:00,  8.67it/s]\n"
     ]
    },
    {
     "name": "stdout",
     "output_type": "stream",
     "text": [
      "Epoch 7:\n",
      "  Train Acc = 0.9907, Train Prec = 0.9908, Train Rec = 0.9907, Train F1 = 0.9907, Train Loss = 0.0615\n",
      "  Val Acc = 0.9215, Val Prec = 0.9271, Val Rec = 0.9215, Val F1 = 0.9219, Val Loss = 0.3231\n"
     ]
    },
    {
     "name": "stderr",
     "output_type": "stream",
     "text": [
      "Epoch 8 - Training: 100%|██████████| 118/118 [00:40<00:00,  2.90it/s]\n",
      "Epoch 8 - Validation: 100%|██████████| 30/30 [00:03<00:00,  8.64it/s]\n"
     ]
    },
    {
     "name": "stdout",
     "output_type": "stream",
     "text": [
      "Epoch 8:\n",
      "  Train Acc = 0.9894, Train Prec = 0.9894, Train Rec = 0.9894, Train F1 = 0.9894, Train Loss = 0.0578\n",
      "  Val Acc = 0.9194, Val Prec = 0.9255, Val Rec = 0.9194, Val F1 = 0.9201, Val Loss = 0.3502\n"
     ]
    },
    {
     "name": "stderr",
     "output_type": "stream",
     "text": [
      "Epoch 9 - Training: 100%|██████████| 118/118 [00:40<00:00,  2.90it/s]\n",
      "Epoch 9 - Validation: 100%|██████████| 30/30 [00:03<00:00,  8.66it/s]\n"
     ]
    },
    {
     "name": "stdout",
     "output_type": "stream",
     "text": [
      "Epoch 9:\n",
      "  Train Acc = 0.9915, Train Prec = 0.9915, Train Rec = 0.9915, Train F1 = 0.9915, Train Loss = 0.0413\n",
      "  Val Acc = 0.9205, Val Prec = 0.9275, Val Rec = 0.9205, Val F1 = 0.9215, Val Loss = 0.3557\n"
     ]
    },
    {
     "name": "stderr",
     "output_type": "stream",
     "text": [
      "Epoch 10 - Training: 100%|██████████| 118/118 [00:40<00:00,  2.90it/s]\n",
      "Epoch 10 - Validation: 100%|██████████| 30/30 [00:03<00:00,  8.64it/s]\n"
     ]
    },
    {
     "name": "stdout",
     "output_type": "stream",
     "text": [
      "Epoch 10:\n",
      "  Train Acc = 0.9920, Train Prec = 0.9920, Train Rec = 0.9920, Train F1 = 0.9920, Train Loss = 0.0366\n",
      "  Val Acc = 0.9162, Val Prec = 0.9263, Val Rec = 0.9162, Val F1 = 0.9182, Val Loss = 0.3539\n"
     ]
    },
    {
     "name": "stderr",
     "output_type": "stream",
     "text": [
      "Epoch 11 - Training: 100%|██████████| 118/118 [00:40<00:00,  2.90it/s]\n",
      "Epoch 11 - Validation: 100%|██████████| 30/30 [00:03<00:00,  8.64it/s]\n"
     ]
    },
    {
     "name": "stdout",
     "output_type": "stream",
     "text": [
      "Epoch 11:\n",
      "  Train Acc = 0.9944, Train Prec = 0.9944, Train Rec = 0.9944, Train F1 = 0.9944, Train Loss = 0.0277\n",
      "  Val Acc = 0.9268, Val Prec = 0.9325, Val Rec = 0.9268, Val F1 = 0.9280, Val Loss = 0.3426\n"
     ]
    },
    {
     "name": "stderr",
     "output_type": "stream",
     "text": [
      "Epoch 12 - Training: 100%|██████████| 118/118 [00:40<00:00,  2.90it/s]\n",
      "Epoch 12 - Validation: 100%|██████████| 30/30 [00:03<00:00,  8.64it/s]\n"
     ]
    },
    {
     "name": "stdout",
     "output_type": "stream",
     "text": [
      "Epoch 12:\n",
      "  Train Acc = 0.9950, Train Prec = 0.9950, Train Rec = 0.9950, Train F1 = 0.9950, Train Loss = 0.0292\n",
      "  Val Acc = 0.9427, Val Prec = 0.9451, Val Rec = 0.9427, Val F1 = 0.9428, Val Loss = 0.2823\n"
     ]
    },
    {
     "name": "stderr",
     "output_type": "stream",
     "text": [
      "Epoch 13 - Training: 100%|██████████| 118/118 [00:40<00:00,  2.90it/s]\n",
      "Epoch 13 - Validation: 100%|██████████| 30/30 [00:03<00:00,  8.64it/s]\n"
     ]
    },
    {
     "name": "stdout",
     "output_type": "stream",
     "text": [
      "Epoch 13:\n",
      "  Train Acc = 0.9936, Train Prec = 0.9937, Train Rec = 0.9936, Train F1 = 0.9936, Train Loss = 0.0293\n",
      "  Val Acc = 0.9374, Val Prec = 0.9404, Val Rec = 0.9374, Val F1 = 0.9377, Val Loss = 0.2946\n"
     ]
    },
    {
     "name": "stderr",
     "output_type": "stream",
     "text": [
      "Epoch 14 - Training: 100%|██████████| 118/118 [00:40<00:00,  2.90it/s]\n",
      "Epoch 14 - Validation: 100%|██████████| 30/30 [00:03<00:00,  8.63it/s]\n"
     ]
    },
    {
     "name": "stdout",
     "output_type": "stream",
     "text": [
      "Epoch 14:\n",
      "  Train Acc = 0.9963, Train Prec = 0.9963, Train Rec = 0.9963, Train F1 = 0.9963, Train Loss = 0.0184\n",
      "  Val Acc = 0.9406, Val Prec = 0.9434, Val Rec = 0.9406, Val F1 = 0.9409, Val Loss = 0.3006\n"
     ]
    },
    {
     "name": "stderr",
     "output_type": "stream",
     "text": [
      "Epoch 15 - Training: 100%|██████████| 118/118 [00:40<00:00,  2.89it/s]\n",
      "Epoch 15 - Validation: 100%|██████████| 30/30 [00:03<00:00,  8.63it/s]\n"
     ]
    },
    {
     "name": "stdout",
     "output_type": "stream",
     "text": [
      "Epoch 15:\n",
      "  Train Acc = 0.9989, Train Prec = 0.9989, Train Rec = 0.9989, Train F1 = 0.9989, Train Loss = 0.0111\n",
      "  Val Acc = 0.9406, Val Prec = 0.9449, Val Rec = 0.9406, Val F1 = 0.9413, Val Loss = 0.3265\n"
     ]
    },
    {
     "name": "stderr",
     "output_type": "stream",
     "text": [
      "Epoch 16 - Training: 100%|██████████| 118/118 [00:40<00:00,  2.90it/s]\n",
      "Epoch 16 - Validation: 100%|██████████| 30/30 [00:03<00:00,  8.66it/s]\n"
     ]
    },
    {
     "name": "stdout",
     "output_type": "stream",
     "text": [
      "Epoch 16:\n",
      "  Train Acc = 0.9987, Train Prec = 0.9987, Train Rec = 0.9987, Train F1 = 0.9987, Train Loss = 0.0084\n",
      "  Val Acc = 0.9417, Val Prec = 0.9462, Val Rec = 0.9417, Val F1 = 0.9422, Val Loss = 0.3262\n"
     ]
    },
    {
     "name": "stderr",
     "output_type": "stream",
     "text": [
      "Epoch 17 - Training: 100%|██████████| 118/118 [00:40<00:00,  2.90it/s]\n",
      "Epoch 17 - Validation: 100%|██████████| 30/30 [00:03<00:00,  8.65it/s]\n"
     ]
    },
    {
     "name": "stdout",
     "output_type": "stream",
     "text": [
      "Epoch 17:\n",
      "  Train Acc = 0.9923, Train Prec = 0.9923, Train Rec = 0.9923, Train F1 = 0.9923, Train Loss = 0.0302\n",
      "  Val Acc = 0.9268, Val Prec = 0.9340, Val Rec = 0.9268, Val F1 = 0.9276, Val Loss = 0.4003\n"
     ]
    },
    {
     "name": "stderr",
     "output_type": "stream",
     "text": [
      "Epoch 18 - Training: 100%|██████████| 118/118 [00:40<00:00,  2.90it/s]\n",
      "Epoch 18 - Validation: 100%|██████████| 30/30 [00:03<00:00,  8.66it/s]\n"
     ]
    },
    {
     "name": "stdout",
     "output_type": "stream",
     "text": [
      "Epoch 18:\n",
      "  Train Acc = 0.9963, Train Prec = 0.9963, Train Rec = 0.9963, Train F1 = 0.9963, Train Loss = 0.0179\n",
      "  Val Acc = 0.9406, Val Prec = 0.9429, Val Rec = 0.9406, Val F1 = 0.9408, Val Loss = 0.3453\n"
     ]
    },
    {
     "name": "stderr",
     "output_type": "stream",
     "text": [
      "Epoch 19 - Training: 100%|██████████| 118/118 [00:40<00:00,  2.90it/s]\n",
      "Epoch 19 - Validation: 100%|██████████| 30/30 [00:03<00:00,  8.65it/s]\n"
     ]
    },
    {
     "name": "stdout",
     "output_type": "stream",
     "text": [
      "Epoch 19:\n",
      "  Train Acc = 0.9936, Train Prec = 0.9936, Train Rec = 0.9936, Train F1 = 0.9936, Train Loss = 0.0250\n",
      "  Val Acc = 0.9290, Val Prec = 0.9347, Val Rec = 0.9290, Val F1 = 0.9297, Val Loss = 0.3955\n"
     ]
    },
    {
     "name": "stderr",
     "output_type": "stream",
     "text": [
      "Epoch 20 - Training: 100%|██████████| 118/118 [00:40<00:00,  2.90it/s]\n",
      "Epoch 20 - Validation: 100%|██████████| 30/30 [00:03<00:00,  8.66it/s]\n"
     ]
    },
    {
     "name": "stdout",
     "output_type": "stream",
     "text": [
      "Epoch 20:\n",
      "  Train Acc = 0.9958, Train Prec = 0.9958, Train Rec = 0.9958, Train F1 = 0.9958, Train Loss = 0.0158\n",
      "  Val Acc = 0.9470, Val Prec = 0.9485, Val Rec = 0.9470, Val F1 = 0.9472, Val Loss = 0.3063\n",
      "Iteration 7\n"
     ]
    },
    {
     "name": "stderr",
     "output_type": "stream",
     "text": [
      "Some weights of ElectraForSequenceClassification were not initialized from the model checkpoint at beomi/KcELECTRA-base-v2022 and are newly initialized: ['classifier.dense.bias', 'classifier.dense.weight', 'classifier.out_proj.bias', 'classifier.out_proj.weight']\n",
      "You should probably TRAIN this model on a down-stream task to be able to use it for predictions and inference.\n",
      "Epoch 1 - Training: 100%|██████████| 118/118 [00:40<00:00,  2.90it/s]\n",
      "Epoch 1 - Validation: 100%|██████████| 30/30 [00:03<00:00,  8.68it/s]\n"
     ]
    },
    {
     "name": "stdout",
     "output_type": "stream",
     "text": [
      "Epoch 1:\n",
      "  Train Acc = 0.3152, Train Prec = 0.2510, Train Rec = 0.3152, Train F1 = 0.2212, Train Loss = 2.2134\n",
      "  Val Acc = 0.5461, Val Prec = 0.5288, Val Rec = 0.5461, Val F1 = 0.4466, Val Loss = 1.5862\n"
     ]
    },
    {
     "name": "stderr",
     "output_type": "stream",
     "text": [
      "Epoch 2 - Training: 100%|██████████| 118/118 [00:40<00:00,  2.90it/s]\n",
      "Epoch 2 - Validation: 100%|██████████| 30/30 [00:03<00:00,  8.67it/s]\n"
     ]
    },
    {
     "name": "stdout",
     "output_type": "stream",
     "text": [
      "Epoch 2:\n",
      "  Train Acc = 0.6477, Train Prec = 0.6352, Train Rec = 0.6477, Train F1 = 0.5982, Train Loss = 1.2864\n",
      "  Val Acc = 0.8006, Val Prec = 0.7939, Val Rec = 0.8006, Val F1 = 0.7686, Val Loss = 0.7988\n"
     ]
    },
    {
     "name": "stderr",
     "output_type": "stream",
     "text": [
      "Epoch 3 - Training: 100%|██████████| 118/118 [00:40<00:00,  2.91it/s]\n",
      "Epoch 3 - Validation: 100%|██████████| 30/30 [00:03<00:00,  8.67it/s]\n"
     ]
    },
    {
     "name": "stdout",
     "output_type": "stream",
     "text": [
      "Epoch 3:\n",
      "  Train Acc = 0.8726, Train Prec = 0.8794, Train Rec = 0.8726, Train F1 = 0.8644, Train Loss = 0.6224\n",
      "  Val Acc = 0.8887, Val Prec = 0.9000, Val Rec = 0.8887, Val F1 = 0.8857, Val Loss = 0.4706\n"
     ]
    },
    {
     "name": "stderr",
     "output_type": "stream",
     "text": [
      "Epoch 4 - Training: 100%|██████████| 118/118 [00:40<00:00,  2.91it/s]\n",
      "Epoch 4 - Validation: 100%|██████████| 30/30 [00:03<00:00,  8.66it/s]\n"
     ]
    },
    {
     "name": "stdout",
     "output_type": "stream",
     "text": [
      "Epoch 4:\n",
      "  Train Acc = 0.9522, Train Prec = 0.9527, Train Rec = 0.9522, Train F1 = 0.9521, Train Loss = 0.2813\n",
      "  Val Acc = 0.9300, Val Prec = 0.9326, Val Rec = 0.9300, Val F1 = 0.9302, Val Loss = 0.2980\n"
     ]
    },
    {
     "name": "stderr",
     "output_type": "stream",
     "text": [
      "Epoch 5 - Training: 100%|██████████| 118/118 [00:40<00:00,  2.91it/s]\n",
      "Epoch 5 - Validation: 100%|██████████| 30/30 [00:03<00:00,  8.68it/s]\n"
     ]
    },
    {
     "name": "stdout",
     "output_type": "stream",
     "text": [
      "Epoch 5:\n",
      "  Train Acc = 0.9751, Train Prec = 0.9752, Train Rec = 0.9751, Train F1 = 0.9751, Train Loss = 0.1475\n",
      "  Val Acc = 0.9332, Val Prec = 0.9339, Val Rec = 0.9332, Val F1 = 0.9330, Val Loss = 0.2647\n"
     ]
    },
    {
     "name": "stderr",
     "output_type": "stream",
     "text": [
      "Epoch 6 - Training: 100%|██████████| 118/118 [00:40<00:00,  2.91it/s]\n",
      "Epoch 6 - Validation: 100%|██████████| 30/30 [00:03<00:00,  8.68it/s]\n"
     ]
    },
    {
     "name": "stdout",
     "output_type": "stream",
     "text": [
      "Epoch 6:\n",
      "  Train Acc = 0.9836, Train Prec = 0.9837, Train Rec = 0.9836, Train F1 = 0.9836, Train Loss = 0.0900\n",
      "  Val Acc = 0.9279, Val Prec = 0.9317, Val Rec = 0.9279, Val F1 = 0.9271, Val Loss = 0.2927\n"
     ]
    },
    {
     "name": "stderr",
     "output_type": "stream",
     "text": [
      "Epoch 7 - Training: 100%|██████████| 118/118 [00:40<00:00,  2.91it/s]\n",
      "Epoch 7 - Validation: 100%|██████████| 30/30 [00:03<00:00,  8.69it/s]\n"
     ]
    },
    {
     "name": "stdout",
     "output_type": "stream",
     "text": [
      "Epoch 7:\n",
      "  Train Acc = 0.9886, Train Prec = 0.9887, Train Rec = 0.9886, Train F1 = 0.9886, Train Loss = 0.0659\n",
      "  Val Acc = 0.9321, Val Prec = 0.9353, Val Rec = 0.9321, Val F1 = 0.9325, Val Loss = 0.2917\n"
     ]
    },
    {
     "name": "stderr",
     "output_type": "stream",
     "text": [
      "Epoch 8 - Training: 100%|██████████| 118/118 [00:40<00:00,  2.91it/s]\n",
      "Epoch 8 - Validation: 100%|██████████| 30/30 [00:03<00:00,  8.69it/s]\n"
     ]
    },
    {
     "name": "stdout",
     "output_type": "stream",
     "text": [
      "Epoch 8:\n",
      "  Train Acc = 0.9923, Train Prec = 0.9923, Train Rec = 0.9923, Train F1 = 0.9923, Train Loss = 0.0457\n",
      "  Val Acc = 0.9300, Val Prec = 0.9349, Val Rec = 0.9300, Val F1 = 0.9302, Val Loss = 0.3165\n"
     ]
    },
    {
     "name": "stderr",
     "output_type": "stream",
     "text": [
      "Epoch 9 - Training: 100%|██████████| 118/118 [00:40<00:00,  2.91it/s]\n",
      "Epoch 9 - Validation: 100%|██████████| 30/30 [00:03<00:00,  8.67it/s]\n"
     ]
    },
    {
     "name": "stdout",
     "output_type": "stream",
     "text": [
      "Epoch 9:\n",
      "  Train Acc = 0.9952, Train Prec = 0.9952, Train Rec = 0.9952, Train F1 = 0.9952, Train Loss = 0.0288\n",
      "  Val Acc = 0.9364, Val Prec = 0.9390, Val Rec = 0.9364, Val F1 = 0.9366, Val Loss = 0.2980\n"
     ]
    },
    {
     "name": "stderr",
     "output_type": "stream",
     "text": [
      "Epoch 10 - Training: 100%|██████████| 118/118 [00:40<00:00,  2.90it/s]\n",
      "Epoch 10 - Validation: 100%|██████████| 30/30 [00:03<00:00,  8.67it/s]\n"
     ]
    },
    {
     "name": "stdout",
     "output_type": "stream",
     "text": [
      "Epoch 10:\n",
      "  Train Acc = 0.9952, Train Prec = 0.9952, Train Rec = 0.9952, Train F1 = 0.9952, Train Loss = 0.0240\n",
      "  Val Acc = 0.9385, Val Prec = 0.9402, Val Rec = 0.9385, Val F1 = 0.9385, Val Loss = 0.2845\n"
     ]
    },
    {
     "name": "stderr",
     "output_type": "stream",
     "text": [
      "Epoch 11 - Training: 100%|██████████| 118/118 [00:40<00:00,  2.91it/s]\n",
      "Epoch 11 - Validation: 100%|██████████| 30/30 [00:03<00:00,  8.69it/s]\n"
     ]
    },
    {
     "name": "stdout",
     "output_type": "stream",
     "text": [
      "Epoch 11:\n",
      "  Train Acc = 0.9966, Train Prec = 0.9966, Train Rec = 0.9966, Train F1 = 0.9965, Train Loss = 0.0215\n",
      "  Val Acc = 0.9343, Val Prec = 0.9384, Val Rec = 0.9343, Val F1 = 0.9348, Val Loss = 0.3359\n"
     ]
    },
    {
     "name": "stderr",
     "output_type": "stream",
     "text": [
      "Epoch 12 - Training: 100%|██████████| 118/118 [00:40<00:00,  2.91it/s]\n",
      "Epoch 12 - Validation: 100%|██████████| 30/30 [00:03<00:00,  8.68it/s]\n"
     ]
    },
    {
     "name": "stdout",
     "output_type": "stream",
     "text": [
      "Epoch 12:\n",
      "  Train Acc = 0.9987, Train Prec = 0.9987, Train Rec = 0.9987, Train F1 = 0.9987, Train Loss = 0.0135\n",
      "  Val Acc = 0.9396, Val Prec = 0.9417, Val Rec = 0.9396, Val F1 = 0.9398, Val Loss = 0.3182\n"
     ]
    },
    {
     "name": "stderr",
     "output_type": "stream",
     "text": [
      "Epoch 13 - Training: 100%|██████████| 118/118 [00:40<00:00,  2.90it/s]\n",
      "Epoch 13 - Validation: 100%|██████████| 30/30 [00:03<00:00,  8.67it/s]\n"
     ]
    },
    {
     "name": "stdout",
     "output_type": "stream",
     "text": [
      "Epoch 13:\n",
      "  Train Acc = 0.9976, Train Prec = 0.9976, Train Rec = 0.9976, Train F1 = 0.9976, Train Loss = 0.0138\n",
      "  Val Acc = 0.9343, Val Prec = 0.9376, Val Rec = 0.9343, Val F1 = 0.9349, Val Loss = 0.3397\n"
     ]
    },
    {
     "name": "stderr",
     "output_type": "stream",
     "text": [
      "Epoch 14 - Training: 100%|██████████| 118/118 [00:40<00:00,  2.90it/s]\n",
      "Epoch 14 - Validation: 100%|██████████| 30/30 [00:03<00:00,  8.68it/s]\n"
     ]
    },
    {
     "name": "stdout",
     "output_type": "stream",
     "text": [
      "Epoch 14:\n",
      "  Train Acc = 0.9995, Train Prec = 0.9995, Train Rec = 0.9995, Train F1 = 0.9995, Train Loss = 0.0073\n",
      "  Val Acc = 0.9343, Val Prec = 0.9385, Val Rec = 0.9343, Val F1 = 0.9342, Val Loss = 0.3520\n"
     ]
    },
    {
     "name": "stderr",
     "output_type": "stream",
     "text": [
      "Epoch 15 - Training: 100%|██████████| 118/118 [00:40<00:00,  2.91it/s]\n",
      "Epoch 15 - Validation: 100%|██████████| 30/30 [00:03<00:00,  8.71it/s]\n"
     ]
    },
    {
     "name": "stdout",
     "output_type": "stream",
     "text": [
      "Epoch 15:\n",
      "  Train Acc = 0.9971, Train Prec = 0.9971, Train Rec = 0.9971, Train F1 = 0.9971, Train Loss = 0.0168\n",
      "  Val Acc = 0.9353, Val Prec = 0.9380, Val Rec = 0.9353, Val F1 = 0.9354, Val Loss = 0.3368\n"
     ]
    },
    {
     "name": "stderr",
     "output_type": "stream",
     "text": [
      "Epoch 16 - Training: 100%|██████████| 118/118 [00:40<00:00,  2.91it/s]\n",
      "Epoch 16 - Validation: 100%|██████████| 30/30 [00:03<00:00,  8.67it/s]\n"
     ]
    },
    {
     "name": "stdout",
     "output_type": "stream",
     "text": [
      "Epoch 16:\n",
      "  Train Acc = 0.9942, Train Prec = 0.9942, Train Rec = 0.9942, Train F1 = 0.9942, Train Loss = 0.0271\n",
      "  Val Acc = 0.9364, Val Prec = 0.9388, Val Rec = 0.9364, Val F1 = 0.9365, Val Loss = 0.3614\n"
     ]
    },
    {
     "name": "stderr",
     "output_type": "stream",
     "text": [
      "Epoch 17 - Training: 100%|██████████| 118/118 [00:40<00:00,  2.91it/s]\n",
      "Epoch 17 - Validation: 100%|██████████| 30/30 [00:03<00:00,  8.69it/s]\n"
     ]
    },
    {
     "name": "stdout",
     "output_type": "stream",
     "text": [
      "Epoch 17:\n",
      "  Train Acc = 0.9931, Train Prec = 0.9931, Train Rec = 0.9931, Train F1 = 0.9931, Train Loss = 0.0342\n",
      "  Val Acc = 0.9406, Val Prec = 0.9431, Val Rec = 0.9406, Val F1 = 0.9408, Val Loss = 0.3248\n"
     ]
    },
    {
     "name": "stderr",
     "output_type": "stream",
     "text": [
      "Epoch 18 - Training: 100%|██████████| 118/118 [00:40<00:00,  2.91it/s]\n",
      "Epoch 18 - Validation: 100%|██████████| 30/30 [00:03<00:00,  8.69it/s]\n"
     ]
    },
    {
     "name": "stdout",
     "output_type": "stream",
     "text": [
      "Epoch 18:\n",
      "  Train Acc = 0.9973, Train Prec = 0.9974, Train Rec = 0.9973, Train F1 = 0.9973, Train Loss = 0.0144\n",
      "  Val Acc = 0.9311, Val Prec = 0.9366, Val Rec = 0.9311, Val F1 = 0.9321, Val Loss = 0.3672\n"
     ]
    },
    {
     "name": "stderr",
     "output_type": "stream",
     "text": [
      "Epoch 19 - Training: 100%|██████████| 118/118 [00:40<00:00,  2.90it/s]\n",
      "Epoch 19 - Validation: 100%|██████████| 30/30 [00:03<00:00,  8.68it/s]\n"
     ]
    },
    {
     "name": "stdout",
     "output_type": "stream",
     "text": [
      "Epoch 19:\n",
      "  Train Acc = 0.9926, Train Prec = 0.9926, Train Rec = 0.9926, Train F1 = 0.9926, Train Loss = 0.0335\n",
      "  Val Acc = 0.9427, Val Prec = 0.9452, Val Rec = 0.9427, Val F1 = 0.9429, Val Loss = 0.3203\n"
     ]
    },
    {
     "name": "stderr",
     "output_type": "stream",
     "text": [
      "Epoch 20 - Training: 100%|██████████| 118/118 [00:40<00:00,  2.90it/s]\n",
      "Epoch 20 - Validation: 100%|██████████| 30/30 [00:03<00:00,  8.68it/s]\n"
     ]
    },
    {
     "name": "stdout",
     "output_type": "stream",
     "text": [
      "Epoch 20:\n",
      "  Train Acc = 0.9981, Train Prec = 0.9981, Train Rec = 0.9981, Train F1 = 0.9981, Train Loss = 0.0123\n",
      "  Val Acc = 0.9364, Val Prec = 0.9444, Val Rec = 0.9364, Val F1 = 0.9382, Val Loss = 0.3671\n",
      "Iteration 8\n"
     ]
    },
    {
     "name": "stderr",
     "output_type": "stream",
     "text": [
      "Some weights of ElectraForSequenceClassification were not initialized from the model checkpoint at beomi/KcELECTRA-base-v2022 and are newly initialized: ['classifier.dense.bias', 'classifier.dense.weight', 'classifier.out_proj.bias', 'classifier.out_proj.weight']\n",
      "You should probably TRAIN this model on a down-stream task to be able to use it for predictions and inference.\n",
      "Epoch 1 - Training: 100%|██████████| 118/118 [00:40<00:00,  2.90it/s]\n",
      "Epoch 1 - Validation: 100%|██████████| 30/30 [00:03<00:00,  8.65it/s]\n"
     ]
    },
    {
     "name": "stdout",
     "output_type": "stream",
     "text": [
      "Epoch 1:\n",
      "  Train Acc = 0.3075, Train Prec = 0.2512, Train Rec = 0.3075, Train F1 = 0.2197, Train Loss = 2.2621\n",
      "  Val Acc = 0.5620, Val Prec = 0.5069, Val Rec = 0.5620, Val F1 = 0.4772, Val Loss = 1.6025\n"
     ]
    },
    {
     "name": "stderr",
     "output_type": "stream",
     "text": [
      "Epoch 2 - Training: 100%|██████████| 118/118 [00:40<00:00,  2.90it/s]\n",
      "Epoch 2 - Validation: 100%|██████████| 30/30 [00:03<00:00,  8.63it/s]\n"
     ]
    },
    {
     "name": "stdout",
     "output_type": "stream",
     "text": [
      "Epoch 2:\n",
      "  Train Acc = 0.6500, Train Prec = 0.6833, Train Rec = 0.6500, Train F1 = 0.6027, Train Loss = 1.2950\n",
      "  Val Acc = 0.7985, Val Prec = 0.7858, Val Rec = 0.7985, Val F1 = 0.7618, Val Loss = 0.8204\n"
     ]
    },
    {
     "name": "stderr",
     "output_type": "stream",
     "text": [
      "Epoch 3 - Training: 100%|██████████| 118/118 [00:40<00:00,  2.90it/s]\n",
      "Epoch 3 - Validation: 100%|██████████| 30/30 [00:03<00:00,  8.65it/s]\n"
     ]
    },
    {
     "name": "stdout",
     "output_type": "stream",
     "text": [
      "Epoch 3:\n",
      "  Train Acc = 0.8647, Train Prec = 0.8774, Train Rec = 0.8647, Train F1 = 0.8546, Train Loss = 0.6510\n",
      "  Val Acc = 0.9056, Val Prec = 0.9125, Val Rec = 0.9056, Val F1 = 0.9051, Val Loss = 0.4345\n"
     ]
    },
    {
     "name": "stderr",
     "output_type": "stream",
     "text": [
      "Epoch 4 - Training: 100%|██████████| 118/118 [00:40<00:00,  2.90it/s]\n",
      "Epoch 4 - Validation: 100%|██████████| 30/30 [00:03<00:00,  8.63it/s]\n"
     ]
    },
    {
     "name": "stdout",
     "output_type": "stream",
     "text": [
      "Epoch 4:\n",
      "  Train Acc = 0.9496, Train Prec = 0.9499, Train Rec = 0.9496, Train F1 = 0.9495, Train Loss = 0.3071\n",
      "  Val Acc = 0.9258, Val Prec = 0.9306, Val Rec = 0.9258, Val F1 = 0.9261, Val Loss = 0.3320\n"
     ]
    },
    {
     "name": "stderr",
     "output_type": "stream",
     "text": [
      "Epoch 5 - Training: 100%|██████████| 118/118 [00:40<00:00,  2.90it/s]\n",
      "Epoch 5 - Validation: 100%|██████████| 30/30 [00:03<00:00,  8.68it/s]\n"
     ]
    },
    {
     "name": "stdout",
     "output_type": "stream",
     "text": [
      "Epoch 5:\n",
      "  Train Acc = 0.9767, Train Prec = 0.9769, Train Rec = 0.9767, Train F1 = 0.9767, Train Loss = 0.1557\n",
      "  Val Acc = 0.9290, Val Prec = 0.9342, Val Rec = 0.9290, Val F1 = 0.9292, Val Loss = 0.3067\n"
     ]
    },
    {
     "name": "stderr",
     "output_type": "stream",
     "text": [
      "Epoch 6 - Training: 100%|██████████| 118/118 [00:40<00:00,  2.90it/s]\n",
      "Epoch 6 - Validation: 100%|██████████| 30/30 [00:03<00:00,  8.65it/s]\n"
     ]
    },
    {
     "name": "stdout",
     "output_type": "stream",
     "text": [
      "Epoch 6:\n",
      "  Train Acc = 0.9849, Train Prec = 0.9849, Train Rec = 0.9849, Train F1 = 0.9849, Train Loss = 0.0940\n",
      "  Val Acc = 0.9321, Val Prec = 0.9360, Val Rec = 0.9321, Val F1 = 0.9321, Val Loss = 0.2998\n"
     ]
    },
    {
     "name": "stderr",
     "output_type": "stream",
     "text": [
      "Epoch 7 - Training: 100%|██████████| 118/118 [00:40<00:00,  2.90it/s]\n",
      "Epoch 7 - Validation: 100%|██████████| 30/30 [00:03<00:00,  8.65it/s]\n"
     ]
    },
    {
     "name": "stdout",
     "output_type": "stream",
     "text": [
      "Epoch 7:\n",
      "  Train Acc = 0.9942, Train Prec = 0.9942, Train Rec = 0.9942, Train F1 = 0.9942, Train Loss = 0.0540\n",
      "  Val Acc = 0.9343, Val Prec = 0.9375, Val Rec = 0.9343, Val F1 = 0.9338, Val Loss = 0.2655\n"
     ]
    },
    {
     "name": "stderr",
     "output_type": "stream",
     "text": [
      "Epoch 8 - Training: 100%|██████████| 118/118 [00:40<00:00,  2.90it/s]\n",
      "Epoch 8 - Validation: 100%|██████████| 30/30 [00:03<00:00,  8.65it/s]\n"
     ]
    },
    {
     "name": "stdout",
     "output_type": "stream",
     "text": [
      "Epoch 8:\n",
      "  Train Acc = 0.9939, Train Prec = 0.9939, Train Rec = 0.9939, Train F1 = 0.9939, Train Loss = 0.0403\n",
      "  Val Acc = 0.9321, Val Prec = 0.9341, Val Rec = 0.9321, Val F1 = 0.9319, Val Loss = 0.3116\n"
     ]
    },
    {
     "name": "stderr",
     "output_type": "stream",
     "text": [
      "Epoch 9 - Training: 100%|██████████| 118/118 [00:40<00:00,  2.90it/s]\n",
      "Epoch 9 - Validation: 100%|██████████| 30/30 [00:03<00:00,  8.66it/s]\n"
     ]
    },
    {
     "name": "stdout",
     "output_type": "stream",
     "text": [
      "Epoch 9:\n",
      "  Train Acc = 0.9936, Train Prec = 0.9936, Train Rec = 0.9936, Train F1 = 0.9936, Train Loss = 0.0371\n",
      "  Val Acc = 0.9268, Val Prec = 0.9304, Val Rec = 0.9268, Val F1 = 0.9267, Val Loss = 0.3244\n"
     ]
    },
    {
     "name": "stderr",
     "output_type": "stream",
     "text": [
      "Epoch 10 - Training: 100%|██████████| 118/118 [00:40<00:00,  2.90it/s]\n",
      "Epoch 10 - Validation: 100%|██████████| 30/30 [00:03<00:00,  8.67it/s]\n"
     ]
    },
    {
     "name": "stdout",
     "output_type": "stream",
     "text": [
      "Epoch 10:\n",
      "  Train Acc = 0.9920, Train Prec = 0.9921, Train Rec = 0.9920, Train F1 = 0.9920, Train Loss = 0.0351\n",
      "  Val Acc = 0.9353, Val Prec = 0.9376, Val Rec = 0.9353, Val F1 = 0.9355, Val Loss = 0.2931\n"
     ]
    },
    {
     "name": "stderr",
     "output_type": "stream",
     "text": [
      "Epoch 11 - Training: 100%|██████████| 118/118 [00:40<00:00,  2.90it/s]\n",
      "Epoch 11 - Validation: 100%|██████████| 30/30 [00:03<00:00,  8.67it/s]\n"
     ]
    },
    {
     "name": "stdout",
     "output_type": "stream",
     "text": [
      "Epoch 11:\n",
      "  Train Acc = 0.9928, Train Prec = 0.9928, Train Rec = 0.9928, Train F1 = 0.9928, Train Loss = 0.0356\n",
      "  Val Acc = 0.9290, Val Prec = 0.9339, Val Rec = 0.9290, Val F1 = 0.9298, Val Loss = 0.3552\n"
     ]
    },
    {
     "name": "stderr",
     "output_type": "stream",
     "text": [
      "Epoch 12 - Training: 100%|██████████| 118/118 [00:40<00:00,  2.90it/s]\n",
      "Epoch 12 - Validation: 100%|██████████| 30/30 [00:03<00:00,  8.67it/s]\n"
     ]
    },
    {
     "name": "stdout",
     "output_type": "stream",
     "text": [
      "Epoch 12:\n",
      "  Train Acc = 0.9987, Train Prec = 0.9987, Train Rec = 0.9987, Train F1 = 0.9987, Train Loss = 0.0153\n",
      "  Val Acc = 0.9374, Val Prec = 0.9383, Val Rec = 0.9374, Val F1 = 0.9372, Val Loss = 0.3281\n"
     ]
    },
    {
     "name": "stderr",
     "output_type": "stream",
     "text": [
      "Epoch 13 - Training: 100%|██████████| 118/118 [00:40<00:00,  2.90it/s]\n",
      "Epoch 13 - Validation: 100%|██████████| 30/30 [00:03<00:00,  8.66it/s]\n"
     ]
    },
    {
     "name": "stdout",
     "output_type": "stream",
     "text": [
      "Epoch 13:\n",
      "  Train Acc = 0.9966, Train Prec = 0.9966, Train Rec = 0.9966, Train F1 = 0.9966, Train Loss = 0.0183\n",
      "  Val Acc = 0.9364, Val Prec = 0.9377, Val Rec = 0.9364, Val F1 = 0.9362, Val Loss = 0.3421\n"
     ]
    },
    {
     "name": "stderr",
     "output_type": "stream",
     "text": [
      "Epoch 14 - Training: 100%|██████████| 118/118 [00:40<00:00,  2.90it/s]\n",
      "Epoch 14 - Validation: 100%|██████████| 30/30 [00:03<00:00,  8.66it/s]\n"
     ]
    },
    {
     "name": "stdout",
     "output_type": "stream",
     "text": [
      "Epoch 14:\n",
      "  Train Acc = 0.9952, Train Prec = 0.9952, Train Rec = 0.9952, Train F1 = 0.9952, Train Loss = 0.0233\n",
      "  Val Acc = 0.9321, Val Prec = 0.9373, Val Rec = 0.9321, Val F1 = 0.9322, Val Loss = 0.4076\n"
     ]
    },
    {
     "name": "stderr",
     "output_type": "stream",
     "text": [
      "Epoch 15 - Training: 100%|██████████| 118/118 [00:40<00:00,  2.90it/s]\n",
      "Epoch 15 - Validation: 100%|██████████| 30/30 [00:03<00:00,  8.64it/s]\n"
     ]
    },
    {
     "name": "stdout",
     "output_type": "stream",
     "text": [
      "Epoch 15:\n",
      "  Train Acc = 0.9928, Train Prec = 0.9928, Train Rec = 0.9928, Train F1 = 0.9928, Train Loss = 0.0315\n",
      "  Val Acc = 0.9353, Val Prec = 0.9368, Val Rec = 0.9353, Val F1 = 0.9353, Val Loss = 0.3531\n"
     ]
    },
    {
     "name": "stderr",
     "output_type": "stream",
     "text": [
      "Epoch 16 - Training: 100%|██████████| 118/118 [00:40<00:00,  2.90it/s]\n",
      "Epoch 16 - Validation: 100%|██████████| 30/30 [00:03<00:00,  8.65it/s]\n"
     ]
    },
    {
     "name": "stdout",
     "output_type": "stream",
     "text": [
      "Epoch 16:\n",
      "  Train Acc = 0.9942, Train Prec = 0.9942, Train Rec = 0.9942, Train F1 = 0.9942, Train Loss = 0.0272\n",
      "  Val Acc = 0.9353, Val Prec = 0.9381, Val Rec = 0.9353, Val F1 = 0.9356, Val Loss = 0.3620\n"
     ]
    },
    {
     "name": "stderr",
     "output_type": "stream",
     "text": [
      "Epoch 17 - Training: 100%|██████████| 118/118 [00:40<00:00,  2.90it/s]\n",
      "Epoch 17 - Validation: 100%|██████████| 30/30 [00:03<00:00,  8.63it/s]\n"
     ]
    },
    {
     "name": "stdout",
     "output_type": "stream",
     "text": [
      "Epoch 17:\n",
      "  Train Acc = 0.9989, Train Prec = 0.9989, Train Rec = 0.9989, Train F1 = 0.9989, Train Loss = 0.0084\n",
      "  Val Acc = 0.9406, Val Prec = 0.9418, Val Rec = 0.9406, Val F1 = 0.9407, Val Loss = 0.3493\n"
     ]
    },
    {
     "name": "stderr",
     "output_type": "stream",
     "text": [
      "Epoch 18 - Training: 100%|██████████| 118/118 [00:40<00:00,  2.90it/s]\n",
      "Epoch 18 - Validation: 100%|██████████| 30/30 [00:03<00:00,  8.61it/s]\n"
     ]
    },
    {
     "name": "stdout",
     "output_type": "stream",
     "text": [
      "Epoch 18:\n",
      "  Train Acc = 0.9992, Train Prec = 0.9992, Train Rec = 0.9992, Train F1 = 0.9992, Train Loss = 0.0066\n",
      "  Val Acc = 0.9353, Val Prec = 0.9368, Val Rec = 0.9353, Val F1 = 0.9353, Val Loss = 0.3779\n"
     ]
    },
    {
     "name": "stderr",
     "output_type": "stream",
     "text": [
      "Epoch 19 - Training: 100%|██████████| 118/118 [00:40<00:00,  2.90it/s]\n",
      "Epoch 19 - Validation: 100%|██████████| 30/30 [00:03<00:00,  8.64it/s]\n"
     ]
    },
    {
     "name": "stdout",
     "output_type": "stream",
     "text": [
      "Epoch 19:\n",
      "  Train Acc = 0.9989, Train Prec = 0.9989, Train Rec = 0.9989, Train F1 = 0.9989, Train Loss = 0.0057\n",
      "  Val Acc = 0.9417, Val Prec = 0.9428, Val Rec = 0.9417, Val F1 = 0.9416, Val Loss = 0.3470\n"
     ]
    },
    {
     "name": "stderr",
     "output_type": "stream",
     "text": [
      "Epoch 20 - Training: 100%|██████████| 118/118 [00:40<00:00,  2.90it/s]\n",
      "Epoch 20 - Validation: 100%|██████████| 30/30 [00:03<00:00,  8.65it/s]\n"
     ]
    },
    {
     "name": "stdout",
     "output_type": "stream",
     "text": [
      "Epoch 20:\n",
      "  Train Acc = 0.9989, Train Prec = 0.9989, Train Rec = 0.9989, Train F1 = 0.9989, Train Loss = 0.0066\n",
      "  Val Acc = 0.9279, Val Prec = 0.9325, Val Rec = 0.9279, Val F1 = 0.9284, Val Loss = 0.4088\n",
      "Iteration 9\n"
     ]
    },
    {
     "name": "stderr",
     "output_type": "stream",
     "text": [
      "Some weights of ElectraForSequenceClassification were not initialized from the model checkpoint at beomi/KcELECTRA-base-v2022 and are newly initialized: ['classifier.dense.bias', 'classifier.dense.weight', 'classifier.out_proj.bias', 'classifier.out_proj.weight']\n",
      "You should probably TRAIN this model on a down-stream task to be able to use it for predictions and inference.\n",
      "Epoch 1 - Training: 100%|██████████| 118/118 [00:40<00:00,  2.90it/s]\n",
      "Epoch 1 - Validation: 100%|██████████| 30/30 [00:03<00:00,  8.65it/s]\n"
     ]
    },
    {
     "name": "stdout",
     "output_type": "stream",
     "text": [
      "Epoch 1:\n",
      "  Train Acc = 0.2693, Train Prec = 0.2149, Train Rec = 0.2693, Train F1 = 0.1815, Train Loss = 2.3294\n",
      "  Val Acc = 0.5228, Val Prec = 0.4032, Val Rec = 0.5228, Val F1 = 0.3983, Val Loss = 1.7605\n"
     ]
    },
    {
     "name": "stderr",
     "output_type": "stream",
     "text": [
      "Epoch 2 - Training: 100%|██████████| 118/118 [00:40<00:00,  2.90it/s]\n",
      "Epoch 2 - Validation: 100%|██████████| 30/30 [00:03<00:00,  8.64it/s]\n"
     ]
    },
    {
     "name": "stdout",
     "output_type": "stream",
     "text": [
      "Epoch 2:\n",
      "  Train Acc = 0.6089, Train Prec = 0.6462, Train Rec = 0.6089, Train F1 = 0.5521, Train Loss = 1.3837\n",
      "  Val Acc = 0.7508, Val Prec = 0.8075, Val Rec = 0.7508, Val F1 = 0.7067, Val Loss = 0.9051\n"
     ]
    },
    {
     "name": "stderr",
     "output_type": "stream",
     "text": [
      "Epoch 3 - Training: 100%|██████████| 118/118 [00:40<00:00,  2.90it/s]\n",
      "Epoch 3 - Validation: 100%|██████████| 30/30 [00:03<00:00,  8.64it/s]\n"
     ]
    },
    {
     "name": "stdout",
     "output_type": "stream",
     "text": [
      "Epoch 3:\n",
      "  Train Acc = 0.8424, Train Prec = 0.8519, Train Rec = 0.8424, Train F1 = 0.8381, Train Loss = 0.7094\n",
      "  Val Acc = 0.9194, Val Prec = 0.9235, Val Rec = 0.9194, Val F1 = 0.9197, Val Loss = 0.4593\n"
     ]
    },
    {
     "name": "stderr",
     "output_type": "stream",
     "text": [
      "Epoch 4 - Training: 100%|██████████| 118/118 [00:40<00:00,  2.90it/s]\n",
      "Epoch 4 - Validation: 100%|██████████| 30/30 [00:03<00:00,  8.65it/s]\n"
     ]
    },
    {
     "name": "stdout",
     "output_type": "stream",
     "text": [
      "Epoch 4:\n",
      "  Train Acc = 0.9583, Train Prec = 0.9584, Train Rec = 0.9583, Train F1 = 0.9583, Train Loss = 0.3033\n",
      "  Val Acc = 0.9300, Val Prec = 0.9336, Val Rec = 0.9300, Val F1 = 0.9304, Val Loss = 0.2980\n"
     ]
    },
    {
     "name": "stderr",
     "output_type": "stream",
     "text": [
      "Epoch 5 - Training: 100%|██████████| 118/118 [00:40<00:00,  2.90it/s]\n",
      "Epoch 5 - Validation: 100%|██████████| 30/30 [00:03<00:00,  8.63it/s]\n"
     ]
    },
    {
     "name": "stdout",
     "output_type": "stream",
     "text": [
      "Epoch 5:\n",
      "  Train Acc = 0.9798, Train Prec = 0.9799, Train Rec = 0.9798, Train F1 = 0.9798, Train Loss = 0.1435\n",
      "  Val Acc = 0.9332, Val Prec = 0.9348, Val Rec = 0.9332, Val F1 = 0.9332, Val Loss = 0.2948\n"
     ]
    },
    {
     "name": "stderr",
     "output_type": "stream",
     "text": [
      "Epoch 6 - Training: 100%|██████████| 118/118 [00:40<00:00,  2.89it/s]\n",
      "Epoch 6 - Validation: 100%|██████████| 30/30 [00:03<00:00,  8.64it/s]\n"
     ]
    },
    {
     "name": "stdout",
     "output_type": "stream",
     "text": [
      "Epoch 6:\n",
      "  Train Acc = 0.9828, Train Prec = 0.9828, Train Rec = 0.9828, Train F1 = 0.9828, Train Loss = 0.0972\n",
      "  Val Acc = 0.9364, Val Prec = 0.9387, Val Rec = 0.9364, Val F1 = 0.9367, Val Loss = 0.2756\n"
     ]
    },
    {
     "name": "stderr",
     "output_type": "stream",
     "text": [
      "Epoch 7 - Training: 100%|██████████| 118/118 [00:40<00:00,  2.90it/s]\n",
      "Epoch 7 - Validation: 100%|██████████| 30/30 [00:03<00:00,  8.63it/s]\n"
     ]
    },
    {
     "name": "stdout",
     "output_type": "stream",
     "text": [
      "Epoch 7:\n",
      "  Train Acc = 0.9928, Train Prec = 0.9929, Train Rec = 0.9928, Train F1 = 0.9928, Train Loss = 0.0574\n",
      "  Val Acc = 0.9332, Val Prec = 0.9357, Val Rec = 0.9332, Val F1 = 0.9335, Val Loss = 0.2718\n"
     ]
    },
    {
     "name": "stderr",
     "output_type": "stream",
     "text": [
      "Epoch 8 - Training: 100%|██████████| 118/118 [00:40<00:00,  2.90it/s]\n",
      "Epoch 8 - Validation: 100%|██████████| 30/30 [00:03<00:00,  8.66it/s]\n"
     ]
    },
    {
     "name": "stdout",
     "output_type": "stream",
     "text": [
      "Epoch 8:\n",
      "  Train Acc = 0.9915, Train Prec = 0.9915, Train Rec = 0.9915, Train F1 = 0.9915, Train Loss = 0.0507\n",
      "  Val Acc = 0.9374, Val Prec = 0.9407, Val Rec = 0.9374, Val F1 = 0.9380, Val Loss = 0.2787\n"
     ]
    },
    {
     "name": "stderr",
     "output_type": "stream",
     "text": [
      "Epoch 9 - Training: 100%|██████████| 118/118 [00:40<00:00,  2.90it/s]\n",
      "Epoch 9 - Validation: 100%|██████████| 30/30 [00:03<00:00,  8.62it/s]\n"
     ]
    },
    {
     "name": "stdout",
     "output_type": "stream",
     "text": [
      "Epoch 9:\n",
      "  Train Acc = 0.9915, Train Prec = 0.9915, Train Rec = 0.9915, Train F1 = 0.9915, Train Loss = 0.0501\n",
      "  Val Acc = 0.9417, Val Prec = 0.9449, Val Rec = 0.9417, Val F1 = 0.9421, Val Loss = 0.3036\n"
     ]
    },
    {
     "name": "stderr",
     "output_type": "stream",
     "text": [
      "Epoch 10 - Training: 100%|██████████| 118/118 [00:40<00:00,  2.89it/s]\n",
      "Epoch 10 - Validation: 100%|██████████| 30/30 [00:03<00:00,  8.61it/s]\n"
     ]
    },
    {
     "name": "stdout",
     "output_type": "stream",
     "text": [
      "Epoch 10:\n",
      "  Train Acc = 0.9966, Train Prec = 0.9966, Train Rec = 0.9966, Train F1 = 0.9966, Train Loss = 0.0272\n",
      "  Val Acc = 0.9311, Val Prec = 0.9356, Val Rec = 0.9311, Val F1 = 0.9314, Val Loss = 0.3383\n"
     ]
    },
    {
     "name": "stderr",
     "output_type": "stream",
     "text": [
      "Epoch 11 - Training: 100%|██████████| 118/118 [00:40<00:00,  2.89it/s]\n",
      "Epoch 11 - Validation: 100%|██████████| 30/30 [00:03<00:00,  8.62it/s]\n"
     ]
    },
    {
     "name": "stdout",
     "output_type": "stream",
     "text": [
      "Epoch 11:\n",
      "  Train Acc = 0.9939, Train Prec = 0.9939, Train Rec = 0.9939, Train F1 = 0.9939, Train Loss = 0.0385\n",
      "  Val Acc = 0.9258, Val Prec = 0.9332, Val Rec = 0.9258, Val F1 = 0.9269, Val Loss = 0.3271\n"
     ]
    },
    {
     "name": "stderr",
     "output_type": "stream",
     "text": [
      "Epoch 12 - Training: 100%|██████████| 118/118 [00:40<00:00,  2.89it/s]\n",
      "Epoch 12 - Validation: 100%|██████████| 30/30 [00:03<00:00,  8.59it/s]\n"
     ]
    },
    {
     "name": "stdout",
     "output_type": "stream",
     "text": [
      "Epoch 12:\n",
      "  Train Acc = 0.9955, Train Prec = 0.9955, Train Rec = 0.9955, Train F1 = 0.9955, Train Loss = 0.0265\n",
      "  Val Acc = 0.9353, Val Prec = 0.9392, Val Rec = 0.9353, Val F1 = 0.9348, Val Loss = 0.3057\n"
     ]
    },
    {
     "name": "stderr",
     "output_type": "stream",
     "text": [
      "Epoch 13 - Training: 100%|██████████| 118/118 [00:40<00:00,  2.89it/s]\n",
      "Epoch 13 - Validation: 100%|██████████| 30/30 [00:03<00:00,  8.62it/s]\n"
     ]
    },
    {
     "name": "stdout",
     "output_type": "stream",
     "text": [
      "Epoch 13:\n",
      "  Train Acc = 0.9987, Train Prec = 0.9987, Train Rec = 0.9987, Train F1 = 0.9987, Train Loss = 0.0137\n",
      "  Val Acc = 0.9544, Val Prec = 0.9556, Val Rec = 0.9544, Val F1 = 0.9545, Val Loss = 0.2645\n",
      "  Best model saved with 0.9545 F1 score.\n"
     ]
    },
    {
     "name": "stderr",
     "output_type": "stream",
     "text": [
      "Epoch 14 - Training: 100%|██████████| 118/118 [00:40<00:00,  2.90it/s]\n",
      "Epoch 14 - Validation: 100%|██████████| 30/30 [00:03<00:00,  8.62it/s]\n"
     ]
    },
    {
     "name": "stdout",
     "output_type": "stream",
     "text": [
      "Epoch 14:\n",
      "  Train Acc = 0.9981, Train Prec = 0.9981, Train Rec = 0.9981, Train F1 = 0.9981, Train Loss = 0.0127\n",
      "  Val Acc = 0.9533, Val Prec = 0.9543, Val Rec = 0.9533, Val F1 = 0.9532, Val Loss = 0.2695\n"
     ]
    },
    {
     "name": "stderr",
     "output_type": "stream",
     "text": [
      "Epoch 15 - Training: 100%|██████████| 118/118 [00:40<00:00,  2.89it/s]\n",
      "Epoch 15 - Validation: 100%|██████████| 30/30 [00:03<00:00,  8.61it/s]\n"
     ]
    },
    {
     "name": "stdout",
     "output_type": "stream",
     "text": [
      "Epoch 15:\n",
      "  Train Acc = 0.9960, Train Prec = 0.9960, Train Rec = 0.9960, Train F1 = 0.9960, Train Loss = 0.0158\n",
      "  Val Acc = 0.9449, Val Prec = 0.9456, Val Rec = 0.9449, Val F1 = 0.9446, Val Loss = 0.2802\n"
     ]
    },
    {
     "name": "stderr",
     "output_type": "stream",
     "text": [
      "Epoch 16 - Training: 100%|██████████| 118/118 [00:40<00:00,  2.90it/s]\n",
      "Epoch 16 - Validation: 100%|██████████| 30/30 [00:03<00:00,  8.52it/s]\n"
     ]
    },
    {
     "name": "stdout",
     "output_type": "stream",
     "text": [
      "Epoch 16:\n",
      "  Train Acc = 0.9960, Train Prec = 0.9960, Train Rec = 0.9960, Train F1 = 0.9960, Train Loss = 0.0185\n",
      "  Val Acc = 0.9374, Val Prec = 0.9421, Val Rec = 0.9374, Val F1 = 0.9379, Val Loss = 0.3338\n"
     ]
    },
    {
     "name": "stderr",
     "output_type": "stream",
     "text": [
      "Epoch 17 - Training: 100%|██████████| 118/118 [00:40<00:00,  2.89it/s]\n",
      "Epoch 17 - Validation: 100%|██████████| 30/30 [00:03<00:00,  8.61it/s]\n"
     ]
    },
    {
     "name": "stdout",
     "output_type": "stream",
     "text": [
      "Epoch 17:\n",
      "  Train Acc = 0.9942, Train Prec = 0.9942, Train Rec = 0.9942, Train F1 = 0.9942, Train Loss = 0.0245\n",
      "  Val Acc = 0.9353, Val Prec = 0.9365, Val Rec = 0.9353, Val F1 = 0.9354, Val Loss = 0.3573\n"
     ]
    },
    {
     "name": "stderr",
     "output_type": "stream",
     "text": [
      "Epoch 18 - Training: 100%|██████████| 118/118 [00:40<00:00,  2.89it/s]\n",
      "Epoch 18 - Validation: 100%|██████████| 30/30 [00:03<00:00,  8.64it/s]\n"
     ]
    },
    {
     "name": "stdout",
     "output_type": "stream",
     "text": [
      "Epoch 18:\n",
      "  Train Acc = 0.9942, Train Prec = 0.9942, Train Rec = 0.9942, Train F1 = 0.9942, Train Loss = 0.0235\n",
      "  Val Acc = 0.9459, Val Prec = 0.9469, Val Rec = 0.9459, Val F1 = 0.9459, Val Loss = 0.3187\n"
     ]
    },
    {
     "name": "stderr",
     "output_type": "stream",
     "text": [
      "Epoch 19 - Training: 100%|██████████| 118/118 [00:40<00:00,  2.89it/s]\n",
      "Epoch 19 - Validation: 100%|██████████| 30/30 [00:03<00:00,  8.58it/s]\n"
     ]
    },
    {
     "name": "stdout",
     "output_type": "stream",
     "text": [
      "Epoch 19:\n",
      "  Train Acc = 0.9942, Train Prec = 0.9942, Train Rec = 0.9942, Train F1 = 0.9942, Train Loss = 0.0218\n",
      "  Val Acc = 0.9321, Val Prec = 0.9350, Val Rec = 0.9321, Val F1 = 0.9325, Val Loss = 0.3599\n"
     ]
    },
    {
     "name": "stderr",
     "output_type": "stream",
     "text": [
      "Epoch 20 - Training: 100%|██████████| 118/118 [00:40<00:00,  2.90it/s]\n",
      "Epoch 20 - Validation: 100%|██████████| 30/30 [00:03<00:00,  8.62it/s]\n"
     ]
    },
    {
     "name": "stdout",
     "output_type": "stream",
     "text": [
      "Epoch 20:\n",
      "  Train Acc = 0.9981, Train Prec = 0.9981, Train Rec = 0.9981, Train F1 = 0.9981, Train Loss = 0.0102\n",
      "  Val Acc = 0.9406, Val Prec = 0.9438, Val Rec = 0.9406, Val F1 = 0.9411, Val Loss = 0.3205\n",
      "Iteration 10\n"
     ]
    },
    {
     "name": "stderr",
     "output_type": "stream",
     "text": [
      "Some weights of ElectraForSequenceClassification were not initialized from the model checkpoint at beomi/KcELECTRA-base-v2022 and are newly initialized: ['classifier.dense.bias', 'classifier.dense.weight', 'classifier.out_proj.bias', 'classifier.out_proj.weight']\n",
      "You should probably TRAIN this model on a down-stream task to be able to use it for predictions and inference.\n",
      "Epoch 1 - Training: 100%|██████████| 118/118 [00:40<00:00,  2.90it/s]\n",
      "Epoch 1 - Validation: 100%|██████████| 30/30 [00:03<00:00,  8.63it/s]\n"
     ]
    },
    {
     "name": "stdout",
     "output_type": "stream",
     "text": [
      "Epoch 1:\n",
      "  Train Acc = 0.2701, Train Prec = 0.2682, Train Rec = 0.2701, Train F1 = 0.1728, Train Loss = 2.3315\n",
      "  Val Acc = 0.4920, Val Prec = 0.2878, Val Rec = 0.4920, Val F1 = 0.3620, Val Loss = 1.8269\n"
     ]
    },
    {
     "name": "stderr",
     "output_type": "stream",
     "text": [
      "Epoch 2 - Training: 100%|██████████| 118/118 [00:40<00:00,  2.89it/s]\n",
      "Epoch 2 - Validation: 100%|██████████| 30/30 [00:03<00:00,  8.64it/s]\n"
     ]
    },
    {
     "name": "stdout",
     "output_type": "stream",
     "text": [
      "Epoch 2:\n",
      "  Train Acc = 0.5771, Train Prec = 0.6192, Train Rec = 0.5771, Train F1 = 0.5162, Train Loss = 1.4525\n",
      "  Val Acc = 0.7466, Val Prec = 0.7582, Val Rec = 0.7466, Val F1 = 0.6988, Val Loss = 0.9076\n"
     ]
    },
    {
     "name": "stderr",
     "output_type": "stream",
     "text": [
      "Epoch 3 - Training: 100%|██████████| 118/118 [00:40<00:00,  2.90it/s]\n",
      "Epoch 3 - Validation: 100%|██████████| 30/30 [00:03<00:00,  8.63it/s]\n"
     ]
    },
    {
     "name": "stdout",
     "output_type": "stream",
     "text": [
      "Epoch 3:\n",
      "  Train Acc = 0.8315, Train Prec = 0.8468, Train Rec = 0.8315, Train F1 = 0.8154, Train Loss = 0.7280\n",
      "  Val Acc = 0.8940, Val Prec = 0.9010, Val Rec = 0.8940, Val F1 = 0.8916, Val Loss = 0.4748\n"
     ]
    },
    {
     "name": "stderr",
     "output_type": "stream",
     "text": [
      "Epoch 4 - Training: 100%|██████████| 118/118 [00:40<00:00,  2.89it/s]\n",
      "Epoch 4 - Validation: 100%|██████████| 30/30 [00:03<00:00,  8.63it/s]\n"
     ]
    },
    {
     "name": "stdout",
     "output_type": "stream",
     "text": [
      "Epoch 4:\n",
      "  Train Acc = 0.9440, Train Prec = 0.9450, Train Rec = 0.9440, Train F1 = 0.9438, Train Loss = 0.3234\n",
      "  Val Acc = 0.9205, Val Prec = 0.9241, Val Rec = 0.9205, Val F1 = 0.9208, Val Loss = 0.3192\n"
     ]
    },
    {
     "name": "stderr",
     "output_type": "stream",
     "text": [
      "Epoch 5 - Training: 100%|██████████| 118/118 [00:40<00:00,  2.89it/s]\n",
      "Epoch 5 - Validation: 100%|██████████| 30/30 [00:03<00:00,  8.61it/s]\n"
     ]
    },
    {
     "name": "stdout",
     "output_type": "stream",
     "text": [
      "Epoch 5:\n",
      "  Train Acc = 0.9737, Train Prec = 0.9738, Train Rec = 0.9737, Train F1 = 0.9737, Train Loss = 0.1594\n",
      "  Val Acc = 0.9162, Val Prec = 0.9224, Val Rec = 0.9162, Val F1 = 0.9165, Val Loss = 0.3225\n"
     ]
    },
    {
     "name": "stderr",
     "output_type": "stream",
     "text": [
      "Epoch 6 - Training: 100%|██████████| 118/118 [00:40<00:00,  2.89it/s]\n",
      "Epoch 6 - Validation: 100%|██████████| 30/30 [00:03<00:00,  8.61it/s]\n"
     ]
    },
    {
     "name": "stdout",
     "output_type": "stream",
     "text": [
      "Epoch 6:\n",
      "  Train Acc = 0.9817, Train Prec = 0.9817, Train Rec = 0.9817, Train F1 = 0.9817, Train Loss = 0.1054\n",
      "  Val Acc = 0.9215, Val Prec = 0.9260, Val Rec = 0.9215, Val F1 = 0.9213, Val Loss = 0.3295\n"
     ]
    },
    {
     "name": "stderr",
     "output_type": "stream",
     "text": [
      "Epoch 7 - Training: 100%|██████████| 118/118 [00:40<00:00,  2.89it/s]\n",
      "Epoch 7 - Validation: 100%|██████████| 30/30 [00:03<00:00,  8.60it/s]\n"
     ]
    },
    {
     "name": "stdout",
     "output_type": "stream",
     "text": [
      "Epoch 7:\n",
      "  Train Acc = 0.9912, Train Prec = 0.9913, Train Rec = 0.9912, Train F1 = 0.9912, Train Loss = 0.0640\n",
      "  Val Acc = 0.9396, Val Prec = 0.9410, Val Rec = 0.9396, Val F1 = 0.9396, Val Loss = 0.2813\n"
     ]
    },
    {
     "name": "stderr",
     "output_type": "stream",
     "text": [
      "Epoch 8 - Training: 100%|██████████| 118/118 [00:40<00:00,  2.90it/s]\n",
      "Epoch 8 - Validation: 100%|██████████| 30/30 [00:03<00:00,  8.64it/s]\n"
     ]
    },
    {
     "name": "stdout",
     "output_type": "stream",
     "text": [
      "Epoch 8:\n",
      "  Train Acc = 0.9910, Train Prec = 0.9910, Train Rec = 0.9910, Train F1 = 0.9910, Train Loss = 0.0525\n",
      "  Val Acc = 0.9343, Val Prec = 0.9367, Val Rec = 0.9343, Val F1 = 0.9345, Val Loss = 0.2931\n"
     ]
    },
    {
     "name": "stderr",
     "output_type": "stream",
     "text": [
      "Epoch 9 - Training: 100%|██████████| 118/118 [00:40<00:00,  2.89it/s]\n",
      "Epoch 9 - Validation: 100%|██████████| 30/30 [00:03<00:00,  8.63it/s]\n"
     ]
    },
    {
     "name": "stdout",
     "output_type": "stream",
     "text": [
      "Epoch 9:\n",
      "  Train Acc = 0.9910, Train Prec = 0.9910, Train Rec = 0.9910, Train F1 = 0.9910, Train Loss = 0.0443\n",
      "  Val Acc = 0.9406, Val Prec = 0.9424, Val Rec = 0.9406, Val F1 = 0.9407, Val Loss = 0.2929\n"
     ]
    },
    {
     "name": "stderr",
     "output_type": "stream",
     "text": [
      "Epoch 10 - Training: 100%|██████████| 118/118 [00:40<00:00,  2.89it/s]\n",
      "Epoch 10 - Validation: 100%|██████████| 30/30 [00:03<00:00,  8.63it/s]\n"
     ]
    },
    {
     "name": "stdout",
     "output_type": "stream",
     "text": [
      "Epoch 10:\n",
      "  Train Acc = 0.9920, Train Prec = 0.9921, Train Rec = 0.9920, Train F1 = 0.9920, Train Loss = 0.0361\n",
      "  Val Acc = 0.9290, Val Prec = 0.9327, Val Rec = 0.9290, Val F1 = 0.9292, Val Loss = 0.3489\n"
     ]
    },
    {
     "name": "stderr",
     "output_type": "stream",
     "text": [
      "Epoch 11 - Training: 100%|██████████| 118/118 [00:40<00:00,  2.89it/s]\n",
      "Epoch 11 - Validation: 100%|██████████| 30/30 [00:03<00:00,  8.60it/s]\n"
     ]
    },
    {
     "name": "stdout",
     "output_type": "stream",
     "text": [
      "Epoch 11:\n",
      "  Train Acc = 0.9955, Train Prec = 0.9955, Train Rec = 0.9955, Train F1 = 0.9955, Train Loss = 0.0253\n",
      "  Val Acc = 0.9215, Val Prec = 0.9237, Val Rec = 0.9215, Val F1 = 0.9213, Val Loss = 0.3275\n"
     ]
    },
    {
     "name": "stderr",
     "output_type": "stream",
     "text": [
      "Epoch 12 - Training: 100%|██████████| 118/118 [00:40<00:00,  2.89it/s]\n",
      "Epoch 12 - Validation: 100%|██████████| 30/30 [00:03<00:00,  8.64it/s]\n"
     ]
    },
    {
     "name": "stdout",
     "output_type": "stream",
     "text": [
      "Epoch 12:\n",
      "  Train Acc = 0.9971, Train Prec = 0.9971, Train Rec = 0.9971, Train F1 = 0.9971, Train Loss = 0.0190\n",
      "  Val Acc = 0.9438, Val Prec = 0.9450, Val Rec = 0.9438, Val F1 = 0.9439, Val Loss = 0.2894\n"
     ]
    },
    {
     "name": "stderr",
     "output_type": "stream",
     "text": [
      "Epoch 13 - Training: 100%|██████████| 118/118 [00:40<00:00,  2.90it/s]\n",
      "Epoch 13 - Validation: 100%|██████████| 30/30 [00:03<00:00,  8.63it/s]\n"
     ]
    },
    {
     "name": "stdout",
     "output_type": "stream",
     "text": [
      "Epoch 13:\n",
      "  Train Acc = 0.9987, Train Prec = 0.9987, Train Rec = 0.9987, Train F1 = 0.9987, Train Loss = 0.0117\n",
      "  Val Acc = 0.9417, Val Prec = 0.9435, Val Rec = 0.9417, Val F1 = 0.9418, Val Loss = 0.3159\n"
     ]
    },
    {
     "name": "stderr",
     "output_type": "stream",
     "text": [
      "Epoch 14 - Training: 100%|██████████| 118/118 [00:40<00:00,  2.90it/s]\n",
      "Epoch 14 - Validation: 100%|██████████| 30/30 [00:03<00:00,  8.63it/s]\n"
     ]
    },
    {
     "name": "stdout",
     "output_type": "stream",
     "text": [
      "Epoch 14:\n",
      "  Train Acc = 0.9963, Train Prec = 0.9963, Train Rec = 0.9963, Train F1 = 0.9963, Train Loss = 0.0202\n",
      "  Val Acc = 0.9385, Val Prec = 0.9415, Val Rec = 0.9385, Val F1 = 0.9388, Val Loss = 0.3377\n"
     ]
    },
    {
     "name": "stderr",
     "output_type": "stream",
     "text": [
      "Epoch 15 - Training: 100%|██████████| 118/118 [00:40<00:00,  2.90it/s]\n",
      "Epoch 15 - Validation: 100%|██████████| 30/30 [00:03<00:00,  8.63it/s]\n"
     ]
    },
    {
     "name": "stdout",
     "output_type": "stream",
     "text": [
      "Epoch 15:\n",
      "  Train Acc = 0.9968, Train Prec = 0.9968, Train Rec = 0.9968, Train F1 = 0.9968, Train Loss = 0.0169\n",
      "  Val Acc = 0.9459, Val Prec = 0.9477, Val Rec = 0.9459, Val F1 = 0.9460, Val Loss = 0.3006\n"
     ]
    },
    {
     "name": "stderr",
     "output_type": "stream",
     "text": [
      "Epoch 16 - Training: 100%|██████████| 118/118 [00:40<00:00,  2.90it/s]\n",
      "Epoch 16 - Validation: 100%|██████████| 30/30 [00:03<00:00,  8.63it/s]\n"
     ]
    },
    {
     "name": "stdout",
     "output_type": "stream",
     "text": [
      "Epoch 16:\n",
      "  Train Acc = 0.9926, Train Prec = 0.9926, Train Rec = 0.9926, Train F1 = 0.9926, Train Loss = 0.0304\n",
      "  Val Acc = 0.9427, Val Prec = 0.9454, Val Rec = 0.9427, Val F1 = 0.9427, Val Loss = 0.2993\n"
     ]
    },
    {
     "name": "stderr",
     "output_type": "stream",
     "text": [
      "Epoch 17 - Training: 100%|██████████| 118/118 [00:40<00:00,  2.89it/s]\n",
      "Epoch 17 - Validation: 100%|██████████| 30/30 [00:03<00:00,  8.62it/s]\n"
     ]
    },
    {
     "name": "stdout",
     "output_type": "stream",
     "text": [
      "Epoch 17:\n",
      "  Train Acc = 0.9950, Train Prec = 0.9950, Train Rec = 0.9950, Train F1 = 0.9950, Train Loss = 0.0230\n",
      "  Val Acc = 0.9364, Val Prec = 0.9390, Val Rec = 0.9364, Val F1 = 0.9365, Val Loss = 0.3192\n"
     ]
    },
    {
     "name": "stderr",
     "output_type": "stream",
     "text": [
      "Epoch 18 - Training: 100%|██████████| 118/118 [00:40<00:00,  2.89it/s]\n",
      "Epoch 18 - Validation: 100%|██████████| 30/30 [00:03<00:00,  8.60it/s]\n"
     ]
    },
    {
     "name": "stdout",
     "output_type": "stream",
     "text": [
      "Epoch 18:\n",
      "  Train Acc = 0.9976, Train Prec = 0.9976, Train Rec = 0.9976, Train F1 = 0.9976, Train Loss = 0.0133\n",
      "  Val Acc = 0.9364, Val Prec = 0.9393, Val Rec = 0.9364, Val F1 = 0.9367, Val Loss = 0.3644\n"
     ]
    },
    {
     "name": "stderr",
     "output_type": "stream",
     "text": [
      "Epoch 19 - Training: 100%|██████████| 118/118 [00:40<00:00,  2.89it/s]\n",
      "Epoch 19 - Validation: 100%|██████████| 30/30 [00:03<00:00,  8.62it/s]\n"
     ]
    },
    {
     "name": "stdout",
     "output_type": "stream",
     "text": [
      "Epoch 19:\n",
      "  Train Acc = 0.9958, Train Prec = 0.9958, Train Rec = 0.9958, Train F1 = 0.9958, Train Loss = 0.0145\n",
      "  Val Acc = 0.9427, Val Prec = 0.9447, Val Rec = 0.9427, Val F1 = 0.9429, Val Loss = 0.2942\n"
     ]
    },
    {
     "name": "stderr",
     "output_type": "stream",
     "text": [
      "Epoch 20 - Training: 100%|██████████| 118/118 [00:40<00:00,  2.89it/s]\n",
      "Epoch 20 - Validation: 100%|██████████| 30/30 [00:03<00:00,  8.55it/s]\n"
     ]
    },
    {
     "name": "stdout",
     "output_type": "stream",
     "text": [
      "Epoch 20:\n",
      "  Train Acc = 0.9926, Train Prec = 0.9926, Train Rec = 0.9926, Train F1 = 0.9926, Train Loss = 0.0284\n",
      "  Val Acc = 0.9417, Val Prec = 0.9434, Val Rec = 0.9417, Val F1 = 0.9419, Val Loss = 0.3511\n",
      "Iteration 11\n"
     ]
    },
    {
     "name": "stderr",
     "output_type": "stream",
     "text": [
      "Some weights of ElectraForSequenceClassification were not initialized from the model checkpoint at beomi/KcELECTRA-base-v2022 and are newly initialized: ['classifier.dense.bias', 'classifier.dense.weight', 'classifier.out_proj.bias', 'classifier.out_proj.weight']\n",
      "You should probably TRAIN this model on a down-stream task to be able to use it for predictions and inference.\n",
      "Epoch 1 - Training: 100%|██████████| 118/118 [00:40<00:00,  2.89it/s]\n",
      "Epoch 1 - Validation: 100%|██████████| 30/30 [00:03<00:00,  8.61it/s]\n"
     ]
    },
    {
     "name": "stdout",
     "output_type": "stream",
     "text": [
      "Epoch 1:\n",
      "  Train Acc = 0.2934, Train Prec = 0.2147, Train Rec = 0.2934, Train F1 = 0.2001, Train Loss = 2.2781\n",
      "  Val Acc = 0.5217, Val Prec = 0.4122, Val Rec = 0.5217, Val F1 = 0.3966, Val Loss = 1.6675\n"
     ]
    },
    {
     "name": "stderr",
     "output_type": "stream",
     "text": [
      "Epoch 2 - Training: 100%|██████████| 118/118 [00:40<00:00,  2.89it/s]\n",
      "Epoch 2 - Validation: 100%|██████████| 30/30 [00:03<00:00,  8.60it/s]\n"
     ]
    },
    {
     "name": "stdout",
     "output_type": "stream",
     "text": [
      "Epoch 2:\n",
      "  Train Acc = 0.6132, Train Prec = 0.6598, Train Rec = 0.6132, Train F1 = 0.5564, Train Loss = 1.3152\n",
      "  Val Acc = 0.7741, Val Prec = 0.8057, Val Rec = 0.7741, Val F1 = 0.7521, Val Loss = 0.8449\n"
     ]
    },
    {
     "name": "stderr",
     "output_type": "stream",
     "text": [
      "Epoch 3 - Training: 100%|██████████| 118/118 [00:40<00:00,  2.89it/s]\n",
      "Epoch 3 - Validation: 100%|██████████| 30/30 [00:03<00:00,  8.59it/s]\n"
     ]
    },
    {
     "name": "stdout",
     "output_type": "stream",
     "text": [
      "Epoch 3:\n",
      "  Train Acc = 0.8740, Train Prec = 0.8768, Train Rec = 0.8740, Train F1 = 0.8723, Train Loss = 0.6597\n",
      "  Val Acc = 0.9088, Val Prec = 0.9141, Val Rec = 0.9088, Val F1 = 0.9075, Val Loss = 0.4127\n"
     ]
    },
    {
     "name": "stderr",
     "output_type": "stream",
     "text": [
      "Epoch 4 - Training: 100%|██████████| 118/118 [00:40<00:00,  2.89it/s]\n",
      "Epoch 4 - Validation: 100%|██████████| 30/30 [00:03<00:00,  8.61it/s]\n"
     ]
    },
    {
     "name": "stdout",
     "output_type": "stream",
     "text": [
      "Epoch 4:\n",
      "  Train Acc = 0.9525, Train Prec = 0.9525, Train Rec = 0.9525, Train F1 = 0.9524, Train Loss = 0.3047\n",
      "  Val Acc = 0.9258, Val Prec = 0.9310, Val Rec = 0.9258, Val F1 = 0.9264, Val Loss = 0.3163\n"
     ]
    },
    {
     "name": "stderr",
     "output_type": "stream",
     "text": [
      "Epoch 5 - Training: 100%|██████████| 118/118 [00:40<00:00,  2.89it/s]\n",
      "Epoch 5 - Validation: 100%|██████████| 30/30 [00:03<00:00,  8.64it/s]\n"
     ]
    },
    {
     "name": "stdout",
     "output_type": "stream",
     "text": [
      "Epoch 5:\n",
      "  Train Acc = 0.9711, Train Prec = 0.9712, Train Rec = 0.9711, Train F1 = 0.9711, Train Loss = 0.1651\n",
      "  Val Acc = 0.9236, Val Prec = 0.9282, Val Rec = 0.9236, Val F1 = 0.9243, Val Loss = 0.2985\n"
     ]
    },
    {
     "name": "stderr",
     "output_type": "stream",
     "text": [
      "Epoch 6 - Training: 100%|██████████| 118/118 [00:40<00:00,  2.89it/s]\n",
      "Epoch 6 - Validation: 100%|██████████| 30/30 [00:03<00:00,  8.62it/s]\n"
     ]
    },
    {
     "name": "stdout",
     "output_type": "stream",
     "text": [
      "Epoch 6:\n",
      "  Train Acc = 0.9862, Train Prec = 0.9862, Train Rec = 0.9862, Train F1 = 0.9862, Train Loss = 0.0895\n",
      "  Val Acc = 0.9396, Val Prec = 0.9425, Val Rec = 0.9396, Val F1 = 0.9398, Val Loss = 0.2764\n"
     ]
    },
    {
     "name": "stderr",
     "output_type": "stream",
     "text": [
      "Epoch 7 - Training: 100%|██████████| 118/118 [00:40<00:00,  2.89it/s]\n",
      "Epoch 7 - Validation: 100%|██████████| 30/30 [00:03<00:00,  8.60it/s]\n"
     ]
    },
    {
     "name": "stdout",
     "output_type": "stream",
     "text": [
      "Epoch 7:\n",
      "  Train Acc = 0.9865, Train Prec = 0.9865, Train Rec = 0.9865, Train F1 = 0.9865, Train Loss = 0.0695\n",
      "  Val Acc = 0.9343, Val Prec = 0.9376, Val Rec = 0.9343, Val F1 = 0.9348, Val Loss = 0.2701\n"
     ]
    },
    {
     "name": "stderr",
     "output_type": "stream",
     "text": [
      "Epoch 8 - Training: 100%|██████████| 118/118 [00:40<00:00,  2.89it/s]\n",
      "Epoch 8 - Validation: 100%|██████████| 30/30 [00:03<00:00,  8.62it/s]\n"
     ]
    },
    {
     "name": "stdout",
     "output_type": "stream",
     "text": [
      "Epoch 8:\n",
      "  Train Acc = 0.9947, Train Prec = 0.9947, Train Rec = 0.9947, Train F1 = 0.9947, Train Loss = 0.0407\n",
      "  Val Acc = 0.9374, Val Prec = 0.9401, Val Rec = 0.9374, Val F1 = 0.9376, Val Loss = 0.2850\n"
     ]
    },
    {
     "name": "stderr",
     "output_type": "stream",
     "text": [
      "Epoch 9 - Training: 100%|██████████| 118/118 [00:40<00:00,  2.89it/s]\n",
      "Epoch 9 - Validation: 100%|██████████| 30/30 [00:03<00:00,  8.63it/s]\n"
     ]
    },
    {
     "name": "stdout",
     "output_type": "stream",
     "text": [
      "Epoch 9:\n",
      "  Train Acc = 0.9936, Train Prec = 0.9937, Train Rec = 0.9936, Train F1 = 0.9936, Train Loss = 0.0376\n",
      "  Val Acc = 0.9321, Val Prec = 0.9348, Val Rec = 0.9321, Val F1 = 0.9325, Val Loss = 0.3139\n"
     ]
    },
    {
     "name": "stderr",
     "output_type": "stream",
     "text": [
      "Epoch 10 - Training: 100%|██████████| 118/118 [00:40<00:00,  2.90it/s]\n",
      "Epoch 10 - Validation: 100%|██████████| 30/30 [00:03<00:00,  8.63it/s]\n"
     ]
    },
    {
     "name": "stdout",
     "output_type": "stream",
     "text": [
      "Epoch 10:\n",
      "  Train Acc = 0.9947, Train Prec = 0.9947, Train Rec = 0.9947, Train F1 = 0.9947, Train Loss = 0.0302\n",
      "  Val Acc = 0.9396, Val Prec = 0.9421, Val Rec = 0.9396, Val F1 = 0.9399, Val Loss = 0.2745\n"
     ]
    },
    {
     "name": "stderr",
     "output_type": "stream",
     "text": [
      "Epoch 11 - Training: 100%|██████████| 118/118 [00:40<00:00,  2.89it/s]\n",
      "Epoch 11 - Validation: 100%|██████████| 30/30 [00:03<00:00,  8.63it/s]\n"
     ]
    },
    {
     "name": "stdout",
     "output_type": "stream",
     "text": [
      "Epoch 11:\n",
      "  Train Acc = 0.9923, Train Prec = 0.9923, Train Rec = 0.9923, Train F1 = 0.9923, Train Loss = 0.0339\n",
      "  Val Acc = 0.9396, Val Prec = 0.9425, Val Rec = 0.9396, Val F1 = 0.9399, Val Loss = 0.2972\n"
     ]
    },
    {
     "name": "stderr",
     "output_type": "stream",
     "text": [
      "Epoch 12 - Training: 100%|██████████| 118/118 [00:40<00:00,  2.89it/s]\n",
      "Epoch 12 - Validation: 100%|██████████| 30/30 [00:03<00:00,  8.61it/s]\n"
     ]
    },
    {
     "name": "stdout",
     "output_type": "stream",
     "text": [
      "Epoch 12:\n",
      "  Train Acc = 0.9963, Train Prec = 0.9963, Train Rec = 0.9963, Train F1 = 0.9963, Train Loss = 0.0211\n",
      "  Val Acc = 0.9417, Val Prec = 0.9445, Val Rec = 0.9417, Val F1 = 0.9422, Val Loss = 0.2856\n"
     ]
    },
    {
     "name": "stderr",
     "output_type": "stream",
     "text": [
      "Epoch 13 - Training: 100%|██████████| 118/118 [00:40<00:00,  2.89it/s]\n",
      "Epoch 13 - Validation: 100%|██████████| 30/30 [00:03<00:00,  8.64it/s]\n"
     ]
    },
    {
     "name": "stdout",
     "output_type": "stream",
     "text": [
      "Epoch 13:\n",
      "  Train Acc = 0.9976, Train Prec = 0.9976, Train Rec = 0.9976, Train F1 = 0.9976, Train Loss = 0.0144\n",
      "  Val Acc = 0.9427, Val Prec = 0.9454, Val Rec = 0.9427, Val F1 = 0.9431, Val Loss = 0.2897\n"
     ]
    },
    {
     "name": "stderr",
     "output_type": "stream",
     "text": [
      "Epoch 14 - Training: 100%|██████████| 118/118 [00:40<00:00,  2.90it/s]\n",
      "Epoch 14 - Validation: 100%|██████████| 30/30 [00:03<00:00,  8.65it/s]\n"
     ]
    },
    {
     "name": "stdout",
     "output_type": "stream",
     "text": [
      "Epoch 14:\n",
      "  Train Acc = 0.9971, Train Prec = 0.9971, Train Rec = 0.9971, Train F1 = 0.9971, Train Loss = 0.0172\n",
      "  Val Acc = 0.9427, Val Prec = 0.9462, Val Rec = 0.9427, Val F1 = 0.9433, Val Loss = 0.2835\n"
     ]
    },
    {
     "name": "stderr",
     "output_type": "stream",
     "text": [
      "Epoch 15 - Training: 100%|██████████| 118/118 [00:40<00:00,  2.90it/s]\n",
      "Epoch 15 - Validation: 100%|██████████| 30/30 [00:03<00:00,  8.64it/s]\n"
     ]
    },
    {
     "name": "stdout",
     "output_type": "stream",
     "text": [
      "Epoch 15:\n",
      "  Train Acc = 0.9989, Train Prec = 0.9989, Train Rec = 0.9989, Train F1 = 0.9989, Train Loss = 0.0082\n",
      "  Val Acc = 0.9438, Val Prec = 0.9461, Val Rec = 0.9438, Val F1 = 0.9441, Val Loss = 0.3031\n"
     ]
    },
    {
     "name": "stderr",
     "output_type": "stream",
     "text": [
      "Epoch 16 - Training: 100%|██████████| 118/118 [00:40<00:00,  2.90it/s]\n",
      "Epoch 16 - Validation: 100%|██████████| 30/30 [00:03<00:00,  8.65it/s]\n"
     ]
    },
    {
     "name": "stdout",
     "output_type": "stream",
     "text": [
      "Epoch 16:\n",
      "  Train Acc = 0.9981, Train Prec = 0.9981, Train Rec = 0.9981, Train F1 = 0.9981, Train Loss = 0.0102\n",
      "  Val Acc = 0.9470, Val Prec = 0.9498, Val Rec = 0.9470, Val F1 = 0.9473, Val Loss = 0.2767\n"
     ]
    },
    {
     "name": "stderr",
     "output_type": "stream",
     "text": [
      "Epoch 17 - Training: 100%|██████████| 118/118 [00:40<00:00,  2.90it/s]\n",
      "Epoch 17 - Validation: 100%|██████████| 30/30 [00:03<00:00,  8.64it/s]\n"
     ]
    },
    {
     "name": "stdout",
     "output_type": "stream",
     "text": [
      "Epoch 17:\n",
      "  Train Acc = 0.9981, Train Prec = 0.9981, Train Rec = 0.9981, Train F1 = 0.9981, Train Loss = 0.0109\n",
      "  Val Acc = 0.9396, Val Prec = 0.9424, Val Rec = 0.9396, Val F1 = 0.9395, Val Loss = 0.3273\n"
     ]
    },
    {
     "name": "stderr",
     "output_type": "stream",
     "text": [
      "Epoch 18 - Training: 100%|██████████| 118/118 [00:40<00:00,  2.90it/s]\n",
      "Epoch 18 - Validation: 100%|██████████| 30/30 [00:03<00:00,  8.67it/s]\n"
     ]
    },
    {
     "name": "stdout",
     "output_type": "stream",
     "text": [
      "Epoch 18:\n",
      "  Train Acc = 0.9968, Train Prec = 0.9968, Train Rec = 0.9968, Train F1 = 0.9968, Train Loss = 0.0148\n",
      "  Val Acc = 0.9321, Val Prec = 0.9343, Val Rec = 0.9321, Val F1 = 0.9324, Val Loss = 0.3339\n"
     ]
    },
    {
     "name": "stderr",
     "output_type": "stream",
     "text": [
      "Epoch 19 - Training: 100%|██████████| 118/118 [00:40<00:00,  2.90it/s]\n",
      "Epoch 19 - Validation: 100%|██████████| 30/30 [00:03<00:00,  8.66it/s]\n"
     ]
    },
    {
     "name": "stdout",
     "output_type": "stream",
     "text": [
      "Epoch 19:\n",
      "  Train Acc = 0.9934, Train Prec = 0.9934, Train Rec = 0.9934, Train F1 = 0.9934, Train Loss = 0.0306\n",
      "  Val Acc = 0.9311, Val Prec = 0.9360, Val Rec = 0.9311, Val F1 = 0.9319, Val Loss = 0.3566\n"
     ]
    },
    {
     "name": "stderr",
     "output_type": "stream",
     "text": [
      "Epoch 20 - Training: 100%|██████████| 118/118 [00:40<00:00,  2.90it/s]\n",
      "Epoch 20 - Validation: 100%|██████████| 30/30 [00:03<00:00,  8.67it/s]\n"
     ]
    },
    {
     "name": "stdout",
     "output_type": "stream",
     "text": [
      "Epoch 20:\n",
      "  Train Acc = 0.9942, Train Prec = 0.9942, Train Rec = 0.9942, Train F1 = 0.9942, Train Loss = 0.0224\n",
      "  Val Acc = 0.9449, Val Prec = 0.9470, Val Rec = 0.9449, Val F1 = 0.9450, Val Loss = 0.3360\n",
      "Iteration 12\n"
     ]
    },
    {
     "name": "stderr",
     "output_type": "stream",
     "text": [
      "Some weights of ElectraForSequenceClassification were not initialized from the model checkpoint at beomi/KcELECTRA-base-v2022 and are newly initialized: ['classifier.dense.bias', 'classifier.dense.weight', 'classifier.out_proj.bias', 'classifier.out_proj.weight']\n",
      "You should probably TRAIN this model on a down-stream task to be able to use it for predictions and inference.\n",
      "Epoch 1 - Training: 100%|██████████| 118/118 [00:40<00:00,  2.90it/s]\n",
      "Epoch 1 - Validation: 100%|██████████| 30/30 [00:03<00:00,  8.60it/s]\n"
     ]
    },
    {
     "name": "stdout",
     "output_type": "stream",
     "text": [
      "Epoch 1:\n",
      "  Train Acc = 0.3001, Train Prec = 0.2369, Train Rec = 0.3001, Train F1 = 0.1947, Train Loss = 2.2551\n",
      "  Val Acc = 0.4963, Val Prec = 0.3610, Val Rec = 0.4963, Val F1 = 0.3755, Val Loss = 1.6618\n"
     ]
    },
    {
     "name": "stderr",
     "output_type": "stream",
     "text": [
      "Epoch 2 - Training: 100%|██████████| 118/118 [00:40<00:00,  2.90it/s]\n",
      "Epoch 2 - Validation: 100%|██████████| 30/30 [00:03<00:00,  8.59it/s]\n"
     ]
    },
    {
     "name": "stdout",
     "output_type": "stream",
     "text": [
      "Epoch 2:\n",
      "  Train Acc = 0.6182, Train Prec = 0.6363, Train Rec = 0.6182, Train F1 = 0.5660, Train Loss = 1.3211\n",
      "  Val Acc = 0.7646, Val Prec = 0.7708, Val Rec = 0.7646, Val F1 = 0.7283, Val Loss = 0.8607\n"
     ]
    },
    {
     "name": "stderr",
     "output_type": "stream",
     "text": [
      "Epoch 3 - Training: 100%|██████████| 118/118 [00:40<00:00,  2.90it/s]\n",
      "Epoch 3 - Validation: 100%|██████████| 30/30 [00:03<00:00,  8.65it/s]\n"
     ]
    },
    {
     "name": "stdout",
     "output_type": "stream",
     "text": [
      "Epoch 3:\n",
      "  Train Acc = 0.8567, Train Prec = 0.8618, Train Rec = 0.8567, Train F1 = 0.8507, Train Loss = 0.6787\n",
      "  Val Acc = 0.8929, Val Prec = 0.9069, Val Rec = 0.8929, Val F1 = 0.8906, Val Loss = 0.4581\n"
     ]
    },
    {
     "name": "stderr",
     "output_type": "stream",
     "text": [
      "Epoch 4 - Training: 100%|██████████| 118/118 [00:40<00:00,  2.90it/s]\n",
      "Epoch 4 - Validation: 100%|██████████| 30/30 [00:03<00:00,  8.67it/s]\n"
     ]
    },
    {
     "name": "stdout",
     "output_type": "stream",
     "text": [
      "Epoch 4:\n",
      "  Train Acc = 0.9430, Train Prec = 0.9428, Train Rec = 0.9430, Train F1 = 0.9427, Train Loss = 0.3198\n",
      "  Val Acc = 0.9332, Val Prec = 0.9357, Val Rec = 0.9332, Val F1 = 0.9335, Val Loss = 0.3009\n"
     ]
    },
    {
     "name": "stderr",
     "output_type": "stream",
     "text": [
      "Epoch 5 - Training: 100%|██████████| 118/118 [00:40<00:00,  2.90it/s]\n",
      "Epoch 5 - Validation: 100%|██████████| 30/30 [00:03<00:00,  8.63it/s]\n"
     ]
    },
    {
     "name": "stdout",
     "output_type": "stream",
     "text": [
      "Epoch 5:\n",
      "  Train Acc = 0.9801, Train Prec = 0.9802, Train Rec = 0.9801, Train F1 = 0.9801, Train Loss = 0.1549\n",
      "  Val Acc = 0.9279, Val Prec = 0.9306, Val Rec = 0.9279, Val F1 = 0.9282, Val Loss = 0.2895\n"
     ]
    },
    {
     "name": "stderr",
     "output_type": "stream",
     "text": [
      "Epoch 6 - Training: 100%|██████████| 118/118 [00:40<00:00,  2.90it/s]\n",
      "Epoch 6 - Validation: 100%|██████████| 30/30 [00:03<00:00,  8.66it/s]\n"
     ]
    },
    {
     "name": "stdout",
     "output_type": "stream",
     "text": [
      "Epoch 6:\n",
      "  Train Acc = 0.9870, Train Prec = 0.9870, Train Rec = 0.9870, Train F1 = 0.9870, Train Loss = 0.0870\n",
      "  Val Acc = 0.9247, Val Prec = 0.9317, Val Rec = 0.9247, Val F1 = 0.9260, Val Loss = 0.3150\n"
     ]
    },
    {
     "name": "stderr",
     "output_type": "stream",
     "text": [
      "Epoch 7 - Training: 100%|██████████| 118/118 [00:40<00:00,  2.90it/s]\n",
      "Epoch 7 - Validation: 100%|██████████| 30/30 [00:03<00:00,  8.69it/s]\n"
     ]
    },
    {
     "name": "stdout",
     "output_type": "stream",
     "text": [
      "Epoch 7:\n",
      "  Train Acc = 0.9904, Train Prec = 0.9905, Train Rec = 0.9904, Train F1 = 0.9904, Train Loss = 0.0667\n",
      "  Val Acc = 0.9236, Val Prec = 0.9305, Val Rec = 0.9236, Val F1 = 0.9247, Val Loss = 0.3162\n"
     ]
    },
    {
     "name": "stderr",
     "output_type": "stream",
     "text": [
      "Epoch 8 - Training: 100%|██████████| 118/118 [00:40<00:00,  2.91it/s]\n",
      "Epoch 8 - Validation: 100%|██████████| 30/30 [00:03<00:00,  8.70it/s]\n"
     ]
    },
    {
     "name": "stdout",
     "output_type": "stream",
     "text": [
      "Epoch 8:\n",
      "  Train Acc = 0.9968, Train Prec = 0.9968, Train Rec = 0.9968, Train F1 = 0.9968, Train Loss = 0.0363\n",
      "  Val Acc = 0.9353, Val Prec = 0.9379, Val Rec = 0.9353, Val F1 = 0.9354, Val Loss = 0.2716\n"
     ]
    },
    {
     "name": "stderr",
     "output_type": "stream",
     "text": [
      "Epoch 9 - Training: 100%|██████████| 118/118 [00:40<00:00,  2.91it/s]\n",
      "Epoch 9 - Validation: 100%|██████████| 30/30 [00:03<00:00,  8.68it/s]\n"
     ]
    },
    {
     "name": "stdout",
     "output_type": "stream",
     "text": [
      "Epoch 9:\n",
      "  Train Acc = 0.9931, Train Prec = 0.9931, Train Rec = 0.9931, Train F1 = 0.9931, Train Loss = 0.0399\n",
      "  Val Acc = 0.9332, Val Prec = 0.9384, Val Rec = 0.9332, Val F1 = 0.9326, Val Loss = 0.3210\n"
     ]
    },
    {
     "name": "stderr",
     "output_type": "stream",
     "text": [
      "Epoch 10 - Training: 100%|██████████| 118/118 [00:40<00:00,  2.91it/s]\n",
      "Epoch 10 - Validation: 100%|██████████| 30/30 [00:03<00:00,  8.67it/s]\n"
     ]
    },
    {
     "name": "stdout",
     "output_type": "stream",
     "text": [
      "Epoch 10:\n",
      "  Train Acc = 0.9950, Train Prec = 0.9950, Train Rec = 0.9950, Train F1 = 0.9950, Train Loss = 0.0296\n",
      "  Val Acc = 0.9396, Val Prec = 0.9403, Val Rec = 0.9396, Val F1 = 0.9397, Val Loss = 0.2924\n"
     ]
    },
    {
     "name": "stderr",
     "output_type": "stream",
     "text": [
      "Epoch 11 - Training: 100%|██████████| 118/118 [00:40<00:00,  2.90it/s]\n",
      "Epoch 11 - Validation: 100%|██████████| 30/30 [00:03<00:00,  8.67it/s]\n"
     ]
    },
    {
     "name": "stdout",
     "output_type": "stream",
     "text": [
      "Epoch 11:\n",
      "  Train Acc = 0.9966, Train Prec = 0.9966, Train Rec = 0.9966, Train F1 = 0.9966, Train Loss = 0.0193\n",
      "  Val Acc = 0.9385, Val Prec = 0.9413, Val Rec = 0.9385, Val F1 = 0.9386, Val Loss = 0.3082\n"
     ]
    },
    {
     "name": "stderr",
     "output_type": "stream",
     "text": [
      "Epoch 12 - Training: 100%|██████████| 118/118 [00:40<00:00,  2.90it/s]\n",
      "Epoch 12 - Validation: 100%|██████████| 30/30 [00:03<00:00,  8.64it/s]\n"
     ]
    },
    {
     "name": "stdout",
     "output_type": "stream",
     "text": [
      "Epoch 12:\n",
      "  Train Acc = 0.9955, Train Prec = 0.9955, Train Rec = 0.9955, Train F1 = 0.9955, Train Loss = 0.0233\n",
      "  Val Acc = 0.9353, Val Prec = 0.9377, Val Rec = 0.9353, Val F1 = 0.9358, Val Loss = 0.3328\n"
     ]
    },
    {
     "name": "stderr",
     "output_type": "stream",
     "text": [
      "Epoch 13 - Training: 100%|██████████| 118/118 [00:40<00:00,  2.90it/s]\n",
      "Epoch 13 - Validation: 100%|██████████| 30/30 [00:03<00:00,  8.63it/s]\n"
     ]
    },
    {
     "name": "stdout",
     "output_type": "stream",
     "text": [
      "Epoch 13:\n",
      "  Train Acc = 0.9947, Train Prec = 0.9947, Train Rec = 0.9947, Train F1 = 0.9947, Train Loss = 0.0298\n",
      "  Val Acc = 0.9279, Val Prec = 0.9323, Val Rec = 0.9279, Val F1 = 0.9288, Val Loss = 0.3706\n"
     ]
    },
    {
     "name": "stderr",
     "output_type": "stream",
     "text": [
      "Epoch 14 - Training: 100%|██████████| 118/118 [00:40<00:00,  2.90it/s]\n",
      "Epoch 14 - Validation: 100%|██████████| 30/30 [00:03<00:00,  8.65it/s]\n"
     ]
    },
    {
     "name": "stdout",
     "output_type": "stream",
     "text": [
      "Epoch 14:\n",
      "  Train Acc = 0.9928, Train Prec = 0.9929, Train Rec = 0.9928, Train F1 = 0.9928, Train Loss = 0.0351\n",
      "  Val Acc = 0.9449, Val Prec = 0.9463, Val Rec = 0.9449, Val F1 = 0.9448, Val Loss = 0.2894\n"
     ]
    },
    {
     "name": "stderr",
     "output_type": "stream",
     "text": [
      "Epoch 15 - Training: 100%|██████████| 118/118 [00:40<00:00,  2.90it/s]\n",
      "Epoch 15 - Validation: 100%|██████████| 30/30 [00:03<00:00,  8.64it/s]\n"
     ]
    },
    {
     "name": "stdout",
     "output_type": "stream",
     "text": [
      "Epoch 15:\n",
      "  Train Acc = 0.9942, Train Prec = 0.9942, Train Rec = 0.9942, Train F1 = 0.9942, Train Loss = 0.0249\n",
      "  Val Acc = 0.9364, Val Prec = 0.9383, Val Rec = 0.9364, Val F1 = 0.9365, Val Loss = 0.3085\n"
     ]
    },
    {
     "name": "stderr",
     "output_type": "stream",
     "text": [
      "Epoch 16 - Training: 100%|██████████| 118/118 [00:40<00:00,  2.90it/s]\n",
      "Epoch 16 - Validation: 100%|██████████| 30/30 [00:03<00:00,  8.63it/s]\n"
     ]
    },
    {
     "name": "stdout",
     "output_type": "stream",
     "text": [
      "Epoch 16:\n",
      "  Train Acc = 0.9904, Train Prec = 0.9905, Train Rec = 0.9904, Train F1 = 0.9904, Train Loss = 0.0421\n",
      "  Val Acc = 0.9290, Val Prec = 0.9315, Val Rec = 0.9290, Val F1 = 0.9288, Val Loss = 0.3671\n"
     ]
    },
    {
     "name": "stderr",
     "output_type": "stream",
     "text": [
      "Epoch 17 - Training: 100%|██████████| 118/118 [00:40<00:00,  2.90it/s]\n",
      "Epoch 17 - Validation: 100%|██████████| 30/30 [00:03<00:00,  8.62it/s]\n"
     ]
    },
    {
     "name": "stdout",
     "output_type": "stream",
     "text": [
      "Epoch 17:\n",
      "  Train Acc = 0.9976, Train Prec = 0.9976, Train Rec = 0.9976, Train F1 = 0.9976, Train Loss = 0.0122\n",
      "  Val Acc = 0.9364, Val Prec = 0.9391, Val Rec = 0.9364, Val F1 = 0.9365, Val Loss = 0.3394\n"
     ]
    },
    {
     "name": "stderr",
     "output_type": "stream",
     "text": [
      "Epoch 18 - Training: 100%|██████████| 118/118 [00:40<00:00,  2.90it/s]\n",
      "Epoch 18 - Validation: 100%|██████████| 30/30 [00:03<00:00,  8.64it/s]\n"
     ]
    },
    {
     "name": "stdout",
     "output_type": "stream",
     "text": [
      "Epoch 18:\n",
      "  Train Acc = 0.9992, Train Prec = 0.9992, Train Rec = 0.9992, Train F1 = 0.9992, Train Loss = 0.0067\n",
      "  Val Acc = 0.9385, Val Prec = 0.9425, Val Rec = 0.9385, Val F1 = 0.9391, Val Loss = 0.3835\n"
     ]
    },
    {
     "name": "stderr",
     "output_type": "stream",
     "text": [
      "Epoch 19 - Training:  29%|██▉       | 34/118 [00:11<00:29,  2.87it/s]\n"
     ]
    },
    {
     "ename": "KeyboardInterrupt",
     "evalue": "",
     "output_type": "error",
     "traceback": [
      "\u001b[0;31m---------------------------------------------------------------------------\u001b[0m",
      "\u001b[0;31mKeyboardInterrupt\u001b[0m                         Traceback (most recent call last)",
      "Cell \u001b[0;32mIn[20], line 33\u001b[0m\n\u001b[1;32m     31\u001b[0m outputs \u001b[38;5;241m=\u001b[39m model(input_ids, attention_mask\u001b[38;5;241m=\u001b[39mattention_mask, labels\u001b[38;5;241m=\u001b[39mlabels)\n\u001b[1;32m     32\u001b[0m loss \u001b[38;5;241m=\u001b[39m outputs\u001b[38;5;241m.\u001b[39mloss\n\u001b[0;32m---> 33\u001b[0m train_loss \u001b[38;5;241m+\u001b[39m\u001b[38;5;241m=\u001b[39m \u001b[43mloss\u001b[49m\u001b[38;5;241;43m.\u001b[39;49m\u001b[43mitem\u001b[49m\u001b[43m(\u001b[49m\u001b[43m)\u001b[49m\n\u001b[1;32m     34\u001b[0m loss\u001b[38;5;241m.\u001b[39mbackward()\n\u001b[1;32m     35\u001b[0m optimizer\u001b[38;5;241m.\u001b[39mstep()\n",
      "\u001b[0;31mKeyboardInterrupt\u001b[0m: "
     ]
    }
   ],
   "source": [
    "# 학습 시작\n",
    "\n",
    "best_val_f1 = 0.0\n",
    "best_model_path = None\n",
    "iteration = 0\n",
    "\n",
    "while True:\n",
    "    print(f'Iteration {iteration}')\n",
    "\n",
    "    model = AutoModelForSequenceClassification.from_pretrained(MODEL_ID, num_labels=NUM_LABELS)\n",
    "    model.to(device)\n",
    "    model.resize_token_embeddings(len(tokenizer))\n",
    "\n",
    "    optimizer = torch.optim.AdamW(model.parameters(), lr=LEARNING_RATE)\n",
    "    total_steps = len(train_dataset) * EPOCHS\n",
    "    scheduler = get_linear_schedule_with_warmup(optimizer, num_warmup_steps=0, num_training_steps=total_steps)\n",
    "\n",
    "    for epoch in range(EPOCHS):\n",
    "        model.train()\n",
    "\n",
    "        train_loss = 0.0\n",
    "        train_predictions = []\n",
    "        train_labels_epoch = []\n",
    "\n",
    "        for batch in tqdm(train_dataloader, desc=f'Epoch {epoch + 1} - Training'):\n",
    "            input_ids = batch[0].to(device)\n",
    "            attention_mask = batch[1].to(device)\n",
    "            labels = batch[2].to(device)\n",
    "\n",
    "            optimizer.zero_grad()\n",
    "            outputs = model(input_ids, attention_mask=attention_mask, labels=labels)\n",
    "            loss = outputs.loss\n",
    "            train_loss += loss.item()\n",
    "            loss.backward()\n",
    "            optimizer.step()\n",
    "            scheduler.step()\n",
    "            logits = outputs.logits\n",
    "            predictions = torch.argmax(logits, dim=1)\n",
    "\n",
    "            train_predictions.extend(predictions.tolist())\n",
    "            train_labels_epoch.extend(labels.tolist())\n",
    "\n",
    "        train_acc, train_prec, train_rec, train_f1 = calculate_metrics(train_labels_epoch, train_predictions)\n",
    "        train_loss /= len(train_dataloader)\n",
    "\n",
    "        model.eval()\n",
    "\n",
    "        val_loss = 0.0\n",
    "        val_predictions = []\n",
    "\n",
    "        with torch.no_grad():\n",
    "            for batch in tqdm(val_dataloader, desc=f'Epoch {epoch + 1} - Validation'):\n",
    "                input_ids = batch[0].to(device)\n",
    "                attention_mask = batch[1].to(device)\n",
    "                labels = batch[2].to(device)\n",
    "\n",
    "                outputs = model(input_ids, attention_mask=attention_mask, labels=labels)\n",
    "                loss = outputs.loss\n",
    "                val_loss += loss.item()\n",
    "                logits = outputs.logits\n",
    "                predictions = torch.argmax(logits, dim=1)\n",
    "\n",
    "                val_predictions.extend(predictions.tolist())\n",
    "\n",
    "        val_acc, val_prec, val_rec, val_f1 = calculate_metrics(val_labels, val_predictions)\n",
    "        val_loss /= len(val_dataloader)\n",
    "\n",
    "        print(f'Epoch {epoch + 1}:')\n",
    "        print(f'  Train Acc = {train_acc:.4f}, Train Prec = {train_prec:.4f}, Train Rec = {train_rec:.4f}, Train F1 = {train_f1:.4f}, Train Loss = {train_loss:.4f}')\n",
    "        print(f'  Val Acc = {val_acc:.4f}, Val Prec = {val_prec:.4f}, Val Rec = {val_rec:.4f}, Val F1 = {val_f1:.4f}, Val Loss = {val_loss:.4f}')\n",
    "\n",
    "        if val_f1 > best_val_f1:\n",
    "            best_val_f1 = val_f1\n",
    "            best_model_path = os.path.join(SAVE_PATH, f'.model-iteration-{iteration + 1:02d}-epoch-{epoch + 1:02d}-{best_val_f1:.4f}')\n",
    "            model.save_pretrained(best_model_path)\n",
    "            tokenizer.save_pretrained(best_model_path)\n",
    "            test_acc, test_prec, test_rec, test_f1 = evaluate_test_dataset(model)\n",
    "\n",
    "            with open(os.path.join(best_model_path, 'metrics.txt'), 'w', encoding='utf-8') as f:\n",
    "                f.write(f'Train Acc = {train_acc:.4f}, Train Prec = {train_prec:.4f}, Train Rec = {train_rec:.4f}, Train F1 = {train_f1:.4f}, Train Loss = {train_loss:.4f}\\n')\n",
    "                f.write(f'Val Acc = {val_acc:.4f}, Val Prec = {val_prec:.4f}, Val Rec = {val_rec:.4f}, Val F1 = {val_f1:.4f}, Val Loss = {val_loss:.4f}\\n')\n",
    "                f.write(f'Test Acc = {test_acc:.4f}, Test Prec = {test_prec:.4f}, Test Rec = {test_rec:.4f}, Test F1 = {test_f1:.4f}\\n')\n",
    "\n",
    "            print(f'  Best model saved with {best_val_f1:.4f} F1 score.')\n",
    "\n",
    "    iteration += 1"
   ]
  }
 ],
 "metadata": {
  "kernelspec": {
   "display_name": "Python 3 (ipykernel)",
   "language": "python",
   "name": "python3"
  },
  "language_info": {
   "codemirror_mode": {
    "name": "ipython",
    "version": 3
   },
   "file_extension": ".py",
   "mimetype": "text/x-python",
   "name": "python",
   "nbconvert_exporter": "python",
   "pygments_lexer": "ipython3",
   "version": "3.10.12"
  }
 },
 "nbformat": 4,
 "nbformat_minor": 2
}

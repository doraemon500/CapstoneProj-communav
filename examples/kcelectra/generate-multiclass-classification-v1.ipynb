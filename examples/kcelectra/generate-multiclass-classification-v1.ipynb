{
 "cells": [
  {
   "cell_type": "code",
   "execution_count": 1,
   "metadata": {},
   "outputs": [],
   "source": [
    "# 다른 경로에 있는 모듈을 가져오기 위해 절대 경로 추가\n",
    "\n",
    "import os\n",
    "import sys\n",
    "\n",
    "root = os.path.join(os.path.abspath(os.getcwd()), '..', '..')\n",
    "root = os.path.normpath(root)\n",
    "\n",
    "if root not in sys.path:\n",
    "    sys.path.insert(0, root)"
   ]
  },
  {
   "cell_type": "code",
   "execution_count": 2,
   "metadata": {},
   "outputs": [
    {
     "name": "stderr",
     "output_type": "stream",
     "text": [
      "/tmp/ipykernel_29608/1422713605.py:6: DeprecationWarning: \n",
      "Pyarrow will become a required dependency of pandas in the next major release of pandas (pandas 3.0),\n",
      "(to allow more performant data types, such as the Arrow string type, and better interoperability with other libraries)\n",
      "but was not found to be installed on your system.\n",
      "If this would cause problems for you,\n",
      "please provide us feedback at https://github.com/pandas-dev/pandas/issues/54466\n",
      "        \n",
      "  import pandas as pd\n",
      "/home/retn0/repositories/nbsp1221/communav/.venv/lib/python3.10/site-packages/tqdm/auto.py:21: TqdmWarning: IProgress not found. Please update jupyter and ipywidgets. See https://ipywidgets.readthedocs.io/en/stable/user_install.html\n",
      "  from .autonotebook import tqdm as notebook_tqdm\n"
     ]
    }
   ],
   "source": [
    "# 필요한 라이브러리 로드\n",
    "\n",
    "import json\n",
    "import matplotlib.pyplot as plt\n",
    "import os\n",
    "import pandas as pd\n",
    "import torch\n",
    "from communav.utils import db\n",
    "from sklearn.metrics import accuracy_score, fbeta_score, precision_score, recall_score\n",
    "from sklearn.model_selection import train_test_split\n",
    "from tqdm import tqdm\n",
    "from transformers import AutoModelForSequenceClassification, AutoTokenizer, get_linear_schedule_with_warmup"
   ]
  },
  {
   "cell_type": "code",
   "execution_count": 3,
   "metadata": {},
   "outputs": [],
   "source": [
    "# 카테고리 정의\n",
    "\n",
    "CATEGORIES = {\n",
    "    0: '자유',\n",
    "    1: '학사',\n",
    "    2: '장학 · 행정',\n",
    "    3: '학교생활',\n",
    "    4: '수업',\n",
    "    5: '수업/이과',\n",
    "    6: '수업/문과',\n",
    "    7: '캠퍼스',\n",
    "    8: '취업 · 진로',\n",
    "    9: '일상생활',\n",
    "    10: '음식점 · 카페',\n",
    "    11: '취미 · 여가',\n",
    "    12: '인간관계',\n",
    "    13: '병역'\n",
    "}"
   ]
  },
  {
   "cell_type": "code",
   "execution_count": 4,
   "metadata": {},
   "outputs": [],
   "source": [
    "# 파라미터 설정\n",
    "\n",
    "MODEL_ID = 'beomi/KcELECTRA-base-v2022'\n",
    "NUM_LABELS = len(CATEGORIES)\n",
    "MAX_LENGTH = 128\n",
    "F_BETA = 0.5\n",
    "METRIC_AVERAGE = 'weighted'\n",
    "METRIC_ZERO_DIVISION = 0\n",
    "BATCH_SIZE = 32\n",
    "EPOCHS = 50\n",
    "LEARNING_RATE = 2e-5\n",
    "SAVE_PATH = '.'"
   ]
  },
  {
   "cell_type": "code",
   "execution_count": 5,
   "metadata": {},
   "outputs": [
    {
     "name": "stdout",
     "output_type": "stream",
     "text": [
      "Connected to DB successfully.\n",
      "Loaded 15213 articles.\n"
     ]
    }
   ],
   "source": [
    "# 커뮤니티 게시글 데이터 로드\n",
    "\n",
    "connection = db.get_connection()\n",
    "cursor = connection.cursor()\n",
    "\n",
    "cursor.execute('''\n",
    "    SELECT id, title, text, category_id\n",
    "    FROM everytime_article_dataset\n",
    "    WHERE category_id IS NOT NULL\n",
    "''')\n",
    "original_articles = cursor.fetchall()\n",
    "print(f'Loaded {len(original_articles)} articles.')\n",
    "\n",
    "cursor.close()\n",
    "db.close_connection()"
   ]
  },
  {
   "cell_type": "code",
   "execution_count": 6,
   "metadata": {},
   "outputs": [
    {
     "name": "stdout",
     "output_type": "stream",
     "text": [
      "{'id': 21479637, 'title': '어제 비마관 화장실에서 핸드폰 찾아주신분!', 'text': '제가 경황이 없어서 감사하다고도 못 했네요.\\n정말 감사합니다!!!', 'category_id': 9}\n",
      "{'id': 21480514, 'title': '클럽좋아하시는분 계세요~?', 'text': '남자 신입생인데 주말에갈려하는데 같이가실분 괌', 'category_id': 11}\n",
      "{'id': 21480639, 'title': '조은문화사 몇시에 보통 열리나요??', 'text': '1교시 수업 책 찾아야되서', 'category_id': 7}\n",
      "{'id': 21481575, 'title': '정문에 있는 인쇄집들 몇시까지 하는지 아시나요?', 'text': '9시 넘어야 갈수있을거 같은데\\n열어 있을지..', 'category_id': 7}\n",
      "{'id': 21482091, 'title': '이런사람들 많나?', 'text': '신입생 새터때 번호교환하고 학교서 인사만좀 하는사이였다가 연락 한 번도 안하고 군대가고 카톡친추는 되어있어서 누군지는 알고 복학하고 오니 서로 얼굴은아는데 인사하기도 민망하고 껄끄러운사이 너무 불편하다 엮일일 없으면 상관없는데 자꾸 마주치면 괜히 불편함', 'category_id': 12}\n",
      "{'id': 21482121, 'title': '문화유목시대 교재뭔가요', 'text': '정정기간때 신청해서 잘 모르겠어요. ㅠㅠ 계획서보니까 고른다고하는데 뭐에요?', 'category_id': 6}\n",
      "{'id': 21482730, 'title': '난', 'text': '멋있어 멋있어', 'category_id': 0}\n",
      "{'id': 21483780, 'title': '힙동 들어가고싶긴한데', 'text': '커버밖에 못하고\\n리얼 힙찔이라 엄두가안난다', 'category_id': 3}\n",
      "{'id': 21483803, 'title': '바람지원했는데요', 'text': '아직 연락이 안왔는데 다들 안온건가요!?', 'category_id': 3}\n",
      "{'id': 21483822, 'title': '전자회로실험 파형이 물결처럼 나와야하는데 왜 난 일자로 나오지???;;', 'text': '이번에 복학해서 실험들으려는데 그냥 예비는 똑같이 따라하면 되는거 아닌가?\\n왜 일자로만 나와....', 'category_id': 5}\n",
      "{'id': 21484291, 'title': '전자회로실험 파형이 물결처럼 나와야하는데 왜 난 일자로 나오지???;;', 'text': '이번에 복학해서 실험들으려는데 그냥 예비는 똑같이 따라하면 되는거 아닌가?\\n왜 일자로만 나와....\\n이건 회로인데 뭐가 잘못된거지요????;;', 'category_id': 5}\n",
      "{'id': 21488317, 'title': '도서관 11시이후 못나가는거 사실인가요?', 'text': 'ㅈㄱㄴ', 'category_id': 7}\n",
      "{'id': 21489646, 'title': '졸업학점있잖아', 'text': '교양 30  전공 60  선택50 이면 무조건 저거에 딱맞게 이수해야해?? 만약 교양에서 33이수하고 선택에서 47이수하면 졸업안되나??', 'category_id': 1}\n",
      "{'id': 21489657, 'title': '현대사상의 이해', 'text': '현대사상의 이해 정정한 학생인데 자기소개서에 특별히 써야할 내용이 있는건가요?', 'category_id': 6}\n",
      "{'id': 21490304, 'title': '이산구조 논리!', 'text': '연산자가 만약에 Unary면요\\nP | ?P 면 true table 작성하면\\nT    T  T F F\\nF    T  F T F\\n라 4가지라는데 그럼 P의 TF에 대한 두결과를 한가지로 보는건가요?', 'category_id': 5}\n",
      "{'id': 21490488, 'title': '13인치 15인치', 'text': '2시간 통학/ 코딩/ 레포트 면\\n13인치가 더 낫겠죠?!', 'category_id': 9}\n",
      "{'id': 21491028, 'title': '도키도키~~~', 'text': '일본어!\\n도키도키~~', 'category_id': 0}\n",
      "{'id': 21491047, 'title': '락/메탈 중심으로 취향인 리스너 있음?', 'text': '여러분은 주로 뭐뭐/누구누구 들음?', 'category_id': 11}\n",
      "{'id': 21491191, 'title': '전 키가 매우 큽니다 그렇다구요', 'text': '예상댓글: 어쩌라고, 안물, 응 알았어', 'category_id': 0}\n",
      "{'id': 21491928, 'title': '인쇄소', 'text': '0교시전에 프린트뽑아야되는데 8시에 문여나요 학교근처??', 'category_id': 7}\n"
     ]
    }
   ],
   "source": [
    "# 가져온 데이터의 일부를 출력\n",
    "\n",
    "for article in original_articles[:20]:\n",
    "    print(article)"
   ]
  },
  {
   "cell_type": "code",
   "execution_count": 7,
   "metadata": {},
   "outputs": [],
   "source": [
    "# 데이터 전처리\n",
    "\n",
    "preprocessed_articles = []\n",
    "\n",
    "for article in original_articles:\n",
    "    title = article['title']\n",
    "    text = article['text']\n",
    "    content = (title + ' ' + text).replace('\\n', ' ').strip()\n",
    "\n",
    "    preprocessed_articles.append({\n",
    "        'content': content,\n",
    "        'label': article['category_id']\n",
    "    })"
   ]
  },
  {
   "cell_type": "code",
   "execution_count": 8,
   "metadata": {},
   "outputs": [
    {
     "name": "stdout",
     "output_type": "stream",
     "text": [
      "{'content': '어제 비마관 화장실에서 핸드폰 찾아주신분! 제가 경황이 없어서 감사하다고도 못 했네요. 정말 감사합니다!!!', 'label': 9}\n",
      "{'content': '클럽좋아하시는분 계세요~? 남자 신입생인데 주말에갈려하는데 같이가실분 괌', 'label': 11}\n",
      "{'content': '조은문화사 몇시에 보통 열리나요?? 1교시 수업 책 찾아야되서', 'label': 7}\n",
      "{'content': '정문에 있는 인쇄집들 몇시까지 하는지 아시나요? 9시 넘어야 갈수있을거 같은데 열어 있을지..', 'label': 7}\n",
      "{'content': '이런사람들 많나? 신입생 새터때 번호교환하고 학교서 인사만좀 하는사이였다가 연락 한 번도 안하고 군대가고 카톡친추는 되어있어서 누군지는 알고 복학하고 오니 서로 얼굴은아는데 인사하기도 민망하고 껄끄러운사이 너무 불편하다 엮일일 없으면 상관없는데 자꾸 마주치면 괜히 불편함', 'label': 12}\n",
      "{'content': '문화유목시대 교재뭔가요 정정기간때 신청해서 잘 모르겠어요. ㅠㅠ 계획서보니까 고른다고하는데 뭐에요?', 'label': 6}\n",
      "{'content': '난 멋있어 멋있어', 'label': 0}\n",
      "{'content': '힙동 들어가고싶긴한데 커버밖에 못하고 리얼 힙찔이라 엄두가안난다', 'label': 3}\n",
      "{'content': '바람지원했는데요 아직 연락이 안왔는데 다들 안온건가요!?', 'label': 3}\n",
      "{'content': '전자회로실험 파형이 물결처럼 나와야하는데 왜 난 일자로 나오지???;; 이번에 복학해서 실험들으려는데 그냥 예비는 똑같이 따라하면 되는거 아닌가? 왜 일자로만 나와....', 'label': 5}\n",
      "{'content': '전자회로실험 파형이 물결처럼 나와야하는데 왜 난 일자로 나오지???;; 이번에 복학해서 실험들으려는데 그냥 예비는 똑같이 따라하면 되는거 아닌가? 왜 일자로만 나와.... 이건 회로인데 뭐가 잘못된거지요????;;', 'label': 5}\n",
      "{'content': '도서관 11시이후 못나가는거 사실인가요? ㅈㄱㄴ', 'label': 7}\n",
      "{'content': '졸업학점있잖아 교양 30  전공 60  선택50 이면 무조건 저거에 딱맞게 이수해야해?? 만약 교양에서 33이수하고 선택에서 47이수하면 졸업안되나??', 'label': 1}\n",
      "{'content': '현대사상의 이해 현대사상의 이해 정정한 학생인데 자기소개서에 특별히 써야할 내용이 있는건가요?', 'label': 6}\n",
      "{'content': '이산구조 논리! 연산자가 만약에 Unary면요 P | ?P 면 true table 작성하면 T    T  T F F F    T  F T F 라 4가지라는데 그럼 P의 TF에 대한 두결과를 한가지로 보는건가요?', 'label': 5}\n",
      "{'content': '13인치 15인치 2시간 통학/ 코딩/ 레포트 면 13인치가 더 낫겠죠?!', 'label': 9}\n",
      "{'content': '도키도키~~~ 일본어! 도키도키~~', 'label': 0}\n",
      "{'content': '락/메탈 중심으로 취향인 리스너 있음? 여러분은 주로 뭐뭐/누구누구 들음?', 'label': 11}\n",
      "{'content': '전 키가 매우 큽니다 그렇다구요 예상댓글: 어쩌라고, 안물, 응 알았어', 'label': 0}\n",
      "{'content': '인쇄소 0교시전에 프린트뽑아야되는데 8시에 문여나요 학교근처??', 'label': 7}\n"
     ]
    }
   ],
   "source": [
    "# 전처리된 데이터의 일부를 출력\n",
    "\n",
    "for article in preprocessed_articles[:20]:\n",
    "    print(article)"
   ]
  },
  {
   "cell_type": "code",
   "execution_count": 9,
   "metadata": {},
   "outputs": [],
   "source": [
    "# 데이터 분포 확인 함수 정의\n",
    "\n",
    "def plot_distribution(articles):\n",
    "    label_counts = {category_id: 0 for category_id in CATEGORIES}\n",
    "    for article in articles:\n",
    "        label_counts[article['label']] += 1\n",
    "\n",
    "    total_count = sum(label_counts.values())\n",
    "    percentages = {category_id: count / total_count * 100 for category_id, count in label_counts.items()}\n",
    "    for category_id, percentage in percentages.items():\n",
    "        print(f'{CATEGORIES[category_id]} ({category_id}): {percentage:.2f}%')\n",
    "\n",
    "    plt.figure(figsize=(12, 8))\n",
    "    plt.bar(CATEGORIES.keys(), label_counts.values())\n",
    "    for i, count in enumerate(label_counts.values()):\n",
    "        plt.text(i, count + 0.1, str(count), ha='center')\n",
    "    plt.xlabel('Category')\n",
    "    plt.ylabel('Count')\n",
    "    plt.title('Distribution of Categories')\n",
    "    plt.xticks(range(len(CATEGORIES)), list(CATEGORIES.keys()))\n",
    "    plt.tight_layout()\n",
    "    plt.show()"
   ]
  },
  {
   "cell_type": "code",
   "execution_count": 10,
   "metadata": {},
   "outputs": [
    {
     "name": "stdout",
     "output_type": "stream",
     "text": [
      "자유 (0): 7.13%\n",
      "학사 (1): 7.38%\n",
      "장학 · 행정 (2): 7.02%\n",
      "학교생활 (3): 6.76%\n",
      "수업 (4): 6.95%\n",
      "수업/이과 (5): 7.51%\n",
      "수업/문과 (6): 7.57%\n",
      "캠퍼스 (7): 7.69%\n",
      "취업 · 진로 (8): 7.09%\n",
      "일상생활 (9): 7.32%\n",
      "음식점 · 카페 (10): 6.88%\n",
      "취미 · 여가 (11): 6.85%\n",
      "인간관계 (12): 6.97%\n",
      "병역 (13): 6.91%\n"
     ]
    },
    {
     "data": {
      "image/png": "[encoded data removed]",
      "text/plain": [
       "<Figure size 1200x800 with 1 Axes>"
      ]
     },
     "metadata": {},
     "output_type": "display_data"
    }
   ],
   "source": [
    "# 데이터 분포 확인\n",
    "\n",
    "plot_distribution(preprocessed_articles)"
   ]
  },
  {
   "cell_type": "code",
   "execution_count": 11,
   "metadata": {},
   "outputs": [
    {
     "name": "stdout",
     "output_type": "stream",
     "text": [
      "Number of training articles: 12170\n",
      "Number of validation articles: 3043\n"
     ]
    }
   ],
   "source": [
    "# 훈련 데이터와 검증 데이터로 분리\n",
    "\n",
    "train_articles, val_articles = train_test_split(\n",
    "    preprocessed_articles,\n",
    "    test_size=0.2,\n",
    "    random_state=42\n",
    ")\n",
    "\n",
    "print(f'Number of training articles: {len(train_articles)}')\n",
    "print(f'Number of validation articles: {len(val_articles)}')"
   ]
  },
  {
   "cell_type": "code",
   "execution_count": 12,
   "metadata": {},
   "outputs": [
    {
     "name": "stdout",
     "output_type": "stream",
     "text": [
      "자유 (0): 7.26%\n",
      "학사 (1): 7.48%\n",
      "장학 · 행정 (2): 7.02%\n",
      "학교생활 (3): 6.79%\n",
      "수업 (4): 7.04%\n",
      "수업/이과 (5): 7.48%\n",
      "수업/문과 (6): 7.64%\n",
      "캠퍼스 (7): 7.49%\n",
      "취업 · 진로 (8): 7.02%\n",
      "일상생활 (9): 7.41%\n",
      "음식점 · 카페 (10): 6.78%\n",
      "취미 · 여가 (11): 6.75%\n",
      "인간관계 (12): 6.93%\n",
      "병역 (13): 6.91%\n"
     ]
    },
    {
     "data": {
      "image/png": "[encoded data removed]",
      "text/plain": [
       "<Figure size 1200x800 with 1 Axes>"
      ]
     },
     "metadata": {},
     "output_type": "display_data"
    }
   ],
   "source": [
    "# 훈련 데이터의 데이터 분포 확인\n",
    "\n",
    "plot_distribution(train_articles)"
   ]
  },
  {
   "cell_type": "code",
   "execution_count": 13,
   "metadata": {},
   "outputs": [
    {
     "name": "stdout",
     "output_type": "stream",
     "text": [
      "자유 (0): 6.57%\n",
      "학사 (1): 6.97%\n",
      "장학 · 행정 (2): 7.03%\n",
      "학교생활 (3): 6.64%\n",
      "수업 (4): 6.57%\n",
      "수업/이과 (5): 7.66%\n",
      "수업/문과 (6): 7.26%\n",
      "캠퍼스 (7): 8.48%\n",
      "취업 · 진로 (8): 7.36%\n",
      "일상생활 (9): 6.93%\n",
      "음식점 · 카페 (10): 7.26%\n",
      "취미 · 여가 (11): 7.23%\n",
      "인간관계 (12): 7.13%\n",
      "병역 (13): 6.90%\n"
     ]
    },
    {
     "data": {
      "image/png": "[encoded data removed]",
      "text/plain": [
       "<Figure size 1200x800 with 1 Axes>"
      ]
     },
     "metadata": {},
     "output_type": "display_data"
    }
   ],
   "source": [
    "# 검증 데이터의 데이터 분포 확인\n",
    "\n",
    "plot_distribution(val_articles)"
   ]
  },
  {
   "cell_type": "code",
   "execution_count": 14,
   "metadata": {},
   "outputs": [
    {
     "name": "stdout",
     "output_type": "stream",
     "text": [
      "Original: 어제 비마관 화장실에서 핸드폰 찾아주신분! 제가 경황이 없어서 감사하다고도 못 했네요. 정말 감사합니다!!!\n",
      "Tokenized: ['어제', '비', '##마', '##관', '화장실', '##에서', '핸드폰', '찾아', '##주신', '##분', '!', '제가', '경', '##황', '##이', '없어서', '감사', '##하다고', '##도', '못', '했네요', '.', '정말', '감사합니다', '!', '!', '!']\n"
     ]
    }
   ],
   "source": [
    "# 토크나이저 로드\n",
    "\n",
    "tokenizer = AutoTokenizer.from_pretrained(MODEL_ID)\n",
    "\n",
    "print('Original:', preprocessed_articles[0]['content'])\n",
    "print('Tokenized:', tokenizer.tokenize(preprocessed_articles[0]['content']))"
   ]
  },
  {
   "cell_type": "code",
   "execution_count": 15,
   "metadata": {},
   "outputs": [
    {
     "name": "stdout",
     "output_type": "stream",
     "text": [
      "There are 1 GPU(s) available.\n",
      "We will use the GPU: NVIDIA GeForce RTX 3060 Ti\n"
     ]
    },
    {
     "name": "stderr",
     "output_type": "stream",
     "text": [
      "Some weights of ElectraForSequenceClassification were not initialized from the model checkpoint at beomi/KcELECTRA-base-v2022 and are newly initialized: ['classifier.dense.bias', 'classifier.dense.weight', 'classifier.out_proj.bias', 'classifier.out_proj.weight']\n",
      "You should probably TRAIN this model on a down-stream task to be able to use it for predictions and inference.\n"
     ]
    },
    {
     "data": {
      "text/plain": [
       "ElectraForSequenceClassification(\n",
       "  (electra): ElectraModel(\n",
       "    (embeddings): ElectraEmbeddings(\n",
       "      (word_embeddings): Embedding(54343, 768, padding_idx=0)\n",
       "      (position_embeddings): Embedding(512, 768)\n",
       "      (token_type_embeddings): Embedding(2, 768)\n",
       "      (LayerNorm): LayerNorm((768,), eps=1e-12, elementwise_affine=True)\n",
       "      (dropout): Dropout(p=0.1, inplace=False)\n",
       "    )\n",
       "    (encoder): ElectraEncoder(\n",
       "      (layer): ModuleList(\n",
       "        (0-11): 12 x ElectraLayer(\n",
       "          (attention): ElectraAttention(\n",
       "            (self): ElectraSelfAttention(\n",
       "              (query): Linear(in_features=768, out_features=768, bias=True)\n",
       "              (key): Linear(in_features=768, out_features=768, bias=True)\n",
       "              (value): Linear(in_features=768, out_features=768, bias=True)\n",
       "              (dropout): Dropout(p=0.1, inplace=False)\n",
       "            )\n",
       "            (output): ElectraSelfOutput(\n",
       "              (dense): Linear(in_features=768, out_features=768, bias=True)\n",
       "              (LayerNorm): LayerNorm((768,), eps=1e-12, elementwise_affine=True)\n",
       "              (dropout): Dropout(p=0.1, inplace=False)\n",
       "            )\n",
       "          )\n",
       "          (intermediate): ElectraIntermediate(\n",
       "            (dense): Linear(in_features=768, out_features=3072, bias=True)\n",
       "            (intermediate_act_fn): GELUActivation()\n",
       "          )\n",
       "          (output): ElectraOutput(\n",
       "            (dense): Linear(in_features=3072, out_features=768, bias=True)\n",
       "            (LayerNorm): LayerNorm((768,), eps=1e-12, elementwise_affine=True)\n",
       "            (dropout): Dropout(p=0.1, inplace=False)\n",
       "          )\n",
       "        )\n",
       "      )\n",
       "    )\n",
       "  )\n",
       "  (classifier): ElectraClassificationHead(\n",
       "    (dense): Linear(in_features=768, out_features=768, bias=True)\n",
       "    (activation): GELUActivation()\n",
       "    (dropout): Dropout(p=0.1, inplace=False)\n",
       "    (out_proj): Linear(in_features=768, out_features=14, bias=True)\n",
       "  )\n",
       ")"
      ]
     },
     "execution_count": 15,
     "metadata": {},
     "output_type": "execute_result"
    }
   ],
   "source": [
    "# 모델 로드\n",
    "\n",
    "if torch.cuda.is_available():\n",
    "    device = torch.device('cuda')\n",
    "    print('There are %d GPU(s) available.' % torch.cuda.device_count())\n",
    "    print('We will use the GPU:', torch.cuda.get_device_name(0))\n",
    "else:\n",
    "    device = torch.device('cpu')\n",
    "    print('No GPU available, using the CPU instead.')\n",
    "\n",
    "model = AutoModelForSequenceClassification.from_pretrained(MODEL_ID, num_labels=NUM_LABELS)\n",
    "model.to(device)"
   ]
  },
  {
   "cell_type": "code",
   "execution_count": 16,
   "metadata": {},
   "outputs": [
    {
     "name": "stderr",
     "output_type": "stream",
     "text": [
      "/tmp/ipykernel_29608/2848816050.py:24: UserWarning: To copy construct from a tensor, it is recommended to use sourceTensor.clone().detach() or sourceTensor.clone().detach().requires_grad_(True), rather than torch.tensor(sourceTensor).\n",
      "  torch.tensor(train_encodings['input_ids']),\n",
      "/tmp/ipykernel_29608/2848816050.py:25: UserWarning: To copy construct from a tensor, it is recommended to use sourceTensor.clone().detach() or sourceTensor.clone().detach().requires_grad_(True), rather than torch.tensor(sourceTensor).\n",
      "  torch.tensor(train_encodings['attention_mask']),\n",
      "/tmp/ipykernel_29608/2848816050.py:29: UserWarning: To copy construct from a tensor, it is recommended to use sourceTensor.clone().detach() or sourceTensor.clone().detach().requires_grad_(True), rather than torch.tensor(sourceTensor).\n",
      "  torch.tensor(val_encodings['input_ids']),\n",
      "/tmp/ipykernel_29608/2848816050.py:30: UserWarning: To copy construct from a tensor, it is recommended to use sourceTensor.clone().detach() or sourceTensor.clone().detach().requires_grad_(True), rather than torch.tensor(sourceTensor).\n",
      "  torch.tensor(val_encodings['attention_mask']),\n"
     ]
    }
   ],
   "source": [
    "# 텍스트 인코딩 및 데이터셋 생성\n",
    "\n",
    "train_contents = [article['content'] for article in train_articles]\n",
    "train_labels = [article['label'] for article in train_articles]\n",
    "val_contents = [article['content'] for article in val_articles]\n",
    "val_labels = [article['label'] for article in val_articles]\n",
    "\n",
    "train_encodings = tokenizer(\n",
    "    train_contents,\n",
    "    padding=True,\n",
    "    truncation=True,\n",
    "    return_tensors='pt',\n",
    "    max_length=MAX_LENGTH\n",
    ")\n",
    "val_encodings = tokenizer(\n",
    "    val_contents,\n",
    "    padding=True,\n",
    "    truncation=True,\n",
    "    return_tensors='pt',\n",
    "    max_length=MAX_LENGTH\n",
    ")\n",
    "\n",
    "train_dataset = torch.utils.data.TensorDataset(\n",
    "    torch.tensor(train_encodings['input_ids']),\n",
    "    torch.tensor(train_encodings['attention_mask']),\n",
    "    torch.tensor(train_labels)\n",
    ")\n",
    "val_dataset = torch.utils.data.TensorDataset(\n",
    "    torch.tensor(val_encodings['input_ids']),\n",
    "    torch.tensor(val_encodings['attention_mask']),\n",
    "    torch.tensor(val_labels)\n",
    ")\n",
    "\n",
    "train_dataloader = torch.utils.data.DataLoader(train_dataset, batch_size=BATCH_SIZE, shuffle=True)\n",
    "val_dataloader = torch.utils.data.DataLoader(val_dataset, batch_size=BATCH_SIZE, shuffle=False)"
   ]
  },
  {
   "cell_type": "code",
   "execution_count": 17,
   "metadata": {},
   "outputs": [],
   "source": [
    "# 학습 전 초기화\n",
    "\n",
    "optimizer = torch.optim.AdamW(model.parameters(), lr=LEARNING_RATE)\n",
    "total_steps = len(train_dataset) * EPOCHS\n",
    "scheduler = get_linear_schedule_with_warmup(optimizer, num_warmup_steps=0, num_training_steps=total_steps)\n",
    "\n",
    "train_accs = []\n",
    "train_precs = []\n",
    "train_recs = []\n",
    "train_f_betas = []\n",
    "train_losses = []\n",
    "\n",
    "val_accs = []\n",
    "val_precs = []\n",
    "val_recs = []\n",
    "val_f_betas = []\n",
    "val_losses = []"
   ]
  },
  {
   "cell_type": "code",
   "execution_count": 18,
   "metadata": {},
   "outputs": [],
   "source": [
    "# 평가 지표 계산 함수 정의\n",
    "\n",
    "def calculate_metrics(true_labels, predicted_labels):\n",
    "    acc = accuracy_score(true_labels, predicted_labels)\n",
    "    prec = precision_score(true_labels, predicted_labels, average=METRIC_AVERAGE, zero_division=METRIC_ZERO_DIVISION)\n",
    "    rec = recall_score(true_labels, predicted_labels, average=METRIC_AVERAGE, zero_division=METRIC_ZERO_DIVISION)\n",
    "    f_beta = fbeta_score(true_labels, predicted_labels, beta=F_BETA, average=METRIC_AVERAGE, zero_division=METRIC_ZERO_DIVISION)\n",
    "\n",
    "    return acc, prec, rec, f_beta"
   ]
  },
  {
   "cell_type": "code",
   "execution_count": 19,
   "metadata": {},
   "outputs": [
    {
     "name": "stderr",
     "output_type": "stream",
     "text": [
      "Epoch 1 - Training: 100%|██████████| 381/381 [01:57<00:00,  3.26it/s]\n",
      "Epoch 1 - Validation: 100%|██████████| 96/96 [00:09<00:00,  9.80it/s]\n"
     ]
    },
    {
     "name": "stdout",
     "output_type": "stream",
     "text": [
      "Epoch 1:\n",
      "  Train Acc = 0.8274, Train Prec = 0.8522, Train Rec = 0.8274, Train F-Beta = 0.8420, Train Loss = 0.9458\n",
      "  Val Acc = 0.9901, Val Prec = 0.9902, Val Rec = 0.9901, Val F-Beta = 0.9902, Val Loss = 0.0840\n",
      "  Best model saved with 0.9902 F-beta score.\n"
     ]
    },
    {
     "name": "stderr",
     "output_type": "stream",
     "text": [
      "Epoch 2 - Training: 100%|██████████| 381/381 [01:57<00:00,  3.26it/s]\n",
      "Epoch 2 - Validation: 100%|██████████| 96/96 [00:09<00:00,  9.91it/s]\n"
     ]
    },
    {
     "name": "stdout",
     "output_type": "stream",
     "text": [
      "Epoch 2:\n",
      "  Train Acc = 0.9890, Train Prec = 0.9890, Train Rec = 0.9890, Train F-Beta = 0.9890, Train Loss = 0.0784\n",
      "  Val Acc = 0.9882, Val Prec = 0.9884, Val Rec = 0.9882, Val F-Beta = 0.9883, Val Loss = 0.0634\n"
     ]
    },
    {
     "name": "stderr",
     "output_type": "stream",
     "text": [
      "Epoch 3 - Training: 100%|██████████| 381/381 [01:56<00:00,  3.26it/s]\n",
      "Epoch 3 - Validation: 100%|██████████| 96/96 [00:09<00:00,  9.91it/s]\n"
     ]
    },
    {
     "name": "stdout",
     "output_type": "stream",
     "text": [
      "Epoch 3:\n",
      "  Train Acc = 0.9916, Train Prec = 0.9916, Train Rec = 0.9916, Train F-Beta = 0.9916, Train Loss = 0.0438\n",
      "  Val Acc = 0.9895, Val Prec = 0.9895, Val Rec = 0.9895, Val F-Beta = 0.9895, Val Loss = 0.0523\n"
     ]
    },
    {
     "name": "stderr",
     "output_type": "stream",
     "text": [
      "Epoch 4 - Training: 100%|██████████| 381/381 [01:56<00:00,  3.26it/s]\n",
      "Epoch 4 - Validation: 100%|██████████| 96/96 [00:09<00:00,  9.87it/s]\n"
     ]
    },
    {
     "name": "stdout",
     "output_type": "stream",
     "text": [
      "Epoch 4:\n",
      "  Train Acc = 0.9947, Train Prec = 0.9947, Train Rec = 0.9947, Train F-Beta = 0.9947, Train Loss = 0.0288\n",
      "  Val Acc = 0.9928, Val Prec = 0.9928, Val Rec = 0.9928, Val F-Beta = 0.9928, Val Loss = 0.0444\n",
      "  Best model saved with 0.9928 F-beta score.\n"
     ]
    },
    {
     "name": "stderr",
     "output_type": "stream",
     "text": [
      "Epoch 5 - Training: 100%|██████████| 381/381 [01:58<00:00,  3.23it/s]\n",
      "Epoch 5 - Validation: 100%|██████████| 96/96 [00:09<00:00,  9.62it/s]\n"
     ]
    },
    {
     "name": "stdout",
     "output_type": "stream",
     "text": [
      "Epoch 5:\n",
      "  Train Acc = 0.9955, Train Prec = 0.9955, Train Rec = 0.9955, Train F-Beta = 0.9955, Train Loss = 0.0229\n",
      "  Val Acc = 0.9832, Val Prec = 0.9837, Val Rec = 0.9832, Val F-Beta = 0.9835, Val Loss = 0.0722\n"
     ]
    },
    {
     "name": "stderr",
     "output_type": "stream",
     "text": [
      "Epoch 6 - Training: 100%|██████████| 381/381 [01:57<00:00,  3.25it/s]\n",
      "Epoch 6 - Validation: 100%|██████████| 96/96 [00:09<00:00,  9.88it/s]\n"
     ]
    },
    {
     "name": "stdout",
     "output_type": "stream",
     "text": [
      "Epoch 6:\n",
      "  Train Acc = 0.9976, Train Prec = 0.9976, Train Rec = 0.9976, Train F-Beta = 0.9976, Train Loss = 0.0136\n",
      "  Val Acc = 0.9915, Val Prec = 0.9915, Val Rec = 0.9915, Val F-Beta = 0.9915, Val Loss = 0.0449\n"
     ]
    },
    {
     "name": "stderr",
     "output_type": "stream",
     "text": [
      "Epoch 7 - Training: 100%|██████████| 381/381 [01:58<00:00,  3.21it/s]\n",
      "Epoch 7 - Validation: 100%|██████████| 96/96 [00:09<00:00,  9.90it/s]\n"
     ]
    },
    {
     "name": "stdout",
     "output_type": "stream",
     "text": [
      "Epoch 7:\n",
      "  Train Acc = 0.9978, Train Prec = 0.9978, Train Rec = 0.9978, Train F-Beta = 0.9978, Train Loss = 0.0117\n",
      "  Val Acc = 0.9921, Val Prec = 0.9922, Val Rec = 0.9921, Val F-Beta = 0.9921, Val Loss = 0.0469\n"
     ]
    },
    {
     "name": "stderr",
     "output_type": "stream",
     "text": [
      "Epoch 8 - Training: 100%|██████████| 381/381 [01:59<00:00,  3.19it/s]\n",
      "Epoch 8 - Validation: 100%|██████████| 96/96 [00:09<00:00,  9.67it/s]\n"
     ]
    },
    {
     "name": "stdout",
     "output_type": "stream",
     "text": [
      "Epoch 8:\n",
      "  Train Acc = 0.9965, Train Prec = 0.9966, Train Rec = 0.9965, Train F-Beta = 0.9966, Train Loss = 0.0164\n",
      "  Val Acc = 0.9915, Val Prec = 0.9916, Val Rec = 0.9915, Val F-Beta = 0.9915, Val Loss = 0.0510\n"
     ]
    },
    {
     "name": "stderr",
     "output_type": "stream",
     "text": [
      "Epoch 9 - Training: 100%|██████████| 381/381 [01:59<00:00,  3.18it/s]\n",
      "Epoch 9 - Validation: 100%|██████████| 96/96 [00:09<00:00,  9.90it/s]\n"
     ]
    },
    {
     "name": "stdout",
     "output_type": "stream",
     "text": [
      "Epoch 9:\n",
      "  Train Acc = 0.9986, Train Prec = 0.9986, Train Rec = 0.9986, Train F-Beta = 0.9986, Train Loss = 0.0082\n",
      "  Val Acc = 0.9928, Val Prec = 0.9928, Val Rec = 0.9928, Val F-Beta = 0.9928, Val Loss = 0.0491\n"
     ]
    },
    {
     "name": "stderr",
     "output_type": "stream",
     "text": [
      "Epoch 10 - Training: 100%|██████████| 381/381 [01:58<00:00,  3.21it/s]\n",
      "Epoch 10 - Validation: 100%|██████████| 96/96 [00:09<00:00,  9.70it/s]\n"
     ]
    },
    {
     "name": "stdout",
     "output_type": "stream",
     "text": [
      "Epoch 10:\n",
      "  Train Acc = 0.9978, Train Prec = 0.9978, Train Rec = 0.9978, Train F-Beta = 0.9978, Train Loss = 0.0101\n",
      "  Val Acc = 0.9928, Val Prec = 0.9929, Val Rec = 0.9928, Val F-Beta = 0.9928, Val Loss = 0.0492\n",
      "  Best model saved with 0.9928 F-beta score.\n"
     ]
    },
    {
     "name": "stderr",
     "output_type": "stream",
     "text": [
      "Epoch 11 - Training: 100%|██████████| 381/381 [01:59<00:00,  3.19it/s]\n",
      "Epoch 11 - Validation: 100%|██████████| 96/96 [00:09<00:00,  9.81it/s]\n"
     ]
    },
    {
     "name": "stdout",
     "output_type": "stream",
     "text": [
      "Epoch 11:\n",
      "  Train Acc = 0.9985, Train Prec = 0.9985, Train Rec = 0.9985, Train F-Beta = 0.9985, Train Loss = 0.0077\n",
      "  Val Acc = 0.9878, Val Prec = 0.9882, Val Rec = 0.9878, Val F-Beta = 0.9880, Val Loss = 0.0789\n"
     ]
    },
    {
     "name": "stderr",
     "output_type": "stream",
     "text": [
      "Epoch 12 - Training: 100%|██████████| 381/381 [01:58<00:00,  3.22it/s]\n",
      "Epoch 12 - Validation: 100%|██████████| 96/96 [00:09<00:00,  9.85it/s]\n"
     ]
    },
    {
     "name": "stdout",
     "output_type": "stream",
     "text": [
      "Epoch 12:\n",
      "  Train Acc = 0.9970, Train Prec = 0.9970, Train Rec = 0.9970, Train F-Beta = 0.9970, Train Loss = 0.0137\n",
      "  Val Acc = 0.9888, Val Prec = 0.9891, Val Rec = 0.9888, Val F-Beta = 0.9889, Val Loss = 0.0685\n"
     ]
    },
    {
     "name": "stderr",
     "output_type": "stream",
     "text": [
      "Epoch 13 - Training: 100%|██████████| 381/381 [01:57<00:00,  3.24it/s]\n",
      "Epoch 13 - Validation: 100%|██████████| 96/96 [00:09<00:00,  9.89it/s]\n"
     ]
    },
    {
     "name": "stdout",
     "output_type": "stream",
     "text": [
      "Epoch 13:\n",
      "  Train Acc = 0.9983, Train Prec = 0.9983, Train Rec = 0.9983, Train F-Beta = 0.9983, Train Loss = 0.0089\n",
      "  Val Acc = 0.9911, Val Prec = 0.9912, Val Rec = 0.9911, Val F-Beta = 0.9912, Val Loss = 0.0631\n"
     ]
    },
    {
     "name": "stderr",
     "output_type": "stream",
     "text": [
      "Epoch 14 - Training: 100%|██████████| 381/381 [01:59<00:00,  3.20it/s]\n",
      "Epoch 14 - Validation: 100%|██████████| 96/96 [00:09<00:00,  9.62it/s]\n"
     ]
    },
    {
     "name": "stdout",
     "output_type": "stream",
     "text": [
      "Epoch 14:\n",
      "  Train Acc = 0.9984, Train Prec = 0.9984, Train Rec = 0.9984, Train F-Beta = 0.9984, Train Loss = 0.0094\n",
      "  Val Acc = 0.9941, Val Prec = 0.9941, Val Rec = 0.9941, Val F-Beta = 0.9941, Val Loss = 0.0408\n",
      "  Best model saved with 0.9941 F-beta score.\n"
     ]
    },
    {
     "name": "stderr",
     "output_type": "stream",
     "text": [
      "Epoch 15 - Training: 100%|██████████| 381/381 [01:59<00:00,  3.19it/s]\n",
      "Epoch 15 - Validation: 100%|██████████| 96/96 [00:09<00:00,  9.64it/s]\n"
     ]
    },
    {
     "name": "stdout",
     "output_type": "stream",
     "text": [
      "Epoch 15:\n",
      "  Train Acc = 0.9979, Train Prec = 0.9979, Train Rec = 0.9979, Train F-Beta = 0.9979, Train Loss = 0.0091\n",
      "  Val Acc = 0.9924, Val Prec = 0.9925, Val Rec = 0.9924, Val F-Beta = 0.9924, Val Loss = 0.0560\n"
     ]
    },
    {
     "name": "stderr",
     "output_type": "stream",
     "text": [
      "Epoch 16 - Training: 100%|██████████| 381/381 [01:59<00:00,  3.19it/s]\n",
      "Epoch 16 - Validation: 100%|██████████| 96/96 [00:09<00:00,  9.66it/s]\n"
     ]
    },
    {
     "name": "stdout",
     "output_type": "stream",
     "text": [
      "Epoch 16:\n",
      "  Train Acc = 0.9975, Train Prec = 0.9975, Train Rec = 0.9975, Train F-Beta = 0.9975, Train Loss = 0.0105\n",
      "  Val Acc = 0.9918, Val Prec = 0.9919, Val Rec = 0.9918, Val F-Beta = 0.9919, Val Loss = 0.0528\n"
     ]
    },
    {
     "name": "stderr",
     "output_type": "stream",
     "text": [
      "Epoch 17 - Training: 100%|██████████| 381/381 [01:59<00:00,  3.20it/s]\n",
      "Epoch 17 - Validation: 100%|██████████| 96/96 [00:09<00:00,  9.64it/s]\n"
     ]
    },
    {
     "name": "stdout",
     "output_type": "stream",
     "text": [
      "Epoch 17:\n",
      "  Train Acc = 0.9998, Train Prec = 0.9998, Train Rec = 0.9998, Train F-Beta = 0.9998, Train Loss = 0.0012\n",
      "  Val Acc = 0.9931, Val Prec = 0.9931, Val Rec = 0.9931, Val F-Beta = 0.9931, Val Loss = 0.0524\n"
     ]
    },
    {
     "name": "stderr",
     "output_type": "stream",
     "text": [
      "Epoch 18 - Training: 100%|██████████| 381/381 [01:59<00:00,  3.19it/s]\n",
      "Epoch 18 - Validation: 100%|██████████| 96/96 [00:09<00:00,  9.65it/s]\n"
     ]
    },
    {
     "name": "stdout",
     "output_type": "stream",
     "text": [
      "Epoch 18:\n",
      "  Train Acc = 0.9999, Train Prec = 0.9999, Train Rec = 0.9999, Train F-Beta = 0.9999, Train Loss = 0.0005\n",
      "  Val Acc = 0.9915, Val Prec = 0.9916, Val Rec = 0.9915, Val F-Beta = 0.9915, Val Loss = 0.0663\n"
     ]
    },
    {
     "name": "stderr",
     "output_type": "stream",
     "text": [
      "Epoch 19 - Training: 100%|██████████| 381/381 [01:59<00:00,  3.20it/s]\n",
      "Epoch 19 - Validation: 100%|██████████| 96/96 [00:09<00:00,  9.68it/s]\n"
     ]
    },
    {
     "name": "stdout",
     "output_type": "stream",
     "text": [
      "Epoch 19:\n",
      "  Train Acc = 0.9996, Train Prec = 0.9996, Train Rec = 0.9996, Train F-Beta = 0.9996, Train Loss = 0.0015\n",
      "  Val Acc = 0.9869, Val Prec = 0.9873, Val Rec = 0.9869, Val F-Beta = 0.9871, Val Loss = 0.0883\n"
     ]
    },
    {
     "name": "stderr",
     "output_type": "stream",
     "text": [
      "Epoch 20 - Training: 100%|██████████| 381/381 [01:58<00:00,  3.21it/s]\n",
      "Epoch 20 - Validation: 100%|██████████| 96/96 [00:09<00:00,  9.61it/s]\n"
     ]
    },
    {
     "name": "stdout",
     "output_type": "stream",
     "text": [
      "Epoch 20:\n",
      "  Train Acc = 0.9985, Train Prec = 0.9985, Train Rec = 0.9985, Train F-Beta = 0.9985, Train Loss = 0.0079\n",
      "  Val Acc = 0.9901, Val Prec = 0.9903, Val Rec = 0.9901, Val F-Beta = 0.9902, Val Loss = 0.0736\n"
     ]
    },
    {
     "name": "stderr",
     "output_type": "stream",
     "text": [
      "Epoch 21 - Training: 100%|██████████| 381/381 [01:59<00:00,  3.19it/s]\n",
      "Epoch 21 - Validation: 100%|██████████| 96/96 [00:09<00:00,  9.65it/s]\n"
     ]
    },
    {
     "name": "stdout",
     "output_type": "stream",
     "text": [
      "Epoch 21:\n",
      "  Train Acc = 0.9955, Train Prec = 0.9955, Train Rec = 0.9955, Train F-Beta = 0.9955, Train Loss = 0.0214\n",
      "  Val Acc = 0.9911, Val Prec = 0.9912, Val Rec = 0.9911, Val F-Beta = 0.9912, Val Loss = 0.0659\n"
     ]
    },
    {
     "name": "stderr",
     "output_type": "stream",
     "text": [
      "Epoch 22 - Training: 100%|██████████| 381/381 [01:59<00:00,  3.20it/s]\n",
      "Epoch 22 - Validation: 100%|██████████| 96/96 [00:09<00:00,  9.61it/s]\n"
     ]
    },
    {
     "name": "stdout",
     "output_type": "stream",
     "text": [
      "Epoch 22:\n",
      "  Train Acc = 0.9984, Train Prec = 0.9984, Train Rec = 0.9984, Train F-Beta = 0.9984, Train Loss = 0.0064\n",
      "  Val Acc = 0.9924, Val Prec = 0.9925, Val Rec = 0.9924, Val F-Beta = 0.9924, Val Loss = 0.0508\n"
     ]
    },
    {
     "name": "stderr",
     "output_type": "stream",
     "text": [
      "Epoch 23 - Training: 100%|██████████| 381/381 [01:59<00:00,  3.19it/s]\n",
      "Epoch 23 - Validation: 100%|██████████| 96/96 [00:09<00:00,  9.69it/s]\n"
     ]
    },
    {
     "name": "stdout",
     "output_type": "stream",
     "text": [
      "Epoch 23:\n",
      "  Train Acc = 0.9988, Train Prec = 0.9989, Train Rec = 0.9988, Train F-Beta = 0.9988, Train Loss = 0.0076\n",
      "  Val Acc = 0.9924, Val Prec = 0.9925, Val Rec = 0.9924, Val F-Beta = 0.9925, Val Loss = 0.0533\n"
     ]
    },
    {
     "name": "stderr",
     "output_type": "stream",
     "text": [
      "Epoch 24 - Training: 100%|██████████| 381/381 [01:58<00:00,  3.20it/s]\n",
      "Epoch 24 - Validation: 100%|██████████| 96/96 [00:09<00:00,  9.72it/s]\n"
     ]
    },
    {
     "name": "stdout",
     "output_type": "stream",
     "text": [
      "Epoch 24:\n",
      "  Train Acc = 0.9985, Train Prec = 0.9985, Train Rec = 0.9985, Train F-Beta = 0.9985, Train Loss = 0.0057\n",
      "  Val Acc = 0.9908, Val Prec = 0.9909, Val Rec = 0.9908, Val F-Beta = 0.9909, Val Loss = 0.0659\n"
     ]
    },
    {
     "name": "stderr",
     "output_type": "stream",
     "text": [
      "Epoch 25 - Training: 100%|██████████| 381/381 [01:59<00:00,  3.19it/s]\n",
      "Epoch 25 - Validation: 100%|██████████| 96/96 [00:09<00:00,  9.69it/s]\n"
     ]
    },
    {
     "name": "stdout",
     "output_type": "stream",
     "text": [
      "Epoch 25:\n",
      "  Train Acc = 0.9982, Train Prec = 0.9982, Train Rec = 0.9982, Train F-Beta = 0.9982, Train Loss = 0.0073\n",
      "  Val Acc = 0.9898, Val Prec = 0.9899, Val Rec = 0.9898, Val F-Beta = 0.9899, Val Loss = 0.0652\n"
     ]
    },
    {
     "name": "stderr",
     "output_type": "stream",
     "text": [
      "Epoch 26 - Training: 100%|██████████| 381/381 [01:59<00:00,  3.20it/s]\n",
      "Epoch 26 - Validation: 100%|██████████| 96/96 [00:09<00:00,  9.65it/s]\n"
     ]
    },
    {
     "name": "stdout",
     "output_type": "stream",
     "text": [
      "Epoch 26:\n",
      "  Train Acc = 0.9988, Train Prec = 0.9988, Train Rec = 0.9988, Train F-Beta = 0.9988, Train Loss = 0.0058\n",
      "  Val Acc = 0.9918, Val Prec = 0.9919, Val Rec = 0.9918, Val F-Beta = 0.9918, Val Loss = 0.0549\n"
     ]
    },
    {
     "name": "stderr",
     "output_type": "stream",
     "text": [
      "Epoch 27 - Training: 100%|██████████| 381/381 [01:59<00:00,  3.20it/s]\n",
      "Epoch 27 - Validation: 100%|██████████| 96/96 [00:09<00:00,  9.68it/s]\n"
     ]
    },
    {
     "name": "stdout",
     "output_type": "stream",
     "text": [
      "Epoch 27:\n",
      "  Train Acc = 0.9997, Train Prec = 0.9997, Train Rec = 0.9997, Train F-Beta = 0.9997, Train Loss = 0.0022\n",
      "  Val Acc = 0.9928, Val Prec = 0.9929, Val Rec = 0.9928, Val F-Beta = 0.9928, Val Loss = 0.0506\n"
     ]
    },
    {
     "name": "stderr",
     "output_type": "stream",
     "text": [
      "Epoch 28 - Training: 100%|██████████| 381/381 [01:59<00:00,  3.19it/s]\n",
      "Epoch 28 - Validation: 100%|██████████| 96/96 [00:09<00:00,  9.76it/s]\n"
     ]
    },
    {
     "name": "stdout",
     "output_type": "stream",
     "text": [
      "Epoch 28:\n",
      "  Train Acc = 1.0000, Train Prec = 1.0000, Train Rec = 1.0000, Train F-Beta = 1.0000, Train Loss = 0.0002\n",
      "  Val Acc = 0.9924, Val Prec = 0.9925, Val Rec = 0.9924, Val F-Beta = 0.9925, Val Loss = 0.0577\n"
     ]
    },
    {
     "name": "stderr",
     "output_type": "stream",
     "text": [
      "Epoch 29 - Training: 100%|██████████| 381/381 [01:58<00:00,  3.22it/s]\n",
      "Epoch 29 - Validation: 100%|██████████| 96/96 [00:09<00:00,  9.70it/s]\n"
     ]
    },
    {
     "name": "stdout",
     "output_type": "stream",
     "text": [
      "Epoch 29:\n",
      "  Train Acc = 1.0000, Train Prec = 1.0000, Train Rec = 1.0000, Train F-Beta = 1.0000, Train Loss = 0.0002\n",
      "  Val Acc = 0.9938, Val Prec = 0.9938, Val Rec = 0.9938, Val F-Beta = 0.9938, Val Loss = 0.0498\n"
     ]
    },
    {
     "name": "stderr",
     "output_type": "stream",
     "text": [
      "Epoch 30 - Training: 100%|██████████| 381/381 [01:58<00:00,  3.22it/s]\n",
      "Epoch 30 - Validation: 100%|██████████| 96/96 [00:09<00:00,  9.68it/s]\n"
     ]
    },
    {
     "name": "stdout",
     "output_type": "stream",
     "text": [
      "Epoch 30:\n",
      "  Train Acc = 1.0000, Train Prec = 1.0000, Train Rec = 1.0000, Train F-Beta = 1.0000, Train Loss = 0.0001\n",
      "  Val Acc = 0.9934, Val Prec = 0.9935, Val Rec = 0.9934, Val F-Beta = 0.9935, Val Loss = 0.0497\n"
     ]
    },
    {
     "name": "stderr",
     "output_type": "stream",
     "text": [
      "Epoch 31 - Training: 100%|██████████| 381/381 [01:57<00:00,  3.24it/s]\n",
      "Epoch 31 - Validation: 100%|██████████| 96/96 [00:09<00:00,  9.85it/s]\n"
     ]
    },
    {
     "name": "stdout",
     "output_type": "stream",
     "text": [
      "Epoch 31:\n",
      "  Train Acc = 0.9987, Train Prec = 0.9987, Train Rec = 0.9987, Train F-Beta = 0.9987, Train Loss = 0.0092\n",
      "  Val Acc = 0.9921, Val Prec = 0.9922, Val Rec = 0.9921, Val F-Beta = 0.9921, Val Loss = 0.0512\n"
     ]
    },
    {
     "name": "stderr",
     "output_type": "stream",
     "text": [
      "Epoch 32 - Training: 100%|██████████| 381/381 [01:56<00:00,  3.26it/s]\n",
      "Epoch 32 - Validation: 100%|██████████| 96/96 [00:09<00:00,  9.87it/s]\n"
     ]
    },
    {
     "name": "stdout",
     "output_type": "stream",
     "text": [
      "Epoch 32:\n",
      "  Train Acc = 0.9988, Train Prec = 0.9988, Train Rec = 0.9988, Train F-Beta = 0.9988, Train Loss = 0.0059\n",
      "  Val Acc = 0.9875, Val Prec = 0.9877, Val Rec = 0.9875, Val F-Beta = 0.9876, Val Loss = 0.0662\n"
     ]
    },
    {
     "name": "stderr",
     "output_type": "stream",
     "text": [
      "Epoch 33 - Training: 100%|██████████| 381/381 [01:58<00:00,  3.21it/s]\n",
      "Epoch 33 - Validation: 100%|██████████| 96/96 [00:09<00:00,  9.81it/s]\n"
     ]
    },
    {
     "name": "stdout",
     "output_type": "stream",
     "text": [
      "Epoch 33:\n",
      "  Train Acc = 0.9980, Train Prec = 0.9980, Train Rec = 0.9980, Train F-Beta = 0.9980, Train Loss = 0.0107\n",
      "  Val Acc = 0.9928, Val Prec = 0.9928, Val Rec = 0.9928, Val F-Beta = 0.9928, Val Loss = 0.0537\n"
     ]
    },
    {
     "name": "stderr",
     "output_type": "stream",
     "text": [
      "Epoch 34 - Training: 100%|██████████| 381/381 [01:57<00:00,  3.25it/s]\n",
      "Epoch 34 - Validation: 100%|██████████| 96/96 [00:09<00:00,  9.88it/s]\n"
     ]
    },
    {
     "name": "stdout",
     "output_type": "stream",
     "text": [
      "Epoch 34:\n",
      "  Train Acc = 0.9993, Train Prec = 0.9993, Train Rec = 0.9993, Train F-Beta = 0.9993, Train Loss = 0.0023\n",
      "  Val Acc = 0.9924, Val Prec = 0.9926, Val Rec = 0.9924, Val F-Beta = 0.9925, Val Loss = 0.0542\n"
     ]
    },
    {
     "name": "stderr",
     "output_type": "stream",
     "text": [
      "Epoch 35 - Training: 100%|██████████| 381/381 [01:57<00:00,  3.25it/s]\n",
      "Epoch 35 - Validation: 100%|██████████| 96/96 [00:09<00:00,  9.87it/s]\n"
     ]
    },
    {
     "name": "stdout",
     "output_type": "stream",
     "text": [
      "Epoch 35:\n",
      "  Train Acc = 0.9996, Train Prec = 0.9996, Train Rec = 0.9996, Train F-Beta = 0.9996, Train Loss = 0.0020\n",
      "  Val Acc = 0.9934, Val Prec = 0.9935, Val Rec = 0.9934, Val F-Beta = 0.9935, Val Loss = 0.0514\n"
     ]
    },
    {
     "name": "stderr",
     "output_type": "stream",
     "text": [
      "Epoch 36 - Training: 100%|██████████| 381/381 [01:57<00:00,  3.26it/s]\n",
      "Epoch 36 - Validation: 100%|██████████| 96/96 [00:09<00:00,  9.96it/s]\n"
     ]
    },
    {
     "name": "stdout",
     "output_type": "stream",
     "text": [
      "Epoch 36:\n",
      "  Train Acc = 0.9990, Train Prec = 0.9990, Train Rec = 0.9990, Train F-Beta = 0.9990, Train Loss = 0.0053\n",
      "  Val Acc = 0.9915, Val Prec = 0.9915, Val Rec = 0.9915, Val F-Beta = 0.9915, Val Loss = 0.0539\n"
     ]
    },
    {
     "name": "stderr",
     "output_type": "stream",
     "text": [
      "Epoch 37 - Training: 100%|██████████| 381/381 [01:58<00:00,  3.22it/s]\n",
      "Epoch 37 - Validation: 100%|██████████| 96/96 [00:09<00:00,  9.86it/s]\n"
     ]
    },
    {
     "name": "stdout",
     "output_type": "stream",
     "text": [
      "Epoch 37:\n",
      "  Train Acc = 0.9991, Train Prec = 0.9991, Train Rec = 0.9991, Train F-Beta = 0.9991, Train Loss = 0.0059\n",
      "  Val Acc = 0.9852, Val Prec = 0.9856, Val Rec = 0.9852, Val F-Beta = 0.9854, Val Loss = 0.0843\n"
     ]
    },
    {
     "name": "stderr",
     "output_type": "stream",
     "text": [
      "Epoch 38 - Training: 100%|██████████| 381/381 [01:56<00:00,  3.26it/s]\n",
      "Epoch 38 - Validation: 100%|██████████| 96/96 [00:09<00:00,  9.86it/s]\n"
     ]
    },
    {
     "name": "stdout",
     "output_type": "stream",
     "text": [
      "Epoch 38:\n",
      "  Train Acc = 0.9987, Train Prec = 0.9987, Train Rec = 0.9987, Train F-Beta = 0.9987, Train Loss = 0.0062\n",
      "  Val Acc = 0.9915, Val Prec = 0.9915, Val Rec = 0.9915, Val F-Beta = 0.9915, Val Loss = 0.0552\n"
     ]
    },
    {
     "name": "stderr",
     "output_type": "stream",
     "text": [
      "Epoch 39 - Training: 100%|██████████| 381/381 [01:56<00:00,  3.26it/s]\n",
      "Epoch 39 - Validation: 100%|██████████| 96/96 [00:09<00:00,  9.87it/s]\n"
     ]
    },
    {
     "name": "stdout",
     "output_type": "stream",
     "text": [
      "Epoch 39:\n",
      "  Train Acc = 0.9994, Train Prec = 0.9994, Train Rec = 0.9994, Train F-Beta = 0.9994, Train Loss = 0.0034\n",
      "  Val Acc = 0.9924, Val Prec = 0.9925, Val Rec = 0.9924, Val F-Beta = 0.9925, Val Loss = 0.0651\n"
     ]
    },
    {
     "name": "stderr",
     "output_type": "stream",
     "text": [
      "Epoch 40 - Training: 100%|██████████| 381/381 [01:57<00:00,  3.26it/s]\n",
      "Epoch 40 - Validation: 100%|██████████| 96/96 [00:09<00:00,  9.87it/s]\n"
     ]
    },
    {
     "name": "stdout",
     "output_type": "stream",
     "text": [
      "Epoch 40:\n",
      "  Train Acc = 0.9994, Train Prec = 0.9994, Train Rec = 0.9994, Train F-Beta = 0.9994, Train Loss = 0.0023\n",
      "  Val Acc = 0.9921, Val Prec = 0.9922, Val Rec = 0.9921, Val F-Beta = 0.9921, Val Loss = 0.0654\n"
     ]
    },
    {
     "name": "stderr",
     "output_type": "stream",
     "text": [
      "Epoch 41 - Training: 100%|██████████| 381/381 [01:56<00:00,  3.26it/s]\n",
      "Epoch 41 - Validation: 100%|██████████| 96/96 [00:09<00:00,  9.85it/s]\n"
     ]
    },
    {
     "name": "stdout",
     "output_type": "stream",
     "text": [
      "Epoch 41:\n",
      "  Train Acc = 0.9994, Train Prec = 0.9994, Train Rec = 0.9994, Train F-Beta = 0.9994, Train Loss = 0.0050\n",
      "  Val Acc = 0.9901, Val Prec = 0.9902, Val Rec = 0.9901, Val F-Beta = 0.9902, Val Loss = 0.0642\n"
     ]
    },
    {
     "name": "stderr",
     "output_type": "stream",
     "text": [
      "Epoch 42 - Training: 100%|██████████| 381/381 [01:57<00:00,  3.26it/s]\n",
      "Epoch 42 - Validation: 100%|██████████| 96/96 [00:09<00:00,  9.86it/s]\n"
     ]
    },
    {
     "name": "stdout",
     "output_type": "stream",
     "text": [
      "Epoch 42:\n",
      "  Train Acc = 0.9990, Train Prec = 0.9990, Train Rec = 0.9990, Train F-Beta = 0.9990, Train Loss = 0.0045\n",
      "  Val Acc = 0.9924, Val Prec = 0.9925, Val Rec = 0.9924, Val F-Beta = 0.9925, Val Loss = 0.0502\n"
     ]
    },
    {
     "name": "stderr",
     "output_type": "stream",
     "text": [
      "Epoch 43 - Training: 100%|██████████| 381/381 [01:56<00:00,  3.26it/s]\n",
      "Epoch 43 - Validation: 100%|██████████| 96/96 [00:09<00:00,  9.89it/s]\n"
     ]
    },
    {
     "name": "stdout",
     "output_type": "stream",
     "text": [
      "Epoch 43:\n",
      "  Train Acc = 0.9998, Train Prec = 0.9998, Train Rec = 0.9998, Train F-Beta = 0.9998, Train Loss = 0.0012\n",
      "  Val Acc = 0.9938, Val Prec = 0.9938, Val Rec = 0.9938, Val F-Beta = 0.9938, Val Loss = 0.0524\n"
     ]
    },
    {
     "name": "stderr",
     "output_type": "stream",
     "text": [
      "Epoch 44 - Training: 100%|██████████| 381/381 [01:56<00:00,  3.26it/s]\n",
      "Epoch 44 - Validation: 100%|██████████| 96/96 [00:09<00:00,  9.88it/s]\n"
     ]
    },
    {
     "name": "stdout",
     "output_type": "stream",
     "text": [
      "Epoch 44:\n",
      "  Train Acc = 0.9990, Train Prec = 0.9990, Train Rec = 0.9990, Train F-Beta = 0.9990, Train Loss = 0.0048\n",
      "  Val Acc = 0.9924, Val Prec = 0.9925, Val Rec = 0.9924, Val F-Beta = 0.9925, Val Loss = 0.0647\n"
     ]
    },
    {
     "name": "stderr",
     "output_type": "stream",
     "text": [
      "Epoch 45 - Training: 100%|██████████| 381/381 [01:56<00:00,  3.27it/s]\n",
      "Epoch 45 - Validation: 100%|██████████| 96/96 [00:09<00:00, 10.04it/s]\n"
     ]
    },
    {
     "name": "stdout",
     "output_type": "stream",
     "text": [
      "Epoch 45:\n",
      "  Train Acc = 0.9987, Train Prec = 0.9987, Train Rec = 0.9987, Train F-Beta = 0.9987, Train Loss = 0.0061\n",
      "  Val Acc = 0.9901, Val Prec = 0.9902, Val Rec = 0.9901, Val F-Beta = 0.9902, Val Loss = 0.0726\n"
     ]
    },
    {
     "name": "stderr",
     "output_type": "stream",
     "text": [
      "Epoch 46 - Training: 100%|██████████| 381/381 [01:56<00:00,  3.26it/s]\n",
      "Epoch 46 - Validation: 100%|██████████| 96/96 [00:09<00:00, 10.01it/s]\n"
     ]
    },
    {
     "name": "stdout",
     "output_type": "stream",
     "text": [
      "Epoch 46:\n",
      "  Train Acc = 0.9983, Train Prec = 0.9983, Train Rec = 0.9983, Train F-Beta = 0.9983, Train Loss = 0.0076\n",
      "  Val Acc = 0.9898, Val Prec = 0.9899, Val Rec = 0.9898, Val F-Beta = 0.9898, Val Loss = 0.0694\n"
     ]
    },
    {
     "name": "stderr",
     "output_type": "stream",
     "text": [
      "Epoch 47 - Training: 100%|██████████| 381/381 [01:59<00:00,  3.20it/s]\n",
      "Epoch 47 - Validation: 100%|██████████| 96/96 [00:09<00:00,  9.62it/s]\n"
     ]
    },
    {
     "name": "stdout",
     "output_type": "stream",
     "text": [
      "Epoch 47:\n",
      "  Train Acc = 0.9993, Train Prec = 0.9993, Train Rec = 0.9993, Train F-Beta = 0.9993, Train Loss = 0.0040\n",
      "  Val Acc = 0.9928, Val Prec = 0.9928, Val Rec = 0.9928, Val F-Beta = 0.9928, Val Loss = 0.0546\n"
     ]
    },
    {
     "name": "stderr",
     "output_type": "stream",
     "text": [
      "Epoch 48 - Training: 100%|██████████| 381/381 [01:59<00:00,  3.18it/s]\n",
      "Epoch 48 - Validation: 100%|██████████| 96/96 [00:09<00:00,  9.75it/s]\n"
     ]
    },
    {
     "name": "stdout",
     "output_type": "stream",
     "text": [
      "Epoch 48:\n",
      "  Train Acc = 0.9998, Train Prec = 0.9998, Train Rec = 0.9998, Train F-Beta = 0.9998, Train Loss = 0.0021\n",
      "  Val Acc = 0.9918, Val Prec = 0.9919, Val Rec = 0.9918, Val F-Beta = 0.9918, Val Loss = 0.0577\n"
     ]
    },
    {
     "name": "stderr",
     "output_type": "stream",
     "text": [
      "Epoch 49 - Training: 100%|██████████| 381/381 [01:59<00:00,  3.18it/s]\n",
      "Epoch 49 - Validation: 100%|██████████| 96/96 [00:10<00:00,  9.59it/s]\n"
     ]
    },
    {
     "name": "stdout",
     "output_type": "stream",
     "text": [
      "Epoch 49:\n",
      "  Train Acc = 0.9996, Train Prec = 0.9996, Train Rec = 0.9996, Train F-Beta = 0.9996, Train Loss = 0.0020\n",
      "  Val Acc = 0.9924, Val Prec = 0.9925, Val Rec = 0.9924, Val F-Beta = 0.9925, Val Loss = 0.0533\n"
     ]
    },
    {
     "name": "stderr",
     "output_type": "stream",
     "text": [
      "Epoch 50 - Training: 100%|██████████| 381/381 [01:59<00:00,  3.19it/s]\n",
      "Epoch 50 - Validation: 100%|██████████| 96/96 [00:10<00:00,  9.58it/s]"
     ]
    },
    {
     "name": "stdout",
     "output_type": "stream",
     "text": [
      "Epoch 50:\n",
      "  Train Acc = 0.9998, Train Prec = 0.9998, Train Rec = 0.9998, Train F-Beta = 0.9998, Train Loss = 0.0005\n",
      "  Val Acc = 0.9931, Val Prec = 0.9931, Val Rec = 0.9931, Val F-Beta = 0.9931, Val Loss = 0.0614\n",
      "Training finished.\n"
     ]
    },
    {
     "name": "stderr",
     "output_type": "stream",
     "text": [
      "\n"
     ]
    }
   ],
   "source": [
    "# 학습 시작\n",
    "\n",
    "best_val_f_beta = 0.9\n",
    "best_model_path = None\n",
    "\n",
    "for epoch in range(EPOCHS):\n",
    "    model.train()\n",
    "\n",
    "    train_loss = 0.0\n",
    "    train_predictions = []\n",
    "    train_labels_epoch = []\n",
    "\n",
    "    for batch in tqdm(train_dataloader, desc=f'Epoch {epoch + 1} - Training'):\n",
    "        input_ids = batch[0].to(device)\n",
    "        attention_mask = batch[1].to(device)\n",
    "        labels = batch[2].to(device)\n",
    "\n",
    "        optimizer.zero_grad()\n",
    "        outputs = model(input_ids, attention_mask=attention_mask, labels=labels)\n",
    "        loss = outputs.loss\n",
    "        train_loss += loss.item()\n",
    "        loss.backward()\n",
    "        optimizer.step()\n",
    "        scheduler.step()\n",
    "        logits = outputs.logits\n",
    "        predictions = torch.argmax(logits, dim=1)\n",
    "\n",
    "        train_predictions.extend(predictions.tolist())\n",
    "        train_labels_epoch.extend(labels.tolist())\n",
    "\n",
    "    train_acc, train_prec, train_rec, train_f_beta = calculate_metrics(train_labels_epoch, train_predictions)\n",
    "    train_accs.append(train_acc)\n",
    "    train_precs.append(train_prec)\n",
    "    train_recs.append(train_rec)\n",
    "    train_f_betas.append(train_f_beta)\n",
    "    train_loss /= len(train_dataloader)\n",
    "    train_losses.append(train_loss)\n",
    "\n",
    "    model.eval()\n",
    "\n",
    "    val_loss = 0.0\n",
    "    val_predictions = []\n",
    "\n",
    "    with torch.no_grad():\n",
    "        for batch in tqdm(val_dataloader, desc=f'Epoch {epoch + 1} - Validation'):\n",
    "            input_ids = batch[0].to(device)\n",
    "            attention_mask = batch[1].to(device)\n",
    "            labels = batch[2].to(device)\n",
    "\n",
    "            outputs = model(input_ids, attention_mask=attention_mask, labels=labels)\n",
    "            loss = outputs.loss\n",
    "            val_loss += loss.item()\n",
    "            logits = outputs.logits\n",
    "            predictions = torch.argmax(logits, dim=1)\n",
    "\n",
    "            val_predictions.extend(predictions.tolist())\n",
    "\n",
    "    val_acc, val_prec, val_rec, val_f_beta = calculate_metrics(val_labels, val_predictions)\n",
    "    val_accs.append(val_acc)\n",
    "    val_precs.append(val_prec)\n",
    "    val_recs.append(val_rec)\n",
    "    val_f_betas.append(val_f_beta)\n",
    "    val_loss /= len(val_dataloader)\n",
    "    val_losses.append(val_loss)\n",
    "\n",
    "    print(f'Epoch {epoch + 1}:')\n",
    "    print(f'  Train Acc = {train_acc:.4f}, Train Prec = {train_prec:.4f}, Train Rec = {train_rec:.4f}, Train F-Beta = {train_f_beta:.4f}, Train Loss = {train_loss:.4f}')\n",
    "    print(f'  Val Acc = {val_acc:.4f}, Val Prec = {val_prec:.4f}, Val Rec = {val_rec:.4f}, Val F-Beta = {val_f_beta:.4f}, Val Loss = {val_loss:.4f}')\n",
    "\n",
    "    if val_f_beta > best_val_f_beta:\n",
    "        best_val_f_beta = val_f_beta\n",
    "        best_model_path = os.path.join(SAVE_PATH, f'model-epoch-{epoch + 1:02d}-{best_val_f_beta:.4f}')\n",
    "        model.save_pretrained(best_model_path)\n",
    "        tokenizer.save_pretrained(best_model_path)\n",
    "        print(f'  Best model saved with {best_val_f_beta:.4f} F-beta score.')\n",
    "\n",
    "print('Training finished.')"
   ]
  },
  {
   "cell_type": "code",
   "execution_count": 20,
   "metadata": {},
   "outputs": [
    {
     "data": {
      "image/png": "[encoded data removed]",
      "text/plain": [
       "<Figure size 1400x1000 with 4 Axes>"
      ]
     },
     "metadata": {},
     "output_type": "display_data"
    },
    {
     "data": {
      "image/png": "[encoded data removed]",
      "text/plain": [
       "<Figure size 800x600 with 1 Axes>"
      ]
     },
     "metadata": {},
     "output_type": "display_data"
    }
   ],
   "source": [
    "# 학습 결과 시각화\n",
    "\n",
    "if EPOCHS <= 20:\n",
    "    step = 1\n",
    "elif EPOCHS <= 50:\n",
    "    step = 5\n",
    "elif EPOCHS <= 100:\n",
    "    step = 10\n",
    "else:\n",
    "    step = 20\n",
    "\n",
    "epochs = range(1, EPOCHS + 1)\n",
    "tick_marks = [1] + list(range(step, EPOCHS + 1, step))\n",
    "\n",
    "plt.figure(figsize=(14, 10))\n",
    "\n",
    "plt.subplot(2, 2, 1)\n",
    "plt.plot(epochs, train_accs, label='Train Acc')\n",
    "plt.plot(epochs, val_accs, label='Val Acc')\n",
    "plt.xlabel('Epoch')\n",
    "plt.xticks(tick_marks)\n",
    "plt.ylabel('Accuracy')\n",
    "plt.legend()\n",
    "plt.title('Accuracy')\n",
    "\n",
    "plt.subplot(2, 2, 2)\n",
    "plt.plot(epochs, train_precs, label='Train Precision')\n",
    "plt.plot(epochs, val_precs, label='Val Precision')\n",
    "plt.xlabel('Epoch')\n",
    "plt.xticks(tick_marks)\n",
    "plt.ylabel('Precision')\n",
    "plt.legend()\n",
    "plt.title('Precision')\n",
    "\n",
    "plt.subplot(2, 2, 3)\n",
    "plt.plot(epochs, train_recs, label='Train Recall')\n",
    "plt.plot(epochs, val_recs, label='Val Recall')\n",
    "plt.xlabel('Epoch')\n",
    "plt.xticks(tick_marks)\n",
    "plt.ylabel('Recall')\n",
    "plt.legend()\n",
    "plt.title('Recall')\n",
    "\n",
    "plt.subplot(2, 2, 4)\n",
    "plt.plot(epochs, train_f_betas, label='Train F-Beta Score')\n",
    "plt.plot(epochs, val_f_betas, label='Val F-Beta Score')\n",
    "plt.xlabel('Epoch')\n",
    "plt.xticks(tick_marks)\n",
    "plt.ylabel('F-Beta Score')\n",
    "plt.legend()\n",
    "plt.title('F-Beta Score')\n",
    "\n",
    "plt.tight_layout()\n",
    "plt.show()\n",
    "\n",
    "plt.figure(figsize=(8, 6))\n",
    "plt.plot(epochs, train_losses, label='Train Loss')\n",
    "plt.plot(epochs, val_losses, label='Val Loss')\n",
    "plt.xlabel('Epoch')\n",
    "plt.xticks(tick_marks)\n",
    "plt.ylabel('Loss')\n",
    "plt.legend()\n",
    "plt.title('Loss')\n",
    "plt.show()"
   ]
  },
  {
   "cell_type": "code",
   "execution_count": 21,
   "metadata": {},
   "outputs": [
    {
     "name": "stdout",
     "output_type": "stream",
     "text": [
      "Best model path: ./model-epoch-14-0.9941\n",
      "\n",
      "텍스트: ㅋㅋㅋㅋㅋㅋㅋㅋ 이거 존나 웃기네\n",
      "예측: 자유 ['0.9993', '0.0000', '0.0000', '0.0001', '0.0001', '0.0000', '0.0000', '0.0001', '0.0000', '0.0000', '0.0000', '0.0001', '0.0000', '0.0000']\n",
      "\n",
      "텍스트: 아무 주제나 올려도 되는 건가요? 규칙 같은 건 없어?\n",
      "예측: 캠퍼스 ['0.0026', '0.1012', '0.1149', '0.1091', '0.0149', '0.0740', '0.0074', '0.5263', '0.0255', '0.0083', '0.0011', '0.0032', '0.0054', '0.0061']\n",
      "\n",
      "텍스트: 자유 게시판이랑 일반 게시판이랑 뭐가 다른거야?\n",
      "예측: 캠퍼스 ['0.0015', '0.0004', '0.0031', '0.1570', '0.0008', '0.0007', '0.0009', '0.8186', '0.0072', '0.0019', '0.0005', '0.0052', '0.0007', '0.0016']\n",
      "\n",
      "텍스트: 학교 관련된 거 말고도 여기다 글 써도 돼?\n",
      "예측: 장학 · 행정 ['0.0044', '0.0185', '0.3876', '0.0301', '0.0234', '0.0769', '0.0593', '0.0860', '0.2914', '0.0055', '0.0017', '0.0029', '0.0028', '0.0095']\n",
      "\n",
      "텍스트: 자유 주제로 올릴 만한 게시글 추천해 줄 수 있어?\n",
      "예측: 캠퍼스 ['0.0048', '0.0379', '0.0388', '0.0358', '0.0013', '0.0315', '0.0916', '0.5566', '0.0214', '0.0410', '0.0034', '0.1287', '0.0014', '0.0059']\n",
      "\n",
      "텍스트: 내일까지 드랍 가능한가요? 아직 고민 중인데 말이죠.\n",
      "예측: 학사 ['0.0006', '0.9123', '0.0562', '0.0004', '0.0005', '0.0209', '0.0004', '0.0039', '0.0014', '0.0013', '0.0002', '0.0003', '0.0001', '0.0015']\n",
      "\n",
      "텍스트: 학점 이렇게 가져가도 졸업할 수 있나요? 상담 좀 해주세요.\n",
      "예측: 학사 ['0.0000', '0.9993', '0.0001', '0.0000', '0.0001', '0.0002', '0.0000', '0.0000', '0.0001', '0.0000', '0.0000', '0.0000', '0.0000', '0.0001']\n",
      "\n",
      "텍스트: 복수전공 하고 싶은데 어떻게 신청해야 하죠?\n",
      "예측: 학사 ['0.0000', '0.9993', '0.0002', '0.0000', '0.0000', '0.0001', '0.0000', '0.0000', '0.0000', '0.0001', '0.0000', '0.0000', '0.0000', '0.0001']\n",
      "\n",
      "텍스트: 이번 학기 시험 기간이 언제인지 알려주세요.\n",
      "예측: 수업 ['0.0000', '0.0001', '0.0000', '0.0000', '0.9997', '0.0001', '0.0000', '0.0000', '0.0000', '0.0000', '0.0000', '0.0000', '0.0000', '0.0000']\n",
      "\n",
      "텍스트: 학사 경고 받으면 어떻게 되나요? 대책 좀 세워주세요.\n",
      "예측: 장학 · 행정 ['0.0001', '0.0034', '0.9806', '0.0003', '0.0004', '0.0006', '0.0002', '0.0029', '0.0035', '0.0006', '0.0001', '0.0001', '0.0001', '0.0073']\n",
      "\n",
      "텍스트: 장학금 신청은 언제까지인가요? 놓치기 싫어서요.\n",
      "예측: 장학 · 행정 ['0.0000', '0.0001', '0.9997', '0.0000', '0.0000', '0.0000', '0.0000', '0.0000', '0.0000', '0.0000', '0.0000', '0.0000', '0.0000', '0.0000']\n",
      "\n",
      "텍스트: 학자금 대출 신청 방법 좀 알려주세요. 처음이라서 모르겠네요.\n",
      "예측: 장학 · 행정 ['0.0000', '0.0001', '0.9996', '0.0000', '0.0000', '0.0000', '0.0000', '0.0001', '0.0000', '0.0000', '0.0000', '0.0000', '0.0000', '0.0000']\n",
      "\n",
      "텍스트: 증명서 발급은 어디서 하나요? 빨리 뽑아야 하는데.\n",
      "예측: 장학 · 행정 ['0.0000', '0.0003', '0.9990', '0.0000', '0.0000', '0.0000', '0.0000', '0.0003', '0.0001', '0.0000', '0.0000', '0.0000', '0.0000', '0.0001']\n",
      "\n",
      "텍스트: 교환학생 프로그램 정보 좀 주세요. 어디서 볼 수 있나요?\n",
      "예측: 취업 · 진로 ['0.0000', '0.0002', '0.0004', '0.0000', '0.0000', '0.0000', '0.0000', '0.0004', '0.9986', '0.0001', '0.0000', '0.0000', '0.0000', '0.0001']\n",
      "\n",
      "텍스트: 학적 변경은 어떻게 하는 건가요? 절차를 몰라서요.\n",
      "예측: 학사 ['0.0000', '0.9987', '0.0007', '0.0000', '0.0000', '0.0001', '0.0000', '0.0001', '0.0000', '0.0001', '0.0000', '0.0000', '0.0000', '0.0001']\n",
      "\n",
      "텍스트: 동아리 언제 가입할 수 있어요? 종류도 많던데 추천 좀.\n",
      "예측: 학교생활 ['0.0000', '0.0000', '0.0000', '0.9997', '0.0000', '0.0000', '0.0000', '0.0000', '0.0000', '0.0000', '0.0000', '0.0000', '0.0000', '0.0000']\n",
      "\n",
      "텍스트: 학교 축제 언제 열리나요? 라인업 알려주세요.\n",
      "예측: 학교생활 ['0.0000', '0.0000', '0.0000', '0.9997', '0.0000', '0.0000', '0.0000', '0.0001', '0.0000', '0.0000', '0.0000', '0.0000', '0.0000', '0.0000']\n",
      "\n",
      "텍스트: 대학교 내에서 봉사활동 할 수 있는 곳 있나요?\n",
      "예측: 병역 ['0.0002', '0.0013', '0.0087', '0.0031', '0.0011', '0.0005', '0.0002', '0.1438', '0.0030', '0.0029', '0.0002', '0.0004', '0.0003', '0.8342']\n",
      "\n",
      "텍스트: 학생회 행사 계획이 궁금해요. 어디서 정보를 얻을 수 있죠?\n",
      "예측: 학교생활 ['0.0000', '0.0000', '0.0000', '0.9997', '0.0000', '0.0000', '0.0000', '0.0001', '0.0000', '0.0000', '0.0000', '0.0000', '0.0000', '0.0000']\n",
      "\n",
      "텍스트: 경험 공유하고 싶은데, 여기다 써도 되나요?\n",
      "예측: 취미 · 여가 ['0.0084', '0.0033', '0.0110', '0.0122', '0.0005', '0.0037', '0.0013', '0.0723', '0.0031', '0.0700', '0.0030', '0.7756', '0.0204', '0.0152']\n",
      "\n",
      "텍스트: 이번 학기 추천 교양 과목 있어요? 뭘 들을지 고민 중입니다.\n",
      "예측: 학사 ['0.0000', '0.9992', '0.0002', '0.0000', '0.0000', '0.0001', '0.0000', '0.0000', '0.0000', '0.0001', '0.0000', '0.0000', '0.0000', '0.0001']\n",
      "\n",
      "텍스트: 교수님 평가 어디서 볼 수 있나요? 들을까 말까 고민 중이에요.\n",
      "예측: 학사 ['0.0000', '0.9960', '0.0017', '0.0003', '0.0001', '0.0005', '0.0002', '0.0002', '0.0002', '0.0003', '0.0000', '0.0001', '0.0000', '0.0005']\n",
      "\n",
      "텍스트: 과제 제출 기한 연장 가능한가요? 이번 주 바빠서요.\n",
      "예측: 수업 ['0.0000', '0.0001', '0.0000', '0.0000', '0.9998', '0.0000', '0.0000', '0.0000', '0.0000', '0.0000', '0.0000', '0.0000', '0.0000', '0.0000']\n",
      "\n",
      "텍스트: 시험 범위가 어디까지인가요? 교수님이 안 알려주셔서요.\n",
      "예측: 수업 ['0.0000', '0.0001', '0.0000', '0.0000', '0.9997', '0.0001', '0.0000', '0.0000', '0.0000', '0.0000', '0.0000', '0.0000', '0.0000', '0.0000']\n",
      "\n",
      "텍스트: 수업 시간에 늦게 들어가도 되나요? 늦잠 잤어요.\n",
      "예측: 수업 ['0.0000', '0.0001', '0.0000', '0.0000', '0.9997', '0.0001', '0.0000', '0.0000', '0.0000', '0.0000', '0.0000', '0.0000', '0.0000', '0.0000']\n",
      "\n",
      "텍스트: 물리학 수업 어떻게 생각해? 괜찮은 교수님 있으면 소개해줘.\n",
      "예측: 수업/문과 ['0.0000', '0.0000', '0.0000', '0.0000', '0.0000', '0.0001', '0.9996', '0.0000', '0.0001', '0.0000', '0.0000', '0.0000', '0.0000', '0.0000']\n",
      "\n",
      "텍스트: 이과 수업 중에서 데이터 사이언스 강의 들어본 사람?\n",
      "예측: 수업/문과 ['0.0000', '0.0000', '0.0000', '0.0000', '0.0000', '0.0005', '0.9992', '0.0000', '0.0001', '0.0000', '0.0000', '0.0000', '0.0000', '0.0000']\n",
      "\n",
      "텍스트: 화학 실험 수업 때 필요한 준비물이 뭐가 있어?\n",
      "예측: 수업/이과 ['0.0000', '0.0001', '0.0000', '0.0000', '0.0008', '0.9988', '0.0001', '0.0000', '0.0001', '0.0000', '0.0000', '0.0000', '0.0000', '0.0000']\n",
      "\n",
      "텍스트: 공학과에서 꼭 들어야 할 필수 과목 뭐 있어?\n",
      "예측: 취업 · 진로 ['0.0002', '0.0404', '0.0035', '0.0019', '0.0037', '0.0069', '0.0032', '0.0034', '0.9349', '0.0004', '0.0001', '0.0001', '0.0001', '0.0012']\n",
      "\n",
      "텍스트: 이과 수업 중에서 졸업 후 도움 많이 됐던 거 추천해줘.\n",
      "예측: 수업 ['0.0000', '0.0002', '0.0000', '0.0000', '0.9992', '0.0002', '0.0000', '0.0000', '0.0002', '0.0000', '0.0000', '0.0000', '0.0000', '0.0000']\n",
      "\n",
      "텍스트: 문과 수업 중에서 역사 관련 수업 추천해주세요.\n",
      "예측: 수업/문과 ['0.0000', '0.0000', '0.0000', '0.0000', '0.0000', '0.0001', '0.9996', '0.0000', '0.0001', '0.0000', '0.0000', '0.0000', '0.0000', '0.0000']\n",
      "\n",
      "텍스트: 경제학 기초부터 배울 수 있는 수업 있을까?\n",
      "예측: 수업/문과 ['0.0000', '0.0000', '0.0000', '0.0000', '0.0000', '0.0002', '0.9996', '0.0000', '0.0001', '0.0000', '0.0000', '0.0000', '0.0000', '0.0000']\n",
      "\n",
      "텍스트: 문과 중에서도 문학 수업 좀 알려주세요. 분위기가 궁금해.\n",
      "예측: 수업/문과 ['0.0000', '0.0000', '0.0000', '0.0000', '0.0000', '0.0002', '0.9995', '0.0000', '0.0001', '0.0000', '0.0000', '0.0000', '0.0000', '0.0000']\n",
      "\n",
      "텍스트: 법학 수업 듣는 거 어때? 실제로 도움 되는지 궁금해.\n",
      "예측: 수업/문과 ['0.0000', '0.0000', '0.0000', '0.0001', '0.0001', '0.0002', '0.9993', '0.0000', '0.0001', '0.0000', '0.0000', '0.0000', '0.0000', '0.0000']\n",
      "\n",
      "텍스트: 사회학 수업 중에 어떤 걸 들으면 좋을지 조언 부탁해.\n",
      "예측: 수업/문과 ['0.0000', '0.0000', '0.0000', '0.0000', '0.0000', '0.0001', '0.9996', '0.0000', '0.0001', '0.0000', '0.0000', '0.0000', '0.0000', '0.0000']\n",
      "\n",
      "텍스트: 캠퍼스 내에 숨겨진 맛집 있으면 공유해줘!\n",
      "예측: 음식점 · 카페 ['0.0000', '0.0000', '0.0001', '0.0000', '0.0000', '0.0000', '0.0000', '0.0018', '0.0000', '0.0000', '0.9978', '0.0000', '0.0000', '0.0000']\n",
      "\n",
      "텍스트: 학교 주변에 저렴한 주차장 아는 곳 있어?\n",
      "예측: 캠퍼스 ['0.0000', '0.0000', '0.0002', '0.0000', '0.0000', '0.0000', '0.0000', '0.9993', '0.0000', '0.0001', '0.0001', '0.0000', '0.0000', '0.0001']\n",
      "\n",
      "텍스트: 캠퍼스 안에서 가장 조용한 공부할 장소 추천해주세요.\n",
      "예측: 캠퍼스 ['0.0000', '0.0000', '0.0001', '0.0001', '0.0000', '0.0000', '0.0000', '0.9995', '0.0000', '0.0001', '0.0000', '0.0000', '0.0000', '0.0001']\n",
      "\n",
      "텍스트: 기숙사 생활하면서 알게 된 꿀팁 있어?\n",
      "예측: 캠퍼스 ['0.0001', '0.0001', '0.0014', '0.0002', '0.0001', '0.0001', '0.0000', '0.9941', '0.0004', '0.0022', '0.0001', '0.0001', '0.0001', '0.0008']\n",
      "\n",
      "텍스트: 학교에서 제공하는 심리 상담 서비스가 어떤 것들이 있나요?\n",
      "예측: 수업/문과 ['0.0004', '0.0031', '0.0217', '0.0020', '0.0011', '0.0112', '0.8935', '0.0431', '0.0162', '0.0021', '0.0017', '0.0012', '0.0005', '0.0023']\n",
      "\n",
      "텍스트: 취업 준비하면서 가장 중요하게 생각해야 할 것 뭐라고 생각해?\n",
      "예측: 취업 · 진로 ['0.0000', '0.0000', '0.0000', '0.0000', '0.0000', '0.0000', '0.0000', '0.0000', '0.9998', '0.0000', '0.0000', '0.0000', '0.0000', '0.0000']\n",
      "\n",
      "텍스트: 인턴 경험이 취업에 도움이 많이 되나요? 경험 공유 부탁해.\n",
      "예측: 취업 · 진로 ['0.0000', '0.0000', '0.0000', '0.0000', '0.0000', '0.0000', '0.0000', '0.0000', '0.9998', '0.0000', '0.0000', '0.0000', '0.0000', '0.0000']\n",
      "\n",
      "텍스트: 취업 스터디 그룹 있으면 소개 좀 해줘. 참여하고 싶어.\n",
      "예측: 취업 · 진로 ['0.0000', '0.0001', '0.0001', '0.0002', '0.0000', '0.0001', '0.0001', '0.0001', '0.9991', '0.0001', '0.0000', '0.0000', '0.0000', '0.0001']\n",
      "\n",
      "텍스트: 대외활동하면서 느낀 점이나 팁 있으면 공유해줘.\n",
      "예측: 취업 · 진로 ['0.0013', '0.0049', '0.0022', '0.0019', '0.0040', '0.0777', '0.1566', '0.0037', '0.6948', '0.0214', '0.0017', '0.0229', '0.0044', '0.0027']\n",
      "\n",
      "텍스트: 자격증 필요성에 대해 어떻게 생각해? 진짜 필요한 건지 궁금해.\n",
      "예측: 취업 · 진로 ['0.0000', '0.0001', '0.0000', '0.0000', '0.0001', '0.0002', '0.0001', '0.0002', '0.9991', '0.0000', '0.0000', '0.0000', '0.0000', '0.0000']\n",
      "\n",
      "텍스트: 아르바이트 하면서 학교 생활 병행하는 팁 있어?\n",
      "예측: 일상생활 ['0.0005', '0.0034', '0.0485', '0.0001', '0.0002', '0.0009', '0.0003', '0.0196', '0.0236', '0.8791', '0.0028', '0.0022', '0.0055', '0.0132']\n",
      "\n",
      "텍스트: 건강 관리 어떻게 하고 있어? 학교 생활하면서 힘든데.\n",
      "예측: 장학 · 행정 ['0.0022', '0.0157', '0.4245', '0.0011', '0.0219', '0.0057', '0.0006', '0.0937', '0.0147', '0.0590', '0.0009', '0.0011', '0.0025', '0.3566']\n",
      "\n",
      "텍스트: 자취하는데 요리 쉽고 간단한 거 추천해줘.\n",
      "예측: 일상생활 ['0.0019', '0.0030', '0.0101', '0.0005', '0.0010', '0.0065', '0.0017', '0.0186', '0.0960', '0.6319', '0.1694', '0.0317', '0.0214', '0.0065']\n",
      "\n",
      "텍스트: 일상생활에서 스트레스 관리하는 방법 공유해줘.\n",
      "예측: 취업 · 진로 ['0.0011', '0.0039', '0.0020', '0.0005', '0.0010', '0.0067', '0.0031', '0.0118', '0.5040', '0.4219', '0.0015', '0.0289', '0.0074', '0.0064']\n",
      "\n",
      "텍스트: 대학 생활하면서 가장 필요한 물건이 뭐라고 생각해?\n",
      "예측: 취업 · 진로 ['0.0002', '0.0024', '0.0011', '0.0003', '0.0282', '0.0112', '0.0013', '0.0012', '0.8975', '0.0056', '0.0002', '0.0002', '0.0014', '0.0492']\n",
      "\n",
      "텍스트: 캠퍼스 내에서 가장 맛있는 커피 파는 카페 어디야?\n",
      "예측: 음식점 · 카페 ['0.0000', '0.0000', '0.0001', '0.0000', '0.0000', '0.0000', '0.0000', '0.0018', '0.0000', '0.0000', '0.9979', '0.0000', '0.0000', '0.0000']\n",
      "\n",
      "텍스트: 학교 근처 맛집 리스트 좀 알려줄 수 있어?\n",
      "예측: 음식점 · 카페 ['0.0000', '0.0000', '0.0001', '0.0000', '0.0000', '0.0000', '0.0000', '0.0015', '0.0000', '0.0000', '0.9980', '0.0000', '0.0000', '0.0000']\n",
      "\n",
      "텍스트: 점심 뭐 먹을지 추천해줄 수 있어? 학교 주변에서.\n",
      "예측: 음식점 · 카페 ['0.0002', '0.0001', '0.0026', '0.0004', '0.0001', '0.0002', '0.0002', '0.0228', '0.0001', '0.0003', '0.9721', '0.0003', '0.0001', '0.0002']\n",
      "\n",
      "텍스트: 카페에서 공부하기 좋은 자리 어디에 있는지 알려줘.\n",
      "예측: 캠퍼스 ['0.0000', '0.0000', '0.0001', '0.0000', '0.0000', '0.0000', '0.0000', '0.9995', '0.0000', '0.0001', '0.0001', '0.0000', '0.0000', '0.0001']\n",
      "\n",
      "텍스트: 새로 생긴 학교 근처 배달 음식점 어떤 게 있어?\n",
      "예측: 음식점 · 카페 ['0.0000', '0.0000', '0.0000', '0.0000', '0.0000', '0.0000', '0.0000', '0.0012', '0.0000', '0.0000', '0.9985', '0.0000', '0.0000', '0.0000']\n",
      "\n",
      "텍스트: 주말에 가볼만한 근처 여행지 추천해줘.\n",
      "예측: 음식점 · 카페 ['0.0002', '0.0000', '0.0001', '0.0002', '0.0001', '0.0001', '0.0001', '0.0033', '0.0001', '0.0003', '0.9922', '0.0031', '0.0002', '0.0001']\n",
      "\n",
      "텍스트: 게임 좋아하는 사람들 모여서 같이 할래? 같이 게임하자!\n",
      "예측: 취미 · 여가 ['0.0005', '0.0000', '0.0000', '0.0003', '0.0000', '0.0000', '0.0000', '0.0001', '0.0000', '0.0001', '0.0001', '0.9987', '0.0001', '0.0000']\n",
      "\n",
      "텍스트: 영화 보러 갈 사람 구해. 같이 볼 사람?\n",
      "예측: 취미 · 여가 ['0.0003', '0.0000', '0.0000', '0.0001', '0.0000', '0.0000', '0.0000', '0.0001', '0.0000', '0.0001', '0.0001', '0.9992', '0.0000', '0.0000']\n",
      "\n",
      "텍스트: 운동 시작하려고 하는데 좋은 운동 추천해줘.\n",
      "예측: 취미 · 여가 ['0.0003', '0.0000', '0.0001', '0.0002', '0.0000', '0.0001', '0.0000', '0.0002', '0.0003', '0.0005', '0.0001', '0.9979', '0.0002', '0.0001']\n",
      "\n",
      "텍스트: 요리 배우고 싶은데 좋은 클래스 있으면 추천해줘.\n",
      "예측: 음식점 · 카페 ['0.0034', '0.0015', '0.0079', '0.0033', '0.0010', '0.0163', '0.0569', '0.0630', '0.0155', '0.0095', '0.6402', '0.1771', '0.0031', '0.0014']\n",
      "\n",
      "텍스트: 친구 사귀기 어려운 거 같아. 대학교에서 친구 어떻게 사귀어?\n",
      "예측: 인간관계 ['0.0000', '0.0000', '0.0000', '0.0000', '0.0000', '0.0000', '0.0000', '0.0000', '0.0000', '0.0000', '0.0000', '0.0000', '0.9998', '0.0000']\n",
      "\n",
      "텍스트: 선후배 관계에서 유의해야 할 점이 뭐가 있을까?\n",
      "예측: 취업 · 진로 ['0.0004', '0.0019', '0.0005', '0.0007', '0.0454', '0.0021', '0.0005', '0.0050', '0.5050', '0.0007', '0.0010', '0.0005', '0.4349', '0.0014']\n",
      "\n",
      "텍스트: 연애하고 싶은데 대학에서 어떻게 시작해야 할지 모르겠어.\n",
      "예측: 인간관계 ['0.0000', '0.0000', '0.0000', '0.0000', '0.0000', '0.0000', '0.0000', '0.0000', '0.0000', '0.0000', '0.0000', '0.0000', '0.9998', '0.0000']\n",
      "\n",
      "텍스트: 성격 개선하고 싶은데, 어떻게 시작하는 게 좋을까?\n",
      "예측: 인간관계 ['0.0000', '0.0000', '0.0000', '0.0000', '0.0001', '0.0000', '0.0000', '0.0000', '0.0001', '0.0000', '0.0000', '0.0000', '0.9995', '0.0001']\n",
      "\n",
      "텍스트: 대인관계에서 겪는 어려움 어떻게 해결하고 있어?\n",
      "예측: 인간관계 ['0.0000', '0.0000', '0.0000', '0.0000', '0.0000', '0.0000', '0.0000', '0.0000', '0.0001', '0.0000', '0.0000', '0.0000', '0.9996', '0.0001']\n",
      "\n",
      "텍스트: 군대 가기 전에 준비할 것들 리스트 좀 주세요.\n",
      "예측: 병역 ['0.0000', '0.0000', '0.0000', '0.0000', '0.0000', '0.0000', '0.0000', '0.0000', '0.0000', '0.0000', '0.0000', '0.0000', '0.0000', '0.9998']\n",
      "\n",
      "텍스트: 입대 후에 학교는 어떻게 되나요? 복학은 어떻게 하죠?\n",
      "예측: 병역 ['0.0000', '0.0000', '0.0000', '0.0000', '0.0000', '0.0000', '0.0000', '0.0000', '0.0000', '0.0000', '0.0000', '0.0000', '0.0000', '0.9997']\n",
      "\n",
      "텍스트: 군 생활에서 꼭 알아야 할 팁 있으면 공유해주세요.\n",
      "예측: 병역 ['0.0000', '0.0001', '0.0003', '0.0000', '0.0001', '0.0001', '0.0000', '0.0002', '0.0001', '0.0001', '0.0000', '0.0000', '0.0000', '0.9987']\n",
      "\n",
      "텍스트: 예비군 훈련은 어떻게 진행되나요? 준비물은 뭐가 필요하죠?\n",
      "예측: 병역 ['0.0000', '0.0000', '0.0000', '0.0000', '0.0000', '0.0000', '0.0000', '0.0000', '0.0000', '0.0000', '0.0000', '0.0000', '0.0000', '0.9998']\n",
      "\n",
      "텍스트: 대체 복무 관련해서 궁금한 점이 많습니다. 자세히 설명해주실 수 있나요?\n",
      "예측: 병역 ['0.0000', '0.0005', '0.0004', '0.0003', '0.0002', '0.0004', '0.0001', '0.0004', '0.0002', '0.0004', '0.0000', '0.0001', '0.0000', '0.9970']\n",
      "\n"
     ]
    }
   ],
   "source": [
    "# 평가\n",
    "\n",
    "print(f'Best model path: {best_model_path}')\n",
    "print()\n",
    "\n",
    "model = AutoModelForSequenceClassification.from_pretrained(best_model_path, num_labels=NUM_LABELS)\n",
    "model.to(device)\n",
    "\n",
    "predictions = [\n",
    "    # 자유\n",
    "    'ㅋㅋㅋㅋㅋㅋㅋㅋ 이거 존나 웃기네',\n",
    "    '아무 주제나 올려도 되는 건가요? 규칙 같은 건 없어?',\n",
    "    '자유 게시판이랑 일반 게시판이랑 뭐가 다른거야?',\n",
    "    '학교 관련된 거 말고도 여기다 글 써도 돼?',\n",
    "    '자유 주제로 올릴 만한 게시글 추천해 줄 수 있어?',\n",
    "\n",
    "    # 학사\n",
    "    '내일까지 드랍 가능한가요? 아직 고민 중인데 말이죠.',\n",
    "    '학점 이렇게 가져가도 졸업할 수 있나요? 상담 좀 해주세요.',\n",
    "    '복수전공 하고 싶은데 어떻게 신청해야 하죠?',\n",
    "    '이번 학기 시험 기간이 언제인지 알려주세요.',\n",
    "    '학사 경고 받으면 어떻게 되나요? 대책 좀 세워주세요.',\n",
    "\n",
    "    # 장학 · 행정\n",
    "    '장학금 신청은 언제까지인가요? 놓치기 싫어서요.',\n",
    "    '학자금 대출 신청 방법 좀 알려주세요. 처음이라서 모르겠네요.',\n",
    "    '증명서 발급은 어디서 하나요? 빨리 뽑아야 하는데.',\n",
    "    '교환학생 프로그램 정보 좀 주세요. 어디서 볼 수 있나요?',\n",
    "    '학적 변경은 어떻게 하는 건가요? 절차를 몰라서요.',\n",
    "\n",
    "    # 학교생활\n",
    "    '동아리 언제 가입할 수 있어요? 종류도 많던데 추천 좀.',\n",
    "    '학교 축제 언제 열리나요? 라인업 알려주세요.',\n",
    "    '대학교 내에서 봉사활동 할 수 있는 곳 있나요?',\n",
    "    '학생회 행사 계획이 궁금해요. 어디서 정보를 얻을 수 있죠?',\n",
    "    '경험 공유하고 싶은데, 여기다 써도 되나요?',\n",
    "\n",
    "    # 수업\n",
    "    '이번 학기 추천 교양 과목 있어요? 뭘 들을지 고민 중입니다.',\n",
    "    '교수님 평가 어디서 볼 수 있나요? 들을까 말까 고민 중이에요.',\n",
    "    '과제 제출 기한 연장 가능한가요? 이번 주 바빠서요.',\n",
    "    '시험 범위가 어디까지인가요? 교수님이 안 알려주셔서요.',\n",
    "    '수업 시간에 늦게 들어가도 되나요? 늦잠 잤어요.',\n",
    "\n",
    "    # 수업/이과\n",
    "    '물리학 수업 어떻게 생각해? 괜찮은 교수님 있으면 소개해줘.',\n",
    "    '이과 수업 중에서 데이터 사이언스 강의 들어본 사람?',\n",
    "    '화학 실험 수업 때 필요한 준비물이 뭐가 있어?',\n",
    "    '공학과에서 꼭 들어야 할 필수 과목 뭐 있어?',\n",
    "    '이과 수업 중에서 졸업 후 도움 많이 됐던 거 추천해줘.',\n",
    "\n",
    "    # 수업/문과\n",
    "    '문과 수업 중에서 역사 관련 수업 추천해주세요.',\n",
    "    '경제학 기초부터 배울 수 있는 수업 있을까?',\n",
    "    '문과 중에서도 문학 수업 좀 알려주세요. 분위기가 궁금해.',\n",
    "    '법학 수업 듣는 거 어때? 실제로 도움 되는지 궁금해.',\n",
    "    '사회학 수업 중에 어떤 걸 들으면 좋을지 조언 부탁해.',\n",
    "\n",
    "    # 캠퍼스\n",
    "    '캠퍼스 내에 숨겨진 맛집 있으면 공유해줘!',\n",
    "    '학교 주변에 저렴한 주차장 아는 곳 있어?',\n",
    "    '캠퍼스 안에서 가장 조용한 공부할 장소 추천해주세요.',\n",
    "    '기숙사 생활하면서 알게 된 꿀팁 있어?',\n",
    "    '학교에서 제공하는 심리 상담 서비스가 어떤 것들이 있나요?',\n",
    "\n",
    "    # 취업 · 진로\n",
    "    '취업 준비하면서 가장 중요하게 생각해야 할 것 뭐라고 생각해?',\n",
    "    '인턴 경험이 취업에 도움이 많이 되나요? 경험 공유 부탁해.',\n",
    "    '취업 스터디 그룹 있으면 소개 좀 해줘. 참여하고 싶어.',\n",
    "    '대외활동하면서 느낀 점이나 팁 있으면 공유해줘.',\n",
    "    '자격증 필요성에 대해 어떻게 생각해? 진짜 필요한 건지 궁금해.',\n",
    "\n",
    "    # 일상생활\n",
    "    '아르바이트 하면서 학교 생활 병행하는 팁 있어?',\n",
    "    '건강 관리 어떻게 하고 있어? 학교 생활하면서 힘든데.',\n",
    "    '자취하는데 요리 쉽고 간단한 거 추천해줘.',\n",
    "    '일상생활에서 스트레스 관리하는 방법 공유해줘.',\n",
    "    '대학 생활하면서 가장 필요한 물건이 뭐라고 생각해?',\n",
    "\n",
    "    # 음식점 · 카페\n",
    "    '캠퍼스 내에서 가장 맛있는 커피 파는 카페 어디야?',\n",
    "    '학교 근처 맛집 리스트 좀 알려줄 수 있어?',\n",
    "    '점심 뭐 먹을지 추천해줄 수 있어? 학교 주변에서.',\n",
    "    '카페에서 공부하기 좋은 자리 어디에 있는지 알려줘.',\n",
    "    '새로 생긴 학교 근처 배달 음식점 어떤 게 있어?',\n",
    "\n",
    "    # 취미 · 여가\n",
    "    '주말에 가볼만한 근처 여행지 추천해줘.',\n",
    "    '게임 좋아하는 사람들 모여서 같이 할래? 같이 게임하자!',\n",
    "    '영화 보러 갈 사람 구해. 같이 볼 사람?',\n",
    "    '운동 시작하려고 하는데 좋은 운동 추천해줘.',\n",
    "    '요리 배우고 싶은데 좋은 클래스 있으면 추천해줘.',\n",
    "\n",
    "    # 인간관계\n",
    "    '친구 사귀기 어려운 거 같아. 대학교에서 친구 어떻게 사귀어?',\n",
    "    '선후배 관계에서 유의해야 할 점이 뭐가 있을까?',\n",
    "    '연애하고 싶은데 대학에서 어떻게 시작해야 할지 모르겠어.',\n",
    "    '성격 개선하고 싶은데, 어떻게 시작하는 게 좋을까?',\n",
    "    '대인관계에서 겪는 어려움 어떻게 해결하고 있어?',\n",
    "\n",
    "    # 병역\n",
    "    '군대 가기 전에 준비할 것들 리스트 좀 주세요.',\n",
    "    '입대 후에 학교는 어떻게 되나요? 복학은 어떻게 하죠?',\n",
    "    '군 생활에서 꼭 알아야 할 팁 있으면 공유해주세요.',\n",
    "    '예비군 훈련은 어떻게 진행되나요? 준비물은 뭐가 필요하죠?',\n",
    "    '대체 복무 관련해서 궁금한 점이 많습니다. 자세히 설명해주실 수 있나요?'\n",
    "]\n",
    "\n",
    "encodings = tokenizer(\n",
    "    predictions,\n",
    "    padding=True,\n",
    "    truncation=True,\n",
    "    return_tensors='pt',\n",
    "    max_length=MAX_LENGTH\n",
    ")\n",
    "input_ids = encodings['input_ids'].to(device)\n",
    "attention_mask = encodings['attention_mask'].to(device)\n",
    "\n",
    "with torch.no_grad():\n",
    "    outputs = model(input_ids, attention_mask=attention_mask)\n",
    "    logits = outputs.logits\n",
    "    probabilities = torch.softmax(logits, dim=1)\n",
    "    predicted_labels = torch.argmax(logits, dim=1).tolist()\n",
    "\n",
    "for text, label, probs in zip(predictions, predicted_labels, probabilities.tolist()):\n",
    "    predicted_category = CATEGORIES[label]\n",
    "    probs_formatted = [f\"{prob:.4f}\" for prob in probs]\n",
    "    print(f'텍스트: {text}')\n",
    "    print(f'예측: {predicted_category} {probs_formatted}')\n",
    "    print()"
   ]
  }
 ],
 "metadata": {
  "kernelspec": {
   "display_name": "Python 3",
   "language": "python",
   "name": "python3"
  },
  "language_info": {
   "codemirror_mode": {
    "name": "ipython",
    "version": 3
   },
   "file_extension": ".py",
   "mimetype": "text/x-python",
   "name": "python",
   "nbconvert_exporter": "python",
   "pygments_lexer": "ipython3",
   "version": "3.10.12"
  }
 },
 "nbformat": 4,
 "nbformat_minor": 2
}

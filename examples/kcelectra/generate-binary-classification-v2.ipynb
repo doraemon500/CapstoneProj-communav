{
 "cells": [
  {
   "cell_type": "code",
   "execution_count": 19,
   "metadata": {},
   "outputs": [],
   "source": [
    "# 다른 경로에 있는 모듈을 가져오기 위해 절대 경로 추가\n",
    "\n",
    "import os\n",
    "import sys\n",
    "\n",
    "root = os.path.join(os.path.abspath(os.getcwd()), '..', '..')\n",
    "root = os.path.normpath(root)\n",
    "\n",
    "if root not in sys.path:\n",
    "    sys.path.insert(0, root)"
   ]
  },
  {
   "cell_type": "code",
   "execution_count": 20,
   "metadata": {},
   "outputs": [],
   "source": [
    "# 필요한 라이브러리 로드\n",
    "\n",
    "import json\n",
    "import matplotlib.pyplot as plt\n",
    "import pandas as pd\n",
    "import torch\n",
    "from communav.utils import db\n",
    "from sklearn.metrics import accuracy_score, fbeta_score, precision_score, recall_score\n",
    "from sklearn.model_selection import train_test_split\n",
    "from tqdm import tqdm\n",
    "from transformers import AutoModelForSequenceClassification, AutoTokenizer, get_linear_schedule_with_warmup"
   ]
  },
  {
   "cell_type": "code",
   "execution_count": 21,
   "metadata": {},
   "outputs": [],
   "source": [
    "# 카테고리 정의\n",
    "\n",
    "CATEGORIES = {\n",
    "    1: '질문 · 답변',\n",
    "    2: '학사 · 졸업',\n",
    "    3: '장학 · 행정',\n",
    "    4: '학교생활',\n",
    "    5: '수업/이과',\n",
    "    6: '수업/문과',\n",
    "    7: '캠퍼스',\n",
    "    8: '일상생활',\n",
    "    9: '취미 · 여가',\n",
    "    10: '인간관계',\n",
    "    11: '취업 · 진로',\n",
    "}"
   ]
  },
  {
   "cell_type": "code",
   "execution_count": 22,
   "metadata": {},
   "outputs": [],
   "source": [
    "# 파라미터 설정\n",
    "\n",
    "MODEL_ID = 'beomi/KcELECTRA-base-v2022'\n",
    "MAX_LENGTH = 128\n",
    "F_BETA = 0.5\n",
    "BATCH_SIZE = 32\n",
    "EPOCHS = 50\n",
    "LEARNING_RATE = 2e-5\n",
    "TARGET_CATEGORY = 7\n",
    "ITERATION = 10\n",
    "SAVE_PATH = '.'"
   ]
  },
  {
   "cell_type": "code",
   "execution_count": 23,
   "metadata": {},
   "outputs": [
    {
     "name": "stdout",
     "output_type": "stream",
     "text": [
      "Connected to DB successfully.\n",
      "Loaded 2392 articles.\n"
     ]
    }
   ],
   "source": [
    "# 커뮤니티 게시글 데이터 로드\n",
    "\n",
    "connection = db.get_connection()\n",
    "cursor = connection.cursor()\n",
    "\n",
    "cursor.execute('''\n",
    "    SELECT\n",
    "        articles.id,\n",
    "        articles.title,\n",
    "        articles.text,\n",
    "        labels.category_ids\n",
    "    FROM everytime_original_articles articles\n",
    "    JOIN everytime_article_labels labels ON articles.id = labels.article_id\n",
    "''')\n",
    "original_articles = cursor.fetchall()\n",
    "print(f'Loaded {len(original_articles)} articles.')\n",
    "\n",
    "cursor.close()\n",
    "db.close_connection()"
   ]
  },
  {
   "cell_type": "code",
   "execution_count": 24,
   "metadata": {},
   "outputs": [
    {
     "name": "stdout",
     "output_type": "stream",
     "text": [
      "{'id': 100245988, 'title': '장학금 관련해서..', 'text': '성적장학금 + 한울장학금 가능한지 궁금합니다..', 'category_ids': '[1, 3]'}\n",
      "{'id': 100634300, 'title': '배고파 집에가서', 'text': '진짬뽕에 밥 말아먹어야지 히힣', 'category_ids': '[]'}\n",
      "{'id': 100656956, 'title': '부산 + 용인까지 의심 환자 발생', 'text': '평택시는 난리남.\\n부산에서도..\\n근데 이상한건 용인인데.\\n그 분은 중국 갔다온사람 아니라던데?\\n뭐냐 진짜..', 'category_ids': '[]'}\n",
      "{'id': 100682214, 'title': '신종 코로나바이러스(2019-nCoV) 감염증 대처 방법', 'text': \"원문은 의과교수 펨붕이가 펨코에 쓴 것. 지금도 질문받는듯.\\n \\n==========================================\\n최근 우한에서 발생한 신종 코로나바이러스(2019-nCoV) 감염증으로 인해서 많은 우려를 가지고 계실 듯합니다. \\n여러 인터넷 커뮤니티에서 많은 정보들이 돌아다니고, 이로 인해 혼란이 가중되는 모습을 연휴 동안 지켜보았습니다. \\n \\n저는 예방의학전문의로 현재 의과대학에서 교수로 일하고 있습니다. 감염내과 전공은 아니지만, 2015년부터 신종 감염병과 관련된 여러 경험이 있고, 메르스, 지카바이러스 감염증 등 신종감염병 유입 사례에서 정부 내에서 역학조사팀장으로도 일했습니다. 이후 여러 감염병과 관련된 학술적인 작업을 하고 있습니다.\\n \\n개인적으로는 다행히도 재작년에 교직으로 옮기면서 현장 대응과는 거리가 멀어졌지만, 여러분들에게 정확한 정보를 알려드리고, 위험 의사소통(Risk communication)을 적극적으로 수행하는 것이 얼마나 중요한지 잘 알고 있어서 현장에서 고생하시는 분들을 대신해서 소통에 나서게 되었습니다. 현재 이러한 업무를 수행하실 수 있는 능력을 가지신 훌륭한 분들께서는 대부분 현장에서 나가 계셔서 저처럼 자리에 앉아 있으실 수 없을듯 합니다. \\n \\n 1. 신종 코로나 바이러스 감염증에 대해서 궁금하신 것이 있으시면 무엇이든 질문해주세요. 적극적으로 정보를 찾아서 제공해드리겠습니다. 어떠한 질문이든 관계없습니다. : 제가 2군데 사이트에서 모은 질문들을 정리해서 아래에 작성했습니다. 자유롭게 퍼가셔도 됩니다. \\n \\n2. 많은 분들이 질문하시는 것들에 대해서는 FAQ 형태로 정리해서 올려드리겠습니다. : 정리해서 올려드렸고, 추가 답변은 어렵습니다. \\n \\n 3. 현재 나무위키에서 정보에 대한 정리가 진행되고 있습니다. 현황은 나무위키를 보시는 것도 도움이 될 듯합니다. 저와 여러명의 전문의들이 모니터링을 하고 있고, 사실에 부합하지 않는 정보에 대해서는 적극적으로 참여하겠습니다.  \\n \\n4. 많은 공무원과 감염병 전문가가 연휴에서 쉬지않고 일하고 있습니다. 그들에게 응원을 보내주세요. \\n \\n================================================================================\\n \\n \\nFAQ (자주 묻는 질문과 답변)\\n \\n최대한 의학용어를 배제하고 평이하게 기술했습니다. 다른 전문가가 계실 경우 수정해주셔도 좋습니다. \\n \\n1. 신종코로나바이러스 감염증의 주된 감염경로가 무엇인가요?\\n \\n이번 바이러스 감염은 비말감염이 주요한 경로로 알려져있습니다. 일반 감기와 감염경로가 비슷합니다. 바이러스에 감염된 사람의 폐에서 바이러스가 증식하고, 이것이 기도로 나와서 가래나 침이되고, 기침이나 재채기, 콧물 등을 통해서 외부로 나옵니다. \\n \\n이것이 다른 사람의 호흡기나, 점막 등에 묻어서 전파가 이루어집니다. 다른 사람에게 묻는 경로는 직접 침이나 가래가 튀거나, 가래나 침이 튄 물건 등을 다른 사람이 손으로 잡고, 그것이 다시 입이나 코로 들어갈 경우가 대부분입니다. \\n \\n따라서 '마스크 착용', '손씻기'가 가장 중요한 예방방법이됩니다. \\n \\n1-1. 결막, 안구, 눈을 통해서 감염이 된다는데 걱정이 됩니다. \\n \\n 눈으로 직접 침이나 가래가 튀어서 감염된 것으로 의심되는 사례가 있었습니다. 대부분의 호흡기 감염병이 눈의 결막을 통해서도 감염이 이루어질 수 있습니다.(수정) (이번 코로나 바이러스에서 조금 더 심할 수 있다고 합니다. ) 이는 마스크의 착용을 더 강조하는 의미가 있는데, 마스크는 자신을 보호하는 의미도 있지만, 타인을 보호하는 의미도 있습니다. 자신의 기침이나 재채기로 다른사람에게 침, 가래가 튀는 것을 막아줘야합니다. \\n \\n또한 자주 손을 씻어서 손에 묻은 바이러스가 눈으로 들어가는 것을 막아야하며, 가급적 눈을 손으로 비비지 않아야합니다. 이는 모든 감염병에서 동일합니다. \\n \\n 하지만 보안경 착용 등은 권장되지 않는데, 잘 관리하기도 어렵고, 오랫동안 착용하기도 힘들고, 감염 가능성도 일반적인 경로보다 떨어지기 때문에, 불편을 감수할 정도가 되지 못하기 때문입니다. \\n \\n2. 무증상인 상태에서 전파시키는 경우가 있다는데 이것은 어떤 것인가요?\\n \\n 이번 감염병 방역의 대전제는 무증상인 감염자는 다른 사람을 감염시키는 능력이 매우 낮거나, 떨어진다는 것입니다. 즉 잠복기가 지나서 증상이 있는 사람만이 다른 사람을 감염시킬 수 있다는 것인데, 무증상인 상태에서 다른 사람을 감염시키는 감염인이 있는 경우 방역이 더 어려워지기 때문에, 많은 우려와 경고가 있습니다. 그러나 현재까지 무증상 상태에서 감염이 이루어진다는 근거는 매우 미약하며, 의학적으로도 설득력이 떨어집니다. 다른 사람을 감염시킬 정도로 체내에서 바이러스가 증식되는 경우는 필연적으로 발열이 있거나, 다른 증상이 생길 것이기 때문입니다. 현재 알려진 사례의 대부분은 증상이 매우 경미하여서 본인이 인지하지 못한 경우일 것으로 판단됩니다. 그럼에도 불구하고 미열 등은 본인이 인지하기 어렵기 떄문에, 체온 측정 등이 중요합니다. \\n \\n3. 우리는 당장 무엇을 할 수 있을까요?\\n \\n마스크 착용과 자주 손씻기, 사람이 많은 곳은 피하기 이것이 전부입니다. 이 이상의 방법도 없고, 마스크착용과 손씻기 만으로도 대부분의 호흡기 감염병은 막을 수 있습니다. \\n \\n3-1. 카페 등에서 접객을 하고 있습니다. 어떻게 해야할 까요?\\n \\n우리나라 풍토에서는 카페 등에서 접객을 하실 경우 마스크 착용이 어렵습니다. 최대한 카운터와 손님사이의 거리를 멀게 하시고, 자주 손을 씻으세요. 손님도 주문하실때 기침예절, 마스크 착용등을 해주시면 정말 감사하겠습니다. \\n \\n4. 손씻기와 마스크 쓰기 얼마나 중요한가요?\\n \\n너무나 중요합니다. 두가지만 잘지키셔도 이번 상황은 거의 걱정하지 않으셔도 됩니다.\\n \\n4.1 마스크는 무엇을 써야하나요?\\n \\n어떠한 종류의 마스크도 도움이 됩니다. N95 등의 의료용 마스크는 올바른 착용도 어렵고, 내구성도 떨어져서 KF94 정도의 마스크면 충분합니다. 또한 마스크는 소모품입니다. 빨아서 사용하시면 안되고, 최소한 3일 사이에는 교체해주세요. 교체 주기는 명확하지 않습니다만 자주 갈아주실 수록 좋습니다. \\n \\n마스크는 코와 입이 완전히 가려지셔야합니다. 천마스크, 황사용마스크 등도 어느정도 효과가 있습니다. 무엇이든지 착용하세요. \\n \\n4.2 손씻기는 어떻게 해야하나요?\\n \\n반드시 손세정제를 사용할 필요는 없습니다. 밖을 다녀오실 경우 손을 씻으시고, 비누를 이용해서 구석구석 씻어주세요. 가급적 건조기를 사용하시고, 1회용 핸드타월을 사용하세요. 손은 자주 씻으실 수록 좋습니다. \\n \\n4.3 손 세정제는 어떤것을 사용하나요?\\n \\n손 세정제는 메이커보다 유효기간이 중요합니다. 새로 구입한 것을 사용하세요.\\n \\n4.4 가정내 소독제로는 무엇을 사용하나요?\\n \\n가정용 락스를 1:10정도로 희석한 것을 사용하셔도 됩니다. 비싼 전문 소독제나, 에탄올등은 쓰셔도 무방하지만 큰 차이가 있지 않습니다. \\n \\n5. 해외여행 다녀와도 되나요?\\n \\n현재까지 상황으로 중국을 제외한 다른 국가에서 지역사회 유행이 발생했다는 근거는 없습니다. 개인 위생에 주의하셔서 다녀오셔도 됩니다만, 몇개월뒤 일까지 예측하기는 어렵습니다. \\n \\n6. 감기에 걸리면 코로나 바이러스에 대한 면역도 생기는 것인가요?\\n \\n 아닙니다. 새로운 종류의 바이러스이기 떄문에 문제가 되는 것이고, 주의하셔야하는 것입니다.\\n \\n7. 인플루엔자 등 백신 접종해도 되나요?\\n \\n 인플루엔자 백신은 인플루엔자로 인한 오인을 줄여주는 효과도 있으며, 현재까지 우리나라는 신종코로나바이러스 감염보다 인플루엔자감염이 더욱 무섭습니다. 모든 백신은 걱정없이 진행하시면 됩니다. \\n \\n8. 전세기로 들어오는 교민들이 걱정됩니다.\\n \\n 교민들은 증상이 없는 분만 탑승하신다고 하며, 도착 후 지정 장소에 격리되셔서 검사를 진행하신다고 합니다. 물론 확진자가 발생할 수 있지만 잘 관리될 경우 위험은 매우 낮을 것으로 생각됩니다. \\n \\n9. 직장, 집에서 일하는 중국인이 걱정됩니다.\\n \\n 1월 20일 이전 중국을 다녀오시지않은 중국분들은 우리나라 국민과 동일한 위험을 가집니다. 전혀 걱정하지 않으셔도됩니다.  \\n \\n10. 우한 폐렴을 우한폐렴이라고 왜 말하지 못하고 신종 코로나바이러스 감염증이라고 하나요?\\n \\n학술적으로 특정 지역명을 칭하는 병명은 지양하는 추세입니다. 바이러스 명도 지금은 신종 코로나라고 부르지만 사태가 종결된 후에는 다른 명칭이 부여될 것입니다. \\n \\n11. 치료가 되어도 폐손상이 일어난다는데 정말인가요?\\n \\n어떠한 종류의 폐렴도 후유증이 생길 수 있습니다. 현재 신종코로나바이러스로 인한 폐렴도 폐손상이 일어난다는 보고가 있지만, 다른 폐렴에 비해서 더 발생률이 높다는 근거는 없습니다. \\n \\n12. 언제쯤 이사태가 진정될까요?\\n \\n예상이 매우 어렵고 중국 정부의 대응에 모든 것이 달려있습니다. 전해오는 정보로는 중국이 매우 강력한 국내 조치를 취하고 있는 것으로 알고 있습니다. 이것이 효과가 있을 경우 3~4달 후에는 사태가 진정될 수 있을 것으로 예상됩니다만, 매우 예상이 어렵습니다. \\n \\n13. 사망률, 치명률, 회복률 등등은 어떻게 되나요?\\n \\n이러한 정보는 이번 유행이 모두 끝나야지만 정확하게 알 수 있습니다. 현재까지 나오는 정보는 부정확합니다. 그러나 제한적인 근거로 치명률은 메르스나 사스보다는 낮을 것으로 예상되며, 기초감염재생산수(감염력)은 메르스나 사스보다 높은 것으로 예상됩니다. \\n \\n14. 현재 영국 등에서 감염자가 수십만에 이를것이라는 말이 나오는데 사실인가요?\\n \\n사실일 수도 있고, 아닐 수도 있습니다. 외국의 학자들이 추산한 수치는 수학적인 방법을 통해서 예측한 수로 최소값과 최대값이 신뢰구간으로 제시되어있습니다. 여기에서 가장 높은 값으로 예상되는 것이 수십만으로 판단됩니다. 하지만 이러한 예상도 벌써 1주일정도 지나간 상황이기 때문에 정확한 감염자를 추산하는 것은 거의 불가능합니다. 또한 확진자는 검사결과가 나와야하는데, 중국의 검사실이 이러한 검사를 수행하기에 힘이 부칠 수 있습니다. \\n \\n15. 백신과 치료제 개발은 언제 가능한가요?\\n \\n코로나 바이러스의 백신과 치료제 개발은 매우 어려운 것으로 알려져있습니다. 수개월 내 백신과 치료제가 생산될 가능성은 낮습니다. \\n \\n16. 우리나라에 대규모 유행을 할 가능성이 있나요?\\n \\n이 또한 예측이 어렵습니다. 우리나라가 중국과의 교류가 매우 활발한 이상 확진자의 유입은 계속될것이며, 지역사회의 감염을 일으키기 전에 찾아내고, 방역하는 도전이 계속 될 것입니다. 다행히 우리나라의 방역수준은 메르스 유행 이후로 매우 수준이 높습니다. 모든 당국자가 최선을 다하고 있습니다. 국민들도 중국여행력이 있는 경우 적극적으로 문진에 임하고, 증상을 보고하고, 해외여행력이 없더라도 마스크착용, 손씻기를 도와주셔야합니다.  앞으로 1달이 큰 고비가 될 것입니다. \\n \\n17. 젊은 사람이 더 위험한가요? 나이든 사람이 더 위험한가요?\\n \\n일반적으로 동반질환이 있으신 어르신이 위험하다고 보고되고 있습니다.\\n \\n18. 왜 강제 조사나 입국 거부 같은 적극적인 조치를 취하는 것이 어렵나요? \\n감염병 대응에 과도한 공포나 혐오 정서가 포함되는 것은 위험합니다. 이는 유증상자가 자신의 증상을 숨기거나, 과거 방문력에 대해 거짓을 말하는 동기로 작용하고, 이것이 정말 위험합니다. 현재 확진자들에 대해서도 많은 비판이 가해지고 있고, 처벌하자는 이야기가 나옵니다. 법적인 것은 둘쨰치고, 실제 처벌하거나 징벌적 손해 배상을 시행할 경우, 누가 나서서 검사를 받으려고 하겠습니까? 감염병 통제는 정보공개와 환자에 대한 보호가 동시에 수행되어야합니다.\\n \\n19. 신생아, 영유아들은 어떻게 해야하나요?\\n \\n저도 두아이를 키우는 사람으로 아이들에 대한 걱정이 많습니다. 신생아나 영유아들은 기본적으로 외부에 노출되는 기회가 적습니다. 그러나 어린이집 같은 보육시설을 가는 경우 더 불안하시리라 생각됩니다. 아직까지 국내에 지역사회 전파사례가 없어서 보육시설은 이번 신종코로나바이러스 감염에 있어 추가적인 위험이 되지 않습니다. 그러나 보육시설은 매우 감염병에 취약합니다. 만약 자신의 아이가 발열 또는 호흡기 증상이 있다면 당연히 보육시설은 보내시면 안됩니다. 그러나 맞벌이 부모인 경우 이것 또한 매우 어려운 일임도 부정할 수 없습니다. 심한 콧물, 기침과 발열이 있는 경우는 일단 소아과 진료롤 보시고, 전문의 진단에 따르시는게 좋습니다. \\n------------------------------------------------------------------------------------------------------------------------------------------\\n \\n확산 최신 정보 업데이트 : 확산 예측에 대한 최신 연구결과를 정리합니다.\\n \\n1. 미국 - 존스홉킨스대 Lauren Gardner\\n중국내 환자 발생이 중국 당국 발표보다 훨씬 높을 수 있다는 모델링 결과를 발표했습니다. 현재 비슷한 연구 결과들이 쏟아지고 있습니다. \\n상당히 높은 확률로 현재 중국의 환자수 발표는 과소추정된듯합니다. \\n \\n우리나라의 인천공항과 제주 공항이 매우 높은 위험을 가지는 것으로 평가되었습니다. 앞으로 수주 ~ 수개월 동안은 집중적인 노력이 필요할듯합니다. \\nhttps://systems.jhu.edu/research/public-health/ncov-model/?fbclid=IwAR0cdoeNuwVEkzzdZ7c8bRqLVTQDQwNv4lIbqKn8KYcQrzDoM9677882JKw\\n======================================\", 'category_ids': '[4, 8]'}\n",
      "{'id': 100685007, 'title': '유캠', 'text': '완전히 리뉴얼된다네 앱도 생기고', 'category_ids': '[2]'}\n",
      "{'id': 100708598, 'title': '선형대수랑 벡터해석학', 'text': '이 수업들 어디갔냐 대체?\\n공학인증해야되서 들늘려하니까 7000으로 개설되어 있는게 하나도 없네 ㅡㅡ', 'category_ids': '[1, 5]'}\n",
      "{'id': 100824849, 'title': '누가 공기업 준비 어렵나길래', 'text': '공기업은 티어별로 차이가 많이나니 참고하시길', 'category_ids': '[11]'}\n",
      "{'id': 100965689, 'title': '육군 복무기간 18개월에', 'text': '후반기교육기간도 포함되나여', 'category_ids': '[1, 8]'}\n",
      "{'id': 101260680, 'title': '연구실 안전교육', 'text': '이거 이수 안하면 불이익 있나요? ㅠㅠ', 'category_ids': '[1, 3, 4]'}\n",
      "{'id': 101765697, 'title': 'ㅈㅇㅈ 교수님 반도체공정2', 'text': '반도체공정2를 듣고 싶은데 꼭 1을 수강하고 들어야하나요?', 'category_ids': '[1, 5]'}\n",
      "{'id': 101770403, 'title': '혹시 양재역 근처 사시는 분 ?', 'text': '중고나라에서 구매하고 싶은 노트북이 있는데 \\n그 사람이랑 좀 껄끄러운 관계라서요... \\n내일 7시 30분에 근처 사시면 양재역에서 물건만 받아주실 분 계실까요? 따뜻한 커피 한 잔 사드릴게요!:)', 'category_ids': '[8]'}\n",
      "{'id': 101777990, 'title': '학자금 대출 받은분 있으신가요?', 'text': '생활비 대출 받으려하는데 계속 심사중이네요.  받은분 있으시면  전화로 문의해보려합니다.', 'category_ids': '[1, 3]'}\n",
      "{'id': 101916140, 'title': '전기공 경력개발', 'text': '잡기힘듬?', 'category_ids': '[1, 2]'}\n",
      "{'id': 101923275, 'title': '구) 한울장학금', 'text': '유캠 개편전에 작성했는데\\n따로 다시 해야 하나요?', 'category_ids': '[1, 3]'}\n",
      "{'id': 102384949, 'title': '광운전자 인식', 'text': '국민대 자동차친구한테 물어보니 국민대생들한테 광운전자 인식이 엄청 좋다더라 취직잘되고 공대파워가 센? 몰랏네', 'category_ids': '[11]'}\n",
      "{'id': 102444535, 'title': '자대 대학원가기쉬움??', 'text': '본인 대학원은 어때??가기쉬울려나 학점 4.0정도면되나', 'category_ids': '[1, 100]'}\n",
      "{'id': 102457977, 'title': '위험물 산업기사 따신분이나 공부중이신분', 'text': '있으신가요?? 질문이 있는뎁...', 'category_ids': '[1, 11]'}\n",
      "{'id': 102550750, 'title': '자퇴하면', 'text': '토익장학금 뱉어야되냐', 'category_ids': '[1, 3]'}\n",
      "{'id': 102838273, 'title': '김상목 교수님 선형대수학', 'text': '타과생이 들어도 괜찮나요?', 'category_ids': '[1, 5]'}\n",
      "{'id': 103219160, 'title': '내일 군대가는 팡팡이', 'text': '있나요', 'category_ids': '[8]'}\n"
     ]
    }
   ],
   "source": [
    "# 가져온 데이터의 일부를 출력\n",
    "\n",
    "for article in original_articles[:20]:\n",
    "    print(article)"
   ]
  },
  {
   "cell_type": "code",
   "execution_count": 25,
   "metadata": {},
   "outputs": [],
   "source": [
    "# 이진 분류 문제를 위한 데이터 전처리\n",
    "\n",
    "preprocessed_articles = []\n",
    "\n",
    "for article in original_articles:\n",
    "    title = article['title']\n",
    "    text = article['text']\n",
    "    content = (title + ' ' + text).replace('\\n', ' ').strip()\n",
    "    label = 1 if TARGET_CATEGORY in json.loads(article['category_ids']) else 0\n",
    "\n",
    "    preprocessed_articles.append({\n",
    "        'content': content,\n",
    "        'label': label\n",
    "    })"
   ]
  },
  {
   "cell_type": "code",
   "execution_count": 26,
   "metadata": {},
   "outputs": [
    {
     "name": "stdout",
     "output_type": "stream",
     "text": [
      "{'content': '장학금 관련해서.. 성적장학금 + 한울장학금 가능한지 궁금합니다..', 'label': 0}\n",
      "{'content': '배고파 집에가서 진짬뽕에 밥 말아먹어야지 히힣', 'label': 0}\n",
      "{'content': '부산 + 용인까지 의심 환자 발생 평택시는 난리남. 부산에서도.. 근데 이상한건 용인인데. 그 분은 중국 갔다온사람 아니라던데? 뭐냐 진짜..', 'label': 0}\n",
      "{'content': \"신종 코로나바이러스(2019-nCoV) 감염증 대처 방법 원문은 의과교수 펨붕이가 펨코에 쓴 것. 지금도 질문받는듯.   ========================================== 최근 우한에서 발생한 신종 코로나바이러스(2019-nCoV) 감염증으로 인해서 많은 우려를 가지고 계실 듯합니다.  여러 인터넷 커뮤니티에서 많은 정보들이 돌아다니고, 이로 인해 혼란이 가중되는 모습을 연휴 동안 지켜보았습니다.    저는 예방의학전문의로 현재 의과대학에서 교수로 일하고 있습니다. 감염내과 전공은 아니지만, 2015년부터 신종 감염병과 관련된 여러 경험이 있고, 메르스, 지카바이러스 감염증 등 신종감염병 유입 사례에서 정부 내에서 역학조사팀장으로도 일했습니다. 이후 여러 감염병과 관련된 학술적인 작업을 하고 있습니다.   개인적으로는 다행히도 재작년에 교직으로 옮기면서 현장 대응과는 거리가 멀어졌지만, 여러분들에게 정확한 정보를 알려드리고, 위험 의사소통(Risk communication)을 적극적으로 수행하는 것이 얼마나 중요한지 잘 알고 있어서 현장에서 고생하시는 분들을 대신해서 소통에 나서게 되었습니다. 현재 이러한 업무를 수행하실 수 있는 능력을 가지신 훌륭한 분들께서는 대부분 현장에서 나가 계셔서 저처럼 자리에 앉아 있으실 수 없을듯 합니다.     1. 신종 코로나 바이러스 감염증에 대해서 궁금하신 것이 있으시면 무엇이든 질문해주세요. 적극적으로 정보를 찾아서 제공해드리겠습니다. 어떠한 질문이든 관계없습니다. : 제가 2군데 사이트에서 모은 질문들을 정리해서 아래에 작성했습니다. 자유롭게 퍼가셔도 됩니다.    2. 많은 분들이 질문하시는 것들에 대해서는 FAQ 형태로 정리해서 올려드리겠습니다. : 정리해서 올려드렸고, 추가 답변은 어렵습니다.     3. 현재 나무위키에서 정보에 대한 정리가 진행되고 있습니다. 현황은 나무위키를 보시는 것도 도움이 될 듯합니다. 저와 여러명의 전문의들이 모니터링을 하고 있고, 사실에 부합하지 않는 정보에 대해서는 적극적으로 참여하겠습니다.     4. 많은 공무원과 감염병 전문가가 연휴에서 쉬지않고 일하고 있습니다. 그들에게 응원을 보내주세요.    ================================================================================     FAQ (자주 묻는 질문과 답변)   최대한 의학용어를 배제하고 평이하게 기술했습니다. 다른 전문가가 계실 경우 수정해주셔도 좋습니다.    1. 신종코로나바이러스 감염증의 주된 감염경로가 무엇인가요?   이번 바이러스 감염은 비말감염이 주요한 경로로 알려져있습니다. 일반 감기와 감염경로가 비슷합니다. 바이러스에 감염된 사람의 폐에서 바이러스가 증식하고, 이것이 기도로 나와서 가래나 침이되고, 기침이나 재채기, 콧물 등을 통해서 외부로 나옵니다.    이것이 다른 사람의 호흡기나, 점막 등에 묻어서 전파가 이루어집니다. 다른 사람에게 묻는 경로는 직접 침이나 가래가 튀거나, 가래나 침이 튄 물건 등을 다른 사람이 손으로 잡고, 그것이 다시 입이나 코로 들어갈 경우가 대부분입니다.    따라서 '마스크 착용', '손씻기'가 가장 중요한 예방방법이됩니다.    1-1. 결막, 안구, 눈을 통해서 감염이 된다는데 걱정이 됩니다.     눈으로 직접 침이나 가래가 튀어서 감염된 것으로 의심되는 사례가 있었습니다. 대부분의 호흡기 감염병이 눈의 결막을 통해서도 감염이 이루어질 수 있습니다.(수정) (이번 코로나 바이러스에서 조금 더 심할 수 있다고 합니다. ) 이는 마스크의 착용을 더 강조하는 의미가 있는데, 마스크는 자신을 보호하는 의미도 있지만, 타인을 보호하는 의미도 있습니다. 자신의 기침이나 재채기로 다른사람에게 침, 가래가 튀는 것을 막아줘야합니다.    또한 자주 손을 씻어서 손에 묻은 바이러스가 눈으로 들어가는 것을 막아야하며, 가급적 눈을 손으로 비비지 않아야합니다. 이는 모든 감염병에서 동일합니다.     하지만 보안경 착용 등은 권장되지 않는데, 잘 관리하기도 어렵고, 오랫동안 착용하기도 힘들고, 감염 가능성도 일반적인 경로보다 떨어지기 때문에, 불편을 감수할 정도가 되지 못하기 때문입니다.    2. 무증상인 상태에서 전파시키는 경우가 있다는데 이것은 어떤 것인가요?    이번 감염병 방역의 대전제는 무증상인 감염자는 다른 사람을 감염시키는 능력이 매우 낮거나, 떨어진다는 것입니다. 즉 잠복기가 지나서 증상이 있는 사람만이 다른 사람을 감염시킬 수 있다는 것인데, 무증상인 상태에서 다른 사람을 감염시키는 감염인이 있는 경우 방역이 더 어려워지기 때문에, 많은 우려와 경고가 있습니다. 그러나 현재까지 무증상 상태에서 감염이 이루어진다는 근거는 매우 미약하며, 의학적으로도 설득력이 떨어집니다. 다른 사람을 감염시킬 정도로 체내에서 바이러스가 증식되는 경우는 필연적으로 발열이 있거나, 다른 증상이 생길 것이기 때문입니다. 현재 알려진 사례의 대부분은 증상이 매우 경미하여서 본인이 인지하지 못한 경우일 것으로 판단됩니다. 그럼에도 불구하고 미열 등은 본인이 인지하기 어렵기 떄문에, 체온 측정 등이 중요합니다.    3. 우리는 당장 무엇을 할 수 있을까요?   마스크 착용과 자주 손씻기, 사람이 많은 곳은 피하기 이것이 전부입니다. 이 이상의 방법도 없고, 마스크착용과 손씻기 만으로도 대부분의 호흡기 감염병은 막을 수 있습니다.    3-1. 카페 등에서 접객을 하고 있습니다. 어떻게 해야할 까요?   우리나라 풍토에서는 카페 등에서 접객을 하실 경우 마스크 착용이 어렵습니다. 최대한 카운터와 손님사이의 거리를 멀게 하시고, 자주 손을 씻으세요. 손님도 주문하실때 기침예절, 마스크 착용등을 해주시면 정말 감사하겠습니다.    4. 손씻기와 마스크 쓰기 얼마나 중요한가요?   너무나 중요합니다. 두가지만 잘지키셔도 이번 상황은 거의 걱정하지 않으셔도 됩니다.   4.1 마스크는 무엇을 써야하나요?   어떠한 종류의 마스크도 도움이 됩니다. N95 등의 의료용 마스크는 올바른 착용도 어렵고, 내구성도 떨어져서 KF94 정도의 마스크면 충분합니다. 또한 마스크는 소모품입니다. 빨아서 사용하시면 안되고, 최소한 3일 사이에는 교체해주세요. 교체 주기는 명확하지 않습니다만 자주 갈아주실 수록 좋습니다.    마스크는 코와 입이 완전히 가려지셔야합니다. 천마스크, 황사용마스크 등도 어느정도 효과가 있습니다. 무엇이든지 착용하세요.    4.2 손씻기는 어떻게 해야하나요?   반드시 손세정제를 사용할 필요는 없습니다. 밖을 다녀오실 경우 손을 씻으시고, 비누를 이용해서 구석구석 씻어주세요. 가급적 건조기를 사용하시고, 1회용 핸드타월을 사용하세요. 손은 자주 씻으실 수록 좋습니다.    4.3 손 세정제는 어떤것을 사용하나요?   손 세정제는 메이커보다 유효기간이 중요합니다. 새로 구입한 것을 사용하세요.   4.4 가정내 소독제로는 무엇을 사용하나요?   가정용 락스를 1:10정도로 희석한 것을 사용하셔도 됩니다. 비싼 전문 소독제나, 에탄올등은 쓰셔도 무방하지만 큰 차이가 있지 않습니다.    5. 해외여행 다녀와도 되나요?   현재까지 상황으로 중국을 제외한 다른 국가에서 지역사회 유행이 발생했다는 근거는 없습니다. 개인 위생에 주의하셔서 다녀오셔도 됩니다만, 몇개월뒤 일까지 예측하기는 어렵습니다.    6. 감기에 걸리면 코로나 바이러스에 대한 면역도 생기는 것인가요?    아닙니다. 새로운 종류의 바이러스이기 떄문에 문제가 되는 것이고, 주의하셔야하는 것입니다.   7. 인플루엔자 등 백신 접종해도 되나요?    인플루엔자 백신은 인플루엔자로 인한 오인을 줄여주는 효과도 있으며, 현재까지 우리나라는 신종코로나바이러스 감염보다 인플루엔자감염이 더욱 무섭습니다. 모든 백신은 걱정없이 진행하시면 됩니다.    8. 전세기로 들어오는 교민들이 걱정됩니다.    교민들은 증상이 없는 분만 탑승하신다고 하며, 도착 후 지정 장소에 격리되셔서 검사를 진행하신다고 합니다. 물론 확진자가 발생할 수 있지만 잘 관리될 경우 위험은 매우 낮을 것으로 생각됩니다.    9. 직장, 집에서 일하는 중국인이 걱정됩니다.    1월 20일 이전 중국을 다녀오시지않은 중국분들은 우리나라 국민과 동일한 위험을 가집니다. 전혀 걱정하지 않으셔도됩니다.     10. 우한 폐렴을 우한폐렴이라고 왜 말하지 못하고 신종 코로나바이러스 감염증이라고 하나요?   학술적으로 특정 지역명을 칭하는 병명은 지양하는 추세입니다. 바이러스 명도 지금은 신종 코로나라고 부르지만 사태가 종결된 후에는 다른 명칭이 부여될 것입니다.    11. 치료가 되어도 폐손상이 일어난다는데 정말인가요?   어떠한 종류의 폐렴도 후유증이 생길 수 있습니다. 현재 신종코로나바이러스로 인한 폐렴도 폐손상이 일어난다는 보고가 있지만, 다른 폐렴에 비해서 더 발생률이 높다는 근거는 없습니다.    12. 언제쯤 이사태가 진정될까요?   예상이 매우 어렵고 중국 정부의 대응에 모든 것이 달려있습니다. 전해오는 정보로는 중국이 매우 강력한 국내 조치를 취하고 있는 것으로 알고 있습니다. 이것이 효과가 있을 경우 3~4달 후에는 사태가 진정될 수 있을 것으로 예상됩니다만, 매우 예상이 어렵습니다.    13. 사망률, 치명률, 회복률 등등은 어떻게 되나요?   이러한 정보는 이번 유행이 모두 끝나야지만 정확하게 알 수 있습니다. 현재까지 나오는 정보는 부정확합니다. 그러나 제한적인 근거로 치명률은 메르스나 사스보다는 낮을 것으로 예상되며, 기초감염재생산수(감염력)은 메르스나 사스보다 높은 것으로 예상됩니다.    14. 현재 영국 등에서 감염자가 수십만에 이를것이라는 말이 나오는데 사실인가요?   사실일 수도 있고, 아닐 수도 있습니다. 외국의 학자들이 추산한 수치는 수학적인 방법을 통해서 예측한 수로 최소값과 최대값이 신뢰구간으로 제시되어있습니다. 여기에서 가장 높은 값으로 예상되는 것이 수십만으로 판단됩니다. 하지만 이러한 예상도 벌써 1주일정도 지나간 상황이기 때문에 정확한 감염자를 추산하는 것은 거의 불가능합니다. 또한 확진자는 검사결과가 나와야하는데, 중국의 검사실이 이러한 검사를 수행하기에 힘이 부칠 수 있습니다.    15. 백신과 치료제 개발은 언제 가능한가요?   코로나 바이러스의 백신과 치료제 개발은 매우 어려운 것으로 알려져있습니다. 수개월 내 백신과 치료제가 생산될 가능성은 낮습니다.    16. 우리나라에 대규모 유행을 할 가능성이 있나요?   이 또한 예측이 어렵습니다. 우리나라가 중국과의 교류가 매우 활발한 이상 확진자의 유입은 계속될것이며, 지역사회의 감염을 일으키기 전에 찾아내고, 방역하는 도전이 계속 될 것입니다. 다행히 우리나라의 방역수준은 메르스 유행 이후로 매우 수준이 높습니다. 모든 당국자가 최선을 다하고 있습니다. 국민들도 중국여행력이 있는 경우 적극적으로 문진에 임하고, 증상을 보고하고, 해외여행력이 없더라도 마스크착용, 손씻기를 도와주셔야합니다.  앞으로 1달이 큰 고비가 될 것입니다.    17. 젊은 사람이 더 위험한가요? 나이든 사람이 더 위험한가요?   일반적으로 동반질환이 있으신 어르신이 위험하다고 보고되고 있습니다.   18. 왜 강제 조사나 입국 거부 같은 적극적인 조치를 취하는 것이 어렵나요?  감염병 대응에 과도한 공포나 혐오 정서가 포함되는 것은 위험합니다. 이는 유증상자가 자신의 증상을 숨기거나, 과거 방문력에 대해 거짓을 말하는 동기로 작용하고, 이것이 정말 위험합니다. 현재 확진자들에 대해서도 많은 비판이 가해지고 있고, 처벌하자는 이야기가 나옵니다. 법적인 것은 둘쨰치고, 실제 처벌하거나 징벌적 손해 배상을 시행할 경우, 누가 나서서 검사를 받으려고 하겠습니까? 감염병 통제는 정보공개와 환자에 대한 보호가 동시에 수행되어야합니다.   19. 신생아, 영유아들은 어떻게 해야하나요?   저도 두아이를 키우는 사람으로 아이들에 대한 걱정이 많습니다. 신생아나 영유아들은 기본적으로 외부에 노출되는 기회가 적습니다. 그러나 어린이집 같은 보육시설을 가는 경우 더 불안하시리라 생각됩니다. 아직까지 국내에 지역사회 전파사례가 없어서 보육시설은 이번 신종코로나바이러스 감염에 있어 추가적인 위험이 되지 않습니다. 그러나 보육시설은 매우 감염병에 취약합니다. 만약 자신의 아이가 발열 또는 호흡기 증상이 있다면 당연히 보육시설은 보내시면 안됩니다. 그러나 맞벌이 부모인 경우 이것 또한 매우 어려운 일임도 부정할 수 없습니다. 심한 콧물, 기침과 발열이 있는 경우는 일단 소아과 진료롤 보시고, 전문의 진단에 따르시는게 좋습니다.  ------------------------------------------------------------------------------------------------------------------------------------------   확산 최신 정보 업데이트 : 확산 예측에 대한 최신 연구결과를 정리합니다.   1. 미국 - 존스홉킨스대 Lauren Gardner 중국내 환자 발생이 중국 당국 발표보다 훨씬 높을 수 있다는 모델링 결과를 발표했습니다. 현재 비슷한 연구 결과들이 쏟아지고 있습니다.  상당히 높은 확률로 현재 중국의 환자수 발표는 과소추정된듯합니다.    우리나라의 인천공항과 제주 공항이 매우 높은 위험을 가지는 것으로 평가되었습니다. 앞으로 수주 ~ 수개월 동안은 집중적인 노력이 필요할듯합니다.  https://systems.jhu.edu/research/public-health/ncov-model/?fbclid=IwAR0cdoeNuwVEkzzdZ7c8bRqLVTQDQwNv4lIbqKn8KYcQrzDoM9677882JKw ======================================\", 'label': 0}\n",
      "{'content': '유캠 완전히 리뉴얼된다네 앱도 생기고', 'label': 0}\n",
      "{'content': '선형대수랑 벡터해석학 이 수업들 어디갔냐 대체? 공학인증해야되서 들늘려하니까 7000으로 개설되어 있는게 하나도 없네 ㅡㅡ', 'label': 0}\n",
      "{'content': '누가 공기업 준비 어렵나길래 공기업은 티어별로 차이가 많이나니 참고하시길', 'label': 0}\n",
      "{'content': '육군 복무기간 18개월에 후반기교육기간도 포함되나여', 'label': 0}\n",
      "{'content': '연구실 안전교육 이거 이수 안하면 불이익 있나요? ㅠㅠ', 'label': 0}\n",
      "{'content': 'ㅈㅇㅈ 교수님 반도체공정2 반도체공정2를 듣고 싶은데 꼭 1을 수강하고 들어야하나요?', 'label': 0}\n",
      "{'content': '혹시 양재역 근처 사시는 분 ? 중고나라에서 구매하고 싶은 노트북이 있는데  그 사람이랑 좀 껄끄러운 관계라서요...  내일 7시 30분에 근처 사시면 양재역에서 물건만 받아주실 분 계실까요? 따뜻한 커피 한 잔 사드릴게요!:)', 'label': 0}\n",
      "{'content': '학자금 대출 받은분 있으신가요? 생활비 대출 받으려하는데 계속 심사중이네요.  받은분 있으시면  전화로 문의해보려합니다.', 'label': 0}\n",
      "{'content': '전기공 경력개발 잡기힘듬?', 'label': 0}\n",
      "{'content': '구) 한울장학금 유캠 개편전에 작성했는데 따로 다시 해야 하나요?', 'label': 0}\n",
      "{'content': '광운전자 인식 국민대 자동차친구한테 물어보니 국민대생들한테 광운전자 인식이 엄청 좋다더라 취직잘되고 공대파워가 센? 몰랏네', 'label': 0}\n",
      "{'content': '자대 대학원가기쉬움?? 본인 대학원은 어때??가기쉬울려나 학점 4.0정도면되나', 'label': 0}\n",
      "{'content': '위험물 산업기사 따신분이나 공부중이신분 있으신가요?? 질문이 있는뎁...', 'label': 0}\n",
      "{'content': '자퇴하면 토익장학금 뱉어야되냐', 'label': 0}\n",
      "{'content': '김상목 교수님 선형대수학 타과생이 들어도 괜찮나요?', 'label': 0}\n",
      "{'content': '내일 군대가는 팡팡이 있나요', 'label': 0}\n"
     ]
    }
   ],
   "source": [
    "# 전처리된 데이터의 일부를 출력\n",
    "\n",
    "for article in preprocessed_articles[:20]:\n",
    "    print(article)"
   ]
  },
  {
   "cell_type": "code",
   "execution_count": 27,
   "metadata": {},
   "outputs": [],
   "source": [
    "# 데이터 분포 확인 함수 정의\n",
    "\n",
    "def plot_distribution(articles):\n",
    "    label_counts = [0, 0]\n",
    "    for article in articles:\n",
    "        label_counts[article['label']] += 1\n",
    "\n",
    "    total_count = sum(label_counts)\n",
    "    percentages = [count / total_count * 100 for count in label_counts]\n",
    "    for i, percentage in enumerate(percentages):\n",
    "        print(f'Label {i}: {percentage:.2f}%')\n",
    "\n",
    "    plt.figure(figsize=(8, 6))\n",
    "    plt.bar(['0', '1'], label_counts)\n",
    "    plt.text(0, label_counts[0] + 0.1, str(label_counts[0]), ha='center')\n",
    "    plt.text(1, label_counts[1] + 0.1, str(label_counts[1]), ha='center')\n",
    "    plt.xlabel('Label')\n",
    "    plt.ylabel('Count')\n",
    "    plt.title('Distribution of Labels')\n",
    "    plt.show()"
   ]
  },
  {
   "cell_type": "code",
   "execution_count": 28,
   "metadata": {},
   "outputs": [
    {
     "name": "stdout",
     "output_type": "stream",
     "text": [
      "Label 0: 90.72%\n",
      "Label 1: 9.28%\n"
     ]
    },
    {
     "data": {
      "image/png": "[encoded data removed]",
      "text/plain": [
       "<Figure size 800x600 with 1 Axes>"
      ]
     },
     "metadata": {},
     "output_type": "display_data"
    }
   ],
   "source": [
    "# 데이터 분포 확인\n",
    "\n",
    "plot_distribution(preprocessed_articles)"
   ]
  },
  {
   "cell_type": "code",
   "execution_count": 29,
   "metadata": {},
   "outputs": [
    {
     "name": "stdout",
     "output_type": "stream",
     "text": [
      "Number of training articles: 1913\n",
      "Number of validation articles: 479\n"
     ]
    }
   ],
   "source": [
    "# 훈련 데이터와 검증 데이터로 분리\n",
    "\n",
    "train_articles, val_articles = train_test_split(\n",
    "    preprocessed_articles,\n",
    "    test_size=0.2,\n",
    "    random_state=42\n",
    ")\n",
    "\n",
    "print(f'Number of training articles: {len(train_articles)}')\n",
    "print(f'Number of validation articles: {len(val_articles)}')"
   ]
  },
  {
   "cell_type": "code",
   "execution_count": 30,
   "metadata": {},
   "outputs": [
    {
     "name": "stdout",
     "output_type": "stream",
     "text": [
      "Label 0: 90.49%\n",
      "Label 1: 9.51%\n"
     ]
    },
    {
     "data": {
      "image/png": "[encoded data removed]",
      "text/plain": [
       "<Figure size 800x600 with 1 Axes>"
      ]
     },
     "metadata": {},
     "output_type": "display_data"
    }
   ],
   "source": [
    "# 훈련 데이터의 데이터 분포 확인\n",
    "\n",
    "plot_distribution(train_articles)"
   ]
  },
  {
   "cell_type": "code",
   "execution_count": 31,
   "metadata": {},
   "outputs": [
    {
     "name": "stdout",
     "output_type": "stream",
     "text": [
      "Label 0: 91.65%\n",
      "Label 1: 8.35%\n"
     ]
    },
    {
     "data": {
      "image/png": "[encoded data removed]",
      "text/plain": [
       "<Figure size 800x600 with 1 Axes>"
      ]
     },
     "metadata": {},
     "output_type": "display_data"
    }
   ],
   "source": [
    "# 검증 데이터의 데이터 분포 확인\n",
    "\n",
    "plot_distribution(val_articles)"
   ]
  },
  {
   "cell_type": "code",
   "execution_count": 32,
   "metadata": {},
   "outputs": [
    {
     "name": "stdout",
     "output_type": "stream",
     "text": [
      "Original: 장학금 관련해서.. 성적장학금 + 한울장학금 가능한지 궁금합니다..\n",
      "Tokenized: ['장학금', '관련해서', '.', '.', '성적', '##장', '##학', '##금', '+', '한울', '##장', '##학', '##금', '가능한', '##지', '궁금합니다', '.', '.']\n"
     ]
    }
   ],
   "source": [
    "# 토크나이저 로드\n",
    "\n",
    "tokenizer = AutoTokenizer.from_pretrained(MODEL_ID)\n",
    "\n",
    "print('Original:', preprocessed_articles[0]['content'])\n",
    "print('Tokenized:', tokenizer.tokenize(preprocessed_articles[0]['content']))"
   ]
  },
  {
   "cell_type": "code",
   "execution_count": 33,
   "metadata": {},
   "outputs": [
    {
     "name": "stderr",
     "output_type": "stream",
     "text": [
      "/tmp/ipykernel_13133/2848816050.py:24: UserWarning: To copy construct from a tensor, it is recommended to use sourceTensor.clone().detach() or sourceTensor.clone().detach().requires_grad_(True), rather than torch.tensor(sourceTensor).\n",
      "  torch.tensor(train_encodings['input_ids']),\n",
      "/tmp/ipykernel_13133/2848816050.py:25: UserWarning: To copy construct from a tensor, it is recommended to use sourceTensor.clone().detach() or sourceTensor.clone().detach().requires_grad_(True), rather than torch.tensor(sourceTensor).\n",
      "  torch.tensor(train_encodings['attention_mask']),\n",
      "/tmp/ipykernel_13133/2848816050.py:29: UserWarning: To copy construct from a tensor, it is recommended to use sourceTensor.clone().detach() or sourceTensor.clone().detach().requires_grad_(True), rather than torch.tensor(sourceTensor).\n",
      "  torch.tensor(val_encodings['input_ids']),\n",
      "/tmp/ipykernel_13133/2848816050.py:30: UserWarning: To copy construct from a tensor, it is recommended to use sourceTensor.clone().detach() or sourceTensor.clone().detach().requires_grad_(True), rather than torch.tensor(sourceTensor).\n",
      "  torch.tensor(val_encodings['attention_mask']),\n"
     ]
    }
   ],
   "source": [
    "# 텍스트 인코딩 및 데이터셋 생성\n",
    "\n",
    "train_contents = [article['content'] for article in train_articles]\n",
    "train_labels = [article['label'] for article in train_articles]\n",
    "val_contents = [article['content'] for article in val_articles]\n",
    "val_labels = [article['label'] for article in val_articles]\n",
    "\n",
    "train_encodings = tokenizer(\n",
    "    train_contents,\n",
    "    padding=True,\n",
    "    truncation=True,\n",
    "    return_tensors='pt',\n",
    "    max_length=MAX_LENGTH\n",
    ")\n",
    "val_encodings = tokenizer(\n",
    "    val_contents,\n",
    "    padding=True,\n",
    "    truncation=True,\n",
    "    return_tensors='pt',\n",
    "    max_length=MAX_LENGTH\n",
    ")\n",
    "\n",
    "train_dataset = torch.utils.data.TensorDataset(\n",
    "    torch.tensor(train_encodings['input_ids']),\n",
    "    torch.tensor(train_encodings['attention_mask']),\n",
    "    torch.tensor(train_labels)\n",
    ")\n",
    "val_dataset = torch.utils.data.TensorDataset(\n",
    "    torch.tensor(val_encodings['input_ids']),\n",
    "    torch.tensor(val_encodings['attention_mask']),\n",
    "    torch.tensor(val_labels)\n",
    ")\n",
    "\n",
    "train_dataloader = torch.utils.data.DataLoader(train_dataset, batch_size=BATCH_SIZE, shuffle=True)\n",
    "val_dataloader = torch.utils.data.DataLoader(val_dataset, batch_size=BATCH_SIZE, shuffle=False)"
   ]
  },
  {
   "cell_type": "code",
   "execution_count": 34,
   "metadata": {},
   "outputs": [],
   "source": [
    "# 평가 지표 계산 함수 정의\n",
    "\n",
    "def calculate_metrics(true_labels, predicted_labels):\n",
    "    acc = accuracy_score(true_labels, predicted_labels)\n",
    "    prec = precision_score(true_labels, predicted_labels)\n",
    "    rec = recall_score(true_labels, predicted_labels)\n",
    "    f_beta = fbeta_score(true_labels, predicted_labels, beta=F_BETA)\n",
    "\n",
    "    return acc, prec, rec, f_beta"
   ]
  },
  {
   "cell_type": "code",
   "execution_count": 35,
   "metadata": {},
   "outputs": [
    {
     "name": "stdout",
     "output_type": "stream",
     "text": [
      "There are 1 GPU(s) available.\n",
      "We will use the GPU: NVIDIA GeForce RTX 3060 Ti\n"
     ]
    }
   ],
   "source": [
    "# 학습 전 초기화\n",
    "\n",
    "if torch.cuda.is_available():\n",
    "    device = torch.device('cuda')\n",
    "    print('There are %d GPU(s) available.' % torch.cuda.device_count())\n",
    "    print('We will use the GPU:', torch.cuda.get_device_name(0))\n",
    "else:\n",
    "    device = torch.device('cpu')\n",
    "    print('No GPU available, using the CPU instead.')"
   ]
  },
  {
   "cell_type": "code",
   "execution_count": 36,
   "metadata": {},
   "outputs": [
    {
     "name": "stdout",
     "output_type": "stream",
     "text": [
      "Iteration 1/10\n"
     ]
    },
    {
     "name": "stderr",
     "output_type": "stream",
     "text": [
      "Some weights of ElectraForSequenceClassification were not initialized from the model checkpoint at beomi/KcELECTRA-base-v2022 and are newly initialized: ['classifier.dense.bias', 'classifier.dense.weight', 'classifier.out_proj.bias', 'classifier.out_proj.weight']\n",
      "You should probably TRAIN this model on a down-stream task to be able to use it for predictions and inference.\n",
      "Iteration 1 - Epoch 1 - Training: 100%|██████████| 60/60 [00:18<00:00,  3.32it/s]\n",
      "/home/retn0/repositories/nbsp1221/communav/.venv/lib/python3.10/site-packages/sklearn/metrics/_classification.py:1509: UndefinedMetricWarning: Precision is ill-defined and being set to 0.0 due to no predicted samples. Use `zero_division` parameter to control this behavior.\n",
      "  _warn_prf(average, modifier, f\"{metric.capitalize()} is\", len(result))\n",
      "Iteration 1 - Epoch 1 - Validation: 100%|██████████| 15/15 [00:01<00:00, 10.05it/s]\n",
      "/home/retn0/repositories/nbsp1221/communav/.venv/lib/python3.10/site-packages/sklearn/metrics/_classification.py:1509: UndefinedMetricWarning: Precision is ill-defined and being set to 0.0 due to no predicted samples. Use `zero_division` parameter to control this behavior.\n",
      "  _warn_prf(average, modifier, f\"{metric.capitalize()} is\", len(result))\n"
     ]
    },
    {
     "name": "stdout",
     "output_type": "stream",
     "text": [
      "Iteration 1 - Epoch 1:\n",
      "  Train Acc = 0.9049, Train Prec = 0.0000, Train Rec = 0.0000, Train F-Beta = 0.0000, Train Loss = 0.3418\n",
      "  Val Acc = 0.9165, Val Prec = 0.0000, Val Rec = 0.0000, Val F-Beta = 0.0000, Val Loss = 0.2467\n"
     ]
    },
    {
     "name": "stderr",
     "output_type": "stream",
     "text": [
      "Iteration 1 - Epoch 2 - Training: 100%|██████████| 60/60 [00:18<00:00,  3.31it/s]\n",
      "Iteration 1 - Epoch 2 - Validation: 100%|██████████| 15/15 [00:01<00:00,  9.94it/s]\n"
     ]
    },
    {
     "name": "stdout",
     "output_type": "stream",
     "text": [
      "Iteration 1 - Epoch 2:\n",
      "  Train Acc = 0.9289, Train Prec = 0.7054, Train Rec = 0.4341, Train F-Beta = 0.6270, Train Loss = 0.1816\n",
      "  Val Acc = 0.9207, Val Prec = 0.5139, Val Rec = 0.9250, Val F-Beta = 0.5640, Val Loss = 0.1687\n",
      "  Better model saved with 0.5640 F-beta score.\n"
     ]
    },
    {
     "name": "stderr",
     "output_type": "stream",
     "text": [
      "Iteration 1 - Epoch 3 - Training: 100%|██████████| 60/60 [00:18<00:00,  3.28it/s]\n",
      "Iteration 1 - Epoch 3 - Validation: 100%|██████████| 15/15 [00:01<00:00,  9.95it/s]\n"
     ]
    },
    {
     "name": "stdout",
     "output_type": "stream",
     "text": [
      "Iteration 1 - Epoch 3:\n",
      "  Train Acc = 0.9676, Train Prec = 0.8226, Train Rec = 0.8407, Train F-Beta = 0.8261, Train Loss = 0.0994\n",
      "  Val Acc = 0.9645, Val Prec = 0.7949, Val Rec = 0.7750, Val F-Beta = 0.7908, Val Loss = 0.1099\n",
      "  Better model saved with 0.7908 F-beta score.\n"
     ]
    },
    {
     "name": "stderr",
     "output_type": "stream",
     "text": [
      "Iteration 1 - Epoch 4 - Training: 100%|██████████| 60/60 [00:18<00:00,  3.33it/s]\n",
      "Iteration 1 - Epoch 4 - Validation: 100%|██████████| 15/15 [00:01<00:00, 10.09it/s]\n"
     ]
    },
    {
     "name": "stdout",
     "output_type": "stream",
     "text": [
      "Iteration 1 - Epoch 4:\n",
      "  Train Acc = 0.9833, Train Prec = 0.9032, Train Rec = 0.9231, Train F-Beta = 0.9071, Train Loss = 0.0547\n",
      "  Val Acc = 0.9687, Val Prec = 0.8571, Val Rec = 0.7500, Val F-Beta = 0.8333, Val Loss = 0.1091\n",
      "  Better model saved with 0.8333 F-beta score.\n"
     ]
    },
    {
     "name": "stderr",
     "output_type": "stream",
     "text": [
      "Iteration 1 - Epoch 5 - Training: 100%|██████████| 60/60 [00:17<00:00,  3.34it/s]\n",
      "Iteration 1 - Epoch 5 - Validation: 100%|██████████| 15/15 [00:01<00:00, 10.00it/s]\n"
     ]
    },
    {
     "name": "stdout",
     "output_type": "stream",
     "text": [
      "Iteration 1 - Epoch 5:\n",
      "  Train Acc = 0.9916, Train Prec = 0.9611, Train Rec = 0.9505, Train F-Beta = 0.9590, Train Loss = 0.0333\n",
      "  Val Acc = 0.9645, Val Prec = 0.7805, Val Rec = 0.8000, Val F-Beta = 0.7843, Val Loss = 0.1609\n"
     ]
    },
    {
     "name": "stderr",
     "output_type": "stream",
     "text": [
      "Iteration 1 - Epoch 6 - Training: 100%|██████████| 60/60 [00:18<00:00,  3.31it/s]\n",
      "Iteration 1 - Epoch 6 - Validation: 100%|██████████| 15/15 [00:01<00:00, 10.10it/s]\n"
     ]
    },
    {
     "name": "stdout",
     "output_type": "stream",
     "text": [
      "Iteration 1 - Epoch 6:\n",
      "  Train Acc = 0.9984, Train Prec = 0.9891, Train Rec = 0.9945, Train F-Beta = 0.9902, Train Loss = 0.0095\n",
      "  Val Acc = 0.9582, Val Prec = 0.7174, Val Rec = 0.8250, Val F-Beta = 0.7366, Val Loss = 0.1767\n"
     ]
    },
    {
     "name": "stderr",
     "output_type": "stream",
     "text": [
      "Iteration 1 - Epoch 7 - Training: 100%|██████████| 60/60 [00:18<00:00,  3.30it/s]\n",
      "Iteration 1 - Epoch 7 - Validation: 100%|██████████| 15/15 [00:01<00:00,  9.88it/s]\n"
     ]
    },
    {
     "name": "stdout",
     "output_type": "stream",
     "text": [
      "Iteration 1 - Epoch 7:\n",
      "  Train Acc = 0.9969, Train Prec = 0.9835, Train Rec = 0.9835, Train F-Beta = 0.9835, Train Loss = 0.0127\n",
      "  Val Acc = 0.9603, Val Prec = 0.8000, Val Rec = 0.7000, Val F-Beta = 0.7778, Val Loss = 0.1979\n"
     ]
    },
    {
     "name": "stderr",
     "output_type": "stream",
     "text": [
      "Iteration 1 - Epoch 8 - Training: 100%|██████████| 60/60 [00:18<00:00,  3.31it/s]\n",
      "Iteration 1 - Epoch 8 - Validation: 100%|██████████| 15/15 [00:01<00:00,  9.99it/s]\n"
     ]
    },
    {
     "name": "stdout",
     "output_type": "stream",
     "text": [
      "Iteration 1 - Epoch 8:\n",
      "  Train Acc = 0.9963, Train Prec = 0.9781, Train Rec = 0.9835, Train F-Beta = 0.9792, Train Loss = 0.0144\n",
      "  Val Acc = 0.9645, Val Prec = 0.7949, Val Rec = 0.7750, Val F-Beta = 0.7908, Val Loss = 0.1690\n"
     ]
    },
    {
     "name": "stderr",
     "output_type": "stream",
     "text": [
      "Iteration 1 - Epoch 9 - Training: 100%|██████████| 60/60 [00:18<00:00,  3.31it/s]\n",
      "Iteration 1 - Epoch 9 - Validation: 100%|██████████| 15/15 [00:01<00:00,  9.91it/s]\n"
     ]
    },
    {
     "name": "stdout",
     "output_type": "stream",
     "text": [
      "Iteration 1 - Epoch 9:\n",
      "  Train Acc = 1.0000, Train Prec = 1.0000, Train Rec = 1.0000, Train F-Beta = 1.0000, Train Loss = 0.0022\n",
      "  Val Acc = 0.9666, Val Prec = 0.8158, Val Rec = 0.7750, Val F-Beta = 0.8073, Val Loss = 0.1889\n"
     ]
    },
    {
     "name": "stderr",
     "output_type": "stream",
     "text": [
      "Iteration 1 - Epoch 10 - Training: 100%|██████████| 60/60 [00:18<00:00,  3.30it/s]\n",
      "Iteration 1 - Epoch 10 - Validation: 100%|██████████| 15/15 [00:01<00:00, 10.01it/s]\n"
     ]
    },
    {
     "name": "stdout",
     "output_type": "stream",
     "text": [
      "Iteration 1 - Epoch 10:\n",
      "  Train Acc = 1.0000, Train Prec = 1.0000, Train Rec = 1.0000, Train F-Beta = 1.0000, Train Loss = 0.0019\n",
      "  Val Acc = 0.9582, Val Prec = 0.7083, Val Rec = 0.8500, Val F-Beta = 0.7328, Val Loss = 0.2309\n"
     ]
    },
    {
     "name": "stderr",
     "output_type": "stream",
     "text": [
      "Iteration 1 - Epoch 11 - Training: 100%|██████████| 60/60 [00:18<00:00,  3.30it/s]\n",
      "Iteration 1 - Epoch 11 - Validation: 100%|██████████| 15/15 [00:01<00:00,  9.86it/s]\n"
     ]
    },
    {
     "name": "stdout",
     "output_type": "stream",
     "text": [
      "Iteration 1 - Epoch 11:\n",
      "  Train Acc = 0.9948, Train Prec = 0.9725, Train Rec = 0.9725, Train F-Beta = 0.9725, Train Loss = 0.0189\n",
      "  Val Acc = 0.9582, Val Prec = 0.7000, Val Rec = 0.8750, Val F-Beta = 0.7292, Val Loss = 0.1814\n"
     ]
    },
    {
     "name": "stderr",
     "output_type": "stream",
     "text": [
      "Iteration 1 - Epoch 12 - Training: 100%|██████████| 60/60 [00:18<00:00,  3.29it/s]\n",
      "Iteration 1 - Epoch 12 - Validation: 100%|██████████| 15/15 [00:01<00:00, 10.02it/s]\n"
     ]
    },
    {
     "name": "stdout",
     "output_type": "stream",
     "text": [
      "Iteration 1 - Epoch 12:\n",
      "  Train Acc = 0.9948, Train Prec = 0.9674, Train Rec = 0.9780, Train F-Beta = 0.9695, Train Loss = 0.0166\n",
      "  Val Acc = 0.9603, Val Prec = 0.8000, Val Rec = 0.7000, Val F-Beta = 0.7778, Val Loss = 0.1955\n"
     ]
    },
    {
     "name": "stderr",
     "output_type": "stream",
     "text": [
      "Iteration 1 - Epoch 13 - Training: 100%|██████████| 60/60 [00:18<00:00,  3.29it/s]\n",
      "Iteration 1 - Epoch 13 - Validation: 100%|██████████| 15/15 [00:01<00:00,  9.70it/s]\n"
     ]
    },
    {
     "name": "stdout",
     "output_type": "stream",
     "text": [
      "Iteration 1 - Epoch 13:\n",
      "  Train Acc = 0.9984, Train Prec = 0.9891, Train Rec = 0.9945, Train F-Beta = 0.9902, Train Loss = 0.0054\n",
      "  Val Acc = 0.9645, Val Prec = 0.7949, Val Rec = 0.7750, Val F-Beta = 0.7908, Val Loss = 0.1986\n"
     ]
    },
    {
     "name": "stderr",
     "output_type": "stream",
     "text": [
      "Iteration 1 - Epoch 14 - Training: 100%|██████████| 60/60 [00:18<00:00,  3.28it/s]\n",
      "Iteration 1 - Epoch 14 - Validation: 100%|██████████| 15/15 [00:01<00:00, 10.06it/s]\n"
     ]
    },
    {
     "name": "stdout",
     "output_type": "stream",
     "text": [
      "Iteration 1 - Epoch 14:\n",
      "  Train Acc = 1.0000, Train Prec = 1.0000, Train Rec = 1.0000, Train F-Beta = 1.0000, Train Loss = 0.0012\n",
      "  Val Acc = 0.9666, Val Prec = 0.8000, Val Rec = 0.8000, Val F-Beta = 0.8000, Val Loss = 0.2086\n"
     ]
    },
    {
     "name": "stderr",
     "output_type": "stream",
     "text": [
      "Iteration 1 - Epoch 15 - Training: 100%|██████████| 60/60 [00:18<00:00,  3.33it/s]\n",
      "Iteration 1 - Epoch 15 - Validation: 100%|██████████| 15/15 [00:01<00:00, 10.06it/s]\n"
     ]
    },
    {
     "name": "stdout",
     "output_type": "stream",
     "text": [
      "Iteration 1 - Epoch 15:\n",
      "  Train Acc = 1.0000, Train Prec = 1.0000, Train Rec = 1.0000, Train F-Beta = 1.0000, Train Loss = 0.0007\n",
      "  Val Acc = 0.9666, Val Prec = 0.7857, Val Rec = 0.8250, Val F-Beta = 0.7933, Val Loss = 0.2090\n"
     ]
    },
    {
     "name": "stderr",
     "output_type": "stream",
     "text": [
      "Iteration 1 - Epoch 16 - Training: 100%|██████████| 60/60 [00:18<00:00,  3.32it/s]\n",
      "Iteration 1 - Epoch 16 - Validation: 100%|██████████| 15/15 [00:01<00:00, 10.06it/s]\n"
     ]
    },
    {
     "name": "stdout",
     "output_type": "stream",
     "text": [
      "Iteration 1 - Epoch 16:\n",
      "  Train Acc = 1.0000, Train Prec = 1.0000, Train Rec = 1.0000, Train F-Beta = 1.0000, Train Loss = 0.0007\n",
      "  Val Acc = 0.9645, Val Prec = 0.7805, Val Rec = 0.8000, Val F-Beta = 0.7843, Val Loss = 0.2175\n"
     ]
    },
    {
     "name": "stderr",
     "output_type": "stream",
     "text": [
      "Iteration 1 - Epoch 17 - Training: 100%|██████████| 60/60 [00:18<00:00,  3.32it/s]\n",
      "Iteration 1 - Epoch 17 - Validation: 100%|██████████| 15/15 [00:01<00:00,  9.97it/s]\n"
     ]
    },
    {
     "name": "stdout",
     "output_type": "stream",
     "text": [
      "Iteration 1 - Epoch 17:\n",
      "  Train Acc = 1.0000, Train Prec = 1.0000, Train Rec = 1.0000, Train F-Beta = 1.0000, Train Loss = 0.0005\n",
      "  Val Acc = 0.9645, Val Prec = 0.7805, Val Rec = 0.8000, Val F-Beta = 0.7843, Val Loss = 0.2247\n"
     ]
    },
    {
     "name": "stderr",
     "output_type": "stream",
     "text": [
      "Iteration 1 - Epoch 18 - Training: 100%|██████████| 60/60 [00:18<00:00,  3.32it/s]\n",
      "Iteration 1 - Epoch 18 - Validation: 100%|██████████| 15/15 [00:01<00:00, 10.03it/s]\n"
     ]
    },
    {
     "name": "stdout",
     "output_type": "stream",
     "text": [
      "Iteration 1 - Epoch 18:\n",
      "  Train Acc = 1.0000, Train Prec = 1.0000, Train Rec = 1.0000, Train F-Beta = 1.0000, Train Loss = 0.0005\n",
      "  Val Acc = 0.9666, Val Prec = 0.8000, Val Rec = 0.8000, Val F-Beta = 0.8000, Val Loss = 0.2416\n"
     ]
    },
    {
     "name": "stderr",
     "output_type": "stream",
     "text": [
      "Iteration 1 - Epoch 19 - Training: 100%|██████████| 60/60 [00:18<00:00,  3.31it/s]\n",
      "Iteration 1 - Epoch 19 - Validation: 100%|██████████| 15/15 [00:01<00:00, 10.01it/s]\n"
     ]
    },
    {
     "name": "stdout",
     "output_type": "stream",
     "text": [
      "Iteration 1 - Epoch 19:\n",
      "  Train Acc = 0.9995, Train Prec = 1.0000, Train Rec = 0.9945, Train F-Beta = 0.9989, Train Loss = 0.0027\n",
      "  Val Acc = 0.9645, Val Prec = 0.7805, Val Rec = 0.8000, Val F-Beta = 0.7843, Val Loss = 0.2355\n"
     ]
    },
    {
     "name": "stderr",
     "output_type": "stream",
     "text": [
      "Iteration 1 - Epoch 20 - Training: 100%|██████████| 60/60 [00:18<00:00,  3.31it/s]\n",
      "Iteration 1 - Epoch 20 - Validation: 100%|██████████| 15/15 [00:01<00:00,  9.93it/s]\n"
     ]
    },
    {
     "name": "stdout",
     "output_type": "stream",
     "text": [
      "Iteration 1 - Epoch 20:\n",
      "  Train Acc = 0.9969, Train Prec = 0.9731, Train Rec = 0.9945, Train F-Beta = 0.9773, Train Loss = 0.0115\n",
      "  Val Acc = 0.9520, Val Prec = 0.8400, Val Rec = 0.5250, Val F-Beta = 0.7500, Val Loss = 0.3011\n"
     ]
    },
    {
     "name": "stderr",
     "output_type": "stream",
     "text": [
      "Iteration 1 - Epoch 21 - Training: 100%|██████████| 60/60 [00:18<00:00,  3.32it/s]\n",
      "Iteration 1 - Epoch 21 - Validation: 100%|██████████| 15/15 [00:01<00:00,  9.93it/s]\n"
     ]
    },
    {
     "name": "stdout",
     "output_type": "stream",
     "text": [
      "Iteration 1 - Epoch 21:\n",
      "  Train Acc = 0.9948, Train Prec = 0.9725, Train Rec = 0.9725, Train F-Beta = 0.9725, Train Loss = 0.0133\n",
      "  Val Acc = 0.9562, Val Prec = 0.7317, Val Rec = 0.7500, Val F-Beta = 0.7353, Val Loss = 0.2651\n"
     ]
    },
    {
     "name": "stderr",
     "output_type": "stream",
     "text": [
      "Iteration 1 - Epoch 22 - Training: 100%|██████████| 60/60 [00:18<00:00,  3.30it/s]\n",
      "Iteration 1 - Epoch 22 - Validation: 100%|██████████| 15/15 [00:01<00:00,  9.83it/s]\n"
     ]
    },
    {
     "name": "stdout",
     "output_type": "stream",
     "text": [
      "Iteration 1 - Epoch 22:\n",
      "  Train Acc = 0.9995, Train Prec = 1.0000, Train Rec = 0.9945, Train F-Beta = 0.9989, Train Loss = 0.0023\n",
      "  Val Acc = 0.9562, Val Prec = 0.7111, Val Rec = 0.8000, Val F-Beta = 0.7273, Val Loss = 0.2660\n"
     ]
    },
    {
     "name": "stderr",
     "output_type": "stream",
     "text": [
      "Iteration 1 - Epoch 23 - Training: 100%|██████████| 60/60 [00:18<00:00,  3.29it/s]\n",
      "Iteration 1 - Epoch 23 - Validation: 100%|██████████| 15/15 [00:01<00:00,  9.96it/s]\n"
     ]
    },
    {
     "name": "stdout",
     "output_type": "stream",
     "text": [
      "Iteration 1 - Epoch 23:\n",
      "  Train Acc = 0.9990, Train Prec = 1.0000, Train Rec = 0.9890, Train F-Beta = 0.9978, Train Loss = 0.0059\n",
      "  Val Acc = 0.9541, Val Prec = 0.6667, Val Rec = 0.9000, Val F-Beta = 0.7031, Val Loss = 0.2375\n"
     ]
    },
    {
     "name": "stderr",
     "output_type": "stream",
     "text": [
      "Iteration 1 - Epoch 24 - Training: 100%|██████████| 60/60 [00:18<00:00,  3.31it/s]\n",
      "Iteration 1 - Epoch 24 - Validation: 100%|██████████| 15/15 [00:01<00:00,  9.90it/s]\n"
     ]
    },
    {
     "name": "stdout",
     "output_type": "stream",
     "text": [
      "Iteration 1 - Epoch 24:\n",
      "  Train Acc = 0.9948, Train Prec = 0.9778, Train Rec = 0.9670, Train F-Beta = 0.9756, Train Loss = 0.0254\n",
      "  Val Acc = 0.9645, Val Prec = 0.7674, Val Rec = 0.8250, Val F-Beta = 0.7783, Val Loss = 0.1486\n"
     ]
    },
    {
     "name": "stderr",
     "output_type": "stream",
     "text": [
      "Iteration 1 - Epoch 25 - Training: 100%|██████████| 60/60 [00:18<00:00,  3.31it/s]\n",
      "Iteration 1 - Epoch 25 - Validation: 100%|██████████| 15/15 [00:01<00:00,  9.95it/s]\n"
     ]
    },
    {
     "name": "stdout",
     "output_type": "stream",
     "text": [
      "Iteration 1 - Epoch 25:\n",
      "  Train Acc = 1.0000, Train Prec = 1.0000, Train Rec = 1.0000, Train F-Beta = 1.0000, Train Loss = 0.0009\n",
      "  Val Acc = 0.9666, Val Prec = 0.7857, Val Rec = 0.8250, Val F-Beta = 0.7933, Val Loss = 0.1687\n"
     ]
    },
    {
     "name": "stderr",
     "output_type": "stream",
     "text": [
      "Iteration 1 - Epoch 26 - Training: 100%|██████████| 60/60 [00:18<00:00,  3.32it/s]\n",
      "Iteration 1 - Epoch 26 - Validation: 100%|██████████| 15/15 [00:01<00:00,  9.98it/s]\n"
     ]
    },
    {
     "name": "stdout",
     "output_type": "stream",
     "text": [
      "Iteration 1 - Epoch 26:\n",
      "  Train Acc = 1.0000, Train Prec = 1.0000, Train Rec = 1.0000, Train F-Beta = 1.0000, Train Loss = 0.0004\n",
      "  Val Acc = 0.9687, Val Prec = 0.8049, Val Rec = 0.8250, Val F-Beta = 0.8088, Val Loss = 0.1858\n"
     ]
    },
    {
     "name": "stderr",
     "output_type": "stream",
     "text": [
      "Iteration 1 - Epoch 27 - Training: 100%|██████████| 60/60 [00:18<00:00,  3.33it/s]\n",
      "Iteration 1 - Epoch 27 - Validation: 100%|██████████| 15/15 [00:01<00:00, 10.01it/s]\n"
     ]
    },
    {
     "name": "stdout",
     "output_type": "stream",
     "text": [
      "Iteration 1 - Epoch 27:\n",
      "  Train Acc = 1.0000, Train Prec = 1.0000, Train Rec = 1.0000, Train F-Beta = 1.0000, Train Loss = 0.0007\n",
      "  Val Acc = 0.9666, Val Prec = 0.7857, Val Rec = 0.8250, Val F-Beta = 0.7933, Val Loss = 0.1860\n"
     ]
    },
    {
     "name": "stderr",
     "output_type": "stream",
     "text": [
      "Iteration 1 - Epoch 28 - Training: 100%|██████████| 60/60 [00:18<00:00,  3.30it/s]\n",
      "Iteration 1 - Epoch 28 - Validation: 100%|██████████| 15/15 [00:01<00:00,  9.90it/s]\n"
     ]
    },
    {
     "name": "stdout",
     "output_type": "stream",
     "text": [
      "Iteration 1 - Epoch 28:\n",
      "  Train Acc = 1.0000, Train Prec = 1.0000, Train Rec = 1.0000, Train F-Beta = 1.0000, Train Loss = 0.0003\n",
      "  Val Acc = 0.9666, Val Prec = 0.7857, Val Rec = 0.8250, Val F-Beta = 0.7933, Val Loss = 0.1944\n"
     ]
    },
    {
     "name": "stderr",
     "output_type": "stream",
     "text": [
      "Iteration 1 - Epoch 29 - Training: 100%|██████████| 60/60 [00:18<00:00,  3.30it/s]\n",
      "Iteration 1 - Epoch 29 - Validation: 100%|██████████| 15/15 [00:01<00:00,  9.88it/s]\n"
     ]
    },
    {
     "name": "stdout",
     "output_type": "stream",
     "text": [
      "Iteration 1 - Epoch 29:\n",
      "  Train Acc = 1.0000, Train Prec = 1.0000, Train Rec = 1.0000, Train F-Beta = 1.0000, Train Loss = 0.0002\n",
      "  Val Acc = 0.9687, Val Prec = 0.8049, Val Rec = 0.8250, Val F-Beta = 0.8088, Val Loss = 0.2035\n"
     ]
    },
    {
     "name": "stderr",
     "output_type": "stream",
     "text": [
      "Iteration 1 - Epoch 30 - Training: 100%|██████████| 60/60 [00:18<00:00,  3.30it/s]\n",
      "Iteration 1 - Epoch 30 - Validation: 100%|██████████| 15/15 [00:01<00:00,  9.99it/s]\n"
     ]
    },
    {
     "name": "stdout",
     "output_type": "stream",
     "text": [
      "Iteration 1 - Epoch 30:\n",
      "  Train Acc = 1.0000, Train Prec = 1.0000, Train Rec = 1.0000, Train F-Beta = 1.0000, Train Loss = 0.0003\n",
      "  Val Acc = 0.9687, Val Prec = 0.8049, Val Rec = 0.8250, Val F-Beta = 0.8088, Val Loss = 0.2107\n"
     ]
    },
    {
     "name": "stderr",
     "output_type": "stream",
     "text": [
      "Iteration 1 - Epoch 31 - Training: 100%|██████████| 60/60 [00:18<00:00,  3.30it/s]\n",
      "Iteration 1 - Epoch 31 - Validation: 100%|██████████| 15/15 [00:01<00:00,  9.85it/s]\n"
     ]
    },
    {
     "name": "stdout",
     "output_type": "stream",
     "text": [
      "Iteration 1 - Epoch 31:\n",
      "  Train Acc = 1.0000, Train Prec = 1.0000, Train Rec = 1.0000, Train F-Beta = 1.0000, Train Loss = 0.0002\n",
      "  Val Acc = 0.9687, Val Prec = 0.8049, Val Rec = 0.8250, Val F-Beta = 0.8088, Val Loss = 0.2136\n"
     ]
    },
    {
     "name": "stderr",
     "output_type": "stream",
     "text": [
      "Iteration 1 - Epoch 32 - Training: 100%|██████████| 60/60 [00:18<00:00,  3.28it/s]\n",
      "Iteration 1 - Epoch 32 - Validation: 100%|██████████| 15/15 [00:01<00:00,  9.91it/s]\n"
     ]
    },
    {
     "name": "stdout",
     "output_type": "stream",
     "text": [
      "Iteration 1 - Epoch 32:\n",
      "  Train Acc = 1.0000, Train Prec = 1.0000, Train Rec = 1.0000, Train F-Beta = 1.0000, Train Loss = 0.0002\n",
      "  Val Acc = 0.9687, Val Prec = 0.8049, Val Rec = 0.8250, Val F-Beta = 0.8088, Val Loss = 0.2171\n"
     ]
    },
    {
     "name": "stderr",
     "output_type": "stream",
     "text": [
      "Iteration 1 - Epoch 33 - Training: 100%|██████████| 60/60 [00:18<00:00,  3.24it/s]\n",
      "Iteration 1 - Epoch 33 - Validation: 100%|██████████| 15/15 [00:01<00:00,  9.42it/s]\n"
     ]
    },
    {
     "name": "stdout",
     "output_type": "stream",
     "text": [
      "Iteration 1 - Epoch 33:\n",
      "  Train Acc = 1.0000, Train Prec = 1.0000, Train Rec = 1.0000, Train F-Beta = 1.0000, Train Loss = 0.0001\n",
      "  Val Acc = 0.9687, Val Prec = 0.8049, Val Rec = 0.8250, Val F-Beta = 0.8088, Val Loss = 0.2195\n"
     ]
    },
    {
     "name": "stderr",
     "output_type": "stream",
     "text": [
      "Iteration 1 - Epoch 34 - Training: 100%|██████████| 60/60 [00:19<00:00,  3.14it/s]\n",
      "Iteration 1 - Epoch 34 - Validation: 100%|██████████| 15/15 [00:01<00:00,  9.38it/s]\n"
     ]
    },
    {
     "name": "stdout",
     "output_type": "stream",
     "text": [
      "Iteration 1 - Epoch 34:\n",
      "  Train Acc = 1.0000, Train Prec = 1.0000, Train Rec = 1.0000, Train F-Beta = 1.0000, Train Loss = 0.0001\n",
      "  Val Acc = 0.9687, Val Prec = 0.8049, Val Rec = 0.8250, Val F-Beta = 0.8088, Val Loss = 0.2239\n"
     ]
    },
    {
     "name": "stderr",
     "output_type": "stream",
     "text": [
      "Iteration 1 - Epoch 35 - Training: 100%|██████████| 60/60 [00:18<00:00,  3.20it/s]\n",
      "Iteration 1 - Epoch 35 - Validation: 100%|██████████| 15/15 [00:01<00:00,  9.79it/s]\n"
     ]
    },
    {
     "name": "stdout",
     "output_type": "stream",
     "text": [
      "Iteration 1 - Epoch 35:\n",
      "  Train Acc = 1.0000, Train Prec = 1.0000, Train Rec = 1.0000, Train F-Beta = 1.0000, Train Loss = 0.0001\n",
      "  Val Acc = 0.9687, Val Prec = 0.8049, Val Rec = 0.8250, Val F-Beta = 0.8088, Val Loss = 0.2268\n"
     ]
    },
    {
     "name": "stderr",
     "output_type": "stream",
     "text": [
      "Iteration 1 - Epoch 36 - Training: 100%|██████████| 60/60 [00:18<00:00,  3.24it/s]\n",
      "Iteration 1 - Epoch 36 - Validation: 100%|██████████| 15/15 [00:01<00:00,  9.55it/s]\n"
     ]
    },
    {
     "name": "stdout",
     "output_type": "stream",
     "text": [
      "Iteration 1 - Epoch 36:\n",
      "  Train Acc = 1.0000, Train Prec = 1.0000, Train Rec = 1.0000, Train F-Beta = 1.0000, Train Loss = 0.0001\n",
      "  Val Acc = 0.9687, Val Prec = 0.8049, Val Rec = 0.8250, Val F-Beta = 0.8088, Val Loss = 0.2291\n"
     ]
    },
    {
     "name": "stderr",
     "output_type": "stream",
     "text": [
      "Iteration 1 - Epoch 37 - Training: 100%|██████████| 60/60 [00:18<00:00,  3.24it/s]\n",
      "Iteration 1 - Epoch 37 - Validation: 100%|██████████| 15/15 [00:01<00:00,  9.83it/s]\n"
     ]
    },
    {
     "name": "stdout",
     "output_type": "stream",
     "text": [
      "Iteration 1 - Epoch 37:\n",
      "  Train Acc = 1.0000, Train Prec = 1.0000, Train Rec = 1.0000, Train F-Beta = 1.0000, Train Loss = 0.0002\n",
      "  Val Acc = 0.9666, Val Prec = 0.8158, Val Rec = 0.7750, Val F-Beta = 0.8073, Val Loss = 0.2553\n"
     ]
    },
    {
     "name": "stderr",
     "output_type": "stream",
     "text": [
      "Iteration 1 - Epoch 38 - Training: 100%|██████████| 60/60 [00:18<00:00,  3.22it/s]\n",
      "Iteration 1 - Epoch 38 - Validation: 100%|██████████| 15/15 [00:01<00:00,  9.51it/s]\n"
     ]
    },
    {
     "name": "stdout",
     "output_type": "stream",
     "text": [
      "Iteration 1 - Epoch 38:\n",
      "  Train Acc = 1.0000, Train Prec = 1.0000, Train Rec = 1.0000, Train F-Beta = 1.0000, Train Loss = 0.0002\n",
      "  Val Acc = 0.9687, Val Prec = 0.8049, Val Rec = 0.8250, Val F-Beta = 0.8088, Val Loss = 0.2321\n"
     ]
    },
    {
     "name": "stderr",
     "output_type": "stream",
     "text": [
      "Iteration 1 - Epoch 39 - Training: 100%|██████████| 60/60 [00:18<00:00,  3.21it/s]\n",
      "Iteration 1 - Epoch 39 - Validation: 100%|██████████| 15/15 [00:01<00:00,  9.64it/s]\n"
     ]
    },
    {
     "name": "stdout",
     "output_type": "stream",
     "text": [
      "Iteration 1 - Epoch 39:\n",
      "  Train Acc = 1.0000, Train Prec = 1.0000, Train Rec = 1.0000, Train F-Beta = 1.0000, Train Loss = 0.0001\n",
      "  Val Acc = 0.9687, Val Prec = 0.8049, Val Rec = 0.8250, Val F-Beta = 0.8088, Val Loss = 0.2334\n"
     ]
    },
    {
     "name": "stderr",
     "output_type": "stream",
     "text": [
      "Iteration 1 - Epoch 40 - Training: 100%|██████████| 60/60 [00:18<00:00,  3.22it/s]\n",
      "Iteration 1 - Epoch 40 - Validation: 100%|██████████| 15/15 [00:01<00:00,  9.63it/s]\n"
     ]
    },
    {
     "name": "stdout",
     "output_type": "stream",
     "text": [
      "Iteration 1 - Epoch 40:\n",
      "  Train Acc = 1.0000, Train Prec = 1.0000, Train Rec = 1.0000, Train F-Beta = 1.0000, Train Loss = 0.0001\n",
      "  Val Acc = 0.9687, Val Prec = 0.8049, Val Rec = 0.8250, Val F-Beta = 0.8088, Val Loss = 0.2357\n"
     ]
    },
    {
     "name": "stderr",
     "output_type": "stream",
     "text": [
      "Iteration 1 - Epoch 41 - Training: 100%|██████████| 60/60 [00:18<00:00,  3.26it/s]\n",
      "Iteration 1 - Epoch 41 - Validation: 100%|██████████| 15/15 [00:01<00:00,  9.82it/s]\n"
     ]
    },
    {
     "name": "stdout",
     "output_type": "stream",
     "text": [
      "Iteration 1 - Epoch 41:\n",
      "  Train Acc = 1.0000, Train Prec = 1.0000, Train Rec = 1.0000, Train F-Beta = 1.0000, Train Loss = 0.0001\n",
      "  Val Acc = 0.9687, Val Prec = 0.8049, Val Rec = 0.8250, Val F-Beta = 0.8088, Val Loss = 0.2378\n"
     ]
    },
    {
     "name": "stderr",
     "output_type": "stream",
     "text": [
      "Iteration 1 - Epoch 42 - Training: 100%|██████████| 60/60 [00:18<00:00,  3.24it/s]\n",
      "Iteration 1 - Epoch 42 - Validation: 100%|██████████| 15/15 [00:01<00:00,  9.76it/s]\n"
     ]
    },
    {
     "name": "stdout",
     "output_type": "stream",
     "text": [
      "Iteration 1 - Epoch 42:\n",
      "  Train Acc = 0.9995, Train Prec = 1.0000, Train Rec = 0.9945, Train F-Beta = 0.9989, Train Loss = 0.0021\n",
      "  Val Acc = 0.9666, Val Prec = 0.7857, Val Rec = 0.8250, Val F-Beta = 0.7933, Val Loss = 0.2568\n"
     ]
    },
    {
     "name": "stderr",
     "output_type": "stream",
     "text": [
      "Iteration 1 - Epoch 43 - Training: 100%|██████████| 60/60 [00:18<00:00,  3.24it/s]\n",
      "Iteration 1 - Epoch 43 - Validation: 100%|██████████| 15/15 [00:01<00:00,  9.76it/s]\n"
     ]
    },
    {
     "name": "stdout",
     "output_type": "stream",
     "text": [
      "Iteration 1 - Epoch 43:\n",
      "  Train Acc = 1.0000, Train Prec = 1.0000, Train Rec = 1.0000, Train F-Beta = 1.0000, Train Loss = 0.0001\n",
      "  Val Acc = 0.9666, Val Prec = 0.7857, Val Rec = 0.8250, Val F-Beta = 0.7933, Val Loss = 0.2598\n"
     ]
    },
    {
     "name": "stderr",
     "output_type": "stream",
     "text": [
      "Iteration 1 - Epoch 44 - Training: 100%|██████████| 60/60 [00:18<00:00,  3.25it/s]\n",
      "Iteration 1 - Epoch 44 - Validation: 100%|██████████| 15/15 [00:01<00:00,  9.83it/s]\n"
     ]
    },
    {
     "name": "stdout",
     "output_type": "stream",
     "text": [
      "Iteration 1 - Epoch 44:\n",
      "  Train Acc = 1.0000, Train Prec = 1.0000, Train Rec = 1.0000, Train F-Beta = 1.0000, Train Loss = 0.0001\n",
      "  Val Acc = 0.9666, Val Prec = 0.7857, Val Rec = 0.8250, Val F-Beta = 0.7933, Val Loss = 0.2618\n"
     ]
    },
    {
     "name": "stderr",
     "output_type": "stream",
     "text": [
      "Iteration 1 - Epoch 45 - Training: 100%|██████████| 60/60 [00:18<00:00,  3.27it/s]\n",
      "Iteration 1 - Epoch 45 - Validation: 100%|██████████| 15/15 [00:01<00:00,  9.82it/s]\n"
     ]
    },
    {
     "name": "stdout",
     "output_type": "stream",
     "text": [
      "Iteration 1 - Epoch 45:\n",
      "  Train Acc = 1.0000, Train Prec = 1.0000, Train Rec = 1.0000, Train F-Beta = 1.0000, Train Loss = 0.0001\n",
      "  Val Acc = 0.9666, Val Prec = 0.7857, Val Rec = 0.8250, Val F-Beta = 0.7933, Val Loss = 0.2642\n"
     ]
    },
    {
     "name": "stderr",
     "output_type": "stream",
     "text": [
      "Iteration 1 - Epoch 46 - Training: 100%|██████████| 60/60 [00:18<00:00,  3.25it/s]\n",
      "Iteration 1 - Epoch 46 - Validation: 100%|██████████| 15/15 [00:01<00:00,  9.77it/s]\n"
     ]
    },
    {
     "name": "stdout",
     "output_type": "stream",
     "text": [
      "Iteration 1 - Epoch 46:\n",
      "  Train Acc = 1.0000, Train Prec = 1.0000, Train Rec = 1.0000, Train F-Beta = 1.0000, Train Loss = 0.0001\n",
      "  Val Acc = 0.9666, Val Prec = 0.7857, Val Rec = 0.8250, Val F-Beta = 0.7933, Val Loss = 0.2661\n"
     ]
    },
    {
     "name": "stderr",
     "output_type": "stream",
     "text": [
      "Iteration 1 - Epoch 47 - Training: 100%|██████████| 60/60 [00:18<00:00,  3.26it/s]\n",
      "Iteration 1 - Epoch 47 - Validation: 100%|██████████| 15/15 [00:01<00:00,  9.79it/s]\n"
     ]
    },
    {
     "name": "stdout",
     "output_type": "stream",
     "text": [
      "Iteration 1 - Epoch 47:\n",
      "  Train Acc = 1.0000, Train Prec = 1.0000, Train Rec = 1.0000, Train F-Beta = 1.0000, Train Loss = 0.0001\n",
      "  Val Acc = 0.9666, Val Prec = 0.7857, Val Rec = 0.8250, Val F-Beta = 0.7933, Val Loss = 0.2683\n"
     ]
    },
    {
     "name": "stderr",
     "output_type": "stream",
     "text": [
      "Iteration 1 - Epoch 48 - Training: 100%|██████████| 60/60 [00:18<00:00,  3.25it/s]\n",
      "Iteration 1 - Epoch 48 - Validation: 100%|██████████| 15/15 [00:01<00:00,  9.61it/s]\n"
     ]
    },
    {
     "name": "stdout",
     "output_type": "stream",
     "text": [
      "Iteration 1 - Epoch 48:\n",
      "  Train Acc = 0.9995, Train Prec = 1.0000, Train Rec = 0.9945, Train F-Beta = 0.9989, Train Loss = 0.0041\n",
      "  Val Acc = 0.9520, Val Prec = 0.6491, Val Rec = 0.9250, Val F-Beta = 0.6903, Val Loss = 0.3817\n"
     ]
    },
    {
     "name": "stderr",
     "output_type": "stream",
     "text": [
      "Iteration 1 - Epoch 49 - Training: 100%|██████████| 60/60 [00:18<00:00,  3.24it/s]\n",
      "Iteration 1 - Epoch 49 - Validation: 100%|██████████| 15/15 [00:01<00:00,  9.78it/s]\n"
     ]
    },
    {
     "name": "stdout",
     "output_type": "stream",
     "text": [
      "Iteration 1 - Epoch 49:\n",
      "  Train Acc = 0.9984, Train Prec = 0.9891, Train Rec = 0.9945, Train F-Beta = 0.9902, Train Loss = 0.0101\n",
      "  Val Acc = 0.9708, Val Prec = 0.8824, Val Rec = 0.7500, Val F-Beta = 0.8523, Val Loss = 0.1930\n",
      "  Better model saved with 0.8523 F-beta score.\n"
     ]
    },
    {
     "name": "stderr",
     "output_type": "stream",
     "text": [
      "Iteration 1 - Epoch 50 - Training: 100%|██████████| 60/60 [00:18<00:00,  3.26it/s]\n",
      "Iteration 1 - Epoch 50 - Validation: 100%|██████████| 15/15 [00:01<00:00,  9.79it/s]\n"
     ]
    },
    {
     "name": "stdout",
     "output_type": "stream",
     "text": [
      "Iteration 1 - Epoch 50:\n",
      "  Train Acc = 0.9995, Train Prec = 0.9945, Train Rec = 1.0000, Train F-Beta = 0.9956, Train Loss = 0.0014\n",
      "  Val Acc = 0.9624, Val Prec = 0.7895, Val Rec = 0.7500, Val F-Beta = 0.7812, Val Loss = 0.2526\n",
      "Iteration 2/10\n"
     ]
    },
    {
     "name": "stderr",
     "output_type": "stream",
     "text": [
      "Some weights of ElectraForSequenceClassification were not initialized from the model checkpoint at beomi/KcELECTRA-base-v2022 and are newly initialized: ['classifier.dense.bias', 'classifier.dense.weight', 'classifier.out_proj.bias', 'classifier.out_proj.weight']\n",
      "You should probably TRAIN this model on a down-stream task to be able to use it for predictions and inference.\n",
      "Iteration 2 - Epoch 1 - Training: 100%|██████████| 60/60 [00:18<00:00,  3.25it/s]\n",
      "Iteration 2 - Epoch 1 - Validation: 100%|██████████| 15/15 [00:01<00:00,  9.78it/s]\n",
      "/home/retn0/repositories/nbsp1221/communav/.venv/lib/python3.10/site-packages/sklearn/metrics/_classification.py:1509: UndefinedMetricWarning: Precision is ill-defined and being set to 0.0 due to no predicted samples. Use `zero_division` parameter to control this behavior.\n",
      "  _warn_prf(average, modifier, f\"{metric.capitalize()} is\", len(result))\n"
     ]
    },
    {
     "name": "stdout",
     "output_type": "stream",
     "text": [
      "Iteration 2 - Epoch 1:\n",
      "  Train Acc = 0.9022, Train Prec = 0.2222, Train Rec = 0.0110, Train F-Beta = 0.0459, Train Loss = 0.3405\n",
      "  Val Acc = 0.9165, Val Prec = 0.0000, Val Rec = 0.0000, Val F-Beta = 0.0000, Val Loss = 0.2231\n"
     ]
    },
    {
     "name": "stderr",
     "output_type": "stream",
     "text": [
      "Iteration 2 - Epoch 2 - Training: 100%|██████████| 60/60 [00:18<00:00,  3.25it/s]\n",
      "Iteration 2 - Epoch 2 - Validation: 100%|██████████| 15/15 [00:01<00:00,  9.80it/s]\n"
     ]
    },
    {
     "name": "stdout",
     "output_type": "stream",
     "text": [
      "Iteration 2 - Epoch 2:\n",
      "  Train Acc = 0.9127, Train Prec = 0.5773, Train Rec = 0.3077, Train F-Beta = 0.4912, Train Loss = 0.1932\n",
      "  Val Acc = 0.9582, Val Prec = 0.7941, Val Rec = 0.6750, Val F-Beta = 0.7670, Val Loss = 0.1196\n",
      "  Better model saved with 0.7670 F-beta score.\n"
     ]
    },
    {
     "name": "stderr",
     "output_type": "stream",
     "text": [
      "Iteration 2 - Epoch 3 - Training: 100%|██████████| 60/60 [00:18<00:00,  3.26it/s]\n",
      "Iteration 2 - Epoch 3 - Validation: 100%|██████████| 15/15 [00:01<00:00,  9.80it/s]\n"
     ]
    },
    {
     "name": "stdout",
     "output_type": "stream",
     "text": [
      "Iteration 2 - Epoch 3:\n",
      "  Train Acc = 0.9676, Train Prec = 0.8191, Train Rec = 0.8462, Train F-Beta = 0.8244, Train Loss = 0.1057\n",
      "  Val Acc = 0.9666, Val Prec = 0.8158, Val Rec = 0.7750, Val F-Beta = 0.8073, Val Loss = 0.1234\n",
      "  Better model saved with 0.8073 F-beta score.\n"
     ]
    },
    {
     "name": "stderr",
     "output_type": "stream",
     "text": [
      "Iteration 2 - Epoch 4 - Training: 100%|██████████| 60/60 [00:18<00:00,  3.25it/s]\n",
      "Iteration 2 - Epoch 4 - Validation: 100%|██████████| 15/15 [00:01<00:00,  9.65it/s]\n"
     ]
    },
    {
     "name": "stdout",
     "output_type": "stream",
     "text": [
      "Iteration 2 - Epoch 4:\n",
      "  Train Acc = 0.9796, Train Prec = 0.8950, Train Rec = 0.8901, Train F-Beta = 0.8940, Train Loss = 0.0655\n",
      "  Val Acc = 0.9708, Val Prec = 0.8611, Val Rec = 0.7750, Val F-Beta = 0.8424, Val Loss = 0.1110\n",
      "  Better model saved with 0.8424 F-beta score.\n"
     ]
    },
    {
     "name": "stderr",
     "output_type": "stream",
     "text": [
      "Iteration 2 - Epoch 5 - Training: 100%|██████████| 60/60 [00:18<00:00,  3.26it/s]\n",
      "Iteration 2 - Epoch 5 - Validation: 100%|██████████| 15/15 [00:01<00:00,  9.82it/s]\n"
     ]
    },
    {
     "name": "stdout",
     "output_type": "stream",
     "text": [
      "Iteration 2 - Epoch 5:\n",
      "  Train Acc = 0.9901, Train Prec = 0.9454, Train Rec = 0.9505, Train F-Beta = 0.9464, Train Loss = 0.0369\n",
      "  Val Acc = 0.9687, Val Prec = 0.8788, Val Rec = 0.7250, Val F-Beta = 0.8430, Val Loss = 0.1210\n",
      "  Better model saved with 0.8430 F-beta score.\n"
     ]
    },
    {
     "name": "stderr",
     "output_type": "stream",
     "text": [
      "Iteration 2 - Epoch 6 - Training: 100%|██████████| 60/60 [00:18<00:00,  3.27it/s]\n",
      "Iteration 2 - Epoch 6 - Validation: 100%|██████████| 15/15 [00:01<00:00,  9.84it/s]\n"
     ]
    },
    {
     "name": "stdout",
     "output_type": "stream",
     "text": [
      "Iteration 2 - Epoch 6:\n",
      "  Train Acc = 0.9922, Train Prec = 0.9613, Train Rec = 0.9560, Train F-Beta = 0.9603, Train Loss = 0.0284\n",
      "  Val Acc = 0.9666, Val Prec = 0.8000, Val Rec = 0.8000, Val F-Beta = 0.8000, Val Loss = 0.1089\n"
     ]
    },
    {
     "name": "stderr",
     "output_type": "stream",
     "text": [
      "Iteration 2 - Epoch 7 - Training: 100%|██████████| 60/60 [00:18<00:00,  3.27it/s]\n",
      "Iteration 2 - Epoch 7 - Validation: 100%|██████████| 15/15 [00:01<00:00,  9.81it/s]\n"
     ]
    },
    {
     "name": "stdout",
     "output_type": "stream",
     "text": [
      "Iteration 2 - Epoch 7:\n",
      "  Train Acc = 0.9942, Train Prec = 0.9724, Train Rec = 0.9670, Train F-Beta = 0.9713, Train Loss = 0.0207\n",
      "  Val Acc = 0.9520, Val Prec = 0.6604, Val Rec = 0.8750, Val F-Beta = 0.6944, Val Loss = 0.1577\n"
     ]
    },
    {
     "name": "stderr",
     "output_type": "stream",
     "text": [
      "Iteration 2 - Epoch 8 - Training: 100%|██████████| 60/60 [00:18<00:00,  3.24it/s]\n",
      "Iteration 2 - Epoch 8 - Validation: 100%|██████████| 15/15 [00:01<00:00,  9.82it/s]\n"
     ]
    },
    {
     "name": "stdout",
     "output_type": "stream",
     "text": [
      "Iteration 2 - Epoch 8:\n",
      "  Train Acc = 0.9990, Train Prec = 1.0000, Train Rec = 0.9890, Train F-Beta = 0.9978, Train Loss = 0.0072\n",
      "  Val Acc = 0.9645, Val Prec = 0.8108, Val Rec = 0.7500, Val F-Beta = 0.7979, Val Loss = 0.1648\n"
     ]
    },
    {
     "name": "stderr",
     "output_type": "stream",
     "text": [
      "Iteration 2 - Epoch 9 - Training: 100%|██████████| 60/60 [00:18<00:00,  3.23it/s]\n",
      "Iteration 2 - Epoch 9 - Validation: 100%|██████████| 15/15 [00:01<00:00,  9.74it/s]\n"
     ]
    },
    {
     "name": "stdout",
     "output_type": "stream",
     "text": [
      "Iteration 2 - Epoch 9:\n",
      "  Train Acc = 0.9948, Train Prec = 0.9778, Train Rec = 0.9670, Train F-Beta = 0.9756, Train Loss = 0.0179\n",
      "  Val Acc = 0.9624, Val Prec = 0.8667, Val Rec = 0.6500, Val F-Beta = 0.8125, Val Loss = 0.1793\n"
     ]
    },
    {
     "name": "stderr",
     "output_type": "stream",
     "text": [
      "Iteration 2 - Epoch 10 - Training: 100%|██████████| 60/60 [00:18<00:00,  3.20it/s]\n",
      "Iteration 2 - Epoch 10 - Validation: 100%|██████████| 15/15 [00:01<00:00,  9.73it/s]\n"
     ]
    },
    {
     "name": "stdout",
     "output_type": "stream",
     "text": [
      "Iteration 2 - Epoch 10:\n",
      "  Train Acc = 0.9948, Train Prec = 0.9778, Train Rec = 0.9670, Train F-Beta = 0.9756, Train Loss = 0.0136\n",
      "  Val Acc = 0.9666, Val Prec = 0.9000, Val Rec = 0.6750, Val F-Beta = 0.8438, Val Loss = 0.1732\n",
      "  Better model saved with 0.8438 F-beta score.\n"
     ]
    },
    {
     "name": "stderr",
     "output_type": "stream",
     "text": [
      "Iteration 2 - Epoch 11 - Training: 100%|██████████| 60/60 [00:18<00:00,  3.22it/s]\n",
      "Iteration 2 - Epoch 11 - Validation: 100%|██████████| 15/15 [00:01<00:00,  9.76it/s]\n"
     ]
    },
    {
     "name": "stdout",
     "output_type": "stream",
     "text": [
      "Iteration 2 - Epoch 11:\n",
      "  Train Acc = 0.9990, Train Prec = 0.9945, Train Rec = 0.9945, Train F-Beta = 0.9945, Train Loss = 0.0050\n",
      "  Val Acc = 0.9624, Val Prec = 0.7750, Val Rec = 0.7750, Val F-Beta = 0.7750, Val Loss = 0.1889\n"
     ]
    },
    {
     "name": "stderr",
     "output_type": "stream",
     "text": [
      "Iteration 2 - Epoch 12 - Training: 100%|██████████| 60/60 [00:18<00:00,  3.25it/s]\n",
      "Iteration 2 - Epoch 12 - Validation: 100%|██████████| 15/15 [00:01<00:00,  9.76it/s]\n"
     ]
    },
    {
     "name": "stdout",
     "output_type": "stream",
     "text": [
      "Iteration 2 - Epoch 12:\n",
      "  Train Acc = 0.9995, Train Prec = 1.0000, Train Rec = 0.9945, Train F-Beta = 0.9989, Train Loss = 0.0015\n",
      "  Val Acc = 0.9645, Val Prec = 0.7949, Val Rec = 0.7750, Val F-Beta = 0.7908, Val Loss = 0.2046\n"
     ]
    },
    {
     "name": "stderr",
     "output_type": "stream",
     "text": [
      "Iteration 2 - Epoch 13 - Training: 100%|██████████| 60/60 [00:18<00:00,  3.25it/s]\n",
      "Iteration 2 - Epoch 13 - Validation: 100%|██████████| 15/15 [00:01<00:00,  9.70it/s]\n"
     ]
    },
    {
     "name": "stdout",
     "output_type": "stream",
     "text": [
      "Iteration 2 - Epoch 13:\n",
      "  Train Acc = 0.9990, Train Prec = 1.0000, Train Rec = 0.9890, Train F-Beta = 0.9978, Train Loss = 0.0021\n",
      "  Val Acc = 0.9687, Val Prec = 0.8205, Val Rec = 0.8000, Val F-Beta = 0.8163, Val Loss = 0.1897\n"
     ]
    },
    {
     "name": "stderr",
     "output_type": "stream",
     "text": [
      "Iteration 2 - Epoch 14 - Training: 100%|██████████| 60/60 [00:18<00:00,  3.23it/s]\n",
      "Iteration 2 - Epoch 14 - Validation: 100%|██████████| 15/15 [00:01<00:00,  9.76it/s]\n"
     ]
    },
    {
     "name": "stdout",
     "output_type": "stream",
     "text": [
      "Iteration 2 - Epoch 14:\n",
      "  Train Acc = 1.0000, Train Prec = 1.0000, Train Rec = 1.0000, Train F-Beta = 1.0000, Train Loss = 0.0009\n",
      "  Val Acc = 0.9666, Val Prec = 0.8000, Val Rec = 0.8000, Val F-Beta = 0.8000, Val Loss = 0.1991\n"
     ]
    },
    {
     "name": "stderr",
     "output_type": "stream",
     "text": [
      "Iteration 2 - Epoch 15 - Training: 100%|██████████| 60/60 [00:18<00:00,  3.24it/s]\n",
      "Iteration 2 - Epoch 15 - Validation: 100%|██████████| 15/15 [00:01<00:00,  9.68it/s]\n"
     ]
    },
    {
     "name": "stdout",
     "output_type": "stream",
     "text": [
      "Iteration 2 - Epoch 15:\n",
      "  Train Acc = 1.0000, Train Prec = 1.0000, Train Rec = 1.0000, Train F-Beta = 1.0000, Train Loss = 0.0007\n",
      "  Val Acc = 0.9708, Val Prec = 0.8421, Val Rec = 0.8000, Val F-Beta = 0.8333, Val Loss = 0.2000\n"
     ]
    },
    {
     "name": "stderr",
     "output_type": "stream",
     "text": [
      "Iteration 2 - Epoch 16 - Training: 100%|██████████| 60/60 [00:18<00:00,  3.26it/s]\n",
      "Iteration 2 - Epoch 16 - Validation: 100%|██████████| 15/15 [00:01<00:00,  9.82it/s]\n"
     ]
    },
    {
     "name": "stdout",
     "output_type": "stream",
     "text": [
      "Iteration 2 - Epoch 16:\n",
      "  Train Acc = 1.0000, Train Prec = 1.0000, Train Rec = 1.0000, Train F-Beta = 1.0000, Train Loss = 0.0005\n",
      "  Val Acc = 0.9708, Val Prec = 0.8421, Val Rec = 0.8000, Val F-Beta = 0.8333, Val Loss = 0.2059\n"
     ]
    },
    {
     "name": "stderr",
     "output_type": "stream",
     "text": [
      "Iteration 2 - Epoch 17 - Training: 100%|██████████| 60/60 [00:18<00:00,  3.25it/s]\n",
      "Iteration 2 - Epoch 17 - Validation: 100%|██████████| 15/15 [00:01<00:00,  9.84it/s]\n"
     ]
    },
    {
     "name": "stdout",
     "output_type": "stream",
     "text": [
      "Iteration 2 - Epoch 17:\n",
      "  Train Acc = 1.0000, Train Prec = 1.0000, Train Rec = 1.0000, Train F-Beta = 1.0000, Train Loss = 0.0004\n",
      "  Val Acc = 0.9708, Val Prec = 0.8421, Val Rec = 0.8000, Val F-Beta = 0.8333, Val Loss = 0.2100\n"
     ]
    },
    {
     "name": "stderr",
     "output_type": "stream",
     "text": [
      "Iteration 2 - Epoch 18 - Training: 100%|██████████| 60/60 [00:18<00:00,  3.23it/s]\n",
      "Iteration 2 - Epoch 18 - Validation: 100%|██████████| 15/15 [00:01<00:00,  9.74it/s]\n"
     ]
    },
    {
     "name": "stdout",
     "output_type": "stream",
     "text": [
      "Iteration 2 - Epoch 18:\n",
      "  Train Acc = 1.0000, Train Prec = 1.0000, Train Rec = 1.0000, Train F-Beta = 1.0000, Train Loss = 0.0005\n",
      "  Val Acc = 0.9708, Val Prec = 0.8421, Val Rec = 0.8000, Val F-Beta = 0.8333, Val Loss = 0.2140\n"
     ]
    },
    {
     "name": "stderr",
     "output_type": "stream",
     "text": [
      "Iteration 2 - Epoch 19 - Training: 100%|██████████| 60/60 [00:18<00:00,  3.25it/s]\n",
      "Iteration 2 - Epoch 19 - Validation: 100%|██████████| 15/15 [00:01<00:00,  9.77it/s]\n"
     ]
    },
    {
     "name": "stdout",
     "output_type": "stream",
     "text": [
      "Iteration 2 - Epoch 19:\n",
      "  Train Acc = 1.0000, Train Prec = 1.0000, Train Rec = 1.0000, Train F-Beta = 1.0000, Train Loss = 0.0003\n",
      "  Val Acc = 0.9708, Val Prec = 0.8421, Val Rec = 0.8000, Val F-Beta = 0.8333, Val Loss = 0.2214\n"
     ]
    },
    {
     "name": "stderr",
     "output_type": "stream",
     "text": [
      "Iteration 2 - Epoch 20 - Training: 100%|██████████| 60/60 [00:18<00:00,  3.26it/s]\n",
      "Iteration 2 - Epoch 20 - Validation: 100%|██████████| 15/15 [00:01<00:00,  9.83it/s]\n"
     ]
    },
    {
     "name": "stdout",
     "output_type": "stream",
     "text": [
      "Iteration 2 - Epoch 20:\n",
      "  Train Acc = 1.0000, Train Prec = 1.0000, Train Rec = 1.0000, Train F-Beta = 1.0000, Train Loss = 0.0003\n",
      "  Val Acc = 0.9708, Val Prec = 0.8421, Val Rec = 0.8000, Val F-Beta = 0.8333, Val Loss = 0.2250\n"
     ]
    },
    {
     "name": "stderr",
     "output_type": "stream",
     "text": [
      "Iteration 2 - Epoch 21 - Training: 100%|██████████| 60/60 [00:18<00:00,  3.27it/s]\n",
      "Iteration 2 - Epoch 21 - Validation: 100%|██████████| 15/15 [00:01<00:00,  9.78it/s]\n"
     ]
    },
    {
     "name": "stdout",
     "output_type": "stream",
     "text": [
      "Iteration 2 - Epoch 21:\n",
      "  Train Acc = 1.0000, Train Prec = 1.0000, Train Rec = 1.0000, Train F-Beta = 1.0000, Train Loss = 0.0003\n",
      "  Val Acc = 0.9708, Val Prec = 0.8421, Val Rec = 0.8000, Val F-Beta = 0.8333, Val Loss = 0.2342\n"
     ]
    },
    {
     "name": "stderr",
     "output_type": "stream",
     "text": [
      "Iteration 2 - Epoch 22 - Training: 100%|██████████| 60/60 [00:18<00:00,  3.25it/s]\n",
      "Iteration 2 - Epoch 22 - Validation: 100%|██████████| 15/15 [00:01<00:00,  9.82it/s]\n"
     ]
    },
    {
     "name": "stdout",
     "output_type": "stream",
     "text": [
      "Iteration 2 - Epoch 22:\n",
      "  Train Acc = 0.9995, Train Prec = 1.0000, Train Rec = 0.9945, Train F-Beta = 0.9989, Train Loss = 0.0036\n",
      "  Val Acc = 0.9624, Val Prec = 0.8667, Val Rec = 0.6500, Val F-Beta = 0.8125, Val Loss = 0.2545\n"
     ]
    },
    {
     "name": "stderr",
     "output_type": "stream",
     "text": [
      "Iteration 2 - Epoch 23 - Training: 100%|██████████| 60/60 [00:18<00:00,  3.26it/s]\n",
      "Iteration 2 - Epoch 23 - Validation: 100%|██████████| 15/15 [00:01<00:00,  9.82it/s]\n"
     ]
    },
    {
     "name": "stdout",
     "output_type": "stream",
     "text": [
      "Iteration 2 - Epoch 23:\n",
      "  Train Acc = 0.9922, Train Prec = 0.9563, Train Rec = 0.9615, Train F-Beta = 0.9573, Train Loss = 0.0252\n",
      "  Val Acc = 0.9541, Val Prec = 0.6731, Val Rec = 0.8750, Val F-Beta = 0.7056, Val Loss = 0.1532\n"
     ]
    },
    {
     "name": "stderr",
     "output_type": "stream",
     "text": [
      "Iteration 2 - Epoch 24 - Training: 100%|██████████| 60/60 [00:18<00:00,  3.27it/s]\n",
      "Iteration 2 - Epoch 24 - Validation: 100%|██████████| 15/15 [00:01<00:00,  9.83it/s]\n"
     ]
    },
    {
     "name": "stdout",
     "output_type": "stream",
     "text": [
      "Iteration 2 - Epoch 24:\n",
      "  Train Acc = 0.9984, Train Prec = 0.9945, Train Rec = 0.9890, Train F-Beta = 0.9934, Train Loss = 0.0122\n",
      "  Val Acc = 0.9645, Val Prec = 0.8286, Val Rec = 0.7250, Val F-Beta = 0.8056, Val Loss = 0.2209\n"
     ]
    },
    {
     "name": "stderr",
     "output_type": "stream",
     "text": [
      "Iteration 2 - Epoch 25 - Training: 100%|██████████| 60/60 [00:18<00:00,  3.21it/s]\n",
      "Iteration 2 - Epoch 25 - Validation: 100%|██████████| 15/15 [00:01<00:00,  9.20it/s]\n"
     ]
    },
    {
     "name": "stdout",
     "output_type": "stream",
     "text": [
      "Iteration 2 - Epoch 25:\n",
      "  Train Acc = 1.0000, Train Prec = 1.0000, Train Rec = 1.0000, Train F-Beta = 1.0000, Train Loss = 0.0016\n",
      "  Val Acc = 0.9624, Val Prec = 0.7750, Val Rec = 0.7750, Val F-Beta = 0.7750, Val Loss = 0.2117\n"
     ]
    },
    {
     "name": "stderr",
     "output_type": "stream",
     "text": [
      "Iteration 2 - Epoch 26 - Training: 100%|██████████| 60/60 [00:18<00:00,  3.20it/s]\n",
      "Iteration 2 - Epoch 26 - Validation: 100%|██████████| 15/15 [00:01<00:00,  9.64it/s]\n"
     ]
    },
    {
     "name": "stdout",
     "output_type": "stream",
     "text": [
      "Iteration 2 - Epoch 26:\n",
      "  Train Acc = 1.0000, Train Prec = 1.0000, Train Rec = 1.0000, Train F-Beta = 1.0000, Train Loss = 0.0003\n",
      "  Val Acc = 0.9624, Val Prec = 0.7619, Val Rec = 0.8000, Val F-Beta = 0.7692, Val Loss = 0.2289\n"
     ]
    },
    {
     "name": "stderr",
     "output_type": "stream",
     "text": [
      "Iteration 2 - Epoch 27 - Training: 100%|██████████| 60/60 [00:18<00:00,  3.23it/s]\n",
      "Iteration 2 - Epoch 27 - Validation: 100%|██████████| 15/15 [00:01<00:00,  9.72it/s]\n"
     ]
    },
    {
     "name": "stdout",
     "output_type": "stream",
     "text": [
      "Iteration 2 - Epoch 27:\n",
      "  Train Acc = 1.0000, Train Prec = 1.0000, Train Rec = 1.0000, Train F-Beta = 1.0000, Train Loss = 0.0003\n",
      "  Val Acc = 0.9624, Val Prec = 0.7619, Val Rec = 0.8000, Val F-Beta = 0.7692, Val Loss = 0.2344\n"
     ]
    },
    {
     "name": "stderr",
     "output_type": "stream",
     "text": [
      "Iteration 2 - Epoch 28 - Training: 100%|██████████| 60/60 [00:18<00:00,  3.19it/s]\n",
      "Iteration 2 - Epoch 28 - Validation: 100%|██████████| 15/15 [00:01<00:00,  9.71it/s]\n"
     ]
    },
    {
     "name": "stdout",
     "output_type": "stream",
     "text": [
      "Iteration 2 - Epoch 28:\n",
      "  Train Acc = 0.9875, Train Prec = 0.9702, Train Rec = 0.8956, Train F-Beta = 0.9543, Train Loss = 0.0436\n",
      "  Val Acc = 0.9582, Val Prec = 0.7083, Val Rec = 0.8500, Val F-Beta = 0.7328, Val Loss = 0.1888\n"
     ]
    },
    {
     "name": "stderr",
     "output_type": "stream",
     "text": [
      "Iteration 2 - Epoch 29 - Training: 100%|██████████| 60/60 [00:18<00:00,  3.22it/s]\n",
      "Iteration 2 - Epoch 29 - Validation: 100%|██████████| 15/15 [00:01<00:00,  9.68it/s]\n"
     ]
    },
    {
     "name": "stdout",
     "output_type": "stream",
     "text": [
      "Iteration 2 - Epoch 29:\n",
      "  Train Acc = 0.9979, Train Prec = 0.9944, Train Rec = 0.9835, Train F-Beta = 0.9922, Train Loss = 0.0093\n",
      "  Val Acc = 0.9624, Val Prec = 0.7750, Val Rec = 0.7750, Val F-Beta = 0.7750, Val Loss = 0.1861\n"
     ]
    },
    {
     "name": "stderr",
     "output_type": "stream",
     "text": [
      "Iteration 2 - Epoch 30 - Training: 100%|██████████| 60/60 [00:18<00:00,  3.21it/s]\n",
      "Iteration 2 - Epoch 30 - Validation: 100%|██████████| 15/15 [00:01<00:00,  9.68it/s]\n"
     ]
    },
    {
     "name": "stdout",
     "output_type": "stream",
     "text": [
      "Iteration 2 - Epoch 30:\n",
      "  Train Acc = 1.0000, Train Prec = 1.0000, Train Rec = 1.0000, Train F-Beta = 1.0000, Train Loss = 0.0004\n",
      "  Val Acc = 0.9603, Val Prec = 0.7561, Val Rec = 0.7750, Val F-Beta = 0.7598, Val Loss = 0.2156\n"
     ]
    },
    {
     "name": "stderr",
     "output_type": "stream",
     "text": [
      "Iteration 2 - Epoch 31 - Training: 100%|██████████| 60/60 [00:18<00:00,  3.22it/s]\n",
      "Iteration 2 - Epoch 31 - Validation: 100%|██████████| 15/15 [00:01<00:00,  9.73it/s]\n"
     ]
    },
    {
     "name": "stdout",
     "output_type": "stream",
     "text": [
      "Iteration 2 - Epoch 31:\n",
      "  Train Acc = 0.9995, Train Prec = 1.0000, Train Rec = 0.9945, Train F-Beta = 0.9989, Train Loss = 0.0032\n",
      "  Val Acc = 0.9603, Val Prec = 0.7333, Val Rec = 0.8250, Val F-Beta = 0.7500, Val Loss = 0.2206\n"
     ]
    },
    {
     "name": "stderr",
     "output_type": "stream",
     "text": [
      "Iteration 2 - Epoch 32 - Training: 100%|██████████| 60/60 [00:18<00:00,  3.23it/s]\n",
      "Iteration 2 - Epoch 32 - Validation: 100%|██████████| 15/15 [00:01<00:00,  9.62it/s]\n"
     ]
    },
    {
     "name": "stdout",
     "output_type": "stream",
     "text": [
      "Iteration 2 - Epoch 32:\n",
      "  Train Acc = 1.0000, Train Prec = 1.0000, Train Rec = 1.0000, Train F-Beta = 1.0000, Train Loss = 0.0006\n",
      "  Val Acc = 0.9645, Val Prec = 0.7805, Val Rec = 0.8000, Val F-Beta = 0.7843, Val Loss = 0.2183\n"
     ]
    },
    {
     "name": "stderr",
     "output_type": "stream",
     "text": [
      "Iteration 2 - Epoch 33 - Training: 100%|██████████| 60/60 [00:18<00:00,  3.22it/s]\n",
      "Iteration 2 - Epoch 33 - Validation: 100%|██████████| 15/15 [00:01<00:00,  9.79it/s]\n"
     ]
    },
    {
     "name": "stdout",
     "output_type": "stream",
     "text": [
      "Iteration 2 - Epoch 33:\n",
      "  Train Acc = 0.9984, Train Prec = 0.9945, Train Rec = 0.9890, Train F-Beta = 0.9934, Train Loss = 0.0058\n",
      "  Val Acc = 0.9624, Val Prec = 0.7750, Val Rec = 0.7750, Val F-Beta = 0.7750, Val Loss = 0.1866\n"
     ]
    },
    {
     "name": "stderr",
     "output_type": "stream",
     "text": [
      "Iteration 2 - Epoch 34 - Training: 100%|██████████| 60/60 [00:18<00:00,  3.25it/s]\n",
      "Iteration 2 - Epoch 34 - Validation: 100%|██████████| 15/15 [00:01<00:00,  9.79it/s]\n"
     ]
    },
    {
     "name": "stdout",
     "output_type": "stream",
     "text": [
      "Iteration 2 - Epoch 34:\n",
      "  Train Acc = 0.9942, Train Prec = 0.9886, Train Rec = 0.9505, Train F-Beta = 0.9807, Train Loss = 0.0149\n",
      "  Val Acc = 0.9687, Val Prec = 0.8205, Val Rec = 0.8000, Val F-Beta = 0.8163, Val Loss = 0.1950\n"
     ]
    },
    {
     "name": "stderr",
     "output_type": "stream",
     "text": [
      "Iteration 2 - Epoch 35 - Training: 100%|██████████| 60/60 [00:18<00:00,  3.25it/s]\n",
      "Iteration 2 - Epoch 35 - Validation: 100%|██████████| 15/15 [00:01<00:00,  9.77it/s]\n"
     ]
    },
    {
     "name": "stdout",
     "output_type": "stream",
     "text": [
      "Iteration 2 - Epoch 35:\n",
      "  Train Acc = 0.9990, Train Prec = 1.0000, Train Rec = 0.9890, Train F-Beta = 0.9978, Train Loss = 0.0051\n",
      "  Val Acc = 0.9687, Val Prec = 0.8378, Val Rec = 0.7750, Val F-Beta = 0.8245, Val Loss = 0.1992\n"
     ]
    },
    {
     "name": "stderr",
     "output_type": "stream",
     "text": [
      "Iteration 2 - Epoch 36 - Training: 100%|██████████| 60/60 [00:18<00:00,  3.23it/s]\n",
      "Iteration 2 - Epoch 36 - Validation: 100%|██████████| 15/15 [00:01<00:00,  9.46it/s]\n"
     ]
    },
    {
     "name": "stdout",
     "output_type": "stream",
     "text": [
      "Iteration 2 - Epoch 36:\n",
      "  Train Acc = 1.0000, Train Prec = 1.0000, Train Rec = 1.0000, Train F-Beta = 1.0000, Train Loss = 0.0005\n",
      "  Val Acc = 0.9645, Val Prec = 0.7556, Val Rec = 0.8500, Val F-Beta = 0.7727, Val Loss = 0.2227\n"
     ]
    },
    {
     "name": "stderr",
     "output_type": "stream",
     "text": [
      "Iteration 2 - Epoch 37 - Training: 100%|██████████| 60/60 [00:18<00:00,  3.22it/s]\n",
      "Iteration 2 - Epoch 37 - Validation: 100%|██████████| 15/15 [00:01<00:00,  9.79it/s]\n"
     ]
    },
    {
     "name": "stdout",
     "output_type": "stream",
     "text": [
      "Iteration 2 - Epoch 37:\n",
      "  Train Acc = 1.0000, Train Prec = 1.0000, Train Rec = 1.0000, Train F-Beta = 1.0000, Train Loss = 0.0005\n",
      "  Val Acc = 0.9666, Val Prec = 0.7857, Val Rec = 0.8250, Val F-Beta = 0.7933, Val Loss = 0.2123\n"
     ]
    },
    {
     "name": "stderr",
     "output_type": "stream",
     "text": [
      "Iteration 2 - Epoch 38 - Training: 100%|██████████| 60/60 [00:18<00:00,  3.21it/s]\n",
      "Iteration 2 - Epoch 38 - Validation: 100%|██████████| 15/15 [00:01<00:00,  9.64it/s]\n"
     ]
    },
    {
     "name": "stdout",
     "output_type": "stream",
     "text": [
      "Iteration 2 - Epoch 38:\n",
      "  Train Acc = 0.9958, Train Prec = 0.9780, Train Rec = 0.9780, Train F-Beta = 0.9780, Train Loss = 0.0107\n",
      "  Val Acc = 0.9645, Val Prec = 0.7447, Val Rec = 0.8750, Val F-Beta = 0.7675, Val Loss = 0.1546\n"
     ]
    },
    {
     "name": "stderr",
     "output_type": "stream",
     "text": [
      "Iteration 2 - Epoch 39 - Training: 100%|██████████| 60/60 [00:18<00:00,  3.21it/s]\n",
      "Iteration 2 - Epoch 39 - Validation: 100%|██████████| 15/15 [00:01<00:00,  9.65it/s]\n"
     ]
    },
    {
     "name": "stdout",
     "output_type": "stream",
     "text": [
      "Iteration 2 - Epoch 39:\n",
      "  Train Acc = 0.9990, Train Prec = 0.9891, Train Rec = 1.0000, Train F-Beta = 0.9913, Train Loss = 0.0032\n",
      "  Val Acc = 0.9708, Val Prec = 0.8421, Val Rec = 0.8000, Val F-Beta = 0.8333, Val Loss = 0.2048\n"
     ]
    },
    {
     "name": "stderr",
     "output_type": "stream",
     "text": [
      "Iteration 2 - Epoch 40 - Training: 100%|██████████| 60/60 [00:18<00:00,  3.22it/s]\n",
      "Iteration 2 - Epoch 40 - Validation: 100%|██████████| 15/15 [00:01<00:00,  9.74it/s]\n"
     ]
    },
    {
     "name": "stdout",
     "output_type": "stream",
     "text": [
      "Iteration 2 - Epoch 40:\n",
      "  Train Acc = 0.9995, Train Prec = 1.0000, Train Rec = 0.9945, Train F-Beta = 0.9989, Train Loss = 0.0024\n",
      "  Val Acc = 0.9478, Val Prec = 0.6230, Val Rec = 0.9500, Val F-Beta = 0.6690, Val Loss = 0.2267\n"
     ]
    },
    {
     "name": "stderr",
     "output_type": "stream",
     "text": [
      "Iteration 2 - Epoch 41 - Training: 100%|██████████| 60/60 [00:18<00:00,  3.22it/s]\n",
      "Iteration 2 - Epoch 41 - Validation: 100%|██████████| 15/15 [00:01<00:00,  9.73it/s]\n"
     ]
    },
    {
     "name": "stdout",
     "output_type": "stream",
     "text": [
      "Iteration 2 - Epoch 41:\n",
      "  Train Acc = 0.9984, Train Prec = 0.9891, Train Rec = 0.9945, Train F-Beta = 0.9902, Train Loss = 0.0048\n",
      "  Val Acc = 0.9645, Val Prec = 0.7556, Val Rec = 0.8500, Val F-Beta = 0.7727, Val Loss = 0.2046\n"
     ]
    },
    {
     "name": "stderr",
     "output_type": "stream",
     "text": [
      "Iteration 2 - Epoch 42 - Training: 100%|██████████| 60/60 [00:18<00:00,  3.25it/s]\n",
      "Iteration 2 - Epoch 42 - Validation: 100%|██████████| 15/15 [00:01<00:00,  9.76it/s]\n"
     ]
    },
    {
     "name": "stdout",
     "output_type": "stream",
     "text": [
      "Iteration 2 - Epoch 42:\n",
      "  Train Acc = 1.0000, Train Prec = 1.0000, Train Rec = 1.0000, Train F-Beta = 1.0000, Train Loss = 0.0004\n",
      "  Val Acc = 0.9645, Val Prec = 0.7805, Val Rec = 0.8000, Val F-Beta = 0.7843, Val Loss = 0.2199\n"
     ]
    },
    {
     "name": "stderr",
     "output_type": "stream",
     "text": [
      "Iteration 2 - Epoch 43 - Training: 100%|██████████| 60/60 [00:18<00:00,  3.24it/s]\n",
      "Iteration 2 - Epoch 43 - Validation: 100%|██████████| 15/15 [00:01<00:00,  9.70it/s]\n"
     ]
    },
    {
     "name": "stdout",
     "output_type": "stream",
     "text": [
      "Iteration 2 - Epoch 43:\n",
      "  Train Acc = 1.0000, Train Prec = 1.0000, Train Rec = 1.0000, Train F-Beta = 1.0000, Train Loss = 0.0003\n",
      "  Val Acc = 0.9624, Val Prec = 0.7750, Val Rec = 0.7750, Val F-Beta = 0.7750, Val Loss = 0.2285\n"
     ]
    },
    {
     "name": "stderr",
     "output_type": "stream",
     "text": [
      "Iteration 2 - Epoch 44 - Training: 100%|██████████| 60/60 [00:18<00:00,  3.25it/s]\n",
      "Iteration 2 - Epoch 44 - Validation: 100%|██████████| 15/15 [00:01<00:00,  9.72it/s]\n"
     ]
    },
    {
     "name": "stdout",
     "output_type": "stream",
     "text": [
      "Iteration 2 - Epoch 44:\n",
      "  Train Acc = 1.0000, Train Prec = 1.0000, Train Rec = 1.0000, Train F-Beta = 1.0000, Train Loss = 0.0001\n",
      "  Val Acc = 0.9624, Val Prec = 0.7750, Val Rec = 0.7750, Val F-Beta = 0.7750, Val Loss = 0.2342\n"
     ]
    },
    {
     "name": "stderr",
     "output_type": "stream",
     "text": [
      "Iteration 2 - Epoch 45 - Training: 100%|██████████| 60/60 [00:18<00:00,  3.24it/s]\n",
      "Iteration 2 - Epoch 45 - Validation: 100%|██████████| 15/15 [00:01<00:00,  9.79it/s]\n"
     ]
    },
    {
     "name": "stdout",
     "output_type": "stream",
     "text": [
      "Iteration 2 - Epoch 45:\n",
      "  Train Acc = 1.0000, Train Prec = 1.0000, Train Rec = 1.0000, Train F-Beta = 1.0000, Train Loss = 0.0001\n",
      "  Val Acc = 0.9624, Val Prec = 0.7750, Val Rec = 0.7750, Val F-Beta = 0.7750, Val Loss = 0.2374\n"
     ]
    },
    {
     "name": "stderr",
     "output_type": "stream",
     "text": [
      "Iteration 2 - Epoch 46 - Training: 100%|██████████| 60/60 [00:18<00:00,  3.25it/s]\n",
      "Iteration 2 - Epoch 46 - Validation: 100%|██████████| 15/15 [00:01<00:00,  9.80it/s]\n"
     ]
    },
    {
     "name": "stdout",
     "output_type": "stream",
     "text": [
      "Iteration 2 - Epoch 46:\n",
      "  Train Acc = 1.0000, Train Prec = 1.0000, Train Rec = 1.0000, Train F-Beta = 1.0000, Train Loss = 0.0001\n",
      "  Val Acc = 0.9624, Val Prec = 0.7750, Val Rec = 0.7750, Val F-Beta = 0.7750, Val Loss = 0.2402\n"
     ]
    },
    {
     "name": "stderr",
     "output_type": "stream",
     "text": [
      "Iteration 2 - Epoch 47 - Training: 100%|██████████| 60/60 [00:18<00:00,  3.25it/s]\n",
      "Iteration 2 - Epoch 47 - Validation: 100%|██████████| 15/15 [00:01<00:00,  9.80it/s]\n"
     ]
    },
    {
     "name": "stdout",
     "output_type": "stream",
     "text": [
      "Iteration 2 - Epoch 47:\n",
      "  Train Acc = 1.0000, Train Prec = 1.0000, Train Rec = 1.0000, Train F-Beta = 1.0000, Train Loss = 0.0001\n",
      "  Val Acc = 0.9624, Val Prec = 0.7750, Val Rec = 0.7750, Val F-Beta = 0.7750, Val Loss = 0.2422\n"
     ]
    },
    {
     "name": "stderr",
     "output_type": "stream",
     "text": [
      "Iteration 2 - Epoch 48 - Training: 100%|██████████| 60/60 [00:18<00:00,  3.25it/s]\n",
      "Iteration 2 - Epoch 48 - Validation: 100%|██████████| 15/15 [00:01<00:00,  9.78it/s]\n"
     ]
    },
    {
     "name": "stdout",
     "output_type": "stream",
     "text": [
      "Iteration 2 - Epoch 48:\n",
      "  Train Acc = 1.0000, Train Prec = 1.0000, Train Rec = 1.0000, Train F-Beta = 1.0000, Train Loss = 0.0001\n",
      "  Val Acc = 0.9624, Val Prec = 0.7750, Val Rec = 0.7750, Val F-Beta = 0.7750, Val Loss = 0.2445\n"
     ]
    },
    {
     "name": "stderr",
     "output_type": "stream",
     "text": [
      "Iteration 2 - Epoch 49 - Training: 100%|██████████| 60/60 [00:18<00:00,  3.26it/s]\n",
      "Iteration 2 - Epoch 49 - Validation: 100%|██████████| 15/15 [00:01<00:00,  9.81it/s]\n"
     ]
    },
    {
     "name": "stdout",
     "output_type": "stream",
     "text": [
      "Iteration 2 - Epoch 49:\n",
      "  Train Acc = 1.0000, Train Prec = 1.0000, Train Rec = 1.0000, Train F-Beta = 1.0000, Train Loss = 0.0001\n",
      "  Val Acc = 0.9624, Val Prec = 0.7750, Val Rec = 0.7750, Val F-Beta = 0.7750, Val Loss = 0.2463\n"
     ]
    },
    {
     "name": "stderr",
     "output_type": "stream",
     "text": [
      "Iteration 2 - Epoch 50 - Training: 100%|██████████| 60/60 [00:18<00:00,  3.27it/s]\n",
      "Iteration 2 - Epoch 50 - Validation: 100%|██████████| 15/15 [00:01<00:00,  9.81it/s]\n"
     ]
    },
    {
     "name": "stdout",
     "output_type": "stream",
     "text": [
      "Iteration 2 - Epoch 50:\n",
      "  Train Acc = 1.0000, Train Prec = 1.0000, Train Rec = 1.0000, Train F-Beta = 1.0000, Train Loss = 0.0001\n",
      "  Val Acc = 0.9624, Val Prec = 0.7750, Val Rec = 0.7750, Val F-Beta = 0.7750, Val Loss = 0.2482\n",
      "Iteration 3/10\n"
     ]
    },
    {
     "name": "stderr",
     "output_type": "stream",
     "text": [
      "Some weights of ElectraForSequenceClassification were not initialized from the model checkpoint at beomi/KcELECTRA-base-v2022 and are newly initialized: ['classifier.dense.bias', 'classifier.dense.weight', 'classifier.out_proj.bias', 'classifier.out_proj.weight']\n",
      "You should probably TRAIN this model on a down-stream task to be able to use it for predictions and inference.\n",
      "Iteration 3 - Epoch 1 - Training: 100%|██████████| 60/60 [00:18<00:00,  3.26it/s]\n",
      "Iteration 3 - Epoch 1 - Validation: 100%|██████████| 15/15 [00:01<00:00,  9.85it/s]\n",
      "/home/retn0/repositories/nbsp1221/communav/.venv/lib/python3.10/site-packages/sklearn/metrics/_classification.py:1509: UndefinedMetricWarning: Precision is ill-defined and being set to 0.0 due to no predicted samples. Use `zero_division` parameter to control this behavior.\n",
      "  _warn_prf(average, modifier, f\"{metric.capitalize()} is\", len(result))\n"
     ]
    },
    {
     "name": "stdout",
     "output_type": "stream",
     "text": [
      "Iteration 3 - Epoch 1:\n",
      "  Train Acc = 0.8892, Train Prec = 0.0833, Train Rec = 0.0165, Train F-Beta = 0.0460, Train Loss = 0.3402\n",
      "  Val Acc = 0.9165, Val Prec = 0.0000, Val Rec = 0.0000, Val F-Beta = 0.0000, Val Loss = 0.2315\n"
     ]
    },
    {
     "name": "stderr",
     "output_type": "stream",
     "text": [
      "Iteration 3 - Epoch 2 - Training: 100%|██████████| 60/60 [00:18<00:00,  3.24it/s]\n",
      "Iteration 3 - Epoch 2 - Validation: 100%|██████████| 15/15 [00:01<00:00,  9.74it/s]\n"
     ]
    },
    {
     "name": "stdout",
     "output_type": "stream",
     "text": [
      "Iteration 3 - Epoch 2:\n",
      "  Train Acc = 0.9211, Train Prec = 0.6703, Train Rec = 0.3352, Train F-Beta = 0.5586, Train Loss = 0.1942\n",
      "  Val Acc = 0.9478, Val Prec = 0.6923, Val Rec = 0.6750, Val F-Beta = 0.6888, Val Loss = 0.1411\n",
      "  Better model saved with 0.6888 F-beta score.\n"
     ]
    },
    {
     "name": "stderr",
     "output_type": "stream",
     "text": [
      "Iteration 3 - Epoch 3 - Training: 100%|██████████| 60/60 [00:18<00:00,  3.20it/s]\n",
      "Iteration 3 - Epoch 3 - Validation: 100%|██████████| 15/15 [00:01<00:00,  9.85it/s]\n"
     ]
    },
    {
     "name": "stdout",
     "output_type": "stream",
     "text": [
      "Iteration 3 - Epoch 3:\n",
      "  Train Acc = 0.9655, Train Prec = 0.8118, Train Rec = 0.8297, Train F-Beta = 0.8153, Train Loss = 0.1037\n",
      "  Val Acc = 0.9436, Val Prec = 0.6512, Val Rec = 0.7000, Val F-Beta = 0.6604, Val Loss = 0.1398\n"
     ]
    },
    {
     "name": "stderr",
     "output_type": "stream",
     "text": [
      "Iteration 3 - Epoch 4 - Training: 100%|██████████| 60/60 [00:18<00:00,  3.27it/s]\n",
      "Iteration 3 - Epoch 4 - Validation: 100%|██████████| 15/15 [00:01<00:00,  9.94it/s]\n"
     ]
    },
    {
     "name": "stdout",
     "output_type": "stream",
     "text": [
      "Iteration 3 - Epoch 4:\n",
      "  Train Acc = 0.9812, Train Prec = 0.8763, Train Rec = 0.9341, Train F-Beta = 0.8873, Train Loss = 0.0562\n",
      "  Val Acc = 0.9562, Val Prec = 0.7021, Val Rec = 0.8250, Val F-Beta = 0.7237, Val Loss = 0.1293\n",
      "  Better model saved with 0.7237 F-beta score.\n"
     ]
    },
    {
     "name": "stderr",
     "output_type": "stream",
     "text": [
      "Iteration 3 - Epoch 5 - Training: 100%|██████████| 60/60 [00:18<00:00,  3.30it/s]\n",
      "Iteration 3 - Epoch 5 - Validation: 100%|██████████| 15/15 [00:01<00:00,  9.96it/s]\n"
     ]
    },
    {
     "name": "stdout",
     "output_type": "stream",
     "text": [
      "Iteration 3 - Epoch 5:\n",
      "  Train Acc = 0.9911, Train Prec = 0.9412, Train Rec = 0.9670, Train F-Beta = 0.9462, Train Loss = 0.0327\n",
      "  Val Acc = 0.9687, Val Prec = 0.8205, Val Rec = 0.8000, Val F-Beta = 0.8163, Val Loss = 0.1112\n",
      "  Better model saved with 0.8163 F-beta score.\n"
     ]
    },
    {
     "name": "stderr",
     "output_type": "stream",
     "text": [
      "Iteration 3 - Epoch 6 - Training: 100%|██████████| 60/60 [00:18<00:00,  3.29it/s]\n",
      "Iteration 3 - Epoch 6 - Validation: 100%|██████████| 15/15 [00:01<00:00,  9.82it/s]\n"
     ]
    },
    {
     "name": "stdout",
     "output_type": "stream",
     "text": [
      "Iteration 3 - Epoch 6:\n",
      "  Train Acc = 0.9953, Train Prec = 0.9626, Train Rec = 0.9890, Train F-Beta = 0.9677, Train Loss = 0.0193\n",
      "  Val Acc = 0.9687, Val Prec = 0.8378, Val Rec = 0.7750, Val F-Beta = 0.8245, Val Loss = 0.1614\n",
      "  Better model saved with 0.8245 F-beta score.\n"
     ]
    },
    {
     "name": "stderr",
     "output_type": "stream",
     "text": [
      "Iteration 3 - Epoch 7 - Training: 100%|██████████| 60/60 [00:18<00:00,  3.27it/s]\n",
      "Iteration 3 - Epoch 7 - Validation: 100%|██████████| 15/15 [00:01<00:00,  9.87it/s]\n"
     ]
    },
    {
     "name": "stdout",
     "output_type": "stream",
     "text": [
      "Iteration 3 - Epoch 7:\n",
      "  Train Acc = 0.9833, Train Prec = 0.8947, Train Rec = 0.9341, Train F-Beta = 0.9023, Train Loss = 0.0518\n",
      "  Val Acc = 0.9582, Val Prec = 0.7632, Val Rec = 0.7250, Val F-Beta = 0.7552, Val Loss = 0.1424\n"
     ]
    },
    {
     "name": "stderr",
     "output_type": "stream",
     "text": [
      "Iteration 3 - Epoch 8 - Training: 100%|██████████| 60/60 [00:18<00:00,  3.25it/s]\n",
      "Iteration 3 - Epoch 8 - Validation: 100%|██████████| 15/15 [00:01<00:00,  9.63it/s]\n"
     ]
    },
    {
     "name": "stdout",
     "output_type": "stream",
     "text": [
      "Iteration 3 - Epoch 8:\n",
      "  Train Acc = 0.9984, Train Prec = 0.9891, Train Rec = 0.9945, Train F-Beta = 0.9902, Train Loss = 0.0103\n",
      "  Val Acc = 0.9687, Val Prec = 0.8205, Val Rec = 0.8000, Val F-Beta = 0.8163, Val Loss = 0.1521\n"
     ]
    },
    {
     "name": "stderr",
     "output_type": "stream",
     "text": [
      "Iteration 3 - Epoch 9 - Training: 100%|██████████| 60/60 [00:18<00:00,  3.27it/s]\n",
      "Iteration 3 - Epoch 9 - Validation: 100%|██████████| 15/15 [00:01<00:00,  9.74it/s]\n"
     ]
    },
    {
     "name": "stdout",
     "output_type": "stream",
     "text": [
      "Iteration 3 - Epoch 9:\n",
      "  Train Acc = 0.9984, Train Prec = 0.9891, Train Rec = 0.9945, Train F-Beta = 0.9902, Train Loss = 0.0101\n",
      "  Val Acc = 0.9687, Val Prec = 0.8205, Val Rec = 0.8000, Val F-Beta = 0.8163, Val Loss = 0.1511\n"
     ]
    },
    {
     "name": "stderr",
     "output_type": "stream",
     "text": [
      "Iteration 3 - Epoch 10 - Training: 100%|██████████| 60/60 [00:18<00:00,  3.29it/s]\n",
      "Iteration 3 - Epoch 10 - Validation: 100%|██████████| 15/15 [00:01<00:00,  9.72it/s]\n"
     ]
    },
    {
     "name": "stdout",
     "output_type": "stream",
     "text": [
      "Iteration 3 - Epoch 10:\n",
      "  Train Acc = 0.9995, Train Prec = 0.9945, Train Rec = 1.0000, Train F-Beta = 0.9956, Train Loss = 0.0053\n",
      "  Val Acc = 0.9666, Val Prec = 0.8000, Val Rec = 0.8000, Val F-Beta = 0.8000, Val Loss = 0.1952\n"
     ]
    },
    {
     "name": "stderr",
     "output_type": "stream",
     "text": [
      "Iteration 3 - Epoch 11 - Training: 100%|██████████| 60/60 [00:18<00:00,  3.28it/s]\n",
      "Iteration 3 - Epoch 11 - Validation: 100%|██████████| 15/15 [00:01<00:00,  9.90it/s]\n"
     ]
    },
    {
     "name": "stdout",
     "output_type": "stream",
     "text": [
      "Iteration 3 - Epoch 11:\n",
      "  Train Acc = 1.0000, Train Prec = 1.0000, Train Rec = 1.0000, Train F-Beta = 1.0000, Train Loss = 0.0015\n",
      "  Val Acc = 0.9603, Val Prec = 0.7442, Val Rec = 0.8000, Val F-Beta = 0.7547, Val Loss = 0.1906\n"
     ]
    },
    {
     "name": "stderr",
     "output_type": "stream",
     "text": [
      "Iteration 3 - Epoch 12 - Training: 100%|██████████| 60/60 [00:18<00:00,  3.29it/s]\n",
      "Iteration 3 - Epoch 12 - Validation: 100%|██████████| 15/15 [00:01<00:00,  9.89it/s]\n"
     ]
    },
    {
     "name": "stdout",
     "output_type": "stream",
     "text": [
      "Iteration 3 - Epoch 12:\n",
      "  Train Acc = 0.9937, Train Prec = 0.9775, Train Rec = 0.9560, Train F-Beta = 0.9732, Train Loss = 0.0303\n",
      "  Val Acc = 0.9541, Val Prec = 0.6800, Val Rec = 0.8500, Val F-Beta = 0.7083, Val Loss = 0.1949\n"
     ]
    },
    {
     "name": "stderr",
     "output_type": "stream",
     "text": [
      "Iteration 3 - Epoch 13 - Training: 100%|██████████| 60/60 [00:18<00:00,  3.30it/s]\n",
      "Iteration 3 - Epoch 13 - Validation: 100%|██████████| 15/15 [00:01<00:00,  9.90it/s]\n"
     ]
    },
    {
     "name": "stdout",
     "output_type": "stream",
     "text": [
      "Iteration 3 - Epoch 13:\n",
      "  Train Acc = 0.9922, Train Prec = 0.9514, Train Rec = 0.9670, Train F-Beta = 0.9544, Train Loss = 0.0249\n",
      "  Val Acc = 0.9645, Val Prec = 0.7949, Val Rec = 0.7750, Val F-Beta = 0.7908, Val Loss = 0.1512\n"
     ]
    },
    {
     "name": "stderr",
     "output_type": "stream",
     "text": [
      "Iteration 3 - Epoch 14 - Training: 100%|██████████| 60/60 [00:18<00:00,  3.28it/s]\n",
      "Iteration 3 - Epoch 14 - Validation: 100%|██████████| 15/15 [00:01<00:00,  9.98it/s]\n"
     ]
    },
    {
     "name": "stdout",
     "output_type": "stream",
     "text": [
      "Iteration 3 - Epoch 14:\n",
      "  Train Acc = 0.9906, Train Prec = 0.9409, Train Rec = 0.9615, Train F-Beta = 0.9449, Train Loss = 0.0356\n",
      "  Val Acc = 0.9645, Val Prec = 0.7805, Val Rec = 0.8000, Val F-Beta = 0.7843, Val Loss = 0.1773\n"
     ]
    },
    {
     "name": "stderr",
     "output_type": "stream",
     "text": [
      "Iteration 3 - Epoch 15 - Training: 100%|██████████| 60/60 [00:18<00:00,  3.30it/s]\n",
      "Iteration 3 - Epoch 15 - Validation: 100%|██████████| 15/15 [00:01<00:00,  9.90it/s]\n"
     ]
    },
    {
     "name": "stdout",
     "output_type": "stream",
     "text": [
      "Iteration 3 - Epoch 15:\n",
      "  Train Acc = 0.9984, Train Prec = 0.9945, Train Rec = 0.9890, Train F-Beta = 0.9934, Train Loss = 0.0101\n",
      "  Val Acc = 0.9562, Val Prec = 0.7317, Val Rec = 0.7500, Val F-Beta = 0.7353, Val Loss = 0.2092\n"
     ]
    },
    {
     "name": "stderr",
     "output_type": "stream",
     "text": [
      "Iteration 3 - Epoch 16 - Training: 100%|██████████| 60/60 [00:18<00:00,  3.28it/s]\n",
      "Iteration 3 - Epoch 16 - Validation: 100%|██████████| 15/15 [00:01<00:00,  9.60it/s]\n"
     ]
    },
    {
     "name": "stdout",
     "output_type": "stream",
     "text": [
      "Iteration 3 - Epoch 16:\n",
      "  Train Acc = 0.9948, Train Prec = 0.9674, Train Rec = 0.9780, Train F-Beta = 0.9695, Train Loss = 0.0159\n",
      "  Val Acc = 0.9582, Val Prec = 0.7632, Val Rec = 0.7250, Val F-Beta = 0.7552, Val Loss = 0.1743\n"
     ]
    },
    {
     "name": "stderr",
     "output_type": "stream",
     "text": [
      "Iteration 3 - Epoch 17 - Training: 100%|██████████| 60/60 [00:19<00:00,  3.13it/s]\n",
      "Iteration 3 - Epoch 17 - Validation: 100%|██████████| 15/15 [00:01<00:00,  9.48it/s]\n"
     ]
    },
    {
     "name": "stdout",
     "output_type": "stream",
     "text": [
      "Iteration 3 - Epoch 17:\n",
      "  Train Acc = 0.9958, Train Prec = 0.9833, Train Rec = 0.9725, Train F-Beta = 0.9812, Train Loss = 0.0117\n",
      "  Val Acc = 0.9624, Val Prec = 0.7750, Val Rec = 0.7750, Val F-Beta = 0.7750, Val Loss = 0.1895\n"
     ]
    },
    {
     "name": "stderr",
     "output_type": "stream",
     "text": [
      "Iteration 3 - Epoch 18 - Training: 100%|██████████| 60/60 [00:19<00:00,  3.14it/s]\n",
      "Iteration 3 - Epoch 18 - Validation: 100%|██████████| 15/15 [00:01<00:00,  9.47it/s]\n"
     ]
    },
    {
     "name": "stdout",
     "output_type": "stream",
     "text": [
      "Iteration 3 - Epoch 18:\n",
      "  Train Acc = 0.9990, Train Prec = 0.9945, Train Rec = 0.9945, Train F-Beta = 0.9945, Train Loss = 0.0024\n",
      "  Val Acc = 0.9645, Val Prec = 0.8485, Val Rec = 0.7000, Val F-Beta = 0.8140, Val Loss = 0.2106\n"
     ]
    },
    {
     "name": "stderr",
     "output_type": "stream",
     "text": [
      "Iteration 3 - Epoch 19 - Training: 100%|██████████| 60/60 [00:18<00:00,  3.19it/s]\n",
      "Iteration 3 - Epoch 19 - Validation: 100%|██████████| 15/15 [00:01<00:00,  9.94it/s]\n"
     ]
    },
    {
     "name": "stdout",
     "output_type": "stream",
     "text": [
      "Iteration 3 - Epoch 19:\n",
      "  Train Acc = 0.9995, Train Prec = 1.0000, Train Rec = 0.9945, Train F-Beta = 0.9989, Train Loss = 0.0026\n",
      "  Val Acc = 0.9541, Val Prec = 0.6667, Val Rec = 0.9000, Val F-Beta = 0.7031, Val Loss = 0.2276\n"
     ]
    },
    {
     "name": "stderr",
     "output_type": "stream",
     "text": [
      "Iteration 3 - Epoch 20 - Training: 100%|██████████| 60/60 [00:18<00:00,  3.32it/s]\n",
      "Iteration 3 - Epoch 20 - Validation: 100%|██████████| 15/15 [00:01<00:00,  9.80it/s]\n"
     ]
    },
    {
     "name": "stdout",
     "output_type": "stream",
     "text": [
      "Iteration 3 - Epoch 20:\n",
      "  Train Acc = 0.9995, Train Prec = 1.0000, Train Rec = 0.9945, Train F-Beta = 0.9989, Train Loss = 0.0022\n",
      "  Val Acc = 0.9499, Val Prec = 0.6429, Val Rec = 0.9000, Val F-Beta = 0.6818, Val Loss = 0.2680\n"
     ]
    },
    {
     "name": "stderr",
     "output_type": "stream",
     "text": [
      "Iteration 3 - Epoch 21 - Training: 100%|██████████| 60/60 [00:18<00:00,  3.21it/s]\n",
      "Iteration 3 - Epoch 21 - Validation: 100%|██████████| 15/15 [00:01<00:00,  9.46it/s]\n"
     ]
    },
    {
     "name": "stdout",
     "output_type": "stream",
     "text": [
      "Iteration 3 - Epoch 21:\n",
      "  Train Acc = 0.9990, Train Prec = 0.9945, Train Rec = 0.9945, Train F-Beta = 0.9945, Train Loss = 0.0014\n",
      "  Val Acc = 0.9645, Val Prec = 0.7674, Val Rec = 0.8250, Val F-Beta = 0.7783, Val Loss = 0.2200\n"
     ]
    },
    {
     "name": "stderr",
     "output_type": "stream",
     "text": [
      "Iteration 3 - Epoch 22 - Training: 100%|██████████| 60/60 [00:19<00:00,  3.13it/s]\n",
      "Iteration 3 - Epoch 22 - Validation: 100%|██████████| 15/15 [00:01<00:00,  9.38it/s]\n"
     ]
    },
    {
     "name": "stdout",
     "output_type": "stream",
     "text": [
      "Iteration 3 - Epoch 22:\n",
      "  Train Acc = 0.9995, Train Prec = 0.9945, Train Rec = 1.0000, Train F-Beta = 0.9956, Train Loss = 0.0024\n",
      "  Val Acc = 0.9645, Val Prec = 0.8710, Val Rec = 0.6750, Val F-Beta = 0.8232, Val Loss = 0.2467\n"
     ]
    },
    {
     "name": "stderr",
     "output_type": "stream",
     "text": [
      "Iteration 3 - Epoch 23 - Training: 100%|██████████| 60/60 [00:19<00:00,  3.14it/s]\n",
      "Iteration 3 - Epoch 23 - Validation: 100%|██████████| 15/15 [00:01<00:00,  9.47it/s]\n"
     ]
    },
    {
     "name": "stdout",
     "output_type": "stream",
     "text": [
      "Iteration 3 - Epoch 23:\n",
      "  Train Acc = 1.0000, Train Prec = 1.0000, Train Rec = 1.0000, Train F-Beta = 1.0000, Train Loss = 0.0007\n",
      "  Val Acc = 0.9645, Val Prec = 0.7805, Val Rec = 0.8000, Val F-Beta = 0.7843, Val Loss = 0.2337\n"
     ]
    },
    {
     "name": "stderr",
     "output_type": "stream",
     "text": [
      "Iteration 3 - Epoch 24 - Training: 100%|██████████| 60/60 [00:18<00:00,  3.19it/s]\n",
      "Iteration 3 - Epoch 24 - Validation: 100%|██████████| 15/15 [00:01<00:00,  9.98it/s]\n"
     ]
    },
    {
     "name": "stdout",
     "output_type": "stream",
     "text": [
      "Iteration 3 - Epoch 24:\n",
      "  Train Acc = 0.9995, Train Prec = 0.9945, Train Rec = 1.0000, Train F-Beta = 0.9956, Train Loss = 0.0012\n",
      "  Val Acc = 0.9645, Val Prec = 0.7805, Val Rec = 0.8000, Val F-Beta = 0.7843, Val Loss = 0.2365\n"
     ]
    },
    {
     "name": "stderr",
     "output_type": "stream",
     "text": [
      "Iteration 3 - Epoch 25 - Training: 100%|██████████| 60/60 [00:18<00:00,  3.31it/s]\n",
      "Iteration 3 - Epoch 25 - Validation: 100%|██████████| 15/15 [00:01<00:00,  9.97it/s]\n"
     ]
    },
    {
     "name": "stdout",
     "output_type": "stream",
     "text": [
      "Iteration 3 - Epoch 25:\n",
      "  Train Acc = 1.0000, Train Prec = 1.0000, Train Rec = 1.0000, Train F-Beta = 1.0000, Train Loss = 0.0003\n",
      "  Val Acc = 0.9645, Val Prec = 0.7805, Val Rec = 0.8000, Val F-Beta = 0.7843, Val Loss = 0.2400\n"
     ]
    },
    {
     "name": "stderr",
     "output_type": "stream",
     "text": [
      "Iteration 3 - Epoch 26 - Training: 100%|██████████| 60/60 [00:18<00:00,  3.30it/s]\n",
      "Iteration 3 - Epoch 26 - Validation: 100%|██████████| 15/15 [00:01<00:00,  9.50it/s]\n"
     ]
    },
    {
     "name": "stdout",
     "output_type": "stream",
     "text": [
      "Iteration 3 - Epoch 26:\n",
      "  Train Acc = 1.0000, Train Prec = 1.0000, Train Rec = 1.0000, Train F-Beta = 1.0000, Train Loss = 0.0003\n",
      "  Val Acc = 0.9645, Val Prec = 0.7805, Val Rec = 0.8000, Val F-Beta = 0.7843, Val Loss = 0.2439\n"
     ]
    },
    {
     "name": "stderr",
     "output_type": "stream",
     "text": [
      "Iteration 3 - Epoch 27 - Training: 100%|██████████| 60/60 [00:19<00:00,  3.13it/s]\n",
      "Iteration 3 - Epoch 27 - Validation: 100%|██████████| 15/15 [00:01<00:00,  9.81it/s]\n"
     ]
    },
    {
     "name": "stdout",
     "output_type": "stream",
     "text": [
      "Iteration 3 - Epoch 27:\n",
      "  Train Acc = 1.0000, Train Prec = 1.0000, Train Rec = 1.0000, Train F-Beta = 1.0000, Train Loss = 0.0003\n",
      "  Val Acc = 0.9645, Val Prec = 0.7805, Val Rec = 0.8000, Val F-Beta = 0.7843, Val Loss = 0.2467\n"
     ]
    },
    {
     "name": "stderr",
     "output_type": "stream",
     "text": [
      "Iteration 3 - Epoch 28 - Training: 100%|██████████| 60/60 [00:18<00:00,  3.23it/s]\n",
      "Iteration 3 - Epoch 28 - Validation: 100%|██████████| 15/15 [00:01<00:00,  9.86it/s]\n"
     ]
    },
    {
     "name": "stdout",
     "output_type": "stream",
     "text": [
      "Iteration 3 - Epoch 28:\n",
      "  Train Acc = 1.0000, Train Prec = 1.0000, Train Rec = 1.0000, Train F-Beta = 1.0000, Train Loss = 0.0002\n",
      "  Val Acc = 0.9645, Val Prec = 0.7805, Val Rec = 0.8000, Val F-Beta = 0.7843, Val Loss = 0.2490\n"
     ]
    },
    {
     "name": "stderr",
     "output_type": "stream",
     "text": [
      "Iteration 3 - Epoch 29 - Training: 100%|██████████| 60/60 [00:18<00:00,  3.26it/s]\n",
      "Iteration 3 - Epoch 29 - Validation: 100%|██████████| 15/15 [00:01<00:00,  9.43it/s]\n"
     ]
    },
    {
     "name": "stdout",
     "output_type": "stream",
     "text": [
      "Iteration 3 - Epoch 29:\n",
      "  Train Acc = 1.0000, Train Prec = 1.0000, Train Rec = 1.0000, Train F-Beta = 1.0000, Train Loss = 0.0002\n",
      "  Val Acc = 0.9645, Val Prec = 0.7805, Val Rec = 0.8000, Val F-Beta = 0.7843, Val Loss = 0.2513\n"
     ]
    },
    {
     "name": "stderr",
     "output_type": "stream",
     "text": [
      "Iteration 3 - Epoch 30 - Training: 100%|██████████| 60/60 [00:19<00:00,  3.14it/s]\n",
      "Iteration 3 - Epoch 30 - Validation: 100%|██████████| 15/15 [00:01<00:00,  9.66it/s]\n"
     ]
    },
    {
     "name": "stdout",
     "output_type": "stream",
     "text": [
      "Iteration 3 - Epoch 30:\n",
      "  Train Acc = 0.9984, Train Prec = 0.9891, Train Rec = 0.9945, Train F-Beta = 0.9902, Train Loss = 0.0079\n",
      "  Val Acc = 0.9562, Val Prec = 0.6863, Val Rec = 0.8750, Val F-Beta = 0.7172, Val Loss = 0.2476\n"
     ]
    },
    {
     "name": "stderr",
     "output_type": "stream",
     "text": [
      "Iteration 3 - Epoch 31 - Training: 100%|██████████| 60/60 [00:18<00:00,  3.31it/s]\n",
      "Iteration 3 - Epoch 31 - Validation: 100%|██████████| 15/15 [00:01<00:00,  9.97it/s]\n"
     ]
    },
    {
     "name": "stdout",
     "output_type": "stream",
     "text": [
      "Iteration 3 - Epoch 31:\n",
      "  Train Acc = 0.9880, Train Prec = 0.9251, Train Rec = 0.9505, Train F-Beta = 0.9301, Train Loss = 0.0404\n",
      "  Val Acc = 0.9603, Val Prec = 0.8182, Val Rec = 0.6750, Val F-Beta = 0.7849, Val Loss = 0.2029\n"
     ]
    },
    {
     "name": "stderr",
     "output_type": "stream",
     "text": [
      "Iteration 3 - Epoch 32 - Training: 100%|██████████| 60/60 [00:18<00:00,  3.31it/s]\n",
      "Iteration 3 - Epoch 32 - Validation: 100%|██████████| 15/15 [00:01<00:00,  9.98it/s]\n"
     ]
    },
    {
     "name": "stdout",
     "output_type": "stream",
     "text": [
      "Iteration 3 - Epoch 32:\n",
      "  Train Acc = 0.9995, Train Prec = 0.9945, Train Rec = 1.0000, Train F-Beta = 0.9956, Train Loss = 0.0049\n",
      "  Val Acc = 0.9582, Val Prec = 0.7381, Val Rec = 0.7750, Val F-Beta = 0.7452, Val Loss = 0.2155\n"
     ]
    },
    {
     "name": "stderr",
     "output_type": "stream",
     "text": [
      "Iteration 3 - Epoch 33 - Training: 100%|██████████| 60/60 [00:18<00:00,  3.31it/s]\n",
      "Iteration 3 - Epoch 33 - Validation: 100%|██████████| 15/15 [00:01<00:00, 10.00it/s]\n"
     ]
    },
    {
     "name": "stdout",
     "output_type": "stream",
     "text": [
      "Iteration 3 - Epoch 33:\n",
      "  Train Acc = 0.9990, Train Prec = 0.9945, Train Rec = 0.9945, Train F-Beta = 0.9945, Train Loss = 0.0018\n",
      "  Val Acc = 0.9562, Val Prec = 0.7209, Val Rec = 0.7750, Val F-Beta = 0.7311, Val Loss = 0.2560\n"
     ]
    },
    {
     "name": "stderr",
     "output_type": "stream",
     "text": [
      "Iteration 3 - Epoch 34 - Training: 100%|██████████| 60/60 [00:18<00:00,  3.19it/s]\n",
      "Iteration 3 - Epoch 34 - Validation: 100%|██████████| 15/15 [00:01<00:00,  9.60it/s]\n"
     ]
    },
    {
     "name": "stdout",
     "output_type": "stream",
     "text": [
      "Iteration 3 - Epoch 34:\n",
      "  Train Acc = 1.0000, Train Prec = 1.0000, Train Rec = 1.0000, Train F-Beta = 1.0000, Train Loss = 0.0004\n",
      "  Val Acc = 0.9541, Val Prec = 0.7045, Val Rec = 0.7750, Val F-Beta = 0.7176, Val Loss = 0.2700\n"
     ]
    },
    {
     "name": "stderr",
     "output_type": "stream",
     "text": [
      "Iteration 3 - Epoch 35 - Training: 100%|██████████| 60/60 [00:19<00:00,  3.16it/s]\n",
      "Iteration 3 - Epoch 35 - Validation: 100%|██████████| 15/15 [00:01<00:00,  9.81it/s]\n"
     ]
    },
    {
     "name": "stdout",
     "output_type": "stream",
     "text": [
      "Iteration 3 - Epoch 35:\n",
      "  Train Acc = 1.0000, Train Prec = 1.0000, Train Rec = 1.0000, Train F-Beta = 1.0000, Train Loss = 0.0004\n",
      "  Val Acc = 0.9562, Val Prec = 0.7209, Val Rec = 0.7750, Val F-Beta = 0.7311, Val Loss = 0.2810\n"
     ]
    },
    {
     "name": "stderr",
     "output_type": "stream",
     "text": [
      "Iteration 3 - Epoch 36 - Training: 100%|██████████| 60/60 [00:18<00:00,  3.21it/s]\n",
      "Iteration 3 - Epoch 36 - Validation: 100%|██████████| 15/15 [00:01<00:00,  9.42it/s]\n"
     ]
    },
    {
     "name": "stdout",
     "output_type": "stream",
     "text": [
      "Iteration 3 - Epoch 36:\n",
      "  Train Acc = 1.0000, Train Prec = 1.0000, Train Rec = 1.0000, Train F-Beta = 1.0000, Train Loss = 0.0003\n",
      "  Val Acc = 0.9562, Val Prec = 0.7209, Val Rec = 0.7750, Val F-Beta = 0.7311, Val Loss = 0.2900\n"
     ]
    },
    {
     "name": "stderr",
     "output_type": "stream",
     "text": [
      "Iteration 3 - Epoch 37 - Training: 100%|██████████| 60/60 [00:18<00:00,  3.19it/s]\n",
      "Iteration 3 - Epoch 37 - Validation: 100%|██████████| 15/15 [00:01<00:00,  9.78it/s]\n"
     ]
    },
    {
     "name": "stdout",
     "output_type": "stream",
     "text": [
      "Iteration 3 - Epoch 37:\n",
      "  Train Acc = 1.0000, Train Prec = 1.0000, Train Rec = 1.0000, Train F-Beta = 1.0000, Train Loss = 0.0002\n",
      "  Val Acc = 0.9562, Val Prec = 0.7209, Val Rec = 0.7750, Val F-Beta = 0.7311, Val Loss = 0.2959\n"
     ]
    },
    {
     "name": "stderr",
     "output_type": "stream",
     "text": [
      "Iteration 3 - Epoch 38 - Training: 100%|██████████| 60/60 [00:18<00:00,  3.27it/s]\n",
      "Iteration 3 - Epoch 38 - Validation: 100%|██████████| 15/15 [00:01<00:00,  9.98it/s]\n"
     ]
    },
    {
     "name": "stdout",
     "output_type": "stream",
     "text": [
      "Iteration 3 - Epoch 38:\n",
      "  Train Acc = 1.0000, Train Prec = 1.0000, Train Rec = 1.0000, Train F-Beta = 1.0000, Train Loss = 0.0002\n",
      "  Val Acc = 0.9562, Val Prec = 0.7209, Val Rec = 0.7750, Val F-Beta = 0.7311, Val Loss = 0.3008\n"
     ]
    },
    {
     "name": "stderr",
     "output_type": "stream",
     "text": [
      "Iteration 3 - Epoch 39 - Training: 100%|██████████| 60/60 [00:18<00:00,  3.21it/s]\n",
      "Iteration 3 - Epoch 39 - Validation: 100%|██████████| 15/15 [00:01<00:00,  9.49it/s]\n"
     ]
    },
    {
     "name": "stdout",
     "output_type": "stream",
     "text": [
      "Iteration 3 - Epoch 39:\n",
      "  Train Acc = 1.0000, Train Prec = 1.0000, Train Rec = 1.0000, Train F-Beta = 1.0000, Train Loss = 0.0002\n",
      "  Val Acc = 0.9562, Val Prec = 0.7209, Val Rec = 0.7750, Val F-Beta = 0.7311, Val Loss = 0.3049\n"
     ]
    },
    {
     "name": "stderr",
     "output_type": "stream",
     "text": [
      "Iteration 3 - Epoch 40 - Training: 100%|██████████| 60/60 [00:19<00:00,  3.15it/s]\n",
      "Iteration 3 - Epoch 40 - Validation: 100%|██████████| 15/15 [00:01<00:00,  9.49it/s]\n"
     ]
    },
    {
     "name": "stdout",
     "output_type": "stream",
     "text": [
      "Iteration 3 - Epoch 40:\n",
      "  Train Acc = 1.0000, Train Prec = 1.0000, Train Rec = 1.0000, Train F-Beta = 1.0000, Train Loss = 0.0002\n",
      "  Val Acc = 0.9562, Val Prec = 0.7209, Val Rec = 0.7750, Val F-Beta = 0.7311, Val Loss = 0.3091\n"
     ]
    },
    {
     "name": "stderr",
     "output_type": "stream",
     "text": [
      "Iteration 3 - Epoch 41 - Training: 100%|██████████| 60/60 [00:19<00:00,  3.14it/s]\n",
      "Iteration 3 - Epoch 41 - Validation: 100%|██████████| 15/15 [00:01<00:00,  9.43it/s]\n"
     ]
    },
    {
     "name": "stdout",
     "output_type": "stream",
     "text": [
      "Iteration 3 - Epoch 41:\n",
      "  Train Acc = 1.0000, Train Prec = 1.0000, Train Rec = 1.0000, Train F-Beta = 1.0000, Train Loss = 0.0001\n",
      "  Val Acc = 0.9562, Val Prec = 0.7209, Val Rec = 0.7750, Val F-Beta = 0.7311, Val Loss = 0.3128\n"
     ]
    },
    {
     "name": "stderr",
     "output_type": "stream",
     "text": [
      "Iteration 3 - Epoch 42 - Training: 100%|██████████| 60/60 [00:19<00:00,  3.14it/s]\n",
      "Iteration 3 - Epoch 42 - Validation: 100%|██████████| 15/15 [00:01<00:00,  9.50it/s]\n"
     ]
    },
    {
     "name": "stdout",
     "output_type": "stream",
     "text": [
      "Iteration 3 - Epoch 42:\n",
      "  Train Acc = 1.0000, Train Prec = 1.0000, Train Rec = 1.0000, Train F-Beta = 1.0000, Train Loss = 0.0001\n",
      "  Val Acc = 0.9562, Val Prec = 0.7209, Val Rec = 0.7750, Val F-Beta = 0.7311, Val Loss = 0.3161\n"
     ]
    },
    {
     "name": "stderr",
     "output_type": "stream",
     "text": [
      "Iteration 3 - Epoch 43 - Training: 100%|██████████| 60/60 [00:19<00:00,  3.14it/s]\n",
      "Iteration 3 - Epoch 43 - Validation: 100%|██████████| 15/15 [00:01<00:00,  9.42it/s]\n"
     ]
    },
    {
     "name": "stdout",
     "output_type": "stream",
     "text": [
      "Iteration 3 - Epoch 43:\n",
      "  Train Acc = 1.0000, Train Prec = 1.0000, Train Rec = 1.0000, Train F-Beta = 1.0000, Train Loss = 0.0001\n",
      "  Val Acc = 0.9562, Val Prec = 0.7209, Val Rec = 0.7750, Val F-Beta = 0.7311, Val Loss = 0.3193\n"
     ]
    },
    {
     "name": "stderr",
     "output_type": "stream",
     "text": [
      "Iteration 3 - Epoch 44 - Training: 100%|██████████| 60/60 [00:19<00:00,  3.14it/s]\n",
      "Iteration 3 - Epoch 44 - Validation: 100%|██████████| 15/15 [00:01<00:00,  9.43it/s]\n"
     ]
    },
    {
     "name": "stdout",
     "output_type": "stream",
     "text": [
      "Iteration 3 - Epoch 44:\n",
      "  Train Acc = 1.0000, Train Prec = 1.0000, Train Rec = 1.0000, Train F-Beta = 1.0000, Train Loss = 0.0001\n",
      "  Val Acc = 0.9562, Val Prec = 0.7209, Val Rec = 0.7750, Val F-Beta = 0.7311, Val Loss = 0.3226\n"
     ]
    },
    {
     "name": "stderr",
     "output_type": "stream",
     "text": [
      "Iteration 3 - Epoch 45 - Training: 100%|██████████| 60/60 [00:18<00:00,  3.29it/s]\n",
      "Iteration 3 - Epoch 45 - Validation: 100%|██████████| 15/15 [00:01<00:00, 10.00it/s]\n"
     ]
    },
    {
     "name": "stdout",
     "output_type": "stream",
     "text": [
      "Iteration 3 - Epoch 45:\n",
      "  Train Acc = 1.0000, Train Prec = 1.0000, Train Rec = 1.0000, Train F-Beta = 1.0000, Train Loss = 0.0001\n",
      "  Val Acc = 0.9562, Val Prec = 0.7209, Val Rec = 0.7750, Val F-Beta = 0.7311, Val Loss = 0.3259\n"
     ]
    },
    {
     "name": "stderr",
     "output_type": "stream",
     "text": [
      "Iteration 3 - Epoch 46 - Training: 100%|██████████| 60/60 [00:18<00:00,  3.26it/s]\n",
      "Iteration 3 - Epoch 46 - Validation: 100%|██████████| 15/15 [00:01<00:00,  9.65it/s]\n"
     ]
    },
    {
     "name": "stdout",
     "output_type": "stream",
     "text": [
      "Iteration 3 - Epoch 46:\n",
      "  Train Acc = 1.0000, Train Prec = 1.0000, Train Rec = 1.0000, Train F-Beta = 1.0000, Train Loss = 0.0003\n",
      "  Val Acc = 0.9562, Val Prec = 0.7209, Val Rec = 0.7750, Val F-Beta = 0.7311, Val Loss = 0.3266\n"
     ]
    },
    {
     "name": "stderr",
     "output_type": "stream",
     "text": [
      "Iteration 3 - Epoch 47 - Training: 100%|██████████| 60/60 [00:19<00:00,  3.15it/s]\n",
      "Iteration 3 - Epoch 47 - Validation: 100%|██████████| 15/15 [00:01<00:00,  9.46it/s]\n"
     ]
    },
    {
     "name": "stdout",
     "output_type": "stream",
     "text": [
      "Iteration 3 - Epoch 47:\n",
      "  Train Acc = 1.0000, Train Prec = 1.0000, Train Rec = 1.0000, Train F-Beta = 1.0000, Train Loss = 0.0001\n",
      "  Val Acc = 0.9562, Val Prec = 0.7209, Val Rec = 0.7750, Val F-Beta = 0.7311, Val Loss = 0.3302\n"
     ]
    },
    {
     "name": "stderr",
     "output_type": "stream",
     "text": [
      "Iteration 3 - Epoch 48 - Training: 100%|██████████| 60/60 [00:19<00:00,  3.14it/s]\n",
      "Iteration 3 - Epoch 48 - Validation: 100%|██████████| 15/15 [00:01<00:00,  9.45it/s]\n"
     ]
    },
    {
     "name": "stdout",
     "output_type": "stream",
     "text": [
      "Iteration 3 - Epoch 48:\n",
      "  Train Acc = 1.0000, Train Prec = 1.0000, Train Rec = 1.0000, Train F-Beta = 1.0000, Train Loss = 0.0001\n",
      "  Val Acc = 0.9562, Val Prec = 0.7209, Val Rec = 0.7750, Val F-Beta = 0.7311, Val Loss = 0.3335\n"
     ]
    },
    {
     "name": "stderr",
     "output_type": "stream",
     "text": [
      "Iteration 3 - Epoch 49 - Training: 100%|██████████| 60/60 [00:19<00:00,  3.14it/s]\n",
      "Iteration 3 - Epoch 49 - Validation: 100%|██████████| 15/15 [00:01<00:00,  9.63it/s]\n"
     ]
    },
    {
     "name": "stdout",
     "output_type": "stream",
     "text": [
      "Iteration 3 - Epoch 49:\n",
      "  Train Acc = 1.0000, Train Prec = 1.0000, Train Rec = 1.0000, Train F-Beta = 1.0000, Train Loss = 0.0001\n",
      "  Val Acc = 0.9562, Val Prec = 0.7209, Val Rec = 0.7750, Val F-Beta = 0.7311, Val Loss = 0.3414\n"
     ]
    },
    {
     "name": "stderr",
     "output_type": "stream",
     "text": [
      "Iteration 3 - Epoch 50 - Training: 100%|██████████| 60/60 [00:19<00:00,  3.15it/s]\n",
      "Iteration 3 - Epoch 50 - Validation: 100%|██████████| 15/15 [00:01<00:00,  9.50it/s]\n"
     ]
    },
    {
     "name": "stdout",
     "output_type": "stream",
     "text": [
      "Iteration 3 - Epoch 50:\n",
      "  Train Acc = 1.0000, Train Prec = 1.0000, Train Rec = 1.0000, Train F-Beta = 1.0000, Train Loss = 0.0001\n",
      "  Val Acc = 0.9562, Val Prec = 0.7209, Val Rec = 0.7750, Val F-Beta = 0.7311, Val Loss = 0.3445\n",
      "Iteration 4/10\n"
     ]
    },
    {
     "name": "stderr",
     "output_type": "stream",
     "text": [
      "Some weights of ElectraForSequenceClassification were not initialized from the model checkpoint at beomi/KcELECTRA-base-v2022 and are newly initialized: ['classifier.dense.bias', 'classifier.dense.weight', 'classifier.out_proj.bias', 'classifier.out_proj.weight']\n",
      "You should probably TRAIN this model on a down-stream task to be able to use it for predictions and inference.\n",
      "Iteration 4 - Epoch 1 - Training: 100%|██████████| 60/60 [00:19<00:00,  3.15it/s]\n",
      "Iteration 4 - Epoch 1 - Validation: 100%|██████████| 15/15 [00:01<00:00,  9.43it/s]\n",
      "/home/retn0/repositories/nbsp1221/communav/.venv/lib/python3.10/site-packages/sklearn/metrics/_classification.py:1509: UndefinedMetricWarning: Precision is ill-defined and being set to 0.0 due to no predicted samples. Use `zero_division` parameter to control this behavior.\n",
      "  _warn_prf(average, modifier, f\"{metric.capitalize()} is\", len(result))\n"
     ]
    },
    {
     "name": "stdout",
     "output_type": "stream",
     "text": [
      "Iteration 4 - Epoch 1:\n",
      "  Train Acc = 0.8934, Train Prec = 0.1333, Train Rec = 0.0220, Train F-Beta = 0.0662, Train Loss = 0.3338\n",
      "  Val Acc = 0.9165, Val Prec = 0.0000, Val Rec = 0.0000, Val F-Beta = 0.0000, Val Loss = 0.1671\n"
     ]
    },
    {
     "name": "stderr",
     "output_type": "stream",
     "text": [
      "Iteration 4 - Epoch 2 - Training: 100%|██████████| 60/60 [00:19<00:00,  3.15it/s]\n",
      "Iteration 4 - Epoch 2 - Validation: 100%|██████████| 15/15 [00:01<00:00,  9.51it/s]\n"
     ]
    },
    {
     "name": "stdout",
     "output_type": "stream",
     "text": [
      "Iteration 4 - Epoch 2:\n",
      "  Train Acc = 0.9331, Train Prec = 0.6588, Train Rec = 0.6154, Train F-Beta = 0.6497, Train Loss = 0.1608\n",
      "  Val Acc = 0.9666, Val Prec = 0.8158, Val Rec = 0.7750, Val F-Beta = 0.8073, Val Loss = 0.1094\n",
      "  Better model saved with 0.8073 F-beta score.\n"
     ]
    },
    {
     "name": "stderr",
     "output_type": "stream",
     "text": [
      "Iteration 4 - Epoch 3 - Training: 100%|██████████| 60/60 [00:18<00:00,  3.16it/s]\n",
      "Iteration 4 - Epoch 3 - Validation: 100%|██████████| 15/15 [00:01<00:00,  9.51it/s]\n"
     ]
    },
    {
     "name": "stdout",
     "output_type": "stream",
     "text": [
      "Iteration 4 - Epoch 3:\n",
      "  Train Acc = 0.9718, Train Prec = 0.8333, Train Rec = 0.8791, Train F-Beta = 0.8421, Train Loss = 0.0868\n",
      "  Val Acc = 0.9624, Val Prec = 0.8235, Val Rec = 0.7000, Val F-Beta = 0.7955, Val Loss = 0.1345\n"
     ]
    },
    {
     "name": "stderr",
     "output_type": "stream",
     "text": [
      "Iteration 4 - Epoch 4 - Training: 100%|██████████| 60/60 [00:18<00:00,  3.16it/s]\n",
      "Iteration 4 - Epoch 4 - Validation: 100%|██████████| 15/15 [00:01<00:00,  9.51it/s]\n"
     ]
    },
    {
     "name": "stdout",
     "output_type": "stream",
     "text": [
      "Iteration 4 - Epoch 4:\n",
      "  Train Acc = 0.9838, Train Prec = 0.9037, Train Rec = 0.9286, Train F-Beta = 0.9086, Train Loss = 0.0514\n",
      "  Val Acc = 0.9582, Val Prec = 0.7778, Val Rec = 0.7000, Val F-Beta = 0.7609, Val Loss = 0.1516\n"
     ]
    },
    {
     "name": "stderr",
     "output_type": "stream",
     "text": [
      "Iteration 4 - Epoch 5 - Training: 100%|██████████| 60/60 [00:18<00:00,  3.21it/s]\n",
      "Iteration 4 - Epoch 5 - Validation: 100%|██████████| 15/15 [00:01<00:00,  9.52it/s]\n"
     ]
    },
    {
     "name": "stdout",
     "output_type": "stream",
     "text": [
      "Iteration 4 - Epoch 5:\n",
      "  Train Acc = 0.9927, Train Prec = 0.9468, Train Rec = 0.9780, Train F-Beta = 0.9529, Train Loss = 0.0249\n",
      "  Val Acc = 0.9582, Val Prec = 0.7500, Val Rec = 0.7500, Val F-Beta = 0.7500, Val Loss = 0.1408\n"
     ]
    },
    {
     "name": "stderr",
     "output_type": "stream",
     "text": [
      "Iteration 4 - Epoch 6 - Training: 100%|██████████| 60/60 [00:19<00:00,  3.14it/s]\n",
      "Iteration 4 - Epoch 6 - Validation: 100%|██████████| 15/15 [00:01<00:00,  9.52it/s]\n"
     ]
    },
    {
     "name": "stdout",
     "output_type": "stream",
     "text": [
      "Iteration 4 - Epoch 6:\n",
      "  Train Acc = 0.9969, Train Prec = 0.9783, Train Rec = 0.9890, Train F-Beta = 0.9804, Train Loss = 0.0191\n",
      "  Val Acc = 0.9582, Val Prec = 0.7941, Val Rec = 0.6750, Val F-Beta = 0.7670, Val Loss = 0.1927\n"
     ]
    },
    {
     "name": "stderr",
     "output_type": "stream",
     "text": [
      "Iteration 4 - Epoch 7 - Training: 100%|██████████| 60/60 [00:18<00:00,  3.22it/s]\n",
      "Iteration 4 - Epoch 7 - Validation: 100%|██████████| 15/15 [00:01<00:00,  9.94it/s]\n"
     ]
    },
    {
     "name": "stdout",
     "output_type": "stream",
     "text": [
      "Iteration 4 - Epoch 7:\n",
      "  Train Acc = 0.9911, Train Prec = 0.9365, Train Rec = 0.9725, Train F-Beta = 0.9435, Train Loss = 0.0243\n",
      "  Val Acc = 0.9603, Val Prec = 0.7838, Val Rec = 0.7250, Val F-Beta = 0.7713, Val Loss = 0.1701\n"
     ]
    },
    {
     "name": "stderr",
     "output_type": "stream",
     "text": [
      "Iteration 4 - Epoch 8 - Training: 100%|██████████| 60/60 [00:18<00:00,  3.22it/s]\n",
      "Iteration 4 - Epoch 8 - Validation: 100%|██████████| 15/15 [00:01<00:00,  9.71it/s]\n"
     ]
    },
    {
     "name": "stdout",
     "output_type": "stream",
     "text": [
      "Iteration 4 - Epoch 8:\n",
      "  Train Acc = 0.9969, Train Prec = 0.9783, Train Rec = 0.9890, Train F-Beta = 0.9804, Train Loss = 0.0139\n",
      "  Val Acc = 0.9582, Val Prec = 0.7381, Val Rec = 0.7750, Val F-Beta = 0.7452, Val Loss = 0.1888\n"
     ]
    },
    {
     "name": "stderr",
     "output_type": "stream",
     "text": [
      "Iteration 4 - Epoch 9 - Training: 100%|██████████| 60/60 [00:18<00:00,  3.29it/s]\n",
      "Iteration 4 - Epoch 9 - Validation: 100%|██████████| 15/15 [00:01<00:00,  9.60it/s]\n"
     ]
    },
    {
     "name": "stdout",
     "output_type": "stream",
     "text": [
      "Iteration 4 - Epoch 9:\n",
      "  Train Acc = 0.9963, Train Prec = 0.9834, Train Rec = 0.9780, Train F-Beta = 0.9823, Train Loss = 0.0124\n",
      "  Val Acc = 0.9687, Val Prec = 0.8378, Val Rec = 0.7750, Val F-Beta = 0.8245, Val Loss = 0.1953\n",
      "  Better model saved with 0.8245 F-beta score.\n"
     ]
    },
    {
     "name": "stderr",
     "output_type": "stream",
     "text": [
      "Iteration 4 - Epoch 10 - Training: 100%|██████████| 60/60 [00:18<00:00,  3.20it/s]\n",
      "Iteration 4 - Epoch 10 - Validation: 100%|██████████| 15/15 [00:01<00:00,  9.66it/s]\n"
     ]
    },
    {
     "name": "stdout",
     "output_type": "stream",
     "text": [
      "Iteration 4 - Epoch 10:\n",
      "  Train Acc = 0.9958, Train Prec = 0.9628, Train Rec = 0.9945, Train F-Beta = 0.9690, Train Loss = 0.0136\n",
      "  Val Acc = 0.9666, Val Prec = 0.8158, Val Rec = 0.7750, Val F-Beta = 0.8073, Val Loss = 0.1985\n"
     ]
    },
    {
     "name": "stderr",
     "output_type": "stream",
     "text": [
      "Iteration 4 - Epoch 11 - Training: 100%|██████████| 60/60 [00:18<00:00,  3.21it/s]\n",
      "Iteration 4 - Epoch 11 - Validation: 100%|██████████| 15/15 [00:01<00:00,  9.59it/s]\n"
     ]
    },
    {
     "name": "stdout",
     "output_type": "stream",
     "text": [
      "Iteration 4 - Epoch 11:\n",
      "  Train Acc = 0.9979, Train Prec = 0.9890, Train Rec = 0.9890, Train F-Beta = 0.9890, Train Loss = 0.0110\n",
      "  Val Acc = 0.9645, Val Prec = 0.7674, Val Rec = 0.8250, Val F-Beta = 0.7783, Val Loss = 0.1751\n"
     ]
    },
    {
     "name": "stderr",
     "output_type": "stream",
     "text": [
      "Iteration 4 - Epoch 12 - Training: 100%|██████████| 60/60 [00:19<00:00,  3.15it/s]\n",
      "Iteration 4 - Epoch 12 - Validation: 100%|██████████| 15/15 [00:01<00:00,  9.40it/s]\n"
     ]
    },
    {
     "name": "stdout",
     "output_type": "stream",
     "text": [
      "Iteration 4 - Epoch 12:\n",
      "  Train Acc = 0.9979, Train Prec = 0.9837, Train Rec = 0.9945, Train F-Beta = 0.9858, Train Loss = 0.0081\n",
      "  Val Acc = 0.9603, Val Prec = 0.7442, Val Rec = 0.8000, Val F-Beta = 0.7547, Val Loss = 0.1609\n"
     ]
    },
    {
     "name": "stderr",
     "output_type": "stream",
     "text": [
      "Iteration 4 - Epoch 13 - Training: 100%|██████████| 60/60 [00:18<00:00,  3.17it/s]\n",
      "Iteration 4 - Epoch 13 - Validation: 100%|██████████| 15/15 [00:01<00:00,  9.68it/s]\n"
     ]
    },
    {
     "name": "stdout",
     "output_type": "stream",
     "text": [
      "Iteration 4 - Epoch 13:\n",
      "  Train Acc = 1.0000, Train Prec = 1.0000, Train Rec = 1.0000, Train F-Beta = 1.0000, Train Loss = 0.0020\n",
      "  Val Acc = 0.9603, Val Prec = 0.7442, Val Rec = 0.8000, Val F-Beta = 0.7547, Val Loss = 0.1983\n"
     ]
    },
    {
     "name": "stderr",
     "output_type": "stream",
     "text": [
      "Iteration 4 - Epoch 14 - Training: 100%|██████████| 60/60 [00:18<00:00,  3.16it/s]\n",
      "Iteration 4 - Epoch 14 - Validation: 100%|██████████| 15/15 [00:01<00:00,  9.88it/s]\n"
     ]
    },
    {
     "name": "stdout",
     "output_type": "stream",
     "text": [
      "Iteration 4 - Epoch 14:\n",
      "  Train Acc = 1.0000, Train Prec = 1.0000, Train Rec = 1.0000, Train F-Beta = 1.0000, Train Loss = 0.0009\n",
      "  Val Acc = 0.9666, Val Prec = 0.8000, Val Rec = 0.8000, Val F-Beta = 0.8000, Val Loss = 0.2084\n"
     ]
    },
    {
     "name": "stderr",
     "output_type": "stream",
     "text": [
      "Iteration 4 - Epoch 15 - Training: 100%|██████████| 60/60 [00:18<00:00,  3.20it/s]\n",
      "Iteration 4 - Epoch 15 - Validation: 100%|██████████| 15/15 [00:01<00:00,  9.68it/s]\n"
     ]
    },
    {
     "name": "stdout",
     "output_type": "stream",
     "text": [
      "Iteration 4 - Epoch 15:\n",
      "  Train Acc = 1.0000, Train Prec = 1.0000, Train Rec = 1.0000, Train F-Beta = 1.0000, Train Loss = 0.0006\n",
      "  Val Acc = 0.9666, Val Prec = 0.8000, Val Rec = 0.8000, Val F-Beta = 0.8000, Val Loss = 0.2147\n"
     ]
    },
    {
     "name": "stderr",
     "output_type": "stream",
     "text": [
      "Iteration 4 - Epoch 16 - Training: 100%|██████████| 60/60 [00:18<00:00,  3.21it/s]\n",
      "Iteration 4 - Epoch 16 - Validation: 100%|██████████| 15/15 [00:01<00:00,  9.69it/s]\n"
     ]
    },
    {
     "name": "stdout",
     "output_type": "stream",
     "text": [
      "Iteration 4 - Epoch 16:\n",
      "  Train Acc = 1.0000, Train Prec = 1.0000, Train Rec = 1.0000, Train F-Beta = 1.0000, Train Loss = 0.0005\n",
      "  Val Acc = 0.9666, Val Prec = 0.8000, Val Rec = 0.8000, Val F-Beta = 0.8000, Val Loss = 0.2200\n"
     ]
    },
    {
     "name": "stderr",
     "output_type": "stream",
     "text": [
      "Iteration 4 - Epoch 17 - Training: 100%|██████████| 60/60 [00:18<00:00,  3.22it/s]\n",
      "Iteration 4 - Epoch 17 - Validation: 100%|██████████| 15/15 [00:01<00:00,  9.83it/s]\n"
     ]
    },
    {
     "name": "stdout",
     "output_type": "stream",
     "text": [
      "Iteration 4 - Epoch 17:\n",
      "  Train Acc = 0.9911, Train Prec = 0.9508, Train Rec = 0.9560, Train F-Beta = 0.9519, Train Loss = 0.0274\n",
      "  Val Acc = 0.9687, Val Prec = 0.8571, Val Rec = 0.7500, Val F-Beta = 0.8333, Val Loss = 0.1891\n",
      "  Better model saved with 0.8333 F-beta score.\n"
     ]
    },
    {
     "name": "stderr",
     "output_type": "stream",
     "text": [
      "Iteration 4 - Epoch 18 - Training: 100%|██████████| 60/60 [00:18<00:00,  3.27it/s]\n",
      "Iteration 4 - Epoch 18 - Validation: 100%|██████████| 15/15 [00:01<00:00,  9.85it/s]\n"
     ]
    },
    {
     "name": "stdout",
     "output_type": "stream",
     "text": [
      "Iteration 4 - Epoch 18:\n",
      "  Train Acc = 0.9990, Train Prec = 0.9945, Train Rec = 0.9945, Train F-Beta = 0.9945, Train Loss = 0.0032\n",
      "  Val Acc = 0.9666, Val Prec = 0.8158, Val Rec = 0.7750, Val F-Beta = 0.8073, Val Loss = 0.2008\n"
     ]
    },
    {
     "name": "stderr",
     "output_type": "stream",
     "text": [
      "Iteration 4 - Epoch 19 - Training: 100%|██████████| 60/60 [00:18<00:00,  3.22it/s]\n",
      "Iteration 4 - Epoch 19 - Validation: 100%|██████████| 15/15 [00:01<00:00,  9.67it/s]\n"
     ]
    },
    {
     "name": "stdout",
     "output_type": "stream",
     "text": [
      "Iteration 4 - Epoch 19:\n",
      "  Train Acc = 0.9995, Train Prec = 0.9945, Train Rec = 1.0000, Train F-Beta = 0.9956, Train Loss = 0.0017\n",
      "  Val Acc = 0.9666, Val Prec = 0.8158, Val Rec = 0.7750, Val F-Beta = 0.8073, Val Loss = 0.2074\n"
     ]
    },
    {
     "name": "stderr",
     "output_type": "stream",
     "text": [
      "Iteration 4 - Epoch 20 - Training: 100%|██████████| 60/60 [00:18<00:00,  3.21it/s]\n",
      "Iteration 4 - Epoch 20 - Validation: 100%|██████████| 15/15 [00:01<00:00,  9.62it/s]\n"
     ]
    },
    {
     "name": "stdout",
     "output_type": "stream",
     "text": [
      "Iteration 4 - Epoch 20:\n",
      "  Train Acc = 1.0000, Train Prec = 1.0000, Train Rec = 1.0000, Train F-Beta = 1.0000, Train Loss = 0.0008\n",
      "  Val Acc = 0.9666, Val Prec = 0.8158, Val Rec = 0.7750, Val F-Beta = 0.8073, Val Loss = 0.2103\n"
     ]
    },
    {
     "name": "stderr",
     "output_type": "stream",
     "text": [
      "Iteration 4 - Epoch 21 - Training: 100%|██████████| 60/60 [00:18<00:00,  3.16it/s]\n",
      "Iteration 4 - Epoch 21 - Validation: 100%|██████████| 15/15 [00:01<00:00,  9.46it/s]\n"
     ]
    },
    {
     "name": "stdout",
     "output_type": "stream",
     "text": [
      "Iteration 4 - Epoch 21:\n",
      "  Train Acc = 1.0000, Train Prec = 1.0000, Train Rec = 1.0000, Train F-Beta = 1.0000, Train Loss = 0.0005\n",
      "  Val Acc = 0.9582, Val Prec = 0.7273, Val Rec = 0.8000, Val F-Beta = 0.7407, Val Loss = 0.2294\n"
     ]
    },
    {
     "name": "stderr",
     "output_type": "stream",
     "text": [
      "Iteration 4 - Epoch 22 - Training: 100%|██████████| 60/60 [00:19<00:00,  3.13it/s]\n",
      "Iteration 4 - Epoch 22 - Validation: 100%|██████████| 15/15 [00:01<00:00,  9.47it/s]\n"
     ]
    },
    {
     "name": "stdout",
     "output_type": "stream",
     "text": [
      "Iteration 4 - Epoch 22:\n",
      "  Train Acc = 1.0000, Train Prec = 1.0000, Train Rec = 1.0000, Train F-Beta = 1.0000, Train Loss = 0.0003\n",
      "  Val Acc = 0.9603, Val Prec = 0.7561, Val Rec = 0.7750, Val F-Beta = 0.7598, Val Loss = 0.2307\n"
     ]
    },
    {
     "name": "stderr",
     "output_type": "stream",
     "text": [
      "Iteration 4 - Epoch 23 - Training: 100%|██████████| 60/60 [00:18<00:00,  3.18it/s]\n",
      "Iteration 4 - Epoch 23 - Validation: 100%|██████████| 15/15 [00:01<00:00,  9.71it/s]\n"
     ]
    },
    {
     "name": "stdout",
     "output_type": "stream",
     "text": [
      "Iteration 4 - Epoch 23:\n",
      "  Train Acc = 1.0000, Train Prec = 1.0000, Train Rec = 1.0000, Train F-Beta = 1.0000, Train Loss = 0.0003\n",
      "  Val Acc = 0.9624, Val Prec = 0.7750, Val Rec = 0.7750, Val F-Beta = 0.7750, Val Loss = 0.2359\n"
     ]
    },
    {
     "name": "stderr",
     "output_type": "stream",
     "text": [
      "Iteration 4 - Epoch 24 - Training: 100%|██████████| 60/60 [00:18<00:00,  3.25it/s]\n",
      "Iteration 4 - Epoch 24 - Validation: 100%|██████████| 15/15 [00:01<00:00,  9.85it/s]\n"
     ]
    },
    {
     "name": "stdout",
     "output_type": "stream",
     "text": [
      "Iteration 4 - Epoch 24:\n",
      "  Train Acc = 0.9984, Train Prec = 0.9891, Train Rec = 0.9945, Train F-Beta = 0.9902, Train Loss = 0.0066\n",
      "  Val Acc = 0.9645, Val Prec = 0.7674, Val Rec = 0.8250, Val F-Beta = 0.7783, Val Loss = 0.1786\n"
     ]
    },
    {
     "name": "stderr",
     "output_type": "stream",
     "text": [
      "Iteration 4 - Epoch 25 - Training: 100%|██████████| 60/60 [00:18<00:00,  3.26it/s]\n",
      "Iteration 4 - Epoch 25 - Validation: 100%|██████████| 15/15 [00:01<00:00,  9.85it/s]\n"
     ]
    },
    {
     "name": "stdout",
     "output_type": "stream",
     "text": [
      "Iteration 4 - Epoch 25:\n",
      "  Train Acc = 0.9974, Train Prec = 0.9944, Train Rec = 0.9780, Train F-Beta = 0.9911, Train Loss = 0.0116\n",
      "  Val Acc = 0.9603, Val Prec = 0.7143, Val Rec = 0.8750, Val F-Beta = 0.7415, Val Loss = 0.1390\n"
     ]
    },
    {
     "name": "stderr",
     "output_type": "stream",
     "text": [
      "Iteration 4 - Epoch 26 - Training: 100%|██████████| 60/60 [00:18<00:00,  3.21it/s]\n",
      "Iteration 4 - Epoch 26 - Validation: 100%|██████████| 15/15 [00:01<00:00,  9.68it/s]\n"
     ]
    },
    {
     "name": "stdout",
     "output_type": "stream",
     "text": [
      "Iteration 4 - Epoch 26:\n",
      "  Train Acc = 0.9990, Train Prec = 0.9945, Train Rec = 0.9945, Train F-Beta = 0.9945, Train Loss = 0.0048\n",
      "  Val Acc = 0.9645, Val Prec = 0.7805, Val Rec = 0.8000, Val F-Beta = 0.7843, Val Loss = 0.1682\n"
     ]
    },
    {
     "name": "stderr",
     "output_type": "stream",
     "text": [
      "Iteration 4 - Epoch 27 - Training: 100%|██████████| 60/60 [00:18<00:00,  3.21it/s]\n",
      "Iteration 4 - Epoch 27 - Validation: 100%|██████████| 15/15 [00:01<00:00,  9.71it/s]\n"
     ]
    },
    {
     "name": "stdout",
     "output_type": "stream",
     "text": [
      "Iteration 4 - Epoch 27:\n",
      "  Train Acc = 1.0000, Train Prec = 1.0000, Train Rec = 1.0000, Train F-Beta = 1.0000, Train Loss = 0.0017\n",
      "  Val Acc = 0.9666, Val Prec = 0.8000, Val Rec = 0.8000, Val F-Beta = 0.8000, Val Loss = 0.1861\n"
     ]
    },
    {
     "name": "stderr",
     "output_type": "stream",
     "text": [
      "Iteration 4 - Epoch 28 - Training: 100%|██████████| 60/60 [00:18<00:00,  3.19it/s]\n",
      "Iteration 4 - Epoch 28 - Validation: 100%|██████████| 15/15 [00:01<00:00,  9.56it/s]\n"
     ]
    },
    {
     "name": "stdout",
     "output_type": "stream",
     "text": [
      "Iteration 4 - Epoch 28:\n",
      "  Train Acc = 0.9990, Train Prec = 0.9945, Train Rec = 0.9945, Train F-Beta = 0.9945, Train Loss = 0.0063\n",
      "  Val Acc = 0.9666, Val Prec = 0.8158, Val Rec = 0.7750, Val F-Beta = 0.8073, Val Loss = 0.1361\n"
     ]
    },
    {
     "name": "stderr",
     "output_type": "stream",
     "text": [
      "Iteration 4 - Epoch 29 - Training: 100%|██████████| 60/60 [00:18<00:00,  3.22it/s]\n",
      "Iteration 4 - Epoch 29 - Validation: 100%|██████████| 15/15 [00:01<00:00,  9.69it/s]\n"
     ]
    },
    {
     "name": "stdout",
     "output_type": "stream",
     "text": [
      "Iteration 4 - Epoch 29:\n",
      "  Train Acc = 0.9995, Train Prec = 0.9945, Train Rec = 1.0000, Train F-Beta = 0.9956, Train Loss = 0.0014\n",
      "  Val Acc = 0.9666, Val Prec = 0.8529, Val Rec = 0.7250, Val F-Beta = 0.8239, Val Loss = 0.2179\n"
     ]
    },
    {
     "name": "stderr",
     "output_type": "stream",
     "text": [
      "Iteration 4 - Epoch 30 - Training: 100%|██████████| 60/60 [00:18<00:00,  3.22it/s]\n",
      "Iteration 4 - Epoch 30 - Validation: 100%|██████████| 15/15 [00:01<00:00,  9.69it/s]\n"
     ]
    },
    {
     "name": "stdout",
     "output_type": "stream",
     "text": [
      "Iteration 4 - Epoch 30:\n",
      "  Train Acc = 1.0000, Train Prec = 1.0000, Train Rec = 1.0000, Train F-Beta = 1.0000, Train Loss = 0.0003\n",
      "  Val Acc = 0.9687, Val Prec = 0.8571, Val Rec = 0.7500, Val F-Beta = 0.8333, Val Loss = 0.2100\n"
     ]
    },
    {
     "name": "stderr",
     "output_type": "stream",
     "text": [
      "Iteration 4 - Epoch 31 - Training: 100%|██████████| 60/60 [00:18<00:00,  3.19it/s]\n",
      "Iteration 4 - Epoch 31 - Validation: 100%|██████████| 15/15 [00:01<00:00,  9.70it/s]\n"
     ]
    },
    {
     "name": "stdout",
     "output_type": "stream",
     "text": [
      "Iteration 4 - Epoch 31:\n",
      "  Train Acc = 1.0000, Train Prec = 1.0000, Train Rec = 1.0000, Train F-Beta = 1.0000, Train Loss = 0.0002\n",
      "  Val Acc = 0.9687, Val Prec = 0.8571, Val Rec = 0.7500, Val F-Beta = 0.8333, Val Loss = 0.2159\n"
     ]
    },
    {
     "name": "stderr",
     "output_type": "stream",
     "text": [
      "Iteration 4 - Epoch 32 - Training: 100%|██████████| 60/60 [00:18<00:00,  3.22it/s]\n",
      "Iteration 4 - Epoch 32 - Validation: 100%|██████████| 15/15 [00:01<00:00,  9.65it/s]\n"
     ]
    },
    {
     "name": "stdout",
     "output_type": "stream",
     "text": [
      "Iteration 4 - Epoch 32:\n",
      "  Train Acc = 1.0000, Train Prec = 1.0000, Train Rec = 1.0000, Train F-Beta = 1.0000, Train Loss = 0.0002\n",
      "  Val Acc = 0.9687, Val Prec = 0.8571, Val Rec = 0.7500, Val F-Beta = 0.8333, Val Loss = 0.2199\n"
     ]
    },
    {
     "name": "stderr",
     "output_type": "stream",
     "text": [
      "Iteration 4 - Epoch 33 - Training: 100%|██████████| 60/60 [00:18<00:00,  3.19it/s]\n",
      "Iteration 4 - Epoch 33 - Validation: 100%|██████████| 15/15 [00:01<00:00,  9.69it/s]\n"
     ]
    },
    {
     "name": "stdout",
     "output_type": "stream",
     "text": [
      "Iteration 4 - Epoch 33:\n",
      "  Train Acc = 1.0000, Train Prec = 1.0000, Train Rec = 1.0000, Train F-Beta = 1.0000, Train Loss = 0.0002\n",
      "  Val Acc = 0.9666, Val Prec = 0.8333, Val Rec = 0.7500, Val F-Beta = 0.8152, Val Loss = 0.2182\n"
     ]
    },
    {
     "name": "stderr",
     "output_type": "stream",
     "text": [
      "Iteration 4 - Epoch 34 - Training: 100%|██████████| 60/60 [00:18<00:00,  3.22it/s]\n",
      "Iteration 4 - Epoch 34 - Validation: 100%|██████████| 15/15 [00:01<00:00,  9.71it/s]\n"
     ]
    },
    {
     "name": "stdout",
     "output_type": "stream",
     "text": [
      "Iteration 4 - Epoch 34:\n",
      "  Train Acc = 1.0000, Train Prec = 1.0000, Train Rec = 1.0000, Train F-Beta = 1.0000, Train Loss = 0.0001\n",
      "  Val Acc = 0.9666, Val Prec = 0.8333, Val Rec = 0.7500, Val F-Beta = 0.8152, Val Loss = 0.2223\n"
     ]
    },
    {
     "name": "stderr",
     "output_type": "stream",
     "text": [
      "Iteration 4 - Epoch 35 - Training: 100%|██████████| 60/60 [00:19<00:00,  3.16it/s]\n",
      "Iteration 4 - Epoch 35 - Validation: 100%|██████████| 15/15 [00:01<00:00,  9.50it/s]\n"
     ]
    },
    {
     "name": "stdout",
     "output_type": "stream",
     "text": [
      "Iteration 4 - Epoch 35:\n",
      "  Train Acc = 1.0000, Train Prec = 1.0000, Train Rec = 1.0000, Train F-Beta = 1.0000, Train Loss = 0.0001\n",
      "  Val Acc = 0.9687, Val Prec = 0.8571, Val Rec = 0.7500, Val F-Beta = 0.8333, Val Loss = 0.2264\n"
     ]
    },
    {
     "name": "stderr",
     "output_type": "stream",
     "text": [
      "Iteration 4 - Epoch 36 - Training: 100%|██████████| 60/60 [00:19<00:00,  3.13it/s]\n",
      "Iteration 4 - Epoch 36 - Validation: 100%|██████████| 15/15 [00:01<00:00,  9.86it/s]\n"
     ]
    },
    {
     "name": "stdout",
     "output_type": "stream",
     "text": [
      "Iteration 4 - Epoch 36:\n",
      "  Train Acc = 1.0000, Train Prec = 1.0000, Train Rec = 1.0000, Train F-Beta = 1.0000, Train Loss = 0.0001\n",
      "  Val Acc = 0.9687, Val Prec = 0.8571, Val Rec = 0.7500, Val F-Beta = 0.8333, Val Loss = 0.2291\n"
     ]
    },
    {
     "name": "stderr",
     "output_type": "stream",
     "text": [
      "Iteration 4 - Epoch 37 - Training: 100%|██████████| 60/60 [00:18<00:00,  3.25it/s]\n",
      "Iteration 4 - Epoch 37 - Validation: 100%|██████████| 15/15 [00:01<00:00,  9.85it/s]\n"
     ]
    },
    {
     "name": "stdout",
     "output_type": "stream",
     "text": [
      "Iteration 4 - Epoch 37:\n",
      "  Train Acc = 1.0000, Train Prec = 1.0000, Train Rec = 1.0000, Train F-Beta = 1.0000, Train Loss = 0.0001\n",
      "  Val Acc = 0.9687, Val Prec = 0.8571, Val Rec = 0.7500, Val F-Beta = 0.8333, Val Loss = 0.2325\n"
     ]
    },
    {
     "name": "stderr",
     "output_type": "stream",
     "text": [
      "Iteration 4 - Epoch 38 - Training: 100%|██████████| 60/60 [00:18<00:00,  3.27it/s]\n",
      "Iteration 4 - Epoch 38 - Validation: 100%|██████████| 15/15 [00:01<00:00,  9.84it/s]\n"
     ]
    },
    {
     "name": "stdout",
     "output_type": "stream",
     "text": [
      "Iteration 4 - Epoch 38:\n",
      "  Train Acc = 1.0000, Train Prec = 1.0000, Train Rec = 1.0000, Train F-Beta = 1.0000, Train Loss = 0.0001\n",
      "  Val Acc = 0.9687, Val Prec = 0.8571, Val Rec = 0.7500, Val F-Beta = 0.8333, Val Loss = 0.2366\n"
     ]
    },
    {
     "name": "stderr",
     "output_type": "stream",
     "text": [
      "Iteration 4 - Epoch 39 - Training: 100%|██████████| 60/60 [00:18<00:00,  3.25it/s]\n",
      "Iteration 4 - Epoch 39 - Validation: 100%|██████████| 15/15 [00:01<00:00,  9.58it/s]\n"
     ]
    },
    {
     "name": "stdout",
     "output_type": "stream",
     "text": [
      "Iteration 4 - Epoch 39:\n",
      "  Train Acc = 1.0000, Train Prec = 1.0000, Train Rec = 1.0000, Train F-Beta = 1.0000, Train Loss = 0.0001\n",
      "  Val Acc = 0.9666, Val Prec = 0.8333, Val Rec = 0.7500, Val F-Beta = 0.8152, Val Loss = 0.2365\n"
     ]
    },
    {
     "name": "stderr",
     "output_type": "stream",
     "text": [
      "Iteration 4 - Epoch 40 - Training: 100%|██████████| 60/60 [00:18<00:00,  3.19it/s]\n",
      "Iteration 4 - Epoch 40 - Validation: 100%|██████████| 15/15 [00:01<00:00,  9.72it/s]\n"
     ]
    },
    {
     "name": "stdout",
     "output_type": "stream",
     "text": [
      "Iteration 4 - Epoch 40:\n",
      "  Train Acc = 0.9969, Train Prec = 0.9889, Train Rec = 0.9780, Train F-Beta = 0.9867, Train Loss = 0.0051\n",
      "  Val Acc = 0.9562, Val Prec = 0.7111, Val Rec = 0.8000, Val F-Beta = 0.7273, Val Loss = 0.2289\n"
     ]
    },
    {
     "name": "stderr",
     "output_type": "stream",
     "text": [
      "Iteration 4 - Epoch 41 - Training: 100%|██████████| 60/60 [00:18<00:00,  3.26it/s]\n",
      "Iteration 4 - Epoch 41 - Validation: 100%|██████████| 15/15 [00:01<00:00,  9.61it/s]\n"
     ]
    },
    {
     "name": "stdout",
     "output_type": "stream",
     "text": [
      "Iteration 4 - Epoch 41:\n",
      "  Train Acc = 0.9948, Train Prec = 0.9674, Train Rec = 0.9780, Train F-Beta = 0.9695, Train Loss = 0.0183\n",
      "  Val Acc = 0.9729, Val Prec = 0.8649, Val Rec = 0.8000, Val F-Beta = 0.8511, Val Loss = 0.1877\n",
      "  Better model saved with 0.8511 F-beta score.\n"
     ]
    },
    {
     "name": "stderr",
     "output_type": "stream",
     "text": [
      "Iteration 4 - Epoch 42 - Training: 100%|██████████| 60/60 [00:18<00:00,  3.31it/s]\n",
      "Iteration 4 - Epoch 42 - Validation: 100%|██████████| 15/15 [00:01<00:00, 10.06it/s]\n"
     ]
    },
    {
     "name": "stdout",
     "output_type": "stream",
     "text": [
      "Iteration 4 - Epoch 42:\n",
      "  Train Acc = 0.9995, Train Prec = 0.9945, Train Rec = 1.0000, Train F-Beta = 0.9956, Train Loss = 0.0021\n",
      "  Val Acc = 0.9687, Val Prec = 0.8571, Val Rec = 0.7500, Val F-Beta = 0.8333, Val Loss = 0.2299\n"
     ]
    },
    {
     "name": "stderr",
     "output_type": "stream",
     "text": [
      "Iteration 4 - Epoch 43 - Training: 100%|██████████| 60/60 [00:18<00:00,  3.32it/s]\n",
      "Iteration 4 - Epoch 43 - Validation: 100%|██████████| 15/15 [00:01<00:00,  9.70it/s]\n"
     ]
    },
    {
     "name": "stdout",
     "output_type": "stream",
     "text": [
      "Iteration 4 - Epoch 43:\n",
      "  Train Acc = 1.0000, Train Prec = 1.0000, Train Rec = 1.0000, Train F-Beta = 1.0000, Train Loss = 0.0001\n",
      "  Val Acc = 0.9687, Val Prec = 0.8571, Val Rec = 0.7500, Val F-Beta = 0.8333, Val Loss = 0.2387\n"
     ]
    },
    {
     "name": "stderr",
     "output_type": "stream",
     "text": [
      "Iteration 4 - Epoch 44 - Training: 100%|██████████| 60/60 [00:18<00:00,  3.22it/s]\n",
      "Iteration 4 - Epoch 44 - Validation: 100%|██████████| 15/15 [00:01<00:00,  9.68it/s]\n"
     ]
    },
    {
     "name": "stdout",
     "output_type": "stream",
     "text": [
      "Iteration 4 - Epoch 44:\n",
      "  Train Acc = 1.0000, Train Prec = 1.0000, Train Rec = 1.0000, Train F-Beta = 1.0000, Train Loss = 0.0002\n",
      "  Val Acc = 0.9687, Val Prec = 0.8571, Val Rec = 0.7500, Val F-Beta = 0.8333, Val Loss = 0.2458\n"
     ]
    },
    {
     "name": "stderr",
     "output_type": "stream",
     "text": [
      "Iteration 4 - Epoch 45 - Training: 100%|██████████| 60/60 [00:18<00:00,  3.20it/s]\n",
      "Iteration 4 - Epoch 45 - Validation: 100%|██████████| 15/15 [00:01<00:00,  9.60it/s]\n"
     ]
    },
    {
     "name": "stdout",
     "output_type": "stream",
     "text": [
      "Iteration 4 - Epoch 45:\n",
      "  Train Acc = 1.0000, Train Prec = 1.0000, Train Rec = 1.0000, Train F-Beta = 1.0000, Train Loss = 0.0001\n",
      "  Val Acc = 0.9687, Val Prec = 0.8571, Val Rec = 0.7500, Val F-Beta = 0.8333, Val Loss = 0.2503\n"
     ]
    },
    {
     "name": "stderr",
     "output_type": "stream",
     "text": [
      "Iteration 4 - Epoch 46 - Training: 100%|██████████| 60/60 [00:18<00:00,  3.26it/s]\n",
      "Iteration 4 - Epoch 46 - Validation: 100%|██████████| 15/15 [00:01<00:00,  9.70it/s]\n"
     ]
    },
    {
     "name": "stdout",
     "output_type": "stream",
     "text": [
      "Iteration 4 - Epoch 46:\n",
      "  Train Acc = 1.0000, Train Prec = 1.0000, Train Rec = 1.0000, Train F-Beta = 1.0000, Train Loss = 0.0001\n",
      "  Val Acc = 0.9687, Val Prec = 0.8571, Val Rec = 0.7500, Val F-Beta = 0.8333, Val Loss = 0.2546\n"
     ]
    },
    {
     "name": "stderr",
     "output_type": "stream",
     "text": [
      "Iteration 4 - Epoch 47 - Training: 100%|██████████| 60/60 [00:18<00:00,  3.20it/s]\n",
      "Iteration 4 - Epoch 47 - Validation: 100%|██████████| 15/15 [00:01<00:00,  9.66it/s]\n"
     ]
    },
    {
     "name": "stdout",
     "output_type": "stream",
     "text": [
      "Iteration 4 - Epoch 47:\n",
      "  Train Acc = 1.0000, Train Prec = 1.0000, Train Rec = 1.0000, Train F-Beta = 1.0000, Train Loss = 0.0001\n",
      "  Val Acc = 0.9687, Val Prec = 0.8571, Val Rec = 0.7500, Val F-Beta = 0.8333, Val Loss = 0.2578\n"
     ]
    },
    {
     "name": "stderr",
     "output_type": "stream",
     "text": [
      "Iteration 4 - Epoch 48 - Training: 100%|██████████| 60/60 [00:18<00:00,  3.21it/s]\n",
      "Iteration 4 - Epoch 48 - Validation: 100%|██████████| 15/15 [00:01<00:00,  9.79it/s]\n"
     ]
    },
    {
     "name": "stdout",
     "output_type": "stream",
     "text": [
      "Iteration 4 - Epoch 48:\n",
      "  Train Acc = 1.0000, Train Prec = 1.0000, Train Rec = 1.0000, Train F-Beta = 1.0000, Train Loss = 0.0001\n",
      "  Val Acc = 0.9687, Val Prec = 0.8571, Val Rec = 0.7500, Val F-Beta = 0.8333, Val Loss = 0.2596\n"
     ]
    },
    {
     "name": "stderr",
     "output_type": "stream",
     "text": [
      "Iteration 4 - Epoch 49 - Training: 100%|██████████| 60/60 [00:18<00:00,  3.20it/s]\n",
      "Iteration 4 - Epoch 49 - Validation: 100%|██████████| 15/15 [00:01<00:00,  9.63it/s]\n"
     ]
    },
    {
     "name": "stdout",
     "output_type": "stream",
     "text": [
      "Iteration 4 - Epoch 49:\n",
      "  Train Acc = 1.0000, Train Prec = 1.0000, Train Rec = 1.0000, Train F-Beta = 1.0000, Train Loss = 0.0001\n",
      "  Val Acc = 0.9687, Val Prec = 0.8571, Val Rec = 0.7500, Val F-Beta = 0.8333, Val Loss = 0.2627\n"
     ]
    },
    {
     "name": "stderr",
     "output_type": "stream",
     "text": [
      "Iteration 4 - Epoch 50 - Training: 100%|██████████| 60/60 [00:18<00:00,  3.20it/s]\n",
      "Iteration 4 - Epoch 50 - Validation: 100%|██████████| 15/15 [00:01<00:00,  9.64it/s]\n"
     ]
    },
    {
     "name": "stdout",
     "output_type": "stream",
     "text": [
      "Iteration 4 - Epoch 50:\n",
      "  Train Acc = 1.0000, Train Prec = 1.0000, Train Rec = 1.0000, Train F-Beta = 1.0000, Train Loss = 0.0001\n",
      "  Val Acc = 0.9687, Val Prec = 0.8571, Val Rec = 0.7500, Val F-Beta = 0.8333, Val Loss = 0.2652\n",
      "Iteration 5/10\n"
     ]
    },
    {
     "name": "stderr",
     "output_type": "stream",
     "text": [
      "Some weights of ElectraForSequenceClassification were not initialized from the model checkpoint at beomi/KcELECTRA-base-v2022 and are newly initialized: ['classifier.dense.bias', 'classifier.dense.weight', 'classifier.out_proj.bias', 'classifier.out_proj.weight']\n",
      "You should probably TRAIN this model on a down-stream task to be able to use it for predictions and inference.\n",
      "Iteration 5 - Epoch 1 - Training: 100%|██████████| 60/60 [00:18<00:00,  3.22it/s]\n",
      "Iteration 5 - Epoch 1 - Validation: 100%|██████████| 15/15 [00:01<00:00,  9.97it/s]\n",
      "/home/retn0/repositories/nbsp1221/communav/.venv/lib/python3.10/site-packages/sklearn/metrics/_classification.py:1509: UndefinedMetricWarning: Precision is ill-defined and being set to 0.0 due to no predicted samples. Use `zero_division` parameter to control this behavior.\n",
      "  _warn_prf(average, modifier, f\"{metric.capitalize()} is\", len(result))\n"
     ]
    },
    {
     "name": "stdout",
     "output_type": "stream",
     "text": [
      "Iteration 5 - Epoch 1:\n",
      "  Train Acc = 0.8845, Train Prec = 0.1020, Train Rec = 0.0275, Train F-Beta = 0.0661, Train Loss = 0.3553\n",
      "  Val Acc = 0.9165, Val Prec = 0.0000, Val Rec = 0.0000, Val F-Beta = 0.0000, Val Loss = 0.2263\n"
     ]
    },
    {
     "name": "stderr",
     "output_type": "stream",
     "text": [
      "Iteration 5 - Epoch 2 - Training: 100%|██████████| 60/60 [00:18<00:00,  3.19it/s]\n",
      "Iteration 5 - Epoch 2 - Validation: 100%|██████████| 15/15 [00:01<00:00,  9.44it/s]\n"
     ]
    },
    {
     "name": "stdout",
     "output_type": "stream",
     "text": [
      "Iteration 5 - Epoch 2:\n",
      "  Train Acc = 0.9190, Train Prec = 0.7647, Train Rec = 0.2143, Train F-Beta = 0.5052, Train Loss = 0.1794\n",
      "  Val Acc = 0.9624, Val Prec = 0.8056, Val Rec = 0.7250, Val F-Beta = 0.7880, Val Loss = 0.1188\n",
      "  Better model saved with 0.7880 F-beta score.\n"
     ]
    },
    {
     "name": "stderr",
     "output_type": "stream",
     "text": [
      "Iteration 5 - Epoch 3 - Training: 100%|██████████| 60/60 [00:19<00:00,  3.15it/s]\n",
      "Iteration 5 - Epoch 3 - Validation: 100%|██████████| 15/15 [00:01<00:00,  9.49it/s]\n"
     ]
    },
    {
     "name": "stdout",
     "output_type": "stream",
     "text": [
      "Iteration 5 - Epoch 3:\n",
      "  Train Acc = 0.9665, Train Prec = 0.8138, Train Rec = 0.8407, Train F-Beta = 0.8191, Train Loss = 0.0983\n",
      "  Val Acc = 0.9269, Val Prec = 0.5352, Val Rec = 0.9500, Val F-Beta = 0.5864, Val Loss = 0.1632\n"
     ]
    },
    {
     "name": "stderr",
     "output_type": "stream",
     "text": [
      "Iteration 5 - Epoch 4 - Training: 100%|██████████| 60/60 [00:19<00:00,  3.15it/s]\n",
      "Iteration 5 - Epoch 4 - Validation: 100%|██████████| 15/15 [00:01<00:00,  9.46it/s]\n"
     ]
    },
    {
     "name": "stdout",
     "output_type": "stream",
     "text": [
      "Iteration 5 - Epoch 4:\n",
      "  Train Acc = 0.9807, Train Prec = 0.8962, Train Rec = 0.9011, Train F-Beta = 0.8972, Train Loss = 0.0679\n",
      "  Val Acc = 0.9645, Val Prec = 0.8966, Val Rec = 0.6500, Val F-Beta = 0.8333, Val Loss = 0.1315\n",
      "  Better model saved with 0.8333 F-beta score.\n"
     ]
    },
    {
     "name": "stderr",
     "output_type": "stream",
     "text": [
      "Iteration 5 - Epoch 5 - Training: 100%|██████████| 60/60 [00:19<00:00,  3.15it/s]\n",
      "Iteration 5 - Epoch 5 - Validation: 100%|██████████| 15/15 [00:01<00:00,  9.47it/s]\n"
     ]
    },
    {
     "name": "stdout",
     "output_type": "stream",
     "text": [
      "Iteration 5 - Epoch 5:\n",
      "  Train Acc = 0.9890, Train Prec = 0.9448, Train Rec = 0.9396, Train F-Beta = 0.9437, Train Loss = 0.0363\n",
      "  Val Acc = 0.9520, Val Prec = 0.6604, Val Rec = 0.8750, Val F-Beta = 0.6944, Val Loss = 0.1486\n"
     ]
    },
    {
     "name": "stderr",
     "output_type": "stream",
     "text": [
      "Iteration 5 - Epoch 6 - Training: 100%|██████████| 60/60 [00:19<00:00,  3.15it/s]\n",
      "Iteration 5 - Epoch 6 - Validation: 100%|██████████| 15/15 [00:01<00:00,  9.46it/s]\n"
     ]
    },
    {
     "name": "stdout",
     "output_type": "stream",
     "text": [
      "Iteration 5 - Epoch 6:\n",
      "  Train Acc = 0.9932, Train Prec = 0.9617, Train Rec = 0.9670, Train F-Beta = 0.9628, Train Loss = 0.0207\n",
      "  Val Acc = 0.9603, Val Prec = 0.7561, Val Rec = 0.7750, Val F-Beta = 0.7598, Val Loss = 0.1309\n"
     ]
    },
    {
     "name": "stderr",
     "output_type": "stream",
     "text": [
      "Iteration 5 - Epoch 7 - Training: 100%|██████████| 60/60 [00:18<00:00,  3.20it/s]\n",
      "Iteration 5 - Epoch 7 - Validation: 100%|██████████| 15/15 [00:01<00:00,  9.50it/s]\n"
     ]
    },
    {
     "name": "stdout",
     "output_type": "stream",
     "text": [
      "Iteration 5 - Epoch 7:\n",
      "  Train Acc = 0.9963, Train Prec = 0.9781, Train Rec = 0.9835, Train F-Beta = 0.9792, Train Loss = 0.0134\n",
      "  Val Acc = 0.9603, Val Prec = 0.7692, Val Rec = 0.7500, Val F-Beta = 0.7653, Val Loss = 0.1489\n"
     ]
    },
    {
     "name": "stderr",
     "output_type": "stream",
     "text": [
      "Iteration 5 - Epoch 8 - Training: 100%|██████████| 60/60 [00:18<00:00,  3.23it/s]\n",
      "Iteration 5 - Epoch 8 - Validation: 100%|██████████| 15/15 [00:01<00:00,  9.68it/s]\n"
     ]
    },
    {
     "name": "stdout",
     "output_type": "stream",
     "text": [
      "Iteration 5 - Epoch 8:\n",
      "  Train Acc = 0.9984, Train Prec = 0.9891, Train Rec = 0.9945, Train F-Beta = 0.9902, Train Loss = 0.0077\n",
      "  Val Acc = 0.9603, Val Prec = 0.7692, Val Rec = 0.7500, Val F-Beta = 0.7653, Val Loss = 0.1677\n"
     ]
    },
    {
     "name": "stderr",
     "output_type": "stream",
     "text": [
      "Iteration 5 - Epoch 9 - Training: 100%|██████████| 60/60 [00:18<00:00,  3.18it/s]\n",
      "Iteration 5 - Epoch 9 - Validation: 100%|██████████| 15/15 [00:01<00:00,  9.30it/s]\n"
     ]
    },
    {
     "name": "stdout",
     "output_type": "stream",
     "text": [
      "Iteration 5 - Epoch 9:\n",
      "  Train Acc = 0.9995, Train Prec = 0.9945, Train Rec = 1.0000, Train F-Beta = 0.9956, Train Loss = 0.0032\n",
      "  Val Acc = 0.9624, Val Prec = 0.8235, Val Rec = 0.7000, Val F-Beta = 0.7955, Val Loss = 0.1922\n"
     ]
    },
    {
     "name": "stderr",
     "output_type": "stream",
     "text": [
      "Iteration 5 - Epoch 10 - Training: 100%|██████████| 60/60 [00:18<00:00,  3.17it/s]\n",
      "Iteration 5 - Epoch 10 - Validation: 100%|██████████| 15/15 [00:01<00:00,  9.32it/s]\n"
     ]
    },
    {
     "name": "stdout",
     "output_type": "stream",
     "text": [
      "Iteration 5 - Epoch 10:\n",
      "  Train Acc = 0.9974, Train Prec = 0.9836, Train Rec = 0.9890, Train F-Beta = 0.9847, Train Loss = 0.0092\n",
      "  Val Acc = 0.9562, Val Prec = 0.8065, Val Rec = 0.6250, Val F-Beta = 0.7622, Val Loss = 0.1347\n"
     ]
    },
    {
     "name": "stderr",
     "output_type": "stream",
     "text": [
      "Iteration 5 - Epoch 11 - Training: 100%|██████████| 60/60 [00:18<00:00,  3.18it/s]\n",
      "Iteration 5 - Epoch 11 - Validation: 100%|██████████| 15/15 [00:01<00:00,  9.94it/s]\n"
     ]
    },
    {
     "name": "stdout",
     "output_type": "stream",
     "text": [
      "Iteration 5 - Epoch 11:\n",
      "  Train Acc = 0.9979, Train Prec = 0.9890, Train Rec = 0.9890, Train F-Beta = 0.9890, Train Loss = 0.0090\n",
      "  Val Acc = 0.9436, Val Prec = 0.6182, Val Rec = 0.8500, Val F-Beta = 0.6538, Val Loss = 0.2501\n"
     ]
    },
    {
     "name": "stderr",
     "output_type": "stream",
     "text": [
      "Iteration 5 - Epoch 12 - Training: 100%|██████████| 60/60 [00:18<00:00,  3.28it/s]\n",
      "Iteration 5 - Epoch 12 - Validation: 100%|██████████| 15/15 [00:01<00:00,  9.83it/s]\n"
     ]
    },
    {
     "name": "stdout",
     "output_type": "stream",
     "text": [
      "Iteration 5 - Epoch 12:\n",
      "  Train Acc = 0.9984, Train Prec = 0.9891, Train Rec = 0.9945, Train F-Beta = 0.9902, Train Loss = 0.0071\n",
      "  Val Acc = 0.9603, Val Prec = 0.7234, Val Rec = 0.8500, Val F-Beta = 0.7456, Val Loss = 0.1814\n"
     ]
    },
    {
     "name": "stderr",
     "output_type": "stream",
     "text": [
      "Iteration 5 - Epoch 13 - Training: 100%|██████████| 60/60 [00:18<00:00,  3.29it/s]\n",
      "Iteration 5 - Epoch 13 - Validation: 100%|██████████| 15/15 [00:01<00:00,  9.96it/s]\n"
     ]
    },
    {
     "name": "stdout",
     "output_type": "stream",
     "text": [
      "Iteration 5 - Epoch 13:\n",
      "  Train Acc = 0.9974, Train Prec = 0.9836, Train Rec = 0.9890, Train F-Beta = 0.9847, Train Loss = 0.0069\n",
      "  Val Acc = 0.9687, Val Prec = 0.8378, Val Rec = 0.7750, Val F-Beta = 0.8245, Val Loss = 0.1810\n"
     ]
    },
    {
     "name": "stderr",
     "output_type": "stream",
     "text": [
      "Iteration 5 - Epoch 14 - Training: 100%|██████████| 60/60 [00:18<00:00,  3.30it/s]\n",
      "Iteration 5 - Epoch 14 - Validation: 100%|██████████| 15/15 [00:01<00:00,  9.91it/s]\n"
     ]
    },
    {
     "name": "stdout",
     "output_type": "stream",
     "text": [
      "Iteration 5 - Epoch 14:\n",
      "  Train Acc = 0.9990, Train Prec = 0.9891, Train Rec = 1.0000, Train F-Beta = 0.9913, Train Loss = 0.0021\n",
      "  Val Acc = 0.9729, Val Prec = 0.8462, Val Rec = 0.8250, Val F-Beta = 0.8418, Val Loss = 0.1828\n",
      "  Better model saved with 0.8418 F-beta score.\n"
     ]
    },
    {
     "name": "stderr",
     "output_type": "stream",
     "text": [
      "Iteration 5 - Epoch 15 - Training: 100%|██████████| 60/60 [00:18<00:00,  3.24it/s]\n",
      "Iteration 5 - Epoch 15 - Validation: 100%|██████████| 15/15 [00:01<00:00,  9.60it/s]\n"
     ]
    },
    {
     "name": "stdout",
     "output_type": "stream",
     "text": [
      "Iteration 5 - Epoch 15:\n",
      "  Train Acc = 0.9990, Train Prec = 1.0000, Train Rec = 0.9890, Train F-Beta = 0.9978, Train Loss = 0.0032\n",
      "  Val Acc = 0.9666, Val Prec = 0.8333, Val Rec = 0.7500, Val F-Beta = 0.8152, Val Loss = 0.2156\n"
     ]
    },
    {
     "name": "stderr",
     "output_type": "stream",
     "text": [
      "Iteration 5 - Epoch 16 - Training: 100%|██████████| 60/60 [00:18<00:00,  3.18it/s]\n",
      "Iteration 5 - Epoch 16 - Validation: 100%|██████████| 15/15 [00:01<00:00,  9.78it/s]\n"
     ]
    },
    {
     "name": "stdout",
     "output_type": "stream",
     "text": [
      "Iteration 5 - Epoch 16:\n",
      "  Train Acc = 1.0000, Train Prec = 1.0000, Train Rec = 1.0000, Train F-Beta = 1.0000, Train Loss = 0.0006\n",
      "  Val Acc = 0.9666, Val Prec = 0.8000, Val Rec = 0.8000, Val F-Beta = 0.8000, Val Loss = 0.2145\n"
     ]
    },
    {
     "name": "stderr",
     "output_type": "stream",
     "text": [
      "Iteration 5 - Epoch 17 - Training: 100%|██████████| 60/60 [00:18<00:00,  3.23it/s]\n",
      "Iteration 5 - Epoch 17 - Validation: 100%|██████████| 15/15 [00:01<00:00,  9.63it/s]\n"
     ]
    },
    {
     "name": "stdout",
     "output_type": "stream",
     "text": [
      "Iteration 5 - Epoch 17:\n",
      "  Train Acc = 0.9979, Train Prec = 0.9944, Train Rec = 0.9835, Train F-Beta = 0.9922, Train Loss = 0.0045\n",
      "  Val Acc = 0.9666, Val Prec = 0.8000, Val Rec = 0.8000, Val F-Beta = 0.8000, Val Loss = 0.1742\n"
     ]
    },
    {
     "name": "stderr",
     "output_type": "stream",
     "text": [
      "Iteration 5 - Epoch 18 - Training: 100%|██████████| 60/60 [00:18<00:00,  3.17it/s]\n",
      "Iteration 5 - Epoch 18 - Validation: 100%|██████████| 15/15 [00:01<00:00,  9.58it/s]\n"
     ]
    },
    {
     "name": "stdout",
     "output_type": "stream",
     "text": [
      "Iteration 5 - Epoch 18:\n",
      "  Train Acc = 0.9990, Train Prec = 0.9945, Train Rec = 0.9945, Train F-Beta = 0.9945, Train Loss = 0.0053\n",
      "  Val Acc = 0.9624, Val Prec = 0.7619, Val Rec = 0.8000, Val F-Beta = 0.7692, Val Loss = 0.1779\n"
     ]
    },
    {
     "name": "stderr",
     "output_type": "stream",
     "text": [
      "Iteration 5 - Epoch 19 - Training: 100%|██████████| 60/60 [00:18<00:00,  3.27it/s]\n",
      "Iteration 5 - Epoch 19 - Validation: 100%|██████████| 15/15 [00:01<00:00,  9.89it/s]\n"
     ]
    },
    {
     "name": "stdout",
     "output_type": "stream",
     "text": [
      "Iteration 5 - Epoch 19:\n",
      "  Train Acc = 1.0000, Train Prec = 1.0000, Train Rec = 1.0000, Train F-Beta = 1.0000, Train Loss = 0.0005\n",
      "  Val Acc = 0.9624, Val Prec = 0.7619, Val Rec = 0.8000, Val F-Beta = 0.7692, Val Loss = 0.2084\n"
     ]
    },
    {
     "name": "stderr",
     "output_type": "stream",
     "text": [
      "Iteration 5 - Epoch 20 - Training: 100%|██████████| 60/60 [00:19<00:00,  3.14it/s]\n",
      "Iteration 5 - Epoch 20 - Validation: 100%|██████████| 15/15 [00:01<00:00,  9.37it/s]\n"
     ]
    },
    {
     "name": "stdout",
     "output_type": "stream",
     "text": [
      "Iteration 5 - Epoch 20:\n",
      "  Train Acc = 1.0000, Train Prec = 1.0000, Train Rec = 1.0000, Train F-Beta = 1.0000, Train Loss = 0.0003\n",
      "  Val Acc = 0.9624, Val Prec = 0.7619, Val Rec = 0.8000, Val F-Beta = 0.7692, Val Loss = 0.2252\n"
     ]
    },
    {
     "name": "stderr",
     "output_type": "stream",
     "text": [
      "Iteration 5 - Epoch 21 - Training: 100%|██████████| 60/60 [00:19<00:00,  3.14it/s]\n",
      "Iteration 5 - Epoch 21 - Validation: 100%|██████████| 15/15 [00:01<00:00,  9.40it/s]\n"
     ]
    },
    {
     "name": "stdout",
     "output_type": "stream",
     "text": [
      "Iteration 5 - Epoch 21:\n",
      "  Train Acc = 1.0000, Train Prec = 1.0000, Train Rec = 1.0000, Train F-Beta = 1.0000, Train Loss = 0.0003\n",
      "  Val Acc = 0.9624, Val Prec = 0.7619, Val Rec = 0.8000, Val F-Beta = 0.7692, Val Loss = 0.2406\n"
     ]
    },
    {
     "name": "stderr",
     "output_type": "stream",
     "text": [
      "Iteration 5 - Epoch 22 - Training: 100%|██████████| 60/60 [00:19<00:00,  3.13it/s]\n",
      "Iteration 5 - Epoch 22 - Validation: 100%|██████████| 15/15 [00:01<00:00,  9.24it/s]\n"
     ]
    },
    {
     "name": "stdout",
     "output_type": "stream",
     "text": [
      "Iteration 5 - Epoch 22:\n",
      "  Train Acc = 1.0000, Train Prec = 1.0000, Train Rec = 1.0000, Train F-Beta = 1.0000, Train Loss = 0.0002\n",
      "  Val Acc = 0.9624, Val Prec = 0.7619, Val Rec = 0.8000, Val F-Beta = 0.7692, Val Loss = 0.2443\n"
     ]
    },
    {
     "name": "stderr",
     "output_type": "stream",
     "text": [
      "Iteration 5 - Epoch 23 - Training: 100%|██████████| 60/60 [00:19<00:00,  3.13it/s]\n",
      "Iteration 5 - Epoch 23 - Validation: 100%|██████████| 15/15 [00:01<00:00,  9.31it/s]\n"
     ]
    },
    {
     "name": "stdout",
     "output_type": "stream",
     "text": [
      "Iteration 5 - Epoch 23:\n",
      "  Train Acc = 1.0000, Train Prec = 1.0000, Train Rec = 1.0000, Train F-Beta = 1.0000, Train Loss = 0.0002\n",
      "  Val Acc = 0.9624, Val Prec = 0.7619, Val Rec = 0.8000, Val F-Beta = 0.7692, Val Loss = 0.2476\n"
     ]
    },
    {
     "name": "stderr",
     "output_type": "stream",
     "text": [
      "Iteration 5 - Epoch 24 - Training: 100%|██████████| 60/60 [00:19<00:00,  3.13it/s]\n",
      "Iteration 5 - Epoch 24 - Validation: 100%|██████████| 15/15 [00:01<00:00,  9.56it/s]\n"
     ]
    },
    {
     "name": "stdout",
     "output_type": "stream",
     "text": [
      "Iteration 5 - Epoch 24:\n",
      "  Train Acc = 1.0000, Train Prec = 1.0000, Train Rec = 1.0000, Train F-Beta = 1.0000, Train Loss = 0.0002\n",
      "  Val Acc = 0.9624, Val Prec = 0.7619, Val Rec = 0.8000, Val F-Beta = 0.7692, Val Loss = 0.2508\n"
     ]
    },
    {
     "name": "stderr",
     "output_type": "stream",
     "text": [
      "Iteration 5 - Epoch 25 - Training: 100%|██████████| 60/60 [00:18<00:00,  3.21it/s]\n",
      "Iteration 5 - Epoch 25 - Validation: 100%|██████████| 15/15 [00:01<00:00,  9.66it/s]\n"
     ]
    },
    {
     "name": "stdout",
     "output_type": "stream",
     "text": [
      "Iteration 5 - Epoch 25:\n",
      "  Train Acc = 1.0000, Train Prec = 1.0000, Train Rec = 1.0000, Train F-Beta = 1.0000, Train Loss = 0.0002\n",
      "  Val Acc = 0.9624, Val Prec = 0.7619, Val Rec = 0.8000, Val F-Beta = 0.7692, Val Loss = 0.2545\n"
     ]
    },
    {
     "name": "stderr",
     "output_type": "stream",
     "text": [
      "Iteration 5 - Epoch 26 - Training: 100%|██████████| 60/60 [00:18<00:00,  3.20it/s]\n",
      "Iteration 5 - Epoch 26 - Validation: 100%|██████████| 15/15 [00:01<00:00,  9.64it/s]\n"
     ]
    },
    {
     "name": "stdout",
     "output_type": "stream",
     "text": [
      "Iteration 5 - Epoch 26:\n",
      "  Train Acc = 0.9942, Train Prec = 0.9672, Train Rec = 0.9725, Train F-Beta = 0.9683, Train Loss = 0.0186\n",
      "  Val Acc = 0.9687, Val Prec = 0.8571, Val Rec = 0.7500, Val F-Beta = 0.8333, Val Loss = 0.1402\n"
     ]
    },
    {
     "name": "stderr",
     "output_type": "stream",
     "text": [
      "Iteration 5 - Epoch 27 - Training: 100%|██████████| 60/60 [00:18<00:00,  3.21it/s]\n",
      "Iteration 5 - Epoch 27 - Validation: 100%|██████████| 15/15 [00:01<00:00,  9.66it/s]\n"
     ]
    },
    {
     "name": "stdout",
     "output_type": "stream",
     "text": [
      "Iteration 5 - Epoch 27:\n",
      "  Train Acc = 0.9984, Train Prec = 0.9945, Train Rec = 0.9890, Train F-Beta = 0.9934, Train Loss = 0.0045\n",
      "  Val Acc = 0.9708, Val Prec = 0.8421, Val Rec = 0.8000, Val F-Beta = 0.8333, Val Loss = 0.2024\n"
     ]
    },
    {
     "name": "stderr",
     "output_type": "stream",
     "text": [
      "Iteration 5 - Epoch 28 - Training: 100%|██████████| 60/60 [00:18<00:00,  3.21it/s]\n",
      "Iteration 5 - Epoch 28 - Validation: 100%|██████████| 15/15 [00:01<00:00,  9.67it/s]\n"
     ]
    },
    {
     "name": "stdout",
     "output_type": "stream",
     "text": [
      "Iteration 5 - Epoch 28:\n",
      "  Train Acc = 0.9995, Train Prec = 0.9945, Train Rec = 1.0000, Train F-Beta = 0.9956, Train Loss = 0.0009\n",
      "  Val Acc = 0.9645, Val Prec = 0.7805, Val Rec = 0.8000, Val F-Beta = 0.7843, Val Loss = 0.1816\n"
     ]
    },
    {
     "name": "stderr",
     "output_type": "stream",
     "text": [
      "Iteration 5 - Epoch 29 - Training: 100%|██████████| 60/60 [00:18<00:00,  3.21it/s]\n",
      "Iteration 5 - Epoch 29 - Validation: 100%|██████████| 15/15 [00:01<00:00,  9.69it/s]\n"
     ]
    },
    {
     "name": "stdout",
     "output_type": "stream",
     "text": [
      "Iteration 5 - Epoch 29:\n",
      "  Train Acc = 1.0000, Train Prec = 1.0000, Train Rec = 1.0000, Train F-Beta = 1.0000, Train Loss = 0.0003\n",
      "  Val Acc = 0.9666, Val Prec = 0.8000, Val Rec = 0.8000, Val F-Beta = 0.8000, Val Loss = 0.2023\n"
     ]
    },
    {
     "name": "stderr",
     "output_type": "stream",
     "text": [
      "Iteration 5 - Epoch 30 - Training: 100%|██████████| 60/60 [00:18<00:00,  3.20it/s]\n",
      "Iteration 5 - Epoch 30 - Validation: 100%|██████████| 15/15 [00:01<00:00,  9.65it/s]\n"
     ]
    },
    {
     "name": "stdout",
     "output_type": "stream",
     "text": [
      "Iteration 5 - Epoch 30:\n",
      "  Train Acc = 1.0000, Train Prec = 1.0000, Train Rec = 1.0000, Train F-Beta = 1.0000, Train Loss = 0.0004\n",
      "  Val Acc = 0.9708, Val Prec = 0.7955, Val Rec = 0.8750, Val F-Beta = 0.8102, Val Loss = 0.2001\n"
     ]
    },
    {
     "name": "stderr",
     "output_type": "stream",
     "text": [
      "Iteration 5 - Epoch 31 - Training: 100%|██████████| 60/60 [00:18<00:00,  3.21it/s]\n",
      "Iteration 5 - Epoch 31 - Validation: 100%|██████████| 15/15 [00:01<00:00,  9.70it/s]\n"
     ]
    },
    {
     "name": "stdout",
     "output_type": "stream",
     "text": [
      "Iteration 5 - Epoch 31:\n",
      "  Train Acc = 1.0000, Train Prec = 1.0000, Train Rec = 1.0000, Train F-Beta = 1.0000, Train Loss = 0.0002\n",
      "  Val Acc = 0.9687, Val Prec = 0.7907, Val Rec = 0.8500, Val F-Beta = 0.8019, Val Loss = 0.2104\n"
     ]
    },
    {
     "name": "stderr",
     "output_type": "stream",
     "text": [
      "Iteration 5 - Epoch 32 - Training: 100%|██████████| 60/60 [00:18<00:00,  3.22it/s]\n",
      "Iteration 5 - Epoch 32 - Validation: 100%|██████████| 15/15 [00:01<00:00,  9.67it/s]\n"
     ]
    },
    {
     "name": "stdout",
     "output_type": "stream",
     "text": [
      "Iteration 5 - Epoch 32:\n",
      "  Train Acc = 1.0000, Train Prec = 1.0000, Train Rec = 1.0000, Train F-Beta = 1.0000, Train Loss = 0.0002\n",
      "  Val Acc = 0.9666, Val Prec = 0.7857, Val Rec = 0.8250, Val F-Beta = 0.7933, Val Loss = 0.2186\n"
     ]
    },
    {
     "name": "stderr",
     "output_type": "stream",
     "text": [
      "Iteration 5 - Epoch 33 - Training: 100%|██████████| 60/60 [00:18<00:00,  3.21it/s]\n",
      "Iteration 5 - Epoch 33 - Validation: 100%|██████████| 15/15 [00:01<00:00,  9.67it/s]\n"
     ]
    },
    {
     "name": "stdout",
     "output_type": "stream",
     "text": [
      "Iteration 5 - Epoch 33:\n",
      "  Train Acc = 1.0000, Train Prec = 1.0000, Train Rec = 1.0000, Train F-Beta = 1.0000, Train Loss = 0.0001\n",
      "  Val Acc = 0.9687, Val Prec = 0.7907, Val Rec = 0.8500, Val F-Beta = 0.8019, Val Loss = 0.2158\n"
     ]
    },
    {
     "name": "stderr",
     "output_type": "stream",
     "text": [
      "Iteration 5 - Epoch 34 - Training: 100%|██████████| 60/60 [00:18<00:00,  3.21it/s]\n",
      "Iteration 5 - Epoch 34 - Validation: 100%|██████████| 15/15 [00:01<00:00,  9.66it/s]\n"
     ]
    },
    {
     "name": "stdout",
     "output_type": "stream",
     "text": [
      "Iteration 5 - Epoch 34:\n",
      "  Train Acc = 1.0000, Train Prec = 1.0000, Train Rec = 1.0000, Train F-Beta = 1.0000, Train Loss = 0.0001\n",
      "  Val Acc = 0.9687, Val Prec = 0.7907, Val Rec = 0.8500, Val F-Beta = 0.8019, Val Loss = 0.2181\n"
     ]
    },
    {
     "name": "stderr",
     "output_type": "stream",
     "text": [
      "Iteration 5 - Epoch 35 - Training: 100%|██████████| 60/60 [00:18<00:00,  3.21it/s]\n",
      "Iteration 5 - Epoch 35 - Validation: 100%|██████████| 15/15 [00:01<00:00,  9.68it/s]\n"
     ]
    },
    {
     "name": "stdout",
     "output_type": "stream",
     "text": [
      "Iteration 5 - Epoch 35:\n",
      "  Train Acc = 1.0000, Train Prec = 1.0000, Train Rec = 1.0000, Train F-Beta = 1.0000, Train Loss = 0.0001\n",
      "  Val Acc = 0.9687, Val Prec = 0.7907, Val Rec = 0.8500, Val F-Beta = 0.8019, Val Loss = 0.2201\n"
     ]
    },
    {
     "name": "stderr",
     "output_type": "stream",
     "text": [
      "Iteration 5 - Epoch 36 - Training: 100%|██████████| 60/60 [00:18<00:00,  3.21it/s]\n",
      "Iteration 5 - Epoch 36 - Validation: 100%|██████████| 15/15 [00:01<00:00,  9.68it/s]\n"
     ]
    },
    {
     "name": "stdout",
     "output_type": "stream",
     "text": [
      "Iteration 5 - Epoch 36:\n",
      "  Train Acc = 1.0000, Train Prec = 1.0000, Train Rec = 1.0000, Train F-Beta = 1.0000, Train Loss = 0.0001\n",
      "  Val Acc = 0.9687, Val Prec = 0.7907, Val Rec = 0.8500, Val F-Beta = 0.8019, Val Loss = 0.2223\n"
     ]
    },
    {
     "name": "stderr",
     "output_type": "stream",
     "text": [
      "Iteration 5 - Epoch 37 - Training: 100%|██████████| 60/60 [00:18<00:00,  3.22it/s]\n",
      "Iteration 5 - Epoch 37 - Validation: 100%|██████████| 15/15 [00:01<00:00,  9.68it/s]\n"
     ]
    },
    {
     "name": "stdout",
     "output_type": "stream",
     "text": [
      "Iteration 5 - Epoch 37:\n",
      "  Train Acc = 1.0000, Train Prec = 1.0000, Train Rec = 1.0000, Train F-Beta = 1.0000, Train Loss = 0.0001\n",
      "  Val Acc = 0.9687, Val Prec = 0.7907, Val Rec = 0.8500, Val F-Beta = 0.8019, Val Loss = 0.2244\n"
     ]
    },
    {
     "name": "stderr",
     "output_type": "stream",
     "text": [
      "Iteration 5 - Epoch 38 - Training: 100%|██████████| 60/60 [00:18<00:00,  3.22it/s]\n",
      "Iteration 5 - Epoch 38 - Validation: 100%|██████████| 15/15 [00:01<00:00,  9.70it/s]\n"
     ]
    },
    {
     "name": "stdout",
     "output_type": "stream",
     "text": [
      "Iteration 5 - Epoch 38:\n",
      "  Train Acc = 1.0000, Train Prec = 1.0000, Train Rec = 1.0000, Train F-Beta = 1.0000, Train Loss = 0.0001\n",
      "  Val Acc = 0.9687, Val Prec = 0.7907, Val Rec = 0.8500, Val F-Beta = 0.8019, Val Loss = 0.2266\n"
     ]
    },
    {
     "name": "stderr",
     "output_type": "stream",
     "text": [
      "Iteration 5 - Epoch 39 - Training: 100%|██████████| 60/60 [00:18<00:00,  3.22it/s]\n",
      "Iteration 5 - Epoch 39 - Validation: 100%|██████████| 15/15 [00:01<00:00,  9.69it/s]\n"
     ]
    },
    {
     "name": "stdout",
     "output_type": "stream",
     "text": [
      "Iteration 5 - Epoch 39:\n",
      "  Train Acc = 1.0000, Train Prec = 1.0000, Train Rec = 1.0000, Train F-Beta = 1.0000, Train Loss = 0.0001\n",
      "  Val Acc = 0.9687, Val Prec = 0.7907, Val Rec = 0.8500, Val F-Beta = 0.8019, Val Loss = 0.2283\n"
     ]
    },
    {
     "name": "stderr",
     "output_type": "stream",
     "text": [
      "Iteration 5 - Epoch 40 - Training: 100%|██████████| 60/60 [00:18<00:00,  3.22it/s]\n",
      "Iteration 5 - Epoch 40 - Validation: 100%|██████████| 15/15 [00:01<00:00,  9.67it/s]\n"
     ]
    },
    {
     "name": "stdout",
     "output_type": "stream",
     "text": [
      "Iteration 5 - Epoch 40:\n",
      "  Train Acc = 1.0000, Train Prec = 1.0000, Train Rec = 1.0000, Train F-Beta = 1.0000, Train Loss = 0.0001\n",
      "  Val Acc = 0.9687, Val Prec = 0.7907, Val Rec = 0.8500, Val F-Beta = 0.8019, Val Loss = 0.2300\n"
     ]
    },
    {
     "name": "stderr",
     "output_type": "stream",
     "text": [
      "Iteration 5 - Epoch 41 - Training: 100%|██████████| 60/60 [00:18<00:00,  3.22it/s]\n",
      "Iteration 5 - Epoch 41 - Validation: 100%|██████████| 15/15 [00:01<00:00,  9.69it/s]\n"
     ]
    },
    {
     "name": "stdout",
     "output_type": "stream",
     "text": [
      "Iteration 5 - Epoch 41:\n",
      "  Train Acc = 0.9963, Train Prec = 0.9834, Train Rec = 0.9780, Train F-Beta = 0.9823, Train Loss = 0.0122\n",
      "  Val Acc = 0.9666, Val Prec = 0.8158, Val Rec = 0.7750, Val F-Beta = 0.8073, Val Loss = 0.1829\n"
     ]
    },
    {
     "name": "stderr",
     "output_type": "stream",
     "text": [
      "Iteration 5 - Epoch 42 - Training: 100%|██████████| 60/60 [00:18<00:00,  3.22it/s]\n",
      "Iteration 5 - Epoch 42 - Validation: 100%|██████████| 15/15 [00:01<00:00,  9.70it/s]\n"
     ]
    },
    {
     "name": "stdout",
     "output_type": "stream",
     "text": [
      "Iteration 5 - Epoch 42:\n",
      "  Train Acc = 0.9953, Train Prec = 0.9832, Train Rec = 0.9670, Train F-Beta = 0.9800, Train Loss = 0.0125\n",
      "  Val Acc = 0.9666, Val Prec = 0.7857, Val Rec = 0.8250, Val F-Beta = 0.7933, Val Loss = 0.1897\n"
     ]
    },
    {
     "name": "stderr",
     "output_type": "stream",
     "text": [
      "Iteration 5 - Epoch 43 - Training: 100%|██████████| 60/60 [00:18<00:00,  3.22it/s]\n",
      "Iteration 5 - Epoch 43 - Validation: 100%|██████████| 15/15 [00:01<00:00,  9.70it/s]\n"
     ]
    },
    {
     "name": "stdout",
     "output_type": "stream",
     "text": [
      "Iteration 5 - Epoch 43:\n",
      "  Train Acc = 0.9948, Train Prec = 0.9778, Train Rec = 0.9670, Train F-Beta = 0.9756, Train Loss = 0.0269\n",
      "  Val Acc = 0.9624, Val Prec = 0.7292, Val Rec = 0.8750, Val F-Beta = 0.7543, Val Loss = 0.1855\n"
     ]
    },
    {
     "name": "stderr",
     "output_type": "stream",
     "text": [
      "Iteration 5 - Epoch 44 - Training: 100%|██████████| 60/60 [00:18<00:00,  3.24it/s]\n",
      "Iteration 5 - Epoch 44 - Validation: 100%|██████████| 15/15 [00:01<00:00, 10.04it/s]\n"
     ]
    },
    {
     "name": "stdout",
     "output_type": "stream",
     "text": [
      "Iteration 5 - Epoch 44:\n",
      "  Train Acc = 0.9990, Train Prec = 0.9891, Train Rec = 1.0000, Train F-Beta = 0.9913, Train Loss = 0.0022\n",
      "  Val Acc = 0.9603, Val Prec = 0.8621, Val Rec = 0.6250, Val F-Beta = 0.8013, Val Loss = 0.2573\n"
     ]
    },
    {
     "name": "stderr",
     "output_type": "stream",
     "text": [
      "Iteration 5 - Epoch 45 - Training: 100%|██████████| 60/60 [00:18<00:00,  3.31it/s]\n",
      "Iteration 5 - Epoch 45 - Validation: 100%|██████████| 15/15 [00:01<00:00,  9.95it/s]\n"
     ]
    },
    {
     "name": "stdout",
     "output_type": "stream",
     "text": [
      "Iteration 5 - Epoch 45:\n",
      "  Train Acc = 0.9963, Train Prec = 0.9781, Train Rec = 0.9835, Train F-Beta = 0.9792, Train Loss = 0.0141\n",
      "  Val Acc = 0.9624, Val Prec = 0.8235, Val Rec = 0.7000, Val F-Beta = 0.7955, Val Loss = 0.1947\n"
     ]
    },
    {
     "name": "stderr",
     "output_type": "stream",
     "text": [
      "Iteration 5 - Epoch 46 - Training: 100%|██████████| 60/60 [00:18<00:00,  3.24it/s]\n",
      "Iteration 5 - Epoch 46 - Validation: 100%|██████████| 15/15 [00:01<00:00,  9.51it/s]\n"
     ]
    },
    {
     "name": "stdout",
     "output_type": "stream",
     "text": [
      "Iteration 5 - Epoch 46:\n",
      "  Train Acc = 1.0000, Train Prec = 1.0000, Train Rec = 1.0000, Train F-Beta = 1.0000, Train Loss = 0.0010\n",
      "  Val Acc = 0.9666, Val Prec = 0.8529, Val Rec = 0.7250, Val F-Beta = 0.8239, Val Loss = 0.2345\n"
     ]
    },
    {
     "name": "stderr",
     "output_type": "stream",
     "text": [
      "Iteration 5 - Epoch 47 - Training: 100%|██████████| 60/60 [00:18<00:00,  3.28it/s]\n",
      "Iteration 5 - Epoch 47 - Validation: 100%|██████████| 15/15 [00:01<00:00,  9.93it/s]\n"
     ]
    },
    {
     "name": "stdout",
     "output_type": "stream",
     "text": [
      "Iteration 5 - Epoch 47:\n",
      "  Train Acc = 1.0000, Train Prec = 1.0000, Train Rec = 1.0000, Train F-Beta = 1.0000, Train Loss = 0.0005\n",
      "  Val Acc = 0.9562, Val Prec = 0.7209, Val Rec = 0.7750, Val F-Beta = 0.7311, Val Loss = 0.2216\n"
     ]
    },
    {
     "name": "stderr",
     "output_type": "stream",
     "text": [
      "Iteration 5 - Epoch 48 - Training: 100%|██████████| 60/60 [00:18<00:00,  3.26it/s]\n",
      "Iteration 5 - Epoch 48 - Validation: 100%|██████████| 15/15 [00:01<00:00,  9.80it/s]\n"
     ]
    },
    {
     "name": "stdout",
     "output_type": "stream",
     "text": [
      "Iteration 5 - Epoch 48:\n",
      "  Train Acc = 1.0000, Train Prec = 1.0000, Train Rec = 1.0000, Train F-Beta = 1.0000, Train Loss = 0.0002\n",
      "  Val Acc = 0.9624, Val Prec = 0.7391, Val Rec = 0.8500, Val F-Beta = 0.7589, Val Loss = 0.2322\n"
     ]
    },
    {
     "name": "stderr",
     "output_type": "stream",
     "text": [
      "Iteration 5 - Epoch 49 - Training: 100%|██████████| 60/60 [00:18<00:00,  3.26it/s]\n",
      "Iteration 5 - Epoch 49 - Validation: 100%|██████████| 15/15 [00:01<00:00,  9.76it/s]\n"
     ]
    },
    {
     "name": "stdout",
     "output_type": "stream",
     "text": [
      "Iteration 5 - Epoch 49:\n",
      "  Train Acc = 1.0000, Train Prec = 1.0000, Train Rec = 1.0000, Train F-Beta = 1.0000, Train Loss = 0.0005\n",
      "  Val Acc = 0.9645, Val Prec = 0.7949, Val Rec = 0.7750, Val F-Beta = 0.7908, Val Loss = 0.2296\n"
     ]
    },
    {
     "name": "stderr",
     "output_type": "stream",
     "text": [
      "Iteration 5 - Epoch 50 - Training: 100%|██████████| 60/60 [00:18<00:00,  3.27it/s]\n",
      "Iteration 5 - Epoch 50 - Validation: 100%|██████████| 15/15 [00:01<00:00,  9.91it/s]\n"
     ]
    },
    {
     "name": "stdout",
     "output_type": "stream",
     "text": [
      "Iteration 5 - Epoch 50:\n",
      "  Train Acc = 0.9995, Train Prec = 1.0000, Train Rec = 0.9945, Train F-Beta = 0.9989, Train Loss = 0.0014\n",
      "  Val Acc = 0.9582, Val Prec = 0.7000, Val Rec = 0.8750, Val F-Beta = 0.7292, Val Loss = 0.3148\n",
      "Iteration 6/10\n"
     ]
    },
    {
     "name": "stderr",
     "output_type": "stream",
     "text": [
      "Some weights of ElectraForSequenceClassification were not initialized from the model checkpoint at beomi/KcELECTRA-base-v2022 and are newly initialized: ['classifier.dense.bias', 'classifier.dense.weight', 'classifier.out_proj.bias', 'classifier.out_proj.weight']\n",
      "You should probably TRAIN this model on a down-stream task to be able to use it for predictions and inference.\n",
      "Iteration 6 - Epoch 1 - Training: 100%|██████████| 60/60 [00:18<00:00,  3.24it/s]\n",
      "Iteration 6 - Epoch 1 - Validation: 100%|██████████| 15/15 [00:01<00:00,  9.71it/s]\n",
      "/home/retn0/repositories/nbsp1221/communav/.venv/lib/python3.10/site-packages/sklearn/metrics/_classification.py:1509: UndefinedMetricWarning: Precision is ill-defined and being set to 0.0 due to no predicted samples. Use `zero_division` parameter to control this behavior.\n",
      "  _warn_prf(average, modifier, f\"{metric.capitalize()} is\", len(result))\n"
     ]
    },
    {
     "name": "stdout",
     "output_type": "stream",
     "text": [
      "Iteration 6 - Epoch 1:\n",
      "  Train Acc = 0.9012, Train Prec = 0.1111, Train Rec = 0.0055, Train F-Beta = 0.0229, Train Loss = 0.3505\n",
      "  Val Acc = 0.9165, Val Prec = 0.0000, Val Rec = 0.0000, Val F-Beta = 0.0000, Val Loss = 0.2450\n"
     ]
    },
    {
     "name": "stderr",
     "output_type": "stream",
     "text": [
      "Iteration 6 - Epoch 2 - Training: 100%|██████████| 60/60 [00:18<00:00,  3.23it/s]\n",
      "Iteration 6 - Epoch 2 - Validation: 100%|██████████| 15/15 [00:01<00:00,  9.72it/s]\n"
     ]
    },
    {
     "name": "stdout",
     "output_type": "stream",
     "text": [
      "Iteration 6 - Epoch 2:\n",
      "  Train Acc = 0.9232, Train Prec = 0.7215, Train Rec = 0.3132, Train F-Beta = 0.5723, Train Loss = 0.1862\n",
      "  Val Acc = 0.9624, Val Prec = 0.8438, Val Rec = 0.6750, Val F-Beta = 0.8036, Val Loss = 0.1279\n",
      "  Better model saved with 0.8036 F-beta score.\n"
     ]
    },
    {
     "name": "stderr",
     "output_type": "stream",
     "text": [
      "Iteration 6 - Epoch 3 - Training: 100%|██████████| 60/60 [00:18<00:00,  3.20it/s]\n",
      "Iteration 6 - Epoch 3 - Validation: 100%|██████████| 15/15 [00:01<00:00,  9.65it/s]\n"
     ]
    },
    {
     "name": "stdout",
     "output_type": "stream",
     "text": [
      "Iteration 6 - Epoch 3:\n",
      "  Train Acc = 0.9671, Train Prec = 0.8051, Train Rec = 0.8626, Train F-Beta = 0.8160, Train Loss = 0.1015\n",
      "  Val Acc = 0.9582, Val Prec = 0.8125, Val Rec = 0.6500, Val F-Beta = 0.7738, Val Loss = 0.1669\n"
     ]
    },
    {
     "name": "stderr",
     "output_type": "stream",
     "text": [
      "Iteration 6 - Epoch 4 - Training: 100%|██████████| 60/60 [00:18<00:00,  3.25it/s]\n",
      "Iteration 6 - Epoch 4 - Validation: 100%|██████████| 15/15 [00:01<00:00,  9.78it/s]\n"
     ]
    },
    {
     "name": "stdout",
     "output_type": "stream",
     "text": [
      "Iteration 6 - Epoch 4:\n",
      "  Train Acc = 0.9796, Train Prec = 0.8743, Train Rec = 0.9176, Train F-Beta = 0.8827, Train Loss = 0.0625\n",
      "  Val Acc = 0.9624, Val Prec = 0.8235, Val Rec = 0.7000, Val F-Beta = 0.7955, Val Loss = 0.1372\n"
     ]
    },
    {
     "name": "stderr",
     "output_type": "stream",
     "text": [
      "Iteration 6 - Epoch 5 - Training: 100%|██████████| 60/60 [00:18<00:00,  3.24it/s]\n",
      "Iteration 6 - Epoch 5 - Validation: 100%|██████████| 15/15 [00:01<00:00,  9.82it/s]\n"
     ]
    },
    {
     "name": "stdout",
     "output_type": "stream",
     "text": [
      "Iteration 6 - Epoch 5:\n",
      "  Train Acc = 0.9906, Train Prec = 0.9505, Train Rec = 0.9505, Train F-Beta = 0.9505, Train Loss = 0.0352\n",
      "  Val Acc = 0.9582, Val Prec = 0.8125, Val Rec = 0.6500, Val F-Beta = 0.7738, Val Loss = 0.1486\n"
     ]
    },
    {
     "name": "stderr",
     "output_type": "stream",
     "text": [
      "Iteration 6 - Epoch 6 - Training: 100%|██████████| 60/60 [00:18<00:00,  3.26it/s]\n",
      "Iteration 6 - Epoch 6 - Validation: 100%|██████████| 15/15 [00:01<00:00,  9.74it/s]\n"
     ]
    },
    {
     "name": "stdout",
     "output_type": "stream",
     "text": [
      "Iteration 6 - Epoch 6:\n",
      "  Train Acc = 0.9953, Train Prec = 0.9676, Train Rec = 0.9835, Train F-Beta = 0.9707, Train Loss = 0.0185\n",
      "  Val Acc = 0.9499, Val Prec = 0.7857, Val Rec = 0.5500, Val F-Beta = 0.7237, Val Loss = 0.2124\n"
     ]
    },
    {
     "name": "stderr",
     "output_type": "stream",
     "text": [
      "Iteration 6 - Epoch 7 - Training: 100%|██████████| 60/60 [00:18<00:00,  3.25it/s]\n",
      "Iteration 6 - Epoch 7 - Validation: 100%|██████████| 15/15 [00:01<00:00,  9.81it/s]\n"
     ]
    },
    {
     "name": "stdout",
     "output_type": "stream",
     "text": [
      "Iteration 6 - Epoch 7:\n",
      "  Train Acc = 0.9927, Train Prec = 0.9667, Train Rec = 0.9560, Train F-Beta = 0.9645, Train Loss = 0.0209\n",
      "  Val Acc = 0.9603, Val Prec = 0.8387, Val Rec = 0.6500, Val F-Beta = 0.7927, Val Loss = 0.1667\n"
     ]
    },
    {
     "name": "stderr",
     "output_type": "stream",
     "text": [
      "Iteration 6 - Epoch 8 - Training: 100%|██████████| 60/60 [00:18<00:00,  3.21it/s]\n",
      "Iteration 6 - Epoch 8 - Validation: 100%|██████████| 15/15 [00:01<00:00,  9.51it/s]\n"
     ]
    },
    {
     "name": "stdout",
     "output_type": "stream",
     "text": [
      "Iteration 6 - Epoch 8:\n",
      "  Train Acc = 0.9942, Train Prec = 0.9572, Train Rec = 0.9835, Train F-Beta = 0.9624, Train Loss = 0.0156\n",
      "  Val Acc = 0.9645, Val Prec = 0.8485, Val Rec = 0.7000, Val F-Beta = 0.8140, Val Loss = 0.1657\n",
      "  Better model saved with 0.8140 F-beta score.\n"
     ]
    },
    {
     "name": "stderr",
     "output_type": "stream",
     "text": [
      "Iteration 6 - Epoch 9 - Training: 100%|██████████| 60/60 [00:18<00:00,  3.17it/s]\n",
      "Iteration 6 - Epoch 9 - Validation: 100%|██████████| 15/15 [00:01<00:00,  9.53it/s]\n"
     ]
    },
    {
     "name": "stdout",
     "output_type": "stream",
     "text": [
      "Iteration 6 - Epoch 9:\n",
      "  Train Acc = 0.9995, Train Prec = 1.0000, Train Rec = 0.9945, Train F-Beta = 0.9989, Train Loss = 0.0080\n",
      "  Val Acc = 0.9624, Val Prec = 0.8056, Val Rec = 0.7250, Val F-Beta = 0.7880, Val Loss = 0.1881\n"
     ]
    },
    {
     "name": "stderr",
     "output_type": "stream",
     "text": [
      "Iteration 6 - Epoch 10 - Training: 100%|██████████| 60/60 [00:18<00:00,  3.20it/s]\n",
      "Iteration 6 - Epoch 10 - Validation: 100%|██████████| 15/15 [00:01<00:00,  9.86it/s]\n"
     ]
    },
    {
     "name": "stdout",
     "output_type": "stream",
     "text": [
      "Iteration 6 - Epoch 10:\n",
      "  Train Acc = 1.0000, Train Prec = 1.0000, Train Rec = 1.0000, Train F-Beta = 1.0000, Train Loss = 0.0018\n",
      "  Val Acc = 0.9603, Val Prec = 0.7692, Val Rec = 0.7500, Val F-Beta = 0.7653, Val Loss = 0.1993\n"
     ]
    },
    {
     "name": "stderr",
     "output_type": "stream",
     "text": [
      "Iteration 6 - Epoch 11 - Training: 100%|██████████| 60/60 [00:18<00:00,  3.24it/s]\n",
      "Iteration 6 - Epoch 11 - Validation: 100%|██████████| 15/15 [00:01<00:00,  9.71it/s]\n"
     ]
    },
    {
     "name": "stdout",
     "output_type": "stream",
     "text": [
      "Iteration 6 - Epoch 11:\n",
      "  Train Acc = 1.0000, Train Prec = 1.0000, Train Rec = 1.0000, Train F-Beta = 1.0000, Train Loss = 0.0016\n",
      "  Val Acc = 0.9624, Val Prec = 0.8235, Val Rec = 0.7000, Val F-Beta = 0.7955, Val Loss = 0.2086\n"
     ]
    },
    {
     "name": "stderr",
     "output_type": "stream",
     "text": [
      "Iteration 6 - Epoch 12 - Training: 100%|██████████| 60/60 [00:18<00:00,  3.28it/s]\n",
      "Iteration 6 - Epoch 12 - Validation: 100%|██████████| 15/15 [00:01<00:00,  9.82it/s]\n"
     ]
    },
    {
     "name": "stdout",
     "output_type": "stream",
     "text": [
      "Iteration 6 - Epoch 12:\n",
      "  Train Acc = 1.0000, Train Prec = 1.0000, Train Rec = 1.0000, Train F-Beta = 1.0000, Train Loss = 0.0009\n",
      "  Val Acc = 0.9603, Val Prec = 0.7692, Val Rec = 0.7500, Val F-Beta = 0.7653, Val Loss = 0.2151\n"
     ]
    },
    {
     "name": "stderr",
     "output_type": "stream",
     "text": [
      "Iteration 6 - Epoch 13 - Training: 100%|██████████| 60/60 [00:18<00:00,  3.24it/s]\n",
      "Iteration 6 - Epoch 13 - Validation: 100%|██████████| 15/15 [00:01<00:00,  9.99it/s]\n"
     ]
    },
    {
     "name": "stdout",
     "output_type": "stream",
     "text": [
      "Iteration 6 - Epoch 13:\n",
      "  Train Acc = 1.0000, Train Prec = 1.0000, Train Rec = 1.0000, Train F-Beta = 1.0000, Train Loss = 0.0007\n",
      "  Val Acc = 0.9582, Val Prec = 0.7500, Val Rec = 0.7500, Val F-Beta = 0.7500, Val Loss = 0.2212\n"
     ]
    },
    {
     "name": "stderr",
     "output_type": "stream",
     "text": [
      "Iteration 6 - Epoch 14 - Training: 100%|██████████| 60/60 [00:18<00:00,  3.25it/s]\n",
      "Iteration 6 - Epoch 14 - Validation: 100%|██████████| 15/15 [00:01<00:00,  9.47it/s]\n"
     ]
    },
    {
     "name": "stdout",
     "output_type": "stream",
     "text": [
      "Iteration 6 - Epoch 14:\n",
      "  Train Acc = 1.0000, Train Prec = 1.0000, Train Rec = 1.0000, Train F-Beta = 1.0000, Train Loss = 0.0007\n",
      "  Val Acc = 0.9603, Val Prec = 0.7838, Val Rec = 0.7250, Val F-Beta = 0.7713, Val Loss = 0.2206\n"
     ]
    },
    {
     "name": "stderr",
     "output_type": "stream",
     "text": [
      "Iteration 6 - Epoch 15 - Training: 100%|██████████| 60/60 [00:18<00:00,  3.23it/s]\n",
      "Iteration 6 - Epoch 15 - Validation: 100%|██████████| 15/15 [00:01<00:00,  9.72it/s]\n"
     ]
    },
    {
     "name": "stdout",
     "output_type": "stream",
     "text": [
      "Iteration 6 - Epoch 15:\n",
      "  Train Acc = 1.0000, Train Prec = 1.0000, Train Rec = 1.0000, Train F-Beta = 1.0000, Train Loss = 0.0005\n",
      "  Val Acc = 0.9624, Val Prec = 0.8235, Val Rec = 0.7000, Val F-Beta = 0.7955, Val Loss = 0.2328\n"
     ]
    },
    {
     "name": "stderr",
     "output_type": "stream",
     "text": [
      "Iteration 6 - Epoch 16 - Training: 100%|██████████| 60/60 [00:18<00:00,  3.25it/s]\n",
      "Iteration 6 - Epoch 16 - Validation: 100%|██████████| 15/15 [00:01<00:00,  9.73it/s]\n"
     ]
    },
    {
     "name": "stdout",
     "output_type": "stream",
     "text": [
      "Iteration 6 - Epoch 16:\n",
      "  Train Acc = 1.0000, Train Prec = 1.0000, Train Rec = 1.0000, Train F-Beta = 1.0000, Train Loss = 0.0004\n",
      "  Val Acc = 0.9645, Val Prec = 0.8286, Val Rec = 0.7250, Val F-Beta = 0.8056, Val Loss = 0.2322\n"
     ]
    },
    {
     "name": "stderr",
     "output_type": "stream",
     "text": [
      "Iteration 6 - Epoch 17 - Training: 100%|██████████| 60/60 [00:18<00:00,  3.25it/s]\n",
      "Iteration 6 - Epoch 17 - Validation: 100%|██████████| 15/15 [00:01<00:00,  9.81it/s]\n"
     ]
    },
    {
     "name": "stdout",
     "output_type": "stream",
     "text": [
      "Iteration 6 - Epoch 17:\n",
      "  Train Acc = 1.0000, Train Prec = 1.0000, Train Rec = 1.0000, Train F-Beta = 1.0000, Train Loss = 0.0004\n",
      "  Val Acc = 0.9603, Val Prec = 0.7561, Val Rec = 0.7750, Val F-Beta = 0.7598, Val Loss = 0.2368\n"
     ]
    },
    {
     "name": "stderr",
     "output_type": "stream",
     "text": [
      "Iteration 6 - Epoch 18 - Training: 100%|██████████| 60/60 [00:18<00:00,  3.27it/s]\n",
      "Iteration 6 - Epoch 18 - Validation: 100%|██████████| 15/15 [00:01<00:00,  9.83it/s]\n"
     ]
    },
    {
     "name": "stdout",
     "output_type": "stream",
     "text": [
      "Iteration 6 - Epoch 18:\n",
      "  Train Acc = 1.0000, Train Prec = 1.0000, Train Rec = 1.0000, Train F-Beta = 1.0000, Train Loss = 0.0003\n",
      "  Val Acc = 0.9603, Val Prec = 0.7442, Val Rec = 0.8000, Val F-Beta = 0.7547, Val Loss = 0.2423\n"
     ]
    },
    {
     "name": "stderr",
     "output_type": "stream",
     "text": [
      "Iteration 6 - Epoch 19 - Training: 100%|██████████| 60/60 [00:18<00:00,  3.26it/s]\n",
      "Iteration 6 - Epoch 19 - Validation: 100%|██████████| 15/15 [00:01<00:00,  9.81it/s]\n"
     ]
    },
    {
     "name": "stdout",
     "output_type": "stream",
     "text": [
      "Iteration 6 - Epoch 19:\n",
      "  Train Acc = 1.0000, Train Prec = 1.0000, Train Rec = 1.0000, Train F-Beta = 1.0000, Train Loss = 0.0003\n",
      "  Val Acc = 0.9624, Val Prec = 0.7619, Val Rec = 0.8000, Val F-Beta = 0.7692, Val Loss = 0.2437\n"
     ]
    },
    {
     "name": "stderr",
     "output_type": "stream",
     "text": [
      "Iteration 6 - Epoch 20 - Training: 100%|██████████| 60/60 [00:18<00:00,  3.27it/s]\n",
      "Iteration 6 - Epoch 20 - Validation: 100%|██████████| 15/15 [00:01<00:00,  9.74it/s]\n"
     ]
    },
    {
     "name": "stdout",
     "output_type": "stream",
     "text": [
      "Iteration 6 - Epoch 20:\n",
      "  Train Acc = 1.0000, Train Prec = 1.0000, Train Rec = 1.0000, Train F-Beta = 1.0000, Train Loss = 0.0002\n",
      "  Val Acc = 0.9624, Val Prec = 0.7619, Val Rec = 0.8000, Val F-Beta = 0.7692, Val Loss = 0.2468\n"
     ]
    },
    {
     "name": "stderr",
     "output_type": "stream",
     "text": [
      "Iteration 6 - Epoch 21 - Training: 100%|██████████| 60/60 [00:18<00:00,  3.26it/s]\n",
      "Iteration 6 - Epoch 21 - Validation: 100%|██████████| 15/15 [00:01<00:00,  9.83it/s]\n"
     ]
    },
    {
     "name": "stdout",
     "output_type": "stream",
     "text": [
      "Iteration 6 - Epoch 21:\n",
      "  Train Acc = 1.0000, Train Prec = 1.0000, Train Rec = 1.0000, Train F-Beta = 1.0000, Train Loss = 0.0002\n",
      "  Val Acc = 0.9603, Val Prec = 0.7442, Val Rec = 0.8000, Val F-Beta = 0.7547, Val Loss = 0.2546\n"
     ]
    },
    {
     "name": "stderr",
     "output_type": "stream",
     "text": [
      "Iteration 6 - Epoch 22 - Training: 100%|██████████| 60/60 [00:18<00:00,  3.28it/s]\n",
      "Iteration 6 - Epoch 22 - Validation: 100%|██████████| 15/15 [00:01<00:00,  9.95it/s]\n"
     ]
    },
    {
     "name": "stdout",
     "output_type": "stream",
     "text": [
      "Iteration 6 - Epoch 22:\n",
      "  Train Acc = 1.0000, Train Prec = 1.0000, Train Rec = 1.0000, Train F-Beta = 1.0000, Train Loss = 0.0002\n",
      "  Val Acc = 0.9603, Val Prec = 0.7442, Val Rec = 0.8000, Val F-Beta = 0.7547, Val Loss = 0.2582\n"
     ]
    },
    {
     "name": "stderr",
     "output_type": "stream",
     "text": [
      "Iteration 6 - Epoch 23 - Training: 100%|██████████| 60/60 [00:18<00:00,  3.31it/s]\n",
      "Iteration 6 - Epoch 23 - Validation: 100%|██████████| 15/15 [00:01<00:00,  9.87it/s]\n"
     ]
    },
    {
     "name": "stdout",
     "output_type": "stream",
     "text": [
      "Iteration 6 - Epoch 23:\n",
      "  Train Acc = 1.0000, Train Prec = 1.0000, Train Rec = 1.0000, Train F-Beta = 1.0000, Train Loss = 0.0002\n",
      "  Val Acc = 0.9603, Val Prec = 0.7442, Val Rec = 0.8000, Val F-Beta = 0.7547, Val Loss = 0.2591\n"
     ]
    },
    {
     "name": "stderr",
     "output_type": "stream",
     "text": [
      "Iteration 6 - Epoch 24 - Training: 100%|██████████| 60/60 [00:18<00:00,  3.28it/s]\n",
      "Iteration 6 - Epoch 24 - Validation: 100%|██████████| 15/15 [00:01<00:00,  9.89it/s]\n"
     ]
    },
    {
     "name": "stdout",
     "output_type": "stream",
     "text": [
      "Iteration 6 - Epoch 24:\n",
      "  Train Acc = 1.0000, Train Prec = 1.0000, Train Rec = 1.0000, Train F-Beta = 1.0000, Train Loss = 0.0002\n",
      "  Val Acc = 0.9603, Val Prec = 0.7442, Val Rec = 0.8000, Val F-Beta = 0.7547, Val Loss = 0.2627\n"
     ]
    },
    {
     "name": "stderr",
     "output_type": "stream",
     "text": [
      "Iteration 6 - Epoch 25 - Training: 100%|██████████| 60/60 [00:18<00:00,  3.30it/s]\n",
      "Iteration 6 - Epoch 25 - Validation: 100%|██████████| 15/15 [00:01<00:00, 10.02it/s]\n"
     ]
    },
    {
     "name": "stdout",
     "output_type": "stream",
     "text": [
      "Iteration 6 - Epoch 25:\n",
      "  Train Acc = 1.0000, Train Prec = 1.0000, Train Rec = 1.0000, Train F-Beta = 1.0000, Train Loss = 0.0002\n",
      "  Val Acc = 0.9582, Val Prec = 0.7273, Val Rec = 0.8000, Val F-Beta = 0.7407, Val Loss = 0.2896\n"
     ]
    },
    {
     "name": "stderr",
     "output_type": "stream",
     "text": [
      "Iteration 6 - Epoch 26 - Training: 100%|██████████| 60/60 [00:18<00:00,  3.33it/s]\n",
      "Iteration 6 - Epoch 26 - Validation: 100%|██████████| 15/15 [00:01<00:00, 10.01it/s]\n"
     ]
    },
    {
     "name": "stdout",
     "output_type": "stream",
     "text": [
      "Iteration 6 - Epoch 26:\n",
      "  Train Acc = 0.9922, Train Prec = 0.9613, Train Rec = 0.9560, Train F-Beta = 0.9603, Train Loss = 0.0296\n",
      "  Val Acc = 0.9562, Val Prec = 0.7317, Val Rec = 0.7500, Val F-Beta = 0.7353, Val Loss = 0.2131\n"
     ]
    },
    {
     "name": "stderr",
     "output_type": "stream",
     "text": [
      "Iteration 6 - Epoch 27 - Training: 100%|██████████| 60/60 [00:18<00:00,  3.32it/s]\n",
      "Iteration 6 - Epoch 27 - Validation: 100%|██████████| 15/15 [00:01<00:00,  9.98it/s]\n"
     ]
    },
    {
     "name": "stdout",
     "output_type": "stream",
     "text": [
      "Iteration 6 - Epoch 27:\n",
      "  Train Acc = 0.9995, Train Prec = 1.0000, Train Rec = 0.9945, Train F-Beta = 0.9989, Train Loss = 0.0020\n",
      "  Val Acc = 0.9562, Val Prec = 0.7111, Val Rec = 0.8000, Val F-Beta = 0.7273, Val Loss = 0.2741\n"
     ]
    },
    {
     "name": "stderr",
     "output_type": "stream",
     "text": [
      "Iteration 6 - Epoch 28 - Training: 100%|██████████| 60/60 [00:18<00:00,  3.32it/s]\n",
      "Iteration 6 - Epoch 28 - Validation: 100%|██████████| 15/15 [00:01<00:00, 10.00it/s]\n"
     ]
    },
    {
     "name": "stdout",
     "output_type": "stream",
     "text": [
      "Iteration 6 - Epoch 28:\n",
      "  Train Acc = 0.9979, Train Prec = 0.9837, Train Rec = 0.9945, Train F-Beta = 0.9858, Train Loss = 0.0114\n",
      "  Val Acc = 0.9645, Val Prec = 0.8108, Val Rec = 0.7500, Val F-Beta = 0.7979, Val Loss = 0.2061\n"
     ]
    },
    {
     "name": "stderr",
     "output_type": "stream",
     "text": [
      "Iteration 6 - Epoch 29 - Training: 100%|██████████| 60/60 [00:18<00:00,  3.32it/s]\n",
      "Iteration 6 - Epoch 29 - Validation: 100%|██████████| 15/15 [00:01<00:00,  9.98it/s]\n"
     ]
    },
    {
     "name": "stdout",
     "output_type": "stream",
     "text": [
      "Iteration 6 - Epoch 29:\n",
      "  Train Acc = 0.9990, Train Prec = 0.9891, Train Rec = 1.0000, Train F-Beta = 0.9913, Train Loss = 0.0047\n",
      "  Val Acc = 0.9645, Val Prec = 0.8108, Val Rec = 0.7500, Val F-Beta = 0.7979, Val Loss = 0.2180\n"
     ]
    },
    {
     "name": "stderr",
     "output_type": "stream",
     "text": [
      "Iteration 6 - Epoch 30 - Training: 100%|██████████| 60/60 [00:18<00:00,  3.31it/s]\n",
      "Iteration 6 - Epoch 30 - Validation: 100%|██████████| 15/15 [00:01<00:00,  9.98it/s]\n"
     ]
    },
    {
     "name": "stdout",
     "output_type": "stream",
     "text": [
      "Iteration 6 - Epoch 30:\n",
      "  Train Acc = 1.0000, Train Prec = 1.0000, Train Rec = 1.0000, Train F-Beta = 1.0000, Train Loss = 0.0005\n",
      "  Val Acc = 0.9624, Val Prec = 0.7619, Val Rec = 0.8000, Val F-Beta = 0.7692, Val Loss = 0.2362\n"
     ]
    },
    {
     "name": "stderr",
     "output_type": "stream",
     "text": [
      "Iteration 6 - Epoch 31 - Training: 100%|██████████| 60/60 [00:18<00:00,  3.32it/s]\n",
      "Iteration 6 - Epoch 31 - Validation: 100%|██████████| 15/15 [00:01<00:00,  9.98it/s]\n"
     ]
    },
    {
     "name": "stdout",
     "output_type": "stream",
     "text": [
      "Iteration 6 - Epoch 31:\n",
      "  Train Acc = 1.0000, Train Prec = 1.0000, Train Rec = 1.0000, Train F-Beta = 1.0000, Train Loss = 0.0003\n",
      "  Val Acc = 0.9624, Val Prec = 0.7619, Val Rec = 0.8000, Val F-Beta = 0.7692, Val Loss = 0.2453\n"
     ]
    },
    {
     "name": "stderr",
     "output_type": "stream",
     "text": [
      "Iteration 6 - Epoch 32 - Training: 100%|██████████| 60/60 [00:18<00:00,  3.31it/s]\n",
      "Iteration 6 - Epoch 32 - Validation: 100%|██████████| 15/15 [00:01<00:00,  9.97it/s]\n"
     ]
    },
    {
     "name": "stdout",
     "output_type": "stream",
     "text": [
      "Iteration 6 - Epoch 32:\n",
      "  Train Acc = 1.0000, Train Prec = 1.0000, Train Rec = 1.0000, Train F-Beta = 1.0000, Train Loss = 0.0002\n",
      "  Val Acc = 0.9624, Val Prec = 0.7619, Val Rec = 0.8000, Val F-Beta = 0.7692, Val Loss = 0.2536\n"
     ]
    },
    {
     "name": "stderr",
     "output_type": "stream",
     "text": [
      "Iteration 6 - Epoch 33 - Training: 100%|██████████| 60/60 [00:18<00:00,  3.31it/s]\n",
      "Iteration 6 - Epoch 33 - Validation: 100%|██████████| 15/15 [00:01<00:00,  9.97it/s]\n"
     ]
    },
    {
     "name": "stdout",
     "output_type": "stream",
     "text": [
      "Iteration 6 - Epoch 33:\n",
      "  Train Acc = 1.0000, Train Prec = 1.0000, Train Rec = 1.0000, Train F-Beta = 1.0000, Train Loss = 0.0002\n",
      "  Val Acc = 0.9624, Val Prec = 0.7619, Val Rec = 0.8000, Val F-Beta = 0.7692, Val Loss = 0.2601\n"
     ]
    },
    {
     "name": "stderr",
     "output_type": "stream",
     "text": [
      "Iteration 6 - Epoch 34 - Training: 100%|██████████| 60/60 [00:18<00:00,  3.31it/s]\n",
      "Iteration 6 - Epoch 34 - Validation: 100%|██████████| 15/15 [00:01<00:00,  9.87it/s]\n"
     ]
    },
    {
     "name": "stdout",
     "output_type": "stream",
     "text": [
      "Iteration 6 - Epoch 34:\n",
      "  Train Acc = 1.0000, Train Prec = 1.0000, Train Rec = 1.0000, Train F-Beta = 1.0000, Train Loss = 0.0002\n",
      "  Val Acc = 0.9603, Val Prec = 0.8000, Val Rec = 0.7000, Val F-Beta = 0.7778, Val Loss = 0.2819\n"
     ]
    },
    {
     "name": "stderr",
     "output_type": "stream",
     "text": [
      "Iteration 6 - Epoch 35 - Training: 100%|██████████| 60/60 [00:18<00:00,  3.27it/s]\n",
      "Iteration 6 - Epoch 35 - Validation: 100%|██████████| 15/15 [00:01<00:00,  9.82it/s]\n"
     ]
    },
    {
     "name": "stdout",
     "output_type": "stream",
     "text": [
      "Iteration 6 - Epoch 35:\n",
      "  Train Acc = 1.0000, Train Prec = 1.0000, Train Rec = 1.0000, Train F-Beta = 1.0000, Train Loss = 0.0002\n",
      "  Val Acc = 0.9624, Val Prec = 0.8056, Val Rec = 0.7250, Val F-Beta = 0.7880, Val Loss = 0.2840\n"
     ]
    },
    {
     "name": "stderr",
     "output_type": "stream",
     "text": [
      "Iteration 6 - Epoch 36 - Training: 100%|██████████| 60/60 [00:18<00:00,  3.28it/s]\n",
      "Iteration 6 - Epoch 36 - Validation: 100%|██████████| 15/15 [00:01<00:00,  9.80it/s]\n"
     ]
    },
    {
     "name": "stdout",
     "output_type": "stream",
     "text": [
      "Iteration 6 - Epoch 36:\n",
      "  Train Acc = 1.0000, Train Prec = 1.0000, Train Rec = 1.0000, Train F-Beta = 1.0000, Train Loss = 0.0001\n",
      "  Val Acc = 0.9624, Val Prec = 0.7895, Val Rec = 0.7500, Val F-Beta = 0.7812, Val Loss = 0.2878\n"
     ]
    },
    {
     "name": "stderr",
     "output_type": "stream",
     "text": [
      "Iteration 6 - Epoch 37 - Training: 100%|██████████| 60/60 [00:18<00:00,  3.26it/s]\n",
      "Iteration 6 - Epoch 37 - Validation: 100%|██████████| 15/15 [00:01<00:00,  9.81it/s]\n"
     ]
    },
    {
     "name": "stdout",
     "output_type": "stream",
     "text": [
      "Iteration 6 - Epoch 37:\n",
      "  Train Acc = 0.9749, Train Prec = 0.9408, Train Rec = 0.7857, Train F-Beta = 0.9051, Train Loss = 0.0809\n",
      "  Val Acc = 0.9666, Val Prec = 0.7727, Val Rec = 0.8500, Val F-Beta = 0.7870, Val Loss = 0.1363\n"
     ]
    },
    {
     "name": "stderr",
     "output_type": "stream",
     "text": [
      "Iteration 6 - Epoch 38 - Training: 100%|██████████| 60/60 [00:18<00:00,  3.25it/s]\n",
      "Iteration 6 - Epoch 38 - Validation: 100%|██████████| 15/15 [00:01<00:00,  9.86it/s]\n"
     ]
    },
    {
     "name": "stdout",
     "output_type": "stream",
     "text": [
      "Iteration 6 - Epoch 38:\n",
      "  Train Acc = 0.9901, Train Prec = 0.9223, Train Rec = 0.9780, Train F-Beta = 0.9329, Train Loss = 0.0245\n",
      "  Val Acc = 0.9603, Val Prec = 0.7234, Val Rec = 0.8500, Val F-Beta = 0.7456, Val Loss = 0.1669\n"
     ]
    },
    {
     "name": "stderr",
     "output_type": "stream",
     "text": [
      "Iteration 6 - Epoch 39 - Training: 100%|██████████| 60/60 [00:18<00:00,  3.25it/s]\n",
      "Iteration 6 - Epoch 39 - Validation: 100%|██████████| 15/15 [00:01<00:00,  9.58it/s]\n"
     ]
    },
    {
     "name": "stdout",
     "output_type": "stream",
     "text": [
      "Iteration 6 - Epoch 39:\n",
      "  Train Acc = 0.9995, Train Prec = 0.9945, Train Rec = 1.0000, Train F-Beta = 0.9956, Train Loss = 0.0020\n",
      "  Val Acc = 0.9708, Val Prec = 0.8095, Val Rec = 0.8500, Val F-Beta = 0.8173, Val Loss = 0.1773\n",
      "  Better model saved with 0.8173 F-beta score.\n"
     ]
    },
    {
     "name": "stderr",
     "output_type": "stream",
     "text": [
      "Iteration 6 - Epoch 40 - Training: 100%|██████████| 60/60 [00:18<00:00,  3.24it/s]\n",
      "Iteration 6 - Epoch 40 - Validation: 100%|██████████| 15/15 [00:01<00:00,  9.74it/s]\n"
     ]
    },
    {
     "name": "stdout",
     "output_type": "stream",
     "text": [
      "Iteration 6 - Epoch 40:\n",
      "  Train Acc = 0.9984, Train Prec = 0.9891, Train Rec = 0.9945, Train F-Beta = 0.9902, Train Loss = 0.0026\n",
      "  Val Acc = 0.9729, Val Prec = 0.8857, Val Rec = 0.7750, Val F-Beta = 0.8611, Val Loss = 0.1681\n",
      "  Better model saved with 0.8611 F-beta score.\n"
     ]
    },
    {
     "name": "stderr",
     "output_type": "stream",
     "text": [
      "Iteration 6 - Epoch 41 - Training: 100%|██████████| 60/60 [00:18<00:00,  3.24it/s]\n",
      "Iteration 6 - Epoch 41 - Validation: 100%|██████████| 15/15 [00:01<00:00,  9.74it/s]\n"
     ]
    },
    {
     "name": "stdout",
     "output_type": "stream",
     "text": [
      "Iteration 6 - Epoch 41:\n",
      "  Train Acc = 1.0000, Train Prec = 1.0000, Train Rec = 1.0000, Train F-Beta = 1.0000, Train Loss = 0.0005\n",
      "  Val Acc = 0.9729, Val Prec = 0.8293, Val Rec = 0.8500, Val F-Beta = 0.8333, Val Loss = 0.1870\n"
     ]
    },
    {
     "name": "stderr",
     "output_type": "stream",
     "text": [
      "Iteration 6 - Epoch 42 - Training: 100%|██████████| 60/60 [00:18<00:00,  3.24it/s]\n",
      "Iteration 6 - Epoch 42 - Validation: 100%|██████████| 15/15 [00:01<00:00,  9.73it/s]\n"
     ]
    },
    {
     "name": "stdout",
     "output_type": "stream",
     "text": [
      "Iteration 6 - Epoch 42:\n",
      "  Train Acc = 1.0000, Train Prec = 1.0000, Train Rec = 1.0000, Train F-Beta = 1.0000, Train Loss = 0.0003\n",
      "  Val Acc = 0.9729, Val Prec = 0.8293, Val Rec = 0.8500, Val F-Beta = 0.8333, Val Loss = 0.1922\n"
     ]
    },
    {
     "name": "stderr",
     "output_type": "stream",
     "text": [
      "Iteration 6 - Epoch 43 - Training: 100%|██████████| 60/60 [00:18<00:00,  3.26it/s]\n",
      "Iteration 6 - Epoch 43 - Validation: 100%|██████████| 15/15 [00:01<00:00,  9.97it/s]\n"
     ]
    },
    {
     "name": "stdout",
     "output_type": "stream",
     "text": [
      "Iteration 6 - Epoch 43:\n",
      "  Train Acc = 1.0000, Train Prec = 1.0000, Train Rec = 1.0000, Train F-Beta = 1.0000, Train Loss = 0.0002\n",
      "  Val Acc = 0.9729, Val Prec = 0.8293, Val Rec = 0.8500, Val F-Beta = 0.8333, Val Loss = 0.1965\n"
     ]
    },
    {
     "name": "stderr",
     "output_type": "stream",
     "text": [
      "Iteration 6 - Epoch 44 - Training: 100%|██████████| 60/60 [00:18<00:00,  3.26it/s]\n",
      "Iteration 6 - Epoch 44 - Validation: 100%|██████████| 15/15 [00:01<00:00,  9.86it/s]\n"
     ]
    },
    {
     "name": "stdout",
     "output_type": "stream",
     "text": [
      "Iteration 6 - Epoch 44:\n",
      "  Train Acc = 1.0000, Train Prec = 1.0000, Train Rec = 1.0000, Train F-Beta = 1.0000, Train Loss = 0.0001\n",
      "  Val Acc = 0.9729, Val Prec = 0.8293, Val Rec = 0.8500, Val F-Beta = 0.8333, Val Loss = 0.2014\n"
     ]
    },
    {
     "name": "stderr",
     "output_type": "stream",
     "text": [
      "Iteration 6 - Epoch 45 - Training: 100%|██████████| 60/60 [00:18<00:00,  3.28it/s]\n",
      "Iteration 6 - Epoch 45 - Validation: 100%|██████████| 15/15 [00:01<00:00,  9.87it/s]\n"
     ]
    },
    {
     "name": "stdout",
     "output_type": "stream",
     "text": [
      "Iteration 6 - Epoch 45:\n",
      "  Train Acc = 1.0000, Train Prec = 1.0000, Train Rec = 1.0000, Train F-Beta = 1.0000, Train Loss = 0.0001\n",
      "  Val Acc = 0.9708, Val Prec = 0.8095, Val Rec = 0.8500, Val F-Beta = 0.8173, Val Loss = 0.2052\n"
     ]
    },
    {
     "name": "stderr",
     "output_type": "stream",
     "text": [
      "Iteration 6 - Epoch 46 - Training: 100%|██████████| 60/60 [00:18<00:00,  3.28it/s]\n",
      "Iteration 6 - Epoch 46 - Validation: 100%|██████████| 15/15 [00:01<00:00,  9.86it/s]\n"
     ]
    },
    {
     "name": "stdout",
     "output_type": "stream",
     "text": [
      "Iteration 6 - Epoch 46:\n",
      "  Train Acc = 1.0000, Train Prec = 1.0000, Train Rec = 1.0000, Train F-Beta = 1.0000, Train Loss = 0.0001\n",
      "  Val Acc = 0.9708, Val Prec = 0.8095, Val Rec = 0.8500, Val F-Beta = 0.8173, Val Loss = 0.2093\n"
     ]
    },
    {
     "name": "stderr",
     "output_type": "stream",
     "text": [
      "Iteration 6 - Epoch 47 - Training: 100%|██████████| 60/60 [00:18<00:00,  3.28it/s]\n",
      "Iteration 6 - Epoch 47 - Validation: 100%|██████████| 15/15 [00:01<00:00,  9.86it/s]\n"
     ]
    },
    {
     "name": "stdout",
     "output_type": "stream",
     "text": [
      "Iteration 6 - Epoch 47:\n",
      "  Train Acc = 1.0000, Train Prec = 1.0000, Train Rec = 1.0000, Train F-Beta = 1.0000, Train Loss = 0.0001\n",
      "  Val Acc = 0.9729, Val Prec = 0.8293, Val Rec = 0.8500, Val F-Beta = 0.8333, Val Loss = 0.2060\n"
     ]
    },
    {
     "name": "stderr",
     "output_type": "stream",
     "text": [
      "Iteration 6 - Epoch 48 - Training: 100%|██████████| 60/60 [00:18<00:00,  3.28it/s]\n",
      "Iteration 6 - Epoch 48 - Validation: 100%|██████████| 15/15 [00:01<00:00,  9.88it/s]\n"
     ]
    },
    {
     "name": "stdout",
     "output_type": "stream",
     "text": [
      "Iteration 6 - Epoch 48:\n",
      "  Train Acc = 1.0000, Train Prec = 1.0000, Train Rec = 1.0000, Train F-Beta = 1.0000, Train Loss = 0.0001\n",
      "  Val Acc = 0.9729, Val Prec = 0.8293, Val Rec = 0.8500, Val F-Beta = 0.8333, Val Loss = 0.2061\n"
     ]
    },
    {
     "name": "stderr",
     "output_type": "stream",
     "text": [
      "Iteration 6 - Epoch 49 - Training: 100%|██████████| 60/60 [00:18<00:00,  3.28it/s]\n",
      "Iteration 6 - Epoch 49 - Validation: 100%|██████████| 15/15 [00:01<00:00,  9.82it/s]\n"
     ]
    },
    {
     "name": "stdout",
     "output_type": "stream",
     "text": [
      "Iteration 6 - Epoch 49:\n",
      "  Train Acc = 1.0000, Train Prec = 1.0000, Train Rec = 1.0000, Train F-Beta = 1.0000, Train Loss = 0.0001\n",
      "  Val Acc = 0.9708, Val Prec = 0.8250, Val Rec = 0.8250, Val F-Beta = 0.8250, Val Loss = 0.2055\n"
     ]
    },
    {
     "name": "stderr",
     "output_type": "stream",
     "text": [
      "Iteration 6 - Epoch 50 - Training: 100%|██████████| 60/60 [00:18<00:00,  3.25it/s]\n",
      "Iteration 6 - Epoch 50 - Validation: 100%|██████████| 15/15 [00:01<00:00,  9.54it/s]\n"
     ]
    },
    {
     "name": "stdout",
     "output_type": "stream",
     "text": [
      "Iteration 6 - Epoch 50:\n",
      "  Train Acc = 1.0000, Train Prec = 1.0000, Train Rec = 1.0000, Train F-Beta = 1.0000, Train Loss = 0.0001\n",
      "  Val Acc = 0.9708, Val Prec = 0.8250, Val Rec = 0.8250, Val F-Beta = 0.8250, Val Loss = 0.2079\n",
      "Iteration 7/10\n"
     ]
    },
    {
     "name": "stderr",
     "output_type": "stream",
     "text": [
      "Some weights of ElectraForSequenceClassification were not initialized from the model checkpoint at beomi/KcELECTRA-base-v2022 and are newly initialized: ['classifier.dense.bias', 'classifier.dense.weight', 'classifier.out_proj.bias', 'classifier.out_proj.weight']\n",
      "You should probably TRAIN this model on a down-stream task to be able to use it for predictions and inference.\n",
      "Iteration 7 - Epoch 1 - Training: 100%|██████████| 60/60 [00:18<00:00,  3.22it/s]\n",
      "Iteration 7 - Epoch 1 - Validation: 100%|██████████| 15/15 [00:01<00:00,  9.68it/s]\n",
      "/home/retn0/repositories/nbsp1221/communav/.venv/lib/python3.10/site-packages/sklearn/metrics/_classification.py:1509: UndefinedMetricWarning: Precision is ill-defined and being set to 0.0 due to no predicted samples. Use `zero_division` parameter to control this behavior.\n",
      "  _warn_prf(average, modifier, f\"{metric.capitalize()} is\", len(result))\n"
     ]
    },
    {
     "name": "stdout",
     "output_type": "stream",
     "text": [
      "Iteration 7 - Epoch 1:\n",
      "  Train Acc = 0.8944, Train Prec = 0.0455, Train Rec = 0.0055, Train F-Beta = 0.0185, Train Loss = 0.3529\n",
      "  Val Acc = 0.9165, Val Prec = 0.0000, Val Rec = 0.0000, Val F-Beta = 0.0000, Val Loss = 0.2584\n"
     ]
    },
    {
     "name": "stderr",
     "output_type": "stream",
     "text": [
      "Iteration 7 - Epoch 2 - Training: 100%|██████████| 60/60 [00:18<00:00,  3.23it/s]\n",
      "Iteration 7 - Epoch 2 - Validation: 100%|██████████| 15/15 [00:01<00:00,  9.83it/s]\n"
     ]
    },
    {
     "name": "stdout",
     "output_type": "stream",
     "text": [
      "Iteration 7 - Epoch 2:\n",
      "  Train Acc = 0.9226, Train Prec = 0.6700, Train Rec = 0.3681, Train F-Beta = 0.5756, Train Loss = 0.1945\n",
      "  Val Acc = 0.9562, Val Prec = 0.7568, Val Rec = 0.7000, Val F-Beta = 0.7447, Val Loss = 0.1270\n",
      "  Better model saved with 0.7447 F-beta score.\n"
     ]
    },
    {
     "name": "stderr",
     "output_type": "stream",
     "text": [
      "Iteration 7 - Epoch 3 - Training: 100%|██████████| 60/60 [00:18<00:00,  3.22it/s]\n",
      "Iteration 7 - Epoch 3 - Validation: 100%|██████████| 15/15 [00:01<00:00,  9.62it/s]\n"
     ]
    },
    {
     "name": "stdout",
     "output_type": "stream",
     "text": [
      "Iteration 7 - Epoch 3:\n",
      "  Train Acc = 0.9650, Train Prec = 0.8142, Train Rec = 0.8187, Train F-Beta = 0.8151, Train Loss = 0.1036\n",
      "  Val Acc = 0.9582, Val Prec = 0.7174, Val Rec = 0.8250, Val F-Beta = 0.7366, Val Loss = 0.1250\n"
     ]
    },
    {
     "name": "stderr",
     "output_type": "stream",
     "text": [
      "Iteration 7 - Epoch 4 - Training: 100%|██████████| 60/60 [00:18<00:00,  3.21it/s]\n",
      "Iteration 7 - Epoch 4 - Validation: 100%|██████████| 15/15 [00:01<00:00,  9.63it/s]\n"
     ]
    },
    {
     "name": "stdout",
     "output_type": "stream",
     "text": [
      "Iteration 7 - Epoch 4:\n",
      "  Train Acc = 0.9848, Train Prec = 0.9005, Train Rec = 0.9451, Train F-Beta = 0.9091, Train Loss = 0.0552\n",
      "  Val Acc = 0.9436, Val Prec = 0.6327, Val Rec = 0.7750, Val F-Beta = 0.6568, Val Loss = 0.1733\n"
     ]
    },
    {
     "name": "stderr",
     "output_type": "stream",
     "text": [
      "Iteration 7 - Epoch 5 - Training: 100%|██████████| 60/60 [00:18<00:00,  3.22it/s]\n",
      "Iteration 7 - Epoch 5 - Validation: 100%|██████████| 15/15 [00:01<00:00,  9.57it/s]\n"
     ]
    },
    {
     "name": "stdout",
     "output_type": "stream",
     "text": [
      "Iteration 7 - Epoch 5:\n",
      "  Train Acc = 0.9864, Train Prec = 0.9382, Train Rec = 0.9176, Train F-Beta = 0.9340, Train Loss = 0.0486\n",
      "  Val Acc = 0.9603, Val Prec = 0.7442, Val Rec = 0.8000, Val F-Beta = 0.7547, Val Loss = 0.1136\n",
      "  Better model saved with 0.7547 F-beta score.\n"
     ]
    },
    {
     "name": "stderr",
     "output_type": "stream",
     "text": [
      "Iteration 7 - Epoch 6 - Training: 100%|██████████| 60/60 [00:18<00:00,  3.21it/s]\n",
      "Iteration 7 - Epoch 6 - Validation: 100%|██████████| 15/15 [00:01<00:00,  9.69it/s]\n"
     ]
    },
    {
     "name": "stdout",
     "output_type": "stream",
     "text": [
      "Iteration 7 - Epoch 6:\n",
      "  Train Acc = 0.9927, Train Prec = 0.9667, Train Rec = 0.9560, Train F-Beta = 0.9645, Train Loss = 0.0312\n",
      "  Val Acc = 0.9624, Val Prec = 0.7750, Val Rec = 0.7750, Val F-Beta = 0.7750, Val Loss = 0.1617\n",
      "  Better model saved with 0.7750 F-beta score.\n"
     ]
    },
    {
     "name": "stderr",
     "output_type": "stream",
     "text": [
      "Iteration 7 - Epoch 7 - Training: 100%|██████████| 60/60 [00:18<00:00,  3.22it/s]\n",
      "Iteration 7 - Epoch 7 - Validation: 100%|██████████| 15/15 [00:01<00:00,  9.70it/s]\n"
     ]
    },
    {
     "name": "stdout",
     "output_type": "stream",
     "text": [
      "Iteration 7 - Epoch 7:\n",
      "  Train Acc = 0.9979, Train Prec = 0.9944, Train Rec = 0.9835, Train F-Beta = 0.9922, Train Loss = 0.0112\n",
      "  Val Acc = 0.9541, Val Prec = 0.6957, Val Rec = 0.8000, Val F-Beta = 0.7143, Val Loss = 0.1771\n"
     ]
    },
    {
     "name": "stderr",
     "output_type": "stream",
     "text": [
      "Iteration 7 - Epoch 8 - Training: 100%|██████████| 60/60 [00:18<00:00,  3.21it/s]\n",
      "Iteration 7 - Epoch 8 - Validation: 100%|██████████| 15/15 [00:01<00:00,  9.66it/s]\n"
     ]
    },
    {
     "name": "stdout",
     "output_type": "stream",
     "text": [
      "Iteration 7 - Epoch 8:\n",
      "  Train Acc = 0.9953, Train Prec = 0.9779, Train Rec = 0.9725, Train F-Beta = 0.9768, Train Loss = 0.0133\n",
      "  Val Acc = 0.9499, Val Prec = 0.6667, Val Rec = 0.8000, Val F-Beta = 0.6897, Val Loss = 0.1908\n"
     ]
    },
    {
     "name": "stderr",
     "output_type": "stream",
     "text": [
      "Iteration 7 - Epoch 9 - Training: 100%|██████████| 60/60 [00:18<00:00,  3.23it/s]\n",
      "Iteration 7 - Epoch 9 - Validation: 100%|██████████| 15/15 [00:01<00:00,  9.60it/s]\n"
     ]
    },
    {
     "name": "stdout",
     "output_type": "stream",
     "text": [
      "Iteration 7 - Epoch 9:\n",
      "  Train Acc = 0.9984, Train Prec = 1.0000, Train Rec = 0.9835, Train F-Beta = 0.9967, Train Loss = 0.0101\n",
      "  Val Acc = 0.9499, Val Prec = 0.7000, Val Rec = 0.7000, Val F-Beta = 0.7000, Val Loss = 0.1920\n"
     ]
    },
    {
     "name": "stderr",
     "output_type": "stream",
     "text": [
      "Iteration 7 - Epoch 10 - Training: 100%|██████████| 60/60 [00:18<00:00,  3.19it/s]\n",
      "Iteration 7 - Epoch 10 - Validation: 100%|██████████| 15/15 [00:01<00:00,  9.75it/s]\n"
     ]
    },
    {
     "name": "stdout",
     "output_type": "stream",
     "text": [
      "Iteration 7 - Epoch 10:\n",
      "  Train Acc = 0.9984, Train Prec = 0.9945, Train Rec = 0.9890, Train F-Beta = 0.9934, Train Loss = 0.0063\n",
      "  Val Acc = 0.9603, Val Prec = 0.9200, Val Rec = 0.5750, Val F-Beta = 0.8214, Val Loss = 0.2174\n",
      "  Better model saved with 0.8214 F-beta score.\n"
     ]
    },
    {
     "name": "stderr",
     "output_type": "stream",
     "text": [
      "Iteration 7 - Epoch 11 - Training: 100%|██████████| 60/60 [00:18<00:00,  3.25it/s]\n",
      "Iteration 7 - Epoch 11 - Validation: 100%|██████████| 15/15 [00:01<00:00,  9.71it/s]\n"
     ]
    },
    {
     "name": "stdout",
     "output_type": "stream",
     "text": [
      "Iteration 7 - Epoch 11:\n",
      "  Train Acc = 0.9979, Train Prec = 0.9890, Train Rec = 0.9890, Train F-Beta = 0.9890, Train Loss = 0.0065\n",
      "  Val Acc = 0.9562, Val Prec = 0.6863, Val Rec = 0.8750, Val F-Beta = 0.7172, Val Loss = 0.2132\n"
     ]
    },
    {
     "name": "stderr",
     "output_type": "stream",
     "text": [
      "Iteration 7 - Epoch 12 - Training: 100%|██████████| 60/60 [00:18<00:00,  3.27it/s]\n",
      "Iteration 7 - Epoch 12 - Validation: 100%|██████████| 15/15 [00:01<00:00,  9.88it/s]\n"
     ]
    },
    {
     "name": "stdout",
     "output_type": "stream",
     "text": [
      "Iteration 7 - Epoch 12:\n",
      "  Train Acc = 0.9958, Train Prec = 0.9780, Train Rec = 0.9780, Train F-Beta = 0.9780, Train Loss = 0.0118\n",
      "  Val Acc = 0.9708, Val Prec = 0.8250, Val Rec = 0.8250, Val F-Beta = 0.8250, Val Loss = 0.1296\n",
      "  Better model saved with 0.8250 F-beta score.\n"
     ]
    },
    {
     "name": "stderr",
     "output_type": "stream",
     "text": [
      "Iteration 7 - Epoch 13 - Training: 100%|██████████| 60/60 [00:18<00:00,  3.25it/s]\n",
      "Iteration 7 - Epoch 13 - Validation: 100%|██████████| 15/15 [00:01<00:00,  9.86it/s]\n"
     ]
    },
    {
     "name": "stdout",
     "output_type": "stream",
     "text": [
      "Iteration 7 - Epoch 13:\n",
      "  Train Acc = 1.0000, Train Prec = 1.0000, Train Rec = 1.0000, Train F-Beta = 1.0000, Train Loss = 0.0019\n",
      "  Val Acc = 0.9624, Val Prec = 0.9231, Val Rec = 0.6000, Val F-Beta = 0.8333, Val Loss = 0.2340\n",
      "  Better model saved with 0.8333 F-beta score.\n"
     ]
    },
    {
     "name": "stderr",
     "output_type": "stream",
     "text": [
      "Iteration 7 - Epoch 14 - Training: 100%|██████████| 60/60 [00:18<00:00,  3.25it/s]\n",
      "Iteration 7 - Epoch 14 - Validation: 100%|██████████| 15/15 [00:01<00:00,  9.83it/s]\n"
     ]
    },
    {
     "name": "stdout",
     "output_type": "stream",
     "text": [
      "Iteration 7 - Epoch 14:\n",
      "  Train Acc = 0.9979, Train Prec = 0.9890, Train Rec = 0.9890, Train F-Beta = 0.9890, Train Loss = 0.0077\n",
      "  Val Acc = 0.9687, Val Prec = 0.8378, Val Rec = 0.7750, Val F-Beta = 0.8245, Val Loss = 0.1626\n"
     ]
    },
    {
     "name": "stderr",
     "output_type": "stream",
     "text": [
      "Iteration 7 - Epoch 15 - Training: 100%|██████████| 60/60 [00:18<00:00,  3.26it/s]\n",
      "Iteration 7 - Epoch 15 - Validation: 100%|██████████| 15/15 [00:01<00:00,  9.73it/s]\n"
     ]
    },
    {
     "name": "stdout",
     "output_type": "stream",
     "text": [
      "Iteration 7 - Epoch 15:\n",
      "  Train Acc = 0.9990, Train Prec = 0.9945, Train Rec = 0.9945, Train F-Beta = 0.9945, Train Loss = 0.0048\n",
      "  Val Acc = 0.9562, Val Prec = 0.8276, Val Rec = 0.6000, Val F-Beta = 0.7692, Val Loss = 0.2378\n"
     ]
    },
    {
     "name": "stderr",
     "output_type": "stream",
     "text": [
      "Iteration 7 - Epoch 16 - Training: 100%|██████████| 60/60 [00:18<00:00,  3.25it/s]\n",
      "Iteration 7 - Epoch 16 - Validation: 100%|██████████| 15/15 [00:01<00:00,  9.68it/s]\n"
     ]
    },
    {
     "name": "stdout",
     "output_type": "stream",
     "text": [
      "Iteration 7 - Epoch 16:\n",
      "  Train Acc = 0.9969, Train Prec = 0.9835, Train Rec = 0.9835, Train F-Beta = 0.9835, Train Loss = 0.0093\n",
      "  Val Acc = 0.9582, Val Prec = 0.7632, Val Rec = 0.7250, Val F-Beta = 0.7552, Val Loss = 0.1819\n"
     ]
    },
    {
     "name": "stderr",
     "output_type": "stream",
     "text": [
      "Iteration 7 - Epoch 17 - Training: 100%|██████████| 60/60 [00:18<00:00,  3.23it/s]\n",
      "Iteration 7 - Epoch 17 - Validation: 100%|██████████| 15/15 [00:01<00:00,  9.65it/s]\n"
     ]
    },
    {
     "name": "stdout",
     "output_type": "stream",
     "text": [
      "Iteration 7 - Epoch 17:\n",
      "  Train Acc = 0.9995, Train Prec = 0.9945, Train Rec = 1.0000, Train F-Beta = 0.9956, Train Loss = 0.0028\n",
      "  Val Acc = 0.9624, Val Prec = 0.7895, Val Rec = 0.7500, Val F-Beta = 0.7812, Val Loss = 0.2450\n"
     ]
    },
    {
     "name": "stderr",
     "output_type": "stream",
     "text": [
      "Iteration 7 - Epoch 18 - Training: 100%|██████████| 60/60 [00:18<00:00,  3.23it/s]\n",
      "Iteration 7 - Epoch 18 - Validation: 100%|██████████| 15/15 [00:01<00:00,  9.65it/s]\n"
     ]
    },
    {
     "name": "stdout",
     "output_type": "stream",
     "text": [
      "Iteration 7 - Epoch 18:\n",
      "  Train Acc = 0.9990, Train Prec = 0.9945, Train Rec = 0.9945, Train F-Beta = 0.9945, Train Loss = 0.0037\n",
      "  Val Acc = 0.9603, Val Prec = 0.7059, Val Rec = 0.9000, Val F-Beta = 0.7377, Val Loss = 0.1853\n"
     ]
    },
    {
     "name": "stderr",
     "output_type": "stream",
     "text": [
      "Iteration 7 - Epoch 19 - Training: 100%|██████████| 60/60 [00:18<00:00,  3.22it/s]\n",
      "Iteration 7 - Epoch 19 - Validation: 100%|██████████| 15/15 [00:01<00:00,  9.84it/s]\n"
     ]
    },
    {
     "name": "stdout",
     "output_type": "stream",
     "text": [
      "Iteration 7 - Epoch 19:\n",
      "  Train Acc = 1.0000, Train Prec = 1.0000, Train Rec = 1.0000, Train F-Beta = 1.0000, Train Loss = 0.0011\n",
      "  Val Acc = 0.9708, Val Prec = 0.8611, Val Rec = 0.7750, Val F-Beta = 0.8424, Val Loss = 0.1896\n",
      "  Better model saved with 0.8424 F-beta score.\n"
     ]
    },
    {
     "name": "stderr",
     "output_type": "stream",
     "text": [
      "Iteration 7 - Epoch 20 - Training: 100%|██████████| 60/60 [00:18<00:00,  3.25it/s]\n",
      "Iteration 7 - Epoch 20 - Validation: 100%|██████████| 15/15 [00:01<00:00,  9.84it/s]\n"
     ]
    },
    {
     "name": "stdout",
     "output_type": "stream",
     "text": [
      "Iteration 7 - Epoch 20:\n",
      "  Train Acc = 1.0000, Train Prec = 1.0000, Train Rec = 1.0000, Train F-Beta = 1.0000, Train Loss = 0.0004\n",
      "  Val Acc = 0.9687, Val Prec = 0.8378, Val Rec = 0.7750, Val F-Beta = 0.8245, Val Loss = 0.1900\n"
     ]
    },
    {
     "name": "stderr",
     "output_type": "stream",
     "text": [
      "Iteration 7 - Epoch 21 - Training: 100%|██████████| 60/60 [00:18<00:00,  3.24it/s]\n",
      "Iteration 7 - Epoch 21 - Validation: 100%|██████████| 15/15 [00:01<00:00,  9.86it/s]\n"
     ]
    },
    {
     "name": "stdout",
     "output_type": "stream",
     "text": [
      "Iteration 7 - Epoch 21:\n",
      "  Train Acc = 1.0000, Train Prec = 1.0000, Train Rec = 1.0000, Train F-Beta = 1.0000, Train Loss = 0.0003\n",
      "  Val Acc = 0.9687, Val Prec = 0.8378, Val Rec = 0.7750, Val F-Beta = 0.8245, Val Loss = 0.1944\n"
     ]
    },
    {
     "name": "stderr",
     "output_type": "stream",
     "text": [
      "Iteration 7 - Epoch 22 - Training: 100%|██████████| 60/60 [00:18<00:00,  3.23it/s]\n",
      "Iteration 7 - Epoch 22 - Validation: 100%|██████████| 15/15 [00:01<00:00,  9.86it/s]\n"
     ]
    },
    {
     "name": "stdout",
     "output_type": "stream",
     "text": [
      "Iteration 7 - Epoch 22:\n",
      "  Train Acc = 1.0000, Train Prec = 1.0000, Train Rec = 1.0000, Train F-Beta = 1.0000, Train Loss = 0.0003\n",
      "  Val Acc = 0.9666, Val Prec = 0.8158, Val Rec = 0.7750, Val F-Beta = 0.8073, Val Loss = 0.1977\n"
     ]
    },
    {
     "name": "stderr",
     "output_type": "stream",
     "text": [
      "Iteration 7 - Epoch 23 - Training: 100%|██████████| 60/60 [00:18<00:00,  3.24it/s]\n",
      "Iteration 7 - Epoch 23 - Validation: 100%|██████████| 15/15 [00:01<00:00,  9.66it/s]\n"
     ]
    },
    {
     "name": "stdout",
     "output_type": "stream",
     "text": [
      "Iteration 7 - Epoch 23:\n",
      "  Train Acc = 1.0000, Train Prec = 1.0000, Train Rec = 1.0000, Train F-Beta = 1.0000, Train Loss = 0.0003\n",
      "  Val Acc = 0.9666, Val Prec = 0.8158, Val Rec = 0.7750, Val F-Beta = 0.8073, Val Loss = 0.2016\n"
     ]
    },
    {
     "name": "stderr",
     "output_type": "stream",
     "text": [
      "Iteration 7 - Epoch 24 - Training: 100%|██████████| 60/60 [00:18<00:00,  3.25it/s]\n",
      "Iteration 7 - Epoch 24 - Validation: 100%|██████████| 15/15 [00:01<00:00,  9.81it/s]\n"
     ]
    },
    {
     "name": "stdout",
     "output_type": "stream",
     "text": [
      "Iteration 7 - Epoch 24:\n",
      "  Train Acc = 1.0000, Train Prec = 1.0000, Train Rec = 1.0000, Train F-Beta = 1.0000, Train Loss = 0.0002\n",
      "  Val Acc = 0.9666, Val Prec = 0.8158, Val Rec = 0.7750, Val F-Beta = 0.8073, Val Loss = 0.2059\n"
     ]
    },
    {
     "name": "stderr",
     "output_type": "stream",
     "text": [
      "Iteration 7 - Epoch 25 - Training: 100%|██████████| 60/60 [00:18<00:00,  3.26it/s]\n",
      "Iteration 7 - Epoch 25 - Validation: 100%|██████████| 15/15 [00:01<00:00,  9.79it/s]\n"
     ]
    },
    {
     "name": "stdout",
     "output_type": "stream",
     "text": [
      "Iteration 7 - Epoch 25:\n",
      "  Train Acc = 1.0000, Train Prec = 1.0000, Train Rec = 1.0000, Train F-Beta = 1.0000, Train Loss = 0.0002\n",
      "  Val Acc = 0.9666, Val Prec = 0.8158, Val Rec = 0.7750, Val F-Beta = 0.8073, Val Loss = 0.2100\n"
     ]
    },
    {
     "name": "stderr",
     "output_type": "stream",
     "text": [
      "Iteration 7 - Epoch 26 - Training: 100%|██████████| 60/60 [00:18<00:00,  3.25it/s]\n",
      "Iteration 7 - Epoch 26 - Validation: 100%|██████████| 15/15 [00:01<00:00,  9.75it/s]\n"
     ]
    },
    {
     "name": "stdout",
     "output_type": "stream",
     "text": [
      "Iteration 7 - Epoch 26:\n",
      "  Train Acc = 1.0000, Train Prec = 1.0000, Train Rec = 1.0000, Train F-Beta = 1.0000, Train Loss = 0.0002\n",
      "  Val Acc = 0.9666, Val Prec = 0.8158, Val Rec = 0.7750, Val F-Beta = 0.8073, Val Loss = 0.2126\n"
     ]
    },
    {
     "name": "stderr",
     "output_type": "stream",
     "text": [
      "Iteration 7 - Epoch 27 - Training: 100%|██████████| 60/60 [00:18<00:00,  3.20it/s]\n",
      "Iteration 7 - Epoch 27 - Validation: 100%|██████████| 15/15 [00:01<00:00,  9.77it/s]\n"
     ]
    },
    {
     "name": "stdout",
     "output_type": "stream",
     "text": [
      "Iteration 7 - Epoch 27:\n",
      "  Train Acc = 1.0000, Train Prec = 1.0000, Train Rec = 1.0000, Train F-Beta = 1.0000, Train Loss = 0.0002\n",
      "  Val Acc = 0.9666, Val Prec = 0.8000, Val Rec = 0.8000, Val F-Beta = 0.8000, Val Loss = 0.2223\n"
     ]
    },
    {
     "name": "stderr",
     "output_type": "stream",
     "text": [
      "Iteration 7 - Epoch 28 - Training: 100%|██████████| 60/60 [00:18<00:00,  3.19it/s]\n",
      "Iteration 7 - Epoch 28 - Validation: 100%|██████████| 15/15 [00:01<00:00,  9.40it/s]\n"
     ]
    },
    {
     "name": "stdout",
     "output_type": "stream",
     "text": [
      "Iteration 7 - Epoch 28:\n",
      "  Train Acc = 1.0000, Train Prec = 1.0000, Train Rec = 1.0000, Train F-Beta = 1.0000, Train Loss = 0.0001\n",
      "  Val Acc = 0.9666, Val Prec = 0.8000, Val Rec = 0.8000, Val F-Beta = 0.8000, Val Loss = 0.2259\n"
     ]
    },
    {
     "name": "stderr",
     "output_type": "stream",
     "text": [
      "Iteration 7 - Epoch 29 - Training: 100%|██████████| 60/60 [00:18<00:00,  3.20it/s]\n",
      "Iteration 7 - Epoch 29 - Validation: 100%|██████████| 15/15 [00:01<00:00,  9.74it/s]\n"
     ]
    },
    {
     "name": "stdout",
     "output_type": "stream",
     "text": [
      "Iteration 7 - Epoch 29:\n",
      "  Train Acc = 0.9995, Train Prec = 1.0000, Train Rec = 0.9945, Train F-Beta = 0.9989, Train Loss = 0.0009\n",
      "  Val Acc = 0.9562, Val Prec = 0.6792, Val Rec = 0.9000, Val F-Beta = 0.7143, Val Loss = 0.2875\n"
     ]
    },
    {
     "name": "stderr",
     "output_type": "stream",
     "text": [
      "Iteration 7 - Epoch 30 - Training: 100%|██████████| 60/60 [00:18<00:00,  3.20it/s]\n",
      "Iteration 7 - Epoch 30 - Validation: 100%|██████████| 15/15 [00:01<00:00,  9.73it/s]\n"
     ]
    },
    {
     "name": "stdout",
     "output_type": "stream",
     "text": [
      "Iteration 7 - Epoch 30:\n",
      "  Train Acc = 0.9963, Train Prec = 0.9888, Train Rec = 0.9725, Train F-Beta = 0.9855, Train Loss = 0.0226\n",
      "  Val Acc = 0.9541, Val Prec = 0.7812, Val Rec = 0.6250, Val F-Beta = 0.7440, Val Loss = 0.2155\n"
     ]
    },
    {
     "name": "stderr",
     "output_type": "stream",
     "text": [
      "Iteration 7 - Epoch 31 - Training: 100%|██████████| 60/60 [00:18<00:00,  3.22it/s]\n",
      "Iteration 7 - Epoch 31 - Validation: 100%|██████████| 15/15 [00:01<00:00,  9.67it/s]\n"
     ]
    },
    {
     "name": "stdout",
     "output_type": "stream",
     "text": [
      "Iteration 7 - Epoch 31:\n",
      "  Train Acc = 0.9979, Train Prec = 0.9837, Train Rec = 0.9945, Train F-Beta = 0.9858, Train Loss = 0.0048\n",
      "  Val Acc = 0.9562, Val Prec = 0.7879, Val Rec = 0.6500, Val F-Beta = 0.7558, Val Loss = 0.2289\n"
     ]
    },
    {
     "name": "stderr",
     "output_type": "stream",
     "text": [
      "Iteration 7 - Epoch 32 - Training: 100%|██████████| 60/60 [00:18<00:00,  3.24it/s]\n",
      "Iteration 7 - Epoch 32 - Validation: 100%|██████████| 15/15 [00:01<00:00,  9.80it/s]\n"
     ]
    },
    {
     "name": "stdout",
     "output_type": "stream",
     "text": [
      "Iteration 7 - Epoch 32:\n",
      "  Train Acc = 0.9990, Train Prec = 1.0000, Train Rec = 0.9890, Train F-Beta = 0.9978, Train Loss = 0.0041\n",
      "  Val Acc = 0.9541, Val Prec = 0.6957, Val Rec = 0.8000, Val F-Beta = 0.7143, Val Loss = 0.2387\n"
     ]
    },
    {
     "name": "stderr",
     "output_type": "stream",
     "text": [
      "Iteration 7 - Epoch 33 - Training: 100%|██████████| 60/60 [00:18<00:00,  3.26it/s]\n",
      "Iteration 7 - Epoch 33 - Validation: 100%|██████████| 15/15 [00:01<00:00,  9.70it/s]\n"
     ]
    },
    {
     "name": "stdout",
     "output_type": "stream",
     "text": [
      "Iteration 7 - Epoch 33:\n",
      "  Train Acc = 0.9990, Train Prec = 0.9945, Train Rec = 0.9945, Train F-Beta = 0.9945, Train Loss = 0.0025\n",
      "  Val Acc = 0.9645, Val Prec = 0.7674, Val Rec = 0.8250, Val F-Beta = 0.7783, Val Loss = 0.2160\n"
     ]
    },
    {
     "name": "stderr",
     "output_type": "stream",
     "text": [
      "Iteration 7 - Epoch 34 - Training: 100%|██████████| 60/60 [00:18<00:00,  3.27it/s]\n",
      "Iteration 7 - Epoch 34 - Validation: 100%|██████████| 15/15 [00:01<00:00,  9.89it/s]\n"
     ]
    },
    {
     "name": "stdout",
     "output_type": "stream",
     "text": [
      "Iteration 7 - Epoch 34:\n",
      "  Train Acc = 1.0000, Train Prec = 1.0000, Train Rec = 1.0000, Train F-Beta = 1.0000, Train Loss = 0.0003\n",
      "  Val Acc = 0.9624, Val Prec = 0.7500, Val Rec = 0.8250, Val F-Beta = 0.7639, Val Loss = 0.2457\n"
     ]
    },
    {
     "name": "stderr",
     "output_type": "stream",
     "text": [
      "Iteration 7 - Epoch 35 - Training: 100%|██████████| 60/60 [00:18<00:00,  3.26it/s]\n",
      "Iteration 7 - Epoch 35 - Validation: 100%|██████████| 15/15 [00:01<00:00,  9.64it/s]\n"
     ]
    },
    {
     "name": "stdout",
     "output_type": "stream",
     "text": [
      "Iteration 7 - Epoch 35:\n",
      "  Train Acc = 1.0000, Train Prec = 1.0000, Train Rec = 1.0000, Train F-Beta = 1.0000, Train Loss = 0.0002\n",
      "  Val Acc = 0.9624, Val Prec = 0.7500, Val Rec = 0.8250, Val F-Beta = 0.7639, Val Loss = 0.2493\n"
     ]
    },
    {
     "name": "stderr",
     "output_type": "stream",
     "text": [
      "Iteration 7 - Epoch 36 - Training: 100%|██████████| 60/60 [00:18<00:00,  3.21it/s]\n",
      "Iteration 7 - Epoch 36 - Validation: 100%|██████████| 15/15 [00:01<00:00,  9.54it/s]\n"
     ]
    },
    {
     "name": "stdout",
     "output_type": "stream",
     "text": [
      "Iteration 7 - Epoch 36:\n",
      "  Train Acc = 1.0000, Train Prec = 1.0000, Train Rec = 1.0000, Train F-Beta = 1.0000, Train Loss = 0.0002\n",
      "  Val Acc = 0.9645, Val Prec = 0.7805, Val Rec = 0.8000, Val F-Beta = 0.7843, Val Loss = 0.2415\n"
     ]
    },
    {
     "name": "stderr",
     "output_type": "stream",
     "text": [
      "Iteration 7 - Epoch 37 - Training: 100%|██████████| 60/60 [00:18<00:00,  3.25it/s]\n",
      "Iteration 7 - Epoch 37 - Validation: 100%|██████████| 15/15 [00:01<00:00,  9.88it/s]\n"
     ]
    },
    {
     "name": "stdout",
     "output_type": "stream",
     "text": [
      "Iteration 7 - Epoch 37:\n",
      "  Train Acc = 1.0000, Train Prec = 1.0000, Train Rec = 1.0000, Train F-Beta = 1.0000, Train Loss = 0.0002\n",
      "  Val Acc = 0.9624, Val Prec = 0.8235, Val Rec = 0.7000, Val F-Beta = 0.7955, Val Loss = 0.2474\n"
     ]
    },
    {
     "name": "stderr",
     "output_type": "stream",
     "text": [
      "Iteration 7 - Epoch 38 - Training: 100%|██████████| 60/60 [00:18<00:00,  3.28it/s]\n",
      "Iteration 7 - Epoch 38 - Validation: 100%|██████████| 15/15 [00:01<00:00,  9.82it/s]\n"
     ]
    },
    {
     "name": "stdout",
     "output_type": "stream",
     "text": [
      "Iteration 7 - Epoch 38:\n",
      "  Train Acc = 1.0000, Train Prec = 1.0000, Train Rec = 1.0000, Train F-Beta = 1.0000, Train Loss = 0.0001\n",
      "  Val Acc = 0.9603, Val Prec = 0.8000, Val Rec = 0.7000, Val F-Beta = 0.7778, Val Loss = 0.2499\n"
     ]
    },
    {
     "name": "stderr",
     "output_type": "stream",
     "text": [
      "Iteration 7 - Epoch 39 - Training: 100%|██████████| 60/60 [00:18<00:00,  3.26it/s]\n",
      "Iteration 7 - Epoch 39 - Validation: 100%|██████████| 15/15 [00:01<00:00,  9.63it/s]\n"
     ]
    },
    {
     "name": "stdout",
     "output_type": "stream",
     "text": [
      "Iteration 7 - Epoch 39:\n",
      "  Train Acc = 1.0000, Train Prec = 1.0000, Train Rec = 1.0000, Train F-Beta = 1.0000, Train Loss = 0.0001\n",
      "  Val Acc = 0.9603, Val Prec = 0.8000, Val Rec = 0.7000, Val F-Beta = 0.7778, Val Loss = 0.2520\n"
     ]
    },
    {
     "name": "stderr",
     "output_type": "stream",
     "text": [
      "Iteration 7 - Epoch 40 - Training: 100%|██████████| 60/60 [00:18<00:00,  3.24it/s]\n",
      "Iteration 7 - Epoch 40 - Validation: 100%|██████████| 15/15 [00:01<00:00,  9.80it/s]\n"
     ]
    },
    {
     "name": "stdout",
     "output_type": "stream",
     "text": [
      "Iteration 7 - Epoch 40:\n",
      "  Train Acc = 1.0000, Train Prec = 1.0000, Train Rec = 1.0000, Train F-Beta = 1.0000, Train Loss = 0.0001\n",
      "  Val Acc = 0.9603, Val Prec = 0.7838, Val Rec = 0.7250, Val F-Beta = 0.7713, Val Loss = 0.2541\n"
     ]
    },
    {
     "name": "stderr",
     "output_type": "stream",
     "text": [
      "Iteration 7 - Epoch 41 - Training: 100%|██████████| 60/60 [00:18<00:00,  3.26it/s]\n",
      "Iteration 7 - Epoch 41 - Validation: 100%|██████████| 15/15 [00:01<00:00,  9.78it/s]\n"
     ]
    },
    {
     "name": "stdout",
     "output_type": "stream",
     "text": [
      "Iteration 7 - Epoch 41:\n",
      "  Train Acc = 1.0000, Train Prec = 1.0000, Train Rec = 1.0000, Train F-Beta = 1.0000, Train Loss = 0.0001\n",
      "  Val Acc = 0.9687, Val Prec = 0.8049, Val Rec = 0.8250, Val F-Beta = 0.8088, Val Loss = 0.2595\n"
     ]
    },
    {
     "name": "stderr",
     "output_type": "stream",
     "text": [
      "Iteration 7 - Epoch 42 - Training: 100%|██████████| 60/60 [00:18<00:00,  3.25it/s]\n",
      "Iteration 7 - Epoch 42 - Validation: 100%|██████████| 15/15 [00:01<00:00,  9.74it/s]\n"
     ]
    },
    {
     "name": "stdout",
     "output_type": "stream",
     "text": [
      "Iteration 7 - Epoch 42:\n",
      "  Train Acc = 1.0000, Train Prec = 1.0000, Train Rec = 1.0000, Train F-Beta = 1.0000, Train Loss = 0.0001\n",
      "  Val Acc = 0.9687, Val Prec = 0.8049, Val Rec = 0.8250, Val F-Beta = 0.8088, Val Loss = 0.2637\n"
     ]
    },
    {
     "name": "stderr",
     "output_type": "stream",
     "text": [
      "Iteration 7 - Epoch 43 - Training: 100%|██████████| 60/60 [00:18<00:00,  3.22it/s]\n",
      "Iteration 7 - Epoch 43 - Validation: 100%|██████████| 15/15 [00:01<00:00,  9.80it/s]\n"
     ]
    },
    {
     "name": "stdout",
     "output_type": "stream",
     "text": [
      "Iteration 7 - Epoch 43:\n",
      "  Train Acc = 0.9990, Train Prec = 0.9945, Train Rec = 0.9945, Train F-Beta = 0.9945, Train Loss = 0.0105\n",
      "  Val Acc = 0.9562, Val Prec = 0.6863, Val Rec = 0.8750, Val F-Beta = 0.7172, Val Loss = 0.2910\n"
     ]
    },
    {
     "name": "stderr",
     "output_type": "stream",
     "text": [
      "Iteration 7 - Epoch 44 - Training: 100%|██████████| 60/60 [00:18<00:00,  3.26it/s]\n",
      "Iteration 7 - Epoch 44 - Validation: 100%|██████████| 15/15 [00:01<00:00,  9.79it/s]\n"
     ]
    },
    {
     "name": "stdout",
     "output_type": "stream",
     "text": [
      "Iteration 7 - Epoch 44:\n",
      "  Train Acc = 1.0000, Train Prec = 1.0000, Train Rec = 1.0000, Train F-Beta = 1.0000, Train Loss = 0.0004\n",
      "  Val Acc = 0.9624, Val Prec = 0.7750, Val Rec = 0.7750, Val F-Beta = 0.7750, Val Loss = 0.2427\n"
     ]
    },
    {
     "name": "stderr",
     "output_type": "stream",
     "text": [
      "Iteration 7 - Epoch 45 - Training: 100%|██████████| 60/60 [00:18<00:00,  3.26it/s]\n",
      "Iteration 7 - Epoch 45 - Validation: 100%|██████████| 15/15 [00:01<00:00,  9.80it/s]\n"
     ]
    },
    {
     "name": "stdout",
     "output_type": "stream",
     "text": [
      "Iteration 7 - Epoch 45:\n",
      "  Train Acc = 1.0000, Train Prec = 1.0000, Train Rec = 1.0000, Train F-Beta = 1.0000, Train Loss = 0.0002\n",
      "  Val Acc = 0.9624, Val Prec = 0.7750, Val Rec = 0.7750, Val F-Beta = 0.7750, Val Loss = 0.2537\n"
     ]
    },
    {
     "name": "stderr",
     "output_type": "stream",
     "text": [
      "Iteration 7 - Epoch 46 - Training: 100%|██████████| 60/60 [00:18<00:00,  3.25it/s]\n",
      "Iteration 7 - Epoch 46 - Validation: 100%|██████████| 15/15 [00:01<00:00,  9.78it/s]\n"
     ]
    },
    {
     "name": "stdout",
     "output_type": "stream",
     "text": [
      "Iteration 7 - Epoch 46:\n",
      "  Train Acc = 1.0000, Train Prec = 1.0000, Train Rec = 1.0000, Train F-Beta = 1.0000, Train Loss = 0.0001\n",
      "  Val Acc = 0.9624, Val Prec = 0.7750, Val Rec = 0.7750, Val F-Beta = 0.7750, Val Loss = 0.2607\n"
     ]
    },
    {
     "name": "stderr",
     "output_type": "stream",
     "text": [
      "Iteration 7 - Epoch 47 - Training: 100%|██████████| 60/60 [00:18<00:00,  3.25it/s]\n",
      "Iteration 7 - Epoch 47 - Validation: 100%|██████████| 15/15 [00:01<00:00,  9.69it/s]\n"
     ]
    },
    {
     "name": "stdout",
     "output_type": "stream",
     "text": [
      "Iteration 7 - Epoch 47:\n",
      "  Train Acc = 1.0000, Train Prec = 1.0000, Train Rec = 1.0000, Train F-Beta = 1.0000, Train Loss = 0.0001\n",
      "  Val Acc = 0.9624, Val Prec = 0.7750, Val Rec = 0.7750, Val F-Beta = 0.7750, Val Loss = 0.2663\n"
     ]
    },
    {
     "name": "stderr",
     "output_type": "stream",
     "text": [
      "Iteration 7 - Epoch 48 - Training: 100%|██████████| 60/60 [00:18<00:00,  3.26it/s]\n",
      "Iteration 7 - Epoch 48 - Validation: 100%|██████████| 15/15 [00:01<00:00,  9.71it/s]\n"
     ]
    },
    {
     "name": "stdout",
     "output_type": "stream",
     "text": [
      "Iteration 7 - Epoch 48:\n",
      "  Train Acc = 1.0000, Train Prec = 1.0000, Train Rec = 1.0000, Train F-Beta = 1.0000, Train Loss = 0.0001\n",
      "  Val Acc = 0.9624, Val Prec = 0.7750, Val Rec = 0.7750, Val F-Beta = 0.7750, Val Loss = 0.2704\n"
     ]
    },
    {
     "name": "stderr",
     "output_type": "stream",
     "text": [
      "Iteration 7 - Epoch 49 - Training: 100%|██████████| 60/60 [00:18<00:00,  3.25it/s]\n",
      "Iteration 7 - Epoch 49 - Validation: 100%|██████████| 15/15 [00:01<00:00,  9.82it/s]\n"
     ]
    },
    {
     "name": "stdout",
     "output_type": "stream",
     "text": [
      "Iteration 7 - Epoch 49:\n",
      "  Train Acc = 1.0000, Train Prec = 1.0000, Train Rec = 1.0000, Train F-Beta = 1.0000, Train Loss = 0.0001\n",
      "  Val Acc = 0.9624, Val Prec = 0.7750, Val Rec = 0.7750, Val F-Beta = 0.7750, Val Loss = 0.2745\n"
     ]
    },
    {
     "name": "stderr",
     "output_type": "stream",
     "text": [
      "Iteration 7 - Epoch 50 - Training: 100%|██████████| 60/60 [00:18<00:00,  3.25it/s]\n",
      "Iteration 7 - Epoch 50 - Validation: 100%|██████████| 15/15 [00:01<00:00,  9.75it/s]\n"
     ]
    },
    {
     "name": "stdout",
     "output_type": "stream",
     "text": [
      "Iteration 7 - Epoch 50:\n",
      "  Train Acc = 1.0000, Train Prec = 1.0000, Train Rec = 1.0000, Train F-Beta = 1.0000, Train Loss = 0.0001\n",
      "  Val Acc = 0.9624, Val Prec = 0.7750, Val Rec = 0.7750, Val F-Beta = 0.7750, Val Loss = 0.2792\n",
      "Iteration 8/10\n"
     ]
    },
    {
     "name": "stderr",
     "output_type": "stream",
     "text": [
      "Some weights of ElectraForSequenceClassification were not initialized from the model checkpoint at beomi/KcELECTRA-base-v2022 and are newly initialized: ['classifier.dense.bias', 'classifier.dense.weight', 'classifier.out_proj.bias', 'classifier.out_proj.weight']\n",
      "You should probably TRAIN this model on a down-stream task to be able to use it for predictions and inference.\n",
      "Iteration 8 - Epoch 1 - Training: 100%|██████████| 60/60 [00:18<00:00,  3.28it/s]\n",
      "Iteration 8 - Epoch 1 - Validation: 100%|██████████| 15/15 [00:01<00:00,  9.82it/s]\n",
      "/home/retn0/repositories/nbsp1221/communav/.venv/lib/python3.10/site-packages/sklearn/metrics/_classification.py:1509: UndefinedMetricWarning: Precision is ill-defined and being set to 0.0 due to no predicted samples. Use `zero_division` parameter to control this behavior.\n",
      "  _warn_prf(average, modifier, f\"{metric.capitalize()} is\", len(result))\n"
     ]
    },
    {
     "name": "stdout",
     "output_type": "stream",
     "text": [
      "Iteration 8 - Epoch 1:\n",
      "  Train Acc = 0.8986, Train Prec = 0.0000, Train Rec = 0.0000, Train F-Beta = 0.0000, Train Loss = 0.3329\n",
      "  Val Acc = 0.9165, Val Prec = 0.0000, Val Rec = 0.0000, Val F-Beta = 0.0000, Val Loss = 0.1854\n"
     ]
    },
    {
     "name": "stderr",
     "output_type": "stream",
     "text": [
      "Iteration 8 - Epoch 2 - Training: 100%|██████████| 60/60 [00:18<00:00,  3.22it/s]\n",
      "Iteration 8 - Epoch 2 - Validation: 100%|██████████| 15/15 [00:01<00:00,  9.80it/s]\n"
     ]
    },
    {
     "name": "stdout",
     "output_type": "stream",
     "text": [
      "Iteration 8 - Epoch 2:\n",
      "  Train Acc = 0.9273, Train Prec = 0.7172, Train Rec = 0.3901, Train F-Beta = 0.6142, Train Loss = 0.1654\n",
      "  Val Acc = 0.9603, Val Prec = 0.7692, Val Rec = 0.7500, Val F-Beta = 0.7653, Val Loss = 0.1209\n",
      "  Better model saved with 0.7653 F-beta score.\n"
     ]
    },
    {
     "name": "stderr",
     "output_type": "stream",
     "text": [
      "Iteration 8 - Epoch 3 - Training: 100%|██████████| 60/60 [00:18<00:00,  3.23it/s]\n",
      "Iteration 8 - Epoch 3 - Validation: 100%|██████████| 15/15 [00:01<00:00,  9.68it/s]\n"
     ]
    },
    {
     "name": "stdout",
     "output_type": "stream",
     "text": [
      "Iteration 8 - Epoch 3:\n",
      "  Train Acc = 0.9686, Train Prec = 0.8112, Train Rec = 0.8736, Train F-Beta = 0.8230, Train Loss = 0.0977\n",
      "  Val Acc = 0.9645, Val Prec = 0.7805, Val Rec = 0.8000, Val F-Beta = 0.7843, Val Loss = 0.1101\n",
      "  Better model saved with 0.7843 F-beta score.\n"
     ]
    },
    {
     "name": "stderr",
     "output_type": "stream",
     "text": [
      "Iteration 8 - Epoch 4 - Training: 100%|██████████| 60/60 [00:18<00:00,  3.24it/s]\n",
      "Iteration 8 - Epoch 4 - Validation: 100%|██████████| 15/15 [00:01<00:00,  9.74it/s]\n"
     ]
    },
    {
     "name": "stdout",
     "output_type": "stream",
     "text": [
      "Iteration 8 - Epoch 4:\n",
      "  Train Acc = 0.9854, Train Prec = 0.9096, Train Rec = 0.9396, Train F-Beta = 0.9154, Train Loss = 0.0525\n",
      "  Val Acc = 0.9248, Val Prec = 0.5312, Val Rec = 0.8500, Val F-Beta = 0.5743, Val Loss = 0.1592\n"
     ]
    },
    {
     "name": "stderr",
     "output_type": "stream",
     "text": [
      "Iteration 8 - Epoch 5 - Training: 100%|██████████| 60/60 [00:18<00:00,  3.22it/s]\n",
      "Iteration 8 - Epoch 5 - Validation: 100%|██████████| 15/15 [00:01<00:00,  9.74it/s]\n"
     ]
    },
    {
     "name": "stdout",
     "output_type": "stream",
     "text": [
      "Iteration 8 - Epoch 5:\n",
      "  Train Acc = 0.9875, Train Prec = 0.9247, Train Rec = 0.9451, Train F-Beta = 0.9287, Train Loss = 0.0421\n",
      "  Val Acc = 0.9520, Val Prec = 0.6735, Val Rec = 0.8250, Val F-Beta = 0.6992, Val Loss = 0.1447\n"
     ]
    },
    {
     "name": "stderr",
     "output_type": "stream",
     "text": [
      "Iteration 8 - Epoch 6 - Training: 100%|██████████| 60/60 [00:18<00:00,  3.25it/s]\n",
      "Iteration 8 - Epoch 6 - Validation: 100%|██████████| 15/15 [00:01<00:00,  9.67it/s]\n"
     ]
    },
    {
     "name": "stdout",
     "output_type": "stream",
     "text": [
      "Iteration 8 - Epoch 6:\n",
      "  Train Acc = 0.9958, Train Prec = 0.9780, Train Rec = 0.9780, Train F-Beta = 0.9780, Train Loss = 0.0202\n",
      "  Val Acc = 0.9520, Val Prec = 0.6667, Val Rec = 0.8500, Val F-Beta = 0.6967, Val Loss = 0.1729\n"
     ]
    },
    {
     "name": "stderr",
     "output_type": "stream",
     "text": [
      "Iteration 8 - Epoch 7 - Training: 100%|██████████| 60/60 [00:18<00:00,  3.26it/s]\n",
      "Iteration 8 - Epoch 7 - Validation: 100%|██████████| 15/15 [00:01<00:00,  9.70it/s]\n"
     ]
    },
    {
     "name": "stdout",
     "output_type": "stream",
     "text": [
      "Iteration 8 - Epoch 7:\n",
      "  Train Acc = 0.9958, Train Prec = 0.9888, Train Rec = 0.9670, Train F-Beta = 0.9843, Train Loss = 0.0173\n",
      "  Val Acc = 0.9290, Val Prec = 0.5441, Val Rec = 0.9250, Val F-Beta = 0.5929, Val Loss = 0.2244\n"
     ]
    },
    {
     "name": "stderr",
     "output_type": "stream",
     "text": [
      "Iteration 8 - Epoch 8 - Training: 100%|██████████| 60/60 [00:18<00:00,  3.25it/s]\n",
      "Iteration 8 - Epoch 8 - Validation: 100%|██████████| 15/15 [00:01<00:00,  9.87it/s]\n"
     ]
    },
    {
     "name": "stdout",
     "output_type": "stream",
     "text": [
      "Iteration 8 - Epoch 8:\n",
      "  Train Acc = 0.9963, Train Prec = 0.9834, Train Rec = 0.9780, Train F-Beta = 0.9823, Train Loss = 0.0155\n",
      "  Val Acc = 0.9645, Val Prec = 0.7805, Val Rec = 0.8000, Val F-Beta = 0.7843, Val Loss = 0.1760\n"
     ]
    },
    {
     "name": "stderr",
     "output_type": "stream",
     "text": [
      "Iteration 8 - Epoch 9 - Training: 100%|██████████| 60/60 [00:18<00:00,  3.28it/s]\n",
      "Iteration 8 - Epoch 9 - Validation: 100%|██████████| 15/15 [00:01<00:00,  9.72it/s]\n"
     ]
    },
    {
     "name": "stdout",
     "output_type": "stream",
     "text": [
      "Iteration 8 - Epoch 9:\n",
      "  Train Acc = 0.9974, Train Prec = 0.9836, Train Rec = 0.9890, Train F-Beta = 0.9847, Train Loss = 0.0072\n",
      "  Val Acc = 0.9645, Val Prec = 0.7805, Val Rec = 0.8000, Val F-Beta = 0.7843, Val Loss = 0.1767\n"
     ]
    },
    {
     "name": "stderr",
     "output_type": "stream",
     "text": [
      "Iteration 8 - Epoch 10 - Training: 100%|██████████| 60/60 [00:18<00:00,  3.26it/s]\n",
      "Iteration 8 - Epoch 10 - Validation: 100%|██████████| 15/15 [00:01<00:00,  9.79it/s]\n"
     ]
    },
    {
     "name": "stdout",
     "output_type": "stream",
     "text": [
      "Iteration 8 - Epoch 10:\n",
      "  Train Acc = 1.0000, Train Prec = 1.0000, Train Rec = 1.0000, Train F-Beta = 1.0000, Train Loss = 0.0019\n",
      "  Val Acc = 0.9582, Val Prec = 0.7174, Val Rec = 0.8250, Val F-Beta = 0.7366, Val Loss = 0.1913\n"
     ]
    },
    {
     "name": "stderr",
     "output_type": "stream",
     "text": [
      "Iteration 8 - Epoch 11 - Training: 100%|██████████| 60/60 [00:18<00:00,  3.24it/s]\n",
      "Iteration 8 - Epoch 11 - Validation: 100%|██████████| 15/15 [00:01<00:00,  9.75it/s]\n"
     ]
    },
    {
     "name": "stdout",
     "output_type": "stream",
     "text": [
      "Iteration 8 - Epoch 11:\n",
      "  Train Acc = 1.0000, Train Prec = 1.0000, Train Rec = 1.0000, Train F-Beta = 1.0000, Train Loss = 0.0011\n",
      "  Val Acc = 0.9645, Val Prec = 0.7674, Val Rec = 0.8250, Val F-Beta = 0.7783, Val Loss = 0.1983\n"
     ]
    },
    {
     "name": "stderr",
     "output_type": "stream",
     "text": [
      "Iteration 8 - Epoch 12 - Training: 100%|██████████| 60/60 [00:18<00:00,  3.25it/s]\n",
      "Iteration 8 - Epoch 12 - Validation: 100%|██████████| 15/15 [00:01<00:00,  9.56it/s]\n"
     ]
    },
    {
     "name": "stdout",
     "output_type": "stream",
     "text": [
      "Iteration 8 - Epoch 12:\n",
      "  Train Acc = 1.0000, Train Prec = 1.0000, Train Rec = 1.0000, Train F-Beta = 1.0000, Train Loss = 0.0008\n",
      "  Val Acc = 0.9603, Val Prec = 0.7333, Val Rec = 0.8250, Val F-Beta = 0.7500, Val Loss = 0.2124\n"
     ]
    },
    {
     "name": "stderr",
     "output_type": "stream",
     "text": [
      "Iteration 8 - Epoch 13 - Training: 100%|██████████| 60/60 [00:18<00:00,  3.22it/s]\n",
      "Iteration 8 - Epoch 13 - Validation: 100%|██████████| 15/15 [00:01<00:00,  9.60it/s]\n"
     ]
    },
    {
     "name": "stdout",
     "output_type": "stream",
     "text": [
      "Iteration 8 - Epoch 13:\n",
      "  Train Acc = 1.0000, Train Prec = 1.0000, Train Rec = 1.0000, Train F-Beta = 1.0000, Train Loss = 0.0007\n",
      "  Val Acc = 0.9603, Val Prec = 0.7333, Val Rec = 0.8250, Val F-Beta = 0.7500, Val Loss = 0.2212\n"
     ]
    },
    {
     "name": "stderr",
     "output_type": "stream",
     "text": [
      "Iteration 8 - Epoch 14 - Training: 100%|██████████| 60/60 [00:18<00:00,  3.23it/s]\n",
      "Iteration 8 - Epoch 14 - Validation: 100%|██████████| 15/15 [00:01<00:00,  9.89it/s]\n"
     ]
    },
    {
     "name": "stdout",
     "output_type": "stream",
     "text": [
      "Iteration 8 - Epoch 14:\n",
      "  Train Acc = 1.0000, Train Prec = 1.0000, Train Rec = 1.0000, Train F-Beta = 1.0000, Train Loss = 0.0006\n",
      "  Val Acc = 0.9603, Val Prec = 0.7333, Val Rec = 0.8250, Val F-Beta = 0.7500, Val Loss = 0.2273\n"
     ]
    },
    {
     "name": "stderr",
     "output_type": "stream",
     "text": [
      "Iteration 8 - Epoch 15 - Training: 100%|██████████| 60/60 [00:18<00:00,  3.25it/s]\n",
      "Iteration 8 - Epoch 15 - Validation: 100%|██████████| 15/15 [00:01<00:00,  9.75it/s]\n"
     ]
    },
    {
     "name": "stdout",
     "output_type": "stream",
     "text": [
      "Iteration 8 - Epoch 15:\n",
      "  Train Acc = 1.0000, Train Prec = 1.0000, Train Rec = 1.0000, Train F-Beta = 1.0000, Train Loss = 0.0004\n",
      "  Val Acc = 0.9603, Val Prec = 0.7333, Val Rec = 0.8250, Val F-Beta = 0.7500, Val Loss = 0.2332\n"
     ]
    },
    {
     "name": "stderr",
     "output_type": "stream",
     "text": [
      "Iteration 8 - Epoch 16 - Training: 100%|██████████| 60/60 [00:18<00:00,  3.26it/s]\n",
      "Iteration 8 - Epoch 16 - Validation: 100%|██████████| 15/15 [00:01<00:00,  9.80it/s]\n"
     ]
    },
    {
     "name": "stdout",
     "output_type": "stream",
     "text": [
      "Iteration 8 - Epoch 16:\n",
      "  Train Acc = 0.9995, Train Prec = 1.0000, Train Rec = 0.9945, Train F-Beta = 0.9989, Train Loss = 0.0047\n",
      "  Val Acc = 0.9603, Val Prec = 0.7333, Val Rec = 0.8250, Val F-Beta = 0.7500, Val Loss = 0.2276\n"
     ]
    },
    {
     "name": "stderr",
     "output_type": "stream",
     "text": [
      "Iteration 8 - Epoch 17 - Training: 100%|██████████| 60/60 [00:18<00:00,  3.22it/s]\n",
      "Iteration 8 - Epoch 17 - Validation: 100%|██████████| 15/15 [00:01<00:00,  9.68it/s]\n"
     ]
    },
    {
     "name": "stdout",
     "output_type": "stream",
     "text": [
      "Iteration 8 - Epoch 17:\n",
      "  Train Acc = 1.0000, Train Prec = 1.0000, Train Rec = 1.0000, Train F-Beta = 1.0000, Train Loss = 0.0005\n",
      "  Val Acc = 0.9624, Val Prec = 0.7500, Val Rec = 0.8250, Val F-Beta = 0.7639, Val Loss = 0.2308\n"
     ]
    },
    {
     "name": "stderr",
     "output_type": "stream",
     "text": [
      "Iteration 8 - Epoch 18 - Training: 100%|██████████| 60/60 [00:18<00:00,  3.25it/s]\n",
      "Iteration 8 - Epoch 18 - Validation: 100%|██████████| 15/15 [00:01<00:00,  9.72it/s]\n"
     ]
    },
    {
     "name": "stdout",
     "output_type": "stream",
     "text": [
      "Iteration 8 - Epoch 18:\n",
      "  Train Acc = 0.9995, Train Prec = 1.0000, Train Rec = 0.9945, Train F-Beta = 0.9989, Train Loss = 0.0015\n",
      "  Val Acc = 0.9269, Val Prec = 0.5352, Val Rec = 0.9500, Val F-Beta = 0.5864, Val Loss = 0.4060\n"
     ]
    },
    {
     "name": "stderr",
     "output_type": "stream",
     "text": [
      "Iteration 8 - Epoch 19 - Training: 100%|██████████| 60/60 [00:18<00:00,  3.23it/s]\n",
      "Iteration 8 - Epoch 19 - Validation: 100%|██████████| 15/15 [00:01<00:00,  9.55it/s]\n"
     ]
    },
    {
     "name": "stdout",
     "output_type": "stream",
     "text": [
      "Iteration 8 - Epoch 19:\n",
      "  Train Acc = 0.9801, Train Prec = 0.9045, Train Rec = 0.8846, Train F-Beta = 0.9004, Train Loss = 0.0654\n",
      "  Val Acc = 0.9499, Val Prec = 0.6379, Val Rec = 0.9250, Val F-Beta = 0.6801, Val Loss = 0.1377\n"
     ]
    },
    {
     "name": "stderr",
     "output_type": "stream",
     "text": [
      "Iteration 8 - Epoch 20 - Training: 100%|██████████| 60/60 [00:18<00:00,  3.21it/s]\n",
      "Iteration 8 - Epoch 20 - Validation: 100%|██████████| 15/15 [00:01<00:00,  9.70it/s]\n"
     ]
    },
    {
     "name": "stdout",
     "output_type": "stream",
     "text": [
      "Iteration 8 - Epoch 20:\n",
      "  Train Acc = 0.9969, Train Prec = 0.9731, Train Rec = 0.9945, Train F-Beta = 0.9773, Train Loss = 0.0103\n",
      "  Val Acc = 0.9603, Val Prec = 0.7234, Val Rec = 0.8500, Val F-Beta = 0.7456, Val Loss = 0.1884\n"
     ]
    },
    {
     "name": "stderr",
     "output_type": "stream",
     "text": [
      "Iteration 8 - Epoch 21 - Training: 100%|██████████| 60/60 [00:18<00:00,  3.22it/s]\n",
      "Iteration 8 - Epoch 21 - Validation: 100%|██████████| 15/15 [00:01<00:00,  9.67it/s]\n"
     ]
    },
    {
     "name": "stdout",
     "output_type": "stream",
     "text": [
      "Iteration 8 - Epoch 21:\n",
      "  Train Acc = 0.9984, Train Prec = 0.9891, Train Rec = 0.9945, Train F-Beta = 0.9902, Train Loss = 0.0075\n",
      "  Val Acc = 0.9645, Val Prec = 0.8286, Val Rec = 0.7250, Val F-Beta = 0.8056, Val Loss = 0.1936\n",
      "  Better model saved with 0.8056 F-beta score.\n"
     ]
    },
    {
     "name": "stderr",
     "output_type": "stream",
     "text": [
      "Iteration 8 - Epoch 22 - Training: 100%|██████████| 60/60 [00:18<00:00,  3.24it/s]\n",
      "Iteration 8 - Epoch 22 - Validation: 100%|██████████| 15/15 [00:01<00:00,  9.80it/s]\n"
     ]
    },
    {
     "name": "stdout",
     "output_type": "stream",
     "text": [
      "Iteration 8 - Epoch 22:\n",
      "  Train Acc = 0.9948, Train Prec = 0.9674, Train Rec = 0.9780, Train F-Beta = 0.9695, Train Loss = 0.0176\n",
      "  Val Acc = 0.9708, Val Prec = 0.8250, Val Rec = 0.8250, Val F-Beta = 0.8250, Val Loss = 0.1533\n",
      "  Better model saved with 0.8250 F-beta score.\n"
     ]
    },
    {
     "name": "stderr",
     "output_type": "stream",
     "text": [
      "Iteration 8 - Epoch 23 - Training: 100%|██████████| 60/60 [00:18<00:00,  3.27it/s]\n",
      "Iteration 8 - Epoch 23 - Validation: 100%|██████████| 15/15 [00:01<00:00,  9.83it/s]\n"
     ]
    },
    {
     "name": "stdout",
     "output_type": "stream",
     "text": [
      "Iteration 8 - Epoch 23:\n",
      "  Train Acc = 1.0000, Train Prec = 1.0000, Train Rec = 1.0000, Train F-Beta = 1.0000, Train Loss = 0.0014\n",
      "  Val Acc = 0.9666, Val Prec = 0.7857, Val Rec = 0.8250, Val F-Beta = 0.7933, Val Loss = 0.1711\n"
     ]
    },
    {
     "name": "stderr",
     "output_type": "stream",
     "text": [
      "Iteration 8 - Epoch 24 - Training: 100%|██████████| 60/60 [00:18<00:00,  3.27it/s]\n",
      "Iteration 8 - Epoch 24 - Validation: 100%|██████████| 15/15 [00:01<00:00,  9.77it/s]\n"
     ]
    },
    {
     "name": "stdout",
     "output_type": "stream",
     "text": [
      "Iteration 8 - Epoch 24:\n",
      "  Train Acc = 1.0000, Train Prec = 1.0000, Train Rec = 1.0000, Train F-Beta = 1.0000, Train Loss = 0.0009\n",
      "  Val Acc = 0.9729, Val Prec = 0.8462, Val Rec = 0.8250, Val F-Beta = 0.8418, Val Loss = 0.1780\n",
      "  Better model saved with 0.8418 F-beta score.\n"
     ]
    },
    {
     "name": "stderr",
     "output_type": "stream",
     "text": [
      "Iteration 8 - Epoch 25 - Training: 100%|██████████| 60/60 [00:18<00:00,  3.26it/s]\n",
      "Iteration 8 - Epoch 25 - Validation: 100%|██████████| 15/15 [00:01<00:00,  9.84it/s]\n"
     ]
    },
    {
     "name": "stdout",
     "output_type": "stream",
     "text": [
      "Iteration 8 - Epoch 25:\n",
      "  Train Acc = 0.9995, Train Prec = 1.0000, Train Rec = 0.9945, Train F-Beta = 0.9989, Train Loss = 0.0009\n",
      "  Val Acc = 0.9687, Val Prec = 0.8049, Val Rec = 0.8250, Val F-Beta = 0.8088, Val Loss = 0.1865\n"
     ]
    },
    {
     "name": "stderr",
     "output_type": "stream",
     "text": [
      "Iteration 8 - Epoch 26 - Training: 100%|██████████| 60/60 [00:18<00:00,  3.26it/s]\n",
      "Iteration 8 - Epoch 26 - Validation: 100%|██████████| 15/15 [00:01<00:00,  9.75it/s]\n"
     ]
    },
    {
     "name": "stdout",
     "output_type": "stream",
     "text": [
      "Iteration 8 - Epoch 26:\n",
      "  Train Acc = 1.0000, Train Prec = 1.0000, Train Rec = 1.0000, Train F-Beta = 1.0000, Train Loss = 0.0004\n",
      "  Val Acc = 0.9687, Val Prec = 0.8049, Val Rec = 0.8250, Val F-Beta = 0.8088, Val Loss = 0.1934\n"
     ]
    },
    {
     "name": "stderr",
     "output_type": "stream",
     "text": [
      "Iteration 8 - Epoch 27 - Training: 100%|██████████| 60/60 [00:18<00:00,  3.26it/s]\n",
      "Iteration 8 - Epoch 27 - Validation: 100%|██████████| 15/15 [00:01<00:00,  9.79it/s]\n"
     ]
    },
    {
     "name": "stdout",
     "output_type": "stream",
     "text": [
      "Iteration 8 - Epoch 27:\n",
      "  Train Acc = 1.0000, Train Prec = 1.0000, Train Rec = 1.0000, Train F-Beta = 1.0000, Train Loss = 0.0006\n",
      "  Val Acc = 0.9687, Val Prec = 0.8049, Val Rec = 0.8250, Val F-Beta = 0.8088, Val Loss = 0.2004\n"
     ]
    },
    {
     "name": "stderr",
     "output_type": "stream",
     "text": [
      "Iteration 8 - Epoch 28 - Training: 100%|██████████| 60/60 [00:18<00:00,  3.24it/s]\n",
      "Iteration 8 - Epoch 28 - Validation: 100%|██████████| 15/15 [00:01<00:00,  9.72it/s]\n"
     ]
    },
    {
     "name": "stdout",
     "output_type": "stream",
     "text": [
      "Iteration 8 - Epoch 28:\n",
      "  Train Acc = 1.0000, Train Prec = 1.0000, Train Rec = 1.0000, Train F-Beta = 1.0000, Train Loss = 0.0003\n",
      "  Val Acc = 0.9687, Val Prec = 0.8049, Val Rec = 0.8250, Val F-Beta = 0.8088, Val Loss = 0.2064\n"
     ]
    },
    {
     "name": "stderr",
     "output_type": "stream",
     "text": [
      "Iteration 8 - Epoch 29 - Training: 100%|██████████| 60/60 [00:18<00:00,  3.23it/s]\n",
      "Iteration 8 - Epoch 29 - Validation: 100%|██████████| 15/15 [00:01<00:00,  9.80it/s]\n"
     ]
    },
    {
     "name": "stdout",
     "output_type": "stream",
     "text": [
      "Iteration 8 - Epoch 29:\n",
      "  Train Acc = 1.0000, Train Prec = 1.0000, Train Rec = 1.0000, Train F-Beta = 1.0000, Train Loss = 0.0005\n",
      "  Val Acc = 0.9687, Val Prec = 0.8049, Val Rec = 0.8250, Val F-Beta = 0.8088, Val Loss = 0.2101\n"
     ]
    },
    {
     "name": "stderr",
     "output_type": "stream",
     "text": [
      "Iteration 8 - Epoch 30 - Training: 100%|██████████| 60/60 [00:18<00:00,  3.25it/s]\n",
      "Iteration 8 - Epoch 30 - Validation: 100%|██████████| 15/15 [00:01<00:00,  9.76it/s]\n"
     ]
    },
    {
     "name": "stdout",
     "output_type": "stream",
     "text": [
      "Iteration 8 - Epoch 30:\n",
      "  Train Acc = 1.0000, Train Prec = 1.0000, Train Rec = 1.0000, Train F-Beta = 1.0000, Train Loss = 0.0003\n",
      "  Val Acc = 0.9687, Val Prec = 0.8049, Val Rec = 0.8250, Val F-Beta = 0.8088, Val Loss = 0.2210\n"
     ]
    },
    {
     "name": "stderr",
     "output_type": "stream",
     "text": [
      "Iteration 8 - Epoch 31 - Training: 100%|██████████| 60/60 [00:18<00:00,  3.25it/s]\n",
      "Iteration 8 - Epoch 31 - Validation: 100%|██████████| 15/15 [00:01<00:00,  9.70it/s]\n"
     ]
    },
    {
     "name": "stdout",
     "output_type": "stream",
     "text": [
      "Iteration 8 - Epoch 31:\n",
      "  Train Acc = 0.9990, Train Prec = 0.9945, Train Rec = 0.9945, Train F-Beta = 0.9945, Train Loss = 0.0030\n",
      "  Val Acc = 0.9666, Val Prec = 0.7727, Val Rec = 0.8500, Val F-Beta = 0.7870, Val Loss = 0.2023\n"
     ]
    },
    {
     "name": "stderr",
     "output_type": "stream",
     "text": [
      "Iteration 8 - Epoch 32 - Training: 100%|██████████| 60/60 [00:18<00:00,  3.22it/s]\n",
      "Iteration 8 - Epoch 32 - Validation: 100%|██████████| 15/15 [00:01<00:00,  9.78it/s]\n"
     ]
    },
    {
     "name": "stdout",
     "output_type": "stream",
     "text": [
      "Iteration 8 - Epoch 32:\n",
      "  Train Acc = 0.9990, Train Prec = 0.9945, Train Rec = 0.9945, Train F-Beta = 0.9945, Train Loss = 0.0018\n",
      "  Val Acc = 0.9666, Val Prec = 0.7857, Val Rec = 0.8250, Val F-Beta = 0.7933, Val Loss = 0.1912\n"
     ]
    },
    {
     "name": "stderr",
     "output_type": "stream",
     "text": [
      "Iteration 8 - Epoch 33 - Training: 100%|██████████| 60/60 [00:18<00:00,  3.22it/s]\n",
      "Iteration 8 - Epoch 33 - Validation: 100%|██████████| 15/15 [00:01<00:00,  9.76it/s]\n"
     ]
    },
    {
     "name": "stdout",
     "output_type": "stream",
     "text": [
      "Iteration 8 - Epoch 33:\n",
      "  Train Acc = 1.0000, Train Prec = 1.0000, Train Rec = 1.0000, Train F-Beta = 1.0000, Train Loss = 0.0004\n",
      "  Val Acc = 0.9708, Val Prec = 0.8421, Val Rec = 0.8000, Val F-Beta = 0.8333, Val Loss = 0.1954\n"
     ]
    },
    {
     "name": "stderr",
     "output_type": "stream",
     "text": [
      "Iteration 8 - Epoch 34 - Training: 100%|██████████| 60/60 [00:18<00:00,  3.23it/s]\n",
      "Iteration 8 - Epoch 34 - Validation: 100%|██████████| 15/15 [00:01<00:00,  9.64it/s]\n"
     ]
    },
    {
     "name": "stdout",
     "output_type": "stream",
     "text": [
      "Iteration 8 - Epoch 34:\n",
      "  Train Acc = 1.0000, Train Prec = 1.0000, Train Rec = 1.0000, Train F-Beta = 1.0000, Train Loss = 0.0002\n",
      "  Val Acc = 0.9687, Val Prec = 0.8205, Val Rec = 0.8000, Val F-Beta = 0.8163, Val Loss = 0.2017\n"
     ]
    },
    {
     "name": "stderr",
     "output_type": "stream",
     "text": [
      "Iteration 8 - Epoch 35 - Training: 100%|██████████| 60/60 [00:18<00:00,  3.23it/s]\n",
      "Iteration 8 - Epoch 35 - Validation: 100%|██████████| 15/15 [00:01<00:00,  9.67it/s]\n"
     ]
    },
    {
     "name": "stdout",
     "output_type": "stream",
     "text": [
      "Iteration 8 - Epoch 35:\n",
      "  Train Acc = 1.0000, Train Prec = 1.0000, Train Rec = 1.0000, Train F-Beta = 1.0000, Train Loss = 0.0001\n",
      "  Val Acc = 0.9687, Val Prec = 0.8205, Val Rec = 0.8000, Val F-Beta = 0.8163, Val Loss = 0.2048\n"
     ]
    },
    {
     "name": "stderr",
     "output_type": "stream",
     "text": [
      "Iteration 8 - Epoch 36 - Training: 100%|██████████| 60/60 [00:18<00:00,  3.23it/s]\n",
      "Iteration 8 - Epoch 36 - Validation: 100%|██████████| 15/15 [00:01<00:00,  9.73it/s]\n"
     ]
    },
    {
     "name": "stdout",
     "output_type": "stream",
     "text": [
      "Iteration 8 - Epoch 36:\n",
      "  Train Acc = 1.0000, Train Prec = 1.0000, Train Rec = 1.0000, Train F-Beta = 1.0000, Train Loss = 0.0001\n",
      "  Val Acc = 0.9708, Val Prec = 0.8250, Val Rec = 0.8250, Val F-Beta = 0.8250, Val Loss = 0.2081\n"
     ]
    },
    {
     "name": "stderr",
     "output_type": "stream",
     "text": [
      "Iteration 8 - Epoch 37 - Training: 100%|██████████| 60/60 [00:18<00:00,  3.24it/s]\n",
      "Iteration 8 - Epoch 37 - Validation: 100%|██████████| 15/15 [00:01<00:00,  9.77it/s]\n"
     ]
    },
    {
     "name": "stdout",
     "output_type": "stream",
     "text": [
      "Iteration 8 - Epoch 37:\n",
      "  Train Acc = 1.0000, Train Prec = 1.0000, Train Rec = 1.0000, Train F-Beta = 1.0000, Train Loss = 0.0001\n",
      "  Val Acc = 0.9708, Val Prec = 0.8250, Val Rec = 0.8250, Val F-Beta = 0.8250, Val Loss = 0.2107\n"
     ]
    },
    {
     "name": "stderr",
     "output_type": "stream",
     "text": [
      "Iteration 8 - Epoch 38 - Training: 100%|██████████| 60/60 [00:18<00:00,  3.22it/s]\n",
      "Iteration 8 - Epoch 38 - Validation: 100%|██████████| 15/15 [00:01<00:00,  9.55it/s]\n"
     ]
    },
    {
     "name": "stdout",
     "output_type": "stream",
     "text": [
      "Iteration 8 - Epoch 38:\n",
      "  Train Acc = 1.0000, Train Prec = 1.0000, Train Rec = 1.0000, Train F-Beta = 1.0000, Train Loss = 0.0001\n",
      "  Val Acc = 0.9708, Val Prec = 0.8250, Val Rec = 0.8250, Val F-Beta = 0.8250, Val Loss = 0.2129\n"
     ]
    },
    {
     "name": "stderr",
     "output_type": "stream",
     "text": [
      "Iteration 8 - Epoch 39 - Training: 100%|██████████| 60/60 [00:18<00:00,  3.20it/s]\n",
      "Iteration 8 - Epoch 39 - Validation: 100%|██████████| 15/15 [00:01<00:00,  9.38it/s]\n"
     ]
    },
    {
     "name": "stdout",
     "output_type": "stream",
     "text": [
      "Iteration 8 - Epoch 39:\n",
      "  Train Acc = 1.0000, Train Prec = 1.0000, Train Rec = 1.0000, Train F-Beta = 1.0000, Train Loss = 0.0001\n",
      "  Val Acc = 0.9708, Val Prec = 0.8250, Val Rec = 0.8250, Val F-Beta = 0.8250, Val Loss = 0.2152\n"
     ]
    },
    {
     "name": "stderr",
     "output_type": "stream",
     "text": [
      "Iteration 8 - Epoch 40 - Training: 100%|██████████| 60/60 [00:18<00:00,  3.17it/s]\n",
      "Iteration 8 - Epoch 40 - Validation: 100%|██████████| 15/15 [00:01<00:00,  9.68it/s]\n"
     ]
    },
    {
     "name": "stdout",
     "output_type": "stream",
     "text": [
      "Iteration 8 - Epoch 40:\n",
      "  Train Acc = 1.0000, Train Prec = 1.0000, Train Rec = 1.0000, Train F-Beta = 1.0000, Train Loss = 0.0001\n",
      "  Val Acc = 0.9687, Val Prec = 0.8049, Val Rec = 0.8250, Val F-Beta = 0.8088, Val Loss = 0.2175\n"
     ]
    },
    {
     "name": "stderr",
     "output_type": "stream",
     "text": [
      "Iteration 8 - Epoch 41 - Training: 100%|██████████| 60/60 [00:18<00:00,  3.25it/s]\n",
      "Iteration 8 - Epoch 41 - Validation: 100%|██████████| 15/15 [00:01<00:00,  9.84it/s]\n"
     ]
    },
    {
     "name": "stdout",
     "output_type": "stream",
     "text": [
      "Iteration 8 - Epoch 41:\n",
      "  Train Acc = 0.9963, Train Prec = 0.9834, Train Rec = 0.9780, Train F-Beta = 0.9823, Train Loss = 0.0153\n",
      "  Val Acc = 0.9582, Val Prec = 0.7000, Val Rec = 0.8750, Val F-Beta = 0.7292, Val Loss = 0.1729\n"
     ]
    },
    {
     "name": "stderr",
     "output_type": "stream",
     "text": [
      "Iteration 8 - Epoch 42 - Training: 100%|██████████| 60/60 [00:18<00:00,  3.26it/s]\n",
      "Iteration 8 - Epoch 42 - Validation: 100%|██████████| 15/15 [00:01<00:00,  9.64it/s]\n"
     ]
    },
    {
     "name": "stdout",
     "output_type": "stream",
     "text": [
      "Iteration 8 - Epoch 42:\n",
      "  Train Acc = 0.9995, Train Prec = 1.0000, Train Rec = 0.9945, Train F-Beta = 0.9989, Train Loss = 0.0048\n",
      "  Val Acc = 0.9708, Val Prec = 0.8421, Val Rec = 0.8000, Val F-Beta = 0.8333, Val Loss = 0.1739\n"
     ]
    },
    {
     "name": "stderr",
     "output_type": "stream",
     "text": [
      "Iteration 8 - Epoch 43 - Training: 100%|██████████| 60/60 [00:18<00:00,  3.23it/s]\n",
      "Iteration 8 - Epoch 43 - Validation: 100%|██████████| 15/15 [00:01<00:00,  9.80it/s]\n"
     ]
    },
    {
     "name": "stdout",
     "output_type": "stream",
     "text": [
      "Iteration 8 - Epoch 43:\n",
      "  Train Acc = 0.9995, Train Prec = 1.0000, Train Rec = 0.9945, Train F-Beta = 0.9989, Train Loss = 0.0035\n",
      "  Val Acc = 0.9645, Val Prec = 0.7556, Val Rec = 0.8500, Val F-Beta = 0.7727, Val Loss = 0.2231\n"
     ]
    },
    {
     "name": "stderr",
     "output_type": "stream",
     "text": [
      "Iteration 8 - Epoch 44 - Training: 100%|██████████| 60/60 [00:18<00:00,  3.21it/s]\n",
      "Iteration 8 - Epoch 44 - Validation: 100%|██████████| 15/15 [00:01<00:00,  9.51it/s]\n"
     ]
    },
    {
     "name": "stdout",
     "output_type": "stream",
     "text": [
      "Iteration 8 - Epoch 44:\n",
      "  Train Acc = 1.0000, Train Prec = 1.0000, Train Rec = 1.0000, Train F-Beta = 1.0000, Train Loss = 0.0002\n",
      "  Val Acc = 0.9666, Val Prec = 0.7727, Val Rec = 0.8500, Val F-Beta = 0.7870, Val Loss = 0.2119\n"
     ]
    },
    {
     "name": "stderr",
     "output_type": "stream",
     "text": [
      "Iteration 8 - Epoch 45 - Training: 100%|██████████| 60/60 [00:18<00:00,  3.24it/s]\n",
      "Iteration 8 - Epoch 45 - Validation: 100%|██████████| 15/15 [00:01<00:00,  9.79it/s]\n"
     ]
    },
    {
     "name": "stdout",
     "output_type": "stream",
     "text": [
      "Iteration 8 - Epoch 45:\n",
      "  Train Acc = 1.0000, Train Prec = 1.0000, Train Rec = 1.0000, Train F-Beta = 1.0000, Train Loss = 0.0005\n",
      "  Val Acc = 0.9624, Val Prec = 0.7500, Val Rec = 0.8250, Val F-Beta = 0.7639, Val Loss = 0.2327\n"
     ]
    },
    {
     "name": "stderr",
     "output_type": "stream",
     "text": [
      "Iteration 8 - Epoch 46 - Training: 100%|██████████| 60/60 [00:18<00:00,  3.24it/s]\n",
      "Iteration 8 - Epoch 46 - Validation: 100%|██████████| 15/15 [00:01<00:00,  9.78it/s]\n"
     ]
    },
    {
     "name": "stdout",
     "output_type": "stream",
     "text": [
      "Iteration 8 - Epoch 46:\n",
      "  Train Acc = 1.0000, Train Prec = 1.0000, Train Rec = 1.0000, Train F-Beta = 1.0000, Train Loss = 0.0001\n",
      "  Val Acc = 0.9624, Val Prec = 0.7500, Val Rec = 0.8250, Val F-Beta = 0.7639, Val Loss = 0.2334\n"
     ]
    },
    {
     "name": "stderr",
     "output_type": "stream",
     "text": [
      "Iteration 8 - Epoch 47 - Training: 100%|██████████| 60/60 [00:18<00:00,  3.19it/s]\n",
      "Iteration 8 - Epoch 47 - Validation: 100%|██████████| 15/15 [00:01<00:00,  9.58it/s]\n"
     ]
    },
    {
     "name": "stdout",
     "output_type": "stream",
     "text": [
      "Iteration 8 - Epoch 47:\n",
      "  Train Acc = 1.0000, Train Prec = 1.0000, Train Rec = 1.0000, Train F-Beta = 1.0000, Train Loss = 0.0002\n",
      "  Val Acc = 0.9603, Val Prec = 0.7333, Val Rec = 0.8250, Val F-Beta = 0.7500, Val Loss = 0.2695\n"
     ]
    },
    {
     "name": "stderr",
     "output_type": "stream",
     "text": [
      "Iteration 8 - Epoch 48 - Training: 100%|██████████| 60/60 [00:18<00:00,  3.21it/s]\n",
      "Iteration 8 - Epoch 48 - Validation: 100%|██████████| 15/15 [00:01<00:00,  9.84it/s]\n"
     ]
    },
    {
     "name": "stdout",
     "output_type": "stream",
     "text": [
      "Iteration 8 - Epoch 48:\n",
      "  Train Acc = 1.0000, Train Prec = 1.0000, Train Rec = 1.0000, Train F-Beta = 1.0000, Train Loss = 0.0001\n",
      "  Val Acc = 0.9603, Val Prec = 0.7333, Val Rec = 0.8250, Val F-Beta = 0.7500, Val Loss = 0.2759\n"
     ]
    },
    {
     "name": "stderr",
     "output_type": "stream",
     "text": [
      "Iteration 8 - Epoch 49 - Training: 100%|██████████| 60/60 [00:18<00:00,  3.24it/s]\n",
      "Iteration 8 - Epoch 49 - Validation: 100%|██████████| 15/15 [00:01<00:00,  9.73it/s]\n"
     ]
    },
    {
     "name": "stdout",
     "output_type": "stream",
     "text": [
      "Iteration 8 - Epoch 49:\n",
      "  Train Acc = 0.9927, Train Prec = 0.9565, Train Rec = 0.9670, Train F-Beta = 0.9586, Train Loss = 0.0291\n",
      "  Val Acc = 0.9603, Val Prec = 0.9565, Val Rec = 0.5500, Val F-Beta = 0.8333, Val Loss = 0.1812\n"
     ]
    },
    {
     "name": "stderr",
     "output_type": "stream",
     "text": [
      "Iteration 8 - Epoch 50 - Training: 100%|██████████| 60/60 [00:18<00:00,  3.21it/s]\n",
      "Iteration 8 - Epoch 50 - Validation: 100%|██████████| 15/15 [00:01<00:00,  9.64it/s]\n"
     ]
    },
    {
     "name": "stdout",
     "output_type": "stream",
     "text": [
      "Iteration 8 - Epoch 50:\n",
      "  Train Acc = 0.9953, Train Prec = 0.9779, Train Rec = 0.9725, Train F-Beta = 0.9768, Train Loss = 0.0110\n",
      "  Val Acc = 0.9687, Val Prec = 0.8049, Val Rec = 0.8250, Val F-Beta = 0.8088, Val Loss = 0.1965\n",
      "Iteration 9/10\n"
     ]
    },
    {
     "name": "stderr",
     "output_type": "stream",
     "text": [
      "Some weights of ElectraForSequenceClassification were not initialized from the model checkpoint at beomi/KcELECTRA-base-v2022 and are newly initialized: ['classifier.dense.bias', 'classifier.dense.weight', 'classifier.out_proj.bias', 'classifier.out_proj.weight']\n",
      "You should probably TRAIN this model on a down-stream task to be able to use it for predictions and inference.\n",
      "Iteration 9 - Epoch 1 - Training: 100%|██████████| 60/60 [00:18<00:00,  3.25it/s]\n",
      "Iteration 9 - Epoch 1 - Validation: 100%|██████████| 15/15 [00:01<00:00,  9.84it/s]\n",
      "/home/retn0/repositories/nbsp1221/communav/.venv/lib/python3.10/site-packages/sklearn/metrics/_classification.py:1509: UndefinedMetricWarning: Precision is ill-defined and being set to 0.0 due to no predicted samples. Use `zero_division` parameter to control this behavior.\n",
      "  _warn_prf(average, modifier, f\"{metric.capitalize()} is\", len(result))\n"
     ]
    },
    {
     "name": "stdout",
     "output_type": "stream",
     "text": [
      "Iteration 9 - Epoch 1:\n",
      "  Train Acc = 0.9028, Train Prec = 0.1667, Train Rec = 0.0055, Train F-Beta = 0.0243, Train Loss = 0.3483\n",
      "  Val Acc = 0.9165, Val Prec = 0.0000, Val Rec = 0.0000, Val F-Beta = 0.0000, Val Loss = 0.2152\n"
     ]
    },
    {
     "name": "stderr",
     "output_type": "stream",
     "text": [
      "Iteration 9 - Epoch 2 - Training: 100%|██████████| 60/60 [00:18<00:00,  3.22it/s]\n",
      "Iteration 9 - Epoch 2 - Validation: 100%|██████████| 15/15 [00:01<00:00,  9.79it/s]\n",
      "/home/retn0/repositories/nbsp1221/communav/.venv/lib/python3.10/site-packages/sklearn/metrics/_classification.py:1509: UndefinedMetricWarning: Precision is ill-defined and being set to 0.0 due to no predicted samples. Use `zero_division` parameter to control this behavior.\n",
      "  _warn_prf(average, modifier, f\"{metric.capitalize()} is\", len(result))\n"
     ]
    },
    {
     "name": "stdout",
     "output_type": "stream",
     "text": [
      "Iteration 9 - Epoch 2:\n",
      "  Train Acc = 0.9101, Train Prec = 0.5446, Train Rec = 0.3352, Train F-Beta = 0.4841, Train Loss = 0.1993\n",
      "  Val Acc = 0.9165, Val Prec = 0.0000, Val Rec = 0.0000, Val F-Beta = 0.0000, Val Loss = 0.1298\n"
     ]
    },
    {
     "name": "stderr",
     "output_type": "stream",
     "text": [
      "Iteration 9 - Epoch 3 - Training: 100%|██████████| 60/60 [00:18<00:00,  3.23it/s]\n",
      "Iteration 9 - Epoch 3 - Validation: 100%|██████████| 15/15 [00:01<00:00,  9.63it/s]\n"
     ]
    },
    {
     "name": "stdout",
     "output_type": "stream",
     "text": [
      "Iteration 9 - Epoch 3:\n",
      "  Train Acc = 0.9456, Train Prec = 0.7241, Train Rec = 0.6923, Train F-Beta = 0.7175, Train Loss = 0.1397\n",
      "  Val Acc = 0.9582, Val Prec = 0.7381, Val Rec = 0.7750, Val F-Beta = 0.7452, Val Loss = 0.1243\n",
      "  Better model saved with 0.7452 F-beta score.\n"
     ]
    },
    {
     "name": "stderr",
     "output_type": "stream",
     "text": [
      "Iteration 9 - Epoch 4 - Training: 100%|██████████| 60/60 [00:18<00:00,  3.23it/s]\n",
      "Iteration 9 - Epoch 4 - Validation: 100%|██████████| 15/15 [00:01<00:00,  9.60it/s]\n"
     ]
    },
    {
     "name": "stdout",
     "output_type": "stream",
     "text": [
      "Iteration 9 - Epoch 4:\n",
      "  Train Acc = 0.9723, Train Prec = 0.8449, Train Rec = 0.8681, Train F-Beta = 0.8495, Train Loss = 0.0898\n",
      "  Val Acc = 0.9666, Val Prec = 0.8158, Val Rec = 0.7750, Val F-Beta = 0.8073, Val Loss = 0.1239\n",
      "  Better model saved with 0.8073 F-beta score.\n"
     ]
    },
    {
     "name": "stderr",
     "output_type": "stream",
     "text": [
      "Iteration 9 - Epoch 5 - Training: 100%|██████████| 60/60 [00:18<00:00,  3.25it/s]\n",
      "Iteration 9 - Epoch 5 - Validation: 100%|██████████| 15/15 [00:01<00:00,  9.65it/s]\n"
     ]
    },
    {
     "name": "stdout",
     "output_type": "stream",
     "text": [
      "Iteration 9 - Epoch 5:\n",
      "  Train Acc = 0.9822, Train Prec = 0.9111, Train Rec = 0.9011, Train F-Beta = 0.9091, Train Loss = 0.0621\n",
      "  Val Acc = 0.9666, Val Prec = 0.8333, Val Rec = 0.7500, Val F-Beta = 0.8152, Val Loss = 0.1233\n",
      "  Better model saved with 0.8152 F-beta score.\n"
     ]
    },
    {
     "name": "stderr",
     "output_type": "stream",
     "text": [
      "Iteration 9 - Epoch 6 - Training: 100%|██████████| 60/60 [00:18<00:00,  3.24it/s]\n",
      "Iteration 9 - Epoch 6 - Validation: 100%|██████████| 15/15 [00:01<00:00,  9.78it/s]\n"
     ]
    },
    {
     "name": "stdout",
     "output_type": "stream",
     "text": [
      "Iteration 9 - Epoch 6:\n",
      "  Train Acc = 0.9901, Train Prec = 0.9553, Train Rec = 0.9396, Train F-Beta = 0.9521, Train Loss = 0.0359\n",
      "  Val Acc = 0.9687, Val Prec = 0.8378, Val Rec = 0.7750, Val F-Beta = 0.8245, Val Loss = 0.1338\n",
      "  Better model saved with 0.8245 F-beta score.\n"
     ]
    },
    {
     "name": "stderr",
     "output_type": "stream",
     "text": [
      "Iteration 9 - Epoch 7 - Training: 100%|██████████| 60/60 [00:18<00:00,  3.26it/s]\n",
      "Iteration 9 - Epoch 7 - Validation: 100%|██████████| 15/15 [00:01<00:00,  9.67it/s]\n"
     ]
    },
    {
     "name": "stdout",
     "output_type": "stream",
     "text": [
      "Iteration 9 - Epoch 7:\n",
      "  Train Acc = 0.9963, Train Prec = 0.9834, Train Rec = 0.9780, Train F-Beta = 0.9823, Train Loss = 0.0159\n",
      "  Val Acc = 0.9624, Val Prec = 0.7895, Val Rec = 0.7500, Val F-Beta = 0.7812, Val Loss = 0.1356\n"
     ]
    },
    {
     "name": "stderr",
     "output_type": "stream",
     "text": [
      "Iteration 9 - Epoch 8 - Training: 100%|██████████| 60/60 [00:18<00:00,  3.21it/s]\n",
      "Iteration 9 - Epoch 8 - Validation: 100%|██████████| 15/15 [00:01<00:00,  9.58it/s]\n"
     ]
    },
    {
     "name": "stdout",
     "output_type": "stream",
     "text": [
      "Iteration 9 - Epoch 8:\n",
      "  Train Acc = 0.9969, Train Prec = 0.9889, Train Rec = 0.9780, Train F-Beta = 0.9867, Train Loss = 0.0151\n",
      "  Val Acc = 0.9603, Val Prec = 0.8621, Val Rec = 0.6250, Val F-Beta = 0.8013, Val Loss = 0.2283\n"
     ]
    },
    {
     "name": "stderr",
     "output_type": "stream",
     "text": [
      "Iteration 9 - Epoch 9 - Training: 100%|██████████| 60/60 [00:18<00:00,  3.26it/s]\n",
      "Iteration 9 - Epoch 9 - Validation: 100%|██████████| 15/15 [00:01<00:00,  9.86it/s]\n"
     ]
    },
    {
     "name": "stdout",
     "output_type": "stream",
     "text": [
      "Iteration 9 - Epoch 9:\n",
      "  Train Acc = 0.9953, Train Prec = 0.9727, Train Rec = 0.9780, Train F-Beta = 0.9737, Train Loss = 0.0161\n",
      "  Val Acc = 0.9624, Val Prec = 0.8438, Val Rec = 0.6750, Val F-Beta = 0.8036, Val Loss = 0.1956\n"
     ]
    },
    {
     "name": "stderr",
     "output_type": "stream",
     "text": [
      "Iteration 9 - Epoch 10 - Training: 100%|██████████| 60/60 [00:18<00:00,  3.25it/s]\n",
      "Iteration 9 - Epoch 10 - Validation: 100%|██████████| 15/15 [00:01<00:00,  9.80it/s]\n"
     ]
    },
    {
     "name": "stdout",
     "output_type": "stream",
     "text": [
      "Iteration 9 - Epoch 10:\n",
      "  Train Acc = 0.9963, Train Prec = 0.9834, Train Rec = 0.9780, Train F-Beta = 0.9823, Train Loss = 0.0130\n",
      "  Val Acc = 0.9687, Val Prec = 0.8049, Val Rec = 0.8250, Val F-Beta = 0.8088, Val Loss = 0.1742\n"
     ]
    },
    {
     "name": "stderr",
     "output_type": "stream",
     "text": [
      "Iteration 9 - Epoch 11 - Training: 100%|██████████| 60/60 [00:18<00:00,  3.26it/s]\n",
      "Iteration 9 - Epoch 11 - Validation: 100%|██████████| 15/15 [00:01<00:00, 10.00it/s]\n"
     ]
    },
    {
     "name": "stdout",
     "output_type": "stream",
     "text": [
      "Iteration 9 - Epoch 11:\n",
      "  Train Acc = 0.9963, Train Prec = 0.9781, Train Rec = 0.9835, Train F-Beta = 0.9792, Train Loss = 0.0094\n",
      "  Val Acc = 0.9624, Val Prec = 0.8438, Val Rec = 0.6750, Val F-Beta = 0.8036, Val Loss = 0.2138\n"
     ]
    },
    {
     "name": "stderr",
     "output_type": "stream",
     "text": [
      "Iteration 9 - Epoch 12 - Training: 100%|██████████| 60/60 [00:18<00:00,  3.27it/s]\n",
      "Iteration 9 - Epoch 12 - Validation: 100%|██████████| 15/15 [00:01<00:00,  9.87it/s]\n"
     ]
    },
    {
     "name": "stdout",
     "output_type": "stream",
     "text": [
      "Iteration 9 - Epoch 12:\n",
      "  Train Acc = 0.9979, Train Prec = 0.9890, Train Rec = 0.9890, Train F-Beta = 0.9890, Train Loss = 0.0074\n",
      "  Val Acc = 0.9687, Val Prec = 0.8049, Val Rec = 0.8250, Val F-Beta = 0.8088, Val Loss = 0.1590\n"
     ]
    },
    {
     "name": "stderr",
     "output_type": "stream",
     "text": [
      "Iteration 9 - Epoch 13 - Training: 100%|██████████| 60/60 [00:18<00:00,  3.30it/s]\n",
      "Iteration 9 - Epoch 13 - Validation: 100%|██████████| 15/15 [00:01<00:00,  9.97it/s]\n"
     ]
    },
    {
     "name": "stdout",
     "output_type": "stream",
     "text": [
      "Iteration 9 - Epoch 13:\n",
      "  Train Acc = 0.9979, Train Prec = 0.9837, Train Rec = 0.9945, Train F-Beta = 0.9858, Train Loss = 0.0077\n",
      "  Val Acc = 0.9666, Val Prec = 0.8158, Val Rec = 0.7750, Val F-Beta = 0.8073, Val Loss = 0.1590\n"
     ]
    },
    {
     "name": "stderr",
     "output_type": "stream",
     "text": [
      "Iteration 9 - Epoch 14 - Training: 100%|██████████| 60/60 [00:18<00:00,  3.30it/s]\n",
      "Iteration 9 - Epoch 14 - Validation: 100%|██████████| 15/15 [00:01<00:00, 10.02it/s]\n"
     ]
    },
    {
     "name": "stdout",
     "output_type": "stream",
     "text": [
      "Iteration 9 - Epoch 14:\n",
      "  Train Acc = 0.9990, Train Prec = 0.9891, Train Rec = 1.0000, Train F-Beta = 0.9913, Train Loss = 0.0054\n",
      "  Val Acc = 0.9687, Val Prec = 0.8571, Val Rec = 0.7500, Val F-Beta = 0.8333, Val Loss = 0.1759\n",
      "  Better model saved with 0.8333 F-beta score.\n"
     ]
    },
    {
     "name": "stderr",
     "output_type": "stream",
     "text": [
      "Iteration 9 - Epoch 15 - Training: 100%|██████████| 60/60 [00:18<00:00,  3.32it/s]\n",
      "Iteration 9 - Epoch 15 - Validation: 100%|██████████| 15/15 [00:01<00:00,  9.95it/s]\n"
     ]
    },
    {
     "name": "stdout",
     "output_type": "stream",
     "text": [
      "Iteration 9 - Epoch 15:\n",
      "  Train Acc = 0.9995, Train Prec = 0.9945, Train Rec = 1.0000, Train F-Beta = 0.9956, Train Loss = 0.0040\n",
      "  Val Acc = 0.9708, Val Prec = 0.8250, Val Rec = 0.8250, Val F-Beta = 0.8250, Val Loss = 0.1718\n"
     ]
    },
    {
     "name": "stderr",
     "output_type": "stream",
     "text": [
      "Iteration 9 - Epoch 16 - Training: 100%|██████████| 60/60 [00:18<00:00,  3.32it/s]\n",
      "Iteration 9 - Epoch 16 - Validation: 100%|██████████| 15/15 [00:01<00:00,  9.99it/s]\n"
     ]
    },
    {
     "name": "stdout",
     "output_type": "stream",
     "text": [
      "Iteration 9 - Epoch 16:\n",
      "  Train Acc = 0.9995, Train Prec = 0.9945, Train Rec = 1.0000, Train F-Beta = 0.9956, Train Loss = 0.0035\n",
      "  Val Acc = 0.9687, Val Prec = 0.8205, Val Rec = 0.8000, Val F-Beta = 0.8163, Val Loss = 0.1701\n"
     ]
    },
    {
     "name": "stderr",
     "output_type": "stream",
     "text": [
      "Iteration 9 - Epoch 17 - Training: 100%|██████████| 60/60 [00:18<00:00,  3.30it/s]\n",
      "Iteration 9 - Epoch 17 - Validation: 100%|██████████| 15/15 [00:01<00:00, 10.01it/s]\n"
     ]
    },
    {
     "name": "stdout",
     "output_type": "stream",
     "text": [
      "Iteration 9 - Epoch 17:\n",
      "  Train Acc = 0.9995, Train Prec = 0.9945, Train Rec = 1.0000, Train F-Beta = 0.9956, Train Loss = 0.0033\n",
      "  Val Acc = 0.9687, Val Prec = 0.8378, Val Rec = 0.7750, Val F-Beta = 0.8245, Val Loss = 0.1720\n"
     ]
    },
    {
     "name": "stderr",
     "output_type": "stream",
     "text": [
      "Iteration 9 - Epoch 18 - Training: 100%|██████████| 60/60 [00:18<00:00,  3.29it/s]\n",
      "Iteration 9 - Epoch 18 - Validation: 100%|██████████| 15/15 [00:01<00:00,  9.93it/s]\n"
     ]
    },
    {
     "name": "stdout",
     "output_type": "stream",
     "text": [
      "Iteration 9 - Epoch 18:\n",
      "  Train Acc = 0.9995, Train Prec = 0.9945, Train Rec = 1.0000, Train F-Beta = 0.9956, Train Loss = 0.0025\n",
      "  Val Acc = 0.9687, Val Prec = 0.8571, Val Rec = 0.7500, Val F-Beta = 0.8333, Val Loss = 0.1897\n"
     ]
    },
    {
     "name": "stderr",
     "output_type": "stream",
     "text": [
      "Iteration 9 - Epoch 19 - Training: 100%|██████████| 60/60 [00:18<00:00,  3.30it/s]\n",
      "Iteration 9 - Epoch 19 - Validation: 100%|██████████| 15/15 [00:01<00:00,  9.97it/s]\n"
     ]
    },
    {
     "name": "stdout",
     "output_type": "stream",
     "text": [
      "Iteration 9 - Epoch 19:\n",
      "  Train Acc = 0.9974, Train Prec = 0.9890, Train Rec = 0.9835, Train F-Beta = 0.9879, Train Loss = 0.0069\n",
      "  Val Acc = 0.9708, Val Prec = 0.8250, Val Rec = 0.8250, Val F-Beta = 0.8250, Val Loss = 0.1972\n"
     ]
    },
    {
     "name": "stderr",
     "output_type": "stream",
     "text": [
      "Iteration 9 - Epoch 20 - Training: 100%|██████████| 60/60 [00:18<00:00,  3.30it/s]\n",
      "Iteration 9 - Epoch 20 - Validation: 100%|██████████| 15/15 [00:01<00:00,  9.90it/s]\n"
     ]
    },
    {
     "name": "stdout",
     "output_type": "stream",
     "text": [
      "Iteration 9 - Epoch 20:\n",
      "  Train Acc = 0.9911, Train Prec = 0.9508, Train Rec = 0.9560, Train F-Beta = 0.9519, Train Loss = 0.0354\n",
      "  Val Acc = 0.9645, Val Prec = 0.8108, Val Rec = 0.7500, Val F-Beta = 0.7979, Val Loss = 0.2273\n"
     ]
    },
    {
     "name": "stderr",
     "output_type": "stream",
     "text": [
      "Iteration 9 - Epoch 21 - Training: 100%|██████████| 60/60 [00:18<00:00,  3.29it/s]\n",
      "Iteration 9 - Epoch 21 - Validation: 100%|██████████| 15/15 [00:01<00:00, 10.01it/s]\n"
     ]
    },
    {
     "name": "stdout",
     "output_type": "stream",
     "text": [
      "Iteration 9 - Epoch 21:\n",
      "  Train Acc = 0.9984, Train Prec = 0.9891, Train Rec = 0.9945, Train F-Beta = 0.9902, Train Loss = 0.0065\n",
      "  Val Acc = 0.9708, Val Prec = 0.9062, Val Rec = 0.7250, Val F-Beta = 0.8631, Val Loss = 0.1846\n",
      "  Better model saved with 0.8631 F-beta score.\n"
     ]
    },
    {
     "name": "stderr",
     "output_type": "stream",
     "text": [
      "Iteration 9 - Epoch 22 - Training: 100%|██████████| 60/60 [00:18<00:00,  3.31it/s]\n",
      "Iteration 9 - Epoch 22 - Validation: 100%|██████████| 15/15 [00:01<00:00, 10.00it/s]\n"
     ]
    },
    {
     "name": "stdout",
     "output_type": "stream",
     "text": [
      "Iteration 9 - Epoch 22:\n",
      "  Train Acc = 0.9990, Train Prec = 0.9945, Train Rec = 0.9945, Train F-Beta = 0.9945, Train Loss = 0.0022\n",
      "  Val Acc = 0.9687, Val Prec = 0.8049, Val Rec = 0.8250, Val F-Beta = 0.8088, Val Loss = 0.1610\n"
     ]
    },
    {
     "name": "stderr",
     "output_type": "stream",
     "text": [
      "Iteration 9 - Epoch 23 - Training: 100%|██████████| 60/60 [00:18<00:00,  3.31it/s]\n",
      "Iteration 9 - Epoch 23 - Validation: 100%|██████████| 15/15 [00:01<00:00,  9.96it/s]\n"
     ]
    },
    {
     "name": "stdout",
     "output_type": "stream",
     "text": [
      "Iteration 9 - Epoch 23:\n",
      "  Train Acc = 0.9984, Train Prec = 0.9891, Train Rec = 0.9945, Train F-Beta = 0.9902, Train Loss = 0.0054\n",
      "  Val Acc = 0.9687, Val Prec = 0.8049, Val Rec = 0.8250, Val F-Beta = 0.8088, Val Loss = 0.1727\n"
     ]
    },
    {
     "name": "stderr",
     "output_type": "stream",
     "text": [
      "Iteration 9 - Epoch 24 - Training: 100%|██████████| 60/60 [00:18<00:00,  3.30it/s]\n",
      "Iteration 9 - Epoch 24 - Validation: 100%|██████████| 15/15 [00:01<00:00,  9.94it/s]\n"
     ]
    },
    {
     "name": "stdout",
     "output_type": "stream",
     "text": [
      "Iteration 9 - Epoch 24:\n",
      "  Train Acc = 0.9979, Train Prec = 0.9837, Train Rec = 0.9945, Train F-Beta = 0.9858, Train Loss = 0.0077\n",
      "  Val Acc = 0.9624, Val Prec = 0.7200, Val Rec = 0.9000, Val F-Beta = 0.7500, Val Loss = 0.1922\n"
     ]
    },
    {
     "name": "stderr",
     "output_type": "stream",
     "text": [
      "Iteration 9 - Epoch 25 - Training: 100%|██████████| 60/60 [00:18<00:00,  3.30it/s]\n",
      "Iteration 9 - Epoch 25 - Validation: 100%|██████████| 15/15 [00:01<00:00,  9.87it/s]\n"
     ]
    },
    {
     "name": "stdout",
     "output_type": "stream",
     "text": [
      "Iteration 9 - Epoch 25:\n",
      "  Train Acc = 0.9995, Train Prec = 0.9945, Train Rec = 1.0000, Train F-Beta = 0.9956, Train Loss = 0.0017\n",
      "  Val Acc = 0.9645, Val Prec = 0.8710, Val Rec = 0.6750, Val F-Beta = 0.8232, Val Loss = 0.2352\n"
     ]
    },
    {
     "name": "stderr",
     "output_type": "stream",
     "text": [
      "Iteration 9 - Epoch 26 - Training: 100%|██████████| 60/60 [00:18<00:00,  3.24it/s]\n",
      "Iteration 9 - Epoch 26 - Validation: 100%|██████████| 15/15 [00:01<00:00,  9.77it/s]\n"
     ]
    },
    {
     "name": "stdout",
     "output_type": "stream",
     "text": [
      "Iteration 9 - Epoch 26:\n",
      "  Train Acc = 0.9995, Train Prec = 1.0000, Train Rec = 0.9945, Train F-Beta = 0.9989, Train Loss = 0.0018\n",
      "  Val Acc = 0.9687, Val Prec = 0.8571, Val Rec = 0.7500, Val F-Beta = 0.8333, Val Loss = 0.2005\n"
     ]
    },
    {
     "name": "stderr",
     "output_type": "stream",
     "text": [
      "Iteration 9 - Epoch 27 - Training: 100%|██████████| 60/60 [00:18<00:00,  3.24it/s]\n",
      "Iteration 9 - Epoch 27 - Validation: 100%|██████████| 15/15 [00:01<00:00,  9.74it/s]\n"
     ]
    },
    {
     "name": "stdout",
     "output_type": "stream",
     "text": [
      "Iteration 9 - Epoch 27:\n",
      "  Train Acc = 0.9984, Train Prec = 0.9891, Train Rec = 0.9945, Train F-Beta = 0.9902, Train Loss = 0.0035\n",
      "  Val Acc = 0.9729, Val Prec = 0.8649, Val Rec = 0.8000, Val F-Beta = 0.8511, Val Loss = 0.1835\n"
     ]
    },
    {
     "name": "stderr",
     "output_type": "stream",
     "text": [
      "Iteration 9 - Epoch 28 - Training: 100%|██████████| 60/60 [00:18<00:00,  3.24it/s]\n",
      "Iteration 9 - Epoch 28 - Validation: 100%|██████████| 15/15 [00:01<00:00,  9.76it/s]\n"
     ]
    },
    {
     "name": "stdout",
     "output_type": "stream",
     "text": [
      "Iteration 9 - Epoch 28:\n",
      "  Train Acc = 0.9990, Train Prec = 0.9945, Train Rec = 0.9945, Train F-Beta = 0.9945, Train Loss = 0.0029\n",
      "  Val Acc = 0.9624, Val Prec = 0.7200, Val Rec = 0.9000, Val F-Beta = 0.7500, Val Loss = 0.2023\n"
     ]
    },
    {
     "name": "stderr",
     "output_type": "stream",
     "text": [
      "Iteration 9 - Epoch 29 - Training: 100%|██████████| 60/60 [00:18<00:00,  3.25it/s]\n",
      "Iteration 9 - Epoch 29 - Validation: 100%|██████████| 15/15 [00:01<00:00,  9.77it/s]\n"
     ]
    },
    {
     "name": "stdout",
     "output_type": "stream",
     "text": [
      "Iteration 9 - Epoch 29:\n",
      "  Train Acc = 0.9990, Train Prec = 0.9945, Train Rec = 0.9945, Train F-Beta = 0.9945, Train Loss = 0.0051\n",
      "  Val Acc = 0.9687, Val Prec = 0.8049, Val Rec = 0.8250, Val F-Beta = 0.8088, Val Loss = 0.1763\n"
     ]
    },
    {
     "name": "stderr",
     "output_type": "stream",
     "text": [
      "Iteration 9 - Epoch 30 - Training: 100%|██████████| 60/60 [00:18<00:00,  3.24it/s]\n",
      "Iteration 9 - Epoch 30 - Validation: 100%|██████████| 15/15 [00:01<00:00,  9.81it/s]\n"
     ]
    },
    {
     "name": "stdout",
     "output_type": "stream",
     "text": [
      "Iteration 9 - Epoch 30:\n",
      "  Train Acc = 0.9984, Train Prec = 0.9945, Train Rec = 0.9890, Train F-Beta = 0.9934, Train Loss = 0.0059\n",
      "  Val Acc = 0.9645, Val Prec = 0.8286, Val Rec = 0.7250, Val F-Beta = 0.8056, Val Loss = 0.2010\n"
     ]
    },
    {
     "name": "stderr",
     "output_type": "stream",
     "text": [
      "Iteration 9 - Epoch 31 - Training: 100%|██████████| 60/60 [00:18<00:00,  3.25it/s]\n",
      "Iteration 9 - Epoch 31 - Validation: 100%|██████████| 15/15 [00:01<00:00,  9.77it/s]\n"
     ]
    },
    {
     "name": "stdout",
     "output_type": "stream",
     "text": [
      "Iteration 9 - Epoch 31:\n",
      "  Train Acc = 0.9984, Train Prec = 0.9945, Train Rec = 0.9890, Train F-Beta = 0.9934, Train Loss = 0.0083\n",
      "  Val Acc = 0.9708, Val Prec = 0.8250, Val Rec = 0.8250, Val F-Beta = 0.8250, Val Loss = 0.1371\n"
     ]
    },
    {
     "name": "stderr",
     "output_type": "stream",
     "text": [
      "Iteration 9 - Epoch 32 - Training: 100%|██████████| 60/60 [00:18<00:00,  3.25it/s]\n",
      "Iteration 9 - Epoch 32 - Validation: 100%|██████████| 15/15 [00:01<00:00,  9.79it/s]\n"
     ]
    },
    {
     "name": "stdout",
     "output_type": "stream",
     "text": [
      "Iteration 9 - Epoch 32:\n",
      "  Train Acc = 0.9984, Train Prec = 0.9891, Train Rec = 0.9945, Train F-Beta = 0.9902, Train Loss = 0.0060\n",
      "  Val Acc = 0.9687, Val Prec = 0.8571, Val Rec = 0.7500, Val F-Beta = 0.8333, Val Loss = 0.2002\n"
     ]
    },
    {
     "name": "stderr",
     "output_type": "stream",
     "text": [
      "Iteration 9 - Epoch 33 - Training: 100%|██████████| 60/60 [00:18<00:00,  3.24it/s]\n",
      "Iteration 9 - Epoch 33 - Validation: 100%|██████████| 15/15 [00:01<00:00,  9.79it/s]\n"
     ]
    },
    {
     "name": "stdout",
     "output_type": "stream",
     "text": [
      "Iteration 9 - Epoch 33:\n",
      "  Train Acc = 0.9995, Train Prec = 1.0000, Train Rec = 0.9945, Train F-Beta = 0.9989, Train Loss = 0.0020\n",
      "  Val Acc = 0.9729, Val Prec = 0.8462, Val Rec = 0.8250, Val F-Beta = 0.8418, Val Loss = 0.2027\n"
     ]
    },
    {
     "name": "stderr",
     "output_type": "stream",
     "text": [
      "Iteration 9 - Epoch 34 - Training: 100%|██████████| 60/60 [00:18<00:00,  3.23it/s]\n",
      "Iteration 9 - Epoch 34 - Validation: 100%|██████████| 15/15 [00:01<00:00,  9.69it/s]\n"
     ]
    },
    {
     "name": "stdout",
     "output_type": "stream",
     "text": [
      "Iteration 9 - Epoch 34:\n",
      "  Train Acc = 1.0000, Train Prec = 1.0000, Train Rec = 1.0000, Train F-Beta = 1.0000, Train Loss = 0.0005\n",
      "  Val Acc = 0.9708, Val Prec = 0.8611, Val Rec = 0.7750, Val F-Beta = 0.8424, Val Loss = 0.2234\n"
     ]
    },
    {
     "name": "stderr",
     "output_type": "stream",
     "text": [
      "Iteration 9 - Epoch 35 - Training: 100%|██████████| 60/60 [00:18<00:00,  3.25it/s]\n",
      "Iteration 9 - Epoch 35 - Validation: 100%|██████████| 15/15 [00:01<00:00,  9.77it/s]\n"
     ]
    },
    {
     "name": "stdout",
     "output_type": "stream",
     "text": [
      "Iteration 9 - Epoch 35:\n",
      "  Train Acc = 1.0000, Train Prec = 1.0000, Train Rec = 1.0000, Train F-Beta = 1.0000, Train Loss = 0.0002\n",
      "  Val Acc = 0.9729, Val Prec = 0.8649, Val Rec = 0.8000, Val F-Beta = 0.8511, Val Loss = 0.2250\n"
     ]
    },
    {
     "name": "stderr",
     "output_type": "stream",
     "text": [
      "Iteration 9 - Epoch 36 - Training: 100%|██████████| 60/60 [00:18<00:00,  3.24it/s]\n",
      "Iteration 9 - Epoch 36 - Validation: 100%|██████████| 15/15 [00:01<00:00,  9.76it/s]\n"
     ]
    },
    {
     "name": "stdout",
     "output_type": "stream",
     "text": [
      "Iteration 9 - Epoch 36:\n",
      "  Train Acc = 1.0000, Train Prec = 1.0000, Train Rec = 1.0000, Train F-Beta = 1.0000, Train Loss = 0.0005\n",
      "  Val Acc = 0.9708, Val Prec = 0.8421, Val Rec = 0.8000, Val F-Beta = 0.8333, Val Loss = 0.2190\n"
     ]
    },
    {
     "name": "stderr",
     "output_type": "stream",
     "text": [
      "Iteration 9 - Epoch 37 - Training: 100%|██████████| 60/60 [00:18<00:00,  3.24it/s]\n",
      "Iteration 9 - Epoch 37 - Validation: 100%|██████████| 15/15 [00:01<00:00,  9.78it/s]\n"
     ]
    },
    {
     "name": "stdout",
     "output_type": "stream",
     "text": [
      "Iteration 9 - Epoch 37:\n",
      "  Train Acc = 1.0000, Train Prec = 1.0000, Train Rec = 1.0000, Train F-Beta = 1.0000, Train Loss = 0.0002\n",
      "  Val Acc = 0.9687, Val Prec = 0.8049, Val Rec = 0.8250, Val F-Beta = 0.8088, Val Loss = 0.2206\n"
     ]
    },
    {
     "name": "stderr",
     "output_type": "stream",
     "text": [
      "Iteration 9 - Epoch 38 - Training: 100%|██████████| 60/60 [00:18<00:00,  3.25it/s]\n",
      "Iteration 9 - Epoch 38 - Validation: 100%|██████████| 15/15 [00:01<00:00,  9.78it/s]\n"
     ]
    },
    {
     "name": "stdout",
     "output_type": "stream",
     "text": [
      "Iteration 9 - Epoch 38:\n",
      "  Train Acc = 1.0000, Train Prec = 1.0000, Train Rec = 1.0000, Train F-Beta = 1.0000, Train Loss = 0.0002\n",
      "  Val Acc = 0.9708, Val Prec = 0.8421, Val Rec = 0.8000, Val F-Beta = 0.8333, Val Loss = 0.2267\n"
     ]
    },
    {
     "name": "stderr",
     "output_type": "stream",
     "text": [
      "Iteration 9 - Epoch 39 - Training: 100%|██████████| 60/60 [00:18<00:00,  3.25it/s]\n",
      "Iteration 9 - Epoch 39 - Validation: 100%|██████████| 15/15 [00:01<00:00,  9.76it/s]\n"
     ]
    },
    {
     "name": "stdout",
     "output_type": "stream",
     "text": [
      "Iteration 9 - Epoch 39:\n",
      "  Train Acc = 1.0000, Train Prec = 1.0000, Train Rec = 1.0000, Train F-Beta = 1.0000, Train Loss = 0.0001\n",
      "  Val Acc = 0.9708, Val Prec = 0.8421, Val Rec = 0.8000, Val F-Beta = 0.8333, Val Loss = 0.2276\n"
     ]
    },
    {
     "name": "stderr",
     "output_type": "stream",
     "text": [
      "Iteration 9 - Epoch 40 - Training: 100%|██████████| 60/60 [00:18<00:00,  3.25it/s]\n",
      "Iteration 9 - Epoch 40 - Validation: 100%|██████████| 15/15 [00:01<00:00,  9.88it/s]\n"
     ]
    },
    {
     "name": "stdout",
     "output_type": "stream",
     "text": [
      "Iteration 9 - Epoch 40:\n",
      "  Train Acc = 1.0000, Train Prec = 1.0000, Train Rec = 1.0000, Train F-Beta = 1.0000, Train Loss = 0.0001\n",
      "  Val Acc = 0.9708, Val Prec = 0.8421, Val Rec = 0.8000, Val F-Beta = 0.8333, Val Loss = 0.2295\n"
     ]
    },
    {
     "name": "stderr",
     "output_type": "stream",
     "text": [
      "Iteration 9 - Epoch 41 - Training: 100%|██████████| 60/60 [00:18<00:00,  3.28it/s]\n",
      "Iteration 9 - Epoch 41 - Validation: 100%|██████████| 15/15 [00:01<00:00,  9.97it/s]\n"
     ]
    },
    {
     "name": "stdout",
     "output_type": "stream",
     "text": [
      "Iteration 9 - Epoch 41:\n",
      "  Train Acc = 1.0000, Train Prec = 1.0000, Train Rec = 1.0000, Train F-Beta = 1.0000, Train Loss = 0.0001\n",
      "  Val Acc = 0.9687, Val Prec = 0.8378, Val Rec = 0.7750, Val F-Beta = 0.8245, Val Loss = 0.2324\n"
     ]
    },
    {
     "name": "stderr",
     "output_type": "stream",
     "text": [
      "Iteration 9 - Epoch 42 - Training: 100%|██████████| 60/60 [00:18<00:00,  3.29it/s]\n",
      "Iteration 9 - Epoch 42 - Validation: 100%|██████████| 15/15 [00:01<00:00,  9.92it/s]\n"
     ]
    },
    {
     "name": "stdout",
     "output_type": "stream",
     "text": [
      "Iteration 9 - Epoch 42:\n",
      "  Train Acc = 0.9969, Train Prec = 0.9731, Train Rec = 0.9945, Train F-Beta = 0.9773, Train Loss = 0.0065\n",
      "  Val Acc = 0.9520, Val Prec = 0.7576, Val Rec = 0.6250, Val F-Beta = 0.7267, Val Loss = 0.2468\n"
     ]
    },
    {
     "name": "stderr",
     "output_type": "stream",
     "text": [
      "Iteration 9 - Epoch 43 - Training: 100%|██████████| 60/60 [00:18<00:00,  3.27it/s]\n",
      "Iteration 9 - Epoch 43 - Validation: 100%|██████████| 15/15 [00:01<00:00,  9.72it/s]\n"
     ]
    },
    {
     "name": "stdout",
     "output_type": "stream",
     "text": [
      "Iteration 9 - Epoch 43:\n",
      "  Train Acc = 0.9958, Train Prec = 0.9943, Train Rec = 0.9615, Train F-Beta = 0.9876, Train Loss = 0.0182\n",
      "  Val Acc = 0.9729, Val Prec = 0.8462, Val Rec = 0.8250, Val F-Beta = 0.8418, Val Loss = 0.1750\n"
     ]
    },
    {
     "name": "stderr",
     "output_type": "stream",
     "text": [
      "Iteration 9 - Epoch 44 - Training: 100%|██████████| 60/60 [00:18<00:00,  3.25it/s]\n",
      "Iteration 9 - Epoch 44 - Validation: 100%|██████████| 15/15 [00:01<00:00,  9.87it/s]\n"
     ]
    },
    {
     "name": "stdout",
     "output_type": "stream",
     "text": [
      "Iteration 9 - Epoch 44:\n",
      "  Train Acc = 1.0000, Train Prec = 1.0000, Train Rec = 1.0000, Train F-Beta = 1.0000, Train Loss = 0.0004\n",
      "  Val Acc = 0.9729, Val Prec = 0.8462, Val Rec = 0.8250, Val F-Beta = 0.8418, Val Loss = 0.2101\n"
     ]
    },
    {
     "name": "stderr",
     "output_type": "stream",
     "text": [
      "Iteration 9 - Epoch 45 - Training: 100%|██████████| 60/60 [00:18<00:00,  3.24it/s]\n",
      "Iteration 9 - Epoch 45 - Validation: 100%|██████████| 15/15 [00:01<00:00,  9.81it/s]\n"
     ]
    },
    {
     "name": "stdout",
     "output_type": "stream",
     "text": [
      "Iteration 9 - Epoch 45:\n",
      "  Train Acc = 1.0000, Train Prec = 1.0000, Train Rec = 1.0000, Train F-Beta = 1.0000, Train Loss = 0.0002\n",
      "  Val Acc = 0.9729, Val Prec = 0.8462, Val Rec = 0.8250, Val F-Beta = 0.8418, Val Loss = 0.2167\n"
     ]
    },
    {
     "name": "stderr",
     "output_type": "stream",
     "text": [
      "Iteration 9 - Epoch 46 - Training: 100%|██████████| 60/60 [00:18<00:00,  3.24it/s]\n",
      "Iteration 9 - Epoch 46 - Validation: 100%|██████████| 15/15 [00:01<00:00,  9.78it/s]\n"
     ]
    },
    {
     "name": "stdout",
     "output_type": "stream",
     "text": [
      "Iteration 9 - Epoch 46:\n",
      "  Train Acc = 1.0000, Train Prec = 1.0000, Train Rec = 1.0000, Train F-Beta = 1.0000, Train Loss = 0.0001\n",
      "  Val Acc = 0.9729, Val Prec = 0.8462, Val Rec = 0.8250, Val F-Beta = 0.8418, Val Loss = 0.2209\n"
     ]
    },
    {
     "name": "stderr",
     "output_type": "stream",
     "text": [
      "Iteration 9 - Epoch 47 - Training: 100%|██████████| 60/60 [00:18<00:00,  3.24it/s]\n",
      "Iteration 9 - Epoch 47 - Validation: 100%|██████████| 15/15 [00:01<00:00,  9.81it/s]\n"
     ]
    },
    {
     "name": "stdout",
     "output_type": "stream",
     "text": [
      "Iteration 9 - Epoch 47:\n",
      "  Train Acc = 1.0000, Train Prec = 1.0000, Train Rec = 1.0000, Train F-Beta = 1.0000, Train Loss = 0.0001\n",
      "  Val Acc = 0.9729, Val Prec = 0.8462, Val Rec = 0.8250, Val F-Beta = 0.8418, Val Loss = 0.2247\n"
     ]
    },
    {
     "name": "stderr",
     "output_type": "stream",
     "text": [
      "Iteration 9 - Epoch 48 - Training: 100%|██████████| 60/60 [00:18<00:00,  3.24it/s]\n",
      "Iteration 9 - Epoch 48 - Validation: 100%|██████████| 15/15 [00:01<00:00,  9.99it/s]\n"
     ]
    },
    {
     "name": "stdout",
     "output_type": "stream",
     "text": [
      "Iteration 9 - Epoch 48:\n",
      "  Train Acc = 1.0000, Train Prec = 1.0000, Train Rec = 1.0000, Train F-Beta = 1.0000, Train Loss = 0.0002\n",
      "  Val Acc = 0.9729, Val Prec = 0.8462, Val Rec = 0.8250, Val F-Beta = 0.8418, Val Loss = 0.2288\n"
     ]
    },
    {
     "name": "stderr",
     "output_type": "stream",
     "text": [
      "Iteration 9 - Epoch 49 - Training: 100%|██████████| 60/60 [00:18<00:00,  3.28it/s]\n",
      "Iteration 9 - Epoch 49 - Validation: 100%|██████████| 15/15 [00:01<00:00,  9.82it/s]\n"
     ]
    },
    {
     "name": "stdout",
     "output_type": "stream",
     "text": [
      "Iteration 9 - Epoch 49:\n",
      "  Train Acc = 1.0000, Train Prec = 1.0000, Train Rec = 1.0000, Train F-Beta = 1.0000, Train Loss = 0.0001\n",
      "  Val Acc = 0.9729, Val Prec = 0.8462, Val Rec = 0.8250, Val F-Beta = 0.8418, Val Loss = 0.2256\n"
     ]
    },
    {
     "name": "stderr",
     "output_type": "stream",
     "text": [
      "Iteration 9 - Epoch 50 - Training: 100%|██████████| 60/60 [00:18<00:00,  3.22it/s]\n",
      "Iteration 9 - Epoch 50 - Validation: 100%|██████████| 15/15 [00:01<00:00,  9.78it/s]\n"
     ]
    },
    {
     "name": "stdout",
     "output_type": "stream",
     "text": [
      "Iteration 9 - Epoch 50:\n",
      "  Train Acc = 1.0000, Train Prec = 1.0000, Train Rec = 1.0000, Train F-Beta = 1.0000, Train Loss = 0.0001\n",
      "  Val Acc = 0.9729, Val Prec = 0.8293, Val Rec = 0.8500, Val F-Beta = 0.8333, Val Loss = 0.2242\n",
      "Iteration 10/10\n"
     ]
    },
    {
     "name": "stderr",
     "output_type": "stream",
     "text": [
      "Some weights of ElectraForSequenceClassification were not initialized from the model checkpoint at beomi/KcELECTRA-base-v2022 and are newly initialized: ['classifier.dense.bias', 'classifier.dense.weight', 'classifier.out_proj.bias', 'classifier.out_proj.weight']\n",
      "You should probably TRAIN this model on a down-stream task to be able to use it for predictions and inference.\n",
      "Iteration 10 - Epoch 1 - Training: 100%|██████████| 60/60 [00:18<00:00,  3.23it/s]\n",
      "Iteration 10 - Epoch 1 - Validation: 100%|██████████| 15/15 [00:01<00:00,  9.80it/s]\n",
      "/home/retn0/repositories/nbsp1221/communav/.venv/lib/python3.10/site-packages/sklearn/metrics/_classification.py:1509: UndefinedMetricWarning: Precision is ill-defined and being set to 0.0 due to no predicted samples. Use `zero_division` parameter to control this behavior.\n",
      "  _warn_prf(average, modifier, f\"{metric.capitalize()} is\", len(result))\n"
     ]
    },
    {
     "name": "stdout",
     "output_type": "stream",
     "text": [
      "Iteration 10 - Epoch 1:\n",
      "  Train Acc = 0.9033, Train Prec = 0.0000, Train Rec = 0.0000, Train F-Beta = 0.0000, Train Loss = 0.3446\n",
      "  Val Acc = 0.9165, Val Prec = 0.0000, Val Rec = 0.0000, Val F-Beta = 0.0000, Val Loss = 0.2322\n"
     ]
    },
    {
     "name": "stderr",
     "output_type": "stream",
     "text": [
      "Iteration 10 - Epoch 2 - Training: 100%|██████████| 60/60 [00:18<00:00,  3.23it/s]\n",
      "Iteration 10 - Epoch 2 - Validation: 100%|██████████| 15/15 [00:01<00:00,  9.80it/s]\n"
     ]
    },
    {
     "name": "stdout",
     "output_type": "stream",
     "text": [
      "Iteration 10 - Epoch 2:\n",
      "  Train Acc = 0.9326, Train Prec = 0.7431, Train Rec = 0.4451, Train F-Beta = 0.6553, Train Loss = 0.1707\n",
      "  Val Acc = 0.9541, Val Prec = 0.7647, Val Rec = 0.6500, Val F-Beta = 0.7386, Val Loss = 0.1489\n",
      "  Better model saved with 0.7386 F-beta score.\n"
     ]
    },
    {
     "name": "stderr",
     "output_type": "stream",
     "text": [
      "Iteration 10 - Epoch 3 - Training: 100%|██████████| 60/60 [00:18<00:00,  3.23it/s]\n",
      "Iteration 10 - Epoch 3 - Validation: 100%|██████████| 15/15 [00:01<00:00,  9.67it/s]\n"
     ]
    },
    {
     "name": "stdout",
     "output_type": "stream",
     "text": [
      "Iteration 10 - Epoch 3:\n",
      "  Train Acc = 0.9671, Train Prec = 0.8324, Train Rec = 0.8187, Train F-Beta = 0.8296, Train Loss = 0.1071\n",
      "  Val Acc = 0.9395, Val Prec = 0.5873, Val Rec = 0.9250, Val F-Beta = 0.6336, Val Loss = 0.1444\n"
     ]
    },
    {
     "name": "stderr",
     "output_type": "stream",
     "text": [
      "Iteration 10 - Epoch 4 - Training: 100%|██████████| 60/60 [00:18<00:00,  3.24it/s]\n",
      "Iteration 10 - Epoch 4 - Validation: 100%|██████████| 15/15 [00:01<00:00,  9.79it/s]\n"
     ]
    },
    {
     "name": "stdout",
     "output_type": "stream",
     "text": [
      "Iteration 10 - Epoch 4:\n",
      "  Train Acc = 0.9812, Train Prec = 0.8925, Train Rec = 0.9121, Train F-Beta = 0.8963, Train Loss = 0.0612\n",
      "  Val Acc = 0.9645, Val Prec = 0.7674, Val Rec = 0.8250, Val F-Beta = 0.7783, Val Loss = 0.1350\n",
      "  Better model saved with 0.7783 F-beta score.\n"
     ]
    },
    {
     "name": "stderr",
     "output_type": "stream",
     "text": [
      "Iteration 10 - Epoch 5 - Training: 100%|██████████| 60/60 [00:18<00:00,  3.25it/s]\n",
      "Iteration 10 - Epoch 5 - Validation: 100%|██████████| 15/15 [00:01<00:00,  9.77it/s]\n"
     ]
    },
    {
     "name": "stdout",
     "output_type": "stream",
     "text": [
      "Iteration 10 - Epoch 5:\n",
      "  Train Acc = 0.9901, Train Prec = 0.9553, Train Rec = 0.9396, Train F-Beta = 0.9521, Train Loss = 0.0341\n",
      "  Val Acc = 0.9582, Val Prec = 0.7174, Val Rec = 0.8250, Val F-Beta = 0.7366, Val Loss = 0.1354\n"
     ]
    },
    {
     "name": "stderr",
     "output_type": "stream",
     "text": [
      "Iteration 10 - Epoch 6 - Training: 100%|██████████| 60/60 [00:18<00:00,  3.24it/s]\n",
      "Iteration 10 - Epoch 6 - Validation: 100%|██████████| 15/15 [00:01<00:00,  9.80it/s]\n"
     ]
    },
    {
     "name": "stdout",
     "output_type": "stream",
     "text": [
      "Iteration 10 - Epoch 6:\n",
      "  Train Acc = 0.9942, Train Prec = 0.9724, Train Rec = 0.9670, Train F-Beta = 0.9713, Train Loss = 0.0201\n",
      "  Val Acc = 0.9708, Val Prec = 0.8421, Val Rec = 0.8000, Val F-Beta = 0.8333, Val Loss = 0.1343\n",
      "  Better model saved with 0.8333 F-beta score.\n"
     ]
    },
    {
     "name": "stderr",
     "output_type": "stream",
     "text": [
      "Iteration 10 - Epoch 7 - Training: 100%|██████████| 60/60 [00:18<00:00,  3.26it/s]\n",
      "Iteration 10 - Epoch 7 - Validation: 100%|██████████| 15/15 [00:01<00:00,  9.78it/s]\n"
     ]
    },
    {
     "name": "stdout",
     "output_type": "stream",
     "text": [
      "Iteration 10 - Epoch 7:\n",
      "  Train Acc = 0.9953, Train Prec = 0.9887, Train Rec = 0.9615, Train F-Beta = 0.9831, Train Loss = 0.0159\n",
      "  Val Acc = 0.9603, Val Prec = 0.7692, Val Rec = 0.7500, Val F-Beta = 0.7653, Val Loss = 0.1880\n"
     ]
    },
    {
     "name": "stderr",
     "output_type": "stream",
     "text": [
      "Iteration 10 - Epoch 8 - Training: 100%|██████████| 60/60 [00:18<00:00,  3.25it/s]\n",
      "Iteration 10 - Epoch 8 - Validation: 100%|██████████| 15/15 [00:01<00:00,  9.73it/s]\n"
     ]
    },
    {
     "name": "stdout",
     "output_type": "stream",
     "text": [
      "Iteration 10 - Epoch 8:\n",
      "  Train Acc = 0.9990, Train Prec = 1.0000, Train Rec = 0.9890, Train F-Beta = 0.9978, Train Loss = 0.0046\n",
      "  Val Acc = 0.9541, Val Prec = 0.6957, Val Rec = 0.8000, Val F-Beta = 0.7143, Val Loss = 0.2019\n"
     ]
    },
    {
     "name": "stderr",
     "output_type": "stream",
     "text": [
      "Iteration 10 - Epoch 9 - Training: 100%|██████████| 60/60 [00:18<00:00,  3.23it/s]\n",
      "Iteration 10 - Epoch 9 - Validation: 100%|██████████| 15/15 [00:01<00:00,  9.76it/s]\n"
     ]
    },
    {
     "name": "stdout",
     "output_type": "stream",
     "text": [
      "Iteration 10 - Epoch 9:\n",
      "  Train Acc = 0.9990, Train Prec = 1.0000, Train Rec = 0.9890, Train F-Beta = 0.9978, Train Loss = 0.0024\n",
      "  Val Acc = 0.9624, Val Prec = 0.7750, Val Rec = 0.7750, Val F-Beta = 0.7750, Val Loss = 0.2075\n"
     ]
    },
    {
     "name": "stderr",
     "output_type": "stream",
     "text": [
      "Iteration 10 - Epoch 10 - Training: 100%|██████████| 60/60 [00:18<00:00,  3.23it/s]\n",
      "Iteration 10 - Epoch 10 - Validation: 100%|██████████| 15/15 [00:01<00:00,  9.77it/s]\n"
     ]
    },
    {
     "name": "stdout",
     "output_type": "stream",
     "text": [
      "Iteration 10 - Epoch 10:\n",
      "  Train Acc = 1.0000, Train Prec = 1.0000, Train Rec = 1.0000, Train F-Beta = 1.0000, Train Loss = 0.0013\n",
      "  Val Acc = 0.9645, Val Prec = 0.7805, Val Rec = 0.8000, Val F-Beta = 0.7843, Val Loss = 0.2071\n"
     ]
    },
    {
     "name": "stderr",
     "output_type": "stream",
     "text": [
      "Iteration 10 - Epoch 11 - Training: 100%|██████████| 60/60 [00:18<00:00,  3.24it/s]\n",
      "Iteration 10 - Epoch 11 - Validation: 100%|██████████| 15/15 [00:01<00:00,  9.78it/s]\n"
     ]
    },
    {
     "name": "stdout",
     "output_type": "stream",
     "text": [
      "Iteration 10 - Epoch 11:\n",
      "  Train Acc = 0.9974, Train Prec = 0.9890, Train Rec = 0.9835, Train F-Beta = 0.9879, Train Loss = 0.0078\n",
      "  Val Acc = 0.9436, Val Prec = 0.7826, Val Rec = 0.4500, Val F-Beta = 0.6818, Val Loss = 0.3067\n"
     ]
    },
    {
     "name": "stderr",
     "output_type": "stream",
     "text": [
      "Iteration 10 - Epoch 12 - Training: 100%|██████████| 60/60 [00:18<00:00,  3.25it/s]\n",
      "Iteration 10 - Epoch 12 - Validation: 100%|██████████| 15/15 [00:01<00:00,  9.79it/s]\n"
     ]
    },
    {
     "name": "stdout",
     "output_type": "stream",
     "text": [
      "Iteration 10 - Epoch 12:\n",
      "  Train Acc = 0.9890, Train Prec = 0.9497, Train Rec = 0.9341, Train F-Beta = 0.9465, Train Loss = 0.0325\n",
      "  Val Acc = 0.9666, Val Prec = 0.8158, Val Rec = 0.7750, Val F-Beta = 0.8073, Val Loss = 0.1602\n"
     ]
    },
    {
     "name": "stderr",
     "output_type": "stream",
     "text": [
      "Iteration 10 - Epoch 13 - Training: 100%|██████████| 60/60 [00:18<00:00,  3.29it/s]\n",
      "Iteration 10 - Epoch 13 - Validation: 100%|██████████| 15/15 [00:01<00:00,  9.88it/s]\n"
     ]
    },
    {
     "name": "stdout",
     "output_type": "stream",
     "text": [
      "Iteration 10 - Epoch 13:\n",
      "  Train Acc = 0.9995, Train Prec = 1.0000, Train Rec = 0.9945, Train F-Beta = 0.9989, Train Loss = 0.0040\n",
      "  Val Acc = 0.9332, Val Prec = 0.5645, Val Rec = 0.8750, Val F-Beta = 0.6076, Val Loss = 0.3286\n"
     ]
    },
    {
     "name": "stderr",
     "output_type": "stream",
     "text": [
      "Iteration 10 - Epoch 14 - Training: 100%|██████████| 60/60 [00:18<00:00,  3.23it/s]\n",
      "Iteration 10 - Epoch 14 - Validation: 100%|██████████| 15/15 [00:01<00:00,  9.89it/s]\n"
     ]
    },
    {
     "name": "stdout",
     "output_type": "stream",
     "text": [
      "Iteration 10 - Epoch 14:\n",
      "  Train Acc = 0.9916, Train Prec = 0.9611, Train Rec = 0.9505, Train F-Beta = 0.9590, Train Loss = 0.0235\n",
      "  Val Acc = 0.9645, Val Prec = 0.7805, Val Rec = 0.8000, Val F-Beta = 0.7843, Val Loss = 0.1951\n"
     ]
    },
    {
     "name": "stderr",
     "output_type": "stream",
     "text": [
      "Iteration 10 - Epoch 15 - Training: 100%|██████████| 60/60 [00:18<00:00,  3.24it/s]\n",
      "Iteration 10 - Epoch 15 - Validation: 100%|██████████| 15/15 [00:01<00:00,  9.70it/s]\n"
     ]
    },
    {
     "name": "stdout",
     "output_type": "stream",
     "text": [
      "Iteration 10 - Epoch 15:\n",
      "  Train Acc = 0.9979, Train Prec = 0.9890, Train Rec = 0.9890, Train F-Beta = 0.9890, Train Loss = 0.0051\n",
      "  Val Acc = 0.9666, Val Prec = 0.7857, Val Rec = 0.8250, Val F-Beta = 0.7933, Val Loss = 0.2039\n"
     ]
    },
    {
     "name": "stderr",
     "output_type": "stream",
     "text": [
      "Iteration 10 - Epoch 16 - Training: 100%|██████████| 60/60 [00:18<00:00,  3.23it/s]\n",
      "Iteration 10 - Epoch 16 - Validation: 100%|██████████| 15/15 [00:01<00:00,  9.74it/s]\n"
     ]
    },
    {
     "name": "stdout",
     "output_type": "stream",
     "text": [
      "Iteration 10 - Epoch 16:\n",
      "  Train Acc = 1.0000, Train Prec = 1.0000, Train Rec = 1.0000, Train F-Beta = 1.0000, Train Loss = 0.0014\n",
      "  Val Acc = 0.9666, Val Prec = 0.7857, Val Rec = 0.8250, Val F-Beta = 0.7933, Val Loss = 0.2250\n"
     ]
    },
    {
     "name": "stderr",
     "output_type": "stream",
     "text": [
      "Iteration 10 - Epoch 17 - Training: 100%|██████████| 60/60 [00:18<00:00,  3.23it/s]\n",
      "Iteration 10 - Epoch 17 - Validation: 100%|██████████| 15/15 [00:01<00:00,  9.78it/s]\n"
     ]
    },
    {
     "name": "stdout",
     "output_type": "stream",
     "text": [
      "Iteration 10 - Epoch 17:\n",
      "  Train Acc = 0.9995, Train Prec = 0.9945, Train Rec = 1.0000, Train F-Beta = 0.9956, Train Loss = 0.0016\n",
      "  Val Acc = 0.9666, Val Prec = 0.8529, Val Rec = 0.7250, Val F-Beta = 0.8239, Val Loss = 0.2379\n"
     ]
    },
    {
     "name": "stderr",
     "output_type": "stream",
     "text": [
      "Iteration 10 - Epoch 18 - Training: 100%|██████████| 60/60 [00:18<00:00,  3.25it/s]\n",
      "Iteration 10 - Epoch 18 - Validation: 100%|██████████| 15/15 [00:01<00:00,  9.75it/s]\n"
     ]
    },
    {
     "name": "stdout",
     "output_type": "stream",
     "text": [
      "Iteration 10 - Epoch 18:\n",
      "  Train Acc = 0.9984, Train Prec = 0.9945, Train Rec = 0.9890, Train F-Beta = 0.9934, Train Loss = 0.0043\n",
      "  Val Acc = 0.9582, Val Prec = 0.7083, Val Rec = 0.8500, Val F-Beta = 0.7328, Val Loss = 0.2120\n"
     ]
    },
    {
     "name": "stderr",
     "output_type": "stream",
     "text": [
      "Iteration 10 - Epoch 19 - Training: 100%|██████████| 60/60 [00:18<00:00,  3.25it/s]\n",
      "Iteration 10 - Epoch 19 - Validation: 100%|██████████| 15/15 [00:01<00:00,  9.77it/s]\n"
     ]
    },
    {
     "name": "stdout",
     "output_type": "stream",
     "text": [
      "Iteration 10 - Epoch 19:\n",
      "  Train Acc = 0.9990, Train Prec = 0.9945, Train Rec = 0.9945, Train F-Beta = 0.9945, Train Loss = 0.0064\n",
      "  Val Acc = 0.9687, Val Prec = 0.8205, Val Rec = 0.8000, Val F-Beta = 0.8163, Val Loss = 0.1970\n"
     ]
    },
    {
     "name": "stderr",
     "output_type": "stream",
     "text": [
      "Iteration 10 - Epoch 20 - Training: 100%|██████████| 60/60 [00:18<00:00,  3.25it/s]\n",
      "Iteration 10 - Epoch 20 - Validation: 100%|██████████| 15/15 [00:01<00:00,  9.78it/s]\n"
     ]
    },
    {
     "name": "stdout",
     "output_type": "stream",
     "text": [
      "Iteration 10 - Epoch 20:\n",
      "  Train Acc = 0.9995, Train Prec = 1.0000, Train Rec = 0.9945, Train F-Beta = 0.9989, Train Loss = 0.0011\n",
      "  Val Acc = 0.9603, Val Prec = 0.7333, Val Rec = 0.8250, Val F-Beta = 0.7500, Val Loss = 0.2464\n"
     ]
    },
    {
     "name": "stderr",
     "output_type": "stream",
     "text": [
      "Iteration 10 - Epoch 21 - Training: 100%|██████████| 60/60 [00:18<00:00,  3.23it/s]\n",
      "Iteration 10 - Epoch 21 - Validation: 100%|██████████| 15/15 [00:01<00:00,  9.79it/s]\n"
     ]
    },
    {
     "name": "stdout",
     "output_type": "stream",
     "text": [
      "Iteration 10 - Epoch 21:\n",
      "  Train Acc = 1.0000, Train Prec = 1.0000, Train Rec = 1.0000, Train F-Beta = 1.0000, Train Loss = 0.0005\n",
      "  Val Acc = 0.9687, Val Prec = 0.8049, Val Rec = 0.8250, Val F-Beta = 0.8088, Val Loss = 0.2220\n"
     ]
    },
    {
     "name": "stderr",
     "output_type": "stream",
     "text": [
      "Iteration 10 - Epoch 22 - Training: 100%|██████████| 60/60 [00:18<00:00,  3.22it/s]\n",
      "Iteration 10 - Epoch 22 - Validation: 100%|██████████| 15/15 [00:01<00:00,  9.72it/s]\n"
     ]
    },
    {
     "name": "stdout",
     "output_type": "stream",
     "text": [
      "Iteration 10 - Epoch 22:\n",
      "  Train Acc = 1.0000, Train Prec = 1.0000, Train Rec = 1.0000, Train F-Beta = 1.0000, Train Loss = 0.0003\n",
      "  Val Acc = 0.9687, Val Prec = 0.8049, Val Rec = 0.8250, Val F-Beta = 0.8088, Val Loss = 0.2263\n"
     ]
    },
    {
     "name": "stderr",
     "output_type": "stream",
     "text": [
      "Iteration 10 - Epoch 23 - Training: 100%|██████████| 60/60 [00:18<00:00,  3.24it/s]\n",
      "Iteration 10 - Epoch 23 - Validation: 100%|██████████| 15/15 [00:01<00:00,  9.76it/s]\n"
     ]
    },
    {
     "name": "stdout",
     "output_type": "stream",
     "text": [
      "Iteration 10 - Epoch 23:\n",
      "  Train Acc = 0.9995, Train Prec = 1.0000, Train Rec = 0.9945, Train F-Beta = 0.9989, Train Loss = 0.0027\n",
      "  Val Acc = 0.9687, Val Prec = 0.8049, Val Rec = 0.8250, Val F-Beta = 0.8088, Val Loss = 0.2282\n"
     ]
    },
    {
     "name": "stderr",
     "output_type": "stream",
     "text": [
      "Iteration 10 - Epoch 24 - Training: 100%|██████████| 60/60 [00:18<00:00,  3.24it/s]\n",
      "Iteration 10 - Epoch 24 - Validation: 100%|██████████| 15/15 [00:01<00:00,  9.60it/s]\n"
     ]
    },
    {
     "name": "stdout",
     "output_type": "stream",
     "text": [
      "Iteration 10 - Epoch 24:\n",
      "  Train Acc = 1.0000, Train Prec = 1.0000, Train Rec = 1.0000, Train F-Beta = 1.0000, Train Loss = 0.0003\n",
      "  Val Acc = 0.9687, Val Prec = 0.8049, Val Rec = 0.8250, Val F-Beta = 0.8088, Val Loss = 0.2314\n"
     ]
    },
    {
     "name": "stderr",
     "output_type": "stream",
     "text": [
      "Iteration 10 - Epoch 25 - Training: 100%|██████████| 60/60 [00:18<00:00,  3.23it/s]\n",
      "Iteration 10 - Epoch 25 - Validation: 100%|██████████| 15/15 [00:01<00:00,  9.81it/s]\n"
     ]
    },
    {
     "name": "stdout",
     "output_type": "stream",
     "text": [
      "Iteration 10 - Epoch 25:\n",
      "  Train Acc = 1.0000, Train Prec = 1.0000, Train Rec = 1.0000, Train F-Beta = 1.0000, Train Loss = 0.0003\n",
      "  Val Acc = 0.9687, Val Prec = 0.8049, Val Rec = 0.8250, Val F-Beta = 0.8088, Val Loss = 0.2348\n"
     ]
    },
    {
     "name": "stderr",
     "output_type": "stream",
     "text": [
      "Iteration 10 - Epoch 26 - Training: 100%|██████████| 60/60 [00:18<00:00,  3.23it/s]\n",
      "Iteration 10 - Epoch 26 - Validation: 100%|██████████| 15/15 [00:01<00:00,  9.79it/s]\n"
     ]
    },
    {
     "name": "stdout",
     "output_type": "stream",
     "text": [
      "Iteration 10 - Epoch 26:\n",
      "  Train Acc = 1.0000, Train Prec = 1.0000, Train Rec = 1.0000, Train F-Beta = 1.0000, Train Loss = 0.0004\n",
      "  Val Acc = 0.9645, Val Prec = 0.7674, Val Rec = 0.8250, Val F-Beta = 0.7783, Val Loss = 0.2457\n"
     ]
    },
    {
     "name": "stderr",
     "output_type": "stream",
     "text": [
      "Iteration 10 - Epoch 27 - Training: 100%|██████████| 60/60 [00:18<00:00,  3.25it/s]\n",
      "Iteration 10 - Epoch 27 - Validation: 100%|██████████| 15/15 [00:01<00:00,  9.87it/s]\n"
     ]
    },
    {
     "name": "stdout",
     "output_type": "stream",
     "text": [
      "Iteration 10 - Epoch 27:\n",
      "  Train Acc = 1.0000, Train Prec = 1.0000, Train Rec = 1.0000, Train F-Beta = 1.0000, Train Loss = 0.0003\n",
      "  Val Acc = 0.9687, Val Prec = 0.8049, Val Rec = 0.8250, Val F-Beta = 0.8088, Val Loss = 0.2392\n"
     ]
    },
    {
     "name": "stderr",
     "output_type": "stream",
     "text": [
      "Iteration 10 - Epoch 28 - Training: 100%|██████████| 60/60 [00:18<00:00,  3.22it/s]\n",
      "Iteration 10 - Epoch 28 - Validation: 100%|██████████| 15/15 [00:01<00:00,  9.66it/s]\n"
     ]
    },
    {
     "name": "stdout",
     "output_type": "stream",
     "text": [
      "Iteration 10 - Epoch 28:\n",
      "  Train Acc = 1.0000, Train Prec = 1.0000, Train Rec = 1.0000, Train F-Beta = 1.0000, Train Loss = 0.0002\n",
      "  Val Acc = 0.9687, Val Prec = 0.8049, Val Rec = 0.8250, Val F-Beta = 0.8088, Val Loss = 0.2414\n"
     ]
    },
    {
     "name": "stderr",
     "output_type": "stream",
     "text": [
      "Iteration 10 - Epoch 29 - Training: 100%|██████████| 60/60 [00:18<00:00,  3.23it/s]\n",
      "Iteration 10 - Epoch 29 - Validation: 100%|██████████| 15/15 [00:01<00:00,  9.74it/s]\n"
     ]
    },
    {
     "name": "stdout",
     "output_type": "stream",
     "text": [
      "Iteration 10 - Epoch 29:\n",
      "  Train Acc = 1.0000, Train Prec = 1.0000, Train Rec = 1.0000, Train F-Beta = 1.0000, Train Loss = 0.0003\n",
      "  Val Acc = 0.9687, Val Prec = 0.8049, Val Rec = 0.8250, Val F-Beta = 0.8088, Val Loss = 0.2471\n"
     ]
    },
    {
     "name": "stderr",
     "output_type": "stream",
     "text": [
      "Iteration 10 - Epoch 30 - Training: 100%|██████████| 60/60 [00:18<00:00,  3.24it/s]\n",
      "Iteration 10 - Epoch 30 - Validation: 100%|██████████| 15/15 [00:01<00:00,  9.75it/s]\n"
     ]
    },
    {
     "name": "stdout",
     "output_type": "stream",
     "text": [
      "Iteration 10 - Epoch 30:\n",
      "  Train Acc = 1.0000, Train Prec = 1.0000, Train Rec = 1.0000, Train F-Beta = 1.0000, Train Loss = 0.0001\n",
      "  Val Acc = 0.9687, Val Prec = 0.8049, Val Rec = 0.8250, Val F-Beta = 0.8088, Val Loss = 0.2499\n"
     ]
    },
    {
     "name": "stderr",
     "output_type": "stream",
     "text": [
      "Iteration 10 - Epoch 31 - Training: 100%|██████████| 60/60 [00:18<00:00,  3.26it/s]\n",
      "Iteration 10 - Epoch 31 - Validation: 100%|██████████| 15/15 [00:01<00:00,  9.77it/s]\n"
     ]
    },
    {
     "name": "stdout",
     "output_type": "stream",
     "text": [
      "Iteration 10 - Epoch 31:\n",
      "  Train Acc = 1.0000, Train Prec = 1.0000, Train Rec = 1.0000, Train F-Beta = 1.0000, Train Loss = 0.0001\n",
      "  Val Acc = 0.9687, Val Prec = 0.8049, Val Rec = 0.8250, Val F-Beta = 0.8088, Val Loss = 0.2520\n"
     ]
    },
    {
     "name": "stderr",
     "output_type": "stream",
     "text": [
      "Iteration 10 - Epoch 32 - Training: 100%|██████████| 60/60 [00:18<00:00,  3.23it/s]\n",
      "Iteration 10 - Epoch 32 - Validation: 100%|██████████| 15/15 [00:01<00:00,  9.67it/s]\n"
     ]
    },
    {
     "name": "stdout",
     "output_type": "stream",
     "text": [
      "Iteration 10 - Epoch 32:\n",
      "  Train Acc = 1.0000, Train Prec = 1.0000, Train Rec = 1.0000, Train F-Beta = 1.0000, Train Loss = 0.0002\n",
      "  Val Acc = 0.9687, Val Prec = 0.8049, Val Rec = 0.8250, Val F-Beta = 0.8088, Val Loss = 0.2544\n"
     ]
    },
    {
     "name": "stderr",
     "output_type": "stream",
     "text": [
      "Iteration 10 - Epoch 33 - Training: 100%|██████████| 60/60 [00:18<00:00,  3.24it/s]\n",
      "Iteration 10 - Epoch 33 - Validation: 100%|██████████| 15/15 [00:01<00:00,  9.71it/s]\n"
     ]
    },
    {
     "name": "stdout",
     "output_type": "stream",
     "text": [
      "Iteration 10 - Epoch 33:\n",
      "  Train Acc = 0.9974, Train Prec = 0.9784, Train Rec = 0.9945, Train F-Beta = 0.9816, Train Loss = 0.0105\n",
      "  Val Acc = 0.9562, Val Prec = 0.9130, Val Rec = 0.5250, Val F-Beta = 0.7955, Val Loss = 0.2564\n"
     ]
    },
    {
     "name": "stderr",
     "output_type": "stream",
     "text": [
      "Iteration 10 - Epoch 34 - Training: 100%|██████████| 60/60 [00:18<00:00,  3.22it/s]\n",
      "Iteration 10 - Epoch 34 - Validation: 100%|██████████| 15/15 [00:01<00:00,  9.70it/s]\n"
     ]
    },
    {
     "name": "stdout",
     "output_type": "stream",
     "text": [
      "Iteration 10 - Epoch 34:\n",
      "  Train Acc = 0.9869, Train Prec = 0.9538, Train Rec = 0.9066, Train F-Beta = 0.9439, Train Loss = 0.0492\n",
      "  Val Acc = 0.9708, Val Prec = 0.8421, Val Rec = 0.8000, Val F-Beta = 0.8333, Val Loss = 0.1525\n"
     ]
    },
    {
     "name": "stderr",
     "output_type": "stream",
     "text": [
      "Iteration 10 - Epoch 35 - Training: 100%|██████████| 60/60 [00:18<00:00,  3.23it/s]\n",
      "Iteration 10 - Epoch 35 - Validation: 100%|██████████| 15/15 [00:01<00:00,  9.78it/s]\n"
     ]
    },
    {
     "name": "stdout",
     "output_type": "stream",
     "text": [
      "Iteration 10 - Epoch 35:\n",
      "  Train Acc = 0.9969, Train Prec = 0.9835, Train Rec = 0.9835, Train F-Beta = 0.9835, Train Loss = 0.0076\n",
      "  Val Acc = 0.9666, Val Prec = 0.8158, Val Rec = 0.7750, Val F-Beta = 0.8073, Val Loss = 0.1988\n"
     ]
    },
    {
     "name": "stderr",
     "output_type": "stream",
     "text": [
      "Iteration 10 - Epoch 36 - Training: 100%|██████████| 60/60 [00:18<00:00,  3.24it/s]\n",
      "Iteration 10 - Epoch 36 - Validation: 100%|██████████| 15/15 [00:01<00:00,  9.77it/s]\n"
     ]
    },
    {
     "name": "stdout",
     "output_type": "stream",
     "text": [
      "Iteration 10 - Epoch 36:\n",
      "  Train Acc = 0.9990, Train Prec = 0.9945, Train Rec = 0.9945, Train F-Beta = 0.9945, Train Loss = 0.0030\n",
      "  Val Acc = 0.9582, Val Prec = 0.7174, Val Rec = 0.8250, Val F-Beta = 0.7366, Val Loss = 0.2130\n"
     ]
    },
    {
     "name": "stderr",
     "output_type": "stream",
     "text": [
      "Iteration 10 - Epoch 37 - Training: 100%|██████████| 60/60 [00:18<00:00,  3.24it/s]\n",
      "Iteration 10 - Epoch 37 - Validation: 100%|██████████| 15/15 [00:01<00:00,  9.64it/s]\n"
     ]
    },
    {
     "name": "stdout",
     "output_type": "stream",
     "text": [
      "Iteration 10 - Epoch 37:\n",
      "  Train Acc = 1.0000, Train Prec = 1.0000, Train Rec = 1.0000, Train F-Beta = 1.0000, Train Loss = 0.0007\n",
      "  Val Acc = 0.9645, Val Prec = 0.7949, Val Rec = 0.7750, Val F-Beta = 0.7908, Val Loss = 0.2295\n"
     ]
    },
    {
     "name": "stderr",
     "output_type": "stream",
     "text": [
      "Iteration 10 - Epoch 38 - Training: 100%|██████████| 60/60 [00:18<00:00,  3.23it/s]\n",
      "Iteration 10 - Epoch 38 - Validation: 100%|██████████| 15/15 [00:01<00:00,  9.53it/s]\n"
     ]
    },
    {
     "name": "stdout",
     "output_type": "stream",
     "text": [
      "Iteration 10 - Epoch 38:\n",
      "  Train Acc = 1.0000, Train Prec = 1.0000, Train Rec = 1.0000, Train F-Beta = 1.0000, Train Loss = 0.0006\n",
      "  Val Acc = 0.9666, Val Prec = 0.7857, Val Rec = 0.8250, Val F-Beta = 0.7933, Val Loss = 0.2516\n"
     ]
    },
    {
     "name": "stderr",
     "output_type": "stream",
     "text": [
      "Iteration 10 - Epoch 39 - Training: 100%|██████████| 60/60 [00:18<00:00,  3.22it/s]\n",
      "Iteration 10 - Epoch 39 - Validation: 100%|██████████| 15/15 [00:01<00:00,  9.78it/s]\n"
     ]
    },
    {
     "name": "stdout",
     "output_type": "stream",
     "text": [
      "Iteration 10 - Epoch 39:\n",
      "  Train Acc = 1.0000, Train Prec = 1.0000, Train Rec = 1.0000, Train F-Beta = 1.0000, Train Loss = 0.0003\n",
      "  Val Acc = 0.9666, Val Prec = 0.8000, Val Rec = 0.8000, Val F-Beta = 0.8000, Val Loss = 0.2523\n"
     ]
    },
    {
     "name": "stderr",
     "output_type": "stream",
     "text": [
      "Iteration 10 - Epoch 40 - Training: 100%|██████████| 60/60 [00:18<00:00,  3.24it/s]\n",
      "Iteration 10 - Epoch 40 - Validation: 100%|██████████| 15/15 [00:01<00:00,  9.57it/s]\n"
     ]
    },
    {
     "name": "stdout",
     "output_type": "stream",
     "text": [
      "Iteration 10 - Epoch 40:\n",
      "  Train Acc = 1.0000, Train Prec = 1.0000, Train Rec = 1.0000, Train F-Beta = 1.0000, Train Loss = 0.0002\n",
      "  Val Acc = 0.9666, Val Prec = 0.8000, Val Rec = 0.8000, Val F-Beta = 0.8000, Val Loss = 0.2550\n"
     ]
    },
    {
     "name": "stderr",
     "output_type": "stream",
     "text": [
      "Iteration 10 - Epoch 41 - Training: 100%|██████████| 60/60 [00:18<00:00,  3.25it/s]\n",
      "Iteration 10 - Epoch 41 - Validation: 100%|██████████| 15/15 [00:01<00:00,  9.97it/s]\n"
     ]
    },
    {
     "name": "stdout",
     "output_type": "stream",
     "text": [
      "Iteration 10 - Epoch 41:\n",
      "  Train Acc = 1.0000, Train Prec = 1.0000, Train Rec = 1.0000, Train F-Beta = 1.0000, Train Loss = 0.0001\n",
      "  Val Acc = 0.9666, Val Prec = 0.8000, Val Rec = 0.8000, Val F-Beta = 0.8000, Val Loss = 0.2589\n"
     ]
    },
    {
     "name": "stderr",
     "output_type": "stream",
     "text": [
      "Iteration 10 - Epoch 42 - Training: 100%|██████████| 60/60 [00:18<00:00,  3.26it/s]\n",
      "Iteration 10 - Epoch 42 - Validation: 100%|██████████| 15/15 [00:01<00:00,  9.82it/s]\n"
     ]
    },
    {
     "name": "stdout",
     "output_type": "stream",
     "text": [
      "Iteration 10 - Epoch 42:\n",
      "  Train Acc = 1.0000, Train Prec = 1.0000, Train Rec = 1.0000, Train F-Beta = 1.0000, Train Loss = 0.0003\n",
      "  Val Acc = 0.9666, Val Prec = 0.8333, Val Rec = 0.7500, Val F-Beta = 0.8152, Val Loss = 0.2564\n"
     ]
    },
    {
     "name": "stderr",
     "output_type": "stream",
     "text": [
      "Iteration 10 - Epoch 43 - Training: 100%|██████████| 60/60 [00:18<00:00,  3.19it/s]\n",
      "Iteration 10 - Epoch 43 - Validation: 100%|██████████| 15/15 [00:01<00:00,  9.82it/s]\n"
     ]
    },
    {
     "name": "stdout",
     "output_type": "stream",
     "text": [
      "Iteration 10 - Epoch 43:\n",
      "  Train Acc = 1.0000, Train Prec = 1.0000, Train Rec = 1.0000, Train F-Beta = 1.0000, Train Loss = 0.0003\n",
      "  Val Acc = 0.9603, Val Prec = 0.7234, Val Rec = 0.8500, Val F-Beta = 0.7456, Val Loss = 0.2317\n"
     ]
    },
    {
     "name": "stderr",
     "output_type": "stream",
     "text": [
      "Iteration 10 - Epoch 44 - Training: 100%|██████████| 60/60 [00:18<00:00,  3.24it/s]\n",
      "Iteration 10 - Epoch 44 - Validation: 100%|██████████| 15/15 [00:01<00:00,  9.83it/s]\n"
     ]
    },
    {
     "name": "stdout",
     "output_type": "stream",
     "text": [
      "Iteration 10 - Epoch 44:\n",
      "  Train Acc = 1.0000, Train Prec = 1.0000, Train Rec = 1.0000, Train F-Beta = 1.0000, Train Loss = 0.0002\n",
      "  Val Acc = 0.9708, Val Prec = 0.8095, Val Rec = 0.8500, Val F-Beta = 0.8173, Val Loss = 0.2373\n"
     ]
    },
    {
     "name": "stderr",
     "output_type": "stream",
     "text": [
      "Iteration 10 - Epoch 45 - Training: 100%|██████████| 60/60 [00:18<00:00,  3.20it/s]\n",
      "Iteration 10 - Epoch 45 - Validation: 100%|██████████| 15/15 [00:01<00:00,  9.69it/s]\n"
     ]
    },
    {
     "name": "stdout",
     "output_type": "stream",
     "text": [
      "Iteration 10 - Epoch 45:\n",
      "  Train Acc = 1.0000, Train Prec = 1.0000, Train Rec = 1.0000, Train F-Beta = 1.0000, Train Loss = 0.0001\n",
      "  Val Acc = 0.9687, Val Prec = 0.8049, Val Rec = 0.8250, Val F-Beta = 0.8088, Val Loss = 0.2406\n"
     ]
    },
    {
     "name": "stderr",
     "output_type": "stream",
     "text": [
      "Iteration 10 - Epoch 46 - Training: 100%|██████████| 60/60 [00:18<00:00,  3.22it/s]\n",
      "Iteration 10 - Epoch 46 - Validation: 100%|██████████| 15/15 [00:01<00:00,  9.71it/s]\n"
     ]
    },
    {
     "name": "stdout",
     "output_type": "stream",
     "text": [
      "Iteration 10 - Epoch 46:\n",
      "  Train Acc = 1.0000, Train Prec = 1.0000, Train Rec = 1.0000, Train F-Beta = 1.0000, Train Loss = 0.0001\n",
      "  Val Acc = 0.9708, Val Prec = 0.8250, Val Rec = 0.8250, Val F-Beta = 0.8250, Val Loss = 0.2501\n"
     ]
    },
    {
     "name": "stderr",
     "output_type": "stream",
     "text": [
      "Iteration 10 - Epoch 47 - Training: 100%|██████████| 60/60 [00:18<00:00,  3.24it/s]\n",
      "Iteration 10 - Epoch 47 - Validation: 100%|██████████| 15/15 [00:01<00:00,  9.80it/s]\n"
     ]
    },
    {
     "name": "stdout",
     "output_type": "stream",
     "text": [
      "Iteration 10 - Epoch 47:\n",
      "  Train Acc = 1.0000, Train Prec = 1.0000, Train Rec = 1.0000, Train F-Beta = 1.0000, Train Loss = 0.0002\n",
      "  Val Acc = 0.9708, Val Prec = 0.8250, Val Rec = 0.8250, Val F-Beta = 0.8250, Val Loss = 0.2545\n"
     ]
    },
    {
     "name": "stderr",
     "output_type": "stream",
     "text": [
      "Iteration 10 - Epoch 48 - Training: 100%|██████████| 60/60 [00:18<00:00,  3.23it/s]\n",
      "Iteration 10 - Epoch 48 - Validation: 100%|██████████| 15/15 [00:01<00:00,  9.66it/s]\n"
     ]
    },
    {
     "name": "stdout",
     "output_type": "stream",
     "text": [
      "Iteration 10 - Epoch 48:\n",
      "  Train Acc = 0.9990, Train Prec = 0.9945, Train Rec = 0.9945, Train F-Beta = 0.9945, Train Loss = 0.0021\n",
      "  Val Acc = 0.9666, Val Prec = 0.8000, Val Rec = 0.8000, Val F-Beta = 0.8000, Val Loss = 0.2730\n"
     ]
    },
    {
     "name": "stderr",
     "output_type": "stream",
     "text": [
      "Iteration 10 - Epoch 49 - Training: 100%|██████████| 60/60 [00:18<00:00,  3.24it/s]\n",
      "Iteration 10 - Epoch 49 - Validation: 100%|██████████| 15/15 [00:01<00:00,  9.65it/s]\n"
     ]
    },
    {
     "name": "stdout",
     "output_type": "stream",
     "text": [
      "Iteration 10 - Epoch 49:\n",
      "  Train Acc = 0.9995, Train Prec = 0.9945, Train Rec = 1.0000, Train F-Beta = 0.9956, Train Loss = 0.0035\n",
      "  Val Acc = 0.9687, Val Prec = 0.8205, Val Rec = 0.8000, Val F-Beta = 0.8163, Val Loss = 0.2620\n"
     ]
    },
    {
     "name": "stderr",
     "output_type": "stream",
     "text": [
      "Iteration 10 - Epoch 50 - Training: 100%|██████████| 60/60 [00:18<00:00,  3.21it/s]\n",
      "Iteration 10 - Epoch 50 - Validation: 100%|██████████| 15/15 [00:01<00:00,  9.68it/s]\n"
     ]
    },
    {
     "name": "stdout",
     "output_type": "stream",
     "text": [
      "Iteration 10 - Epoch 50:\n",
      "  Train Acc = 1.0000, Train Prec = 1.0000, Train Rec = 1.0000, Train F-Beta = 1.0000, Train Loss = 0.0005\n",
      "  Val Acc = 0.9729, Val Prec = 0.8649, Val Rec = 0.8000, Val F-Beta = 0.8511, Val Loss = 0.2464\n",
      "  Better model saved with 0.8511 F-beta score.\n",
      "Training finished.\n"
     ]
    }
   ],
   "source": [
    "# 학습 시작\n",
    "\n",
    "best_val_f_beta = 0.0\n",
    "best_model_path = None\n",
    "\n",
    "for iteration in range(ITERATION):\n",
    "    print(f'Iteration {iteration + 1}/{ITERATION}')\n",
    "\n",
    "    model = AutoModelForSequenceClassification.from_pretrained(MODEL_ID, num_labels=2)\n",
    "    model.to(device)\n",
    "\n",
    "    optimizer = torch.optim.AdamW(model.parameters(), lr=LEARNING_RATE)\n",
    "    total_steps = len(train_dataset) * EPOCHS\n",
    "    scheduler = get_linear_schedule_with_warmup(optimizer, num_warmup_steps=0, num_training_steps=total_steps)\n",
    "\n",
    "    better_val_f_beta = 0.0\n",
    "    better_model_path = None\n",
    "\n",
    "    for epoch in range(EPOCHS):\n",
    "        model.train()\n",
    "\n",
    "        train_loss = 0.0\n",
    "        train_predictions = []\n",
    "        train_labels_epoch = []\n",
    "\n",
    "        for batch in tqdm(train_dataloader, desc=f'Iteration {iteration + 1} - Epoch {epoch + 1} - Training'):\n",
    "            input_ids = batch[0].to(device)\n",
    "            attention_mask = batch[1].to(device)\n",
    "            labels = batch[2].to(device)\n",
    "\n",
    "            optimizer.zero_grad()\n",
    "            outputs = model(input_ids, attention_mask=attention_mask, labels=labels)\n",
    "            loss = outputs.loss\n",
    "            train_loss += loss.item()\n",
    "            loss.backward()\n",
    "            optimizer.step()\n",
    "            scheduler.step()\n",
    "            logits = outputs.logits\n",
    "            predictions = torch.argmax(logits, dim=1)\n",
    "\n",
    "            train_predictions.extend(predictions.tolist())\n",
    "            train_labels_epoch.extend(labels.tolist())\n",
    "\n",
    "        train_acc, train_prec, train_rec, train_f_beta = calculate_metrics(train_labels_epoch, train_predictions)\n",
    "        train_loss /= len(train_dataloader)\n",
    "\n",
    "        model.eval()\n",
    "\n",
    "        val_loss = 0.0\n",
    "        val_predictions = []\n",
    "\n",
    "        with torch.no_grad():\n",
    "            for batch in tqdm(val_dataloader, desc=f'Iteration {iteration + 1} - Epoch {epoch + 1} - Validation'):\n",
    "                input_ids = batch[0].to(device)\n",
    "                attention_mask = batch[1].to(device)\n",
    "                labels = batch[2].to(device)\n",
    "\n",
    "                outputs = model(input_ids, attention_mask=attention_mask, labels=labels)\n",
    "                loss = outputs.loss\n",
    "                val_loss += loss.item()\n",
    "                logits = outputs.logits\n",
    "                predictions = torch.argmax(logits, dim=1)\n",
    "\n",
    "                val_predictions.extend(predictions.tolist())\n",
    "\n",
    "        val_acc, val_prec, val_rec, val_f_beta = calculate_metrics(val_labels, val_predictions)\n",
    "        val_loss /= len(val_dataloader)\n",
    "\n",
    "        print(f'Iteration {iteration + 1} - Epoch {epoch + 1}:')\n",
    "        print(f'  Train Acc = {train_acc:.4f}, Train Prec = {train_prec:.4f}, Train Rec = {train_rec:.4f}, Train F-Beta = {train_f_beta:.4f}, Train Loss = {train_loss:.4f}')\n",
    "        print(f'  Val Acc = {val_acc:.4f}, Val Prec = {val_prec:.4f}, Val Rec = {val_rec:.4f}, Val F-Beta = {val_f_beta:.4f}, Val Loss = {val_loss:.4f}')\n",
    "\n",
    "        if val_f_beta > better_val_f_beta:\n",
    "            better_val_f_beta = val_f_beta\n",
    "            better_model_path = f'{SAVE_PATH}/model-{TARGET_CATEGORY:02d}-iteration-{iteration + 1:02d}-epoch-{epoch + 1:02d}-{better_val_f_beta:.4f}'\n",
    "            model.save_pretrained(better_model_path)\n",
    "            tokenizer.save_pretrained(better_model_path)\n",
    "            print(f'  Better model saved with {better_val_f_beta:.4f} F-beta score.')\n",
    "\n",
    "    if better_val_f_beta > best_val_f_beta:\n",
    "        best_val_f_beta = better_val_f_beta\n",
    "        best_model_path = better_model_path\n",
    "\n",
    "print('Training finished.')"
   ]
  },
  {
   "cell_type": "code",
   "execution_count": 37,
   "metadata": {},
   "outputs": [
    {
     "name": "stdout",
     "output_type": "stream",
     "text": [
      "Best model path: ./model-07-iteration-09-epoch-21-0.8631\n",
      "\n",
      "텍스트: 학교에서 제공하는 심리 상담 서비스가 어떤 것들이 있나요?\n",
      "예측: 그 외 [0.999853253364563, 0.00014675782585982233]\n",
      "\n",
      "텍스트: 대학교 1학년 때 교양 과목으로 추천할 만한 강의가 있을까요?\n",
      "예측: 그 외 [0.9998499155044556, 0.00015010482457000762]\n",
      "\n",
      "텍스트: 학교 도서관에서 책을 대출하는 방법이 궁금합니다. 알려주실 수 있나요?\n",
      "예측: 캠퍼스 [0.002707836916670203, 0.9972921013832092]\n",
      "\n",
      "텍스트: 학교에서 운영하는 학생 지원 프로그램에는 어떤 것들이 있나요?\n",
      "예측: 그 외 [0.9881730675697327, 0.011826894246041775]\n",
      "\n",
      "텍스트: 교내 봉사활동 기회에 대해 더 자세히 알고 싶습니다. 정보를 제공해 주시겠어요?\n",
      "예측: 그 외 [0.9998527765274048, 0.00014716335863340646]\n",
      "\n",
      "텍스트: 이번 학기 수강 신청 일정이 언제인가요? 강의 계획서는 어디서 확인할 수 있을까요?\n",
      "예측: 그 외 [0.999854326248169, 0.00014564284356310964]\n",
      "\n",
      "텍스트: 복수 전공 신청 자격 요건과 절차가 궁금합니다. 자세히 설명해 주실 수 있나요?\n",
      "예측: 그 외 [0.9998363256454468, 0.00016366808267775923]\n",
      "\n",
      "텍스트: 졸업 논문 제출 마감일이 언제인지 확인 부탁드립니다.\n",
      "예측: 그 외 [0.9998464584350586, 0.00015351334877777845]\n",
      "\n",
      "텍스트: 전공 필수 과목과 선택 과목의 차이점이 무엇인가요? 수강 계획을 위해 알려주시면 감사하겠습니다.\n",
      "예측: 그 외 [0.9998538494110107, 0.00014611842925660312]\n",
      "\n",
      "텍스트: 휴학 신청 방법과 유의사항에 대해 자세히 설명해 주시겠어요?\n",
      "예측: 그 외 [0.9998444318771362, 0.00015559495659545064]\n",
      "\n",
      "텍스트: 교내 장학금 신청 자격과 절차에 대해 알려주세요.\n",
      "예측: 그 외 [0.9998370409011841, 0.00016297228285111487]\n",
      "\n",
      "텍스트: 국가 장학금 신청 기간과 필요한 서류가 무엇인지 궁금합니다.\n",
      "예측: 그 외 [0.9998338222503662, 0.0001660943526076153]\n",
      "\n",
      "텍스트: 학자금 대출 상환 방법과 유예 조건에 대해 자세히 설명해 주시겠어요?\n",
      "예측: 그 외 [0.9998594522476196, 0.0001405763323418796]\n",
      "\n",
      "텍스트: 전과 신청 자격과 절차가 어떻게 되나요? 상세한 안내 부탁드립니다.\n",
      "예측: 그 외 [0.9997963309288025, 0.00020364880037959665]\n",
      "\n",
      "텍스트: 학생증 재발급 신청은 어떻게 하나요? 수수료가 있나요?\n",
      "예측: 그 외 [0.9998513460159302, 0.0001485838001826778]\n",
      "\n",
      "텍스트: 교내에서 활동 중인 동아리에는 어떤 것들이 있나요? 동아리 소개 부탁드립니다.\n",
      "예측: 그 외 [0.9998311996459961, 0.0001688131596893072]\n",
      "\n",
      "텍스트: 이번 학교 축제 일정과 프로그램이 궁금합니다. 정보 좀 알려주세요.\n",
      "예측: 캠퍼스 [0.004406076855957508, 0.9955939650535583]\n",
      "\n",
      "텍스트: 교내 체육대회 참가 신청 방법과 일정이 어떻게 되나요?\n",
      "예측: 그 외 [0.9998327493667603, 0.00016719088307581842]\n",
      "\n",
      "텍스트: 학생회에서 주최하는 이벤트와 캠페인에 대한 정보를 알려주실 수 있나요?\n",
      "예측: 그 외 [0.9998736381530762, 0.00012632210564333946]\n",
      "\n",
      "텍스트: 교환학생 프로그램에 대해 더 자세히 알고 싶습니다. 정보 제공 부탁드려요.\n",
      "예측: 그 외 [0.9998570680618286, 0.00014286603254731745]\n",
      "\n",
      "텍스트: 이번 학기 물리학 수업 과제 제출 마감일이 언제인가요?\n",
      "예측: 그 외 [0.9998470544815063, 0.0001529118890175596]\n",
      "\n",
      "텍스트: 미적분학 수업에서 배운 개념이 잘 이해되지 않습니다. 선배님들의 조언 부탁드려요.\n",
      "예측: 그 외 [0.999846339225769, 0.00015360808174591511]\n",
      "\n",
      "텍스트: 프로그래밍 언어 수업 수강을 고민하고 있는데, 파이썬과 자바 중 어떤 것을 추천하시나요?\n",
      "예측: 그 외 [0.9998553991317749, 0.00014459629892371595]\n",
      "\n",
      "텍스트: 공학수학 시험 범위가 어디까지인지 확인 부탁드립니다.\n",
      "예측: 그 외 [0.9998431205749512, 0.00015691263251937926]\n",
      "\n",
      "텍스트: 생물학 실험 수업을 들으려고 하는데, 실험복은 개별적으로 준비해야 하나요?\n",
      "예측: 그 외 [0.9998347759246826, 0.00016520320787094533]\n",
      "\n",
      "텍스트: 이번 학기 문학개론 수업 필독서 목록을 공유해 주시면 감사하겠습니다.\n",
      "예측: 그 외 [0.9998154044151306, 0.00018460684805177152]\n",
      "\n",
      "텍스트: 철학 수업에서 다루는 주요 사상가들에 대해 간단히 소개해 주실 수 있나요?\n",
      "예측: 그 외 [0.9998465776443481, 0.00015342773986048996]\n",
      "\n",
      "텍스트: 심리학 수업 팀 프로젝트 주제 선정에 대해 조언 부탁드립니다.\n",
      "예측: 그 외 [0.999854326248169, 0.00014562922297045588]\n",
      "\n",
      "텍스트: 역사학 수업 기말 리포트 분량과 참고문헌 작성 방법이 궁금합니다.\n",
      "예측: 그 외 [0.9998606443405151, 0.0001392772828694433]\n",
      "\n",
      "텍스트: 언어학 수업에서 배운 개념들을 실생활에 적용하는 방법이 있을까요?\n",
      "예측: 그 외 [0.9998378753662109, 0.00016212866466958076]\n",
      "\n",
      "텍스트: 학교 도서관 열람실 이용 시간과 좌석 예약 방법이 궁금합니다.\n",
      "예측: 캠퍼스 [0.003745956113561988, 0.9962539672851562]\n",
      "\n",
      "텍스트: 학교 식당 메뉴와 운영 시간을 알려주시면 감사하겠습니다.\n",
      "예측: 캠퍼스 [0.002798345871269703, 0.997201681137085]\n",
      "\n",
      "텍스트: 기숙사 입사 신청 자격과 절차가 어떻게 되나요? 상세한 안내 부탁드립니다.\n",
      "예측: 캠퍼스 [0.0027084914036095142, 0.9972915053367615]\n",
      "\n",
      "텍스트: 체력단련실 이용 방법과 운영 시간에 대해 알고 싶습니다.\n",
      "예측: 그 외 [0.9998657703399658, 0.0001341742608929053]\n",
      "\n",
      "텍스트: 교내 편의점 위치와 운영 시간을 알려주시겠어요?\n",
      "예측: 캠퍼스 [0.0028973810840398073, 0.9971025586128235]\n",
      "\n",
      "텍스트: 건강한 식단 관리를 위한 식습관 개선 팁을 공유해 주시면 감사하겠습니다.\n",
      "예측: 그 외 [0.9998072981834412, 0.0001927377306856215]\n",
      "\n",
      "텍스트: 효과적인 시간 관리 방법과 일정 계획 앱 추천 부탁드립니다.\n",
      "예측: 그 외 [0.9998341798782349, 0.0001658036926528439]\n",
      "\n",
      "텍스트: 자취생을 위한 저렴한 식재료 구매 장소와 요리 레시피 공유해 주세요.\n",
      "예측: 그 외 [0.9998282194137573, 0.00017180450959131122]\n",
      "\n",
      "텍스트: 대학생 알바 경험이 있으신 분들, 시간 관리와 스트레스 해소 팁 좀 알려주시겠어요?\n",
      "예측: 그 외 [0.9998500347137451, 0.00014989040209911764]\n",
      "\n",
      "텍스트: 병역 의무 관련 정보와 군 입대 시기 선택에 대한 조언 부탁드립니다.\n",
      "예측: 그 외 [0.9998518228530884, 0.0001481184153817594]\n",
      "\n",
      "텍스트: 강남에 가볼 만한 맛집이나 카페 추천해 주실 수 있나요?\n",
      "예측: 그 외 [0.9997853636741638, 0.00021470157662406564]\n",
      "\n",
      "텍스트: 축구 활동에 관심이 있는데, 자세한 정보 좀 알려주시겠어요?\n",
      "예측: 그 외 [0.9998401403427124, 0.00015983980847522616]\n",
      "\n",
      "텍스트: 기타 배우기 좋은 온라인 강의나 교재가 있다면 추천 부탁드립니다.\n",
      "예측: 그 외 [0.9998455047607422, 0.0001544710248708725]\n",
      "\n",
      "텍스트: 가까운 여행지나 나들이 장소 추천해 주시면 감사하겠습니다.\n",
      "예측: 그 외 [0.999818742275238, 0.0001812486443668604]\n",
      "\n",
      "텍스트: 사진 촬영 팁과 포토샵 강좌 정보 공유 부탁드려요.\n",
      "예측: 그 외 [0.9998462200164795, 0.0001538135838927701]\n",
      "\n",
      "텍스트: 대학교 새내기로서 선배님들과 좋은 관계를 맺는 방법이 있을까요?\n",
      "예측: 그 외 [0.9998576641082764, 0.00014225635095499456]\n",
      "\n",
      "텍스트: 동아리나 팀 프로젝트에서 팀원들과 갈등이 생겼을 때 해결하는 방법 좀 알려주세요.\n",
      "예측: 그 외 [0.9998583793640137, 0.00014162443403620273]\n",
      "\n",
      "텍스트: 친구들과 어색해졌을 때 관계 개선을 위한 조언 부탁드립니다.\n",
      "예측: 그 외 [0.9998471736907959, 0.0001528173015685752]\n",
      "\n",
      "텍스트: 선배님들께 인사나 존경을 표현하는 적절한 방법이 있나요?\n",
      "예측: 그 외 [0.9998565912246704, 0.00014344125520437956]\n",
      "\n",
      "텍스트: 성격 차이로 인한 친구와의 갈등을 해결하는 방법에 대해 조언 부탁드려요.\n",
      "예측: 그 외 [0.999843955039978, 0.00015601850464008749]\n",
      "\n",
      "텍스트: 효과적인 대외활동과 인턴십 준비 방법에 대해 조언 부탁드립니다.\n",
      "예측: 그 외 [0.9998300075531006, 0.0001699811255093664]\n",
      "\n",
      "텍스트: 전공과 관련된 자격증 취득을 위한 학습 계획 및 준비 과정이 궁금합니다.\n",
      "예측: 그 외 [0.9998509883880615, 0.00014902252587489784]\n",
      "\n",
      "텍스트: 취업 면접에서 자주 나오는 질문들과 답변 팁 좀 알려주시겠어요?\n",
      "예측: 그 외 [0.9998469352722168, 0.00015306536806747317]\n",
      "\n",
      "텍스트: LinkedIn 프로필 작성과 활용 방법에 대한 조언 부탁드립니다.\n",
      "예측: 그 외 [0.9998437166213989, 0.00015626789536327124]\n",
      "\n",
      "텍스트: 대학원 진학을 고민하고 있는데, 학업 계획과 준비 과정에 대해 알려주시면 감사하겠습니다.\n",
      "예측: 그 외 [0.9998377561569214, 0.00016219375538639724]\n",
      "\n"
     ]
    }
   ],
   "source": [
    "# 평가\n",
    "\n",
    "print(f'Best model path: {best_model_path}')\n",
    "print()\n",
    "\n",
    "model = AutoModelForSequenceClassification.from_pretrained(best_model_path, num_labels=2)\n",
    "model.to(device)\n",
    "\n",
    "predictions = [\n",
    "    # 질문 · 답변\n",
    "    '학교에서 제공하는 심리 상담 서비스가 어떤 것들이 있나요?',\n",
    "    '대학교 1학년 때 교양 과목으로 추천할 만한 강의가 있을까요?',\n",
    "    '학교 도서관에서 책을 대출하는 방법이 궁금합니다. 알려주실 수 있나요?',\n",
    "    '학교에서 운영하는 학생 지원 프로그램에는 어떤 것들이 있나요?',\n",
    "    '교내 봉사활동 기회에 대해 더 자세히 알고 싶습니다. 정보를 제공해 주시겠어요?',\n",
    "\n",
    "    # 학사 · 졸업\n",
    "    '이번 학기 수강 신청 일정이 언제인가요? 강의 계획서는 어디서 확인할 수 있을까요?',\n",
    "    '복수 전공 신청 자격 요건과 절차가 궁금합니다. 자세히 설명해 주실 수 있나요?',\n",
    "    '졸업 논문 제출 마감일이 언제인지 확인 부탁드립니다.',\n",
    "    '전공 필수 과목과 선택 과목의 차이점이 무엇인가요? 수강 계획을 위해 알려주시면 감사하겠습니다.',\n",
    "    '휴학 신청 방법과 유의사항에 대해 자세히 설명해 주시겠어요?',\n",
    "\n",
    "    # 장학 · 행정\n",
    "    '교내 장학금 신청 자격과 절차에 대해 알려주세요.',\n",
    "    '국가 장학금 신청 기간과 필요한 서류가 무엇인지 궁금합니다.',\n",
    "    '학자금 대출 상환 방법과 유예 조건에 대해 자세히 설명해 주시겠어요?',\n",
    "    '전과 신청 자격과 절차가 어떻게 되나요? 상세한 안내 부탁드립니다.',\n",
    "    '학생증 재발급 신청은 어떻게 하나요? 수수료가 있나요?',\n",
    "\n",
    "    # 학교생활\n",
    "    '교내에서 활동 중인 동아리에는 어떤 것들이 있나요? 동아리 소개 부탁드립니다.',\n",
    "    '이번 학교 축제 일정과 프로그램이 궁금합니다. 정보 좀 알려주세요.',\n",
    "    '교내 체육대회 참가 신청 방법과 일정이 어떻게 되나요?',\n",
    "    '학생회에서 주최하는 이벤트와 캠페인에 대한 정보를 알려주실 수 있나요?',\n",
    "    '교환학생 프로그램에 대해 더 자세히 알고 싶습니다. 정보 제공 부탁드려요.',\n",
    "\n",
    "    # 수업/이과\n",
    "    '이번 학기 물리학 수업 과제 제출 마감일이 언제인가요?',\n",
    "    '미적분학 수업에서 배운 개념이 잘 이해되지 않습니다. 선배님들의 조언 부탁드려요.',\n",
    "    '프로그래밍 언어 수업 수강을 고민하고 있는데, 파이썬과 자바 중 어떤 것을 추천하시나요?',\n",
    "    '공학수학 시험 범위가 어디까지인지 확인 부탁드립니다.',\n",
    "    '생물학 실험 수업을 들으려고 하는데, 실험복은 개별적으로 준비해야 하나요?',\n",
    "\n",
    "    # 수업/문과\n",
    "    '이번 학기 문학개론 수업 필독서 목록을 공유해 주시면 감사하겠습니다.',\n",
    "    '철학 수업에서 다루는 주요 사상가들에 대해 간단히 소개해 주실 수 있나요?',\n",
    "    '심리학 수업 팀 프로젝트 주제 선정에 대해 조언 부탁드립니다.',\n",
    "    '역사학 수업 기말 리포트 분량과 참고문헌 작성 방법이 궁금합니다.',\n",
    "    '언어학 수업에서 배운 개념들을 실생활에 적용하는 방법이 있을까요?',\n",
    "\n",
    "    # 캠퍼스\n",
    "    '학교 도서관 열람실 이용 시간과 좌석 예약 방법이 궁금합니다.',\n",
    "    '학교 식당 메뉴와 운영 시간을 알려주시면 감사하겠습니다.',\n",
    "    '기숙사 입사 신청 자격과 절차가 어떻게 되나요? 상세한 안내 부탁드립니다.',\n",
    "    '체력단련실 이용 방법과 운영 시간에 대해 알고 싶습니다.',\n",
    "    '교내 편의점 위치와 운영 시간을 알려주시겠어요?',\n",
    "\n",
    "    # 일상생활\n",
    "    '건강한 식단 관리를 위한 식습관 개선 팁을 공유해 주시면 감사하겠습니다.',\n",
    "    '효과적인 시간 관리 방법과 일정 계획 앱 추천 부탁드립니다.',\n",
    "    '자취생을 위한 저렴한 식재료 구매 장소와 요리 레시피 공유해 주세요.',\n",
    "    '대학생 알바 경험이 있으신 분들, 시간 관리와 스트레스 해소 팁 좀 알려주시겠어요?',\n",
    "    '병역 의무 관련 정보와 군 입대 시기 선택에 대한 조언 부탁드립니다.',\n",
    "\n",
    "    # 취미 · 여가\n",
    "    '강남에 가볼 만한 맛집이나 카페 추천해 주실 수 있나요?',\n",
    "    '축구 활동에 관심이 있는데, 자세한 정보 좀 알려주시겠어요?',\n",
    "    '기타 배우기 좋은 온라인 강의나 교재가 있다면 추천 부탁드립니다.',\n",
    "    '가까운 여행지나 나들이 장소 추천해 주시면 감사하겠습니다.',\n",
    "    '사진 촬영 팁과 포토샵 강좌 정보 공유 부탁드려요.',\n",
    "\n",
    "    # 인간관계\n",
    "    '대학교 새내기로서 선배님들과 좋은 관계를 맺는 방법이 있을까요?',\n",
    "    '동아리나 팀 프로젝트에서 팀원들과 갈등이 생겼을 때 해결하는 방법 좀 알려주세요.',\n",
    "    '친구들과 어색해졌을 때 관계 개선을 위한 조언 부탁드립니다.',\n",
    "    '선배님들께 인사나 존경을 표현하는 적절한 방법이 있나요?',\n",
    "    '성격 차이로 인한 친구와의 갈등을 해결하는 방법에 대해 조언 부탁드려요.',\n",
    "\n",
    "    # 취업 · 진로\n",
    "    '효과적인 대외활동과 인턴십 준비 방법에 대해 조언 부탁드립니다.',\n",
    "    '전공과 관련된 자격증 취득을 위한 학습 계획 및 준비 과정이 궁금합니다.',\n",
    "    '취업 면접에서 자주 나오는 질문들과 답변 팁 좀 알려주시겠어요?',\n",
    "    'LinkedIn 프로필 작성과 활용 방법에 대한 조언 부탁드립니다.',\n",
    "    '대학원 진학을 고민하고 있는데, 학업 계획과 준비 과정에 대해 알려주시면 감사하겠습니다.'\n",
    "]\n",
    "\n",
    "encodings = tokenizer(\n",
    "    predictions,\n",
    "    padding=True,\n",
    "    truncation=True,\n",
    "    return_tensors='pt',\n",
    "    max_length=MAX_LENGTH\n",
    ")\n",
    "input_ids = encodings['input_ids'].to(device)\n",
    "attention_mask = encodings['attention_mask'].to(device)\n",
    "\n",
    "with torch.no_grad():\n",
    "    outputs = model(input_ids, attention_mask=attention_mask)\n",
    "    logits = outputs.logits\n",
    "    probabilities = torch.softmax(logits, dim=1)\n",
    "    predicted_labels = torch.argmax(logits, dim=1).tolist()\n",
    "\n",
    "for text, label, probs in zip(predictions, predicted_labels, probabilities.tolist()):\n",
    "    sentiment = CATEGORIES[TARGET_CATEGORY] if label == 1 else '그 외'\n",
    "    print(f'텍스트: {text}')\n",
    "    print(f'예측: {sentiment} {probs}')\n",
    "    print()"
   ]
  }
 ],
 "metadata": {
  "kernelspec": {
   "display_name": "Python 3 (ipykernel)",
   "language": "python",
   "name": "python3"
  },
  "language_info": {
   "codemirror_mode": {
    "name": "ipython",
    "version": 3
   },
   "file_extension": ".py",
   "mimetype": "text/x-python",
   "name": "python",
   "nbconvert_exporter": "python",
   "pygments_lexer": "ipython3",
   "version": "3.10.12"
  }
 },
 "nbformat": 4,
 "nbformat_minor": 2
}

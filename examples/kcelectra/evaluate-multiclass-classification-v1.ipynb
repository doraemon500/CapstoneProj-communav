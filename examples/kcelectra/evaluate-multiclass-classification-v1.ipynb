{
 "cells": [
  {
   "cell_type": "code",
   "execution_count": 1,
   "metadata": {},
   "outputs": [],
   "source": [
    "# 다른 경로에 있는 모듈을 가져오기 위해 절대 경로 추가\n",
    "\n",
    "import os\n",
    "import sys\n",
    "\n",
    "root = os.path.join(os.path.abspath(os.getcwd()), '..', '..')\n",
    "root = os.path.normpath(root)\n",
    "\n",
    "if root not in sys.path:\n",
    "    sys.path.insert(0, root)"
   ]
  },
  {
   "cell_type": "code",
   "execution_count": 2,
   "metadata": {},
   "outputs": [
    {
     "name": "stderr",
     "output_type": "stream",
     "text": [
      "/tmp/ipykernel_136989/2000937440.py:8: DeprecationWarning: \n",
      "Pyarrow will become a required dependency of pandas in the next major release of pandas (pandas 3.0),\n",
      "(to allow more performant data types, such as the Arrow string type, and better interoperability with other libraries)\n",
      "but was not found to be installed on your system.\n",
      "If this would cause problems for you,\n",
      "please provide us feedback at https://github.com/pandas-dev/pandas/issues/54466\n",
      "        \n",
      "  import pandas as pd\n"
     ]
    }
   ],
   "source": [
    "# 필요한 라이브러리 로드\n",
    "\n",
    "import emoji\n",
    "import json\n",
    "import matplotlib.pyplot as plt\n",
    "import numpy as np\n",
    "import os\n",
    "import pandas as pd\n",
    "import random\n",
    "import re\n",
    "import torch\n",
    "from communav.utils import db\n",
    "from sklearn.metrics import accuracy_score, f1_score, precision_score, recall_score\n",
    "from sklearn.model_selection import train_test_split\n",
    "from soynlp.normalizer import repeat_normalize\n",
    "from tqdm import tqdm\n",
    "from transformers import AutoModelForSequenceClassification, AutoTokenizer, get_linear_schedule_with_warmup"
   ]
  },
  {
   "cell_type": "code",
   "execution_count": 3,
   "metadata": {},
   "outputs": [],
   "source": [
    "# 카테고리 정의\n",
    "\n",
    "CATEGORIES = {\n",
    "    0: '자유',\n",
    "    1: '학사',\n",
    "    2: '장학 · 행정',\n",
    "    3: '학교생활',\n",
    "    4: '수업',\n",
    "    5: '수업/이과',\n",
    "    6: '수업/문과',\n",
    "    7: '캠퍼스',\n",
    "    8: '취업 · 진로',\n",
    "    9: '일상생활',\n",
    "    10: '음식점 · 카페',\n",
    "    11: '취미 · 여가',\n",
    "    12: '인간관계',\n",
    "    13: '병역'\n",
    "}"
   ]
  },
  {
   "cell_type": "code",
   "execution_count": 4,
   "metadata": {},
   "outputs": [],
   "source": [
    "# 파라미터 설정\n",
    "\n",
    "TABLE_NAME = 'everytime_article_dataset_v1'\n",
    "MODEL_ID = '.model-iteration-64-epoch-12-0.9582'\n",
    "TOKENIZER_ID = '.model-iteration-64-epoch-12-0.9582'\n",
    "SEED = 42\n",
    "USE_RANDOM_SEED = True\n",
    "NUM_LABELS = len(CATEGORIES)\n",
    "MAX_LENGTH = 128\n",
    "METRIC_AVERAGE = 'weighted'\n",
    "METRIC_ZERO_DIVISION = 0\n",
    "BATCH_SIZE = 32"
   ]
  },
  {
   "cell_type": "code",
   "execution_count": 5,
   "metadata": {},
   "outputs": [
    {
     "name": "stdout",
     "output_type": "stream",
     "text": [
      "There are 1 GPU(s) available.\n",
      "We will use the GPU: NVIDIA GeForce RTX 3060 Ti\n"
     ]
    }
   ],
   "source": [
    "# 랜덤 시드 고정\n",
    "\n",
    "if torch.cuda.is_available():\n",
    "    device = torch.device('cuda')\n",
    "    print('There are %d GPU(s) available.' % torch.cuda.device_count())\n",
    "    print('We will use the GPU:', torch.cuda.get_device_name(0))\n",
    "else:\n",
    "    device = torch.device('cpu')\n",
    "    print('No GPU available, using the CPU instead.')\n",
    "\n",
    "if not USE_RANDOM_SEED:\n",
    "    random.seed(SEED)\n",
    "    np.random.seed(SEED)\n",
    "    torch.manual_seed(SEED)\n",
    "    if device.type == 'cuda':\n",
    "        torch.cuda.manual_seed_all(SEED)\n",
    "    torch.backends.cudnn.deterministic = True\n",
    "    torch.backends.cudnn.benchmark = False"
   ]
  },
  {
   "cell_type": "code",
   "execution_count": 6,
   "metadata": {},
   "outputs": [
    {
     "name": "stdout",
     "output_type": "stream",
     "text": [
      "Connected to DB successfully.\n",
      "Loaded 5032 articles.\n"
     ]
    }
   ],
   "source": [
    "# 커뮤니티 게시글 데이터 로드\n",
    "\n",
    "connection = db.get_connection()\n",
    "cursor = connection.cursor()\n",
    "\n",
    "cursor.execute(f'''\n",
    "    SELECT id, title, text, category_id\n",
    "    FROM {TABLE_NAME}\n",
    "    WHERE category_id IS NOT NULL\n",
    "''')\n",
    "original_articles = cursor.fetchall()\n",
    "print(f'Loaded {len(original_articles)} articles.')\n",
    "\n",
    "cursor.close()\n",
    "db.close_connection()"
   ]
  },
  {
   "cell_type": "code",
   "execution_count": 7,
   "metadata": {},
   "outputs": [
    {
     "name": "stdout",
     "output_type": "stream",
     "text": [
      "{'id': 1, 'title': '어제 비마관 화장실에서 핸드폰 찾아주신분!', 'text': '제가 경황이 없어서 감사하다고도 못 했네요.\\n정말 감사합니다!!!', 'category_id': 9}\n",
      "{'id': 3, 'title': '조은문화사 몇시에 보통 열리나요??', 'text': '1교시 수업 책 찾아야되서', 'category_id': 7}\n",
      "{'id': 4, 'title': '전공수업듣는데', 'text': '복학한거처럼 보이는 형이 열심히는 하시던데 뭔가 군대갔다고오고 모든걸 까먹은 자기를 자책하듯이 수업듣는걸 보고 나도 3년후에 저러겠구나 싶더라... ㅠㅠ', 'category_id': 4}\n",
      "{'id': 5, 'title': '정문에 있는 인쇄집들 몇시까지 하는지 아시나요?', 'text': '9시 넘어야 갈수있을거 같은데\\n열어 있을지..', 'category_id': 7}\n",
      "{'id': 8, 'title': '문화유목시대 교재뭔가요', 'text': '정정기간때 신청해서 잘 모르겠어요. ㅠㅠ 계획서보니까 고른다고하는데 뭐에요?', 'category_id': 6}\n",
      "{'id': 13, 'title': '전자회로실험 파형이 물결처럼 나와야하는데 왜 난 일자로 나오지???;;', 'text': '이번에 복학해서 실험들으려는데 그냥 예비는 똑같이 따라하면 되는거 아닌가?\\n왜 일자로만 나와....', 'category_id': 5}\n",
      "{'id': 14, 'title': '전자회로실험 파형이 물결처럼 나와야하는데 왜 난 일자로 나오지???;;', 'text': '이번에 복학해서 실험들으려는데 그냥 예비는 똑같이 따라하면 되는거 아닌가?\\n왜 일자로만 나와....\\n이건 회로인데 뭐가 잘못된거지요????;;', 'category_id': 5}\n",
      "{'id': 17, 'title': '컴퓨터구조 책삽니다', 'text': '표지에 컴퓨터구조 및 설계 써있고 5판 한글판 중고 2만원에삽니다\\nPatterson , Hennessy 저자 입니다', 'category_id': 5}\n",
      "{'id': 18, 'title': '오늘 영화의 이해 수업', 'text': '영화의 이해 유양근 교수님 수업을 못가서 그런데 혹시 교재같은거나 해오라고 하신거 있나요?! ㅜㅜ', 'category_id': 6}\n",
      "{'id': 19, 'title': '초급일본어', 'text': '전유나 초급일본어 책필요한가요?', 'category_id': 6}\n",
      "{'id': 23, 'title': '졸업학점있잖아', 'text': '교양 30  전공 60  선택50 이면 무조건 저거에 딱맞게 이수해야해?? 만약 교양에서 33이수하고 선택에서 47이수하면 졸업안되나??', 'category_id': 1}\n",
      "{'id': 24, 'title': '현대사상의 이해', 'text': '현대사상의 이해 정정한 학생인데 자기소개서에 특별히 써야할 내용이 있는건가요?', 'category_id': 6}\n",
      "{'id': 25, 'title': '성적확인방법 문의드립니다.', 'text': '졸업생인데 인터넷으로 성적확인 및 출력하는 방법 아시는 분 계신가요?', 'category_id': 1}\n",
      "{'id': 26, 'title': '학생증 꼭 만들어야하나요???', 'text': '안만드니까 계속 문자와서;;;학생증 도서관에서 쓰는 거 말고도 많이 필요한가요??ㅠ\\n그리고 모바일 학생증으로도 책 빌릴 수 있나요??', 'category_id': 2}\n",
      "{'id': 28, 'title': '13인치 15인치', 'text': '2시간 통학/ 코딩/ 레포트 면\\n13인치가 더 낫겠죠?!', 'category_id': 9}\n",
      "{'id': 29, 'title': '도키도키~~~', 'text': '일본어!\\n도키도키~~', 'category_id': 0}\n",
      "{'id': 38, 'title': '정형원교수님 정보와현대사회', 'text': '인강 지금 들을 수 있는분 계신가요?유캠에서 듣는걸로 알고있는데 아직 인강이 안떠있어서요', 'category_id': 6}\n",
      "{'id': 44, 'title': '교비근로', 'text': '해보신분 어떤가요?', 'category_id': 2}\n",
      "{'id': 46, 'title': '물리전자 교재없으면 시험기간대비 힘들까요?', 'text': '교재 필요없다고는 하는데', 'category_id': 5}\n",
      "{'id': 49, 'title': '지적재산법 월요일에 출첵했어요?', 'text': '제곧내', 'category_id': 6}\n"
     ]
    }
   ],
   "source": [
    "# 가져온 데이터의 일부를 출력\n",
    "\n",
    "for article in original_articles[:20]:\n",
    "    print(article)"
   ]
  },
  {
   "cell_type": "code",
   "execution_count": 8,
   "metadata": {},
   "outputs": [],
   "source": [
    "# 데이터 전처리 함수 정의\n",
    "\n",
    "normal_pattern = re.compile(r'[^ .,?!/@$%~％·∼()\\x00-\\x7Fㄱ-ㅣ가-힣]+')\n",
    "url_pattern = re.compile(r'https?:\\/\\/(www\\.)?[-a-zA-Z0-9@:%._\\+~#=]{1,256}\\.[a-zA-Z0-9()]{1,6}\\b([-a-zA-Z0-9()@:%_\\+.~#?&//=]*)')\n",
    "\n",
    "def preprocess(value):\n",
    "    value = normal_pattern.sub(' ', value)\n",
    "    value = emoji.replace_emoji(value, replace='')\n",
    "    value = url_pattern.sub('', value)\n",
    "    value = repeat_normalize(value, num_repeats=2)\n",
    "    value = value.strip()\n",
    "    return value"
   ]
  },
  {
   "cell_type": "code",
   "execution_count": 9,
   "metadata": {},
   "outputs": [
    {
     "name": "stderr",
     "output_type": "stream",
     "text": [
      "100%|██████████| 5032/5032 [00:00<00:00, 22032.31it/s]\n"
     ]
    }
   ],
   "source": [
    "# 데이터 전처리\n",
    "\n",
    "preprocessed_articles = []\n",
    "\n",
    "for article in tqdm(original_articles):\n",
    "    title = article['title']\n",
    "    text = article['text']\n",
    "    content = (title + ' ' + text).replace('\\n', ' ')\n",
    "\n",
    "    preprocessed_articles.append({\n",
    "        'content': preprocess(content),\n",
    "        'label': article['category_id']\n",
    "    })"
   ]
  },
  {
   "cell_type": "code",
   "execution_count": 10,
   "metadata": {},
   "outputs": [
    {
     "name": "stdout",
     "output_type": "stream",
     "text": [
      "{'content': '어제 비마관 화장실에서 핸드폰 찾아주신분! 제가 경황이 없어서 감사하다고도 못 했네요. 정말 감사합니다!!!', 'label': 9}\n",
      "{'content': '조은문화사 몇시에 보통 열리나요?? 1교시 수업 책 찾아야되서', 'label': 7}\n",
      "{'content': '전공수업듣는데 복학한거처럼 보이는 형이 열심히는 하시던데 뭔가 군대갔다고오고 모든걸 까먹은 자기를 자책하듯이 수업듣는걸 보고 나도 3년후에 저러겠구나 싶더라... ㅠㅠ', 'label': 4}\n",
      "{'content': '정문에 있는 인쇄집들 몇시까지 하는지 아시나요? 9시 넘어야 갈수있을거 같은데 열어 있을지..', 'label': 7}\n",
      "{'content': '문화유목시대 교재뭔가요 정정기간때 신청해서 잘 모르겠어요. ㅠㅠ 계획서보니까 고른다고하는데 뭐에요?', 'label': 6}\n",
      "{'content': '전자회로실험 파형이 물결처럼 나와야하는데 왜 난 일자로 나오지???;; 이번에 복학해서 실험들으려는데 그냥 예비는 똑같이 따라하면 되는거 아닌가? 왜 일자로만 나와....', 'label': 5}\n",
      "{'content': '전자회로실험 파형이 물결처럼 나와야하는데 왜 난 일자로 나오지???;; 이번에 복학해서 실험들으려는데 그냥 예비는 똑같이 따라하면 되는거 아닌가? 왜 일자로만 나와.... 이건 회로인데 뭐가 잘못된거지요????;;', 'label': 5}\n",
      "{'content': '컴퓨터구조 책삽니다 표지에 컴퓨터구조 및 설계 써있고 5판 한글판 중고 2만원에삽니다 Patterson , Hennessy 저자 입니다', 'label': 5}\n",
      "{'content': '오늘 영화의 이해 수업 영화의 이해 유양근 교수님 수업을 못가서 그런데 혹시 교재같은거나 해오라고 하신거 있나요?! ㅜㅜ', 'label': 6}\n",
      "{'content': '초급일본어 전유나 초급일본어 책필요한가요?', 'label': 6}\n",
      "{'content': '졸업학점있잖아 교양 30 전공 60 선택50 이면 무조건 저거에 딱맞게 이수해야해?? 만약 교양에서 33이수하고 선택에서 47이수하면 졸업안되나??', 'label': 1}\n",
      "{'content': '현대사상의 이해 현대사상의 이해 정정한 학생인데 자기소개서에 특별히 써야할 내용이 있는건가요?', 'label': 6}\n",
      "{'content': '성적확인방법 문의드립니다. 졸업생인데 인터넷으로 성적확인 및 출력하는 방법 아시는 분 계신가요?', 'label': 1}\n",
      "{'content': '학생증 꼭 만들어야하나요??? 안만드니까 계속 문자와서;;;학생증 도서관에서 쓰는 거 말고도 많이 필요한가요??ㅠ 그리고 모바일 학생증으로도 책 빌릴 수 있나요??', 'label': 2}\n",
      "{'content': '13인치 15인치 2시간 통학/ 코딩/ 레포트 면 13인치가 더 낫겠죠?!', 'label': 9}\n",
      "{'content': '도키도키~~~ 일본어! 도키도키~~', 'label': 0}\n",
      "{'content': '정형원교수님 정보와현대사회 인강 지금 들을 수 있는분 계신가요?유캠에서 듣는걸로 알고있는데 아직 인강이 안떠있어서요', 'label': 6}\n",
      "{'content': '교비근로 해보신분 어떤가요?', 'label': 2}\n",
      "{'content': '물리전자 교재없으면 시험기간대비 힘들까요? 교재 필요없다고는 하는데', 'label': 5}\n",
      "{'content': '지적재산법 월요일에 출첵했어요? 제곧내', 'label': 6}\n"
     ]
    }
   ],
   "source": [
    "# 전처리된 데이터의 일부를 출력\n",
    "\n",
    "for article in preprocessed_articles[:20]:\n",
    "    print(article)"
   ]
  },
  {
   "cell_type": "code",
   "execution_count": 11,
   "metadata": {},
   "outputs": [
    {
     "name": "stdout",
     "output_type": "stream",
     "text": [
      "Original: 어제 비마관 화장실에서 핸드폰 찾아주신분! 제가 경황이 없어서 감사하다고도 못 했네요. 정말 감사합니다!!!\n",
      "Tokenized: ['어제', '비', '##마', '##관', '화장실', '##에서', '핸드폰', '찾아', '##주신', '##분', '!', '제가', '경', '##황', '##이', '없어서', '감사', '##하다고', '##도', '못', '했네요', '.', '정말', '감사합니다', '!', '!', '!']\n"
     ]
    }
   ],
   "source": [
    "# 토크나이저 로드\n",
    "\n",
    "tokenizer = AutoTokenizer.from_pretrained(TOKENIZER_ID, do_basic_tokenize=False)\n",
    "\n",
    "print('Original:', preprocessed_articles[0]['content'])\n",
    "print('Tokenized:', tokenizer.tokenize(preprocessed_articles[0]['content']))"
   ]
  },
  {
   "cell_type": "code",
   "execution_count": 12,
   "metadata": {},
   "outputs": [
    {
     "data": {
      "text/plain": [
       "ElectraForSequenceClassification(\n",
       "  (electra): ElectraModel(\n",
       "    (embeddings): ElectraEmbeddings(\n",
       "      (word_embeddings): Embedding(54343, 768, padding_idx=0)\n",
       "      (position_embeddings): Embedding(512, 768)\n",
       "      (token_type_embeddings): Embedding(2, 768)\n",
       "      (LayerNorm): LayerNorm((768,), eps=1e-12, elementwise_affine=True)\n",
       "      (dropout): Dropout(p=0.1, inplace=False)\n",
       "    )\n",
       "    (encoder): ElectraEncoder(\n",
       "      (layer): ModuleList(\n",
       "        (0-11): 12 x ElectraLayer(\n",
       "          (attention): ElectraAttention(\n",
       "            (self): ElectraSelfAttention(\n",
       "              (query): Linear(in_features=768, out_features=768, bias=True)\n",
       "              (key): Linear(in_features=768, out_features=768, bias=True)\n",
       "              (value): Linear(in_features=768, out_features=768, bias=True)\n",
       "              (dropout): Dropout(p=0.1, inplace=False)\n",
       "            )\n",
       "            (output): ElectraSelfOutput(\n",
       "              (dense): Linear(in_features=768, out_features=768, bias=True)\n",
       "              (LayerNorm): LayerNorm((768,), eps=1e-12, elementwise_affine=True)\n",
       "              (dropout): Dropout(p=0.1, inplace=False)\n",
       "            )\n",
       "          )\n",
       "          (intermediate): ElectraIntermediate(\n",
       "            (dense): Linear(in_features=768, out_features=3072, bias=True)\n",
       "            (intermediate_act_fn): GELUActivation()\n",
       "          )\n",
       "          (output): ElectraOutput(\n",
       "            (dense): Linear(in_features=3072, out_features=768, bias=True)\n",
       "            (LayerNorm): LayerNorm((768,), eps=1e-12, elementwise_affine=True)\n",
       "            (dropout): Dropout(p=0.1, inplace=False)\n",
       "          )\n",
       "        )\n",
       "      )\n",
       "    )\n",
       "  )\n",
       "  (classifier): ElectraClassificationHead(\n",
       "    (dense): Linear(in_features=768, out_features=768, bias=True)\n",
       "    (activation): GELUActivation()\n",
       "    (dropout): Dropout(p=0.1, inplace=False)\n",
       "    (out_proj): Linear(in_features=768, out_features=14, bias=True)\n",
       "  )\n",
       ")"
      ]
     },
     "execution_count": 12,
     "metadata": {},
     "output_type": "execute_result"
    }
   ],
   "source": [
    "# 모델 로드\n",
    "\n",
    "model = AutoModelForSequenceClassification.from_pretrained(MODEL_ID, num_labels=NUM_LABELS)\n",
    "model.to(device)"
   ]
  },
  {
   "cell_type": "code",
   "execution_count": 13,
   "metadata": {},
   "outputs": [
    {
     "data": {
      "text/plain": [
       "Embedding(54343, 768, padding_idx=0)"
      ]
     },
     "execution_count": 13,
     "metadata": {},
     "output_type": "execute_result"
    }
   ],
   "source": [
    "# 모델 세부 정보 수정\n",
    "\n",
    "model.resize_token_embeddings(len(tokenizer))"
   ]
  },
  {
   "cell_type": "code",
   "execution_count": 14,
   "metadata": {},
   "outputs": [
    {
     "name": "stderr",
     "output_type": "stream",
     "text": [
      "/tmp/ipykernel_136989/3947211656.py:14: UserWarning: To copy construct from a tensor, it is recommended to use sourceTensor.clone().detach() or sourceTensor.clone().detach().requires_grad_(True), rather than torch.tensor(sourceTensor).\n",
      "  torch.tensor(encodings['input_ids']),\n",
      "/tmp/ipykernel_136989/3947211656.py:15: UserWarning: To copy construct from a tensor, it is recommended to use sourceTensor.clone().detach() or sourceTensor.clone().detach().requires_grad_(True), rather than torch.tensor(sourceTensor).\n",
      "  torch.tensor(encodings['attention_mask'])\n"
     ]
    }
   ],
   "source": [
    "# 텍스트 인코딩 및 데이터셋 생성\n",
    "\n",
    "contents = [article['content'] for article in preprocessed_articles]\n",
    "labels = [article['label'] for article in preprocessed_articles]\n",
    "\n",
    "encodings = tokenizer(\n",
    "    contents,\n",
    "    padding=True,\n",
    "    truncation=True,\n",
    "    return_tensors='pt',\n",
    "    max_length=MAX_LENGTH\n",
    ")\n",
    "dataset = torch.utils.data.TensorDataset(\n",
    "    torch.tensor(encodings['input_ids']),\n",
    "    torch.tensor(encodings['attention_mask'])\n",
    ")\n",
    "dataloader = torch.utils.data.DataLoader(dataset, batch_size=BATCH_SIZE, shuffle=False)"
   ]
  },
  {
   "cell_type": "code",
   "execution_count": 15,
   "metadata": {},
   "outputs": [],
   "source": [
    "# 평가 지표 계산 함수 정의\n",
    "\n",
    "def calculate_metrics(true_labels, predicted_labels):\n",
    "    acc = accuracy_score(true_labels, predicted_labels)\n",
    "    prec = precision_score(true_labels, predicted_labels, average=METRIC_AVERAGE, zero_division=METRIC_ZERO_DIVISION)\n",
    "    rec = recall_score(true_labels, predicted_labels, average=METRIC_AVERAGE, zero_division=METRIC_ZERO_DIVISION)\n",
    "    f1 = f1_score(true_labels, predicted_labels, average=METRIC_AVERAGE, zero_division=METRIC_ZERO_DIVISION)\n",
    "\n",
    "    return acc, prec, rec, f1"
   ]
  },
  {
   "cell_type": "code",
   "execution_count": 16,
   "metadata": {},
   "outputs": [
    {
     "name": "stderr",
     "output_type": "stream",
     "text": [
      "Predicting: 100%|██████████| 158/158 [00:18<00:00,  8.75it/s]"
     ]
    },
    {
     "name": "stdout",
     "output_type": "stream",
     "text": [
      "Accuracy: 0.9915\n",
      "Precision: 0.9915\n",
      "Recall: 0.9915\n",
      "F1 Score: 0.9914\n"
     ]
    },
    {
     "name": "stderr",
     "output_type": "stream",
     "text": [
      "\n"
     ]
    }
   ],
   "source": [
    "# 기본 데이터셋 평가\n",
    "\n",
    "predictions = []\n",
    "\n",
    "for i, batch in enumerate(tqdm(dataloader, desc='Predicting')):\n",
    "    input_ids = batch[0].to(device)\n",
    "    attention_mask = batch[1].to(device)\n",
    "\n",
    "    with torch.no_grad():\n",
    "        outputs = model(input_ids, attention_mask=attention_mask)\n",
    "        logits = outputs.logits\n",
    "        predictions.extend(torch.argmax(logits, dim=1).tolist())\n",
    "\n",
    "acc, prec, rec, f1 = calculate_metrics(labels, predictions)\n",
    "\n",
    "print(f'Accuracy: {acc:.4f}')\n",
    "print(f'Precision: {prec:.4f}')\n",
    "print(f'Recall: {rec:.4f}')\n",
    "print(f'F1 Score: {f1:.4f}')"
   ]
  },
  {
   "cell_type": "code",
   "execution_count": 17,
   "metadata": {},
   "outputs": [
    {
     "name": "stdout",
     "output_type": "stream",
     "text": [
      "Test Accuracy: 0.9667\n",
      "Test Precision: 0.9728\n",
      "Test Recall: 0.9667\n",
      "Test F1 Score: 0.9679\n",
      "\n",
      "텍스트: 나 아직 고학번이라고 할정도는 아닌데 군대갔다왔으면 졸업못한게 당연한 나이니까 화석은 아님 아무튼 아님\n",
      "실제 레이블: 자유\n",
      "예측 레이블: 병역 ['0.0048', '0.0036', '0.0014', '0.0046', '0.0135', '0.0009', '0.0003', '0.0002', '0.2228', '0.0011', '0.0010', '0.0114', '0.1024', '0.6319']\n",
      "\n",
      "텍스트: 출튀 많이 했는데 과제 점수 손해본 사람 있음?\n",
      "실제 레이블: 수업\n",
      "예측 레이블: 수업 ['0.0005', '0.0007', '0.0005', '0.1798', '0.8022', '0.0027', '0.0086', '0.0005', '0.0019', '0.0004', '0.0001', '0.0015', '0.0005', '0.0001']\n",
      "\n",
      "텍스트: 역시 자취방에 혼자있으면 홀딱 깨벗은게 최고야! 이히히히힣!\n",
      "실제 레이블: 자유\n",
      "예측 레이블: 일상생활 ['0.0004', '0.0000', '0.0002', '0.0003', '0.0001', '0.0000', '0.0000', '0.0002', '0.0004', '0.9962', '0.0010', '0.0002', '0.0009', '0.0000']\n",
      "\n",
      "텍스트: 선형대수학 필기 적혀있는 하늘색 노트 주우신분 제발 연락주세요ㅠㅠ제발\n",
      "실제 레이블: 캠퍼스\n",
      "예측 레이블: 캠퍼스 ['0.0004', '0.0009', '0.0015', '0.0013', '0.0010', '0.1695', '0.0045', '0.8159', '0.0008', '0.0005', '0.0026', '0.0006', '0.0002', '0.0004']\n",
      "\n",
      "텍스트: 책 인쇄가 이상하네요ㅠㅠ 알라딘에서 해외원서 구입에다가 이미 3글자써서 교환은 물건너갔네요ㅠㅠ\n",
      "실제 레이블: 일상생활\n",
      "예측 레이블: 학교생활 ['0.0016', '0.0001', '0.0002', '0.8971', '0.0037', '0.0004', '0.0029', '0.0007', '0.0006', '0.0019', '0.0003', '0.0894', '0.0010', '0.0001']\n",
      "\n",
      "텍스트: 과제 유사율 과제 유사율 6퍼센트 나왔는데 제출해도 괜찮을까요?.. 깐깐한 교수님들은 이것도 점수 깍으실지 .. 감이 안잡혀서 여쭤봅니다!\n",
      "실제 레이블: 수업\n",
      "예측 레이블: 수업/이과 ['0.0004', '0.0025', '0.0003', '0.0006', '0.3160', '0.6720', '0.0048', '0.0004', '0.0018', '0.0002', '0.0002', '0.0005', '0.0002', '0.0002']\n",
      "\n"
     ]
    }
   ],
   "source": [
    "# 테스트 데이터셋 평가\n",
    "\n",
    "with open('../test-dataset.json', 'r', encoding='utf-8') as f:\n",
    "    test_articles = json.load(f)\n",
    "\n",
    "test_contents = [preprocess(article['content']) for article in test_articles]\n",
    "test_labels = [article['label'] for article in test_articles]\n",
    "\n",
    "test_encodings = tokenizer(\n",
    "    test_contents,\n",
    "    padding=True,\n",
    "    truncation=True,\n",
    "    return_tensors='pt',\n",
    "    max_length=MAX_LENGTH\n",
    ")\n",
    "test_input_ids = test_encodings['input_ids'].to(device)\n",
    "test_attention_mask = test_encodings['attention_mask'].to(device)\n",
    "\n",
    "with torch.no_grad():\n",
    "    outputs = model(test_input_ids, attention_mask=test_attention_mask)\n",
    "    logits = outputs.logits\n",
    "    test_predictions = torch.argmax(logits, dim=1).tolist()\n",
    "    test_probabilities = torch.softmax(logits, dim=1).tolist()\n",
    "\n",
    "test_acc, test_prec, test_rec, test_f1 = calculate_metrics(test_labels, test_predictions)\n",
    "\n",
    "print(f'Test Accuracy: {test_acc:.4f}')\n",
    "print(f'Test Precision: {test_prec:.4f}')\n",
    "print(f'Test Recall: {test_rec:.4f}')\n",
    "print(f'Test F1 Score: {test_f1:.4f}')\n",
    "print()\n",
    "\n",
    "for content, label, prediction, probs in zip(test_contents, test_labels, test_predictions, test_probabilities):\n",
    "    true_category = CATEGORIES[label]\n",
    "    predicted_category = CATEGORIES[prediction]\n",
    "    probs_formatted = [f'{prob:.4f}' for prob in probs]\n",
    "\n",
    "    if label == prediction and max(probs) >= 0.9:\n",
    "        continue\n",
    "\n",
    "    print(f'텍스트: {content}')\n",
    "    print(f'실제 레이블: {true_category}')\n",
    "    print(f'예측 레이블: {predicted_category} {probs_formatted}')\n",
    "    print()"
   ]
  }
 ],
 "metadata": {
  "kernelspec": {
   "display_name": ".venv",
   "language": "python",
   "name": "python3"
  },
  "language_info": {
   "codemirror_mode": {
    "name": "ipython",
    "version": 3
   },
   "file_extension": ".py",
   "mimetype": "text/x-python",
   "name": "python",
   "nbconvert_exporter": "python",
   "pygments_lexer": "ipython3",
   "version": "3.10.12"
  }
 },
 "nbformat": 4,
 "nbformat_minor": 2
}

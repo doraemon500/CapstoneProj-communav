{
 "cells": [
  {
   "cell_type": "code",
   "execution_count": 1,
   "metadata": {},
   "outputs": [],
   "source": [
    "# 다른 경로에 있는 모듈을 가져오기 위해 절대 경로 추가\n",
    "\n",
    "import os\n",
    "import sys\n",
    "\n",
    "root = os.path.join(os.path.abspath(os.getcwd()), '..', '..')\n",
    "root = os.path.normpath(root)\n",
    "\n",
    "if root not in sys.path:\n",
    "    sys.path.insert(0, root)"
   ]
  },
  {
   "cell_type": "code",
   "execution_count": 2,
   "metadata": {},
   "outputs": [
    {
     "name": "stderr",
     "output_type": "stream",
     "text": [
      "/tmp/ipykernel_760744/1570002022.py:5: DeprecationWarning: \n",
      "Pyarrow will become a required dependency of pandas in the next major release of pandas (pandas 3.0),\n",
      "(to allow more performant data types, such as the Arrow string type, and better interoperability with other libraries)\n",
      "but was not found to be installed on your system.\n",
      "If this would cause problems for you,\n",
      "please provide us feedback at https://github.com/pandas-dev/pandas/issues/54466\n",
      "        \n",
      "  import pandas as pd\n"
     ]
    }
   ],
   "source": [
    "# 필요한 라이브러리 로드\n",
    "\n",
    "import json\n",
    "import matplotlib.pyplot as plt\n",
    "import pandas as pd\n",
    "import torch\n",
    "from communav.utils import db\n",
    "from sklearn.metrics import accuracy_score, fbeta_score, precision_score, recall_score\n",
    "from sklearn.model_selection import train_test_split\n",
    "from tqdm import tqdm\n",
    "from transformers import AutoModelForSequenceClassification, AutoTokenizer, get_linear_schedule_with_warmup"
   ]
  },
  {
   "cell_type": "code",
   "execution_count": 3,
   "metadata": {},
   "outputs": [],
   "source": [
    "# 카테고리 정의\n",
    "\n",
    "CATEGORIES = {\n",
    "    1: '질문 · 답변',\n",
    "    2: '학사 · 졸업',\n",
    "    3: '장학 · 행정',\n",
    "    4: '학교생활',\n",
    "    5: '수업/이과',\n",
    "    6: '수업/문과',\n",
    "    7: '캠퍼스',\n",
    "    8: '일상생활',\n",
    "    9: '취미 · 여가',\n",
    "    10: '인간관계',\n",
    "    11: '취업 · 진로',\n",
    "}"
   ]
  },
  {
   "cell_type": "code",
   "execution_count": 4,
   "metadata": {},
   "outputs": [],
   "source": [
    "# 파라미터 설정\n",
    "\n",
    "MODEL_ID = 'model-05-iteration-42-epoch-18-0.9448'\n",
    "MAX_LENGTH = 128\n",
    "BATCH_SIZE = 32\n",
    "TARGET_CATEGORY = 5\n",
    "THRESHOLD = 0.8"
   ]
  },
  {
   "cell_type": "code",
   "execution_count": 5,
   "metadata": {},
   "outputs": [
    {
     "name": "stdout",
     "output_type": "stream",
     "text": [
      "Connected to DB successfully.\n",
      "Loaded 299794 articles.\n"
     ]
    }
   ],
   "source": [
    "# 커뮤니티 게시글 데이터 로드\n",
    "\n",
    "connection = db.get_connection()\n",
    "cursor = connection.cursor()\n",
    "\n",
    "cursor.execute('''\n",
    "    SELECT * FROM everytime_article_dataset\n",
    "''')\n",
    "original_articles = cursor.fetchall()\n",
    "print(f'Loaded {len(original_articles)} articles.')\n",
    "\n",
    "cursor.close()\n",
    "db.close_connection()"
   ]
  },
  {
   "cell_type": "code",
   "execution_count": 6,
   "metadata": {},
   "outputs": [
    {
     "name": "stdout",
     "output_type": "stream",
     "text": [
      "{'id': 21479637, 'title': '어제 비마관 화장실에서 핸드폰 찾아주신분!', 'text': '제가 경황이 없어서 감사하다고도 못 했네요.\\n정말 감사합니다!!!', 'category_id': None, 'is_verified': None, 'probs_category_0': None, 'probs_category_1': None, 'probs_category_2': None, 'probs_category_3': None, 'probs_category_4': None, 'probs_category_5': 0.000150642, 'probs_category_6': None, 'probs_category_7': None, 'probs_category_8': None, 'probs_category_9': None, 'probs_category_10': None}\n",
      "{'id': 21480514, 'title': '클럽좋아하시는분 계세요~?', 'text': '남자 신입생인데 주말에갈려하는데 같이가실분 괌', 'category_id': None, 'is_verified': None, 'probs_category_0': None, 'probs_category_1': None, 'probs_category_2': None, 'probs_category_3': None, 'probs_category_4': None, 'probs_category_5': 0.000123935, 'probs_category_6': None, 'probs_category_7': None, 'probs_category_8': None, 'probs_category_9': None, 'probs_category_10': None}\n",
      "{'id': 21480639, 'title': '조은문화사 몇시에 보통 열리나요??', 'text': '1교시 수업 책 찾아야되서', 'category_id': None, 'is_verified': None, 'probs_category_0': None, 'probs_category_1': None, 'probs_category_2': None, 'probs_category_3': None, 'probs_category_4': None, 'probs_category_5': 0.000152392, 'probs_category_6': None, 'probs_category_7': None, 'probs_category_8': None, 'probs_category_9': None, 'probs_category_10': None}\n",
      "{'id': 21481049, 'title': '전공수업듣는데', 'text': '복학한거처럼 보이는 형이 열심히는 하시던데 뭔가 군대갔다고오고 모든걸 까먹은 자기를 자책하듯이 수업듣는걸 보고 나도 3년후에 저러겠구나 싶더라... ㅠㅠ', 'category_id': None, 'is_verified': None, 'probs_category_0': None, 'probs_category_1': None, 'probs_category_2': None, 'probs_category_3': None, 'probs_category_4': None, 'probs_category_5': 0.000156877, 'probs_category_6': None, 'probs_category_7': None, 'probs_category_8': None, 'probs_category_9': None, 'probs_category_10': None}\n",
      "{'id': 21481575, 'title': '정문에 있는 인쇄집들 몇시까지 하는지 아시나요?', 'text': '9시 넘어야 갈수있을거 같은데\\n열어 있을지..', 'category_id': None, 'is_verified': None, 'probs_category_0': None, 'probs_category_1': None, 'probs_category_2': None, 'probs_category_3': None, 'probs_category_4': None, 'probs_category_5': 0.000155766, 'probs_category_6': None, 'probs_category_7': None, 'probs_category_8': None, 'probs_category_9': None, 'probs_category_10': None}\n",
      "{'id': 21482091, 'title': '이런사람들 많나?', 'text': '신입생 새터때 번호교환하고 학교서 인사만좀 하는사이였다가 연락 한 번도 안하고 군대가고 카톡친추는 되어있어서 누군지는 알고 복학하고 오니 서로 얼굴은아는데 인사하기도 민망하고 껄끄러운사이 너무 불편하다 엮일일 없으면 상관없는데 자꾸 마주치면 괜히 불편함', 'category_id': None, 'is_verified': None, 'probs_category_0': None, 'probs_category_1': None, 'probs_category_2': None, 'probs_category_3': None, 'probs_category_4': None, 'probs_category_5': 0.000166368, 'probs_category_6': None, 'probs_category_7': None, 'probs_category_8': None, 'probs_category_9': None, 'probs_category_10': None}\n",
      "{'id': 21482097, 'title': '해상도!', 'text': 'UHD 즉 4K면 코딩할때 글자 잘 안보이겠죠?\\n그냥 FHD면 충분?', 'category_id': None, 'is_verified': None, 'probs_category_0': None, 'probs_category_1': None, 'probs_category_2': None, 'probs_category_3': None, 'probs_category_4': None, 'probs_category_5': 0.000165586, 'probs_category_6': None, 'probs_category_7': None, 'probs_category_8': None, 'probs_category_9': None, 'probs_category_10': None}\n",
      "{'id': 21482121, 'title': '문화유목시대 교재뭔가요', 'text': '정정기간때 신청해서 잘 모르겠어요. ㅠㅠ 계획서보니까 고른다고하는데 뭐에요?', 'category_id': None, 'is_verified': None, 'probs_category_0': None, 'probs_category_1': None, 'probs_category_2': None, 'probs_category_3': None, 'probs_category_4': None, 'probs_category_5': 0.000139786, 'probs_category_6': None, 'probs_category_7': None, 'probs_category_8': None, 'probs_category_9': None, 'probs_category_10': None}\n",
      "{'id': 21482730, 'title': '난', 'text': '멋있어 멋있어', 'category_id': None, 'is_verified': None, 'probs_category_0': None, 'probs_category_1': None, 'probs_category_2': None, 'probs_category_3': None, 'probs_category_4': None, 'probs_category_5': 0.000254744, 'probs_category_6': None, 'probs_category_7': None, 'probs_category_8': None, 'probs_category_9': None, 'probs_category_10': None}\n",
      "{'id': 21483558, 'title': '내일 공강이다', 'text': '불기둥 같은 월화수를 마치고 목금이 오긴 왔네...', 'category_id': None, 'is_verified': None, 'probs_category_0': None, 'probs_category_1': None, 'probs_category_2': None, 'probs_category_3': None, 'probs_category_4': None, 'probs_category_5': 0.000177893, 'probs_category_6': None, 'probs_category_7': None, 'probs_category_8': None, 'probs_category_9': None, 'probs_category_10': None}\n",
      "{'id': 21483780, 'title': '힙동 들어가고싶긴한데', 'text': '커버밖에 못하고\\n리얼 힙찔이라 엄두가안난다', 'category_id': None, 'is_verified': None, 'probs_category_0': None, 'probs_category_1': None, 'probs_category_2': None, 'probs_category_3': None, 'probs_category_4': None, 'probs_category_5': 0.000150823, 'probs_category_6': None, 'probs_category_7': None, 'probs_category_8': None, 'probs_category_9': None, 'probs_category_10': None}\n",
      "{'id': 21483803, 'title': '바람지원했는데요', 'text': '아직 연락이 안왔는데 다들 안온건가요!?', 'category_id': None, 'is_verified': None, 'probs_category_0': None, 'probs_category_1': None, 'probs_category_2': None, 'probs_category_3': None, 'probs_category_4': None, 'probs_category_5': 0.000223807, 'probs_category_6': None, 'probs_category_7': None, 'probs_category_8': None, 'probs_category_9': None, 'probs_category_10': None}\n",
      "{'id': 21483822, 'title': '전자회로실험 파형이 물결처럼 나와야하는데 왜 난 일자로 나오지???;;', 'text': '이번에 복학해서 실험들으려는데 그냥 예비는 똑같이 따라하면 되는거 아닌가?\\n왜 일자로만 나와....', 'category_id': None, 'is_verified': None, 'probs_category_0': None, 'probs_category_1': None, 'probs_category_2': None, 'probs_category_3': None, 'probs_category_4': None, 'probs_category_5': 0.999481, 'probs_category_6': None, 'probs_category_7': None, 'probs_category_8': None, 'probs_category_9': None, 'probs_category_10': None}\n",
      "{'id': 21484291, 'title': '전자회로실험 파형이 물결처럼 나와야하는데 왜 난 일자로 나오지???;;', 'text': '이번에 복학해서 실험들으려는데 그냥 예비는 똑같이 따라하면 되는거 아닌가?\\n왜 일자로만 나와....\\n이건 회로인데 뭐가 잘못된거지요????;;', 'category_id': None, 'is_verified': None, 'probs_category_0': None, 'probs_category_1': None, 'probs_category_2': None, 'probs_category_3': None, 'probs_category_4': None, 'probs_category_5': 0.999404, 'probs_category_6': None, 'probs_category_7': None, 'probs_category_8': None, 'probs_category_9': None, 'probs_category_10': None}\n",
      "{'id': 21484434, 'title': '이쯤에서 질문', 'text': '전공서적 (2 3 4학년 상관없음)\\n1. 새책산다\\n2. 중고로 산다\\n3. 제본뜬다\\n4. 물려받는다\\n새책사거나 중고사신분 또 질문\\na. 중고로 판다\\nb. 그냥 가지고 있는다\\nc. 물려준다', 'category_id': None, 'is_verified': None, 'probs_category_0': None, 'probs_category_1': None, 'probs_category_2': None, 'probs_category_3': None, 'probs_category_4': None, 'probs_category_5': 0.000201309, 'probs_category_6': None, 'probs_category_7': None, 'probs_category_8': None, 'probs_category_9': None, 'probs_category_10': None}\n",
      "{'id': 21484856, 'title': '화공과 유기화학1수업 책 : 스미스 유기화학', 'text': '번역판 샀는데 원서없으면 시험보기힘든가요?', 'category_id': None, 'is_verified': None, 'probs_category_0': None, 'probs_category_1': None, 'probs_category_2': None, 'probs_category_3': None, 'probs_category_4': None, 'probs_category_5': 0.998514, 'probs_category_6': None, 'probs_category_7': None, 'probs_category_8': None, 'probs_category_9': None, 'probs_category_10': None}\n",
      "{'id': 21485394, 'title': '컴퓨터구조 책삽니다', 'text': '표지에 컴퓨터구조 및 설계 써있고 5판 한글판 중고 2만원에삽니다\\nPatterson , Hennessy 저자 입니다', 'category_id': None, 'is_verified': None, 'probs_category_0': None, 'probs_category_1': None, 'probs_category_2': None, 'probs_category_3': None, 'probs_category_4': None, 'probs_category_5': 0.904077, 'probs_category_6': None, 'probs_category_7': None, 'probs_category_8': None, 'probs_category_9': None, 'probs_category_10': None}\n",
      "{'id': 21485924, 'title': '오늘 영화의 이해 수업', 'text': '영화의 이해 유양근 교수님 수업을 못가서 그런데 혹시 교재같은거나 해오라고 하신거 있나요?! ㅜㅜ', 'category_id': None, 'is_verified': None, 'probs_category_0': None, 'probs_category_1': None, 'probs_category_2': None, 'probs_category_3': None, 'probs_category_4': None, 'probs_category_5': 0.000129888, 'probs_category_6': None, 'probs_category_7': None, 'probs_category_8': None, 'probs_category_9': None, 'probs_category_10': None}\n",
      "{'id': 21485950, 'title': '초급일본어', 'text': '전유나 초급일본어 책필요한가요?', 'category_id': None, 'is_verified': None, 'probs_category_0': None, 'probs_category_1': None, 'probs_category_2': None, 'probs_category_3': None, 'probs_category_4': None, 'probs_category_5': 0.000134748, 'probs_category_6': None, 'probs_category_7': None, 'probs_category_8': None, 'probs_category_9': None, 'probs_category_10': None}\n",
      "{'id': 21487104, 'title': '나 진짜 어릴 때부터 궁금하던 건데 알려줄 사람', 'text': '버스 안에서 제자리 비행하고 있는 파리는\\n버스가 앞으로 움직이면 버스 뒷자석에 부딪혀야 하자나...\\n근데 왜 안 부딪혀', 'category_id': None, 'is_verified': None, 'probs_category_0': None, 'probs_category_1': None, 'probs_category_2': None, 'probs_category_3': None, 'probs_category_4': None, 'probs_category_5': 0.000143259, 'probs_category_6': None, 'probs_category_7': None, 'probs_category_8': None, 'probs_category_9': None, 'probs_category_10': None}\n"
     ]
    }
   ],
   "source": [
    "# 가져온 데이터의 일부를 출력\n",
    "\n",
    "for article in original_articles[:20]:\n",
    "    print(article)"
   ]
  },
  {
   "cell_type": "code",
   "execution_count": 7,
   "metadata": {},
   "outputs": [],
   "source": [
    "# 데이터 전처리\n",
    "\n",
    "contents = [(article['title'] + ' ' + article['text']).strip() for article in original_articles]"
   ]
  },
  {
   "cell_type": "code",
   "execution_count": 8,
   "metadata": {},
   "outputs": [
    {
     "name": "stdout",
     "output_type": "stream",
     "text": [
      "어제 비마관 화장실에서 핸드폰 찾아주신분! 제가 경황이 없어서 감사하다고도 못 했네요.\n",
      "정말 감사합니다!!!\n",
      "클럽좋아하시는분 계세요~? 남자 신입생인데 주말에갈려하는데 같이가실분 괌\n",
      "조은문화사 몇시에 보통 열리나요?? 1교시 수업 책 찾아야되서\n",
      "전공수업듣는데 복학한거처럼 보이는 형이 열심히는 하시던데 뭔가 군대갔다고오고 모든걸 까먹은 자기를 자책하듯이 수업듣는걸 보고 나도 3년후에 저러겠구나 싶더라... ㅠㅠ\n",
      "정문에 있는 인쇄집들 몇시까지 하는지 아시나요? 9시 넘어야 갈수있을거 같은데\n",
      "열어 있을지..\n",
      "이런사람들 많나? 신입생 새터때 번호교환하고 학교서 인사만좀 하는사이였다가 연락 한 번도 안하고 군대가고 카톡친추는 되어있어서 누군지는 알고 복학하고 오니 서로 얼굴은아는데 인사하기도 민망하고 껄끄러운사이 너무 불편하다 엮일일 없으면 상관없는데 자꾸 마주치면 괜히 불편함\n",
      "해상도! UHD 즉 4K면 코딩할때 글자 잘 안보이겠죠?\n",
      "그냥 FHD면 충분?\n",
      "문화유목시대 교재뭔가요 정정기간때 신청해서 잘 모르겠어요. ㅠㅠ 계획서보니까 고른다고하는데 뭐에요?\n",
      "난 멋있어 멋있어\n",
      "내일 공강이다 불기둥 같은 월화수를 마치고 목금이 오긴 왔네...\n",
      "힙동 들어가고싶긴한데 커버밖에 못하고\n",
      "리얼 힙찔이라 엄두가안난다\n",
      "바람지원했는데요 아직 연락이 안왔는데 다들 안온건가요!?\n",
      "전자회로실험 파형이 물결처럼 나와야하는데 왜 난 일자로 나오지???;; 이번에 복학해서 실험들으려는데 그냥 예비는 똑같이 따라하면 되는거 아닌가?\n",
      "왜 일자로만 나와....\n",
      "전자회로실험 파형이 물결처럼 나와야하는데 왜 난 일자로 나오지???;; 이번에 복학해서 실험들으려는데 그냥 예비는 똑같이 따라하면 되는거 아닌가?\n",
      "왜 일자로만 나와....\n",
      "이건 회로인데 뭐가 잘못된거지요????;;\n",
      "이쯤에서 질문 전공서적 (2 3 4학년 상관없음)\n",
      "1. 새책산다\n",
      "2. 중고로 산다\n",
      "3. 제본뜬다\n",
      "4. 물려받는다\n",
      "새책사거나 중고사신분 또 질문\n",
      "a. 중고로 판다\n",
      "b. 그냥 가지고 있는다\n",
      "c. 물려준다\n",
      "화공과 유기화학1수업 책 : 스미스 유기화학 번역판 샀는데 원서없으면 시험보기힘든가요?\n",
      "컴퓨터구조 책삽니다 표지에 컴퓨터구조 및 설계 써있고 5판 한글판 중고 2만원에삽니다\n",
      "Patterson , Hennessy 저자 입니다\n",
      "오늘 영화의 이해 수업 영화의 이해 유양근 교수님 수업을 못가서 그런데 혹시 교재같은거나 해오라고 하신거 있나요?! ㅜㅜ\n",
      "초급일본어 전유나 초급일본어 책필요한가요?\n",
      "나 진짜 어릴 때부터 궁금하던 건데 알려줄 사람 버스 안에서 제자리 비행하고 있는 파리는\n",
      "버스가 앞으로 움직이면 버스 뒷자석에 부딪혀야 하자나...\n",
      "근데 왜 안 부딪혀\n"
     ]
    }
   ],
   "source": [
    "# 전처리된 데이터의 일부를 출력\n",
    "\n",
    "for content in contents[:20]:\n",
    "    print(content)"
   ]
  },
  {
   "cell_type": "code",
   "execution_count": 9,
   "metadata": {},
   "outputs": [
    {
     "name": "stdout",
     "output_type": "stream",
     "text": [
      "Original: 어제 비마관 화장실에서 핸드폰 찾아주신분! 제가 경황이 없어서 감사하다고도 못 했네요.\n",
      "정말 감사합니다!!!\n",
      "Tokenized: ['어제', '비', '##마', '##관', '화장실', '##에서', '핸드폰', '찾아', '##주신', '##분', '!', '제가', '경', '##황', '##이', '없어서', '감사', '##하다고', '##도', '못', '했네요', '.', '정말', '감사합니다', '!', '!', '!']\n"
     ]
    }
   ],
   "source": [
    "# 토크나이저 로드\n",
    "\n",
    "tokenizer = AutoTokenizer.from_pretrained(MODEL_ID)\n",
    "\n",
    "print('Original:', contents[0])\n",
    "print('Tokenized:', tokenizer.tokenize(contents[0]))"
   ]
  },
  {
   "cell_type": "code",
   "execution_count": 10,
   "metadata": {},
   "outputs": [
    {
     "name": "stdout",
     "output_type": "stream",
     "text": [
      "There are 1 GPU(s) available.\n",
      "We will use the GPU: NVIDIA GeForce RTX 3060 Ti\n"
     ]
    },
    {
     "data": {
      "text/plain": [
       "ElectraForSequenceClassification(\n",
       "  (electra): ElectraModel(\n",
       "    (embeddings): ElectraEmbeddings(\n",
       "      (word_embeddings): Embedding(54343, 768, padding_idx=0)\n",
       "      (position_embeddings): Embedding(512, 768)\n",
       "      (token_type_embeddings): Embedding(2, 768)\n",
       "      (LayerNorm): LayerNorm((768,), eps=1e-12, elementwise_affine=True)\n",
       "      (dropout): Dropout(p=0.1, inplace=False)\n",
       "    )\n",
       "    (encoder): ElectraEncoder(\n",
       "      (layer): ModuleList(\n",
       "        (0-11): 12 x ElectraLayer(\n",
       "          (attention): ElectraAttention(\n",
       "            (self): ElectraSelfAttention(\n",
       "              (query): Linear(in_features=768, out_features=768, bias=True)\n",
       "              (key): Linear(in_features=768, out_features=768, bias=True)\n",
       "              (value): Linear(in_features=768, out_features=768, bias=True)\n",
       "              (dropout): Dropout(p=0.1, inplace=False)\n",
       "            )\n",
       "            (output): ElectraSelfOutput(\n",
       "              (dense): Linear(in_features=768, out_features=768, bias=True)\n",
       "              (LayerNorm): LayerNorm((768,), eps=1e-12, elementwise_affine=True)\n",
       "              (dropout): Dropout(p=0.1, inplace=False)\n",
       "            )\n",
       "          )\n",
       "          (intermediate): ElectraIntermediate(\n",
       "            (dense): Linear(in_features=768, out_features=3072, bias=True)\n",
       "            (intermediate_act_fn): GELUActivation()\n",
       "          )\n",
       "          (output): ElectraOutput(\n",
       "            (dense): Linear(in_features=3072, out_features=768, bias=True)\n",
       "            (LayerNorm): LayerNorm((768,), eps=1e-12, elementwise_affine=True)\n",
       "            (dropout): Dropout(p=0.1, inplace=False)\n",
       "          )\n",
       "        )\n",
       "      )\n",
       "    )\n",
       "  )\n",
       "  (classifier): ElectraClassificationHead(\n",
       "    (dense): Linear(in_features=768, out_features=768, bias=True)\n",
       "    (activation): GELUActivation()\n",
       "    (dropout): Dropout(p=0.1, inplace=False)\n",
       "    (out_proj): Linear(in_features=768, out_features=2, bias=True)\n",
       "  )\n",
       ")"
      ]
     },
     "execution_count": 10,
     "metadata": {},
     "output_type": "execute_result"
    }
   ],
   "source": [
    "# 모델 로드\n",
    "\n",
    "if torch.cuda.is_available():\n",
    "    device = torch.device('cuda')\n",
    "    print('There are %d GPU(s) available.' % torch.cuda.device_count())\n",
    "    print('We will use the GPU:', torch.cuda.get_device_name(0))\n",
    "else:\n",
    "    device = torch.device('cpu')\n",
    "    print('No GPU available, using the CPU instead.')\n",
    "\n",
    "model = AutoModelForSequenceClassification.from_pretrained(MODEL_ID, num_labels=2)\n",
    "model.to(device)"
   ]
  },
  {
   "cell_type": "code",
   "execution_count": 11,
   "metadata": {},
   "outputs": [
    {
     "name": "stderr",
     "output_type": "stream",
     "text": [
      "/tmp/ipykernel_760744/3188963195.py:11: UserWarning: To copy construct from a tensor, it is recommended to use sourceTensor.clone().detach() or sourceTensor.clone().detach().requires_grad_(True), rather than torch.tensor(sourceTensor).\n",
      "  torch.tensor(encodings['input_ids']),\n",
      "/tmp/ipykernel_760744/3188963195.py:12: UserWarning: To copy construct from a tensor, it is recommended to use sourceTensor.clone().detach() or sourceTensor.clone().detach().requires_grad_(True), rather than torch.tensor(sourceTensor).\n",
      "  torch.tensor(encodings['attention_mask'])\n"
     ]
    }
   ],
   "source": [
    "# 텍스트 인코딩 및 데이터셋 생성\n",
    "\n",
    "encodings = tokenizer(\n",
    "    contents,\n",
    "    padding=True,\n",
    "    truncation=True,\n",
    "    return_tensors='pt',\n",
    "    max_length=MAX_LENGTH\n",
    ")\n",
    "dataset = torch.utils.data.TensorDataset(\n",
    "    torch.tensor(encodings['input_ids']),\n",
    "    torch.tensor(encodings['attention_mask'])\n",
    ")\n",
    "dataloader = torch.utils.data.DataLoader(dataset, batch_size=BATCH_SIZE, shuffle=False)"
   ]
  },
  {
   "cell_type": "code",
   "execution_count": 12,
   "metadata": {},
   "outputs": [
    {
     "name": "stderr",
     "output_type": "stream",
     "text": [
      "Predicting: 100%|███████████████████████████████████████████████████████████████████████████████████████████████████████████████████████████████████| 9369/9369 [18:32<00:00,  8.42it/s]\n"
     ]
    },
    {
     "name": "stdout",
     "output_type": "stream",
     "text": [
      "Prediction completed.\n"
     ]
    }
   ],
   "source": [
    "# 예측 수행\n",
    "\n",
    "results = pd.DataFrame(original_articles, columns=['id', 'title', 'text', 'category'])\n",
    "results[f'probs_category_{TARGET_CATEGORY}'] = None\n",
    "\n",
    "for i, batch in enumerate(tqdm(dataloader, desc='Predicting')):\n",
    "    input_ids = batch[0].to(device)\n",
    "    attention_mask = batch[1].to(device)\n",
    "\n",
    "    with torch.no_grad():\n",
    "        outputs = model(input_ids, attention_mask=attention_mask)\n",
    "        logits = outputs.logits\n",
    "        probabilities = torch.softmax(logits, dim=1)\n",
    "\n",
    "    start_index = i * BATCH_SIZE\n",
    "    end_index = start_index + BATCH_SIZE - 1\n",
    "    results.loc[start_index:end_index, f'probs_category_{TARGET_CATEGORY}'] = probabilities[:, 1].tolist()\n",
    "\n",
    "results.sort_values(by=f'probs_category_{TARGET_CATEGORY}', ascending=False, inplace=True)\n",
    "\n",
    "print('Prediction completed.')"
   ]
  },
  {
   "cell_type": "code",
   "execution_count": 13,
   "metadata": {},
   "outputs": [
    {
     "data": {
      "text/html": [
       "<div>\n",
       "<style scoped>\n",
       "    .dataframe tbody tr th:only-of-type {\n",
       "        vertical-align: middle;\n",
       "    }\n",
       "\n",
       "    .dataframe tbody tr th {\n",
       "        vertical-align: top;\n",
       "    }\n",
       "\n",
       "    .dataframe thead th {\n",
       "        text-align: right;\n",
       "    }\n",
       "</style>\n",
       "<table border=\"1\" class=\"dataframe\">\n",
       "  <thead>\n",
       "    <tr style=\"text-align: right;\">\n",
       "      <th></th>\n",
       "      <th>id</th>\n",
       "      <th>title</th>\n",
       "      <th>text</th>\n",
       "      <th>category</th>\n",
       "      <th>probs_category_5</th>\n",
       "    </tr>\n",
       "  </thead>\n",
       "  <tbody>\n",
       "    <tr>\n",
       "      <th>109367</th>\n",
       "      <td>110285901</td>\n",
       "      <td>전자기학2..</td>\n",
       "      <td>2학기긴 한데 2학년 전기공학 전자기학2 전필이야?? \\n전자기학 1만 전필이면 재...</td>\n",
       "      <td>NaN</td>\n",
       "      <td>0.999546</td>\n",
       "    </tr>\n",
       "    <tr>\n",
       "      <th>297034</th>\n",
       "      <td>330406018</td>\n",
       "      <td>기초전자회로및실험 팀플</td>\n",
       "      <td>목요일 날 3교시하고 금욜날 1교시하는 수업의 경우 금요일은 뭐하는건가요? 목요일은...</td>\n",
       "      <td>NaN</td>\n",
       "      <td>0.999545</td>\n",
       "    </tr>\n",
       "    <tr>\n",
       "      <th>271182</th>\n",
       "      <td>303944043</td>\n",
       "      <td>대학수학2 계절로 재수강 들으려는데</td>\n",
       "      <td>저희과는 대학수학2가 기선 3학점인데 계절은 기필 3학점인데 대체가능할까요?</td>\n",
       "      <td>NaN</td>\n",
       "      <td>0.999543</td>\n",
       "    </tr>\n",
       "    <tr>\n",
       "      <th>210070</th>\n",
       "      <td>230954168</td>\n",
       "      <td>대수랑 이산수학 같이듣기 힘든가요?</td>\n",
       "      <td>1학년때 대수 안들어서 들으려는데 공수는 계절로 뺄거고 이산수학 같이들어도 될지 고...</td>\n",
       "      <td>NaN</td>\n",
       "      <td>0.999543</td>\n",
       "    </tr>\n",
       "    <tr>\n",
       "      <th>42293</th>\n",
       "      <td>41882881</td>\n",
       "      <td>대학물리1 정용환 교수님 시험범위</td>\n",
       "      <td>대학물리1 정용환 교수님 월1 수3 4 교시 시험범위와 시험 보는날 알수 있을가요?</td>\n",
       "      <td>NaN</td>\n",
       "      <td>0.999543</td>\n",
       "    </tr>\n",
       "    <tr>\n",
       "      <th>118715</th>\n",
       "      <td>124754686</td>\n",
       "      <td>c프</td>\n",
       "      <td>c프 과젠데 문제 이해를 못하겠어요\\n제가 숫자를 입력하면 a배열에서 짝수만 출력하...</td>\n",
       "      <td>NaN</td>\n",
       "      <td>0.99954</td>\n",
       "    </tr>\n",
       "    <tr>\n",
       "      <th>123488</th>\n",
       "      <td>129502677</td>\n",
       "      <td>대학물리1 ㅈㄱㅅ 교수님 3차과제</td>\n",
       "      <td>3차과제 메일로 보낸지 2주일 넘었는데 아직 안 읽으신 분 있나요? 제가 보낸건 아...</td>\n",
       "      <td>NaN</td>\n",
       "      <td>0.99954</td>\n",
       "    </tr>\n",
       "    <tr>\n",
       "      <th>250562</th>\n",
       "      <td>278399610</td>\n",
       "      <td>컴사 계절학기 질문</td>\n",
       "      <td>컴퓨팅사고 계절학기에서는 c프로그래밍으로 바뀌어서 나오는거 맞나요? 소융대입니다</td>\n",
       "      <td>NaN</td>\n",
       "      <td>0.999539</td>\n",
       "    </tr>\n",
       "    <tr>\n",
       "      <th>129502</th>\n",
       "      <td>137230041</td>\n",
       "      <td>컴공 전자회로 안들으면 힘든가요?</td>\n",
       "      <td>이수체계도 보니깐 컴기실2하고 다음학기 컴구로 이어지던데 많이 연결되있나요?</td>\n",
       "      <td>NaN</td>\n",
       "      <td>0.999538</td>\n",
       "    </tr>\n",
       "    <tr>\n",
       "      <th>209726</th>\n",
       "      <td>230728203</td>\n",
       "      <td>진공공학이랑 반도체소자공학</td>\n",
       "      <td>전재과 3학년입니당 진공공학이랑 반도체소자공학 못잡았는데 나중에 열어주시나요???</td>\n",
       "      <td>NaN</td>\n",
       "      <td>0.999536</td>\n",
       "    </tr>\n",
       "    <tr>\n",
       "      <th>89023</th>\n",
       "      <td>84438736</td>\n",
       "      <td>c프로그래밍응용</td>\n",
       "      <td>제가 1학기에 안듣고 겨울방학에 들어서 하계 계절학기로 입력 되었는데 2학기에 c프...</td>\n",
       "      <td>NaN</td>\n",
       "      <td>0.999536</td>\n",
       "    </tr>\n",
       "    <tr>\n",
       "      <th>281442</th>\n",
       "      <td>315117334</td>\n",
       "      <td>전자공 C프응용 조수영강사님</td>\n",
       "      <td>오늘 수업 뭐하셨나요 \\n집안일이 있어서 못 갔습니다. 도움주시면 감사하겠습니다</td>\n",
       "      <td>NaN</td>\n",
       "      <td>0.999536</td>\n",
       "    </tr>\n",
       "    <tr>\n",
       "      <th>164368</th>\n",
       "      <td>177129475</td>\n",
       "      <td>대학물리및실험 예비리포트 언제까지인지 아는 사람</td>\n",
       "      <td>이재승교수님 나영은조교님\\n3월 17일 4시반에 실험한 수업이요\\n예비리포트 실험 ...</td>\n",
       "      <td>NaN</td>\n",
       "      <td>0.999535</td>\n",
       "    </tr>\n",
       "    <tr>\n",
       "      <th>213225</th>\n",
       "      <td>236036113</td>\n",
       "      <td>자료구조와알고리즘</td>\n",
       "      <td>ㅇㅅㅎ 교수님 자료구조와 알고리즘 월3 수4 들으시는 분 중에서 분반 바꾸실 분 계...</td>\n",
       "      <td>NaN</td>\n",
       "      <td>0.999535</td>\n",
       "    </tr>\n",
       "    <tr>\n",
       "      <th>75044</th>\n",
       "      <td>70200665</td>\n",
       "      <td>공학수학1 오태현교수님</td>\n",
       "      <td>안녕하세용 혹시 공수 오태현교수님 수업 들으시는분!! 이번주 과제 제출하는거 cha...</td>\n",
       "      <td>NaN</td>\n",
       "      <td>0.999535</td>\n",
       "    </tr>\n",
       "    <tr>\n",
       "      <th>51116</th>\n",
       "      <td>47690273</td>\n",
       "      <td>고급씨프,컴퓨팅사고</td>\n",
       "      <td>한진섭교수님 컴퓨팅사고 시간에 뭐배우나요?? 서두옥 교수님 씨프는 2학기때 진도 어...</td>\n",
       "      <td>NaN</td>\n",
       "      <td>0.999535</td>\n",
       "    </tr>\n",
       "    <tr>\n",
       "      <th>230066</th>\n",
       "      <td>256911321</td>\n",
       "      <td>전자 2-2 이거 맞아여?</td>\n",
       "      <td>전자기학2 회로이론2 물리전자2 기전실2 공수2 컴구 신시\\n7개 감당안될거같은데 ...</td>\n",
       "      <td>NaN</td>\n",
       "      <td>0.999535</td>\n",
       "    </tr>\n",
       "    <tr>\n",
       "      <th>272410</th>\n",
       "      <td>305073495</td>\n",
       "      <td>c프로그래밍, 프로그래밍기초</td>\n",
       "      <td>c프랑 프기초랑 다른 과목이죠?\\n프기초를 c프로 재수강할 수는 없는 거죠?</td>\n",
       "      <td>NaN</td>\n",
       "      <td>0.999534</td>\n",
       "    </tr>\n",
       "    <tr>\n",
       "      <th>251216</th>\n",
       "      <td>279003521</td>\n",
       "      <td>ㅇㅌㅎ 교수님 회로이론2</td>\n",
       "      <td>기말고사 보통 몇 문제 정도 출제하시나요 ??\\n원래 내신다던 중간대체과제랑 일반과...</td>\n",
       "      <td>NaN</td>\n",
       "      <td>0.999534</td>\n",
       "    </tr>\n",
       "    <tr>\n",
       "      <th>263730</th>\n",
       "      <td>295846837</td>\n",
       "      <td>선형대수학 대학수학2 안 들었어도 듣기 괜찮나요?</td>\n",
       "      <td>2학기에 대수2랑 선대랑 둘 다 들을려고 하는데 괜찮을까요? 선대 많이 어려울까요..?</td>\n",
       "      <td>NaN</td>\n",
       "      <td>0.999534</td>\n",
       "    </tr>\n",
       "  </tbody>\n",
       "</table>\n",
       "</div>"
      ],
      "text/plain": [
       "               id                        title  \\\n",
       "109367  110285901                      전자기학2..   \n",
       "297034  330406018                 기초전자회로및실험 팀플   \n",
       "271182  303944043          대학수학2 계절로 재수강 들으려는데   \n",
       "210070  230954168          대수랑 이산수학 같이듣기 힘든가요?   \n",
       "42293    41882881           대학물리1 정용환 교수님 시험범위   \n",
       "118715  124754686                           c프   \n",
       "123488  129502677           대학물리1 ㅈㄱㅅ 교수님 3차과제   \n",
       "250562  278399610                   컴사 계절학기 질문   \n",
       "129502  137230041           컴공 전자회로 안들으면 힘든가요?   \n",
       "209726  230728203               진공공학이랑 반도체소자공학   \n",
       "89023    84438736                     c프로그래밍응용   \n",
       "281442  315117334              전자공 C프응용 조수영강사님   \n",
       "164368  177129475   대학물리및실험 예비리포트 언제까지인지 아는 사람   \n",
       "213225  236036113                    자료구조와알고리즘   \n",
       "75044    70200665                 공학수학1 오태현교수님   \n",
       "51116    47690273                   고급씨프,컴퓨팅사고   \n",
       "230066  256911321               전자 2-2 이거 맞아여?   \n",
       "272410  305073495              c프로그래밍, 프로그래밍기초   \n",
       "251216  279003521                ㅇㅌㅎ 교수님 회로이론2   \n",
       "263730  295846837  선형대수학 대학수학2 안 들었어도 듣기 괜찮나요?   \n",
       "\n",
       "                                                     text  category  \\\n",
       "109367  2학기긴 한데 2학년 전기공학 전자기학2 전필이야?? \\n전자기학 1만 전필이면 재...       NaN   \n",
       "297034  목요일 날 3교시하고 금욜날 1교시하는 수업의 경우 금요일은 뭐하는건가요? 목요일은...       NaN   \n",
       "271182         저희과는 대학수학2가 기선 3학점인데 계절은 기필 3학점인데 대체가능할까요?       NaN   \n",
       "210070  1학년때 대수 안들어서 들으려는데 공수는 계절로 뺄거고 이산수학 같이들어도 될지 고...       NaN   \n",
       "42293      대학물리1 정용환 교수님 월1 수3 4 교시 시험범위와 시험 보는날 알수 있을가요?       NaN   \n",
       "118715  c프 과젠데 문제 이해를 못하겠어요\\n제가 숫자를 입력하면 a배열에서 짝수만 출력하...       NaN   \n",
       "123488  3차과제 메일로 보낸지 2주일 넘었는데 아직 안 읽으신 분 있나요? 제가 보낸건 아...       NaN   \n",
       "250562       컴퓨팅사고 계절학기에서는 c프로그래밍으로 바뀌어서 나오는거 맞나요? 소융대입니다       NaN   \n",
       "129502         이수체계도 보니깐 컴기실2하고 다음학기 컴구로 이어지던데 많이 연결되있나요?       NaN   \n",
       "209726      전재과 3학년입니당 진공공학이랑 반도체소자공학 못잡았는데 나중에 열어주시나요???       NaN   \n",
       "89023   제가 1학기에 안듣고 겨울방학에 들어서 하계 계절학기로 입력 되었는데 2학기에 c프...       NaN   \n",
       "281442       오늘 수업 뭐하셨나요 \\n집안일이 있어서 못 갔습니다. 도움주시면 감사하겠습니다       NaN   \n",
       "164368  이재승교수님 나영은조교님\\n3월 17일 4시반에 실험한 수업이요\\n예비리포트 실험 ...       NaN   \n",
       "213225  ㅇㅅㅎ 교수님 자료구조와 알고리즘 월3 수4 들으시는 분 중에서 분반 바꾸실 분 계...       NaN   \n",
       "75044   안녕하세용 혹시 공수 오태현교수님 수업 들으시는분!! 이번주 과제 제출하는거 cha...       NaN   \n",
       "51116   한진섭교수님 컴퓨팅사고 시간에 뭐배우나요?? 서두옥 교수님 씨프는 2학기때 진도 어...       NaN   \n",
       "230066  전자기학2 회로이론2 물리전자2 기전실2 공수2 컴구 신시\\n7개 감당안될거같은데 ...       NaN   \n",
       "272410         c프랑 프기초랑 다른 과목이죠?\\n프기초를 c프로 재수강할 수는 없는 거죠?       NaN   \n",
       "251216  기말고사 보통 몇 문제 정도 출제하시나요 ??\\n원래 내신다던 중간대체과제랑 일반과...       NaN   \n",
       "263730   2학기에 대수2랑 선대랑 둘 다 들을려고 하는데 괜찮을까요? 선대 많이 어려울까요..?       NaN   \n",
       "\n",
       "       probs_category_5  \n",
       "109367         0.999546  \n",
       "297034         0.999545  \n",
       "271182         0.999543  \n",
       "210070         0.999543  \n",
       "42293          0.999543  \n",
       "118715          0.99954  \n",
       "123488          0.99954  \n",
       "250562         0.999539  \n",
       "129502         0.999538  \n",
       "209726         0.999536  \n",
       "89023          0.999536  \n",
       "281442         0.999536  \n",
       "164368         0.999535  \n",
       "213225         0.999535  \n",
       "75044          0.999535  \n",
       "51116          0.999535  \n",
       "230066         0.999535  \n",
       "272410         0.999534  \n",
       "251216         0.999534  \n",
       "263730         0.999534  "
      ]
     },
     "execution_count": 13,
     "metadata": {},
     "output_type": "execute_result"
    }
   ],
   "source": [
    "# 예측 결과의 일부를 출력\n",
    "\n",
    "results.head(20)"
   ]
  },
  {
   "cell_type": "code",
   "execution_count": 14,
   "metadata": {},
   "outputs": [
    {
     "name": "stdout",
     "output_type": "stream",
     "text": [
      "Other: 274152 (91.45%)\n",
      "Target: 25642 (8.55%)\n"
     ]
    },
    {
     "data": {
      "image/png": "[encoded data removed]",
      "text/plain": [
       "<Figure size 800x600 with 1 Axes>"
      ]
     },
     "metadata": {},
     "output_type": "display_data"
    }
   ],
   "source": [
    "# 예측 결과의 비율을 출력\n",
    "\n",
    "other_threshold_count = 0\n",
    "target_threshold_count = 0\n",
    "\n",
    "for probs in results[f'probs_category_{TARGET_CATEGORY}']:\n",
    "    if probs >= THRESHOLD:\n",
    "        target_threshold_count += 1\n",
    "    else:\n",
    "        other_threshold_count += 1\n",
    "\n",
    "total_count = len(results)\n",
    "other_threshold_percentage = other_threshold_count / total_count * 100\n",
    "target_threshold_percentage = target_threshold_count / total_count * 100\n",
    "\n",
    "print(f'Other: {other_threshold_count} ({other_threshold_percentage:.2f}%)')\n",
    "print(f'Target: {target_threshold_count} ({target_threshold_percentage:.2f}%)')\n",
    "\n",
    "plt.figure(figsize=(8, 6))\n",
    "plt.bar(['Other', 'Target'], [other_threshold_count, target_threshold_count])\n",
    "plt.text(0, other_threshold_count + 0.1, str(other_threshold_count), ha='center')\n",
    "plt.text(1, target_threshold_count + 0.1, str(target_threshold_count), ha='center')\n",
    "plt.xlabel(f'Threshold ({THRESHOLD})')\n",
    "plt.ylabel('Count')\n",
    "plt.title('Distribution of Articles')\n",
    "plt.show()"
   ]
  },
  {
   "cell_type": "code",
   "execution_count": 15,
   "metadata": {},
   "outputs": [],
   "source": [
    "# 예측 결과를 CSV 파일로 저장\n",
    "\n",
    "results.to_csv(f'prediction_results_{TARGET_CATEGORY}.csv', index=False)"
   ]
  },
  {
   "cell_type": "code",
   "execution_count": 16,
   "metadata": {},
   "outputs": [
    {
     "name": "stdout",
     "output_type": "stream",
     "text": [
      "Connected to DB successfully.\n"
     ]
    }
   ],
   "source": [
    "# 예측 결과를 DB에 저장\n",
    "\n",
    "connection = db.get_connection()\n",
    "cursor = connection.cursor()\n",
    "\n",
    "sql = f'''\n",
    "    INSERT INTO everytime_article_dataset (id, probs_category_{TARGET_CATEGORY})\n",
    "    VALUES (%s, %s)\n",
    "    ON DUPLICATE KEY UPDATE probs_category_{TARGET_CATEGORY} = VALUES(probs_category_{TARGET_CATEGORY})\n",
    "'''\n",
    "values = [(row['id'], row[f'probs_category_{TARGET_CATEGORY}']) for _, row in results.iterrows()]\n",
    "\n",
    "cursor.executemany(sql, values)\n",
    "connection.commit()\n",
    "\n",
    "cursor.close()\n",
    "db.close_connection()"
   ]
  }
 ],
 "metadata": {
  "kernelspec": {
   "display_name": "Python 3 (ipykernel)",
   "language": "python",
   "name": "python3"
  },
  "language_info": {
   "codemirror_mode": {
    "name": "ipython",
    "version": 3
   },
   "file_extension": ".py",
   "mimetype": "text/x-python",
   "name": "python",
   "nbconvert_exporter": "python",
   "pygments_lexer": "ipython3",
   "version": "3.10.12"
  }
 },
 "nbformat": 4,
 "nbformat_minor": 2
}

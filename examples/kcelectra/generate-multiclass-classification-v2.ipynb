{
 "cells": [
  {
   "cell_type": "code",
   "execution_count": 1,
   "metadata": {},
   "outputs": [],
   "source": [
    "# 다른 경로에 있는 모듈을 가져오기 위해 절대 경로 추가\n",
    "\n",
    "import os\n",
    "import sys\n",
    "\n",
    "root = os.path.join(os.path.abspath(os.getcwd()), '..', '..')\n",
    "root = os.path.normpath(root)\n",
    "\n",
    "if root not in sys.path:\n",
    "    sys.path.insert(0, root)"
   ]
  },
  {
   "cell_type": "code",
   "execution_count": 2,
   "metadata": {},
   "outputs": [
    {
     "name": "stderr",
     "output_type": "stream",
     "text": [
      "/tmp/ipykernel_1966/1026082369.py:7: DeprecationWarning: \n",
      "Pyarrow will become a required dependency of pandas in the next major release of pandas (pandas 3.0),\n",
      "(to allow more performant data types, such as the Arrow string type, and better interoperability with other libraries)\n",
      "but was not found to be installed on your system.\n",
      "If this would cause problems for you,\n",
      "please provide us feedback at https://github.com/pandas-dev/pandas/issues/54466\n",
      "        \n",
      "  import pandas as pd\n",
      "/home/retn0/repositories/nbsp1221/communav/.venv/lib/python3.10/site-packages/tqdm/auto.py:21: TqdmWarning: IProgress not found. Please update jupyter and ipywidgets. See https://ipywidgets.readthedocs.io/en/stable/user_install.html\n",
      "  from .autonotebook import tqdm as notebook_tqdm\n"
     ]
    }
   ],
   "source": [
    "# 필요한 라이브러리 로드\n",
    "\n",
    "import emoji\n",
    "import json\n",
    "import matplotlib.pyplot as plt\n",
    "import os\n",
    "import pandas as pd\n",
    "import re\n",
    "import torch\n",
    "from communav.utils import db\n",
    "from sklearn.metrics import accuracy_score, fbeta_score, precision_score, recall_score\n",
    "from sklearn.model_selection import train_test_split\n",
    "from soynlp.normalizer import repeat_normalize\n",
    "from tqdm import tqdm\n",
    "from transformers import AutoModelForSequenceClassification, AutoTokenizer, get_linear_schedule_with_warmup"
   ]
  },
  {
   "cell_type": "code",
   "execution_count": 3,
   "metadata": {},
   "outputs": [],
   "source": [
    "# 카테고리 정의\n",
    "\n",
    "CATEGORIES = {\n",
    "    0: '자유',\n",
    "    1: '학사',\n",
    "    2: '장학 · 행정',\n",
    "    3: '학교생활',\n",
    "    4: '수업',\n",
    "    5: '수업/이과',\n",
    "    6: '수업/문과',\n",
    "    7: '캠퍼스',\n",
    "    8: '취업 · 진로',\n",
    "    9: '일상생활',\n",
    "    10: '음식점 · 카페',\n",
    "    11: '취미 · 여가',\n",
    "    12: '인간관계',\n",
    "    13: '병역'\n",
    "}"
   ]
  },
  {
   "cell_type": "code",
   "execution_count": 4,
   "metadata": {},
   "outputs": [],
   "source": [
    "# 파라미터 설정\n",
    "\n",
    "TABLE_NAME = 'everytime_article_dataset_v1'\n",
    "MODEL_ID = 'beomi/KcELECTRA-base-v2022'\n",
    "TOKENIZER_ID = './custom-tokenizer'\n",
    "NUM_LABELS = len(CATEGORIES)\n",
    "MAX_LENGTH = 128\n",
    "F_BETA = 0.5\n",
    "METRIC_AVERAGE = 'weighted'\n",
    "METRIC_ZERO_DIVISION = 0\n",
    "BATCH_SIZE = 32\n",
    "ITERATION = 20\n",
    "EPOCHS = 40\n",
    "LEARNING_RATE = 2e-5\n",
    "SAVE_PATH = '.'"
   ]
  },
  {
   "cell_type": "code",
   "execution_count": 5,
   "metadata": {},
   "outputs": [
    {
     "name": "stdout",
     "output_type": "stream",
     "text": [
      "Connected to DB successfully.\n",
      "Loaded 4094 articles.\n"
     ]
    }
   ],
   "source": [
    "# 커뮤니티 게시글 데이터 로드\n",
    "\n",
    "connection = db.get_connection()\n",
    "cursor = connection.cursor()\n",
    "\n",
    "cursor.execute(f'''\n",
    "    SELECT id, title, text, category_id\n",
    "    FROM {TABLE_NAME}\n",
    "    WHERE category_id IS NOT NULL\n",
    "''')\n",
    "original_articles = cursor.fetchall()\n",
    "print(f'Loaded {len(original_articles)} articles.')\n",
    "\n",
    "cursor.close()\n",
    "db.close_connection()"
   ]
  },
  {
   "cell_type": "code",
   "execution_count": 6,
   "metadata": {},
   "outputs": [
    {
     "name": "stdout",
     "output_type": "stream",
     "text": [
      "{'id': 1, 'title': '어제 비마관 화장실에서 핸드폰 찾아주신분!', 'text': '제가 경황이 없어서 감사하다고도 못 했네요.\\n정말 감사합니다!!!', 'category_id': 9}\n",
      "{'id': 3, 'title': '조은문화사 몇시에 보통 열리나요??', 'text': '1교시 수업 책 찾아야되서', 'category_id': 7}\n",
      "{'id': 4, 'title': '전공수업듣는데', 'text': '복학한거처럼 보이는 형이 열심히는 하시던데 뭔가 군대갔다고오고 모든걸 까먹은 자기를 자책하듯이 수업듣는걸 보고 나도 3년후에 저러겠구나 싶더라... ㅠㅠ', 'category_id': 4}\n",
      "{'id': 5, 'title': '정문에 있는 인쇄집들 몇시까지 하는지 아시나요?', 'text': '9시 넘어야 갈수있을거 같은데\\n열어 있을지..', 'category_id': 7}\n",
      "{'id': 8, 'title': '문화유목시대 교재뭔가요', 'text': '정정기간때 신청해서 잘 모르겠어요. ㅠㅠ 계획서보니까 고른다고하는데 뭐에요?', 'category_id': 6}\n",
      "{'id': 13, 'title': '전자회로실험 파형이 물결처럼 나와야하는데 왜 난 일자로 나오지???;;', 'text': '이번에 복학해서 실험들으려는데 그냥 예비는 똑같이 따라하면 되는거 아닌가?\\n왜 일자로만 나와....', 'category_id': 5}\n",
      "{'id': 14, 'title': '전자회로실험 파형이 물결처럼 나와야하는데 왜 난 일자로 나오지???;;', 'text': '이번에 복학해서 실험들으려는데 그냥 예비는 똑같이 따라하면 되는거 아닌가?\\n왜 일자로만 나와....\\n이건 회로인데 뭐가 잘못된거지요????;;', 'category_id': 5}\n",
      "{'id': 17, 'title': '컴퓨터구조 책삽니다', 'text': '표지에 컴퓨터구조 및 설계 써있고 5판 한글판 중고 2만원에삽니다\\nPatterson , Hennessy 저자 입니다', 'category_id': 5}\n",
      "{'id': 18, 'title': '오늘 영화의 이해 수업', 'text': '영화의 이해 유양근 교수님 수업을 못가서 그런데 혹시 교재같은거나 해오라고 하신거 있나요?! ㅜㅜ', 'category_id': 6}\n",
      "{'id': 19, 'title': '초급일본어', 'text': '전유나 초급일본어 책필요한가요?', 'category_id': 6}\n",
      "{'id': 23, 'title': '졸업학점있잖아', 'text': '교양 30  전공 60  선택50 이면 무조건 저거에 딱맞게 이수해야해?? 만약 교양에서 33이수하고 선택에서 47이수하면 졸업안되나??', 'category_id': 1}\n",
      "{'id': 24, 'title': '현대사상의 이해', 'text': '현대사상의 이해 정정한 학생인데 자기소개서에 특별히 써야할 내용이 있는건가요?', 'category_id': 6}\n",
      "{'id': 25, 'title': '성적확인방법 문의드립니다.', 'text': '졸업생인데 인터넷으로 성적확인 및 출력하는 방법 아시는 분 계신가요?', 'category_id': 1}\n",
      "{'id': 26, 'title': '학생증 꼭 만들어야하나요???', 'text': '안만드니까 계속 문자와서;;;학생증 도서관에서 쓰는 거 말고도 많이 필요한가요??ㅠ\\n그리고 모바일 학생증으로도 책 빌릴 수 있나요??', 'category_id': 2}\n",
      "{'id': 28, 'title': '13인치 15인치', 'text': '2시간 통학/ 코딩/ 레포트 면\\n13인치가 더 낫겠죠?!', 'category_id': 9}\n",
      "{'id': 29, 'title': '도키도키~~~', 'text': '일본어!\\n도키도키~~', 'category_id': 0}\n",
      "{'id': 38, 'title': '정형원교수님 정보와현대사회', 'text': '인강 지금 들을 수 있는분 계신가요?유캠에서 듣는걸로 알고있는데 아직 인강이 안떠있어서요', 'category_id': 6}\n",
      "{'id': 44, 'title': '교비근로', 'text': '해보신분 어떤가요?', 'category_id': 2}\n",
      "{'id': 46, 'title': '물리전자 교재없으면 시험기간대비 힘들까요?', 'text': '교재 필요없다고는 하는데', 'category_id': 5}\n",
      "{'id': 49, 'title': '지적재산법 월요일에 출첵했어요?', 'text': '제곧내', 'category_id': 6}\n"
     ]
    }
   ],
   "source": [
    "# 가져온 데이터의 일부를 출력\n",
    "\n",
    "for article in original_articles[:20]:\n",
    "    print(article)"
   ]
  },
  {
   "cell_type": "code",
   "execution_count": 7,
   "metadata": {},
   "outputs": [],
   "source": [
    "# 데이터 전처리 함수 정의\n",
    "\n",
    "normal_pattern = re.compile(r'[^ .,?!/@$%~％·∼()\\x00-\\x7Fㄱ-ㅣ가-힣]+')\n",
    "url_pattern = re.compile(r'https?:\\/\\/(www\\.)?[-a-zA-Z0-9@:%._\\+~#=]{1,256}\\.[a-zA-Z0-9()]{1,6}\\b([-a-zA-Z0-9()@:%_\\+.~#?&//=]*)')\n",
    "\n",
    "def preprocess(value):\n",
    "    value = normal_pattern.sub(' ', value)\n",
    "    value = emoji.replace_emoji(value, replace='')\n",
    "    value = url_pattern.sub('', value)\n",
    "    value = repeat_normalize(value, num_repeats=2)\n",
    "    value = value.strip()\n",
    "    return value"
   ]
  },
  {
   "cell_type": "code",
   "execution_count": 8,
   "metadata": {},
   "outputs": [
    {
     "name": "stderr",
     "output_type": "stream",
     "text": [
      "100%|██████████| 4094/4094 [00:00<00:00, 19052.45it/s]\n"
     ]
    }
   ],
   "source": [
    "# 데이터 전처리\n",
    "\n",
    "preprocessed_articles = []\n",
    "\n",
    "for article in tqdm(original_articles):\n",
    "    title = article['title']\n",
    "    text = article['text']\n",
    "    content = (title + ' ' + text).replace('\\n', ' ')\n",
    "\n",
    "    preprocessed_articles.append({\n",
    "        'content': preprocess(content),\n",
    "        'label': article['category_id']\n",
    "    })"
   ]
  },
  {
   "cell_type": "code",
   "execution_count": 9,
   "metadata": {},
   "outputs": [
    {
     "name": "stdout",
     "output_type": "stream",
     "text": [
      "{'content': '어제 비마관 화장실에서 핸드폰 찾아주신분! 제가 경황이 없어서 감사하다고도 못 했네요. 정말 감사합니다!!!', 'label': 9}\n",
      "{'content': '조은문화사 몇시에 보통 열리나요?? 1교시 수업 책 찾아야되서', 'label': 7}\n",
      "{'content': '전공수업듣는데 복학한거처럼 보이는 형이 열심히는 하시던데 뭔가 군대갔다고오고 모든걸 까먹은 자기를 자책하듯이 수업듣는걸 보고 나도 3년후에 저러겠구나 싶더라... ㅠㅠ', 'label': 4}\n",
      "{'content': '정문에 있는 인쇄집들 몇시까지 하는지 아시나요? 9시 넘어야 갈수있을거 같은데 열어 있을지..', 'label': 7}\n",
      "{'content': '문화유목시대 교재뭔가요 정정기간때 신청해서 잘 모르겠어요. ㅠㅠ 계획서보니까 고른다고하는데 뭐에요?', 'label': 6}\n",
      "{'content': '전자회로실험 파형이 물결처럼 나와야하는데 왜 난 일자로 나오지???;; 이번에 복학해서 실험들으려는데 그냥 예비는 똑같이 따라하면 되는거 아닌가? 왜 일자로만 나와....', 'label': 5}\n",
      "{'content': '전자회로실험 파형이 물결처럼 나와야하는데 왜 난 일자로 나오지???;; 이번에 복학해서 실험들으려는데 그냥 예비는 똑같이 따라하면 되는거 아닌가? 왜 일자로만 나와.... 이건 회로인데 뭐가 잘못된거지요????;;', 'label': 5}\n",
      "{'content': '컴퓨터구조 책삽니다 표지에 컴퓨터구조 및 설계 써있고 5판 한글판 중고 2만원에삽니다 Patterson , Hennessy 저자 입니다', 'label': 5}\n",
      "{'content': '오늘 영화의 이해 수업 영화의 이해 유양근 교수님 수업을 못가서 그런데 혹시 교재같은거나 해오라고 하신거 있나요?! ㅜㅜ', 'label': 6}\n",
      "{'content': '초급일본어 전유나 초급일본어 책필요한가요?', 'label': 6}\n",
      "{'content': '졸업학점있잖아 교양 30 전공 60 선택50 이면 무조건 저거에 딱맞게 이수해야해?? 만약 교양에서 33이수하고 선택에서 47이수하면 졸업안되나??', 'label': 1}\n",
      "{'content': '현대사상의 이해 현대사상의 이해 정정한 학생인데 자기소개서에 특별히 써야할 내용이 있는건가요?', 'label': 6}\n",
      "{'content': '성적확인방법 문의드립니다. 졸업생인데 인터넷으로 성적확인 및 출력하는 방법 아시는 분 계신가요?', 'label': 1}\n",
      "{'content': '학생증 꼭 만들어야하나요??? 안만드니까 계속 문자와서;;;학생증 도서관에서 쓰는 거 말고도 많이 필요한가요??ㅠ 그리고 모바일 학생증으로도 책 빌릴 수 있나요??', 'label': 2}\n",
      "{'content': '13인치 15인치 2시간 통학/ 코딩/ 레포트 면 13인치가 더 낫겠죠?!', 'label': 9}\n",
      "{'content': '도키도키~~~ 일본어! 도키도키~~', 'label': 0}\n",
      "{'content': '정형원교수님 정보와현대사회 인강 지금 들을 수 있는분 계신가요?유캠에서 듣는걸로 알고있는데 아직 인강이 안떠있어서요', 'label': 6}\n",
      "{'content': '교비근로 해보신분 어떤가요?', 'label': 2}\n",
      "{'content': '물리전자 교재없으면 시험기간대비 힘들까요? 교재 필요없다고는 하는데', 'label': 5}\n",
      "{'content': '지적재산법 월요일에 출첵했어요? 제곧내', 'label': 6}\n"
     ]
    }
   ],
   "source": [
    "# 전처리된 데이터의 일부를 출력\n",
    "\n",
    "for article in preprocessed_articles[:20]:\n",
    "    print(article)"
   ]
  },
  {
   "cell_type": "code",
   "execution_count": 10,
   "metadata": {},
   "outputs": [],
   "source": [
    "# 데이터 분포 확인 함수 정의\n",
    "\n",
    "def plot_distribution(articles):\n",
    "    label_counts = {category_id: 0 for category_id in CATEGORIES}\n",
    "    for article in articles:\n",
    "        label_counts[article['label']] += 1\n",
    "\n",
    "    total_count = sum(label_counts.values())\n",
    "    percentages = {category_id: count / total_count * 100 for category_id, count in label_counts.items()}\n",
    "    for category_id, percentage in percentages.items():\n",
    "        print(f'{CATEGORIES[category_id]} [{category_id}]: {percentage:.2f}%')\n",
    "\n",
    "    plt.figure(figsize=(12, 8))\n",
    "    plt.bar(CATEGORIES.keys(), label_counts.values())\n",
    "    for i, count in enumerate(label_counts.values()):\n",
    "        plt.text(i, count + 0.1, str(count), ha='center')\n",
    "    plt.xlabel('Category')\n",
    "    plt.ylabel('Count')\n",
    "    plt.title('Distribution of Categories')\n",
    "    plt.xticks(range(len(CATEGORIES)), list(CATEGORIES.keys()))\n",
    "    plt.tight_layout()\n",
    "    plt.show()"
   ]
  },
  {
   "cell_type": "code",
   "execution_count": 11,
   "metadata": {},
   "outputs": [
    {
     "name": "stdout",
     "output_type": "stream",
     "text": [
      "자유 [0]: 9.55%\n",
      "학사 [1]: 6.64%\n",
      "장학 · 행정 [2]: 21.81%\n",
      "학교생활 [3]: 7.65%\n",
      "수업 [4]: 4.20%\n",
      "수업/이과 [5]: 10.50%\n",
      "수업/문과 [6]: 6.72%\n",
      "캠퍼스 [7]: 7.01%\n",
      "취업 · 진로 [8]: 3.57%\n",
      "일상생활 [9]: 6.79%\n",
      "음식점 · 카페 [10]: 4.91%\n",
      "취미 · 여가 [11]: 4.30%\n",
      "인간관계 [12]: 2.56%\n",
      "병역 [13]: 3.79%\n"
     ]
    },
    {
     "data": {
      "image/png": "[encoded data removed]",
      "text/plain": [
       "<Figure size 1200x800 with 1 Axes>"
      ]
     },
     "metadata": {},
     "output_type": "display_data"
    }
   ],
   "source": [
    "# 데이터 분포 확인\n",
    "\n",
    "plot_distribution(preprocessed_articles)"
   ]
  },
  {
   "cell_type": "code",
   "execution_count": 12,
   "metadata": {},
   "outputs": [
    {
     "name": "stdout",
     "output_type": "stream",
     "text": [
      "Number of training articles: 3275\n",
      "Number of validation articles: 819\n"
     ]
    }
   ],
   "source": [
    "# 훈련 데이터와 검증 데이터로 분리\n",
    "\n",
    "train_articles, val_articles = train_test_split(\n",
    "    preprocessed_articles,\n",
    "    test_size=0.2,\n",
    "    random_state=42\n",
    ")\n",
    "\n",
    "print(f'Number of training articles: {len(train_articles)}')\n",
    "print(f'Number of validation articles: {len(val_articles)}')"
   ]
  },
  {
   "cell_type": "code",
   "execution_count": 13,
   "metadata": {},
   "outputs": [
    {
     "name": "stdout",
     "output_type": "stream",
     "text": [
      "자유 [0]: 9.74%\n",
      "학사 [1]: 6.81%\n",
      "장학 · 행정 [2]: 21.71%\n",
      "학교생활 [3]: 7.82%\n",
      "수업 [4]: 4.37%\n",
      "수업/이과 [5]: 10.23%\n",
      "수업/문과 [6]: 7.42%\n",
      "캠퍼스 [7]: 7.08%\n",
      "취업 · 진로 [8]: 3.54%\n",
      "일상생활 [9]: 6.29%\n",
      "음식점 · 카페 [10]: 4.70%\n",
      "취미 · 여가 [11]: 3.85%\n",
      "인간관계 [12]: 2.56%\n",
      "병역 [13]: 3.88%\n"
     ]
    },
    {
     "data": {
      "image/png": "[encoded data removed]",
      "text/plain": [
       "<Figure size 1200x800 with 1 Axes>"
      ]
     },
     "metadata": {},
     "output_type": "display_data"
    }
   ],
   "source": [
    "# 훈련 데이터의 데이터 분포 확인\n",
    "\n",
    "plot_distribution(train_articles)"
   ]
  },
  {
   "cell_type": "code",
   "execution_count": 14,
   "metadata": {},
   "outputs": [
    {
     "name": "stdout",
     "output_type": "stream",
     "text": [
      "자유 [0]: 8.79%\n",
      "학사 [1]: 5.98%\n",
      "장학 · 행정 [2]: 22.22%\n",
      "학교생활 [3]: 6.96%\n",
      "수업 [4]: 3.54%\n",
      "수업/이과 [5]: 11.60%\n",
      "수업/문과 [6]: 3.91%\n",
      "캠퍼스 [7]: 6.72%\n",
      "취업 · 진로 [8]: 3.66%\n",
      "일상생활 [9]: 8.79%\n",
      "음식점 · 카페 [10]: 5.74%\n",
      "취미 · 여가 [11]: 6.11%\n",
      "인간관계 [12]: 2.56%\n",
      "병역 [13]: 3.42%\n"
     ]
    },
    {
     "data": {
      "image/png": "[encoded data removed]",
      "text/plain": [
       "<Figure size 1200x800 with 1 Axes>"
      ]
     },
     "metadata": {},
     "output_type": "display_data"
    }
   ],
   "source": [
    "# 검증 데이터의 데이터 분포 확인\n",
    "\n",
    "plot_distribution(val_articles)"
   ]
  },
  {
   "cell_type": "code",
   "execution_count": 15,
   "metadata": {},
   "outputs": [
    {
     "name": "stdout",
     "output_type": "stream",
     "text": [
      "Original: 어제 비마관 화장실에서 핸드폰 찾아주신분! 제가 경황이 없어서 감사하다고도 못 했네요. 정말 감사합니다!!!\n",
      "Tokenized: ['어제', '비', '##마', '##관', '화장실', '##에서', '핸드폰', '찾아', '##주신', '##분', '!', '제가', '경', '##황', '##이', '없어서', '감사', '##하다고', '##도', '못', '했네요', '.', '정말', '감사합니다', '!', '!', '!']\n"
     ]
    }
   ],
   "source": [
    "# 토크나이저 로드\n",
    "\n",
    "tokenizer = AutoTokenizer.from_pretrained(TOKENIZER_ID, do_basic_tokenize=False)\n",
    "\n",
    "print('Original:', preprocessed_articles[0]['content'])\n",
    "print('Tokenized:', tokenizer.tokenize(preprocessed_articles[0]['content']))"
   ]
  },
  {
   "cell_type": "code",
   "execution_count": 16,
   "metadata": {},
   "outputs": [
    {
     "name": "stderr",
     "output_type": "stream",
     "text": [
      "/tmp/ipykernel_1966/2848816050.py:24: UserWarning: To copy construct from a tensor, it is recommended to use sourceTensor.clone().detach() or sourceTensor.clone().detach().requires_grad_(True), rather than torch.tensor(sourceTensor).\n",
      "  torch.tensor(train_encodings['input_ids']),\n",
      "/tmp/ipykernel_1966/2848816050.py:25: UserWarning: To copy construct from a tensor, it is recommended to use sourceTensor.clone().detach() or sourceTensor.clone().detach().requires_grad_(True), rather than torch.tensor(sourceTensor).\n",
      "  torch.tensor(train_encodings['attention_mask']),\n",
      "/tmp/ipykernel_1966/2848816050.py:29: UserWarning: To copy construct from a tensor, it is recommended to use sourceTensor.clone().detach() or sourceTensor.clone().detach().requires_grad_(True), rather than torch.tensor(sourceTensor).\n",
      "  torch.tensor(val_encodings['input_ids']),\n",
      "/tmp/ipykernel_1966/2848816050.py:30: UserWarning: To copy construct from a tensor, it is recommended to use sourceTensor.clone().detach() or sourceTensor.clone().detach().requires_grad_(True), rather than torch.tensor(sourceTensor).\n",
      "  torch.tensor(val_encodings['attention_mask']),\n"
     ]
    }
   ],
   "source": [
    "# 텍스트 인코딩 및 데이터셋 생성\n",
    "\n",
    "train_contents = [article['content'] for article in train_articles]\n",
    "train_labels = [article['label'] for article in train_articles]\n",
    "val_contents = [article['content'] for article in val_articles]\n",
    "val_labels = [article['label'] for article in val_articles]\n",
    "\n",
    "train_encodings = tokenizer(\n",
    "    train_contents,\n",
    "    padding=True,\n",
    "    truncation=True,\n",
    "    return_tensors='pt',\n",
    "    max_length=MAX_LENGTH\n",
    ")\n",
    "val_encodings = tokenizer(\n",
    "    val_contents,\n",
    "    padding=True,\n",
    "    truncation=True,\n",
    "    return_tensors='pt',\n",
    "    max_length=MAX_LENGTH\n",
    ")\n",
    "\n",
    "train_dataset = torch.utils.data.TensorDataset(\n",
    "    torch.tensor(train_encodings['input_ids']),\n",
    "    torch.tensor(train_encodings['attention_mask']),\n",
    "    torch.tensor(train_labels)\n",
    ")\n",
    "val_dataset = torch.utils.data.TensorDataset(\n",
    "    torch.tensor(val_encodings['input_ids']),\n",
    "    torch.tensor(val_encodings['attention_mask']),\n",
    "    torch.tensor(val_labels)\n",
    ")\n",
    "\n",
    "train_dataloader = torch.utils.data.DataLoader(train_dataset, batch_size=BATCH_SIZE, shuffle=True)\n",
    "val_dataloader = torch.utils.data.DataLoader(val_dataset, batch_size=BATCH_SIZE, shuffle=False)"
   ]
  },
  {
   "cell_type": "code",
   "execution_count": 17,
   "metadata": {},
   "outputs": [
    {
     "name": "stdout",
     "output_type": "stream",
     "text": [
      "There are 1 GPU(s) available.\n",
      "We will use the GPU: NVIDIA GeForce RTX 3060 Ti\n"
     ]
    }
   ],
   "source": [
    "# 학습 전 초기화\n",
    "\n",
    "if torch.cuda.is_available():\n",
    "    device = torch.device('cuda')\n",
    "    print('There are %d GPU(s) available.' % torch.cuda.device_count())\n",
    "    print('We will use the GPU:', torch.cuda.get_device_name(0))\n",
    "else:\n",
    "    device = torch.device('cpu')\n",
    "    print('No GPU available, using the CPU instead.')"
   ]
  },
  {
   "cell_type": "code",
   "execution_count": 18,
   "metadata": {},
   "outputs": [],
   "source": [
    "# 평가 지표 계산 함수 정의\n",
    "\n",
    "def calculate_metrics(true_labels, predicted_labels):\n",
    "    acc = accuracy_score(true_labels, predicted_labels)\n",
    "    prec = precision_score(true_labels, predicted_labels, average=METRIC_AVERAGE, zero_division=METRIC_ZERO_DIVISION)\n",
    "    rec = recall_score(true_labels, predicted_labels, average=METRIC_AVERAGE, zero_division=METRIC_ZERO_DIVISION)\n",
    "    f_beta = fbeta_score(true_labels, predicted_labels, beta=F_BETA, average=METRIC_AVERAGE, zero_division=METRIC_ZERO_DIVISION)\n",
    "\n",
    "    return acc, prec, rec, f_beta"
   ]
  },
  {
   "cell_type": "code",
   "execution_count": 19,
   "metadata": {},
   "outputs": [
    {
     "name": "stdout",
     "output_type": "stream",
     "text": [
      "Iteration 1/20\n"
     ]
    },
    {
     "name": "stderr",
     "output_type": "stream",
     "text": [
      "Some weights of ElectraForSequenceClassification were not initialized from the model checkpoint at beomi/KcELECTRA-base-v2022 and are newly initialized: ['classifier.dense.bias', 'classifier.dense.weight', 'classifier.out_proj.bias', 'classifier.out_proj.weight']\n",
      "You should probably TRAIN this model on a down-stream task to be able to use it for predictions and inference.\n",
      "Epoch 1 - Training: 100%|██████████| 103/103 [00:30<00:00,  3.32it/s]\n",
      "Epoch 1 - Validation: 100%|██████████| 26/26 [00:02<00:00, 10.31it/s]\n"
     ]
    },
    {
     "name": "stdout",
     "output_type": "stream",
     "text": [
      "Iteration 1 - Epoch 1:\n",
      "  Train Acc = 0.2882, Train Prec = 0.2310, Train Rec = 0.2882, Train F-Beta = 0.1607, Train Loss = 2.3145\n",
      "  Val Acc = 0.4786, Val Prec = 0.3515, Val Rec = 0.4786, Val F-Beta = 0.3302, Val Loss = 1.8097\n"
     ]
    },
    {
     "name": "stderr",
     "output_type": "stream",
     "text": [
      "Epoch 2 - Training: 100%|██████████| 103/103 [00:30<00:00,  3.35it/s]\n",
      "Epoch 2 - Validation: 100%|██████████| 26/26 [00:02<00:00, 10.24it/s]\n"
     ]
    },
    {
     "name": "stdout",
     "output_type": "stream",
     "text": [
      "Iteration 1 - Epoch 2:\n",
      "  Train Acc = 0.6217, Train Prec = 0.6592, Train Rec = 0.6217, Train F-Beta = 0.5620, Train Loss = 1.3826\n",
      "  Val Acc = 0.7473, Val Prec = 0.7795, Val Rec = 0.7473, Val F-Beta = 0.7021, Val Loss = 0.9373\n"
     ]
    },
    {
     "name": "stderr",
     "output_type": "stream",
     "text": [
      "Epoch 3 - Training: 100%|██████████| 103/103 [00:30<00:00,  3.35it/s]\n",
      "Epoch 3 - Validation: 100%|██████████| 26/26 [00:02<00:00, 10.20it/s]\n"
     ]
    },
    {
     "name": "stdout",
     "output_type": "stream",
     "text": [
      "Iteration 1 - Epoch 3:\n",
      "  Train Acc = 0.8684, Train Prec = 0.8801, Train Rec = 0.8684, Train F-Beta = 0.8696, Train Loss = 0.6866\n",
      "  Val Acc = 0.9170, Val Prec = 0.9224, Val Rec = 0.9170, Val F-Beta = 0.9181, Val Loss = 0.4645\n"
     ]
    },
    {
     "name": "stderr",
     "output_type": "stream",
     "text": [
      "Epoch 4 - Training: 100%|██████████| 103/103 [00:30<00:00,  3.34it/s]\n",
      "Epoch 4 - Validation: 100%|██████████| 26/26 [00:02<00:00, 10.19it/s]\n"
     ]
    },
    {
     "name": "stdout",
     "output_type": "stream",
     "text": [
      "Iteration 1 - Epoch 4:\n",
      "  Train Acc = 0.9603, Train Prec = 0.9605, Train Rec = 0.9603, Train F-Beta = 0.9604, Train Loss = 0.3038\n",
      "  Val Acc = 0.9353, Val Prec = 0.9379, Val Rec = 0.9353, Val F-Beta = 0.9364, Val Loss = 0.3063\n"
     ]
    },
    {
     "name": "stderr",
     "output_type": "stream",
     "text": [
      "Epoch 5 - Training: 100%|██████████| 103/103 [00:30<00:00,  3.34it/s]\n",
      "Epoch 5 - Validation: 100%|██████████| 26/26 [00:02<00:00, 10.18it/s]\n"
     ]
    },
    {
     "name": "stdout",
     "output_type": "stream",
     "text": [
      "Iteration 1 - Epoch 5:\n",
      "  Train Acc = 0.9823, Train Prec = 0.9824, Train Rec = 0.9823, Train F-Beta = 0.9823, Train Loss = 0.1464\n",
      "  Val Acc = 0.9414, Val Prec = 0.9447, Val Rec = 0.9414, Val F-Beta = 0.9431, Val Loss = 0.2670\n"
     ]
    },
    {
     "name": "stderr",
     "output_type": "stream",
     "text": [
      "Epoch 6 - Training: 100%|██████████| 103/103 [00:30<00:00,  3.34it/s]\n",
      "Epoch 6 - Validation: 100%|██████████| 26/26 [00:02<00:00, 10.17it/s]\n"
     ]
    },
    {
     "name": "stdout",
     "output_type": "stream",
     "text": [
      "Iteration 1 - Epoch 6:\n",
      "  Train Acc = 0.9893, Train Prec = 0.9893, Train Rec = 0.9893, Train F-Beta = 0.9893, Train Loss = 0.0838\n",
      "  Val Acc = 0.9487, Val Prec = 0.9500, Val Rec = 0.9487, Val F-Beta = 0.9492, Val Loss = 0.2510\n"
     ]
    },
    {
     "name": "stderr",
     "output_type": "stream",
     "text": [
      "Epoch 7 - Training: 100%|██████████| 103/103 [00:30<00:00,  3.34it/s]\n",
      "Epoch 7 - Validation: 100%|██████████| 26/26 [00:02<00:00, 10.18it/s]\n"
     ]
    },
    {
     "name": "stdout",
     "output_type": "stream",
     "text": [
      "Iteration 1 - Epoch 7:\n",
      "  Train Acc = 0.9936, Train Prec = 0.9936, Train Rec = 0.9936, Train F-Beta = 0.9936, Train Loss = 0.0525\n",
      "  Val Acc = 0.9426, Val Prec = 0.9475, Val Rec = 0.9426, Val F-Beta = 0.9452, Val Loss = 0.2779\n"
     ]
    },
    {
     "name": "stderr",
     "output_type": "stream",
     "text": [
      "Epoch 8 - Training: 100%|██████████| 103/103 [00:30<00:00,  3.34it/s]\n",
      "Epoch 8 - Validation: 100%|██████████| 26/26 [00:02<00:00, 10.16it/s]\n"
     ]
    },
    {
     "name": "stdout",
     "output_type": "stream",
     "text": [
      "Iteration 1 - Epoch 8:\n",
      "  Train Acc = 0.9945, Train Prec = 0.9945, Train Rec = 0.9945, Train F-Beta = 0.9945, Train Loss = 0.0403\n",
      "  Val Acc = 0.9499, Val Prec = 0.9507, Val Rec = 0.9499, Val F-Beta = 0.9501, Val Loss = 0.2342\n",
      "  Better model saved with 0.9501 F-beta score.\n"
     ]
    },
    {
     "name": "stderr",
     "output_type": "stream",
     "text": [
      "Epoch 9 - Training: 100%|██████████| 103/103 [00:30<00:00,  3.33it/s]\n",
      "Epoch 9 - Validation: 100%|██████████| 26/26 [00:02<00:00,  9.75it/s]\n"
     ]
    },
    {
     "name": "stdout",
     "output_type": "stream",
     "text": [
      "Iteration 1 - Epoch 9:\n",
      "  Train Acc = 0.9985, Train Prec = 0.9985, Train Rec = 0.9985, Train F-Beta = 0.9985, Train Loss = 0.0247\n",
      "  Val Acc = 0.9499, Val Prec = 0.9504, Val Rec = 0.9499, Val F-Beta = 0.9499, Val Loss = 0.2482\n"
     ]
    },
    {
     "name": "stderr",
     "output_type": "stream",
     "text": [
      "Epoch 10 - Training: 100%|██████████| 103/103 [00:32<00:00,  3.22it/s]\n",
      "Epoch 10 - Validation: 100%|██████████| 26/26 [00:02<00:00,  9.89it/s]\n"
     ]
    },
    {
     "name": "stdout",
     "output_type": "stream",
     "text": [
      "Iteration 1 - Epoch 10:\n",
      "  Train Acc = 0.9994, Train Prec = 0.9994, Train Rec = 0.9994, Train F-Beta = 0.9994, Train Loss = 0.0165\n",
      "  Val Acc = 0.9499, Val Prec = 0.9512, Val Rec = 0.9499, Val F-Beta = 0.9504, Val Loss = 0.2589\n",
      "  Better model saved with 0.9504 F-beta score.\n"
     ]
    },
    {
     "name": "stderr",
     "output_type": "stream",
     "text": [
      "Epoch 11 - Training: 100%|██████████| 103/103 [00:31<00:00,  3.25it/s]\n",
      "Epoch 11 - Validation: 100%|██████████| 26/26 [00:02<00:00,  9.78it/s]\n"
     ]
    },
    {
     "name": "stdout",
     "output_type": "stream",
     "text": [
      "Iteration 1 - Epoch 11:\n",
      "  Train Acc = 0.9991, Train Prec = 0.9991, Train Rec = 0.9991, Train F-Beta = 0.9991, Train Loss = 0.0137\n",
      "  Val Acc = 0.9463, Val Prec = 0.9472, Val Rec = 0.9463, Val F-Beta = 0.9467, Val Loss = 0.2628\n"
     ]
    },
    {
     "name": "stderr",
     "output_type": "stream",
     "text": [
      "Epoch 12 - Training: 100%|██████████| 103/103 [00:32<00:00,  3.21it/s]\n",
      "Epoch 12 - Validation: 100%|██████████| 26/26 [00:02<00:00,  9.79it/s]\n"
     ]
    },
    {
     "name": "stdout",
     "output_type": "stream",
     "text": [
      "Iteration 1 - Epoch 12:\n",
      "  Train Acc = 0.9979, Train Prec = 0.9979, Train Rec = 0.9979, Train F-Beta = 0.9979, Train Loss = 0.0171\n",
      "  Val Acc = 0.9463, Val Prec = 0.9471, Val Rec = 0.9463, Val F-Beta = 0.9466, Val Loss = 0.2638\n"
     ]
    },
    {
     "name": "stderr",
     "output_type": "stream",
     "text": [
      "Epoch 13 - Training: 100%|██████████| 103/103 [00:31<00:00,  3.22it/s]\n",
      "Epoch 13 - Validation: 100%|██████████| 26/26 [00:02<00:00, 10.21it/s]\n"
     ]
    },
    {
     "name": "stdout",
     "output_type": "stream",
     "text": [
      "Iteration 1 - Epoch 13:\n",
      "  Train Acc = 0.9942, Train Prec = 0.9942, Train Rec = 0.9942, Train F-Beta = 0.9942, Train Loss = 0.0270\n",
      "  Val Acc = 0.9389, Val Prec = 0.9454, Val Rec = 0.9389, Val F-Beta = 0.9417, Val Loss = 0.3038\n"
     ]
    },
    {
     "name": "stderr",
     "output_type": "stream",
     "text": [
      "Epoch 14 - Training: 100%|██████████| 103/103 [00:32<00:00,  3.21it/s]\n",
      "Epoch 14 - Validation: 100%|██████████| 26/26 [00:02<00:00,  9.73it/s]\n"
     ]
    },
    {
     "name": "stdout",
     "output_type": "stream",
     "text": [
      "Iteration 1 - Epoch 14:\n",
      "  Train Acc = 0.7850, Train Prec = 0.8066, Train Rec = 0.7850, Train F-Beta = 0.7969, Train Loss = 0.7147\n",
      "  Val Acc = 0.8669, Val Prec = 0.8791, Val Rec = 0.8669, Val F-Beta = 0.8723, Val Loss = 0.4913\n"
     ]
    },
    {
     "name": "stderr",
     "output_type": "stream",
     "text": [
      "Epoch 15 - Training: 100%|██████████| 103/103 [00:31<00:00,  3.23it/s]\n",
      "Epoch 15 - Validation: 100%|██████████| 26/26 [00:02<00:00,  9.84it/s]\n"
     ]
    },
    {
     "name": "stdout",
     "output_type": "stream",
     "text": [
      "Iteration 1 - Epoch 15:\n",
      "  Train Acc = 0.9820, Train Prec = 0.9820, Train Rec = 0.9820, Train F-Beta = 0.9820, Train Loss = 0.0710\n",
      "  Val Acc = 0.9475, Val Prec = 0.9502, Val Rec = 0.9475, Val F-Beta = 0.9489, Val Loss = 0.2602\n"
     ]
    },
    {
     "name": "stderr",
     "output_type": "stream",
     "text": [
      "Epoch 16 - Training: 100%|██████████| 103/103 [00:31<00:00,  3.26it/s]\n",
      "Epoch 16 - Validation: 100%|██████████| 26/26 [00:02<00:00, 10.12it/s]\n"
     ]
    },
    {
     "name": "stdout",
     "output_type": "stream",
     "text": [
      "Iteration 1 - Epoch 16:\n",
      "  Train Acc = 0.9966, Train Prec = 0.9967, Train Rec = 0.9966, Train F-Beta = 0.9966, Train Loss = 0.0181\n",
      "  Val Acc = 0.9585, Val Prec = 0.9589, Val Rec = 0.9585, Val F-Beta = 0.9585, Val Loss = 0.2438\n",
      "  Better model saved with 0.9585 F-beta score.\n"
     ]
    },
    {
     "name": "stderr",
     "output_type": "stream",
     "text": [
      "Epoch 17 - Training: 100%|██████████| 103/103 [00:31<00:00,  3.28it/s]\n",
      "Epoch 17 - Validation: 100%|██████████| 26/26 [00:02<00:00,  9.74it/s]\n"
     ]
    },
    {
     "name": "stdout",
     "output_type": "stream",
     "text": [
      "Iteration 1 - Epoch 17:\n",
      "  Train Acc = 0.9963, Train Prec = 0.9964, Train Rec = 0.9963, Train F-Beta = 0.9963, Train Loss = 0.0177\n",
      "  Val Acc = 0.9524, Val Prec = 0.9541, Val Rec = 0.9524, Val F-Beta = 0.9530, Val Loss = 0.2799\n"
     ]
    },
    {
     "name": "stderr",
     "output_type": "stream",
     "text": [
      "Epoch 18 - Training: 100%|██████████| 103/103 [00:31<00:00,  3.31it/s]\n",
      "Epoch 18 - Validation: 100%|██████████| 26/26 [00:02<00:00, 10.13it/s]\n"
     ]
    },
    {
     "name": "stdout",
     "output_type": "stream",
     "text": [
      "Iteration 1 - Epoch 18:\n",
      "  Train Acc = 0.9985, Train Prec = 0.9985, Train Rec = 0.9985, Train F-Beta = 0.9985, Train Loss = 0.0088\n",
      "  Val Acc = 0.9438, Val Prec = 0.9448, Val Rec = 0.9438, Val F-Beta = 0.9440, Val Loss = 0.2948\n"
     ]
    },
    {
     "name": "stderr",
     "output_type": "stream",
     "text": [
      "Epoch 19 - Training: 100%|██████████| 103/103 [00:31<00:00,  3.32it/s]\n",
      "Epoch 19 - Validation: 100%|██████████| 26/26 [00:02<00:00, 10.17it/s]\n"
     ]
    },
    {
     "name": "stdout",
     "output_type": "stream",
     "text": [
      "Iteration 1 - Epoch 19:\n",
      "  Train Acc = 0.9969, Train Prec = 0.9969, Train Rec = 0.9969, Train F-Beta = 0.9969, Train Loss = 0.0149\n",
      "  Val Acc = 0.9389, Val Prec = 0.9398, Val Rec = 0.9389, Val F-Beta = 0.9391, Val Loss = 0.3239\n"
     ]
    },
    {
     "name": "stderr",
     "output_type": "stream",
     "text": [
      "Epoch 20 - Training: 100%|██████████| 103/103 [00:32<00:00,  3.21it/s]\n",
      "Epoch 20 - Validation: 100%|██████████| 26/26 [00:02<00:00,  9.86it/s]\n"
     ]
    },
    {
     "name": "stdout",
     "output_type": "stream",
     "text": [
      "Iteration 1 - Epoch 20:\n",
      "  Train Acc = 0.9976, Train Prec = 0.9976, Train Rec = 0.9976, Train F-Beta = 0.9976, Train Loss = 0.0129\n",
      "  Val Acc = 0.9463, Val Prec = 0.9469, Val Rec = 0.9463, Val F-Beta = 0.9462, Val Loss = 0.2945\n"
     ]
    },
    {
     "name": "stderr",
     "output_type": "stream",
     "text": [
      "Epoch 21 - Training: 100%|██████████| 103/103 [00:30<00:00,  3.34it/s]\n",
      "Epoch 21 - Validation: 100%|██████████| 26/26 [00:02<00:00, 10.18it/s]\n"
     ]
    },
    {
     "name": "stdout",
     "output_type": "stream",
     "text": [
      "Iteration 1 - Epoch 21:\n",
      "  Train Acc = 0.9942, Train Prec = 0.9942, Train Rec = 0.9942, Train F-Beta = 0.9942, Train Loss = 0.0218\n",
      "  Val Acc = 0.9389, Val Prec = 0.9416, Val Rec = 0.9389, Val F-Beta = 0.9399, Val Loss = 0.3411\n"
     ]
    },
    {
     "name": "stderr",
     "output_type": "stream",
     "text": [
      "Epoch 22 - Training: 100%|██████████| 103/103 [00:30<00:00,  3.34it/s]\n",
      "Epoch 22 - Validation: 100%|██████████| 26/26 [00:02<00:00, 10.17it/s]\n"
     ]
    },
    {
     "name": "stdout",
     "output_type": "stream",
     "text": [
      "Iteration 1 - Epoch 22:\n",
      "  Train Acc = 0.9957, Train Prec = 0.9957, Train Rec = 0.9957, Train F-Beta = 0.9957, Train Loss = 0.0166\n",
      "  Val Acc = 0.9377, Val Prec = 0.9424, Val Rec = 0.9377, Val F-Beta = 0.9395, Val Loss = 0.3440\n"
     ]
    },
    {
     "name": "stderr",
     "output_type": "stream",
     "text": [
      "Epoch 23 - Training: 100%|██████████| 103/103 [00:30<00:00,  3.34it/s]\n",
      "Epoch 23 - Validation: 100%|██████████| 26/26 [00:02<00:00, 10.17it/s]\n"
     ]
    },
    {
     "name": "stdout",
     "output_type": "stream",
     "text": [
      "Iteration 1 - Epoch 23:\n",
      "  Train Acc = 0.9988, Train Prec = 0.9988, Train Rec = 0.9988, Train F-Beta = 0.9988, Train Loss = 0.0077\n",
      "  Val Acc = 0.9499, Val Prec = 0.9512, Val Rec = 0.9499, Val F-Beta = 0.9505, Val Loss = 0.2900\n"
     ]
    },
    {
     "name": "stderr",
     "output_type": "stream",
     "text": [
      "Epoch 24 - Training: 100%|██████████| 103/103 [00:30<00:00,  3.34it/s]\n",
      "Epoch 24 - Validation: 100%|██████████| 26/26 [00:02<00:00, 10.17it/s]\n"
     ]
    },
    {
     "name": "stdout",
     "output_type": "stream",
     "text": [
      "Iteration 1 - Epoch 24:\n",
      "  Train Acc = 0.9988, Train Prec = 0.9988, Train Rec = 0.9988, Train F-Beta = 0.9988, Train Loss = 0.0052\n",
      "  Val Acc = 0.9475, Val Prec = 0.9483, Val Rec = 0.9475, Val F-Beta = 0.9479, Val Loss = 0.2888\n"
     ]
    },
    {
     "name": "stderr",
     "output_type": "stream",
     "text": [
      "Epoch 25 - Training: 100%|██████████| 103/103 [00:30<00:00,  3.34it/s]\n",
      "Epoch 25 - Validation: 100%|██████████| 26/26 [00:02<00:00, 10.19it/s]\n"
     ]
    },
    {
     "name": "stdout",
     "output_type": "stream",
     "text": [
      "Iteration 1 - Epoch 25:\n",
      "  Train Acc = 1.0000, Train Prec = 1.0000, Train Rec = 1.0000, Train F-Beta = 1.0000, Train Loss = 0.0027\n",
      "  Val Acc = 0.9463, Val Prec = 0.9478, Val Rec = 0.9463, Val F-Beta = 0.9469, Val Loss = 0.3160\n"
     ]
    },
    {
     "name": "stderr",
     "output_type": "stream",
     "text": [
      "Epoch 26 - Training: 100%|██████████| 103/103 [00:30<00:00,  3.34it/s]\n",
      "Epoch 26 - Validation: 100%|██████████| 26/26 [00:02<00:00, 10.16it/s]\n"
     ]
    },
    {
     "name": "stdout",
     "output_type": "stream",
     "text": [
      "Iteration 1 - Epoch 26:\n",
      "  Train Acc = 0.9991, Train Prec = 0.9991, Train Rec = 0.9991, Train F-Beta = 0.9991, Train Loss = 0.0053\n",
      "  Val Acc = 0.9377, Val Prec = 0.9419, Val Rec = 0.9377, Val F-Beta = 0.9398, Val Loss = 0.3413\n"
     ]
    },
    {
     "name": "stderr",
     "output_type": "stream",
     "text": [
      "Epoch 27 - Training: 100%|██████████| 103/103 [00:30<00:00,  3.34it/s]\n",
      "Epoch 27 - Validation: 100%|██████████| 26/26 [00:02<00:00, 10.17it/s]\n"
     ]
    },
    {
     "name": "stdout",
     "output_type": "stream",
     "text": [
      "Iteration 1 - Epoch 27:\n",
      "  Train Acc = 0.9960, Train Prec = 0.9961, Train Rec = 0.9960, Train F-Beta = 0.9960, Train Loss = 0.0211\n",
      "  Val Acc = 0.9475, Val Prec = 0.9485, Val Rec = 0.9475, Val F-Beta = 0.9479, Val Loss = 0.3154\n"
     ]
    },
    {
     "name": "stderr",
     "output_type": "stream",
     "text": [
      "Epoch 28 - Training: 100%|██████████| 103/103 [00:30<00:00,  3.34it/s]\n",
      "Epoch 28 - Validation: 100%|██████████| 26/26 [00:02<00:00, 10.18it/s]\n"
     ]
    },
    {
     "name": "stdout",
     "output_type": "stream",
     "text": [
      "Iteration 1 - Epoch 28:\n",
      "  Train Acc = 0.9979, Train Prec = 0.9979, Train Rec = 0.9979, Train F-Beta = 0.9979, Train Loss = 0.0086\n",
      "  Val Acc = 0.9438, Val Prec = 0.9457, Val Rec = 0.9438, Val F-Beta = 0.9443, Val Loss = 0.3441\n"
     ]
    },
    {
     "name": "stderr",
     "output_type": "stream",
     "text": [
      "Epoch 29 - Training: 100%|██████████| 103/103 [00:30<00:00,  3.34it/s]\n",
      "Epoch 29 - Validation: 100%|██████████| 26/26 [00:02<00:00, 10.19it/s]\n"
     ]
    },
    {
     "name": "stdout",
     "output_type": "stream",
     "text": [
      "Iteration 1 - Epoch 29:\n",
      "  Train Acc = 0.9985, Train Prec = 0.9985, Train Rec = 0.9985, Train F-Beta = 0.9985, Train Loss = 0.0100\n",
      "  Val Acc = 0.9499, Val Prec = 0.9512, Val Rec = 0.9499, Val F-Beta = 0.9504, Val Loss = 0.2946\n"
     ]
    },
    {
     "name": "stderr",
     "output_type": "stream",
     "text": [
      "Epoch 30 - Training: 100%|██████████| 103/103 [00:30<00:00,  3.34it/s]\n",
      "Epoch 30 - Validation: 100%|██████████| 26/26 [00:02<00:00, 10.18it/s]\n"
     ]
    },
    {
     "name": "stdout",
     "output_type": "stream",
     "text": [
      "Iteration 1 - Epoch 30:\n",
      "  Train Acc = 0.9979, Train Prec = 0.9979, Train Rec = 0.9979, Train F-Beta = 0.9979, Train Loss = 0.0121\n",
      "  Val Acc = 0.9402, Val Prec = 0.9435, Val Rec = 0.9402, Val F-Beta = 0.9419, Val Loss = 0.3383\n"
     ]
    },
    {
     "name": "stderr",
     "output_type": "stream",
     "text": [
      "Epoch 31 - Training: 100%|██████████| 103/103 [00:30<00:00,  3.34it/s]\n",
      "Epoch 31 - Validation: 100%|██████████| 26/26 [00:02<00:00, 10.17it/s]\n"
     ]
    },
    {
     "name": "stdout",
     "output_type": "stream",
     "text": [
      "Iteration 1 - Epoch 31:\n",
      "  Train Acc = 0.9991, Train Prec = 0.9991, Train Rec = 0.9991, Train F-Beta = 0.9991, Train Loss = 0.0055\n",
      "  Val Acc = 0.9499, Val Prec = 0.9514, Val Rec = 0.9499, Val F-Beta = 0.9505, Val Loss = 0.3102\n"
     ]
    },
    {
     "name": "stderr",
     "output_type": "stream",
     "text": [
      "Epoch 32 - Training: 100%|██████████| 103/103 [00:30<00:00,  3.34it/s]\n",
      "Epoch 32 - Validation: 100%|██████████| 26/26 [00:02<00:00, 10.18it/s]\n"
     ]
    },
    {
     "name": "stdout",
     "output_type": "stream",
     "text": [
      "Iteration 1 - Epoch 32:\n",
      "  Train Acc = 0.9985, Train Prec = 0.9985, Train Rec = 0.9985, Train F-Beta = 0.9985, Train Loss = 0.0079\n",
      "  Val Acc = 0.9463, Val Prec = 0.9481, Val Rec = 0.9463, Val F-Beta = 0.9471, Val Loss = 0.3326\n"
     ]
    },
    {
     "name": "stderr",
     "output_type": "stream",
     "text": [
      "Epoch 33 - Training: 100%|██████████| 103/103 [00:30<00:00,  3.34it/s]\n",
      "Epoch 33 - Validation: 100%|██████████| 26/26 [00:02<00:00, 10.18it/s]\n"
     ]
    },
    {
     "name": "stdout",
     "output_type": "stream",
     "text": [
      "Iteration 1 - Epoch 33:\n",
      "  Train Acc = 0.9969, Train Prec = 0.9970, Train Rec = 0.9969, Train F-Beta = 0.9969, Train Loss = 0.0128\n",
      "  Val Acc = 0.9536, Val Prec = 0.9554, Val Rec = 0.9536, Val F-Beta = 0.9545, Val Loss = 0.3008\n"
     ]
    },
    {
     "name": "stderr",
     "output_type": "stream",
     "text": [
      "Epoch 34 - Training: 100%|██████████| 103/103 [00:30<00:00,  3.34it/s]\n",
      "Epoch 34 - Validation: 100%|██████████| 26/26 [00:02<00:00, 10.18it/s]\n"
     ]
    },
    {
     "name": "stdout",
     "output_type": "stream",
     "text": [
      "Iteration 1 - Epoch 34:\n",
      "  Train Acc = 0.9969, Train Prec = 0.9969, Train Rec = 0.9969, Train F-Beta = 0.9969, Train Loss = 0.0155\n",
      "  Val Acc = 0.9463, Val Prec = 0.9481, Val Rec = 0.9463, Val F-Beta = 0.9469, Val Loss = 0.3806\n"
     ]
    },
    {
     "name": "stderr",
     "output_type": "stream",
     "text": [
      "Epoch 35 - Training: 100%|██████████| 103/103 [00:30<00:00,  3.34it/s]\n",
      "Epoch 35 - Validation: 100%|██████████| 26/26 [00:02<00:00, 10.18it/s]\n"
     ]
    },
    {
     "name": "stdout",
     "output_type": "stream",
     "text": [
      "Iteration 1 - Epoch 35:\n",
      "  Train Acc = 0.9997, Train Prec = 0.9997, Train Rec = 0.9997, Train F-Beta = 0.9997, Train Loss = 0.0023\n",
      "  Val Acc = 0.9451, Val Prec = 0.9477, Val Rec = 0.9451, Val F-Beta = 0.9461, Val Loss = 0.3398\n"
     ]
    },
    {
     "name": "stderr",
     "output_type": "stream",
     "text": [
      "Epoch 36 - Training: 100%|██████████| 103/103 [00:30<00:00,  3.34it/s]\n",
      "Epoch 36 - Validation: 100%|██████████| 26/26 [00:02<00:00, 10.17it/s]\n"
     ]
    },
    {
     "name": "stdout",
     "output_type": "stream",
     "text": [
      "Iteration 1 - Epoch 36:\n",
      "  Train Acc = 0.9988, Train Prec = 0.9988, Train Rec = 0.9988, Train F-Beta = 0.9988, Train Loss = 0.0077\n",
      "  Val Acc = 0.9389, Val Prec = 0.9409, Val Rec = 0.9389, Val F-Beta = 0.9391, Val Loss = 0.3821\n"
     ]
    },
    {
     "name": "stderr",
     "output_type": "stream",
     "text": [
      "Epoch 37 - Training: 100%|██████████| 103/103 [00:30<00:00,  3.34it/s]\n",
      "Epoch 37 - Validation: 100%|██████████| 26/26 [00:02<00:00, 10.17it/s]\n"
     ]
    },
    {
     "name": "stdout",
     "output_type": "stream",
     "text": [
      "Iteration 1 - Epoch 37:\n",
      "  Train Acc = 0.9979, Train Prec = 0.9979, Train Rec = 0.9979, Train F-Beta = 0.9979, Train Loss = 0.0075\n",
      "  Val Acc = 0.9475, Val Prec = 0.9509, Val Rec = 0.9475, Val F-Beta = 0.9490, Val Loss = 0.3694\n"
     ]
    },
    {
     "name": "stderr",
     "output_type": "stream",
     "text": [
      "Epoch 38 - Training: 100%|██████████| 103/103 [00:30<00:00,  3.34it/s]\n",
      "Epoch 38 - Validation: 100%|██████████| 26/26 [00:02<00:00, 10.18it/s]\n"
     ]
    },
    {
     "name": "stdout",
     "output_type": "stream",
     "text": [
      "Iteration 1 - Epoch 38:\n",
      "  Train Acc = 0.9976, Train Prec = 0.9976, Train Rec = 0.9976, Train F-Beta = 0.9976, Train Loss = 0.0122\n",
      "  Val Acc = 0.9487, Val Prec = 0.9505, Val Rec = 0.9487, Val F-Beta = 0.9494, Val Loss = 0.3502\n"
     ]
    },
    {
     "name": "stderr",
     "output_type": "stream",
     "text": [
      "Epoch 39 - Training: 100%|██████████| 103/103 [00:30<00:00,  3.34it/s]\n",
      "Epoch 39 - Validation: 100%|██████████| 26/26 [00:02<00:00, 10.18it/s]\n"
     ]
    },
    {
     "name": "stdout",
     "output_type": "stream",
     "text": [
      "Iteration 1 - Epoch 39:\n",
      "  Train Acc = 0.9963, Train Prec = 0.9963, Train Rec = 0.9963, Train F-Beta = 0.9963, Train Loss = 0.0184\n",
      "  Val Acc = 0.9451, Val Prec = 0.9478, Val Rec = 0.9451, Val F-Beta = 0.9460, Val Loss = 0.3388\n"
     ]
    },
    {
     "name": "stderr",
     "output_type": "stream",
     "text": [
      "Epoch 40 - Training: 100%|██████████| 103/103 [00:30<00:00,  3.34it/s]\n",
      "Epoch 40 - Validation: 100%|██████████| 26/26 [00:02<00:00, 10.18it/s]\n"
     ]
    },
    {
     "name": "stdout",
     "output_type": "stream",
     "text": [
      "Iteration 1 - Epoch 40:\n",
      "  Train Acc = 0.9948, Train Prec = 0.9948, Train Rec = 0.9948, Train F-Beta = 0.9948, Train Loss = 0.0179\n",
      "  Val Acc = 0.9353, Val Prec = 0.9399, Val Rec = 0.9353, Val F-Beta = 0.9377, Val Loss = 0.3699\n",
      "Iteration 2/20\n"
     ]
    },
    {
     "name": "stderr",
     "output_type": "stream",
     "text": [
      "Some weights of ElectraForSequenceClassification were not initialized from the model checkpoint at beomi/KcELECTRA-base-v2022 and are newly initialized: ['classifier.dense.bias', 'classifier.dense.weight', 'classifier.out_proj.bias', 'classifier.out_proj.weight']\n",
      "You should probably TRAIN this model on a down-stream task to be able to use it for predictions and inference.\n",
      "Epoch 1 - Training: 100%|██████████| 103/103 [00:30<00:00,  3.34it/s]\n",
      "Epoch 1 - Validation: 100%|██████████| 26/26 [00:02<00:00, 10.17it/s]\n"
     ]
    },
    {
     "name": "stdout",
     "output_type": "stream",
     "text": [
      "Iteration 2 - Epoch 1:\n",
      "  Train Acc = 0.2882, Train Prec = 0.1605, Train Rec = 0.2882, Train F-Beta = 0.1562, Train Loss = 2.2871\n",
      "  Val Acc = 0.4701, Val Prec = 0.3759, Val Rec = 0.4701, Val F-Beta = 0.3381, Val Loss = 1.7693\n"
     ]
    },
    {
     "name": "stderr",
     "output_type": "stream",
     "text": [
      "Epoch 2 - Training: 100%|██████████| 103/103 [00:30<00:00,  3.33it/s]\n",
      "Epoch 2 - Validation: 100%|██████████| 26/26 [00:02<00:00, 10.18it/s]\n"
     ]
    },
    {
     "name": "stdout",
     "output_type": "stream",
     "text": [
      "Iteration 2 - Epoch 2:\n",
      "  Train Acc = 0.5936, Train Prec = 0.6500, Train Rec = 0.5936, Train F-Beta = 0.5040, Train Loss = 1.3879\n",
      "  Val Acc = 0.7045, Val Prec = 0.6870, Val Rec = 0.7045, Val F-Beta = 0.6262, Val Loss = 1.0216\n"
     ]
    },
    {
     "name": "stderr",
     "output_type": "stream",
     "text": [
      "Epoch 3 - Training: 100%|██████████| 103/103 [00:30<00:00,  3.34it/s]\n",
      "Epoch 3 - Validation: 100%|██████████| 26/26 [00:02<00:00, 10.18it/s]\n"
     ]
    },
    {
     "name": "stdout",
     "output_type": "stream",
     "text": [
      "Iteration 2 - Epoch 3:\n",
      "  Train Acc = 0.8198, Train Prec = 0.8599, Train Rec = 0.8198, Train F-Beta = 0.8131, Train Loss = 0.7587\n",
      "  Val Acc = 0.8987, Val Prec = 0.9033, Val Rec = 0.8987, Val F-Beta = 0.8997, Val Loss = 0.5446\n"
     ]
    },
    {
     "name": "stderr",
     "output_type": "stream",
     "text": [
      "Epoch 4 - Training: 100%|██████████| 103/103 [00:30<00:00,  3.34it/s]\n",
      "Epoch 4 - Validation: 100%|██████████| 26/26 [00:02<00:00, 10.18it/s]\n"
     ]
    },
    {
     "name": "stdout",
     "output_type": "stream",
     "text": [
      "Iteration 2 - Epoch 4:\n",
      "  Train Acc = 0.9533, Train Prec = 0.9538, Train Rec = 0.9533, Train F-Beta = 0.9533, Train Loss = 0.3501\n",
      "  Val Acc = 0.9304, Val Prec = 0.9317, Val Rec = 0.9304, Val F-Beta = 0.9311, Val Loss = 0.3128\n"
     ]
    },
    {
     "name": "stderr",
     "output_type": "stream",
     "text": [
      "Epoch 5 - Training: 100%|██████████| 103/103 [00:30<00:00,  3.34it/s]\n",
      "Epoch 5 - Validation: 100%|██████████| 26/26 [00:02<00:00, 10.17it/s]\n"
     ]
    },
    {
     "name": "stdout",
     "output_type": "stream",
     "text": [
      "Iteration 2 - Epoch 5:\n",
      "  Train Acc = 0.9829, Train Prec = 0.9830, Train Rec = 0.9829, Train F-Beta = 0.9829, Train Loss = 0.1594\n",
      "  Val Acc = 0.9402, Val Prec = 0.9422, Val Rec = 0.9402, Val F-Beta = 0.9412, Val Loss = 0.2661\n"
     ]
    },
    {
     "name": "stderr",
     "output_type": "stream",
     "text": [
      "Epoch 6 - Training: 100%|██████████| 103/103 [00:30<00:00,  3.34it/s]\n",
      "Epoch 6 - Validation: 100%|██████████| 26/26 [00:02<00:00, 10.18it/s]\n"
     ]
    },
    {
     "name": "stdout",
     "output_type": "stream",
     "text": [
      "Iteration 2 - Epoch 6:\n",
      "  Train Acc = 0.9866, Train Prec = 0.9866, Train Rec = 0.9866, Train F-Beta = 0.9866, Train Loss = 0.1032\n",
      "  Val Acc = 0.9426, Val Prec = 0.9446, Val Rec = 0.9426, Val F-Beta = 0.9435, Val Loss = 0.2584\n"
     ]
    },
    {
     "name": "stderr",
     "output_type": "stream",
     "text": [
      "Epoch 7 - Training: 100%|██████████| 103/103 [00:30<00:00,  3.34it/s]\n",
      "Epoch 7 - Validation: 100%|██████████| 26/26 [00:02<00:00, 10.18it/s]\n"
     ]
    },
    {
     "name": "stdout",
     "output_type": "stream",
     "text": [
      "Iteration 2 - Epoch 7:\n",
      "  Train Acc = 0.9924, Train Prec = 0.9924, Train Rec = 0.9924, Train F-Beta = 0.9924, Train Loss = 0.0627\n",
      "  Val Acc = 0.9426, Val Prec = 0.9445, Val Rec = 0.9426, Val F-Beta = 0.9435, Val Loss = 0.2555\n"
     ]
    },
    {
     "name": "stderr",
     "output_type": "stream",
     "text": [
      "Epoch 8 - Training: 100%|██████████| 103/103 [00:30<00:00,  3.34it/s]\n",
      "Epoch 8 - Validation: 100%|██████████| 26/26 [00:02<00:00, 10.18it/s]\n"
     ]
    },
    {
     "name": "stdout",
     "output_type": "stream",
     "text": [
      "Iteration 2 - Epoch 8:\n",
      "  Train Acc = 0.9951, Train Prec = 0.9951, Train Rec = 0.9951, Train F-Beta = 0.9951, Train Loss = 0.0434\n",
      "  Val Acc = 0.9414, Val Prec = 0.9439, Val Rec = 0.9414, Val F-Beta = 0.9426, Val Loss = 0.2562\n"
     ]
    },
    {
     "name": "stderr",
     "output_type": "stream",
     "text": [
      "Epoch 9 - Training: 100%|██████████| 103/103 [00:30<00:00,  3.34it/s]\n",
      "Epoch 9 - Validation: 100%|██████████| 26/26 [00:02<00:00, 10.18it/s]\n"
     ]
    },
    {
     "name": "stdout",
     "output_type": "stream",
     "text": [
      "Iteration 2 - Epoch 9:\n",
      "  Train Acc = 0.9896, Train Prec = 0.9896, Train Rec = 0.9896, Train F-Beta = 0.9896, Train Loss = 0.0534\n",
      "  Val Acc = 0.9292, Val Prec = 0.9332, Val Rec = 0.9292, Val F-Beta = 0.9312, Val Loss = 0.3003\n"
     ]
    },
    {
     "name": "stderr",
     "output_type": "stream",
     "text": [
      "Epoch 10 - Training: 100%|██████████| 103/103 [00:30<00:00,  3.34it/s]\n",
      "Epoch 10 - Validation: 100%|██████████| 26/26 [00:02<00:00, 10.17it/s]\n"
     ]
    },
    {
     "name": "stdout",
     "output_type": "stream",
     "text": [
      "Iteration 2 - Epoch 10:\n",
      "  Train Acc = 0.9911, Train Prec = 0.9912, Train Rec = 0.9911, Train F-Beta = 0.9912, Train Loss = 0.0434\n",
      "  Val Acc = 0.9414, Val Prec = 0.9433, Val Rec = 0.9414, Val F-Beta = 0.9424, Val Loss = 0.2781\n"
     ]
    },
    {
     "name": "stderr",
     "output_type": "stream",
     "text": [
      "Epoch 11 - Training: 100%|██████████| 103/103 [00:30<00:00,  3.34it/s]\n",
      "Epoch 11 - Validation: 100%|██████████| 26/26 [00:02<00:00, 10.18it/s]\n"
     ]
    },
    {
     "name": "stdout",
     "output_type": "stream",
     "text": [
      "Iteration 2 - Epoch 11:\n",
      "  Train Acc = 0.9933, Train Prec = 0.9933, Train Rec = 0.9933, Train F-Beta = 0.9933, Train Loss = 0.0334\n",
      "  Val Acc = 0.9463, Val Prec = 0.9492, Val Rec = 0.9463, Val F-Beta = 0.9475, Val Loss = 0.3106\n"
     ]
    },
    {
     "name": "stderr",
     "output_type": "stream",
     "text": [
      "Epoch 12 - Training: 100%|██████████| 103/103 [00:30<00:00,  3.34it/s]\n",
      "Epoch 12 - Validation: 100%|██████████| 26/26 [00:02<00:00, 10.19it/s]\n"
     ]
    },
    {
     "name": "stdout",
     "output_type": "stream",
     "text": [
      "Iteration 2 - Epoch 12:\n",
      "  Train Acc = 0.9924, Train Prec = 0.9924, Train Rec = 0.9924, Train F-Beta = 0.9924, Train Loss = 0.0362\n",
      "  Val Acc = 0.9304, Val Prec = 0.9367, Val Rec = 0.9304, Val F-Beta = 0.9335, Val Loss = 0.3681\n"
     ]
    },
    {
     "name": "stderr",
     "output_type": "stream",
     "text": [
      "Epoch 13 - Training: 100%|██████████| 103/103 [00:30<00:00,  3.34it/s]\n",
      "Epoch 13 - Validation: 100%|██████████| 26/26 [00:02<00:00, 10.16it/s]\n"
     ]
    },
    {
     "name": "stdout",
     "output_type": "stream",
     "text": [
      "Iteration 2 - Epoch 13:\n",
      "  Train Acc = 0.9933, Train Prec = 0.9933, Train Rec = 0.9933, Train F-Beta = 0.9933, Train Loss = 0.0334\n",
      "  Val Acc = 0.9536, Val Prec = 0.9558, Val Rec = 0.9536, Val F-Beta = 0.9546, Val Loss = 0.2519\n",
      "  Better model saved with 0.9546 F-beta score.\n"
     ]
    },
    {
     "name": "stderr",
     "output_type": "stream",
     "text": [
      "Epoch 14 - Training: 100%|██████████| 103/103 [00:30<00:00,  3.34it/s]\n",
      "Epoch 14 - Validation: 100%|██████████| 26/26 [00:02<00:00, 10.18it/s]\n"
     ]
    },
    {
     "name": "stdout",
     "output_type": "stream",
     "text": [
      "Iteration 2 - Epoch 14:\n",
      "  Train Acc = 0.9969, Train Prec = 0.9969, Train Rec = 0.9969, Train F-Beta = 0.9969, Train Loss = 0.0208\n",
      "  Val Acc = 0.9548, Val Prec = 0.9572, Val Rec = 0.9548, Val F-Beta = 0.9561, Val Loss = 0.2313\n",
      "  Better model saved with 0.9561 F-beta score.\n"
     ]
    },
    {
     "name": "stderr",
     "output_type": "stream",
     "text": [
      "Epoch 15 - Training: 100%|██████████| 103/103 [00:30<00:00,  3.34it/s]\n",
      "Epoch 15 - Validation: 100%|██████████| 26/26 [00:02<00:00, 10.17it/s]\n"
     ]
    },
    {
     "name": "stdout",
     "output_type": "stream",
     "text": [
      "Iteration 2 - Epoch 15:\n",
      "  Train Acc = 0.9973, Train Prec = 0.9973, Train Rec = 0.9973, Train F-Beta = 0.9973, Train Loss = 0.0142\n",
      "  Val Acc = 0.9487, Val Prec = 0.9525, Val Rec = 0.9487, Val F-Beta = 0.9507, Val Loss = 0.2966\n"
     ]
    },
    {
     "name": "stderr",
     "output_type": "stream",
     "text": [
      "Epoch 16 - Training: 100%|██████████| 103/103 [00:30<00:00,  3.34it/s]\n",
      "Epoch 16 - Validation: 100%|██████████| 26/26 [00:02<00:00, 10.18it/s]\n"
     ]
    },
    {
     "name": "stdout",
     "output_type": "stream",
     "text": [
      "Iteration 2 - Epoch 16:\n",
      "  Train Acc = 0.9948, Train Prec = 0.9948, Train Rec = 0.9948, Train F-Beta = 0.9948, Train Loss = 0.0246\n",
      "  Val Acc = 0.9487, Val Prec = 0.9494, Val Rec = 0.9487, Val F-Beta = 0.9489, Val Loss = 0.2791\n"
     ]
    },
    {
     "name": "stderr",
     "output_type": "stream",
     "text": [
      "Epoch 17 - Training: 100%|██████████| 103/103 [00:30<00:00,  3.34it/s]\n",
      "Epoch 17 - Validation: 100%|██████████| 26/26 [00:02<00:00, 10.18it/s]\n"
     ]
    },
    {
     "name": "stdout",
     "output_type": "stream",
     "text": [
      "Iteration 2 - Epoch 17:\n",
      "  Train Acc = 0.9963, Train Prec = 0.9963, Train Rec = 0.9963, Train F-Beta = 0.9963, Train Loss = 0.0201\n",
      "  Val Acc = 0.9536, Val Prec = 0.9543, Val Rec = 0.9536, Val F-Beta = 0.9537, Val Loss = 0.2616\n"
     ]
    },
    {
     "name": "stderr",
     "output_type": "stream",
     "text": [
      "Epoch 18 - Training: 100%|██████████| 103/103 [00:30<00:00,  3.34it/s]\n",
      "Epoch 18 - Validation: 100%|██████████| 26/26 [00:02<00:00, 10.17it/s]\n"
     ]
    },
    {
     "name": "stdout",
     "output_type": "stream",
     "text": [
      "Iteration 2 - Epoch 18:\n",
      "  Train Acc = 0.9997, Train Prec = 0.9997, Train Rec = 0.9997, Train F-Beta = 0.9997, Train Loss = 0.0051\n",
      "  Val Acc = 0.9524, Val Prec = 0.9533, Val Rec = 0.9524, Val F-Beta = 0.9528, Val Loss = 0.2736\n"
     ]
    },
    {
     "name": "stderr",
     "output_type": "stream",
     "text": [
      "Epoch 19 - Training: 100%|██████████| 103/103 [00:30<00:00,  3.34it/s]\n",
      "Epoch 19 - Validation: 100%|██████████| 26/26 [00:02<00:00, 10.17it/s]\n"
     ]
    },
    {
     "name": "stdout",
     "output_type": "stream",
     "text": [
      "Iteration 2 - Epoch 19:\n",
      "  Train Acc = 0.9979, Train Prec = 0.9979, Train Rec = 0.9979, Train F-Beta = 0.9979, Train Loss = 0.0088\n",
      "  Val Acc = 0.9438, Val Prec = 0.9462, Val Rec = 0.9438, Val F-Beta = 0.9448, Val Loss = 0.3487\n"
     ]
    },
    {
     "name": "stderr",
     "output_type": "stream",
     "text": [
      "Epoch 20 - Training: 100%|██████████| 103/103 [00:30<00:00,  3.34it/s]\n",
      "Epoch 20 - Validation: 100%|██████████| 26/26 [00:02<00:00, 10.18it/s]\n"
     ]
    },
    {
     "name": "stdout",
     "output_type": "stream",
     "text": [
      "Iteration 2 - Epoch 20:\n",
      "  Train Acc = 0.9963, Train Prec = 0.9963, Train Rec = 0.9963, Train F-Beta = 0.9963, Train Loss = 0.0179\n",
      "  Val Acc = 0.9487, Val Prec = 0.9497, Val Rec = 0.9487, Val F-Beta = 0.9491, Val Loss = 0.3011\n"
     ]
    },
    {
     "name": "stderr",
     "output_type": "stream",
     "text": [
      "Epoch 21 - Training: 100%|██████████| 103/103 [00:30<00:00,  3.34it/s]\n",
      "Epoch 21 - Validation: 100%|██████████| 26/26 [00:02<00:00, 10.19it/s]\n"
     ]
    },
    {
     "name": "stdout",
     "output_type": "stream",
     "text": [
      "Iteration 2 - Epoch 21:\n",
      "  Train Acc = 0.9976, Train Prec = 0.9976, Train Rec = 0.9976, Train F-Beta = 0.9976, Train Loss = 0.0133\n",
      "  Val Acc = 0.9512, Val Prec = 0.9527, Val Rec = 0.9512, Val F-Beta = 0.9518, Val Loss = 0.3208\n"
     ]
    },
    {
     "name": "stderr",
     "output_type": "stream",
     "text": [
      "Epoch 22 - Training: 100%|██████████| 103/103 [00:30<00:00,  3.34it/s]\n",
      "Epoch 22 - Validation: 100%|██████████| 26/26 [00:02<00:00, 10.19it/s]\n"
     ]
    },
    {
     "name": "stdout",
     "output_type": "stream",
     "text": [
      "Iteration 2 - Epoch 22:\n",
      "  Train Acc = 0.9982, Train Prec = 0.9982, Train Rec = 0.9982, Train F-Beta = 0.9982, Train Loss = 0.0079\n",
      "  Val Acc = 0.9475, Val Prec = 0.9503, Val Rec = 0.9475, Val F-Beta = 0.9486, Val Loss = 0.3241\n"
     ]
    },
    {
     "name": "stderr",
     "output_type": "stream",
     "text": [
      "Epoch 23 - Training: 100%|██████████| 103/103 [00:30<00:00,  3.34it/s]\n",
      "Epoch 23 - Validation: 100%|██████████| 26/26 [00:02<00:00, 10.18it/s]\n"
     ]
    },
    {
     "name": "stdout",
     "output_type": "stream",
     "text": [
      "Iteration 2 - Epoch 23:\n",
      "  Train Acc = 0.9985, Train Prec = 0.9985, Train Rec = 0.9985, Train F-Beta = 0.9985, Train Loss = 0.0076\n",
      "  Val Acc = 0.9536, Val Prec = 0.9550, Val Rec = 0.9536, Val F-Beta = 0.9541, Val Loss = 0.2735\n"
     ]
    },
    {
     "name": "stderr",
     "output_type": "stream",
     "text": [
      "Epoch 24 - Training: 100%|██████████| 103/103 [00:30<00:00,  3.34it/s]\n",
      "Epoch 24 - Validation: 100%|██████████| 26/26 [00:02<00:00, 10.18it/s]\n"
     ]
    },
    {
     "name": "stdout",
     "output_type": "stream",
     "text": [
      "Iteration 2 - Epoch 24:\n",
      "  Train Acc = 1.0000, Train Prec = 1.0000, Train Rec = 1.0000, Train F-Beta = 1.0000, Train Loss = 0.0028\n",
      "  Val Acc = 0.9451, Val Prec = 0.9476, Val Rec = 0.9451, Val F-Beta = 0.9461, Val Loss = 0.3310\n"
     ]
    },
    {
     "name": "stderr",
     "output_type": "stream",
     "text": [
      "Epoch 25 - Training: 100%|██████████| 103/103 [00:30<00:00,  3.34it/s]\n",
      "Epoch 25 - Validation: 100%|██████████| 26/26 [00:02<00:00, 10.17it/s]\n"
     ]
    },
    {
     "name": "stdout",
     "output_type": "stream",
     "text": [
      "Iteration 2 - Epoch 25:\n",
      "  Train Acc = 1.0000, Train Prec = 1.0000, Train Rec = 1.0000, Train F-Beta = 1.0000, Train Loss = 0.0021\n",
      "  Val Acc = 0.9585, Val Prec = 0.9601, Val Rec = 0.9585, Val F-Beta = 0.9592, Val Loss = 0.2627\n",
      "  Better model saved with 0.9592 F-beta score.\n"
     ]
    },
    {
     "name": "stderr",
     "output_type": "stream",
     "text": [
      "Epoch 26 - Training: 100%|██████████| 103/103 [00:30<00:00,  3.34it/s]\n",
      "Epoch 26 - Validation: 100%|██████████| 26/26 [00:02<00:00, 10.17it/s]\n"
     ]
    },
    {
     "name": "stdout",
     "output_type": "stream",
     "text": [
      "Iteration 2 - Epoch 26:\n",
      "  Train Acc = 1.0000, Train Prec = 1.0000, Train Rec = 1.0000, Train F-Beta = 1.0000, Train Loss = 0.0018\n",
      "  Val Acc = 0.9585, Val Prec = 0.9604, Val Rec = 0.9585, Val F-Beta = 0.9594, Val Loss = 0.2617\n",
      "  Better model saved with 0.9594 F-beta score.\n"
     ]
    },
    {
     "name": "stderr",
     "output_type": "stream",
     "text": [
      "Epoch 27 - Training: 100%|██████████| 103/103 [00:30<00:00,  3.34it/s]\n",
      "Epoch 27 - Validation: 100%|██████████| 26/26 [00:02<00:00, 10.15it/s]\n"
     ]
    },
    {
     "name": "stdout",
     "output_type": "stream",
     "text": [
      "Iteration 2 - Epoch 27:\n",
      "  Train Acc = 1.0000, Train Prec = 1.0000, Train Rec = 1.0000, Train F-Beta = 1.0000, Train Loss = 0.0017\n",
      "  Val Acc = 0.9548, Val Prec = 0.9567, Val Rec = 0.9548, Val F-Beta = 0.9557, Val Loss = 0.2920\n"
     ]
    },
    {
     "name": "stderr",
     "output_type": "stream",
     "text": [
      "Epoch 28 - Training: 100%|██████████| 103/103 [00:30<00:00,  3.34it/s]\n",
      "Epoch 28 - Validation: 100%|██████████| 26/26 [00:02<00:00, 10.18it/s]\n"
     ]
    },
    {
     "name": "stdout",
     "output_type": "stream",
     "text": [
      "Iteration 2 - Epoch 28:\n",
      "  Train Acc = 1.0000, Train Prec = 1.0000, Train Rec = 1.0000, Train F-Beta = 1.0000, Train Loss = 0.0014\n",
      "  Val Acc = 0.9560, Val Prec = 0.9580, Val Rec = 0.9560, Val F-Beta = 0.9570, Val Loss = 0.2929\n"
     ]
    },
    {
     "name": "stderr",
     "output_type": "stream",
     "text": [
      "Epoch 29 - Training: 100%|██████████| 103/103 [00:30<00:00,  3.34it/s]\n",
      "Epoch 29 - Validation: 100%|██████████| 26/26 [00:02<00:00, 10.18it/s]\n"
     ]
    },
    {
     "name": "stdout",
     "output_type": "stream",
     "text": [
      "Iteration 2 - Epoch 29:\n",
      "  Train Acc = 1.0000, Train Prec = 1.0000, Train Rec = 1.0000, Train F-Beta = 1.0000, Train Loss = 0.0014\n",
      "  Val Acc = 0.9573, Val Prec = 0.9596, Val Rec = 0.9573, Val F-Beta = 0.9584, Val Loss = 0.2949\n"
     ]
    },
    {
     "name": "stderr",
     "output_type": "stream",
     "text": [
      "Epoch 30 - Training: 100%|██████████| 103/103 [00:30<00:00,  3.34it/s]\n",
      "Epoch 30 - Validation: 100%|██████████| 26/26 [00:02<00:00, 10.17it/s]\n"
     ]
    },
    {
     "name": "stdout",
     "output_type": "stream",
     "text": [
      "Iteration 2 - Epoch 30:\n",
      "  Train Acc = 1.0000, Train Prec = 1.0000, Train Rec = 1.0000, Train F-Beta = 1.0000, Train Loss = 0.0012\n",
      "  Val Acc = 0.9573, Val Prec = 0.9596, Val Rec = 0.9573, Val F-Beta = 0.9584, Val Loss = 0.2979\n"
     ]
    },
    {
     "name": "stderr",
     "output_type": "stream",
     "text": [
      "Epoch 31 - Training: 100%|██████████| 103/103 [00:30<00:00,  3.34it/s]\n",
      "Epoch 31 - Validation: 100%|██████████| 26/26 [00:02<00:00, 10.18it/s]\n"
     ]
    },
    {
     "name": "stdout",
     "output_type": "stream",
     "text": [
      "Iteration 2 - Epoch 31:\n",
      "  Train Acc = 1.0000, Train Prec = 1.0000, Train Rec = 1.0000, Train F-Beta = 1.0000, Train Loss = 0.0011\n",
      "  Val Acc = 0.9573, Val Prec = 0.9596, Val Rec = 0.9573, Val F-Beta = 0.9584, Val Loss = 0.3013\n"
     ]
    },
    {
     "name": "stderr",
     "output_type": "stream",
     "text": [
      "Epoch 32 - Training: 100%|██████████| 103/103 [00:30<00:00,  3.34it/s]\n",
      "Epoch 32 - Validation: 100%|██████████| 26/26 [00:02<00:00, 10.18it/s]\n"
     ]
    },
    {
     "name": "stdout",
     "output_type": "stream",
     "text": [
      "Iteration 2 - Epoch 32:\n",
      "  Train Acc = 1.0000, Train Prec = 1.0000, Train Rec = 1.0000, Train F-Beta = 1.0000, Train Loss = 0.0010\n",
      "  Val Acc = 0.9573, Val Prec = 0.9596, Val Rec = 0.9573, Val F-Beta = 0.9584, Val Loss = 0.3046\n"
     ]
    },
    {
     "name": "stderr",
     "output_type": "stream",
     "text": [
      "Epoch 33 - Training: 100%|██████████| 103/103 [00:30<00:00,  3.34it/s]\n",
      "Epoch 33 - Validation: 100%|██████████| 26/26 [00:02<00:00, 10.18it/s]\n"
     ]
    },
    {
     "name": "stdout",
     "output_type": "stream",
     "text": [
      "Iteration 2 - Epoch 33:\n",
      "  Train Acc = 1.0000, Train Prec = 1.0000, Train Rec = 1.0000, Train F-Beta = 1.0000, Train Loss = 0.0009\n",
      "  Val Acc = 0.9573, Val Prec = 0.9596, Val Rec = 0.9573, Val F-Beta = 0.9584, Val Loss = 0.3057\n"
     ]
    },
    {
     "name": "stderr",
     "output_type": "stream",
     "text": [
      "Epoch 34 - Training: 100%|██████████| 103/103 [00:30<00:00,  3.34it/s]\n",
      "Epoch 34 - Validation: 100%|██████████| 26/26 [00:02<00:00, 10.18it/s]\n"
     ]
    },
    {
     "name": "stdout",
     "output_type": "stream",
     "text": [
      "Iteration 2 - Epoch 34:\n",
      "  Train Acc = 1.0000, Train Prec = 1.0000, Train Rec = 1.0000, Train F-Beta = 1.0000, Train Loss = 0.0009\n",
      "  Val Acc = 0.9573, Val Prec = 0.9596, Val Rec = 0.9573, Val F-Beta = 0.9584, Val Loss = 0.3076\n"
     ]
    },
    {
     "name": "stderr",
     "output_type": "stream",
     "text": [
      "Epoch 35 - Training: 100%|██████████| 103/103 [00:30<00:00,  3.34it/s]\n",
      "Epoch 35 - Validation: 100%|██████████| 26/26 [00:02<00:00, 10.18it/s]\n"
     ]
    },
    {
     "name": "stdout",
     "output_type": "stream",
     "text": [
      "Iteration 2 - Epoch 35:\n",
      "  Train Acc = 1.0000, Train Prec = 1.0000, Train Rec = 1.0000, Train F-Beta = 1.0000, Train Loss = 0.0008\n",
      "  Val Acc = 0.9573, Val Prec = 0.9596, Val Rec = 0.9573, Val F-Beta = 0.9584, Val Loss = 0.3111\n"
     ]
    },
    {
     "name": "stderr",
     "output_type": "stream",
     "text": [
      "Epoch 36 - Training: 100%|██████████| 103/103 [00:30<00:00,  3.34it/s]\n",
      "Epoch 36 - Validation: 100%|██████████| 26/26 [00:02<00:00, 10.18it/s]\n"
     ]
    },
    {
     "name": "stdout",
     "output_type": "stream",
     "text": [
      "Iteration 2 - Epoch 36:\n",
      "  Train Acc = 1.0000, Train Prec = 1.0000, Train Rec = 1.0000, Train F-Beta = 1.0000, Train Loss = 0.0010\n",
      "  Val Acc = 0.9499, Val Prec = 0.9545, Val Rec = 0.9499, Val F-Beta = 0.9528, Val Loss = 0.3370\n"
     ]
    },
    {
     "name": "stderr",
     "output_type": "stream",
     "text": [
      "Epoch 37 - Training: 100%|██████████| 103/103 [00:30<00:00,  3.34it/s]\n",
      "Epoch 37 - Validation: 100%|██████████| 26/26 [00:02<00:00, 10.18it/s]\n"
     ]
    },
    {
     "name": "stdout",
     "output_type": "stream",
     "text": [
      "Iteration 2 - Epoch 37:\n",
      "  Train Acc = 0.9863, Train Prec = 0.9863, Train Rec = 0.9863, Train F-Beta = 0.9863, Train Loss = 0.0551\n",
      "  Val Acc = 0.9475, Val Prec = 0.9502, Val Rec = 0.9475, Val F-Beta = 0.9487, Val Loss = 0.3540\n"
     ]
    },
    {
     "name": "stderr",
     "output_type": "stream",
     "text": [
      "Epoch 38 - Training: 100%|██████████| 103/103 [00:30<00:00,  3.34it/s]\n",
      "Epoch 38 - Validation: 100%|██████████| 26/26 [00:02<00:00, 10.18it/s]\n"
     ]
    },
    {
     "name": "stdout",
     "output_type": "stream",
     "text": [
      "Iteration 2 - Epoch 38:\n",
      "  Train Acc = 0.9890, Train Prec = 0.9890, Train Rec = 0.9890, Train F-Beta = 0.9890, Train Loss = 0.0494\n",
      "  Val Acc = 0.9512, Val Prec = 0.9549, Val Rec = 0.9512, Val F-Beta = 0.9532, Val Loss = 0.3046\n"
     ]
    },
    {
     "name": "stderr",
     "output_type": "stream",
     "text": [
      "Epoch 39 - Training: 100%|██████████| 103/103 [00:30<00:00,  3.34it/s]\n",
      "Epoch 39 - Validation: 100%|██████████| 26/26 [00:02<00:00, 10.18it/s]\n"
     ]
    },
    {
     "name": "stdout",
     "output_type": "stream",
     "text": [
      "Iteration 2 - Epoch 39:\n",
      "  Train Acc = 0.9979, Train Prec = 0.9979, Train Rec = 0.9979, Train F-Beta = 0.9979, Train Loss = 0.0109\n",
      "  Val Acc = 0.9536, Val Prec = 0.9546, Val Rec = 0.9536, Val F-Beta = 0.9539, Val Loss = 0.2894\n"
     ]
    },
    {
     "name": "stderr",
     "output_type": "stream",
     "text": [
      "Epoch 40 - Training: 100%|██████████| 103/103 [00:30<00:00,  3.34it/s]\n",
      "Epoch 40 - Validation: 100%|██████████| 26/26 [00:02<00:00, 10.19it/s]\n"
     ]
    },
    {
     "name": "stdout",
     "output_type": "stream",
     "text": [
      "Iteration 2 - Epoch 40:\n",
      "  Train Acc = 0.9969, Train Prec = 0.9969, Train Rec = 0.9969, Train F-Beta = 0.9969, Train Loss = 0.0195\n",
      "  Val Acc = 0.9426, Val Prec = 0.9492, Val Rec = 0.9426, Val F-Beta = 0.9465, Val Loss = 0.3869\n",
      "Iteration 3/20\n"
     ]
    },
    {
     "name": "stderr",
     "output_type": "stream",
     "text": [
      "Some weights of ElectraForSequenceClassification were not initialized from the model checkpoint at beomi/KcELECTRA-base-v2022 and are newly initialized: ['classifier.dense.bias', 'classifier.dense.weight', 'classifier.out_proj.bias', 'classifier.out_proj.weight']\n",
      "You should probably TRAIN this model on a down-stream task to be able to use it for predictions and inference.\n",
      "Epoch 1 - Training: 100%|██████████| 103/103 [00:30<00:00,  3.34it/s]\n",
      "Epoch 1 - Validation: 100%|██████████| 26/26 [00:02<00:00, 10.18it/s]\n"
     ]
    },
    {
     "name": "stdout",
     "output_type": "stream",
     "text": [
      "Iteration 3 - Epoch 1:\n",
      "  Train Acc = 0.2861, Train Prec = 0.2446, Train Rec = 0.2861, Train F-Beta = 0.1839, Train Loss = 2.3064\n",
      "  Val Acc = 0.4884, Val Prec = 0.4395, Val Rec = 0.4884, Val F-Beta = 0.3451, Val Loss = 1.8143\n"
     ]
    },
    {
     "name": "stderr",
     "output_type": "stream",
     "text": [
      "Epoch 2 - Training: 100%|██████████| 103/103 [00:30<00:00,  3.34it/s]\n",
      "Epoch 2 - Validation: 100%|██████████| 26/26 [00:02<00:00, 10.18it/s]\n"
     ]
    },
    {
     "name": "stdout",
     "output_type": "stream",
     "text": [
      "Iteration 3 - Epoch 2:\n",
      "  Train Acc = 0.5881, Train Prec = 0.5765, Train Rec = 0.5881, Train F-Beta = 0.5044, Train Loss = 1.4500\n",
      "  Val Acc = 0.6923, Val Prec = 0.6593, Val Rec = 0.6923, Val F-Beta = 0.6342, Val Loss = 1.0531\n"
     ]
    },
    {
     "name": "stderr",
     "output_type": "stream",
     "text": [
      "Epoch 3 - Training: 100%|██████████| 103/103 [00:30<00:00,  3.34it/s]\n",
      "Epoch 3 - Validation: 100%|██████████| 26/26 [00:02<00:00, 10.18it/s]\n"
     ]
    },
    {
     "name": "stdout",
     "output_type": "stream",
     "text": [
      "Iteration 3 - Epoch 3:\n",
      "  Train Acc = 0.8156, Train Prec = 0.8089, Train Rec = 0.8156, Train F-Beta = 0.7822, Train Loss = 0.7834\n",
      "  Val Acc = 0.8352, Val Prec = 0.8183, Val Rec = 0.8352, Val F-Beta = 0.8049, Val Loss = 0.6319\n"
     ]
    },
    {
     "name": "stderr",
     "output_type": "stream",
     "text": [
      "Epoch 4 - Training: 100%|██████████| 103/103 [00:30<00:00,  3.34it/s]\n",
      "Epoch 4 - Validation: 100%|██████████| 26/26 [00:02<00:00, 10.18it/s]\n"
     ]
    },
    {
     "name": "stdout",
     "output_type": "stream",
     "text": [
      "Iteration 3 - Epoch 4:\n",
      "  Train Acc = 0.9240, Train Prec = 0.9304, Train Rec = 0.9240, Train F-Beta = 0.9188, Train Loss = 0.4031\n",
      "  Val Acc = 0.8962, Val Prec = 0.9089, Val Rec = 0.8962, Val F-Beta = 0.9005, Val Loss = 0.4078\n"
     ]
    },
    {
     "name": "stderr",
     "output_type": "stream",
     "text": [
      "Epoch 5 - Training: 100%|██████████| 103/103 [00:30<00:00,  3.34it/s]\n",
      "Epoch 5 - Validation: 100%|██████████| 26/26 [00:02<00:00, 10.17it/s]\n"
     ]
    },
    {
     "name": "stdout",
     "output_type": "stream",
     "text": [
      "Iteration 3 - Epoch 5:\n",
      "  Train Acc = 0.9661, Train Prec = 0.9672, Train Rec = 0.9661, Train F-Beta = 0.9664, Train Loss = 0.2187\n",
      "  Val Acc = 0.9292, Val Prec = 0.9348, Val Rec = 0.9292, Val F-Beta = 0.9323, Val Loss = 0.3123\n"
     ]
    },
    {
     "name": "stderr",
     "output_type": "stream",
     "text": [
      "Epoch 6 - Training: 100%|██████████| 103/103 [00:30<00:00,  3.34it/s]\n",
      "Epoch 6 - Validation: 100%|██████████| 26/26 [00:02<00:00, 10.17it/s]\n"
     ]
    },
    {
     "name": "stdout",
     "output_type": "stream",
     "text": [
      "Iteration 3 - Epoch 6:\n",
      "  Train Acc = 0.9829, Train Prec = 0.9830, Train Rec = 0.9829, Train F-Beta = 0.9830, Train Loss = 0.1264\n",
      "  Val Acc = 0.9512, Val Prec = 0.9512, Val Rec = 0.9512, Val F-Beta = 0.9511, Val Loss = 0.2623\n",
      "  Better model saved with 0.9511 F-beta score.\n"
     ]
    },
    {
     "name": "stderr",
     "output_type": "stream",
     "text": [
      "Epoch 7 - Training: 100%|██████████| 103/103 [00:30<00:00,  3.34it/s]\n",
      "Epoch 7 - Validation: 100%|██████████| 26/26 [00:02<00:00, 10.19it/s]\n"
     ]
    },
    {
     "name": "stdout",
     "output_type": "stream",
     "text": [
      "Iteration 3 - Epoch 7:\n",
      "  Train Acc = 0.9869, Train Prec = 0.9870, Train Rec = 0.9869, Train F-Beta = 0.9869, Train Loss = 0.0861\n",
      "  Val Acc = 0.9341, Val Prec = 0.9386, Val Rec = 0.9341, Val F-Beta = 0.9362, Val Loss = 0.2911\n"
     ]
    },
    {
     "name": "stderr",
     "output_type": "stream",
     "text": [
      "Epoch 8 - Training: 100%|██████████| 103/103 [00:30<00:00,  3.34it/s]\n",
      "Epoch 8 - Validation: 100%|██████████| 26/26 [00:02<00:00, 10.16it/s]\n"
     ]
    },
    {
     "name": "stdout",
     "output_type": "stream",
     "text": [
      "Iteration 3 - Epoch 8:\n",
      "  Train Acc = 0.9924, Train Prec = 0.9924, Train Rec = 0.9924, Train F-Beta = 0.9924, Train Loss = 0.0593\n",
      "  Val Acc = 0.9463, Val Prec = 0.9471, Val Rec = 0.9463, Val F-Beta = 0.9465, Val Loss = 0.2499\n"
     ]
    },
    {
     "name": "stderr",
     "output_type": "stream",
     "text": [
      "Epoch 9 - Training: 100%|██████████| 103/103 [00:30<00:00,  3.34it/s]\n",
      "Epoch 9 - Validation: 100%|██████████| 26/26 [00:02<00:00, 10.18it/s]\n"
     ]
    },
    {
     "name": "stdout",
     "output_type": "stream",
     "text": [
      "Iteration 3 - Epoch 9:\n",
      "  Train Acc = 0.9872, Train Prec = 0.9872, Train Rec = 0.9872, Train F-Beta = 0.9872, Train Loss = 0.0696\n",
      "  Val Acc = 0.9451, Val Prec = 0.9463, Val Rec = 0.9451, Val F-Beta = 0.9457, Val Loss = 0.2464\n"
     ]
    },
    {
     "name": "stderr",
     "output_type": "stream",
     "text": [
      "Epoch 10 - Training: 100%|██████████| 103/103 [00:30<00:00,  3.34it/s]\n",
      "Epoch 10 - Validation: 100%|██████████| 26/26 [00:02<00:00, 10.17it/s]\n"
     ]
    },
    {
     "name": "stdout",
     "output_type": "stream",
     "text": [
      "Iteration 3 - Epoch 10:\n",
      "  Train Acc = 0.9927, Train Prec = 0.9927, Train Rec = 0.9927, Train F-Beta = 0.9927, Train Loss = 0.0417\n",
      "  Val Acc = 0.9487, Val Prec = 0.9501, Val Rec = 0.9487, Val F-Beta = 0.9494, Val Loss = 0.2559\n"
     ]
    },
    {
     "name": "stderr",
     "output_type": "stream",
     "text": [
      "Epoch 11 - Training: 100%|██████████| 103/103 [00:30<00:00,  3.34it/s]\n",
      "Epoch 11 - Validation: 100%|██████████| 26/26 [00:02<00:00, 10.18it/s]\n"
     ]
    },
    {
     "name": "stdout",
     "output_type": "stream",
     "text": [
      "Iteration 3 - Epoch 11:\n",
      "  Train Acc = 0.9963, Train Prec = 0.9964, Train Rec = 0.9963, Train F-Beta = 0.9963, Train Loss = 0.0298\n",
      "  Val Acc = 0.9426, Val Prec = 0.9445, Val Rec = 0.9426, Val F-Beta = 0.9433, Val Loss = 0.2616\n"
     ]
    },
    {
     "name": "stderr",
     "output_type": "stream",
     "text": [
      "Epoch 12 - Training: 100%|██████████| 103/103 [00:30<00:00,  3.34it/s]\n",
      "Epoch 12 - Validation: 100%|██████████| 26/26 [00:02<00:00, 10.17it/s]\n"
     ]
    },
    {
     "name": "stdout",
     "output_type": "stream",
     "text": [
      "Iteration 3 - Epoch 12:\n",
      "  Train Acc = 0.9966, Train Prec = 0.9966, Train Rec = 0.9966, Train F-Beta = 0.9966, Train Loss = 0.0214\n",
      "  Val Acc = 0.9451, Val Prec = 0.9480, Val Rec = 0.9451, Val F-Beta = 0.9465, Val Loss = 0.2680\n"
     ]
    },
    {
     "name": "stderr",
     "output_type": "stream",
     "text": [
      "Epoch 13 - Training: 100%|██████████| 103/103 [00:30<00:00,  3.34it/s]\n",
      "Epoch 13 - Validation: 100%|██████████| 26/26 [00:02<00:00, 10.17it/s]\n"
     ]
    },
    {
     "name": "stdout",
     "output_type": "stream",
     "text": [
      "Iteration 3 - Epoch 13:\n",
      "  Train Acc = 0.9985, Train Prec = 0.9985, Train Rec = 0.9985, Train F-Beta = 0.9985, Train Loss = 0.0135\n",
      "  Val Acc = 0.9377, Val Prec = 0.9457, Val Rec = 0.9377, Val F-Beta = 0.9423, Val Loss = 0.3308\n"
     ]
    },
    {
     "name": "stderr",
     "output_type": "stream",
     "text": [
      "Epoch 14 - Training: 100%|██████████| 103/103 [00:30<00:00,  3.34it/s]\n",
      "Epoch 14 - Validation: 100%|██████████| 26/26 [00:02<00:00, 10.17it/s]\n"
     ]
    },
    {
     "name": "stdout",
     "output_type": "stream",
     "text": [
      "Iteration 3 - Epoch 14:\n",
      "  Train Acc = 0.9969, Train Prec = 0.9970, Train Rec = 0.9969, Train F-Beta = 0.9969, Train Loss = 0.0185\n",
      "  Val Acc = 0.9463, Val Prec = 0.9479, Val Rec = 0.9463, Val F-Beta = 0.9471, Val Loss = 0.2679\n"
     ]
    },
    {
     "name": "stderr",
     "output_type": "stream",
     "text": [
      "Epoch 15 - Training: 100%|██████████| 103/103 [00:30<00:00,  3.34it/s]\n",
      "Epoch 15 - Validation: 100%|██████████| 26/26 [00:02<00:00, 10.15it/s]\n"
     ]
    },
    {
     "name": "stdout",
     "output_type": "stream",
     "text": [
      "Iteration 3 - Epoch 15:\n",
      "  Train Acc = 0.9945, Train Prec = 0.9945, Train Rec = 0.9945, Train F-Beta = 0.9945, Train Loss = 0.0252\n",
      "  Val Acc = 0.9426, Val Prec = 0.9461, Val Rec = 0.9426, Val F-Beta = 0.9444, Val Loss = 0.3086\n"
     ]
    },
    {
     "name": "stderr",
     "output_type": "stream",
     "text": [
      "Epoch 16 - Training: 100%|██████████| 103/103 [00:30<00:00,  3.34it/s]\n",
      "Epoch 16 - Validation: 100%|██████████| 26/26 [00:02<00:00, 10.19it/s]\n"
     ]
    },
    {
     "name": "stdout",
     "output_type": "stream",
     "text": [
      "Iteration 3 - Epoch 16:\n",
      "  Train Acc = 0.9960, Train Prec = 0.9960, Train Rec = 0.9960, Train F-Beta = 0.9960, Train Loss = 0.0191\n",
      "  Val Acc = 0.9548, Val Prec = 0.9560, Val Rec = 0.9548, Val F-Beta = 0.9552, Val Loss = 0.2750\n",
      "  Better model saved with 0.9552 F-beta score.\n"
     ]
    },
    {
     "name": "stderr",
     "output_type": "stream",
     "text": [
      "Epoch 17 - Training: 100%|██████████| 103/103 [00:30<00:00,  3.34it/s]\n",
      "Epoch 17 - Validation: 100%|██████████| 26/26 [00:02<00:00, 10.17it/s]\n"
     ]
    },
    {
     "name": "stdout",
     "output_type": "stream",
     "text": [
      "Iteration 3 - Epoch 17:\n",
      "  Train Acc = 0.9985, Train Prec = 0.9985, Train Rec = 0.9985, Train F-Beta = 0.9985, Train Loss = 0.0088\n",
      "  Val Acc = 0.9512, Val Prec = 0.9534, Val Rec = 0.9512, Val F-Beta = 0.9524, Val Loss = 0.2817\n"
     ]
    },
    {
     "name": "stderr",
     "output_type": "stream",
     "text": [
      "Epoch 18 - Training: 100%|██████████| 103/103 [00:30<00:00,  3.34it/s]\n",
      "Epoch 18 - Validation: 100%|██████████| 26/26 [00:02<00:00, 10.15it/s]\n"
     ]
    },
    {
     "name": "stdout",
     "output_type": "stream",
     "text": [
      "Iteration 3 - Epoch 18:\n",
      "  Train Acc = 0.9976, Train Prec = 0.9976, Train Rec = 0.9976, Train F-Beta = 0.9976, Train Loss = 0.0133\n",
      "  Val Acc = 0.9585, Val Prec = 0.9598, Val Rec = 0.9585, Val F-Beta = 0.9591, Val Loss = 0.2654\n",
      "  Better model saved with 0.9591 F-beta score.\n"
     ]
    },
    {
     "name": "stderr",
     "output_type": "stream",
     "text": [
      "Epoch 19 - Training: 100%|██████████| 103/103 [00:30<00:00,  3.34it/s]\n",
      "Epoch 19 - Validation: 100%|██████████| 26/26 [00:02<00:00, 10.17it/s]\n"
     ]
    },
    {
     "name": "stdout",
     "output_type": "stream",
     "text": [
      "Iteration 3 - Epoch 19:\n",
      "  Train Acc = 0.9982, Train Prec = 0.9982, Train Rec = 0.9982, Train F-Beta = 0.9982, Train Loss = 0.0116\n",
      "  Val Acc = 0.9499, Val Prec = 0.9518, Val Rec = 0.9499, Val F-Beta = 0.9507, Val Loss = 0.2800\n"
     ]
    },
    {
     "name": "stderr",
     "output_type": "stream",
     "text": [
      "Epoch 20 - Training: 100%|██████████| 103/103 [00:30<00:00,  3.34it/s]\n",
      "Epoch 20 - Validation: 100%|██████████| 26/26 [00:02<00:00, 10.17it/s]\n"
     ]
    },
    {
     "name": "stdout",
     "output_type": "stream",
     "text": [
      "Iteration 3 - Epoch 20:\n",
      "  Train Acc = 1.0000, Train Prec = 1.0000, Train Rec = 1.0000, Train F-Beta = 1.0000, Train Loss = 0.0038\n",
      "  Val Acc = 0.9536, Val Prec = 0.9545, Val Rec = 0.9536, Val F-Beta = 0.9539, Val Loss = 0.2691\n"
     ]
    },
    {
     "name": "stderr",
     "output_type": "stream",
     "text": [
      "Epoch 21 - Training: 100%|██████████| 103/103 [00:30<00:00,  3.34it/s]\n",
      "Epoch 21 - Validation: 100%|██████████| 26/26 [00:02<00:00, 10.17it/s]\n"
     ]
    },
    {
     "name": "stdout",
     "output_type": "stream",
     "text": [
      "Iteration 3 - Epoch 21:\n",
      "  Train Acc = 0.9988, Train Prec = 0.9988, Train Rec = 0.9988, Train F-Beta = 0.9988, Train Loss = 0.0081\n",
      "  Val Acc = 0.9524, Val Prec = 0.9538, Val Rec = 0.9524, Val F-Beta = 0.9530, Val Loss = 0.2737\n"
     ]
    },
    {
     "name": "stderr",
     "output_type": "stream",
     "text": [
      "Epoch 22 - Training: 100%|██████████| 103/103 [00:30<00:00,  3.34it/s]\n",
      "Epoch 22 - Validation: 100%|██████████| 26/26 [00:02<00:00, 10.17it/s]\n"
     ]
    },
    {
     "name": "stdout",
     "output_type": "stream",
     "text": [
      "Iteration 3 - Epoch 22:\n",
      "  Train Acc = 0.9994, Train Prec = 0.9994, Train Rec = 0.9994, Train F-Beta = 0.9994, Train Loss = 0.0044\n",
      "  Val Acc = 0.9548, Val Prec = 0.9566, Val Rec = 0.9548, Val F-Beta = 0.9556, Val Loss = 0.2780\n"
     ]
    },
    {
     "name": "stderr",
     "output_type": "stream",
     "text": [
      "Epoch 23 - Training: 100%|██████████| 103/103 [00:30<00:00,  3.34it/s]\n",
      "Epoch 23 - Validation: 100%|██████████| 26/26 [00:02<00:00, 10.16it/s]\n"
     ]
    },
    {
     "name": "stdout",
     "output_type": "stream",
     "text": [
      "Iteration 3 - Epoch 23:\n",
      "  Train Acc = 1.0000, Train Prec = 1.0000, Train Rec = 1.0000, Train F-Beta = 1.0000, Train Loss = 0.0025\n",
      "  Val Acc = 0.9560, Val Prec = 0.9576, Val Rec = 0.9560, Val F-Beta = 0.9568, Val Loss = 0.2794\n"
     ]
    },
    {
     "name": "stderr",
     "output_type": "stream",
     "text": [
      "Epoch 24 - Training: 100%|██████████| 103/103 [00:30<00:00,  3.34it/s]\n",
      "Epoch 24 - Validation: 100%|██████████| 26/26 [00:02<00:00, 10.18it/s]\n"
     ]
    },
    {
     "name": "stdout",
     "output_type": "stream",
     "text": [
      "Iteration 3 - Epoch 24:\n",
      "  Train Acc = 1.0000, Train Prec = 1.0000, Train Rec = 1.0000, Train F-Beta = 1.0000, Train Loss = 0.0021\n",
      "  Val Acc = 0.9524, Val Prec = 0.9538, Val Rec = 0.9524, Val F-Beta = 0.9530, Val Loss = 0.2816\n"
     ]
    },
    {
     "name": "stderr",
     "output_type": "stream",
     "text": [
      "Epoch 25 - Training: 100%|██████████| 103/103 [00:30<00:00,  3.34it/s]\n",
      "Epoch 25 - Validation: 100%|██████████| 26/26 [00:02<00:00, 10.17it/s]\n"
     ]
    },
    {
     "name": "stdout",
     "output_type": "stream",
     "text": [
      "Iteration 3 - Epoch 25:\n",
      "  Train Acc = 0.9954, Train Prec = 0.9954, Train Rec = 0.9954, Train F-Beta = 0.9954, Train Loss = 0.0209\n",
      "  Val Acc = 0.9389, Val Prec = 0.9410, Val Rec = 0.9389, Val F-Beta = 0.9394, Val Loss = 0.4098\n"
     ]
    },
    {
     "name": "stderr",
     "output_type": "stream",
     "text": [
      "Epoch 26 - Training: 100%|██████████| 103/103 [00:30<00:00,  3.34it/s]\n",
      "Epoch 26 - Validation: 100%|██████████| 26/26 [00:02<00:00, 10.16it/s]\n"
     ]
    },
    {
     "name": "stdout",
     "output_type": "stream",
     "text": [
      "Iteration 3 - Epoch 26:\n",
      "  Train Acc = 0.9954, Train Prec = 0.9954, Train Rec = 0.9954, Train F-Beta = 0.9954, Train Loss = 0.0229\n",
      "  Val Acc = 0.9280, Val Prec = 0.9357, Val Rec = 0.9280, Val F-Beta = 0.9316, Val Loss = 0.4721\n"
     ]
    },
    {
     "name": "stderr",
     "output_type": "stream",
     "text": [
      "Epoch 27 - Training: 100%|██████████| 103/103 [00:30<00:00,  3.34it/s]\n",
      "Epoch 27 - Validation: 100%|██████████| 26/26 [00:02<00:00, 10.17it/s]\n"
     ]
    },
    {
     "name": "stdout",
     "output_type": "stream",
     "text": [
      "Iteration 3 - Epoch 27:\n",
      "  Train Acc = 0.9973, Train Prec = 0.9973, Train Rec = 0.9973, Train F-Beta = 0.9973, Train Loss = 0.0132\n",
      "  Val Acc = 0.9487, Val Prec = 0.9519, Val Rec = 0.9487, Val F-Beta = 0.9504, Val Loss = 0.3103\n"
     ]
    },
    {
     "name": "stderr",
     "output_type": "stream",
     "text": [
      "Epoch 28 - Training: 100%|██████████| 103/103 [00:30<00:00,  3.34it/s]\n",
      "Epoch 28 - Validation: 100%|██████████| 26/26 [00:02<00:00, 10.19it/s]\n"
     ]
    },
    {
     "name": "stdout",
     "output_type": "stream",
     "text": [
      "Iteration 3 - Epoch 28:\n",
      "  Train Acc = 0.9976, Train Prec = 0.9976, Train Rec = 0.9976, Train F-Beta = 0.9976, Train Loss = 0.0140\n",
      "  Val Acc = 0.9463, Val Prec = 0.9518, Val Rec = 0.9463, Val F-Beta = 0.9491, Val Loss = 0.3667\n"
     ]
    },
    {
     "name": "stderr",
     "output_type": "stream",
     "text": [
      "Epoch 29 - Training: 100%|██████████| 103/103 [00:30<00:00,  3.34it/s]\n",
      "Epoch 29 - Validation: 100%|██████████| 26/26 [00:02<00:00, 10.16it/s]\n"
     ]
    },
    {
     "name": "stdout",
     "output_type": "stream",
     "text": [
      "Iteration 3 - Epoch 29:\n",
      "  Train Acc = 0.9939, Train Prec = 0.9939, Train Rec = 0.9939, Train F-Beta = 0.9939, Train Loss = 0.0262\n",
      "  Val Acc = 0.9451, Val Prec = 0.9467, Val Rec = 0.9451, Val F-Beta = 0.9456, Val Loss = 0.3210\n"
     ]
    },
    {
     "name": "stderr",
     "output_type": "stream",
     "text": [
      "Epoch 30 - Training: 100%|██████████| 103/103 [00:30<00:00,  3.34it/s]\n",
      "Epoch 30 - Validation: 100%|██████████| 26/26 [00:02<00:00, 10.17it/s]\n"
     ]
    },
    {
     "name": "stdout",
     "output_type": "stream",
     "text": [
      "Iteration 3 - Epoch 30:\n",
      "  Train Acc = 0.9966, Train Prec = 0.9966, Train Rec = 0.9966, Train F-Beta = 0.9966, Train Loss = 0.0142\n",
      "  Val Acc = 0.9402, Val Prec = 0.9437, Val Rec = 0.9402, Val F-Beta = 0.9419, Val Loss = 0.3722\n"
     ]
    },
    {
     "name": "stderr",
     "output_type": "stream",
     "text": [
      "Epoch 31 - Training: 100%|██████████| 103/103 [00:30<00:00,  3.34it/s]\n",
      "Epoch 31 - Validation: 100%|██████████| 26/26 [00:02<00:00, 10.17it/s]\n"
     ]
    },
    {
     "name": "stdout",
     "output_type": "stream",
     "text": [
      "Iteration 3 - Epoch 31:\n",
      "  Train Acc = 0.9979, Train Prec = 0.9979, Train Rec = 0.9979, Train F-Beta = 0.9979, Train Loss = 0.0133\n",
      "  Val Acc = 0.9451, Val Prec = 0.9465, Val Rec = 0.9451, Val F-Beta = 0.9455, Val Loss = 0.3173\n"
     ]
    },
    {
     "name": "stderr",
     "output_type": "stream",
     "text": [
      "Epoch 32 - Training: 100%|██████████| 103/103 [00:30<00:00,  3.34it/s]\n",
      "Epoch 32 - Validation: 100%|██████████| 26/26 [00:02<00:00, 10.18it/s]\n"
     ]
    },
    {
     "name": "stdout",
     "output_type": "stream",
     "text": [
      "Iteration 3 - Epoch 32:\n",
      "  Train Acc = 0.9939, Train Prec = 0.9939, Train Rec = 0.9939, Train F-Beta = 0.9939, Train Loss = 0.0228\n",
      "  Val Acc = 0.9414, Val Prec = 0.9454, Val Rec = 0.9414, Val F-Beta = 0.9433, Val Loss = 0.3800\n"
     ]
    },
    {
     "name": "stderr",
     "output_type": "stream",
     "text": [
      "Epoch 33 - Training: 100%|██████████| 103/103 [00:30<00:00,  3.34it/s]\n",
      "Epoch 33 - Validation: 100%|██████████| 26/26 [00:02<00:00, 10.19it/s]\n"
     ]
    },
    {
     "name": "stdout",
     "output_type": "stream",
     "text": [
      "Iteration 3 - Epoch 33:\n",
      "  Train Acc = 0.9921, Train Prec = 0.9921, Train Rec = 0.9921, Train F-Beta = 0.9921, Train Loss = 0.0315\n",
      "  Val Acc = 0.9463, Val Prec = 0.9488, Val Rec = 0.9463, Val F-Beta = 0.9477, Val Loss = 0.3545\n"
     ]
    },
    {
     "name": "stderr",
     "output_type": "stream",
     "text": [
      "Epoch 34 - Training: 100%|██████████| 103/103 [00:30<00:00,  3.34it/s]\n",
      "Epoch 34 - Validation: 100%|██████████| 26/26 [00:02<00:00, 10.19it/s]\n"
     ]
    },
    {
     "name": "stdout",
     "output_type": "stream",
     "text": [
      "Iteration 3 - Epoch 34:\n",
      "  Train Acc = 0.9957, Train Prec = 0.9957, Train Rec = 0.9957, Train F-Beta = 0.9957, Train Loss = 0.0213\n",
      "  Val Acc = 0.9512, Val Prec = 0.9534, Val Rec = 0.9512, Val F-Beta = 0.9522, Val Loss = 0.3215\n"
     ]
    },
    {
     "name": "stderr",
     "output_type": "stream",
     "text": [
      "Epoch 35 - Training: 100%|██████████| 103/103 [00:30<00:00,  3.34it/s]\n",
      "Epoch 35 - Validation: 100%|██████████| 26/26 [00:02<00:00, 10.19it/s]\n"
     ]
    },
    {
     "name": "stdout",
     "output_type": "stream",
     "text": [
      "Iteration 3 - Epoch 35:\n",
      "  Train Acc = 0.9979, Train Prec = 0.9979, Train Rec = 0.9979, Train F-Beta = 0.9979, Train Loss = 0.0083\n",
      "  Val Acc = 0.9499, Val Prec = 0.9519, Val Rec = 0.9499, Val F-Beta = 0.9509, Val Loss = 0.3269\n"
     ]
    },
    {
     "name": "stderr",
     "output_type": "stream",
     "text": [
      "Epoch 36 - Training: 100%|██████████| 103/103 [00:30<00:00,  3.34it/s]\n",
      "Epoch 36 - Validation: 100%|██████████| 26/26 [00:02<00:00, 10.18it/s]\n"
     ]
    },
    {
     "name": "stdout",
     "output_type": "stream",
     "text": [
      "Iteration 3 - Epoch 36:\n",
      "  Train Acc = 0.9994, Train Prec = 0.9994, Train Rec = 0.9994, Train F-Beta = 0.9994, Train Loss = 0.0028\n",
      "  Val Acc = 0.9585, Val Prec = 0.9612, Val Rec = 0.9585, Val F-Beta = 0.9599, Val Loss = 0.3112\n",
      "  Better model saved with 0.9599 F-beta score.\n"
     ]
    },
    {
     "name": "stderr",
     "output_type": "stream",
     "text": [
      "Epoch 37 - Training: 100%|██████████| 103/103 [00:30<00:00,  3.34it/s]\n",
      "Epoch 37 - Validation: 100%|██████████| 26/26 [00:02<00:00, 10.19it/s]\n"
     ]
    },
    {
     "name": "stdout",
     "output_type": "stream",
     "text": [
      "Iteration 3 - Epoch 37:\n",
      "  Train Acc = 1.0000, Train Prec = 1.0000, Train Rec = 1.0000, Train F-Beta = 1.0000, Train Loss = 0.0014\n",
      "  Val Acc = 0.9585, Val Prec = 0.9603, Val Rec = 0.9585, Val F-Beta = 0.9594, Val Loss = 0.3096\n"
     ]
    },
    {
     "name": "stderr",
     "output_type": "stream",
     "text": [
      "Epoch 38 - Training: 100%|██████████| 103/103 [00:30<00:00,  3.34it/s]\n",
      "Epoch 38 - Validation: 100%|██████████| 26/26 [00:02<00:00, 10.19it/s]\n"
     ]
    },
    {
     "name": "stdout",
     "output_type": "stream",
     "text": [
      "Iteration 3 - Epoch 38:\n",
      "  Train Acc = 1.0000, Train Prec = 1.0000, Train Rec = 1.0000, Train F-Beta = 1.0000, Train Loss = 0.0011\n",
      "  Val Acc = 0.9573, Val Prec = 0.9590, Val Rec = 0.9573, Val F-Beta = 0.9581, Val Loss = 0.3135\n"
     ]
    },
    {
     "name": "stderr",
     "output_type": "stream",
     "text": [
      "Epoch 39 - Training: 100%|██████████| 103/103 [00:30<00:00,  3.34it/s]\n",
      "Epoch 39 - Validation: 100%|██████████| 26/26 [00:02<00:00, 10.16it/s]\n"
     ]
    },
    {
     "name": "stdout",
     "output_type": "stream",
     "text": [
      "Iteration 3 - Epoch 39:\n",
      "  Train Acc = 0.9997, Train Prec = 0.9997, Train Rec = 0.9997, Train F-Beta = 0.9997, Train Loss = 0.0028\n",
      "  Val Acc = 0.9585, Val Prec = 0.9597, Val Rec = 0.9585, Val F-Beta = 0.9590, Val Loss = 0.3157\n"
     ]
    },
    {
     "name": "stderr",
     "output_type": "stream",
     "text": [
      "Epoch 40 - Training: 100%|██████████| 103/103 [00:30<00:00,  3.34it/s]\n",
      "Epoch 40 - Validation: 100%|██████████| 26/26 [00:02<00:00, 10.18it/s]\n"
     ]
    },
    {
     "name": "stdout",
     "output_type": "stream",
     "text": [
      "Iteration 3 - Epoch 40:\n",
      "  Train Acc = 1.0000, Train Prec = 1.0000, Train Rec = 1.0000, Train F-Beta = 1.0000, Train Loss = 0.0009\n",
      "  Val Acc = 0.9585, Val Prec = 0.9597, Val Rec = 0.9585, Val F-Beta = 0.9590, Val Loss = 0.3191\n",
      "Iteration 4/20\n"
     ]
    },
    {
     "name": "stderr",
     "output_type": "stream",
     "text": [
      "Some weights of ElectraForSequenceClassification were not initialized from the model checkpoint at beomi/KcELECTRA-base-v2022 and are newly initialized: ['classifier.dense.bias', 'classifier.dense.weight', 'classifier.out_proj.bias', 'classifier.out_proj.weight']\n",
      "You should probably TRAIN this model on a down-stream task to be able to use it for predictions and inference.\n",
      "Epoch 1 - Training: 100%|██████████| 103/103 [00:30<00:00,  3.34it/s]\n",
      "Epoch 1 - Validation: 100%|██████████| 26/26 [00:02<00:00, 10.17it/s]\n"
     ]
    },
    {
     "name": "stdout",
     "output_type": "stream",
     "text": [
      "Iteration 4 - Epoch 1:\n",
      "  Train Acc = 0.2711, Train Prec = 0.2067, Train Rec = 0.2711, Train F-Beta = 0.1682, Train Loss = 2.3267\n",
      "  Val Acc = 0.4811, Val Prec = 0.3924, Val Rec = 0.4811, Val F-Beta = 0.3479, Val Loss = 1.8131\n"
     ]
    },
    {
     "name": "stderr",
     "output_type": "stream",
     "text": [
      "Epoch 2 - Training: 100%|██████████| 103/103 [00:30<00:00,  3.34it/s]\n",
      "Epoch 2 - Validation: 100%|██████████| 26/26 [00:02<00:00, 10.16it/s]\n"
     ]
    },
    {
     "name": "stdout",
     "output_type": "stream",
     "text": [
      "Iteration 4 - Epoch 2:\n",
      "  Train Acc = 0.5979, Train Prec = 0.5704, Train Rec = 0.5979, Train F-Beta = 0.5257, Train Loss = 1.4322\n",
      "  Val Acc = 0.7106, Val Prec = 0.6629, Val Rec = 0.7106, Val F-Beta = 0.6393, Val Loss = 1.0396\n"
     ]
    },
    {
     "name": "stderr",
     "output_type": "stream",
     "text": [
      "Epoch 3 - Training: 100%|██████████| 103/103 [00:30<00:00,  3.34it/s]\n",
      "Epoch 3 - Validation: 100%|██████████| 26/26 [00:02<00:00, 10.17it/s]\n"
     ]
    },
    {
     "name": "stdout",
     "output_type": "stream",
     "text": [
      "Iteration 4 - Epoch 3:\n",
      "  Train Acc = 0.8241, Train Prec = 0.8483, Train Rec = 0.8241, Train F-Beta = 0.8035, Train Loss = 0.7640\n",
      "  Val Acc = 0.8596, Val Prec = 0.8855, Val Rec = 0.8596, Val F-Beta = 0.8660, Val Loss = 0.5505\n"
     ]
    },
    {
     "name": "stderr",
     "output_type": "stream",
     "text": [
      "Epoch 4 - Training: 100%|██████████| 103/103 [00:30<00:00,  3.34it/s]\n",
      "Epoch 4 - Validation: 100%|██████████| 26/26 [00:02<00:00, 10.18it/s]\n"
     ]
    },
    {
     "name": "stdout",
     "output_type": "stream",
     "text": [
      "Iteration 4 - Epoch 4:\n",
      "  Train Acc = 0.9368, Train Prec = 0.9390, Train Rec = 0.9368, Train F-Beta = 0.9371, Train Loss = 0.3777\n",
      "  Val Acc = 0.9365, Val Prec = 0.9387, Val Rec = 0.9365, Val F-Beta = 0.9371, Val Loss = 0.3349\n"
     ]
    },
    {
     "name": "stderr",
     "output_type": "stream",
     "text": [
      "Epoch 5 - Training: 100%|██████████| 103/103 [00:30<00:00,  3.34it/s]\n",
      "Epoch 5 - Validation: 100%|██████████| 26/26 [00:02<00:00, 10.17it/s]\n"
     ]
    },
    {
     "name": "stdout",
     "output_type": "stream",
     "text": [
      "Iteration 4 - Epoch 5:\n",
      "  Train Acc = 0.9722, Train Prec = 0.9725, Train Rec = 0.9722, Train F-Beta = 0.9724, Train Loss = 0.1906\n",
      "  Val Acc = 0.9280, Val Prec = 0.9313, Val Rec = 0.9280, Val F-Beta = 0.9293, Val Loss = 0.2774\n"
     ]
    },
    {
     "name": "stderr",
     "output_type": "stream",
     "text": [
      "Epoch 6 - Training: 100%|██████████| 103/103 [00:30<00:00,  3.34it/s]\n",
      "Epoch 6 - Validation: 100%|██████████| 26/26 [00:02<00:00, 10.18it/s]\n"
     ]
    },
    {
     "name": "stdout",
     "output_type": "stream",
     "text": [
      "Iteration 4 - Epoch 6:\n",
      "  Train Acc = 0.9866, Train Prec = 0.9867, Train Rec = 0.9866, Train F-Beta = 0.9866, Train Loss = 0.1085\n",
      "  Val Acc = 0.9402, Val Prec = 0.9419, Val Rec = 0.9402, Val F-Beta = 0.9406, Val Loss = 0.2608\n"
     ]
    },
    {
     "name": "stderr",
     "output_type": "stream",
     "text": [
      "Epoch 7 - Training: 100%|██████████| 103/103 [00:30<00:00,  3.34it/s]\n",
      "Epoch 7 - Validation: 100%|██████████| 26/26 [00:02<00:00, 10.17it/s]\n"
     ]
    },
    {
     "name": "stdout",
     "output_type": "stream",
     "text": [
      "Iteration 4 - Epoch 7:\n",
      "  Train Acc = 0.9918, Train Prec = 0.9918, Train Rec = 0.9918, Train F-Beta = 0.9918, Train Loss = 0.0619\n",
      "  Val Acc = 0.9524, Val Prec = 0.9545, Val Rec = 0.9524, Val F-Beta = 0.9535, Val Loss = 0.2344\n",
      "  Better model saved with 0.9535 F-beta score.\n"
     ]
    },
    {
     "name": "stderr",
     "output_type": "stream",
     "text": [
      "Epoch 8 - Training: 100%|██████████| 103/103 [00:30<00:00,  3.34it/s]\n",
      "Epoch 8 - Validation: 100%|██████████| 26/26 [00:02<00:00, 10.17it/s]\n"
     ]
    },
    {
     "name": "stdout",
     "output_type": "stream",
     "text": [
      "Iteration 4 - Epoch 8:\n",
      "  Train Acc = 0.9936, Train Prec = 0.9936, Train Rec = 0.9936, Train F-Beta = 0.9936, Train Loss = 0.0504\n",
      "  Val Acc = 0.9389, Val Prec = 0.9411, Val Rec = 0.9389, Val F-Beta = 0.9399, Val Loss = 0.2751\n"
     ]
    },
    {
     "name": "stderr",
     "output_type": "stream",
     "text": [
      "Epoch 9 - Training: 100%|██████████| 103/103 [00:30<00:00,  3.34it/s]\n",
      "Epoch 9 - Validation: 100%|██████████| 26/26 [00:02<00:00, 10.17it/s]\n"
     ]
    },
    {
     "name": "stdout",
     "output_type": "stream",
     "text": [
      "Iteration 4 - Epoch 9:\n",
      "  Train Acc = 0.9936, Train Prec = 0.9936, Train Rec = 0.9936, Train F-Beta = 0.9936, Train Loss = 0.0477\n",
      "  Val Acc = 0.9426, Val Prec = 0.9432, Val Rec = 0.9426, Val F-Beta = 0.9426, Val Loss = 0.2531\n"
     ]
    },
    {
     "name": "stderr",
     "output_type": "stream",
     "text": [
      "Epoch 10 - Training: 100%|██████████| 103/103 [00:30<00:00,  3.33it/s]\n",
      "Epoch 10 - Validation: 100%|██████████| 26/26 [00:02<00:00, 10.17it/s]\n"
     ]
    },
    {
     "name": "stdout",
     "output_type": "stream",
     "text": [
      "Iteration 4 - Epoch 10:\n",
      "  Train Acc = 0.9930, Train Prec = 0.9930, Train Rec = 0.9930, Train F-Beta = 0.9930, Train Loss = 0.0425\n",
      "  Val Acc = 0.9328, Val Prec = 0.9385, Val Rec = 0.9328, Val F-Beta = 0.9358, Val Loss = 0.3223\n"
     ]
    },
    {
     "name": "stderr",
     "output_type": "stream",
     "text": [
      "Epoch 11 - Training: 100%|██████████| 103/103 [00:30<00:00,  3.34it/s]\n",
      "Epoch 11 - Validation: 100%|██████████| 26/26 [00:02<00:00, 10.17it/s]\n"
     ]
    },
    {
     "name": "stdout",
     "output_type": "stream",
     "text": [
      "Iteration 4 - Epoch 11:\n",
      "  Train Acc = 0.9924, Train Prec = 0.9924, Train Rec = 0.9924, Train F-Beta = 0.9924, Train Loss = 0.0394\n",
      "  Val Acc = 0.9414, Val Prec = 0.9444, Val Rec = 0.9414, Val F-Beta = 0.9429, Val Loss = 0.2742\n"
     ]
    },
    {
     "name": "stderr",
     "output_type": "stream",
     "text": [
      "Epoch 12 - Training: 100%|██████████| 103/103 [00:30<00:00,  3.34it/s]\n",
      "Epoch 12 - Validation: 100%|██████████| 26/26 [00:02<00:00, 10.17it/s]\n"
     ]
    },
    {
     "name": "stdout",
     "output_type": "stream",
     "text": [
      "Iteration 4 - Epoch 12:\n",
      "  Train Acc = 0.9957, Train Prec = 0.9957, Train Rec = 0.9957, Train F-Beta = 0.9957, Train Loss = 0.0242\n",
      "  Val Acc = 0.9536, Val Prec = 0.9554, Val Rec = 0.9536, Val F-Beta = 0.9545, Val Loss = 0.2347\n",
      "  Better model saved with 0.9545 F-beta score.\n"
     ]
    },
    {
     "name": "stderr",
     "output_type": "stream",
     "text": [
      "Epoch 13 - Training: 100%|██████████| 103/103 [00:30<00:00,  3.34it/s]\n",
      "Epoch 13 - Validation: 100%|██████████| 26/26 [00:02<00:00, 10.18it/s]\n"
     ]
    },
    {
     "name": "stdout",
     "output_type": "stream",
     "text": [
      "Iteration 4 - Epoch 13:\n",
      "  Train Acc = 0.9966, Train Prec = 0.9967, Train Rec = 0.9966, Train F-Beta = 0.9966, Train Loss = 0.0197\n",
      "  Val Acc = 0.9499, Val Prec = 0.9508, Val Rec = 0.9499, Val F-Beta = 0.9503, Val Loss = 0.2444\n"
     ]
    },
    {
     "name": "stderr",
     "output_type": "stream",
     "text": [
      "Epoch 14 - Training: 100%|██████████| 103/103 [00:30<00:00,  3.34it/s]\n",
      "Epoch 14 - Validation: 100%|██████████| 26/26 [00:02<00:00, 10.19it/s]\n"
     ]
    },
    {
     "name": "stdout",
     "output_type": "stream",
     "text": [
      "Iteration 4 - Epoch 14:\n",
      "  Train Acc = 0.9988, Train Prec = 0.9988, Train Rec = 0.9988, Train F-Beta = 0.9988, Train Loss = 0.0124\n",
      "  Val Acc = 0.9475, Val Prec = 0.9513, Val Rec = 0.9475, Val F-Beta = 0.9496, Val Loss = 0.2774\n"
     ]
    },
    {
     "name": "stderr",
     "output_type": "stream",
     "text": [
      "Epoch 15 - Training: 100%|██████████| 103/103 [00:30<00:00,  3.34it/s]\n",
      "Epoch 15 - Validation: 100%|██████████| 26/26 [00:02<00:00, 10.18it/s]\n"
     ]
    },
    {
     "name": "stdout",
     "output_type": "stream",
     "text": [
      "Iteration 4 - Epoch 15:\n",
      "  Train Acc = 0.9954, Train Prec = 0.9954, Train Rec = 0.9954, Train F-Beta = 0.9954, Train Loss = 0.0229\n",
      "  Val Acc = 0.9499, Val Prec = 0.9522, Val Rec = 0.9499, Val F-Beta = 0.9510, Val Loss = 0.2626\n"
     ]
    },
    {
     "name": "stderr",
     "output_type": "stream",
     "text": [
      "Epoch 16 - Training: 100%|██████████| 103/103 [00:30<00:00,  3.33it/s]\n",
      "Epoch 16 - Validation: 100%|██████████| 26/26 [00:02<00:00, 10.19it/s]\n"
     ]
    },
    {
     "name": "stdout",
     "output_type": "stream",
     "text": [
      "Iteration 4 - Epoch 16:\n",
      "  Train Acc = 0.9976, Train Prec = 0.9976, Train Rec = 0.9976, Train F-Beta = 0.9976, Train Loss = 0.0161\n",
      "  Val Acc = 0.9451, Val Prec = 0.9469, Val Rec = 0.9451, Val F-Beta = 0.9458, Val Loss = 0.2980\n"
     ]
    },
    {
     "name": "stderr",
     "output_type": "stream",
     "text": [
      "Epoch 17 - Training: 100%|██████████| 103/103 [00:30<00:00,  3.34it/s]\n",
      "Epoch 17 - Validation: 100%|██████████| 26/26 [00:02<00:00, 10.17it/s]\n"
     ]
    },
    {
     "name": "stdout",
     "output_type": "stream",
     "text": [
      "Iteration 4 - Epoch 17:\n",
      "  Train Acc = 0.9979, Train Prec = 0.9979, Train Rec = 0.9979, Train F-Beta = 0.9979, Train Loss = 0.0126\n",
      "  Val Acc = 0.9438, Val Prec = 0.9498, Val Rec = 0.9438, Val F-Beta = 0.9472, Val Loss = 0.3486\n"
     ]
    },
    {
     "name": "stderr",
     "output_type": "stream",
     "text": [
      "Epoch 18 - Training: 100%|██████████| 103/103 [00:30<00:00,  3.33it/s]\n",
      "Epoch 18 - Validation: 100%|██████████| 26/26 [00:02<00:00, 10.17it/s]\n"
     ]
    },
    {
     "name": "stdout",
     "output_type": "stream",
     "text": [
      "Iteration 4 - Epoch 18:\n",
      "  Train Acc = 0.9945, Train Prec = 0.9945, Train Rec = 0.9945, Train F-Beta = 0.9945, Train Loss = 0.0255\n",
      "  Val Acc = 0.9463, Val Prec = 0.9489, Val Rec = 0.9463, Val F-Beta = 0.9473, Val Loss = 0.3189\n"
     ]
    },
    {
     "name": "stderr",
     "output_type": "stream",
     "text": [
      "Epoch 19 - Training: 100%|██████████| 103/103 [00:30<00:00,  3.34it/s]\n",
      "Epoch 19 - Validation: 100%|██████████| 26/26 [00:02<00:00, 10.18it/s]\n"
     ]
    },
    {
     "name": "stdout",
     "output_type": "stream",
     "text": [
      "Iteration 4 - Epoch 19:\n",
      "  Train Acc = 0.9927, Train Prec = 0.9927, Train Rec = 0.9927, Train F-Beta = 0.9927, Train Loss = 0.0330\n",
      "  Val Acc = 0.9389, Val Prec = 0.9423, Val Rec = 0.9389, Val F-Beta = 0.9406, Val Loss = 0.3176\n"
     ]
    },
    {
     "name": "stderr",
     "output_type": "stream",
     "text": [
      "Epoch 20 - Training: 100%|██████████| 103/103 [00:30<00:00,  3.34it/s]\n",
      "Epoch 20 - Validation: 100%|██████████| 26/26 [00:02<00:00, 10.19it/s]\n"
     ]
    },
    {
     "name": "stdout",
     "output_type": "stream",
     "text": [
      "Iteration 4 - Epoch 20:\n",
      "  Train Acc = 0.9976, Train Prec = 0.9976, Train Rec = 0.9976, Train F-Beta = 0.9976, Train Loss = 0.0181\n",
      "  Val Acc = 0.9365, Val Prec = 0.9419, Val Rec = 0.9365, Val F-Beta = 0.9392, Val Loss = 0.3864\n"
     ]
    },
    {
     "name": "stderr",
     "output_type": "stream",
     "text": [
      "Epoch 21 - Training: 100%|██████████| 103/103 [00:30<00:00,  3.33it/s]\n",
      "Epoch 21 - Validation: 100%|██████████| 26/26 [00:02<00:00, 10.16it/s]\n"
     ]
    },
    {
     "name": "stdout",
     "output_type": "stream",
     "text": [
      "Iteration 4 - Epoch 21:\n",
      "  Train Acc = 0.9963, Train Prec = 0.9963, Train Rec = 0.9963, Train F-Beta = 0.9963, Train Loss = 0.0172\n",
      "  Val Acc = 0.9377, Val Prec = 0.9402, Val Rec = 0.9377, Val F-Beta = 0.9388, Val Loss = 0.3506\n"
     ]
    },
    {
     "name": "stderr",
     "output_type": "stream",
     "text": [
      "Epoch 22 - Training: 100%|██████████| 103/103 [00:30<00:00,  3.34it/s]\n",
      "Epoch 22 - Validation: 100%|██████████| 26/26 [00:02<00:00, 10.19it/s]\n"
     ]
    },
    {
     "name": "stdout",
     "output_type": "stream",
     "text": [
      "Iteration 4 - Epoch 22:\n",
      "  Train Acc = 0.9957, Train Prec = 0.9957, Train Rec = 0.9957, Train F-Beta = 0.9957, Train Loss = 0.0213\n",
      "  Val Acc = 0.9463, Val Prec = 0.9491, Val Rec = 0.9463, Val F-Beta = 0.9475, Val Loss = 0.3398\n"
     ]
    },
    {
     "name": "stderr",
     "output_type": "stream",
     "text": [
      "Epoch 23 - Training: 100%|██████████| 103/103 [00:30<00:00,  3.34it/s]\n",
      "Epoch 23 - Validation: 100%|██████████| 26/26 [00:02<00:00, 10.19it/s]\n"
     ]
    },
    {
     "name": "stdout",
     "output_type": "stream",
     "text": [
      "Iteration 4 - Epoch 23:\n",
      "  Train Acc = 0.9991, Train Prec = 0.9991, Train Rec = 0.9991, Train F-Beta = 0.9991, Train Loss = 0.0072\n",
      "  Val Acc = 0.9524, Val Prec = 0.9541, Val Rec = 0.9524, Val F-Beta = 0.9531, Val Loss = 0.3147\n"
     ]
    },
    {
     "name": "stderr",
     "output_type": "stream",
     "text": [
      "Epoch 24 - Training: 100%|██████████| 103/103 [00:30<00:00,  3.34it/s]\n",
      "Epoch 24 - Validation: 100%|██████████| 26/26 [00:02<00:00, 10.18it/s]\n"
     ]
    },
    {
     "name": "stdout",
     "output_type": "stream",
     "text": [
      "Iteration 4 - Epoch 24:\n",
      "  Train Acc = 0.9982, Train Prec = 0.9982, Train Rec = 0.9982, Train F-Beta = 0.9982, Train Loss = 0.0107\n",
      "  Val Acc = 0.9487, Val Prec = 0.9497, Val Rec = 0.9487, Val F-Beta = 0.9491, Val Loss = 0.3106\n"
     ]
    },
    {
     "name": "stderr",
     "output_type": "stream",
     "text": [
      "Epoch 25 - Training: 100%|██████████| 103/103 [00:30<00:00,  3.33it/s]\n",
      "Epoch 25 - Validation: 100%|██████████| 26/26 [00:02<00:00, 10.20it/s]\n"
     ]
    },
    {
     "name": "stdout",
     "output_type": "stream",
     "text": [
      "Iteration 4 - Epoch 25:\n",
      "  Train Acc = 0.9945, Train Prec = 0.9946, Train Rec = 0.9945, Train F-Beta = 0.9946, Train Loss = 0.0303\n",
      "  Val Acc = 0.9426, Val Prec = 0.9461, Val Rec = 0.9426, Val F-Beta = 0.9445, Val Loss = 0.3575\n"
     ]
    },
    {
     "name": "stderr",
     "output_type": "stream",
     "text": [
      "Epoch 26 - Training: 100%|██████████| 103/103 [00:30<00:00,  3.34it/s]\n",
      "Epoch 26 - Validation: 100%|██████████| 26/26 [00:02<00:00, 10.19it/s]\n"
     ]
    },
    {
     "name": "stdout",
     "output_type": "stream",
     "text": [
      "Iteration 4 - Epoch 26:\n",
      "  Train Acc = 0.9969, Train Prec = 0.9969, Train Rec = 0.9969, Train F-Beta = 0.9969, Train Loss = 0.0142\n",
      "  Val Acc = 0.9341, Val Prec = 0.9380, Val Rec = 0.9341, Val F-Beta = 0.9365, Val Loss = 0.3911\n"
     ]
    },
    {
     "name": "stderr",
     "output_type": "stream",
     "text": [
      "Epoch 27 - Training: 100%|██████████| 103/103 [00:30<00:00,  3.34it/s]\n",
      "Epoch 27 - Validation: 100%|██████████| 26/26 [00:02<00:00, 10.18it/s]\n"
     ]
    },
    {
     "name": "stdout",
     "output_type": "stream",
     "text": [
      "Iteration 4 - Epoch 27:\n",
      "  Train Acc = 0.9976, Train Prec = 0.9976, Train Rec = 0.9976, Train F-Beta = 0.9976, Train Loss = 0.0128\n",
      "  Val Acc = 0.9438, Val Prec = 0.9460, Val Rec = 0.9438, Val F-Beta = 0.9447, Val Loss = 0.3604\n"
     ]
    },
    {
     "name": "stderr",
     "output_type": "stream",
     "text": [
      "Epoch 28 - Training: 100%|██████████| 103/103 [00:30<00:00,  3.34it/s]\n",
      "Epoch 28 - Validation: 100%|██████████| 26/26 [00:02<00:00, 10.17it/s]\n"
     ]
    },
    {
     "name": "stdout",
     "output_type": "stream",
     "text": [
      "Iteration 4 - Epoch 28:\n",
      "  Train Acc = 0.9982, Train Prec = 0.9982, Train Rec = 0.9982, Train F-Beta = 0.9982, Train Loss = 0.0084\n",
      "  Val Acc = 0.9512, Val Prec = 0.9518, Val Rec = 0.9512, Val F-Beta = 0.9514, Val Loss = 0.2977\n"
     ]
    },
    {
     "name": "stderr",
     "output_type": "stream",
     "text": [
      "Epoch 29 - Training: 100%|██████████| 103/103 [00:30<00:00,  3.33it/s]\n",
      "Epoch 29 - Validation: 100%|██████████| 26/26 [00:02<00:00, 10.18it/s]\n"
     ]
    },
    {
     "name": "stdout",
     "output_type": "stream",
     "text": [
      "Iteration 4 - Epoch 29:\n",
      "  Train Acc = 0.9948, Train Prec = 0.9948, Train Rec = 0.9948, Train F-Beta = 0.9948, Train Loss = 0.0249\n",
      "  Val Acc = 0.9365, Val Prec = 0.9411, Val Rec = 0.9365, Val F-Beta = 0.9390, Val Loss = 0.3529\n"
     ]
    },
    {
     "name": "stderr",
     "output_type": "stream",
     "text": [
      "Epoch 30 - Training: 100%|██████████| 103/103 [00:30<00:00,  3.34it/s]\n",
      "Epoch 30 - Validation: 100%|██████████| 26/26 [00:02<00:00, 10.18it/s]\n"
     ]
    },
    {
     "name": "stdout",
     "output_type": "stream",
     "text": [
      "Iteration 4 - Epoch 30:\n",
      "  Train Acc = 0.9963, Train Prec = 0.9964, Train Rec = 0.9963, Train F-Beta = 0.9963, Train Loss = 0.0180\n",
      "  Val Acc = 0.9512, Val Prec = 0.9527, Val Rec = 0.9512, Val F-Beta = 0.9518, Val Loss = 0.2979\n"
     ]
    },
    {
     "name": "stderr",
     "output_type": "stream",
     "text": [
      "Epoch 31 - Training: 100%|██████████| 103/103 [00:30<00:00,  3.34it/s]\n",
      "Epoch 31 - Validation: 100%|██████████| 26/26 [00:02<00:00, 10.19it/s]\n"
     ]
    },
    {
     "name": "stdout",
     "output_type": "stream",
     "text": [
      "Iteration 4 - Epoch 31:\n",
      "  Train Acc = 0.9988, Train Prec = 0.9988, Train Rec = 0.9988, Train F-Beta = 0.9988, Train Loss = 0.0092\n",
      "  Val Acc = 0.9512, Val Prec = 0.9532, Val Rec = 0.9512, Val F-Beta = 0.9522, Val Loss = 0.3186\n"
     ]
    },
    {
     "name": "stderr",
     "output_type": "stream",
     "text": [
      "Epoch 32 - Training: 100%|██████████| 103/103 [00:30<00:00,  3.33it/s]\n",
      "Epoch 32 - Validation: 100%|██████████| 26/26 [00:02<00:00, 10.18it/s]\n"
     ]
    },
    {
     "name": "stdout",
     "output_type": "stream",
     "text": [
      "Iteration 4 - Epoch 32:\n",
      "  Train Acc = 0.9991, Train Prec = 0.9991, Train Rec = 0.9991, Train F-Beta = 0.9991, Train Loss = 0.0050\n",
      "  Val Acc = 0.9621, Val Prec = 0.9632, Val Rec = 0.9621, Val F-Beta = 0.9626, Val Loss = 0.2779\n",
      "  Better model saved with 0.9626 F-beta score.\n"
     ]
    },
    {
     "name": "stderr",
     "output_type": "stream",
     "text": [
      "Epoch 33 - Training: 100%|██████████| 103/103 [00:30<00:00,  3.34it/s]\n",
      "Epoch 33 - Validation: 100%|██████████| 26/26 [00:02<00:00, 10.17it/s]\n"
     ]
    },
    {
     "name": "stdout",
     "output_type": "stream",
     "text": [
      "Iteration 4 - Epoch 33:\n",
      "  Train Acc = 1.0000, Train Prec = 1.0000, Train Rec = 1.0000, Train F-Beta = 1.0000, Train Loss = 0.0015\n",
      "  Val Acc = 0.9585, Val Prec = 0.9598, Val Rec = 0.9585, Val F-Beta = 0.9591, Val Loss = 0.2783\n"
     ]
    },
    {
     "name": "stderr",
     "output_type": "stream",
     "text": [
      "Epoch 34 - Training: 100%|██████████| 103/103 [00:30<00:00,  3.34it/s]\n",
      "Epoch 34 - Validation: 100%|██████████| 26/26 [00:02<00:00, 10.16it/s]\n"
     ]
    },
    {
     "name": "stdout",
     "output_type": "stream",
     "text": [
      "Iteration 4 - Epoch 34:\n",
      "  Train Acc = 1.0000, Train Prec = 1.0000, Train Rec = 1.0000, Train F-Beta = 1.0000, Train Loss = 0.0014\n",
      "  Val Acc = 0.9536, Val Prec = 0.9545, Val Rec = 0.9536, Val F-Beta = 0.9540, Val Loss = 0.2941\n"
     ]
    },
    {
     "name": "stderr",
     "output_type": "stream",
     "text": [
      "Epoch 35 - Training: 100%|██████████| 103/103 [00:30<00:00,  3.34it/s]\n",
      "Epoch 35 - Validation: 100%|██████████| 26/26 [00:02<00:00, 10.18it/s]\n"
     ]
    },
    {
     "name": "stdout",
     "output_type": "stream",
     "text": [
      "Iteration 4 - Epoch 35:\n",
      "  Train Acc = 0.9979, Train Prec = 0.9979, Train Rec = 0.9979, Train F-Beta = 0.9979, Train Loss = 0.0128\n",
      "  Val Acc = 0.9487, Val Prec = 0.9492, Val Rec = 0.9487, Val F-Beta = 0.9488, Val Loss = 0.3374\n"
     ]
    },
    {
     "name": "stderr",
     "output_type": "stream",
     "text": [
      "Epoch 36 - Training: 100%|██████████| 103/103 [00:30<00:00,  3.34it/s]\n",
      "Epoch 36 - Validation: 100%|██████████| 26/26 [00:02<00:00, 10.19it/s]\n"
     ]
    },
    {
     "name": "stdout",
     "output_type": "stream",
     "text": [
      "Iteration 4 - Epoch 36:\n",
      "  Train Acc = 0.9988, Train Prec = 0.9988, Train Rec = 0.9988, Train F-Beta = 0.9988, Train Loss = 0.0121\n",
      "  Val Acc = 0.9475, Val Prec = 0.9478, Val Rec = 0.9475, Val F-Beta = 0.9474, Val Loss = 0.3234\n"
     ]
    },
    {
     "name": "stderr",
     "output_type": "stream",
     "text": [
      "Epoch 37 - Training: 100%|██████████| 103/103 [00:30<00:00,  3.34it/s]\n",
      "Epoch 37 - Validation: 100%|██████████| 26/26 [00:02<00:00, 10.18it/s]\n"
     ]
    },
    {
     "name": "stdout",
     "output_type": "stream",
     "text": [
      "Iteration 4 - Epoch 37:\n",
      "  Train Acc = 0.9997, Train Prec = 0.9997, Train Rec = 0.9997, Train F-Beta = 0.9997, Train Loss = 0.0028\n",
      "  Val Acc = 0.9524, Val Prec = 0.9533, Val Rec = 0.9524, Val F-Beta = 0.9527, Val Loss = 0.3085\n"
     ]
    },
    {
     "name": "stderr",
     "output_type": "stream",
     "text": [
      "Epoch 38 - Training: 100%|██████████| 103/103 [00:30<00:00,  3.34it/s]\n",
      "Epoch 38 - Validation: 100%|██████████| 26/26 [00:02<00:00, 10.16it/s]\n"
     ]
    },
    {
     "name": "stdout",
     "output_type": "stream",
     "text": [
      "Iteration 4 - Epoch 38:\n",
      "  Train Acc = 0.9991, Train Prec = 0.9991, Train Rec = 0.9991, Train F-Beta = 0.9991, Train Loss = 0.0041\n",
      "  Val Acc = 0.9524, Val Prec = 0.9528, Val Rec = 0.9524, Val F-Beta = 0.9523, Val Loss = 0.3265\n"
     ]
    },
    {
     "name": "stderr",
     "output_type": "stream",
     "text": [
      "Epoch 39 - Training: 100%|██████████| 103/103 [00:30<00:00,  3.34it/s]\n",
      "Epoch 39 - Validation: 100%|██████████| 26/26 [00:02<00:00, 10.18it/s]\n"
     ]
    },
    {
     "name": "stdout",
     "output_type": "stream",
     "text": [
      "Iteration 4 - Epoch 39:\n",
      "  Train Acc = 0.9991, Train Prec = 0.9991, Train Rec = 0.9991, Train F-Beta = 0.9991, Train Loss = 0.0041\n",
      "  Val Acc = 0.9438, Val Prec = 0.9450, Val Rec = 0.9438, Val F-Beta = 0.9443, Val Loss = 0.3581\n"
     ]
    },
    {
     "name": "stderr",
     "output_type": "stream",
     "text": [
      "Epoch 40 - Training: 100%|██████████| 103/103 [00:30<00:00,  3.34it/s]\n",
      "Epoch 40 - Validation: 100%|██████████| 26/26 [00:02<00:00, 10.18it/s]\n"
     ]
    },
    {
     "name": "stdout",
     "output_type": "stream",
     "text": [
      "Iteration 4 - Epoch 40:\n",
      "  Train Acc = 0.9979, Train Prec = 0.9979, Train Rec = 0.9979, Train F-Beta = 0.9979, Train Loss = 0.0115\n",
      "  Val Acc = 0.9512, Val Prec = 0.9535, Val Rec = 0.9512, Val F-Beta = 0.9522, Val Loss = 0.3131\n",
      "Iteration 5/20\n"
     ]
    },
    {
     "name": "stderr",
     "output_type": "stream",
     "text": [
      "Some weights of ElectraForSequenceClassification were not initialized from the model checkpoint at beomi/KcELECTRA-base-v2022 and are newly initialized: ['classifier.dense.bias', 'classifier.dense.weight', 'classifier.out_proj.bias', 'classifier.out_proj.weight']\n",
      "You should probably TRAIN this model on a down-stream task to be able to use it for predictions and inference.\n",
      "Epoch 1 - Training: 100%|██████████| 103/103 [00:30<00:00,  3.34it/s]\n",
      "Epoch 1 - Validation: 100%|██████████| 26/26 [00:02<00:00, 10.19it/s]\n"
     ]
    },
    {
     "name": "stdout",
     "output_type": "stream",
     "text": [
      "Iteration 5 - Epoch 1:\n",
      "  Train Acc = 0.2675, Train Prec = 0.1906, Train Rec = 0.2675, Train F-Beta = 0.1509, Train Loss = 2.3570\n",
      "  Val Acc = 0.4420, Val Prec = 0.2840, Val Rec = 0.4420, Val F-Beta = 0.2836, Val Loss = 1.9102\n"
     ]
    },
    {
     "name": "stderr",
     "output_type": "stream",
     "text": [
      "Epoch 2 - Training: 100%|██████████| 103/103 [00:30<00:00,  3.34it/s]\n",
      "Epoch 2 - Validation: 100%|██████████| 26/26 [00:02<00:00, 10.17it/s]\n"
     ]
    },
    {
     "name": "stdout",
     "output_type": "stream",
     "text": [
      "Iteration 5 - Epoch 2:\n",
      "  Train Acc = 0.5832, Train Prec = 0.5642, Train Rec = 0.5832, Train F-Beta = 0.5078, Train Loss = 1.4529\n",
      "  Val Acc = 0.7302, Val Prec = 0.6537, Val Rec = 0.7302, Val F-Beta = 0.6450, Val Loss = 0.9826\n"
     ]
    },
    {
     "name": "stderr",
     "output_type": "stream",
     "text": [
      "Epoch 3 - Training: 100%|██████████| 103/103 [00:30<00:00,  3.33it/s]\n",
      "Epoch 3 - Validation: 100%|██████████| 26/26 [00:02<00:00, 10.17it/s]\n"
     ]
    },
    {
     "name": "stdout",
     "output_type": "stream",
     "text": [
      "Iteration 5 - Epoch 3:\n",
      "  Train Acc = 0.8464, Train Prec = 0.8606, Train Rec = 0.8464, Train F-Beta = 0.8382, Train Loss = 0.7255\n",
      "  Val Acc = 0.8791, Val Prec = 0.8926, Val Rec = 0.8791, Val F-Beta = 0.8786, Val Loss = 0.5091\n"
     ]
    },
    {
     "name": "stderr",
     "output_type": "stream",
     "text": [
      "Epoch 4 - Training: 100%|██████████| 103/103 [00:30<00:00,  3.33it/s]\n",
      "Epoch 4 - Validation: 100%|██████████| 26/26 [00:02<00:00, 10.18it/s]\n"
     ]
    },
    {
     "name": "stdout",
     "output_type": "stream",
     "text": [
      "Iteration 5 - Epoch 4:\n",
      "  Train Acc = 0.9591, Train Prec = 0.9594, Train Rec = 0.9591, Train F-Beta = 0.9591, Train Loss = 0.3143\n",
      "  Val Acc = 0.9182, Val Prec = 0.9251, Val Rec = 0.9182, Val F-Beta = 0.9216, Val Loss = 0.3347\n"
     ]
    },
    {
     "name": "stderr",
     "output_type": "stream",
     "text": [
      "Epoch 5 - Training: 100%|██████████| 103/103 [00:30<00:00,  3.33it/s]\n",
      "Epoch 5 - Validation: 100%|██████████| 26/26 [00:02<00:00, 10.18it/s]\n"
     ]
    },
    {
     "name": "stdout",
     "output_type": "stream",
     "text": [
      "Iteration 5 - Epoch 5:\n",
      "  Train Acc = 0.9759, Train Prec = 0.9760, Train Rec = 0.9759, Train F-Beta = 0.9760, Train Loss = 0.1677\n",
      "  Val Acc = 0.9267, Val Prec = 0.9333, Val Rec = 0.9267, Val F-Beta = 0.9307, Val Loss = 0.3160\n"
     ]
    },
    {
     "name": "stderr",
     "output_type": "stream",
     "text": [
      "Epoch 6 - Training: 100%|██████████| 103/103 [00:30<00:00,  3.33it/s]\n",
      "Epoch 6 - Validation: 100%|██████████| 26/26 [00:02<00:00, 10.18it/s]\n"
     ]
    },
    {
     "name": "stdout",
     "output_type": "stream",
     "text": [
      "Iteration 5 - Epoch 6:\n",
      "  Train Acc = 0.9853, Train Prec = 0.9854, Train Rec = 0.9853, Train F-Beta = 0.9854, Train Loss = 0.1079\n",
      "  Val Acc = 0.9292, Val Prec = 0.9320, Val Rec = 0.9292, Val F-Beta = 0.9304, Val Loss = 0.2858\n"
     ]
    },
    {
     "name": "stderr",
     "output_type": "stream",
     "text": [
      "Epoch 7 - Training: 100%|██████████| 103/103 [00:30<00:00,  3.34it/s]\n",
      "Epoch 7 - Validation: 100%|██████████| 26/26 [00:02<00:00, 10.19it/s]\n"
     ]
    },
    {
     "name": "stdout",
     "output_type": "stream",
     "text": [
      "Iteration 5 - Epoch 7:\n",
      "  Train Acc = 0.9945, Train Prec = 0.9945, Train Rec = 0.9945, Train F-Beta = 0.9945, Train Loss = 0.0571\n",
      "  Val Acc = 0.9451, Val Prec = 0.9484, Val Rec = 0.9451, Val F-Beta = 0.9469, Val Loss = 0.2525\n"
     ]
    },
    {
     "name": "stderr",
     "output_type": "stream",
     "text": [
      "Epoch 8 - Training: 100%|██████████| 103/103 [00:30<00:00,  3.34it/s]\n",
      "Epoch 8 - Validation: 100%|██████████| 26/26 [00:02<00:00, 10.18it/s]\n"
     ]
    },
    {
     "name": "stdout",
     "output_type": "stream",
     "text": [
      "Iteration 5 - Epoch 8:\n",
      "  Train Acc = 0.9957, Train Prec = 0.9957, Train Rec = 0.9957, Train F-Beta = 0.9957, Train Loss = 0.0379\n",
      "  Val Acc = 0.9402, Val Prec = 0.9425, Val Rec = 0.9402, Val F-Beta = 0.9411, Val Loss = 0.2712\n"
     ]
    },
    {
     "name": "stderr",
     "output_type": "stream",
     "text": [
      "Epoch 9 - Training: 100%|██████████| 103/103 [00:30<00:00,  3.34it/s]\n",
      "Epoch 9 - Validation: 100%|██████████| 26/26 [00:02<00:00, 10.17it/s]\n"
     ]
    },
    {
     "name": "stdout",
     "output_type": "stream",
     "text": [
      "Iteration 5 - Epoch 9:\n",
      "  Train Acc = 0.9963, Train Prec = 0.9963, Train Rec = 0.9963, Train F-Beta = 0.9963, Train Loss = 0.0313\n",
      "  Val Acc = 0.9475, Val Prec = 0.9500, Val Rec = 0.9475, Val F-Beta = 0.9486, Val Loss = 0.2596\n"
     ]
    },
    {
     "name": "stderr",
     "output_type": "stream",
     "text": [
      "Epoch 10 - Training: 100%|██████████| 103/103 [00:30<00:00,  3.34it/s]\n",
      "Epoch 10 - Validation: 100%|██████████| 26/26 [00:02<00:00, 10.18it/s]\n"
     ]
    },
    {
     "name": "stdout",
     "output_type": "stream",
     "text": [
      "Iteration 5 - Epoch 10:\n",
      "  Train Acc = 0.9982, Train Prec = 0.9982, Train Rec = 0.9982, Train F-Beta = 0.9982, Train Loss = 0.0202\n",
      "  Val Acc = 0.9451, Val Prec = 0.9481, Val Rec = 0.9451, Val F-Beta = 0.9467, Val Loss = 0.2689\n"
     ]
    },
    {
     "name": "stderr",
     "output_type": "stream",
     "text": [
      "Epoch 11 - Training: 100%|██████████| 103/103 [00:30<00:00,  3.33it/s]\n",
      "Epoch 11 - Validation: 100%|██████████| 26/26 [00:02<00:00, 10.16it/s]\n"
     ]
    },
    {
     "name": "stdout",
     "output_type": "stream",
     "text": [
      "Iteration 5 - Epoch 11:\n",
      "  Train Acc = 0.9991, Train Prec = 0.9991, Train Rec = 0.9991, Train F-Beta = 0.9991, Train Loss = 0.0165\n",
      "  Val Acc = 0.9524, Val Prec = 0.9544, Val Rec = 0.9524, Val F-Beta = 0.9534, Val Loss = 0.2565\n",
      "  Better model saved with 0.9534 F-beta score.\n"
     ]
    },
    {
     "name": "stderr",
     "output_type": "stream",
     "text": [
      "Epoch 12 - Training: 100%|██████████| 103/103 [00:30<00:00,  3.33it/s]\n",
      "Epoch 12 - Validation: 100%|██████████| 26/26 [00:02<00:00, 10.18it/s]\n"
     ]
    },
    {
     "name": "stdout",
     "output_type": "stream",
     "text": [
      "Iteration 5 - Epoch 12:\n",
      "  Train Acc = 0.9994, Train Prec = 0.9994, Train Rec = 0.9994, Train F-Beta = 0.9994, Train Loss = 0.0127\n",
      "  Val Acc = 0.9548, Val Prec = 0.9571, Val Rec = 0.9548, Val F-Beta = 0.9561, Val Loss = 0.2594\n",
      "  Better model saved with 0.9561 F-beta score.\n"
     ]
    },
    {
     "name": "stderr",
     "output_type": "stream",
     "text": [
      "Epoch 13 - Training: 100%|██████████| 103/103 [00:30<00:00,  3.34it/s]\n",
      "Epoch 13 - Validation: 100%|██████████| 26/26 [00:02<00:00, 10.18it/s]\n"
     ]
    },
    {
     "name": "stdout",
     "output_type": "stream",
     "text": [
      "Iteration 5 - Epoch 13:\n",
      "  Train Acc = 0.9973, Train Prec = 0.9973, Train Rec = 0.9973, Train F-Beta = 0.9973, Train Loss = 0.0179\n",
      "  Val Acc = 0.9512, Val Prec = 0.9514, Val Rec = 0.9512, Val F-Beta = 0.9511, Val Loss = 0.2589\n"
     ]
    },
    {
     "name": "stderr",
     "output_type": "stream",
     "text": [
      "Epoch 14 - Training: 100%|██████████| 103/103 [00:30<00:00,  3.34it/s]\n",
      "Epoch 14 - Validation: 100%|██████████| 26/26 [00:02<00:00, 10.18it/s]\n"
     ]
    },
    {
     "name": "stdout",
     "output_type": "stream",
     "text": [
      "Iteration 5 - Epoch 14:\n",
      "  Train Acc = 0.9881, Train Prec = 0.9881, Train Rec = 0.9881, Train F-Beta = 0.9881, Train Loss = 0.0472\n",
      "  Val Acc = 0.9328, Val Prec = 0.9363, Val Rec = 0.9328, Val F-Beta = 0.9341, Val Loss = 0.3483\n"
     ]
    },
    {
     "name": "stderr",
     "output_type": "stream",
     "text": [
      "Epoch 15 - Training: 100%|██████████| 103/103 [00:30<00:00,  3.34it/s]\n",
      "Epoch 15 - Validation: 100%|██████████| 26/26 [00:02<00:00, 10.18it/s]\n"
     ]
    },
    {
     "name": "stdout",
     "output_type": "stream",
     "text": [
      "Iteration 5 - Epoch 15:\n",
      "  Train Acc = 0.9942, Train Prec = 0.9942, Train Rec = 0.9942, Train F-Beta = 0.9942, Train Loss = 0.0309\n",
      "  Val Acc = 0.9353, Val Prec = 0.9388, Val Rec = 0.9353, Val F-Beta = 0.9369, Val Loss = 0.3571\n"
     ]
    },
    {
     "name": "stderr",
     "output_type": "stream",
     "text": [
      "Epoch 16 - Training: 100%|██████████| 103/103 [00:30<00:00,  3.34it/s]\n",
      "Epoch 16 - Validation: 100%|██████████| 26/26 [00:02<00:00, 10.17it/s]\n"
     ]
    },
    {
     "name": "stdout",
     "output_type": "stream",
     "text": [
      "Iteration 5 - Epoch 16:\n",
      "  Train Acc = 0.9957, Train Prec = 0.9957, Train Rec = 0.9957, Train F-Beta = 0.9957, Train Loss = 0.0222\n",
      "  Val Acc = 0.9389, Val Prec = 0.9419, Val Rec = 0.9389, Val F-Beta = 0.9404, Val Loss = 0.3335\n"
     ]
    },
    {
     "name": "stderr",
     "output_type": "stream",
     "text": [
      "Epoch 17 - Training: 100%|██████████| 103/103 [00:30<00:00,  3.33it/s]\n",
      "Epoch 17 - Validation: 100%|██████████| 26/26 [00:02<00:00, 10.17it/s]\n"
     ]
    },
    {
     "name": "stdout",
     "output_type": "stream",
     "text": [
      "Iteration 5 - Epoch 17:\n",
      "  Train Acc = 0.9942, Train Prec = 0.9942, Train Rec = 0.9942, Train F-Beta = 0.9942, Train Loss = 0.0222\n",
      "  Val Acc = 0.9353, Val Prec = 0.9373, Val Rec = 0.9353, Val F-Beta = 0.9361, Val Loss = 0.3596\n"
     ]
    },
    {
     "name": "stderr",
     "output_type": "stream",
     "text": [
      "Epoch 18 - Training: 100%|██████████| 103/103 [00:30<00:00,  3.34it/s]\n",
      "Epoch 18 - Validation: 100%|██████████| 26/26 [00:02<00:00, 10.17it/s]\n"
     ]
    },
    {
     "name": "stdout",
     "output_type": "stream",
     "text": [
      "Iteration 5 - Epoch 18:\n",
      "  Train Acc = 0.9973, Train Prec = 0.9973, Train Rec = 0.9973, Train F-Beta = 0.9972, Train Loss = 0.0169\n",
      "  Val Acc = 0.9206, Val Prec = 0.9284, Val Rec = 0.9206, Val F-Beta = 0.9239, Val Loss = 0.4547\n"
     ]
    },
    {
     "name": "stderr",
     "output_type": "stream",
     "text": [
      "Epoch 19 - Training: 100%|██████████| 103/103 [00:30<00:00,  3.34it/s]\n",
      "Epoch 19 - Validation: 100%|██████████| 26/26 [00:02<00:00, 10.16it/s]\n"
     ]
    },
    {
     "name": "stdout",
     "output_type": "stream",
     "text": [
      "Iteration 5 - Epoch 19:\n",
      "  Train Acc = 0.9973, Train Prec = 0.9973, Train Rec = 0.9973, Train F-Beta = 0.9973, Train Loss = 0.0138\n",
      "  Val Acc = 0.9365, Val Prec = 0.9391, Val Rec = 0.9365, Val F-Beta = 0.9375, Val Loss = 0.3995\n"
     ]
    },
    {
     "name": "stderr",
     "output_type": "stream",
     "text": [
      "Epoch 20 - Training: 100%|██████████| 103/103 [00:30<00:00,  3.34it/s]\n",
      "Epoch 20 - Validation: 100%|██████████| 26/26 [00:02<00:00, 10.18it/s]\n"
     ]
    },
    {
     "name": "stdout",
     "output_type": "stream",
     "text": [
      "Iteration 5 - Epoch 20:\n",
      "  Train Acc = 0.9976, Train Prec = 0.9976, Train Rec = 0.9976, Train F-Beta = 0.9976, Train Loss = 0.0131\n",
      "  Val Acc = 0.9402, Val Prec = 0.9425, Val Rec = 0.9402, Val F-Beta = 0.9409, Val Loss = 0.3456\n"
     ]
    },
    {
     "name": "stderr",
     "output_type": "stream",
     "text": [
      "Epoch 21 - Training: 100%|██████████| 103/103 [00:30<00:00,  3.34it/s]\n",
      "Epoch 21 - Validation: 100%|██████████| 26/26 [00:02<00:00, 10.18it/s]\n"
     ]
    },
    {
     "name": "stdout",
     "output_type": "stream",
     "text": [
      "Iteration 5 - Epoch 21:\n",
      "  Train Acc = 0.9982, Train Prec = 0.9982, Train Rec = 0.9982, Train F-Beta = 0.9982, Train Loss = 0.0089\n",
      "  Val Acc = 0.9451, Val Prec = 0.9456, Val Rec = 0.9451, Val F-Beta = 0.9452, Val Loss = 0.3152\n"
     ]
    },
    {
     "name": "stderr",
     "output_type": "stream",
     "text": [
      "Epoch 22 - Training: 100%|██████████| 103/103 [00:30<00:00,  3.33it/s]\n",
      "Epoch 22 - Validation: 100%|██████████| 26/26 [00:02<00:00, 10.17it/s]\n"
     ]
    },
    {
     "name": "stdout",
     "output_type": "stream",
     "text": [
      "Iteration 5 - Epoch 22:\n",
      "  Train Acc = 0.9997, Train Prec = 0.9997, Train Rec = 0.9997, Train F-Beta = 0.9997, Train Loss = 0.0044\n",
      "  Val Acc = 0.9438, Val Prec = 0.9458, Val Rec = 0.9438, Val F-Beta = 0.9448, Val Loss = 0.3261\n"
     ]
    },
    {
     "name": "stderr",
     "output_type": "stream",
     "text": [
      "Epoch 23 - Training: 100%|██████████| 103/103 [00:30<00:00,  3.33it/s]\n",
      "Epoch 23 - Validation: 100%|██████████| 26/26 [00:02<00:00, 10.18it/s]\n"
     ]
    },
    {
     "name": "stdout",
     "output_type": "stream",
     "text": [
      "Iteration 5 - Epoch 23:\n",
      "  Train Acc = 0.9994, Train Prec = 0.9994, Train Rec = 0.9994, Train F-Beta = 0.9994, Train Loss = 0.0035\n",
      "  Val Acc = 0.9402, Val Prec = 0.9410, Val Rec = 0.9402, Val F-Beta = 0.9402, Val Loss = 0.3269\n"
     ]
    },
    {
     "name": "stderr",
     "output_type": "stream",
     "text": [
      "Epoch 24 - Training: 100%|██████████| 103/103 [00:30<00:00,  3.34it/s]\n",
      "Epoch 24 - Validation: 100%|██████████| 26/26 [00:02<00:00, 10.18it/s]\n"
     ]
    },
    {
     "name": "stdout",
     "output_type": "stream",
     "text": [
      "Iteration 5 - Epoch 24:\n",
      "  Train Acc = 0.9997, Train Prec = 0.9997, Train Rec = 0.9997, Train F-Beta = 0.9997, Train Loss = 0.0051\n",
      "  Val Acc = 0.9402, Val Prec = 0.9408, Val Rec = 0.9402, Val F-Beta = 0.9401, Val Loss = 0.3409\n"
     ]
    },
    {
     "name": "stderr",
     "output_type": "stream",
     "text": [
      "Epoch 25 - Training: 100%|██████████| 103/103 [00:30<00:00,  3.33it/s]\n",
      "Epoch 25 - Validation: 100%|██████████| 26/26 [00:02<00:00, 10.18it/s]\n"
     ]
    },
    {
     "name": "stdout",
     "output_type": "stream",
     "text": [
      "Iteration 5 - Epoch 25:\n",
      "  Train Acc = 0.9948, Train Prec = 0.9948, Train Rec = 0.9948, Train F-Beta = 0.9948, Train Loss = 0.0264\n",
      "  Val Acc = 0.9414, Val Prec = 0.9426, Val Rec = 0.9414, Val F-Beta = 0.9419, Val Loss = 0.3209\n"
     ]
    },
    {
     "name": "stderr",
     "output_type": "stream",
     "text": [
      "Epoch 26 - Training: 100%|██████████| 103/103 [00:30<00:00,  3.33it/s]\n",
      "Epoch 26 - Validation: 100%|██████████| 26/26 [00:02<00:00, 10.18it/s]\n"
     ]
    },
    {
     "name": "stdout",
     "output_type": "stream",
     "text": [
      "Iteration 5 - Epoch 26:\n",
      "  Train Acc = 0.9960, Train Prec = 0.9960, Train Rec = 0.9960, Train F-Beta = 0.9960, Train Loss = 0.0210\n",
      "  Val Acc = 0.9426, Val Prec = 0.9460, Val Rec = 0.9426, Val F-Beta = 0.9443, Val Loss = 0.3553\n"
     ]
    },
    {
     "name": "stderr",
     "output_type": "stream",
     "text": [
      "Epoch 27 - Training: 100%|██████████| 103/103 [00:30<00:00,  3.33it/s]\n",
      "Epoch 27 - Validation: 100%|██████████| 26/26 [00:02<00:00, 10.18it/s]\n"
     ]
    },
    {
     "name": "stdout",
     "output_type": "stream",
     "text": [
      "Iteration 5 - Epoch 27:\n",
      "  Train Acc = 0.9966, Train Prec = 0.9966, Train Rec = 0.9966, Train F-Beta = 0.9966, Train Loss = 0.0152\n",
      "  Val Acc = 0.9414, Val Prec = 0.9440, Val Rec = 0.9414, Val F-Beta = 0.9425, Val Loss = 0.3540\n"
     ]
    },
    {
     "name": "stderr",
     "output_type": "stream",
     "text": [
      "Epoch 28 - Training: 100%|██████████| 103/103 [00:30<00:00,  3.33it/s]\n",
      "Epoch 28 - Validation: 100%|██████████| 26/26 [00:02<00:00, 10.18it/s]\n"
     ]
    },
    {
     "name": "stdout",
     "output_type": "stream",
     "text": [
      "Iteration 5 - Epoch 28:\n",
      "  Train Acc = 0.9948, Train Prec = 0.9948, Train Rec = 0.9948, Train F-Beta = 0.9948, Train Loss = 0.0183\n",
      "  Val Acc = 0.9414, Val Prec = 0.9444, Val Rec = 0.9414, Val F-Beta = 0.9429, Val Loss = 0.3839\n"
     ]
    },
    {
     "name": "stderr",
     "output_type": "stream",
     "text": [
      "Epoch 29 - Training: 100%|██████████| 103/103 [00:30<00:00,  3.34it/s]\n",
      "Epoch 29 - Validation: 100%|██████████| 26/26 [00:02<00:00, 10.17it/s]\n"
     ]
    },
    {
     "name": "stdout",
     "output_type": "stream",
     "text": [
      "Iteration 5 - Epoch 29:\n",
      "  Train Acc = 0.9988, Train Prec = 0.9988, Train Rec = 0.9988, Train F-Beta = 0.9988, Train Loss = 0.0088\n",
      "  Val Acc = 0.9426, Val Prec = 0.9455, Val Rec = 0.9426, Val F-Beta = 0.9439, Val Loss = 0.3493\n"
     ]
    },
    {
     "name": "stderr",
     "output_type": "stream",
     "text": [
      "Epoch 30 - Training: 100%|██████████| 103/103 [00:30<00:00,  3.34it/s]\n",
      "Epoch 30 - Validation: 100%|██████████| 26/26 [00:02<00:00, 10.17it/s]\n"
     ]
    },
    {
     "name": "stdout",
     "output_type": "stream",
     "text": [
      "Iteration 5 - Epoch 30:\n",
      "  Train Acc = 1.0000, Train Prec = 1.0000, Train Rec = 1.0000, Train F-Beta = 1.0000, Train Loss = 0.0020\n",
      "  Val Acc = 0.9487, Val Prec = 0.9507, Val Rec = 0.9487, Val F-Beta = 0.9497, Val Loss = 0.3260\n"
     ]
    },
    {
     "name": "stderr",
     "output_type": "stream",
     "text": [
      "Epoch 31 - Training: 100%|██████████| 103/103 [00:30<00:00,  3.34it/s]\n",
      "Epoch 31 - Validation: 100%|██████████| 26/26 [00:02<00:00, 10.17it/s]\n"
     ]
    },
    {
     "name": "stdout",
     "output_type": "stream",
     "text": [
      "Iteration 5 - Epoch 31:\n",
      "  Train Acc = 0.9997, Train Prec = 0.9997, Train Rec = 0.9997, Train F-Beta = 0.9997, Train Loss = 0.0022\n",
      "  Val Acc = 0.9487, Val Prec = 0.9507, Val Rec = 0.9487, Val F-Beta = 0.9497, Val Loss = 0.3330\n"
     ]
    },
    {
     "name": "stderr",
     "output_type": "stream",
     "text": [
      "Epoch 32 - Training: 100%|██████████| 103/103 [00:30<00:00,  3.34it/s]\n",
      "Epoch 32 - Validation: 100%|██████████| 26/26 [00:02<00:00, 10.19it/s]\n"
     ]
    },
    {
     "name": "stdout",
     "output_type": "stream",
     "text": [
      "Iteration 5 - Epoch 32:\n",
      "  Train Acc = 1.0000, Train Prec = 1.0000, Train Rec = 1.0000, Train F-Beta = 1.0000, Train Loss = 0.0015\n",
      "  Val Acc = 0.9475, Val Prec = 0.9493, Val Rec = 0.9475, Val F-Beta = 0.9485, Val Loss = 0.3376\n"
     ]
    },
    {
     "name": "stderr",
     "output_type": "stream",
     "text": [
      "Epoch 33 - Training: 100%|██████████| 103/103 [00:30<00:00,  3.34it/s]\n",
      "Epoch 33 - Validation: 100%|██████████| 26/26 [00:02<00:00, 10.16it/s]\n"
     ]
    },
    {
     "name": "stdout",
     "output_type": "stream",
     "text": [
      "Iteration 5 - Epoch 33:\n",
      "  Train Acc = 0.9976, Train Prec = 0.9976, Train Rec = 0.9976, Train F-Beta = 0.9976, Train Loss = 0.0096\n",
      "  Val Acc = 0.9426, Val Prec = 0.9446, Val Rec = 0.9426, Val F-Beta = 0.9435, Val Loss = 0.3636\n"
     ]
    },
    {
     "name": "stderr",
     "output_type": "stream",
     "text": [
      "Epoch 34 - Training: 100%|██████████| 103/103 [00:30<00:00,  3.34it/s]\n",
      "Epoch 34 - Validation: 100%|██████████| 26/26 [00:02<00:00, 10.17it/s]\n"
     ]
    },
    {
     "name": "stdout",
     "output_type": "stream",
     "text": [
      "Iteration 5 - Epoch 34:\n",
      "  Train Acc = 0.9985, Train Prec = 0.9985, Train Rec = 0.9985, Train F-Beta = 0.9985, Train Loss = 0.0080\n",
      "  Val Acc = 0.9328, Val Prec = 0.9390, Val Rec = 0.9328, Val F-Beta = 0.9355, Val Loss = 0.4244\n"
     ]
    },
    {
     "name": "stderr",
     "output_type": "stream",
     "text": [
      "Epoch 35 - Training: 100%|██████████| 103/103 [00:30<00:00,  3.34it/s]\n",
      "Epoch 35 - Validation: 100%|██████████| 26/26 [00:02<00:00, 10.18it/s]\n"
     ]
    },
    {
     "name": "stdout",
     "output_type": "stream",
     "text": [
      "Iteration 5 - Epoch 35:\n",
      "  Train Acc = 0.9976, Train Prec = 0.9976, Train Rec = 0.9976, Train F-Beta = 0.9976, Train Loss = 0.0109\n",
      "  Val Acc = 0.9438, Val Prec = 0.9448, Val Rec = 0.9438, Val F-Beta = 0.9442, Val Loss = 0.3450\n"
     ]
    },
    {
     "name": "stderr",
     "output_type": "stream",
     "text": [
      "Epoch 36 - Training: 100%|██████████| 103/103 [00:30<00:00,  3.34it/s]\n",
      "Epoch 36 - Validation: 100%|██████████| 26/26 [00:02<00:00, 10.17it/s]\n"
     ]
    },
    {
     "name": "stdout",
     "output_type": "stream",
     "text": [
      "Iteration 5 - Epoch 36:\n",
      "  Train Acc = 0.9985, Train Prec = 0.9985, Train Rec = 0.9985, Train F-Beta = 0.9985, Train Loss = 0.0066\n",
      "  Val Acc = 0.9451, Val Prec = 0.9466, Val Rec = 0.9451, Val F-Beta = 0.9459, Val Loss = 0.3417\n"
     ]
    },
    {
     "name": "stderr",
     "output_type": "stream",
     "text": [
      "Epoch 37 - Training: 100%|██████████| 103/103 [00:30<00:00,  3.34it/s]\n",
      "Epoch 37 - Validation: 100%|██████████| 26/26 [00:02<00:00, 10.17it/s]\n"
     ]
    },
    {
     "name": "stdout",
     "output_type": "stream",
     "text": [
      "Iteration 5 - Epoch 37:\n",
      "  Train Acc = 0.9991, Train Prec = 0.9991, Train Rec = 0.9991, Train F-Beta = 0.9991, Train Loss = 0.0065\n",
      "  Val Acc = 0.9524, Val Prec = 0.9533, Val Rec = 0.9524, Val F-Beta = 0.9528, Val Loss = 0.3317\n"
     ]
    },
    {
     "name": "stderr",
     "output_type": "stream",
     "text": [
      "Epoch 38 - Training: 100%|██████████| 103/103 [00:30<00:00,  3.33it/s]\n",
      "Epoch 38 - Validation: 100%|██████████| 26/26 [00:02<00:00, 10.17it/s]\n"
     ]
    },
    {
     "name": "stdout",
     "output_type": "stream",
     "text": [
      "Iteration 5 - Epoch 38:\n",
      "  Train Acc = 0.9957, Train Prec = 0.9957, Train Rec = 0.9957, Train F-Beta = 0.9957, Train Loss = 0.0131\n",
      "  Val Acc = 0.9365, Val Prec = 0.9439, Val Rec = 0.9365, Val F-Beta = 0.9407, Val Loss = 0.4526\n"
     ]
    },
    {
     "name": "stderr",
     "output_type": "stream",
     "text": [
      "Epoch 39 - Training: 100%|██████████| 103/103 [00:30<00:00,  3.33it/s]\n",
      "Epoch 39 - Validation: 100%|██████████| 26/26 [00:02<00:00, 10.17it/s]\n"
     ]
    },
    {
     "name": "stdout",
     "output_type": "stream",
     "text": [
      "Iteration 5 - Epoch 39:\n",
      "  Train Acc = 0.9960, Train Prec = 0.9960, Train Rec = 0.9960, Train F-Beta = 0.9960, Train Loss = 0.0167\n",
      "  Val Acc = 0.9585, Val Prec = 0.9602, Val Rec = 0.9585, Val F-Beta = 0.9591, Val Loss = 0.3577\n",
      "  Better model saved with 0.9591 F-beta score.\n"
     ]
    },
    {
     "name": "stderr",
     "output_type": "stream",
     "text": [
      "Epoch 40 - Training: 100%|██████████| 103/103 [00:30<00:00,  3.34it/s]\n",
      "Epoch 40 - Validation: 100%|██████████| 26/26 [00:02<00:00, 10.17it/s]\n"
     ]
    },
    {
     "name": "stdout",
     "output_type": "stream",
     "text": [
      "Iteration 5 - Epoch 40:\n",
      "  Train Acc = 0.9985, Train Prec = 0.9985, Train Rec = 0.9985, Train F-Beta = 0.9985, Train Loss = 0.0090\n",
      "  Val Acc = 0.9487, Val Prec = 0.9504, Val Rec = 0.9487, Val F-Beta = 0.9496, Val Loss = 0.3391\n",
      "Iteration 6/20\n"
     ]
    },
    {
     "name": "stderr",
     "output_type": "stream",
     "text": [
      "Some weights of ElectraForSequenceClassification were not initialized from the model checkpoint at beomi/KcELECTRA-base-v2022 and are newly initialized: ['classifier.dense.bias', 'classifier.dense.weight', 'classifier.out_proj.bias', 'classifier.out_proj.weight']\n",
      "You should probably TRAIN this model on a down-stream task to be able to use it for predictions and inference.\n",
      "Epoch 1 - Training: 100%|██████████| 103/103 [00:30<00:00,  3.34it/s]\n",
      "Epoch 1 - Validation: 100%|██████████| 26/26 [00:02<00:00, 10.15it/s]\n"
     ]
    },
    {
     "name": "stdout",
     "output_type": "stream",
     "text": [
      "Iteration 6 - Epoch 1:\n",
      "  Train Acc = 0.2711, Train Prec = 0.2500, Train Rec = 0.2711, Train F-Beta = 0.1469, Train Loss = 2.3202\n",
      "  Val Acc = 0.4554, Val Prec = 0.3604, Val Rec = 0.4554, Val F-Beta = 0.3403, Val Loss = 1.8103\n"
     ]
    },
    {
     "name": "stderr",
     "output_type": "stream",
     "text": [
      "Epoch 2 - Training: 100%|██████████| 103/103 [00:30<00:00,  3.34it/s]\n",
      "Epoch 2 - Validation: 100%|██████████| 26/26 [00:02<00:00, 10.18it/s]\n"
     ]
    },
    {
     "name": "stdout",
     "output_type": "stream",
     "text": [
      "Iteration 6 - Epoch 2:\n",
      "  Train Acc = 0.6171, Train Prec = 0.6612, Train Rec = 0.6171, Train F-Beta = 0.5554, Train Loss = 1.4120\n",
      "  Val Acc = 0.7631, Val Prec = 0.7269, Val Rec = 0.7631, Val F-Beta = 0.7156, Val Loss = 0.9694\n"
     ]
    },
    {
     "name": "stderr",
     "output_type": "stream",
     "text": [
      "Epoch 3 - Training: 100%|██████████| 103/103 [00:30<00:00,  3.34it/s]\n",
      "Epoch 3 - Validation: 100%|██████████| 26/26 [00:02<00:00, 10.18it/s]\n"
     ]
    },
    {
     "name": "stdout",
     "output_type": "stream",
     "text": [
      "Iteration 6 - Epoch 3:\n",
      "  Train Acc = 0.8513, Train Prec = 0.8690, Train Rec = 0.8513, Train F-Beta = 0.8397, Train Loss = 0.7179\n",
      "  Val Acc = 0.8791, Val Prec = 0.8941, Val Rec = 0.8791, Val F-Beta = 0.8685, Val Loss = 0.4895\n"
     ]
    },
    {
     "name": "stderr",
     "output_type": "stream",
     "text": [
      "Epoch 4 - Training: 100%|██████████| 103/103 [00:30<00:00,  3.34it/s]\n",
      "Epoch 4 - Validation: 100%|██████████| 26/26 [00:02<00:00, 10.17it/s]\n"
     ]
    },
    {
     "name": "stdout",
     "output_type": "stream",
     "text": [
      "Iteration 6 - Epoch 4:\n",
      "  Train Acc = 0.9487, Train Prec = 0.9511, Train Rec = 0.9487, Train F-Beta = 0.9488, Train Loss = 0.3292\n",
      "  Val Acc = 0.9328, Val Prec = 0.9377, Val Rec = 0.9328, Val F-Beta = 0.9354, Val Loss = 0.3315\n"
     ]
    },
    {
     "name": "stderr",
     "output_type": "stream",
     "text": [
      "Epoch 5 - Training: 100%|██████████| 103/103 [00:30<00:00,  3.34it/s]\n",
      "Epoch 5 - Validation: 100%|██████████| 26/26 [00:02<00:00, 10.18it/s]\n"
     ]
    },
    {
     "name": "stdout",
     "output_type": "stream",
     "text": [
      "Iteration 6 - Epoch 5:\n",
      "  Train Acc = 0.9774, Train Prec = 0.9775, Train Rec = 0.9774, Train F-Beta = 0.9775, Train Loss = 0.1641\n",
      "  Val Acc = 0.9475, Val Prec = 0.9506, Val Rec = 0.9475, Val F-Beta = 0.9494, Val Loss = 0.2459\n"
     ]
    },
    {
     "name": "stderr",
     "output_type": "stream",
     "text": [
      "Epoch 6 - Training: 100%|██████████| 103/103 [00:30<00:00,  3.34it/s]\n",
      "Epoch 6 - Validation: 100%|██████████| 26/26 [00:02<00:00, 10.18it/s]\n"
     ]
    },
    {
     "name": "stdout",
     "output_type": "stream",
     "text": [
      "Iteration 6 - Epoch 6:\n",
      "  Train Acc = 0.9823, Train Prec = 0.9824, Train Rec = 0.9823, Train F-Beta = 0.9823, Train Loss = 0.1094\n",
      "  Val Acc = 0.9377, Val Prec = 0.9401, Val Rec = 0.9377, Val F-Beta = 0.9386, Val Loss = 0.2607\n"
     ]
    },
    {
     "name": "stderr",
     "output_type": "stream",
     "text": [
      "Epoch 7 - Training: 100%|██████████| 103/103 [00:30<00:00,  3.34it/s]\n",
      "Epoch 7 - Validation: 100%|██████████| 26/26 [00:02<00:00, 10.17it/s]\n"
     ]
    },
    {
     "name": "stdout",
     "output_type": "stream",
     "text": [
      "Iteration 6 - Epoch 7:\n",
      "  Train Acc = 0.9924, Train Prec = 0.9924, Train Rec = 0.9924, Train F-Beta = 0.9924, Train Loss = 0.0639\n",
      "  Val Acc = 0.9463, Val Prec = 0.9488, Val Rec = 0.9463, Val F-Beta = 0.9476, Val Loss = 0.2367\n"
     ]
    },
    {
     "name": "stderr",
     "output_type": "stream",
     "text": [
      "Epoch 8 - Training: 100%|██████████| 103/103 [00:30<00:00,  3.34it/s]\n",
      "Epoch 8 - Validation: 100%|██████████| 26/26 [00:02<00:00, 10.18it/s]\n"
     ]
    },
    {
     "name": "stdout",
     "output_type": "stream",
     "text": [
      "Iteration 6 - Epoch 8:\n",
      "  Train Acc = 0.9927, Train Prec = 0.9927, Train Rec = 0.9927, Train F-Beta = 0.9927, Train Loss = 0.0537\n",
      "  Val Acc = 0.9487, Val Prec = 0.9500, Val Rec = 0.9487, Val F-Beta = 0.9493, Val Loss = 0.2678\n"
     ]
    },
    {
     "name": "stderr",
     "output_type": "stream",
     "text": [
      "Epoch 9 - Training: 100%|██████████| 103/103 [00:30<00:00,  3.34it/s]\n",
      "Epoch 9 - Validation: 100%|██████████| 26/26 [00:02<00:00, 10.17it/s]\n"
     ]
    },
    {
     "name": "stdout",
     "output_type": "stream",
     "text": [
      "Iteration 6 - Epoch 9:\n",
      "  Train Acc = 0.9973, Train Prec = 0.9973, Train Rec = 0.9973, Train F-Beta = 0.9973, Train Loss = 0.0311\n",
      "  Val Acc = 0.9597, Val Prec = 0.9616, Val Rec = 0.9597, Val F-Beta = 0.9606, Val Loss = 0.2222\n",
      "  Better model saved with 0.9606 F-beta score.\n"
     ]
    },
    {
     "name": "stderr",
     "output_type": "stream",
     "text": [
      "Epoch 10 - Training: 100%|██████████| 103/103 [00:30<00:00,  3.33it/s]\n",
      "Epoch 10 - Validation: 100%|██████████| 26/26 [00:02<00:00, 10.18it/s]\n"
     ]
    },
    {
     "name": "stdout",
     "output_type": "stream",
     "text": [
      "Iteration 6 - Epoch 10:\n",
      "  Train Acc = 0.9982, Train Prec = 0.9982, Train Rec = 0.9982, Train F-Beta = 0.9982, Train Loss = 0.0233\n",
      "  Val Acc = 0.9560, Val Prec = 0.9569, Val Rec = 0.9560, Val F-Beta = 0.9563, Val Loss = 0.2079\n"
     ]
    },
    {
     "name": "stderr",
     "output_type": "stream",
     "text": [
      "Epoch 11 - Training: 100%|██████████| 103/103 [00:30<00:00,  3.34it/s]\n",
      "Epoch 11 - Validation: 100%|██████████| 26/26 [00:02<00:00, 10.18it/s]\n"
     ]
    },
    {
     "name": "stdout",
     "output_type": "stream",
     "text": [
      "Iteration 6 - Epoch 11:\n",
      "  Train Acc = 0.9988, Train Prec = 0.9988, Train Rec = 0.9988, Train F-Beta = 0.9988, Train Loss = 0.0175\n",
      "  Val Acc = 0.9548, Val Prec = 0.9563, Val Rec = 0.9548, Val F-Beta = 0.9556, Val Loss = 0.2343\n"
     ]
    },
    {
     "name": "stderr",
     "output_type": "stream",
     "text": [
      "Epoch 12 - Training: 100%|██████████| 103/103 [00:30<00:00,  3.34it/s]\n",
      "Epoch 12 - Validation: 100%|██████████| 26/26 [00:02<00:00, 10.17it/s]\n"
     ]
    },
    {
     "name": "stdout",
     "output_type": "stream",
     "text": [
      "Iteration 6 - Epoch 12:\n",
      "  Train Acc = 0.9954, Train Prec = 0.9954, Train Rec = 0.9954, Train F-Beta = 0.9954, Train Loss = 0.0295\n",
      "  Val Acc = 0.9475, Val Prec = 0.9491, Val Rec = 0.9475, Val F-Beta = 0.9482, Val Loss = 0.2675\n"
     ]
    },
    {
     "name": "stderr",
     "output_type": "stream",
     "text": [
      "Epoch 13 - Training: 100%|██████████| 103/103 [00:30<00:00,  3.34it/s]\n",
      "Epoch 13 - Validation: 100%|██████████| 26/26 [00:02<00:00, 10.16it/s]\n"
     ]
    },
    {
     "name": "stdout",
     "output_type": "stream",
     "text": [
      "Iteration 6 - Epoch 13:\n",
      "  Train Acc = 0.9985, Train Prec = 0.9985, Train Rec = 0.9985, Train F-Beta = 0.9985, Train Loss = 0.0164\n",
      "  Val Acc = 0.9402, Val Prec = 0.9439, Val Rec = 0.9402, Val F-Beta = 0.9416, Val Loss = 0.3083\n"
     ]
    },
    {
     "name": "stderr",
     "output_type": "stream",
     "text": [
      "Epoch 14 - Training: 100%|██████████| 103/103 [00:30<00:00,  3.33it/s]\n",
      "Epoch 14 - Validation: 100%|██████████| 26/26 [00:02<00:00, 10.16it/s]\n"
     ]
    },
    {
     "name": "stdout",
     "output_type": "stream",
     "text": [
      "Iteration 6 - Epoch 14:\n",
      "  Train Acc = 0.9957, Train Prec = 0.9957, Train Rec = 0.9957, Train F-Beta = 0.9957, Train Loss = 0.0216\n",
      "  Val Acc = 0.9475, Val Prec = 0.9495, Val Rec = 0.9475, Val F-Beta = 0.9484, Val Loss = 0.2885\n"
     ]
    },
    {
     "name": "stderr",
     "output_type": "stream",
     "text": [
      "Epoch 15 - Training: 100%|██████████| 103/103 [00:30<00:00,  3.34it/s]\n",
      "Epoch 15 - Validation: 100%|██████████| 26/26 [00:02<00:00, 10.15it/s]\n"
     ]
    },
    {
     "name": "stdout",
     "output_type": "stream",
     "text": [
      "Iteration 6 - Epoch 15:\n",
      "  Train Acc = 0.9933, Train Prec = 0.9933, Train Rec = 0.9933, Train F-Beta = 0.9933, Train Loss = 0.0289\n",
      "  Val Acc = 0.9487, Val Prec = 0.9512, Val Rec = 0.9487, Val F-Beta = 0.9500, Val Loss = 0.2934\n"
     ]
    },
    {
     "name": "stderr",
     "output_type": "stream",
     "text": [
      "Epoch 16 - Training: 100%|██████████| 103/103 [00:30<00:00,  3.34it/s]\n",
      "Epoch 16 - Validation: 100%|██████████| 26/26 [00:02<00:00, 10.17it/s]\n"
     ]
    },
    {
     "name": "stdout",
     "output_type": "stream",
     "text": [
      "Iteration 6 - Epoch 16:\n",
      "  Train Acc = 0.9960, Train Prec = 0.9960, Train Rec = 0.9960, Train F-Beta = 0.9960, Train Loss = 0.0212\n",
      "  Val Acc = 0.9524, Val Prec = 0.9539, Val Rec = 0.9524, Val F-Beta = 0.9533, Val Loss = 0.2681\n"
     ]
    },
    {
     "name": "stderr",
     "output_type": "stream",
     "text": [
      "Epoch 17 - Training: 100%|██████████| 103/103 [00:30<00:00,  3.33it/s]\n",
      "Epoch 17 - Validation: 100%|██████████| 26/26 [00:02<00:00, 10.18it/s]\n"
     ]
    },
    {
     "name": "stdout",
     "output_type": "stream",
     "text": [
      "Iteration 6 - Epoch 17:\n",
      "  Train Acc = 0.9954, Train Prec = 0.9954, Train Rec = 0.9954, Train F-Beta = 0.9954, Train Loss = 0.0185\n",
      "  Val Acc = 0.9499, Val Prec = 0.9512, Val Rec = 0.9499, Val F-Beta = 0.9505, Val Loss = 0.2771\n"
     ]
    },
    {
     "name": "stderr",
     "output_type": "stream",
     "text": [
      "Epoch 18 - Training: 100%|██████████| 103/103 [00:30<00:00,  3.34it/s]\n",
      "Epoch 18 - Validation: 100%|██████████| 26/26 [00:02<00:00, 10.16it/s]\n"
     ]
    },
    {
     "name": "stdout",
     "output_type": "stream",
     "text": [
      "Iteration 6 - Epoch 18:\n",
      "  Train Acc = 0.9979, Train Prec = 0.9979, Train Rec = 0.9979, Train F-Beta = 0.9979, Train Loss = 0.0130\n",
      "  Val Acc = 0.9573, Val Prec = 0.9576, Val Rec = 0.9573, Val F-Beta = 0.9573, Val Loss = 0.2597\n"
     ]
    },
    {
     "name": "stderr",
     "output_type": "stream",
     "text": [
      "Epoch 19 - Training: 100%|██████████| 103/103 [00:30<00:00,  3.34it/s]\n",
      "Epoch 19 - Validation: 100%|██████████| 26/26 [00:02<00:00, 10.19it/s]\n"
     ]
    },
    {
     "name": "stdout",
     "output_type": "stream",
     "text": [
      "Iteration 6 - Epoch 19:\n",
      "  Train Acc = 0.9966, Train Prec = 0.9966, Train Rec = 0.9966, Train F-Beta = 0.9966, Train Loss = 0.0154\n",
      "  Val Acc = 0.9451, Val Prec = 0.9520, Val Rec = 0.9451, Val F-Beta = 0.9491, Val Loss = 0.3167\n"
     ]
    },
    {
     "name": "stderr",
     "output_type": "stream",
     "text": [
      "Epoch 20 - Training: 100%|██████████| 103/103 [00:30<00:00,  3.34it/s]\n",
      "Epoch 20 - Validation: 100%|██████████| 26/26 [00:02<00:00, 10.17it/s]\n"
     ]
    },
    {
     "name": "stdout",
     "output_type": "stream",
     "text": [
      "Iteration 6 - Epoch 20:\n",
      "  Train Acc = 0.9957, Train Prec = 0.9957, Train Rec = 0.9957, Train F-Beta = 0.9957, Train Loss = 0.0182\n",
      "  Val Acc = 0.9536, Val Prec = 0.9548, Val Rec = 0.9536, Val F-Beta = 0.9541, Val Loss = 0.2564\n"
     ]
    },
    {
     "name": "stderr",
     "output_type": "stream",
     "text": [
      "Epoch 21 - Training: 100%|██████████| 103/103 [00:30<00:00,  3.33it/s]\n",
      "Epoch 21 - Validation: 100%|██████████| 26/26 [00:02<00:00, 10.16it/s]\n"
     ]
    },
    {
     "name": "stdout",
     "output_type": "stream",
     "text": [
      "Iteration 6 - Epoch 21:\n",
      "  Train Acc = 0.9954, Train Prec = 0.9954, Train Rec = 0.9954, Train F-Beta = 0.9954, Train Loss = 0.0205\n",
      "  Val Acc = 0.9536, Val Prec = 0.9548, Val Rec = 0.9536, Val F-Beta = 0.9541, Val Loss = 0.2913\n"
     ]
    },
    {
     "name": "stderr",
     "output_type": "stream",
     "text": [
      "Epoch 22 - Training: 100%|██████████| 103/103 [00:30<00:00,  3.33it/s]\n",
      "Epoch 22 - Validation: 100%|██████████| 26/26 [00:02<00:00, 10.15it/s]\n"
     ]
    },
    {
     "name": "stdout",
     "output_type": "stream",
     "text": [
      "Iteration 6 - Epoch 22:\n",
      "  Train Acc = 1.0000, Train Prec = 1.0000, Train Rec = 1.0000, Train F-Beta = 1.0000, Train Loss = 0.0038\n",
      "  Val Acc = 0.9536, Val Prec = 0.9557, Val Rec = 0.9536, Val F-Beta = 0.9546, Val Loss = 0.3048\n"
     ]
    },
    {
     "name": "stderr",
     "output_type": "stream",
     "text": [
      "Epoch 23 - Training: 100%|██████████| 103/103 [00:30<00:00,  3.34it/s]\n",
      "Epoch 23 - Validation: 100%|██████████| 26/26 [00:02<00:00, 10.16it/s]\n"
     ]
    },
    {
     "name": "stdout",
     "output_type": "stream",
     "text": [
      "Iteration 6 - Epoch 23:\n",
      "  Train Acc = 1.0000, Train Prec = 1.0000, Train Rec = 1.0000, Train F-Beta = 1.0000, Train Loss = 0.0028\n",
      "  Val Acc = 0.9585, Val Prec = 0.9595, Val Rec = 0.9585, Val F-Beta = 0.9590, Val Loss = 0.2838\n"
     ]
    },
    {
     "name": "stderr",
     "output_type": "stream",
     "text": [
      "Epoch 24 - Training: 100%|██████████| 103/103 [00:30<00:00,  3.34it/s]\n",
      "Epoch 24 - Validation: 100%|██████████| 26/26 [00:02<00:00, 10.17it/s]\n"
     ]
    },
    {
     "name": "stdout",
     "output_type": "stream",
     "text": [
      "Iteration 6 - Epoch 24:\n",
      "  Train Acc = 0.9991, Train Prec = 0.9991, Train Rec = 0.9991, Train F-Beta = 0.9991, Train Loss = 0.0049\n",
      "  Val Acc = 0.9560, Val Prec = 0.9576, Val Rec = 0.9560, Val F-Beta = 0.9567, Val Loss = 0.3046\n"
     ]
    },
    {
     "name": "stderr",
     "output_type": "stream",
     "text": [
      "Epoch 25 - Training: 100%|██████████| 103/103 [00:30<00:00,  3.34it/s]\n",
      "Epoch 25 - Validation: 100%|██████████| 26/26 [00:02<00:00, 10.17it/s]\n"
     ]
    },
    {
     "name": "stdout",
     "output_type": "stream",
     "text": [
      "Iteration 6 - Epoch 25:\n",
      "  Train Acc = 0.9979, Train Prec = 0.9979, Train Rec = 0.9979, Train F-Beta = 0.9979, Train Loss = 0.0104\n",
      "  Val Acc = 0.9499, Val Prec = 0.9535, Val Rec = 0.9499, Val F-Beta = 0.9520, Val Loss = 0.3130\n"
     ]
    },
    {
     "name": "stderr",
     "output_type": "stream",
     "text": [
      "Epoch 26 - Training: 100%|██████████| 103/103 [00:30<00:00,  3.34it/s]\n",
      "Epoch 26 - Validation: 100%|██████████| 26/26 [00:02<00:00, 10.17it/s]\n"
     ]
    },
    {
     "name": "stdout",
     "output_type": "stream",
     "text": [
      "Iteration 6 - Epoch 26:\n",
      "  Train Acc = 0.9957, Train Prec = 0.9957, Train Rec = 0.9957, Train F-Beta = 0.9957, Train Loss = 0.0173\n",
      "  Val Acc = 0.9585, Val Prec = 0.9608, Val Rec = 0.9585, Val F-Beta = 0.9597, Val Loss = 0.2681\n"
     ]
    },
    {
     "name": "stderr",
     "output_type": "stream",
     "text": [
      "Epoch 27 - Training: 100%|██████████| 103/103 [00:30<00:00,  3.33it/s]\n",
      "Epoch 27 - Validation: 100%|██████████| 26/26 [00:02<00:00, 10.17it/s]\n"
     ]
    },
    {
     "name": "stdout",
     "output_type": "stream",
     "text": [
      "Iteration 6 - Epoch 27:\n",
      "  Train Acc = 0.9997, Train Prec = 0.9997, Train Rec = 0.9997, Train F-Beta = 0.9997, Train Loss = 0.0035\n",
      "  Val Acc = 0.9597, Val Prec = 0.9614, Val Rec = 0.9597, Val F-Beta = 0.9606, Val Loss = 0.2522\n"
     ]
    },
    {
     "name": "stderr",
     "output_type": "stream",
     "text": [
      "Epoch 28 - Training: 100%|██████████| 103/103 [00:30<00:00,  3.34it/s]\n",
      "Epoch 28 - Validation: 100%|██████████| 26/26 [00:02<00:00, 10.18it/s]\n"
     ]
    },
    {
     "name": "stdout",
     "output_type": "stream",
     "text": [
      "Iteration 6 - Epoch 28:\n",
      "  Train Acc = 0.9945, Train Prec = 0.9946, Train Rec = 0.9945, Train F-Beta = 0.9945, Train Loss = 0.0269\n",
      "  Val Acc = 0.9341, Val Prec = 0.9385, Val Rec = 0.9341, Val F-Beta = 0.9352, Val Loss = 0.4465\n"
     ]
    },
    {
     "name": "stderr",
     "output_type": "stream",
     "text": [
      "Epoch 29 - Training: 100%|██████████| 103/103 [00:30<00:00,  3.34it/s]\n",
      "Epoch 29 - Validation: 100%|██████████| 26/26 [00:02<00:00, 10.16it/s]\n"
     ]
    },
    {
     "name": "stdout",
     "output_type": "stream",
     "text": [
      "Iteration 6 - Epoch 29:\n",
      "  Train Acc = 0.9966, Train Prec = 0.9966, Train Rec = 0.9966, Train F-Beta = 0.9966, Train Loss = 0.0163\n",
      "  Val Acc = 0.9451, Val Prec = 0.9478, Val Rec = 0.9451, Val F-Beta = 0.9465, Val Loss = 0.3396\n"
     ]
    },
    {
     "name": "stderr",
     "output_type": "stream",
     "text": [
      "Epoch 30 - Training: 100%|██████████| 103/103 [00:30<00:00,  3.34it/s]\n",
      "Epoch 30 - Validation: 100%|██████████| 26/26 [00:02<00:00, 10.16it/s]\n"
     ]
    },
    {
     "name": "stdout",
     "output_type": "stream",
     "text": [
      "Iteration 6 - Epoch 30:\n",
      "  Train Acc = 0.9973, Train Prec = 0.9973, Train Rec = 0.9973, Train F-Beta = 0.9973, Train Loss = 0.0145\n",
      "  Val Acc = 0.9548, Val Prec = 0.9573, Val Rec = 0.9548, Val F-Beta = 0.9560, Val Loss = 0.3141\n"
     ]
    },
    {
     "name": "stderr",
     "output_type": "stream",
     "text": [
      "Epoch 31 - Training: 100%|██████████| 103/103 [00:30<00:00,  3.34it/s]\n",
      "Epoch 31 - Validation: 100%|██████████| 26/26 [00:02<00:00, 10.16it/s]\n"
     ]
    },
    {
     "name": "stdout",
     "output_type": "stream",
     "text": [
      "Iteration 6 - Epoch 31:\n",
      "  Train Acc = 0.9982, Train Prec = 0.9982, Train Rec = 0.9982, Train F-Beta = 0.9982, Train Loss = 0.0100\n",
      "  Val Acc = 0.9524, Val Prec = 0.9541, Val Rec = 0.9524, Val F-Beta = 0.9533, Val Loss = 0.2730\n"
     ]
    },
    {
     "name": "stderr",
     "output_type": "stream",
     "text": [
      "Epoch 32 - Training: 100%|██████████| 103/103 [00:30<00:00,  3.34it/s]\n",
      "Epoch 32 - Validation: 100%|██████████| 26/26 [00:02<00:00, 10.16it/s]\n"
     ]
    },
    {
     "name": "stdout",
     "output_type": "stream",
     "text": [
      "Iteration 6 - Epoch 32:\n",
      "  Train Acc = 0.9985, Train Prec = 0.9985, Train Rec = 0.9985, Train F-Beta = 0.9985, Train Loss = 0.0059\n",
      "  Val Acc = 0.9560, Val Prec = 0.9574, Val Rec = 0.9560, Val F-Beta = 0.9567, Val Loss = 0.2866\n"
     ]
    },
    {
     "name": "stderr",
     "output_type": "stream",
     "text": [
      "Epoch 33 - Training: 100%|██████████| 103/103 [00:30<00:00,  3.33it/s]\n",
      "Epoch 33 - Validation: 100%|██████████| 26/26 [00:02<00:00, 10.17it/s]\n"
     ]
    },
    {
     "name": "stdout",
     "output_type": "stream",
     "text": [
      "Iteration 6 - Epoch 33:\n",
      "  Train Acc = 0.9997, Train Prec = 0.9997, Train Rec = 0.9997, Train F-Beta = 0.9997, Train Loss = 0.0026\n",
      "  Val Acc = 0.9560, Val Prec = 0.9577, Val Rec = 0.9560, Val F-Beta = 0.9568, Val Loss = 0.2983\n"
     ]
    },
    {
     "name": "stderr",
     "output_type": "stream",
     "text": [
      "Epoch 34 - Training: 100%|██████████| 103/103 [00:30<00:00,  3.34it/s]\n",
      "Epoch 34 - Validation: 100%|██████████| 26/26 [00:02<00:00, 10.16it/s]\n"
     ]
    },
    {
     "name": "stdout",
     "output_type": "stream",
     "text": [
      "Iteration 6 - Epoch 34:\n",
      "  Train Acc = 0.9969, Train Prec = 0.9970, Train Rec = 0.9969, Train F-Beta = 0.9970, Train Loss = 0.0123\n",
      "  Val Acc = 0.9573, Val Prec = 0.9587, Val Rec = 0.9573, Val F-Beta = 0.9580, Val Loss = 0.2794\n"
     ]
    },
    {
     "name": "stderr",
     "output_type": "stream",
     "text": [
      "Epoch 35 - Training: 100%|██████████| 103/103 [00:30<00:00,  3.33it/s]\n",
      "Epoch 35 - Validation: 100%|██████████| 26/26 [00:02<00:00, 10.16it/s]\n"
     ]
    },
    {
     "name": "stdout",
     "output_type": "stream",
     "text": [
      "Iteration 6 - Epoch 35:\n",
      "  Train Acc = 0.9994, Train Prec = 0.9994, Train Rec = 0.9994, Train F-Beta = 0.9994, Train Loss = 0.0056\n",
      "  Val Acc = 0.9597, Val Prec = 0.9621, Val Rec = 0.9597, Val F-Beta = 0.9609, Val Loss = 0.2882\n",
      "  Better model saved with 0.9609 F-beta score.\n"
     ]
    },
    {
     "name": "stderr",
     "output_type": "stream",
     "text": [
      "Epoch 36 - Training: 100%|██████████| 103/103 [00:30<00:00,  3.34it/s]\n",
      "Epoch 36 - Validation: 100%|██████████| 26/26 [00:02<00:00, 10.18it/s]\n"
     ]
    },
    {
     "name": "stdout",
     "output_type": "stream",
     "text": [
      "Iteration 6 - Epoch 36:\n",
      "  Train Acc = 0.9976, Train Prec = 0.9976, Train Rec = 0.9976, Train F-Beta = 0.9976, Train Loss = 0.0081\n",
      "  Val Acc = 0.9463, Val Prec = 0.9490, Val Rec = 0.9463, Val F-Beta = 0.9474, Val Loss = 0.3385\n"
     ]
    },
    {
     "name": "stderr",
     "output_type": "stream",
     "text": [
      "Epoch 37 - Training: 100%|██████████| 103/103 [00:30<00:00,  3.34it/s]\n",
      "Epoch 37 - Validation: 100%|██████████| 26/26 [00:02<00:00, 10.17it/s]\n"
     ]
    },
    {
     "name": "stdout",
     "output_type": "stream",
     "text": [
      "Iteration 6 - Epoch 37:\n",
      "  Train Acc = 0.9976, Train Prec = 0.9976, Train Rec = 0.9976, Train F-Beta = 0.9976, Train Loss = 0.0104\n",
      "  Val Acc = 0.9426, Val Prec = 0.9476, Val Rec = 0.9426, Val F-Beta = 0.9450, Val Loss = 0.3968\n"
     ]
    },
    {
     "name": "stderr",
     "output_type": "stream",
     "text": [
      "Epoch 38 - Training: 100%|██████████| 103/103 [00:30<00:00,  3.34it/s]\n",
      "Epoch 38 - Validation: 100%|██████████| 26/26 [00:02<00:00, 10.15it/s]\n"
     ]
    },
    {
     "name": "stdout",
     "output_type": "stream",
     "text": [
      "Iteration 6 - Epoch 38:\n",
      "  Train Acc = 0.9973, Train Prec = 0.9973, Train Rec = 0.9973, Train F-Beta = 0.9973, Train Loss = 0.0156\n",
      "  Val Acc = 0.9524, Val Prec = 0.9544, Val Rec = 0.9524, Val F-Beta = 0.9534, Val Loss = 0.3258\n"
     ]
    },
    {
     "name": "stderr",
     "output_type": "stream",
     "text": [
      "Epoch 39 - Training: 100%|██████████| 103/103 [00:30<00:00,  3.34it/s]\n",
      "Epoch 39 - Validation: 100%|██████████| 26/26 [00:02<00:00, 10.17it/s]\n"
     ]
    },
    {
     "name": "stdout",
     "output_type": "stream",
     "text": [
      "Iteration 6 - Epoch 39:\n",
      "  Train Acc = 0.9991, Train Prec = 0.9991, Train Rec = 0.9991, Train F-Beta = 0.9991, Train Loss = 0.0062\n",
      "  Val Acc = 0.9573, Val Prec = 0.9588, Val Rec = 0.9573, Val F-Beta = 0.9580, Val Loss = 0.3006\n"
     ]
    },
    {
     "name": "stderr",
     "output_type": "stream",
     "text": [
      "Epoch 40 - Training: 100%|██████████| 103/103 [00:30<00:00,  3.34it/s]\n",
      "Epoch 40 - Validation: 100%|██████████| 26/26 [00:02<00:00, 10.16it/s]\n"
     ]
    },
    {
     "name": "stdout",
     "output_type": "stream",
     "text": [
      "Iteration 6 - Epoch 40:\n",
      "  Train Acc = 0.9994, Train Prec = 0.9994, Train Rec = 0.9994, Train F-Beta = 0.9994, Train Loss = 0.0034\n",
      "  Val Acc = 0.9524, Val Prec = 0.9539, Val Rec = 0.9524, Val F-Beta = 0.9529, Val Loss = 0.3465\n",
      "Iteration 7/20\n"
     ]
    },
    {
     "name": "stderr",
     "output_type": "stream",
     "text": [
      "Some weights of ElectraForSequenceClassification were not initialized from the model checkpoint at beomi/KcELECTRA-base-v2022 and are newly initialized: ['classifier.dense.bias', 'classifier.dense.weight', 'classifier.out_proj.bias', 'classifier.out_proj.weight']\n",
      "You should probably TRAIN this model on a down-stream task to be able to use it for predictions and inference.\n",
      "Epoch 1 - Training: 100%|██████████| 103/103 [00:30<00:00,  3.34it/s]\n",
      "Epoch 1 - Validation: 100%|██████████| 26/26 [00:02<00:00, 10.18it/s]\n"
     ]
    },
    {
     "name": "stdout",
     "output_type": "stream",
     "text": [
      "Iteration 7 - Epoch 1:\n",
      "  Train Acc = 0.2953, Train Prec = 0.1841, Train Rec = 0.2953, Train F-Beta = 0.1485, Train Loss = 2.2713\n",
      "  Val Acc = 0.4396, Val Prec = 0.3537, Val Rec = 0.4396, Val F-Beta = 0.2933, Val Loss = 1.7801\n"
     ]
    },
    {
     "name": "stderr",
     "output_type": "stream",
     "text": [
      "Epoch 2 - Training: 100%|██████████| 103/103 [00:30<00:00,  3.34it/s]\n",
      "Epoch 2 - Validation: 100%|██████████| 26/26 [00:02<00:00, 10.18it/s]\n"
     ]
    },
    {
     "name": "stdout",
     "output_type": "stream",
     "text": [
      "Iteration 7 - Epoch 2:\n",
      "  Train Acc = 0.6208, Train Prec = 0.6676, Train Rec = 0.6208, Train F-Beta = 0.5650, Train Loss = 1.3757\n",
      "  Val Acc = 0.7753, Val Prec = 0.7487, Val Rec = 0.7753, Val F-Beta = 0.7054, Val Loss = 0.9396\n"
     ]
    },
    {
     "name": "stderr",
     "output_type": "stream",
     "text": [
      "Epoch 3 - Training: 100%|██████████| 103/103 [00:30<00:00,  3.34it/s]\n",
      "Epoch 3 - Validation: 100%|██████████| 26/26 [00:02<00:00, 10.17it/s]\n"
     ]
    },
    {
     "name": "stdout",
     "output_type": "stream",
     "text": [
      "Iteration 7 - Epoch 3:\n",
      "  Train Acc = 0.8660, Train Prec = 0.8809, Train Rec = 0.8660, Train F-Beta = 0.8631, Train Loss = 0.6715\n",
      "  Val Acc = 0.9377, Val Prec = 0.9398, Val Rec = 0.9377, Val F-Beta = 0.9386, Val Loss = 0.4464\n"
     ]
    },
    {
     "name": "stderr",
     "output_type": "stream",
     "text": [
      "Epoch 4 - Training: 100%|██████████| 103/103 [00:30<00:00,  3.34it/s]\n",
      "Epoch 4 - Validation: 100%|██████████| 26/26 [00:02<00:00, 10.17it/s]\n"
     ]
    },
    {
     "name": "stdout",
     "output_type": "stream",
     "text": [
      "Iteration 7 - Epoch 4:\n",
      "  Train Acc = 0.9615, Train Prec = 0.9618, Train Rec = 0.9615, Train F-Beta = 0.9616, Train Loss = 0.3033\n",
      "  Val Acc = 0.9316, Val Prec = 0.9329, Val Rec = 0.9316, Val F-Beta = 0.9318, Val Loss = 0.3132\n"
     ]
    },
    {
     "name": "stderr",
     "output_type": "stream",
     "text": [
      "Epoch 5 - Training: 100%|██████████| 103/103 [00:30<00:00,  3.34it/s]\n",
      "Epoch 5 - Validation: 100%|██████████| 26/26 [00:02<00:00, 10.18it/s]\n"
     ]
    },
    {
     "name": "stdout",
     "output_type": "stream",
     "text": [
      "Iteration 7 - Epoch 5:\n",
      "  Train Acc = 0.9823, Train Prec = 0.9824, Train Rec = 0.9823, Train F-Beta = 0.9823, Train Loss = 0.1468\n",
      "  Val Acc = 0.9451, Val Prec = 0.9468, Val Rec = 0.9451, Val F-Beta = 0.9461, Val Loss = 0.2446\n"
     ]
    },
    {
     "name": "stderr",
     "output_type": "stream",
     "text": [
      "Epoch 6 - Training: 100%|██████████| 103/103 [00:30<00:00,  3.34it/s]\n",
      "Epoch 6 - Validation: 100%|██████████| 26/26 [00:02<00:00, 10.19it/s]\n"
     ]
    },
    {
     "name": "stdout",
     "output_type": "stream",
     "text": [
      "Iteration 7 - Epoch 6:\n",
      "  Train Acc = 0.9838, Train Prec = 0.9839, Train Rec = 0.9838, Train F-Beta = 0.9839, Train Loss = 0.1059\n",
      "  Val Acc = 0.9451, Val Prec = 0.9462, Val Rec = 0.9451, Val F-Beta = 0.9454, Val Loss = 0.2491\n"
     ]
    },
    {
     "name": "stderr",
     "output_type": "stream",
     "text": [
      "Epoch 7 - Training: 100%|██████████| 103/103 [00:30<00:00,  3.34it/s]\n",
      "Epoch 7 - Validation: 100%|██████████| 26/26 [00:02<00:00, 10.18it/s]\n"
     ]
    },
    {
     "name": "stdout",
     "output_type": "stream",
     "text": [
      "Iteration 7 - Epoch 7:\n",
      "  Train Acc = 0.9890, Train Prec = 0.9890, Train Rec = 0.9890, Train F-Beta = 0.9890, Train Loss = 0.0758\n",
      "  Val Acc = 0.9316, Val Prec = 0.9367, Val Rec = 0.9316, Val F-Beta = 0.9336, Val Loss = 0.3153\n"
     ]
    },
    {
     "name": "stderr",
     "output_type": "stream",
     "text": [
      "Epoch 8 - Training: 100%|██████████| 103/103 [00:30<00:00,  3.34it/s]\n",
      "Epoch 8 - Validation: 100%|██████████| 26/26 [00:02<00:00, 10.19it/s]\n"
     ]
    },
    {
     "name": "stdout",
     "output_type": "stream",
     "text": [
      "Iteration 7 - Epoch 8:\n",
      "  Train Acc = 0.9887, Train Prec = 0.9887, Train Rec = 0.9887, Train F-Beta = 0.9887, Train Loss = 0.0643\n",
      "  Val Acc = 0.9414, Val Prec = 0.9433, Val Rec = 0.9414, Val F-Beta = 0.9421, Val Loss = 0.2811\n"
     ]
    },
    {
     "name": "stderr",
     "output_type": "stream",
     "text": [
      "Epoch 9 - Training: 100%|██████████| 103/103 [00:30<00:00,  3.34it/s]\n",
      "Epoch 9 - Validation: 100%|██████████| 26/26 [00:02<00:00, 10.19it/s]\n"
     ]
    },
    {
     "name": "stdout",
     "output_type": "stream",
     "text": [
      "Iteration 7 - Epoch 9:\n",
      "  Train Acc = 0.9930, Train Prec = 0.9930, Train Rec = 0.9930, Train F-Beta = 0.9930, Train Loss = 0.0474\n",
      "  Val Acc = 0.9548, Val Prec = 0.9555, Val Rec = 0.9548, Val F-Beta = 0.9551, Val Loss = 0.2531\n",
      "  Better model saved with 0.9551 F-beta score.\n"
     ]
    },
    {
     "name": "stderr",
     "output_type": "stream",
     "text": [
      "Epoch 10 - Training: 100%|██████████| 103/103 [00:30<00:00,  3.34it/s]\n",
      "Epoch 10 - Validation: 100%|██████████| 26/26 [00:02<00:00, 10.19it/s]\n"
     ]
    },
    {
     "name": "stdout",
     "output_type": "stream",
     "text": [
      "Iteration 7 - Epoch 10:\n",
      "  Train Acc = 0.9963, Train Prec = 0.9963, Train Rec = 0.9963, Train F-Beta = 0.9963, Train Loss = 0.0291\n",
      "  Val Acc = 0.9487, Val Prec = 0.9508, Val Rec = 0.9487, Val F-Beta = 0.9497, Val Loss = 0.2811\n"
     ]
    },
    {
     "name": "stderr",
     "output_type": "stream",
     "text": [
      "Epoch 11 - Training: 100%|██████████| 103/103 [00:30<00:00,  3.34it/s]\n",
      "Epoch 11 - Validation: 100%|██████████| 26/26 [00:02<00:00, 10.19it/s]\n"
     ]
    },
    {
     "name": "stdout",
     "output_type": "stream",
     "text": [
      "Iteration 7 - Epoch 11:\n",
      "  Train Acc = 0.9924, Train Prec = 0.9924, Train Rec = 0.9924, Train F-Beta = 0.9924, Train Loss = 0.0363\n",
      "  Val Acc = 0.9426, Val Prec = 0.9452, Val Rec = 0.9426, Val F-Beta = 0.9439, Val Loss = 0.2894\n"
     ]
    },
    {
     "name": "stderr",
     "output_type": "stream",
     "text": [
      "Epoch 12 - Training: 100%|██████████| 103/103 [00:30<00:00,  3.34it/s]\n",
      "Epoch 12 - Validation: 100%|██████████| 26/26 [00:02<00:00, 10.18it/s]\n"
     ]
    },
    {
     "name": "stdout",
     "output_type": "stream",
     "text": [
      "Iteration 7 - Epoch 12:\n",
      "  Train Acc = 0.9948, Train Prec = 0.9948, Train Rec = 0.9948, Train F-Beta = 0.9948, Train Loss = 0.0298\n",
      "  Val Acc = 0.9487, Val Prec = 0.9510, Val Rec = 0.9487, Val F-Beta = 0.9499, Val Loss = 0.2801\n"
     ]
    },
    {
     "name": "stderr",
     "output_type": "stream",
     "text": [
      "Epoch 13 - Training: 100%|██████████| 103/103 [00:30<00:00,  3.34it/s]\n",
      "Epoch 13 - Validation: 100%|██████████| 26/26 [00:02<00:00, 10.18it/s]\n"
     ]
    },
    {
     "name": "stdout",
     "output_type": "stream",
     "text": [
      "Iteration 7 - Epoch 13:\n",
      "  Train Acc = 0.9951, Train Prec = 0.9951, Train Rec = 0.9951, Train F-Beta = 0.9951, Train Loss = 0.0291\n",
      "  Val Acc = 0.9475, Val Prec = 0.9503, Val Rec = 0.9475, Val F-Beta = 0.9486, Val Loss = 0.2937\n"
     ]
    },
    {
     "name": "stderr",
     "output_type": "stream",
     "text": [
      "Epoch 14 - Training: 100%|██████████| 103/103 [00:30<00:00,  3.34it/s]\n",
      "Epoch 14 - Validation: 100%|██████████| 26/26 [00:02<00:00, 10.19it/s]\n"
     ]
    },
    {
     "name": "stdout",
     "output_type": "stream",
     "text": [
      "Iteration 7 - Epoch 14:\n",
      "  Train Acc = 0.9957, Train Prec = 0.9957, Train Rec = 0.9957, Train F-Beta = 0.9957, Train Loss = 0.0275\n",
      "  Val Acc = 0.9585, Val Prec = 0.9599, Val Rec = 0.9585, Val F-Beta = 0.9591, Val Loss = 0.2454\n",
      "  Better model saved with 0.9591 F-beta score.\n"
     ]
    },
    {
     "name": "stderr",
     "output_type": "stream",
     "text": [
      "Epoch 15 - Training: 100%|██████████| 103/103 [00:30<00:00,  3.34it/s]\n",
      "Epoch 15 - Validation: 100%|██████████| 26/26 [00:02<00:00, 10.18it/s]\n"
     ]
    },
    {
     "name": "stdout",
     "output_type": "stream",
     "text": [
      "Iteration 7 - Epoch 15:\n",
      "  Train Acc = 0.9963, Train Prec = 0.9963, Train Rec = 0.9963, Train F-Beta = 0.9963, Train Loss = 0.0184\n",
      "  Val Acc = 0.9524, Val Prec = 0.9535, Val Rec = 0.9524, Val F-Beta = 0.9528, Val Loss = 0.2589\n"
     ]
    },
    {
     "name": "stderr",
     "output_type": "stream",
     "text": [
      "Epoch 16 - Training: 100%|██████████| 103/103 [00:30<00:00,  3.34it/s]\n",
      "Epoch 16 - Validation: 100%|██████████| 26/26 [00:02<00:00, 10.19it/s]\n"
     ]
    },
    {
     "name": "stdout",
     "output_type": "stream",
     "text": [
      "Iteration 7 - Epoch 16:\n",
      "  Train Acc = 0.9933, Train Prec = 0.9933, Train Rec = 0.9933, Train F-Beta = 0.9933, Train Loss = 0.0319\n",
      "  Val Acc = 0.9463, Val Prec = 0.9488, Val Rec = 0.9463, Val F-Beta = 0.9473, Val Loss = 0.2925\n"
     ]
    },
    {
     "name": "stderr",
     "output_type": "stream",
     "text": [
      "Epoch 17 - Training: 100%|██████████| 103/103 [00:30<00:00,  3.34it/s]\n",
      "Epoch 17 - Validation: 100%|██████████| 26/26 [00:02<00:00, 10.19it/s]\n"
     ]
    },
    {
     "name": "stdout",
     "output_type": "stream",
     "text": [
      "Iteration 7 - Epoch 17:\n",
      "  Train Acc = 0.9954, Train Prec = 0.9954, Train Rec = 0.9954, Train F-Beta = 0.9954, Train Loss = 0.0219\n",
      "  Val Acc = 0.9560, Val Prec = 0.9578, Val Rec = 0.9560, Val F-Beta = 0.9568, Val Loss = 0.2554\n"
     ]
    },
    {
     "name": "stderr",
     "output_type": "stream",
     "text": [
      "Epoch 18 - Training: 100%|██████████| 103/103 [00:30<00:00,  3.34it/s]\n",
      "Epoch 18 - Validation: 100%|██████████| 26/26 [00:02<00:00, 10.18it/s]\n"
     ]
    },
    {
     "name": "stdout",
     "output_type": "stream",
     "text": [
      "Iteration 7 - Epoch 18:\n",
      "  Train Acc = 0.9982, Train Prec = 0.9982, Train Rec = 0.9982, Train F-Beta = 0.9982, Train Loss = 0.0108\n",
      "  Val Acc = 0.9512, Val Prec = 0.9536, Val Rec = 0.9512, Val F-Beta = 0.9524, Val Loss = 0.2897\n"
     ]
    },
    {
     "name": "stderr",
     "output_type": "stream",
     "text": [
      "Epoch 19 - Training: 100%|██████████| 103/103 [00:30<00:00,  3.34it/s]\n",
      "Epoch 19 - Validation: 100%|██████████| 26/26 [00:02<00:00, 10.20it/s]\n"
     ]
    },
    {
     "name": "stdout",
     "output_type": "stream",
     "text": [
      "Iteration 7 - Epoch 19:\n",
      "  Train Acc = 0.9979, Train Prec = 0.9979, Train Rec = 0.9979, Train F-Beta = 0.9979, Train Loss = 0.0125\n",
      "  Val Acc = 0.9487, Val Prec = 0.9491, Val Rec = 0.9487, Val F-Beta = 0.9486, Val Loss = 0.3243\n"
     ]
    },
    {
     "name": "stderr",
     "output_type": "stream",
     "text": [
      "Epoch 20 - Training: 100%|██████████| 103/103 [00:30<00:00,  3.34it/s]\n",
      "Epoch 20 - Validation: 100%|██████████| 26/26 [00:02<00:00, 10.20it/s]\n"
     ]
    },
    {
     "name": "stdout",
     "output_type": "stream",
     "text": [
      "Iteration 7 - Epoch 20:\n",
      "  Train Acc = 0.9979, Train Prec = 0.9979, Train Rec = 0.9979, Train F-Beta = 0.9979, Train Loss = 0.0135\n",
      "  Val Acc = 0.9463, Val Prec = 0.9476, Val Rec = 0.9463, Val F-Beta = 0.9466, Val Loss = 0.3424\n"
     ]
    },
    {
     "name": "stderr",
     "output_type": "stream",
     "text": [
      "Epoch 21 - Training: 100%|██████████| 103/103 [00:30<00:00,  3.34it/s]\n",
      "Epoch 21 - Validation: 100%|██████████| 26/26 [00:02<00:00, 10.17it/s]\n"
     ]
    },
    {
     "name": "stdout",
     "output_type": "stream",
     "text": [
      "Iteration 7 - Epoch 21:\n",
      "  Train Acc = 0.9976, Train Prec = 0.9976, Train Rec = 0.9976, Train F-Beta = 0.9976, Train Loss = 0.0131\n",
      "  Val Acc = 0.9499, Val Prec = 0.9506, Val Rec = 0.9499, Val F-Beta = 0.9500, Val Loss = 0.3258\n"
     ]
    },
    {
     "name": "stderr",
     "output_type": "stream",
     "text": [
      "Epoch 22 - Training: 100%|██████████| 103/103 [00:30<00:00,  3.34it/s]\n",
      "Epoch 22 - Validation: 100%|██████████| 26/26 [00:02<00:00, 10.18it/s]\n"
     ]
    },
    {
     "name": "stdout",
     "output_type": "stream",
     "text": [
      "Iteration 7 - Epoch 22:\n",
      "  Train Acc = 0.9994, Train Prec = 0.9994, Train Rec = 0.9994, Train F-Beta = 0.9994, Train Loss = 0.0040\n",
      "  Val Acc = 0.9536, Val Prec = 0.9543, Val Rec = 0.9536, Val F-Beta = 0.9537, Val Loss = 0.3109\n"
     ]
    },
    {
     "name": "stderr",
     "output_type": "stream",
     "text": [
      "Epoch 23 - Training: 100%|██████████| 103/103 [00:30<00:00,  3.34it/s]\n",
      "Epoch 23 - Validation: 100%|██████████| 26/26 [00:02<00:00, 10.20it/s]\n"
     ]
    },
    {
     "name": "stdout",
     "output_type": "stream",
     "text": [
      "Iteration 7 - Epoch 23:\n",
      "  Train Acc = 0.9994, Train Prec = 0.9994, Train Rec = 0.9994, Train F-Beta = 0.9994, Train Loss = 0.0070\n",
      "  Val Acc = 0.9438, Val Prec = 0.9453, Val Rec = 0.9438, Val F-Beta = 0.9443, Val Loss = 0.3522\n"
     ]
    },
    {
     "name": "stderr",
     "output_type": "stream",
     "text": [
      "Epoch 24 - Training: 100%|██████████| 103/103 [00:30<00:00,  3.34it/s]\n",
      "Epoch 24 - Validation: 100%|██████████| 26/26 [00:02<00:00, 10.19it/s]\n"
     ]
    },
    {
     "name": "stdout",
     "output_type": "stream",
     "text": [
      "Iteration 7 - Epoch 24:\n",
      "  Train Acc = 0.9982, Train Prec = 0.9982, Train Rec = 0.9982, Train F-Beta = 0.9982, Train Loss = 0.0126\n",
      "  Val Acc = 0.9548, Val Prec = 0.9560, Val Rec = 0.9548, Val F-Beta = 0.9554, Val Loss = 0.2912\n"
     ]
    },
    {
     "name": "stderr",
     "output_type": "stream",
     "text": [
      "Epoch 25 - Training: 100%|██████████| 103/103 [00:30<00:00,  3.34it/s]\n",
      "Epoch 25 - Validation: 100%|██████████| 26/26 [00:02<00:00, 10.19it/s]\n"
     ]
    },
    {
     "name": "stdout",
     "output_type": "stream",
     "text": [
      "Iteration 7 - Epoch 25:\n",
      "  Train Acc = 0.9960, Train Prec = 0.9960, Train Rec = 0.9960, Train F-Beta = 0.9960, Train Loss = 0.0170\n",
      "  Val Acc = 0.9512, Val Prec = 0.9530, Val Rec = 0.9512, Val F-Beta = 0.9522, Val Loss = 0.3242\n"
     ]
    },
    {
     "name": "stderr",
     "output_type": "stream",
     "text": [
      "Epoch 26 - Training: 100%|██████████| 103/103 [00:30<00:00,  3.34it/s]\n",
      "Epoch 26 - Validation: 100%|██████████| 26/26 [00:02<00:00, 10.20it/s]\n"
     ]
    },
    {
     "name": "stdout",
     "output_type": "stream",
     "text": [
      "Iteration 7 - Epoch 26:\n",
      "  Train Acc = 0.9948, Train Prec = 0.9948, Train Rec = 0.9948, Train F-Beta = 0.9948, Train Loss = 0.0220\n",
      "  Val Acc = 0.9389, Val Prec = 0.9405, Val Rec = 0.9389, Val F-Beta = 0.9394, Val Loss = 0.3498\n"
     ]
    },
    {
     "name": "stderr",
     "output_type": "stream",
     "text": [
      "Epoch 27 - Training: 100%|██████████| 103/103 [00:30<00:00,  3.34it/s]\n",
      "Epoch 27 - Validation: 100%|██████████| 26/26 [00:02<00:00, 10.19it/s]\n"
     ]
    },
    {
     "name": "stdout",
     "output_type": "stream",
     "text": [
      "Iteration 7 - Epoch 27:\n",
      "  Train Acc = 0.9954, Train Prec = 0.9954, Train Rec = 0.9954, Train F-Beta = 0.9954, Train Loss = 0.0250\n",
      "  Val Acc = 0.9499, Val Prec = 0.9518, Val Rec = 0.9499, Val F-Beta = 0.9506, Val Loss = 0.2937\n"
     ]
    },
    {
     "name": "stderr",
     "output_type": "stream",
     "text": [
      "Epoch 28 - Training: 100%|██████████| 103/103 [00:30<00:00,  3.34it/s]\n",
      "Epoch 28 - Validation: 100%|██████████| 26/26 [00:02<00:00, 10.19it/s]\n"
     ]
    },
    {
     "name": "stdout",
     "output_type": "stream",
     "text": [
      "Iteration 7 - Epoch 28:\n",
      "  Train Acc = 0.9969, Train Prec = 0.9969, Train Rec = 0.9969, Train F-Beta = 0.9969, Train Loss = 0.0120\n",
      "  Val Acc = 0.9487, Val Prec = 0.9495, Val Rec = 0.9487, Val F-Beta = 0.9489, Val Loss = 0.2744\n"
     ]
    },
    {
     "name": "stderr",
     "output_type": "stream",
     "text": [
      "Epoch 29 - Training: 100%|██████████| 103/103 [00:30<00:00,  3.34it/s]\n",
      "Epoch 29 - Validation: 100%|██████████| 26/26 [00:02<00:00, 10.19it/s]\n"
     ]
    },
    {
     "name": "stdout",
     "output_type": "stream",
     "text": [
      "Iteration 7 - Epoch 29:\n",
      "  Train Acc = 0.9991, Train Prec = 0.9991, Train Rec = 0.9991, Train F-Beta = 0.9991, Train Loss = 0.0034\n",
      "  Val Acc = 0.9475, Val Prec = 0.9499, Val Rec = 0.9475, Val F-Beta = 0.9487, Val Loss = 0.2849\n"
     ]
    },
    {
     "name": "stderr",
     "output_type": "stream",
     "text": [
      "Epoch 30 - Training: 100%|██████████| 103/103 [00:30<00:00,  3.34it/s]\n",
      "Epoch 30 - Validation: 100%|██████████| 26/26 [00:02<00:00, 10.20it/s]\n"
     ]
    },
    {
     "name": "stdout",
     "output_type": "stream",
     "text": [
      "Iteration 7 - Epoch 30:\n",
      "  Train Acc = 0.9982, Train Prec = 0.9982, Train Rec = 0.9982, Train F-Beta = 0.9982, Train Loss = 0.0072\n",
      "  Val Acc = 0.9499, Val Prec = 0.9511, Val Rec = 0.9499, Val F-Beta = 0.9505, Val Loss = 0.2679\n"
     ]
    },
    {
     "name": "stderr",
     "output_type": "stream",
     "text": [
      "Epoch 31 - Training: 100%|██████████| 103/103 [00:30<00:00,  3.34it/s]\n",
      "Epoch 31 - Validation: 100%|██████████| 26/26 [00:02<00:00, 10.19it/s]\n"
     ]
    },
    {
     "name": "stdout",
     "output_type": "stream",
     "text": [
      "Iteration 7 - Epoch 31:\n",
      "  Train Acc = 0.9994, Train Prec = 0.9994, Train Rec = 0.9994, Train F-Beta = 0.9994, Train Loss = 0.0028\n",
      "  Val Acc = 0.9524, Val Prec = 0.9530, Val Rec = 0.9524, Val F-Beta = 0.9526, Val Loss = 0.2802\n"
     ]
    },
    {
     "name": "stderr",
     "output_type": "stream",
     "text": [
      "Epoch 32 - Training: 100%|██████████| 103/103 [00:30<00:00,  3.34it/s]\n",
      "Epoch 32 - Validation: 100%|██████████| 26/26 [00:02<00:00, 10.21it/s]\n"
     ]
    },
    {
     "name": "stdout",
     "output_type": "stream",
     "text": [
      "Iteration 7 - Epoch 32:\n",
      "  Train Acc = 1.0000, Train Prec = 1.0000, Train Rec = 1.0000, Train F-Beta = 1.0000, Train Loss = 0.0015\n",
      "  Val Acc = 0.9536, Val Prec = 0.9543, Val Rec = 0.9536, Val F-Beta = 0.9538, Val Loss = 0.2791\n"
     ]
    },
    {
     "name": "stderr",
     "output_type": "stream",
     "text": [
      "Epoch 33 - Training: 100%|██████████| 103/103 [00:30<00:00,  3.34it/s]\n",
      "Epoch 33 - Validation: 100%|██████████| 26/26 [00:02<00:00, 10.19it/s]\n"
     ]
    },
    {
     "name": "stdout",
     "output_type": "stream",
     "text": [
      "Iteration 7 - Epoch 33:\n",
      "  Train Acc = 1.0000, Train Prec = 1.0000, Train Rec = 1.0000, Train F-Beta = 1.0000, Train Loss = 0.0012\n",
      "  Val Acc = 0.9524, Val Prec = 0.9533, Val Rec = 0.9524, Val F-Beta = 0.9527, Val Loss = 0.2986\n"
     ]
    },
    {
     "name": "stderr",
     "output_type": "stream",
     "text": [
      "Epoch 34 - Training: 100%|██████████| 103/103 [00:30<00:00,  3.34it/s]\n",
      "Epoch 34 - Validation: 100%|██████████| 26/26 [00:02<00:00, 10.18it/s]\n"
     ]
    },
    {
     "name": "stdout",
     "output_type": "stream",
     "text": [
      "Iteration 7 - Epoch 34:\n",
      "  Train Acc = 0.9997, Train Prec = 0.9997, Train Rec = 0.9997, Train F-Beta = 0.9997, Train Loss = 0.0021\n",
      "  Val Acc = 0.9548, Val Prec = 0.9555, Val Rec = 0.9548, Val F-Beta = 0.9550, Val Loss = 0.2896\n"
     ]
    },
    {
     "name": "stderr",
     "output_type": "stream",
     "text": [
      "Epoch 35 - Training: 100%|██████████| 103/103 [00:30<00:00,  3.34it/s]\n",
      "Epoch 35 - Validation: 100%|██████████| 26/26 [00:02<00:00, 10.20it/s]\n"
     ]
    },
    {
     "name": "stdout",
     "output_type": "stream",
     "text": [
      "Iteration 7 - Epoch 35:\n",
      "  Train Acc = 1.0000, Train Prec = 1.0000, Train Rec = 1.0000, Train F-Beta = 1.0000, Train Loss = 0.0010\n",
      "  Val Acc = 0.9548, Val Prec = 0.9555, Val Rec = 0.9548, Val F-Beta = 0.9550, Val Loss = 0.2945\n"
     ]
    },
    {
     "name": "stderr",
     "output_type": "stream",
     "text": [
      "Epoch 36 - Training: 100%|██████████| 103/103 [00:30<00:00,  3.34it/s]\n",
      "Epoch 36 - Validation: 100%|██████████| 26/26 [00:02<00:00, 10.18it/s]\n"
     ]
    },
    {
     "name": "stdout",
     "output_type": "stream",
     "text": [
      "Iteration 7 - Epoch 36:\n",
      "  Train Acc = 1.0000, Train Prec = 1.0000, Train Rec = 1.0000, Train F-Beta = 1.0000, Train Loss = 0.0009\n",
      "  Val Acc = 0.9536, Val Prec = 0.9543, Val Rec = 0.9536, Val F-Beta = 0.9538, Val Loss = 0.2970\n"
     ]
    },
    {
     "name": "stderr",
     "output_type": "stream",
     "text": [
      "Epoch 37 - Training: 100%|██████████| 103/103 [00:30<00:00,  3.34it/s]\n",
      "Epoch 37 - Validation: 100%|██████████| 26/26 [00:02<00:00, 10.19it/s]\n"
     ]
    },
    {
     "name": "stdout",
     "output_type": "stream",
     "text": [
      "Iteration 7 - Epoch 37:\n",
      "  Train Acc = 1.0000, Train Prec = 1.0000, Train Rec = 1.0000, Train F-Beta = 1.0000, Train Loss = 0.0008\n",
      "  Val Acc = 0.9536, Val Prec = 0.9543, Val Rec = 0.9536, Val F-Beta = 0.9538, Val Loss = 0.2990\n"
     ]
    },
    {
     "name": "stderr",
     "output_type": "stream",
     "text": [
      "Epoch 38 - Training: 100%|██████████| 103/103 [00:30<00:00,  3.34it/s]\n",
      "Epoch 38 - Validation: 100%|██████████| 26/26 [00:02<00:00, 10.19it/s]\n"
     ]
    },
    {
     "name": "stdout",
     "output_type": "stream",
     "text": [
      "Iteration 7 - Epoch 38:\n",
      "  Train Acc = 1.0000, Train Prec = 1.0000, Train Rec = 1.0000, Train F-Beta = 1.0000, Train Loss = 0.0008\n",
      "  Val Acc = 0.9536, Val Prec = 0.9542, Val Rec = 0.9536, Val F-Beta = 0.9537, Val Loss = 0.2926\n"
     ]
    },
    {
     "name": "stderr",
     "output_type": "stream",
     "text": [
      "Epoch 39 - Training: 100%|██████████| 103/103 [00:30<00:00,  3.34it/s]\n",
      "Epoch 39 - Validation: 100%|██████████| 26/26 [00:02<00:00, 10.18it/s]\n"
     ]
    },
    {
     "name": "stdout",
     "output_type": "stream",
     "text": [
      "Iteration 7 - Epoch 39:\n",
      "  Train Acc = 1.0000, Train Prec = 1.0000, Train Rec = 1.0000, Train F-Beta = 1.0000, Train Loss = 0.0007\n",
      "  Val Acc = 0.9536, Val Prec = 0.9542, Val Rec = 0.9536, Val F-Beta = 0.9537, Val Loss = 0.2951\n"
     ]
    },
    {
     "name": "stderr",
     "output_type": "stream",
     "text": [
      "Epoch 40 - Training: 100%|██████████| 103/103 [00:30<00:00,  3.34it/s]\n",
      "Epoch 40 - Validation: 100%|██████████| 26/26 [00:02<00:00, 10.19it/s]\n"
     ]
    },
    {
     "name": "stdout",
     "output_type": "stream",
     "text": [
      "Iteration 7 - Epoch 40:\n",
      "  Train Acc = 1.0000, Train Prec = 1.0000, Train Rec = 1.0000, Train F-Beta = 1.0000, Train Loss = 0.0007\n",
      "  Val Acc = 0.9524, Val Prec = 0.9531, Val Rec = 0.9524, Val F-Beta = 0.9526, Val Loss = 0.2978\n",
      "Iteration 8/20\n"
     ]
    },
    {
     "name": "stderr",
     "output_type": "stream",
     "text": [
      "Some weights of ElectraForSequenceClassification were not initialized from the model checkpoint at beomi/KcELECTRA-base-v2022 and are newly initialized: ['classifier.dense.bias', 'classifier.dense.weight', 'classifier.out_proj.bias', 'classifier.out_proj.weight']\n",
      "You should probably TRAIN this model on a down-stream task to be able to use it for predictions and inference.\n",
      "Epoch 1 - Training: 100%|██████████| 103/103 [00:30<00:00,  3.34it/s]\n",
      "Epoch 1 - Validation: 100%|██████████| 26/26 [00:02<00:00, 10.17it/s]\n"
     ]
    },
    {
     "name": "stdout",
     "output_type": "stream",
     "text": [
      "Iteration 8 - Epoch 1:\n",
      "  Train Acc = 0.2956, Train Prec = 0.2214, Train Rec = 0.2956, Train F-Beta = 0.1578, Train Loss = 2.2930\n",
      "  Val Acc = 0.4676, Val Prec = 0.4187, Val Rec = 0.4676, Val F-Beta = 0.3190, Val Loss = 1.7757\n"
     ]
    },
    {
     "name": "stderr",
     "output_type": "stream",
     "text": [
      "Epoch 2 - Training: 100%|██████████| 103/103 [00:30<00:00,  3.34it/s]\n",
      "Epoch 2 - Validation: 100%|██████████| 26/26 [00:02<00:00, 10.17it/s]\n"
     ]
    },
    {
     "name": "stdout",
     "output_type": "stream",
     "text": [
      "Iteration 8 - Epoch 2:\n",
      "  Train Acc = 0.5963, Train Prec = 0.6922, Train Rec = 0.5963, Train F-Beta = 0.5270, Train Loss = 1.4001\n",
      "  Val Acc = 0.7277, Val Prec = 0.6687, Val Rec = 0.7277, Val F-Beta = 0.6668, Val Loss = 1.0217\n"
     ]
    },
    {
     "name": "stderr",
     "output_type": "stream",
     "text": [
      "Epoch 3 - Training: 100%|██████████| 103/103 [00:30<00:00,  3.34it/s]\n",
      "Epoch 3 - Validation: 100%|██████████| 26/26 [00:02<00:00, 10.19it/s]\n"
     ]
    },
    {
     "name": "stdout",
     "output_type": "stream",
     "text": [
      "Iteration 8 - Epoch 3:\n",
      "  Train Acc = 0.8394, Train Prec = 0.8553, Train Rec = 0.8394, Train F-Beta = 0.8313, Train Loss = 0.7419\n",
      "  Val Acc = 0.8571, Val Prec = 0.8829, Val Rec = 0.8571, Val F-Beta = 0.8576, Val Loss = 0.5621\n"
     ]
    },
    {
     "name": "stderr",
     "output_type": "stream",
     "text": [
      "Epoch 4 - Training: 100%|██████████| 103/103 [00:30<00:00,  3.34it/s]\n",
      "Epoch 4 - Validation: 100%|██████████| 26/26 [00:02<00:00, 10.18it/s]\n"
     ]
    },
    {
     "name": "stdout",
     "output_type": "stream",
     "text": [
      "Iteration 8 - Epoch 4:\n",
      "  Train Acc = 0.9499, Train Prec = 0.9509, Train Rec = 0.9499, Train F-Beta = 0.9500, Train Loss = 0.3483\n",
      "  Val Acc = 0.9451, Val Prec = 0.9469, Val Rec = 0.9451, Val F-Beta = 0.9460, Val Loss = 0.3016\n"
     ]
    },
    {
     "name": "stderr",
     "output_type": "stream",
     "text": [
      "Epoch 5 - Training: 100%|██████████| 103/103 [00:30<00:00,  3.34it/s]\n",
      "Epoch 5 - Validation: 100%|██████████| 26/26 [00:02<00:00, 10.16it/s]\n"
     ]
    },
    {
     "name": "stdout",
     "output_type": "stream",
     "text": [
      "Iteration 8 - Epoch 5:\n",
      "  Train Acc = 0.9792, Train Prec = 0.9794, Train Rec = 0.9792, Train F-Beta = 0.9793, Train Loss = 0.1668\n",
      "  Val Acc = 0.9219, Val Prec = 0.9265, Val Rec = 0.9219, Val F-Beta = 0.9241, Val Loss = 0.3193\n"
     ]
    },
    {
     "name": "stderr",
     "output_type": "stream",
     "text": [
      "Epoch 6 - Training: 100%|██████████| 103/103 [00:30<00:00,  3.34it/s]\n",
      "Epoch 6 - Validation: 100%|██████████| 26/26 [00:02<00:00, 10.19it/s]\n"
     ]
    },
    {
     "name": "stdout",
     "output_type": "stream",
     "text": [
      "Iteration 8 - Epoch 6:\n",
      "  Train Acc = 0.9860, Train Prec = 0.9861, Train Rec = 0.9860, Train F-Beta = 0.9861, Train Loss = 0.1065\n",
      "  Val Acc = 0.9487, Val Prec = 0.9509, Val Rec = 0.9487, Val F-Beta = 0.9497, Val Loss = 0.2215\n"
     ]
    },
    {
     "name": "stderr",
     "output_type": "stream",
     "text": [
      "Epoch 7 - Training: 100%|██████████| 103/103 [00:30<00:00,  3.34it/s]\n",
      "Epoch 7 - Validation: 100%|██████████| 26/26 [00:02<00:00, 10.17it/s]\n"
     ]
    },
    {
     "name": "stdout",
     "output_type": "stream",
     "text": [
      "Iteration 8 - Epoch 7:\n",
      "  Train Acc = 0.9927, Train Prec = 0.9927, Train Rec = 0.9927, Train F-Beta = 0.9927, Train Loss = 0.0630\n",
      "  Val Acc = 0.9512, Val Prec = 0.9535, Val Rec = 0.9512, Val F-Beta = 0.9525, Val Loss = 0.2200\n",
      "  Better model saved with 0.9525 F-beta score.\n"
     ]
    },
    {
     "name": "stderr",
     "output_type": "stream",
     "text": [
      "Epoch 8 - Training: 100%|██████████| 103/103 [00:30<00:00,  3.34it/s]\n",
      "Epoch 8 - Validation: 100%|██████████| 26/26 [00:02<00:00, 10.17it/s]\n"
     ]
    },
    {
     "name": "stdout",
     "output_type": "stream",
     "text": [
      "Iteration 8 - Epoch 8:\n",
      "  Train Acc = 0.9963, Train Prec = 0.9964, Train Rec = 0.9963, Train F-Beta = 0.9963, Train Loss = 0.0376\n",
      "  Val Acc = 0.9463, Val Prec = 0.9475, Val Rec = 0.9463, Val F-Beta = 0.9467, Val Loss = 0.2492\n"
     ]
    },
    {
     "name": "stderr",
     "output_type": "stream",
     "text": [
      "Epoch 9 - Training: 100%|██████████| 103/103 [00:30<00:00,  3.34it/s]\n",
      "Epoch 9 - Validation: 100%|██████████| 26/26 [00:02<00:00, 10.17it/s]\n"
     ]
    },
    {
     "name": "stdout",
     "output_type": "stream",
     "text": [
      "Iteration 8 - Epoch 9:\n",
      "  Train Acc = 0.9927, Train Prec = 0.9927, Train Rec = 0.9927, Train F-Beta = 0.9927, Train Loss = 0.0421\n",
      "  Val Acc = 0.9389, Val Prec = 0.9399, Val Rec = 0.9389, Val F-Beta = 0.9394, Val Loss = 0.2626\n"
     ]
    },
    {
     "name": "stderr",
     "output_type": "stream",
     "text": [
      "Epoch 10 - Training: 100%|██████████| 103/103 [00:30<00:00,  3.34it/s]\n",
      "Epoch 10 - Validation: 100%|██████████| 26/26 [00:02<00:00, 10.19it/s]\n"
     ]
    },
    {
     "name": "stdout",
     "output_type": "stream",
     "text": [
      "Iteration 8 - Epoch 10:\n",
      "  Train Acc = 0.9982, Train Prec = 0.9982, Train Rec = 0.9982, Train F-Beta = 0.9982, Train Loss = 0.0253\n",
      "  Val Acc = 0.9475, Val Prec = 0.9485, Val Rec = 0.9475, Val F-Beta = 0.9479, Val Loss = 0.2479\n"
     ]
    },
    {
     "name": "stderr",
     "output_type": "stream",
     "text": [
      "Epoch 11 - Training: 100%|██████████| 103/103 [00:30<00:00,  3.34it/s]\n",
      "Epoch 11 - Validation: 100%|██████████| 26/26 [00:02<00:00, 10.17it/s]\n"
     ]
    },
    {
     "name": "stdout",
     "output_type": "stream",
     "text": [
      "Iteration 8 - Epoch 11:\n",
      "  Train Acc = 0.9969, Train Prec = 0.9969, Train Rec = 0.9969, Train F-Beta = 0.9969, Train Loss = 0.0220\n",
      "  Val Acc = 0.9328, Val Prec = 0.9370, Val Rec = 0.9328, Val F-Beta = 0.9347, Val Loss = 0.3018\n"
     ]
    },
    {
     "name": "stderr",
     "output_type": "stream",
     "text": [
      "Epoch 12 - Training: 100%|██████████| 103/103 [00:30<00:00,  3.34it/s]\n",
      "Epoch 12 - Validation: 100%|██████████| 26/26 [00:02<00:00, 10.19it/s]\n"
     ]
    },
    {
     "name": "stdout",
     "output_type": "stream",
     "text": [
      "Iteration 8 - Epoch 12:\n",
      "  Train Acc = 0.9988, Train Prec = 0.9988, Train Rec = 0.9988, Train F-Beta = 0.9988, Train Loss = 0.0134\n",
      "  Val Acc = 0.9499, Val Prec = 0.9506, Val Rec = 0.9499, Val F-Beta = 0.9502, Val Loss = 0.2577\n"
     ]
    },
    {
     "name": "stderr",
     "output_type": "stream",
     "text": [
      "Epoch 13 - Training: 100%|██████████| 103/103 [00:30<00:00,  3.34it/s]\n",
      "Epoch 13 - Validation: 100%|██████████| 26/26 [00:02<00:00, 10.18it/s]\n"
     ]
    },
    {
     "name": "stdout",
     "output_type": "stream",
     "text": [
      "Iteration 8 - Epoch 13:\n",
      "  Train Acc = 0.9985, Train Prec = 0.9985, Train Rec = 0.9985, Train F-Beta = 0.9985, Train Loss = 0.0116\n",
      "  Val Acc = 0.9438, Val Prec = 0.9443, Val Rec = 0.9438, Val F-Beta = 0.9439, Val Loss = 0.2829\n"
     ]
    },
    {
     "name": "stderr",
     "output_type": "stream",
     "text": [
      "Epoch 14 - Training: 100%|██████████| 103/103 [00:30<00:00,  3.34it/s]\n",
      "Epoch 14 - Validation: 100%|██████████| 26/26 [00:02<00:00, 10.18it/s]\n"
     ]
    },
    {
     "name": "stdout",
     "output_type": "stream",
     "text": [
      "Iteration 8 - Epoch 14:\n",
      "  Train Acc = 0.9966, Train Prec = 0.9966, Train Rec = 0.9966, Train F-Beta = 0.9966, Train Loss = 0.0188\n",
      "  Val Acc = 0.9487, Val Prec = 0.9499, Val Rec = 0.9487, Val F-Beta = 0.9491, Val Loss = 0.2749\n"
     ]
    },
    {
     "name": "stderr",
     "output_type": "stream",
     "text": [
      "Epoch 15 - Training: 100%|██████████| 103/103 [00:30<00:00,  3.34it/s]\n",
      "Epoch 15 - Validation: 100%|██████████| 26/26 [00:02<00:00, 10.19it/s]\n"
     ]
    },
    {
     "name": "stdout",
     "output_type": "stream",
     "text": [
      "Iteration 8 - Epoch 15:\n",
      "  Train Acc = 0.9930, Train Prec = 0.9930, Train Rec = 0.9930, Train F-Beta = 0.9930, Train Loss = 0.0297\n",
      "  Val Acc = 0.9365, Val Prec = 0.9401, Val Rec = 0.9365, Val F-Beta = 0.9384, Val Loss = 0.3046\n"
     ]
    },
    {
     "name": "stderr",
     "output_type": "stream",
     "text": [
      "Epoch 16 - Training: 100%|██████████| 103/103 [00:30<00:00,  3.34it/s]\n",
      "Epoch 16 - Validation: 100%|██████████| 26/26 [00:02<00:00, 10.19it/s]\n"
     ]
    },
    {
     "name": "stdout",
     "output_type": "stream",
     "text": [
      "Iteration 8 - Epoch 16:\n",
      "  Train Acc = 0.9942, Train Prec = 0.9942, Train Rec = 0.9942, Train F-Beta = 0.9942, Train Loss = 0.0317\n",
      "  Val Acc = 0.9426, Val Prec = 0.9435, Val Rec = 0.9426, Val F-Beta = 0.9429, Val Loss = 0.3012\n"
     ]
    },
    {
     "name": "stderr",
     "output_type": "stream",
     "text": [
      "Epoch 17 - Training: 100%|██████████| 103/103 [00:30<00:00,  3.34it/s]\n",
      "Epoch 17 - Validation: 100%|██████████| 26/26 [00:02<00:00, 10.17it/s]\n"
     ]
    },
    {
     "name": "stdout",
     "output_type": "stream",
     "text": [
      "Iteration 8 - Epoch 17:\n",
      "  Train Acc = 0.9966, Train Prec = 0.9967, Train Rec = 0.9966, Train F-Beta = 0.9966, Train Loss = 0.0204\n",
      "  Val Acc = 0.9219, Val Prec = 0.9271, Val Rec = 0.9219, Val F-Beta = 0.9232, Val Loss = 0.4050\n"
     ]
    },
    {
     "name": "stderr",
     "output_type": "stream",
     "text": [
      "Epoch 18 - Training: 100%|██████████| 103/103 [00:30<00:00,  3.34it/s]\n",
      "Epoch 18 - Validation: 100%|██████████| 26/26 [00:02<00:00, 10.19it/s]\n"
     ]
    },
    {
     "name": "stdout",
     "output_type": "stream",
     "text": [
      "Iteration 8 - Epoch 18:\n",
      "  Train Acc = 0.9899, Train Prec = 0.9900, Train Rec = 0.9899, Train F-Beta = 0.9899, Train Loss = 0.0514\n",
      "  Val Acc = 0.9463, Val Prec = 0.9468, Val Rec = 0.9463, Val F-Beta = 0.9463, Val Loss = 0.2975\n"
     ]
    },
    {
     "name": "stderr",
     "output_type": "stream",
     "text": [
      "Epoch 19 - Training: 100%|██████████| 103/103 [00:30<00:00,  3.34it/s]\n",
      "Epoch 19 - Validation: 100%|██████████| 26/26 [00:02<00:00, 10.19it/s]\n"
     ]
    },
    {
     "name": "stdout",
     "output_type": "stream",
     "text": [
      "Iteration 8 - Epoch 19:\n",
      "  Train Acc = 0.9963, Train Prec = 0.9963, Train Rec = 0.9963, Train F-Beta = 0.9963, Train Loss = 0.0157\n",
      "  Val Acc = 0.9414, Val Prec = 0.9432, Val Rec = 0.9414, Val F-Beta = 0.9422, Val Loss = 0.2936\n"
     ]
    },
    {
     "name": "stderr",
     "output_type": "stream",
     "text": [
      "Epoch 20 - Training: 100%|██████████| 103/103 [00:30<00:00,  3.34it/s]\n",
      "Epoch 20 - Validation: 100%|██████████| 26/26 [00:02<00:00, 10.16it/s]\n"
     ]
    },
    {
     "name": "stdout",
     "output_type": "stream",
     "text": [
      "Iteration 8 - Epoch 20:\n",
      "  Train Acc = 0.9924, Train Prec = 0.9924, Train Rec = 0.9924, Train F-Beta = 0.9924, Train Loss = 0.0351\n",
      "  Val Acc = 0.9292, Val Prec = 0.9373, Val Rec = 0.9292, Val F-Beta = 0.9340, Val Loss = 0.3391\n"
     ]
    },
    {
     "name": "stderr",
     "output_type": "stream",
     "text": [
      "Epoch 21 - Training: 100%|██████████| 103/103 [00:30<00:00,  3.34it/s]\n",
      "Epoch 21 - Validation: 100%|██████████| 26/26 [00:02<00:00, 10.16it/s]\n"
     ]
    },
    {
     "name": "stdout",
     "output_type": "stream",
     "text": [
      "Iteration 8 - Epoch 21:\n",
      "  Train Acc = 0.9973, Train Prec = 0.9973, Train Rec = 0.9973, Train F-Beta = 0.9973, Train Loss = 0.0164\n",
      "  Val Acc = 0.9438, Val Prec = 0.9472, Val Rec = 0.9438, Val F-Beta = 0.9457, Val Loss = 0.3361\n"
     ]
    },
    {
     "name": "stderr",
     "output_type": "stream",
     "text": [
      "Epoch 22 - Training: 100%|██████████| 103/103 [00:30<00:00,  3.34it/s]\n",
      "Epoch 22 - Validation: 100%|██████████| 26/26 [00:02<00:00, 10.19it/s]\n"
     ]
    },
    {
     "name": "stdout",
     "output_type": "stream",
     "text": [
      "Iteration 8 - Epoch 22:\n",
      "  Train Acc = 0.9966, Train Prec = 0.9967, Train Rec = 0.9966, Train F-Beta = 0.9967, Train Loss = 0.0151\n",
      "  Val Acc = 0.9451, Val Prec = 0.9452, Val Rec = 0.9451, Val F-Beta = 0.9450, Val Loss = 0.2724\n"
     ]
    },
    {
     "name": "stderr",
     "output_type": "stream",
     "text": [
      "Epoch 23 - Training: 100%|██████████| 103/103 [00:30<00:00,  3.34it/s]\n",
      "Epoch 23 - Validation: 100%|██████████| 26/26 [00:02<00:00, 10.17it/s]\n"
     ]
    },
    {
     "name": "stdout",
     "output_type": "stream",
     "text": [
      "Iteration 8 - Epoch 23:\n",
      "  Train Acc = 0.9994, Train Prec = 0.9994, Train Rec = 0.9994, Train F-Beta = 0.9994, Train Loss = 0.0051\n",
      "  Val Acc = 0.9475, Val Prec = 0.9478, Val Rec = 0.9475, Val F-Beta = 0.9475, Val Loss = 0.2863\n"
     ]
    },
    {
     "name": "stderr",
     "output_type": "stream",
     "text": [
      "Epoch 24 - Training: 100%|██████████| 103/103 [00:30<00:00,  3.34it/s]\n",
      "Epoch 24 - Validation: 100%|██████████| 26/26 [00:02<00:00, 10.18it/s]\n"
     ]
    },
    {
     "name": "stdout",
     "output_type": "stream",
     "text": [
      "Iteration 8 - Epoch 24:\n",
      "  Train Acc = 0.9982, Train Prec = 0.9982, Train Rec = 0.9982, Train F-Beta = 0.9982, Train Loss = 0.0073\n",
      "  Val Acc = 0.9475, Val Prec = 0.9484, Val Rec = 0.9475, Val F-Beta = 0.9478, Val Loss = 0.3019\n"
     ]
    },
    {
     "name": "stderr",
     "output_type": "stream",
     "text": [
      "Epoch 25 - Training: 100%|██████████| 103/103 [00:30<00:00,  3.34it/s]\n",
      "Epoch 25 - Validation: 100%|██████████| 26/26 [00:02<00:00, 10.18it/s]\n"
     ]
    },
    {
     "name": "stdout",
     "output_type": "stream",
     "text": [
      "Iteration 8 - Epoch 25:\n",
      "  Train Acc = 0.9988, Train Prec = 0.9988, Train Rec = 0.9988, Train F-Beta = 0.9988, Train Loss = 0.0054\n",
      "  Val Acc = 0.9438, Val Prec = 0.9447, Val Rec = 0.9438, Val F-Beta = 0.9437, Val Loss = 0.3254\n"
     ]
    },
    {
     "name": "stderr",
     "output_type": "stream",
     "text": [
      "Epoch 26 - Training: 100%|██████████| 103/103 [00:30<00:00,  3.34it/s]\n",
      "Epoch 26 - Validation: 100%|██████████| 26/26 [00:02<00:00, 10.16it/s]\n"
     ]
    },
    {
     "name": "stdout",
     "output_type": "stream",
     "text": [
      "Iteration 8 - Epoch 26:\n",
      "  Train Acc = 0.9988, Train Prec = 0.9988, Train Rec = 0.9988, Train F-Beta = 0.9988, Train Loss = 0.0065\n",
      "  Val Acc = 0.9548, Val Prec = 0.9552, Val Rec = 0.9548, Val F-Beta = 0.9549, Val Loss = 0.2877\n",
      "  Better model saved with 0.9549 F-beta score.\n"
     ]
    },
    {
     "name": "stderr",
     "output_type": "stream",
     "text": [
      "Epoch 27 - Training: 100%|██████████| 103/103 [00:30<00:00,  3.34it/s]\n",
      "Epoch 27 - Validation: 100%|██████████| 26/26 [00:02<00:00, 10.18it/s]\n"
     ]
    },
    {
     "name": "stdout",
     "output_type": "stream",
     "text": [
      "Iteration 8 - Epoch 27:\n",
      "  Train Acc = 0.9997, Train Prec = 0.9997, Train Rec = 0.9997, Train F-Beta = 0.9997, Train Loss = 0.0023\n",
      "  Val Acc = 0.9536, Val Prec = 0.9545, Val Rec = 0.9536, Val F-Beta = 0.9540, Val Loss = 0.3079\n"
     ]
    },
    {
     "name": "stderr",
     "output_type": "stream",
     "text": [
      "Epoch 28 - Training: 100%|██████████| 103/103 [00:30<00:00,  3.34it/s]\n",
      "Epoch 28 - Validation: 100%|██████████| 26/26 [00:02<00:00, 10.16it/s]\n"
     ]
    },
    {
     "name": "stdout",
     "output_type": "stream",
     "text": [
      "Iteration 8 - Epoch 28:\n",
      "  Train Acc = 0.9994, Train Prec = 0.9994, Train Rec = 0.9994, Train F-Beta = 0.9994, Train Loss = 0.0045\n",
      "  Val Acc = 0.9206, Val Prec = 0.9287, Val Rec = 0.9206, Val F-Beta = 0.9238, Val Loss = 0.5221\n"
     ]
    },
    {
     "name": "stderr",
     "output_type": "stream",
     "text": [
      "Epoch 29 - Training: 100%|██████████| 103/103 [00:30<00:00,  3.34it/s]\n",
      "Epoch 29 - Validation: 100%|██████████| 26/26 [00:02<00:00, 10.17it/s]\n"
     ]
    },
    {
     "name": "stdout",
     "output_type": "stream",
     "text": [
      "Iteration 8 - Epoch 29:\n",
      "  Train Acc = 0.9957, Train Prec = 0.9957, Train Rec = 0.9957, Train F-Beta = 0.9957, Train Loss = 0.0182\n",
      "  Val Acc = 0.9475, Val Prec = 0.9491, Val Rec = 0.9475, Val F-Beta = 0.9481, Val Loss = 0.3085\n"
     ]
    },
    {
     "name": "stderr",
     "output_type": "stream",
     "text": [
      "Epoch 30 - Training: 100%|██████████| 103/103 [00:30<00:00,  3.34it/s]\n",
      "Epoch 30 - Validation: 100%|██████████| 26/26 [00:02<00:00, 10.15it/s]\n"
     ]
    },
    {
     "name": "stdout",
     "output_type": "stream",
     "text": [
      "Iteration 8 - Epoch 30:\n",
      "  Train Acc = 1.0000, Train Prec = 1.0000, Train Rec = 1.0000, Train F-Beta = 1.0000, Train Loss = 0.0020\n",
      "  Val Acc = 0.9536, Val Prec = 0.9543, Val Rec = 0.9536, Val F-Beta = 0.9538, Val Loss = 0.2982\n"
     ]
    },
    {
     "name": "stderr",
     "output_type": "stream",
     "text": [
      "Epoch 31 - Training: 100%|██████████| 103/103 [00:30<00:00,  3.34it/s]\n",
      "Epoch 31 - Validation: 100%|██████████| 26/26 [00:02<00:00, 10.17it/s]\n"
     ]
    },
    {
     "name": "stdout",
     "output_type": "stream",
     "text": [
      "Iteration 8 - Epoch 31:\n",
      "  Train Acc = 0.9939, Train Prec = 0.9940, Train Rec = 0.9939, Train F-Beta = 0.9939, Train Loss = 0.0261\n",
      "  Val Acc = 0.9512, Val Prec = 0.9530, Val Rec = 0.9512, Val F-Beta = 0.9518, Val Loss = 0.3123\n"
     ]
    },
    {
     "name": "stderr",
     "output_type": "stream",
     "text": [
      "Epoch 32 - Training: 100%|██████████| 103/103 [00:30<00:00,  3.34it/s]\n",
      "Epoch 32 - Validation: 100%|██████████| 26/26 [00:02<00:00, 10.16it/s]\n"
     ]
    },
    {
     "name": "stdout",
     "output_type": "stream",
     "text": [
      "Iteration 8 - Epoch 32:\n",
      "  Train Acc = 0.9954, Train Prec = 0.9954, Train Rec = 0.9954, Train F-Beta = 0.9954, Train Loss = 0.0195\n",
      "  Val Acc = 0.9438, Val Prec = 0.9463, Val Rec = 0.9438, Val F-Beta = 0.9448, Val Loss = 0.3307\n"
     ]
    },
    {
     "name": "stderr",
     "output_type": "stream",
     "text": [
      "Epoch 33 - Training: 100%|██████████| 103/103 [00:30<00:00,  3.34it/s]\n",
      "Epoch 33 - Validation: 100%|██████████| 26/26 [00:02<00:00, 10.16it/s]\n"
     ]
    },
    {
     "name": "stdout",
     "output_type": "stream",
     "text": [
      "Iteration 8 - Epoch 33:\n",
      "  Train Acc = 0.9966, Train Prec = 0.9966, Train Rec = 0.9966, Train F-Beta = 0.9966, Train Loss = 0.0121\n",
      "  Val Acc = 0.9402, Val Prec = 0.9415, Val Rec = 0.9402, Val F-Beta = 0.9407, Val Loss = 0.3276\n"
     ]
    },
    {
     "name": "stderr",
     "output_type": "stream",
     "text": [
      "Epoch 34 - Training: 100%|██████████| 103/103 [00:30<00:00,  3.34it/s]\n",
      "Epoch 34 - Validation: 100%|██████████| 26/26 [00:02<00:00, 10.17it/s]\n"
     ]
    },
    {
     "name": "stdout",
     "output_type": "stream",
     "text": [
      "Iteration 8 - Epoch 34:\n",
      "  Train Acc = 0.9976, Train Prec = 0.9976, Train Rec = 0.9976, Train F-Beta = 0.9976, Train Loss = 0.0100\n",
      "  Val Acc = 0.9389, Val Prec = 0.9418, Val Rec = 0.9389, Val F-Beta = 0.9405, Val Loss = 0.3682\n"
     ]
    },
    {
     "name": "stderr",
     "output_type": "stream",
     "text": [
      "Epoch 35 - Training: 100%|██████████| 103/103 [00:30<00:00,  3.34it/s]\n",
      "Epoch 35 - Validation: 100%|██████████| 26/26 [00:02<00:00, 10.18it/s]\n"
     ]
    },
    {
     "name": "stdout",
     "output_type": "stream",
     "text": [
      "Iteration 8 - Epoch 35:\n",
      "  Train Acc = 0.9973, Train Prec = 0.9973, Train Rec = 0.9973, Train F-Beta = 0.9973, Train Loss = 0.0138\n",
      "  Val Acc = 0.9536, Val Prec = 0.9546, Val Rec = 0.9536, Val F-Beta = 0.9541, Val Loss = 0.2806\n"
     ]
    },
    {
     "name": "stderr",
     "output_type": "stream",
     "text": [
      "Epoch 36 - Training: 100%|██████████| 103/103 [00:30<00:00,  3.34it/s]\n",
      "Epoch 36 - Validation: 100%|██████████| 26/26 [00:02<00:00, 10.17it/s]\n"
     ]
    },
    {
     "name": "stdout",
     "output_type": "stream",
     "text": [
      "Iteration 8 - Epoch 36:\n",
      "  Train Acc = 0.9969, Train Prec = 0.9970, Train Rec = 0.9969, Train F-Beta = 0.9970, Train Loss = 0.0144\n",
      "  Val Acc = 0.9524, Val Prec = 0.9532, Val Rec = 0.9524, Val F-Beta = 0.9527, Val Loss = 0.2725\n"
     ]
    },
    {
     "name": "stderr",
     "output_type": "stream",
     "text": [
      "Epoch 37 - Training: 100%|██████████| 103/103 [00:30<00:00,  3.34it/s]\n",
      "Epoch 37 - Validation: 100%|██████████| 26/26 [00:02<00:00, 10.16it/s]\n"
     ]
    },
    {
     "name": "stdout",
     "output_type": "stream",
     "text": [
      "Iteration 8 - Epoch 37:\n",
      "  Train Acc = 0.9951, Train Prec = 0.9951, Train Rec = 0.9951, Train F-Beta = 0.9951, Train Loss = 0.0183\n",
      "  Val Acc = 0.9475, Val Prec = 0.9491, Val Rec = 0.9475, Val F-Beta = 0.9481, Val Loss = 0.3237\n"
     ]
    },
    {
     "name": "stderr",
     "output_type": "stream",
     "text": [
      "Epoch 38 - Training: 100%|██████████| 103/103 [00:30<00:00,  3.34it/s]\n",
      "Epoch 38 - Validation: 100%|██████████| 26/26 [00:02<00:00, 10.16it/s]\n"
     ]
    },
    {
     "name": "stdout",
     "output_type": "stream",
     "text": [
      "Iteration 8 - Epoch 38:\n",
      "  Train Acc = 0.9988, Train Prec = 0.9988, Train Rec = 0.9988, Train F-Beta = 0.9988, Train Loss = 0.0062\n",
      "  Val Acc = 0.9389, Val Prec = 0.9431, Val Rec = 0.9389, Val F-Beta = 0.9410, Val Loss = 0.3865\n"
     ]
    },
    {
     "name": "stderr",
     "output_type": "stream",
     "text": [
      "Epoch 39 - Training: 100%|██████████| 103/103 [00:30<00:00,  3.34it/s]\n",
      "Epoch 39 - Validation: 100%|██████████| 26/26 [00:02<00:00, 10.15it/s]\n"
     ]
    },
    {
     "name": "stdout",
     "output_type": "stream",
     "text": [
      "Iteration 8 - Epoch 39:\n",
      "  Train Acc = 0.9997, Train Prec = 0.9997, Train Rec = 0.9997, Train F-Beta = 0.9997, Train Loss = 0.0018\n",
      "  Val Acc = 0.9524, Val Prec = 0.9536, Val Rec = 0.9524, Val F-Beta = 0.9529, Val Loss = 0.3209\n"
     ]
    },
    {
     "name": "stderr",
     "output_type": "stream",
     "text": [
      "Epoch 40 - Training: 100%|██████████| 103/103 [00:30<00:00,  3.34it/s]\n",
      "Epoch 40 - Validation: 100%|██████████| 26/26 [00:02<00:00, 10.17it/s]\n"
     ]
    },
    {
     "name": "stdout",
     "output_type": "stream",
     "text": [
      "Iteration 8 - Epoch 40:\n",
      "  Train Acc = 0.9997, Train Prec = 0.9997, Train Rec = 0.9997, Train F-Beta = 0.9997, Train Loss = 0.0032\n",
      "  Val Acc = 0.9536, Val Prec = 0.9543, Val Rec = 0.9536, Val F-Beta = 0.9538, Val Loss = 0.3099\n",
      "Iteration 9/20\n"
     ]
    },
    {
     "name": "stderr",
     "output_type": "stream",
     "text": [
      "Some weights of ElectraForSequenceClassification were not initialized from the model checkpoint at beomi/KcELECTRA-base-v2022 and are newly initialized: ['classifier.dense.bias', 'classifier.dense.weight', 'classifier.out_proj.bias', 'classifier.out_proj.weight']\n",
      "You should probably TRAIN this model on a down-stream task to be able to use it for predictions and inference.\n",
      "Epoch 1 - Training: 100%|██████████| 103/103 [00:30<00:00,  3.34it/s]\n",
      "Epoch 1 - Validation: 100%|██████████| 26/26 [00:02<00:00, 10.16it/s]\n"
     ]
    },
    {
     "name": "stdout",
     "output_type": "stream",
     "text": [
      "Iteration 9 - Epoch 1:\n",
      "  Train Acc = 0.2855, Train Prec = 0.1754, Train Rec = 0.2855, Train F-Beta = 0.1613, Train Loss = 2.3153\n",
      "  Val Acc = 0.4567, Val Prec = 0.2814, Val Rec = 0.4567, Val F-Beta = 0.2987, Val Loss = 1.8324\n"
     ]
    },
    {
     "name": "stderr",
     "output_type": "stream",
     "text": [
      "Epoch 2 - Training: 100%|██████████| 103/103 [00:30<00:00,  3.34it/s]\n",
      "Epoch 2 - Validation: 100%|██████████| 26/26 [00:02<00:00, 10.17it/s]\n"
     ]
    },
    {
     "name": "stdout",
     "output_type": "stream",
     "text": [
      "Iteration 9 - Epoch 2:\n",
      "  Train Acc = 0.5698, Train Prec = 0.5492, Train Rec = 0.5698, Train F-Beta = 0.4892, Train Loss = 1.4723\n",
      "  Val Acc = 0.6838, Val Prec = 0.6749, Val Rec = 0.6838, Val F-Beta = 0.6016, Val Loss = 1.0932\n"
     ]
    },
    {
     "name": "stderr",
     "output_type": "stream",
     "text": [
      "Epoch 3 - Training: 100%|██████████| 103/103 [00:30<00:00,  3.34it/s]\n",
      "Epoch 3 - Validation: 100%|██████████| 26/26 [00:02<00:00, 10.16it/s]\n"
     ]
    },
    {
     "name": "stdout",
     "output_type": "stream",
     "text": [
      "Iteration 9 - Epoch 3:\n",
      "  Train Acc = 0.8235, Train Prec = 0.8437, Train Rec = 0.8235, Train F-Beta = 0.8099, Train Loss = 0.7836\n",
      "  Val Acc = 0.8706, Val Prec = 0.8977, Val Rec = 0.8706, Val F-Beta = 0.8605, Val Loss = 0.5588\n"
     ]
    },
    {
     "name": "stderr",
     "output_type": "stream",
     "text": [
      "Epoch 4 - Training: 100%|██████████| 103/103 [00:30<00:00,  3.34it/s]\n",
      "Epoch 4 - Validation: 100%|██████████| 26/26 [00:02<00:00, 10.18it/s]\n"
     ]
    },
    {
     "name": "stdout",
     "output_type": "stream",
     "text": [
      "Iteration 9 - Epoch 4:\n",
      "  Train Acc = 0.9432, Train Prec = 0.9465, Train Rec = 0.9432, Train F-Beta = 0.9439, Train Loss = 0.3707\n",
      "  Val Acc = 0.9389, Val Prec = 0.9408, Val Rec = 0.9389, Val F-Beta = 0.9398, Val Loss = 0.3341\n"
     ]
    },
    {
     "name": "stderr",
     "output_type": "stream",
     "text": [
      "Epoch 5 - Training: 100%|██████████| 103/103 [00:30<00:00,  3.34it/s]\n",
      "Epoch 5 - Validation: 100%|██████████| 26/26 [00:02<00:00, 10.17it/s]\n"
     ]
    },
    {
     "name": "stdout",
     "output_type": "stream",
     "text": [
      "Iteration 9 - Epoch 5:\n",
      "  Train Acc = 0.9722, Train Prec = 0.9723, Train Rec = 0.9722, Train F-Beta = 0.9722, Train Loss = 0.1921\n",
      "  Val Acc = 0.9365, Val Prec = 0.9379, Val Rec = 0.9365, Val F-Beta = 0.9366, Val Loss = 0.2894\n"
     ]
    },
    {
     "name": "stderr",
     "output_type": "stream",
     "text": [
      "Epoch 6 - Training: 100%|██████████| 103/103 [00:30<00:00,  3.34it/s]\n",
      "Epoch 6 - Validation: 100%|██████████| 26/26 [00:02<00:00, 10.18it/s]\n"
     ]
    },
    {
     "name": "stdout",
     "output_type": "stream",
     "text": [
      "Iteration 9 - Epoch 6:\n",
      "  Train Acc = 0.9850, Train Prec = 0.9851, Train Rec = 0.9850, Train F-Beta = 0.9850, Train Loss = 0.1070\n",
      "  Val Acc = 0.9328, Val Prec = 0.9349, Val Rec = 0.9328, Val F-Beta = 0.9338, Val Loss = 0.2642\n"
     ]
    },
    {
     "name": "stderr",
     "output_type": "stream",
     "text": [
      "Epoch 7 - Training: 100%|██████████| 103/103 [00:30<00:00,  3.34it/s]\n",
      "Epoch 7 - Validation: 100%|██████████| 26/26 [00:02<00:00, 10.17it/s]\n"
     ]
    },
    {
     "name": "stdout",
     "output_type": "stream",
     "text": [
      "Iteration 9 - Epoch 7:\n",
      "  Train Acc = 0.9884, Train Prec = 0.9884, Train Rec = 0.9884, Train F-Beta = 0.9884, Train Loss = 0.0817\n",
      "  Val Acc = 0.9499, Val Prec = 0.9515, Val Rec = 0.9499, Val F-Beta = 0.9504, Val Loss = 0.2416\n",
      "  Better model saved with 0.9504 F-beta score.\n"
     ]
    },
    {
     "name": "stderr",
     "output_type": "stream",
     "text": [
      "Epoch 8 - Training: 100%|██████████| 103/103 [00:30<00:00,  3.34it/s]\n",
      "Epoch 8 - Validation: 100%|██████████| 26/26 [00:02<00:00, 10.19it/s]\n"
     ]
    },
    {
     "name": "stdout",
     "output_type": "stream",
     "text": [
      "Iteration 9 - Epoch 8:\n",
      "  Train Acc = 0.9927, Train Prec = 0.9927, Train Rec = 0.9927, Train F-Beta = 0.9927, Train Loss = 0.0481\n",
      "  Val Acc = 0.9536, Val Prec = 0.9544, Val Rec = 0.9536, Val F-Beta = 0.9538, Val Loss = 0.2479\n",
      "  Better model saved with 0.9538 F-beta score.\n"
     ]
    },
    {
     "name": "stderr",
     "output_type": "stream",
     "text": [
      "Epoch 9 - Training: 100%|██████████| 103/103 [00:30<00:00,  3.34it/s]\n",
      "Epoch 9 - Validation: 100%|██████████| 26/26 [00:02<00:00, 10.17it/s]\n"
     ]
    },
    {
     "name": "stdout",
     "output_type": "stream",
     "text": [
      "Iteration 9 - Epoch 9:\n",
      "  Train Acc = 0.9945, Train Prec = 0.9945, Train Rec = 0.9945, Train F-Beta = 0.9945, Train Loss = 0.0382\n",
      "  Val Acc = 0.9414, Val Prec = 0.9420, Val Rec = 0.9414, Val F-Beta = 0.9414, Val Loss = 0.2744\n"
     ]
    },
    {
     "name": "stderr",
     "output_type": "stream",
     "text": [
      "Epoch 10 - Training: 100%|██████████| 103/103 [00:30<00:00,  3.34it/s]\n",
      "Epoch 10 - Validation: 100%|██████████| 26/26 [00:02<00:00, 10.18it/s]\n"
     ]
    },
    {
     "name": "stdout",
     "output_type": "stream",
     "text": [
      "Iteration 9 - Epoch 10:\n",
      "  Train Acc = 0.9951, Train Prec = 0.9951, Train Rec = 0.9951, Train F-Beta = 0.9951, Train Loss = 0.0330\n",
      "  Val Acc = 0.9426, Val Prec = 0.9444, Val Rec = 0.9426, Val F-Beta = 0.9434, Val Loss = 0.2751\n"
     ]
    },
    {
     "name": "stderr",
     "output_type": "stream",
     "text": [
      "Epoch 11 - Training: 100%|██████████| 103/103 [00:30<00:00,  3.34it/s]\n",
      "Epoch 11 - Validation: 100%|██████████| 26/26 [00:02<00:00, 10.16it/s]\n"
     ]
    },
    {
     "name": "stdout",
     "output_type": "stream",
     "text": [
      "Iteration 9 - Epoch 11:\n",
      "  Train Acc = 0.9948, Train Prec = 0.9948, Train Rec = 0.9948, Train F-Beta = 0.9948, Train Loss = 0.0295\n",
      "  Val Acc = 0.9463, Val Prec = 0.9489, Val Rec = 0.9463, Val F-Beta = 0.9474, Val Loss = 0.2894\n"
     ]
    },
    {
     "name": "stderr",
     "output_type": "stream",
     "text": [
      "Epoch 12 - Training: 100%|██████████| 103/103 [00:30<00:00,  3.34it/s]\n",
      "Epoch 12 - Validation: 100%|██████████| 26/26 [00:02<00:00, 10.18it/s]\n"
     ]
    },
    {
     "name": "stdout",
     "output_type": "stream",
     "text": [
      "Iteration 9 - Epoch 12:\n",
      "  Train Acc = 0.9948, Train Prec = 0.9948, Train Rec = 0.9948, Train F-Beta = 0.9948, Train Loss = 0.0279\n",
      "  Val Acc = 0.9463, Val Prec = 0.9480, Val Rec = 0.9463, Val F-Beta = 0.9471, Val Loss = 0.2655\n"
     ]
    },
    {
     "name": "stderr",
     "output_type": "stream",
     "text": [
      "Epoch 13 - Training: 100%|██████████| 103/103 [00:30<00:00,  3.34it/s]\n",
      "Epoch 13 - Validation: 100%|██████████| 26/26 [00:02<00:00, 10.18it/s]\n"
     ]
    },
    {
     "name": "stdout",
     "output_type": "stream",
     "text": [
      "Iteration 9 - Epoch 13:\n",
      "  Train Acc = 0.9991, Train Prec = 0.9991, Train Rec = 0.9991, Train F-Beta = 0.9991, Train Loss = 0.0126\n",
      "  Val Acc = 0.9512, Val Prec = 0.9533, Val Rec = 0.9512, Val F-Beta = 0.9520, Val Loss = 0.2400\n"
     ]
    },
    {
     "name": "stderr",
     "output_type": "stream",
     "text": [
      "Epoch 14 - Training: 100%|██████████| 103/103 [00:30<00:00,  3.34it/s]\n",
      "Epoch 14 - Validation: 100%|██████████| 26/26 [00:02<00:00, 10.19it/s]\n"
     ]
    },
    {
     "name": "stdout",
     "output_type": "stream",
     "text": [
      "Iteration 9 - Epoch 14:\n",
      "  Train Acc = 0.9997, Train Prec = 0.9997, Train Rec = 0.9997, Train F-Beta = 0.9997, Train Loss = 0.0079\n",
      "  Val Acc = 0.9585, Val Prec = 0.9599, Val Rec = 0.9585, Val F-Beta = 0.9591, Val Loss = 0.2590\n",
      "  Better model saved with 0.9591 F-beta score.\n"
     ]
    },
    {
     "name": "stderr",
     "output_type": "stream",
     "text": [
      "Epoch 15 - Training: 100%|██████████| 103/103 [00:30<00:00,  3.34it/s]\n",
      "Epoch 15 - Validation: 100%|██████████| 26/26 [00:02<00:00, 10.18it/s]\n"
     ]
    },
    {
     "name": "stdout",
     "output_type": "stream",
     "text": [
      "Iteration 9 - Epoch 15:\n",
      "  Train Acc = 1.0000, Train Prec = 1.0000, Train Rec = 1.0000, Train F-Beta = 1.0000, Train Loss = 0.0056\n",
      "  Val Acc = 0.9536, Val Prec = 0.9548, Val Rec = 0.9536, Val F-Beta = 0.9541, Val Loss = 0.2597\n"
     ]
    },
    {
     "name": "stderr",
     "output_type": "stream",
     "text": [
      "Epoch 16 - Training: 100%|██████████| 103/103 [00:30<00:00,  3.34it/s]\n",
      "Epoch 16 - Validation: 100%|██████████| 26/26 [00:02<00:00, 10.17it/s]\n"
     ]
    },
    {
     "name": "stdout",
     "output_type": "stream",
     "text": [
      "Iteration 9 - Epoch 16:\n",
      "  Train Acc = 1.0000, Train Prec = 1.0000, Train Rec = 1.0000, Train F-Beta = 1.0000, Train Loss = 0.0051\n",
      "  Val Acc = 0.9560, Val Prec = 0.9575, Val Rec = 0.9560, Val F-Beta = 0.9567, Val Loss = 0.2857\n"
     ]
    },
    {
     "name": "stderr",
     "output_type": "stream",
     "text": [
      "Epoch 17 - Training: 100%|██████████| 103/103 [00:30<00:00,  3.34it/s]\n",
      "Epoch 17 - Validation: 100%|██████████| 26/26 [00:02<00:00, 10.18it/s]\n"
     ]
    },
    {
     "name": "stdout",
     "output_type": "stream",
     "text": [
      "Iteration 9 - Epoch 17:\n",
      "  Train Acc = 0.9979, Train Prec = 0.9979, Train Rec = 0.9979, Train F-Beta = 0.9979, Train Loss = 0.0122\n",
      "  Val Acc = 0.9487, Val Prec = 0.9515, Val Rec = 0.9487, Val F-Beta = 0.9499, Val Loss = 0.2997\n"
     ]
    },
    {
     "name": "stderr",
     "output_type": "stream",
     "text": [
      "Epoch 18 - Training: 100%|██████████| 103/103 [00:30<00:00,  3.34it/s]\n",
      "Epoch 18 - Validation: 100%|██████████| 26/26 [00:02<00:00, 10.16it/s]\n"
     ]
    },
    {
     "name": "stdout",
     "output_type": "stream",
     "text": [
      "Iteration 9 - Epoch 18:\n",
      "  Train Acc = 0.9976, Train Prec = 0.9976, Train Rec = 0.9976, Train F-Beta = 0.9976, Train Loss = 0.0119\n",
      "  Val Acc = 0.9499, Val Prec = 0.9522, Val Rec = 0.9499, Val F-Beta = 0.9510, Val Loss = 0.2984\n"
     ]
    },
    {
     "name": "stderr",
     "output_type": "stream",
     "text": [
      "Epoch 19 - Training: 100%|██████████| 103/103 [00:30<00:00,  3.34it/s]\n",
      "Epoch 19 - Validation: 100%|██████████| 26/26 [00:02<00:00, 10.17it/s]\n"
     ]
    },
    {
     "name": "stdout",
     "output_type": "stream",
     "text": [
      "Iteration 9 - Epoch 19:\n",
      "  Train Acc = 0.9966, Train Prec = 0.9967, Train Rec = 0.9966, Train F-Beta = 0.9966, Train Loss = 0.0173\n",
      "  Val Acc = 0.9536, Val Prec = 0.9548, Val Rec = 0.9536, Val F-Beta = 0.9539, Val Loss = 0.2708\n"
     ]
    },
    {
     "name": "stderr",
     "output_type": "stream",
     "text": [
      "Epoch 20 - Training: 100%|██████████| 103/103 [00:30<00:00,  3.34it/s]\n",
      "Epoch 20 - Validation: 100%|██████████| 26/26 [00:02<00:00, 10.18it/s]\n"
     ]
    },
    {
     "name": "stdout",
     "output_type": "stream",
     "text": [
      "Iteration 9 - Epoch 20:\n",
      "  Train Acc = 0.9945, Train Prec = 0.9945, Train Rec = 0.9945, Train F-Beta = 0.9945, Train Loss = 0.0272\n",
      "  Val Acc = 0.9451, Val Prec = 0.9479, Val Rec = 0.9451, Val F-Beta = 0.9466, Val Loss = 0.3358\n"
     ]
    },
    {
     "name": "stderr",
     "output_type": "stream",
     "text": [
      "Epoch 21 - Training: 100%|██████████| 103/103 [00:30<00:00,  3.34it/s]\n",
      "Epoch 21 - Validation: 100%|██████████| 26/26 [00:02<00:00, 10.17it/s]\n"
     ]
    },
    {
     "name": "stdout",
     "output_type": "stream",
     "text": [
      "Iteration 9 - Epoch 21:\n",
      "  Train Acc = 0.9942, Train Prec = 0.9942, Train Rec = 0.9942, Train F-Beta = 0.9942, Train Loss = 0.0297\n",
      "  Val Acc = 0.9426, Val Prec = 0.9470, Val Rec = 0.9426, Val F-Beta = 0.9452, Val Loss = 0.3222\n"
     ]
    },
    {
     "name": "stderr",
     "output_type": "stream",
     "text": [
      "Epoch 22 - Training: 100%|██████████| 103/103 [00:30<00:00,  3.34it/s]\n",
      "Epoch 22 - Validation: 100%|██████████| 26/26 [00:02<00:00, 10.17it/s]\n"
     ]
    },
    {
     "name": "stdout",
     "output_type": "stream",
     "text": [
      "Iteration 9 - Epoch 22:\n",
      "  Train Acc = 0.9969, Train Prec = 0.9970, Train Rec = 0.9969, Train F-Beta = 0.9969, Train Loss = 0.0124\n",
      "  Val Acc = 0.9475, Val Prec = 0.9480, Val Rec = 0.9475, Val F-Beta = 0.9475, Val Loss = 0.3063\n"
     ]
    },
    {
     "name": "stderr",
     "output_type": "stream",
     "text": [
      "Epoch 23 - Training: 100%|██████████| 103/103 [00:30<00:00,  3.34it/s]\n",
      "Epoch 23 - Validation: 100%|██████████| 26/26 [00:02<00:00, 10.16it/s]\n"
     ]
    },
    {
     "name": "stdout",
     "output_type": "stream",
     "text": [
      "Iteration 9 - Epoch 23:\n",
      "  Train Acc = 0.9924, Train Prec = 0.9924, Train Rec = 0.9924, Train F-Beta = 0.9924, Train Loss = 0.0322\n",
      "  Val Acc = 0.9451, Val Prec = 0.9459, Val Rec = 0.9451, Val F-Beta = 0.9451, Val Loss = 0.3303\n"
     ]
    },
    {
     "name": "stderr",
     "output_type": "stream",
     "text": [
      "Epoch 24 - Training: 100%|██████████| 103/103 [00:30<00:00,  3.34it/s]\n",
      "Epoch 24 - Validation: 100%|██████████| 26/26 [00:02<00:00, 10.14it/s]\n"
     ]
    },
    {
     "name": "stdout",
     "output_type": "stream",
     "text": [
      "Iteration 9 - Epoch 24:\n",
      "  Train Acc = 0.9969, Train Prec = 0.9970, Train Rec = 0.9969, Train F-Beta = 0.9969, Train Loss = 0.0155\n",
      "  Val Acc = 0.9426, Val Prec = 0.9446, Val Rec = 0.9426, Val F-Beta = 0.9435, Val Loss = 0.3419\n"
     ]
    },
    {
     "name": "stderr",
     "output_type": "stream",
     "text": [
      "Epoch 25 - Training: 100%|██████████| 103/103 [00:30<00:00,  3.34it/s]\n",
      "Epoch 25 - Validation: 100%|██████████| 26/26 [00:02<00:00, 10.18it/s]\n"
     ]
    },
    {
     "name": "stdout",
     "output_type": "stream",
     "text": [
      "Iteration 9 - Epoch 25:\n",
      "  Train Acc = 0.9991, Train Prec = 0.9991, Train Rec = 0.9991, Train F-Beta = 0.9991, Train Loss = 0.0047\n",
      "  Val Acc = 0.9487, Val Prec = 0.9494, Val Rec = 0.9487, Val F-Beta = 0.9489, Val Loss = 0.3311\n"
     ]
    },
    {
     "name": "stderr",
     "output_type": "stream",
     "text": [
      "Epoch 26 - Training: 100%|██████████| 103/103 [00:30<00:00,  3.34it/s]\n",
      "Epoch 26 - Validation: 100%|██████████| 26/26 [00:02<00:00, 10.18it/s]\n"
     ]
    },
    {
     "name": "stdout",
     "output_type": "stream",
     "text": [
      "Iteration 9 - Epoch 26:\n",
      "  Train Acc = 0.9969, Train Prec = 0.9970, Train Rec = 0.9969, Train F-Beta = 0.9970, Train Loss = 0.0159\n",
      "  Val Acc = 0.9487, Val Prec = 0.9503, Val Rec = 0.9487, Val F-Beta = 0.9492, Val Loss = 0.3453\n"
     ]
    },
    {
     "name": "stderr",
     "output_type": "stream",
     "text": [
      "Epoch 27 - Training: 100%|██████████| 103/103 [00:30<00:00,  3.34it/s]\n",
      "Epoch 27 - Validation: 100%|██████████| 26/26 [00:02<00:00, 10.15it/s]\n"
     ]
    },
    {
     "name": "stdout",
     "output_type": "stream",
     "text": [
      "Iteration 9 - Epoch 27:\n",
      "  Train Acc = 0.9979, Train Prec = 0.9979, Train Rec = 0.9979, Train F-Beta = 0.9979, Train Loss = 0.0093\n",
      "  Val Acc = 0.9499, Val Prec = 0.9514, Val Rec = 0.9499, Val F-Beta = 0.9504, Val Loss = 0.3303\n"
     ]
    },
    {
     "name": "stderr",
     "output_type": "stream",
     "text": [
      "Epoch 28 - Training: 100%|██████████| 103/103 [00:30<00:00,  3.33it/s]\n",
      "Epoch 28 - Validation: 100%|██████████| 26/26 [00:02<00:00, 10.18it/s]\n"
     ]
    },
    {
     "name": "stdout",
     "output_type": "stream",
     "text": [
      "Iteration 9 - Epoch 28:\n",
      "  Train Acc = 0.9933, Train Prec = 0.9933, Train Rec = 0.9933, Train F-Beta = 0.9933, Train Loss = 0.0322\n",
      "  Val Acc = 0.9499, Val Prec = 0.9514, Val Rec = 0.9499, Val F-Beta = 0.9502, Val Loss = 0.3352\n"
     ]
    },
    {
     "name": "stderr",
     "output_type": "stream",
     "text": [
      "Epoch 29 - Training: 100%|██████████| 103/103 [00:30<00:00,  3.34it/s]\n",
      "Epoch 29 - Validation: 100%|██████████| 26/26 [00:02<00:00, 10.18it/s]\n"
     ]
    },
    {
     "name": "stdout",
     "output_type": "stream",
     "text": [
      "Iteration 9 - Epoch 29:\n",
      "  Train Acc = 0.9979, Train Prec = 0.9979, Train Rec = 0.9979, Train F-Beta = 0.9979, Train Loss = 0.0100\n",
      "  Val Acc = 0.9426, Val Prec = 0.9449, Val Rec = 0.9426, Val F-Beta = 0.9433, Val Loss = 0.3478\n"
     ]
    },
    {
     "name": "stderr",
     "output_type": "stream",
     "text": [
      "Epoch 30 - Training: 100%|██████████| 103/103 [00:30<00:00,  3.34it/s]\n",
      "Epoch 30 - Validation: 100%|██████████| 26/26 [00:02<00:00, 10.18it/s]\n"
     ]
    },
    {
     "name": "stdout",
     "output_type": "stream",
     "text": [
      "Iteration 9 - Epoch 30:\n",
      "  Train Acc = 0.9991, Train Prec = 0.9991, Train Rec = 0.9991, Train F-Beta = 0.9991, Train Loss = 0.0051\n",
      "  Val Acc = 0.9536, Val Prec = 0.9549, Val Rec = 0.9536, Val F-Beta = 0.9541, Val Loss = 0.3015\n"
     ]
    },
    {
     "name": "stderr",
     "output_type": "stream",
     "text": [
      "Epoch 31 - Training: 100%|██████████| 103/103 [00:30<00:00,  3.34it/s]\n",
      "Epoch 31 - Validation: 100%|██████████| 26/26 [00:02<00:00, 10.18it/s]\n"
     ]
    },
    {
     "name": "stdout",
     "output_type": "stream",
     "text": [
      "Iteration 9 - Epoch 31:\n",
      "  Train Acc = 0.9994, Train Prec = 0.9994, Train Rec = 0.9994, Train F-Beta = 0.9994, Train Loss = 0.0025\n",
      "  Val Acc = 0.9512, Val Prec = 0.9523, Val Rec = 0.9512, Val F-Beta = 0.9515, Val Loss = 0.3001\n"
     ]
    },
    {
     "name": "stderr",
     "output_type": "stream",
     "text": [
      "Epoch 32 - Training: 100%|██████████| 103/103 [00:30<00:00,  3.34it/s]\n",
      "Epoch 32 - Validation: 100%|██████████| 26/26 [00:02<00:00, 10.17it/s]\n"
     ]
    },
    {
     "name": "stdout",
     "output_type": "stream",
     "text": [
      "Iteration 9 - Epoch 32:\n",
      "  Train Acc = 0.9994, Train Prec = 0.9994, Train Rec = 0.9994, Train F-Beta = 0.9994, Train Loss = 0.0029\n",
      "  Val Acc = 0.9512, Val Prec = 0.9525, Val Rec = 0.9512, Val F-Beta = 0.9516, Val Loss = 0.3332\n"
     ]
    },
    {
     "name": "stderr",
     "output_type": "stream",
     "text": [
      "Epoch 33 - Training: 100%|██████████| 103/103 [00:30<00:00,  3.34it/s]\n",
      "Epoch 33 - Validation: 100%|██████████| 26/26 [00:02<00:00, 10.19it/s]\n"
     ]
    },
    {
     "name": "stdout",
     "output_type": "stream",
     "text": [
      "Iteration 9 - Epoch 33:\n",
      "  Train Acc = 0.9994, Train Prec = 0.9994, Train Rec = 0.9994, Train F-Beta = 0.9994, Train Loss = 0.0022\n",
      "  Val Acc = 0.9512, Val Prec = 0.9525, Val Rec = 0.9512, Val F-Beta = 0.9513, Val Loss = 0.3469\n"
     ]
    },
    {
     "name": "stderr",
     "output_type": "stream",
     "text": [
      "Epoch 34 - Training: 100%|██████████| 103/103 [00:30<00:00,  3.34it/s]\n",
      "Epoch 34 - Validation: 100%|██████████| 26/26 [00:02<00:00, 10.18it/s]\n"
     ]
    },
    {
     "name": "stdout",
     "output_type": "stream",
     "text": [
      "Iteration 9 - Epoch 34:\n",
      "  Train Acc = 1.0000, Train Prec = 1.0000, Train Rec = 1.0000, Train F-Beta = 1.0000, Train Loss = 0.0011\n",
      "  Val Acc = 0.9536, Val Prec = 0.9551, Val Rec = 0.9536, Val F-Beta = 0.9541, Val Loss = 0.3370\n"
     ]
    },
    {
     "name": "stderr",
     "output_type": "stream",
     "text": [
      "Epoch 35 - Training: 100%|██████████| 103/103 [00:30<00:00,  3.34it/s]\n",
      "Epoch 35 - Validation: 100%|██████████| 26/26 [00:02<00:00, 10.17it/s]\n"
     ]
    },
    {
     "name": "stdout",
     "output_type": "stream",
     "text": [
      "Iteration 9 - Epoch 35:\n",
      "  Train Acc = 0.9963, Train Prec = 0.9963, Train Rec = 0.9963, Train F-Beta = 0.9963, Train Loss = 0.0153\n",
      "  Val Acc = 0.9438, Val Prec = 0.9473, Val Rec = 0.9438, Val F-Beta = 0.9454, Val Loss = 0.3686\n"
     ]
    },
    {
     "name": "stderr",
     "output_type": "stream",
     "text": [
      "Epoch 36 - Training: 100%|██████████| 103/103 [00:30<00:00,  3.34it/s]\n",
      "Epoch 36 - Validation: 100%|██████████| 26/26 [00:02<00:00, 10.17it/s]\n"
     ]
    },
    {
     "name": "stdout",
     "output_type": "stream",
     "text": [
      "Iteration 9 - Epoch 36:\n",
      "  Train Acc = 0.9969, Train Prec = 0.9970, Train Rec = 0.9969, Train F-Beta = 0.9969, Train Loss = 0.0147\n",
      "  Val Acc = 0.9426, Val Prec = 0.9474, Val Rec = 0.9426, Val F-Beta = 0.9452, Val Loss = 0.4026\n"
     ]
    },
    {
     "name": "stderr",
     "output_type": "stream",
     "text": [
      "Epoch 37 - Training: 100%|██████████| 103/103 [00:30<00:00,  3.34it/s]\n",
      "Epoch 37 - Validation: 100%|██████████| 26/26 [00:02<00:00, 10.17it/s]\n"
     ]
    },
    {
     "name": "stdout",
     "output_type": "stream",
     "text": [
      "Iteration 9 - Epoch 37:\n",
      "  Train Acc = 0.9985, Train Prec = 0.9985, Train Rec = 0.9985, Train F-Beta = 0.9985, Train Loss = 0.0098\n",
      "  Val Acc = 0.9487, Val Prec = 0.9490, Val Rec = 0.9487, Val F-Beta = 0.9486, Val Loss = 0.3573\n"
     ]
    },
    {
     "name": "stderr",
     "output_type": "stream",
     "text": [
      "Epoch 38 - Training: 100%|██████████| 103/103 [00:30<00:00,  3.34it/s]\n",
      "Epoch 38 - Validation: 100%|██████████| 26/26 [00:02<00:00, 10.18it/s]\n"
     ]
    },
    {
     "name": "stdout",
     "output_type": "stream",
     "text": [
      "Iteration 9 - Epoch 38:\n",
      "  Train Acc = 1.0000, Train Prec = 1.0000, Train Rec = 1.0000, Train F-Beta = 1.0000, Train Loss = 0.0012\n",
      "  Val Acc = 0.9524, Val Prec = 0.9530, Val Rec = 0.9524, Val F-Beta = 0.9525, Val Loss = 0.3538\n"
     ]
    },
    {
     "name": "stderr",
     "output_type": "stream",
     "text": [
      "Epoch 39 - Training: 100%|██████████| 103/103 [00:30<00:00,  3.34it/s]\n",
      "Epoch 39 - Validation: 100%|██████████| 26/26 [00:02<00:00, 10.17it/s]\n"
     ]
    },
    {
     "name": "stdout",
     "output_type": "stream",
     "text": [
      "Iteration 9 - Epoch 39:\n",
      "  Train Acc = 1.0000, Train Prec = 1.0000, Train Rec = 1.0000, Train F-Beta = 1.0000, Train Loss = 0.0009\n",
      "  Val Acc = 0.9512, Val Prec = 0.9516, Val Rec = 0.9512, Val F-Beta = 0.9512, Val Loss = 0.3542\n"
     ]
    },
    {
     "name": "stderr",
     "output_type": "stream",
     "text": [
      "Epoch 40 - Training: 100%|██████████| 103/103 [00:30<00:00,  3.34it/s]\n",
      "Epoch 40 - Validation: 100%|██████████| 26/26 [00:02<00:00, 10.18it/s]\n"
     ]
    },
    {
     "name": "stdout",
     "output_type": "stream",
     "text": [
      "Iteration 9 - Epoch 40:\n",
      "  Train Acc = 0.9994, Train Prec = 0.9994, Train Rec = 0.9994, Train F-Beta = 0.9994, Train Loss = 0.0021\n",
      "  Val Acc = 0.9402, Val Prec = 0.9430, Val Rec = 0.9402, Val F-Beta = 0.9406, Val Loss = 0.4369\n",
      "Iteration 10/20\n"
     ]
    },
    {
     "name": "stderr",
     "output_type": "stream",
     "text": [
      "Some weights of ElectraForSequenceClassification were not initialized from the model checkpoint at beomi/KcELECTRA-base-v2022 and are newly initialized: ['classifier.dense.bias', 'classifier.dense.weight', 'classifier.out_proj.bias', 'classifier.out_proj.weight']\n",
      "You should probably TRAIN this model on a down-stream task to be able to use it for predictions and inference.\n",
      "Epoch 1 - Training: 100%|██████████| 103/103 [00:30<00:00,  3.34it/s]\n",
      "Epoch 1 - Validation: 100%|██████████| 26/26 [00:02<00:00, 10.18it/s]\n"
     ]
    },
    {
     "name": "stdout",
     "output_type": "stream",
     "text": [
      "Iteration 10 - Epoch 1:\n",
      "  Train Acc = 0.3056, Train Prec = 0.2340, Train Rec = 0.3056, Train F-Beta = 0.1906, Train Loss = 2.2734\n",
      "  Val Acc = 0.4896, Val Prec = 0.5027, Val Rec = 0.4896, Val F-Beta = 0.3796, Val Loss = 1.7043\n"
     ]
    },
    {
     "name": "stderr",
     "output_type": "stream",
     "text": [
      "Epoch 2 - Training: 100%|██████████| 103/103 [00:30<00:00,  3.33it/s]\n",
      "Epoch 2 - Validation: 100%|██████████| 26/26 [00:02<00:00, 10.17it/s]\n"
     ]
    },
    {
     "name": "stdout",
     "output_type": "stream",
     "text": [
      "Iteration 10 - Epoch 2:\n",
      "  Train Acc = 0.6296, Train Prec = 0.7011, Train Rec = 0.6296, Train F-Beta = 0.5782, Train Loss = 1.3418\n",
      "  Val Acc = 0.7534, Val Prec = 0.7288, Val Rec = 0.7534, Val F-Beta = 0.7035, Val Loss = 0.9740\n"
     ]
    },
    {
     "name": "stderr",
     "output_type": "stream",
     "text": [
      "Epoch 3 - Training: 100%|██████████| 103/103 [00:30<00:00,  3.33it/s]\n",
      "Epoch 3 - Validation: 100%|██████████| 26/26 [00:02<00:00, 10.18it/s]\n"
     ]
    },
    {
     "name": "stdout",
     "output_type": "stream",
     "text": [
      "Iteration 10 - Epoch 3:\n",
      "  Train Acc = 0.8663, Train Prec = 0.8801, Train Rec = 0.8663, Train F-Beta = 0.8565, Train Loss = 0.6698\n",
      "  Val Acc = 0.8987, Val Prec = 0.9126, Val Rec = 0.8987, Val F-Beta = 0.9020, Val Loss = 0.4609\n"
     ]
    },
    {
     "name": "stderr",
     "output_type": "stream",
     "text": [
      "Epoch 4 - Training: 100%|██████████| 103/103 [00:30<00:00,  3.34it/s]\n",
      "Epoch 4 - Validation: 100%|██████████| 26/26 [00:02<00:00, 10.18it/s]\n"
     ]
    },
    {
     "name": "stdout",
     "output_type": "stream",
     "text": [
      "Iteration 10 - Epoch 4:\n",
      "  Train Acc = 0.9585, Train Prec = 0.9607, Train Rec = 0.9585, Train F-Beta = 0.9594, Train Loss = 0.3085\n",
      "  Val Acc = 0.9414, Val Prec = 0.9431, Val Rec = 0.9414, Val F-Beta = 0.9416, Val Loss = 0.2985\n"
     ]
    },
    {
     "name": "stderr",
     "output_type": "stream",
     "text": [
      "Epoch 5 - Training: 100%|██████████| 103/103 [00:30<00:00,  3.34it/s]\n",
      "Epoch 5 - Validation: 100%|██████████| 26/26 [00:02<00:00, 10.17it/s]\n"
     ]
    },
    {
     "name": "stdout",
     "output_type": "stream",
     "text": [
      "Iteration 10 - Epoch 5:\n",
      "  Train Acc = 0.9774, Train Prec = 0.9775, Train Rec = 0.9774, Train F-Beta = 0.9775, Train Loss = 0.1642\n",
      "  Val Acc = 0.9353, Val Prec = 0.9366, Val Rec = 0.9353, Val F-Beta = 0.9357, Val Loss = 0.2623\n"
     ]
    },
    {
     "name": "stderr",
     "output_type": "stream",
     "text": [
      "Epoch 6 - Training: 100%|██████████| 103/103 [00:30<00:00,  3.34it/s]\n",
      "Epoch 6 - Validation: 100%|██████████| 26/26 [00:02<00:00, 10.18it/s]\n"
     ]
    },
    {
     "name": "stdout",
     "output_type": "stream",
     "text": [
      "Iteration 10 - Epoch 6:\n",
      "  Train Acc = 0.9896, Train Prec = 0.9897, Train Rec = 0.9896, Train F-Beta = 0.9897, Train Loss = 0.0893\n",
      "  Val Acc = 0.9438, Val Prec = 0.9451, Val Rec = 0.9438, Val F-Beta = 0.9443, Val Loss = 0.2474\n"
     ]
    },
    {
     "name": "stderr",
     "output_type": "stream",
     "text": [
      "Epoch 7 - Training: 100%|██████████| 103/103 [00:30<00:00,  3.34it/s]\n",
      "Epoch 7 - Validation: 100%|██████████| 26/26 [00:02<00:00, 10.17it/s]\n"
     ]
    },
    {
     "name": "stdout",
     "output_type": "stream",
     "text": [
      "Iteration 10 - Epoch 7:\n",
      "  Train Acc = 0.9890, Train Prec = 0.9890, Train Rec = 0.9890, Train F-Beta = 0.9890, Train Loss = 0.0671\n",
      "  Val Acc = 0.9328, Val Prec = 0.9353, Val Rec = 0.9328, Val F-Beta = 0.9337, Val Loss = 0.2910\n"
     ]
    },
    {
     "name": "stderr",
     "output_type": "stream",
     "text": [
      "Epoch 8 - Training: 100%|██████████| 103/103 [00:30<00:00,  3.34it/s]\n",
      "Epoch 8 - Validation: 100%|██████████| 26/26 [00:02<00:00, 10.19it/s]\n"
     ]
    },
    {
     "name": "stdout",
     "output_type": "stream",
     "text": [
      "Iteration 10 - Epoch 8:\n",
      "  Train Acc = 0.9933, Train Prec = 0.9933, Train Rec = 0.9933, Train F-Beta = 0.9933, Train Loss = 0.0483\n",
      "  Val Acc = 0.9426, Val Prec = 0.9448, Val Rec = 0.9426, Val F-Beta = 0.9435, Val Loss = 0.2649\n"
     ]
    },
    {
     "name": "stderr",
     "output_type": "stream",
     "text": [
      "Epoch 9 - Training: 100%|██████████| 103/103 [00:30<00:00,  3.34it/s]\n",
      "Epoch 9 - Validation: 100%|██████████| 26/26 [00:02<00:00, 10.18it/s]\n"
     ]
    },
    {
     "name": "stdout",
     "output_type": "stream",
     "text": [
      "Iteration 10 - Epoch 9:\n",
      "  Train Acc = 0.9930, Train Prec = 0.9930, Train Rec = 0.9930, Train F-Beta = 0.9930, Train Loss = 0.0459\n",
      "  Val Acc = 0.9512, Val Prec = 0.9515, Val Rec = 0.9512, Val F-Beta = 0.9511, Val Loss = 0.2482\n",
      "  Better model saved with 0.9511 F-beta score.\n"
     ]
    },
    {
     "name": "stderr",
     "output_type": "stream",
     "text": [
      "Epoch 10 - Training: 100%|██████████| 103/103 [00:30<00:00,  3.34it/s]\n",
      "Epoch 10 - Validation: 100%|██████████| 26/26 [00:02<00:00, 10.18it/s]\n"
     ]
    },
    {
     "name": "stdout",
     "output_type": "stream",
     "text": [
      "Iteration 10 - Epoch 10:\n",
      "  Train Acc = 0.9963, Train Prec = 0.9963, Train Rec = 0.9963, Train F-Beta = 0.9963, Train Loss = 0.0282\n",
      "  Val Acc = 0.9487, Val Prec = 0.9506, Val Rec = 0.9487, Val F-Beta = 0.9496, Val Loss = 0.2465\n"
     ]
    },
    {
     "name": "stderr",
     "output_type": "stream",
     "text": [
      "Epoch 11 - Training: 100%|██████████| 103/103 [00:30<00:00,  3.34it/s]\n",
      "Epoch 11 - Validation: 100%|██████████| 26/26 [00:02<00:00, 10.17it/s]\n"
     ]
    },
    {
     "name": "stdout",
     "output_type": "stream",
     "text": [
      "Iteration 10 - Epoch 11:\n",
      "  Train Acc = 0.9911, Train Prec = 0.9911, Train Rec = 0.9911, Train F-Beta = 0.9911, Train Loss = 0.0423\n",
      "  Val Acc = 0.9463, Val Prec = 0.9477, Val Rec = 0.9463, Val F-Beta = 0.9470, Val Loss = 0.2687\n"
     ]
    },
    {
     "name": "stderr",
     "output_type": "stream",
     "text": [
      "Epoch 12 - Training: 100%|██████████| 103/103 [00:30<00:00,  3.34it/s]\n",
      "Epoch 12 - Validation: 100%|██████████| 26/26 [00:02<00:00, 10.17it/s]\n"
     ]
    },
    {
     "name": "stdout",
     "output_type": "stream",
     "text": [
      "Iteration 10 - Epoch 12:\n",
      "  Train Acc = 0.9976, Train Prec = 0.9976, Train Rec = 0.9976, Train F-Beta = 0.9976, Train Loss = 0.0206\n",
      "  Val Acc = 0.9426, Val Prec = 0.9450, Val Rec = 0.9426, Val F-Beta = 0.9437, Val Loss = 0.3011\n"
     ]
    },
    {
     "name": "stderr",
     "output_type": "stream",
     "text": [
      "Epoch 13 - Training: 100%|██████████| 103/103 [00:30<00:00,  3.34it/s]\n",
      "Epoch 13 - Validation: 100%|██████████| 26/26 [00:02<00:00, 10.19it/s]\n"
     ]
    },
    {
     "name": "stdout",
     "output_type": "stream",
     "text": [
      "Iteration 10 - Epoch 13:\n",
      "  Train Acc = 0.9939, Train Prec = 0.9939, Train Rec = 0.9939, Train F-Beta = 0.9939, Train Loss = 0.0326\n",
      "  Val Acc = 0.9475, Val Prec = 0.9493, Val Rec = 0.9475, Val F-Beta = 0.9481, Val Loss = 0.2364\n"
     ]
    },
    {
     "name": "stderr",
     "output_type": "stream",
     "text": [
      "Epoch 14 - Training: 100%|██████████| 103/103 [00:30<00:00,  3.34it/s]\n",
      "Epoch 14 - Validation: 100%|██████████| 26/26 [00:02<00:00, 10.16it/s]\n"
     ]
    },
    {
     "name": "stdout",
     "output_type": "stream",
     "text": [
      "Iteration 10 - Epoch 14:\n",
      "  Train Acc = 0.9969, Train Prec = 0.9969, Train Rec = 0.9969, Train F-Beta = 0.9969, Train Loss = 0.0195\n",
      "  Val Acc = 0.9560, Val Prec = 0.9573, Val Rec = 0.9560, Val F-Beta = 0.9568, Val Loss = 0.2311\n",
      "  Better model saved with 0.9568 F-beta score.\n"
     ]
    },
    {
     "name": "stderr",
     "output_type": "stream",
     "text": [
      "Epoch 15 - Training: 100%|██████████| 103/103 [00:30<00:00,  3.34it/s]\n",
      "Epoch 15 - Validation: 100%|██████████| 26/26 [00:02<00:00, 10.19it/s]\n"
     ]
    },
    {
     "name": "stdout",
     "output_type": "stream",
     "text": [
      "Iteration 10 - Epoch 15:\n",
      "  Train Acc = 0.9982, Train Prec = 0.9982, Train Rec = 0.9982, Train F-Beta = 0.9982, Train Loss = 0.0150\n",
      "  Val Acc = 0.9585, Val Prec = 0.9599, Val Rec = 0.9585, Val F-Beta = 0.9592, Val Loss = 0.2455\n",
      "  Better model saved with 0.9592 F-beta score.\n"
     ]
    },
    {
     "name": "stderr",
     "output_type": "stream",
     "text": [
      "Epoch 16 - Training: 100%|██████████| 103/103 [00:30<00:00,  3.34it/s]\n",
      "Epoch 16 - Validation: 100%|██████████| 26/26 [00:02<00:00, 10.17it/s]\n"
     ]
    },
    {
     "name": "stdout",
     "output_type": "stream",
     "text": [
      "Iteration 10 - Epoch 16:\n",
      "  Train Acc = 0.9985, Train Prec = 0.9985, Train Rec = 0.9985, Train F-Beta = 0.9985, Train Loss = 0.0130\n",
      "  Val Acc = 0.9536, Val Prec = 0.9549, Val Rec = 0.9536, Val F-Beta = 0.9541, Val Loss = 0.2452\n"
     ]
    },
    {
     "name": "stderr",
     "output_type": "stream",
     "text": [
      "Epoch 17 - Training: 100%|██████████| 103/103 [00:30<00:00,  3.34it/s]\n",
      "Epoch 17 - Validation: 100%|██████████| 26/26 [00:02<00:00, 10.18it/s]\n"
     ]
    },
    {
     "name": "stdout",
     "output_type": "stream",
     "text": [
      "Iteration 10 - Epoch 17:\n",
      "  Train Acc = 0.9991, Train Prec = 0.9991, Train Rec = 0.9991, Train F-Beta = 0.9991, Train Loss = 0.0090\n",
      "  Val Acc = 0.9524, Val Prec = 0.9533, Val Rec = 0.9524, Val F-Beta = 0.9528, Val Loss = 0.2414\n"
     ]
    },
    {
     "name": "stderr",
     "output_type": "stream",
     "text": [
      "Epoch 18 - Training: 100%|██████████| 103/103 [00:30<00:00,  3.34it/s]\n",
      "Epoch 18 - Validation: 100%|██████████| 26/26 [00:02<00:00, 10.16it/s]\n"
     ]
    },
    {
     "name": "stdout",
     "output_type": "stream",
     "text": [
      "Iteration 10 - Epoch 18:\n",
      "  Train Acc = 0.9997, Train Prec = 0.9997, Train Rec = 0.9997, Train F-Beta = 0.9997, Train Loss = 0.0066\n",
      "  Val Acc = 0.9548, Val Prec = 0.9554, Val Rec = 0.9548, Val F-Beta = 0.9550, Val Loss = 0.2473\n"
     ]
    },
    {
     "name": "stderr",
     "output_type": "stream",
     "text": [
      "Epoch 19 - Training: 100%|██████████| 103/103 [00:30<00:00,  3.34it/s]\n",
      "Epoch 19 - Validation: 100%|██████████| 26/26 [00:02<00:00, 10.16it/s]\n"
     ]
    },
    {
     "name": "stdout",
     "output_type": "stream",
     "text": [
      "Iteration 10 - Epoch 19:\n",
      "  Train Acc = 0.9994, Train Prec = 0.9994, Train Rec = 0.9994, Train F-Beta = 0.9994, Train Loss = 0.0076\n",
      "  Val Acc = 0.9548, Val Prec = 0.9556, Val Rec = 0.9548, Val F-Beta = 0.9551, Val Loss = 0.2479\n"
     ]
    },
    {
     "name": "stderr",
     "output_type": "stream",
     "text": [
      "Epoch 20 - Training: 100%|██████████| 103/103 [00:30<00:00,  3.34it/s]\n",
      "Epoch 20 - Validation: 100%|██████████| 26/26 [00:02<00:00, 10.17it/s]\n"
     ]
    },
    {
     "name": "stdout",
     "output_type": "stream",
     "text": [
      "Iteration 10 - Epoch 20:\n",
      "  Train Acc = 0.9997, Train Prec = 0.9997, Train Rec = 0.9997, Train F-Beta = 0.9997, Train Loss = 0.0054\n",
      "  Val Acc = 0.9548, Val Prec = 0.9560, Val Rec = 0.9548, Val F-Beta = 0.9554, Val Loss = 0.2522\n"
     ]
    },
    {
     "name": "stderr",
     "output_type": "stream",
     "text": [
      "Epoch 21 - Training: 100%|██████████| 103/103 [00:30<00:00,  3.33it/s]\n",
      "Epoch 21 - Validation: 100%|██████████| 26/26 [00:02<00:00, 10.18it/s]\n"
     ]
    },
    {
     "name": "stdout",
     "output_type": "stream",
     "text": [
      "Iteration 10 - Epoch 21:\n",
      "  Train Acc = 0.9997, Train Prec = 0.9997, Train Rec = 0.9997, Train F-Beta = 0.9997, Train Loss = 0.0047\n",
      "  Val Acc = 0.9536, Val Prec = 0.9547, Val Rec = 0.9536, Val F-Beta = 0.9541, Val Loss = 0.2607\n"
     ]
    },
    {
     "name": "stderr",
     "output_type": "stream",
     "text": [
      "Epoch 22 - Training: 100%|██████████| 103/103 [00:30<00:00,  3.33it/s]\n",
      "Epoch 22 - Validation: 100%|██████████| 26/26 [00:02<00:00, 10.18it/s]\n"
     ]
    },
    {
     "name": "stdout",
     "output_type": "stream",
     "text": [
      "Iteration 10 - Epoch 22:\n",
      "  Train Acc = 0.9997, Train Prec = 0.9997, Train Rec = 0.9997, Train F-Beta = 0.9997, Train Loss = 0.0048\n",
      "  Val Acc = 0.9536, Val Prec = 0.9553, Val Rec = 0.9536, Val F-Beta = 0.9545, Val Loss = 0.2615\n"
     ]
    },
    {
     "name": "stderr",
     "output_type": "stream",
     "text": [
      "Epoch 23 - Training: 100%|██████████| 103/103 [00:30<00:00,  3.34it/s]\n",
      "Epoch 23 - Validation: 100%|██████████| 26/26 [00:02<00:00, 10.18it/s]\n"
     ]
    },
    {
     "name": "stdout",
     "output_type": "stream",
     "text": [
      "Iteration 10 - Epoch 23:\n",
      "  Train Acc = 0.9997, Train Prec = 0.9997, Train Rec = 0.9997, Train F-Beta = 0.9997, Train Loss = 0.0029\n",
      "  Val Acc = 0.9475, Val Prec = 0.9507, Val Rec = 0.9475, Val F-Beta = 0.9491, Val Loss = 0.3043\n"
     ]
    },
    {
     "name": "stderr",
     "output_type": "stream",
     "text": [
      "Epoch 24 - Training: 100%|██████████| 103/103 [00:30<00:00,  3.34it/s]\n",
      "Epoch 24 - Validation: 100%|██████████| 26/26 [00:02<00:00, 10.19it/s]\n"
     ]
    },
    {
     "name": "stdout",
     "output_type": "stream",
     "text": [
      "Iteration 10 - Epoch 24:\n",
      "  Train Acc = 0.9966, Train Prec = 0.9967, Train Rec = 0.9966, Train F-Beta = 0.9967, Train Loss = 0.0192\n",
      "  Val Acc = 0.9463, Val Prec = 0.9471, Val Rec = 0.9463, Val F-Beta = 0.9463, Val Loss = 0.2971\n"
     ]
    },
    {
     "name": "stderr",
     "output_type": "stream",
     "text": [
      "Epoch 25 - Training: 100%|██████████| 103/103 [00:30<00:00,  3.34it/s]\n",
      "Epoch 25 - Validation: 100%|██████████| 26/26 [00:02<00:00, 10.18it/s]\n"
     ]
    },
    {
     "name": "stdout",
     "output_type": "stream",
     "text": [
      "Iteration 10 - Epoch 25:\n",
      "  Train Acc = 0.9963, Train Prec = 0.9963, Train Rec = 0.9963, Train F-Beta = 0.9963, Train Loss = 0.0174\n",
      "  Val Acc = 0.9512, Val Prec = 0.9521, Val Rec = 0.9512, Val F-Beta = 0.9515, Val Loss = 0.2613\n"
     ]
    },
    {
     "name": "stderr",
     "output_type": "stream",
     "text": [
      "Epoch 26 - Training: 100%|██████████| 103/103 [00:30<00:00,  3.34it/s]\n",
      "Epoch 26 - Validation: 100%|██████████| 26/26 [00:02<00:00, 10.16it/s]\n"
     ]
    },
    {
     "name": "stdout",
     "output_type": "stream",
     "text": [
      "Iteration 10 - Epoch 26:\n",
      "  Train Acc = 0.9973, Train Prec = 0.9973, Train Rec = 0.9973, Train F-Beta = 0.9973, Train Loss = 0.0123\n",
      "  Val Acc = 0.9499, Val Prec = 0.9524, Val Rec = 0.9499, Val F-Beta = 0.9514, Val Loss = 0.3158\n"
     ]
    },
    {
     "name": "stderr",
     "output_type": "stream",
     "text": [
      "Epoch 27 - Training: 100%|██████████| 103/103 [00:30<00:00,  3.33it/s]\n",
      "Epoch 27 - Validation: 100%|██████████| 26/26 [00:02<00:00, 10.17it/s]\n"
     ]
    },
    {
     "name": "stdout",
     "output_type": "stream",
     "text": [
      "Iteration 10 - Epoch 27:\n",
      "  Train Acc = 0.9924, Train Prec = 0.9924, Train Rec = 0.9924, Train F-Beta = 0.9924, Train Loss = 0.0264\n",
      "  Val Acc = 0.9280, Val Prec = 0.9352, Val Rec = 0.9280, Val F-Beta = 0.9317, Val Loss = 0.4544\n"
     ]
    },
    {
     "name": "stderr",
     "output_type": "stream",
     "text": [
      "Epoch 28 - Training: 100%|██████████| 103/103 [00:30<00:00,  3.33it/s]\n",
      "Epoch 28 - Validation: 100%|██████████| 26/26 [00:02<00:00, 10.17it/s]\n"
     ]
    },
    {
     "name": "stdout",
     "output_type": "stream",
     "text": [
      "Iteration 10 - Epoch 28:\n",
      "  Train Acc = 0.9915, Train Prec = 0.9914, Train Rec = 0.9915, Train F-Beta = 0.9914, Train Loss = 0.0341\n",
      "  Val Acc = 0.9548, Val Prec = 0.9562, Val Rec = 0.9548, Val F-Beta = 0.9555, Val Loss = 0.3034\n"
     ]
    },
    {
     "name": "stderr",
     "output_type": "stream",
     "text": [
      "Epoch 29 - Training: 100%|██████████| 103/103 [00:30<00:00,  3.34it/s]\n",
      "Epoch 29 - Validation: 100%|██████████| 26/26 [00:02<00:00, 10.18it/s]\n"
     ]
    },
    {
     "name": "stdout",
     "output_type": "stream",
     "text": [
      "Iteration 10 - Epoch 29:\n",
      "  Train Acc = 0.9979, Train Prec = 0.9979, Train Rec = 0.9979, Train F-Beta = 0.9979, Train Loss = 0.0108\n",
      "  Val Acc = 0.9560, Val Prec = 0.9576, Val Rec = 0.9560, Val F-Beta = 0.9565, Val Loss = 0.2950\n"
     ]
    },
    {
     "name": "stderr",
     "output_type": "stream",
     "text": [
      "Epoch 30 - Training: 100%|██████████| 103/103 [00:30<00:00,  3.34it/s]\n",
      "Epoch 30 - Validation: 100%|██████████| 26/26 [00:02<00:00, 10.18it/s]\n"
     ]
    },
    {
     "name": "stdout",
     "output_type": "stream",
     "text": [
      "Iteration 10 - Epoch 30:\n",
      "  Train Acc = 0.9951, Train Prec = 0.9951, Train Rec = 0.9951, Train F-Beta = 0.9951, Train Loss = 0.0216\n",
      "  Val Acc = 0.9499, Val Prec = 0.9527, Val Rec = 0.9499, Val F-Beta = 0.9513, Val Loss = 0.3229\n"
     ]
    },
    {
     "name": "stderr",
     "output_type": "stream",
     "text": [
      "Epoch 31 - Training: 100%|██████████| 103/103 [00:30<00:00,  3.34it/s]\n",
      "Epoch 31 - Validation: 100%|██████████| 26/26 [00:02<00:00, 10.18it/s]\n"
     ]
    },
    {
     "name": "stdout",
     "output_type": "stream",
     "text": [
      "Iteration 10 - Epoch 31:\n",
      "  Train Acc = 0.9945, Train Prec = 0.9945, Train Rec = 0.9945, Train F-Beta = 0.9945, Train Loss = 0.0257\n",
      "  Val Acc = 0.9499, Val Prec = 0.9516, Val Rec = 0.9499, Val F-Beta = 0.9508, Val Loss = 0.3364\n"
     ]
    },
    {
     "name": "stderr",
     "output_type": "stream",
     "text": [
      "Epoch 32 - Training: 100%|██████████| 103/103 [00:30<00:00,  3.33it/s]\n",
      "Epoch 32 - Validation: 100%|██████████| 26/26 [00:02<00:00, 10.18it/s]\n"
     ]
    },
    {
     "name": "stdout",
     "output_type": "stream",
     "text": [
      "Iteration 10 - Epoch 32:\n",
      "  Train Acc = 0.9973, Train Prec = 0.9973, Train Rec = 0.9973, Train F-Beta = 0.9973, Train Loss = 0.0119\n",
      "  Val Acc = 0.9487, Val Prec = 0.9497, Val Rec = 0.9487, Val F-Beta = 0.9490, Val Loss = 0.3124\n"
     ]
    },
    {
     "name": "stderr",
     "output_type": "stream",
     "text": [
      "Epoch 33 - Training: 100%|██████████| 103/103 [00:30<00:00,  3.33it/s]\n",
      "Epoch 33 - Validation: 100%|██████████| 26/26 [00:02<00:00, 10.18it/s]\n"
     ]
    },
    {
     "name": "stdout",
     "output_type": "stream",
     "text": [
      "Iteration 10 - Epoch 33:\n",
      "  Train Acc = 0.9994, Train Prec = 0.9994, Train Rec = 0.9994, Train F-Beta = 0.9994, Train Loss = 0.0044\n",
      "  Val Acc = 0.9560, Val Prec = 0.9575, Val Rec = 0.9560, Val F-Beta = 0.9568, Val Loss = 0.3035\n"
     ]
    },
    {
     "name": "stderr",
     "output_type": "stream",
     "text": [
      "Epoch 34 - Training: 100%|██████████| 103/103 [00:30<00:00,  3.34it/s]\n",
      "Epoch 34 - Validation: 100%|██████████| 26/26 [00:02<00:00, 10.17it/s]\n"
     ]
    },
    {
     "name": "stdout",
     "output_type": "stream",
     "text": [
      "Iteration 10 - Epoch 34:\n",
      "  Train Acc = 1.0000, Train Prec = 1.0000, Train Rec = 1.0000, Train F-Beta = 1.0000, Train Loss = 0.0016\n",
      "  Val Acc = 0.9573, Val Prec = 0.9577, Val Rec = 0.9573, Val F-Beta = 0.9574, Val Loss = 0.2975\n"
     ]
    },
    {
     "name": "stderr",
     "output_type": "stream",
     "text": [
      "Epoch 35 - Training: 100%|██████████| 103/103 [00:30<00:00,  3.34it/s]\n",
      "Epoch 35 - Validation: 100%|██████████| 26/26 [00:02<00:00, 10.18it/s]\n"
     ]
    },
    {
     "name": "stdout",
     "output_type": "stream",
     "text": [
      "Iteration 10 - Epoch 35:\n",
      "  Train Acc = 1.0000, Train Prec = 1.0000, Train Rec = 1.0000, Train F-Beta = 1.0000, Train Loss = 0.0012\n",
      "  Val Acc = 0.9585, Val Prec = 0.9593, Val Rec = 0.9585, Val F-Beta = 0.9588, Val Loss = 0.2991\n"
     ]
    },
    {
     "name": "stderr",
     "output_type": "stream",
     "text": [
      "Epoch 36 - Training: 100%|██████████| 103/103 [00:30<00:00,  3.34it/s]\n",
      "Epoch 36 - Validation: 100%|██████████| 26/26 [00:02<00:00, 10.17it/s]\n"
     ]
    },
    {
     "name": "stdout",
     "output_type": "stream",
     "text": [
      "Iteration 10 - Epoch 36:\n",
      "  Train Acc = 1.0000, Train Prec = 1.0000, Train Rec = 1.0000, Train F-Beta = 1.0000, Train Loss = 0.0015\n",
      "  Val Acc = 0.9585, Val Prec = 0.9596, Val Rec = 0.9585, Val F-Beta = 0.9591, Val Loss = 0.2952\n"
     ]
    },
    {
     "name": "stderr",
     "output_type": "stream",
     "text": [
      "Epoch 37 - Training: 100%|██████████| 103/103 [00:30<00:00,  3.34it/s]\n",
      "Epoch 37 - Validation: 100%|██████████| 26/26 [00:02<00:00, 10.17it/s]\n"
     ]
    },
    {
     "name": "stdout",
     "output_type": "stream",
     "text": [
      "Iteration 10 - Epoch 37:\n",
      "  Train Acc = 0.9982, Train Prec = 0.9982, Train Rec = 0.9982, Train F-Beta = 0.9982, Train Loss = 0.0128\n",
      "  Val Acc = 0.9609, Val Prec = 0.9620, Val Rec = 0.9609, Val F-Beta = 0.9615, Val Loss = 0.2774\n",
      "  Better model saved with 0.9615 F-beta score.\n"
     ]
    },
    {
     "name": "stderr",
     "output_type": "stream",
     "text": [
      "Epoch 38 - Training: 100%|██████████| 103/103 [00:30<00:00,  3.34it/s]\n",
      "Epoch 38 - Validation: 100%|██████████| 26/26 [00:02<00:00, 10.18it/s]\n"
     ]
    },
    {
     "name": "stdout",
     "output_type": "stream",
     "text": [
      "Iteration 10 - Epoch 38:\n",
      "  Train Acc = 0.9988, Train Prec = 0.9988, Train Rec = 0.9988, Train F-Beta = 0.9988, Train Loss = 0.0043\n",
      "  Val Acc = 0.9573, Val Prec = 0.9591, Val Rec = 0.9573, Val F-Beta = 0.9582, Val Loss = 0.2923\n"
     ]
    },
    {
     "name": "stderr",
     "output_type": "stream",
     "text": [
      "Epoch 39 - Training: 100%|██████████| 103/103 [00:30<00:00,  3.34it/s]\n",
      "Epoch 39 - Validation: 100%|██████████| 26/26 [00:02<00:00, 10.17it/s]\n"
     ]
    },
    {
     "name": "stdout",
     "output_type": "stream",
     "text": [
      "Iteration 10 - Epoch 39:\n",
      "  Train Acc = 0.9951, Train Prec = 0.9951, Train Rec = 0.9951, Train F-Beta = 0.9951, Train Loss = 0.0179\n",
      "  Val Acc = 0.9560, Val Prec = 0.9573, Val Rec = 0.9560, Val F-Beta = 0.9566, Val Loss = 0.2973\n"
     ]
    },
    {
     "name": "stderr",
     "output_type": "stream",
     "text": [
      "Epoch 40 - Training: 100%|██████████| 103/103 [00:30<00:00,  3.34it/s]\n",
      "Epoch 40 - Validation: 100%|██████████| 26/26 [00:02<00:00, 10.19it/s]\n"
     ]
    },
    {
     "name": "stdout",
     "output_type": "stream",
     "text": [
      "Iteration 10 - Epoch 40:\n",
      "  Train Acc = 0.9948, Train Prec = 0.9948, Train Rec = 0.9948, Train F-Beta = 0.9948, Train Loss = 0.0234\n",
      "  Val Acc = 0.9499, Val Prec = 0.9503, Val Rec = 0.9499, Val F-Beta = 0.9501, Val Loss = 0.3152\n",
      "Iteration 11/20\n"
     ]
    },
    {
     "name": "stderr",
     "output_type": "stream",
     "text": [
      "Some weights of ElectraForSequenceClassification were not initialized from the model checkpoint at beomi/KcELECTRA-base-v2022 and are newly initialized: ['classifier.dense.bias', 'classifier.dense.weight', 'classifier.out_proj.bias', 'classifier.out_proj.weight']\n",
      "You should probably TRAIN this model on a down-stream task to be able to use it for predictions and inference.\n",
      "Epoch 1 - Training: 100%|██████████| 103/103 [00:30<00:00,  3.33it/s]\n",
      "Epoch 1 - Validation: 100%|██████████| 26/26 [00:02<00:00, 10.17it/s]\n"
     ]
    },
    {
     "name": "stdout",
     "output_type": "stream",
     "text": [
      "Iteration 11 - Epoch 1:\n",
      "  Train Acc = 0.2824, Train Prec = 0.1618, Train Rec = 0.2824, Train F-Beta = 0.1471, Train Loss = 2.3079\n",
      "  Val Acc = 0.4505, Val Prec = 0.3133, Val Rec = 0.4505, Val F-Beta = 0.3031, Val Loss = 1.8382\n"
     ]
    },
    {
     "name": "stderr",
     "output_type": "stream",
     "text": [
      "Epoch 2 - Training: 100%|██████████| 103/103 [00:30<00:00,  3.33it/s]\n",
      "Epoch 2 - Validation: 100%|██████████| 26/26 [00:02<00:00, 10.18it/s]\n"
     ]
    },
    {
     "name": "stdout",
     "output_type": "stream",
     "text": [
      "Iteration 11 - Epoch 2:\n",
      "  Train Acc = 0.5798, Train Prec = 0.5788, Train Rec = 0.5798, Train F-Beta = 0.5032, Train Loss = 1.4425\n",
      "  Val Acc = 0.6825, Val Prec = 0.6363, Val Rec = 0.6825, Val F-Beta = 0.6095, Val Loss = 1.0411\n"
     ]
    },
    {
     "name": "stderr",
     "output_type": "stream",
     "text": [
      "Epoch 3 - Training: 100%|██████████| 103/103 [00:30<00:00,  3.33it/s]\n",
      "Epoch 3 - Validation: 100%|██████████| 26/26 [00:02<00:00, 10.17it/s]\n"
     ]
    },
    {
     "name": "stdout",
     "output_type": "stream",
     "text": [
      "Iteration 11 - Epoch 3:\n",
      "  Train Acc = 0.8214, Train Prec = 0.8499, Train Rec = 0.8214, Train F-Beta = 0.7939, Train Loss = 0.7591\n",
      "  Val Acc = 0.8400, Val Prec = 0.8761, Val Rec = 0.8400, Val F-Beta = 0.8152, Val Loss = 0.5684\n"
     ]
    },
    {
     "name": "stderr",
     "output_type": "stream",
     "text": [
      "Epoch 4 - Training: 100%|██████████| 103/103 [00:30<00:00,  3.34it/s]\n",
      "Epoch 4 - Validation: 100%|██████████| 26/26 [00:02<00:00, 10.18it/s]\n"
     ]
    },
    {
     "name": "stdout",
     "output_type": "stream",
     "text": [
      "Iteration 11 - Epoch 4:\n",
      "  Train Acc = 0.9389, Train Prec = 0.9445, Train Rec = 0.9389, Train F-Beta = 0.9396, Train Loss = 0.3710\n",
      "  Val Acc = 0.9341, Val Prec = 0.9355, Val Rec = 0.9341, Val F-Beta = 0.9346, Val Loss = 0.3398\n"
     ]
    },
    {
     "name": "stderr",
     "output_type": "stream",
     "text": [
      "Epoch 5 - Training: 100%|██████████| 103/103 [00:30<00:00,  3.34it/s]\n",
      "Epoch 5 - Validation: 100%|██████████| 26/26 [00:02<00:00, 10.19it/s]\n"
     ]
    },
    {
     "name": "stdout",
     "output_type": "stream",
     "text": [
      "Iteration 11 - Epoch 5:\n",
      "  Train Acc = 0.9759, Train Prec = 0.9762, Train Rec = 0.9759, Train F-Beta = 0.9760, Train Loss = 0.1907\n",
      "  Val Acc = 0.9414, Val Prec = 0.9443, Val Rec = 0.9414, Val F-Beta = 0.9426, Val Loss = 0.2862\n"
     ]
    },
    {
     "name": "stderr",
     "output_type": "stream",
     "text": [
      "Epoch 6 - Training: 100%|██████████| 103/103 [00:30<00:00,  3.34it/s]\n",
      "Epoch 6 - Validation: 100%|██████████| 26/26 [00:02<00:00, 10.18it/s]\n"
     ]
    },
    {
     "name": "stdout",
     "output_type": "stream",
     "text": [
      "Iteration 11 - Epoch 6:\n",
      "  Train Acc = 0.9875, Train Prec = 0.9876, Train Rec = 0.9875, Train F-Beta = 0.9875, Train Loss = 0.1047\n",
      "  Val Acc = 0.9328, Val Prec = 0.9362, Val Rec = 0.9328, Val F-Beta = 0.9346, Val Loss = 0.2749\n"
     ]
    },
    {
     "name": "stderr",
     "output_type": "stream",
     "text": [
      "Epoch 7 - Training: 100%|██████████| 103/103 [00:30<00:00,  3.34it/s]\n",
      "Epoch 7 - Validation: 100%|██████████| 26/26 [00:02<00:00, 10.16it/s]\n"
     ]
    },
    {
     "name": "stdout",
     "output_type": "stream",
     "text": [
      "Iteration 11 - Epoch 7:\n",
      "  Train Acc = 0.9945, Train Prec = 0.9945, Train Rec = 0.9945, Train F-Beta = 0.9945, Train Loss = 0.0628\n",
      "  Val Acc = 0.9414, Val Prec = 0.9441, Val Rec = 0.9414, Val F-Beta = 0.9427, Val Loss = 0.2595\n"
     ]
    },
    {
     "name": "stderr",
     "output_type": "stream",
     "text": [
      "Epoch 8 - Training: 100%|██████████| 103/103 [00:30<00:00,  3.34it/s]\n",
      "Epoch 8 - Validation: 100%|██████████| 26/26 [00:02<00:00, 10.18it/s]\n"
     ]
    },
    {
     "name": "stdout",
     "output_type": "stream",
     "text": [
      "Iteration 11 - Epoch 8:\n",
      "  Train Acc = 0.9963, Train Prec = 0.9963, Train Rec = 0.9963, Train F-Beta = 0.9963, Train Loss = 0.0409\n",
      "  Val Acc = 0.9487, Val Prec = 0.9524, Val Rec = 0.9487, Val F-Beta = 0.9506, Val Loss = 0.2646\n",
      "  Better model saved with 0.9506 F-beta score.\n"
     ]
    },
    {
     "name": "stderr",
     "output_type": "stream",
     "text": [
      "Epoch 9 - Training: 100%|██████████| 103/103 [00:30<00:00,  3.34it/s]\n",
      "Epoch 9 - Validation: 100%|██████████| 26/26 [00:02<00:00, 10.19it/s]\n"
     ]
    },
    {
     "name": "stdout",
     "output_type": "stream",
     "text": [
      "Iteration 11 - Epoch 9:\n",
      "  Train Acc = 0.9954, Train Prec = 0.9954, Train Rec = 0.9954, Train F-Beta = 0.9954, Train Loss = 0.0382\n",
      "  Val Acc = 0.9377, Val Prec = 0.9410, Val Rec = 0.9377, Val F-Beta = 0.9390, Val Loss = 0.3045\n"
     ]
    },
    {
     "name": "stderr",
     "output_type": "stream",
     "text": [
      "Epoch 10 - Training: 100%|██████████| 103/103 [00:30<00:00,  3.34it/s]\n",
      "Epoch 10 - Validation: 100%|██████████| 26/26 [00:02<00:00, 10.19it/s]\n"
     ]
    },
    {
     "name": "stdout",
     "output_type": "stream",
     "text": [
      "Iteration 11 - Epoch 10:\n",
      "  Train Acc = 0.9957, Train Prec = 0.9957, Train Rec = 0.9957, Train F-Beta = 0.9957, Train Loss = 0.0324\n",
      "  Val Acc = 0.9402, Val Prec = 0.9419, Val Rec = 0.9402, Val F-Beta = 0.9407, Val Loss = 0.3099\n"
     ]
    },
    {
     "name": "stderr",
     "output_type": "stream",
     "text": [
      "Epoch 11 - Training: 100%|██████████| 103/103 [00:30<00:00,  3.34it/s]\n",
      "Epoch 11 - Validation: 100%|██████████| 26/26 [00:02<00:00, 10.18it/s]\n"
     ]
    },
    {
     "name": "stdout",
     "output_type": "stream",
     "text": [
      "Iteration 11 - Epoch 11:\n",
      "  Train Acc = 0.9960, Train Prec = 0.9960, Train Rec = 0.9960, Train F-Beta = 0.9960, Train Loss = 0.0286\n",
      "  Val Acc = 0.9255, Val Prec = 0.9293, Val Rec = 0.9255, Val F-Beta = 0.9272, Val Loss = 0.3324\n"
     ]
    },
    {
     "name": "stderr",
     "output_type": "stream",
     "text": [
      "Epoch 12 - Training: 100%|██████████| 103/103 [00:30<00:00,  3.34it/s]\n",
      "Epoch 12 - Validation: 100%|██████████| 26/26 [00:02<00:00, 10.18it/s]\n"
     ]
    },
    {
     "name": "stdout",
     "output_type": "stream",
     "text": [
      "Iteration 11 - Epoch 12:\n",
      "  Train Acc = 0.9936, Train Prec = 0.9936, Train Rec = 0.9936, Train F-Beta = 0.9936, Train Loss = 0.0284\n",
      "  Val Acc = 0.9451, Val Prec = 0.9465, Val Rec = 0.9451, Val F-Beta = 0.9457, Val Loss = 0.2853\n"
     ]
    },
    {
     "name": "stderr",
     "output_type": "stream",
     "text": [
      "Epoch 13 - Training: 100%|██████████| 103/103 [00:30<00:00,  3.34it/s]\n",
      "Epoch 13 - Validation: 100%|██████████| 26/26 [00:02<00:00, 10.17it/s]\n"
     ]
    },
    {
     "name": "stdout",
     "output_type": "stream",
     "text": [
      "Iteration 11 - Epoch 13:\n",
      "  Train Acc = 0.9930, Train Prec = 0.9930, Train Rec = 0.9930, Train F-Beta = 0.9930, Train Loss = 0.0304\n",
      "  Val Acc = 0.9377, Val Prec = 0.9420, Val Rec = 0.9377, Val F-Beta = 0.9393, Val Loss = 0.3040\n"
     ]
    },
    {
     "name": "stderr",
     "output_type": "stream",
     "text": [
      "Epoch 14 - Training: 100%|██████████| 103/103 [00:30<00:00,  3.34it/s]\n",
      "Epoch 14 - Validation: 100%|██████████| 26/26 [00:02<00:00, 10.18it/s]\n"
     ]
    },
    {
     "name": "stdout",
     "output_type": "stream",
     "text": [
      "Iteration 11 - Epoch 14:\n",
      "  Train Acc = 0.9933, Train Prec = 0.9933, Train Rec = 0.9933, Train F-Beta = 0.9933, Train Loss = 0.0267\n",
      "  Val Acc = 0.9316, Val Prec = 0.9356, Val Rec = 0.9316, Val F-Beta = 0.9333, Val Loss = 0.3519\n"
     ]
    },
    {
     "name": "stderr",
     "output_type": "stream",
     "text": [
      "Epoch 15 - Training: 100%|██████████| 103/103 [00:30<00:00,  3.34it/s]\n",
      "Epoch 15 - Validation: 100%|██████████| 26/26 [00:02<00:00, 10.16it/s]\n"
     ]
    },
    {
     "name": "stdout",
     "output_type": "stream",
     "text": [
      "Iteration 11 - Epoch 15:\n",
      "  Train Acc = 0.9960, Train Prec = 0.9960, Train Rec = 0.9960, Train F-Beta = 0.9960, Train Loss = 0.0174\n",
      "  Val Acc = 0.9512, Val Prec = 0.9536, Val Rec = 0.9512, Val F-Beta = 0.9522, Val Loss = 0.2783\n",
      "  Better model saved with 0.9522 F-beta score.\n"
     ]
    },
    {
     "name": "stderr",
     "output_type": "stream",
     "text": [
      "Epoch 16 - Training: 100%|██████████| 103/103 [00:30<00:00,  3.34it/s]\n",
      "Epoch 16 - Validation: 100%|██████████| 26/26 [00:02<00:00, 10.18it/s]\n"
     ]
    },
    {
     "name": "stdout",
     "output_type": "stream",
     "text": [
      "Iteration 11 - Epoch 16:\n",
      "  Train Acc = 0.9994, Train Prec = 0.9994, Train Rec = 0.9994, Train F-Beta = 0.9994, Train Loss = 0.0073\n",
      "  Val Acc = 0.9438, Val Prec = 0.9464, Val Rec = 0.9438, Val F-Beta = 0.9447, Val Loss = 0.3043\n"
     ]
    },
    {
     "name": "stderr",
     "output_type": "stream",
     "text": [
      "Epoch 17 - Training: 100%|██████████| 103/103 [00:30<00:00,  3.34it/s]\n",
      "Epoch 17 - Validation: 100%|██████████| 26/26 [00:02<00:00, 10.18it/s]\n"
     ]
    },
    {
     "name": "stdout",
     "output_type": "stream",
     "text": [
      "Iteration 11 - Epoch 17:\n",
      "  Train Acc = 0.9976, Train Prec = 0.9976, Train Rec = 0.9976, Train F-Beta = 0.9976, Train Loss = 0.0118\n",
      "  Val Acc = 0.9389, Val Prec = 0.9430, Val Rec = 0.9389, Val F-Beta = 0.9410, Val Loss = 0.3405\n"
     ]
    },
    {
     "name": "stderr",
     "output_type": "stream",
     "text": [
      "Epoch 18 - Training: 100%|██████████| 103/103 [00:30<00:00,  3.34it/s]\n",
      "Epoch 18 - Validation: 100%|██████████| 26/26 [00:02<00:00, 10.18it/s]\n"
     ]
    },
    {
     "name": "stdout",
     "output_type": "stream",
     "text": [
      "Iteration 11 - Epoch 18:\n",
      "  Train Acc = 0.9939, Train Prec = 0.9939, Train Rec = 0.9939, Train F-Beta = 0.9939, Train Loss = 0.0288\n",
      "  Val Acc = 0.9377, Val Prec = 0.9413, Val Rec = 0.9377, Val F-Beta = 0.9392, Val Loss = 0.3627\n"
     ]
    },
    {
     "name": "stderr",
     "output_type": "stream",
     "text": [
      "Epoch 19 - Training: 100%|██████████| 103/103 [00:30<00:00,  3.34it/s]\n",
      "Epoch 19 - Validation: 100%|██████████| 26/26 [00:02<00:00, 10.18it/s]\n"
     ]
    },
    {
     "name": "stdout",
     "output_type": "stream",
     "text": [
      "Iteration 11 - Epoch 19:\n",
      "  Train Acc = 0.9969, Train Prec = 0.9970, Train Rec = 0.9969, Train F-Beta = 0.9970, Train Loss = 0.0152\n",
      "  Val Acc = 0.9524, Val Prec = 0.9542, Val Rec = 0.9524, Val F-Beta = 0.9532, Val Loss = 0.2560\n",
      "  Better model saved with 0.9532 F-beta score.\n"
     ]
    },
    {
     "name": "stderr",
     "output_type": "stream",
     "text": [
      "Epoch 20 - Training: 100%|██████████| 103/103 [00:30<00:00,  3.34it/s]\n",
      "Epoch 20 - Validation: 100%|██████████| 26/26 [00:02<00:00, 10.19it/s]\n"
     ]
    },
    {
     "name": "stdout",
     "output_type": "stream",
     "text": [
      "Iteration 11 - Epoch 20:\n",
      "  Train Acc = 0.9973, Train Prec = 0.9973, Train Rec = 0.9973, Train F-Beta = 0.9973, Train Loss = 0.0110\n",
      "  Val Acc = 0.9402, Val Prec = 0.9443, Val Rec = 0.9402, Val F-Beta = 0.9421, Val Loss = 0.3265\n"
     ]
    },
    {
     "name": "stderr",
     "output_type": "stream",
     "text": [
      "Epoch 21 - Training: 100%|██████████| 103/103 [00:30<00:00,  3.34it/s]\n",
      "Epoch 21 - Validation: 100%|██████████| 26/26 [00:02<00:00, 10.16it/s]\n"
     ]
    },
    {
     "name": "stdout",
     "output_type": "stream",
     "text": [
      "Iteration 11 - Epoch 21:\n",
      "  Train Acc = 0.9963, Train Prec = 0.9963, Train Rec = 0.9963, Train F-Beta = 0.9963, Train Loss = 0.0213\n",
      "  Val Acc = 0.9487, Val Prec = 0.9499, Val Rec = 0.9487, Val F-Beta = 0.9492, Val Loss = 0.2884\n"
     ]
    },
    {
     "name": "stderr",
     "output_type": "stream",
     "text": [
      "Epoch 22 - Training: 100%|██████████| 103/103 [00:30<00:00,  3.34it/s]\n",
      "Epoch 22 - Validation: 100%|██████████| 26/26 [00:02<00:00, 10.16it/s]\n"
     ]
    },
    {
     "name": "stdout",
     "output_type": "stream",
     "text": [
      "Iteration 11 - Epoch 22:\n",
      "  Train Acc = 1.0000, Train Prec = 1.0000, Train Rec = 1.0000, Train F-Beta = 1.0000, Train Loss = 0.0032\n",
      "  Val Acc = 0.9499, Val Prec = 0.9525, Val Rec = 0.9499, Val F-Beta = 0.9513, Val Loss = 0.3049\n"
     ]
    },
    {
     "name": "stderr",
     "output_type": "stream",
     "text": [
      "Epoch 23 - Training: 100%|██████████| 103/103 [00:30<00:00,  3.34it/s]\n",
      "Epoch 23 - Validation: 100%|██████████| 26/26 [00:02<00:00, 10.17it/s]\n"
     ]
    },
    {
     "name": "stdout",
     "output_type": "stream",
     "text": [
      "Iteration 11 - Epoch 23:\n",
      "  Train Acc = 0.9982, Train Prec = 0.9982, Train Rec = 0.9982, Train F-Beta = 0.9982, Train Loss = 0.0100\n",
      "  Val Acc = 0.9536, Val Prec = 0.9553, Val Rec = 0.9536, Val F-Beta = 0.9543, Val Loss = 0.2886\n",
      "  Better model saved with 0.9543 F-beta score.\n"
     ]
    },
    {
     "name": "stderr",
     "output_type": "stream",
     "text": [
      "Epoch 24 - Training: 100%|██████████| 103/103 [00:30<00:00,  3.34it/s]\n",
      "Epoch 24 - Validation: 100%|██████████| 26/26 [00:02<00:00, 10.17it/s]\n"
     ]
    },
    {
     "name": "stdout",
     "output_type": "stream",
     "text": [
      "Iteration 11 - Epoch 24:\n",
      "  Train Acc = 0.9997, Train Prec = 0.9997, Train Rec = 0.9997, Train F-Beta = 0.9997, Train Loss = 0.0042\n",
      "  Val Acc = 0.9487, Val Prec = 0.9500, Val Rec = 0.9487, Val F-Beta = 0.9492, Val Loss = 0.3033\n"
     ]
    },
    {
     "name": "stderr",
     "output_type": "stream",
     "text": [
      "Epoch 25 - Training: 100%|██████████| 103/103 [00:30<00:00,  3.34it/s]\n",
      "Epoch 25 - Validation: 100%|██████████| 26/26 [00:02<00:00, 10.19it/s]\n"
     ]
    },
    {
     "name": "stdout",
     "output_type": "stream",
     "text": [
      "Iteration 11 - Epoch 25:\n",
      "  Train Acc = 0.9988, Train Prec = 0.9988, Train Rec = 0.9988, Train F-Beta = 0.9988, Train Loss = 0.0060\n",
      "  Val Acc = 0.9524, Val Prec = 0.9547, Val Rec = 0.9524, Val F-Beta = 0.9535, Val Loss = 0.3132\n"
     ]
    },
    {
     "name": "stderr",
     "output_type": "stream",
     "text": [
      "Epoch 26 - Training: 100%|██████████| 103/103 [00:30<00:00,  3.34it/s]\n",
      "Epoch 26 - Validation: 100%|██████████| 26/26 [00:02<00:00, 10.17it/s]\n"
     ]
    },
    {
     "name": "stdout",
     "output_type": "stream",
     "text": [
      "Iteration 11 - Epoch 26:\n",
      "  Train Acc = 0.9991, Train Prec = 0.9991, Train Rec = 0.9991, Train F-Beta = 0.9991, Train Loss = 0.0050\n",
      "  Val Acc = 0.9512, Val Prec = 0.9532, Val Rec = 0.9512, Val F-Beta = 0.9519, Val Loss = 0.3277\n"
     ]
    },
    {
     "name": "stderr",
     "output_type": "stream",
     "text": [
      "Epoch 27 - Training: 100%|██████████| 103/103 [00:30<00:00,  3.34it/s]\n",
      "Epoch 27 - Validation: 100%|██████████| 26/26 [00:02<00:00, 10.16it/s]\n"
     ]
    },
    {
     "name": "stdout",
     "output_type": "stream",
     "text": [
      "Iteration 11 - Epoch 27:\n",
      "  Train Acc = 0.9988, Train Prec = 0.9988, Train Rec = 0.9988, Train F-Beta = 0.9988, Train Loss = 0.0058\n",
      "  Val Acc = 0.9426, Val Prec = 0.9491, Val Rec = 0.9426, Val F-Beta = 0.9460, Val Loss = 0.3660\n"
     ]
    },
    {
     "name": "stderr",
     "output_type": "stream",
     "text": [
      "Epoch 28 - Training: 100%|██████████| 103/103 [00:30<00:00,  3.34it/s]\n",
      "Epoch 28 - Validation: 100%|██████████| 26/26 [00:02<00:00, 10.17it/s]\n"
     ]
    },
    {
     "name": "stdout",
     "output_type": "stream",
     "text": [
      "Iteration 11 - Epoch 28:\n",
      "  Train Acc = 0.9963, Train Prec = 0.9963, Train Rec = 0.9963, Train F-Beta = 0.9963, Train Loss = 0.0185\n",
      "  Val Acc = 0.9560, Val Prec = 0.9580, Val Rec = 0.9560, Val F-Beta = 0.9569, Val Loss = 0.2618\n",
      "  Better model saved with 0.9569 F-beta score.\n"
     ]
    },
    {
     "name": "stderr",
     "output_type": "stream",
     "text": [
      "Epoch 29 - Training: 100%|██████████| 103/103 [00:30<00:00,  3.34it/s]\n",
      "Epoch 29 - Validation: 100%|██████████| 26/26 [00:02<00:00, 10.17it/s]\n"
     ]
    },
    {
     "name": "stdout",
     "output_type": "stream",
     "text": [
      "Iteration 11 - Epoch 29:\n",
      "  Train Acc = 0.9948, Train Prec = 0.9949, Train Rec = 0.9948, Train F-Beta = 0.9948, Train Loss = 0.0248\n",
      "  Val Acc = 0.9402, Val Prec = 0.9436, Val Rec = 0.9402, Val F-Beta = 0.9414, Val Loss = 0.3313\n"
     ]
    },
    {
     "name": "stderr",
     "output_type": "stream",
     "text": [
      "Epoch 30 - Training: 100%|██████████| 103/103 [00:30<00:00,  3.34it/s]\n",
      "Epoch 30 - Validation: 100%|██████████| 26/26 [00:02<00:00, 10.17it/s]\n"
     ]
    },
    {
     "name": "stdout",
     "output_type": "stream",
     "text": [
      "Iteration 11 - Epoch 30:\n",
      "  Train Acc = 0.9997, Train Prec = 0.9997, Train Rec = 0.9997, Train F-Beta = 0.9997, Train Loss = 0.0028\n",
      "  Val Acc = 0.9585, Val Prec = 0.9597, Val Rec = 0.9585, Val F-Beta = 0.9590, Val Loss = 0.2626\n",
      "  Better model saved with 0.9590 F-beta score.\n"
     ]
    },
    {
     "name": "stderr",
     "output_type": "stream",
     "text": [
      "Epoch 31 - Training: 100%|██████████| 103/103 [00:30<00:00,  3.34it/s]\n",
      "Epoch 31 - Validation: 100%|██████████| 26/26 [00:02<00:00, 10.15it/s]\n"
     ]
    },
    {
     "name": "stdout",
     "output_type": "stream",
     "text": [
      "Iteration 11 - Epoch 31:\n",
      "  Train Acc = 0.9988, Train Prec = 0.9988, Train Rec = 0.9988, Train F-Beta = 0.9988, Train Loss = 0.0064\n",
      "  Val Acc = 0.9512, Val Prec = 0.9531, Val Rec = 0.9512, Val F-Beta = 0.9518, Val Loss = 0.3063\n"
     ]
    },
    {
     "name": "stderr",
     "output_type": "stream",
     "text": [
      "Epoch 32 - Training: 100%|██████████| 103/103 [00:30<00:00,  3.34it/s]\n",
      "Epoch 32 - Validation: 100%|██████████| 26/26 [00:02<00:00, 10.18it/s]\n"
     ]
    },
    {
     "name": "stdout",
     "output_type": "stream",
     "text": [
      "Iteration 11 - Epoch 32:\n",
      "  Train Acc = 0.9988, Train Prec = 0.9988, Train Rec = 0.9988, Train F-Beta = 0.9988, Train Loss = 0.0039\n",
      "  Val Acc = 0.9585, Val Prec = 0.9590, Val Rec = 0.9585, Val F-Beta = 0.9587, Val Loss = 0.2688\n"
     ]
    },
    {
     "name": "stderr",
     "output_type": "stream",
     "text": [
      "Epoch 33 - Training: 100%|██████████| 103/103 [00:30<00:00,  3.34it/s]\n",
      "Epoch 33 - Validation: 100%|██████████| 26/26 [00:02<00:00, 10.18it/s]\n"
     ]
    },
    {
     "name": "stdout",
     "output_type": "stream",
     "text": [
      "Iteration 11 - Epoch 33:\n",
      "  Train Acc = 0.9997, Train Prec = 0.9997, Train Rec = 0.9997, Train F-Beta = 0.9997, Train Loss = 0.0021\n",
      "  Val Acc = 0.9487, Val Prec = 0.9511, Val Rec = 0.9487, Val F-Beta = 0.9496, Val Loss = 0.3394\n"
     ]
    },
    {
     "name": "stderr",
     "output_type": "stream",
     "text": [
      "Epoch 34 - Training: 100%|██████████| 103/103 [00:30<00:00,  3.34it/s]\n",
      "Epoch 34 - Validation: 100%|██████████| 26/26 [00:02<00:00, 10.18it/s]\n"
     ]
    },
    {
     "name": "stdout",
     "output_type": "stream",
     "text": [
      "Iteration 11 - Epoch 34:\n",
      "  Train Acc = 0.9988, Train Prec = 0.9988, Train Rec = 0.9988, Train F-Beta = 0.9988, Train Loss = 0.0085\n",
      "  Val Acc = 0.9548, Val Prec = 0.9560, Val Rec = 0.9548, Val F-Beta = 0.9552, Val Loss = 0.2895\n"
     ]
    },
    {
     "name": "stderr",
     "output_type": "stream",
     "text": [
      "Epoch 35 - Training: 100%|██████████| 103/103 [00:30<00:00,  3.34it/s]\n",
      "Epoch 35 - Validation: 100%|██████████| 26/26 [00:02<00:00, 10.18it/s]\n"
     ]
    },
    {
     "name": "stdout",
     "output_type": "stream",
     "text": [
      "Iteration 11 - Epoch 35:\n",
      "  Train Acc = 0.9994, Train Prec = 0.9994, Train Rec = 0.9994, Train F-Beta = 0.9994, Train Loss = 0.0033\n",
      "  Val Acc = 0.9487, Val Prec = 0.9498, Val Rec = 0.9487, Val F-Beta = 0.9490, Val Loss = 0.3324\n"
     ]
    },
    {
     "name": "stderr",
     "output_type": "stream",
     "text": [
      "Epoch 36 - Training: 100%|██████████| 103/103 [00:30<00:00,  3.34it/s]\n",
      "Epoch 36 - Validation: 100%|██████████| 26/26 [00:02<00:00, 10.18it/s]\n"
     ]
    },
    {
     "name": "stdout",
     "output_type": "stream",
     "text": [
      "Iteration 11 - Epoch 36:\n",
      "  Train Acc = 1.0000, Train Prec = 1.0000, Train Rec = 1.0000, Train F-Beta = 1.0000, Train Loss = 0.0011\n",
      "  Val Acc = 0.9548, Val Prec = 0.9562, Val Rec = 0.9548, Val F-Beta = 0.9553, Val Loss = 0.3129\n"
     ]
    },
    {
     "name": "stderr",
     "output_type": "stream",
     "text": [
      "Epoch 37 - Training: 100%|██████████| 103/103 [00:30<00:00,  3.34it/s]\n",
      "Epoch 37 - Validation: 100%|██████████| 26/26 [00:02<00:00, 10.17it/s]\n"
     ]
    },
    {
     "name": "stdout",
     "output_type": "stream",
     "text": [
      "Iteration 11 - Epoch 37:\n",
      "  Train Acc = 1.0000, Train Prec = 1.0000, Train Rec = 1.0000, Train F-Beta = 1.0000, Train Loss = 0.0009\n",
      "  Val Acc = 0.9548, Val Prec = 0.9562, Val Rec = 0.9548, Val F-Beta = 0.9553, Val Loss = 0.3145\n"
     ]
    },
    {
     "name": "stderr",
     "output_type": "stream",
     "text": [
      "Epoch 38 - Training: 100%|██████████| 103/103 [00:30<00:00,  3.34it/s]\n",
      "Epoch 38 - Validation: 100%|██████████| 26/26 [00:02<00:00, 10.18it/s]\n"
     ]
    },
    {
     "name": "stdout",
     "output_type": "stream",
     "text": [
      "Iteration 11 - Epoch 38:\n",
      "  Train Acc = 1.0000, Train Prec = 1.0000, Train Rec = 1.0000, Train F-Beta = 1.0000, Train Loss = 0.0008\n",
      "  Val Acc = 0.9548, Val Prec = 0.9562, Val Rec = 0.9548, Val F-Beta = 0.9553, Val Loss = 0.3167\n"
     ]
    },
    {
     "name": "stderr",
     "output_type": "stream",
     "text": [
      "Epoch 39 - Training: 100%|██████████| 103/103 [00:30<00:00,  3.34it/s]\n",
      "Epoch 39 - Validation: 100%|██████████| 26/26 [00:02<00:00, 10.17it/s]\n"
     ]
    },
    {
     "name": "stdout",
     "output_type": "stream",
     "text": [
      "Iteration 11 - Epoch 39:\n",
      "  Train Acc = 1.0000, Train Prec = 1.0000, Train Rec = 1.0000, Train F-Beta = 1.0000, Train Loss = 0.0007\n",
      "  Val Acc = 0.9560, Val Prec = 0.9574, Val Rec = 0.9560, Val F-Beta = 0.9565, Val Loss = 0.3177\n"
     ]
    },
    {
     "name": "stderr",
     "output_type": "stream",
     "text": [
      "Epoch 40 - Training: 100%|██████████| 103/103 [00:30<00:00,  3.34it/s]\n",
      "Epoch 40 - Validation: 100%|██████████| 26/26 [00:02<00:00, 10.17it/s]\n"
     ]
    },
    {
     "name": "stdout",
     "output_type": "stream",
     "text": [
      "Iteration 11 - Epoch 40:\n",
      "  Train Acc = 1.0000, Train Prec = 1.0000, Train Rec = 1.0000, Train F-Beta = 1.0000, Train Loss = 0.0008\n",
      "  Val Acc = 0.9560, Val Prec = 0.9584, Val Rec = 0.9560, Val F-Beta = 0.9571, Val Loss = 0.3208\n",
      "Iteration 12/20\n"
     ]
    },
    {
     "name": "stderr",
     "output_type": "stream",
     "text": [
      "Some weights of ElectraForSequenceClassification were not initialized from the model checkpoint at beomi/KcELECTRA-base-v2022 and are newly initialized: ['classifier.dense.bias', 'classifier.dense.weight', 'classifier.out_proj.bias', 'classifier.out_proj.weight']\n",
      "You should probably TRAIN this model on a down-stream task to be able to use it for predictions and inference.\n",
      "Epoch 1 - Training: 100%|██████████| 103/103 [00:30<00:00,  3.33it/s]\n",
      "Epoch 1 - Validation: 100%|██████████| 26/26 [00:02<00:00, 10.17it/s]\n"
     ]
    },
    {
     "name": "stdout",
     "output_type": "stream",
     "text": [
      "Iteration 12 - Epoch 1:\n",
      "  Train Acc = 0.2928, Train Prec = 0.2116, Train Rec = 0.2928, Train F-Beta = 0.1761, Train Loss = 2.2875\n",
      "  Val Acc = 0.5226, Val Prec = 0.3517, Val Rec = 0.5226, Val F-Beta = 0.3727, Val Loss = 1.7370\n"
     ]
    },
    {
     "name": "stderr",
     "output_type": "stream",
     "text": [
      "Epoch 2 - Training: 100%|██████████| 103/103 [00:30<00:00,  3.34it/s]\n",
      "Epoch 2 - Validation: 100%|██████████| 26/26 [00:02<00:00, 10.16it/s]\n"
     ]
    },
    {
     "name": "stdout",
     "output_type": "stream",
     "text": [
      "Iteration 12 - Epoch 2:\n",
      "  Train Acc = 0.6076, Train Prec = 0.5948, Train Rec = 0.6076, Train F-Beta = 0.5212, Train Loss = 1.3972\n",
      "  Val Acc = 0.7118, Val Prec = 0.6888, Val Rec = 0.7118, Val F-Beta = 0.6544, Val Loss = 1.0185\n"
     ]
    },
    {
     "name": "stderr",
     "output_type": "stream",
     "text": [
      "Epoch 3 - Training: 100%|██████████| 103/103 [00:30<00:00,  3.34it/s]\n",
      "Epoch 3 - Validation: 100%|██████████| 26/26 [00:02<00:00, 10.14it/s]\n"
     ]
    },
    {
     "name": "stdout",
     "output_type": "stream",
     "text": [
      "Iteration 12 - Epoch 3:\n",
      "  Train Acc = 0.8394, Train Prec = 0.8556, Train Rec = 0.8394, Train F-Beta = 0.8069, Train Loss = 0.7473\n",
      "  Val Acc = 0.8364, Val Prec = 0.8546, Val Rec = 0.8364, Val F-Beta = 0.8051, Val Loss = 0.5444\n"
     ]
    },
    {
     "name": "stderr",
     "output_type": "stream",
     "text": [
      "Epoch 4 - Training: 100%|██████████| 103/103 [00:30<00:00,  3.34it/s]\n",
      "Epoch 4 - Validation: 100%|██████████| 26/26 [00:02<00:00, 10.18it/s]\n"
     ]
    },
    {
     "name": "stdout",
     "output_type": "stream",
     "text": [
      "Iteration 12 - Epoch 4:\n",
      "  Train Acc = 0.9322, Train Prec = 0.9391, Train Rec = 0.9322, Train F-Beta = 0.9319, Train Loss = 0.3671\n",
      "  Val Acc = 0.9011, Val Prec = 0.9098, Val Rec = 0.9011, Val F-Beta = 0.9036, Val Loss = 0.4053\n"
     ]
    },
    {
     "name": "stderr",
     "output_type": "stream",
     "text": [
      "Epoch 5 - Training: 100%|██████████| 103/103 [00:30<00:00,  3.34it/s]\n",
      "Epoch 5 - Validation: 100%|██████████| 26/26 [00:02<00:00, 10.17it/s]\n"
     ]
    },
    {
     "name": "stdout",
     "output_type": "stream",
     "text": [
      "Iteration 12 - Epoch 5:\n",
      "  Train Acc = 0.9643, Train Prec = 0.9644, Train Rec = 0.9643, Train F-Beta = 0.9642, Train Loss = 0.2124\n",
      "  Val Acc = 0.9292, Val Prec = 0.9331, Val Rec = 0.9292, Val F-Beta = 0.9310, Val Loss = 0.3048\n"
     ]
    },
    {
     "name": "stderr",
     "output_type": "stream",
     "text": [
      "Epoch 6 - Training: 100%|██████████| 103/103 [00:30<00:00,  3.34it/s]\n",
      "Epoch 6 - Validation: 100%|██████████| 26/26 [00:02<00:00, 10.18it/s]\n"
     ]
    },
    {
     "name": "stdout",
     "output_type": "stream",
     "text": [
      "Iteration 12 - Epoch 6:\n",
      "  Train Acc = 0.9856, Train Prec = 0.9857, Train Rec = 0.9856, Train F-Beta = 0.9857, Train Loss = 0.1094\n",
      "  Val Acc = 0.9377, Val Prec = 0.9421, Val Rec = 0.9377, Val F-Beta = 0.9401, Val Loss = 0.2902\n"
     ]
    },
    {
     "name": "stderr",
     "output_type": "stream",
     "text": [
      "Epoch 7 - Training: 100%|██████████| 103/103 [00:30<00:00,  3.34it/s]\n",
      "Epoch 7 - Validation: 100%|██████████| 26/26 [00:02<00:00, 10.18it/s]\n"
     ]
    },
    {
     "name": "stdout",
     "output_type": "stream",
     "text": [
      "Iteration 12 - Epoch 7:\n",
      "  Train Acc = 0.9844, Train Prec = 0.9844, Train Rec = 0.9844, Train F-Beta = 0.9844, Train Loss = 0.0864\n",
      "  Val Acc = 0.9463, Val Prec = 0.9495, Val Rec = 0.9463, Val F-Beta = 0.9477, Val Loss = 0.2713\n"
     ]
    },
    {
     "name": "stderr",
     "output_type": "stream",
     "text": [
      "Epoch 8 - Training: 100%|██████████| 103/103 [00:30<00:00,  3.34it/s]\n",
      "Epoch 8 - Validation: 100%|██████████| 26/26 [00:02<00:00, 10.17it/s]\n"
     ]
    },
    {
     "name": "stdout",
     "output_type": "stream",
     "text": [
      "Iteration 12 - Epoch 8:\n",
      "  Train Acc = 0.9951, Train Prec = 0.9951, Train Rec = 0.9951, Train F-Beta = 0.9951, Train Loss = 0.0490\n",
      "  Val Acc = 0.9487, Val Prec = 0.9501, Val Rec = 0.9487, Val F-Beta = 0.9493, Val Loss = 0.2438\n"
     ]
    },
    {
     "name": "stderr",
     "output_type": "stream",
     "text": [
      "Epoch 9 - Training: 100%|██████████| 103/103 [00:30<00:00,  3.34it/s]\n",
      "Epoch 9 - Validation: 100%|██████████| 26/26 [00:02<00:00, 10.16it/s]\n"
     ]
    },
    {
     "name": "stdout",
     "output_type": "stream",
     "text": [
      "Iteration 12 - Epoch 9:\n",
      "  Train Acc = 0.9957, Train Prec = 0.9958, Train Rec = 0.9957, Train F-Beta = 0.9958, Train Loss = 0.0389\n",
      "  Val Acc = 0.9438, Val Prec = 0.9443, Val Rec = 0.9438, Val F-Beta = 0.9439, Val Loss = 0.2613\n"
     ]
    },
    {
     "name": "stderr",
     "output_type": "stream",
     "text": [
      "Epoch 10 - Training: 100%|██████████| 103/103 [00:30<00:00,  3.34it/s]\n",
      "Epoch 10 - Validation: 100%|██████████| 26/26 [00:02<00:00, 10.17it/s]\n"
     ]
    },
    {
     "name": "stdout",
     "output_type": "stream",
     "text": [
      "Iteration 12 - Epoch 10:\n",
      "  Train Acc = 0.9957, Train Prec = 0.9957, Train Rec = 0.9957, Train F-Beta = 0.9957, Train Loss = 0.0320\n",
      "  Val Acc = 0.9438, Val Prec = 0.9460, Val Rec = 0.9438, Val F-Beta = 0.9447, Val Loss = 0.2729\n"
     ]
    },
    {
     "name": "stderr",
     "output_type": "stream",
     "text": [
      "Epoch 11 - Training: 100%|██████████| 103/103 [00:30<00:00,  3.34it/s]\n",
      "Epoch 11 - Validation: 100%|██████████| 26/26 [00:02<00:00, 10.17it/s]\n"
     ]
    },
    {
     "name": "stdout",
     "output_type": "stream",
     "text": [
      "Iteration 12 - Epoch 11:\n",
      "  Train Acc = 0.9994, Train Prec = 0.9994, Train Rec = 0.9994, Train F-Beta = 0.9994, Train Loss = 0.0175\n",
      "  Val Acc = 0.9451, Val Prec = 0.9463, Val Rec = 0.9451, Val F-Beta = 0.9455, Val Loss = 0.2627\n"
     ]
    },
    {
     "name": "stderr",
     "output_type": "stream",
     "text": [
      "Epoch 12 - Training: 100%|██████████| 103/103 [00:30<00:00,  3.33it/s]\n",
      "Epoch 12 - Validation: 100%|██████████| 26/26 [00:02<00:00, 10.18it/s]\n"
     ]
    },
    {
     "name": "stdout",
     "output_type": "stream",
     "text": [
      "Iteration 12 - Epoch 12:\n",
      "  Train Acc = 0.9994, Train Prec = 0.9994, Train Rec = 0.9994, Train F-Beta = 0.9994, Train Loss = 0.0150\n",
      "  Val Acc = 0.9512, Val Prec = 0.9519, Val Rec = 0.9512, Val F-Beta = 0.9512, Val Loss = 0.2535\n",
      "  Better model saved with 0.9512 F-beta score.\n"
     ]
    },
    {
     "name": "stderr",
     "output_type": "stream",
     "text": [
      "Epoch 13 - Training: 100%|██████████| 103/103 [00:30<00:00,  3.34it/s]\n",
      "Epoch 13 - Validation: 100%|██████████| 26/26 [00:02<00:00, 10.18it/s]\n"
     ]
    },
    {
     "name": "stdout",
     "output_type": "stream",
     "text": [
      "Iteration 12 - Epoch 13:\n",
      "  Train Acc = 0.9994, Train Prec = 0.9994, Train Rec = 0.9994, Train F-Beta = 0.9994, Train Loss = 0.0112\n",
      "  Val Acc = 0.9512, Val Prec = 0.9523, Val Rec = 0.9512, Val F-Beta = 0.9515, Val Loss = 0.2764\n",
      "  Better model saved with 0.9515 F-beta score.\n"
     ]
    },
    {
     "name": "stderr",
     "output_type": "stream",
     "text": [
      "Epoch 14 - Training: 100%|██████████| 103/103 [00:30<00:00,  3.34it/s]\n",
      "Epoch 14 - Validation: 100%|██████████| 26/26 [00:02<00:00, 10.19it/s]\n"
     ]
    },
    {
     "name": "stdout",
     "output_type": "stream",
     "text": [
      "Iteration 12 - Epoch 14:\n",
      "  Train Acc = 0.9994, Train Prec = 0.9994, Train Rec = 0.9994, Train F-Beta = 0.9994, Train Loss = 0.0083\n",
      "  Val Acc = 0.9499, Val Prec = 0.9513, Val Rec = 0.9499, Val F-Beta = 0.9506, Val Loss = 0.2836\n"
     ]
    },
    {
     "name": "stderr",
     "output_type": "stream",
     "text": [
      "Epoch 15 - Training: 100%|██████████| 103/103 [00:30<00:00,  3.34it/s]\n",
      "Epoch 15 - Validation: 100%|██████████| 26/26 [00:02<00:00, 10.18it/s]\n"
     ]
    },
    {
     "name": "stdout",
     "output_type": "stream",
     "text": [
      "Iteration 12 - Epoch 15:\n",
      "  Train Acc = 0.9997, Train Prec = 0.9997, Train Rec = 0.9997, Train F-Beta = 0.9997, Train Loss = 0.0077\n",
      "  Val Acc = 0.9451, Val Prec = 0.9468, Val Rec = 0.9451, Val F-Beta = 0.9458, Val Loss = 0.3032\n"
     ]
    },
    {
     "name": "stderr",
     "output_type": "stream",
     "text": [
      "Epoch 16 - Training: 100%|██████████| 103/103 [00:30<00:00,  3.34it/s]\n",
      "Epoch 16 - Validation: 100%|██████████| 26/26 [00:02<00:00, 10.15it/s]\n"
     ]
    },
    {
     "name": "stdout",
     "output_type": "stream",
     "text": [
      "Iteration 12 - Epoch 16:\n",
      "  Train Acc = 0.9982, Train Prec = 0.9982, Train Rec = 0.9982, Train F-Beta = 0.9982, Train Loss = 0.0110\n",
      "  Val Acc = 0.9438, Val Prec = 0.9451, Val Rec = 0.9438, Val F-Beta = 0.9442, Val Loss = 0.3071\n"
     ]
    },
    {
     "name": "stderr",
     "output_type": "stream",
     "text": [
      "Epoch 17 - Training: 100%|██████████| 103/103 [00:30<00:00,  3.34it/s]\n",
      "Epoch 17 - Validation: 100%|██████████| 26/26 [00:02<00:00, 10.19it/s]\n"
     ]
    },
    {
     "name": "stdout",
     "output_type": "stream",
     "text": [
      "Iteration 12 - Epoch 17:\n",
      "  Train Acc = 0.9908, Train Prec = 0.9908, Train Rec = 0.9908, Train F-Beta = 0.9908, Train Loss = 0.0379\n",
      "  Val Acc = 0.9402, Val Prec = 0.9426, Val Rec = 0.9402, Val F-Beta = 0.9411, Val Loss = 0.3385\n"
     ]
    },
    {
     "name": "stderr",
     "output_type": "stream",
     "text": [
      "Epoch 18 - Training: 100%|██████████| 103/103 [00:30<00:00,  3.34it/s]\n",
      "Epoch 18 - Validation: 100%|██████████| 26/26 [00:02<00:00, 10.16it/s]\n"
     ]
    },
    {
     "name": "stdout",
     "output_type": "stream",
     "text": [
      "Iteration 12 - Epoch 18:\n",
      "  Train Acc = 0.9896, Train Prec = 0.9896, Train Rec = 0.9896, Train F-Beta = 0.9896, Train Loss = 0.0481\n",
      "  Val Acc = 0.9487, Val Prec = 0.9502, Val Rec = 0.9487, Val F-Beta = 0.9494, Val Loss = 0.3054\n"
     ]
    },
    {
     "name": "stderr",
     "output_type": "stream",
     "text": [
      "Epoch 19 - Training: 100%|██████████| 103/103 [00:30<00:00,  3.34it/s]\n",
      "Epoch 19 - Validation: 100%|██████████| 26/26 [00:02<00:00, 10.17it/s]\n"
     ]
    },
    {
     "name": "stdout",
     "output_type": "stream",
     "text": [
      "Iteration 12 - Epoch 19:\n",
      "  Train Acc = 0.9945, Train Prec = 0.9945, Train Rec = 0.9945, Train F-Beta = 0.9945, Train Loss = 0.0255\n",
      "  Val Acc = 0.9292, Val Prec = 0.9349, Val Rec = 0.9292, Val F-Beta = 0.9312, Val Loss = 0.4230\n"
     ]
    },
    {
     "name": "stderr",
     "output_type": "stream",
     "text": [
      "Epoch 20 - Training: 100%|██████████| 103/103 [00:30<00:00,  3.34it/s]\n",
      "Epoch 20 - Validation: 100%|██████████| 26/26 [00:02<00:00, 10.18it/s]\n"
     ]
    },
    {
     "name": "stdout",
     "output_type": "stream",
     "text": [
      "Iteration 12 - Epoch 20:\n",
      "  Train Acc = 0.9918, Train Prec = 0.9918, Train Rec = 0.9918, Train F-Beta = 0.9918, Train Loss = 0.0383\n",
      "  Val Acc = 0.9524, Val Prec = 0.9528, Val Rec = 0.9524, Val F-Beta = 0.9524, Val Loss = 0.2756\n",
      "  Better model saved with 0.9524 F-beta score.\n"
     ]
    },
    {
     "name": "stderr",
     "output_type": "stream",
     "text": [
      "Epoch 21 - Training: 100%|██████████| 103/103 [00:30<00:00,  3.34it/s]\n",
      "Epoch 21 - Validation: 100%|██████████| 26/26 [00:02<00:00, 10.15it/s]\n"
     ]
    },
    {
     "name": "stdout",
     "output_type": "stream",
     "text": [
      "Iteration 12 - Epoch 21:\n",
      "  Train Acc = 0.9936, Train Prec = 0.9936, Train Rec = 0.9936, Train F-Beta = 0.9936, Train Loss = 0.0292\n",
      "  Val Acc = 0.9475, Val Prec = 0.9508, Val Rec = 0.9475, Val F-Beta = 0.9493, Val Loss = 0.2884\n"
     ]
    },
    {
     "name": "stderr",
     "output_type": "stream",
     "text": [
      "Epoch 22 - Training: 100%|██████████| 103/103 [00:30<00:00,  3.34it/s]\n",
      "Epoch 22 - Validation: 100%|██████████| 26/26 [00:02<00:00, 10.16it/s]\n"
     ]
    },
    {
     "name": "stdout",
     "output_type": "stream",
     "text": [
      "Iteration 12 - Epoch 22:\n",
      "  Train Acc = 0.9976, Train Prec = 0.9976, Train Rec = 0.9976, Train F-Beta = 0.9976, Train Loss = 0.0119\n",
      "  Val Acc = 0.9475, Val Prec = 0.9498, Val Rec = 0.9475, Val F-Beta = 0.9486, Val Loss = 0.3107\n"
     ]
    },
    {
     "name": "stderr",
     "output_type": "stream",
     "text": [
      "Epoch 23 - Training: 100%|██████████| 103/103 [00:30<00:00,  3.34it/s]\n",
      "Epoch 23 - Validation: 100%|██████████| 26/26 [00:02<00:00, 10.16it/s]\n"
     ]
    },
    {
     "name": "stdout",
     "output_type": "stream",
     "text": [
      "Iteration 12 - Epoch 23:\n",
      "  Train Acc = 0.9982, Train Prec = 0.9982, Train Rec = 0.9982, Train F-Beta = 0.9982, Train Loss = 0.0095\n",
      "  Val Acc = 0.9560, Val Prec = 0.9567, Val Rec = 0.9560, Val F-Beta = 0.9564, Val Loss = 0.2737\n",
      "  Better model saved with 0.9564 F-beta score.\n"
     ]
    },
    {
     "name": "stderr",
     "output_type": "stream",
     "text": [
      "Epoch 24 - Training: 100%|██████████| 103/103 [00:30<00:00,  3.34it/s]\n",
      "Epoch 24 - Validation: 100%|██████████| 26/26 [00:02<00:00, 10.15it/s]\n"
     ]
    },
    {
     "name": "stdout",
     "output_type": "stream",
     "text": [
      "Iteration 12 - Epoch 24:\n",
      "  Train Acc = 0.9969, Train Prec = 0.9970, Train Rec = 0.9969, Train F-Beta = 0.9970, Train Loss = 0.0132\n",
      "  Val Acc = 0.9548, Val Prec = 0.9567, Val Rec = 0.9548, Val F-Beta = 0.9558, Val Loss = 0.2751\n"
     ]
    },
    {
     "name": "stderr",
     "output_type": "stream",
     "text": [
      "Epoch 25 - Training: 100%|██████████| 103/103 [00:30<00:00,  3.34it/s]\n",
      "Epoch 25 - Validation: 100%|██████████| 26/26 [00:02<00:00, 10.19it/s]\n"
     ]
    },
    {
     "name": "stdout",
     "output_type": "stream",
     "text": [
      "Iteration 12 - Epoch 25:\n",
      "  Train Acc = 1.0000, Train Prec = 1.0000, Train Rec = 1.0000, Train F-Beta = 1.0000, Train Loss = 0.0024\n",
      "  Val Acc = 0.9560, Val Prec = 0.9581, Val Rec = 0.9560, Val F-Beta = 0.9572, Val Loss = 0.2872\n",
      "  Better model saved with 0.9572 F-beta score.\n"
     ]
    },
    {
     "name": "stderr",
     "output_type": "stream",
     "text": [
      "Epoch 26 - Training: 100%|██████████| 103/103 [00:30<00:00,  3.34it/s]\n",
      "Epoch 26 - Validation: 100%|██████████| 26/26 [00:02<00:00, 10.18it/s]\n"
     ]
    },
    {
     "name": "stdout",
     "output_type": "stream",
     "text": [
      "Iteration 12 - Epoch 26:\n",
      "  Train Acc = 1.0000, Train Prec = 1.0000, Train Rec = 1.0000, Train F-Beta = 1.0000, Train Loss = 0.0022\n",
      "  Val Acc = 0.9585, Val Prec = 0.9602, Val Rec = 0.9585, Val F-Beta = 0.9594, Val Loss = 0.2921\n",
      "  Better model saved with 0.9594 F-beta score.\n"
     ]
    },
    {
     "name": "stderr",
     "output_type": "stream",
     "text": [
      "Epoch 27 - Training: 100%|██████████| 103/103 [00:30<00:00,  3.34it/s]\n",
      "Epoch 27 - Validation: 100%|██████████| 26/26 [00:02<00:00, 10.19it/s]\n"
     ]
    },
    {
     "name": "stdout",
     "output_type": "stream",
     "text": [
      "Iteration 12 - Epoch 27:\n",
      "  Train Acc = 1.0000, Train Prec = 1.0000, Train Rec = 1.0000, Train F-Beta = 1.0000, Train Loss = 0.0018\n",
      "  Val Acc = 0.9597, Val Prec = 0.9611, Val Rec = 0.9597, Val F-Beta = 0.9605, Val Loss = 0.2904\n",
      "  Better model saved with 0.9605 F-beta score.\n"
     ]
    },
    {
     "name": "stderr",
     "output_type": "stream",
     "text": [
      "Epoch 28 - Training: 100%|██████████| 103/103 [00:30<00:00,  3.34it/s]\n",
      "Epoch 28 - Validation: 100%|██████████| 26/26 [00:02<00:00, 10.17it/s]\n"
     ]
    },
    {
     "name": "stdout",
     "output_type": "stream",
     "text": [
      "Iteration 12 - Epoch 28:\n",
      "  Train Acc = 1.0000, Train Prec = 1.0000, Train Rec = 1.0000, Train F-Beta = 1.0000, Train Loss = 0.0017\n",
      "  Val Acc = 0.9585, Val Prec = 0.9602, Val Rec = 0.9585, Val F-Beta = 0.9594, Val Loss = 0.2950\n"
     ]
    },
    {
     "name": "stderr",
     "output_type": "stream",
     "text": [
      "Epoch 29 - Training: 100%|██████████| 103/103 [00:30<00:00,  3.34it/s]\n",
      "Epoch 29 - Validation: 100%|██████████| 26/26 [00:02<00:00, 10.18it/s]\n"
     ]
    },
    {
     "name": "stdout",
     "output_type": "stream",
     "text": [
      "Iteration 12 - Epoch 29:\n",
      "  Train Acc = 0.9997, Train Prec = 0.9997, Train Rec = 0.9997, Train F-Beta = 0.9997, Train Loss = 0.0023\n",
      "  Val Acc = 0.9499, Val Prec = 0.9522, Val Rec = 0.9499, Val F-Beta = 0.9510, Val Loss = 0.3462\n"
     ]
    },
    {
     "name": "stderr",
     "output_type": "stream",
     "text": [
      "Epoch 30 - Training: 100%|██████████| 103/103 [00:30<00:00,  3.34it/s]\n",
      "Epoch 30 - Validation: 100%|██████████| 26/26 [00:02<00:00, 10.18it/s]\n"
     ]
    },
    {
     "name": "stdout",
     "output_type": "stream",
     "text": [
      "Iteration 12 - Epoch 30:\n",
      "  Train Acc = 0.9997, Train Prec = 0.9997, Train Rec = 0.9997, Train F-Beta = 0.9997, Train Loss = 0.0026\n",
      "  Val Acc = 0.9512, Val Prec = 0.9531, Val Rec = 0.9512, Val F-Beta = 0.9521, Val Loss = 0.3097\n"
     ]
    },
    {
     "name": "stderr",
     "output_type": "stream",
     "text": [
      "Epoch 31 - Training: 100%|██████████| 103/103 [00:30<00:00,  3.34it/s]\n",
      "Epoch 31 - Validation: 100%|██████████| 26/26 [00:02<00:00, 10.17it/s]\n"
     ]
    },
    {
     "name": "stdout",
     "output_type": "stream",
     "text": [
      "Iteration 12 - Epoch 31:\n",
      "  Train Acc = 0.9997, Train Prec = 0.9997, Train Rec = 0.9997, Train F-Beta = 0.9997, Train Loss = 0.0038\n",
      "  Val Acc = 0.9512, Val Prec = 0.9538, Val Rec = 0.9512, Val F-Beta = 0.9526, Val Loss = 0.3280\n"
     ]
    },
    {
     "name": "stderr",
     "output_type": "stream",
     "text": [
      "Epoch 32 - Training: 100%|██████████| 103/103 [00:30<00:00,  3.33it/s]\n",
      "Epoch 32 - Validation: 100%|██████████| 26/26 [00:02<00:00, 10.16it/s]\n"
     ]
    },
    {
     "name": "stdout",
     "output_type": "stream",
     "text": [
      "Iteration 12 - Epoch 32:\n",
      "  Train Acc = 0.9969, Train Prec = 0.9969, Train Rec = 0.9969, Train F-Beta = 0.9969, Train Loss = 0.0181\n",
      "  Val Acc = 0.9536, Val Prec = 0.9549, Val Rec = 0.9536, Val F-Beta = 0.9542, Val Loss = 0.3166\n"
     ]
    },
    {
     "name": "stderr",
     "output_type": "stream",
     "text": [
      "Epoch 33 - Training: 100%|██████████| 103/103 [00:30<00:00,  3.33it/s]\n",
      "Epoch 33 - Validation: 100%|██████████| 26/26 [00:02<00:00, 10.18it/s]\n"
     ]
    },
    {
     "name": "stdout",
     "output_type": "stream",
     "text": [
      "Iteration 12 - Epoch 33:\n",
      "  Train Acc = 0.9985, Train Prec = 0.9985, Train Rec = 0.9985, Train F-Beta = 0.9985, Train Loss = 0.0071\n",
      "  Val Acc = 0.9451, Val Prec = 0.9476, Val Rec = 0.9451, Val F-Beta = 0.9464, Val Loss = 0.3761\n"
     ]
    },
    {
     "name": "stderr",
     "output_type": "stream",
     "text": [
      "Epoch 34 - Training: 100%|██████████| 103/103 [00:30<00:00,  3.34it/s]\n",
      "Epoch 34 - Validation: 100%|██████████| 26/26 [00:02<00:00, 10.16it/s]\n"
     ]
    },
    {
     "name": "stdout",
     "output_type": "stream",
     "text": [
      "Iteration 12 - Epoch 34:\n",
      "  Train Acc = 1.0000, Train Prec = 1.0000, Train Rec = 1.0000, Train F-Beta = 1.0000, Train Loss = 0.0014\n",
      "  Val Acc = 0.9536, Val Prec = 0.9543, Val Rec = 0.9536, Val F-Beta = 0.9539, Val Loss = 0.3032\n"
     ]
    },
    {
     "name": "stderr",
     "output_type": "stream",
     "text": [
      "Epoch 35 - Training: 100%|██████████| 103/103 [00:30<00:00,  3.34it/s]\n",
      "Epoch 35 - Validation: 100%|██████████| 26/26 [00:02<00:00, 10.18it/s]\n"
     ]
    },
    {
     "name": "stdout",
     "output_type": "stream",
     "text": [
      "Iteration 12 - Epoch 35:\n",
      "  Train Acc = 1.0000, Train Prec = 1.0000, Train Rec = 1.0000, Train F-Beta = 1.0000, Train Loss = 0.0010\n",
      "  Val Acc = 0.9560, Val Prec = 0.9566, Val Rec = 0.9560, Val F-Beta = 0.9562, Val Loss = 0.3011\n"
     ]
    },
    {
     "name": "stderr",
     "output_type": "stream",
     "text": [
      "Epoch 36 - Training: 100%|██████████| 103/103 [00:30<00:00,  3.34it/s]\n",
      "Epoch 36 - Validation: 100%|██████████| 26/26 [00:02<00:00, 10.17it/s]\n"
     ]
    },
    {
     "name": "stdout",
     "output_type": "stream",
     "text": [
      "Iteration 12 - Epoch 36:\n",
      "  Train Acc = 1.0000, Train Prec = 1.0000, Train Rec = 1.0000, Train F-Beta = 1.0000, Train Loss = 0.0009\n",
      "  Val Acc = 0.9560, Val Prec = 0.9566, Val Rec = 0.9560, Val F-Beta = 0.9562, Val Loss = 0.3030\n"
     ]
    },
    {
     "name": "stderr",
     "output_type": "stream",
     "text": [
      "Epoch 37 - Training: 100%|██████████| 103/103 [00:30<00:00,  3.34it/s]\n",
      "Epoch 37 - Validation: 100%|██████████| 26/26 [00:02<00:00, 10.16it/s]\n"
     ]
    },
    {
     "name": "stdout",
     "output_type": "stream",
     "text": [
      "Iteration 12 - Epoch 37:\n",
      "  Train Acc = 1.0000, Train Prec = 1.0000, Train Rec = 1.0000, Train F-Beta = 1.0000, Train Loss = 0.0008\n",
      "  Val Acc = 0.9573, Val Prec = 0.9579, Val Rec = 0.9573, Val F-Beta = 0.9575, Val Loss = 0.3047\n"
     ]
    },
    {
     "name": "stderr",
     "output_type": "stream",
     "text": [
      "Epoch 38 - Training: 100%|██████████| 103/103 [00:30<00:00,  3.33it/s]\n",
      "Epoch 38 - Validation: 100%|██████████| 26/26 [00:02<00:00, 10.18it/s]\n"
     ]
    },
    {
     "name": "stdout",
     "output_type": "stream",
     "text": [
      "Iteration 12 - Epoch 38:\n",
      "  Train Acc = 1.0000, Train Prec = 1.0000, Train Rec = 1.0000, Train F-Beta = 1.0000, Train Loss = 0.0008\n",
      "  Val Acc = 0.9560, Val Prec = 0.9566, Val Rec = 0.9560, Val F-Beta = 0.9563, Val Loss = 0.3068\n"
     ]
    },
    {
     "name": "stderr",
     "output_type": "stream",
     "text": [
      "Epoch 39 - Training: 100%|██████████| 103/103 [00:30<00:00,  3.33it/s]\n",
      "Epoch 39 - Validation: 100%|██████████| 26/26 [00:02<00:00, 10.18it/s]\n"
     ]
    },
    {
     "name": "stdout",
     "output_type": "stream",
     "text": [
      "Iteration 12 - Epoch 39:\n",
      "  Train Acc = 1.0000, Train Prec = 1.0000, Train Rec = 1.0000, Train F-Beta = 1.0000, Train Loss = 0.0007\n",
      "  Val Acc = 0.9573, Val Prec = 0.9579, Val Rec = 0.9573, Val F-Beta = 0.9575, Val Loss = 0.3092\n"
     ]
    },
    {
     "name": "stderr",
     "output_type": "stream",
     "text": [
      "Epoch 40 - Training: 100%|██████████| 103/103 [00:30<00:00,  3.34it/s]\n",
      "Epoch 40 - Validation: 100%|██████████| 26/26 [00:02<00:00, 10.17it/s]\n"
     ]
    },
    {
     "name": "stdout",
     "output_type": "stream",
     "text": [
      "Iteration 12 - Epoch 40:\n",
      "  Train Acc = 0.9921, Train Prec = 0.9921, Train Rec = 0.9921, Train F-Beta = 0.9921, Train Loss = 0.0302\n",
      "  Val Acc = 0.9353, Val Prec = 0.9391, Val Rec = 0.9353, Val F-Beta = 0.9368, Val Loss = 0.3760\n",
      "Iteration 13/20\n"
     ]
    },
    {
     "name": "stderr",
     "output_type": "stream",
     "text": [
      "Some weights of ElectraForSequenceClassification were not initialized from the model checkpoint at beomi/KcELECTRA-base-v2022 and are newly initialized: ['classifier.dense.bias', 'classifier.dense.weight', 'classifier.out_proj.bias', 'classifier.out_proj.weight']\n",
      "You should probably TRAIN this model on a down-stream task to be able to use it for predictions and inference.\n",
      "Epoch 1 - Training: 100%|██████████| 103/103 [00:30<00:00,  3.34it/s]\n",
      "Epoch 1 - Validation: 100%|██████████| 26/26 [00:02<00:00, 10.18it/s]\n"
     ]
    },
    {
     "name": "stdout",
     "output_type": "stream",
     "text": [
      "Iteration 13 - Epoch 1:\n",
      "  Train Acc = 0.2925, Train Prec = 0.2035, Train Rec = 0.2925, Train F-Beta = 0.1775, Train Loss = 2.2714\n",
      "  Val Acc = 0.4823, Val Prec = 0.3444, Val Rec = 0.4823, Val F-Beta = 0.3453, Val Loss = 1.7686\n"
     ]
    },
    {
     "name": "stderr",
     "output_type": "stream",
     "text": [
      "Epoch 2 - Training: 100%|██████████| 103/103 [00:30<00:00,  3.34it/s]\n",
      "Epoch 2 - Validation: 100%|██████████| 26/26 [00:02<00:00, 10.18it/s]\n"
     ]
    },
    {
     "name": "stdout",
     "output_type": "stream",
     "text": [
      "Iteration 13 - Epoch 2:\n",
      "  Train Acc = 0.6082, Train Prec = 0.6703, Train Rec = 0.6082, Train F-Beta = 0.5511, Train Loss = 1.3808\n",
      "  Val Acc = 0.6777, Val Prec = 0.6411, Val Rec = 0.6777, Val F-Beta = 0.6152, Val Loss = 1.0211\n"
     ]
    },
    {
     "name": "stderr",
     "output_type": "stream",
     "text": [
      "Epoch 3 - Training: 100%|██████████| 103/103 [00:30<00:00,  3.33it/s]\n",
      "Epoch 3 - Validation: 100%|██████████| 26/26 [00:02<00:00, 10.18it/s]\n"
     ]
    },
    {
     "name": "stdout",
     "output_type": "stream",
     "text": [
      "Iteration 13 - Epoch 3:\n",
      "  Train Acc = 0.8492, Train Prec = 0.8701, Train Rec = 0.8492, Train F-Beta = 0.8484, Train Loss = 0.7091\n",
      "  Val Acc = 0.8987, Val Prec = 0.9057, Val Rec = 0.8987, Val F-Beta = 0.9009, Val Loss = 0.5003\n"
     ]
    },
    {
     "name": "stderr",
     "output_type": "stream",
     "text": [
      "Epoch 4 - Training: 100%|██████████| 103/103 [00:30<00:00,  3.33it/s]\n",
      "Epoch 4 - Validation: 100%|██████████| 26/26 [00:02<00:00, 10.17it/s]\n"
     ]
    },
    {
     "name": "stdout",
     "output_type": "stream",
     "text": [
      "Iteration 13 - Epoch 4:\n",
      "  Train Acc = 0.9551, Train Prec = 0.9556, Train Rec = 0.9551, Train F-Beta = 0.9552, Train Loss = 0.3296\n",
      "  Val Acc = 0.9243, Val Prec = 0.9260, Val Rec = 0.9243, Val F-Beta = 0.9246, Val Loss = 0.3462\n"
     ]
    },
    {
     "name": "stderr",
     "output_type": "stream",
     "text": [
      "Epoch 5 - Training: 100%|██████████| 103/103 [00:30<00:00,  3.34it/s]\n",
      "Epoch 5 - Validation: 100%|██████████| 26/26 [00:02<00:00, 10.18it/s]\n"
     ]
    },
    {
     "name": "stdout",
     "output_type": "stream",
     "text": [
      "Iteration 13 - Epoch 5:\n",
      "  Train Acc = 0.9786, Train Prec = 0.9787, Train Rec = 0.9786, Train F-Beta = 0.9787, Train Loss = 0.1694\n",
      "  Val Acc = 0.9402, Val Prec = 0.9455, Val Rec = 0.9402, Val F-Beta = 0.9431, Val Loss = 0.2999\n"
     ]
    },
    {
     "name": "stderr",
     "output_type": "stream",
     "text": [
      "Epoch 6 - Training: 100%|██████████| 103/103 [00:30<00:00,  3.34it/s]\n",
      "Epoch 6 - Validation: 100%|██████████| 26/26 [00:02<00:00, 10.16it/s]\n"
     ]
    },
    {
     "name": "stdout",
     "output_type": "stream",
     "text": [
      "Iteration 13 - Epoch 6:\n",
      "  Train Acc = 0.9863, Train Prec = 0.9864, Train Rec = 0.9863, Train F-Beta = 0.9863, Train Loss = 0.1025\n",
      "  Val Acc = 0.9438, Val Prec = 0.9462, Val Rec = 0.9438, Val F-Beta = 0.9447, Val Loss = 0.2676\n"
     ]
    },
    {
     "name": "stderr",
     "output_type": "stream",
     "text": [
      "Epoch 7 - Training: 100%|██████████| 103/103 [00:30<00:00,  3.34it/s]\n",
      "Epoch 7 - Validation: 100%|██████████| 26/26 [00:02<00:00, 10.18it/s]\n"
     ]
    },
    {
     "name": "stdout",
     "output_type": "stream",
     "text": [
      "Iteration 13 - Epoch 7:\n",
      "  Train Acc = 0.9856, Train Prec = 0.9857, Train Rec = 0.9856, Train F-Beta = 0.9857, Train Loss = 0.0835\n",
      "  Val Acc = 0.9377, Val Prec = 0.9404, Val Rec = 0.9377, Val F-Beta = 0.9389, Val Loss = 0.2555\n"
     ]
    },
    {
     "name": "stderr",
     "output_type": "stream",
     "text": [
      "Epoch 8 - Training: 100%|██████████| 103/103 [00:30<00:00,  3.34it/s]\n",
      "Epoch 8 - Validation: 100%|██████████| 26/26 [00:02<00:00, 10.18it/s]\n"
     ]
    },
    {
     "name": "stdout",
     "output_type": "stream",
     "text": [
      "Iteration 13 - Epoch 8:\n",
      "  Train Acc = 0.9902, Train Prec = 0.9902, Train Rec = 0.9902, Train F-Beta = 0.9902, Train Loss = 0.0617\n",
      "  Val Acc = 0.9451, Val Prec = 0.9473, Val Rec = 0.9451, Val F-Beta = 0.9460, Val Loss = 0.2693\n"
     ]
    },
    {
     "name": "stderr",
     "output_type": "stream",
     "text": [
      "Epoch 9 - Training: 100%|██████████| 103/103 [00:30<00:00,  3.34it/s]\n",
      "Epoch 9 - Validation: 100%|██████████| 26/26 [00:02<00:00, 10.16it/s]\n"
     ]
    },
    {
     "name": "stdout",
     "output_type": "stream",
     "text": [
      "Iteration 13 - Epoch 9:\n",
      "  Train Acc = 0.9927, Train Prec = 0.9927, Train Rec = 0.9927, Train F-Beta = 0.9927, Train Loss = 0.0459\n",
      "  Val Acc = 0.9426, Val Prec = 0.9438, Val Rec = 0.9426, Val F-Beta = 0.9431, Val Loss = 0.2544\n"
     ]
    },
    {
     "name": "stderr",
     "output_type": "stream",
     "text": [
      "Epoch 10 - Training: 100%|██████████| 103/103 [00:30<00:00,  3.34it/s]\n",
      "Epoch 10 - Validation: 100%|██████████| 26/26 [00:02<00:00, 10.16it/s]\n"
     ]
    },
    {
     "name": "stdout",
     "output_type": "stream",
     "text": [
      "Iteration 13 - Epoch 10:\n",
      "  Train Acc = 0.9951, Train Prec = 0.9951, Train Rec = 0.9951, Train F-Beta = 0.9951, Train Loss = 0.0356\n",
      "  Val Acc = 0.9475, Val Prec = 0.9490, Val Rec = 0.9475, Val F-Beta = 0.9481, Val Loss = 0.2711\n"
     ]
    },
    {
     "name": "stderr",
     "output_type": "stream",
     "text": [
      "Epoch 11 - Training: 100%|██████████| 103/103 [00:30<00:00,  3.34it/s]\n",
      "Epoch 11 - Validation: 100%|██████████| 26/26 [00:02<00:00, 10.17it/s]\n"
     ]
    },
    {
     "name": "stdout",
     "output_type": "stream",
     "text": [
      "Iteration 13 - Epoch 11:\n",
      "  Train Acc = 0.9973, Train Prec = 0.9973, Train Rec = 0.9973, Train F-Beta = 0.9973, Train Loss = 0.0232\n",
      "  Val Acc = 0.9487, Val Prec = 0.9490, Val Rec = 0.9487, Val F-Beta = 0.9485, Val Loss = 0.2748\n"
     ]
    },
    {
     "name": "stderr",
     "output_type": "stream",
     "text": [
      "Epoch 12 - Training: 100%|██████████| 103/103 [00:30<00:00,  3.34it/s]\n",
      "Epoch 12 - Validation: 100%|██████████| 26/26 [00:02<00:00, 10.18it/s]\n"
     ]
    },
    {
     "name": "stdout",
     "output_type": "stream",
     "text": [
      "Iteration 13 - Epoch 12:\n",
      "  Train Acc = 0.9976, Train Prec = 0.9976, Train Rec = 0.9976, Train F-Beta = 0.9976, Train Loss = 0.0222\n",
      "  Val Acc = 0.9463, Val Prec = 0.9494, Val Rec = 0.9463, Val F-Beta = 0.9476, Val Loss = 0.2975\n"
     ]
    },
    {
     "name": "stderr",
     "output_type": "stream",
     "text": [
      "Epoch 13 - Training: 100%|██████████| 103/103 [00:30<00:00,  3.34it/s]\n",
      "Epoch 13 - Validation: 100%|██████████| 26/26 [00:02<00:00, 10.18it/s]\n"
     ]
    },
    {
     "name": "stdout",
     "output_type": "stream",
     "text": [
      "Iteration 13 - Epoch 13:\n",
      "  Train Acc = 0.9982, Train Prec = 0.9982, Train Rec = 0.9982, Train F-Beta = 0.9982, Train Loss = 0.0160\n",
      "  Val Acc = 0.9475, Val Prec = 0.9505, Val Rec = 0.9475, Val F-Beta = 0.9488, Val Loss = 0.3019\n"
     ]
    },
    {
     "name": "stderr",
     "output_type": "stream",
     "text": [
      "Epoch 14 - Training: 100%|██████████| 103/103 [00:30<00:00,  3.34it/s]\n",
      "Epoch 14 - Validation: 100%|██████████| 26/26 [00:02<00:00, 10.17it/s]\n"
     ]
    },
    {
     "name": "stdout",
     "output_type": "stream",
     "text": [
      "Iteration 13 - Epoch 14:\n",
      "  Train Acc = 0.9924, Train Prec = 0.9924, Train Rec = 0.9924, Train F-Beta = 0.9924, Train Loss = 0.0363\n",
      "  Val Acc = 0.9353, Val Prec = 0.9387, Val Rec = 0.9353, Val F-Beta = 0.9365, Val Loss = 0.3548\n"
     ]
    },
    {
     "name": "stderr",
     "output_type": "stream",
     "text": [
      "Epoch 15 - Training: 100%|██████████| 103/103 [00:30<00:00,  3.34it/s]\n",
      "Epoch 15 - Validation: 100%|██████████| 26/26 [00:02<00:00, 10.17it/s]\n"
     ]
    },
    {
     "name": "stdout",
     "output_type": "stream",
     "text": [
      "Iteration 13 - Epoch 15:\n",
      "  Train Acc = 0.9945, Train Prec = 0.9945, Train Rec = 0.9945, Train F-Beta = 0.9945, Train Loss = 0.0262\n",
      "  Val Acc = 0.9145, Val Prec = 0.9203, Val Rec = 0.9145, Val F-Beta = 0.9163, Val Loss = 0.3845\n"
     ]
    },
    {
     "name": "stderr",
     "output_type": "stream",
     "text": [
      "Epoch 16 - Training: 100%|██████████| 103/103 [00:30<00:00,  3.34it/s]\n",
      "Epoch 16 - Validation: 100%|██████████| 26/26 [00:02<00:00, 10.16it/s]\n"
     ]
    },
    {
     "name": "stdout",
     "output_type": "stream",
     "text": [
      "Iteration 13 - Epoch 16:\n",
      "  Train Acc = 0.9969, Train Prec = 0.9970, Train Rec = 0.9969, Train F-Beta = 0.9969, Train Loss = 0.0173\n",
      "  Val Acc = 0.9389, Val Prec = 0.9420, Val Rec = 0.9389, Val F-Beta = 0.9406, Val Loss = 0.3401\n"
     ]
    },
    {
     "name": "stderr",
     "output_type": "stream",
     "text": [
      "Epoch 17 - Training: 100%|██████████| 103/103 [00:30<00:00,  3.33it/s]\n",
      "Epoch 17 - Validation: 100%|██████████| 26/26 [00:02<00:00, 10.18it/s]\n"
     ]
    },
    {
     "name": "stdout",
     "output_type": "stream",
     "text": [
      "Iteration 13 - Epoch 17:\n",
      "  Train Acc = 0.9979, Train Prec = 0.9979, Train Rec = 0.9979, Train F-Beta = 0.9979, Train Loss = 0.0165\n",
      "  Val Acc = 0.9524, Val Prec = 0.9539, Val Rec = 0.9524, Val F-Beta = 0.9532, Val Loss = 0.2728\n",
      "  Better model saved with 0.9532 F-beta score.\n"
     ]
    },
    {
     "name": "stderr",
     "output_type": "stream",
     "text": [
      "Epoch 18 - Training: 100%|██████████| 103/103 [00:30<00:00,  3.34it/s]\n",
      "Epoch 18 - Validation: 100%|██████████| 26/26 [00:02<00:00, 10.18it/s]\n"
     ]
    },
    {
     "name": "stdout",
     "output_type": "stream",
     "text": [
      "Iteration 13 - Epoch 18:\n",
      "  Train Acc = 0.9979, Train Prec = 0.9979, Train Rec = 0.9979, Train F-Beta = 0.9979, Train Loss = 0.0138\n",
      "  Val Acc = 0.9487, Val Prec = 0.9512, Val Rec = 0.9487, Val F-Beta = 0.9499, Val Loss = 0.3100\n"
     ]
    },
    {
     "name": "stderr",
     "output_type": "stream",
     "text": [
      "Epoch 19 - Training: 100%|██████████| 103/103 [00:30<00:00,  3.34it/s]\n",
      "Epoch 19 - Validation: 100%|██████████| 26/26 [00:02<00:00, 10.19it/s]\n"
     ]
    },
    {
     "name": "stdout",
     "output_type": "stream",
     "text": [
      "Iteration 13 - Epoch 19:\n",
      "  Train Acc = 0.9991, Train Prec = 0.9991, Train Rec = 0.9991, Train F-Beta = 0.9991, Train Loss = 0.0064\n",
      "  Val Acc = 0.9414, Val Prec = 0.9450, Val Rec = 0.9414, Val F-Beta = 0.9431, Val Loss = 0.3145\n"
     ]
    },
    {
     "name": "stderr",
     "output_type": "stream",
     "text": [
      "Epoch 20 - Training: 100%|██████████| 103/103 [00:30<00:00,  3.34it/s]\n",
      "Epoch 20 - Validation: 100%|██████████| 26/26 [00:02<00:00, 10.18it/s]\n"
     ]
    },
    {
     "name": "stdout",
     "output_type": "stream",
     "text": [
      "Iteration 13 - Epoch 20:\n",
      "  Train Acc = 0.9991, Train Prec = 0.9991, Train Rec = 0.9991, Train F-Beta = 0.9991, Train Loss = 0.0080\n",
      "  Val Acc = 0.9499, Val Prec = 0.9518, Val Rec = 0.9499, Val F-Beta = 0.9507, Val Loss = 0.3096\n"
     ]
    },
    {
     "name": "stderr",
     "output_type": "stream",
     "text": [
      "Epoch 21 - Training: 100%|██████████| 103/103 [00:30<00:00,  3.34it/s]\n",
      "Epoch 21 - Validation: 100%|██████████| 26/26 [00:02<00:00, 10.18it/s]\n"
     ]
    },
    {
     "name": "stdout",
     "output_type": "stream",
     "text": [
      "Iteration 13 - Epoch 21:\n",
      "  Train Acc = 0.9976, Train Prec = 0.9976, Train Rec = 0.9976, Train F-Beta = 0.9976, Train Loss = 0.0141\n",
      "  Val Acc = 0.9414, Val Prec = 0.9451, Val Rec = 0.9414, Val F-Beta = 0.9431, Val Loss = 0.3442\n"
     ]
    },
    {
     "name": "stderr",
     "output_type": "stream",
     "text": [
      "Epoch 22 - Training: 100%|██████████| 103/103 [00:30<00:00,  3.34it/s]\n",
      "Epoch 22 - Validation: 100%|██████████| 26/26 [00:02<00:00, 10.19it/s]\n"
     ]
    },
    {
     "name": "stdout",
     "output_type": "stream",
     "text": [
      "Iteration 13 - Epoch 22:\n",
      "  Train Acc = 0.9976, Train Prec = 0.9976, Train Rec = 0.9976, Train F-Beta = 0.9976, Train Loss = 0.0142\n",
      "  Val Acc = 0.9499, Val Prec = 0.9510, Val Rec = 0.9499, Val F-Beta = 0.9502, Val Loss = 0.2954\n"
     ]
    },
    {
     "name": "stderr",
     "output_type": "stream",
     "text": [
      "Epoch 23 - Training: 100%|██████████| 103/103 [00:30<00:00,  3.34it/s]\n",
      "Epoch 23 - Validation: 100%|██████████| 26/26 [00:02<00:00, 10.19it/s]\n"
     ]
    },
    {
     "name": "stdout",
     "output_type": "stream",
     "text": [
      "Iteration 13 - Epoch 23:\n",
      "  Train Acc = 0.9994, Train Prec = 0.9994, Train Rec = 0.9994, Train F-Beta = 0.9994, Train Loss = 0.0048\n",
      "  Val Acc = 0.9487, Val Prec = 0.9509, Val Rec = 0.9487, Val F-Beta = 0.9497, Val Loss = 0.3087\n"
     ]
    },
    {
     "name": "stderr",
     "output_type": "stream",
     "text": [
      "Epoch 24 - Training: 100%|██████████| 103/103 [00:30<00:00,  3.34it/s]\n",
      "Epoch 24 - Validation: 100%|██████████| 26/26 [00:02<00:00, 10.19it/s]\n"
     ]
    },
    {
     "name": "stdout",
     "output_type": "stream",
     "text": [
      "Iteration 13 - Epoch 24:\n",
      "  Train Acc = 0.9985, Train Prec = 0.9985, Train Rec = 0.9985, Train F-Beta = 0.9985, Train Loss = 0.0067\n",
      "  Val Acc = 0.9426, Val Prec = 0.9460, Val Rec = 0.9426, Val F-Beta = 0.9442, Val Loss = 0.4043\n"
     ]
    },
    {
     "name": "stderr",
     "output_type": "stream",
     "text": [
      "Epoch 25 - Training: 100%|██████████| 103/103 [00:30<00:00,  3.34it/s]\n",
      "Epoch 25 - Validation: 100%|██████████| 26/26 [00:02<00:00, 10.19it/s]\n"
     ]
    },
    {
     "name": "stdout",
     "output_type": "stream",
     "text": [
      "Iteration 13 - Epoch 25:\n",
      "  Train Acc = 0.9948, Train Prec = 0.9948, Train Rec = 0.9948, Train F-Beta = 0.9948, Train Loss = 0.0226\n",
      "  Val Acc = 0.9438, Val Prec = 0.9458, Val Rec = 0.9438, Val F-Beta = 0.9448, Val Loss = 0.3283\n"
     ]
    },
    {
     "name": "stderr",
     "output_type": "stream",
     "text": [
      "Epoch 26 - Training: 100%|██████████| 103/103 [00:30<00:00,  3.34it/s]\n",
      "Epoch 26 - Validation: 100%|██████████| 26/26 [00:02<00:00, 10.18it/s]\n"
     ]
    },
    {
     "name": "stdout",
     "output_type": "stream",
     "text": [
      "Iteration 13 - Epoch 26:\n",
      "  Train Acc = 0.9960, Train Prec = 0.9960, Train Rec = 0.9960, Train F-Beta = 0.9960, Train Loss = 0.0161\n",
      "  Val Acc = 0.9365, Val Prec = 0.9412, Val Rec = 0.9365, Val F-Beta = 0.9389, Val Loss = 0.4211\n"
     ]
    },
    {
     "name": "stderr",
     "output_type": "stream",
     "text": [
      "Epoch 27 - Training: 100%|██████████| 103/103 [00:30<00:00,  3.34it/s]\n",
      "Epoch 27 - Validation: 100%|██████████| 26/26 [00:02<00:00, 10.19it/s]\n"
     ]
    },
    {
     "name": "stdout",
     "output_type": "stream",
     "text": [
      "Iteration 13 - Epoch 27:\n",
      "  Train Acc = 0.9939, Train Prec = 0.9939, Train Rec = 0.9939, Train F-Beta = 0.9939, Train Loss = 0.0274\n",
      "  Val Acc = 0.9365, Val Prec = 0.9371, Val Rec = 0.9365, Val F-Beta = 0.9366, Val Loss = 0.3407\n"
     ]
    },
    {
     "name": "stderr",
     "output_type": "stream",
     "text": [
      "Epoch 28 - Training: 100%|██████████| 103/103 [00:30<00:00,  3.34it/s]\n",
      "Epoch 28 - Validation: 100%|██████████| 26/26 [00:02<00:00, 10.18it/s]\n"
     ]
    },
    {
     "name": "stdout",
     "output_type": "stream",
     "text": [
      "Iteration 13 - Epoch 28:\n",
      "  Train Acc = 0.9936, Train Prec = 0.9936, Train Rec = 0.9936, Train F-Beta = 0.9936, Train Loss = 0.0284\n",
      "  Val Acc = 0.9341, Val Prec = 0.9393, Val Rec = 0.9341, Val F-Beta = 0.9368, Val Loss = 0.3995\n"
     ]
    },
    {
     "name": "stderr",
     "output_type": "stream",
     "text": [
      "Epoch 29 - Training: 100%|██████████| 103/103 [00:30<00:00,  3.34it/s]\n",
      "Epoch 29 - Validation: 100%|██████████| 26/26 [00:02<00:00, 10.18it/s]\n"
     ]
    },
    {
     "name": "stdout",
     "output_type": "stream",
     "text": [
      "Iteration 13 - Epoch 29:\n",
      "  Train Acc = 0.9969, Train Prec = 0.9970, Train Rec = 0.9969, Train F-Beta = 0.9970, Train Loss = 0.0164\n",
      "  Val Acc = 0.9487, Val Prec = 0.9518, Val Rec = 0.9487, Val F-Beta = 0.9503, Val Loss = 0.3074\n"
     ]
    },
    {
     "name": "stderr",
     "output_type": "stream",
     "text": [
      "Epoch 30 - Training: 100%|██████████| 103/103 [00:30<00:00,  3.34it/s]\n",
      "Epoch 30 - Validation: 100%|██████████| 26/26 [00:02<00:00, 10.18it/s]\n"
     ]
    },
    {
     "name": "stdout",
     "output_type": "stream",
     "text": [
      "Iteration 13 - Epoch 30:\n",
      "  Train Acc = 0.9997, Train Prec = 0.9997, Train Rec = 0.9997, Train F-Beta = 0.9997, Train Loss = 0.0032\n",
      "  Val Acc = 0.9438, Val Prec = 0.9477, Val Rec = 0.9438, Val F-Beta = 0.9457, Val Loss = 0.3552\n"
     ]
    },
    {
     "name": "stderr",
     "output_type": "stream",
     "text": [
      "Epoch 31 - Training: 100%|██████████| 103/103 [00:30<00:00,  3.34it/s]\n",
      "Epoch 31 - Validation: 100%|██████████| 26/26 [00:02<00:00, 10.18it/s]\n"
     ]
    },
    {
     "name": "stdout",
     "output_type": "stream",
     "text": [
      "Iteration 13 - Epoch 31:\n",
      "  Train Acc = 0.9991, Train Prec = 0.9991, Train Rec = 0.9991, Train F-Beta = 0.9991, Train Loss = 0.0079\n",
      "  Val Acc = 0.9414, Val Prec = 0.9440, Val Rec = 0.9414, Val F-Beta = 0.9427, Val Loss = 0.3620\n"
     ]
    },
    {
     "name": "stderr",
     "output_type": "stream",
     "text": [
      "Epoch 32 - Training: 100%|██████████| 103/103 [00:30<00:00,  3.34it/s]\n",
      "Epoch 32 - Validation: 100%|██████████| 26/26 [00:02<00:00, 10.18it/s]\n"
     ]
    },
    {
     "name": "stdout",
     "output_type": "stream",
     "text": [
      "Iteration 13 - Epoch 32:\n",
      "  Train Acc = 0.9979, Train Prec = 0.9979, Train Rec = 0.9979, Train F-Beta = 0.9979, Train Loss = 0.0085\n",
      "  Val Acc = 0.9499, Val Prec = 0.9506, Val Rec = 0.9499, Val F-Beta = 0.9501, Val Loss = 0.3423\n"
     ]
    },
    {
     "name": "stderr",
     "output_type": "stream",
     "text": [
      "Epoch 33 - Training: 100%|██████████| 103/103 [00:30<00:00,  3.34it/s]\n",
      "Epoch 33 - Validation: 100%|██████████| 26/26 [00:02<00:00, 10.20it/s]\n"
     ]
    },
    {
     "name": "stdout",
     "output_type": "stream",
     "text": [
      "Iteration 13 - Epoch 33:\n",
      "  Train Acc = 1.0000, Train Prec = 1.0000, Train Rec = 1.0000, Train F-Beta = 1.0000, Train Loss = 0.0018\n",
      "  Val Acc = 0.9499, Val Prec = 0.9507, Val Rec = 0.9499, Val F-Beta = 0.9502, Val Loss = 0.3433\n"
     ]
    },
    {
     "name": "stderr",
     "output_type": "stream",
     "text": [
      "Epoch 34 - Training: 100%|██████████| 103/103 [00:30<00:00,  3.34it/s]\n",
      "Epoch 34 - Validation: 100%|██████████| 26/26 [00:02<00:00, 10.19it/s]\n"
     ]
    },
    {
     "name": "stdout",
     "output_type": "stream",
     "text": [
      "Iteration 13 - Epoch 34:\n",
      "  Train Acc = 0.9988, Train Prec = 0.9988, Train Rec = 0.9988, Train F-Beta = 0.9988, Train Loss = 0.0060\n",
      "  Val Acc = 0.9487, Val Prec = 0.9497, Val Rec = 0.9487, Val F-Beta = 0.9490, Val Loss = 0.3668\n"
     ]
    },
    {
     "name": "stderr",
     "output_type": "stream",
     "text": [
      "Epoch 35 - Training: 100%|██████████| 103/103 [00:30<00:00,  3.34it/s]\n",
      "Epoch 35 - Validation: 100%|██████████| 26/26 [00:02<00:00, 10.19it/s]\n"
     ]
    },
    {
     "name": "stdout",
     "output_type": "stream",
     "text": [
      "Iteration 13 - Epoch 35:\n",
      "  Train Acc = 0.9982, Train Prec = 0.9982, Train Rec = 0.9982, Train F-Beta = 0.9982, Train Loss = 0.0075\n",
      "  Val Acc = 0.9524, Val Prec = 0.9532, Val Rec = 0.9524, Val F-Beta = 0.9526, Val Loss = 0.3626\n"
     ]
    },
    {
     "name": "stderr",
     "output_type": "stream",
     "text": [
      "Epoch 36 - Training: 100%|██████████| 103/103 [00:30<00:00,  3.34it/s]\n",
      "Epoch 36 - Validation: 100%|██████████| 26/26 [00:02<00:00, 10.19it/s]\n"
     ]
    },
    {
     "name": "stdout",
     "output_type": "stream",
     "text": [
      "Iteration 13 - Epoch 36:\n",
      "  Train Acc = 1.0000, Train Prec = 1.0000, Train Rec = 1.0000, Train F-Beta = 1.0000, Train Loss = 0.0011\n",
      "  Val Acc = 0.9524, Val Prec = 0.9532, Val Rec = 0.9524, Val F-Beta = 0.9526, Val Loss = 0.3673\n"
     ]
    },
    {
     "name": "stderr",
     "output_type": "stream",
     "text": [
      "Epoch 37 - Training: 100%|██████████| 103/103 [00:30<00:00,  3.34it/s]\n",
      "Epoch 37 - Validation: 100%|██████████| 26/26 [00:02<00:00, 10.19it/s]\n"
     ]
    },
    {
     "name": "stdout",
     "output_type": "stream",
     "text": [
      "Iteration 13 - Epoch 37:\n",
      "  Train Acc = 0.9997, Train Prec = 0.9997, Train Rec = 0.9997, Train F-Beta = 0.9997, Train Loss = 0.0037\n",
      "  Val Acc = 0.9463, Val Prec = 0.9483, Val Rec = 0.9463, Val F-Beta = 0.9471, Val Loss = 0.4094\n"
     ]
    },
    {
     "name": "stderr",
     "output_type": "stream",
     "text": [
      "Epoch 38 - Training: 100%|██████████| 103/103 [00:30<00:00,  3.34it/s]\n",
      "Epoch 38 - Validation: 100%|██████████| 26/26 [00:02<00:00, 10.17it/s]\n"
     ]
    },
    {
     "name": "stdout",
     "output_type": "stream",
     "text": [
      "Iteration 13 - Epoch 38:\n",
      "  Train Acc = 0.9997, Train Prec = 0.9997, Train Rec = 0.9997, Train F-Beta = 0.9997, Train Loss = 0.0017\n",
      "  Val Acc = 0.9438, Val Prec = 0.9440, Val Rec = 0.9438, Val F-Beta = 0.9437, Val Loss = 0.4021\n"
     ]
    },
    {
     "name": "stderr",
     "output_type": "stream",
     "text": [
      "Epoch 39 - Training: 100%|██████████| 103/103 [00:30<00:00,  3.34it/s]\n",
      "Epoch 39 - Validation: 100%|██████████| 26/26 [00:02<00:00, 10.20it/s]\n"
     ]
    },
    {
     "name": "stdout",
     "output_type": "stream",
     "text": [
      "Iteration 13 - Epoch 39:\n",
      "  Train Acc = 0.9979, Train Prec = 0.9979, Train Rec = 0.9979, Train F-Beta = 0.9979, Train Loss = 0.0082\n",
      "  Val Acc = 0.9512, Val Prec = 0.9514, Val Rec = 0.9512, Val F-Beta = 0.9511, Val Loss = 0.3737\n"
     ]
    },
    {
     "name": "stderr",
     "output_type": "stream",
     "text": [
      "Epoch 40 - Training: 100%|██████████| 103/103 [00:30<00:00,  3.34it/s]\n",
      "Epoch 40 - Validation: 100%|██████████| 26/26 [00:02<00:00, 10.19it/s]\n"
     ]
    },
    {
     "name": "stdout",
     "output_type": "stream",
     "text": [
      "Iteration 13 - Epoch 40:\n",
      "  Train Acc = 0.9997, Train Prec = 0.9997, Train Rec = 0.9997, Train F-Beta = 0.9997, Train Loss = 0.0021\n",
      "  Val Acc = 0.9487, Val Prec = 0.9488, Val Rec = 0.9487, Val F-Beta = 0.9486, Val Loss = 0.3822\n",
      "Iteration 14/20\n"
     ]
    },
    {
     "name": "stderr",
     "output_type": "stream",
     "text": [
      "Some weights of ElectraForSequenceClassification were not initialized from the model checkpoint at beomi/KcELECTRA-base-v2022 and are newly initialized: ['classifier.dense.bias', 'classifier.dense.weight', 'classifier.out_proj.bias', 'classifier.out_proj.weight']\n",
      "You should probably TRAIN this model on a down-stream task to be able to use it for predictions and inference.\n",
      "Epoch 1 - Training: 100%|██████████| 103/103 [00:30<00:00,  3.34it/s]\n",
      "Epoch 1 - Validation: 100%|██████████| 26/26 [00:02<00:00, 10.18it/s]\n"
     ]
    },
    {
     "name": "stdout",
     "output_type": "stream",
     "text": [
      "Iteration 14 - Epoch 1:\n",
      "  Train Acc = 0.2803, Train Prec = 0.1732, Train Rec = 0.2803, Train F-Beta = 0.1540, Train Loss = 2.3082\n",
      "  Val Acc = 0.4774, Val Prec = 0.4330, Val Rec = 0.4774, Val F-Beta = 0.4016, Val Loss = 1.8273\n"
     ]
    },
    {
     "name": "stderr",
     "output_type": "stream",
     "text": [
      "Epoch 2 - Training: 100%|██████████| 103/103 [00:30<00:00,  3.34it/s]\n",
      "Epoch 2 - Validation: 100%|██████████| 26/26 [00:02<00:00, 10.19it/s]\n"
     ]
    },
    {
     "name": "stdout",
     "output_type": "stream",
     "text": [
      "Iteration 14 - Epoch 2:\n",
      "  Train Acc = 0.6024, Train Prec = 0.5743, Train Rec = 0.6024, Train F-Beta = 0.5323, Train Loss = 1.4327\n",
      "  Val Acc = 0.7277, Val Prec = 0.6463, Val Rec = 0.7277, Val F-Beta = 0.6543, Val Loss = 1.0283\n"
     ]
    },
    {
     "name": "stderr",
     "output_type": "stream",
     "text": [
      "Epoch 3 - Training: 100%|██████████| 103/103 [00:30<00:00,  3.34it/s]\n",
      "Epoch 3 - Validation: 100%|██████████| 26/26 [00:02<00:00, 10.20it/s]\n"
     ]
    },
    {
     "name": "stdout",
     "output_type": "stream",
     "text": [
      "Iteration 14 - Epoch 3:\n",
      "  Train Acc = 0.8229, Train Prec = 0.8337, Train Rec = 0.8229, Train F-Beta = 0.7986, Train Loss = 0.7573\n",
      "  Val Acc = 0.8681, Val Prec = 0.8868, Val Rec = 0.8681, Val F-Beta = 0.8742, Val Loss = 0.5647\n"
     ]
    },
    {
     "name": "stderr",
     "output_type": "stream",
     "text": [
      "Epoch 4 - Training: 100%|██████████| 103/103 [00:30<00:00,  3.34it/s]\n",
      "Epoch 4 - Validation: 100%|██████████| 26/26 [00:02<00:00, 10.18it/s]\n"
     ]
    },
    {
     "name": "stdout",
     "output_type": "stream",
     "text": [
      "Iteration 14 - Epoch 4:\n",
      "  Train Acc = 0.9432, Train Prec = 0.9439, Train Rec = 0.9432, Train F-Beta = 0.9429, Train Loss = 0.3767\n",
      "  Val Acc = 0.9206, Val Prec = 0.9248, Val Rec = 0.9206, Val F-Beta = 0.9227, Val Loss = 0.3631\n"
     ]
    },
    {
     "name": "stderr",
     "output_type": "stream",
     "text": [
      "Epoch 5 - Training: 100%|██████████| 103/103 [00:30<00:00,  3.34it/s]\n",
      "Epoch 5 - Validation: 100%|██████████| 26/26 [00:02<00:00, 10.19it/s]\n"
     ]
    },
    {
     "name": "stdout",
     "output_type": "stream",
     "text": [
      "Iteration 14 - Epoch 5:\n",
      "  Train Acc = 0.9744, Train Prec = 0.9744, Train Rec = 0.9744, Train F-Beta = 0.9743, Train Loss = 0.1935\n",
      "  Val Acc = 0.9365, Val Prec = 0.9370, Val Rec = 0.9365, Val F-Beta = 0.9366, Val Loss = 0.3011\n"
     ]
    },
    {
     "name": "stderr",
     "output_type": "stream",
     "text": [
      "Epoch 6 - Training: 100%|██████████| 103/103 [00:30<00:00,  3.34it/s]\n",
      "Epoch 6 - Validation: 100%|██████████| 26/26 [00:02<00:00, 10.20it/s]\n"
     ]
    },
    {
     "name": "stdout",
     "output_type": "stream",
     "text": [
      "Iteration 14 - Epoch 6:\n",
      "  Train Acc = 0.9841, Train Prec = 0.9842, Train Rec = 0.9841, Train F-Beta = 0.9842, Train Loss = 0.1102\n",
      "  Val Acc = 0.9341, Val Prec = 0.9372, Val Rec = 0.9341, Val F-Beta = 0.9356, Val Loss = 0.2998\n"
     ]
    },
    {
     "name": "stderr",
     "output_type": "stream",
     "text": [
      "Epoch 7 - Training: 100%|██████████| 103/103 [00:30<00:00,  3.34it/s]\n",
      "Epoch 7 - Validation: 100%|██████████| 26/26 [00:02<00:00, 10.18it/s]\n"
     ]
    },
    {
     "name": "stdout",
     "output_type": "stream",
     "text": [
      "Iteration 14 - Epoch 7:\n",
      "  Train Acc = 0.9915, Train Prec = 0.9915, Train Rec = 0.9915, Train F-Beta = 0.9915, Train Loss = 0.0674\n",
      "  Val Acc = 0.9475, Val Prec = 0.9489, Val Rec = 0.9475, Val F-Beta = 0.9481, Val Loss = 0.2380\n"
     ]
    },
    {
     "name": "stderr",
     "output_type": "stream",
     "text": [
      "Epoch 8 - Training: 100%|██████████| 103/103 [00:30<00:00,  3.34it/s]\n",
      "Epoch 8 - Validation: 100%|██████████| 26/26 [00:02<00:00, 10.19it/s]\n"
     ]
    },
    {
     "name": "stdout",
     "output_type": "stream",
     "text": [
      "Iteration 14 - Epoch 8:\n",
      "  Train Acc = 0.9927, Train Prec = 0.9927, Train Rec = 0.9927, Train F-Beta = 0.9927, Train Loss = 0.0541\n",
      "  Val Acc = 0.9499, Val Prec = 0.9521, Val Rec = 0.9499, Val F-Beta = 0.9508, Val Loss = 0.2368\n",
      "  Better model saved with 0.9508 F-beta score.\n"
     ]
    },
    {
     "name": "stderr",
     "output_type": "stream",
     "text": [
      "Epoch 9 - Training: 100%|██████████| 103/103 [00:30<00:00,  3.34it/s]\n",
      "Epoch 9 - Validation: 100%|██████████| 26/26 [00:02<00:00, 10.19it/s]\n"
     ]
    },
    {
     "name": "stdout",
     "output_type": "stream",
     "text": [
      "Iteration 14 - Epoch 9:\n",
      "  Train Acc = 0.9979, Train Prec = 0.9979, Train Rec = 0.9979, Train F-Beta = 0.9979, Train Loss = 0.0313\n",
      "  Val Acc = 0.9426, Val Prec = 0.9459, Val Rec = 0.9426, Val F-Beta = 0.9443, Val Loss = 0.2971\n"
     ]
    },
    {
     "name": "stderr",
     "output_type": "stream",
     "text": [
      "Epoch 10 - Training: 100%|██████████| 103/103 [00:30<00:00,  3.34it/s]\n",
      "Epoch 10 - Validation: 100%|██████████| 26/26 [00:02<00:00, 10.19it/s]\n"
     ]
    },
    {
     "name": "stdout",
     "output_type": "stream",
     "text": [
      "Iteration 14 - Epoch 10:\n",
      "  Train Acc = 0.9948, Train Prec = 0.9948, Train Rec = 0.9948, Train F-Beta = 0.9948, Train Loss = 0.0344\n",
      "  Val Acc = 0.9292, Val Prec = 0.9332, Val Rec = 0.9292, Val F-Beta = 0.9313, Val Loss = 0.3543\n"
     ]
    },
    {
     "name": "stderr",
     "output_type": "stream",
     "text": [
      "Epoch 11 - Training: 100%|██████████| 103/103 [00:30<00:00,  3.34it/s]\n",
      "Epoch 11 - Validation: 100%|██████████| 26/26 [00:02<00:00, 10.19it/s]\n"
     ]
    },
    {
     "name": "stdout",
     "output_type": "stream",
     "text": [
      "Iteration 14 - Epoch 11:\n",
      "  Train Acc = 0.9948, Train Prec = 0.9948, Train Rec = 0.9948, Train F-Beta = 0.9948, Train Loss = 0.0293\n",
      "  Val Acc = 0.9353, Val Prec = 0.9387, Val Rec = 0.9353, Val F-Beta = 0.9367, Val Loss = 0.3397\n"
     ]
    },
    {
     "name": "stderr",
     "output_type": "stream",
     "text": [
      "Epoch 12 - Training: 100%|██████████| 103/103 [00:30<00:00,  3.34it/s]\n",
      "Epoch 12 - Validation: 100%|██████████| 26/26 [00:02<00:00, 10.20it/s]\n"
     ]
    },
    {
     "name": "stdout",
     "output_type": "stream",
     "text": [
      "Iteration 14 - Epoch 12:\n",
      "  Train Acc = 0.9942, Train Prec = 0.9942, Train Rec = 0.9942, Train F-Beta = 0.9942, Train Loss = 0.0291\n",
      "  Val Acc = 0.9353, Val Prec = 0.9361, Val Rec = 0.9353, Val F-Beta = 0.9353, Val Loss = 0.3434\n"
     ]
    },
    {
     "name": "stderr",
     "output_type": "stream",
     "text": [
      "Epoch 13 - Training: 100%|██████████| 103/103 [00:30<00:00,  3.34it/s]\n",
      "Epoch 13 - Validation: 100%|██████████| 26/26 [00:02<00:00, 10.19it/s]\n"
     ]
    },
    {
     "name": "stdout",
     "output_type": "stream",
     "text": [
      "Iteration 14 - Epoch 13:\n",
      "  Train Acc = 0.9969, Train Prec = 0.9970, Train Rec = 0.9969, Train F-Beta = 0.9969, Train Loss = 0.0207\n",
      "  Val Acc = 0.9463, Val Prec = 0.9465, Val Rec = 0.9463, Val F-Beta = 0.9462, Val Loss = 0.2638\n"
     ]
    },
    {
     "name": "stderr",
     "output_type": "stream",
     "text": [
      "Epoch 14 - Training: 100%|██████████| 103/103 [00:30<00:00,  3.34it/s]\n",
      "Epoch 14 - Validation: 100%|██████████| 26/26 [00:02<00:00, 10.19it/s]\n"
     ]
    },
    {
     "name": "stdout",
     "output_type": "stream",
     "text": [
      "Iteration 14 - Epoch 14:\n",
      "  Train Acc = 0.9991, Train Prec = 0.9991, Train Rec = 0.9991, Train F-Beta = 0.9991, Train Loss = 0.0127\n",
      "  Val Acc = 0.9475, Val Prec = 0.9483, Val Rec = 0.9475, Val F-Beta = 0.9479, Val Loss = 0.2803\n"
     ]
    },
    {
     "name": "stderr",
     "output_type": "stream",
     "text": [
      "Epoch 15 - Training: 100%|██████████| 103/103 [00:30<00:00,  3.34it/s]\n",
      "Epoch 15 - Validation: 100%|██████████| 26/26 [00:02<00:00, 10.19it/s]\n"
     ]
    },
    {
     "name": "stdout",
     "output_type": "stream",
     "text": [
      "Iteration 14 - Epoch 15:\n",
      "  Train Acc = 0.9976, Train Prec = 0.9976, Train Rec = 0.9976, Train F-Beta = 0.9976, Train Loss = 0.0155\n",
      "  Val Acc = 0.9451, Val Prec = 0.9498, Val Rec = 0.9451, Val F-Beta = 0.9477, Val Loss = 0.3387\n"
     ]
    },
    {
     "name": "stderr",
     "output_type": "stream",
     "text": [
      "Epoch 16 - Training: 100%|██████████| 103/103 [00:30<00:00,  3.34it/s]\n",
      "Epoch 16 - Validation: 100%|██████████| 26/26 [00:02<00:00, 10.19it/s]\n"
     ]
    },
    {
     "name": "stdout",
     "output_type": "stream",
     "text": [
      "Iteration 14 - Epoch 16:\n",
      "  Train Acc = 0.9890, Train Prec = 0.9890, Train Rec = 0.9890, Train F-Beta = 0.9890, Train Loss = 0.0408\n",
      "  Val Acc = 0.9377, Val Prec = 0.9437, Val Rec = 0.9377, Val F-Beta = 0.9408, Val Loss = 0.3717\n"
     ]
    },
    {
     "name": "stderr",
     "output_type": "stream",
     "text": [
      "Epoch 17 - Training: 100%|██████████| 103/103 [00:30<00:00,  3.34it/s]\n",
      "Epoch 17 - Validation: 100%|██████████| 26/26 [00:02<00:00, 10.20it/s]\n"
     ]
    },
    {
     "name": "stdout",
     "output_type": "stream",
     "text": [
      "Iteration 14 - Epoch 17:\n",
      "  Train Acc = 0.9924, Train Prec = 0.9924, Train Rec = 0.9924, Train F-Beta = 0.9924, Train Loss = 0.0369\n",
      "  Val Acc = 0.9512, Val Prec = 0.9524, Val Rec = 0.9512, Val F-Beta = 0.9517, Val Loss = 0.2978\n",
      "  Better model saved with 0.9517 F-beta score.\n"
     ]
    },
    {
     "name": "stderr",
     "output_type": "stream",
     "text": [
      "Epoch 18 - Training: 100%|██████████| 103/103 [00:30<00:00,  3.34it/s]\n",
      "Epoch 18 - Validation: 100%|██████████| 26/26 [00:02<00:00, 10.17it/s]\n"
     ]
    },
    {
     "name": "stdout",
     "output_type": "stream",
     "text": [
      "Iteration 14 - Epoch 18:\n",
      "  Train Acc = 0.9979, Train Prec = 0.9979, Train Rec = 0.9979, Train F-Beta = 0.9979, Train Loss = 0.0124\n",
      "  Val Acc = 0.9524, Val Prec = 0.9537, Val Rec = 0.9524, Val F-Beta = 0.9530, Val Loss = 0.2974\n",
      "  Better model saved with 0.9530 F-beta score.\n"
     ]
    },
    {
     "name": "stderr",
     "output_type": "stream",
     "text": [
      "Epoch 19 - Training: 100%|██████████| 103/103 [00:30<00:00,  3.34it/s]\n",
      "Epoch 19 - Validation: 100%|██████████| 26/26 [00:02<00:00, 10.19it/s]\n"
     ]
    },
    {
     "name": "stdout",
     "output_type": "stream",
     "text": [
      "Iteration 14 - Epoch 19:\n",
      "  Train Acc = 0.9966, Train Prec = 0.9967, Train Rec = 0.9966, Train F-Beta = 0.9966, Train Loss = 0.0185\n",
      "  Val Acc = 0.9426, Val Prec = 0.9448, Val Rec = 0.9426, Val F-Beta = 0.9434, Val Loss = 0.3334\n"
     ]
    },
    {
     "name": "stderr",
     "output_type": "stream",
     "text": [
      "Epoch 20 - Training: 100%|██████████| 103/103 [00:30<00:00,  3.34it/s]\n",
      "Epoch 20 - Validation: 100%|██████████| 26/26 [00:02<00:00, 10.19it/s]\n"
     ]
    },
    {
     "name": "stdout",
     "output_type": "stream",
     "text": [
      "Iteration 14 - Epoch 20:\n",
      "  Train Acc = 0.9942, Train Prec = 0.9942, Train Rec = 0.9942, Train F-Beta = 0.9942, Train Loss = 0.0290\n",
      "  Val Acc = 0.9451, Val Prec = 0.9479, Val Rec = 0.9451, Val F-Beta = 0.9464, Val Loss = 0.3108\n"
     ]
    },
    {
     "name": "stderr",
     "output_type": "stream",
     "text": [
      "Epoch 21 - Training: 100%|██████████| 103/103 [00:30<00:00,  3.34it/s]\n",
      "Epoch 21 - Validation: 100%|██████████| 26/26 [00:02<00:00, 10.18it/s]\n"
     ]
    },
    {
     "name": "stdout",
     "output_type": "stream",
     "text": [
      "Iteration 14 - Epoch 21:\n",
      "  Train Acc = 0.9988, Train Prec = 0.9988, Train Rec = 0.9988, Train F-Beta = 0.9988, Train Loss = 0.0104\n",
      "  Val Acc = 0.9451, Val Prec = 0.9477, Val Rec = 0.9451, Val F-Beta = 0.9463, Val Loss = 0.3130\n"
     ]
    },
    {
     "name": "stderr",
     "output_type": "stream",
     "text": [
      "Epoch 22 - Training: 100%|██████████| 103/103 [00:30<00:00,  3.34it/s]\n",
      "Epoch 22 - Validation: 100%|██████████| 26/26 [00:02<00:00, 10.19it/s]\n"
     ]
    },
    {
     "name": "stdout",
     "output_type": "stream",
     "text": [
      "Iteration 14 - Epoch 22:\n",
      "  Train Acc = 0.9997, Train Prec = 0.9997, Train Rec = 0.9997, Train F-Beta = 0.9997, Train Loss = 0.0037\n",
      "  Val Acc = 0.9451, Val Prec = 0.9474, Val Rec = 0.9451, Val F-Beta = 0.9461, Val Loss = 0.3210\n"
     ]
    },
    {
     "name": "stderr",
     "output_type": "stream",
     "text": [
      "Epoch 23 - Training: 100%|██████████| 103/103 [00:30<00:00,  3.34it/s]\n",
      "Epoch 23 - Validation: 100%|██████████| 26/26 [00:02<00:00, 10.17it/s]\n"
     ]
    },
    {
     "name": "stdout",
     "output_type": "stream",
     "text": [
      "Iteration 14 - Epoch 23:\n",
      "  Train Acc = 0.9997, Train Prec = 0.9997, Train Rec = 0.9997, Train F-Beta = 0.9997, Train Loss = 0.0031\n",
      "  Val Acc = 0.9463, Val Prec = 0.9471, Val Rec = 0.9463, Val F-Beta = 0.9465, Val Loss = 0.3315\n"
     ]
    },
    {
     "name": "stderr",
     "output_type": "stream",
     "text": [
      "Epoch 24 - Training: 100%|██████████| 103/103 [00:30<00:00,  3.34it/s]\n",
      "Epoch 24 - Validation: 100%|██████████| 26/26 [00:02<00:00, 10.19it/s]\n"
     ]
    },
    {
     "name": "stdout",
     "output_type": "stream",
     "text": [
      "Iteration 14 - Epoch 24:\n",
      "  Train Acc = 0.9997, Train Prec = 0.9997, Train Rec = 0.9997, Train F-Beta = 0.9997, Train Loss = 0.0043\n",
      "  Val Acc = 0.9463, Val Prec = 0.9487, Val Rec = 0.9463, Val F-Beta = 0.9475, Val Loss = 0.3156\n"
     ]
    },
    {
     "name": "stderr",
     "output_type": "stream",
     "text": [
      "Epoch 25 - Training: 100%|██████████| 103/103 [00:30<00:00,  3.34it/s]\n",
      "Epoch 25 - Validation: 100%|██████████| 26/26 [00:02<00:00, 10.19it/s]\n"
     ]
    },
    {
     "name": "stdout",
     "output_type": "stream",
     "text": [
      "Iteration 14 - Epoch 25:\n",
      "  Train Acc = 0.9982, Train Prec = 0.9982, Train Rec = 0.9982, Train F-Beta = 0.9982, Train Loss = 0.0089\n",
      "  Val Acc = 0.9475, Val Prec = 0.9484, Val Rec = 0.9475, Val F-Beta = 0.9478, Val Loss = 0.3077\n"
     ]
    },
    {
     "name": "stderr",
     "output_type": "stream",
     "text": [
      "Epoch 26 - Training: 100%|██████████| 103/103 [00:30<00:00,  3.34it/s]\n",
      "Epoch 26 - Validation: 100%|██████████| 26/26 [00:02<00:00, 10.19it/s]\n"
     ]
    },
    {
     "name": "stdout",
     "output_type": "stream",
     "text": [
      "Iteration 14 - Epoch 26:\n",
      "  Train Acc = 0.9997, Train Prec = 0.9997, Train Rec = 0.9997, Train F-Beta = 0.9997, Train Loss = 0.0035\n",
      "  Val Acc = 0.9499, Val Prec = 0.9510, Val Rec = 0.9499, Val F-Beta = 0.9504, Val Loss = 0.3030\n"
     ]
    },
    {
     "name": "stderr",
     "output_type": "stream",
     "text": [
      "Epoch 27 - Training: 100%|██████████| 103/103 [00:30<00:00,  3.34it/s]\n",
      "Epoch 27 - Validation: 100%|██████████| 26/26 [00:02<00:00, 10.20it/s]\n"
     ]
    },
    {
     "name": "stdout",
     "output_type": "stream",
     "text": [
      "Iteration 14 - Epoch 27:\n",
      "  Train Acc = 0.9997, Train Prec = 0.9997, Train Rec = 0.9997, Train F-Beta = 0.9997, Train Loss = 0.0031\n",
      "  Val Acc = 0.9536, Val Prec = 0.9540, Val Rec = 0.9536, Val F-Beta = 0.9537, Val Loss = 0.2950\n",
      "  Better model saved with 0.9537 F-beta score.\n"
     ]
    },
    {
     "name": "stderr",
     "output_type": "stream",
     "text": [
      "Epoch 28 - Training: 100%|██████████| 103/103 [00:30<00:00,  3.34it/s]\n",
      "Epoch 28 - Validation: 100%|██████████| 26/26 [00:02<00:00, 10.20it/s]\n"
     ]
    },
    {
     "name": "stdout",
     "output_type": "stream",
     "text": [
      "Iteration 14 - Epoch 28:\n",
      "  Train Acc = 0.9997, Train Prec = 0.9997, Train Rec = 0.9997, Train F-Beta = 0.9997, Train Loss = 0.0049\n",
      "  Val Acc = 0.9548, Val Prec = 0.9552, Val Rec = 0.9548, Val F-Beta = 0.9549, Val Loss = 0.2967\n",
      "  Better model saved with 0.9549 F-beta score.\n"
     ]
    },
    {
     "name": "stderr",
     "output_type": "stream",
     "text": [
      "Epoch 29 - Training: 100%|██████████| 103/103 [00:30<00:00,  3.34it/s]\n",
      "Epoch 29 - Validation: 100%|██████████| 26/26 [00:02<00:00, 10.21it/s]\n"
     ]
    },
    {
     "name": "stdout",
     "output_type": "stream",
     "text": [
      "Iteration 14 - Epoch 29:\n",
      "  Train Acc = 0.9997, Train Prec = 0.9997, Train Rec = 0.9997, Train F-Beta = 0.9997, Train Loss = 0.0018\n",
      "  Val Acc = 0.9548, Val Prec = 0.9552, Val Rec = 0.9548, Val F-Beta = 0.9549, Val Loss = 0.2991\n"
     ]
    },
    {
     "name": "stderr",
     "output_type": "stream",
     "text": [
      "Epoch 30 - Training: 100%|██████████| 103/103 [00:30<00:00,  3.34it/s]\n",
      "Epoch 30 - Validation: 100%|██████████| 26/26 [00:02<00:00, 10.19it/s]\n"
     ]
    },
    {
     "name": "stdout",
     "output_type": "stream",
     "text": [
      "Iteration 14 - Epoch 30:\n",
      "  Train Acc = 1.0000, Train Prec = 1.0000, Train Rec = 1.0000, Train F-Beta = 1.0000, Train Loss = 0.0015\n",
      "  Val Acc = 0.9512, Val Prec = 0.9518, Val Rec = 0.9512, Val F-Beta = 0.9513, Val Loss = 0.3147\n"
     ]
    },
    {
     "name": "stderr",
     "output_type": "stream",
     "text": [
      "Epoch 31 - Training: 100%|██████████| 103/103 [00:30<00:00,  3.34it/s]\n",
      "Epoch 31 - Validation: 100%|██████████| 26/26 [00:02<00:00, 10.20it/s]\n"
     ]
    },
    {
     "name": "stdout",
     "output_type": "stream",
     "text": [
      "Iteration 14 - Epoch 31:\n",
      "  Train Acc = 1.0000, Train Prec = 1.0000, Train Rec = 1.0000, Train F-Beta = 1.0000, Train Loss = 0.0012\n",
      "  Val Acc = 0.9536, Val Prec = 0.9541, Val Rec = 0.9536, Val F-Beta = 0.9537, Val Loss = 0.3154\n"
     ]
    },
    {
     "name": "stderr",
     "output_type": "stream",
     "text": [
      "Epoch 32 - Training: 100%|██████████| 103/103 [00:30<00:00,  3.34it/s]\n",
      "Epoch 32 - Validation: 100%|██████████| 26/26 [00:02<00:00, 10.19it/s]\n"
     ]
    },
    {
     "name": "stdout",
     "output_type": "stream",
     "text": [
      "Iteration 14 - Epoch 32:\n",
      "  Train Acc = 1.0000, Train Prec = 1.0000, Train Rec = 1.0000, Train F-Beta = 1.0000, Train Loss = 0.0012\n",
      "  Val Acc = 0.9463, Val Prec = 0.9488, Val Rec = 0.9463, Val F-Beta = 0.9476, Val Loss = 0.3427\n"
     ]
    },
    {
     "name": "stderr",
     "output_type": "stream",
     "text": [
      "Epoch 33 - Training: 100%|██████████| 103/103 [00:30<00:00,  3.34it/s]\n",
      "Epoch 33 - Validation: 100%|██████████| 26/26 [00:02<00:00, 10.19it/s]\n"
     ]
    },
    {
     "name": "stdout",
     "output_type": "stream",
     "text": [
      "Iteration 14 - Epoch 33:\n",
      "  Train Acc = 1.0000, Train Prec = 1.0000, Train Rec = 1.0000, Train F-Beta = 1.0000, Train Loss = 0.0012\n",
      "  Val Acc = 0.9548, Val Prec = 0.9557, Val Rec = 0.9548, Val F-Beta = 0.9552, Val Loss = 0.3317\n",
      "  Better model saved with 0.9552 F-beta score.\n"
     ]
    },
    {
     "name": "stderr",
     "output_type": "stream",
     "text": [
      "Epoch 34 - Training: 100%|██████████| 103/103 [00:30<00:00,  3.34it/s]\n",
      "Epoch 34 - Validation: 100%|██████████| 26/26 [00:02<00:00, 10.18it/s]\n"
     ]
    },
    {
     "name": "stdout",
     "output_type": "stream",
     "text": [
      "Iteration 14 - Epoch 34:\n",
      "  Train Acc = 1.0000, Train Prec = 1.0000, Train Rec = 1.0000, Train F-Beta = 1.0000, Train Loss = 0.0009\n",
      "  Val Acc = 0.9536, Val Prec = 0.9543, Val Rec = 0.9536, Val F-Beta = 0.9538, Val Loss = 0.3324\n"
     ]
    },
    {
     "name": "stderr",
     "output_type": "stream",
     "text": [
      "Epoch 35 - Training: 100%|██████████| 103/103 [00:30<00:00,  3.34it/s]\n",
      "Epoch 35 - Validation: 100%|██████████| 26/26 [00:02<00:00, 10.21it/s]\n"
     ]
    },
    {
     "name": "stdout",
     "output_type": "stream",
     "text": [
      "Iteration 14 - Epoch 35:\n",
      "  Train Acc = 1.0000, Train Prec = 1.0000, Train Rec = 1.0000, Train F-Beta = 1.0000, Train Loss = 0.0009\n",
      "  Val Acc = 0.9524, Val Prec = 0.9529, Val Rec = 0.9524, Val F-Beta = 0.9526, Val Loss = 0.3348\n"
     ]
    },
    {
     "name": "stderr",
     "output_type": "stream",
     "text": [
      "Epoch 36 - Training: 100%|██████████| 103/103 [00:30<00:00,  3.34it/s]\n",
      "Epoch 36 - Validation: 100%|██████████| 26/26 [00:02<00:00, 10.20it/s]\n"
     ]
    },
    {
     "name": "stdout",
     "output_type": "stream",
     "text": [
      "Iteration 14 - Epoch 36:\n",
      "  Train Acc = 1.0000, Train Prec = 1.0000, Train Rec = 1.0000, Train F-Beta = 1.0000, Train Loss = 0.0008\n",
      "  Val Acc = 0.9536, Val Prec = 0.9545, Val Rec = 0.9536, Val F-Beta = 0.9540, Val Loss = 0.3364\n"
     ]
    },
    {
     "name": "stderr",
     "output_type": "stream",
     "text": [
      "Epoch 37 - Training: 100%|██████████| 103/103 [00:30<00:00,  3.34it/s]\n",
      "Epoch 37 - Validation: 100%|██████████| 26/26 [00:02<00:00, 10.19it/s]\n"
     ]
    },
    {
     "name": "stdout",
     "output_type": "stream",
     "text": [
      "Iteration 14 - Epoch 37:\n",
      "  Train Acc = 1.0000, Train Prec = 1.0000, Train Rec = 1.0000, Train F-Beta = 1.0000, Train Loss = 0.0007\n",
      "  Val Acc = 0.9548, Val Prec = 0.9559, Val Rec = 0.9548, Val F-Beta = 0.9553, Val Loss = 0.3384\n",
      "  Better model saved with 0.9553 F-beta score.\n"
     ]
    },
    {
     "name": "stderr",
     "output_type": "stream",
     "text": [
      "Epoch 38 - Training: 100%|██████████| 103/103 [00:30<00:00,  3.34it/s]\n",
      "Epoch 38 - Validation: 100%|██████████| 26/26 [00:02<00:00, 10.19it/s]\n"
     ]
    },
    {
     "name": "stdout",
     "output_type": "stream",
     "text": [
      "Iteration 14 - Epoch 38:\n",
      "  Train Acc = 0.9945, Train Prec = 0.9946, Train Rec = 0.9945, Train F-Beta = 0.9945, Train Loss = 0.0348\n",
      "  Val Acc = 0.9475, Val Prec = 0.9493, Val Rec = 0.9475, Val F-Beta = 0.9483, Val Loss = 0.3870\n"
     ]
    },
    {
     "name": "stderr",
     "output_type": "stream",
     "text": [
      "Epoch 39 - Training: 100%|██████████| 103/103 [00:30<00:00,  3.34it/s]\n",
      "Epoch 39 - Validation: 100%|██████████| 26/26 [00:02<00:00, 10.20it/s]\n"
     ]
    },
    {
     "name": "stdout",
     "output_type": "stream",
     "text": [
      "Iteration 14 - Epoch 39:\n",
      "  Train Acc = 0.9911, Train Prec = 0.9912, Train Rec = 0.9911, Train F-Beta = 0.9912, Train Loss = 0.0419\n",
      "  Val Acc = 0.9426, Val Prec = 0.9472, Val Rec = 0.9426, Val F-Beta = 0.9452, Val Loss = 0.3483\n"
     ]
    },
    {
     "name": "stderr",
     "output_type": "stream",
     "text": [
      "Epoch 40 - Training: 100%|██████████| 103/103 [00:30<00:00,  3.34it/s]\n",
      "Epoch 40 - Validation: 100%|██████████| 26/26 [00:02<00:00, 10.20it/s]\n"
     ]
    },
    {
     "name": "stdout",
     "output_type": "stream",
     "text": [
      "Iteration 14 - Epoch 40:\n",
      "  Train Acc = 0.9939, Train Prec = 0.9939, Train Rec = 0.9939, Train F-Beta = 0.9939, Train Loss = 0.0269\n",
      "  Val Acc = 0.9402, Val Prec = 0.9439, Val Rec = 0.9402, Val F-Beta = 0.9422, Val Loss = 0.3707\n",
      "Iteration 15/20\n"
     ]
    },
    {
     "name": "stderr",
     "output_type": "stream",
     "text": [
      "Some weights of ElectraForSequenceClassification were not initialized from the model checkpoint at beomi/KcELECTRA-base-v2022 and are newly initialized: ['classifier.dense.bias', 'classifier.dense.weight', 'classifier.out_proj.bias', 'classifier.out_proj.weight']\n",
      "You should probably TRAIN this model on a down-stream task to be able to use it for predictions and inference.\n",
      "Epoch 1 - Training: 100%|██████████| 103/103 [00:30<00:00,  3.34it/s]\n",
      "Epoch 1 - Validation: 100%|██████████| 26/26 [00:02<00:00, 10.19it/s]\n"
     ]
    },
    {
     "name": "stdout",
     "output_type": "stream",
     "text": [
      "Iteration 15 - Epoch 1:\n",
      "  Train Acc = 0.2852, Train Prec = 0.2323, Train Rec = 0.2852, Train F-Beta = 0.1661, Train Loss = 2.3094\n",
      "  Val Acc = 0.4701, Val Prec = 0.3682, Val Rec = 0.4701, Val F-Beta = 0.3073, Val Loss = 1.8412\n"
     ]
    },
    {
     "name": "stderr",
     "output_type": "stream",
     "text": [
      "Epoch 2 - Training: 100%|██████████| 103/103 [00:30<00:00,  3.34it/s]\n",
      "Epoch 2 - Validation: 100%|██████████| 26/26 [00:02<00:00, 10.19it/s]\n"
     ]
    },
    {
     "name": "stdout",
     "output_type": "stream",
     "text": [
      "Iteration 15 - Epoch 2:\n",
      "  Train Acc = 0.6174, Train Prec = 0.6294, Train Rec = 0.6174, Train F-Beta = 0.5382, Train Loss = 1.4195\n",
      "  Val Acc = 0.7326, Val Prec = 0.7184, Val Rec = 0.7326, Val F-Beta = 0.6751, Val Loss = 0.9875\n"
     ]
    },
    {
     "name": "stderr",
     "output_type": "stream",
     "text": [
      "Epoch 3 - Training: 100%|██████████| 103/103 [00:30<00:00,  3.34it/s]\n",
      "Epoch 3 - Validation: 100%|██████████| 26/26 [00:02<00:00, 10.18it/s]\n"
     ]
    },
    {
     "name": "stdout",
     "output_type": "stream",
     "text": [
      "Iteration 15 - Epoch 3:\n",
      "  Train Acc = 0.8595, Train Prec = 0.8715, Train Rec = 0.8595, Train F-Beta = 0.8563, Train Loss = 0.7122\n",
      "  Val Acc = 0.9206, Val Prec = 0.9245, Val Rec = 0.9206, Val F-Beta = 0.9217, Val Loss = 0.4639\n"
     ]
    },
    {
     "name": "stderr",
     "output_type": "stream",
     "text": [
      "Epoch 4 - Training: 100%|██████████| 103/103 [00:30<00:00,  3.34it/s]\n",
      "Epoch 4 - Validation: 100%|██████████| 26/26 [00:02<00:00, 10.20it/s]\n"
     ]
    },
    {
     "name": "stdout",
     "output_type": "stream",
     "text": [
      "Iteration 15 - Epoch 4:\n",
      "  Train Acc = 0.9579, Train Prec = 0.9582, Train Rec = 0.9579, Train F-Beta = 0.9579, Train Loss = 0.3190\n",
      "  Val Acc = 0.9292, Val Prec = 0.9326, Val Rec = 0.9292, Val F-Beta = 0.9305, Val Loss = 0.3168\n"
     ]
    },
    {
     "name": "stderr",
     "output_type": "stream",
     "text": [
      "Epoch 5 - Training: 100%|██████████| 103/103 [00:30<00:00,  3.34it/s]\n",
      "Epoch 5 - Validation: 100%|██████████| 26/26 [00:02<00:00, 10.19it/s]\n"
     ]
    },
    {
     "name": "stdout",
     "output_type": "stream",
     "text": [
      "Iteration 15 - Epoch 5:\n",
      "  Train Acc = 0.9808, Train Prec = 0.9808, Train Rec = 0.9808, Train F-Beta = 0.9808, Train Loss = 0.1621\n",
      "  Val Acc = 0.9377, Val Prec = 0.9402, Val Rec = 0.9377, Val F-Beta = 0.9390, Val Loss = 0.2552\n"
     ]
    },
    {
     "name": "stderr",
     "output_type": "stream",
     "text": [
      "Epoch 6 - Training: 100%|██████████| 103/103 [00:30<00:00,  3.34it/s]\n",
      "Epoch 6 - Validation: 100%|██████████| 26/26 [00:02<00:00, 10.19it/s]\n"
     ]
    },
    {
     "name": "stdout",
     "output_type": "stream",
     "text": [
      "Iteration 15 - Epoch 6:\n",
      "  Train Acc = 0.9905, Train Prec = 0.9906, Train Rec = 0.9905, Train F-Beta = 0.9906, Train Loss = 0.0900\n",
      "  Val Acc = 0.9377, Val Prec = 0.9419, Val Rec = 0.9377, Val F-Beta = 0.9399, Val Loss = 0.2263\n"
     ]
    },
    {
     "name": "stderr",
     "output_type": "stream",
     "text": [
      "Epoch 7 - Training: 100%|██████████| 103/103 [00:30<00:00,  3.34it/s]\n",
      "Epoch 7 - Validation: 100%|██████████| 26/26 [00:02<00:00, 10.20it/s]\n"
     ]
    },
    {
     "name": "stdout",
     "output_type": "stream",
     "text": [
      "Iteration 15 - Epoch 7:\n",
      "  Train Acc = 0.9933, Train Prec = 0.9933, Train Rec = 0.9933, Train F-Beta = 0.9933, Train Loss = 0.0562\n",
      "  Val Acc = 0.9377, Val Prec = 0.9428, Val Rec = 0.9377, Val F-Beta = 0.9402, Val Loss = 0.2621\n"
     ]
    },
    {
     "name": "stderr",
     "output_type": "stream",
     "text": [
      "Epoch 8 - Training: 100%|██████████| 103/103 [00:30<00:00,  3.34it/s]\n",
      "Epoch 8 - Validation: 100%|██████████| 26/26 [00:02<00:00, 10.19it/s]\n"
     ]
    },
    {
     "name": "stdout",
     "output_type": "stream",
     "text": [
      "Iteration 15 - Epoch 8:\n",
      "  Train Acc = 0.9924, Train Prec = 0.9924, Train Rec = 0.9924, Train F-Beta = 0.9924, Train Loss = 0.0508\n",
      "  Val Acc = 0.9487, Val Prec = 0.9529, Val Rec = 0.9487, Val F-Beta = 0.9507, Val Loss = 0.2258\n",
      "  Better model saved with 0.9507 F-beta score.\n"
     ]
    },
    {
     "name": "stderr",
     "output_type": "stream",
     "text": [
      "Epoch 9 - Training: 100%|██████████| 103/103 [00:30<00:00,  3.34it/s]\n",
      "Epoch 9 - Validation: 100%|██████████| 26/26 [00:02<00:00, 10.20it/s]\n"
     ]
    },
    {
     "name": "stdout",
     "output_type": "stream",
     "text": [
      "Iteration 15 - Epoch 9:\n",
      "  Train Acc = 0.9942, Train Prec = 0.9942, Train Rec = 0.9942, Train F-Beta = 0.9942, Train Loss = 0.0367\n",
      "  Val Acc = 0.9512, Val Prec = 0.9534, Val Rec = 0.9512, Val F-Beta = 0.9523, Val Loss = 0.2300\n",
      "  Better model saved with 0.9523 F-beta score.\n"
     ]
    },
    {
     "name": "stderr",
     "output_type": "stream",
     "text": [
      "Epoch 10 - Training: 100%|██████████| 103/103 [00:30<00:00,  3.34it/s]\n",
      "Epoch 10 - Validation: 100%|██████████| 26/26 [00:02<00:00, 10.19it/s]\n"
     ]
    },
    {
     "name": "stdout",
     "output_type": "stream",
     "text": [
      "Iteration 15 - Epoch 10:\n",
      "  Train Acc = 0.9979, Train Prec = 0.9979, Train Rec = 0.9979, Train F-Beta = 0.9979, Train Loss = 0.0242\n",
      "  Val Acc = 0.9597, Val Prec = 0.9605, Val Rec = 0.9597, Val F-Beta = 0.9600, Val Loss = 0.2172\n",
      "  Better model saved with 0.9600 F-beta score.\n"
     ]
    },
    {
     "name": "stderr",
     "output_type": "stream",
     "text": [
      "Epoch 11 - Training: 100%|██████████| 103/103 [00:30<00:00,  3.34it/s]\n",
      "Epoch 11 - Validation: 100%|██████████| 26/26 [00:02<00:00, 10.20it/s]\n"
     ]
    },
    {
     "name": "stdout",
     "output_type": "stream",
     "text": [
      "Iteration 15 - Epoch 11:\n",
      "  Train Acc = 0.9985, Train Prec = 0.9985, Train Rec = 0.9985, Train F-Beta = 0.9985, Train Loss = 0.0165\n",
      "  Val Acc = 0.9402, Val Prec = 0.9427, Val Rec = 0.9402, Val F-Beta = 0.9407, Val Loss = 0.3008\n"
     ]
    },
    {
     "name": "stderr",
     "output_type": "stream",
     "text": [
      "Epoch 12 - Training: 100%|██████████| 103/103 [00:30<00:00,  3.34it/s]\n",
      "Epoch 12 - Validation: 100%|██████████| 26/26 [00:02<00:00, 10.19it/s]\n"
     ]
    },
    {
     "name": "stdout",
     "output_type": "stream",
     "text": [
      "Iteration 15 - Epoch 12:\n",
      "  Train Acc = 0.9982, Train Prec = 0.9982, Train Rec = 0.9982, Train F-Beta = 0.9982, Train Loss = 0.0164\n",
      "  Val Acc = 0.9524, Val Prec = 0.9551, Val Rec = 0.9524, Val F-Beta = 0.9537, Val Loss = 0.2875\n"
     ]
    },
    {
     "name": "stderr",
     "output_type": "stream",
     "text": [
      "Epoch 13 - Training: 100%|██████████| 103/103 [00:30<00:00,  3.34it/s]\n",
      "Epoch 13 - Validation: 100%|██████████| 26/26 [00:02<00:00, 10.20it/s]\n"
     ]
    },
    {
     "name": "stdout",
     "output_type": "stream",
     "text": [
      "Iteration 15 - Epoch 13:\n",
      "  Train Acc = 0.9976, Train Prec = 0.9976, Train Rec = 0.9976, Train F-Beta = 0.9976, Train Loss = 0.0176\n",
      "  Val Acc = 0.9536, Val Prec = 0.9559, Val Rec = 0.9536, Val F-Beta = 0.9546, Val Loss = 0.2515\n"
     ]
    },
    {
     "name": "stderr",
     "output_type": "stream",
     "text": [
      "Epoch 14 - Training: 100%|██████████| 103/103 [00:30<00:00,  3.34it/s]\n",
      "Epoch 14 - Validation: 100%|██████████| 26/26 [00:02<00:00, 10.19it/s]\n"
     ]
    },
    {
     "name": "stdout",
     "output_type": "stream",
     "text": [
      "Iteration 15 - Epoch 14:\n",
      "  Train Acc = 0.9948, Train Prec = 0.9948, Train Rec = 0.9948, Train F-Beta = 0.9948, Train Loss = 0.0249\n",
      "  Val Acc = 0.9524, Val Prec = 0.9556, Val Rec = 0.9524, Val F-Beta = 0.9541, Val Loss = 0.2804\n"
     ]
    },
    {
     "name": "stderr",
     "output_type": "stream",
     "text": [
      "Epoch 15 - Training: 100%|██████████| 103/103 [00:30<00:00,  3.34it/s]\n",
      "Epoch 15 - Validation: 100%|██████████| 26/26 [00:02<00:00, 10.19it/s]\n"
     ]
    },
    {
     "name": "stdout",
     "output_type": "stream",
     "text": [
      "Iteration 15 - Epoch 15:\n",
      "  Train Acc = 0.9963, Train Prec = 0.9963, Train Rec = 0.9963, Train F-Beta = 0.9963, Train Loss = 0.0199\n",
      "  Val Acc = 0.9328, Val Prec = 0.9388, Val Rec = 0.9328, Val F-Beta = 0.9361, Val Loss = 0.3457\n"
     ]
    },
    {
     "name": "stderr",
     "output_type": "stream",
     "text": [
      "Epoch 16 - Training: 100%|██████████| 103/103 [00:30<00:00,  3.34it/s]\n",
      "Epoch 16 - Validation: 100%|██████████| 26/26 [00:02<00:00, 10.19it/s]\n"
     ]
    },
    {
     "name": "stdout",
     "output_type": "stream",
     "text": [
      "Iteration 15 - Epoch 16:\n",
      "  Train Acc = 0.9936, Train Prec = 0.9936, Train Rec = 0.9936, Train F-Beta = 0.9936, Train Loss = 0.0221\n",
      "  Val Acc = 0.9585, Val Prec = 0.9589, Val Rec = 0.9585, Val F-Beta = 0.9584, Val Loss = 0.2313\n"
     ]
    },
    {
     "name": "stderr",
     "output_type": "stream",
     "text": [
      "Epoch 17 - Training: 100%|██████████| 103/103 [00:30<00:00,  3.34it/s]\n",
      "Epoch 17 - Validation: 100%|██████████| 26/26 [00:02<00:00, 10.20it/s]\n"
     ]
    },
    {
     "name": "stdout",
     "output_type": "stream",
     "text": [
      "Iteration 15 - Epoch 17:\n",
      "  Train Acc = 0.9948, Train Prec = 0.9948, Train Rec = 0.9948, Train F-Beta = 0.9948, Train Loss = 0.0257\n",
      "  Val Acc = 0.9487, Val Prec = 0.9510, Val Rec = 0.9487, Val F-Beta = 0.9494, Val Loss = 0.2800\n"
     ]
    },
    {
     "name": "stderr",
     "output_type": "stream",
     "text": [
      "Epoch 18 - Training: 100%|██████████| 103/103 [00:30<00:00,  3.34it/s]\n",
      "Epoch 18 - Validation: 100%|██████████| 26/26 [00:02<00:00, 10.19it/s]\n"
     ]
    },
    {
     "name": "stdout",
     "output_type": "stream",
     "text": [
      "Iteration 15 - Epoch 18:\n",
      "  Train Acc = 0.9939, Train Prec = 0.9939, Train Rec = 0.9939, Train F-Beta = 0.9939, Train Loss = 0.0245\n",
      "  Val Acc = 0.9560, Val Prec = 0.9566, Val Rec = 0.9560, Val F-Beta = 0.9562, Val Loss = 0.2418\n"
     ]
    },
    {
     "name": "stderr",
     "output_type": "stream",
     "text": [
      "Epoch 19 - Training: 100%|██████████| 103/103 [00:30<00:00,  3.34it/s]\n",
      "Epoch 19 - Validation: 100%|██████████| 26/26 [00:02<00:00, 10.20it/s]\n"
     ]
    },
    {
     "name": "stdout",
     "output_type": "stream",
     "text": [
      "Iteration 15 - Epoch 19:\n",
      "  Train Acc = 0.9988, Train Prec = 0.9988, Train Rec = 0.9988, Train F-Beta = 0.9988, Train Loss = 0.0072\n",
      "  Val Acc = 0.9560, Val Prec = 0.9568, Val Rec = 0.9560, Val F-Beta = 0.9563, Val Loss = 0.2421\n"
     ]
    },
    {
     "name": "stderr",
     "output_type": "stream",
     "text": [
      "Epoch 20 - Training: 100%|██████████| 103/103 [00:30<00:00,  3.34it/s]\n",
      "Epoch 20 - Validation: 100%|██████████| 26/26 [00:02<00:00, 10.19it/s]\n"
     ]
    },
    {
     "name": "stdout",
     "output_type": "stream",
     "text": [
      "Iteration 15 - Epoch 20:\n",
      "  Train Acc = 0.9945, Train Prec = 0.9945, Train Rec = 0.9945, Train F-Beta = 0.9945, Train Loss = 0.0239\n",
      "  Val Acc = 0.9536, Val Prec = 0.9547, Val Rec = 0.9536, Val F-Beta = 0.9541, Val Loss = 0.2743\n"
     ]
    },
    {
     "name": "stderr",
     "output_type": "stream",
     "text": [
      "Epoch 21 - Training: 100%|██████████| 103/103 [00:30<00:00,  3.34it/s]\n",
      "Epoch 21 - Validation: 100%|██████████| 26/26 [00:02<00:00, 10.18it/s]\n"
     ]
    },
    {
     "name": "stdout",
     "output_type": "stream",
     "text": [
      "Iteration 15 - Epoch 21:\n",
      "  Train Acc = 0.9979, Train Prec = 0.9979, Train Rec = 0.9979, Train F-Beta = 0.9979, Train Loss = 0.0110\n",
      "  Val Acc = 0.9499, Val Prec = 0.9507, Val Rec = 0.9499, Val F-Beta = 0.9501, Val Loss = 0.2868\n"
     ]
    },
    {
     "name": "stderr",
     "output_type": "stream",
     "text": [
      "Epoch 22 - Training: 100%|██████████| 103/103 [00:30<00:00,  3.34it/s]\n",
      "Epoch 22 - Validation: 100%|██████████| 26/26 [00:02<00:00, 10.20it/s]\n"
     ]
    },
    {
     "name": "stdout",
     "output_type": "stream",
     "text": [
      "Iteration 15 - Epoch 22:\n",
      "  Train Acc = 0.9960, Train Prec = 0.9960, Train Rec = 0.9960, Train F-Beta = 0.9960, Train Loss = 0.0173\n",
      "  Val Acc = 0.9487, Val Prec = 0.9502, Val Rec = 0.9487, Val F-Beta = 0.9492, Val Loss = 0.2851\n"
     ]
    },
    {
     "name": "stderr",
     "output_type": "stream",
     "text": [
      "Epoch 23 - Training: 100%|██████████| 103/103 [00:30<00:00,  3.34it/s]\n",
      "Epoch 23 - Validation: 100%|██████████| 26/26 [00:02<00:00, 10.20it/s]\n"
     ]
    },
    {
     "name": "stdout",
     "output_type": "stream",
     "text": [
      "Iteration 15 - Epoch 23:\n",
      "  Train Acc = 0.9985, Train Prec = 0.9985, Train Rec = 0.9985, Train F-Beta = 0.9985, Train Loss = 0.0071\n",
      "  Val Acc = 0.9524, Val Prec = 0.9565, Val Rec = 0.9524, Val F-Beta = 0.9546, Val Loss = 0.3124\n"
     ]
    },
    {
     "name": "stderr",
     "output_type": "stream",
     "text": [
      "Epoch 24 - Training: 100%|██████████| 103/103 [00:30<00:00,  3.34it/s]\n",
      "Epoch 24 - Validation: 100%|██████████| 26/26 [00:02<00:00, 10.19it/s]\n"
     ]
    },
    {
     "name": "stdout",
     "output_type": "stream",
     "text": [
      "Iteration 15 - Epoch 24:\n",
      "  Train Acc = 0.9991, Train Prec = 0.9991, Train Rec = 0.9991, Train F-Beta = 0.9991, Train Loss = 0.0082\n",
      "  Val Acc = 0.9609, Val Prec = 0.9619, Val Rec = 0.9609, Val F-Beta = 0.9614, Val Loss = 0.2199\n",
      "  Better model saved with 0.9614 F-beta score.\n"
     ]
    },
    {
     "name": "stderr",
     "output_type": "stream",
     "text": [
      "Epoch 25 - Training: 100%|██████████| 103/103 [00:30<00:00,  3.34it/s]\n",
      "Epoch 25 - Validation: 100%|██████████| 26/26 [00:02<00:00, 10.20it/s]\n"
     ]
    },
    {
     "name": "stdout",
     "output_type": "stream",
     "text": [
      "Iteration 15 - Epoch 25:\n",
      "  Train Acc = 1.0000, Train Prec = 1.0000, Train Rec = 1.0000, Train F-Beta = 1.0000, Train Loss = 0.0021\n",
      "  Val Acc = 0.9646, Val Prec = 0.9652, Val Rec = 0.9646, Val F-Beta = 0.9649, Val Loss = 0.2197\n",
      "  Better model saved with 0.9649 F-beta score.\n"
     ]
    },
    {
     "name": "stderr",
     "output_type": "stream",
     "text": [
      "Epoch 26 - Training: 100%|██████████| 103/103 [00:30<00:00,  3.34it/s]\n",
      "Epoch 26 - Validation: 100%|██████████| 26/26 [00:02<00:00, 10.20it/s]\n"
     ]
    },
    {
     "name": "stdout",
     "output_type": "stream",
     "text": [
      "Iteration 15 - Epoch 26:\n",
      "  Train Acc = 1.0000, Train Prec = 1.0000, Train Rec = 1.0000, Train F-Beta = 1.0000, Train Loss = 0.0018\n",
      "  Val Acc = 0.9646, Val Prec = 0.9649, Val Rec = 0.9646, Val F-Beta = 0.9647, Val Loss = 0.2224\n"
     ]
    },
    {
     "name": "stderr",
     "output_type": "stream",
     "text": [
      "Epoch 27 - Training: 100%|██████████| 103/103 [00:30<00:00,  3.34it/s]\n",
      "Epoch 27 - Validation: 100%|██████████| 26/26 [00:02<00:00, 10.19it/s]\n"
     ]
    },
    {
     "name": "stdout",
     "output_type": "stream",
     "text": [
      "Iteration 15 - Epoch 27:\n",
      "  Train Acc = 0.9997, Train Prec = 0.9997, Train Rec = 0.9997, Train F-Beta = 0.9997, Train Loss = 0.0036\n",
      "  Val Acc = 0.9560, Val Prec = 0.9570, Val Rec = 0.9560, Val F-Beta = 0.9565, Val Loss = 0.2583\n"
     ]
    },
    {
     "name": "stderr",
     "output_type": "stream",
     "text": [
      "Epoch 28 - Training: 100%|██████████| 103/103 [00:30<00:00,  3.34it/s]\n",
      "Epoch 28 - Validation: 100%|██████████| 26/26 [00:02<00:00, 10.19it/s]\n"
     ]
    },
    {
     "name": "stdout",
     "output_type": "stream",
     "text": [
      "Iteration 15 - Epoch 28:\n",
      "  Train Acc = 0.9994, Train Prec = 0.9994, Train Rec = 0.9994, Train F-Beta = 0.9994, Train Loss = 0.0027\n",
      "  Val Acc = 0.9658, Val Prec = 0.9664, Val Rec = 0.9658, Val F-Beta = 0.9661, Val Loss = 0.2373\n",
      "  Better model saved with 0.9661 F-beta score.\n"
     ]
    },
    {
     "name": "stderr",
     "output_type": "stream",
     "text": [
      "Epoch 29 - Training: 100%|██████████| 103/103 [00:30<00:00,  3.34it/s]\n",
      "Epoch 29 - Validation: 100%|██████████| 26/26 [00:02<00:00, 10.19it/s]\n"
     ]
    },
    {
     "name": "stdout",
     "output_type": "stream",
     "text": [
      "Iteration 15 - Epoch 29:\n",
      "  Train Acc = 0.9994, Train Prec = 0.9994, Train Rec = 0.9994, Train F-Beta = 0.9994, Train Loss = 0.0036\n",
      "  Val Acc = 0.9585, Val Prec = 0.9590, Val Rec = 0.9585, Val F-Beta = 0.9585, Val Loss = 0.2645\n"
     ]
    },
    {
     "name": "stderr",
     "output_type": "stream",
     "text": [
      "Epoch 30 - Training: 100%|██████████| 103/103 [00:30<00:00,  3.34it/s]\n",
      "Epoch 30 - Validation: 100%|██████████| 26/26 [00:02<00:00, 10.19it/s]\n"
     ]
    },
    {
     "name": "stdout",
     "output_type": "stream",
     "text": [
      "Iteration 15 - Epoch 30:\n",
      "  Train Acc = 0.9973, Train Prec = 0.9973, Train Rec = 0.9973, Train F-Beta = 0.9973, Train Loss = 0.0123\n",
      "  Val Acc = 0.9475, Val Prec = 0.9508, Val Rec = 0.9475, Val F-Beta = 0.9492, Val Loss = 0.3040\n"
     ]
    },
    {
     "name": "stderr",
     "output_type": "stream",
     "text": [
      "Epoch 31 - Training: 100%|██████████| 103/103 [00:30<00:00,  3.34it/s]\n",
      "Epoch 31 - Validation: 100%|██████████| 26/26 [00:02<00:00, 10.19it/s]\n"
     ]
    },
    {
     "name": "stdout",
     "output_type": "stream",
     "text": [
      "Iteration 15 - Epoch 31:\n",
      "  Train Acc = 0.9988, Train Prec = 0.9988, Train Rec = 0.9988, Train F-Beta = 0.9988, Train Loss = 0.0060\n",
      "  Val Acc = 0.9487, Val Prec = 0.9496, Val Rec = 0.9487, Val F-Beta = 0.9491, Val Loss = 0.2612\n"
     ]
    },
    {
     "name": "stderr",
     "output_type": "stream",
     "text": [
      "Epoch 32 - Training: 100%|██████████| 103/103 [00:30<00:00,  3.34it/s]\n",
      "Epoch 32 - Validation: 100%|██████████| 26/26 [00:02<00:00, 10.19it/s]\n"
     ]
    },
    {
     "name": "stdout",
     "output_type": "stream",
     "text": [
      "Iteration 15 - Epoch 32:\n",
      "  Train Acc = 0.9988, Train Prec = 0.9988, Train Rec = 0.9988, Train F-Beta = 0.9988, Train Loss = 0.0071\n",
      "  Val Acc = 0.9536, Val Prec = 0.9547, Val Rec = 0.9536, Val F-Beta = 0.9541, Val Loss = 0.2664\n"
     ]
    },
    {
     "name": "stderr",
     "output_type": "stream",
     "text": [
      "Epoch 33 - Training: 100%|██████████| 103/103 [00:30<00:00,  3.34it/s]\n",
      "Epoch 33 - Validation: 100%|██████████| 26/26 [00:02<00:00, 10.19it/s]\n"
     ]
    },
    {
     "name": "stdout",
     "output_type": "stream",
     "text": [
      "Iteration 15 - Epoch 33:\n",
      "  Train Acc = 1.0000, Train Prec = 1.0000, Train Rec = 1.0000, Train F-Beta = 1.0000, Train Loss = 0.0013\n",
      "  Val Acc = 0.9524, Val Prec = 0.9535, Val Rec = 0.9524, Val F-Beta = 0.9528, Val Loss = 0.2884\n"
     ]
    },
    {
     "name": "stderr",
     "output_type": "stream",
     "text": [
      "Epoch 34 - Training: 100%|██████████| 103/103 [00:30<00:00,  3.34it/s]\n",
      "Epoch 34 - Validation: 100%|██████████| 26/26 [00:02<00:00, 10.18it/s]\n"
     ]
    },
    {
     "name": "stdout",
     "output_type": "stream",
     "text": [
      "Iteration 15 - Epoch 34:\n",
      "  Train Acc = 0.9982, Train Prec = 0.9982, Train Rec = 0.9982, Train F-Beta = 0.9982, Train Loss = 0.0056\n",
      "  Val Acc = 0.9499, Val Prec = 0.9506, Val Rec = 0.9499, Val F-Beta = 0.9502, Val Loss = 0.3123\n"
     ]
    },
    {
     "name": "stderr",
     "output_type": "stream",
     "text": [
      "Epoch 35 - Training: 100%|██████████| 103/103 [00:30<00:00,  3.34it/s]\n",
      "Epoch 35 - Validation: 100%|██████████| 26/26 [00:02<00:00, 10.19it/s]\n"
     ]
    },
    {
     "name": "stdout",
     "output_type": "stream",
     "text": [
      "Iteration 15 - Epoch 35:\n",
      "  Train Acc = 0.9942, Train Prec = 0.9942, Train Rec = 0.9942, Train F-Beta = 0.9942, Train Loss = 0.0190\n",
      "  Val Acc = 0.9426, Val Prec = 0.9464, Val Rec = 0.9426, Val F-Beta = 0.9446, Val Loss = 0.3351\n"
     ]
    },
    {
     "name": "stderr",
     "output_type": "stream",
     "text": [
      "Epoch 36 - Training: 100%|██████████| 103/103 [00:30<00:00,  3.34it/s]\n",
      "Epoch 36 - Validation: 100%|██████████| 26/26 [00:02<00:00, 10.20it/s]\n"
     ]
    },
    {
     "name": "stdout",
     "output_type": "stream",
     "text": [
      "Iteration 15 - Epoch 36:\n",
      "  Train Acc = 0.9951, Train Prec = 0.9951, Train Rec = 0.9951, Train F-Beta = 0.9951, Train Loss = 0.0197\n",
      "  Val Acc = 0.9536, Val Prec = 0.9544, Val Rec = 0.9536, Val F-Beta = 0.9538, Val Loss = 0.3033\n"
     ]
    },
    {
     "name": "stderr",
     "output_type": "stream",
     "text": [
      "Epoch 37 - Training: 100%|██████████| 103/103 [00:30<00:00,  3.34it/s]\n",
      "Epoch 37 - Validation: 100%|██████████| 26/26 [00:02<00:00, 10.17it/s]\n"
     ]
    },
    {
     "name": "stdout",
     "output_type": "stream",
     "text": [
      "Iteration 15 - Epoch 37:\n",
      "  Train Acc = 0.9988, Train Prec = 0.9988, Train Rec = 0.9988, Train F-Beta = 0.9988, Train Loss = 0.0042\n",
      "  Val Acc = 0.9499, Val Prec = 0.9530, Val Rec = 0.9499, Val F-Beta = 0.9515, Val Loss = 0.3230\n"
     ]
    },
    {
     "name": "stderr",
     "output_type": "stream",
     "text": [
      "Epoch 38 - Training: 100%|██████████| 103/103 [00:30<00:00,  3.34it/s]\n",
      "Epoch 38 - Validation: 100%|██████████| 26/26 [00:02<00:00, 10.19it/s]\n"
     ]
    },
    {
     "name": "stdout",
     "output_type": "stream",
     "text": [
      "Iteration 15 - Epoch 38:\n",
      "  Train Acc = 1.0000, Train Prec = 1.0000, Train Rec = 1.0000, Train F-Beta = 1.0000, Train Loss = 0.0016\n",
      "  Val Acc = 0.9512, Val Prec = 0.9532, Val Rec = 0.9512, Val F-Beta = 0.9521, Val Loss = 0.3023\n"
     ]
    },
    {
     "name": "stderr",
     "output_type": "stream",
     "text": [
      "Epoch 39 - Training: 100%|██████████| 103/103 [00:30<00:00,  3.34it/s]\n",
      "Epoch 39 - Validation: 100%|██████████| 26/26 [00:02<00:00, 10.19it/s]\n"
     ]
    },
    {
     "name": "stdout",
     "output_type": "stream",
     "text": [
      "Iteration 15 - Epoch 39:\n",
      "  Train Acc = 0.9997, Train Prec = 0.9997, Train Rec = 0.9997, Train F-Beta = 0.9997, Train Loss = 0.0014\n",
      "  Val Acc = 0.9463, Val Prec = 0.9492, Val Rec = 0.9463, Val F-Beta = 0.9476, Val Loss = 0.3760\n"
     ]
    },
    {
     "name": "stderr",
     "output_type": "stream",
     "text": [
      "Epoch 40 - Training: 100%|██████████| 103/103 [00:30<00:00,  3.34it/s]\n",
      "Epoch 40 - Validation: 100%|██████████| 26/26 [00:02<00:00, 10.18it/s]\n"
     ]
    },
    {
     "name": "stdout",
     "output_type": "stream",
     "text": [
      "Iteration 15 - Epoch 40:\n",
      "  Train Acc = 0.9994, Train Prec = 0.9994, Train Rec = 0.9994, Train F-Beta = 0.9994, Train Loss = 0.0065\n",
      "  Val Acc = 0.9463, Val Prec = 0.9483, Val Rec = 0.9463, Val F-Beta = 0.9472, Val Loss = 0.3498\n",
      "Iteration 16/20\n"
     ]
    },
    {
     "name": "stderr",
     "output_type": "stream",
     "text": [
      "Some weights of ElectraForSequenceClassification were not initialized from the model checkpoint at beomi/KcELECTRA-base-v2022 and are newly initialized: ['classifier.dense.bias', 'classifier.dense.weight', 'classifier.out_proj.bias', 'classifier.out_proj.weight']\n",
      "You should probably TRAIN this model on a down-stream task to be able to use it for predictions and inference.\n",
      "Epoch 1 - Training: 100%|██████████| 103/103 [00:30<00:00,  3.34it/s]\n",
      "Epoch 1 - Validation: 100%|██████████| 26/26 [00:02<00:00, 10.19it/s]\n"
     ]
    },
    {
     "name": "stdout",
     "output_type": "stream",
     "text": [
      "Iteration 16 - Epoch 1:\n",
      "  Train Acc = 0.2931, Train Prec = 0.1928, Train Rec = 0.2931, Train F-Beta = 0.1635, Train Loss = 2.2992\n",
      "  Val Acc = 0.4750, Val Prec = 0.4193, Val Rec = 0.4750, Val F-Beta = 0.3142, Val Loss = 1.7701\n"
     ]
    },
    {
     "name": "stderr",
     "output_type": "stream",
     "text": [
      "Epoch 2 - Training: 100%|██████████| 103/103 [00:30<00:00,  3.34it/s]\n",
      "Epoch 2 - Validation: 100%|██████████| 26/26 [00:02<00:00, 10.19it/s]\n"
     ]
    },
    {
     "name": "stdout",
     "output_type": "stream",
     "text": [
      "Iteration 16 - Epoch 2:\n",
      "  Train Acc = 0.6168, Train Prec = 0.7329, Train Rec = 0.6168, Train F-Beta = 0.5589, Train Loss = 1.3555\n",
      "  Val Acc = 0.7277, Val Prec = 0.7792, Val Rec = 0.7277, Val F-Beta = 0.6927, Val Loss = 0.9440\n"
     ]
    },
    {
     "name": "stderr",
     "output_type": "stream",
     "text": [
      "Epoch 3 - Training: 100%|██████████| 103/103 [00:30<00:00,  3.34it/s]\n",
      "Epoch 3 - Validation: 100%|██████████| 26/26 [00:02<00:00, 10.18it/s]\n"
     ]
    },
    {
     "name": "stdout",
     "output_type": "stream",
     "text": [
      "Iteration 16 - Epoch 3:\n",
      "  Train Acc = 0.8663, Train Prec = 0.8819, Train Rec = 0.8663, Train F-Beta = 0.8647, Train Loss = 0.6733\n",
      "  Val Acc = 0.9060, Val Prec = 0.9115, Val Rec = 0.9060, Val F-Beta = 0.9076, Val Loss = 0.4732\n"
     ]
    },
    {
     "name": "stderr",
     "output_type": "stream",
     "text": [
      "Epoch 4 - Training: 100%|██████████| 103/103 [00:30<00:00,  3.34it/s]\n",
      "Epoch 4 - Validation: 100%|██████████| 26/26 [00:02<00:00, 10.19it/s]\n"
     ]
    },
    {
     "name": "stdout",
     "output_type": "stream",
     "text": [
      "Iteration 16 - Epoch 4:\n",
      "  Train Acc = 0.9621, Train Prec = 0.9628, Train Rec = 0.9621, Train F-Beta = 0.9623, Train Loss = 0.3033\n",
      "  Val Acc = 0.9365, Val Prec = 0.9375, Val Rec = 0.9365, Val F-Beta = 0.9369, Val Loss = 0.3010\n"
     ]
    },
    {
     "name": "stderr",
     "output_type": "stream",
     "text": [
      "Epoch 5 - Training: 100%|██████████| 103/103 [00:30<00:00,  3.34it/s]\n",
      "Epoch 5 - Validation: 100%|██████████| 26/26 [00:02<00:00, 10.19it/s]\n"
     ]
    },
    {
     "name": "stdout",
     "output_type": "stream",
     "text": [
      "Iteration 16 - Epoch 5:\n",
      "  Train Acc = 0.9811, Train Prec = 0.9811, Train Rec = 0.9811, Train F-Beta = 0.9811, Train Loss = 0.1574\n",
      "  Val Acc = 0.9475, Val Prec = 0.9484, Val Rec = 0.9475, Val F-Beta = 0.9477, Val Loss = 0.2666\n"
     ]
    },
    {
     "name": "stderr",
     "output_type": "stream",
     "text": [
      "Epoch 6 - Training: 100%|██████████| 103/103 [00:30<00:00,  3.34it/s]\n",
      "Epoch 6 - Validation: 100%|██████████| 26/26 [00:02<00:00, 10.18it/s]\n"
     ]
    },
    {
     "name": "stdout",
     "output_type": "stream",
     "text": [
      "Iteration 16 - Epoch 6:\n",
      "  Train Acc = 0.9890, Train Prec = 0.9891, Train Rec = 0.9890, Train F-Beta = 0.9891, Train Loss = 0.0897\n",
      "  Val Acc = 0.9121, Val Prec = 0.9245, Val Rec = 0.9121, Val F-Beta = 0.9173, Val Loss = 0.3664\n"
     ]
    },
    {
     "name": "stderr",
     "output_type": "stream",
     "text": [
      "Epoch 7 - Training: 100%|██████████| 103/103 [00:30<00:00,  3.34it/s]\n",
      "Epoch 7 - Validation: 100%|██████████| 26/26 [00:02<00:00, 10.18it/s]\n"
     ]
    },
    {
     "name": "stdout",
     "output_type": "stream",
     "text": [
      "Iteration 16 - Epoch 7:\n",
      "  Train Acc = 0.9915, Train Prec = 0.9915, Train Rec = 0.9915, Train F-Beta = 0.9915, Train Loss = 0.0624\n",
      "  Val Acc = 0.9438, Val Prec = 0.9454, Val Rec = 0.9438, Val F-Beta = 0.9444, Val Loss = 0.2747\n"
     ]
    },
    {
     "name": "stderr",
     "output_type": "stream",
     "text": [
      "Epoch 8 - Training: 100%|██████████| 103/103 [00:30<00:00,  3.34it/s]\n",
      "Epoch 8 - Validation: 100%|██████████| 26/26 [00:02<00:00, 10.18it/s]\n"
     ]
    },
    {
     "name": "stdout",
     "output_type": "stream",
     "text": [
      "Iteration 16 - Epoch 8:\n",
      "  Train Acc = 0.9951, Train Prec = 0.9951, Train Rec = 0.9951, Train F-Beta = 0.9951, Train Loss = 0.0433\n",
      "  Val Acc = 0.9438, Val Prec = 0.9457, Val Rec = 0.9438, Val F-Beta = 0.9446, Val Loss = 0.2537\n"
     ]
    },
    {
     "name": "stderr",
     "output_type": "stream",
     "text": [
      "Epoch 9 - Training: 100%|██████████| 103/103 [00:30<00:00,  3.34it/s]\n",
      "Epoch 9 - Validation: 100%|██████████| 26/26 [00:02<00:00, 10.18it/s]\n"
     ]
    },
    {
     "name": "stdout",
     "output_type": "stream",
     "text": [
      "Iteration 16 - Epoch 9:\n",
      "  Train Acc = 0.9960, Train Prec = 0.9960, Train Rec = 0.9960, Train F-Beta = 0.9960, Train Loss = 0.0331\n",
      "  Val Acc = 0.9377, Val Prec = 0.9420, Val Rec = 0.9377, Val F-Beta = 0.9397, Val Loss = 0.3209\n"
     ]
    },
    {
     "name": "stderr",
     "output_type": "stream",
     "text": [
      "Epoch 10 - Training: 100%|██████████| 103/103 [00:30<00:00,  3.34it/s]\n",
      "Epoch 10 - Validation: 100%|██████████| 26/26 [00:02<00:00, 10.18it/s]\n"
     ]
    },
    {
     "name": "stdout",
     "output_type": "stream",
     "text": [
      "Iteration 16 - Epoch 10:\n",
      "  Train Acc = 0.9963, Train Prec = 0.9964, Train Rec = 0.9963, Train F-Beta = 0.9963, Train Loss = 0.0317\n",
      "  Val Acc = 0.9426, Val Prec = 0.9438, Val Rec = 0.9426, Val F-Beta = 0.9430, Val Loss = 0.2861\n"
     ]
    },
    {
     "name": "stderr",
     "output_type": "stream",
     "text": [
      "Epoch 11 - Training: 100%|██████████| 103/103 [00:30<00:00,  3.34it/s]\n",
      "Epoch 11 - Validation: 100%|██████████| 26/26 [00:02<00:00, 10.19it/s]\n"
     ]
    },
    {
     "name": "stdout",
     "output_type": "stream",
     "text": [
      "Iteration 16 - Epoch 11:\n",
      "  Train Acc = 0.9985, Train Prec = 0.9985, Train Rec = 0.9985, Train F-Beta = 0.9985, Train Loss = 0.0175\n",
      "  Val Acc = 0.9365, Val Prec = 0.9412, Val Rec = 0.9365, Val F-Beta = 0.9391, Val Loss = 0.3173\n"
     ]
    },
    {
     "name": "stderr",
     "output_type": "stream",
     "text": [
      "Epoch 12 - Training: 100%|██████████| 103/103 [00:30<00:00,  3.34it/s]\n",
      "Epoch 12 - Validation: 100%|██████████| 26/26 [00:02<00:00, 10.19it/s]\n"
     ]
    },
    {
     "name": "stdout",
     "output_type": "stream",
     "text": [
      "Iteration 16 - Epoch 12:\n",
      "  Train Acc = 0.9997, Train Prec = 0.9997, Train Rec = 0.9997, Train F-Beta = 0.9997, Train Loss = 0.0121\n",
      "  Val Acc = 0.9487, Val Prec = 0.9496, Val Rec = 0.9487, Val F-Beta = 0.9491, Val Loss = 0.2735\n"
     ]
    },
    {
     "name": "stderr",
     "output_type": "stream",
     "text": [
      "Epoch 13 - Training: 100%|██████████| 103/103 [00:30<00:00,  3.34it/s]\n",
      "Epoch 13 - Validation: 100%|██████████| 26/26 [00:02<00:00, 10.18it/s]\n"
     ]
    },
    {
     "name": "stdout",
     "output_type": "stream",
     "text": [
      "Iteration 16 - Epoch 13:\n",
      "  Train Acc = 0.9991, Train Prec = 0.9991, Train Rec = 0.9991, Train F-Beta = 0.9991, Train Loss = 0.0136\n",
      "  Val Acc = 0.9499, Val Prec = 0.9512, Val Rec = 0.9499, Val F-Beta = 0.9505, Val Loss = 0.2749\n",
      "  Better model saved with 0.9505 F-beta score.\n"
     ]
    },
    {
     "name": "stderr",
     "output_type": "stream",
     "text": [
      "Epoch 14 - Training: 100%|██████████| 103/103 [00:30<00:00,  3.34it/s]\n",
      "Epoch 14 - Validation: 100%|██████████| 26/26 [00:02<00:00, 10.18it/s]\n"
     ]
    },
    {
     "name": "stdout",
     "output_type": "stream",
     "text": [
      "Iteration 16 - Epoch 14:\n",
      "  Train Acc = 0.9988, Train Prec = 0.9988, Train Rec = 0.9988, Train F-Beta = 0.9988, Train Loss = 0.0113\n",
      "  Val Acc = 0.9475, Val Prec = 0.9489, Val Rec = 0.9475, Val F-Beta = 0.9480, Val Loss = 0.2968\n"
     ]
    },
    {
     "name": "stderr",
     "output_type": "stream",
     "text": [
      "Epoch 15 - Training: 100%|██████████| 103/103 [00:30<00:00,  3.34it/s]\n",
      "Epoch 15 - Validation: 100%|██████████| 26/26 [00:02<00:00, 10.19it/s]\n"
     ]
    },
    {
     "name": "stdout",
     "output_type": "stream",
     "text": [
      "Iteration 16 - Epoch 15:\n",
      "  Train Acc = 0.9905, Train Prec = 0.9906, Train Rec = 0.9905, Train F-Beta = 0.9906, Train Loss = 0.0385\n",
      "  Val Acc = 0.9389, Val Prec = 0.9413, Val Rec = 0.9389, Val F-Beta = 0.9399, Val Loss = 0.3214\n"
     ]
    },
    {
     "name": "stderr",
     "output_type": "stream",
     "text": [
      "Epoch 16 - Training: 100%|██████████| 103/103 [00:30<00:00,  3.34it/s]\n",
      "Epoch 16 - Validation: 100%|██████████| 26/26 [00:02<00:00, 10.18it/s]\n"
     ]
    },
    {
     "name": "stdout",
     "output_type": "stream",
     "text": [
      "Iteration 16 - Epoch 16:\n",
      "  Train Acc = 0.9966, Train Prec = 0.9966, Train Rec = 0.9966, Train F-Beta = 0.9966, Train Loss = 0.0165\n",
      "  Val Acc = 0.9438, Val Prec = 0.9454, Val Rec = 0.9438, Val F-Beta = 0.9446, Val Loss = 0.3301\n"
     ]
    },
    {
     "name": "stderr",
     "output_type": "stream",
     "text": [
      "Epoch 17 - Training: 100%|██████████| 103/103 [00:30<00:00,  3.34it/s]\n",
      "Epoch 17 - Validation: 100%|██████████| 26/26 [00:02<00:00, 10.18it/s]\n"
     ]
    },
    {
     "name": "stdout",
     "output_type": "stream",
     "text": [
      "Iteration 16 - Epoch 17:\n",
      "  Train Acc = 0.9954, Train Prec = 0.9954, Train Rec = 0.9954, Train F-Beta = 0.9954, Train Loss = 0.0206\n",
      "  Val Acc = 0.9499, Val Prec = 0.9509, Val Rec = 0.9499, Val F-Beta = 0.9502, Val Loss = 0.2970\n"
     ]
    },
    {
     "name": "stderr",
     "output_type": "stream",
     "text": [
      "Epoch 18 - Training: 100%|██████████| 103/103 [00:30<00:00,  3.34it/s]\n",
      "Epoch 18 - Validation: 100%|██████████| 26/26 [00:02<00:00, 10.18it/s]\n"
     ]
    },
    {
     "name": "stdout",
     "output_type": "stream",
     "text": [
      "Iteration 16 - Epoch 18:\n",
      "  Train Acc = 0.9954, Train Prec = 0.9954, Train Rec = 0.9954, Train F-Beta = 0.9954, Train Loss = 0.0197\n",
      "  Val Acc = 0.9560, Val Prec = 0.9570, Val Rec = 0.9560, Val F-Beta = 0.9565, Val Loss = 0.2542\n",
      "  Better model saved with 0.9565 F-beta score.\n"
     ]
    },
    {
     "name": "stderr",
     "output_type": "stream",
     "text": [
      "Epoch 19 - Training: 100%|██████████| 103/103 [00:30<00:00,  3.34it/s]\n",
      "Epoch 19 - Validation: 100%|██████████| 26/26 [00:02<00:00, 10.19it/s]\n"
     ]
    },
    {
     "name": "stdout",
     "output_type": "stream",
     "text": [
      "Iteration 16 - Epoch 19:\n",
      "  Train Acc = 0.9927, Train Prec = 0.9927, Train Rec = 0.9927, Train F-Beta = 0.9927, Train Loss = 0.0326\n",
      "  Val Acc = 0.9402, Val Prec = 0.9452, Val Rec = 0.9402, Val F-Beta = 0.9421, Val Loss = 0.3286\n"
     ]
    },
    {
     "name": "stderr",
     "output_type": "stream",
     "text": [
      "Epoch 20 - Training: 100%|██████████| 103/103 [00:30<00:00,  3.34it/s]\n",
      "Epoch 20 - Validation: 100%|██████████| 26/26 [00:02<00:00, 10.20it/s]\n"
     ]
    },
    {
     "name": "stdout",
     "output_type": "stream",
     "text": [
      "Iteration 16 - Epoch 20:\n",
      "  Train Acc = 0.9890, Train Prec = 0.9890, Train Rec = 0.9890, Train F-Beta = 0.9890, Train Loss = 0.0527\n",
      "  Val Acc = 0.9402, Val Prec = 0.9416, Val Rec = 0.9402, Val F-Beta = 0.9407, Val Loss = 0.3245\n"
     ]
    },
    {
     "name": "stderr",
     "output_type": "stream",
     "text": [
      "Epoch 21 - Training: 100%|██████████| 103/103 [00:30<00:00,  3.34it/s]\n",
      "Epoch 21 - Validation: 100%|██████████| 26/26 [00:02<00:00, 10.17it/s]\n"
     ]
    },
    {
     "name": "stdout",
     "output_type": "stream",
     "text": [
      "Iteration 16 - Epoch 21:\n",
      "  Train Acc = 0.9963, Train Prec = 0.9963, Train Rec = 0.9963, Train F-Beta = 0.9963, Train Loss = 0.0186\n",
      "  Val Acc = 0.9499, Val Prec = 0.9518, Val Rec = 0.9499, Val F-Beta = 0.9508, Val Loss = 0.3121\n"
     ]
    },
    {
     "name": "stderr",
     "output_type": "stream",
     "text": [
      "Epoch 22 - Training: 100%|██████████| 103/103 [00:30<00:00,  3.34it/s]\n",
      "Epoch 22 - Validation: 100%|██████████| 26/26 [00:02<00:00, 10.16it/s]\n"
     ]
    },
    {
     "name": "stdout",
     "output_type": "stream",
     "text": [
      "Iteration 16 - Epoch 22:\n",
      "  Train Acc = 0.9982, Train Prec = 0.9982, Train Rec = 0.9982, Train F-Beta = 0.9982, Train Loss = 0.0093\n",
      "  Val Acc = 0.9341, Val Prec = 0.9366, Val Rec = 0.9341, Val F-Beta = 0.9351, Val Loss = 0.3761\n"
     ]
    },
    {
     "name": "stderr",
     "output_type": "stream",
     "text": [
      "Epoch 23 - Training: 100%|██████████| 103/103 [00:30<00:00,  3.34it/s]\n",
      "Epoch 23 - Validation: 100%|██████████| 26/26 [00:02<00:00, 10.18it/s]\n"
     ]
    },
    {
     "name": "stdout",
     "output_type": "stream",
     "text": [
      "Iteration 16 - Epoch 23:\n",
      "  Train Acc = 0.9991, Train Prec = 0.9991, Train Rec = 0.9991, Train F-Beta = 0.9991, Train Loss = 0.0055\n",
      "  Val Acc = 0.9451, Val Prec = 0.9460, Val Rec = 0.9451, Val F-Beta = 0.9452, Val Loss = 0.3146\n"
     ]
    },
    {
     "name": "stderr",
     "output_type": "stream",
     "text": [
      "Epoch 24 - Training: 100%|██████████| 103/103 [00:30<00:00,  3.34it/s]\n",
      "Epoch 24 - Validation: 100%|██████████| 26/26 [00:02<00:00, 10.19it/s]\n"
     ]
    },
    {
     "name": "stdout",
     "output_type": "stream",
     "text": [
      "Iteration 16 - Epoch 24:\n",
      "  Train Acc = 0.9979, Train Prec = 0.9979, Train Rec = 0.9979, Train F-Beta = 0.9979, Train Loss = 0.0090\n",
      "  Val Acc = 0.9438, Val Prec = 0.9450, Val Rec = 0.9438, Val F-Beta = 0.9439, Val Loss = 0.3435\n"
     ]
    },
    {
     "name": "stderr",
     "output_type": "stream",
     "text": [
      "Epoch 25 - Training: 100%|██████████| 103/103 [00:30<00:00,  3.34it/s]\n",
      "Epoch 25 - Validation: 100%|██████████| 26/26 [00:02<00:00, 10.18it/s]\n"
     ]
    },
    {
     "name": "stdout",
     "output_type": "stream",
     "text": [
      "Iteration 16 - Epoch 25:\n",
      "  Train Acc = 1.0000, Train Prec = 1.0000, Train Rec = 1.0000, Train F-Beta = 1.0000, Train Loss = 0.0027\n",
      "  Val Acc = 0.9414, Val Prec = 0.9420, Val Rec = 0.9414, Val F-Beta = 0.9414, Val Loss = 0.3445\n"
     ]
    },
    {
     "name": "stderr",
     "output_type": "stream",
     "text": [
      "Epoch 26 - Training: 100%|██████████| 103/103 [00:30<00:00,  3.34it/s]\n",
      "Epoch 26 - Validation: 100%|██████████| 26/26 [00:02<00:00, 10.19it/s]\n"
     ]
    },
    {
     "name": "stdout",
     "output_type": "stream",
     "text": [
      "Iteration 16 - Epoch 26:\n",
      "  Train Acc = 0.9997, Train Prec = 0.9997, Train Rec = 0.9997, Train F-Beta = 0.9997, Train Loss = 0.0028\n",
      "  Val Acc = 0.9414, Val Prec = 0.9421, Val Rec = 0.9414, Val F-Beta = 0.9414, Val Loss = 0.3433\n"
     ]
    },
    {
     "name": "stderr",
     "output_type": "stream",
     "text": [
      "Epoch 27 - Training: 100%|██████████| 103/103 [00:30<00:00,  3.34it/s]\n",
      "Epoch 27 - Validation: 100%|██████████| 26/26 [00:02<00:00, 10.17it/s]\n"
     ]
    },
    {
     "name": "stdout",
     "output_type": "stream",
     "text": [
      "Iteration 16 - Epoch 27:\n",
      "  Train Acc = 1.0000, Train Prec = 1.0000, Train Rec = 1.0000, Train F-Beta = 1.0000, Train Loss = 0.0017\n",
      "  Val Acc = 0.9414, Val Prec = 0.9420, Val Rec = 0.9414, Val F-Beta = 0.9414, Val Loss = 0.3455\n"
     ]
    },
    {
     "name": "stderr",
     "output_type": "stream",
     "text": [
      "Epoch 28 - Training: 100%|██████████| 103/103 [00:30<00:00,  3.34it/s]\n",
      "Epoch 28 - Validation: 100%|██████████| 26/26 [00:02<00:00, 10.19it/s]\n"
     ]
    },
    {
     "name": "stdout",
     "output_type": "stream",
     "text": [
      "Iteration 16 - Epoch 28:\n",
      "  Train Acc = 0.9991, Train Prec = 0.9991, Train Rec = 0.9991, Train F-Beta = 0.9991, Train Loss = 0.0048\n",
      "  Val Acc = 0.9463, Val Prec = 0.9471, Val Rec = 0.9463, Val F-Beta = 0.9464, Val Loss = 0.3372\n"
     ]
    },
    {
     "name": "stderr",
     "output_type": "stream",
     "text": [
      "Epoch 29 - Training: 100%|██████████| 103/103 [00:30<00:00,  3.34it/s]\n",
      "Epoch 29 - Validation: 100%|██████████| 26/26 [00:02<00:00, 10.18it/s]\n"
     ]
    },
    {
     "name": "stdout",
     "output_type": "stream",
     "text": [
      "Iteration 16 - Epoch 29:\n",
      "  Train Acc = 0.9988, Train Prec = 0.9988, Train Rec = 0.9988, Train F-Beta = 0.9988, Train Loss = 0.0066\n",
      "  Val Acc = 0.9438, Val Prec = 0.9437, Val Rec = 0.9438, Val F-Beta = 0.9434, Val Loss = 0.3632\n"
     ]
    },
    {
     "name": "stderr",
     "output_type": "stream",
     "text": [
      "Epoch 30 - Training: 100%|██████████| 103/103 [00:30<00:00,  3.34it/s]\n",
      "Epoch 30 - Validation: 100%|██████████| 26/26 [00:02<00:00, 10.18it/s]\n"
     ]
    },
    {
     "name": "stdout",
     "output_type": "stream",
     "text": [
      "Iteration 16 - Epoch 30:\n",
      "  Train Acc = 0.9939, Train Prec = 0.9939, Train Rec = 0.9939, Train F-Beta = 0.9939, Train Loss = 0.0261\n",
      "  Val Acc = 0.9280, Val Prec = 0.9355, Val Rec = 0.9280, Val F-Beta = 0.9324, Val Loss = 0.4439\n"
     ]
    },
    {
     "name": "stderr",
     "output_type": "stream",
     "text": [
      "Epoch 31 - Training: 100%|██████████| 103/103 [00:30<00:00,  3.34it/s]\n",
      "Epoch 31 - Validation: 100%|██████████| 26/26 [00:02<00:00, 10.19it/s]\n"
     ]
    },
    {
     "name": "stdout",
     "output_type": "stream",
     "text": [
      "Iteration 16 - Epoch 31:\n",
      "  Train Acc = 0.9976, Train Prec = 0.9976, Train Rec = 0.9976, Train F-Beta = 0.9976, Train Loss = 0.0090\n",
      "  Val Acc = 0.9389, Val Prec = 0.9409, Val Rec = 0.9389, Val F-Beta = 0.9396, Val Loss = 0.4221\n"
     ]
    },
    {
     "name": "stderr",
     "output_type": "stream",
     "text": [
      "Epoch 32 - Training: 100%|██████████| 103/103 [00:30<00:00,  3.34it/s]\n",
      "Epoch 32 - Validation: 100%|██████████| 26/26 [00:02<00:00, 10.19it/s]\n"
     ]
    },
    {
     "name": "stdout",
     "output_type": "stream",
     "text": [
      "Iteration 16 - Epoch 32:\n",
      "  Train Acc = 0.9969, Train Prec = 0.9970, Train Rec = 0.9969, Train F-Beta = 0.9969, Train Loss = 0.0154\n",
      "  Val Acc = 0.9389, Val Prec = 0.9419, Val Rec = 0.9389, Val F-Beta = 0.9404, Val Loss = 0.4099\n"
     ]
    },
    {
     "name": "stderr",
     "output_type": "stream",
     "text": [
      "Epoch 33 - Training: 100%|██████████| 103/103 [00:30<00:00,  3.34it/s]\n",
      "Epoch 33 - Validation: 100%|██████████| 26/26 [00:02<00:00, 10.18it/s]\n"
     ]
    },
    {
     "name": "stdout",
     "output_type": "stream",
     "text": [
      "Iteration 16 - Epoch 33:\n",
      "  Train Acc = 0.9976, Train Prec = 0.9976, Train Rec = 0.9976, Train F-Beta = 0.9976, Train Loss = 0.0096\n",
      "  Val Acc = 0.9451, Val Prec = 0.9473, Val Rec = 0.9451, Val F-Beta = 0.9460, Val Loss = 0.3944\n"
     ]
    },
    {
     "name": "stderr",
     "output_type": "stream",
     "text": [
      "Epoch 34 - Training: 100%|██████████| 103/103 [00:30<00:00,  3.34it/s]\n",
      "Epoch 34 - Validation: 100%|██████████| 26/26 [00:02<00:00, 10.18it/s]\n"
     ]
    },
    {
     "name": "stdout",
     "output_type": "stream",
     "text": [
      "Iteration 16 - Epoch 34:\n",
      "  Train Acc = 0.9997, Train Prec = 0.9997, Train Rec = 0.9997, Train F-Beta = 0.9997, Train Loss = 0.0024\n",
      "  Val Acc = 0.9499, Val Prec = 0.9508, Val Rec = 0.9499, Val F-Beta = 0.9501, Val Loss = 0.3634\n"
     ]
    },
    {
     "name": "stderr",
     "output_type": "stream",
     "text": [
      "Epoch 35 - Training: 100%|██████████| 103/103 [00:30<00:00,  3.34it/s]\n",
      "Epoch 35 - Validation: 100%|██████████| 26/26 [00:02<00:00, 10.17it/s]\n"
     ]
    },
    {
     "name": "stdout",
     "output_type": "stream",
     "text": [
      "Iteration 16 - Epoch 35:\n",
      "  Train Acc = 0.9982, Train Prec = 0.9982, Train Rec = 0.9982, Train F-Beta = 0.9982, Train Loss = 0.0119\n",
      "  Val Acc = 0.9463, Val Prec = 0.9474, Val Rec = 0.9463, Val F-Beta = 0.9465, Val Loss = 0.3960\n"
     ]
    },
    {
     "name": "stderr",
     "output_type": "stream",
     "text": [
      "Epoch 36 - Training: 100%|██████████| 103/103 [00:30<00:00,  3.34it/s]\n",
      "Epoch 36 - Validation: 100%|██████████| 26/26 [00:02<00:00, 10.19it/s]\n"
     ]
    },
    {
     "name": "stdout",
     "output_type": "stream",
     "text": [
      "Iteration 16 - Epoch 36:\n",
      "  Train Acc = 0.9994, Train Prec = 0.9994, Train Rec = 0.9994, Train F-Beta = 0.9994, Train Loss = 0.0051\n",
      "  Val Acc = 0.9499, Val Prec = 0.9510, Val Rec = 0.9499, Val F-Beta = 0.9503, Val Loss = 0.3418\n"
     ]
    },
    {
     "name": "stderr",
     "output_type": "stream",
     "text": [
      "Epoch 37 - Training: 100%|██████████| 103/103 [00:30<00:00,  3.34it/s]\n",
      "Epoch 37 - Validation: 100%|██████████| 26/26 [00:02<00:00, 10.18it/s]\n"
     ]
    },
    {
     "name": "stdout",
     "output_type": "stream",
     "text": [
      "Iteration 16 - Epoch 37:\n",
      "  Train Acc = 1.0000, Train Prec = 1.0000, Train Rec = 1.0000, Train F-Beta = 1.0000, Train Loss = 0.0012\n",
      "  Val Acc = 0.9499, Val Prec = 0.9515, Val Rec = 0.9499, Val F-Beta = 0.9507, Val Loss = 0.3569\n"
     ]
    },
    {
     "name": "stderr",
     "output_type": "stream",
     "text": [
      "Epoch 38 - Training: 100%|██████████| 103/103 [00:30<00:00,  3.34it/s]\n",
      "Epoch 38 - Validation: 100%|██████████| 26/26 [00:02<00:00, 10.18it/s]\n"
     ]
    },
    {
     "name": "stdout",
     "output_type": "stream",
     "text": [
      "Iteration 16 - Epoch 38:\n",
      "  Train Acc = 1.0000, Train Prec = 1.0000, Train Rec = 1.0000, Train F-Beta = 1.0000, Train Loss = 0.0009\n",
      "  Val Acc = 0.9487, Val Prec = 0.9501, Val Rec = 0.9487, Val F-Beta = 0.9493, Val Loss = 0.3636\n"
     ]
    },
    {
     "name": "stderr",
     "output_type": "stream",
     "text": [
      "Epoch 39 - Training: 100%|██████████| 103/103 [00:30<00:00,  3.34it/s]\n",
      "Epoch 39 - Validation: 100%|██████████| 26/26 [00:02<00:00, 10.18it/s]\n"
     ]
    },
    {
     "name": "stdout",
     "output_type": "stream",
     "text": [
      "Iteration 16 - Epoch 39:\n",
      "  Train Acc = 0.9997, Train Prec = 0.9997, Train Rec = 0.9997, Train F-Beta = 0.9997, Train Loss = 0.0014\n",
      "  Val Acc = 0.9487, Val Prec = 0.9496, Val Rec = 0.9487, Val F-Beta = 0.9489, Val Loss = 0.3418\n"
     ]
    },
    {
     "name": "stderr",
     "output_type": "stream",
     "text": [
      "Epoch 40 - Training: 100%|██████████| 103/103 [00:30<00:00,  3.34it/s]\n",
      "Epoch 40 - Validation: 100%|██████████| 26/26 [00:02<00:00, 10.18it/s]\n"
     ]
    },
    {
     "name": "stdout",
     "output_type": "stream",
     "text": [
      "Iteration 16 - Epoch 40:\n",
      "  Train Acc = 1.0000, Train Prec = 1.0000, Train Rec = 1.0000, Train F-Beta = 1.0000, Train Loss = 0.0008\n",
      "  Val Acc = 0.9536, Val Prec = 0.9548, Val Rec = 0.9536, Val F-Beta = 0.9541, Val Loss = 0.3441\n",
      "Iteration 17/20\n"
     ]
    },
    {
     "name": "stderr",
     "output_type": "stream",
     "text": [
      "Some weights of ElectraForSequenceClassification were not initialized from the model checkpoint at beomi/KcELECTRA-base-v2022 and are newly initialized: ['classifier.dense.bias', 'classifier.dense.weight', 'classifier.out_proj.bias', 'classifier.out_proj.weight']\n",
      "You should probably TRAIN this model on a down-stream task to be able to use it for predictions and inference.\n",
      "Epoch 1 - Training: 100%|██████████| 103/103 [00:30<00:00,  3.34it/s]\n",
      "Epoch 1 - Validation: 100%|██████████| 26/26 [00:02<00:00, 10.18it/s]\n"
     ]
    },
    {
     "name": "stdout",
     "output_type": "stream",
     "text": [
      "Iteration 17 - Epoch 1:\n",
      "  Train Acc = 0.3060, Train Prec = 0.2299, Train Rec = 0.3060, Train F-Beta = 0.2067, Train Loss = 2.2623\n",
      "  Val Acc = 0.5079, Val Prec = 0.3771, Val Rec = 0.5079, Val F-Beta = 0.3638, Val Loss = 1.6860\n"
     ]
    },
    {
     "name": "stderr",
     "output_type": "stream",
     "text": [
      "Epoch 2 - Training: 100%|██████████| 103/103 [00:30<00:00,  3.34it/s]\n",
      "Epoch 2 - Validation: 100%|██████████| 26/26 [00:02<00:00, 10.18it/s]\n"
     ]
    },
    {
     "name": "stdout",
     "output_type": "stream",
     "text": [
      "Iteration 17 - Epoch 2:\n",
      "  Train Acc = 0.6379, Train Prec = 0.6206, Train Rec = 0.6379, Train F-Beta = 0.5694, Train Loss = 1.3215\n",
      "  Val Acc = 0.7534, Val Prec = 0.7667, Val Rec = 0.7534, Val F-Beta = 0.6959, Val Loss = 0.9233\n"
     ]
    },
    {
     "name": "stderr",
     "output_type": "stream",
     "text": [
      "Epoch 3 - Training: 100%|██████████| 103/103 [00:30<00:00,  3.34it/s]\n",
      "Epoch 3 - Validation: 100%|██████████| 26/26 [00:02<00:00, 10.19it/s]\n"
     ]
    },
    {
     "name": "stdout",
     "output_type": "stream",
     "text": [
      "Iteration 17 - Epoch 3:\n",
      "  Train Acc = 0.8544, Train Prec = 0.8657, Train Rec = 0.8544, Train F-Beta = 0.8357, Train Loss = 0.6744\n",
      "  Val Acc = 0.8730, Val Prec = 0.8899, Val Rec = 0.8730, Val F-Beta = 0.8683, Val Loss = 0.5032\n"
     ]
    },
    {
     "name": "stderr",
     "output_type": "stream",
     "text": [
      "Epoch 4 - Training: 100%|██████████| 103/103 [00:30<00:00,  3.34it/s]\n",
      "Epoch 4 - Validation: 100%|██████████| 26/26 [00:02<00:00, 10.19it/s]\n"
     ]
    },
    {
     "name": "stdout",
     "output_type": "stream",
     "text": [
      "Iteration 17 - Epoch 4:\n",
      "  Train Acc = 0.9478, Train Prec = 0.9508, Train Rec = 0.9478, Train F-Beta = 0.9476, Train Loss = 0.3270\n",
      "  Val Acc = 0.9328, Val Prec = 0.9338, Val Rec = 0.9328, Val F-Beta = 0.9333, Val Loss = 0.2900\n"
     ]
    },
    {
     "name": "stderr",
     "output_type": "stream",
     "text": [
      "Epoch 5 - Training: 100%|██████████| 103/103 [00:30<00:00,  3.34it/s]\n",
      "Epoch 5 - Validation: 100%|██████████| 26/26 [00:02<00:00, 10.18it/s]\n"
     ]
    },
    {
     "name": "stdout",
     "output_type": "stream",
     "text": [
      "Iteration 17 - Epoch 5:\n",
      "  Train Acc = 0.9765, Train Prec = 0.9765, Train Rec = 0.9765, Train F-Beta = 0.9765, Train Loss = 0.1744\n",
      "  Val Acc = 0.9328, Val Prec = 0.9341, Val Rec = 0.9328, Val F-Beta = 0.9331, Val Loss = 0.2612\n"
     ]
    },
    {
     "name": "stderr",
     "output_type": "stream",
     "text": [
      "Epoch 6 - Training: 100%|██████████| 103/103 [00:30<00:00,  3.34it/s]\n",
      "Epoch 6 - Validation: 100%|██████████| 26/26 [00:02<00:00, 10.19it/s]\n"
     ]
    },
    {
     "name": "stdout",
     "output_type": "stream",
     "text": [
      "Iteration 17 - Epoch 6:\n",
      "  Train Acc = 0.9872, Train Prec = 0.9872, Train Rec = 0.9872, Train F-Beta = 0.9872, Train Loss = 0.1036\n",
      "  Val Acc = 0.9524, Val Prec = 0.9544, Val Rec = 0.9524, Val F-Beta = 0.9536, Val Loss = 0.2296\n",
      "  Better model saved with 0.9536 F-beta score.\n"
     ]
    },
    {
     "name": "stderr",
     "output_type": "stream",
     "text": [
      "Epoch 7 - Training: 100%|██████████| 103/103 [00:30<00:00,  3.34it/s]\n",
      "Epoch 7 - Validation: 100%|██████████| 26/26 [00:02<00:00, 10.19it/s]\n"
     ]
    },
    {
     "name": "stdout",
     "output_type": "stream",
     "text": [
      "Iteration 17 - Epoch 7:\n",
      "  Train Acc = 0.9911, Train Prec = 0.9912, Train Rec = 0.9911, Train F-Beta = 0.9912, Train Loss = 0.0720\n",
      "  Val Acc = 0.9267, Val Prec = 0.9312, Val Rec = 0.9267, Val F-Beta = 0.9291, Val Loss = 0.3120\n"
     ]
    },
    {
     "name": "stderr",
     "output_type": "stream",
     "text": [
      "Epoch 8 - Training: 100%|██████████| 103/103 [00:30<00:00,  3.34it/s]\n",
      "Epoch 8 - Validation: 100%|██████████| 26/26 [00:02<00:00, 10.19it/s]\n"
     ]
    },
    {
     "name": "stdout",
     "output_type": "stream",
     "text": [
      "Iteration 17 - Epoch 8:\n",
      "  Train Acc = 0.9896, Train Prec = 0.9897, Train Rec = 0.9896, Train F-Beta = 0.9896, Train Loss = 0.0628\n",
      "  Val Acc = 0.9487, Val Prec = 0.9514, Val Rec = 0.9487, Val F-Beta = 0.9502, Val Loss = 0.2464\n"
     ]
    },
    {
     "name": "stderr",
     "output_type": "stream",
     "text": [
      "Epoch 9 - Training: 100%|██████████| 103/103 [00:30<00:00,  3.34it/s]\n",
      "Epoch 9 - Validation: 100%|██████████| 26/26 [00:02<00:00, 10.19it/s]\n"
     ]
    },
    {
     "name": "stdout",
     "output_type": "stream",
     "text": [
      "Iteration 17 - Epoch 9:\n",
      "  Train Acc = 0.9902, Train Prec = 0.9902, Train Rec = 0.9902, Train F-Beta = 0.9902, Train Loss = 0.0563\n",
      "  Val Acc = 0.9487, Val Prec = 0.9498, Val Rec = 0.9487, Val F-Beta = 0.9491, Val Loss = 0.2489\n"
     ]
    },
    {
     "name": "stderr",
     "output_type": "stream",
     "text": [
      "Epoch 10 - Training: 100%|██████████| 103/103 [00:30<00:00,  3.34it/s]\n",
      "Epoch 10 - Validation: 100%|██████████| 26/26 [00:02<00:00, 10.19it/s]\n"
     ]
    },
    {
     "name": "stdout",
     "output_type": "stream",
     "text": [
      "Iteration 17 - Epoch 10:\n",
      "  Train Acc = 0.9915, Train Prec = 0.9915, Train Rec = 0.9915, Train F-Beta = 0.9915, Train Loss = 0.0493\n",
      "  Val Acc = 0.9463, Val Prec = 0.9491, Val Rec = 0.9463, Val F-Beta = 0.9476, Val Loss = 0.2616\n"
     ]
    },
    {
     "name": "stderr",
     "output_type": "stream",
     "text": [
      "Epoch 11 - Training: 100%|██████████| 103/103 [00:30<00:00,  3.34it/s]\n",
      "Epoch 11 - Validation: 100%|██████████| 26/26 [00:02<00:00, 10.19it/s]\n"
     ]
    },
    {
     "name": "stdout",
     "output_type": "stream",
     "text": [
      "Iteration 17 - Epoch 11:\n",
      "  Train Acc = 0.9957, Train Prec = 0.9958, Train Rec = 0.9957, Train F-Beta = 0.9957, Train Loss = 0.0285\n",
      "  Val Acc = 0.9524, Val Prec = 0.9536, Val Rec = 0.9524, Val F-Beta = 0.9528, Val Loss = 0.2284\n"
     ]
    },
    {
     "name": "stderr",
     "output_type": "stream",
     "text": [
      "Epoch 12 - Training: 100%|██████████| 103/103 [00:30<00:00,  3.34it/s]\n",
      "Epoch 12 - Validation: 100%|██████████| 26/26 [00:02<00:00, 10.19it/s]\n"
     ]
    },
    {
     "name": "stdout",
     "output_type": "stream",
     "text": [
      "Iteration 17 - Epoch 12:\n",
      "  Train Acc = 0.9997, Train Prec = 0.9997, Train Rec = 0.9997, Train F-Beta = 0.9997, Train Loss = 0.0130\n",
      "  Val Acc = 0.9536, Val Prec = 0.9546, Val Rec = 0.9536, Val F-Beta = 0.9540, Val Loss = 0.2324\n",
      "  Better model saved with 0.9540 F-beta score.\n"
     ]
    },
    {
     "name": "stderr",
     "output_type": "stream",
     "text": [
      "Epoch 13 - Training: 100%|██████████| 103/103 [00:30<00:00,  3.34it/s]\n",
      "Epoch 13 - Validation: 100%|██████████| 26/26 [00:02<00:00, 10.19it/s]\n"
     ]
    },
    {
     "name": "stdout",
     "output_type": "stream",
     "text": [
      "Iteration 17 - Epoch 13:\n",
      "  Train Acc = 0.9991, Train Prec = 0.9991, Train Rec = 0.9991, Train F-Beta = 0.9991, Train Loss = 0.0110\n",
      "  Val Acc = 0.9499, Val Prec = 0.9518, Val Rec = 0.9499, Val F-Beta = 0.9507, Val Loss = 0.2501\n"
     ]
    },
    {
     "name": "stderr",
     "output_type": "stream",
     "text": [
      "Epoch 14 - Training: 100%|██████████| 103/103 [00:30<00:00,  3.34it/s]\n",
      "Epoch 14 - Validation: 100%|██████████| 26/26 [00:02<00:00, 10.19it/s]\n"
     ]
    },
    {
     "name": "stdout",
     "output_type": "stream",
     "text": [
      "Iteration 17 - Epoch 14:\n",
      "  Train Acc = 0.9994, Train Prec = 0.9994, Train Rec = 0.9994, Train F-Beta = 0.9994, Train Loss = 0.0108\n",
      "  Val Acc = 0.9499, Val Prec = 0.9518, Val Rec = 0.9499, Val F-Beta = 0.9504, Val Loss = 0.2801\n"
     ]
    },
    {
     "name": "stderr",
     "output_type": "stream",
     "text": [
      "Epoch 15 - Training: 100%|██████████| 103/103 [00:30<00:00,  3.34it/s]\n",
      "Epoch 15 - Validation: 100%|██████████| 26/26 [00:02<00:00, 10.19it/s]\n"
     ]
    },
    {
     "name": "stdout",
     "output_type": "stream",
     "text": [
      "Iteration 17 - Epoch 15:\n",
      "  Train Acc = 0.9960, Train Prec = 0.9960, Train Rec = 0.9960, Train F-Beta = 0.9960, Train Loss = 0.0201\n",
      "  Val Acc = 0.9560, Val Prec = 0.9576, Val Rec = 0.9560, Val F-Beta = 0.9568, Val Loss = 0.2423\n",
      "  Better model saved with 0.9568 F-beta score.\n"
     ]
    },
    {
     "name": "stderr",
     "output_type": "stream",
     "text": [
      "Epoch 16 - Training: 100%|██████████| 103/103 [00:30<00:00,  3.34it/s]\n",
      "Epoch 16 - Validation: 100%|██████████| 26/26 [00:02<00:00, 10.20it/s]\n"
     ]
    },
    {
     "name": "stdout",
     "output_type": "stream",
     "text": [
      "Iteration 17 - Epoch 16:\n",
      "  Train Acc = 0.9997, Train Prec = 0.9997, Train Rec = 0.9997, Train F-Beta = 0.9997, Train Loss = 0.0073\n",
      "  Val Acc = 0.9573, Val Prec = 0.9586, Val Rec = 0.9573, Val F-Beta = 0.9579, Val Loss = 0.2575\n",
      "  Better model saved with 0.9579 F-beta score.\n"
     ]
    },
    {
     "name": "stderr",
     "output_type": "stream",
     "text": [
      "Epoch 17 - Training: 100%|██████████| 103/103 [00:30<00:00,  3.34it/s]\n",
      "Epoch 17 - Validation: 100%|██████████| 26/26 [00:02<00:00, 10.19it/s]\n"
     ]
    },
    {
     "name": "stdout",
     "output_type": "stream",
     "text": [
      "Iteration 17 - Epoch 17:\n",
      "  Train Acc = 0.9991, Train Prec = 0.9991, Train Rec = 0.9991, Train F-Beta = 0.9991, Train Loss = 0.0076\n",
      "  Val Acc = 0.9499, Val Prec = 0.9534, Val Rec = 0.9499, Val F-Beta = 0.9516, Val Loss = 0.2857\n"
     ]
    },
    {
     "name": "stderr",
     "output_type": "stream",
     "text": [
      "Epoch 18 - Training: 100%|██████████| 103/103 [00:30<00:00,  3.34it/s]\n",
      "Epoch 18 - Validation: 100%|██████████| 26/26 [00:02<00:00, 10.18it/s]\n"
     ]
    },
    {
     "name": "stdout",
     "output_type": "stream",
     "text": [
      "Iteration 17 - Epoch 18:\n",
      "  Train Acc = 0.9942, Train Prec = 0.9942, Train Rec = 0.9942, Train F-Beta = 0.9942, Train Loss = 0.0233\n",
      "  Val Acc = 0.9475, Val Prec = 0.9501, Val Rec = 0.9475, Val F-Beta = 0.9487, Val Loss = 0.2729\n"
     ]
    },
    {
     "name": "stderr",
     "output_type": "stream",
     "text": [
      "Epoch 19 - Training: 100%|██████████| 103/103 [00:30<00:00,  3.34it/s]\n",
      "Epoch 19 - Validation: 100%|██████████| 26/26 [00:02<00:00, 10.19it/s]\n"
     ]
    },
    {
     "name": "stdout",
     "output_type": "stream",
     "text": [
      "Iteration 17 - Epoch 19:\n",
      "  Train Acc = 0.9927, Train Prec = 0.9927, Train Rec = 0.9927, Train F-Beta = 0.9927, Train Loss = 0.0302\n",
      "  Val Acc = 0.9438, Val Prec = 0.9448, Val Rec = 0.9438, Val F-Beta = 0.9441, Val Loss = 0.3269\n"
     ]
    },
    {
     "name": "stderr",
     "output_type": "stream",
     "text": [
      "Epoch 20 - Training: 100%|██████████| 103/103 [00:30<00:00,  3.34it/s]\n",
      "Epoch 20 - Validation: 100%|██████████| 26/26 [00:02<00:00, 10.18it/s]\n"
     ]
    },
    {
     "name": "stdout",
     "output_type": "stream",
     "text": [
      "Iteration 17 - Epoch 20:\n",
      "  Train Acc = 0.9960, Train Prec = 0.9960, Train Rec = 0.9960, Train F-Beta = 0.9960, Train Loss = 0.0204\n",
      "  Val Acc = 0.9499, Val Prec = 0.9512, Val Rec = 0.9499, Val F-Beta = 0.9504, Val Loss = 0.2881\n"
     ]
    },
    {
     "name": "stderr",
     "output_type": "stream",
     "text": [
      "Epoch 21 - Training: 100%|██████████| 103/103 [00:30<00:00,  3.34it/s]\n",
      "Epoch 21 - Validation: 100%|██████████| 26/26 [00:02<00:00, 10.19it/s]\n"
     ]
    },
    {
     "name": "stdout",
     "output_type": "stream",
     "text": [
      "Iteration 17 - Epoch 21:\n",
      "  Train Acc = 0.9976, Train Prec = 0.9976, Train Rec = 0.9976, Train F-Beta = 0.9976, Train Loss = 0.0124\n",
      "  Val Acc = 0.9463, Val Prec = 0.9500, Val Rec = 0.9463, Val F-Beta = 0.9481, Val Loss = 0.3456\n"
     ]
    },
    {
     "name": "stderr",
     "output_type": "stream",
     "text": [
      "Epoch 22 - Training: 100%|██████████| 103/103 [00:30<00:00,  3.34it/s]\n",
      "Epoch 22 - Validation: 100%|██████████| 26/26 [00:02<00:00, 10.19it/s]\n"
     ]
    },
    {
     "name": "stdout",
     "output_type": "stream",
     "text": [
      "Iteration 17 - Epoch 22:\n",
      "  Train Acc = 0.9979, Train Prec = 0.9979, Train Rec = 0.9979, Train F-Beta = 0.9979, Train Loss = 0.0097\n",
      "  Val Acc = 0.9499, Val Prec = 0.9513, Val Rec = 0.9499, Val F-Beta = 0.9504, Val Loss = 0.3034\n"
     ]
    },
    {
     "name": "stderr",
     "output_type": "stream",
     "text": [
      "Epoch 23 - Training: 100%|██████████| 103/103 [00:30<00:00,  3.34it/s]\n",
      "Epoch 23 - Validation: 100%|██████████| 26/26 [00:02<00:00, 10.17it/s]\n"
     ]
    },
    {
     "name": "stdout",
     "output_type": "stream",
     "text": [
      "Iteration 17 - Epoch 23:\n",
      "  Train Acc = 0.9994, Train Prec = 0.9994, Train Rec = 0.9994, Train F-Beta = 0.9994, Train Loss = 0.0049\n",
      "  Val Acc = 0.9487, Val Prec = 0.9519, Val Rec = 0.9487, Val F-Beta = 0.9503, Val Loss = 0.3378\n"
     ]
    },
    {
     "name": "stderr",
     "output_type": "stream",
     "text": [
      "Epoch 24 - Training: 100%|██████████| 103/103 [00:30<00:00,  3.34it/s]\n",
      "Epoch 24 - Validation: 100%|██████████| 26/26 [00:02<00:00, 10.20it/s]\n"
     ]
    },
    {
     "name": "stdout",
     "output_type": "stream",
     "text": [
      "Iteration 17 - Epoch 24:\n",
      "  Train Acc = 0.9951, Train Prec = 0.9951, Train Rec = 0.9951, Train F-Beta = 0.9951, Train Loss = 0.0225\n",
      "  Val Acc = 0.9402, Val Prec = 0.9442, Val Rec = 0.9402, Val F-Beta = 0.9416, Val Loss = 0.3614\n"
     ]
    },
    {
     "name": "stderr",
     "output_type": "stream",
     "text": [
      "Epoch 25 - Training: 100%|██████████| 103/103 [00:30<00:00,  3.34it/s]\n",
      "Epoch 25 - Validation: 100%|██████████| 26/26 [00:02<00:00, 10.20it/s]\n"
     ]
    },
    {
     "name": "stdout",
     "output_type": "stream",
     "text": [
      "Iteration 17 - Epoch 25:\n",
      "  Train Acc = 0.9939, Train Prec = 0.9939, Train Rec = 0.9939, Train F-Beta = 0.9939, Train Loss = 0.0243\n",
      "  Val Acc = 0.9548, Val Prec = 0.9584, Val Rec = 0.9548, Val F-Beta = 0.9565, Val Loss = 0.3011\n"
     ]
    },
    {
     "name": "stderr",
     "output_type": "stream",
     "text": [
      "Epoch 26 - Training: 100%|██████████| 103/103 [00:30<00:00,  3.34it/s]\n",
      "Epoch 26 - Validation: 100%|██████████| 26/26 [00:02<00:00, 10.19it/s]\n"
     ]
    },
    {
     "name": "stdout",
     "output_type": "stream",
     "text": [
      "Iteration 17 - Epoch 26:\n",
      "  Train Acc = 0.9988, Train Prec = 0.9988, Train Rec = 0.9988, Train F-Beta = 0.9988, Train Loss = 0.0094\n",
      "  Val Acc = 0.9475, Val Prec = 0.9497, Val Rec = 0.9475, Val F-Beta = 0.9481, Val Loss = 0.2949\n"
     ]
    },
    {
     "name": "stderr",
     "output_type": "stream",
     "text": [
      "Epoch 27 - Training: 100%|██████████| 103/103 [00:30<00:00,  3.34it/s]\n",
      "Epoch 27 - Validation: 100%|██████████| 26/26 [00:02<00:00, 10.19it/s]\n"
     ]
    },
    {
     "name": "stdout",
     "output_type": "stream",
     "text": [
      "Iteration 17 - Epoch 27:\n",
      "  Train Acc = 0.9997, Train Prec = 0.9997, Train Rec = 0.9997, Train F-Beta = 0.9997, Train Loss = 0.0036\n",
      "  Val Acc = 0.9512, Val Prec = 0.9520, Val Rec = 0.9512, Val F-Beta = 0.9515, Val Loss = 0.2835\n"
     ]
    },
    {
     "name": "stderr",
     "output_type": "stream",
     "text": [
      "Epoch 28 - Training: 100%|██████████| 103/103 [00:30<00:00,  3.34it/s]\n",
      "Epoch 28 - Validation: 100%|██████████| 26/26 [00:02<00:00, 10.20it/s]\n"
     ]
    },
    {
     "name": "stdout",
     "output_type": "stream",
     "text": [
      "Iteration 17 - Epoch 28:\n",
      "  Train Acc = 0.9973, Train Prec = 0.9973, Train Rec = 0.9973, Train F-Beta = 0.9973, Train Loss = 0.0133\n",
      "  Val Acc = 0.9475, Val Prec = 0.9484, Val Rec = 0.9475, Val F-Beta = 0.9480, Val Loss = 0.2915\n"
     ]
    },
    {
     "name": "stderr",
     "output_type": "stream",
     "text": [
      "Epoch 29 - Training: 100%|██████████| 103/103 [00:30<00:00,  3.34it/s]\n",
      "Epoch 29 - Validation: 100%|██████████| 26/26 [00:02<00:00, 10.19it/s]\n"
     ]
    },
    {
     "name": "stdout",
     "output_type": "stream",
     "text": [
      "Iteration 17 - Epoch 29:\n",
      "  Train Acc = 0.9991, Train Prec = 0.9991, Train Rec = 0.9991, Train F-Beta = 0.9991, Train Loss = 0.0045\n",
      "  Val Acc = 0.9536, Val Prec = 0.9545, Val Rec = 0.9536, Val F-Beta = 0.9540, Val Loss = 0.2935\n"
     ]
    },
    {
     "name": "stderr",
     "output_type": "stream",
     "text": [
      "Epoch 30 - Training: 100%|██████████| 103/103 [00:30<00:00,  3.34it/s]\n",
      "Epoch 30 - Validation: 100%|██████████| 26/26 [00:02<00:00, 10.18it/s]\n"
     ]
    },
    {
     "name": "stdout",
     "output_type": "stream",
     "text": [
      "Iteration 17 - Epoch 30:\n",
      "  Train Acc = 0.9991, Train Prec = 0.9991, Train Rec = 0.9991, Train F-Beta = 0.9991, Train Loss = 0.0047\n",
      "  Val Acc = 0.9463, Val Prec = 0.9488, Val Rec = 0.9463, Val F-Beta = 0.9474, Val Loss = 0.3186\n"
     ]
    },
    {
     "name": "stderr",
     "output_type": "stream",
     "text": [
      "Epoch 31 - Training: 100%|██████████| 103/103 [00:30<00:00,  3.34it/s]\n",
      "Epoch 31 - Validation: 100%|██████████| 26/26 [00:02<00:00, 10.20it/s]\n"
     ]
    },
    {
     "name": "stdout",
     "output_type": "stream",
     "text": [
      "Iteration 17 - Epoch 31:\n",
      "  Train Acc = 1.0000, Train Prec = 1.0000, Train Rec = 1.0000, Train F-Beta = 1.0000, Train Loss = 0.0017\n",
      "  Val Acc = 0.9499, Val Prec = 0.9520, Val Rec = 0.9499, Val F-Beta = 0.9508, Val Loss = 0.3075\n"
     ]
    },
    {
     "name": "stderr",
     "output_type": "stream",
     "text": [
      "Epoch 32 - Training: 100%|██████████| 103/103 [00:30<00:00,  3.34it/s]\n",
      "Epoch 32 - Validation: 100%|██████████| 26/26 [00:02<00:00, 10.18it/s]\n"
     ]
    },
    {
     "name": "stdout",
     "output_type": "stream",
     "text": [
      "Iteration 17 - Epoch 32:\n",
      "  Train Acc = 0.9960, Train Prec = 0.9960, Train Rec = 0.9960, Train F-Beta = 0.9960, Train Loss = 0.0191\n",
      "  Val Acc = 0.9414, Val Prec = 0.9451, Val Rec = 0.9414, Val F-Beta = 0.9428, Val Loss = 0.4029\n"
     ]
    },
    {
     "name": "stderr",
     "output_type": "stream",
     "text": [
      "Epoch 33 - Training: 100%|██████████| 103/103 [00:30<00:00,  3.34it/s]\n",
      "Epoch 33 - Validation: 100%|██████████| 26/26 [00:02<00:00, 10.18it/s]\n"
     ]
    },
    {
     "name": "stdout",
     "output_type": "stream",
     "text": [
      "Iteration 17 - Epoch 33:\n",
      "  Train Acc = 0.9963, Train Prec = 0.9964, Train Rec = 0.9963, Train F-Beta = 0.9963, Train Loss = 0.0141\n",
      "  Val Acc = 0.9560, Val Prec = 0.9567, Val Rec = 0.9560, Val F-Beta = 0.9563, Val Loss = 0.3078\n"
     ]
    },
    {
     "name": "stderr",
     "output_type": "stream",
     "text": [
      "Epoch 34 - Training: 100%|██████████| 103/103 [00:30<00:00,  3.34it/s]\n",
      "Epoch 34 - Validation: 100%|██████████| 26/26 [00:02<00:00, 10.18it/s]\n"
     ]
    },
    {
     "name": "stdout",
     "output_type": "stream",
     "text": [
      "Iteration 17 - Epoch 34:\n",
      "  Train Acc = 0.9985, Train Prec = 0.9985, Train Rec = 0.9985, Train F-Beta = 0.9985, Train Loss = 0.0094\n",
      "  Val Acc = 0.9548, Val Prec = 0.9556, Val Rec = 0.9548, Val F-Beta = 0.9551, Val Loss = 0.2854\n"
     ]
    },
    {
     "name": "stderr",
     "output_type": "stream",
     "text": [
      "Epoch 35 - Training: 100%|██████████| 103/103 [00:30<00:00,  3.34it/s]\n",
      "Epoch 35 - Validation: 100%|██████████| 26/26 [00:02<00:00, 10.18it/s]\n"
     ]
    },
    {
     "name": "stdout",
     "output_type": "stream",
     "text": [
      "Iteration 17 - Epoch 35:\n",
      "  Train Acc = 0.9982, Train Prec = 0.9982, Train Rec = 0.9982, Train F-Beta = 0.9982, Train Loss = 0.0075\n",
      "  Val Acc = 0.9487, Val Prec = 0.9509, Val Rec = 0.9487, Val F-Beta = 0.9495, Val Loss = 0.3041\n"
     ]
    },
    {
     "name": "stderr",
     "output_type": "stream",
     "text": [
      "Epoch 36 - Training: 100%|██████████| 103/103 [00:30<00:00,  3.34it/s]\n",
      "Epoch 36 - Validation: 100%|██████████| 26/26 [00:02<00:00, 10.18it/s]\n"
     ]
    },
    {
     "name": "stdout",
     "output_type": "stream",
     "text": [
      "Iteration 17 - Epoch 36:\n",
      "  Train Acc = 0.9982, Train Prec = 0.9982, Train Rec = 0.9982, Train F-Beta = 0.9982, Train Loss = 0.0082\n",
      "  Val Acc = 0.9426, Val Prec = 0.9466, Val Rec = 0.9426, Val F-Beta = 0.9445, Val Loss = 0.3589\n"
     ]
    },
    {
     "name": "stderr",
     "output_type": "stream",
     "text": [
      "Epoch 37 - Training: 100%|██████████| 103/103 [00:30<00:00,  3.34it/s]\n",
      "Epoch 37 - Validation: 100%|██████████| 26/26 [00:02<00:00, 10.20it/s]\n"
     ]
    },
    {
     "name": "stdout",
     "output_type": "stream",
     "text": [
      "Iteration 17 - Epoch 37:\n",
      "  Train Acc = 0.9979, Train Prec = 0.9979, Train Rec = 0.9979, Train F-Beta = 0.9979, Train Loss = 0.0103\n",
      "  Val Acc = 0.9414, Val Prec = 0.9440, Val Rec = 0.9414, Val F-Beta = 0.9419, Val Loss = 0.4218\n"
     ]
    },
    {
     "name": "stderr",
     "output_type": "stream",
     "text": [
      "Epoch 38 - Training: 100%|██████████| 103/103 [00:30<00:00,  3.34it/s]\n",
      "Epoch 38 - Validation: 100%|██████████| 26/26 [00:02<00:00, 10.18it/s]\n"
     ]
    },
    {
     "name": "stdout",
     "output_type": "stream",
     "text": [
      "Iteration 17 - Epoch 38:\n",
      "  Train Acc = 0.9979, Train Prec = 0.9979, Train Rec = 0.9979, Train F-Beta = 0.9979, Train Loss = 0.0147\n",
      "  Val Acc = 0.9524, Val Prec = 0.9545, Val Rec = 0.9524, Val F-Beta = 0.9533, Val Loss = 0.3475\n"
     ]
    },
    {
     "name": "stderr",
     "output_type": "stream",
     "text": [
      "Epoch 39 - Training: 100%|██████████| 103/103 [00:30<00:00,  3.34it/s]\n",
      "Epoch 39 - Validation: 100%|██████████| 26/26 [00:02<00:00, 10.19it/s]\n"
     ]
    },
    {
     "name": "stdout",
     "output_type": "stream",
     "text": [
      "Iteration 17 - Epoch 39:\n",
      "  Train Acc = 1.0000, Train Prec = 1.0000, Train Rec = 1.0000, Train F-Beta = 1.0000, Train Loss = 0.0011\n",
      "  Val Acc = 0.9512, Val Prec = 0.9533, Val Rec = 0.9512, Val F-Beta = 0.9520, Val Loss = 0.3535\n"
     ]
    },
    {
     "name": "stderr",
     "output_type": "stream",
     "text": [
      "Epoch 40 - Training: 100%|██████████| 103/103 [00:30<00:00,  3.34it/s]\n",
      "Epoch 40 - Validation: 100%|██████████| 26/26 [00:02<00:00, 10.19it/s]\n"
     ]
    },
    {
     "name": "stdout",
     "output_type": "stream",
     "text": [
      "Iteration 17 - Epoch 40:\n",
      "  Train Acc = 1.0000, Train Prec = 1.0000, Train Rec = 1.0000, Train F-Beta = 1.0000, Train Loss = 0.0012\n",
      "  Val Acc = 0.9536, Val Prec = 0.9552, Val Rec = 0.9536, Val F-Beta = 0.9543, Val Loss = 0.3337\n",
      "Iteration 18/20\n"
     ]
    },
    {
     "name": "stderr",
     "output_type": "stream",
     "text": [
      "Some weights of ElectraForSequenceClassification were not initialized from the model checkpoint at beomi/KcELECTRA-base-v2022 and are newly initialized: ['classifier.dense.bias', 'classifier.dense.weight', 'classifier.out_proj.bias', 'classifier.out_proj.weight']\n",
      "You should probably TRAIN this model on a down-stream task to be able to use it for predictions and inference.\n",
      "Epoch 1 - Training: 100%|██████████| 103/103 [00:30<00:00,  3.34it/s]\n",
      "Epoch 1 - Validation: 100%|██████████| 26/26 [00:02<00:00, 10.18it/s]\n"
     ]
    },
    {
     "name": "stdout",
     "output_type": "stream",
     "text": [
      "Iteration 18 - Epoch 1:\n",
      "  Train Acc = 0.2776, Train Prec = 0.2319, Train Rec = 0.2776, Train F-Beta = 0.1457, Train Loss = 2.2769\n",
      "  Val Acc = 0.4799, Val Prec = 0.3780, Val Rec = 0.4799, Val F-Beta = 0.3659, Val Loss = 1.7562\n"
     ]
    },
    {
     "name": "stderr",
     "output_type": "stream",
     "text": [
      "Epoch 2 - Training: 100%|██████████| 103/103 [00:30<00:00,  3.34it/s]\n",
      "Epoch 2 - Validation: 100%|██████████| 26/26 [00:02<00:00, 10.19it/s]\n"
     ]
    },
    {
     "name": "stdout",
     "output_type": "stream",
     "text": [
      "Iteration 18 - Epoch 2:\n",
      "  Train Acc = 0.5924, Train Prec = 0.6045, Train Rec = 0.5924, Train F-Beta = 0.5102, Train Loss = 1.3926\n",
      "  Val Acc = 0.7314, Val Prec = 0.7639, Val Rec = 0.7314, Val F-Beta = 0.6850, Val Loss = 0.9750\n"
     ]
    },
    {
     "name": "stderr",
     "output_type": "stream",
     "text": [
      "Epoch 3 - Training: 100%|██████████| 103/103 [00:30<00:00,  3.34it/s]\n",
      "Epoch 3 - Validation: 100%|██████████| 26/26 [00:02<00:00, 10.18it/s]\n"
     ]
    },
    {
     "name": "stdout",
     "output_type": "stream",
     "text": [
      "Iteration 18 - Epoch 3:\n",
      "  Train Acc = 0.8363, Train Prec = 0.8605, Train Rec = 0.8363, Train F-Beta = 0.8357, Train Loss = 0.7475\n",
      "  Val Acc = 0.9109, Val Prec = 0.9181, Val Rec = 0.9109, Val F-Beta = 0.9137, Val Loss = 0.4965\n"
     ]
    },
    {
     "name": "stderr",
     "output_type": "stream",
     "text": [
      "Epoch 4 - Training: 100%|██████████| 103/103 [00:30<00:00,  3.34it/s]\n",
      "Epoch 4 - Validation: 100%|██████████| 26/26 [00:02<00:00, 10.19it/s]\n"
     ]
    },
    {
     "name": "stdout",
     "output_type": "stream",
     "text": [
      "Iteration 18 - Epoch 4:\n",
      "  Train Acc = 0.9536, Train Prec = 0.9542, Train Rec = 0.9536, Train F-Beta = 0.9538, Train Loss = 0.3333\n",
      "  Val Acc = 0.9377, Val Prec = 0.9401, Val Rec = 0.9377, Val F-Beta = 0.9386, Val Loss = 0.3166\n"
     ]
    },
    {
     "name": "stderr",
     "output_type": "stream",
     "text": [
      "Epoch 5 - Training: 100%|██████████| 103/103 [00:30<00:00,  3.34it/s]\n",
      "Epoch 5 - Validation: 100%|██████████| 26/26 [00:02<00:00, 10.20it/s]\n"
     ]
    },
    {
     "name": "stdout",
     "output_type": "stream",
     "text": [
      "Iteration 18 - Epoch 5:\n",
      "  Train Acc = 0.9805, Train Prec = 0.9805, Train Rec = 0.9805, Train F-Beta = 0.9805, Train Loss = 0.1623\n",
      "  Val Acc = 0.9524, Val Prec = 0.9535, Val Rec = 0.9524, Val F-Beta = 0.9528, Val Loss = 0.2417\n",
      "  Better model saved with 0.9528 F-beta score.\n"
     ]
    },
    {
     "name": "stderr",
     "output_type": "stream",
     "text": [
      "Epoch 6 - Training: 100%|██████████| 103/103 [00:30<00:00,  3.34it/s]\n",
      "Epoch 6 - Validation: 100%|██████████| 26/26 [00:02<00:00, 10.19it/s]\n"
     ]
    },
    {
     "name": "stdout",
     "output_type": "stream",
     "text": [
      "Iteration 18 - Epoch 6:\n",
      "  Train Acc = 0.9918, Train Prec = 0.9918, Train Rec = 0.9918, Train F-Beta = 0.9918, Train Loss = 0.0872\n",
      "  Val Acc = 0.9451, Val Prec = 0.9478, Val Rec = 0.9451, Val F-Beta = 0.9462, Val Loss = 0.2714\n"
     ]
    },
    {
     "name": "stderr",
     "output_type": "stream",
     "text": [
      "Epoch 7 - Training: 100%|██████████| 103/103 [00:30<00:00,  3.34it/s]\n",
      "Epoch 7 - Validation: 100%|██████████| 26/26 [00:02<00:00, 10.18it/s]\n"
     ]
    },
    {
     "name": "stdout",
     "output_type": "stream",
     "text": [
      "Iteration 18 - Epoch 7:\n",
      "  Train Acc = 0.9902, Train Prec = 0.9903, Train Rec = 0.9902, Train F-Beta = 0.9902, Train Loss = 0.0694\n",
      "  Val Acc = 0.9536, Val Prec = 0.9546, Val Rec = 0.9536, Val F-Beta = 0.9539, Val Loss = 0.2226\n",
      "  Better model saved with 0.9539 F-beta score.\n"
     ]
    },
    {
     "name": "stderr",
     "output_type": "stream",
     "text": [
      "Epoch 8 - Training: 100%|██████████| 103/103 [00:30<00:00,  3.34it/s]\n",
      "Epoch 8 - Validation: 100%|██████████| 26/26 [00:02<00:00, 10.21it/s]\n"
     ]
    },
    {
     "name": "stdout",
     "output_type": "stream",
     "text": [
      "Iteration 18 - Epoch 8:\n",
      "  Train Acc = 0.9942, Train Prec = 0.9942, Train Rec = 0.9942, Train F-Beta = 0.9942, Train Loss = 0.0470\n",
      "  Val Acc = 0.9560, Val Prec = 0.9577, Val Rec = 0.9560, Val F-Beta = 0.9568, Val Loss = 0.2255\n",
      "  Better model saved with 0.9568 F-beta score.\n"
     ]
    },
    {
     "name": "stderr",
     "output_type": "stream",
     "text": [
      "Epoch 9 - Training: 100%|██████████| 103/103 [00:30<00:00,  3.34it/s]\n",
      "Epoch 9 - Validation: 100%|██████████| 26/26 [00:02<00:00, 10.20it/s]\n"
     ]
    },
    {
     "name": "stdout",
     "output_type": "stream",
     "text": [
      "Iteration 18 - Epoch 9:\n",
      "  Train Acc = 0.9939, Train Prec = 0.9939, Train Rec = 0.9939, Train F-Beta = 0.9939, Train Loss = 0.0399\n",
      "  Val Acc = 0.9451, Val Prec = 0.9470, Val Rec = 0.9451, Val F-Beta = 0.9459, Val Loss = 0.2796\n"
     ]
    },
    {
     "name": "stderr",
     "output_type": "stream",
     "text": [
      "Epoch 10 - Training: 100%|██████████| 103/103 [00:30<00:00,  3.34it/s]\n",
      "Epoch 10 - Validation: 100%|██████████| 26/26 [00:02<00:00, 10.19it/s]\n"
     ]
    },
    {
     "name": "stdout",
     "output_type": "stream",
     "text": [
      "Iteration 18 - Epoch 10:\n",
      "  Train Acc = 0.9951, Train Prec = 0.9951, Train Rec = 0.9951, Train F-Beta = 0.9951, Train Loss = 0.0312\n",
      "  Val Acc = 0.9414, Val Prec = 0.9423, Val Rec = 0.9414, Val F-Beta = 0.9416, Val Loss = 0.2726\n"
     ]
    },
    {
     "name": "stderr",
     "output_type": "stream",
     "text": [
      "Epoch 11 - Training: 100%|██████████| 103/103 [00:30<00:00,  3.34it/s]\n",
      "Epoch 11 - Validation: 100%|██████████| 26/26 [00:02<00:00, 10.18it/s]\n"
     ]
    },
    {
     "name": "stdout",
     "output_type": "stream",
     "text": [
      "Iteration 18 - Epoch 11:\n",
      "  Train Acc = 0.9939, Train Prec = 0.9939, Train Rec = 0.9939, Train F-Beta = 0.9939, Train Loss = 0.0320\n",
      "  Val Acc = 0.9499, Val Prec = 0.9515, Val Rec = 0.9499, Val F-Beta = 0.9507, Val Loss = 0.2531\n"
     ]
    },
    {
     "name": "stderr",
     "output_type": "stream",
     "text": [
      "Epoch 12 - Training: 100%|██████████| 103/103 [00:30<00:00,  3.34it/s]\n",
      "Epoch 12 - Validation: 100%|██████████| 26/26 [00:02<00:00, 10.20it/s]\n"
     ]
    },
    {
     "name": "stdout",
     "output_type": "stream",
     "text": [
      "Iteration 18 - Epoch 12:\n",
      "  Train Acc = 0.9969, Train Prec = 0.9970, Train Rec = 0.9969, Train F-Beta = 0.9970, Train Loss = 0.0199\n",
      "  Val Acc = 0.9524, Val Prec = 0.9541, Val Rec = 0.9524, Val F-Beta = 0.9532, Val Loss = 0.2942\n"
     ]
    },
    {
     "name": "stderr",
     "output_type": "stream",
     "text": [
      "Epoch 13 - Training: 100%|██████████| 103/103 [00:30<00:00,  3.34it/s]\n",
      "Epoch 13 - Validation: 100%|██████████| 26/26 [00:02<00:00, 10.18it/s]\n"
     ]
    },
    {
     "name": "stdout",
     "output_type": "stream",
     "text": [
      "Iteration 18 - Epoch 13:\n",
      "  Train Acc = 0.9988, Train Prec = 0.9988, Train Rec = 0.9988, Train F-Beta = 0.9988, Train Loss = 0.0157\n",
      "  Val Acc = 0.9414, Val Prec = 0.9431, Val Rec = 0.9414, Val F-Beta = 0.9421, Val Loss = 0.2991\n"
     ]
    },
    {
     "name": "stderr",
     "output_type": "stream",
     "text": [
      "Epoch 14 - Training: 100%|██████████| 103/103 [00:30<00:00,  3.34it/s]\n",
      "Epoch 14 - Validation: 100%|██████████| 26/26 [00:02<00:00, 10.18it/s]\n"
     ]
    },
    {
     "name": "stdout",
     "output_type": "stream",
     "text": [
      "Iteration 18 - Epoch 14:\n",
      "  Train Acc = 0.9991, Train Prec = 0.9991, Train Rec = 0.9991, Train F-Beta = 0.9991, Train Loss = 0.0110\n",
      "  Val Acc = 0.9463, Val Prec = 0.9483, Val Rec = 0.9463, Val F-Beta = 0.9470, Val Loss = 0.2939\n"
     ]
    },
    {
     "name": "stderr",
     "output_type": "stream",
     "text": [
      "Epoch 15 - Training: 100%|██████████| 103/103 [00:30<00:00,  3.34it/s]\n",
      "Epoch 15 - Validation: 100%|██████████| 26/26 [00:02<00:00, 10.20it/s]\n"
     ]
    },
    {
     "name": "stdout",
     "output_type": "stream",
     "text": [
      "Iteration 18 - Epoch 15:\n",
      "  Train Acc = 0.9979, Train Prec = 0.9979, Train Rec = 0.9979, Train F-Beta = 0.9979, Train Loss = 0.0118\n",
      "  Val Acc = 0.9475, Val Prec = 0.9498, Val Rec = 0.9475, Val F-Beta = 0.9486, Val Loss = 0.2734\n"
     ]
    },
    {
     "name": "stderr",
     "output_type": "stream",
     "text": [
      "Epoch 16 - Training: 100%|██████████| 103/103 [00:30<00:00,  3.34it/s]\n",
      "Epoch 16 - Validation: 100%|██████████| 26/26 [00:02<00:00, 10.19it/s]\n"
     ]
    },
    {
     "name": "stdout",
     "output_type": "stream",
     "text": [
      "Iteration 18 - Epoch 16:\n",
      "  Train Acc = 0.9988, Train Prec = 0.9988, Train Rec = 0.9988, Train F-Beta = 0.9988, Train Loss = 0.0095\n",
      "  Val Acc = 0.9487, Val Prec = 0.9512, Val Rec = 0.9487, Val F-Beta = 0.9499, Val Loss = 0.2920\n"
     ]
    },
    {
     "name": "stderr",
     "output_type": "stream",
     "text": [
      "Epoch 17 - Training: 100%|██████████| 103/103 [00:30<00:00,  3.34it/s]\n",
      "Epoch 17 - Validation: 100%|██████████| 26/26 [00:02<00:00, 10.18it/s]\n"
     ]
    },
    {
     "name": "stdout",
     "output_type": "stream",
     "text": [
      "Iteration 18 - Epoch 17:\n",
      "  Train Acc = 0.9957, Train Prec = 0.9957, Train Rec = 0.9957, Train F-Beta = 0.9957, Train Loss = 0.0155\n",
      "  Val Acc = 0.9512, Val Prec = 0.9527, Val Rec = 0.9512, Val F-Beta = 0.9519, Val Loss = 0.2871\n"
     ]
    },
    {
     "name": "stderr",
     "output_type": "stream",
     "text": [
      "Epoch 18 - Training: 100%|██████████| 103/103 [00:30<00:00,  3.34it/s]\n",
      "Epoch 18 - Validation: 100%|██████████| 26/26 [00:02<00:00, 10.20it/s]\n"
     ]
    },
    {
     "name": "stdout",
     "output_type": "stream",
     "text": [
      "Iteration 18 - Epoch 18:\n",
      "  Train Acc = 0.9973, Train Prec = 0.9973, Train Rec = 0.9973, Train F-Beta = 0.9973, Train Loss = 0.0131\n",
      "  Val Acc = 0.9402, Val Prec = 0.9434, Val Rec = 0.9402, Val F-Beta = 0.9416, Val Loss = 0.3591\n"
     ]
    },
    {
     "name": "stderr",
     "output_type": "stream",
     "text": [
      "Epoch 19 - Training: 100%|██████████| 103/103 [00:30<00:00,  3.34it/s]\n",
      "Epoch 19 - Validation: 100%|██████████| 26/26 [00:02<00:00, 10.18it/s]\n"
     ]
    },
    {
     "name": "stdout",
     "output_type": "stream",
     "text": [
      "Iteration 18 - Epoch 19:\n",
      "  Train Acc = 0.9930, Train Prec = 0.9930, Train Rec = 0.9930, Train F-Beta = 0.9930, Train Loss = 0.0274\n",
      "  Val Acc = 0.9499, Val Prec = 0.9519, Val Rec = 0.9499, Val F-Beta = 0.9509, Val Loss = 0.3055\n"
     ]
    },
    {
     "name": "stderr",
     "output_type": "stream",
     "text": [
      "Epoch 20 - Training: 100%|██████████| 103/103 [00:30<00:00,  3.34it/s]\n",
      "Epoch 20 - Validation: 100%|██████████| 26/26 [00:02<00:00, 10.18it/s]\n"
     ]
    },
    {
     "name": "stdout",
     "output_type": "stream",
     "text": [
      "Iteration 18 - Epoch 20:\n",
      "  Train Acc = 0.9933, Train Prec = 0.9933, Train Rec = 0.9933, Train F-Beta = 0.9933, Train Loss = 0.0326\n",
      "  Val Acc = 0.9438, Val Prec = 0.9462, Val Rec = 0.9438, Val F-Beta = 0.9447, Val Loss = 0.3250\n"
     ]
    },
    {
     "name": "stderr",
     "output_type": "stream",
     "text": [
      "Epoch 21 - Training: 100%|██████████| 103/103 [00:30<00:00,  3.34it/s]\n",
      "Epoch 21 - Validation: 100%|██████████| 26/26 [00:02<00:00, 10.18it/s]\n"
     ]
    },
    {
     "name": "stdout",
     "output_type": "stream",
     "text": [
      "Iteration 18 - Epoch 21:\n",
      "  Train Acc = 0.9921, Train Prec = 0.9920, Train Rec = 0.9921, Train F-Beta = 0.9920, Train Loss = 0.0312\n",
      "  Val Acc = 0.9548, Val Prec = 0.9565, Val Rec = 0.9548, Val F-Beta = 0.9556, Val Loss = 0.2622\n"
     ]
    },
    {
     "name": "stderr",
     "output_type": "stream",
     "text": [
      "Epoch 22 - Training: 100%|██████████| 103/103 [00:30<00:00,  3.34it/s]\n",
      "Epoch 22 - Validation: 100%|██████████| 26/26 [00:02<00:00, 10.19it/s]\n"
     ]
    },
    {
     "name": "stdout",
     "output_type": "stream",
     "text": [
      "Iteration 18 - Epoch 22:\n",
      "  Train Acc = 0.9991, Train Prec = 0.9991, Train Rec = 0.9991, Train F-Beta = 0.9991, Train Loss = 0.0070\n",
      "  Val Acc = 0.9560, Val Prec = 0.9569, Val Rec = 0.9560, Val F-Beta = 0.9564, Val Loss = 0.2729\n"
     ]
    },
    {
     "name": "stderr",
     "output_type": "stream",
     "text": [
      "Epoch 23 - Training: 100%|██████████| 103/103 [00:30<00:00,  3.34it/s]\n",
      "Epoch 23 - Validation: 100%|██████████| 26/26 [00:02<00:00, 10.19it/s]\n"
     ]
    },
    {
     "name": "stdout",
     "output_type": "stream",
     "text": [
      "Iteration 18 - Epoch 23:\n",
      "  Train Acc = 0.9997, Train Prec = 0.9997, Train Rec = 0.9997, Train F-Beta = 0.9997, Train Loss = 0.0034\n",
      "  Val Acc = 0.9560, Val Prec = 0.9571, Val Rec = 0.9560, Val F-Beta = 0.9564, Val Loss = 0.2923\n"
     ]
    },
    {
     "name": "stderr",
     "output_type": "stream",
     "text": [
      "Epoch 24 - Training: 100%|██████████| 103/103 [00:30<00:00,  3.34it/s]\n",
      "Epoch 24 - Validation: 100%|██████████| 26/26 [00:02<00:00, 10.18it/s]\n"
     ]
    },
    {
     "name": "stdout",
     "output_type": "stream",
     "text": [
      "Iteration 18 - Epoch 24:\n",
      "  Train Acc = 0.9991, Train Prec = 0.9991, Train Rec = 0.9991, Train F-Beta = 0.9991, Train Loss = 0.0050\n",
      "  Val Acc = 0.9573, Val Prec = 0.9580, Val Rec = 0.9573, Val F-Beta = 0.9575, Val Loss = 0.2588\n",
      "  Better model saved with 0.9575 F-beta score.\n"
     ]
    },
    {
     "name": "stderr",
     "output_type": "stream",
     "text": [
      "Epoch 25 - Training: 100%|██████████| 103/103 [00:30<00:00,  3.34it/s]\n",
      "Epoch 25 - Validation: 100%|██████████| 26/26 [00:02<00:00, 10.17it/s]\n"
     ]
    },
    {
     "name": "stdout",
     "output_type": "stream",
     "text": [
      "Iteration 18 - Epoch 25:\n",
      "  Train Acc = 0.9991, Train Prec = 0.9991, Train Rec = 0.9991, Train F-Beta = 0.9991, Train Loss = 0.0066\n",
      "  Val Acc = 0.9524, Val Prec = 0.9531, Val Rec = 0.9524, Val F-Beta = 0.9526, Val Loss = 0.2712\n"
     ]
    },
    {
     "name": "stderr",
     "output_type": "stream",
     "text": [
      "Epoch 26 - Training: 100%|██████████| 103/103 [00:30<00:00,  3.34it/s]\n",
      "Epoch 26 - Validation: 100%|██████████| 26/26 [00:02<00:00, 10.18it/s]\n"
     ]
    },
    {
     "name": "stdout",
     "output_type": "stream",
     "text": [
      "Iteration 18 - Epoch 26:\n",
      "  Train Acc = 0.9997, Train Prec = 0.9997, Train Rec = 0.9997, Train F-Beta = 0.9997, Train Loss = 0.0025\n",
      "  Val Acc = 0.9365, Val Prec = 0.9419, Val Rec = 0.9365, Val F-Beta = 0.9394, Val Loss = 0.3969\n"
     ]
    },
    {
     "name": "stderr",
     "output_type": "stream",
     "text": [
      "Epoch 27 - Training: 100%|██████████| 103/103 [00:30<00:00,  3.34it/s]\n",
      "Epoch 27 - Validation: 100%|██████████| 26/26 [00:02<00:00, 10.17it/s]\n"
     ]
    },
    {
     "name": "stdout",
     "output_type": "stream",
     "text": [
      "Iteration 18 - Epoch 27:\n",
      "  Train Acc = 0.9973, Train Prec = 0.9973, Train Rec = 0.9973, Train F-Beta = 0.9973, Train Loss = 0.0162\n",
      "  Val Acc = 0.9536, Val Prec = 0.9543, Val Rec = 0.9536, Val F-Beta = 0.9537, Val Loss = 0.2848\n"
     ]
    },
    {
     "name": "stderr",
     "output_type": "stream",
     "text": [
      "Epoch 28 - Training: 100%|██████████| 103/103 [00:30<00:00,  3.34it/s]\n",
      "Epoch 28 - Validation: 100%|██████████| 26/26 [00:02<00:00, 10.19it/s]\n"
     ]
    },
    {
     "name": "stdout",
     "output_type": "stream",
     "text": [
      "Iteration 18 - Epoch 28:\n",
      "  Train Acc = 0.9960, Train Prec = 0.9960, Train Rec = 0.9960, Train F-Beta = 0.9960, Train Loss = 0.0190\n",
      "  Val Acc = 0.9451, Val Prec = 0.9477, Val Rec = 0.9451, Val F-Beta = 0.9464, Val Loss = 0.3203\n"
     ]
    },
    {
     "name": "stderr",
     "output_type": "stream",
     "text": [
      "Epoch 29 - Training: 100%|██████████| 103/103 [00:30<00:00,  3.34it/s]\n",
      "Epoch 29 - Validation: 100%|██████████| 26/26 [00:02<00:00, 10.19it/s]\n"
     ]
    },
    {
     "name": "stdout",
     "output_type": "stream",
     "text": [
      "Iteration 18 - Epoch 29:\n",
      "  Train Acc = 0.9982, Train Prec = 0.9982, Train Rec = 0.9982, Train F-Beta = 0.9982, Train Loss = 0.0097\n",
      "  Val Acc = 0.9475, Val Prec = 0.9507, Val Rec = 0.9475, Val F-Beta = 0.9491, Val Loss = 0.3298\n"
     ]
    },
    {
     "name": "stderr",
     "output_type": "stream",
     "text": [
      "Epoch 30 - Training: 100%|██████████| 103/103 [00:30<00:00,  3.34it/s]\n",
      "Epoch 30 - Validation: 100%|██████████| 26/26 [00:02<00:00, 10.17it/s]\n"
     ]
    },
    {
     "name": "stdout",
     "output_type": "stream",
     "text": [
      "Iteration 18 - Epoch 30:\n",
      "  Train Acc = 0.9994, Train Prec = 0.9994, Train Rec = 0.9994, Train F-Beta = 0.9994, Train Loss = 0.0035\n",
      "  Val Acc = 0.9463, Val Prec = 0.9485, Val Rec = 0.9463, Val F-Beta = 0.9472, Val Loss = 0.3465\n"
     ]
    },
    {
     "name": "stderr",
     "output_type": "stream",
     "text": [
      "Epoch 31 - Training: 100%|██████████| 103/103 [00:30<00:00,  3.34it/s]\n",
      "Epoch 31 - Validation: 100%|██████████| 26/26 [00:02<00:00, 10.20it/s]\n"
     ]
    },
    {
     "name": "stdout",
     "output_type": "stream",
     "text": [
      "Iteration 18 - Epoch 31:\n",
      "  Train Acc = 1.0000, Train Prec = 1.0000, Train Rec = 1.0000, Train F-Beta = 1.0000, Train Loss = 0.0015\n",
      "  Val Acc = 0.9463, Val Prec = 0.9486, Val Rec = 0.9463, Val F-Beta = 0.9474, Val Loss = 0.3303\n"
     ]
    },
    {
     "name": "stderr",
     "output_type": "stream",
     "text": [
      "Epoch 32 - Training: 100%|██████████| 103/103 [00:30<00:00,  3.34it/s]\n",
      "Epoch 32 - Validation: 100%|██████████| 26/26 [00:02<00:00, 10.19it/s]\n"
     ]
    },
    {
     "name": "stdout",
     "output_type": "stream",
     "text": [
      "Iteration 18 - Epoch 32:\n",
      "  Train Acc = 0.9991, Train Prec = 0.9991, Train Rec = 0.9991, Train F-Beta = 0.9991, Train Loss = 0.0049\n",
      "  Val Acc = 0.9475, Val Prec = 0.9495, Val Rec = 0.9475, Val F-Beta = 0.9484, Val Loss = 0.3265\n"
     ]
    },
    {
     "name": "stderr",
     "output_type": "stream",
     "text": [
      "Epoch 33 - Training: 100%|██████████| 103/103 [00:30<00:00,  3.34it/s]\n",
      "Epoch 33 - Validation: 100%|██████████| 26/26 [00:02<00:00, 10.20it/s]\n"
     ]
    },
    {
     "name": "stdout",
     "output_type": "stream",
     "text": [
      "Iteration 18 - Epoch 33:\n",
      "  Train Acc = 0.9942, Train Prec = 0.9942, Train Rec = 0.9942, Train F-Beta = 0.9942, Train Loss = 0.0227\n",
      "  Val Acc = 0.9402, Val Prec = 0.9412, Val Rec = 0.9402, Val F-Beta = 0.9404, Val Loss = 0.3796\n"
     ]
    },
    {
     "name": "stderr",
     "output_type": "stream",
     "text": [
      "Epoch 34 - Training: 100%|██████████| 103/103 [00:30<00:00,  3.34it/s]\n",
      "Epoch 34 - Validation: 100%|██████████| 26/26 [00:02<00:00, 10.19it/s]\n"
     ]
    },
    {
     "name": "stdout",
     "output_type": "stream",
     "text": [
      "Iteration 18 - Epoch 34:\n",
      "  Train Acc = 0.9979, Train Prec = 0.9979, Train Rec = 0.9979, Train F-Beta = 0.9979, Train Loss = 0.0090\n",
      "  Val Acc = 0.9451, Val Prec = 0.9467, Val Rec = 0.9451, Val F-Beta = 0.9456, Val Loss = 0.3376\n"
     ]
    },
    {
     "name": "stderr",
     "output_type": "stream",
     "text": [
      "Epoch 35 - Training: 100%|██████████| 103/103 [00:30<00:00,  3.34it/s]\n",
      "Epoch 35 - Validation: 100%|██████████| 26/26 [00:02<00:00, 10.20it/s]\n"
     ]
    },
    {
     "name": "stdout",
     "output_type": "stream",
     "text": [
      "Iteration 18 - Epoch 35:\n",
      "  Train Acc = 0.9988, Train Prec = 0.9988, Train Rec = 0.9988, Train F-Beta = 0.9988, Train Loss = 0.0053\n",
      "  Val Acc = 0.9463, Val Prec = 0.9474, Val Rec = 0.9463, Val F-Beta = 0.9468, Val Loss = 0.3365\n"
     ]
    },
    {
     "name": "stderr",
     "output_type": "stream",
     "text": [
      "Epoch 36 - Training: 100%|██████████| 103/103 [00:30<00:00,  3.34it/s]\n",
      "Epoch 36 - Validation: 100%|██████████| 26/26 [00:02<00:00, 10.19it/s]\n"
     ]
    },
    {
     "name": "stdout",
     "output_type": "stream",
     "text": [
      "Iteration 18 - Epoch 36:\n",
      "  Train Acc = 0.9994, Train Prec = 0.9994, Train Rec = 0.9994, Train F-Beta = 0.9994, Train Loss = 0.0053\n",
      "  Val Acc = 0.9414, Val Prec = 0.9427, Val Rec = 0.9414, Val F-Beta = 0.9418, Val Loss = 0.3763\n"
     ]
    },
    {
     "name": "stderr",
     "output_type": "stream",
     "text": [
      "Epoch 37 - Training: 100%|██████████| 103/103 [00:30<00:00,  3.34it/s]\n",
      "Epoch 37 - Validation: 100%|██████████| 26/26 [00:02<00:00, 10.18it/s]\n"
     ]
    },
    {
     "name": "stdout",
     "output_type": "stream",
     "text": [
      "Iteration 18 - Epoch 37:\n",
      "  Train Acc = 0.9976, Train Prec = 0.9976, Train Rec = 0.9976, Train F-Beta = 0.9976, Train Loss = 0.0058\n",
      "  Val Acc = 0.9280, Val Prec = 0.9335, Val Rec = 0.9280, Val F-Beta = 0.9294, Val Loss = 0.4588\n"
     ]
    },
    {
     "name": "stderr",
     "output_type": "stream",
     "text": [
      "Epoch 38 - Training: 100%|██████████| 103/103 [00:30<00:00,  3.34it/s]\n",
      "Epoch 38 - Validation: 100%|██████████| 26/26 [00:02<00:00, 10.19it/s]\n"
     ]
    },
    {
     "name": "stdout",
     "output_type": "stream",
     "text": [
      "Iteration 18 - Epoch 38:\n",
      "  Train Acc = 0.9966, Train Prec = 0.9967, Train Rec = 0.9966, Train F-Beta = 0.9967, Train Loss = 0.0149\n",
      "  Val Acc = 0.9426, Val Prec = 0.9480, Val Rec = 0.9426, Val F-Beta = 0.9456, Val Loss = 0.4202\n"
     ]
    },
    {
     "name": "stderr",
     "output_type": "stream",
     "text": [
      "Epoch 39 - Training: 100%|██████████| 103/103 [00:30<00:00,  3.34it/s]\n",
      "Epoch 39 - Validation: 100%|██████████| 26/26 [00:02<00:00, 10.17it/s]\n"
     ]
    },
    {
     "name": "stdout",
     "output_type": "stream",
     "text": [
      "Iteration 18 - Epoch 39:\n",
      "  Train Acc = 0.9985, Train Prec = 0.9985, Train Rec = 0.9985, Train F-Beta = 0.9985, Train Loss = 0.0061\n",
      "  Val Acc = 0.9353, Val Prec = 0.9377, Val Rec = 0.9353, Val F-Beta = 0.9360, Val Loss = 0.4289\n"
     ]
    },
    {
     "name": "stderr",
     "output_type": "stream",
     "text": [
      "Epoch 40 - Training: 100%|██████████| 103/103 [00:30<00:00,  3.34it/s]\n",
      "Epoch 40 - Validation: 100%|██████████| 26/26 [00:02<00:00, 10.19it/s]\n"
     ]
    },
    {
     "name": "stdout",
     "output_type": "stream",
     "text": [
      "Iteration 18 - Epoch 40:\n",
      "  Train Acc = 0.9939, Train Prec = 0.9939, Train Rec = 0.9939, Train F-Beta = 0.9939, Train Loss = 0.0309\n",
      "  Val Acc = 0.9524, Val Prec = 0.9537, Val Rec = 0.9524, Val F-Beta = 0.9530, Val Loss = 0.3205\n",
      "Iteration 19/20\n"
     ]
    },
    {
     "name": "stderr",
     "output_type": "stream",
     "text": [
      "Some weights of ElectraForSequenceClassification were not initialized from the model checkpoint at beomi/KcELECTRA-base-v2022 and are newly initialized: ['classifier.dense.bias', 'classifier.dense.weight', 'classifier.out_proj.bias', 'classifier.out_proj.weight']\n",
      "You should probably TRAIN this model on a down-stream task to be able to use it for predictions and inference.\n",
      "Epoch 1 - Training: 100%|██████████| 103/103 [00:30<00:00,  3.34it/s]\n",
      "Epoch 1 - Validation: 100%|██████████| 26/26 [00:02<00:00, 10.18it/s]\n"
     ]
    },
    {
     "name": "stdout",
     "output_type": "stream",
     "text": [
      "Iteration 19 - Epoch 1:\n",
      "  Train Acc = 0.2708, Train Prec = 0.3223, Train Rec = 0.2708, Train F-Beta = 0.1782, Train Loss = 2.2951\n",
      "  Val Acc = 0.4591, Val Prec = 0.4823, Val Rec = 0.4591, Val F-Beta = 0.3319, Val Loss = 1.8224\n"
     ]
    },
    {
     "name": "stderr",
     "output_type": "stream",
     "text": [
      "Epoch 2 - Training: 100%|██████████| 103/103 [00:30<00:00,  3.34it/s]\n",
      "Epoch 2 - Validation: 100%|██████████| 26/26 [00:02<00:00, 10.20it/s]\n"
     ]
    },
    {
     "name": "stdout",
     "output_type": "stream",
     "text": [
      "Iteration 19 - Epoch 2:\n",
      "  Train Acc = 0.6214, Train Prec = 0.6467, Train Rec = 0.6214, Train F-Beta = 0.5501, Train Loss = 1.3830\n",
      "  Val Acc = 0.7631, Val Prec = 0.7578, Val Rec = 0.7631, Val F-Beta = 0.7365, Val Loss = 0.9977\n"
     ]
    },
    {
     "name": "stderr",
     "output_type": "stream",
     "text": [
      "Epoch 3 - Training: 100%|██████████| 103/103 [00:30<00:00,  3.34it/s]\n",
      "Epoch 3 - Validation: 100%|██████████| 26/26 [00:02<00:00, 10.19it/s]\n"
     ]
    },
    {
     "name": "stdout",
     "output_type": "stream",
     "text": [
      "Iteration 19 - Epoch 3:\n",
      "  Train Acc = 0.8537, Train Prec = 0.8658, Train Rec = 0.8537, Train F-Beta = 0.8523, Train Loss = 0.7263\n",
      "  Val Acc = 0.8901, Val Prec = 0.8969, Val Rec = 0.8901, Val F-Beta = 0.8923, Val Loss = 0.5127\n"
     ]
    },
    {
     "name": "stderr",
     "output_type": "stream",
     "text": [
      "Epoch 4 - Training: 100%|██████████| 103/103 [00:30<00:00,  3.34it/s]\n",
      "Epoch 4 - Validation: 100%|██████████| 26/26 [00:02<00:00, 10.19it/s]\n"
     ]
    },
    {
     "name": "stdout",
     "output_type": "stream",
     "text": [
      "Iteration 19 - Epoch 4:\n",
      "  Train Acc = 0.9502, Train Prec = 0.9504, Train Rec = 0.9502, Train F-Beta = 0.9501, Train Loss = 0.3397\n",
      "  Val Acc = 0.9402, Val Prec = 0.9409, Val Rec = 0.9402, Val F-Beta = 0.9403, Val Loss = 0.2951\n"
     ]
    },
    {
     "name": "stderr",
     "output_type": "stream",
     "text": [
      "Epoch 5 - Training: 100%|██████████| 103/103 [00:30<00:00,  3.34it/s]\n",
      "Epoch 5 - Validation: 100%|██████████| 26/26 [00:02<00:00, 10.19it/s]\n"
     ]
    },
    {
     "name": "stdout",
     "output_type": "stream",
     "text": [
      "Iteration 19 - Epoch 5:\n",
      "  Train Acc = 0.9740, Train Prec = 0.9741, Train Rec = 0.9740, Train F-Beta = 0.9741, Train Loss = 0.1817\n",
      "  Val Acc = 0.9377, Val Prec = 0.9397, Val Rec = 0.9377, Val F-Beta = 0.9387, Val Loss = 0.2834\n"
     ]
    },
    {
     "name": "stderr",
     "output_type": "stream",
     "text": [
      "Epoch 6 - Training: 100%|██████████| 103/103 [00:30<00:00,  3.34it/s]\n",
      "Epoch 6 - Validation: 100%|██████████| 26/26 [00:02<00:00, 10.19it/s]\n"
     ]
    },
    {
     "name": "stdout",
     "output_type": "stream",
     "text": [
      "Iteration 19 - Epoch 6:\n",
      "  Train Acc = 0.9826, Train Prec = 0.9826, Train Rec = 0.9826, Train F-Beta = 0.9826, Train Loss = 0.1176\n",
      "  Val Acc = 0.9304, Val Prec = 0.9329, Val Rec = 0.9304, Val F-Beta = 0.9316, Val Loss = 0.2674\n"
     ]
    },
    {
     "name": "stderr",
     "output_type": "stream",
     "text": [
      "Epoch 7 - Training: 100%|██████████| 103/103 [00:30<00:00,  3.34it/s]\n",
      "Epoch 7 - Validation: 100%|██████████| 26/26 [00:02<00:00, 10.19it/s]\n"
     ]
    },
    {
     "name": "stdout",
     "output_type": "stream",
     "text": [
      "Iteration 19 - Epoch 7:\n",
      "  Train Acc = 0.9875, Train Prec = 0.9875, Train Rec = 0.9875, Train F-Beta = 0.9875, Train Loss = 0.0862\n",
      "  Val Acc = 0.9438, Val Prec = 0.9451, Val Rec = 0.9438, Val F-Beta = 0.9442, Val Loss = 0.2630\n"
     ]
    },
    {
     "name": "stderr",
     "output_type": "stream",
     "text": [
      "Epoch 8 - Training: 100%|██████████| 103/103 [00:30<00:00,  3.34it/s]\n",
      "Epoch 8 - Validation: 100%|██████████| 26/26 [00:02<00:00, 10.20it/s]\n"
     ]
    },
    {
     "name": "stdout",
     "output_type": "stream",
     "text": [
      "Iteration 19 - Epoch 8:\n",
      "  Train Acc = 0.9911, Train Prec = 0.9912, Train Rec = 0.9911, Train F-Beta = 0.9912, Train Loss = 0.0595\n",
      "  Val Acc = 0.9451, Val Prec = 0.9464, Val Rec = 0.9451, Val F-Beta = 0.9455, Val Loss = 0.2498\n"
     ]
    },
    {
     "name": "stderr",
     "output_type": "stream",
     "text": [
      "Epoch 9 - Training: 100%|██████████| 103/103 [00:30<00:00,  3.34it/s]\n",
      "Epoch 9 - Validation: 100%|██████████| 26/26 [00:02<00:00, 10.20it/s]\n"
     ]
    },
    {
     "name": "stdout",
     "output_type": "stream",
     "text": [
      "Iteration 19 - Epoch 9:\n",
      "  Train Acc = 0.9921, Train Prec = 0.9921, Train Rec = 0.9921, Train F-Beta = 0.9921, Train Loss = 0.0525\n",
      "  Val Acc = 0.9402, Val Prec = 0.9419, Val Rec = 0.9402, Val F-Beta = 0.9407, Val Loss = 0.2931\n"
     ]
    },
    {
     "name": "stderr",
     "output_type": "stream",
     "text": [
      "Epoch 10 - Training: 100%|██████████| 103/103 [00:30<00:00,  3.34it/s]\n",
      "Epoch 10 - Validation: 100%|██████████| 26/26 [00:02<00:00, 10.18it/s]\n"
     ]
    },
    {
     "name": "stdout",
     "output_type": "stream",
     "text": [
      "Iteration 19 - Epoch 10:\n",
      "  Train Acc = 0.9921, Train Prec = 0.9921, Train Rec = 0.9921, Train F-Beta = 0.9921, Train Loss = 0.0418\n",
      "  Val Acc = 0.9353, Val Prec = 0.9404, Val Rec = 0.9353, Val F-Beta = 0.9377, Val Loss = 0.3178\n"
     ]
    },
    {
     "name": "stderr",
     "output_type": "stream",
     "text": [
      "Epoch 11 - Training: 100%|██████████| 103/103 [00:30<00:00,  3.34it/s]\n",
      "Epoch 11 - Validation: 100%|██████████| 26/26 [00:02<00:00, 10.21it/s]\n"
     ]
    },
    {
     "name": "stdout",
     "output_type": "stream",
     "text": [
      "Iteration 19 - Epoch 11:\n",
      "  Train Acc = 0.9945, Train Prec = 0.9945, Train Rec = 0.9945, Train F-Beta = 0.9945, Train Loss = 0.0362\n",
      "  Val Acc = 0.9463, Val Prec = 0.9466, Val Rec = 0.9463, Val F-Beta = 0.9461, Val Loss = 0.2685\n"
     ]
    },
    {
     "name": "stderr",
     "output_type": "stream",
     "text": [
      "Epoch 12 - Training: 100%|██████████| 103/103 [00:30<00:00,  3.34it/s]\n",
      "Epoch 12 - Validation: 100%|██████████| 26/26 [00:02<00:00, 10.20it/s]\n"
     ]
    },
    {
     "name": "stdout",
     "output_type": "stream",
     "text": [
      "Iteration 19 - Epoch 12:\n",
      "  Train Acc = 0.9948, Train Prec = 0.9948, Train Rec = 0.9948, Train F-Beta = 0.9948, Train Loss = 0.0320\n",
      "  Val Acc = 0.9499, Val Prec = 0.9523, Val Rec = 0.9499, Val F-Beta = 0.9507, Val Loss = 0.2804\n",
      "  Better model saved with 0.9507 F-beta score.\n"
     ]
    },
    {
     "name": "stderr",
     "output_type": "stream",
     "text": [
      "Epoch 13 - Training: 100%|██████████| 103/103 [00:30<00:00,  3.34it/s]\n",
      "Epoch 13 - Validation: 100%|██████████| 26/26 [00:02<00:00, 10.20it/s]\n"
     ]
    },
    {
     "name": "stdout",
     "output_type": "stream",
     "text": [
      "Iteration 19 - Epoch 13:\n",
      "  Train Acc = 0.9973, Train Prec = 0.9973, Train Rec = 0.9973, Train F-Beta = 0.9973, Train Loss = 0.0205\n",
      "  Val Acc = 0.9573, Val Prec = 0.9583, Val Rec = 0.9573, Val F-Beta = 0.9577, Val Loss = 0.2163\n",
      "  Better model saved with 0.9577 F-beta score.\n"
     ]
    },
    {
     "name": "stderr",
     "output_type": "stream",
     "text": [
      "Epoch 14 - Training: 100%|██████████| 103/103 [00:30<00:00,  3.34it/s]\n",
      "Epoch 14 - Validation: 100%|██████████| 26/26 [00:02<00:00, 10.19it/s]\n"
     ]
    },
    {
     "name": "stdout",
     "output_type": "stream",
     "text": [
      "Iteration 19 - Epoch 14:\n",
      "  Train Acc = 0.9973, Train Prec = 0.9973, Train Rec = 0.9973, Train F-Beta = 0.9973, Train Loss = 0.0167\n",
      "  Val Acc = 0.9487, Val Prec = 0.9514, Val Rec = 0.9487, Val F-Beta = 0.9502, Val Loss = 0.2688\n"
     ]
    },
    {
     "name": "stderr",
     "output_type": "stream",
     "text": [
      "Epoch 15 - Training: 100%|██████████| 103/103 [00:30<00:00,  3.34it/s]\n",
      "Epoch 15 - Validation: 100%|██████████| 26/26 [00:02<00:00, 10.19it/s]\n"
     ]
    },
    {
     "name": "stdout",
     "output_type": "stream",
     "text": [
      "Iteration 19 - Epoch 15:\n",
      "  Train Acc = 0.9991, Train Prec = 0.9991, Train Rec = 0.9991, Train F-Beta = 0.9991, Train Loss = 0.0128\n",
      "  Val Acc = 0.9548, Val Prec = 0.9558, Val Rec = 0.9548, Val F-Beta = 0.9553, Val Loss = 0.2474\n"
     ]
    },
    {
     "name": "stderr",
     "output_type": "stream",
     "text": [
      "Epoch 16 - Training: 100%|██████████| 103/103 [00:30<00:00,  3.34it/s]\n",
      "Epoch 16 - Validation: 100%|██████████| 26/26 [00:02<00:00, 10.18it/s]\n"
     ]
    },
    {
     "name": "stdout",
     "output_type": "stream",
     "text": [
      "Iteration 19 - Epoch 16:\n",
      "  Train Acc = 1.0000, Train Prec = 1.0000, Train Rec = 1.0000, Train F-Beta = 1.0000, Train Loss = 0.0058\n",
      "  Val Acc = 0.9573, Val Prec = 0.9577, Val Rec = 0.9573, Val F-Beta = 0.9573, Val Loss = 0.2412\n"
     ]
    },
    {
     "name": "stderr",
     "output_type": "stream",
     "text": [
      "Epoch 17 - Training: 100%|██████████| 103/103 [00:30<00:00,  3.34it/s]\n",
      "Epoch 17 - Validation: 100%|██████████| 26/26 [00:02<00:00, 10.19it/s]\n"
     ]
    },
    {
     "name": "stdout",
     "output_type": "stream",
     "text": [
      "Iteration 19 - Epoch 17:\n",
      "  Train Acc = 0.9969, Train Prec = 0.9969, Train Rec = 0.9969, Train F-Beta = 0.9969, Train Loss = 0.0182\n",
      "  Val Acc = 0.9585, Val Prec = 0.9595, Val Rec = 0.9585, Val F-Beta = 0.9590, Val Loss = 0.2274\n",
      "  Better model saved with 0.9590 F-beta score.\n"
     ]
    },
    {
     "name": "stderr",
     "output_type": "stream",
     "text": [
      "Epoch 18 - Training: 100%|██████████| 103/103 [00:30<00:00,  3.34it/s]\n",
      "Epoch 18 - Validation: 100%|██████████| 26/26 [00:02<00:00, 10.18it/s]\n"
     ]
    },
    {
     "name": "stdout",
     "output_type": "stream",
     "text": [
      "Iteration 19 - Epoch 18:\n",
      "  Train Acc = 0.9994, Train Prec = 0.9994, Train Rec = 0.9994, Train F-Beta = 0.9994, Train Loss = 0.0064\n",
      "  Val Acc = 0.9499, Val Prec = 0.9526, Val Rec = 0.9499, Val F-Beta = 0.9514, Val Loss = 0.2761\n"
     ]
    },
    {
     "name": "stderr",
     "output_type": "stream",
     "text": [
      "Epoch 19 - Training: 100%|██████████| 103/103 [00:30<00:00,  3.34it/s]\n",
      "Epoch 19 - Validation: 100%|██████████| 26/26 [00:02<00:00, 10.20it/s]\n"
     ]
    },
    {
     "name": "stdout",
     "output_type": "stream",
     "text": [
      "Iteration 19 - Epoch 19:\n",
      "  Train Acc = 0.9969, Train Prec = 0.9969, Train Rec = 0.9969, Train F-Beta = 0.9969, Train Loss = 0.0158\n",
      "  Val Acc = 0.9524, Val Prec = 0.9544, Val Rec = 0.9524, Val F-Beta = 0.9535, Val Loss = 0.2585\n"
     ]
    },
    {
     "name": "stderr",
     "output_type": "stream",
     "text": [
      "Epoch 20 - Training: 100%|██████████| 103/103 [00:30<00:00,  3.34it/s]\n",
      "Epoch 20 - Validation: 100%|██████████| 26/26 [00:02<00:00, 10.20it/s]\n"
     ]
    },
    {
     "name": "stdout",
     "output_type": "stream",
     "text": [
      "Iteration 19 - Epoch 20:\n",
      "  Train Acc = 0.9960, Train Prec = 0.9960, Train Rec = 0.9960, Train F-Beta = 0.9960, Train Loss = 0.0141\n",
      "  Val Acc = 0.9536, Val Prec = 0.9540, Val Rec = 0.9536, Val F-Beta = 0.9536, Val Loss = 0.2477\n"
     ]
    },
    {
     "name": "stderr",
     "output_type": "stream",
     "text": [
      "Epoch 21 - Training: 100%|██████████| 103/103 [00:30<00:00,  3.34it/s]\n",
      "Epoch 21 - Validation: 100%|██████████| 26/26 [00:02<00:00, 10.18it/s]\n"
     ]
    },
    {
     "name": "stdout",
     "output_type": "stream",
     "text": [
      "Iteration 19 - Epoch 21:\n",
      "  Train Acc = 0.9976, Train Prec = 0.9976, Train Rec = 0.9976, Train F-Beta = 0.9976, Train Loss = 0.0139\n",
      "  Val Acc = 0.9463, Val Prec = 0.9486, Val Rec = 0.9463, Val F-Beta = 0.9476, Val Loss = 0.2884\n"
     ]
    },
    {
     "name": "stderr",
     "output_type": "stream",
     "text": [
      "Epoch 22 - Training: 100%|██████████| 103/103 [00:30<00:00,  3.34it/s]\n",
      "Epoch 22 - Validation: 100%|██████████| 26/26 [00:02<00:00, 10.20it/s]\n"
     ]
    },
    {
     "name": "stdout",
     "output_type": "stream",
     "text": [
      "Iteration 19 - Epoch 22:\n",
      "  Train Acc = 0.9988, Train Prec = 0.9988, Train Rec = 0.9988, Train F-Beta = 0.9988, Train Loss = 0.0081\n",
      "  Val Acc = 0.9487, Val Prec = 0.9519, Val Rec = 0.9487, Val F-Beta = 0.9503, Val Loss = 0.2962\n"
     ]
    },
    {
     "name": "stderr",
     "output_type": "stream",
     "text": [
      "Epoch 23 - Training: 100%|██████████| 103/103 [00:30<00:00,  3.34it/s]\n",
      "Epoch 23 - Validation: 100%|██████████| 26/26 [00:02<00:00, 10.20it/s]\n"
     ]
    },
    {
     "name": "stdout",
     "output_type": "stream",
     "text": [
      "Iteration 19 - Epoch 23:\n",
      "  Train Acc = 0.9933, Train Prec = 0.9933, Train Rec = 0.9933, Train F-Beta = 0.9933, Train Loss = 0.0251\n",
      "  Val Acc = 0.9353, Val Prec = 0.9453, Val Rec = 0.9353, Val F-Beta = 0.9411, Val Loss = 0.3716\n"
     ]
    },
    {
     "name": "stderr",
     "output_type": "stream",
     "text": [
      "Epoch 24 - Training: 100%|██████████| 103/103 [00:30<00:00,  3.34it/s]\n",
      "Epoch 24 - Validation: 100%|██████████| 26/26 [00:02<00:00, 10.18it/s]\n"
     ]
    },
    {
     "name": "stdout",
     "output_type": "stream",
     "text": [
      "Iteration 19 - Epoch 24:\n",
      "  Train Acc = 0.9945, Train Prec = 0.9945, Train Rec = 0.9945, Train F-Beta = 0.9945, Train Loss = 0.0248\n",
      "  Val Acc = 0.9548, Val Prec = 0.9575, Val Rec = 0.9548, Val F-Beta = 0.9563, Val Loss = 0.2740\n"
     ]
    },
    {
     "name": "stderr",
     "output_type": "stream",
     "text": [
      "Epoch 25 - Training: 100%|██████████| 103/103 [00:30<00:00,  3.34it/s]\n",
      "Epoch 25 - Validation: 100%|██████████| 26/26 [00:02<00:00, 10.19it/s]\n"
     ]
    },
    {
     "name": "stdout",
     "output_type": "stream",
     "text": [
      "Iteration 19 - Epoch 25:\n",
      "  Train Acc = 0.9969, Train Prec = 0.9970, Train Rec = 0.9969, Train F-Beta = 0.9969, Train Loss = 0.0155\n",
      "  Val Acc = 0.9512, Val Prec = 0.9546, Val Rec = 0.9512, Val F-Beta = 0.9530, Val Loss = 0.3205\n"
     ]
    },
    {
     "name": "stderr",
     "output_type": "stream",
     "text": [
      "Epoch 26 - Training: 100%|██████████| 103/103 [00:30<00:00,  3.34it/s]\n",
      "Epoch 26 - Validation: 100%|██████████| 26/26 [00:02<00:00, 10.19it/s]\n"
     ]
    },
    {
     "name": "stdout",
     "output_type": "stream",
     "text": [
      "Iteration 19 - Epoch 26:\n",
      "  Train Acc = 0.9979, Train Prec = 0.9979, Train Rec = 0.9979, Train F-Beta = 0.9979, Train Loss = 0.0104\n",
      "  Val Acc = 0.9585, Val Prec = 0.9593, Val Rec = 0.9585, Val F-Beta = 0.9587, Val Loss = 0.2612\n"
     ]
    },
    {
     "name": "stderr",
     "output_type": "stream",
     "text": [
      "Epoch 27 - Training: 100%|██████████| 103/103 [00:30<00:00,  3.34it/s]\n",
      "Epoch 27 - Validation: 100%|██████████| 26/26 [00:02<00:00, 10.18it/s]\n"
     ]
    },
    {
     "name": "stdout",
     "output_type": "stream",
     "text": [
      "Iteration 19 - Epoch 27:\n",
      "  Train Acc = 0.9976, Train Prec = 0.9976, Train Rec = 0.9976, Train F-Beta = 0.9976, Train Loss = 0.0089\n",
      "  Val Acc = 0.9499, Val Prec = 0.9520, Val Rec = 0.9499, Val F-Beta = 0.9510, Val Loss = 0.2922\n"
     ]
    },
    {
     "name": "stderr",
     "output_type": "stream",
     "text": [
      "Epoch 28 - Training: 100%|██████████| 103/103 [00:30<00:00,  3.34it/s]\n",
      "Epoch 28 - Validation: 100%|██████████| 26/26 [00:02<00:00, 10.19it/s]\n"
     ]
    },
    {
     "name": "stdout",
     "output_type": "stream",
     "text": [
      "Iteration 19 - Epoch 28:\n",
      "  Train Acc = 0.9994, Train Prec = 0.9994, Train Rec = 0.9994, Train F-Beta = 0.9994, Train Loss = 0.0033\n",
      "  Val Acc = 0.9597, Val Prec = 0.9617, Val Rec = 0.9597, Val F-Beta = 0.9607, Val Loss = 0.2605\n",
      "  Better model saved with 0.9607 F-beta score.\n"
     ]
    },
    {
     "name": "stderr",
     "output_type": "stream",
     "text": [
      "Epoch 29 - Training: 100%|██████████| 103/103 [00:30<00:00,  3.34it/s]\n",
      "Epoch 29 - Validation: 100%|██████████| 26/26 [00:02<00:00, 10.17it/s]\n"
     ]
    },
    {
     "name": "stdout",
     "output_type": "stream",
     "text": [
      "Iteration 19 - Epoch 29:\n",
      "  Train Acc = 0.9973, Train Prec = 0.9973, Train Rec = 0.9973, Train F-Beta = 0.9973, Train Loss = 0.0182\n",
      "  Val Acc = 0.9512, Val Prec = 0.9540, Val Rec = 0.9512, Val F-Beta = 0.9526, Val Loss = 0.3164\n"
     ]
    },
    {
     "name": "stderr",
     "output_type": "stream",
     "text": [
      "Epoch 30 - Training: 100%|██████████| 103/103 [00:30<00:00,  3.34it/s]\n",
      "Epoch 30 - Validation: 100%|██████████| 26/26 [00:02<00:00, 10.18it/s]\n"
     ]
    },
    {
     "name": "stdout",
     "output_type": "stream",
     "text": [
      "Iteration 19 - Epoch 30:\n",
      "  Train Acc = 0.9973, Train Prec = 0.9973, Train Rec = 0.9973, Train F-Beta = 0.9972, Train Loss = 0.0144\n",
      "  Val Acc = 0.9548, Val Prec = 0.9564, Val Rec = 0.9548, Val F-Beta = 0.9554, Val Loss = 0.2973\n"
     ]
    },
    {
     "name": "stderr",
     "output_type": "stream",
     "text": [
      "Epoch 31 - Training: 100%|██████████| 103/103 [00:30<00:00,  3.34it/s]\n",
      "Epoch 31 - Validation: 100%|██████████| 26/26 [00:02<00:00, 10.18it/s]\n"
     ]
    },
    {
     "name": "stdout",
     "output_type": "stream",
     "text": [
      "Iteration 19 - Epoch 31:\n",
      "  Train Acc = 0.9997, Train Prec = 0.9997, Train Rec = 0.9997, Train F-Beta = 0.9997, Train Loss = 0.0042\n",
      "  Val Acc = 0.9548, Val Prec = 0.9557, Val Rec = 0.9548, Val F-Beta = 0.9551, Val Loss = 0.2914\n"
     ]
    },
    {
     "name": "stderr",
     "output_type": "stream",
     "text": [
      "Epoch 32 - Training: 100%|██████████| 103/103 [00:30<00:00,  3.34it/s]\n",
      "Epoch 32 - Validation: 100%|██████████| 26/26 [00:02<00:00, 10.19it/s]\n"
     ]
    },
    {
     "name": "stdout",
     "output_type": "stream",
     "text": [
      "Iteration 19 - Epoch 32:\n",
      "  Train Acc = 0.9985, Train Prec = 0.9985, Train Rec = 0.9985, Train F-Beta = 0.9985, Train Loss = 0.0066\n",
      "  Val Acc = 0.9402, Val Prec = 0.9442, Val Rec = 0.9402, Val F-Beta = 0.9420, Val Loss = 0.3970\n"
     ]
    },
    {
     "name": "stderr",
     "output_type": "stream",
     "text": [
      "Epoch 33 - Training: 100%|██████████| 103/103 [00:30<00:00,  3.34it/s]\n",
      "Epoch 33 - Validation: 100%|██████████| 26/26 [00:02<00:00, 10.18it/s]\n"
     ]
    },
    {
     "name": "stdout",
     "output_type": "stream",
     "text": [
      "Iteration 19 - Epoch 33:\n",
      "  Train Acc = 0.9927, Train Prec = 0.9927, Train Rec = 0.9927, Train F-Beta = 0.9927, Train Loss = 0.0277\n",
      "  Val Acc = 0.9353, Val Prec = 0.9393, Val Rec = 0.9353, Val F-Beta = 0.9368, Val Loss = 0.3928\n"
     ]
    },
    {
     "name": "stderr",
     "output_type": "stream",
     "text": [
      "Epoch 34 - Training: 100%|██████████| 103/103 [00:30<00:00,  3.34it/s]\n",
      "Epoch 34 - Validation: 100%|██████████| 26/26 [00:02<00:00, 10.20it/s]\n"
     ]
    },
    {
     "name": "stdout",
     "output_type": "stream",
     "text": [
      "Iteration 19 - Epoch 34:\n",
      "  Train Acc = 0.9927, Train Prec = 0.9927, Train Rec = 0.9927, Train F-Beta = 0.9927, Train Loss = 0.0336\n",
      "  Val Acc = 0.9512, Val Prec = 0.9523, Val Rec = 0.9512, Val F-Beta = 0.9518, Val Loss = 0.2935\n"
     ]
    },
    {
     "name": "stderr",
     "output_type": "stream",
     "text": [
      "Epoch 35 - Training: 100%|██████████| 103/103 [00:30<00:00,  3.34it/s]\n",
      "Epoch 35 - Validation: 100%|██████████| 26/26 [00:02<00:00, 10.19it/s]\n"
     ]
    },
    {
     "name": "stdout",
     "output_type": "stream",
     "text": [
      "Iteration 19 - Epoch 35:\n",
      "  Train Acc = 0.9973, Train Prec = 0.9973, Train Rec = 0.9973, Train F-Beta = 0.9973, Train Loss = 0.0152\n",
      "  Val Acc = 0.9573, Val Prec = 0.9577, Val Rec = 0.9573, Val F-Beta = 0.9575, Val Loss = 0.2672\n"
     ]
    },
    {
     "name": "stderr",
     "output_type": "stream",
     "text": [
      "Epoch 36 - Training: 100%|██████████| 103/103 [00:30<00:00,  3.34it/s]\n",
      "Epoch 36 - Validation: 100%|██████████| 26/26 [00:02<00:00, 10.19it/s]\n"
     ]
    },
    {
     "name": "stdout",
     "output_type": "stream",
     "text": [
      "Iteration 19 - Epoch 36:\n",
      "  Train Acc = 0.9988, Train Prec = 0.9988, Train Rec = 0.9988, Train F-Beta = 0.9988, Train Loss = 0.0109\n",
      "  Val Acc = 0.9536, Val Prec = 0.9537, Val Rec = 0.9536, Val F-Beta = 0.9534, Val Loss = 0.2711\n"
     ]
    },
    {
     "name": "stderr",
     "output_type": "stream",
     "text": [
      "Epoch 37 - Training: 100%|██████████| 103/103 [00:30<00:00,  3.34it/s]\n",
      "Epoch 37 - Validation: 100%|██████████| 26/26 [00:02<00:00, 10.18it/s]\n"
     ]
    },
    {
     "name": "stdout",
     "output_type": "stream",
     "text": [
      "Iteration 19 - Epoch 37:\n",
      "  Train Acc = 0.9997, Train Prec = 0.9997, Train Rec = 0.9997, Train F-Beta = 0.9997, Train Loss = 0.0036\n",
      "  Val Acc = 0.9560, Val Prec = 0.9564, Val Rec = 0.9560, Val F-Beta = 0.9561, Val Loss = 0.2801\n"
     ]
    },
    {
     "name": "stderr",
     "output_type": "stream",
     "text": [
      "Epoch 38 - Training: 100%|██████████| 103/103 [00:30<00:00,  3.34it/s]\n",
      "Epoch 38 - Validation: 100%|██████████| 26/26 [00:02<00:00, 10.19it/s]\n"
     ]
    },
    {
     "name": "stdout",
     "output_type": "stream",
     "text": [
      "Iteration 19 - Epoch 38:\n",
      "  Train Acc = 0.9957, Train Prec = 0.9957, Train Rec = 0.9957, Train F-Beta = 0.9957, Train Loss = 0.0212\n",
      "  Val Acc = 0.9499, Val Prec = 0.9520, Val Rec = 0.9499, Val F-Beta = 0.9506, Val Loss = 0.3027\n"
     ]
    },
    {
     "name": "stderr",
     "output_type": "stream",
     "text": [
      "Epoch 39 - Training: 100%|██████████| 103/103 [00:30<00:00,  3.34it/s]\n",
      "Epoch 39 - Validation: 100%|██████████| 26/26 [00:02<00:00, 10.19it/s]\n"
     ]
    },
    {
     "name": "stdout",
     "output_type": "stream",
     "text": [
      "Iteration 19 - Epoch 39:\n",
      "  Train Acc = 0.9979, Train Prec = 0.9979, Train Rec = 0.9979, Train F-Beta = 0.9979, Train Loss = 0.0141\n",
      "  Val Acc = 0.9536, Val Prec = 0.9542, Val Rec = 0.9536, Val F-Beta = 0.9537, Val Loss = 0.3025\n"
     ]
    },
    {
     "name": "stderr",
     "output_type": "stream",
     "text": [
      "Epoch 40 - Training: 100%|██████████| 103/103 [00:30<00:00,  3.34it/s]\n",
      "Epoch 40 - Validation: 100%|██████████| 26/26 [00:02<00:00, 10.18it/s]\n"
     ]
    },
    {
     "name": "stdout",
     "output_type": "stream",
     "text": [
      "Iteration 19 - Epoch 40:\n",
      "  Train Acc = 0.9994, Train Prec = 0.9994, Train Rec = 0.9994, Train F-Beta = 0.9994, Train Loss = 0.0035\n",
      "  Val Acc = 0.9560, Val Prec = 0.9564, Val Rec = 0.9560, Val F-Beta = 0.9560, Val Loss = 0.2855\n",
      "Iteration 20/20\n"
     ]
    },
    {
     "name": "stderr",
     "output_type": "stream",
     "text": [
      "Some weights of ElectraForSequenceClassification were not initialized from the model checkpoint at beomi/KcELECTRA-base-v2022 and are newly initialized: ['classifier.dense.bias', 'classifier.dense.weight', 'classifier.out_proj.bias', 'classifier.out_proj.weight']\n",
      "You should probably TRAIN this model on a down-stream task to be able to use it for predictions and inference.\n",
      "Epoch 1 - Training: 100%|██████████| 103/103 [00:30<00:00,  3.34it/s]\n",
      "Epoch 1 - Validation: 100%|██████████| 26/26 [00:02<00:00, 10.20it/s]\n"
     ]
    },
    {
     "name": "stdout",
     "output_type": "stream",
     "text": [
      "Iteration 20 - Epoch 1:\n",
      "  Train Acc = 0.2907, Train Prec = 0.2481, Train Rec = 0.2907, Train F-Beta = 0.1677, Train Loss = 2.2925\n",
      "  Val Acc = 0.5104, Val Prec = 0.3354, Val Rec = 0.5104, Val F-Beta = 0.3456, Val Loss = 1.7932\n"
     ]
    },
    {
     "name": "stderr",
     "output_type": "stream",
     "text": [
      "Epoch 2 - Training: 100%|██████████| 103/103 [00:30<00:00,  3.34it/s]\n",
      "Epoch 2 - Validation: 100%|██████████| 26/26 [00:02<00:00, 10.18it/s]\n"
     ]
    },
    {
     "name": "stdout",
     "output_type": "stream",
     "text": [
      "Iteration 20 - Epoch 2:\n",
      "  Train Acc = 0.6205, Train Prec = 0.6317, Train Rec = 0.6205, Train F-Beta = 0.5473, Train Loss = 1.3843\n",
      "  Val Acc = 0.7228, Val Prec = 0.6690, Val Rec = 0.7228, Val F-Beta = 0.6602, Val Loss = 1.0029\n"
     ]
    },
    {
     "name": "stderr",
     "output_type": "stream",
     "text": [
      "Epoch 3 - Training: 100%|██████████| 103/103 [00:30<00:00,  3.34it/s]\n",
      "Epoch 3 - Validation: 100%|██████████| 26/26 [00:02<00:00, 10.20it/s]\n"
     ]
    },
    {
     "name": "stdout",
     "output_type": "stream",
     "text": [
      "Iteration 20 - Epoch 3:\n",
      "  Train Acc = 0.8354, Train Prec = 0.8529, Train Rec = 0.8354, Train F-Beta = 0.8223, Train Loss = 0.7241\n",
      "  Val Acc = 0.8718, Val Prec = 0.8889, Val Rec = 0.8718, Val F-Beta = 0.8724, Val Loss = 0.4830\n"
     ]
    },
    {
     "name": "stderr",
     "output_type": "stream",
     "text": [
      "Epoch 4 - Training: 100%|██████████| 103/103 [00:30<00:00,  3.34it/s]\n",
      "Epoch 4 - Validation: 100%|██████████| 26/26 [00:02<00:00, 10.19it/s]\n"
     ]
    },
    {
     "name": "stdout",
     "output_type": "stream",
     "text": [
      "Iteration 20 - Epoch 4:\n",
      "  Train Acc = 0.9420, Train Prec = 0.9430, Train Rec = 0.9420, Train F-Beta = 0.9417, Train Loss = 0.3540\n",
      "  Val Acc = 0.9304, Val Prec = 0.9337, Val Rec = 0.9304, Val F-Beta = 0.9323, Val Loss = 0.3141\n"
     ]
    },
    {
     "name": "stderr",
     "output_type": "stream",
     "text": [
      "Epoch 5 - Training: 100%|██████████| 103/103 [00:30<00:00,  3.34it/s]\n",
      "Epoch 5 - Validation: 100%|██████████| 26/26 [00:02<00:00, 10.18it/s]\n"
     ]
    },
    {
     "name": "stdout",
     "output_type": "stream",
     "text": [
      "Iteration 20 - Epoch 5:\n",
      "  Train Acc = 0.9624, Train Prec = 0.9624, Train Rec = 0.9624, Train F-Beta = 0.9624, Train Loss = 0.2090\n",
      "  Val Acc = 0.9304, Val Prec = 0.9351, Val Rec = 0.9304, Val F-Beta = 0.9321, Val Loss = 0.3055\n"
     ]
    },
    {
     "name": "stderr",
     "output_type": "stream",
     "text": [
      "Epoch 6 - Training: 100%|██████████| 103/103 [00:30<00:00,  3.34it/s]\n",
      "Epoch 6 - Validation: 100%|██████████| 26/26 [00:02<00:00, 10.19it/s]\n"
     ]
    },
    {
     "name": "stdout",
     "output_type": "stream",
     "text": [
      "Iteration 20 - Epoch 6:\n",
      "  Train Acc = 0.9744, Train Prec = 0.9744, Train Rec = 0.9744, Train F-Beta = 0.9744, Train Loss = 0.1416\n",
      "  Val Acc = 0.9512, Val Prec = 0.9525, Val Rec = 0.9512, Val F-Beta = 0.9518, Val Loss = 0.2178\n",
      "  Better model saved with 0.9518 F-beta score.\n"
     ]
    },
    {
     "name": "stderr",
     "output_type": "stream",
     "text": [
      "Epoch 7 - Training: 100%|██████████| 103/103 [00:30<00:00,  3.34it/s]\n",
      "Epoch 7 - Validation: 100%|██████████| 26/26 [00:02<00:00, 10.19it/s]\n"
     ]
    },
    {
     "name": "stdout",
     "output_type": "stream",
     "text": [
      "Iteration 20 - Epoch 7:\n",
      "  Train Acc = 0.9878, Train Prec = 0.9878, Train Rec = 0.9878, Train F-Beta = 0.9878, Train Loss = 0.0780\n",
      "  Val Acc = 0.9438, Val Prec = 0.9462, Val Rec = 0.9438, Val F-Beta = 0.9450, Val Loss = 0.2511\n"
     ]
    },
    {
     "name": "stderr",
     "output_type": "stream",
     "text": [
      "Epoch 8 - Training: 100%|██████████| 103/103 [00:30<00:00,  3.34it/s]\n",
      "Epoch 8 - Validation: 100%|██████████| 26/26 [00:02<00:00, 10.20it/s]\n"
     ]
    },
    {
     "name": "stdout",
     "output_type": "stream",
     "text": [
      "Iteration 20 - Epoch 8:\n",
      "  Train Acc = 0.9942, Train Prec = 0.9942, Train Rec = 0.9942, Train F-Beta = 0.9942, Train Loss = 0.0521\n",
      "  Val Acc = 0.9365, Val Prec = 0.9408, Val Rec = 0.9365, Val F-Beta = 0.9387, Val Loss = 0.2956\n"
     ]
    },
    {
     "name": "stderr",
     "output_type": "stream",
     "text": [
      "Epoch 9 - Training: 100%|██████████| 103/103 [00:30<00:00,  3.34it/s]\n",
      "Epoch 9 - Validation: 100%|██████████| 26/26 [00:02<00:00, 10.20it/s]\n"
     ]
    },
    {
     "name": "stdout",
     "output_type": "stream",
     "text": [
      "Iteration 20 - Epoch 9:\n",
      "  Train Acc = 0.9930, Train Prec = 0.9930, Train Rec = 0.9930, Train F-Beta = 0.9930, Train Loss = 0.0401\n",
      "  Val Acc = 0.9426, Val Prec = 0.9431, Val Rec = 0.9426, Val F-Beta = 0.9427, Val Loss = 0.2552\n"
     ]
    },
    {
     "name": "stderr",
     "output_type": "stream",
     "text": [
      "Epoch 10 - Training: 100%|██████████| 103/103 [00:30<00:00,  3.34it/s]\n",
      "Epoch 10 - Validation: 100%|██████████| 26/26 [00:02<00:00, 10.18it/s]\n"
     ]
    },
    {
     "name": "stdout",
     "output_type": "stream",
     "text": [
      "Iteration 20 - Epoch 10:\n",
      "  Train Acc = 0.9966, Train Prec = 0.9966, Train Rec = 0.9966, Train F-Beta = 0.9966, Train Loss = 0.0293\n",
      "  Val Acc = 0.9438, Val Prec = 0.9453, Val Rec = 0.9438, Val F-Beta = 0.9442, Val Loss = 0.2717\n"
     ]
    },
    {
     "name": "stderr",
     "output_type": "stream",
     "text": [
      "Epoch 11 - Training: 100%|██████████| 103/103 [00:30<00:00,  3.34it/s]\n",
      "Epoch 11 - Validation: 100%|██████████| 26/26 [00:02<00:00, 10.17it/s]\n"
     ]
    },
    {
     "name": "stdout",
     "output_type": "stream",
     "text": [
      "Iteration 20 - Epoch 11:\n",
      "  Train Acc = 0.9979, Train Prec = 0.9979, Train Rec = 0.9979, Train F-Beta = 0.9979, Train Loss = 0.0238\n",
      "  Val Acc = 0.9524, Val Prec = 0.9527, Val Rec = 0.9524, Val F-Beta = 0.9524, Val Loss = 0.2278\n",
      "  Better model saved with 0.9524 F-beta score.\n"
     ]
    },
    {
     "name": "stderr",
     "output_type": "stream",
     "text": [
      "Epoch 12 - Training: 100%|██████████| 103/103 [00:30<00:00,  3.34it/s]\n",
      "Epoch 12 - Validation: 100%|██████████| 26/26 [00:02<00:00, 10.20it/s]\n"
     ]
    },
    {
     "name": "stdout",
     "output_type": "stream",
     "text": [
      "Iteration 20 - Epoch 12:\n",
      "  Train Acc = 0.9982, Train Prec = 0.9982, Train Rec = 0.9982, Train F-Beta = 0.9982, Train Loss = 0.0170\n",
      "  Val Acc = 0.9536, Val Prec = 0.9544, Val Rec = 0.9536, Val F-Beta = 0.9538, Val Loss = 0.2234\n",
      "  Better model saved with 0.9538 F-beta score.\n"
     ]
    },
    {
     "name": "stderr",
     "output_type": "stream",
     "text": [
      "Epoch 13 - Training: 100%|██████████| 103/103 [00:30<00:00,  3.34it/s]\n",
      "Epoch 13 - Validation: 100%|██████████| 26/26 [00:02<00:00, 10.18it/s]\n"
     ]
    },
    {
     "name": "stdout",
     "output_type": "stream",
     "text": [
      "Iteration 20 - Epoch 13:\n",
      "  Train Acc = 0.9960, Train Prec = 0.9960, Train Rec = 0.9960, Train F-Beta = 0.9960, Train Loss = 0.0211\n",
      "  Val Acc = 0.9512, Val Prec = 0.9521, Val Rec = 0.9512, Val F-Beta = 0.9516, Val Loss = 0.2429\n"
     ]
    },
    {
     "name": "stderr",
     "output_type": "stream",
     "text": [
      "Epoch 14 - Training: 100%|██████████| 103/103 [00:30<00:00,  3.34it/s]\n",
      "Epoch 14 - Validation: 100%|██████████| 26/26 [00:02<00:00, 10.20it/s]\n"
     ]
    },
    {
     "name": "stdout",
     "output_type": "stream",
     "text": [
      "Iteration 20 - Epoch 14:\n",
      "  Train Acc = 0.9966, Train Prec = 0.9966, Train Rec = 0.9966, Train F-Beta = 0.9966, Train Loss = 0.0205\n",
      "  Val Acc = 0.9451, Val Prec = 0.9476, Val Rec = 0.9451, Val F-Beta = 0.9463, Val Loss = 0.2683\n"
     ]
    },
    {
     "name": "stderr",
     "output_type": "stream",
     "text": [
      "Epoch 15 - Training: 100%|██████████| 103/103 [00:30<00:00,  3.34it/s]\n",
      "Epoch 15 - Validation: 100%|██████████| 26/26 [00:02<00:00, 10.20it/s]\n"
     ]
    },
    {
     "name": "stdout",
     "output_type": "stream",
     "text": [
      "Iteration 20 - Epoch 15:\n",
      "  Train Acc = 0.9918, Train Prec = 0.9918, Train Rec = 0.9918, Train F-Beta = 0.9918, Train Loss = 0.0405\n",
      "  Val Acc = 0.9377, Val Prec = 0.9412, Val Rec = 0.9377, Val F-Beta = 0.9395, Val Loss = 0.3155\n"
     ]
    },
    {
     "name": "stderr",
     "output_type": "stream",
     "text": [
      "Epoch 16 - Training: 100%|██████████| 103/103 [00:30<00:00,  3.34it/s]\n",
      "Epoch 16 - Validation: 100%|██████████| 26/26 [00:02<00:00, 10.20it/s]\n"
     ]
    },
    {
     "name": "stdout",
     "output_type": "stream",
     "text": [
      "Iteration 20 - Epoch 16:\n",
      "  Train Acc = 0.9969, Train Prec = 0.9970, Train Rec = 0.9969, Train F-Beta = 0.9970, Train Loss = 0.0198\n",
      "  Val Acc = 0.9475, Val Prec = 0.9493, Val Rec = 0.9475, Val F-Beta = 0.9483, Val Loss = 0.2999\n"
     ]
    },
    {
     "name": "stderr",
     "output_type": "stream",
     "text": [
      "Epoch 17 - Training: 100%|██████████| 103/103 [00:30<00:00,  3.34it/s]\n",
      "Epoch 17 - Validation: 100%|██████████| 26/26 [00:02<00:00, 10.18it/s]\n"
     ]
    },
    {
     "name": "stdout",
     "output_type": "stream",
     "text": [
      "Iteration 20 - Epoch 17:\n",
      "  Train Acc = 0.9979, Train Prec = 0.9979, Train Rec = 0.9979, Train F-Beta = 0.9979, Train Loss = 0.0109\n",
      "  Val Acc = 0.9536, Val Prec = 0.9544, Val Rec = 0.9536, Val F-Beta = 0.9540, Val Loss = 0.2459\n",
      "  Better model saved with 0.9540 F-beta score.\n"
     ]
    },
    {
     "name": "stderr",
     "output_type": "stream",
     "text": [
      "Epoch 18 - Training: 100%|██████████| 103/103 [00:30<00:00,  3.34it/s]\n",
      "Epoch 18 - Validation: 100%|██████████| 26/26 [00:02<00:00, 10.20it/s]\n"
     ]
    },
    {
     "name": "stdout",
     "output_type": "stream",
     "text": [
      "Iteration 20 - Epoch 18:\n",
      "  Train Acc = 0.9985, Train Prec = 0.9985, Train Rec = 0.9985, Train F-Beta = 0.9985, Train Loss = 0.0129\n",
      "  Val Acc = 0.9524, Val Prec = 0.9530, Val Rec = 0.9524, Val F-Beta = 0.9526, Val Loss = 0.2611\n"
     ]
    },
    {
     "name": "stderr",
     "output_type": "stream",
     "text": [
      "Epoch 19 - Training: 100%|██████████| 103/103 [00:30<00:00,  3.34it/s]\n",
      "Epoch 19 - Validation: 100%|██████████| 26/26 [00:02<00:00, 10.20it/s]\n"
     ]
    },
    {
     "name": "stdout",
     "output_type": "stream",
     "text": [
      "Iteration 20 - Epoch 19:\n",
      "  Train Acc = 0.9982, Train Prec = 0.9982, Train Rec = 0.9982, Train F-Beta = 0.9982, Train Loss = 0.0127\n",
      "  Val Acc = 0.9451, Val Prec = 0.9470, Val Rec = 0.9451, Val F-Beta = 0.9459, Val Loss = 0.3044\n"
     ]
    },
    {
     "name": "stderr",
     "output_type": "stream",
     "text": [
      "Epoch 20 - Training: 100%|██████████| 103/103 [00:30<00:00,  3.34it/s]\n",
      "Epoch 20 - Validation: 100%|██████████| 26/26 [00:02<00:00, 10.19it/s]\n"
     ]
    },
    {
     "name": "stdout",
     "output_type": "stream",
     "text": [
      "Iteration 20 - Epoch 20:\n",
      "  Train Acc = 0.9930, Train Prec = 0.9930, Train Rec = 0.9930, Train F-Beta = 0.9930, Train Loss = 0.0296\n",
      "  Val Acc = 0.9377, Val Prec = 0.9418, Val Rec = 0.9377, Val F-Beta = 0.9399, Val Loss = 0.3242\n"
     ]
    },
    {
     "name": "stderr",
     "output_type": "stream",
     "text": [
      "Epoch 21 - Training: 100%|██████████| 103/103 [00:30<00:00,  3.34it/s]\n",
      "Epoch 21 - Validation: 100%|██████████| 26/26 [00:02<00:00, 10.18it/s]\n"
     ]
    },
    {
     "name": "stdout",
     "output_type": "stream",
     "text": [
      "Iteration 20 - Epoch 21:\n",
      "  Train Acc = 0.9976, Train Prec = 0.9976, Train Rec = 0.9976, Train F-Beta = 0.9976, Train Loss = 0.0129\n",
      "  Val Acc = 0.9426, Val Prec = 0.9455, Val Rec = 0.9426, Val F-Beta = 0.9443, Val Loss = 0.3309\n"
     ]
    },
    {
     "name": "stderr",
     "output_type": "stream",
     "text": [
      "Epoch 22 - Training: 100%|██████████| 103/103 [00:30<00:00,  3.34it/s]\n",
      "Epoch 22 - Validation: 100%|██████████| 26/26 [00:02<00:00, 10.20it/s]\n"
     ]
    },
    {
     "name": "stdout",
     "output_type": "stream",
     "text": [
      "Iteration 20 - Epoch 22:\n",
      "  Train Acc = 0.9927, Train Prec = 0.9927, Train Rec = 0.9927, Train F-Beta = 0.9927, Train Loss = 0.0260\n",
      "  Val Acc = 0.9499, Val Prec = 0.9510, Val Rec = 0.9499, Val F-Beta = 0.9505, Val Loss = 0.2943\n"
     ]
    },
    {
     "name": "stderr",
     "output_type": "stream",
     "text": [
      "Epoch 23 - Training: 100%|██████████| 103/103 [00:30<00:00,  3.34it/s]\n",
      "Epoch 23 - Validation: 100%|██████████| 26/26 [00:02<00:00, 10.20it/s]\n"
     ]
    },
    {
     "name": "stdout",
     "output_type": "stream",
     "text": [
      "Iteration 20 - Epoch 23:\n",
      "  Train Acc = 0.9973, Train Prec = 0.9973, Train Rec = 0.9973, Train F-Beta = 0.9973, Train Loss = 0.0120\n",
      "  Val Acc = 0.9512, Val Prec = 0.9518, Val Rec = 0.9512, Val F-Beta = 0.9513, Val Loss = 0.3009\n"
     ]
    },
    {
     "name": "stderr",
     "output_type": "stream",
     "text": [
      "Epoch 24 - Training: 100%|██████████| 103/103 [00:30<00:00,  3.34it/s]\n",
      "Epoch 24 - Validation: 100%|██████████| 26/26 [00:02<00:00, 10.20it/s]\n"
     ]
    },
    {
     "name": "stdout",
     "output_type": "stream",
     "text": [
      "Iteration 20 - Epoch 24:\n",
      "  Train Acc = 0.9957, Train Prec = 0.9957, Train Rec = 0.9957, Train F-Beta = 0.9957, Train Loss = 0.0189\n",
      "  Val Acc = 0.9451, Val Prec = 0.9464, Val Rec = 0.9451, Val F-Beta = 0.9454, Val Loss = 0.3533\n"
     ]
    },
    {
     "name": "stderr",
     "output_type": "stream",
     "text": [
      "Epoch 25 - Training: 100%|██████████| 103/103 [00:30<00:00,  3.34it/s]\n",
      "Epoch 25 - Validation: 100%|██████████| 26/26 [00:02<00:00, 10.19it/s]\n"
     ]
    },
    {
     "name": "stdout",
     "output_type": "stream",
     "text": [
      "Iteration 20 - Epoch 25:\n",
      "  Train Acc = 0.9988, Train Prec = 0.9988, Train Rec = 0.9988, Train F-Beta = 0.9988, Train Loss = 0.0078\n",
      "  Val Acc = 0.9426, Val Prec = 0.9427, Val Rec = 0.9426, Val F-Beta = 0.9424, Val Loss = 0.3241\n"
     ]
    },
    {
     "name": "stderr",
     "output_type": "stream",
     "text": [
      "Epoch 26 - Training: 100%|██████████| 103/103 [00:30<00:00,  3.34it/s]\n",
      "Epoch 26 - Validation: 100%|██████████| 26/26 [00:02<00:00, 10.18it/s]\n"
     ]
    },
    {
     "name": "stdout",
     "output_type": "stream",
     "text": [
      "Iteration 20 - Epoch 26:\n",
      "  Train Acc = 0.9988, Train Prec = 0.9988, Train Rec = 0.9988, Train F-Beta = 0.9988, Train Loss = 0.0071\n",
      "  Val Acc = 0.9487, Val Prec = 0.9494, Val Rec = 0.9487, Val F-Beta = 0.9489, Val Loss = 0.3149\n"
     ]
    },
    {
     "name": "stderr",
     "output_type": "stream",
     "text": [
      "Epoch 27 - Training: 100%|██████████| 103/103 [00:30<00:00,  3.34it/s]\n",
      "Epoch 27 - Validation: 100%|██████████| 26/26 [00:02<00:00, 10.19it/s]\n"
     ]
    },
    {
     "name": "stdout",
     "output_type": "stream",
     "text": [
      "Iteration 20 - Epoch 27:\n",
      "  Train Acc = 0.9979, Train Prec = 0.9979, Train Rec = 0.9979, Train F-Beta = 0.9979, Train Loss = 0.0104\n",
      "  Val Acc = 0.9451, Val Prec = 0.9466, Val Rec = 0.9451, Val F-Beta = 0.9457, Val Loss = 0.3498\n"
     ]
    },
    {
     "name": "stderr",
     "output_type": "stream",
     "text": [
      "Epoch 28 - Training: 100%|██████████| 103/103 [00:30<00:00,  3.34it/s]\n",
      "Epoch 28 - Validation: 100%|██████████| 26/26 [00:02<00:00, 10.20it/s]\n"
     ]
    },
    {
     "name": "stdout",
     "output_type": "stream",
     "text": [
      "Iteration 20 - Epoch 28:\n",
      "  Train Acc = 0.9988, Train Prec = 0.9988, Train Rec = 0.9988, Train F-Beta = 0.9988, Train Loss = 0.0059\n",
      "  Val Acc = 0.9402, Val Prec = 0.9430, Val Rec = 0.9402, Val F-Beta = 0.9414, Val Loss = 0.3831\n"
     ]
    },
    {
     "name": "stderr",
     "output_type": "stream",
     "text": [
      "Epoch 29 - Training: 100%|██████████| 103/103 [00:30<00:00,  3.34it/s]\n",
      "Epoch 29 - Validation: 100%|██████████| 26/26 [00:02<00:00, 10.19it/s]\n"
     ]
    },
    {
     "name": "stdout",
     "output_type": "stream",
     "text": [
      "Iteration 20 - Epoch 29:\n",
      "  Train Acc = 0.9969, Train Prec = 0.9969, Train Rec = 0.9969, Train F-Beta = 0.9969, Train Loss = 0.0152\n",
      "  Val Acc = 0.9341, Val Prec = 0.9339, Val Rec = 0.9341, Val F-Beta = 0.9333, Val Loss = 0.3705\n"
     ]
    },
    {
     "name": "stderr",
     "output_type": "stream",
     "text": [
      "Epoch 30 - Training: 100%|██████████| 103/103 [00:30<00:00,  3.34it/s]\n",
      "Epoch 30 - Validation: 100%|██████████| 26/26 [00:02<00:00, 10.18it/s]\n"
     ]
    },
    {
     "name": "stdout",
     "output_type": "stream",
     "text": [
      "Iteration 20 - Epoch 30:\n",
      "  Train Acc = 0.9969, Train Prec = 0.9970, Train Rec = 0.9969, Train F-Beta = 0.9970, Train Loss = 0.0159\n",
      "  Val Acc = 0.9487, Val Prec = 0.9499, Val Rec = 0.9487, Val F-Beta = 0.9491, Val Loss = 0.3180\n"
     ]
    },
    {
     "name": "stderr",
     "output_type": "stream",
     "text": [
      "Epoch 31 - Training: 100%|██████████| 103/103 [00:30<00:00,  3.34it/s]\n",
      "Epoch 31 - Validation: 100%|██████████| 26/26 [00:02<00:00, 10.18it/s]\n"
     ]
    },
    {
     "name": "stdout",
     "output_type": "stream",
     "text": [
      "Iteration 20 - Epoch 31:\n",
      "  Train Acc = 0.9942, Train Prec = 0.9942, Train Rec = 0.9942, Train F-Beta = 0.9942, Train Loss = 0.0229\n",
      "  Val Acc = 0.9463, Val Prec = 0.9477, Val Rec = 0.9463, Val F-Beta = 0.9470, Val Loss = 0.3125\n"
     ]
    },
    {
     "name": "stderr",
     "output_type": "stream",
     "text": [
      "Epoch 32 - Training: 100%|██████████| 103/103 [00:30<00:00,  3.34it/s]\n",
      "Epoch 32 - Validation: 100%|██████████| 26/26 [00:02<00:00, 10.19it/s]\n"
     ]
    },
    {
     "name": "stdout",
     "output_type": "stream",
     "text": [
      "Iteration 20 - Epoch 32:\n",
      "  Train Acc = 0.9948, Train Prec = 0.9949, Train Rec = 0.9948, Train F-Beta = 0.9948, Train Loss = 0.0212\n",
      "  Val Acc = 0.9475, Val Prec = 0.9493, Val Rec = 0.9475, Val F-Beta = 0.9482, Val Loss = 0.3304\n"
     ]
    },
    {
     "name": "stderr",
     "output_type": "stream",
     "text": [
      "Epoch 33 - Training: 100%|██████████| 103/103 [00:30<00:00,  3.34it/s]\n",
      "Epoch 33 - Validation: 100%|██████████| 26/26 [00:02<00:00, 10.20it/s]\n"
     ]
    },
    {
     "name": "stdout",
     "output_type": "stream",
     "text": [
      "Iteration 20 - Epoch 33:\n",
      "  Train Acc = 0.9979, Train Prec = 0.9979, Train Rec = 0.9979, Train F-Beta = 0.9979, Train Loss = 0.0125\n",
      "  Val Acc = 0.9463, Val Prec = 0.9476, Val Rec = 0.9463, Val F-Beta = 0.9467, Val Loss = 0.3062\n"
     ]
    },
    {
     "name": "stderr",
     "output_type": "stream",
     "text": [
      "Epoch 34 - Training: 100%|██████████| 103/103 [00:30<00:00,  3.34it/s]\n",
      "Epoch 34 - Validation: 100%|██████████| 26/26 [00:02<00:00, 10.20it/s]\n"
     ]
    },
    {
     "name": "stdout",
     "output_type": "stream",
     "text": [
      "Iteration 20 - Epoch 34:\n",
      "  Train Acc = 0.9991, Train Prec = 0.9991, Train Rec = 0.9991, Train F-Beta = 0.9991, Train Loss = 0.0076\n",
      "  Val Acc = 0.9536, Val Prec = 0.9550, Val Rec = 0.9536, Val F-Beta = 0.9542, Val Loss = 0.2909\n",
      "  Better model saved with 0.9542 F-beta score.\n"
     ]
    },
    {
     "name": "stderr",
     "output_type": "stream",
     "text": [
      "Epoch 35 - Training: 100%|██████████| 103/103 [00:30<00:00,  3.34it/s]\n",
      "Epoch 35 - Validation: 100%|██████████| 26/26 [00:02<00:00, 10.19it/s]\n"
     ]
    },
    {
     "name": "stdout",
     "output_type": "stream",
     "text": [
      "Iteration 20 - Epoch 35:\n",
      "  Train Acc = 1.0000, Train Prec = 1.0000, Train Rec = 1.0000, Train F-Beta = 1.0000, Train Loss = 0.0014\n",
      "  Val Acc = 0.9536, Val Prec = 0.9550, Val Rec = 0.9536, Val F-Beta = 0.9541, Val Loss = 0.2894\n"
     ]
    },
    {
     "name": "stderr",
     "output_type": "stream",
     "text": [
      "Epoch 36 - Training: 100%|██████████| 103/103 [00:30<00:00,  3.34it/s]\n",
      "Epoch 36 - Validation: 100%|██████████| 26/26 [00:02<00:00, 10.19it/s]\n"
     ]
    },
    {
     "name": "stdout",
     "output_type": "stream",
     "text": [
      "Iteration 20 - Epoch 36:\n",
      "  Train Acc = 0.9994, Train Prec = 0.9994, Train Rec = 0.9994, Train F-Beta = 0.9994, Train Loss = 0.0039\n",
      "  Val Acc = 0.9536, Val Prec = 0.9550, Val Rec = 0.9536, Val F-Beta = 0.9541, Val Loss = 0.2984\n"
     ]
    },
    {
     "name": "stderr",
     "output_type": "stream",
     "text": [
      "Epoch 37 - Training: 100%|██████████| 103/103 [00:30<00:00,  3.34it/s]\n",
      "Epoch 37 - Validation: 100%|██████████| 26/26 [00:02<00:00, 10.19it/s]\n"
     ]
    },
    {
     "name": "stdout",
     "output_type": "stream",
     "text": [
      "Iteration 20 - Epoch 37:\n",
      "  Train Acc = 0.9988, Train Prec = 0.9988, Train Rec = 0.9988, Train F-Beta = 0.9988, Train Loss = 0.0053\n",
      "  Val Acc = 0.9560, Val Prec = 0.9580, Val Rec = 0.9560, Val F-Beta = 0.9569, Val Loss = 0.3260\n",
      "  Better model saved with 0.9569 F-beta score.\n"
     ]
    },
    {
     "name": "stderr",
     "output_type": "stream",
     "text": [
      "Epoch 38 - Training: 100%|██████████| 103/103 [00:30<00:00,  3.34it/s]\n",
      "Epoch 38 - Validation: 100%|██████████| 26/26 [00:02<00:00, 10.19it/s]\n"
     ]
    },
    {
     "name": "stdout",
     "output_type": "stream",
     "text": [
      "Iteration 20 - Epoch 38:\n",
      "  Train Acc = 1.0000, Train Prec = 1.0000, Train Rec = 1.0000, Train F-Beta = 1.0000, Train Loss = 0.0011\n",
      "  Val Acc = 0.9585, Val Prec = 0.9602, Val Rec = 0.9585, Val F-Beta = 0.9592, Val Loss = 0.3106\n",
      "  Better model saved with 0.9592 F-beta score.\n"
     ]
    },
    {
     "name": "stderr",
     "output_type": "stream",
     "text": [
      "Epoch 39 - Training: 100%|██████████| 103/103 [00:30<00:00,  3.34it/s]\n",
      "Epoch 39 - Validation: 100%|██████████| 26/26 [00:02<00:00, 10.19it/s]\n"
     ]
    },
    {
     "name": "stdout",
     "output_type": "stream",
     "text": [
      "Iteration 20 - Epoch 39:\n",
      "  Train Acc = 1.0000, Train Prec = 1.0000, Train Rec = 1.0000, Train F-Beta = 1.0000, Train Loss = 0.0008\n",
      "  Val Acc = 0.9585, Val Prec = 0.9602, Val Rec = 0.9585, Val F-Beta = 0.9592, Val Loss = 0.3124\n"
     ]
    },
    {
     "name": "stderr",
     "output_type": "stream",
     "text": [
      "Epoch 40 - Training: 100%|██████████| 103/103 [00:30<00:00,  3.34it/s]\n",
      "Epoch 40 - Validation: 100%|██████████| 26/26 [00:02<00:00, 10.18it/s]"
     ]
    },
    {
     "name": "stdout",
     "output_type": "stream",
     "text": [
      "Iteration 20 - Epoch 40:\n",
      "  Train Acc = 0.9985, Train Prec = 0.9985, Train Rec = 0.9985, Train F-Beta = 0.9985, Train Loss = 0.0053\n",
      "  Val Acc = 0.9548, Val Prec = 0.9568, Val Rec = 0.9548, Val F-Beta = 0.9558, Val Loss = 0.3112\n",
      "Training finished.\n"
     ]
    },
    {
     "name": "stderr",
     "output_type": "stream",
     "text": [
      "\n"
     ]
    }
   ],
   "source": [
    "# 학습 시작\n",
    "\n",
    "best_val_f_beta = 0.95\n",
    "best_model_path = None\n",
    "\n",
    "for iteration in range(ITERATION):\n",
    "    print(f'Iteration {iteration + 1}/{ITERATION}')\n",
    "\n",
    "    model = AutoModelForSequenceClassification.from_pretrained(MODEL_ID, num_labels=NUM_LABELS)\n",
    "    model.to(device)\n",
    "    model.resize_token_embeddings(len(tokenizer))\n",
    "\n",
    "    optimizer = torch.optim.AdamW(model.parameters(), lr=LEARNING_RATE)\n",
    "    total_steps = len(train_dataset) * EPOCHS\n",
    "    scheduler = get_linear_schedule_with_warmup(optimizer, num_warmup_steps=0, num_training_steps=total_steps)\n",
    "\n",
    "    better_val_f_beta = 0.95\n",
    "    better_model_path = None\n",
    "\n",
    "    for epoch in range(EPOCHS):\n",
    "        model.train()\n",
    "\n",
    "        train_loss = 0.0\n",
    "        train_predictions = []\n",
    "        train_labels_epoch = []\n",
    "\n",
    "        for batch in tqdm(train_dataloader, desc=f'Epoch {epoch + 1} - Training'):\n",
    "            input_ids = batch[0].to(device)\n",
    "            attention_mask = batch[1].to(device)\n",
    "            labels = batch[2].to(device)\n",
    "\n",
    "            optimizer.zero_grad()\n",
    "            outputs = model(input_ids, attention_mask=attention_mask, labels=labels)\n",
    "            loss = outputs.loss\n",
    "            train_loss += loss.item()\n",
    "            loss.backward()\n",
    "            optimizer.step()\n",
    "            scheduler.step()\n",
    "            logits = outputs.logits\n",
    "            predictions = torch.argmax(logits, dim=1)\n",
    "\n",
    "            train_predictions.extend(predictions.tolist())\n",
    "            train_labels_epoch.extend(labels.tolist())\n",
    "\n",
    "        train_acc, train_prec, train_rec, train_f_beta = calculate_metrics(train_labels_epoch, train_predictions)\n",
    "        train_loss /= len(train_dataloader)\n",
    "\n",
    "        model.eval()\n",
    "\n",
    "        val_loss = 0.0\n",
    "        val_predictions = []\n",
    "\n",
    "        with torch.no_grad():\n",
    "            for batch in tqdm(val_dataloader, desc=f'Epoch {epoch + 1} - Validation'):\n",
    "                input_ids = batch[0].to(device)\n",
    "                attention_mask = batch[1].to(device)\n",
    "                labels = batch[2].to(device)\n",
    "\n",
    "                outputs = model(input_ids, attention_mask=attention_mask, labels=labels)\n",
    "                loss = outputs.loss\n",
    "                val_loss += loss.item()\n",
    "                logits = outputs.logits\n",
    "                predictions = torch.argmax(logits, dim=1)\n",
    "\n",
    "                val_predictions.extend(predictions.tolist())\n",
    "\n",
    "        val_acc, val_prec, val_rec, val_f_beta = calculate_metrics(val_labels, val_predictions)\n",
    "        val_loss /= len(val_dataloader)\n",
    "\n",
    "        print(f'Iteration {iteration + 1} - Epoch {epoch + 1}:')\n",
    "        print(f'  Train Acc = {train_acc:.4f}, Train Prec = {train_prec:.4f}, Train Rec = {train_rec:.4f}, Train F-Beta = {train_f_beta:.4f}, Train Loss = {train_loss:.4f}')\n",
    "        print(f'  Val Acc = {val_acc:.4f}, Val Prec = {val_prec:.4f}, Val Rec = {val_rec:.4f}, Val F-Beta = {val_f_beta:.4f}, Val Loss = {val_loss:.4f}')\n",
    "\n",
    "        if val_f_beta > better_val_f_beta:\n",
    "            better_val_f_beta = val_f_beta\n",
    "            better_model_path = os.path.join(SAVE_PATH, f'model-iteration-{iteration + 1:02d}-epoch-{epoch + 1:02d}-{better_val_f_beta:.4f}')\n",
    "            model.save_pretrained(better_model_path)\n",
    "            tokenizer.save_pretrained(better_model_path)\n",
    "            print(f'  Better model saved with {better_val_f_beta:.4f} F-beta score.')\n",
    "\n",
    "    if better_val_f_beta > best_val_f_beta:\n",
    "        best_val_f_beta = better_val_f_beta\n",
    "        best_model_path = better_model_path\n",
    "\n",
    "print('Training finished.')"
   ]
  },
  {
   "cell_type": "code",
   "execution_count": 21,
   "metadata": {},
   "outputs": [
    {
     "name": "stdout",
     "output_type": "stream",
     "text": [
      "Best model path: ./model-iteration-15-epoch-28-0.9661\n",
      "\n",
      "Test Accuracy: 0.8769\n",
      "Test Precision: 0.9281\n",
      "Test Recall: 0.8769\n",
      "Test F-Beta Score: 0.9117\n",
      "\n",
      "텍스트: 진단서 감기가 너무심해서 수업못가고 병원가려는데 진단서가져가면 교수님이 출석인정 해주시나요?\n",
      "실제 레이블: 학사\n",
      "예측 레이블: 학사 ['0.0005', '0.9755', '0.0032', '0.0001', '0.0106', '0.0006', '0.0002', '0.0004', '0.0007', '0.0072', '0.0007', '0.0000', '0.0002', '0.0000']\n",
      "\n",
      "텍스트: 교비근로 해보신분 어떤가요?\n",
      "실제 레이블: 장학 · 행정\n",
      "예측 레이블: 장학 · 행정 ['0.0000', '0.0000', '0.9998', '0.0000', '0.0000', '0.0000', '0.0000', '0.0001', '0.0000', '0.0000', '0.0000', '0.0000', '0.0000', '0.0000']\n",
      "\n",
      "텍스트: 나 아직 고학번이라고 할정도는 아닌데 군대갔다왔으면 졸업못한게 당연한 나이니까 화석은 아님 아무튼 아님\n",
      "실제 레이블: 자유\n",
      "예측 레이블: 병역 ['0.0085', '0.0014', '0.0009', '0.0005', '0.0006', '0.0001', '0.0001', '0.0004', '0.0590', '0.0048', '0.0003', '0.0099', '0.0033', '0.9103']\n",
      "\n",
      "텍스트: 왜 가기싫은 학교에 가야하지? 왜냐면 가기싫은 직장에 다니기 위해서!\n",
      "실제 레이블: 자유\n",
      "예측 레이블: 자유 ['0.7865', '0.0100', '0.0021', '0.0381', '0.0082', '0.0002', '0.0003', '0.0035', '0.0073', '0.0088', '0.0023', '0.0936', '0.0148', '0.0241']\n",
      "\n",
      "텍스트: 화공 새내기들은 뭔죄냐 이러려고 광대왔나 자괴감들고 괴로울듯 상식적으로 엠티간다고 가산점 주는게 말이되나\n",
      "실제 레이블: 학교생활\n",
      "예측 레이블: 학교생활 ['0.0000', '0.0000', '0.0000', '0.9995', '0.0000', '0.0000', '0.0000', '0.0001', '0.0000', '0.0000', '0.0000', '0.0001', '0.0001', '0.0000']\n",
      "\n",
      "텍스트: 이제 병결은 출석처리 안되죠..? 모든수업\n",
      "실제 레이블: 학사\n",
      "예측 레이블: 수업 ['0.0001', '0.0120', '0.0001', '0.0001', '0.9868', '0.0002', '0.0003', '0.0000', '0.0001', '0.0000', '0.0001', '0.0000', '0.0001', '0.0000']\n",
      "\n",
      "텍스트: 과거에는 학교에 국정원 온적도 있답니다. 안심하고 공부하세요 ^^\n",
      "실제 레이블: 자유\n",
      "예측 레이블: 자유 ['0.9993', '0.0000', '0.0001', '0.0001', '0.0001', '0.0000', '0.0000', '0.0000', '0.0001', '0.0001', '0.0000', '0.0001', '0.0000', '0.0001']\n",
      "\n",
      "텍스트: 광운대근처찜질방 추천좀\n",
      "실제 레이블: 캠퍼스\n",
      "예측 레이블: 캠퍼스 ['0.0000', '0.0000', '0.0001', '0.0001', '0.0000', '0.0000', '0.0000', '0.9988', '0.0000', '0.0004', '0.0003', '0.0000', '0.0000', '0.0001']\n",
      "\n",
      "텍스트: 피시방들 얼마에요? 쓰리팝이나 파란 간판 거기 등등 그리고 역쪽에는 600원짜리 있던데 롤 제대로 돌아가요?\n",
      "실제 레이블: 캠퍼스\n",
      "예측 레이블: 캠퍼스 ['0.0000', '0.0000', '0.0001', '0.0001', '0.0000', '0.0001', '0.0000', '0.9993', '0.0000', '0.0001', '0.0002', '0.0000', '0.0000', '0.0001']\n",
      "\n",
      "텍스트: 현대사 열옸나요? 복사할게있는데!\n",
      "실제 레이블: 캠퍼스\n",
      "예측 레이블: 캠퍼스 ['0.0000', '0.0001', '0.0001', '0.0000', '0.0000', '0.0001', '0.0000', '0.9993', '0.0000', '0.0001', '0.0002', '0.0000', '0.0000', '0.0001']\n",
      "\n",
      "텍스트: 컴소 2학년 이산듣는사람 ㅡㅡ\n",
      "실제 레이블: 수업/이과\n",
      "예측 레이블: 수업/이과 ['0.0000', '0.0001', '0.0001', '0.0000', '0.0001', '0.9991', '0.0001', '0.0001', '0.0002', '0.0001', '0.0000', '0.0000', '0.0000', '0.0000']\n",
      "\n",
      "텍스트: 임산부칸 여자는 그냥 앉아도 되는부분인거냐\n",
      "실제 레이블: 일상생활\n",
      "예측 레이블: 캠퍼스 ['0.0000', '0.0001', '0.0001', '0.0001', '0.0000', '0.0000', '0.0000', '0.9982', '0.0000', '0.0003', '0.0011', '0.0000', '0.0000', '0.0000']\n",
      "\n",
      "텍스트: 책 인쇄가 이상하네요ㅠㅠ 알라딘에서 해외원서 구입에다가 이미 3글자써서 교환은 물건너갔네요ㅠㅠ\n",
      "실제 레이블: 일상생활\n",
      "예측 레이블: 취미 · 여가 ['0.0005', '0.0002', '0.0002', '0.0046', '0.0004', '0.0000', '0.0001', '0.0005', '0.0004', '0.0073', '0.0060', '0.9791', '0.0004', '0.0002']\n",
      "\n",
      "텍스트: 출튀하는법 새내기 시도할려합니다 어케해요\n",
      "실제 레이블: 학교생활\n",
      "예측 레이블: 학교생활 ['0.0001', '0.0000', '0.0000', '0.9722', '0.0001', '0.0005', '0.0250', '0.0002', '0.0005', '0.0001', '0.0004', '0.0004', '0.0005', '0.0000']\n",
      "\n",
      "텍스트: 출튀 많이 했는데 과제 점수 손해본 사람 있음?\n",
      "실제 레이블: 수업\n",
      "예측 레이블: 수업 ['0.0001', '0.0005', '0.0001', '0.0001', '0.9987', '0.0001', '0.0002', '0.0000', '0.0002', '0.0000', '0.0000', '0.0000', '0.0001', '0.0000']\n",
      "\n",
      "텍스트: 형들 노트북추천좀해줘요 컴맹이라;;; 용도는 문서+간단한게임(던파 롤 피파같은거)\n",
      "실제 레이블: 일상생활\n",
      "예측 레이블: 일상생활 ['0.0000', '0.0000', '0.0000', '0.0000', '0.0000', '0.0000', '0.0000', '0.0001', '0.0001', '0.9993', '0.0001', '0.0001', '0.0001', '0.0000']\n",
      "\n",
      "텍스트: 남자 몇주에 한번씩 미용실가냐 한달마다 가는데 돈아까워서 두달 버텨보려함 만 이천원ㅅㅂ 개아까워\n",
      "실제 레이블: 일상생활\n",
      "예측 레이블: 일상생활 ['0.0000', '0.0000', '0.0000', '0.0000', '0.0000', '0.0000', '0.0000', '0.0001', '0.0001', '0.9993', '0.0001', '0.0001', '0.0001', '0.0000']\n",
      "\n",
      "텍스트: 매점에서 컴싸랑 화이트 파나요?? 급함ㅠ\n",
      "실제 레이블: 일상생활\n",
      "예측 레이블: 일상생활 ['0.0000', '0.0000', '0.0000', '0.0000', '0.0000', '0.0000', '0.0000', '0.0002', '0.0001', '0.9992', '0.0002', '0.0001', '0.0001', '0.0000']\n",
      "\n",
      "텍스트: 국민은행위에 모텔있는거 다들 암? 그 베스킨라빈스쯤 있는 건물에 와 난 학교 바로 앞에 저런게 있을 줄 몰랐다ㅋㅋ\n",
      "실제 레이블: 캠퍼스\n",
      "예측 레이블: 캠퍼스 ['0.0000', '0.0000', '0.0001', '0.0001', '0.0000', '0.0000', '0.0000', '0.9991', '0.0000', '0.0002', '0.0003', '0.0000', '0.0000', '0.0001']\n",
      "\n",
      "텍스트: 공차알바생 싸가지 여자알바생 ㅈㄴ 싸가지 없다 표정 개썩창이네\n",
      "실제 레이블: 음식점 · 카페\n",
      "예측 레이블: 음식점 · 카페 ['0.0000', '0.0001', '0.0000', '0.0001', '0.0001', '0.0000', '0.0001', '0.0002', '0.0000', '0.0002', '0.9989', '0.0002', '0.0000', '0.0000']\n",
      "\n",
      "텍스트: 이석준 교수님 경영통계 프린트 어디서 뽑아요...? 이석준 교수님 경영통계 프린트 어디서 뽑나요...? 중간중간에 괄호쳐진 수업자료 있다고 뽑아오라고 하신것 같은데...\n",
      "실제 레이블: 수업/문과\n",
      "예측 레이블: 수업/문과 ['0.0000', '0.0001', '0.0000', '0.0001', '0.0001', '0.0002', '0.9993', '0.0000', '0.0000', '0.0000', '0.0000', '0.0000', '0.0000', '0.0000']\n",
      "\n",
      "텍스트: cdp16번 채우며몇학점줘요?? 알려주세요ㅠ\n",
      "실제 레이블: 학사\n",
      "예측 레이블: 학사 ['0.0000', '0.9991', '0.0001', '0.0000', '0.0004', '0.0001', '0.0000', '0.0001', '0.0000', '0.0000', '0.0001', '0.0000', '0.0000', '0.0000']\n",
      "\n",
      "텍스트: 자바공부할건데 목표를 안드로이드로 갈까 웹서버로 갈까 자격증 ocjp 로 갈까\n",
      "실제 레이블: 취업 · 진로\n",
      "예측 레이블: 취업 · 진로 ['0.0001', '0.0000', '0.0001', '0.0002', '0.0002', '0.0002', '0.0001', '0.0000', '0.9985', '0.0003', '0.0000', '0.0001', '0.0001', '0.0003']\n",
      "\n",
      "텍스트: 한글파일 작성하고 doc파일로 저장했는데 doc파일 들어가면 파일이 깨진건지 형식이 바뀐건지 이상하게 나오는데 왜이런거죠?\n",
      "실제 레이블: 일상생활\n",
      "예측 레이블: 일상생활 ['0.0000', '0.0000', '0.0000', '0.0000', '0.0000', '0.0000', '0.0000', '0.0001', '0.0001', '0.9993', '0.0001', '0.0001', '0.0001', '0.0000']\n",
      "\n",
      "텍스트: 조은문화사 몇시에 보통 열리나요?? 1교시 수업 책 찾아야되서\n",
      "실제 레이블: 캠퍼스\n",
      "예측 레이블: 캠퍼스 ['0.0000', '0.0001', '0.0001', '0.0001', '0.0000', '0.0001', '0.0000', '0.9993', '0.0000', '0.0001', '0.0002', '0.0000', '0.0000', '0.0001']\n",
      "\n",
      "텍스트: 인강50오프라인50인강의에서 인강은 유캠에서 듣는거 맞나요? 교수님한데 여쭤보니 잘 모르겠다고 하시고...온라인컨텐츠학습?들어가보니 아직 인강이 안떠있어서요\n",
      "실제 레이블: 수업\n",
      "예측 레이블: 수업 ['0.0001', '0.0004', '0.0001', '0.0001', '0.9988', '0.0001', '0.0001', '0.0000', '0.0001', '0.0000', '0.0001', '0.0000', '0.0001', '0.0000']\n",
      "\n",
      "텍스트: 과씨씨말고 다른과씨씨들 어케만났냐ㅋㅋㅋ\n",
      "실제 레이블: 인간관계\n",
      "예측 레이블: 인간관계 ['0.0001', '0.0001', '0.0001', '0.0004', '0.0001', '0.0000', '0.0001', '0.0000', '0.0001', '0.0001', '0.0001', '0.0002', '0.9984', '0.0001']\n",
      "\n",
      "텍스트: 금공강은진리다 진짜 와보니까알앗는데 공강전날은 너무행복하다 ㅋㅋ\n",
      "실제 레이블: 학교생활\n",
      "예측 레이블: 학교생활 ['0.0000', '0.0000', '0.0000', '0.9995', '0.0000', '0.0000', '0.0000', '0.0000', '0.0001', '0.0000', '0.0000', '0.0001', '0.0001', '0.0000']\n",
      "\n",
      "텍스트: 온라인 강의 안되는 사람...? 학습시간만 가고 흰 화면만 떠 검사할거 다 해봤는데도 안되는 것 같다\n",
      "실제 레이블: 수업\n",
      "예측 레이블: 수업 ['0.0001', '0.0004', '0.0001', '0.0001', '0.9988', '0.0001', '0.0001', '0.0000', '0.0002', '0.0000', '0.0001', '0.0000', '0.0001', '0.0000']\n",
      "\n",
      "텍스트: 님들은 문제풀이 과제할때 문제 씀안씀? 문제 번호만??\n",
      "실제 레이블: 수업\n",
      "예측 레이블: 수업 ['0.0001', '0.0005', '0.0001', '0.0001', '0.9987', '0.0001', '0.0001', '0.0000', '0.0002', '0.0000', '0.0001', '0.0000', '0.0001', '0.0000']\n",
      "\n",
      "텍스트: 보고서에 학교마크 말그림 넣어야함 아니면 K모양 넣어야함?\n",
      "실제 레이블: 수업\n",
      "예측 레이블: 수업 ['0.0001', '0.0003', '0.0001', '0.0001', '0.9988', '0.0001', '0.0001', '0.0000', '0.0001', '0.0000', '0.0001', '0.0000', '0.0001', '0.0000']\n",
      "\n",
      "텍스트: 해석학숙제 언제까진지 아는사람 첫수업 늦어서.. 낼모래까지야?\n",
      "실제 레이블: 수업/이과\n",
      "예측 레이블: 수업/이과 ['0.0000', '0.0000', '0.0001', '0.0000', '0.0001', '0.9995', '0.0001', '0.0001', '0.0001', '0.0000', '0.0000', '0.0000', '0.0000', '0.0000']\n",
      "\n",
      "텍스트: 선배님들 발표 팁좀 주세요 ㅠㅠㅠ 교양을 고학번이 좀 있는 교양으로 들었는데요 바로 다음달이 제 발표네요 ;ㅂ;.... 개인(or 원하면 2인)으로 10분씩하는건데 저는 독강이라 개인발표를 선택했어요 근데 제가 약간의 무대공포증이 있어서 발표가 너무 무서워요 ㅠㅠ 말도 빨라지고(주위에서 랩수준이라고함) 머릿속엔 아무것도 안들어있고 ㅋㅋ 도와주세요~~ 발표 잘하는법~~\n",
      "실제 레이블: 수업\n",
      "예측 레이블: 수업 ['0.0001', '0.0003', '0.0001', '0.0001', '0.9988', '0.0001', '0.0002', '0.0000', '0.0002', '0.0000', '0.0001', '0.0000', '0.0001', '0.0000']\n",
      "\n",
      "텍스트: 대수 퀴즈 잘본사람 손!\n",
      "실제 레이블: 수업/이과\n",
      "예측 레이블: 수업/이과 ['0.0000', '0.0000', '0.0001', '0.0000', '0.0000', '0.9995', '0.0001', '0.0001', '0.0001', '0.0000', '0.0000', '0.0000', '0.0000', '0.0000']\n",
      "\n",
      "텍스트: 선형대수학 필기 적혀있는 하늘색 노트 주우신분 제발 연락주세요ㅠㅠ제발\n",
      "실제 레이블: 일상생활\n",
      "예측 레이블: 일상생활 ['0.0001', '0.0000', '0.0000', '0.0000', '0.0000', '0.0000', '0.0000', '0.0001', '0.0001', '0.9993', '0.0001', '0.0001', '0.0001', '0.0000']\n",
      "\n",
      "텍스트: 국장2 아직도 학사심사네;; ㅠㅠ 뭐지;;\n",
      "실제 레이블: 장학 · 행정\n",
      "예측 레이블: 장학 · 행정 ['0.0000', '0.0000', '0.9998', '0.0000', '0.0000', '0.0000', '0.0000', '0.0000', '0.0000', '0.0000', '0.0000', '0.0000', '0.0000', '0.0000']\n",
      "\n",
      "텍스트: 디논 성적나옴?????\n",
      "실제 레이블: 수업/이과\n",
      "예측 레이블: 수업/이과 ['0.0000', '0.0000', '0.0001', '0.0000', '0.0000', '0.9995', '0.0001', '0.0001', '0.0001', '0.0000', '0.0000', '0.0000', '0.0000', '0.0000']\n",
      "\n",
      "텍스트: 중간고사성적4등 이면얼마나나올라나 지금4등이던데\n",
      "실제 레이블: 수업\n",
      "예측 레이블: 수업 ['0.0001', '0.0003', '0.0001', '0.0001', '0.9988', '0.0001', '0.0001', '0.0000', '0.0002', '0.0000', '0.0001', '0.0000', '0.0001', '0.0000']\n",
      "\n",
      "텍스트: 1등 얼마임 ??\n",
      "실제 레이블: 장학 · 행정\n",
      "예측 레이블: 학사 ['0.0097', '0.6927', '0.1624', '0.0015', '0.0862', '0.0012', '0.0005', '0.0068', '0.0078', '0.0231', '0.0045', '0.0018', '0.0013', '0.0006']\n",
      "\n",
      "텍스트: 요즘 코막힘 심해진 사람 있어?? 요 며칠 사이에 왜이렇게 코가 꽉 막히지 ㅜㅜ 코 풀어도 안쪽에 꽉찬 느낌 들어\n",
      "실제 레이블: 일상생활\n",
      "예측 레이블: 일상생활 ['0.3433', '0.0018', '0.0003', '0.0019', '0.0012', '0.0002', '0.0003', '0.0003', '0.0031', '0.6216', '0.0023', '0.0197', '0.0037', '0.0004']\n",
      "\n",
      "텍스트: 흑흑 지금 광운대역 운행 안됨 열차 못 움직인데ㅠㅠ\n",
      "실제 레이블: 캠퍼스\n",
      "예측 레이블: 캠퍼스 ['0.0000', '0.0000', '0.0001', '0.0001', '0.0000', '0.0001', '0.0000', '0.9993', '0.0000', '0.0001', '0.0002', '0.0000', '0.0000', '0.0001']\n",
      "\n",
      "텍스트: 소융대도 선배가 있음? 신설이라서 없지 않음?\n",
      "실제 레이블: 학교생활\n",
      "예측 레이블: 학사 ['0.0017', '0.8435', '0.0132', '0.0023', '0.1004', '0.0048', '0.0005', '0.0020', '0.0248', '0.0044', '0.0013', '0.0002', '0.0007', '0.0002']\n",
      "\n",
      "텍스트: 새내기 들어오고나서 에타에 물흐리는놈들 많네\n",
      "실제 레이블: 자유\n",
      "예측 레이블: 자유 ['0.9996', '0.0000', '0.0001', '0.0000', '0.0000', '0.0000', '0.0000', '0.0000', '0.0001', '0.0001', '0.0000', '0.0001', '0.0000', '0.0000']\n",
      "\n",
      "텍스트: 허걱공학과 허걱\n",
      "실제 레이블: 자유\n",
      "예측 레이블: 자유 ['0.9995', '0.0000', '0.0001', '0.0000', '0.0001', '0.0000', '0.0000', '0.0000', '0.0001', '0.0001', '0.0000', '0.0001', '0.0000', '0.0000']\n",
      "\n",
      "텍스트: 문과중에 엠티갔다온 과있나?\n",
      "실제 레이블: 학교생활\n",
      "예측 레이블: 학교생활 ['0.0000', '0.0000', '0.0000', '0.9995', '0.0000', '0.0000', '0.0000', '0.0001', '0.0001', '0.0000', '0.0000', '0.0001', '0.0000', '0.0000']\n",
      "\n",
      "텍스트: 학교주변 괜찮은 남자보세집 있음?? 급하게 옷필요한데 인터넷은 느려서...\n",
      "실제 레이블: 캠퍼스\n",
      "예측 레이블: 캠퍼스 ['0.0000', '0.0000', '0.0001', '0.0001', '0.0000', '0.0001', '0.0000', '0.9993', '0.0000', '0.0001', '0.0002', '0.0000', '0.0000', '0.0001']\n",
      "\n",
      "텍스트: 진지하게 조교 가 수업하는거있잖아 그거 괜찮은거야? 난 내등록금내면서 조교한테배우기싫어서그래\n",
      "실제 레이블: 수업\n",
      "예측 레이블: 수업 ['0.0001', '0.0004', '0.0001', '0.0001', '0.9988', '0.0001', '0.0001', '0.0000', '0.0001', '0.0000', '0.0001', '0.0000', '0.0001', '0.0000']\n",
      "\n",
      "텍스트: 조교가 날 좋아하는 건가 보네 메일을 3일이나 읽지 않다니 나랑 밀당하는 건가? 고백공격 받기 싫으면 빨리 읽고 답장해줘요\n",
      "실제 레이블: 수업\n",
      "예측 레이블: 수업 ['0.0002', '0.0004', '0.0001', '0.0001', '0.9986', '0.0001', '0.0002', '0.0000', '0.0002', '0.0000', '0.0000', '0.0000', '0.0001', '0.0000']\n",
      "\n",
      "텍스트: 시험보는 주에도 수업 다 있죠?? ㅜ 의경시험이 하필 이때걸렸어 ㅠㅠ\n",
      "실제 레이블: 수업\n",
      "예측 레이블: 병역 ['0.0004', '0.0002', '0.0002', '0.0003', '0.0007', '0.0001', '0.0001', '0.0010', '0.0004', '0.0001', '0.0003', '0.0005', '0.0003', '0.9953']\n",
      "\n",
      "텍스트: 새내기여서 그런데 원래 시험보는 주에 강의들어요? 웃기네..\n",
      "실제 레이블: 수업\n",
      "예측 레이블: 수업 ['0.0001', '0.0004', '0.0001', '0.0001', '0.9988', '0.0001', '0.0001', '0.0000', '0.0001', '0.0000', '0.0000', '0.0000', '0.0001', '0.0000']\n",
      "\n",
      "텍스트: 결석 F기준이 수업일수 1/4 결석인데 시험보는 주 포함임? 강의계획서상 15주 기준인데 그중 2번이 시험주임 정작 학교가서 수업듣는 주가 13주라는건데 그럼 1/4기준이 15주임 13주임?\n",
      "실제 레이블: 학사\n",
      "예측 레이블: 학사 ['0.0000', '0.9990', '0.0001', '0.0000', '0.0006', '0.0000', '0.0000', '0.0000', '0.0000', '0.0000', '0.0001', '0.0000', '0.0000', '0.0000']\n",
      "\n",
      "텍스트: 다썼다!!!!!! 예씋ㅎ하힣릴ㄹ맇ㄹㅎ히힣ㅎ힣 모냐고??????? 비밀이야ㅎ\n",
      "실제 레이블: 자유\n",
      "예측 레이블: 자유 ['0.9991', '0.0001', '0.0001', '0.0000', '0.0001', '0.0000', '0.0000', '0.0000', '0.0001', '0.0003', '0.0000', '0.0001', '0.0000', '0.0000']\n",
      "\n",
      "텍스트: 철봉하시는분 있나요? 등근육 키우는데 최고라는데 진짜 힘드네요 이거\n",
      "실제 레이블: 취미 · 여가\n",
      "예측 레이블: 취미 · 여가 ['0.0001', '0.0000', '0.0001', '0.0006', '0.0000', '0.0000', '0.0000', '0.0001', '0.0001', '0.0001', '0.0007', '0.9978', '0.0002', '0.0002']\n",
      "\n",
      "텍스트: 문틀철봉 ㅊㅊ좀요 이거 시봣는데 ㄱㅊ다 한거 ㄱ ㄱ\n",
      "실제 레이블: 취미 · 여가\n",
      "예측 레이블: 취미 · 여가 ['0.0021', '0.0000', '0.0001', '0.0002', '0.0000', '0.0000', '0.0000', '0.0000', '0.0001', '0.0002', '0.0002', '0.9964', '0.0003', '0.0004']\n",
      "\n",
      "텍스트: 힘콩 철봉 질문있슴다 저거 사려고 하는데 제가 8월달에 입대합니다 그래서 몇달밖에 사용 못하고 갈 것 같은데 전역 후에 사용하면 삐그덕대고 그럴까요? 아예 전역 후에 살까요?\n",
      "실제 레이블: 취미 · 여가\n",
      "예측 레이블: 취미 · 여가 ['0.0001', '0.0000', '0.0000', '0.0002', '0.0000', '0.0000', '0.0000', '0.0001', '0.0001', '0.0001', '0.0004', '0.9984', '0.0002', '0.0003']\n",
      "\n",
      "텍스트: 역시 자취방에 혼자있으면 홀딱 깨벗은게 최고야! 이히히히힣!\n",
      "실제 레이블: 자유\n",
      "예측 레이블: 자유 ['0.9987', '0.0001', '0.0001', '0.0001', '0.0001', '0.0000', '0.0000', '0.0000', '0.0001', '0.0005', '0.0000', '0.0002', '0.0001', '0.0001']\n",
      "\n",
      "텍스트: 여권 지금 안갖고있고 자취방에 냅두고 본가 내려왔는데 여권 사본이 필요한데 여권가지러 왔다갔다하기는 좀 그렇고 혹시 발급받을 수 있는 그런건 없을까요..?ㅜㅠ\n",
      "실제 레이블: 일상생활\n",
      "예측 레이블: 일상생활 ['0.0002', '0.0012', '0.1266', '0.0005', '0.0001', '0.0015', '0.0001', '0.4119', '0.0009', '0.4548', '0.0011', '0.0003', '0.0004', '0.0004']\n",
      "\n",
      "텍스트: 학교 주변 자취방에서 SSG 배송 돼요??\n",
      "실제 레이블: 일상생활\n",
      "예측 레이블: 일상생활 ['0.0000', '0.0000', '0.0000', '0.0000', '0.0000', '0.0000', '0.0000', '0.0002', '0.0001', '0.9993', '0.0002', '0.0001', '0.0001', '0.0000']\n",
      "\n",
      "텍스트: 저번에 핫게 갔던 아는 오빠 자취방에서 후기 여러분들의 많은 관심 덕에 제 버즈를 찾을 수 있었습니다..다시 한번 광운대학교 학우분들의 따뜻한 마음과 선한 심성을 파악할 수 있는 기회가 되었고 이에 감사하는 마음으로 살아가겠습니다.. 사랑합니다\n",
      "실제 레이블: 일상생활\n",
      "예측 레이블: 취미 · 여가 ['0.0712', '0.0001', '0.0002', '0.0048', '0.0002', '0.0000', '0.0002', '0.0007', '0.0003', '0.0065', '0.0152', '0.8981', '0.0017', '0.0006']\n",
      "\n",
      "텍스트: 다우니 중급영어회화 책 필요하나요?\n",
      "실제 레이블: 수업/문과\n",
      "예측 레이블: 수업/문과 ['0.0000', '0.0000', '0.0000', '0.0001', '0.0001', '0.0002', '0.9993', '0.0000', '0.0000', '0.0000', '0.0001', '0.0000', '0.0000', '0.0000']\n",
      "\n",
      "텍스트: 면도 키는 안자라나는데 수염은 쑥쑥자란다\n",
      "실제 레이블: 일상생활\n",
      "예측 레이블: 일상생활 ['0.0000', '0.0000', '0.0000', '0.0000', '0.0000', '0.0000', '0.0000', '0.0001', '0.0001', '0.9992', '0.0001', '0.0001', '0.0002', '0.0000']\n",
      "\n",
      "텍스트: 스웩 우웩\n",
      "실제 레이블: 자유\n",
      "예측 레이블: 자유 ['0.8483', '0.0002', '0.0002', '0.0006', '0.0004', '0.0001', '0.0002', '0.0001', '0.0006', '0.0055', '0.0022', '0.1381', '0.0025', '0.0009']\n",
      "\n",
      "텍스트: 미식성은 정말 짜장면이 맛없더라고.... 밍밍해 너무 밍밍 맹맹 냥냥\n",
      "실제 레이블: 음식점 · 카페\n",
      "예측 레이블: 음식점 · 카페 ['0.0000', '0.0001', '0.0000', '0.0001', '0.0001', '0.0000', '0.0001', '0.0002', '0.0000', '0.0002', '0.9988', '0.0003', '0.0001', '0.0000']\n",
      "\n",
      "텍스트: ㄱㅈㅆ글 찾아봤는데 아련하네 ㅋㅋ\n",
      "실제 레이블: 자유\n",
      "예측 레이블: 자유 ['0.9693', '0.0001', '0.0002', '0.0005', '0.0001', '0.0000', '0.0000', '0.0001', '0.0005', '0.0016', '0.0001', '0.0268', '0.0003', '0.0005']\n",
      "\n",
      "텍스트: 운동과건강 인바디 인바디 측정 어디서 해요??\n",
      "실제 레이블: 수업/문과\n",
      "예측 레이블: 수업/문과 ['0.0000', '0.0000', '0.0000', '0.0001', '0.0001', '0.0002', '0.9994', '0.0000', '0.0000', '0.0000', '0.0000', '0.0000', '0.0000', '0.0000']\n",
      "\n"
     ]
    }
   ],
   "source": [
    "# 평가\n",
    "\n",
    "print(f'Best model path: {best_model_path}')\n",
    "print()\n",
    "\n",
    "model = AutoModelForSequenceClassification.from_pretrained(best_model_path, num_labels=NUM_LABELS)\n",
    "model.to(device)\n",
    "\n",
    "with open('test-dataset.json', 'r', encoding='utf-8') as f:\n",
    "    test_articles = json.load(f)\n",
    "\n",
    "test_contents = [preprocess(article['content']) for article in test_articles]\n",
    "test_labels = [article['label'] for article in test_articles]\n",
    "\n",
    "test_encodings = tokenizer(\n",
    "    test_contents,\n",
    "    padding=True,\n",
    "    truncation=True,\n",
    "    return_tensors='pt',\n",
    "    max_length=MAX_LENGTH\n",
    ")\n",
    "test_input_ids = test_encodings['input_ids'].to(device)\n",
    "test_attention_mask = test_encodings['attention_mask'].to(device)\n",
    "\n",
    "with torch.no_grad():\n",
    "    outputs = model(test_input_ids, attention_mask=test_attention_mask)\n",
    "    logits = outputs.logits\n",
    "    test_predictions = torch.argmax(logits, dim=1).tolist()\n",
    "    test_probabilities = torch.softmax(logits, dim=1).tolist()\n",
    "\n",
    "test_acc, test_prec, test_rec, test_f_beta = calculate_metrics(test_labels, test_predictions)\n",
    "\n",
    "print(f'Test Accuracy: {test_acc:.4f}')\n",
    "print(f'Test Precision: {test_prec:.4f}')\n",
    "print(f'Test Recall: {test_rec:.4f}')\n",
    "print(f'Test F-Beta Score: {test_f_beta:.4f}')\n",
    "print()\n",
    "\n",
    "for content, label, prediction, probs in zip(test_contents, test_labels, test_predictions, test_probabilities):\n",
    "    true_category = CATEGORIES[label]\n",
    "    predicted_category = CATEGORIES[prediction]\n",
    "    probs_formatted = [f'{prob:.4f}' for prob in probs]\n",
    "\n",
    "    print(f'텍스트: {content}')\n",
    "    print(f'실제 레이블: {true_category}')\n",
    "    print(f'예측 레이블: {predicted_category} {probs_formatted}')\n",
    "    print()"
   ]
  }
 ],
 "metadata": {
  "kernelspec": {
   "display_name": "Python 3 (ipykernel)",
   "language": "python",
   "name": "python3"
  },
  "language_info": {
   "codemirror_mode": {
    "name": "ipython",
    "version": 3
   },
   "file_extension": ".py",
   "mimetype": "text/x-python",
   "name": "python",
   "nbconvert_exporter": "python",
   "pygments_lexer": "ipython3",
   "version": "3.10.12"
  }
 },
 "nbformat": 4,
 "nbformat_minor": 2
}

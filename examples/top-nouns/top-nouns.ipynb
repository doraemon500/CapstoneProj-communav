{
 "cells": [
  {
   "cell_type": "code",
   "execution_count": 1,
   "metadata": {},
   "outputs": [],
   "source": [
    "# 다른 경로에 있는 모듈을 가져오기 위해 절대 경로 추가\n",
    "\n",
    "import os\n",
    "import sys\n",
    "\n",
    "root = os.path.join(os.path.abspath(os.getcwd()), '..', '..')\n",
    "root = os.path.normpath(root)\n",
    "\n",
    "if root not in sys.path:\n",
    "    sys.path.insert(0, root)"
   ]
  },
  {
   "cell_type": "code",
   "execution_count": 2,
   "metadata": {},
   "outputs": [
    {
     "name": "stdout",
     "output_type": "stream",
     "text": [
      "Connected to DB successfully.\n"
     ]
    }
   ],
   "source": [
    "# 에브리타임 게시글의 제목과 내용을 가져옴\n",
    "\n",
    "from src.utils import db\n",
    "\n",
    "connection = db.get_connection()\n",
    "cursor = connection.cursor()\n",
    "\n",
    "cursor.execute('SELECT * FROM `everytime_articles`')\n",
    "articles = cursor.fetchall()\n",
    "contents = [(article['title'] + ' ' + article['text']).replace('\\n', ' ') for article in articles]"
   ]
  },
  {
   "cell_type": "code",
   "execution_count": 3,
   "metadata": {},
   "outputs": [
    {
     "name": "stdout",
     "output_type": "stream",
     "text": [
      "7급 지역인재 추천 이거 아는 사람? 지역인재 추천으로 7급 추천 받을 수 있는 거던데 이거에 대해 아는 사람 있음? 전산개발 생각하고있는데\n",
      "전정대 3학년 되는 학생인데요 최근 앱개발에 관심이 생겨서 알아보고 있는데요, 혹시 앱개발과 반도체 관련 전공을 둘다 필요로 하는 부서?직업? 같은게 있나요? 너무 다른 분야라고 생각이 돼서요..\n",
      "혹시 컴활에 대해 물어보고 싶은분 물어보세요! 앙!\n",
      "공설입 지원금 언제들어오냐...\n",
      "나 너무 배고파 치킨 추천좀!!! 메뉴 이름도 알려줘!!!\n",
      "50대 여성분한테 작별선물 뭐가 좋을까 같이 일하시는분한테 드리려고 하는데 되게 잘챙겨주시고 고마웠어서 뭐라도 하나 챙겨드리려고하는데 뭐가좋을까요? 부채같은거 생각했는데.. 괜찮은거 있을까요\n",
      "자취생의 간단 삼겹살 정식 소소한 행복\n",
      "문과는 올바른 가치관을 가져야 하고 이 사회를 공부해서 잘 운영해야하고 이과는 이 세상을 발전시켜야하는데 세상 꼬라지나 우리나라 꼬라지 보면 문과들은 공부 안하는게 맞다 기술은 발전하는데 인간들이 발전 못하네\n",
      "채널돌리다 복면가왕봤는데 대놓고 소찬휘네 ㄲㅋㅋ\n",
      "사람머리뼈 ㄷㄷ\n",
      "공머생 말좀 묻겠수다 노트북 다들 뭐쓰쇼?\n",
      "사는게 고민인 너네완 다르게 사는게 고민 하~!\n",
      "학교근처에서 밥 배달시켜먹을라는데 추천좀! 배민이나 요기요에서 시킬라하는데 추천좀! 돈은 크게 상관없음\n",
      "중화사상 옛날 중화사상 = 황제국, 상전 대접을 받는 대신 경제적, 군사적 지원을 조.공국들에게 넉넉하게 베푸는 암묵적 거래. 지금 \"짱깨\"의 중화사상 = 몽골 야만족 원나라식으로 힘으로 누르고 돈과 자원을 뺏어옴. 나중에 짱깨가 흔들리면 뒷통수 박살나게 됨. 그리고 중화사상은 유교적인것 이기도 해서 \"중국은 최고다 - 조.공국들에게 군자로써 모범을 보여야한다\"가 패시브로 있었는데 공산당이 집권하고 \"중공\" \"짱깨\"가 되면서 \"유교\"와 \"군자로써 모범을 보여야 한다\"가 빠지고 \"중국은 최고다\"만 남음. 오히려 경제적, 군사적 지원을 나눠주고 상전 대접을 받는 외교는 미국이 하는 방식이 됨.\n",
      "개성있는 자기소개서는 대체 뭘 어떻게 소개해야 할까요...\n",
      "가난뱅이에다가 한부모가정\n",
      "성적증명서 학교홈페이지 어디서 뽑을수 있나요??퓨ㅠㅠ알려주세여 ㅠㅠ\n",
      "대응교비 이번에 안 들어오냐 ㅠ 3분위까지만 59만원인가 나오는거 실화누ㅠ 돈 기다리고 있었는데 으휴규으휴규\n",
      "선배님덜 신만중 교수님 민소법 어떤가요? 수업 스타일이 어떠신지 궁금해요 얼핏 듣기론 김민동 교수님과 비슷한 느낌이라던데.. 그리고 혹시 족보 존재하나요?? 존재하지 않았으면 좋겠어서요..\n",
      "소융대 월반복학 2-1로 월반복학 예정인데 1-2 안 듣고 따라가기 힘듭니까? (독학으로 커버하긴 할 예정)\n"
     ]
    }
   ],
   "source": [
    "# 가져온 데이터의 일부를 출력\n",
    "\n",
    "for content in contents[:20]:\n",
    "    print(content)"
   ]
  },
  {
   "cell_type": "code",
   "execution_count": 4,
   "metadata": {},
   "outputs": [],
   "source": [
    "# 불용어 정보를 가져옴\n",
    "with open('../../stopwords.txt', 'r', encoding='utf-8') as file:\n",
    "    stopwords = set(line.strip() for line in file.readlines())"
   ]
  },
  {
   "cell_type": "code",
   "execution_count": 5,
   "metadata": {},
   "outputs": [
    {
     "name": "stderr",
     "output_type": "stream",
     "text": [
      " 56%|█████▌    | 167738/298853 [18:59<115:30:18,  3.17s/it]"
     ]
    },
    {
     "name": "stdout",
     "output_type": "stream",
     "text": [
      "java.lang.OutOfMemoryError: GC overhead limit exceeded\n"
     ]
    },
    {
     "name": "stderr",
     "output_type": "stream",
     "text": [
      " 70%|███████   | 209246/298853 [30:43<79:10:00,  3.18s/it] "
     ]
    },
    {
     "name": "stdout",
     "output_type": "stream",
     "text": [
      "java.lang.OutOfMemoryError: GC overhead limit exceeded\n"
     ]
    },
    {
     "name": "stderr",
     "output_type": "stream",
     "text": [
      "100%|██████████| 298853/298853 [33:08<00:00, 150.31it/s]  \n"
     ]
    },
    {
     "name": "stdout",
     "output_type": "stream",
     "text": [
      "('교수', 30203)\n",
      "('사람', 28211)\n",
      "('학교', 24025)\n",
      "('수업', 19490)\n",
      "('시험', 18588)\n",
      "('학기', 18495)\n",
      "('학년', 15737)\n",
      "('학점', 15229)\n",
      "('생각', 14216)\n",
      "('강의', 14166)\n",
      "('오늘', 14000)\n",
      "('진짜', 13558)\n",
      "('공부', 13329)\n",
      "('과제', 12409)\n",
      "('지금', 11456)\n",
      "('그냥', 10872)\n",
      "('신청', 10315)\n",
      "('과목', 9949)\n",
      "('가요', 9876)\n",
      "('광운대', 9671)\n",
      "('전공', 9539)\n",
      "('성적', 9021)\n",
      "('정도', 8973)\n",
      "('문제', 8333)\n",
      "('추천', 8324)\n",
      "('대학', 7694)\n",
      "('질문', 7607)\n",
      "('친구', 6754)\n",
      "('건가', 6562)\n",
      "('수강신청', 6486)\n",
      "('대면', 5950)\n",
      "('내일', 5901)\n",
      "('기간', 5898)\n",
      "('이해', 5875)\n",
      "('학생', 5811)\n",
      "('교양', 5800)\n",
      "('졸업', 5673)\n",
      "('제발', 5582)\n",
      "('쪽지', 5522)\n",
      "('장학금', 5196)\n",
      "('계절', 5126)\n",
      "('도서관', 4987)\n",
      "('신분', 4951)\n",
      "('재수강', 4933)\n",
      "('남자', 4763)\n",
      "('보고', 4715)\n",
      "('영어', 4715)\n",
      "('정정', 4685)\n",
      "('취업', 4591)\n",
      "('수강', 4500)\n",
      "('휴학', 4486)\n",
      "('하나요', 4425)\n",
      "('이제', 4359)\n",
      "('실험', 4314)\n",
      "('다시', 4280)\n",
      "('관련', 4273)\n",
      "('때문', 4231)\n",
      "('알바', 4158)\n",
      "('한번', 4102)\n",
      "('여자', 4096)\n",
      "('준비', 4001)\n",
      "('군대', 3991)\n",
      "('인강', 3915)\n",
      "('에타', 3866)\n",
      "('수학', 3850)\n",
      "('공지', 3824)\n",
      "('계속', 3751)\n",
      "('시작', 3692)\n",
      "('아시', 3651)\n",
      "('확인', 3628)\n",
      "('보통', 3620)\n",
      "('동아리', 3605)\n",
      "('제출', 3589)\n",
      "('점수', 3544)\n",
      "('기숙사', 3537)\n",
      "('원래', 3454)\n",
      "('학과', 3436)\n",
      "('처음', 3422)\n",
      "('요즘', 3407)\n",
      "('근처', 3309)\n",
      "('중간', 3262)\n",
      "('메일', 3226)\n",
      "('내용', 3181)\n",
      "('연락', 3175)\n",
      "('복학', 3134)\n",
      "('코로나', 3112)\n",
      "('생활', 3082)\n",
      "('토익', 3069)\n",
      "('방법', 3032)\n",
      "('사회', 3021)\n",
      "('선배', 3017)\n",
      "('전정', 3010)\n",
      "('고민', 3006)\n",
      "('비대', 2934)\n",
      "('가능', 2914)\n",
      "('현재', 2899)\n",
      "('지원', 2851)\n",
      "('사진', 2850)\n",
      "('이유', 2801)\n",
      "('등록금', 2798)\n"
     ]
    }
   ],
   "source": [
    "from konlpy.tag import Okt\n",
    "from tqdm import tqdm\n",
    "\n",
    "okt = Okt()\n",
    "noun_frequency = {}\n",
    "\n",
    "for content in tqdm(contents):\n",
    "    nouns = []\n",
    "\n",
    "    try:\n",
    "        nouns = okt.nouns(content)\n",
    "    except UnicodeDecodeError:\n",
    "        continue\n",
    "    except Exception as e:\n",
    "        print(e)\n",
    "        continue\n",
    "\n",
    "    for noun in nouns:\n",
    "        if len(noun) > 1 and noun not in stopwords:\n",
    "            if noun in noun_frequency:\n",
    "                noun_frequency[noun] += 1\n",
    "            else:\n",
    "                noun_frequency[noun] = 1\n",
    "\n",
    "top_nouns = sorted(noun_frequency.items(), key=lambda x: x[1], reverse=True)[:100]\n",
    "\n",
    "for noun in top_nouns:\n",
    "    print(noun)"
   ]
  }
 ],
 "metadata": {
  "kernelspec": {
   "display_name": "Python 3",
   "language": "python",
   "name": "python3"
  },
  "language_info": {
   "codemirror_mode": {
    "name": "ipython",
    "version": 3
   },
   "file_extension": ".py",
   "mimetype": "text/x-python",
   "name": "python",
   "nbconvert_exporter": "python",
   "pygments_lexer": "ipython3",
   "version": "3.10.12"
  }
 },
 "nbformat": 4,
 "nbformat_minor": 2
}

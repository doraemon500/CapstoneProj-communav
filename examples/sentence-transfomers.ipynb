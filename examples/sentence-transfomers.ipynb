{
 "cells": [
  {
   "cell_type": "code",
   "execution_count": 1,
   "metadata": {},
   "outputs": [],
   "source": [
    "# 다른 경로에 있는 모듈을 가져오기 위해 절대 경로 추가\n",
    "\n",
    "import os\n",
    "import sys\n",
    "\n",
    "root = os.path.join(os.path.abspath(os.getcwd()), '..')\n",
    "root = os.path.normpath(root)\n",
    "\n",
    "if root not in sys.path:\n",
    "    sys.path.insert(0, root)"
   ]
  },
  {
   "cell_type": "code",
   "execution_count": 2,
   "metadata": {},
   "outputs": [
    {
     "name": "stdout",
     "output_type": "stream",
     "text": [
      "Connected to DB successfully.\n"
     ]
    }
   ],
   "source": [
    "# 에브리타임 게시글의 제목과 내용을 가져옴\n",
    "\n",
    "from src.utils import db\n",
    "\n",
    "connection = db.get_connection()\n",
    "cursor = connection.cursor()\n",
    "\n",
    "cursor.execute('SELECT * FROM `everytime_articles`')\n",
    "articles = cursor.fetchall()\n",
    "contents = [(article['title'] + ' ' + article['text']).replace('\\n', ' ') for article in articles]"
   ]
  },
  {
   "cell_type": "code",
   "execution_count": 3,
   "metadata": {},
   "outputs": [
    {
     "name": "stdout",
     "output_type": "stream",
     "text": [
      "7급 지역인재 추천 이거 아는 사람? 지역인재 추천으로 7급 추천 받을 수 있는 거던데 이거에 대해 아는 사람 있음? 전산개발 생각하고있는데\n",
      "전정대 3학년 되는 학생인데요 최근 앱개발에 관심이 생겨서 알아보고 있는데요, 혹시 앱개발과 반도체 관련 전공을 둘다 필요로 하는 부서?직업? 같은게 있나요? 너무 다른 분야라고 생각이 돼서요..\n",
      "혹시 컴활에 대해 물어보고 싶은분 물어보세요! 앙!\n",
      "공설입 지원금 언제들어오냐...\n",
      "나 너무 배고파 치킨 추천좀!!! 메뉴 이름도 알려줘!!!\n",
      "50대 여성분한테 작별선물 뭐가 좋을까 같이 일하시는분한테 드리려고 하는데 되게 잘챙겨주시고 고마웠어서 뭐라도 하나 챙겨드리려고하는데 뭐가좋을까요? 부채같은거 생각했는데.. 괜찮은거 있을까요\n",
      "자취생의 간단 삼겹살 정식 소소한 행복\n",
      "문과는 올바른 가치관을 가져야 하고 이 사회를 공부해서 잘 운영해야하고 이과는 이 세상을 발전시켜야하는데 세상 꼬라지나 우리나라 꼬라지 보면 문과들은 공부 안하는게 맞다 기술은 발전하는데 인간들이 발전 못하네\n",
      "채널돌리다 복면가왕봤는데 대놓고 소찬휘네 ㄲㅋㅋ\n",
      "사람머리뼈 ㄷㄷ\n",
      "공머생 말좀 묻겠수다 노트북 다들 뭐쓰쇼?\n",
      "사는게 고민인 너네완 다르게 사는게 고민 하~!\n",
      "학교근처에서 밥 배달시켜먹을라는데 추천좀! 배민이나 요기요에서 시킬라하는데 추천좀! 돈은 크게 상관없음\n",
      "중화사상 옛날 중화사상 = 황제국, 상전 대접을 받는 대신 경제적, 군사적 지원을 조.공국들에게 넉넉하게 베푸는 암묵적 거래. 지금 \"짱깨\"의 중화사상 = 몽골 야만족 원나라식으로 힘으로 누르고 돈과 자원을 뺏어옴. 나중에 짱깨가 흔들리면 뒷통수 박살나게 됨. 그리고 중화사상은 유교적인것 이기도 해서 \"중국은 최고다 - 조.공국들에게 군자로써 모범을 보여야한다\"가 패시브로 있었는데 공산당이 집권하고 \"중공\" \"짱깨\"가 되면서 \"유교\"와 \"군자로써 모범을 보여야 한다\"가 빠지고 \"중국은 최고다\"만 남음. 오히려 경제적, 군사적 지원을 나눠주고 상전 대접을 받는 외교는 미국이 하는 방식이 됨.\n",
      "개성있는 자기소개서는 대체 뭘 어떻게 소개해야 할까요...\n",
      "가난뱅이에다가 한부모가정\n",
      "성적증명서 학교홈페이지 어디서 뽑을수 있나요??퓨ㅠㅠ알려주세여 ㅠㅠ\n",
      "대응교비 이번에 안 들어오냐 ㅠ 3분위까지만 59만원인가 나오는거 실화누ㅠ 돈 기다리고 있었는데 으휴규으휴규\n",
      "선배님덜 신만중 교수님 민소법 어떤가요? 수업 스타일이 어떠신지 궁금해요 얼핏 듣기론 김민동 교수님과 비슷한 느낌이라던데.. 그리고 혹시 족보 존재하나요?? 존재하지 않았으면 좋겠어서요..\n",
      "소융대 월반복학 2-1로 월반복학 예정인데 1-2 안 듣고 따라가기 힘듭니까? (독학으로 커버하긴 할 예정)\n"
     ]
    }
   ],
   "source": [
    "# 가져온 데이터의 일부를 출력\n",
    "\n",
    "for content in contents[:20]:\n",
    "    print(content)"
   ]
  },
  {
   "cell_type": "code",
   "execution_count": 4,
   "metadata": {},
   "outputs": [
    {
     "name": "stderr",
     "output_type": "stream",
     "text": [
      "/home/vscode/.local/lib/python3.10/site-packages/tqdm/auto.py:21: TqdmWarning: IProgress not found. Please update jupyter and ipywidgets. See https://ipywidgets.readthedocs.io/en/stable/user_install.html\n",
      "  from .autonotebook import tqdm as notebook_tqdm\n",
      "modules.json: 100%|██████████| 229/229 [00:00<00:00, 1.06MB/s]\n",
      "config_sentence_transformers.json: 100%|██████████| 123/123 [00:00<00:00, 759kB/s]\n",
      "README.md: 100%|██████████| 4.86k/4.86k [00:00<00:00, 11.7MB/s]\n",
      "sentence_bert_config.json: 100%|██████████| 53.0/53.0 [00:00<00:00, 295kB/s]\n",
      "config.json: 100%|██████████| 744/744 [00:00<00:00, 4.99MB/s]\n",
      "pytorch_model.bin: 100%|██████████| 443M/443M [00:38<00:00, 11.5MB/s] \n",
      "tokenizer_config.json: 100%|██████████| 585/585 [00:00<00:00, 3.82MB/s]\n",
      "vocab.txt: 100%|██████████| 248k/248k [00:00<00:00, 1.25MB/s]\n",
      "tokenizer.json: 100%|██████████| 495k/495k [00:00<00:00, 2.49MB/s]\n",
      "special_tokens_map.json: 100%|██████████| 156/156 [00:00<00:00, 991kB/s]\n",
      "1_Pooling/config.json: 100%|██████████| 190/190 [00:00<00:00, 922kB/s]\n"
     ]
    }
   ],
   "source": [
    "# SentenceTransformers 라이브러리를 사용하여 문장 임베딩 생성\n",
    "\n",
    "import torch\n",
    "from sentence_transformers import SentenceTransformer, util\n",
    "\n",
    "model = SentenceTransformer('jhgan/ko-sroberta-multitask')\n",
    "embeddings = model.encode(contents, convert_to_tensor=True)"
   ]
  },
  {
   "cell_type": "code",
   "execution_count": 5,
   "metadata": {},
   "outputs": [
    {
     "name": "stdout",
     "output_type": "stream",
     "text": [
      "Query: ㅈㅎㅇ 교수님 올해ㅐ 수업 아예 안하시나요????\n",
      "(Score: 0.8468) ㄹㅅㅂ 교수님 대수2 오늘 수업 없지???\n",
      "(Score: 0.8429) 공수2 ㅇㅁ 교수님 수업 오늘 없어?? ㅈㄱㄴ\n",
      "(Score: 0.8428) 대수1 ㄱㅇㄱ 교수님 오늘 대수 ㄱㅇㄱ 교수님 수업 없나요????????\n",
      "(Score: 0.8415) ㅇㅌㅎ 교수님 공설입 수업 없음? 9시 수업인데 왜 줌 안키셔\n",
      "(Score: 0.8400) 디공 ㅈㅎㅇ 교수님 출석 원래 안하심??\n",
      "\n",
      "Query: 보건증 일반 병원에서 받아본사람 병원가면 빨리 나옴?\n",
      "(Score: 0.7368) 광운대근처보건증 떼주는 병원있나요?  알바땜에필요한데 발급받는데 얼마나 걸릴까요 ㅠ\n",
      "(Score: 0.7204) 요즘 보건증 발급받으려면 어디가야해? 걍 가던 보건소 가도 되나?\n",
      "(Score: 0.7078) pcr 병원에서 함?? 네이버에 pcr 치니까 주변 병원나오네… 신속항원만 해주는거 아녔음?\n",
      "(Score: 0.7061) 한의원 진료 출석인증 한의원 진료도 진단서주남..? 그걸로 출결가능???\n",
      "(Score: 0.6998) 보건소 요즘 보건증 만들러 보건소 갈 수 있어요?\n",
      "\n",
      "Query: 선배 졸업식 하갱 복장 어떻게 입고가야하지 남잔데 그냥 마실 나가듯이 가는것도 좀 그렇고...\n",
      "(Score: 0.6548) 졸업식날 보통 옷 뭐입나요? 남자는 정장 보통 입나요?\n",
      "(Score: 0.6465) 장례식 복장 남자 대학생인데 장례식 복장 양복같은거 없으면 어떻게 입고 가야할까요?? 예절 같은거도 알려주시면 감사하겠습니다.\n",
      "(Score: 0.6463) 8월 졸업은 졸업식 무슨옷 입내 정장은 존나 더울것같은데\n",
      "(Score: 0.6449) 여자 면접 복장 처음 가는거라 어느정도로 차려입어야하는지 모르겠어서..ㅠㅠ 1번사진은 너무 어른어른해서 2처럼 가고싶은데 바지인건 뭐 아무상관 없겠지??\n",
      "(Score: 0.6370) 친구졸업식 뭐입고감?\n",
      "\n",
      "Query: 전자과 3학년 책 구매합니다. 확불, 전회실책 구매합니다.\n",
      "(Score: 0.7904) 전자과 3학년전공 책 파실분\n",
      "(Score: 0.7632) 전자과 3학년 책삽니다 전자과 3학년 책들삽니다. Microwave engineering 4th Ed. // David M. Pozar // Wiley  Microelectronic Circuits 6th // Sedra/Smith // Oxford University Press  Communication Systems, 5th Edition // Haykin & Moher Wiley // 2009년출판 웬만하면 제본말고 상태좋은 책삽니다. 쪽지주세요\n",
      "(Score: 0.7567) 전자공학과 전공 교재 판매합니다. 3학년 디지털집적회로설계 전자회로1,2 디지털공학 확률및불규칙신호론 전자회로실험 마이크로파공학 2학년 신호및시스템 회로이론1,2 전자기학1,2 공학수학 원서, 번역서, 제본있으니 원하시는 과목있으면 쪽지 주세요. 책 상태는 거의 양호하고 쪽지 주시면 사진 보내드리고 금액 알려드리겠습니다.\n",
      "(Score: 0.7513) 전자과 2~3학년 전공 책 팝니다 쪽지주세요\n",
      "(Score: 0.7462) 전자과 3학년 중에 책 처분 전자과 3학년 중에 2학년 책 중고가격으로 처분하실 분 있나요??  혹시 있으면 쪽지주세요!!\n",
      "\n",
      "Query: 졸업후에 필요한 자격증 본인 지금 컴활하나인데 이대로 괜찮음?\n",
      "(Score: 0.7684) 한달해서 딸수있는 자격증 뭐가있나요 이제 2학년되는데 (이과) 컴활 1급 1달해서 되나요\n",
      "(Score: 0.7596) 학기 중에 자격증 이제 2학년인데 학기 중에 자격증 하나 따고 싶은데 버거울까요? 참고로 컴활입니다!\n",
      "(Score: 0.7562) 컴소 3학년인데 미리 따놓으면 좋은 자격증있을까요?\n",
      "(Score: 0.7552) 컴소과.. 꼭 필요한 자격증이나 따두면 좋은 자격증 있나요??\n",
      "(Score: 0.7449) 학기중에 자격증따는거가능할까요 컴활1급...컴맹에 컴퓨터아무것도모르는인간입니다\n",
      "\n"
     ]
    }
   ],
   "source": [
    "# 쿼리의 문장과 가장 유사한 문장 상위 5개를 찾아 출력\n",
    "\n",
    "import numpy as np\n",
    "\n",
    "queries = [\n",
    "    'ㅈㅎㅇ 교수님 올해ㅐ 수업 아예 안하시나요????',\n",
    "    '보건증 일반 병원에서 받아본사람 병원가면 빨리 나옴?',\n",
    "    '선배 졸업식 하갱 복장 어떻게 입고가야하지 남잔데 그냥 마실 나가듯이 가는것도 좀 그렇고...',\n",
    "    '전자과 3학년 책 구매합니다. 확불, 전회실책 구매합니다.',\n",
    "    '졸업후에 필요한 자격증 본인 지금 컴활하나인데 이대로 괜찮음?'\n",
    "]\n",
    "\n",
    "top_k = 5\n",
    "\n",
    "for query in queries:\n",
    "    query_embeddings = model.encode(query, convert_to_tensor=True)\n",
    "    cos_scores = util.pytorch_cos_sim(query_embeddings, embeddings)[0]\n",
    "    cos_scores = cos_scores.cpu()\n",
    "\n",
    "    top_results = np.argpartition(-cos_scores, range(top_k))[0:top_k]\n",
    "\n",
    "    print(\"Query:\", query)\n",
    "\n",
    "    for idx in top_results:\n",
    "        print(\"(Score: %.4f)\" % (cos_scores[idx]), contents[idx].strip())\n",
    "\n",
    "    print()"
   ]
  }
 ],
 "metadata": {
  "kernelspec": {
   "display_name": ".venv",
   "language": "python",
   "name": "python3"
  },
  "language_info": {
   "codemirror_mode": {
    "name": "ipython",
    "version": 3
   },
   "file_extension": ".py",
   "mimetype": "text/x-python",
   "name": "python",
   "nbconvert_exporter": "python",
   "pygments_lexer": "ipython3",
   "version": "3.10.12"
  }
 },
 "nbformat": 4,
 "nbformat_minor": 2
}
